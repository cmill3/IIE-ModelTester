{
 "cells": [
  {
   "cell_type": "code",
   "execution_count": 198,
   "metadata": {},
   "outputs": [],
   "source": [
    "import boto3\n",
    "import numpy as np\n",
    "import pandas as pd\n",
    "import matplotlib.pyplot as plt\n",
    "import seaborn as sns\n",
    "from datetime import datetime, timedelta\n",
    "from sklearn.metrics import confusion_matrix, ConfusionMatrixDisplay\n",
    "from sklearn.metrics import accuracy_score\n",
    "from sklearn.model_selection import GridSearchCV\n",
    "import xgboost as xgb\n",
    "import math\n",
    "import random\n",
    "from decimal import Decimal, getcontext\n",
    "import pandas_market_calendars as mcal\n",
    "import ast\n",
    "from sklearn.preprocessing import StandardScaler\n",
    "import pytz"
   ]
  },
  {
   "cell_type": "code",
   "execution_count": 199,
   "metadata": {},
   "outputs": [],
   "source": [
    "s3 = boto3.client('s3')\n",
    "\n",
    "training_bucket = \"icarus-research-data\"\n",
    "training_prefix = 'training_datasets/expanded_1d_datasets/'\n",
    "\n",
    "# Create a calendar\n",
    "nyse = mcal.get_calendar('NYSE')\n",
    "holidays = nyse.regular_holidays\n",
    "market_holidays = holidays.holidays()\n",
    "\n",
    "weekly_expiries = ['SPY', 'IVV', 'QQQ', 'GLD', 'IWM', 'EFA', 'XLK', 'XLV', 'TLT', 'LQD', 'XLE', 'TQQQ', 'SQQQ', 'SPXS', 'SPXL', 'SOXL', 'SOXS', 'MMM', 'ABT', 'ABBV', 'ACN', 'ATVI', 'ADM', 'ADBE', 'ADP', \n",
    "                   'AAP', 'AFL', 'ALB', 'ALGN', 'GOOGL', 'GOOG', 'MO', 'AMZN', 'AMD', 'AAL', 'AXP', 'AIG', 'ABC', 'AMGN', 'ADI', 'APA', 'AAPL', 'AMAT', 'ANET', 'T', 'ADSK', 'BAC', 'BBWI', 'BAX', 'BBY', 'BIIB', \n",
    "                   'BLK', 'BA', 'BKNG', 'BMY', 'AVGO', 'CZR', 'CPB', 'COF', 'CAH', 'KMX', 'CCL', 'CAT', 'CBOE', 'CNC', 'CF', 'SCHW', 'CHTR', 'CVX', 'CMG', 'CI', 'CSCO', 'C', 'CLX', 'CME', 'KO', 'CMCSA', 'CMA', 'CAG', \n",
    "                   'COP', 'STZ', 'GLW', 'COST', 'CTRA', 'CSX', 'CVS', 'DHI', 'DHR', 'DE', 'DAL', 'DVN', 'DLR', 'DFS', 'DISH', 'DIS', 'DG', 'DLTR', 'DPZ', 'DOW', 'DD', 'EBAY', 'EA', 'ELV', 'LLY', 'EMR', 'ENPH', 'EOG', 'EQT', \n",
    "                   'ETSY', 'EXPE', 'XOM', 'FDX', 'FITB', 'FSLR', 'FI', 'F', 'FTNT', 'FOXA', 'FCX', 'GEHC', 'GNRC', 'GD', 'GE', 'GM', 'GILD', 'GS', 'HAL', 'HSY', 'HES', 'HD', 'HON', 'HRL', 'HPQ', 'HUM', 'HBAN', 'IBM', 'ILMN', \n",
    "                   'INTC', 'IP', 'INTU', 'ISRG', 'JNJ', 'JPM', 'JNPR', 'KEY', 'KMB', 'KMI', 'KLAC', 'KHC', 'KR', 'LRCX', 'LVS', 'LEN', 'LMT', 'LOW', 'MRO', 'MPC', 'MAR', 'MA', 'MTCH', 'MCD', 'MCK', 'MDT', 'MRK', 'META', 'MET', \n",
    "                   'MGM', 'MU', 'MSFT', 'MRNA', 'MDLZ', 'MS', 'MOS', 'NTAP', 'NFLX', 'NEM', 'NKE', 'NSC', 'NOC', 'NCLH', 'NUE', 'NVDA', 'NXPI', 'OXY', 'ON', 'ORCL', 'PARA', 'PYPL', 'PEP', 'PFE', 'PCG', 'PM', 'PSX', 'PXD', 'PNC', \n",
    "                   'PPG', 'PG', 'PHM', 'QCOM', 'RTX', 'REGN', 'ROST', 'RCL', 'SPGI', 'CRM', 'SLB', 'STX', 'NOW', 'SWKS', 'SEDG', 'SO', 'LUV', 'SBUX', 'TMUS', 'TROW', 'TTWO', 'TPR', 'TGT', 'TSLA', 'TXN', 'TMO', 'TJX', 'TSCO', 'TFC', \n",
    "                   'TSN', 'USB', 'ULTA', 'UNP', 'UAL', 'UPS', 'URI', 'UNH', 'VLO', 'VZ', 'VRTX', 'VFC', 'V', 'WBA', 'WMT', 'WBD', 'WM', 'WFC', 'WDC', 'WHR', 'WMB', 'WYNN', 'ZION']\n",
    "\n",
    "leveraged_etfs = [\"TQQQ\",\"SQQQ\",\"SPXS\",\"SPXL\",\"SOXL\",\"SOXS\"]\n",
    "high_vol = ['COIN','BILI','UPST','CVNA',\"TQQQ\",\"SQQQ\",\"SPXS\",\"SPXL\",\"SOXL\",\"SOXS\",\"NIO\",\"BABA\",\"ROKU\",\"RBLX\",\"SE\",\"SNAP\",\"LCID\",'RIVN',\"BIDU\",\"FUTU\",\"TSLA\",\"JD\",\"HOOD\",\"CHWY\"]\n",
    "expensive = [\"CMG\",\"NFLX\",\"AVGO\",\"BKNG\",\"ABNB\"]\n",
    "indexes = ['QQQ','IWM','TLT','VXX','SPY']\n",
    "\n"
   ]
  },
  {
   "cell_type": "code",
   "execution_count": 200,
   "metadata": {},
   "outputs": [],
   "source": [
    "def create_training_data_local(key_list, prefix, bucket_name, alert_type, start_date, end_date):\n",
    "    df_list = []\n",
    "    hours = [10,11,12,13,14,15]\n",
    "    start = start_date.split(' ')[0]\n",
    "    end = end_date.split(' ')[0]\n",
    "    for key in key_list:\n",
    "        for hour in hours:\n",
    "            try:\n",
    "                data = s3.get_object(Bucket=bucket_name, Key=f'{prefix}{key}/{alert_type}/{hour}.csv')\n",
    "                df = pd.read_csv(data.get(\"Body\")) \n",
    "                # df = df.loc[~df['symbol'].isin(expensive)]\n",
    "                # df = df.loc[~df['symbol'].isin(high_vol)]\n",
    "                df = df.tail(15)\n",
    "                df_list.append(df)\n",
    "                # df['hour'] = hour\n",
    "            except:\n",
    "                continue\n",
    "\n",
    "    data = pd.concat(df_list)\n",
    "    data.reset_index(drop=True, inplace=True)\n",
    "    data.replace([np.inf, -np.inf], 0, inplace=True)\n",
    "    data.to_csv(f'/Users/charlesmiller/Documents/model_tester_data/CDLOSE/{start}_{end}_trainTL15all.csv', index=False)\n",
    "    return data\n",
    "\n",
    "def create_validation_data_local(key_list, prefix, bucket_name, alert_type, start_date, end_date):\n",
    "    df_list = []\n",
    "    hours = [10,11,12,13,14,15]\n",
    "    start = start_date.split(' ')[0]\n",
    "    end = end_date.split(' ')[0]\n",
    "    for key in key_list:\n",
    "        for hour in hours:\n",
    "            try:\n",
    "                data = s3.get_object(Bucket=bucket_name, Key=f'{prefix}{key}/{alert_type}/{hour}.csv')\n",
    "                df = pd.read_csv(data.get(\"Body\")) \n",
    "                # df = df.loc[~df['symbol'].isin(expensive)]\n",
    "                # df = df.loc[~df['symbol'].isin(high_vol)]\n",
    "                df = df.tail(15)\n",
    "                df_list.append(df)\n",
    "                # df['hour'] = hour\n",
    "            except:\n",
    "                continue\n",
    "\n",
    "    data = pd.concat(df_list)\n",
    "    data.reset_index(drop=True, inplace=True)\n",
    "    data.replace([np.inf, -np.inf], 0, inplace=True)\n",
    "    data.to_csv(f'/Users/charlesmiller/Documents/model_tester_data/CDLOSE/{start}_{end}_validationTR15all.csv', index=False)\n",
    "    return data\n",
    "\n",
    "def pull_training_data_local(end_date,start_date):\n",
    "    data = pd.read_csv(f'/Users/charlesmiller/Documents/model_tester_data/CDLOSE/2018-01-01_2023-12-23_trainTL15.csv')\n",
    "    data['dt'] = pd.to_datetime(data['date'])\n",
    "    data = data.loc[data['dt'] <= end_date]\n",
    "    # data = data.loc[~data['symbol'].isin(high_vol)]\n",
    "    # data = data.loc[~data['symbol'].isin(expensive)]\n",
    "    # data = data.loc[~data['symbol'].isin(leveraged_etfs)]\n",
    "    data['one_max_vol'] = (data['one_max']/data['return_vol_10D']).round(3)\n",
    "    data['three_max_vol'] = (data['three_max']/data['return_vol_10D']).round(3)\n",
    "    data['one_min_vol'] = (data['one_min']/data['return_vol_10D']).round(3)\n",
    "    data['three_min_vol'] = (data['three_min']/data['return_vol_10D']).round(3)    \n",
    "    data.replace([np.inf, -np.inf], 0, inplace=True)\n",
    "\n",
    "    return data\n",
    "\n",
    "\n",
    "def pull_validation_data_local(end_date,start_date):\n",
    "    data = pd.read_csv(f'/Users/charlesmiller/Documents/model_tester_data/CDLOSE/2018-01-01_2023-12-23_validationTR15.csv')\n",
    "    data['dt'] = pd.to_datetime(data['date'])\n",
    "    # data = data.loc[~data['symbol'].isin(high_vol)]\n",
    "    # data = data.loc[~data['symbol'].isin(expensive)]\n",
    "    # data = data.loc[~data['symbol'].isin(leveraged_etfs)]\n",
    "    data = data.loc[data['dt'] <= end_date]\n",
    "    data = data.loc[data['dt'] >= start_date]\n",
    "    data['one_max_vol'] = (data['one_max']/data['return_vol_10D']).round(3)\n",
    "    data['three_max_vol'] = (data['three_max']/data['return_vol_10D']).round(3)\n",
    "    data['one_min_vol'] = (data['one_min']/data['return_vol_10D']).round(3)\n",
    "    data['three_min_vol'] = (data['three_min']/data['return_vol_10D']).round(3)\n",
    "    data.replace([np.inf, -np.inf], 0, inplace=True)\n",
    "\n",
    "    return data"
   ]
  },
  {
   "cell_type": "code",
   "execution_count": 201,
   "metadata": {},
   "outputs": [],
   "source": [
    "def build_date_list(start_date, end_date):\n",
    "    print(start_date, end_date)\n",
    "    date_diff = end_date - start_date\n",
    "    numdays = date_diff.days \n",
    "    dateList = []\n",
    "    for x in range (0, numdays):\n",
    "        temp_date = start_date + timedelta(days = x)\n",
    "        if temp_date.weekday() > 4:\n",
    "            continue\n",
    "        else:\n",
    "            dateList.append(temp_date)\n",
    "    return dateList\n",
    "\n",
    "def build_query_keys_hist():\n",
    "    start_date = datetime(2021,1,5)\n",
    "    date_diff = datetime(2022,7,29) - start_date\n",
    "    numdays = date_diff.days \n",
    "    key_list = []\n",
    "    for x in range (0, numdays):\n",
    "        temp_date = start_date + timedelta(days = x)\n",
    "        if temp_date.weekday() > 4:\n",
    "            continue\n",
    "        else:\n",
    "            date_str = temp_date.strftime('%Y-%m-%d')\n",
    "            if date_str in market_holidays:\n",
    "                continue\n",
    "            else:\n",
    "                date_str = date_str.replace(\"-\",\"/\")\n",
    "                key_list.append(date_str)\n",
    "        \n",
    "    return key_list\n",
    "    \n",
    "def build_query_keys(dates):\n",
    "    key_list = []\n",
    "    for date in dates:\n",
    "        date_str = date.strftime('%Y-%m-%d')\n",
    "        if date_str in market_holidays:\n",
    "            continue\n",
    "        else:\n",
    "            year, month, day = date_str.split('-')\n",
    "            temp = f'{year}/{month}/{day}'\n",
    "            key_list.append(temp)\n",
    "\n",
    "    return key_list\n",
    "\n",
    "def build_query_keys_validation(end_date):\n",
    "    validation_end_date = end_date + timedelta(days=7)\n",
    "    dates = build_date_list(end_date, validation_end_date)\n",
    "    key_list = []\n",
    "    for date in dates:\n",
    "        date_str = date.strftime('%Y-%m-%d')\n",
    "        if date_str in market_holidays:\n",
    "            continue\n",
    "        else:\n",
    "            year, month, day = date_str.split('-')\n",
    "            temp = f'{year}/{month}/{day}'\n",
    "            key_list.append(temp)\n",
    "\n",
    "    return key_list\n",
    "\n",
    "def build_validation_dates_local(deployment_date):\n",
    "    end_date = deployment_date + timedelta(days=5)\n",
    "    return end_date"
   ]
  },
  {
   "cell_type": "code",
   "execution_count": 202,
   "metadata": {},
   "outputs": [],
   "source": [
    "def model_results_analyzer(predictions, y_validate, target_value):\n",
    "    result_list = []\n",
    "    counter = 0\n",
    "    predictions_series = pd.Series(predictions,name='prediction_values')\n",
    "    for x in predictions:\n",
    "        if x == 1:\n",
    "            if y_validate.iloc[counter] == 1:\n",
    "                classification_result = 0\n",
    "            else:\n",
    "                classification_result = 1\n",
    "        elif x == 0:\n",
    "            if y_validate.iloc[counter] == 0:\n",
    "                classification_result = 2\n",
    "            else: \n",
    "                classification_result = 3\n",
    "        result_list.append(classification_result)\n",
    "        counter += 1\n",
    "    three_max = pd.Series(y_validate,name='three_max')\n",
    "    df = pd.concat([pd.Series(result_list,name='classifier_performance'),predictions_series,three_max],axis=1)\n",
    "    df.reset_index(drop=True, inplace=True)\n",
    "    # df = pd.DataFrame([result_list, y_validate], columns=['classifier_performance', 'prediction_score'])\n",
    "\n",
    "    tp = df.loc[df['classifier_performance'] == 0]\n",
    "    fp = df.loc[df['classifier_performance'] == 1]\n",
    "    tn = df.loc[df['classifier_performance'] == 2]\n",
    "    fn = df.loc[df['classifier_performance'] == 3]\n",
    "\n",
    "    # tp_scr = tp[\"prediction_score\"].mean()\n",
    "    # fp_scr = fp[\"prediction_score\"].mean()\n",
    "    # tn_scr = tn[\"prediction_score\"].mean()\n",
    "    # fn_scr = fn[\"prediction_score\"].mean()\n",
    "\n",
    "    return len(tp), \"0\", len(fp), \"0\", len(tn), \"0\", len(fn), \"0\""
   ]
  },
  {
   "cell_type": "code",
   "execution_count": 203,
   "metadata": {},
   "outputs": [],
   "source": [
    "def create_dynamo_record(tp, tp_scr, fp, fp_scr, tn, tn_scr, fn, fn_scr, model_name, deployment_date, dataset_name, hyperparam_str, feature_str, target_str, fi_list):    \n",
    "    ddb = boto3.resource('dynamodb','us-east-1')\n",
    "    table = ddb.Table('icarus-models-results-table')\n",
    "    eval_start = deployment_date\n",
    "    eval_end = deployment_date + timedelta(days=4)\n",
    "    try:\n",
    "        precision = (tp/fp)\n",
    "    except:\n",
    "        precision = 0\n",
    "\n",
    "    ## FILL IN\n",
    "    item={\n",
    "        'model_name': model_name,\n",
    "        'deployment_date': deployment_date.strftime(\"%Y-%m-%d\"),\n",
    "        'algorithm_type': 'xgboost',\n",
    "        'dataset': dataset_name,\n",
    "        'TP': tp,\n",
    "        'TPpct': Decimal(\"0\"),\n",
    "        'FP': fp,\n",
    "        'FPpct': Decimal(\"0\"),\n",
    "        'TN': tn,\n",
    "        'TNpct': Decimal(\"0\"),\n",
    "        'FN': fn,\n",
    "        'FNpct': Decimal(\"0\"),\n",
    "        'precision_ratio': Decimal(str(precision)),\n",
    "        'evaluation_timeperiod': f'{eval_start.strftime(\"%Y-%m-%d\")}_{eval_end.strftime(\"%Y-%m-%d\")}',\n",
    "        'live': False,\n",
    "        'hyperparameters': {hyperparam_str},\n",
    "        'features' : {feature_str},\n",
    "        'target' : target_str,\n",
    "        'feature_importances': fi_list\n",
    "\n",
    "    }\n",
    "\n",
    "    print(item)\n",
    "    response = table.put_item(\n",
    "            Item=item\n",
    "        )\n",
    "\n",
    "    return response"
   ]
  },
  {
   "cell_type": "code",
   "execution_count": 204,
   "metadata": {},
   "outputs": [],
   "source": [
    "def train_model(features, dataset, validation_dataset, target_label, target_value, hyperparams):\n",
    "    dataset.loc[:, 'label'] = (dataset[target_label] <  target_value).astype(int)\n",
    "    validation_dataset.loc[:, 'label'] = (validation_dataset[target_label] <  target_value).astype(int)\n",
    "\n",
    "    # dataset = dataset.round(3)\n",
    "    # validation_dataset = validation_dataset.round(3)\n",
    "\n",
    "    X = dataset[features].astype(float)\n",
    "    y = dataset['label']\n",
    "\n",
    "    X_validate = validation_dataset[features].astype(float)\n",
    "    y_validate = validation_dataset['label']\n",
    "\n",
    "\n",
    "    xgb_model = xgb.XGBClassifier(subsample=hyperparams['subsample'],num_round=hyperparams['num_round'],min_child_weight=hyperparams['min_child_weight'],max_depth=hyperparams['max_depth'],learning_rate=hyperparams['learning_rate'],gamma=hyperparams['gamma'],colsample_bytree=hyperparams['colsample_bytree'],verbosity=0,objective='binary:logistic',random_state=42)\n",
    "    xgb_model.fit(X,y)\n",
    "\n",
    "    print(y.value_counts())\n",
    "    predictions = xgb_model.predict(X_validate)\n",
    "    probabilities = xgb_model.predict_proba(X_validate)\n",
    "    tp, tp_scr, fp, fp_scr, tn, tn_scr, fn, fn_scr = model_results_analyzer(predictions, y_validate, target_value)\n",
    "\n",
    "    fi = xgb_model.feature_importances_\n",
    "    fi_list = []\n",
    "    counter = 0\n",
    "    for x in features:\n",
    "        fi_list.append({x:fi[counter]})\n",
    "        counter += 1\n",
    "    print(tp,fp,tn,fn)\n",
    "    return tp, tp_scr, fp, fp_scr, tn, tn_scr, fn, fn_scr,str(fi_list), predictions, probabilities\n",
    "\n",
    "\n",
    "def train_model_TSSim(features, dataset, validation_dataset, target_label, target_value, hyperparams):\n",
    "    dataset.loc[:, 'label'] = (dataset[target_label] < target_value).astype(int)\n",
    "    validation_dataset.loc[:, 'label'] = (validation_dataset[target_label] < target_value).astype(int)\n",
    "\n",
    "    # dataset = dataset.round(5)\n",
    "    # validation_dataset = validation_dataset.round(3)\n",
    "\n",
    "\n",
    "    X = dataset[features].astype(float)\n",
    "    y = dataset['label']\n",
    "\n",
    "    X_validate = validation_dataset[features].astype(float)\n",
    "    y_validate = validation_dataset['label']\n",
    "\n",
    "    \n",
    "\n",
    "    xgb_model = xgb.XGBClassifier(subsample=hyperparams['subsample'],num_round=hyperparams['num_round'],min_child_weight=hyperparams['min_child_weight'],max_depth=hyperparams['max_depth'],learning_rate=hyperparams['learning_rate'],gamma=hyperparams['gamma'],colsample_bytree=hyperparams['colsample_bytree'],verbosity=0,objective='binary:logistic',random_state=42)\n",
    "    xgb_model.fit(X,y)\n",
    "\n",
    "    predictions = xgb_model.predict(X_validate)\n",
    "    tp, tp_scr, fp, fp_scr, tn, tn_scr, fn, fn_scr = model_results_analyzer(predictions, y_validate, target_value)\n",
    "\n",
    "    return tp, tp_scr, fp, fp_scr, tn, tn_scr, fn, fn_scr,\"str(fi_list)\", predictions, \"probabilities\""
   ]
  },
  {
   "cell_type": "code",
   "execution_count": 205,
   "metadata": {},
   "outputs": [],
   "source": [
    "def model_runner_v2(model_name, dataset_name, title, features, target_label, target_percentile, start_date, end_date,deployment_date, feature_str, hyperparams_str, hyperparams,local_data, dataset_start_date):\n",
    "    validation_end_date = build_validation_dates_local(deployment_date)\n",
    "    validation_dataset = pull_validation_data_local(validation_end_date,deployment_date)\n",
    "    dataset = pull_training_data_local(end_date, dataset_start_date)\n",
    "    dataset.dropna(subset=[\"close_diff_deviation3\"],inplace=True)\n",
    "    validation_dataset.dropna(subset=[\"close_diff_deviation3\"],inplace=True)\n",
    "    target_value = dataset[target_label].quantile(target_percentile).round(3)\n",
    "    tp, tp_scr, fp, fp_scr, tn, tn_scr, fn, fn_scr, fi_list, predictions, probabilities = train_model(features, dataset, validation_dataset, target_label, target_value, hyperparams)\n",
    "    response = create_dynamo_record(tp, tp_scr, fp, fp_scr, tn, tn_scr, fn, fn_scr, model_name, deployment_date, dataset_name,hyperparams_str,feature_str, f\"{target_value}+{target_label}\", fi_list)\n",
    "    validation_dataset['probabilities'] = probabilities[:,1]\n",
    "    validation_dataset['predictions'] = predictions\n",
    "    validation_dataset['target_value'] = target_value\n",
    "    validation_dataset['target_pct'] = validation_dataset['target_value'] * validation_dataset['return_vol_10D']\n",
    "    validation_csv = validation_dataset.to_csv()\n",
    "    put_response = s3.put_object(Bucket=\"icarus-research-data\", Key=f\"backtesting_data/inv_alerts/{dataset_name}/{title}/{deployment_date.strftime('%Y-%m-%d')}.csv\", Body=validation_csv)\n",
    "    return response\n",
    "\n",
    "def model_runner_temporal_simulation(features, target_label, target_vol,dataset_start_date,end_date,deployment_date,hyperparams):\n",
    "    validation_end_date = build_validation_dates_local(deployment_date)\n",
    "    dataset = pull_training_data_local(end_date, dataset_start_date)\n",
    "    validation_dataset = pull_validation_data_local(validation_end_date,deployment_date)\n",
    "    dataset.dropna(subset=[\"close_diff_deviation3\"],inplace=True)\n",
    "    validation_dataset.dropna(subset=[\"close_diff_deviation3\"],inplace=True)\n",
    "    dataset.dropna(subset=[\"close_diff_deviation\"],inplace=True)\n",
    "    validation_dataset.dropna(subset=[\"close_diff_deviation\"],inplace=True)\n",
    "    tp, tp_scr, fp, fp_scr, tn, tn_scr, fn, fn_scr, fi_list, predictions, probabilities = train_model_TSSim(features, dataset, validation_dataset, target_label, target_vol, hyperparams)\n",
    "    return tp, fp, fn, tn \n",
    "\n",
    "def model_runner_data(start_date,end_date):\n",
    "    dates = build_date_list(start_date, end_date)\n",
    "    key_list = build_query_keys(dates)\n",
    "    print(key_list[-1])\n",
    "    train_data = create_training_data_local(key_list, 'full_alerts/weekly_exp_alerts/', 'inv-alerts', 'cdvol_losers', start_date.strftime('%Y-%m-%d %H:%M:%S'),end_date.strftime('%Y-%m-%d %H:%M:%S'))\n",
    "    val_data = create_validation_data_local(key_list, 'full_alerts/trading_symbols_alerts/', 'inv-alerts', 'cdvol_losers', start_date.strftime('%Y-%m-%d %H:%M:%S'),end_date.strftime('%Y-%m-%d %H:%M:%S'))\n",
    "    return \"train_data\", \"val_data\""
   ]
  },
  {
   "cell_type": "code",
   "execution_count": 206,
   "metadata": {},
   "outputs": [],
   "source": [
    "def build_evaluation_period(eval_start, eval_end):\n",
    "    dates_list = []\n",
    "    while eval_start <= eval_end:\n",
    "        date_object = {\n",
    "            \"deployment_date\": eval_start,\n",
    "            \"dataset_end\": eval_start - timedelta(days=10),\n",
    "            \"dataset_start\": datetime(2018,1,1)\n",
    "        }\n",
    "        dates_list.append(date_object)\n",
    "        eval_start += timedelta(days=7)\n",
    "    return dates_list"
   ]
  },
  {
   "cell_type": "code",
   "execution_count": 207,
   "metadata": {},
   "outputs": [
    {
     "name": "stdout",
     "output_type": "stream",
     "text": [
      "{'deployment_date': datetime.datetime(2022, 10, 3, 0, 0), 'dataset_end': datetime.datetime(2022, 9, 23, 0, 0), 'dataset_start': datetime.datetime(2018, 1, 1, 0, 0)}\n"
     ]
    },
    {
     "name": "stderr",
     "output_type": "stream",
     "text": [
      "/var/folders/tq/_9q_lv1s2bndbr3tzzn08x4r0000gn/T/ipykernel_59883/3784404324.py:66: DtypeWarning: Columns (109,110) have mixed types. Specify dtype option on import or set low_memory=False.\n",
      "  data = pd.read_csv(f'/Users/charlesmiller/Documents/model_tester_data/CDLOSE/2018-01-01_2023-12-23_validationTR15.csv')\n"
     ]
    },
    {
     "name": "stdout",
     "output_type": "stream",
     "text": [
      "label\n",
      "1    58759\n",
      "0    48267\n",
      "Name: count, dtype: int64\n",
      "133 80 67 170\n",
      "{'model_name': 'CDLOSE_1d:TSSIM1_TL15-EXP_custHypTP0.55', 'deployment_date': '2022-10-03', 'algorithm_type': 'xgboost', 'dataset': 'TSSIM1_TL15-EXP_custHypTP0.55', 'TP': 133, 'TPpct': Decimal('0'), 'FP': 80, 'FPpct': Decimal('0'), 'TN': 67, 'TNpct': Decimal('0'), 'FN': 170, 'FNpct': Decimal('0'), 'precision_ratio': Decimal('1.6625'), 'evaluation_timeperiod': '2022-10-03_2022-10-07', 'live': False, 'hyperparameters': {\"{'subsample': 0.6, 'num_round': 1000, 'min_child_weight': 10, 'max_depth': 10, 'learning_rate': 0.1, 'gamma': 2, 'colsample_bytree': 1}\"}, 'features': {\"['SPY_diff', 'day_of_week', 'return_vol_5D', 'hour_volume_vol_diff', 'return_vol_240M', 'volume_vol_8H', 'range_vol_diff5', 'return_vol_30M', 'daily_volume_vol_diff30', 'close_diff', 'volume_vol_15M', 'return_vol_10D', 'daily_vol_diff_pct', 'daily_volume_vol_diff_pct30', 'range_vol5MA', 'cmf', 'return_vol_450M', 'hour_volume_vol_diff_pct', 'min_vol_diff', 'price_25DDiff', 'return_vol_3D', 'daily_vol_diff_pct30', 'volume_vol_3D', 'volume_vol_450M', 'close_diff_deviation', 'return_vol_30D', 'close_diff_deviation3', 'return_vol_16H', 'volume_vol_30M', 'rsi', 'threeD_stddev50', 'close_diff5', 'range_vol10MA', 'SPY_5D', 'daily_vol_diff', 'SPY_diff3', 'volume_vol_5D', 'rsi3', 'volume_25DDiff', 'price7']\"}, 'target': '-0.795+one_min_vol', 'feature_importances': \"[{'SPY_diff': 0.023392176}, {'day_of_week': 0.02628141}, {'return_vol_5D': 0.024654748}, {'hour_volume_vol_diff': 0.021921936}, {'return_vol_240M': 0.02521619}, {'volume_vol_8H': 0.022870922}, {'range_vol_diff5': 0.024052655}, {'return_vol_30M': 0.027648846}, {'daily_volume_vol_diff30': 0.022902563}, {'close_diff': 0.025666706}, {'volume_vol_15M': 0.018769862}, {'return_vol_10D': 0.02859281}, {'daily_vol_diff_pct': 0.029203184}, {'daily_volume_vol_diff_pct30': 0.022495627}, {'range_vol5MA': 0.02462312}, {'cmf': 0.023265308}, {'return_vol_450M': 0.025366336}, {'hour_volume_vol_diff_pct': 0.022780022}, {'min_vol_diff': 0.021655802}, {'price_25DDiff': 0.024573691}, {'return_vol_3D': 0.024170738}, {'daily_vol_diff_pct30': 0.024851654}, {'volume_vol_3D': 0.021400305}, {'volume_vol_450M': 0.023171391}, {'close_diff_deviation': 0.024939489}, {'return_vol_30D': 0.025606668}, {'close_diff_deviation3': 0.025531229}, {'return_vol_16H': 0.0231097}, {'volume_vol_30M': 0.020217378}, {'rsi': 0.025416475}, {'threeD_stddev50': 0.026421214}, {'close_diff5': 0.02473587}, {'range_vol10MA': 0.026061034}, {'SPY_5D': 0.026397103}, {'daily_vol_diff': 0.04942235}, {'SPY_diff3': 0.022859395}, {'volume_vol_5D': 0.022266679}, {'rsi3': 0.031130392}, {'volume_25DDiff': 0.022259846}, {'price7': 0.024097133}]\"}\n",
      "{'deployment_date': datetime.datetime(2022, 10, 10, 0, 0), 'dataset_end': datetime.datetime(2022, 9, 30, 0, 0), 'dataset_start': datetime.datetime(2018, 1, 1, 0, 0)}\n"
     ]
    },
    {
     "name": "stderr",
     "output_type": "stream",
     "text": [
      "/var/folders/tq/_9q_lv1s2bndbr3tzzn08x4r0000gn/T/ipykernel_59883/3784404324.py:66: DtypeWarning: Columns (109,110) have mixed types. Specify dtype option on import or set low_memory=False.\n",
      "  data = pd.read_csv(f'/Users/charlesmiller/Documents/model_tester_data/CDLOSE/2018-01-01_2023-12-23_validationTR15.csv')\n"
     ]
    },
    {
     "name": "stdout",
     "output_type": "stream",
     "text": [
      "label\n",
      "1    59043\n",
      "0    48433\n",
      "Name: count, dtype: int64\n",
      "185 75 72 118\n",
      "{'model_name': 'CDLOSE_1d:TSSIM1_TL15-EXP_custHypTP0.55', 'deployment_date': '2022-10-10', 'algorithm_type': 'xgboost', 'dataset': 'TSSIM1_TL15-EXP_custHypTP0.55', 'TP': 185, 'TPpct': Decimal('0'), 'FP': 75, 'FPpct': Decimal('0'), 'TN': 72, 'TNpct': Decimal('0'), 'FN': 118, 'FNpct': Decimal('0'), 'precision_ratio': Decimal('2.466666666666667'), 'evaluation_timeperiod': '2022-10-10_2022-10-14', 'live': False, 'hyperparameters': {\"{'subsample': 0.6, 'num_round': 1000, 'min_child_weight': 10, 'max_depth': 10, 'learning_rate': 0.1, 'gamma': 2, 'colsample_bytree': 1}\"}, 'features': {\"['SPY_diff', 'day_of_week', 'return_vol_5D', 'hour_volume_vol_diff', 'return_vol_240M', 'volume_vol_8H', 'range_vol_diff5', 'return_vol_30M', 'daily_volume_vol_diff30', 'close_diff', 'volume_vol_15M', 'return_vol_10D', 'daily_vol_diff_pct', 'daily_volume_vol_diff_pct30', 'range_vol5MA', 'cmf', 'return_vol_450M', 'hour_volume_vol_diff_pct', 'min_vol_diff', 'price_25DDiff', 'return_vol_3D', 'daily_vol_diff_pct30', 'volume_vol_3D', 'volume_vol_450M', 'close_diff_deviation', 'return_vol_30D', 'close_diff_deviation3', 'return_vol_16H', 'volume_vol_30M', 'rsi', 'threeD_stddev50', 'close_diff5', 'range_vol10MA', 'SPY_5D', 'daily_vol_diff', 'SPY_diff3', 'volume_vol_5D', 'rsi3', 'volume_25DDiff', 'price7']\"}, 'target': '-0.795+one_min_vol', 'feature_importances': \"[{'SPY_diff': 0.023485793}, {'day_of_week': 0.027357934}, {'return_vol_5D': 0.025892105}, {'hour_volume_vol_diff': 0.02224747}, {'return_vol_240M': 0.025237683}, {'volume_vol_8H': 0.02220104}, {'range_vol_diff5': 0.024100192}, {'return_vol_30M': 0.027155256}, {'daily_volume_vol_diff30': 0.022659386}, {'close_diff': 0.025267519}, {'volume_vol_15M': 0.0190496}, {'return_vol_10D': 0.028596306}, {'daily_vol_diff_pct': 0.031102221}, {'daily_volume_vol_diff_pct30': 0.023120357}, {'range_vol5MA': 0.025603792}, {'cmf': 0.02328886}, {'return_vol_450M': 0.026626542}, {'hour_volume_vol_diff_pct': 0.023371343}, {'min_vol_diff': 0.020810742}, {'price_25DDiff': 0.02449378}, {'return_vol_3D': 0.022870885}, {'daily_vol_diff_pct30': 0.024564076}, {'volume_vol_3D': 0.02189903}, {'volume_vol_450M': 0.022850838}, {'close_diff_deviation': 0.024361001}, {'return_vol_30D': 0.025489004}, {'close_diff_deviation3': 0.026546827}, {'return_vol_16H': 0.023141358}, {'volume_vol_30M': 0.019597756}, {'rsi': 0.024618989}, {'threeD_stddev50': 0.02638057}, {'close_diff5': 0.025312182}, {'range_vol10MA': 0.025557756}, {'SPY_5D': 0.02682671}, {'daily_vol_diff': 0.045025397}, {'SPY_diff3': 0.022765284}, {'volume_vol_5D': 0.02174162}, {'rsi3': 0.031086486}, {'volume_25DDiff': 0.022660377}, {'price7': 0.025035962}]\"}\n",
      "{'deployment_date': datetime.datetime(2022, 10, 17, 0, 0), 'dataset_end': datetime.datetime(2022, 10, 7, 0, 0), 'dataset_start': datetime.datetime(2018, 1, 1, 0, 0)}\n"
     ]
    },
    {
     "name": "stderr",
     "output_type": "stream",
     "text": [
      "/var/folders/tq/_9q_lv1s2bndbr3tzzn08x4r0000gn/T/ipykernel_59883/3784404324.py:66: DtypeWarning: Columns (109,110) have mixed types. Specify dtype option on import or set low_memory=False.\n",
      "  data = pd.read_csv(f'/Users/charlesmiller/Documents/model_tester_data/CDLOSE/2018-01-01_2023-12-23_validationTR15.csv')\n"
     ]
    },
    {
     "name": "stdout",
     "output_type": "stream",
     "text": [
      "label\n",
      "1    59246\n",
      "0    48680\n",
      "Name: count, dtype: int64\n",
      "108 130 142 70\n",
      "{'model_name': 'CDLOSE_1d:TSSIM1_TL15-EXP_custHypTP0.55', 'deployment_date': '2022-10-17', 'algorithm_type': 'xgboost', 'dataset': 'TSSIM1_TL15-EXP_custHypTP0.55', 'TP': 108, 'TPpct': Decimal('0'), 'FP': 130, 'FPpct': Decimal('0'), 'TN': 142, 'TNpct': Decimal('0'), 'FN': 70, 'FNpct': Decimal('0'), 'precision_ratio': Decimal('0.8307692307692308'), 'evaluation_timeperiod': '2022-10-17_2022-10-21', 'live': False, 'hyperparameters': {\"{'subsample': 0.6, 'num_round': 1000, 'min_child_weight': 10, 'max_depth': 10, 'learning_rate': 0.1, 'gamma': 2, 'colsample_bytree': 1}\"}, 'features': {\"['SPY_diff', 'day_of_week', 'return_vol_5D', 'hour_volume_vol_diff', 'return_vol_240M', 'volume_vol_8H', 'range_vol_diff5', 'return_vol_30M', 'daily_volume_vol_diff30', 'close_diff', 'volume_vol_15M', 'return_vol_10D', 'daily_vol_diff_pct', 'daily_volume_vol_diff_pct30', 'range_vol5MA', 'cmf', 'return_vol_450M', 'hour_volume_vol_diff_pct', 'min_vol_diff', 'price_25DDiff', 'return_vol_3D', 'daily_vol_diff_pct30', 'volume_vol_3D', 'volume_vol_450M', 'close_diff_deviation', 'return_vol_30D', 'close_diff_deviation3', 'return_vol_16H', 'volume_vol_30M', 'rsi', 'threeD_stddev50', 'close_diff5', 'range_vol10MA', 'SPY_5D', 'daily_vol_diff', 'SPY_diff3', 'volume_vol_5D', 'rsi3', 'volume_25DDiff', 'price7']\"}, 'target': '-0.797+one_min_vol', 'feature_importances': \"[{'SPY_diff': 0.024478981}, {'day_of_week': 0.028866148}, {'return_vol_5D': 0.024235202}, {'hour_volume_vol_diff': 0.022497162}, {'return_vol_240M': 0.024170171}, {'volume_vol_8H': 0.022309093}, {'range_vol_diff5': 0.023576668}, {'return_vol_30M': 0.027564751}, {'daily_volume_vol_diff30': 0.023565175}, {'close_diff': 0.02570084}, {'volume_vol_15M': 0.01970386}, {'return_vol_10D': 0.028119868}, {'daily_vol_diff_pct': 0.029553177}, {'daily_volume_vol_diff_pct30': 0.023251824}, {'range_vol5MA': 0.02565173}, {'cmf': 0.023428304}, {'return_vol_450M': 0.026667794}, {'hour_volume_vol_diff_pct': 0.023976132}, {'min_vol_diff': 0.021778671}, {'price_25DDiff': 0.023676537}, {'return_vol_3D': 0.023515444}, {'daily_vol_diff_pct30': 0.024770837}, {'volume_vol_3D': 0.02116293}, {'volume_vol_450M': 0.02267727}, {'close_diff_deviation': 0.024394965}, {'return_vol_30D': 0.025894145}, {'close_diff_deviation3': 0.02510724}, {'return_vol_16H': 0.0232425}, {'volume_vol_30M': 0.019483924}, {'rsi': 0.024613984}, {'threeD_stddev50': 0.026306415}, {'close_diff5': 0.025339684}, {'range_vol10MA': 0.02519089}, {'SPY_5D': 0.026483119}, {'daily_vol_diff': 0.04694588}, {'SPY_diff3': 0.022970099}, {'volume_vol_5D': 0.021893967}, {'rsi3': 0.030700002}, {'volume_25DDiff': 0.022428803}, {'price7': 0.024105843}]\"}\n",
      "{'deployment_date': datetime.datetime(2022, 10, 24, 0, 0), 'dataset_end': datetime.datetime(2022, 10, 14, 0, 0), 'dataset_start': datetime.datetime(2018, 1, 1, 0, 0)}\n"
     ]
    },
    {
     "name": "stderr",
     "output_type": "stream",
     "text": [
      "/var/folders/tq/_9q_lv1s2bndbr3tzzn08x4r0000gn/T/ipykernel_59883/3784404324.py:66: DtypeWarning: Columns (109,110) have mixed types. Specify dtype option on import or set low_memory=False.\n",
      "  data = pd.read_csv(f'/Users/charlesmiller/Documents/model_tester_data/CDLOSE/2018-01-01_2023-12-23_validationTR15.csv')\n"
     ]
    },
    {
     "name": "stdout",
     "output_type": "stream",
     "text": [
      "label\n",
      "1    59518\n",
      "0    48858\n",
      "Name: count, dtype: int64\n",
      "80 109 182 79\n",
      "{'model_name': 'CDLOSE_1d:TSSIM1_TL15-EXP_custHypTP0.55', 'deployment_date': '2022-10-24', 'algorithm_type': 'xgboost', 'dataset': 'TSSIM1_TL15-EXP_custHypTP0.55', 'TP': 80, 'TPpct': Decimal('0'), 'FP': 109, 'FPpct': Decimal('0'), 'TN': 182, 'TNpct': Decimal('0'), 'FN': 79, 'FNpct': Decimal('0'), 'precision_ratio': Decimal('0.7339449541284404'), 'evaluation_timeperiod': '2022-10-24_2022-10-28', 'live': False, 'hyperparameters': {\"{'subsample': 0.6, 'num_round': 1000, 'min_child_weight': 10, 'max_depth': 10, 'learning_rate': 0.1, 'gamma': 2, 'colsample_bytree': 1}\"}, 'features': {\"['SPY_diff', 'day_of_week', 'return_vol_5D', 'hour_volume_vol_diff', 'return_vol_240M', 'volume_vol_8H', 'range_vol_diff5', 'return_vol_30M', 'daily_volume_vol_diff30', 'close_diff', 'volume_vol_15M', 'return_vol_10D', 'daily_vol_diff_pct', 'daily_volume_vol_diff_pct30', 'range_vol5MA', 'cmf', 'return_vol_450M', 'hour_volume_vol_diff_pct', 'min_vol_diff', 'price_25DDiff', 'return_vol_3D', 'daily_vol_diff_pct30', 'volume_vol_3D', 'volume_vol_450M', 'close_diff_deviation', 'return_vol_30D', 'close_diff_deviation3', 'return_vol_16H', 'volume_vol_30M', 'rsi', 'threeD_stddev50', 'close_diff5', 'range_vol10MA', 'SPY_5D', 'daily_vol_diff', 'SPY_diff3', 'volume_vol_5D', 'rsi3', 'volume_25DDiff', 'price7']\"}, 'target': '-0.798+one_min_vol', 'feature_importances': \"[{'SPY_diff': 0.024232257}, {'day_of_week': 0.027659329}, {'return_vol_5D': 0.025062868}, {'hour_volume_vol_diff': 0.021940392}, {'return_vol_240M': 0.024606809}, {'volume_vol_8H': 0.023071049}, {'range_vol_diff5': 0.023909679}, {'return_vol_30M': 0.025966424}, {'daily_volume_vol_diff30': 0.023286143}, {'close_diff': 0.025964696}, {'volume_vol_15M': 0.019822497}, {'return_vol_10D': 0.028067833}, {'daily_vol_diff_pct': 0.028935317}, {'daily_volume_vol_diff_pct30': 0.022329245}, {'range_vol5MA': 0.025757333}, {'cmf': 0.023937663}, {'return_vol_450M': 0.026654674}, {'hour_volume_vol_diff_pct': 0.023393052}, {'min_vol_diff': 0.02217325}, {'price_25DDiff': 0.024124438}, {'return_vol_3D': 0.022901855}, {'daily_vol_diff_pct30': 0.024284214}, {'volume_vol_3D': 0.021767708}, {'volume_vol_450M': 0.022966422}, {'close_diff_deviation': 0.024241518}, {'return_vol_30D': 0.025606891}, {'close_diff_deviation3': 0.025525635}, {'return_vol_16H': 0.02318918}, {'volume_vol_30M': 0.020126693}, {'rsi': 0.024790546}, {'threeD_stddev50': 0.026622284}, {'close_diff5': 0.025901094}, {'range_vol10MA': 0.024073903}, {'SPY_5D': 0.02696004}, {'daily_vol_diff': 0.04756105}, {'SPY_diff3': 0.023460155}, {'volume_vol_5D': 0.022282442}, {'rsi3': 0.030357435}, {'volume_25DDiff': 0.02225786}, {'price7': 0.024228146}]\"}\n",
      "{'deployment_date': datetime.datetime(2022, 10, 31, 0, 0), 'dataset_end': datetime.datetime(2022, 10, 21, 0, 0), 'dataset_start': datetime.datetime(2018, 1, 1, 0, 0)}\n"
     ]
    },
    {
     "name": "stderr",
     "output_type": "stream",
     "text": [
      "/var/folders/tq/_9q_lv1s2bndbr3tzzn08x4r0000gn/T/ipykernel_59883/3784404324.py:66: DtypeWarning: Columns (109,110) have mixed types. Specify dtype option on import or set low_memory=False.\n",
      "  data = pd.read_csv(f'/Users/charlesmiller/Documents/model_tester_data/CDLOSE/2018-01-01_2023-12-23_validationTR15.csv')\n"
     ]
    },
    {
     "name": "stdout",
     "output_type": "stream",
     "text": [
      "label\n",
      "1    59782\n",
      "0    49044\n",
      "Name: count, dtype: int64\n",
      "221 95 36 98\n",
      "{'model_name': 'CDLOSE_1d:TSSIM1_TL15-EXP_custHypTP0.55', 'deployment_date': '2022-10-31', 'algorithm_type': 'xgboost', 'dataset': 'TSSIM1_TL15-EXP_custHypTP0.55', 'TP': 221, 'TPpct': Decimal('0'), 'FP': 95, 'FPpct': Decimal('0'), 'TN': 36, 'TNpct': Decimal('0'), 'FN': 98, 'FNpct': Decimal('0'), 'precision_ratio': Decimal('2.3263157894736843'), 'evaluation_timeperiod': '2022-10-31_2022-11-04', 'live': False, 'hyperparameters': {\"{'subsample': 0.6, 'num_round': 1000, 'min_child_weight': 10, 'max_depth': 10, 'learning_rate': 0.1, 'gamma': 2, 'colsample_bytree': 1}\"}, 'features': {\"['SPY_diff', 'day_of_week', 'return_vol_5D', 'hour_volume_vol_diff', 'return_vol_240M', 'volume_vol_8H', 'range_vol_diff5', 'return_vol_30M', 'daily_volume_vol_diff30', 'close_diff', 'volume_vol_15M', 'return_vol_10D', 'daily_vol_diff_pct', 'daily_volume_vol_diff_pct30', 'range_vol5MA', 'cmf', 'return_vol_450M', 'hour_volume_vol_diff_pct', 'min_vol_diff', 'price_25DDiff', 'return_vol_3D', 'daily_vol_diff_pct30', 'volume_vol_3D', 'volume_vol_450M', 'close_diff_deviation', 'return_vol_30D', 'close_diff_deviation3', 'return_vol_16H', 'volume_vol_30M', 'rsi', 'threeD_stddev50', 'close_diff5', 'range_vol10MA', 'SPY_5D', 'daily_vol_diff', 'SPY_diff3', 'volume_vol_5D', 'rsi3', 'volume_25DDiff', 'price7']\"}, 'target': '-0.797+one_min_vol', 'feature_importances': \"[{'SPY_diff': 0.024140948}, {'day_of_week': 0.02773656}, {'return_vol_5D': 0.025242396}, {'hour_volume_vol_diff': 0.022389198}, {'return_vol_240M': 0.024479523}, {'volume_vol_8H': 0.02245628}, {'range_vol_diff5': 0.024338199}, {'return_vol_30M': 0.026412489}, {'daily_volume_vol_diff30': 0.022954956}, {'close_diff': 0.026117139}, {'volume_vol_15M': 0.019537326}, {'return_vol_10D': 0.027874079}, {'daily_vol_diff_pct': 0.028917909}, {'daily_volume_vol_diff_pct30': 0.022520179}, {'range_vol5MA': 0.025629552}, {'cmf': 0.023723753}, {'return_vol_450M': 0.025772432}, {'hour_volume_vol_diff_pct': 0.023006821}, {'min_vol_diff': 0.021116847}, {'price_25DDiff': 0.023752555}, {'return_vol_3D': 0.023371305}, {'daily_vol_diff_pct30': 0.024562467}, {'volume_vol_3D': 0.022396147}, {'volume_vol_450M': 0.023122536}, {'close_diff_deviation': 0.0248428}, {'return_vol_30D': 0.026035242}, {'close_diff_deviation3': 0.026007611}, {'return_vol_16H': 0.023388958}, {'volume_vol_30M': 0.019148475}, {'rsi': 0.02491133}, {'threeD_stddev50': 0.026272623}, {'close_diff5': 0.025598217}, {'range_vol10MA': 0.025306523}, {'SPY_5D': 0.026723715}, {'daily_vol_diff': 0.045864917}, {'SPY_diff3': 0.02431744}, {'volume_vol_5D': 0.022068672}, {'rsi3': 0.031349972}, {'volume_25DDiff': 0.02256123}, {'price7': 0.024030682}]\"}\n",
      "{'deployment_date': datetime.datetime(2022, 11, 7, 0, 0), 'dataset_end': datetime.datetime(2022, 10, 28, 0, 0), 'dataset_start': datetime.datetime(2018, 1, 1, 0, 0)}\n"
     ]
    },
    {
     "name": "stderr",
     "output_type": "stream",
     "text": [
      "/var/folders/tq/_9q_lv1s2bndbr3tzzn08x4r0000gn/T/ipykernel_59883/3784404324.py:66: DtypeWarning: Columns (109,110) have mixed types. Specify dtype option on import or set low_memory=False.\n",
      "  data = pd.read_csv(f'/Users/charlesmiller/Documents/model_tester_data/CDLOSE/2018-01-01_2023-12-23_validationTR15.csv')\n"
     ]
    },
    {
     "name": "stdout",
     "output_type": "stream",
     "text": [
      "label\n",
      "1    60007\n",
      "0    49269\n",
      "Name: count, dtype: int64\n",
      "124 125 138 63\n",
      "{'model_name': 'CDLOSE_1d:TSSIM1_TL15-EXP_custHypTP0.55', 'deployment_date': '2022-11-07', 'algorithm_type': 'xgboost', 'dataset': 'TSSIM1_TL15-EXP_custHypTP0.55', 'TP': 124, 'TPpct': Decimal('0'), 'FP': 125, 'FPpct': Decimal('0'), 'TN': 138, 'TNpct': Decimal('0'), 'FN': 63, 'FNpct': Decimal('0'), 'precision_ratio': Decimal('0.992'), 'evaluation_timeperiod': '2022-11-07_2022-11-11', 'live': False, 'hyperparameters': {\"{'subsample': 0.6, 'num_round': 1000, 'min_child_weight': 10, 'max_depth': 10, 'learning_rate': 0.1, 'gamma': 2, 'colsample_bytree': 1}\"}, 'features': {\"['SPY_diff', 'day_of_week', 'return_vol_5D', 'hour_volume_vol_diff', 'return_vol_240M', 'volume_vol_8H', 'range_vol_diff5', 'return_vol_30M', 'daily_volume_vol_diff30', 'close_diff', 'volume_vol_15M', 'return_vol_10D', 'daily_vol_diff_pct', 'daily_volume_vol_diff_pct30', 'range_vol5MA', 'cmf', 'return_vol_450M', 'hour_volume_vol_diff_pct', 'min_vol_diff', 'price_25DDiff', 'return_vol_3D', 'daily_vol_diff_pct30', 'volume_vol_3D', 'volume_vol_450M', 'close_diff_deviation', 'return_vol_30D', 'close_diff_deviation3', 'return_vol_16H', 'volume_vol_30M', 'rsi', 'threeD_stddev50', 'close_diff5', 'range_vol10MA', 'SPY_5D', 'daily_vol_diff', 'SPY_diff3', 'volume_vol_5D', 'rsi3', 'volume_25DDiff', 'price7']\"}, 'target': '-0.795+one_min_vol', 'feature_importances': \"[{'SPY_diff': 0.023570152}, {'day_of_week': 0.028398093}, {'return_vol_5D': 0.024673}, {'hour_volume_vol_diff': 0.022607448}, {'return_vol_240M': 0.024826359}, {'volume_vol_8H': 0.02215099}, {'range_vol_diff5': 0.023159519}, {'return_vol_30M': 0.026886491}, {'daily_volume_vol_diff30': 0.024323158}, {'close_diff': 0.025716344}, {'volume_vol_15M': 0.019179232}, {'return_vol_10D': 0.029065672}, {'daily_vol_diff_pct': 0.029619897}, {'daily_volume_vol_diff_pct30': 0.023264514}, {'range_vol5MA': 0.0251965}, {'cmf': 0.023270356}, {'return_vol_450M': 0.025331901}, {'hour_volume_vol_diff_pct': 0.022978095}, {'min_vol_diff': 0.020904334}, {'price_25DDiff': 0.024510857}, {'return_vol_3D': 0.023401495}, {'daily_vol_diff_pct30': 0.02451136}, {'volume_vol_3D': 0.022188798}, {'volume_vol_450M': 0.022854546}, {'close_diff_deviation': 0.02498803}, {'return_vol_30D': 0.02602569}, {'close_diff_deviation3': 0.026190696}, {'return_vol_16H': 0.023015173}, {'volume_vol_30M': 0.020017067}, {'rsi': 0.024180517}, {'threeD_stddev50': 0.025262136}, {'close_diff5': 0.025783837}, {'range_vol10MA': 0.024725478}, {'SPY_5D': 0.027096905}, {'daily_vol_diff': 0.04712093}, {'SPY_diff3': 0.023689942}, {'volume_vol_5D': 0.022193875}, {'rsi3': 0.030371375}, {'volume_25DDiff': 0.022738848}, {'price7': 0.024010366}]\"}\n",
      "{'deployment_date': datetime.datetime(2022, 11, 14, 0, 0), 'dataset_end': datetime.datetime(2022, 11, 4, 0, 0), 'dataset_start': datetime.datetime(2018, 1, 1, 0, 0)}\n"
     ]
    },
    {
     "name": "stderr",
     "output_type": "stream",
     "text": [
      "/var/folders/tq/_9q_lv1s2bndbr3tzzn08x4r0000gn/T/ipykernel_59883/3784404324.py:66: DtypeWarning: Columns (109,110) have mixed types. Specify dtype option on import or set low_memory=False.\n",
      "  data = pd.read_csv(f'/Users/charlesmiller/Documents/model_tester_data/CDLOSE/2018-01-01_2023-12-23_validationTR15.csv')\n"
     ]
    },
    {
     "name": "stdout",
     "output_type": "stream",
     "text": [
      "label\n",
      "1    60273\n",
      "0    49453\n",
      "Name: count, dtype: int64\n",
      "85 88 120 157\n",
      "{'model_name': 'CDLOSE_1d:TSSIM1_TL15-EXP_custHypTP0.55', 'deployment_date': '2022-11-14', 'algorithm_type': 'xgboost', 'dataset': 'TSSIM1_TL15-EXP_custHypTP0.55', 'TP': 85, 'TPpct': Decimal('0'), 'FP': 88, 'FPpct': Decimal('0'), 'TN': 120, 'TNpct': Decimal('0'), 'FN': 157, 'FNpct': Decimal('0'), 'precision_ratio': Decimal('0.9659090909090909'), 'evaluation_timeperiod': '2022-11-14_2022-11-18', 'live': False, 'hyperparameters': {\"{'subsample': 0.6, 'num_round': 1000, 'min_child_weight': 10, 'max_depth': 10, 'learning_rate': 0.1, 'gamma': 2, 'colsample_bytree': 1}\"}, 'features': {\"['SPY_diff', 'day_of_week', 'return_vol_5D', 'hour_volume_vol_diff', 'return_vol_240M', 'volume_vol_8H', 'range_vol_diff5', 'return_vol_30M', 'daily_volume_vol_diff30', 'close_diff', 'volume_vol_15M', 'return_vol_10D', 'daily_vol_diff_pct', 'daily_volume_vol_diff_pct30', 'range_vol5MA', 'cmf', 'return_vol_450M', 'hour_volume_vol_diff_pct', 'min_vol_diff', 'price_25DDiff', 'return_vol_3D', 'daily_vol_diff_pct30', 'volume_vol_3D', 'volume_vol_450M', 'close_diff_deviation', 'return_vol_30D', 'close_diff_deviation3', 'return_vol_16H', 'volume_vol_30M', 'rsi', 'threeD_stddev50', 'close_diff5', 'range_vol10MA', 'SPY_5D', 'daily_vol_diff', 'SPY_diff3', 'volume_vol_5D', 'rsi3', 'volume_25DDiff', 'price7']\"}, 'target': '-0.795+one_min_vol', 'feature_importances': \"[{'SPY_diff': 0.024138395}, {'day_of_week': 0.028315946}, {'return_vol_5D': 0.02481023}, {'hour_volume_vol_diff': 0.02289973}, {'return_vol_240M': 0.023872245}, {'volume_vol_8H': 0.022237118}, {'range_vol_diff5': 0.024097681}, {'return_vol_30M': 0.026732227}, {'daily_volume_vol_diff30': 0.023191473}, {'close_diff': 0.02495189}, {'volume_vol_15M': 0.01902081}, {'return_vol_10D': 0.02765684}, {'daily_vol_diff_pct': 0.029410966}, {'daily_volume_vol_diff_pct30': 0.023016922}, {'range_vol5MA': 0.024672609}, {'cmf': 0.023052126}, {'return_vol_450M': 0.026463747}, {'hour_volume_vol_diff_pct': 0.022774704}, {'min_vol_diff': 0.021071482}, {'price_25DDiff': 0.02398928}, {'return_vol_3D': 0.02314777}, {'daily_vol_diff_pct30': 0.024401098}, {'volume_vol_3D': 0.022146966}, {'volume_vol_450M': 0.023254503}, {'close_diff_deviation': 0.024161762}, {'return_vol_30D': 0.024933266}, {'close_diff_deviation3': 0.025918227}, {'return_vol_16H': 0.022939907}, {'volume_vol_30M': 0.019456048}, {'rsi': 0.023947641}, {'threeD_stddev50': 0.026663348}, {'close_diff5': 0.025629893}, {'range_vol10MA': 0.02532564}, {'SPY_5D': 0.026788922}, {'daily_vol_diff': 0.04998035}, {'SPY_diff3': 0.023416983}, {'volume_vol_5D': 0.022541683}, {'rsi3': 0.03205796}, {'volume_25DDiff': 0.023092117}, {'price7': 0.023819504}]\"}\n",
      "{'deployment_date': datetime.datetime(2022, 11, 21, 0, 0), 'dataset_end': datetime.datetime(2022, 11, 11, 0, 0), 'dataset_start': datetime.datetime(2018, 1, 1, 0, 0)}\n"
     ]
    },
    {
     "name": "stderr",
     "output_type": "stream",
     "text": [
      "/var/folders/tq/_9q_lv1s2bndbr3tzzn08x4r0000gn/T/ipykernel_59883/3784404324.py:66: DtypeWarning: Columns (109,110) have mixed types. Specify dtype option on import or set low_memory=False.\n",
      "  data = pd.read_csv(f'/Users/charlesmiller/Documents/model_tester_data/CDLOSE/2018-01-01_2023-12-23_validationTR15.csv')\n"
     ]
    },
    {
     "name": "stdout",
     "output_type": "stream",
     "text": [
      "label\n",
      "1    60490\n",
      "0    49686\n",
      "Name: count, dtype: int64\n",
      "42 70 207 41\n",
      "{'model_name': 'CDLOSE_1d:TSSIM1_TL15-EXP_custHypTP0.55', 'deployment_date': '2022-11-21', 'algorithm_type': 'xgboost', 'dataset': 'TSSIM1_TL15-EXP_custHypTP0.55', 'TP': 42, 'TPpct': Decimal('0'), 'FP': 70, 'FPpct': Decimal('0'), 'TN': 207, 'TNpct': Decimal('0'), 'FN': 41, 'FNpct': Decimal('0'), 'precision_ratio': Decimal('0.6'), 'evaluation_timeperiod': '2022-11-21_2022-11-25', 'live': False, 'hyperparameters': {\"{'subsample': 0.6, 'num_round': 1000, 'min_child_weight': 10, 'max_depth': 10, 'learning_rate': 0.1, 'gamma': 2, 'colsample_bytree': 1}\"}, 'features': {\"['SPY_diff', 'day_of_week', 'return_vol_5D', 'hour_volume_vol_diff', 'return_vol_240M', 'volume_vol_8H', 'range_vol_diff5', 'return_vol_30M', 'daily_volume_vol_diff30', 'close_diff', 'volume_vol_15M', 'return_vol_10D', 'daily_vol_diff_pct', 'daily_volume_vol_diff_pct30', 'range_vol5MA', 'cmf', 'return_vol_450M', 'hour_volume_vol_diff_pct', 'min_vol_diff', 'price_25DDiff', 'return_vol_3D', 'daily_vol_diff_pct30', 'volume_vol_3D', 'volume_vol_450M', 'close_diff_deviation', 'return_vol_30D', 'close_diff_deviation3', 'return_vol_16H', 'volume_vol_30M', 'rsi', 'threeD_stddev50', 'close_diff5', 'range_vol10MA', 'SPY_5D', 'daily_vol_diff', 'SPY_diff3', 'volume_vol_5D', 'rsi3', 'volume_25DDiff', 'price7']\"}, 'target': '-0.796+one_min_vol', 'feature_importances': \"[{'SPY_diff': 0.024415702}, {'day_of_week': 0.02837871}, {'return_vol_5D': 0.024165388}, {'hour_volume_vol_diff': 0.022521565}, {'return_vol_240M': 0.02481628}, {'volume_vol_8H': 0.022549557}, {'range_vol_diff5': 0.023363074}, {'return_vol_30M': 0.027416397}, {'daily_volume_vol_diff30': 0.023267783}, {'close_diff': 0.025452368}, {'volume_vol_15M': 0.019128622}, {'return_vol_10D': 0.02893701}, {'daily_vol_diff_pct': 0.028324105}, {'daily_volume_vol_diff_pct30': 0.022859424}, {'range_vol5MA': 0.025272354}, {'cmf': 0.023645122}, {'return_vol_450M': 0.025459053}, {'hour_volume_vol_diff_pct': 0.023519542}, {'min_vol_diff': 0.021400616}, {'price_25DDiff': 0.023899954}, {'return_vol_3D': 0.023823306}, {'daily_vol_diff_pct30': 0.024384322}, {'volume_vol_3D': 0.022493778}, {'volume_vol_450M': 0.022459103}, {'close_diff_deviation': 0.024360567}, {'return_vol_30D': 0.025873745}, {'close_diff_deviation3': 0.025777971}, {'return_vol_16H': 0.022840064}, {'volume_vol_30M': 0.019813288}, {'rsi': 0.024842843}, {'threeD_stddev50': 0.026010415}, {'close_diff5': 0.025466632}, {'range_vol10MA': 0.025248565}, {'SPY_5D': 0.027393239}, {'daily_vol_diff': 0.047267996}, {'SPY_diff3': 0.023138938}, {'volume_vol_5D': 0.02185066}, {'rsi3': 0.031018661}, {'volume_25DDiff': 0.02307001}, {'price7': 0.024073271}]\"}\n",
      "{'deployment_date': datetime.datetime(2022, 11, 28, 0, 0), 'dataset_end': datetime.datetime(2022, 11, 18, 0, 0), 'dataset_start': datetime.datetime(2018, 1, 1, 0, 0)}\n"
     ]
    },
    {
     "name": "stderr",
     "output_type": "stream",
     "text": [
      "/var/folders/tq/_9q_lv1s2bndbr3tzzn08x4r0000gn/T/ipykernel_59883/3784404324.py:66: DtypeWarning: Columns (109,110) have mixed types. Specify dtype option on import or set low_memory=False.\n",
      "  data = pd.read_csv(f'/Users/charlesmiller/Documents/model_tester_data/CDLOSE/2018-01-01_2023-12-23_validationTR15.csv')\n"
     ]
    },
    {
     "name": "stdout",
     "output_type": "stream",
     "text": [
      "label\n",
      "1    60754\n",
      "0    49872\n",
      "Name: count, dtype: int64\n",
      "203 84 71 92\n",
      "{'model_name': 'CDLOSE_1d:TSSIM1_TL15-EXP_custHypTP0.55', 'deployment_date': '2022-11-28', 'algorithm_type': 'xgboost', 'dataset': 'TSSIM1_TL15-EXP_custHypTP0.55', 'TP': 203, 'TPpct': Decimal('0'), 'FP': 84, 'FPpct': Decimal('0'), 'TN': 71, 'TNpct': Decimal('0'), 'FN': 92, 'FNpct': Decimal('0'), 'precision_ratio': Decimal('2.4166666666666665'), 'evaluation_timeperiod': '2022-11-28_2022-12-02', 'live': False, 'hyperparameters': {\"{'subsample': 0.6, 'num_round': 1000, 'min_child_weight': 10, 'max_depth': 10, 'learning_rate': 0.1, 'gamma': 2, 'colsample_bytree': 1}\"}, 'features': {\"['SPY_diff', 'day_of_week', 'return_vol_5D', 'hour_volume_vol_diff', 'return_vol_240M', 'volume_vol_8H', 'range_vol_diff5', 'return_vol_30M', 'daily_volume_vol_diff30', 'close_diff', 'volume_vol_15M', 'return_vol_10D', 'daily_vol_diff_pct', 'daily_volume_vol_diff_pct30', 'range_vol5MA', 'cmf', 'return_vol_450M', 'hour_volume_vol_diff_pct', 'min_vol_diff', 'price_25DDiff', 'return_vol_3D', 'daily_vol_diff_pct30', 'volume_vol_3D', 'volume_vol_450M', 'close_diff_deviation', 'return_vol_30D', 'close_diff_deviation3', 'return_vol_16H', 'volume_vol_30M', 'rsi', 'threeD_stddev50', 'close_diff5', 'range_vol10MA', 'SPY_5D', 'daily_vol_diff', 'SPY_diff3', 'volume_vol_5D', 'rsi3', 'volume_25DDiff', 'price7']\"}, 'target': '-0.795+one_min_vol', 'feature_importances': \"[{'SPY_diff': 0.023838831}, {'day_of_week': 0.027624883}, {'return_vol_5D': 0.023830067}, {'hour_volume_vol_diff': 0.021836923}, {'return_vol_240M': 0.024187317}, {'volume_vol_8H': 0.0220792}, {'range_vol_diff5': 0.024055168}, {'return_vol_30M': 0.02715038}, {'daily_volume_vol_diff30': 0.022681268}, {'close_diff': 0.02456776}, {'volume_vol_15M': 0.019178202}, {'return_vol_10D': 0.028647173}, {'daily_vol_diff_pct': 0.029220939}, {'daily_volume_vol_diff_pct30': 0.02320554}, {'range_vol5MA': 0.024688939}, {'cmf': 0.023414388}, {'return_vol_450M': 0.025952812}, {'hour_volume_vol_diff_pct': 0.023016468}, {'min_vol_diff': 0.021485401}, {'price_25DDiff': 0.023511333}, {'return_vol_3D': 0.024100266}, {'daily_vol_diff_pct30': 0.024390168}, {'volume_vol_3D': 0.02303775}, {'volume_vol_450M': 0.023706354}, {'close_diff_deviation': 0.024313238}, {'return_vol_30D': 0.026077425}, {'close_diff_deviation3': 0.026179597}, {'return_vol_16H': 0.023329621}, {'volume_vol_30M': 0.019310446}, {'rsi': 0.02467602}, {'threeD_stddev50': 0.027260935}, {'close_diff5': 0.02603573}, {'range_vol10MA': 0.026428178}, {'SPY_5D': 0.027441012}, {'daily_vol_diff': 0.04396742}, {'SPY_diff3': 0.023903666}, {'volume_vol_5D': 0.022764403}, {'rsi3': 0.032212768}, {'volume_25DDiff': 0.02291239}, {'price7': 0.023779653}]\"}\n",
      "{'deployment_date': datetime.datetime(2022, 12, 5, 0, 0), 'dataset_end': datetime.datetime(2022, 11, 25, 0, 0), 'dataset_start': datetime.datetime(2018, 1, 1, 0, 0)}\n"
     ]
    },
    {
     "name": "stderr",
     "output_type": "stream",
     "text": [
      "/var/folders/tq/_9q_lv1s2bndbr3tzzn08x4r0000gn/T/ipykernel_59883/3784404324.py:66: DtypeWarning: Columns (109,110) have mixed types. Specify dtype option on import or set low_memory=False.\n",
      "  data = pd.read_csv(f'/Users/charlesmiller/Documents/model_tester_data/CDLOSE/2018-01-01_2023-12-23_validationTR15.csv')\n"
     ]
    },
    {
     "name": "stdout",
     "output_type": "stream",
     "text": [
      "label\n",
      "1    60938\n",
      "0    50048\n",
      "Name: count, dtype: int64\n",
      "187 116 57 90\n",
      "{'model_name': 'CDLOSE_1d:TSSIM1_TL15-EXP_custHypTP0.55', 'deployment_date': '2022-12-05', 'algorithm_type': 'xgboost', 'dataset': 'TSSIM1_TL15-EXP_custHypTP0.55', 'TP': 187, 'TPpct': Decimal('0'), 'FP': 116, 'FPpct': Decimal('0'), 'TN': 57, 'TNpct': Decimal('0'), 'FN': 90, 'FNpct': Decimal('0'), 'precision_ratio': Decimal('1.6120689655172413'), 'evaluation_timeperiod': '2022-12-05_2022-12-09', 'live': False, 'hyperparameters': {\"{'subsample': 0.6, 'num_round': 1000, 'min_child_weight': 10, 'max_depth': 10, 'learning_rate': 0.1, 'gamma': 2, 'colsample_bytree': 1}\"}, 'features': {\"['SPY_diff', 'day_of_week', 'return_vol_5D', 'hour_volume_vol_diff', 'return_vol_240M', 'volume_vol_8H', 'range_vol_diff5', 'return_vol_30M', 'daily_volume_vol_diff30', 'close_diff', 'volume_vol_15M', 'return_vol_10D', 'daily_vol_diff_pct', 'daily_volume_vol_diff_pct30', 'range_vol5MA', 'cmf', 'return_vol_450M', 'hour_volume_vol_diff_pct', 'min_vol_diff', 'price_25DDiff', 'return_vol_3D', 'daily_vol_diff_pct30', 'volume_vol_3D', 'volume_vol_450M', 'close_diff_deviation', 'return_vol_30D', 'close_diff_deviation3', 'return_vol_16H', 'volume_vol_30M', 'rsi', 'threeD_stddev50', 'close_diff5', 'range_vol10MA', 'SPY_5D', 'daily_vol_diff', 'SPY_diff3', 'volume_vol_5D', 'rsi3', 'volume_25DDiff', 'price7']\"}, 'target': '-0.793+one_min_vol', 'feature_importances': \"[{'SPY_diff': 0.023944728}, {'day_of_week': 0.027808359}, {'return_vol_5D': 0.024341188}, {'hour_volume_vol_diff': 0.022606535}, {'return_vol_240M': 0.024447644}, {'volume_vol_8H': 0.021848243}, {'range_vol_diff5': 0.025780289}, {'return_vol_30M': 0.027748594}, {'daily_volume_vol_diff30': 0.022468787}, {'close_diff': 0.024978325}, {'volume_vol_15M': 0.019062283}, {'return_vol_10D': 0.028534763}, {'daily_vol_diff_pct': 0.030615391}, {'daily_volume_vol_diff_pct30': 0.023230927}, {'range_vol5MA': 0.024995593}, {'cmf': 0.023512999}, {'return_vol_450M': 0.026295442}, {'hour_volume_vol_diff_pct': 0.023612756}, {'min_vol_diff': 0.021505004}, {'price_25DDiff': 0.02398042}, {'return_vol_3D': 0.023218645}, {'daily_vol_diff_pct30': 0.024613556}, {'volume_vol_3D': 0.022338172}, {'volume_vol_450M': 0.022615043}, {'close_diff_deviation': 0.024673453}, {'return_vol_30D': 0.024984984}, {'close_diff_deviation3': 0.02520207}, {'return_vol_16H': 0.024162529}, {'volume_vol_30M': 0.019654917}, {'rsi': 0.02508314}, {'threeD_stddev50': 0.025310533}, {'close_diff5': 0.02654282}, {'range_vol10MA': 0.02514562}, {'SPY_5D': 0.02694215}, {'daily_vol_diff': 0.044458963}, {'SPY_diff3': 0.024107477}, {'volume_vol_5D': 0.022314785}, {'rsi3': 0.030444337}, {'volume_25DDiff': 0.022510035}, {'price7': 0.024358438}]\"}\n",
      "{'deployment_date': datetime.datetime(2022, 12, 12, 0, 0), 'dataset_end': datetime.datetime(2022, 12, 2, 0, 0), 'dataset_start': datetime.datetime(2018, 1, 1, 0, 0)}\n"
     ]
    },
    {
     "name": "stderr",
     "output_type": "stream",
     "text": [
      "/var/folders/tq/_9q_lv1s2bndbr3tzzn08x4r0000gn/T/ipykernel_59883/3784404324.py:66: DtypeWarning: Columns (109,110) have mixed types. Specify dtype option on import or set low_memory=False.\n",
      "  data = pd.read_csv(f'/Users/charlesmiller/Documents/model_tester_data/CDLOSE/2018-01-01_2023-12-23_validationTR15.csv')\n"
     ]
    },
    {
     "name": "stdout",
     "output_type": "stream",
     "text": [
      "label\n",
      "1    61183\n",
      "0    50253\n",
      "Name: count, dtype: int64\n",
      "211 102 58 79\n",
      "{'model_name': 'CDLOSE_1d:TSSIM1_TL15-EXP_custHypTP0.55', 'deployment_date': '2022-12-12', 'algorithm_type': 'xgboost', 'dataset': 'TSSIM1_TL15-EXP_custHypTP0.55', 'TP': 211, 'TPpct': Decimal('0'), 'FP': 102, 'FPpct': Decimal('0'), 'TN': 58, 'TNpct': Decimal('0'), 'FN': 79, 'FNpct': Decimal('0'), 'precision_ratio': Decimal('2.0686274509803924'), 'evaluation_timeperiod': '2022-12-12_2022-12-16', 'live': False, 'hyperparameters': {\"{'subsample': 0.6, 'num_round': 1000, 'min_child_weight': 10, 'max_depth': 10, 'learning_rate': 0.1, 'gamma': 2, 'colsample_bytree': 1}\"}, 'features': {\"['SPY_diff', 'day_of_week', 'return_vol_5D', 'hour_volume_vol_diff', 'return_vol_240M', 'volume_vol_8H', 'range_vol_diff5', 'return_vol_30M', 'daily_volume_vol_diff30', 'close_diff', 'volume_vol_15M', 'return_vol_10D', 'daily_vol_diff_pct', 'daily_volume_vol_diff_pct30', 'range_vol5MA', 'cmf', 'return_vol_450M', 'hour_volume_vol_diff_pct', 'min_vol_diff', 'price_25DDiff', 'return_vol_3D', 'daily_vol_diff_pct30', 'volume_vol_3D', 'volume_vol_450M', 'close_diff_deviation', 'return_vol_30D', 'close_diff_deviation3', 'return_vol_16H', 'volume_vol_30M', 'rsi', 'threeD_stddev50', 'close_diff5', 'range_vol10MA', 'SPY_5D', 'daily_vol_diff', 'SPY_diff3', 'volume_vol_5D', 'rsi3', 'volume_25DDiff', 'price7']\"}, 'target': '-0.793+one_min_vol', 'feature_importances': \"[{'SPY_diff': 0.024360107}, {'day_of_week': 0.027905116}, {'return_vol_5D': 0.024374787}, {'hour_volume_vol_diff': 0.021853646}, {'return_vol_240M': 0.024970025}, {'volume_vol_8H': 0.022016132}, {'range_vol_diff5': 0.024656245}, {'return_vol_30M': 0.02667999}, {'daily_volume_vol_diff30': 0.022873532}, {'close_diff': 0.025458401}, {'volume_vol_15M': 0.019917356}, {'return_vol_10D': 0.028114198}, {'daily_vol_diff_pct': 0.029259156}, {'daily_volume_vol_diff_pct30': 0.023710517}, {'range_vol5MA': 0.024756651}, {'cmf': 0.023269728}, {'return_vol_450M': 0.025910284}, {'hour_volume_vol_diff_pct': 0.023300916}, {'min_vol_diff': 0.021313507}, {'price_25DDiff': 0.024438584}, {'return_vol_3D': 0.023637008}, {'daily_vol_diff_pct30': 0.024413139}, {'volume_vol_3D': 0.021984838}, {'volume_vol_450M': 0.022678563}, {'close_diff_deviation': 0.024333172}, {'return_vol_30D': 0.025198117}, {'close_diff_deviation3': 0.026170567}, {'return_vol_16H': 0.023204211}, {'volume_vol_30M': 0.020792412}, {'rsi': 0.024581451}, {'threeD_stddev50': 0.026172742}, {'close_diff5': 0.025292313}, {'range_vol10MA': 0.025193704}, {'SPY_5D': 0.027149785}, {'daily_vol_diff': 0.047429238}, {'SPY_diff3': 0.023787534}, {'volume_vol_5D': 0.021765001}, {'rsi3': 0.030852161}, {'volume_25DDiff': 0.022660282}, {'price7': 0.023564901}]\"}\n",
      "{'deployment_date': datetime.datetime(2022, 12, 19, 0, 0), 'dataset_end': datetime.datetime(2022, 12, 9, 0, 0), 'dataset_start': datetime.datetime(2018, 1, 1, 0, 0)}\n"
     ]
    },
    {
     "name": "stderr",
     "output_type": "stream",
     "text": [
      "/var/folders/tq/_9q_lv1s2bndbr3tzzn08x4r0000gn/T/ipykernel_59883/3784404324.py:66: DtypeWarning: Columns (109,110) have mixed types. Specify dtype option on import or set low_memory=False.\n",
      "  data = pd.read_csv(f'/Users/charlesmiller/Documents/model_tester_data/CDLOSE/2018-01-01_2023-12-23_validationTR15.csv')\n"
     ]
    },
    {
     "name": "stdout",
     "output_type": "stream",
     "text": [
      "label\n",
      "1    61430\n",
      "0    50456\n",
      "Name: count, dtype: int64\n",
      "156 113 86 95\n",
      "{'model_name': 'CDLOSE_1d:TSSIM1_TL15-EXP_custHypTP0.55', 'deployment_date': '2022-12-19', 'algorithm_type': 'xgboost', 'dataset': 'TSSIM1_TL15-EXP_custHypTP0.55', 'TP': 156, 'TPpct': Decimal('0'), 'FP': 113, 'FPpct': Decimal('0'), 'TN': 86, 'TNpct': Decimal('0'), 'FN': 95, 'FNpct': Decimal('0'), 'precision_ratio': Decimal('1.3805309734513274'), 'evaluation_timeperiod': '2022-12-19_2022-12-23', 'live': False, 'hyperparameters': {\"{'subsample': 0.6, 'num_round': 1000, 'min_child_weight': 10, 'max_depth': 10, 'learning_rate': 0.1, 'gamma': 2, 'colsample_bytree': 1}\"}, 'features': {\"['SPY_diff', 'day_of_week', 'return_vol_5D', 'hour_volume_vol_diff', 'return_vol_240M', 'volume_vol_8H', 'range_vol_diff5', 'return_vol_30M', 'daily_volume_vol_diff30', 'close_diff', 'volume_vol_15M', 'return_vol_10D', 'daily_vol_diff_pct', 'daily_volume_vol_diff_pct30', 'range_vol5MA', 'cmf', 'return_vol_450M', 'hour_volume_vol_diff_pct', 'min_vol_diff', 'price_25DDiff', 'return_vol_3D', 'daily_vol_diff_pct30', 'volume_vol_3D', 'volume_vol_450M', 'close_diff_deviation', 'return_vol_30D', 'close_diff_deviation3', 'return_vol_16H', 'volume_vol_30M', 'rsi', 'threeD_stddev50', 'close_diff5', 'range_vol10MA', 'SPY_5D', 'daily_vol_diff', 'SPY_diff3', 'volume_vol_5D', 'rsi3', 'volume_25DDiff', 'price7']\"}, 'target': '-0.794+one_min_vol', 'feature_importances': \"[{'SPY_diff': 0.024424613}, {'day_of_week': 0.02904894}, {'return_vol_5D': 0.024381604}, {'hour_volume_vol_diff': 0.021431634}, {'return_vol_240M': 0.02505207}, {'volume_vol_8H': 0.022520352}, {'range_vol_diff5': 0.024684712}, {'return_vol_30M': 0.027385613}, {'daily_volume_vol_diff30': 0.022543117}, {'close_diff': 0.026421305}, {'volume_vol_15M': 0.019656453}, {'return_vol_10D': 0.028019236}, {'daily_vol_diff_pct': 0.028869525}, {'daily_volume_vol_diff_pct30': 0.023310438}, {'range_vol5MA': 0.024533637}, {'cmf': 0.023787469}, {'return_vol_450M': 0.026016092}, {'hour_volume_vol_diff_pct': 0.023546524}, {'min_vol_diff': 0.0215782}, {'price_25DDiff': 0.023290936}, {'return_vol_3D': 0.022352936}, {'daily_vol_diff_pct30': 0.024201425}, {'volume_vol_3D': 0.022187226}, {'volume_vol_450M': 0.022487296}, {'close_diff_deviation': 0.024307756}, {'return_vol_30D': 0.025543252}, {'close_diff_deviation3': 0.025965905}, {'return_vol_16H': 0.023910595}, {'volume_vol_30M': 0.01995627}, {'rsi': 0.024788434}, {'threeD_stddev50': 0.026753874}, {'close_diff5': 0.025401946}, {'range_vol10MA': 0.025257891}, {'SPY_5D': 0.025999283}, {'daily_vol_diff': 0.04752701}, {'SPY_diff3': 0.022911783}, {'volume_vol_5D': 0.022436246}, {'rsi3': 0.031330496}, {'volume_25DDiff': 0.022098418}, {'price7': 0.024079487}]\"}\n",
      "{'deployment_date': datetime.datetime(2022, 12, 26, 0, 0), 'dataset_end': datetime.datetime(2022, 12, 16, 0, 0), 'dataset_start': datetime.datetime(2018, 1, 1, 0, 0)}\n"
     ]
    },
    {
     "name": "stderr",
     "output_type": "stream",
     "text": [
      "/var/folders/tq/_9q_lv1s2bndbr3tzzn08x4r0000gn/T/ipykernel_59883/3784404324.py:66: DtypeWarning: Columns (109,110) have mixed types. Specify dtype option on import or set low_memory=False.\n",
      "  data = pd.read_csv(f'/Users/charlesmiller/Documents/model_tester_data/CDLOSE/2018-01-01_2023-12-23_validationTR15.csv')\n"
     ]
    },
    {
     "name": "stdout",
     "output_type": "stream",
     "text": [
      "label\n",
      "1    61685\n",
      "0    50651\n",
      "Name: count, dtype: int64\n",
      "76 124 89 71\n",
      "{'model_name': 'CDLOSE_1d:TSSIM1_TL15-EXP_custHypTP0.55', 'deployment_date': '2022-12-26', 'algorithm_type': 'xgboost', 'dataset': 'TSSIM1_TL15-EXP_custHypTP0.55', 'TP': 76, 'TPpct': Decimal('0'), 'FP': 124, 'FPpct': Decimal('0'), 'TN': 89, 'TNpct': Decimal('0'), 'FN': 71, 'FNpct': Decimal('0'), 'precision_ratio': Decimal('0.6129032258064516'), 'evaluation_timeperiod': '2022-12-26_2022-12-30', 'live': False, 'hyperparameters': {\"{'subsample': 0.6, 'num_round': 1000, 'min_child_weight': 10, 'max_depth': 10, 'learning_rate': 0.1, 'gamma': 2, 'colsample_bytree': 1}\"}, 'features': {\"['SPY_diff', 'day_of_week', 'return_vol_5D', 'hour_volume_vol_diff', 'return_vol_240M', 'volume_vol_8H', 'range_vol_diff5', 'return_vol_30M', 'daily_volume_vol_diff30', 'close_diff', 'volume_vol_15M', 'return_vol_10D', 'daily_vol_diff_pct', 'daily_volume_vol_diff_pct30', 'range_vol5MA', 'cmf', 'return_vol_450M', 'hour_volume_vol_diff_pct', 'min_vol_diff', 'price_25DDiff', 'return_vol_3D', 'daily_vol_diff_pct30', 'volume_vol_3D', 'volume_vol_450M', 'close_diff_deviation', 'return_vol_30D', 'close_diff_deviation3', 'return_vol_16H', 'volume_vol_30M', 'rsi', 'threeD_stddev50', 'close_diff5', 'range_vol10MA', 'SPY_5D', 'daily_vol_diff', 'SPY_diff3', 'volume_vol_5D', 'rsi3', 'volume_25DDiff', 'price7']\"}, 'target': '-0.795+one_min_vol', 'feature_importances': \"[{'SPY_diff': 0.023949467}, {'day_of_week': 0.027245905}, {'return_vol_5D': 0.024474727}, {'hour_volume_vol_diff': 0.021895539}, {'return_vol_240M': 0.024743153}, {'volume_vol_8H': 0.021816824}, {'range_vol_diff5': 0.023886042}, {'return_vol_30M': 0.028528718}, {'daily_volume_vol_diff30': 0.022396278}, {'close_diff': 0.025016176}, {'volume_vol_15M': 0.019348875}, {'return_vol_10D': 0.027799249}, {'daily_vol_diff_pct': 0.029321682}, {'daily_volume_vol_diff_pct30': 0.023367506}, {'range_vol5MA': 0.024476884}, {'cmf': 0.023372464}, {'return_vol_450M': 0.026003268}, {'hour_volume_vol_diff_pct': 0.02359188}, {'min_vol_diff': 0.021718921}, {'price_25DDiff': 0.023993216}, {'return_vol_3D': 0.02253837}, {'daily_vol_diff_pct30': 0.02496026}, {'volume_vol_3D': 0.0210504}, {'volume_vol_450M': 0.023172485}, {'close_diff_deviation': 0.024702651}, {'return_vol_30D': 0.026022838}, {'close_diff_deviation3': 0.025905043}, {'return_vol_16H': 0.02320107}, {'volume_vol_30M': 0.02085555}, {'rsi': 0.025764875}, {'threeD_stddev50': 0.02599116}, {'close_diff5': 0.024925476}, {'range_vol10MA': 0.0254078}, {'SPY_5D': 0.026569411}, {'daily_vol_diff': 0.048565492}, {'SPY_diff3': 0.023693694}, {'volume_vol_5D': 0.022758672}, {'rsi3': 0.030550804}, {'volume_25DDiff': 0.022427192}, {'price7': 0.02398993}]\"}\n",
      "{'deployment_date': datetime.datetime(2023, 1, 2, 0, 0), 'dataset_end': datetime.datetime(2022, 12, 23, 0, 0), 'dataset_start': datetime.datetime(2018, 1, 1, 0, 0)}\n"
     ]
    },
    {
     "name": "stderr",
     "output_type": "stream",
     "text": [
      "/var/folders/tq/_9q_lv1s2bndbr3tzzn08x4r0000gn/T/ipykernel_59883/3784404324.py:66: DtypeWarning: Columns (109,110) have mixed types. Specify dtype option on import or set low_memory=False.\n",
      "  data = pd.read_csv(f'/Users/charlesmiller/Documents/model_tester_data/CDLOSE/2018-01-01_2023-12-23_validationTR15.csv')\n"
     ]
    },
    {
     "name": "stdout",
     "output_type": "stream",
     "text": [
      "label\n",
      "1    61948\n",
      "0    50838\n",
      "Name: count, dtype: int64\n",
      "156 147 34 23\n",
      "{'model_name': 'CDLOSE_1d:TSSIM1_TL15-EXP_custHypTP0.55', 'deployment_date': '2023-01-02', 'algorithm_type': 'xgboost', 'dataset': 'TSSIM1_TL15-EXP_custHypTP0.55', 'TP': 156, 'TPpct': Decimal('0'), 'FP': 147, 'FPpct': Decimal('0'), 'TN': 34, 'TNpct': Decimal('0'), 'FN': 23, 'FNpct': Decimal('0'), 'precision_ratio': Decimal('1.0612244897959184'), 'evaluation_timeperiod': '2023-01-02_2023-01-06', 'live': False, 'hyperparameters': {\"{'subsample': 0.6, 'num_round': 1000, 'min_child_weight': 10, 'max_depth': 10, 'learning_rate': 0.1, 'gamma': 2, 'colsample_bytree': 1}\"}, 'features': {\"['SPY_diff', 'day_of_week', 'return_vol_5D', 'hour_volume_vol_diff', 'return_vol_240M', 'volume_vol_8H', 'range_vol_diff5', 'return_vol_30M', 'daily_volume_vol_diff30', 'close_diff', 'volume_vol_15M', 'return_vol_10D', 'daily_vol_diff_pct', 'daily_volume_vol_diff_pct30', 'range_vol5MA', 'cmf', 'return_vol_450M', 'hour_volume_vol_diff_pct', 'min_vol_diff', 'price_25DDiff', 'return_vol_3D', 'daily_vol_diff_pct30', 'volume_vol_3D', 'volume_vol_450M', 'close_diff_deviation', 'return_vol_30D', 'close_diff_deviation3', 'return_vol_16H', 'volume_vol_30M', 'rsi', 'threeD_stddev50', 'close_diff5', 'range_vol10MA', 'SPY_5D', 'daily_vol_diff', 'SPY_diff3', 'volume_vol_5D', 'rsi3', 'volume_25DDiff', 'price7']\"}, 'target': '-0.794+one_min_vol', 'feature_importances': \"[{'SPY_diff': 0.024461959}, {'day_of_week': 0.028973248}, {'return_vol_5D': 0.02381158}, {'hour_volume_vol_diff': 0.02253777}, {'return_vol_240M': 0.024478802}, {'volume_vol_8H': 0.022410894}, {'range_vol_diff5': 0.024657486}, {'return_vol_30M': 0.027506877}, {'daily_volume_vol_diff30': 0.024029031}, {'close_diff': 0.025160603}, {'volume_vol_15M': 0.019340152}, {'return_vol_10D': 0.02807656}, {'daily_vol_diff_pct': 0.030974938}, {'daily_volume_vol_diff_pct30': 0.022416515}, {'range_vol5MA': 0.024082214}, {'cmf': 0.023150492}, {'return_vol_450M': 0.02638033}, {'hour_volume_vol_diff_pct': 0.023030316}, {'min_vol_diff': 0.022703812}, {'price_25DDiff': 0.023774518}, {'return_vol_3D': 0.022684174}, {'daily_vol_diff_pct30': 0.02438889}, {'volume_vol_3D': 0.022331405}, {'volume_vol_450M': 0.02249891}, {'close_diff_deviation': 0.023858953}, {'return_vol_30D': 0.025830084}, {'close_diff_deviation3': 0.025477987}, {'return_vol_16H': 0.022951553}, {'volume_vol_30M': 0.01933123}, {'rsi': 0.024988204}, {'threeD_stddev50': 0.025795797}, {'close_diff5': 0.024834298}, {'range_vol10MA': 0.024658594}, {'SPY_5D': 0.026774349}, {'daily_vol_diff': 0.04813482}, {'SPY_diff3': 0.023847258}, {'volume_vol_5D': 0.021834314}, {'rsi3': 0.03131666}, {'volume_25DDiff': 0.02245931}, {'price7': 0.02404516}]\"}\n",
      "{'deployment_date': datetime.datetime(2023, 1, 9, 0, 0), 'dataset_end': datetime.datetime(2022, 12, 30, 0, 0), 'dataset_start': datetime.datetime(2018, 1, 1, 0, 0)}\n"
     ]
    },
    {
     "name": "stderr",
     "output_type": "stream",
     "text": [
      "/var/folders/tq/_9q_lv1s2bndbr3tzzn08x4r0000gn/T/ipykernel_59883/3784404324.py:66: DtypeWarning: Columns (109,110) have mixed types. Specify dtype option on import or set low_memory=False.\n",
      "  data = pd.read_csv(f'/Users/charlesmiller/Documents/model_tester_data/CDLOSE/2018-01-01_2023-12-23_validationTR15.csv')\n"
     ]
    },
    {
     "name": "stdout",
     "output_type": "stream",
     "text": [
      "label\n",
      "1    62120\n",
      "0    51026\n",
      "Name: count, dtype: int64\n",
      "105 124 177 44\n",
      "{'model_name': 'CDLOSE_1d:TSSIM1_TL15-EXP_custHypTP0.55', 'deployment_date': '2023-01-09', 'algorithm_type': 'xgboost', 'dataset': 'TSSIM1_TL15-EXP_custHypTP0.55', 'TP': 105, 'TPpct': Decimal('0'), 'FP': 124, 'FPpct': Decimal('0'), 'TN': 177, 'TNpct': Decimal('0'), 'FN': 44, 'FNpct': Decimal('0'), 'precision_ratio': Decimal('0.8467741935483871'), 'evaluation_timeperiod': '2023-01-09_2023-01-13', 'live': False, 'hyperparameters': {\"{'subsample': 0.6, 'num_round': 1000, 'min_child_weight': 10, 'max_depth': 10, 'learning_rate': 0.1, 'gamma': 2, 'colsample_bytree': 1}\"}, 'features': {\"['SPY_diff', 'day_of_week', 'return_vol_5D', 'hour_volume_vol_diff', 'return_vol_240M', 'volume_vol_8H', 'range_vol_diff5', 'return_vol_30M', 'daily_volume_vol_diff30', 'close_diff', 'volume_vol_15M', 'return_vol_10D', 'daily_vol_diff_pct', 'daily_volume_vol_diff_pct30', 'range_vol5MA', 'cmf', 'return_vol_450M', 'hour_volume_vol_diff_pct', 'min_vol_diff', 'price_25DDiff', 'return_vol_3D', 'daily_vol_diff_pct30', 'volume_vol_3D', 'volume_vol_450M', 'close_diff_deviation', 'return_vol_30D', 'close_diff_deviation3', 'return_vol_16H', 'volume_vol_30M', 'rsi', 'threeD_stddev50', 'close_diff5', 'range_vol10MA', 'SPY_5D', 'daily_vol_diff', 'SPY_diff3', 'volume_vol_5D', 'rsi3', 'volume_25DDiff', 'price7']\"}, 'target': '-0.794+one_min_vol', 'feature_importances': \"[{'SPY_diff': 0.023578059}, {'day_of_week': 0.027665935}, {'return_vol_5D': 0.024077674}, {'hour_volume_vol_diff': 0.02202178}, {'return_vol_240M': 0.02481983}, {'volume_vol_8H': 0.022292571}, {'range_vol_diff5': 0.024162037}, {'return_vol_30M': 0.026290914}, {'daily_volume_vol_diff30': 0.023575818}, {'close_diff': 0.025722206}, {'volume_vol_15M': 0.019706562}, {'return_vol_10D': 0.028180659}, {'daily_vol_diff_pct': 0.029842803}, {'daily_volume_vol_diff_pct30': 0.02271845}, {'range_vol5MA': 0.025320334}, {'cmf': 0.022590308}, {'return_vol_450M': 0.026011368}, {'hour_volume_vol_diff_pct': 0.0226801}, {'min_vol_diff': 0.021581572}, {'price_25DDiff': 0.02408185}, {'return_vol_3D': 0.022939561}, {'daily_vol_diff_pct30': 0.024691043}, {'volume_vol_3D': 0.022210104}, {'volume_vol_450M': 0.022836544}, {'close_diff_deviation': 0.024448669}, {'return_vol_30D': 0.025985189}, {'close_diff_deviation3': 0.02584387}, {'return_vol_16H': 0.023565877}, {'volume_vol_30M': 0.01979434}, {'rsi': 0.025007261}, {'threeD_stddev50': 0.026291775}, {'close_diff5': 0.025261357}, {'range_vol10MA': 0.026041316}, {'SPY_5D': 0.026981436}, {'daily_vol_diff': 0.04864928}, {'SPY_diff3': 0.0230051}, {'volume_vol_5D': 0.022234553}, {'rsi3': 0.031130154}, {'volume_25DDiff': 0.022352748}, {'price7': 0.02380901}]\"}\n",
      "{'deployment_date': datetime.datetime(2023, 1, 16, 0, 0), 'dataset_end': datetime.datetime(2023, 1, 6, 0, 0), 'dataset_start': datetime.datetime(2018, 1, 1, 0, 0)}\n"
     ]
    },
    {
     "name": "stderr",
     "output_type": "stream",
     "text": [
      "/var/folders/tq/_9q_lv1s2bndbr3tzzn08x4r0000gn/T/ipykernel_59883/3784404324.py:66: DtypeWarning: Columns (109,110) have mixed types. Specify dtype option on import or set low_memory=False.\n",
      "  data = pd.read_csv(f'/Users/charlesmiller/Documents/model_tester_data/CDLOSE/2018-01-01_2023-12-23_validationTR15.csv')\n"
     ]
    },
    {
     "name": "stdout",
     "output_type": "stream",
     "text": [
      "label\n",
      "1    62335\n",
      "0    51171\n",
      "Name: count, dtype: int64\n",
      "105 104 61 90\n",
      "{'model_name': 'CDLOSE_1d:TSSIM1_TL15-EXP_custHypTP0.55', 'deployment_date': '2023-01-16', 'algorithm_type': 'xgboost', 'dataset': 'TSSIM1_TL15-EXP_custHypTP0.55', 'TP': 105, 'TPpct': Decimal('0'), 'FP': 104, 'FPpct': Decimal('0'), 'TN': 61, 'TNpct': Decimal('0'), 'FN': 90, 'FNpct': Decimal('0'), 'precision_ratio': Decimal('1.0096153846153846'), 'evaluation_timeperiod': '2023-01-16_2023-01-20', 'live': False, 'hyperparameters': {\"{'subsample': 0.6, 'num_round': 1000, 'min_child_weight': 10, 'max_depth': 10, 'learning_rate': 0.1, 'gamma': 2, 'colsample_bytree': 1}\"}, 'features': {\"['SPY_diff', 'day_of_week', 'return_vol_5D', 'hour_volume_vol_diff', 'return_vol_240M', 'volume_vol_8H', 'range_vol_diff5', 'return_vol_30M', 'daily_volume_vol_diff30', 'close_diff', 'volume_vol_15M', 'return_vol_10D', 'daily_vol_diff_pct', 'daily_volume_vol_diff_pct30', 'range_vol5MA', 'cmf', 'return_vol_450M', 'hour_volume_vol_diff_pct', 'min_vol_diff', 'price_25DDiff', 'return_vol_3D', 'daily_vol_diff_pct30', 'volume_vol_3D', 'volume_vol_450M', 'close_diff_deviation', 'return_vol_30D', 'close_diff_deviation3', 'return_vol_16H', 'volume_vol_30M', 'rsi', 'threeD_stddev50', 'close_diff5', 'range_vol10MA', 'SPY_5D', 'daily_vol_diff', 'SPY_diff3', 'volume_vol_5D', 'rsi3', 'volume_25DDiff', 'price7']\"}, 'target': '-0.794+one_min_vol', 'feature_importances': \"[{'SPY_diff': 0.023833448}, {'day_of_week': 0.028242774}, {'return_vol_5D': 0.0252756}, {'hour_volume_vol_diff': 0.022628173}, {'return_vol_240M': 0.024227815}, {'volume_vol_8H': 0.022806237}, {'range_vol_diff5': 0.02407481}, {'return_vol_30M': 0.027211834}, {'daily_volume_vol_diff30': 0.023791427}, {'close_diff': 0.02536083}, {'volume_vol_15M': 0.019642107}, {'return_vol_10D': 0.028122175}, {'daily_vol_diff_pct': 0.02816731}, {'daily_volume_vol_diff_pct30': 0.023700966}, {'range_vol5MA': 0.024958426}, {'cmf': 0.0229691}, {'return_vol_450M': 0.02609943}, {'hour_volume_vol_diff_pct': 0.023621717}, {'min_vol_diff': 0.020928347}, {'price_25DDiff': 0.02371568}, {'return_vol_3D': 0.0232015}, {'daily_vol_diff_pct30': 0.02402765}, {'volume_vol_3D': 0.022606898}, {'volume_vol_450M': 0.022940416}, {'close_diff_deviation': 0.024651261}, {'return_vol_30D': 0.025948051}, {'close_diff_deviation3': 0.025901256}, {'return_vol_16H': 0.023070324}, {'volume_vol_30M': 0.01979619}, {'rsi': 0.02487958}, {'threeD_stddev50': 0.025893988}, {'close_diff5': 0.02542724}, {'range_vol10MA': 0.024934985}, {'SPY_5D': 0.027763786}, {'daily_vol_diff': 0.04654517}, {'SPY_diff3': 0.022415072}, {'volume_vol_5D': 0.022595355}, {'rsi3': 0.030962419}, {'volume_25DDiff': 0.023300225}, {'price7': 0.02376048}]\"}\n",
      "{'deployment_date': datetime.datetime(2023, 1, 23, 0, 0), 'dataset_end': datetime.datetime(2023, 1, 13, 0, 0), 'dataset_start': datetime.datetime(2018, 1, 1, 0, 0)}\n"
     ]
    },
    {
     "name": "stderr",
     "output_type": "stream",
     "text": [
      "/var/folders/tq/_9q_lv1s2bndbr3tzzn08x4r0000gn/T/ipykernel_59883/3784404324.py:66: DtypeWarning: Columns (109,110) have mixed types. Specify dtype option on import or set low_memory=False.\n",
      "  data = pd.read_csv(f'/Users/charlesmiller/Documents/model_tester_data/CDLOSE/2018-01-01_2023-12-23_validationTR15.csv')\n"
     ]
    },
    {
     "name": "stdout",
     "output_type": "stream",
     "text": [
      "label\n",
      "1    62567\n",
      "0    51389\n",
      "Name: count, dtype: int64\n",
      "128 106 105 111\n",
      "{'model_name': 'CDLOSE_1d:TSSIM1_TL15-EXP_custHypTP0.55', 'deployment_date': '2023-01-23', 'algorithm_type': 'xgboost', 'dataset': 'TSSIM1_TL15-EXP_custHypTP0.55', 'TP': 128, 'TPpct': Decimal('0'), 'FP': 106, 'FPpct': Decimal('0'), 'TN': 105, 'TNpct': Decimal('0'), 'FN': 111, 'FNpct': Decimal('0'), 'precision_ratio': Decimal('1.2075471698113207'), 'evaluation_timeperiod': '2023-01-23_2023-01-27', 'live': False, 'hyperparameters': {\"{'subsample': 0.6, 'num_round': 1000, 'min_child_weight': 10, 'max_depth': 10, 'learning_rate': 0.1, 'gamma': 2, 'colsample_bytree': 1}\"}, 'features': {\"['SPY_diff', 'day_of_week', 'return_vol_5D', 'hour_volume_vol_diff', 'return_vol_240M', 'volume_vol_8H', 'range_vol_diff5', 'return_vol_30M', 'daily_volume_vol_diff30', 'close_diff', 'volume_vol_15M', 'return_vol_10D', 'daily_vol_diff_pct', 'daily_volume_vol_diff_pct30', 'range_vol5MA', 'cmf', 'return_vol_450M', 'hour_volume_vol_diff_pct', 'min_vol_diff', 'price_25DDiff', 'return_vol_3D', 'daily_vol_diff_pct30', 'volume_vol_3D', 'volume_vol_450M', 'close_diff_deviation', 'return_vol_30D', 'close_diff_deviation3', 'return_vol_16H', 'volume_vol_30M', 'rsi', 'threeD_stddev50', 'close_diff5', 'range_vol10MA', 'SPY_5D', 'daily_vol_diff', 'SPY_diff3', 'volume_vol_5D', 'rsi3', 'volume_25DDiff', 'price7']\"}, 'target': '-0.793+one_min_vol', 'feature_importances': \"[{'SPY_diff': 0.023506599}, {'day_of_week': 0.02713462}, {'return_vol_5D': 0.024446938}, {'hour_volume_vol_diff': 0.022126112}, {'return_vol_240M': 0.024688562}, {'volume_vol_8H': 0.021823192}, {'range_vol_diff5': 0.024298372}, {'return_vol_30M': 0.027077496}, {'daily_volume_vol_diff30': 0.023234656}, {'close_diff': 0.025663678}, {'volume_vol_15M': 0.019667903}, {'return_vol_10D': 0.028709276}, {'daily_vol_diff_pct': 0.02919978}, {'daily_volume_vol_diff_pct30': 0.023583498}, {'range_vol5MA': 0.0246691}, {'cmf': 0.022646263}, {'return_vol_450M': 0.026190143}, {'hour_volume_vol_diff_pct': 0.023321828}, {'min_vol_diff': 0.020726118}, {'price_25DDiff': 0.024573281}, {'return_vol_3D': 0.022767145}, {'daily_vol_diff_pct30': 0.024695704}, {'volume_vol_3D': 0.022746075}, {'volume_vol_450M': 0.022752956}, {'close_diff_deviation': 0.024359599}, {'return_vol_30D': 0.026075423}, {'close_diff_deviation3': 0.026870685}, {'return_vol_16H': 0.023664003}, {'volume_vol_30M': 0.019704016}, {'rsi': 0.025079895}, {'threeD_stddev50': 0.025742818}, {'close_diff5': 0.025581915}, {'range_vol10MA': 0.02566934}, {'SPY_5D': 0.027423223}, {'daily_vol_diff': 0.046545986}, {'SPY_diff3': 0.023078928}, {'volume_vol_5D': 0.022721207}, {'rsi3': 0.03067097}, {'volume_25DDiff': 0.022770276}, {'price7': 0.023792453}]\"}\n",
      "{'deployment_date': datetime.datetime(2023, 1, 30, 0, 0), 'dataset_end': datetime.datetime(2023, 1, 20, 0, 0), 'dataset_start': datetime.datetime(2018, 1, 1, 0, 0)}\n"
     ]
    },
    {
     "name": "stderr",
     "output_type": "stream",
     "text": [
      "/var/folders/tq/_9q_lv1s2bndbr3tzzn08x4r0000gn/T/ipykernel_59883/3784404324.py:66: DtypeWarning: Columns (109,110) have mixed types. Specify dtype option on import or set low_memory=False.\n",
      "  data = pd.read_csv(f'/Users/charlesmiller/Documents/model_tester_data/CDLOSE/2018-01-01_2023-12-23_validationTR15.csv')\n"
     ]
    },
    {
     "name": "stdout",
     "output_type": "stream",
     "text": [
      "label\n",
      "1    62795\n",
      "0    51521\n",
      "Name: count, dtype: int64\n",
      "167 143 78 62\n",
      "{'model_name': 'CDLOSE_1d:TSSIM1_TL15-EXP_custHypTP0.55', 'deployment_date': '2023-01-30', 'algorithm_type': 'xgboost', 'dataset': 'TSSIM1_TL15-EXP_custHypTP0.55', 'TP': 167, 'TPpct': Decimal('0'), 'FP': 143, 'FPpct': Decimal('0'), 'TN': 78, 'TNpct': Decimal('0'), 'FN': 62, 'FNpct': Decimal('0'), 'precision_ratio': Decimal('1.167832167832168'), 'evaluation_timeperiod': '2023-01-30_2023-02-03', 'live': False, 'hyperparameters': {\"{'subsample': 0.6, 'num_round': 1000, 'min_child_weight': 10, 'max_depth': 10, 'learning_rate': 0.1, 'gamma': 2, 'colsample_bytree': 1}\"}, 'features': {\"['SPY_diff', 'day_of_week', 'return_vol_5D', 'hour_volume_vol_diff', 'return_vol_240M', 'volume_vol_8H', 'range_vol_diff5', 'return_vol_30M', 'daily_volume_vol_diff30', 'close_diff', 'volume_vol_15M', 'return_vol_10D', 'daily_vol_diff_pct', 'daily_volume_vol_diff_pct30', 'range_vol5MA', 'cmf', 'return_vol_450M', 'hour_volume_vol_diff_pct', 'min_vol_diff', 'price_25DDiff', 'return_vol_3D', 'daily_vol_diff_pct30', 'volume_vol_3D', 'volume_vol_450M', 'close_diff_deviation', 'return_vol_30D', 'close_diff_deviation3', 'return_vol_16H', 'volume_vol_30M', 'rsi', 'threeD_stddev50', 'close_diff5', 'range_vol10MA', 'SPY_5D', 'daily_vol_diff', 'SPY_diff3', 'volume_vol_5D', 'rsi3', 'volume_25DDiff', 'price7']\"}, 'target': '-0.793+one_min_vol', 'feature_importances': \"[{'SPY_diff': 0.02376284}, {'day_of_week': 0.028159086}, {'return_vol_5D': 0.024072539}, {'hour_volume_vol_diff': 0.02242018}, {'return_vol_240M': 0.02540157}, {'volume_vol_8H': 0.022366645}, {'range_vol_diff5': 0.02427683}, {'return_vol_30M': 0.02817027}, {'daily_volume_vol_diff30': 0.02252585}, {'close_diff': 0.02602859}, {'volume_vol_15M': 0.019231921}, {'return_vol_10D': 0.0294194}, {'daily_vol_diff_pct': 0.029520126}, {'daily_volume_vol_diff_pct30': 0.023497723}, {'range_vol5MA': 0.024966702}, {'cmf': 0.023446964}, {'return_vol_450M': 0.026641523}, {'hour_volume_vol_diff_pct': 0.02360778}, {'min_vol_diff': 0.020990632}, {'price_25DDiff': 0.023863198}, {'return_vol_3D': 0.023091562}, {'daily_vol_diff_pct30': 0.025116768}, {'volume_vol_3D': 0.022355488}, {'volume_vol_450M': 0.02303976}, {'close_diff_deviation': 0.024766559}, {'return_vol_30D': 0.025134727}, {'close_diff_deviation3': 0.025971632}, {'return_vol_16H': 0.022917228}, {'volume_vol_30M': 0.019976689}, {'rsi': 0.0252424}, {'threeD_stddev50': 0.025094926}, {'close_diff5': 0.025632938}, {'range_vol10MA': 0.02586429}, {'SPY_5D': 0.026941227}, {'daily_vol_diff': 0.04447814}, {'SPY_diff3': 0.023073956}, {'volume_vol_5D': 0.021825943}, {'rsi3': 0.030748257}, {'volume_25DDiff': 0.022794468}, {'price7': 0.023562726}]\"}\n",
      "{'deployment_date': datetime.datetime(2023, 2, 6, 0, 0), 'dataset_end': datetime.datetime(2023, 1, 27, 0, 0), 'dataset_start': datetime.datetime(2018, 1, 1, 0, 0)}\n"
     ]
    },
    {
     "name": "stderr",
     "output_type": "stream",
     "text": [
      "/var/folders/tq/_9q_lv1s2bndbr3tzzn08x4r0000gn/T/ipykernel_59883/3784404324.py:66: DtypeWarning: Columns (109,110) have mixed types. Specify dtype option on import or set low_memory=False.\n",
      "  data = pd.read_csv(f'/Users/charlesmiller/Documents/model_tester_data/CDLOSE/2018-01-01_2023-12-23_validationTR15.csv')\n"
     ]
    },
    {
     "name": "stdout",
     "output_type": "stream",
     "text": [
      "label\n",
      "1    63036\n",
      "0    51730\n",
      "Name: count, dtype: int64\n",
      "155 116 89 90\n",
      "{'model_name': 'CDLOSE_1d:TSSIM1_TL15-EXP_custHypTP0.55', 'deployment_date': '2023-02-06', 'algorithm_type': 'xgboost', 'dataset': 'TSSIM1_TL15-EXP_custHypTP0.55', 'TP': 155, 'TPpct': Decimal('0'), 'FP': 116, 'FPpct': Decimal('0'), 'TN': 89, 'TNpct': Decimal('0'), 'FN': 90, 'FNpct': Decimal('0'), 'precision_ratio': Decimal('1.3362068965517242'), 'evaluation_timeperiod': '2023-02-06_2023-02-10', 'live': False, 'hyperparameters': {\"{'subsample': 0.6, 'num_round': 1000, 'min_child_weight': 10, 'max_depth': 10, 'learning_rate': 0.1, 'gamma': 2, 'colsample_bytree': 1}\"}, 'features': {\"['SPY_diff', 'day_of_week', 'return_vol_5D', 'hour_volume_vol_diff', 'return_vol_240M', 'volume_vol_8H', 'range_vol_diff5', 'return_vol_30M', 'daily_volume_vol_diff30', 'close_diff', 'volume_vol_15M', 'return_vol_10D', 'daily_vol_diff_pct', 'daily_volume_vol_diff_pct30', 'range_vol5MA', 'cmf', 'return_vol_450M', 'hour_volume_vol_diff_pct', 'min_vol_diff', 'price_25DDiff', 'return_vol_3D', 'daily_vol_diff_pct30', 'volume_vol_3D', 'volume_vol_450M', 'close_diff_deviation', 'return_vol_30D', 'close_diff_deviation3', 'return_vol_16H', 'volume_vol_30M', 'rsi', 'threeD_stddev50', 'close_diff5', 'range_vol10MA', 'SPY_5D', 'daily_vol_diff', 'SPY_diff3', 'volume_vol_5D', 'rsi3', 'volume_25DDiff', 'price7']\"}, 'target': '-0.793+one_min_vol', 'feature_importances': \"[{'SPY_diff': 0.02396914}, {'day_of_week': 0.028724596}, {'return_vol_5D': 0.02457958}, {'hour_volume_vol_diff': 0.023139574}, {'return_vol_240M': 0.024624368}, {'volume_vol_8H': 0.021847855}, {'range_vol_diff5': 0.0242974}, {'return_vol_30M': 0.027343355}, {'daily_volume_vol_diff30': 0.023057653}, {'close_diff': 0.026019989}, {'volume_vol_15M': 0.019336214}, {'return_vol_10D': 0.028193144}, {'daily_vol_diff_pct': 0.030450495}, {'daily_volume_vol_diff_pct30': 0.022758095}, {'range_vol5MA': 0.025388522}, {'cmf': 0.023258423}, {'return_vol_450M': 0.026435817}, {'hour_volume_vol_diff_pct': 0.022922462}, {'min_vol_diff': 0.021647459}, {'price_25DDiff': 0.02333667}, {'return_vol_3D': 0.023829218}, {'daily_vol_diff_pct30': 0.024650874}, {'volume_vol_3D': 0.02238363}, {'volume_vol_450M': 0.022759655}, {'close_diff_deviation': 0.024365198}, {'return_vol_30D': 0.025732692}, {'close_diff_deviation3': 0.025544047}, {'return_vol_16H': 0.022758897}, {'volume_vol_30M': 0.020428928}, {'rsi': 0.024228662}, {'threeD_stddev50': 0.02482997}, {'close_diff5': 0.025039252}, {'range_vol10MA': 0.025746215}, {'SPY_5D': 0.026777329}, {'daily_vol_diff': 0.04694672}, {'SPY_diff3': 0.02360014}, {'volume_vol_5D': 0.021941682}, {'rsi3': 0.030898383}, {'volume_25DDiff': 0.022051303}, {'price7': 0.02415634}]\"}\n",
      "{'deployment_date': datetime.datetime(2023, 2, 13, 0, 0), 'dataset_end': datetime.datetime(2023, 2, 3, 0, 0), 'dataset_start': datetime.datetime(2018, 1, 1, 0, 0)}\n"
     ]
    },
    {
     "name": "stderr",
     "output_type": "stream",
     "text": [
      "/var/folders/tq/_9q_lv1s2bndbr3tzzn08x4r0000gn/T/ipykernel_59883/3784404324.py:66: DtypeWarning: Columns (109,110) have mixed types. Specify dtype option on import or set low_memory=False.\n",
      "  data = pd.read_csv(f'/Users/charlesmiller/Documents/model_tester_data/CDLOSE/2018-01-01_2023-12-23_validationTR15.csv')\n"
     ]
    },
    {
     "name": "stdout",
     "output_type": "stream",
     "text": [
      "label\n",
      "1    63265\n",
      "0    51951\n",
      "Name: count, dtype: int64\n",
      "134 109 93 114\n",
      "{'model_name': 'CDLOSE_1d:TSSIM1_TL15-EXP_custHypTP0.55', 'deployment_date': '2023-02-13', 'algorithm_type': 'xgboost', 'dataset': 'TSSIM1_TL15-EXP_custHypTP0.55', 'TP': 134, 'TPpct': Decimal('0'), 'FP': 109, 'FPpct': Decimal('0'), 'TN': 93, 'TNpct': Decimal('0'), 'FN': 114, 'FNpct': Decimal('0'), 'precision_ratio': Decimal('1.2293577981651376'), 'evaluation_timeperiod': '2023-02-13_2023-02-17', 'live': False, 'hyperparameters': {\"{'subsample': 0.6, 'num_round': 1000, 'min_child_weight': 10, 'max_depth': 10, 'learning_rate': 0.1, 'gamma': 2, 'colsample_bytree': 1}\"}, 'features': {\"['SPY_diff', 'day_of_week', 'return_vol_5D', 'hour_volume_vol_diff', 'return_vol_240M', 'volume_vol_8H', 'range_vol_diff5', 'return_vol_30M', 'daily_volume_vol_diff30', 'close_diff', 'volume_vol_15M', 'return_vol_10D', 'daily_vol_diff_pct', 'daily_volume_vol_diff_pct30', 'range_vol5MA', 'cmf', 'return_vol_450M', 'hour_volume_vol_diff_pct', 'min_vol_diff', 'price_25DDiff', 'return_vol_3D', 'daily_vol_diff_pct30', 'volume_vol_3D', 'volume_vol_450M', 'close_diff_deviation', 'return_vol_30D', 'close_diff_deviation3', 'return_vol_16H', 'volume_vol_30M', 'rsi', 'threeD_stddev50', 'close_diff5', 'range_vol10MA', 'SPY_5D', 'daily_vol_diff', 'SPY_diff3', 'volume_vol_5D', 'rsi3', 'volume_25DDiff', 'price7']\"}, 'target': '-0.794+one_min_vol', 'feature_importances': \"[{'SPY_diff': 0.023831155}, {'day_of_week': 0.02863201}, {'return_vol_5D': 0.024780309}, {'hour_volume_vol_diff': 0.022694372}, {'return_vol_240M': 0.02505776}, {'volume_vol_8H': 0.022035683}, {'range_vol_diff5': 0.023764545}, {'return_vol_30M': 0.027992714}, {'daily_volume_vol_diff30': 0.023635792}, {'close_diff': 0.025429469}, {'volume_vol_15M': 0.019576808}, {'return_vol_10D': 0.028734406}, {'daily_vol_diff_pct': 0.028514698}, {'daily_volume_vol_diff_pct30': 0.022565339}, {'range_vol5MA': 0.025296105}, {'cmf': 0.023099307}, {'return_vol_450M': 0.026496729}, {'hour_volume_vol_diff_pct': 0.023029445}, {'min_vol_diff': 0.0209065}, {'price_25DDiff': 0.023599477}, {'return_vol_3D': 0.024302464}, {'daily_vol_diff_pct30': 0.023575295}, {'volume_vol_3D': 0.022209173}, {'volume_vol_450M': 0.022410804}, {'close_diff_deviation': 0.025015218}, {'return_vol_30D': 0.024867281}, {'close_diff_deviation3': 0.026403012}, {'return_vol_16H': 0.023202153}, {'volume_vol_30M': 0.020322237}, {'rsi': 0.024963243}, {'threeD_stddev50': 0.025788117}, {'close_diff5': 0.026169425}, {'range_vol10MA': 0.025468916}, {'SPY_5D': 0.026889438}, {'daily_vol_diff': 0.04758091}, {'SPY_diff3': 0.022766009}, {'volume_vol_5D': 0.021559991}, {'rsi3': 0.030596297}, {'volume_25DDiff': 0.022859706}, {'price7': 0.0233777}]\"}\n",
      "{'deployment_date': datetime.datetime(2023, 2, 20, 0, 0), 'dataset_end': datetime.datetime(2023, 2, 10, 0, 0), 'dataset_start': datetime.datetime(2018, 1, 1, 0, 0)}\n"
     ]
    },
    {
     "name": "stderr",
     "output_type": "stream",
     "text": [
      "/var/folders/tq/_9q_lv1s2bndbr3tzzn08x4r0000gn/T/ipykernel_59883/3784404324.py:66: DtypeWarning: Columns (109,110) have mixed types. Specify dtype option on import or set low_memory=False.\n",
      "  data = pd.read_csv(f'/Users/charlesmiller/Documents/model_tester_data/CDLOSE/2018-01-01_2023-12-23_validationTR15.csv')\n"
     ]
    },
    {
     "name": "stdout",
     "output_type": "stream",
     "text": [
      "label\n",
      "1    63540\n",
      "0    52126\n",
      "Name: count, dtype: int64\n",
      "149 100 52 59\n",
      "{'model_name': 'CDLOSE_1d:TSSIM1_TL15-EXP_custHypTP0.55', 'deployment_date': '2023-02-20', 'algorithm_type': 'xgboost', 'dataset': 'TSSIM1_TL15-EXP_custHypTP0.55', 'TP': 149, 'TPpct': Decimal('0'), 'FP': 100, 'FPpct': Decimal('0'), 'TN': 52, 'TNpct': Decimal('0'), 'FN': 59, 'FNpct': Decimal('0'), 'precision_ratio': Decimal('1.49'), 'evaluation_timeperiod': '2023-02-20_2023-02-24', 'live': False, 'hyperparameters': {\"{'subsample': 0.6, 'num_round': 1000, 'min_child_weight': 10, 'max_depth': 10, 'learning_rate': 0.1, 'gamma': 2, 'colsample_bytree': 1}\"}, 'features': {\"['SPY_diff', 'day_of_week', 'return_vol_5D', 'hour_volume_vol_diff', 'return_vol_240M', 'volume_vol_8H', 'range_vol_diff5', 'return_vol_30M', 'daily_volume_vol_diff30', 'close_diff', 'volume_vol_15M', 'return_vol_10D', 'daily_vol_diff_pct', 'daily_volume_vol_diff_pct30', 'range_vol5MA', 'cmf', 'return_vol_450M', 'hour_volume_vol_diff_pct', 'min_vol_diff', 'price_25DDiff', 'return_vol_3D', 'daily_vol_diff_pct30', 'volume_vol_3D', 'volume_vol_450M', 'close_diff_deviation', 'return_vol_30D', 'close_diff_deviation3', 'return_vol_16H', 'volume_vol_30M', 'rsi', 'threeD_stddev50', 'close_diff5', 'range_vol10MA', 'SPY_5D', 'daily_vol_diff', 'SPY_diff3', 'volume_vol_5D', 'rsi3', 'volume_25DDiff', 'price7']\"}, 'target': '-0.793+one_min_vol', 'feature_importances': \"[{'SPY_diff': 0.023963101}, {'day_of_week': 0.028548837}, {'return_vol_5D': 0.024632141}, {'hour_volume_vol_diff': 0.022072705}, {'return_vol_240M': 0.025113115}, {'volume_vol_8H': 0.022588914}, {'range_vol_diff5': 0.023625262}, {'return_vol_30M': 0.027698161}, {'daily_volume_vol_diff30': 0.023607261}, {'close_diff': 0.025167512}, {'volume_vol_15M': 0.019023057}, {'return_vol_10D': 0.02821381}, {'daily_vol_diff_pct': 0.029512113}, {'daily_volume_vol_diff_pct30': 0.024231935}, {'range_vol5MA': 0.025235726}, {'cmf': 0.023583384}, {'return_vol_450M': 0.026650889}, {'hour_volume_vol_diff_pct': 0.023048023}, {'min_vol_diff': 0.021357412}, {'price_25DDiff': 0.02461097}, {'return_vol_3D': 0.022594476}, {'daily_vol_diff_pct30': 0.024482854}, {'volume_vol_3D': 0.02167292}, {'volume_vol_450M': 0.023014694}, {'close_diff_deviation': 0.02428684}, {'return_vol_30D': 0.025873464}, {'close_diff_deviation3': 0.025896275}, {'return_vol_16H': 0.022414884}, {'volume_vol_30M': 0.019946149}, {'rsi': 0.024756301}, {'threeD_stddev50': 0.026599636}, {'close_diff5': 0.024912955}, {'range_vol10MA': 0.024969384}, {'SPY_5D': 0.026382783}, {'daily_vol_diff': 0.04647986}, {'SPY_diff3': 0.02318342}, {'volume_vol_5D': 0.0217851}, {'rsi3': 0.031307817}, {'volume_25DDiff': 0.023383971}, {'price7': 0.023571849}]\"}\n",
      "{'deployment_date': datetime.datetime(2023, 2, 27, 0, 0), 'dataset_end': datetime.datetime(2023, 2, 17, 0, 0), 'dataset_start': datetime.datetime(2018, 1, 1, 0, 0)}\n"
     ]
    },
    {
     "name": "stderr",
     "output_type": "stream",
     "text": [
      "/var/folders/tq/_9q_lv1s2bndbr3tzzn08x4r0000gn/T/ipykernel_59883/3784404324.py:66: DtypeWarning: Columns (109,110) have mixed types. Specify dtype option on import or set low_memory=False.\n",
      "  data = pd.read_csv(f'/Users/charlesmiller/Documents/model_tester_data/CDLOSE/2018-01-01_2023-12-23_validationTR15.csv')\n"
     ]
    },
    {
     "name": "stdout",
     "output_type": "stream",
     "text": [
      "label\n",
      "1    63765\n",
      "0    52351\n",
      "Name: count, dtype: int64\n",
      "144 160 93 53\n",
      "{'model_name': 'CDLOSE_1d:TSSIM1_TL15-EXP_custHypTP0.55', 'deployment_date': '2023-02-27', 'algorithm_type': 'xgboost', 'dataset': 'TSSIM1_TL15-EXP_custHypTP0.55', 'TP': 144, 'TPpct': Decimal('0'), 'FP': 160, 'FPpct': Decimal('0'), 'TN': 93, 'TNpct': Decimal('0'), 'FN': 53, 'FNpct': Decimal('0'), 'precision_ratio': Decimal('0.9'), 'evaluation_timeperiod': '2023-02-27_2023-03-03', 'live': False, 'hyperparameters': {\"{'subsample': 0.6, 'num_round': 1000, 'min_child_weight': 10, 'max_depth': 10, 'learning_rate': 0.1, 'gamma': 2, 'colsample_bytree': 1}\"}, 'features': {\"['SPY_diff', 'day_of_week', 'return_vol_5D', 'hour_volume_vol_diff', 'return_vol_240M', 'volume_vol_8H', 'range_vol_diff5', 'return_vol_30M', 'daily_volume_vol_diff30', 'close_diff', 'volume_vol_15M', 'return_vol_10D', 'daily_vol_diff_pct', 'daily_volume_vol_diff_pct30', 'range_vol5MA', 'cmf', 'return_vol_450M', 'hour_volume_vol_diff_pct', 'min_vol_diff', 'price_25DDiff', 'return_vol_3D', 'daily_vol_diff_pct30', 'volume_vol_3D', 'volume_vol_450M', 'close_diff_deviation', 'return_vol_30D', 'close_diff_deviation3', 'return_vol_16H', 'volume_vol_30M', 'rsi', 'threeD_stddev50', 'close_diff5', 'range_vol10MA', 'SPY_5D', 'daily_vol_diff', 'SPY_diff3', 'volume_vol_5D', 'rsi3', 'volume_25DDiff', 'price7']\"}, 'target': '-0.794+one_min_vol', 'feature_importances': \"[{'SPY_diff': 0.024123954}, {'day_of_week': 0.0282163}, {'return_vol_5D': 0.024018873}, {'hour_volume_vol_diff': 0.022639727}, {'return_vol_240M': 0.025114657}, {'volume_vol_8H': 0.021332376}, {'range_vol_diff5': 0.0239164}, {'return_vol_30M': 0.027057815}, {'daily_volume_vol_diff30': 0.023172354}, {'close_diff': 0.02502493}, {'volume_vol_15M': 0.019670017}, {'return_vol_10D': 0.028075652}, {'daily_vol_diff_pct': 0.02994587}, {'daily_volume_vol_diff_pct30': 0.022881685}, {'range_vol5MA': 0.024996692}, {'cmf': 0.02272927}, {'return_vol_450M': 0.026227022}, {'hour_volume_vol_diff_pct': 0.022643518}, {'min_vol_diff': 0.021020107}, {'price_25DDiff': 0.024423443}, {'return_vol_3D': 0.024105927}, {'daily_vol_diff_pct30': 0.024665251}, {'volume_vol_3D': 0.022995517}, {'volume_vol_450M': 0.022462007}, {'close_diff_deviation': 0.025228387}, {'return_vol_30D': 0.025680723}, {'close_diff_deviation3': 0.025770547}, {'return_vol_16H': 0.023479398}, {'volume_vol_30M': 0.020105267}, {'rsi': 0.024444006}, {'threeD_stddev50': 0.025719026}, {'close_diff5': 0.025287125}, {'range_vol10MA': 0.025015881}, {'SPY_5D': 0.02609803}, {'daily_vol_diff': 0.048979208}, {'SPY_diff3': 0.022938065}, {'volume_vol_5D': 0.022263024}, {'rsi3': 0.030641}, {'volume_25DDiff': 0.023108236}, {'price7': 0.023782685}]\"}\n",
      "{'deployment_date': datetime.datetime(2023, 3, 6, 0, 0), 'dataset_end': datetime.datetime(2023, 2, 24, 0, 0), 'dataset_start': datetime.datetime(2018, 1, 1, 0, 0)}\n"
     ]
    },
    {
     "name": "stderr",
     "output_type": "stream",
     "text": [
      "/var/folders/tq/_9q_lv1s2bndbr3tzzn08x4r0000gn/T/ipykernel_59883/3784404324.py:66: DtypeWarning: Columns (109,110) have mixed types. Specify dtype option on import or set low_memory=False.\n",
      "  data = pd.read_csv(f'/Users/charlesmiller/Documents/model_tester_data/CDLOSE/2018-01-01_2023-12-23_validationTR15.csv')\n"
     ]
    },
    {
     "name": "stdout",
     "output_type": "stream",
     "text": [
      "label\n",
      "1    63981\n",
      "0    52495\n",
      "Name: count, dtype: int64\n",
      "304 17 27 102\n",
      "{'model_name': 'CDLOSE_1d:TSSIM1_TL15-EXP_custHypTP0.55', 'deployment_date': '2023-03-06', 'algorithm_type': 'xgboost', 'dataset': 'TSSIM1_TL15-EXP_custHypTP0.55', 'TP': 304, 'TPpct': Decimal('0'), 'FP': 17, 'FPpct': Decimal('0'), 'TN': 27, 'TNpct': Decimal('0'), 'FN': 102, 'FNpct': Decimal('0'), 'precision_ratio': Decimal('17.88235294117647'), 'evaluation_timeperiod': '2023-03-06_2023-03-10', 'live': False, 'hyperparameters': {\"{'subsample': 0.6, 'num_round': 1000, 'min_child_weight': 10, 'max_depth': 10, 'learning_rate': 0.1, 'gamma': 2, 'colsample_bytree': 1}\"}, 'features': {\"['SPY_diff', 'day_of_week', 'return_vol_5D', 'hour_volume_vol_diff', 'return_vol_240M', 'volume_vol_8H', 'range_vol_diff5', 'return_vol_30M', 'daily_volume_vol_diff30', 'close_diff', 'volume_vol_15M', 'return_vol_10D', 'daily_vol_diff_pct', 'daily_volume_vol_diff_pct30', 'range_vol5MA', 'cmf', 'return_vol_450M', 'hour_volume_vol_diff_pct', 'min_vol_diff', 'price_25DDiff', 'return_vol_3D', 'daily_vol_diff_pct30', 'volume_vol_3D', 'volume_vol_450M', 'close_diff_deviation', 'return_vol_30D', 'close_diff_deviation3', 'return_vol_16H', 'volume_vol_30M', 'rsi', 'threeD_stddev50', 'close_diff5', 'range_vol10MA', 'SPY_5D', 'daily_vol_diff', 'SPY_diff3', 'volume_vol_5D', 'rsi3', 'volume_25DDiff', 'price7']\"}, 'target': '-0.794+one_min_vol', 'feature_importances': \"[{'SPY_diff': 0.02384661}, {'day_of_week': 0.02894313}, {'return_vol_5D': 0.024480503}, {'hour_volume_vol_diff': 0.02274788}, {'return_vol_240M': 0.025133517}, {'volume_vol_8H': 0.021611912}, {'range_vol_diff5': 0.024451656}, {'return_vol_30M': 0.026530176}, {'daily_volume_vol_diff30': 0.023092018}, {'close_diff': 0.025130047}, {'volume_vol_15M': 0.019694388}, {'return_vol_10D': 0.029173654}, {'daily_vol_diff_pct': 0.030217186}, {'daily_volume_vol_diff_pct30': 0.023263998}, {'range_vol5MA': 0.025158884}, {'cmf': 0.023379127}, {'return_vol_450M': 0.026012428}, {'hour_volume_vol_diff_pct': 0.02282767}, {'min_vol_diff': 0.02111213}, {'price_25DDiff': 0.024377858}, {'return_vol_3D': 0.021797866}, {'daily_vol_diff_pct30': 0.02406917}, {'volume_vol_3D': 0.023003587}, {'volume_vol_450M': 0.022674741}, {'close_diff_deviation': 0.02518066}, {'return_vol_30D': 0.026011383}, {'close_diff_deviation3': 0.025666522}, {'return_vol_16H': 0.022645421}, {'volume_vol_30M': 0.019897537}, {'rsi': 0.024463706}, {'threeD_stddev50': 0.025981873}, {'close_diff5': 0.025421245}, {'range_vol10MA': 0.0255707}, {'SPY_5D': 0.027319433}, {'daily_vol_diff': 0.045887556}, {'SPY_diff3': 0.022882689}, {'volume_vol_5D': 0.022335926}, {'rsi3': 0.031053765}, {'volume_25DDiff': 0.022433614}, {'price7': 0.02451779}]\"}\n",
      "{'deployment_date': datetime.datetime(2023, 3, 13, 0, 0), 'dataset_end': datetime.datetime(2023, 3, 3, 0, 0), 'dataset_start': datetime.datetime(2018, 1, 1, 0, 0)}\n"
     ]
    },
    {
     "name": "stderr",
     "output_type": "stream",
     "text": [
      "/var/folders/tq/_9q_lv1s2bndbr3tzzn08x4r0000gn/T/ipykernel_59883/3784404324.py:66: DtypeWarning: Columns (109,110) have mixed types. Specify dtype option on import or set low_memory=False.\n",
      "  data = pd.read_csv(f'/Users/charlesmiller/Documents/model_tester_data/CDLOSE/2018-01-01_2023-12-23_validationTR15.csv')\n"
     ]
    },
    {
     "name": "stdout",
     "output_type": "stream",
     "text": [
      "label\n",
      "1    64213\n",
      "0    52713\n",
      "Name: count, dtype: int64\n",
      "207 131 71 41\n",
      "{'model_name': 'CDLOSE_1d:TSSIM1_TL15-EXP_custHypTP0.55', 'deployment_date': '2023-03-13', 'algorithm_type': 'xgboost', 'dataset': 'TSSIM1_TL15-EXP_custHypTP0.55', 'TP': 207, 'TPpct': Decimal('0'), 'FP': 131, 'FPpct': Decimal('0'), 'TN': 71, 'TNpct': Decimal('0'), 'FN': 41, 'FNpct': Decimal('0'), 'precision_ratio': Decimal('1.5801526717557253'), 'evaluation_timeperiod': '2023-03-13_2023-03-17', 'live': False, 'hyperparameters': {\"{'subsample': 0.6, 'num_round': 1000, 'min_child_weight': 10, 'max_depth': 10, 'learning_rate': 0.1, 'gamma': 2, 'colsample_bytree': 1}\"}, 'features': {\"['SPY_diff', 'day_of_week', 'return_vol_5D', 'hour_volume_vol_diff', 'return_vol_240M', 'volume_vol_8H', 'range_vol_diff5', 'return_vol_30M', 'daily_volume_vol_diff30', 'close_diff', 'volume_vol_15M', 'return_vol_10D', 'daily_vol_diff_pct', 'daily_volume_vol_diff_pct30', 'range_vol5MA', 'cmf', 'return_vol_450M', 'hour_volume_vol_diff_pct', 'min_vol_diff', 'price_25DDiff', 'return_vol_3D', 'daily_vol_diff_pct30', 'volume_vol_3D', 'volume_vol_450M', 'close_diff_deviation', 'return_vol_30D', 'close_diff_deviation3', 'return_vol_16H', 'volume_vol_30M', 'rsi', 'threeD_stddev50', 'close_diff5', 'range_vol10MA', 'SPY_5D', 'daily_vol_diff', 'SPY_diff3', 'volume_vol_5D', 'rsi3', 'volume_25DDiff', 'price7']\"}, 'target': '-0.794+one_min_vol', 'feature_importances': \"[{'SPY_diff': 0.024019502}, {'day_of_week': 0.029342346}, {'return_vol_5D': 0.024110097}, {'hour_volume_vol_diff': 0.022338105}, {'return_vol_240M': 0.024936574}, {'volume_vol_8H': 0.021860212}, {'range_vol_diff5': 0.024167713}, {'return_vol_30M': 0.027424494}, {'daily_volume_vol_diff30': 0.023400828}, {'close_diff': 0.02590684}, {'volume_vol_15M': 0.019909974}, {'return_vol_10D': 0.028930878}, {'daily_vol_diff_pct': 0.02973002}, {'daily_volume_vol_diff_pct30': 0.022894846}, {'range_vol5MA': 0.024289975}, {'cmf': 0.023259275}, {'return_vol_450M': 0.026596785}, {'hour_volume_vol_diff_pct': 0.022904035}, {'min_vol_diff': 0.020674823}, {'price_25DDiff': 0.023737954}, {'return_vol_3D': 0.023656132}, {'daily_vol_diff_pct30': 0.024236092}, {'volume_vol_3D': 0.022908393}, {'volume_vol_450M': 0.023023367}, {'close_diff_deviation': 0.024580145}, {'return_vol_30D': 0.02574411}, {'close_diff_deviation3': 0.026417485}, {'return_vol_16H': 0.023791416}, {'volume_vol_30M': 0.019889772}, {'rsi': 0.024945801}, {'threeD_stddev50': 0.025323313}, {'close_diff5': 0.02508479}, {'range_vol10MA': 0.025460782}, {'SPY_5D': 0.026528088}, {'daily_vol_diff': 0.045528688}, {'SPY_diff3': 0.023418974}, {'volume_vol_5D': 0.021733427}, {'rsi3': 0.030285623}, {'volume_25DDiff': 0.023176221}, {'price7': 0.023832135}]\"}\n",
      "{'deployment_date': datetime.datetime(2023, 3, 20, 0, 0), 'dataset_end': datetime.datetime(2023, 3, 10, 0, 0), 'dataset_start': datetime.datetime(2018, 1, 1, 0, 0)}\n"
     ]
    },
    {
     "name": "stderr",
     "output_type": "stream",
     "text": [
      "/var/folders/tq/_9q_lv1s2bndbr3tzzn08x4r0000gn/T/ipykernel_59883/3784404324.py:66: DtypeWarning: Columns (109,110) have mixed types. Specify dtype option on import or set low_memory=False.\n",
      "  data = pd.read_csv(f'/Users/charlesmiller/Documents/model_tester_data/CDLOSE/2018-01-01_2023-12-23_validationTR15.csv')\n"
     ]
    },
    {
     "name": "stdout",
     "output_type": "stream",
     "text": [
      "label\n",
      "1    64463\n",
      "0    52913\n",
      "Name: count, dtype: int64\n",
      "153 95 117 85\n",
      "{'model_name': 'CDLOSE_1d:TSSIM1_TL15-EXP_custHypTP0.55', 'deployment_date': '2023-03-20', 'algorithm_type': 'xgboost', 'dataset': 'TSSIM1_TL15-EXP_custHypTP0.55', 'TP': 153, 'TPpct': Decimal('0'), 'FP': 95, 'FPpct': Decimal('0'), 'TN': 117, 'TNpct': Decimal('0'), 'FN': 85, 'FNpct': Decimal('0'), 'precision_ratio': Decimal('1.6105263157894736'), 'evaluation_timeperiod': '2023-03-20_2023-03-24', 'live': False, 'hyperparameters': {\"{'subsample': 0.6, 'num_round': 1000, 'min_child_weight': 10, 'max_depth': 10, 'learning_rate': 0.1, 'gamma': 2, 'colsample_bytree': 1}\"}, 'features': {\"['SPY_diff', 'day_of_week', 'return_vol_5D', 'hour_volume_vol_diff', 'return_vol_240M', 'volume_vol_8H', 'range_vol_diff5', 'return_vol_30M', 'daily_volume_vol_diff30', 'close_diff', 'volume_vol_15M', 'return_vol_10D', 'daily_vol_diff_pct', 'daily_volume_vol_diff_pct30', 'range_vol5MA', 'cmf', 'return_vol_450M', 'hour_volume_vol_diff_pct', 'min_vol_diff', 'price_25DDiff', 'return_vol_3D', 'daily_vol_diff_pct30', 'volume_vol_3D', 'volume_vol_450M', 'close_diff_deviation', 'return_vol_30D', 'close_diff_deviation3', 'return_vol_16H', 'volume_vol_30M', 'rsi', 'threeD_stddev50', 'close_diff5', 'range_vol10MA', 'SPY_5D', 'daily_vol_diff', 'SPY_diff3', 'volume_vol_5D', 'rsi3', 'volume_25DDiff', 'price7']\"}, 'target': '-0.797+one_min_vol', 'feature_importances': \"[{'SPY_diff': 0.023640664}, {'day_of_week': 0.028693069}, {'return_vol_5D': 0.024096424}, {'hour_volume_vol_diff': 0.022344433}, {'return_vol_240M': 0.025611833}, {'volume_vol_8H': 0.022831472}, {'range_vol_diff5': 0.023909096}, {'return_vol_30M': 0.026680738}, {'daily_volume_vol_diff30': 0.02271831}, {'close_diff': 0.025865184}, {'volume_vol_15M': 0.019791514}, {'return_vol_10D': 0.029024588}, {'daily_vol_diff_pct': 0.030261427}, {'daily_volume_vol_diff_pct30': 0.022698896}, {'range_vol5MA': 0.025131058}, {'cmf': 0.02340587}, {'return_vol_450M': 0.026661424}, {'hour_volume_vol_diff_pct': 0.024128264}, {'min_vol_diff': 0.021780161}, {'price_25DDiff': 0.023536403}, {'return_vol_3D': 0.023018}, {'daily_vol_diff_pct30': 0.024237972}, {'volume_vol_3D': 0.022692889}, {'volume_vol_450M': 0.022733746}, {'close_diff_deviation': 0.024124201}, {'return_vol_30D': 0.02536829}, {'close_diff_deviation3': 0.025874818}, {'return_vol_16H': 0.022904972}, {'volume_vol_30M': 0.0198497}, {'rsi': 0.025362518}, {'threeD_stddev50': 0.026276706}, {'close_diff5': 0.025023982}, {'range_vol10MA': 0.026574865}, {'SPY_5D': 0.026298678}, {'daily_vol_diff': 0.045950897}, {'SPY_diff3': 0.02291264}, {'volume_vol_5D': 0.021888077}, {'rsi3': 0.030094875}, {'volume_25DDiff': 0.022364262}, {'price7': 0.023637166}]\"}\n",
      "{'deployment_date': datetime.datetime(2023, 3, 27, 0, 0), 'dataset_end': datetime.datetime(2023, 3, 17, 0, 0), 'dataset_start': datetime.datetime(2018, 1, 1, 0, 0)}\n"
     ]
    },
    {
     "name": "stderr",
     "output_type": "stream",
     "text": [
      "/var/folders/tq/_9q_lv1s2bndbr3tzzn08x4r0000gn/T/ipykernel_59883/3784404324.py:66: DtypeWarning: Columns (109,110) have mixed types. Specify dtype option on import or set low_memory=False.\n",
      "  data = pd.read_csv(f'/Users/charlesmiller/Documents/model_tester_data/CDLOSE/2018-01-01_2023-12-23_validationTR15.csv')\n"
     ]
    },
    {
     "name": "stdout",
     "output_type": "stream",
     "text": [
      "label\n",
      "1    64729\n",
      "0    53097\n",
      "Name: count, dtype: int64\n",
      "45 112 197 96\n",
      "{'model_name': 'CDLOSE_1d:TSSIM1_TL15-EXP_custHypTP0.55', 'deployment_date': '2023-03-27', 'algorithm_type': 'xgboost', 'dataset': 'TSSIM1_TL15-EXP_custHypTP0.55', 'TP': 45, 'TPpct': Decimal('0'), 'FP': 112, 'FPpct': Decimal('0'), 'TN': 197, 'TNpct': Decimal('0'), 'FN': 96, 'FNpct': Decimal('0'), 'precision_ratio': Decimal('0.4017857142857143'), 'evaluation_timeperiod': '2023-03-27_2023-03-31', 'live': False, 'hyperparameters': {\"{'subsample': 0.6, 'num_round': 1000, 'min_child_weight': 10, 'max_depth': 10, 'learning_rate': 0.1, 'gamma': 2, 'colsample_bytree': 1}\"}, 'features': {\"['SPY_diff', 'day_of_week', 'return_vol_5D', 'hour_volume_vol_diff', 'return_vol_240M', 'volume_vol_8H', 'range_vol_diff5', 'return_vol_30M', 'daily_volume_vol_diff30', 'close_diff', 'volume_vol_15M', 'return_vol_10D', 'daily_vol_diff_pct', 'daily_volume_vol_diff_pct30', 'range_vol5MA', 'cmf', 'return_vol_450M', 'hour_volume_vol_diff_pct', 'min_vol_diff', 'price_25DDiff', 'return_vol_3D', 'daily_vol_diff_pct30', 'volume_vol_3D', 'volume_vol_450M', 'close_diff_deviation', 'return_vol_30D', 'close_diff_deviation3', 'return_vol_16H', 'volume_vol_30M', 'rsi', 'threeD_stddev50', 'close_diff5', 'range_vol10MA', 'SPY_5D', 'daily_vol_diff', 'SPY_diff3', 'volume_vol_5D', 'rsi3', 'volume_25DDiff', 'price7']\"}, 'target': '-0.797+one_min_vol', 'feature_importances': \"[{'SPY_diff': 0.023437291}, {'day_of_week': 0.028639672}, {'return_vol_5D': 0.02450775}, {'hour_volume_vol_diff': 0.023386965}, {'return_vol_240M': 0.02439017}, {'volume_vol_8H': 0.021751637}, {'range_vol_diff5': 0.024289217}, {'return_vol_30M': 0.02763041}, {'daily_volume_vol_diff30': 0.023873819}, {'close_diff': 0.025610274}, {'volume_vol_15M': 0.018707968}, {'return_vol_10D': 0.028642755}, {'daily_vol_diff_pct': 0.031027133}, {'daily_volume_vol_diff_pct30': 0.022776242}, {'range_vol5MA': 0.02400401}, {'cmf': 0.023456583}, {'return_vol_450M': 0.025878001}, {'hour_volume_vol_diff_pct': 0.022879565}, {'min_vol_diff': 0.021631097}, {'price_25DDiff': 0.023645673}, {'return_vol_3D': 0.02200396}, {'daily_vol_diff_pct30': 0.024540216}, {'volume_vol_3D': 0.022376994}, {'volume_vol_450M': 0.022964882}, {'close_diff_deviation': 0.024191868}, {'return_vol_30D': 0.025631249}, {'close_diff_deviation3': 0.025749916}, {'return_vol_16H': 0.024140205}, {'volume_vol_30M': 0.0198136}, {'rsi': 0.02441452}, {'threeD_stddev50': 0.02637534}, {'close_diff5': 0.025694812}, {'range_vol10MA': 0.025426842}, {'SPY_5D': 0.026333986}, {'daily_vol_diff': 0.047305867}, {'SPY_diff3': 0.023527369}, {'volume_vol_5D': 0.022384163}, {'rsi3': 0.030582396}, {'volume_25DDiff': 0.022225874}, {'price7': 0.024149695}]\"}\n",
      "{'deployment_date': datetime.datetime(2023, 4, 3, 0, 0), 'dataset_end': datetime.datetime(2023, 3, 24, 0, 0), 'dataset_start': datetime.datetime(2018, 1, 1, 0, 0)}\n"
     ]
    },
    {
     "name": "stderr",
     "output_type": "stream",
     "text": [
      "/var/folders/tq/_9q_lv1s2bndbr3tzzn08x4r0000gn/T/ipykernel_59883/3784404324.py:66: DtypeWarning: Columns (109,110) have mixed types. Specify dtype option on import or set low_memory=False.\n",
      "  data = pd.read_csv(f'/Users/charlesmiller/Documents/model_tester_data/CDLOSE/2018-01-01_2023-12-23_validationTR15.csv')\n"
     ]
    },
    {
     "name": "stdout",
     "output_type": "stream",
     "text": [
      "label\n",
      "1    64977\n",
      "0    53299\n",
      "Name: count, dtype: int64\n",
      "124 91 62 83\n",
      "{'model_name': 'CDLOSE_1d:TSSIM1_TL15-EXP_custHypTP0.55', 'deployment_date': '2023-04-03', 'algorithm_type': 'xgboost', 'dataset': 'TSSIM1_TL15-EXP_custHypTP0.55', 'TP': 124, 'TPpct': Decimal('0'), 'FP': 91, 'FPpct': Decimal('0'), 'TN': 62, 'TNpct': Decimal('0'), 'FN': 83, 'FNpct': Decimal('0'), 'precision_ratio': Decimal('1.3626373626373627'), 'evaluation_timeperiod': '2023-04-03_2023-04-07', 'live': False, 'hyperparameters': {\"{'subsample': 0.6, 'num_round': 1000, 'min_child_weight': 10, 'max_depth': 10, 'learning_rate': 0.1, 'gamma': 2, 'colsample_bytree': 1}\"}, 'features': {\"['SPY_diff', 'day_of_week', 'return_vol_5D', 'hour_volume_vol_diff', 'return_vol_240M', 'volume_vol_8H', 'range_vol_diff5', 'return_vol_30M', 'daily_volume_vol_diff30', 'close_diff', 'volume_vol_15M', 'return_vol_10D', 'daily_vol_diff_pct', 'daily_volume_vol_diff_pct30', 'range_vol5MA', 'cmf', 'return_vol_450M', 'hour_volume_vol_diff_pct', 'min_vol_diff', 'price_25DDiff', 'return_vol_3D', 'daily_vol_diff_pct30', 'volume_vol_3D', 'volume_vol_450M', 'close_diff_deviation', 'return_vol_30D', 'close_diff_deviation3', 'return_vol_16H', 'volume_vol_30M', 'rsi', 'threeD_stddev50', 'close_diff5', 'range_vol10MA', 'SPY_5D', 'daily_vol_diff', 'SPY_diff3', 'volume_vol_5D', 'rsi3', 'volume_25DDiff', 'price7']\"}, 'target': '-0.797+one_min_vol', 'feature_importances': \"[{'SPY_diff': 0.02396565}, {'day_of_week': 0.027951034}, {'return_vol_5D': 0.023457395}, {'hour_volume_vol_diff': 0.02258215}, {'return_vol_240M': 0.02564155}, {'volume_vol_8H': 0.021993378}, {'range_vol_diff5': 0.0245491}, {'return_vol_30M': 0.026964048}, {'daily_volume_vol_diff30': 0.023539983}, {'close_diff': 0.025752468}, {'volume_vol_15M': 0.020458525}, {'return_vol_10D': 0.02950479}, {'daily_vol_diff_pct': 0.029611083}, {'daily_volume_vol_diff_pct30': 0.02279887}, {'range_vol5MA': 0.02508063}, {'cmf': 0.023129184}, {'return_vol_450M': 0.025569854}, {'hour_volume_vol_diff_pct': 0.022716556}, {'min_vol_diff': 0.021389505}, {'price_25DDiff': 0.023673825}, {'return_vol_3D': 0.024088746}, {'daily_vol_diff_pct30': 0.024891507}, {'volume_vol_3D': 0.021871626}, {'volume_vol_450M': 0.022605458}, {'close_diff_deviation': 0.024155064}, {'return_vol_30D': 0.025573801}, {'close_diff_deviation3': 0.025631469}, {'return_vol_16H': 0.023009397}, {'volume_vol_30M': 0.019477995}, {'rsi': 0.02480041}, {'threeD_stddev50': 0.025782032}, {'close_diff5': 0.02550036}, {'range_vol10MA': 0.02522173}, {'SPY_5D': 0.026977854}, {'daily_vol_diff': 0.04871949}, {'SPY_diff3': 0.02317192}, {'volume_vol_5D': 0.022028403}, {'rsi3': 0.030227318}, {'volume_25DDiff': 0.022214347}, {'price7': 0.023721434}]\"}\n",
      "{'deployment_date': datetime.datetime(2023, 4, 10, 0, 0), 'dataset_end': datetime.datetime(2023, 3, 31, 0, 0), 'dataset_start': datetime.datetime(2018, 1, 1, 0, 0)}\n"
     ]
    },
    {
     "name": "stderr",
     "output_type": "stream",
     "text": [
      "/var/folders/tq/_9q_lv1s2bndbr3tzzn08x4r0000gn/T/ipykernel_59883/3784404324.py:66: DtypeWarning: Columns (109,110) have mixed types. Specify dtype option on import or set low_memory=False.\n",
      "  data = pd.read_csv(f'/Users/charlesmiller/Documents/model_tester_data/CDLOSE/2018-01-01_2023-12-23_validationTR15.csv')\n"
     ]
    },
    {
     "name": "stdout",
     "output_type": "stream",
     "text": [
      "label\n",
      "1    65190\n",
      "0    53536\n",
      "Name: count, dtype: int64\n",
      "145 128 100 77\n",
      "{'model_name': 'CDLOSE_1d:TSSIM1_TL15-EXP_custHypTP0.55', 'deployment_date': '2023-04-10', 'algorithm_type': 'xgboost', 'dataset': 'TSSIM1_TL15-EXP_custHypTP0.55', 'TP': 145, 'TPpct': Decimal('0'), 'FP': 128, 'FPpct': Decimal('0'), 'TN': 100, 'TNpct': Decimal('0'), 'FN': 77, 'FNpct': Decimal('0'), 'precision_ratio': Decimal('1.1328125'), 'evaluation_timeperiod': '2023-04-10_2023-04-14', 'live': False, 'hyperparameters': {\"{'subsample': 0.6, 'num_round': 1000, 'min_child_weight': 10, 'max_depth': 10, 'learning_rate': 0.1, 'gamma': 2, 'colsample_bytree': 1}\"}, 'features': {\"['SPY_diff', 'day_of_week', 'return_vol_5D', 'hour_volume_vol_diff', 'return_vol_240M', 'volume_vol_8H', 'range_vol_diff5', 'return_vol_30M', 'daily_volume_vol_diff30', 'close_diff', 'volume_vol_15M', 'return_vol_10D', 'daily_vol_diff_pct', 'daily_volume_vol_diff_pct30', 'range_vol5MA', 'cmf', 'return_vol_450M', 'hour_volume_vol_diff_pct', 'min_vol_diff', 'price_25DDiff', 'return_vol_3D', 'daily_vol_diff_pct30', 'volume_vol_3D', 'volume_vol_450M', 'close_diff_deviation', 'return_vol_30D', 'close_diff_deviation3', 'return_vol_16H', 'volume_vol_30M', 'rsi', 'threeD_stddev50', 'close_diff5', 'range_vol10MA', 'SPY_5D', 'daily_vol_diff', 'SPY_diff3', 'volume_vol_5D', 'rsi3', 'volume_25DDiff', 'price7']\"}, 'target': '-0.796+one_min_vol', 'feature_importances': \"[{'SPY_diff': 0.023506938}, {'day_of_week': 0.02812606}, {'return_vol_5D': 0.024279414}, {'hour_volume_vol_diff': 0.022476716}, {'return_vol_240M': 0.024596319}, {'volume_vol_8H': 0.022293847}, {'range_vol_diff5': 0.023960173}, {'return_vol_30M': 0.028094253}, {'daily_volume_vol_diff30': 0.02261971}, {'close_diff': 0.025292145}, {'volume_vol_15M': 0.020260226}, {'return_vol_10D': 0.028302265}, {'daily_vol_diff_pct': 0.030813796}, {'daily_volume_vol_diff_pct30': 0.023157807}, {'range_vol5MA': 0.0242338}, {'cmf': 0.023321647}, {'return_vol_450M': 0.026266932}, {'hour_volume_vol_diff_pct': 0.02234803}, {'min_vol_diff': 0.020966472}, {'price_25DDiff': 0.024217352}, {'return_vol_3D': 0.023375098}, {'daily_vol_diff_pct30': 0.024024006}, {'volume_vol_3D': 0.022703024}, {'volume_vol_450M': 0.022304557}, {'close_diff_deviation': 0.023508355}, {'return_vol_30D': 0.025079068}, {'close_diff_deviation3': 0.026543016}, {'return_vol_16H': 0.023431564}, {'volume_vol_30M': 0.01994535}, {'rsi': 0.024232313}, {'threeD_stddev50': 0.026451599}, {'close_diff5': 0.025113015}, {'range_vol10MA': 0.025114305}, {'SPY_5D': 0.02713465}, {'daily_vol_diff': 0.049634278}, {'SPY_diff3': 0.023715567}, {'volume_vol_5D': 0.022067454}, {'rsi3': 0.030044384}, {'volume_25DDiff': 0.0228923}, {'price7': 0.023552222}]\"}\n",
      "{'deployment_date': datetime.datetime(2023, 4, 17, 0, 0), 'dataset_end': datetime.datetime(2023, 4, 7, 0, 0), 'dataset_start': datetime.datetime(2018, 1, 1, 0, 0)}\n"
     ]
    },
    {
     "name": "stderr",
     "output_type": "stream",
     "text": [
      "/var/folders/tq/_9q_lv1s2bndbr3tzzn08x4r0000gn/T/ipykernel_59883/3784404324.py:66: DtypeWarning: Columns (109,110) have mixed types. Specify dtype option on import or set low_memory=False.\n",
      "  data = pd.read_csv(f'/Users/charlesmiller/Documents/model_tester_data/CDLOSE/2018-01-01_2023-12-23_validationTR15.csv')\n"
     ]
    },
    {
     "name": "stdout",
     "output_type": "stream",
     "text": [
      "label\n",
      "1    65401\n",
      "0    53685\n",
      "Name: count, dtype: int64\n",
      "199 101 52 98\n",
      "{'model_name': 'CDLOSE_1d:TSSIM1_TL15-EXP_custHypTP0.55', 'deployment_date': '2023-04-17', 'algorithm_type': 'xgboost', 'dataset': 'TSSIM1_TL15-EXP_custHypTP0.55', 'TP': 199, 'TPpct': Decimal('0'), 'FP': 101, 'FPpct': Decimal('0'), 'TN': 52, 'TNpct': Decimal('0'), 'FN': 98, 'FNpct': Decimal('0'), 'precision_ratio': Decimal('1.9702970297029703'), 'evaluation_timeperiod': '2023-04-17_2023-04-21', 'live': False, 'hyperparameters': {\"{'subsample': 0.6, 'num_round': 1000, 'min_child_weight': 10, 'max_depth': 10, 'learning_rate': 0.1, 'gamma': 2, 'colsample_bytree': 1}\"}, 'features': {\"['SPY_diff', 'day_of_week', 'return_vol_5D', 'hour_volume_vol_diff', 'return_vol_240M', 'volume_vol_8H', 'range_vol_diff5', 'return_vol_30M', 'daily_volume_vol_diff30', 'close_diff', 'volume_vol_15M', 'return_vol_10D', 'daily_vol_diff_pct', 'daily_volume_vol_diff_pct30', 'range_vol5MA', 'cmf', 'return_vol_450M', 'hour_volume_vol_diff_pct', 'min_vol_diff', 'price_25DDiff', 'return_vol_3D', 'daily_vol_diff_pct30', 'volume_vol_3D', 'volume_vol_450M', 'close_diff_deviation', 'return_vol_30D', 'close_diff_deviation3', 'return_vol_16H', 'volume_vol_30M', 'rsi', 'threeD_stddev50', 'close_diff5', 'range_vol10MA', 'SPY_5D', 'daily_vol_diff', 'SPY_diff3', 'volume_vol_5D', 'rsi3', 'volume_25DDiff', 'price7']\"}, 'target': '-0.796+one_min_vol', 'feature_importances': \"[{'SPY_diff': 0.023521788}, {'day_of_week': 0.027911965}, {'return_vol_5D': 0.024379281}, {'hour_volume_vol_diff': 0.022482624}, {'return_vol_240M': 0.025109848}, {'volume_vol_8H': 0.022163497}, {'range_vol_diff5': 0.023795888}, {'return_vol_30M': 0.027573884}, {'daily_volume_vol_diff30': 0.023590745}, {'close_diff': 0.025916003}, {'volume_vol_15M': 0.01935602}, {'return_vol_10D': 0.028726239}, {'daily_vol_diff_pct': 0.030107178}, {'daily_volume_vol_diff_pct30': 0.02271529}, {'range_vol5MA': 0.024545692}, {'cmf': 0.022809956}, {'return_vol_450M': 0.02623724}, {'hour_volume_vol_diff_pct': 0.022930449}, {'min_vol_diff': 0.020815201}, {'price_25DDiff': 0.024554754}, {'return_vol_3D': 0.022901218}, {'daily_vol_diff_pct30': 0.02453705}, {'volume_vol_3D': 0.022141289}, {'volume_vol_450M': 0.022494543}, {'close_diff_deviation': 0.023868438}, {'return_vol_30D': 0.025067586}, {'close_diff_deviation3': 0.025310824}, {'return_vol_16H': 0.023598608}, {'volume_vol_30M': 0.020619733}, {'rsi': 0.025136042}, {'threeD_stddev50': 0.026977183}, {'close_diff5': 0.025450798}, {'range_vol10MA': 0.026170531}, {'SPY_5D': 0.026739905}, {'daily_vol_diff': 0.049376782}, {'SPY_diff3': 0.023277301}, {'volume_vol_5D': 0.021717036}, {'rsi3': 0.030025506}, {'volume_25DDiff': 0.021967668}, {'price7': 0.023378452}]\"}\n",
      "{'deployment_date': datetime.datetime(2023, 4, 24, 0, 0), 'dataset_end': datetime.datetime(2023, 4, 14, 0, 0), 'dataset_start': datetime.datetime(2018, 1, 1, 0, 0)}\n"
     ]
    },
    {
     "name": "stderr",
     "output_type": "stream",
     "text": [
      "/var/folders/tq/_9q_lv1s2bndbr3tzzn08x4r0000gn/T/ipykernel_59883/3784404324.py:66: DtypeWarning: Columns (109,110) have mixed types. Specify dtype option on import or set low_memory=False.\n",
      "  data = pd.read_csv(f'/Users/charlesmiller/Documents/model_tester_data/CDLOSE/2018-01-01_2023-12-23_validationTR15.csv')\n"
     ]
    },
    {
     "name": "stdout",
     "output_type": "stream",
     "text": [
      "label\n",
      "1    65658\n",
      "0    53878\n",
      "Name: count, dtype: int64\n",
      "227 108 45 70\n",
      "{'model_name': 'CDLOSE_1d:TSSIM1_TL15-EXP_custHypTP0.55', 'deployment_date': '2023-04-24', 'algorithm_type': 'xgboost', 'dataset': 'TSSIM1_TL15-EXP_custHypTP0.55', 'TP': 227, 'TPpct': Decimal('0'), 'FP': 108, 'FPpct': Decimal('0'), 'TN': 45, 'TNpct': Decimal('0'), 'FN': 70, 'FNpct': Decimal('0'), 'precision_ratio': Decimal('2.1018518518518516'), 'evaluation_timeperiod': '2023-04-24_2023-04-28', 'live': False, 'hyperparameters': {\"{'subsample': 0.6, 'num_round': 1000, 'min_child_weight': 10, 'max_depth': 10, 'learning_rate': 0.1, 'gamma': 2, 'colsample_bytree': 1}\"}, 'features': {\"['SPY_diff', 'day_of_week', 'return_vol_5D', 'hour_volume_vol_diff', 'return_vol_240M', 'volume_vol_8H', 'range_vol_diff5', 'return_vol_30M', 'daily_volume_vol_diff30', 'close_diff', 'volume_vol_15M', 'return_vol_10D', 'daily_vol_diff_pct', 'daily_volume_vol_diff_pct30', 'range_vol5MA', 'cmf', 'return_vol_450M', 'hour_volume_vol_diff_pct', 'min_vol_diff', 'price_25DDiff', 'return_vol_3D', 'daily_vol_diff_pct30', 'volume_vol_3D', 'volume_vol_450M', 'close_diff_deviation', 'return_vol_30D', 'close_diff_deviation3', 'return_vol_16H', 'volume_vol_30M', 'rsi', 'threeD_stddev50', 'close_diff5', 'range_vol10MA', 'SPY_5D', 'daily_vol_diff', 'SPY_diff3', 'volume_vol_5D', 'rsi3', 'volume_25DDiff', 'price7']\"}, 'target': '-0.795+one_min_vol', 'feature_importances': \"[{'SPY_diff': 0.023806935}, {'day_of_week': 0.028933248}, {'return_vol_5D': 0.024622343}, {'hour_volume_vol_diff': 0.02230515}, {'return_vol_240M': 0.024708917}, {'volume_vol_8H': 0.02193849}, {'range_vol_diff5': 0.02424127}, {'return_vol_30M': 0.027183821}, {'daily_volume_vol_diff30': 0.023692803}, {'close_diff': 0.025592234}, {'volume_vol_15M': 0.019473674}, {'return_vol_10D': 0.029273}, {'daily_vol_diff_pct': 0.03018093}, {'daily_volume_vol_diff_pct30': 0.022893652}, {'range_vol5MA': 0.025802005}, {'cmf': 0.02366367}, {'return_vol_450M': 0.026280303}, {'hour_volume_vol_diff_pct': 0.022772}, {'min_vol_diff': 0.021029726}, {'price_25DDiff': 0.023444837}, {'return_vol_3D': 0.02344252}, {'daily_vol_diff_pct30': 0.024648119}, {'volume_vol_3D': 0.021975186}, {'volume_vol_450M': 0.023115963}, {'close_diff_deviation': 0.024091346}, {'return_vol_30D': 0.025434345}, {'close_diff_deviation3': 0.025802683}, {'return_vol_16H': 0.023551507}, {'volume_vol_30M': 0.019782817}, {'rsi': 0.025243517}, {'threeD_stddev50': 0.0263644}, {'close_diff5': 0.025274988}, {'range_vol10MA': 0.024521943}, {'SPY_5D': 0.02644997}, {'daily_vol_diff': 0.048132204}, {'SPY_diff3': 0.022952648}, {'volume_vol_5D': 0.021673342}, {'rsi3': 0.0299264}, {'volume_25DDiff': 0.022193069}, {'price7': 0.023584047}]\"}\n",
      "{'deployment_date': datetime.datetime(2023, 5, 1, 0, 0), 'dataset_end': datetime.datetime(2023, 4, 21, 0, 0), 'dataset_start': datetime.datetime(2018, 1, 1, 0, 0)}\n"
     ]
    },
    {
     "name": "stderr",
     "output_type": "stream",
     "text": [
      "/var/folders/tq/_9q_lv1s2bndbr3tzzn08x4r0000gn/T/ipykernel_59883/3784404324.py:66: DtypeWarning: Columns (109,110) have mixed types. Specify dtype option on import or set low_memory=False.\n",
      "  data = pd.read_csv(f'/Users/charlesmiller/Documents/model_tester_data/CDLOSE/2018-01-01_2023-12-23_validationTR15.csv')\n"
     ]
    },
    {
     "name": "stdout",
     "output_type": "stream",
     "text": [
      "label\n",
      "1    65910\n",
      "0    54076\n",
      "Name: count, dtype: int64\n",
      "179 114 72 85\n",
      "{'model_name': 'CDLOSE_1d:TSSIM1_TL15-EXP_custHypTP0.55', 'deployment_date': '2023-05-01', 'algorithm_type': 'xgboost', 'dataset': 'TSSIM1_TL15-EXP_custHypTP0.55', 'TP': 179, 'TPpct': Decimal('0'), 'FP': 114, 'FPpct': Decimal('0'), 'TN': 72, 'TNpct': Decimal('0'), 'FN': 85, 'FNpct': Decimal('0'), 'precision_ratio': Decimal('1.5701754385964912'), 'evaluation_timeperiod': '2023-05-01_2023-05-05', 'live': False, 'hyperparameters': {\"{'subsample': 0.6, 'num_round': 1000, 'min_child_weight': 10, 'max_depth': 10, 'learning_rate': 0.1, 'gamma': 2, 'colsample_bytree': 1}\"}, 'features': {\"['SPY_diff', 'day_of_week', 'return_vol_5D', 'hour_volume_vol_diff', 'return_vol_240M', 'volume_vol_8H', 'range_vol_diff5', 'return_vol_30M', 'daily_volume_vol_diff30', 'close_diff', 'volume_vol_15M', 'return_vol_10D', 'daily_vol_diff_pct', 'daily_volume_vol_diff_pct30', 'range_vol5MA', 'cmf', 'return_vol_450M', 'hour_volume_vol_diff_pct', 'min_vol_diff', 'price_25DDiff', 'return_vol_3D', 'daily_vol_diff_pct30', 'volume_vol_3D', 'volume_vol_450M', 'close_diff_deviation', 'return_vol_30D', 'close_diff_deviation3', 'return_vol_16H', 'volume_vol_30M', 'rsi', 'threeD_stddev50', 'close_diff5', 'range_vol10MA', 'SPY_5D', 'daily_vol_diff', 'SPY_diff3', 'volume_vol_5D', 'rsi3', 'volume_25DDiff', 'price7']\"}, 'target': '-0.796+one_min_vol', 'feature_importances': \"[{'SPY_diff': 0.023923114}, {'day_of_week': 0.028250331}, {'return_vol_5D': 0.024316726}, {'hour_volume_vol_diff': 0.023090623}, {'return_vol_240M': 0.024844637}, {'volume_vol_8H': 0.022126177}, {'range_vol_diff5': 0.023726683}, {'return_vol_30M': 0.027370906}, {'daily_volume_vol_diff30': 0.023142362}, {'close_diff': 0.025787532}, {'volume_vol_15M': 0.019658174}, {'return_vol_10D': 0.029335577}, {'daily_vol_diff_pct': 0.030033598}, {'daily_volume_vol_diff_pct30': 0.023051763}, {'range_vol5MA': 0.025020763}, {'cmf': 0.023357695}, {'return_vol_450M': 0.025940843}, {'hour_volume_vol_diff_pct': 0.021887328}, {'min_vol_diff': 0.02103225}, {'price_25DDiff': 0.024209566}, {'return_vol_3D': 0.02315707}, {'daily_vol_diff_pct30': 0.024084318}, {'volume_vol_3D': 0.022250986}, {'volume_vol_450M': 0.022501206}, {'close_diff_deviation': 0.024183024}, {'return_vol_30D': 0.024852779}, {'close_diff_deviation3': 0.02619417}, {'return_vol_16H': 0.023244184}, {'volume_vol_30M': 0.019606307}, {'rsi': 0.024384754}, {'threeD_stddev50': 0.026152324}, {'close_diff5': 0.025252167}, {'range_vol10MA': 0.025926156}, {'SPY_5D': 0.026937557}, {'daily_vol_diff': 0.048995454}, {'SPY_diff3': 0.023180079}, {'volume_vol_5D': 0.022659339}, {'rsi3': 0.030410593}, {'volume_25DDiff': 0.022400768}, {'price7': 0.023520123}]\"}\n",
      "{'deployment_date': datetime.datetime(2023, 5, 8, 0, 0), 'dataset_end': datetime.datetime(2023, 4, 28, 0, 0), 'dataset_start': datetime.datetime(2018, 1, 1, 0, 0)}\n"
     ]
    },
    {
     "name": "stderr",
     "output_type": "stream",
     "text": [
      "/var/folders/tq/_9q_lv1s2bndbr3tzzn08x4r0000gn/T/ipykernel_59883/3784404324.py:66: DtypeWarning: Columns (109,110) have mixed types. Specify dtype option on import or set low_memory=False.\n",
      "  data = pd.read_csv(f'/Users/charlesmiller/Documents/model_tester_data/CDLOSE/2018-01-01_2023-12-23_validationTR15.csv')\n"
     ]
    },
    {
     "name": "stdout",
     "output_type": "stream",
     "text": [
      "label\n",
      "1    66136\n",
      "0    54300\n",
      "Name: count, dtype: int64\n",
      "101 88 159 102\n",
      "{'model_name': 'CDLOSE_1d:TSSIM1_TL15-EXP_custHypTP0.55', 'deployment_date': '2023-05-08', 'algorithm_type': 'xgboost', 'dataset': 'TSSIM1_TL15-EXP_custHypTP0.55', 'TP': 101, 'TPpct': Decimal('0'), 'FP': 88, 'FPpct': Decimal('0'), 'TN': 159, 'TNpct': Decimal('0'), 'FN': 102, 'FNpct': Decimal('0'), 'precision_ratio': Decimal('1.1477272727272727'), 'evaluation_timeperiod': '2023-05-08_2023-05-12', 'live': False, 'hyperparameters': {\"{'subsample': 0.6, 'num_round': 1000, 'min_child_weight': 10, 'max_depth': 10, 'learning_rate': 0.1, 'gamma': 2, 'colsample_bytree': 1}\"}, 'features': {\"['SPY_diff', 'day_of_week', 'return_vol_5D', 'hour_volume_vol_diff', 'return_vol_240M', 'volume_vol_8H', 'range_vol_diff5', 'return_vol_30M', 'daily_volume_vol_diff30', 'close_diff', 'volume_vol_15M', 'return_vol_10D', 'daily_vol_diff_pct', 'daily_volume_vol_diff_pct30', 'range_vol5MA', 'cmf', 'return_vol_450M', 'hour_volume_vol_diff_pct', 'min_vol_diff', 'price_25DDiff', 'return_vol_3D', 'daily_vol_diff_pct30', 'volume_vol_3D', 'volume_vol_450M', 'close_diff_deviation', 'return_vol_30D', 'close_diff_deviation3', 'return_vol_16H', 'volume_vol_30M', 'rsi', 'threeD_stddev50', 'close_diff5', 'range_vol10MA', 'SPY_5D', 'daily_vol_diff', 'SPY_diff3', 'volume_vol_5D', 'rsi3', 'volume_25DDiff', 'price7']\"}, 'target': '-0.797+one_min_vol', 'feature_importances': \"[{'SPY_diff': 0.024052963}, {'day_of_week': 0.027840182}, {'return_vol_5D': 0.02401903}, {'hour_volume_vol_diff': 0.02254548}, {'return_vol_240M': 0.025331745}, {'volume_vol_8H': 0.022240216}, {'range_vol_diff5': 0.024478499}, {'return_vol_30M': 0.02699511}, {'daily_volume_vol_diff30': 0.023139128}, {'close_diff': 0.024857003}, {'volume_vol_15M': 0.019119496}, {'return_vol_10D': 0.028571008}, {'daily_vol_diff_pct': 0.030143505}, {'daily_volume_vol_diff_pct30': 0.022615096}, {'range_vol5MA': 0.026016863}, {'cmf': 0.02394182}, {'return_vol_450M': 0.026621776}, {'hour_volume_vol_diff_pct': 0.023206748}, {'min_vol_diff': 0.021031553}, {'price_25DDiff': 0.02378642}, {'return_vol_3D': 0.023652032}, {'daily_vol_diff_pct30': 0.025113868}, {'volume_vol_3D': 0.022036318}, {'volume_vol_450M': 0.022620918}, {'close_diff_deviation': 0.02373462}, {'return_vol_30D': 0.025242487}, {'close_diff_deviation3': 0.026621798}, {'return_vol_16H': 0.023895718}, {'volume_vol_30M': 0.020314705}, {'rsi': 0.02508014}, {'threeD_stddev50': 0.02665947}, {'close_diff5': 0.02555037}, {'range_vol10MA': 0.025458302}, {'SPY_5D': 0.02705755}, {'daily_vol_diff': 0.045783587}, {'SPY_diff3': 0.023092672}, {'volume_vol_5D': 0.02171629}, {'rsi3': 0.030451676}, {'volume_25DDiff': 0.021933146}, {'price7': 0.023430714}]\"}\n",
      "{'deployment_date': datetime.datetime(2023, 5, 15, 0, 0), 'dataset_end': datetime.datetime(2023, 5, 5, 0, 0), 'dataset_start': datetime.datetime(2018, 1, 1, 0, 0)}\n"
     ]
    },
    {
     "name": "stderr",
     "output_type": "stream",
     "text": [
      "/var/folders/tq/_9q_lv1s2bndbr3tzzn08x4r0000gn/T/ipykernel_59883/3784404324.py:66: DtypeWarning: Columns (109,110) have mixed types. Specify dtype option on import or set low_memory=False.\n",
      "  data = pd.read_csv(f'/Users/charlesmiller/Documents/model_tester_data/CDLOSE/2018-01-01_2023-12-23_validationTR15.csv')\n"
     ]
    },
    {
     "name": "stdout",
     "output_type": "stream",
     "text": [
      "label\n",
      "1    66390\n",
      "0    54496\n",
      "Name: count, dtype: int64\n",
      "137 126 116 71\n",
      "{'model_name': 'CDLOSE_1d:TSSIM1_TL15-EXP_custHypTP0.55', 'deployment_date': '2023-05-15', 'algorithm_type': 'xgboost', 'dataset': 'TSSIM1_TL15-EXP_custHypTP0.55', 'TP': 137, 'TPpct': Decimal('0'), 'FP': 126, 'FPpct': Decimal('0'), 'TN': 116, 'TNpct': Decimal('0'), 'FN': 71, 'FNpct': Decimal('0'), 'precision_ratio': Decimal('1.0873015873015872'), 'evaluation_timeperiod': '2023-05-15_2023-05-19', 'live': False, 'hyperparameters': {\"{'subsample': 0.6, 'num_round': 1000, 'min_child_weight': 10, 'max_depth': 10, 'learning_rate': 0.1, 'gamma': 2, 'colsample_bytree': 1}\"}, 'features': {\"['SPY_diff', 'day_of_week', 'return_vol_5D', 'hour_volume_vol_diff', 'return_vol_240M', 'volume_vol_8H', 'range_vol_diff5', 'return_vol_30M', 'daily_volume_vol_diff30', 'close_diff', 'volume_vol_15M', 'return_vol_10D', 'daily_vol_diff_pct', 'daily_volume_vol_diff_pct30', 'range_vol5MA', 'cmf', 'return_vol_450M', 'hour_volume_vol_diff_pct', 'min_vol_diff', 'price_25DDiff', 'return_vol_3D', 'daily_vol_diff_pct30', 'volume_vol_3D', 'volume_vol_450M', 'close_diff_deviation', 'return_vol_30D', 'close_diff_deviation3', 'return_vol_16H', 'volume_vol_30M', 'rsi', 'threeD_stddev50', 'close_diff5', 'range_vol10MA', 'SPY_5D', 'daily_vol_diff', 'SPY_diff3', 'volume_vol_5D', 'rsi3', 'volume_25DDiff', 'price7']\"}, 'target': '-0.798+one_min_vol', 'feature_importances': \"[{'SPY_diff': 0.023627399}, {'day_of_week': 0.027311496}, {'return_vol_5D': 0.023724724}, {'hour_volume_vol_diff': 0.022985324}, {'return_vol_240M': 0.025792306}, {'volume_vol_8H': 0.02196975}, {'range_vol_diff5': 0.023907619}, {'return_vol_30M': 0.028014233}, {'daily_volume_vol_diff30': 0.023531422}, {'close_diff': 0.025789402}, {'volume_vol_15M': 0.019861983}, {'return_vol_10D': 0.02868371}, {'daily_vol_diff_pct': 0.029365614}, {'daily_volume_vol_diff_pct30': 0.022298276}, {'range_vol5MA': 0.024581904}, {'cmf': 0.02308902}, {'return_vol_450M': 0.02562396}, {'hour_volume_vol_diff_pct': 0.023043122}, {'min_vol_diff': 0.021261888}, {'price_25DDiff': 0.024192633}, {'return_vol_3D': 0.022772525}, {'daily_vol_diff_pct30': 0.024815392}, {'volume_vol_3D': 0.021225506}, {'volume_vol_450M': 0.02234545}, {'close_diff_deviation': 0.024022037}, {'return_vol_30D': 0.025814176}, {'close_diff_deviation3': 0.025619665}, {'return_vol_16H': 0.023904158}, {'volume_vol_30M': 0.020299694}, {'rsi': 0.024918811}, {'threeD_stddev50': 0.026188929}, {'close_diff5': 0.025759313}, {'range_vol10MA': 0.025556024}, {'SPY_5D': 0.026512282}, {'daily_vol_diff': 0.048771568}, {'SPY_diff3': 0.023309177}, {'volume_vol_5D': 0.022079002}, {'rsi3': 0.030877788}, {'volume_25DDiff': 0.0230942}, {'price7': 0.023458498}]\"}\n",
      "{'deployment_date': datetime.datetime(2023, 5, 22, 0, 0), 'dataset_end': datetime.datetime(2023, 5, 12, 0, 0), 'dataset_start': datetime.datetime(2018, 1, 1, 0, 0)}\n"
     ]
    },
    {
     "name": "stderr",
     "output_type": "stream",
     "text": [
      "/var/folders/tq/_9q_lv1s2bndbr3tzzn08x4r0000gn/T/ipykernel_59883/3784404324.py:66: DtypeWarning: Columns (109,110) have mixed types. Specify dtype option on import or set low_memory=False.\n",
      "  data = pd.read_csv(f'/Users/charlesmiller/Documents/model_tester_data/CDLOSE/2018-01-01_2023-12-23_validationTR15.csv')\n"
     ]
    },
    {
     "name": "stdout",
     "output_type": "stream",
     "text": [
      "label\n",
      "1    66636\n",
      "0    54700\n",
      "Name: count, dtype: int64\n",
      "155 102 97 96\n",
      "{'model_name': 'CDLOSE_1d:TSSIM1_TL15-EXP_custHypTP0.55', 'deployment_date': '2023-05-22', 'algorithm_type': 'xgboost', 'dataset': 'TSSIM1_TL15-EXP_custHypTP0.55', 'TP': 155, 'TPpct': Decimal('0'), 'FP': 102, 'FPpct': Decimal('0'), 'TN': 97, 'TNpct': Decimal('0'), 'FN': 96, 'FNpct': Decimal('0'), 'precision_ratio': Decimal('1.5196078431372548'), 'evaluation_timeperiod': '2023-05-22_2023-05-26', 'live': False, 'hyperparameters': {\"{'subsample': 0.6, 'num_round': 1000, 'min_child_weight': 10, 'max_depth': 10, 'learning_rate': 0.1, 'gamma': 2, 'colsample_bytree': 1}\"}, 'features': {\"['SPY_diff', 'day_of_week', 'return_vol_5D', 'hour_volume_vol_diff', 'return_vol_240M', 'volume_vol_8H', 'range_vol_diff5', 'return_vol_30M', 'daily_volume_vol_diff30', 'close_diff', 'volume_vol_15M', 'return_vol_10D', 'daily_vol_diff_pct', 'daily_volume_vol_diff_pct30', 'range_vol5MA', 'cmf', 'return_vol_450M', 'hour_volume_vol_diff_pct', 'min_vol_diff', 'price_25DDiff', 'return_vol_3D', 'daily_vol_diff_pct30', 'volume_vol_3D', 'volume_vol_450M', 'close_diff_deviation', 'return_vol_30D', 'close_diff_deviation3', 'return_vol_16H', 'volume_vol_30M', 'rsi', 'threeD_stddev50', 'close_diff5', 'range_vol10MA', 'SPY_5D', 'daily_vol_diff', 'SPY_diff3', 'volume_vol_5D', 'rsi3', 'volume_25DDiff', 'price7']\"}, 'target': '-0.797+one_min_vol', 'feature_importances': \"[{'SPY_diff': 0.02368737}, {'day_of_week': 0.02803611}, {'return_vol_5D': 0.024222357}, {'hour_volume_vol_diff': 0.02233046}, {'return_vol_240M': 0.02625832}, {'volume_vol_8H': 0.02242613}, {'range_vol_diff5': 0.023721952}, {'return_vol_30M': 0.028342951}, {'daily_volume_vol_diff30': 0.022505764}, {'close_diff': 0.025727926}, {'volume_vol_15M': 0.019576548}, {'return_vol_10D': 0.028571878}, {'daily_vol_diff_pct': 0.031141514}, {'daily_volume_vol_diff_pct30': 0.022969099}, {'range_vol5MA': 0.02509801}, {'cmf': 0.02369086}, {'return_vol_450M': 0.02615619}, {'hour_volume_vol_diff_pct': 0.022389375}, {'min_vol_diff': 0.0209011}, {'price_25DDiff': 0.024664529}, {'return_vol_3D': 0.023171088}, {'daily_vol_diff_pct30': 0.02452492}, {'volume_vol_3D': 0.022052541}, {'volume_vol_450M': 0.023066543}, {'close_diff_deviation': 0.024640543}, {'return_vol_30D': 0.02599585}, {'close_diff_deviation3': 0.025805544}, {'return_vol_16H': 0.023651464}, {'volume_vol_30M': 0.019926637}, {'rsi': 0.024754308}, {'threeD_stddev50': 0.02665592}, {'close_diff5': 0.024574926}, {'range_vol10MA': 0.024611525}, {'SPY_5D': 0.027133776}, {'daily_vol_diff': 0.046531714}, {'SPY_diff3': 0.023663208}, {'volume_vol_5D': 0.022268683}, {'rsi3': 0.029941248}, {'volume_25DDiff': 0.021575537}, {'price7': 0.02303558}]\"}\n",
      "{'deployment_date': datetime.datetime(2023, 5, 29, 0, 0), 'dataset_end': datetime.datetime(2023, 5, 19, 0, 0), 'dataset_start': datetime.datetime(2018, 1, 1, 0, 0)}\n"
     ]
    },
    {
     "name": "stderr",
     "output_type": "stream",
     "text": [
      "/var/folders/tq/_9q_lv1s2bndbr3tzzn08x4r0000gn/T/ipykernel_59883/3784404324.py:66: DtypeWarning: Columns (109,110) have mixed types. Specify dtype option on import or set low_memory=False.\n",
      "  data = pd.read_csv(f'/Users/charlesmiller/Documents/model_tester_data/CDLOSE/2018-01-01_2023-12-23_validationTR15.csv')\n"
     ]
    },
    {
     "name": "stdout",
     "output_type": "stream",
     "text": [
      "label\n",
      "1    66879\n",
      "0    54907\n",
      "Name: count, dtype: int64\n",
      "96 93 97 74\n",
      "{'model_name': 'CDLOSE_1d:TSSIM1_TL15-EXP_custHypTP0.55', 'deployment_date': '2023-05-29', 'algorithm_type': 'xgboost', 'dataset': 'TSSIM1_TL15-EXP_custHypTP0.55', 'TP': 96, 'TPpct': Decimal('0'), 'FP': 93, 'FPpct': Decimal('0'), 'TN': 97, 'TNpct': Decimal('0'), 'FN': 74, 'FNpct': Decimal('0'), 'precision_ratio': Decimal('1.032258064516129'), 'evaluation_timeperiod': '2023-05-29_2023-06-02', 'live': False, 'hyperparameters': {\"{'subsample': 0.6, 'num_round': 1000, 'min_child_weight': 10, 'max_depth': 10, 'learning_rate': 0.1, 'gamma': 2, 'colsample_bytree': 1}\"}, 'features': {\"['SPY_diff', 'day_of_week', 'return_vol_5D', 'hour_volume_vol_diff', 'return_vol_240M', 'volume_vol_8H', 'range_vol_diff5', 'return_vol_30M', 'daily_volume_vol_diff30', 'close_diff', 'volume_vol_15M', 'return_vol_10D', 'daily_vol_diff_pct', 'daily_volume_vol_diff_pct30', 'range_vol5MA', 'cmf', 'return_vol_450M', 'hour_volume_vol_diff_pct', 'min_vol_diff', 'price_25DDiff', 'return_vol_3D', 'daily_vol_diff_pct30', 'volume_vol_3D', 'volume_vol_450M', 'close_diff_deviation', 'return_vol_30D', 'close_diff_deviation3', 'return_vol_16H', 'volume_vol_30M', 'rsi', 'threeD_stddev50', 'close_diff5', 'range_vol10MA', 'SPY_5D', 'daily_vol_diff', 'SPY_diff3', 'volume_vol_5D', 'rsi3', 'volume_25DDiff', 'price7']\"}, 'target': '-0.797+one_min_vol', 'feature_importances': \"[{'SPY_diff': 0.023782775}, {'day_of_week': 0.02790262}, {'return_vol_5D': 0.02447656}, {'hour_volume_vol_diff': 0.02209505}, {'return_vol_240M': 0.025442377}, {'volume_vol_8H': 0.022223925}, {'range_vol_diff5': 0.024224816}, {'return_vol_30M': 0.027901987}, {'daily_volume_vol_diff30': 0.022745682}, {'close_diff': 0.025966149}, {'volume_vol_15M': 0.019302612}, {'return_vol_10D': 0.029425679}, {'daily_vol_diff_pct': 0.030438771}, {'daily_volume_vol_diff_pct30': 0.023570778}, {'range_vol5MA': 0.024783576}, {'cmf': 0.023340695}, {'return_vol_450M': 0.025642887}, {'hour_volume_vol_diff_pct': 0.022819161}, {'min_vol_diff': 0.020558868}, {'price_25DDiff': 0.024447842}, {'return_vol_3D': 0.022797955}, {'daily_vol_diff_pct30': 0.025376564}, {'volume_vol_3D': 0.020889666}, {'volume_vol_450M': 0.022630777}, {'close_diff_deviation': 0.024325693}, {'return_vol_30D': 0.025358634}, {'close_diff_deviation3': 0.025531348}, {'return_vol_16H': 0.02388643}, {'volume_vol_30M': 0.019960243}, {'rsi': 0.025242124}, {'threeD_stddev50': 0.02625058}, {'close_diff5': 0.025234634}, {'range_vol10MA': 0.02544742}, {'SPY_5D': 0.026920492}, {'daily_vol_diff': 0.04785028}, {'SPY_diff3': 0.02264609}, {'volume_vol_5D': 0.022627711}, {'rsi3': 0.029528579}, {'volume_25DDiff': 0.022007149}, {'price7': 0.024394855}]\"}\n",
      "{'deployment_date': datetime.datetime(2023, 6, 5, 0, 0), 'dataset_end': datetime.datetime(2023, 5, 26, 0, 0), 'dataset_start': datetime.datetime(2018, 1, 1, 0, 0)}\n"
     ]
    },
    {
     "name": "stderr",
     "output_type": "stream",
     "text": [
      "/var/folders/tq/_9q_lv1s2bndbr3tzzn08x4r0000gn/T/ipykernel_59883/3784404324.py:66: DtypeWarning: Columns (109,110) have mixed types. Specify dtype option on import or set low_memory=False.\n",
      "  data = pd.read_csv(f'/Users/charlesmiller/Documents/model_tester_data/CDLOSE/2018-01-01_2023-12-23_validationTR15.csv')\n"
     ]
    },
    {
     "name": "stdout",
     "output_type": "stream",
     "text": [
      "label\n",
      "1    67139\n",
      "0    55097\n",
      "Name: count, dtype: int64\n",
      "76 129 166 79\n",
      "{'model_name': 'CDLOSE_1d:TSSIM1_TL15-EXP_custHypTP0.55', 'deployment_date': '2023-06-05', 'algorithm_type': 'xgboost', 'dataset': 'TSSIM1_TL15-EXP_custHypTP0.55', 'TP': 76, 'TPpct': Decimal('0'), 'FP': 129, 'FPpct': Decimal('0'), 'TN': 166, 'TNpct': Decimal('0'), 'FN': 79, 'FNpct': Decimal('0'), 'precision_ratio': Decimal('0.5891472868217055'), 'evaluation_timeperiod': '2023-06-05_2023-06-09', 'live': False, 'hyperparameters': {\"{'subsample': 0.6, 'num_round': 1000, 'min_child_weight': 10, 'max_depth': 10, 'learning_rate': 0.1, 'gamma': 2, 'colsample_bytree': 1}\"}, 'features': {\"['SPY_diff', 'day_of_week', 'return_vol_5D', 'hour_volume_vol_diff', 'return_vol_240M', 'volume_vol_8H', 'range_vol_diff5', 'return_vol_30M', 'daily_volume_vol_diff30', 'close_diff', 'volume_vol_15M', 'return_vol_10D', 'daily_vol_diff_pct', 'daily_volume_vol_diff_pct30', 'range_vol5MA', 'cmf', 'return_vol_450M', 'hour_volume_vol_diff_pct', 'min_vol_diff', 'price_25DDiff', 'return_vol_3D', 'daily_vol_diff_pct30', 'volume_vol_3D', 'volume_vol_450M', 'close_diff_deviation', 'return_vol_30D', 'close_diff_deviation3', 'return_vol_16H', 'volume_vol_30M', 'rsi', 'threeD_stddev50', 'close_diff5', 'range_vol10MA', 'SPY_5D', 'daily_vol_diff', 'SPY_diff3', 'volume_vol_5D', 'rsi3', 'volume_25DDiff', 'price7']\"}, 'target': '-0.797+one_min_vol', 'feature_importances': \"[{'SPY_diff': 0.023866529}, {'day_of_week': 0.027676476}, {'return_vol_5D': 0.023361662}, {'hour_volume_vol_diff': 0.02146241}, {'return_vol_240M': 0.025273677}, {'volume_vol_8H': 0.022382576}, {'range_vol_diff5': 0.024663115}, {'return_vol_30M': 0.028015142}, {'daily_volume_vol_diff30': 0.023335068}, {'close_diff': 0.026234783}, {'volume_vol_15M': 0.020068284}, {'return_vol_10D': 0.028625175}, {'daily_vol_diff_pct': 0.03055028}, {'daily_volume_vol_diff_pct30': 0.0234699}, {'range_vol5MA': 0.02581838}, {'cmf': 0.022740759}, {'return_vol_450M': 0.02651291}, {'hour_volume_vol_diff_pct': 0.0239833}, {'min_vol_diff': 0.02103143}, {'price_25DDiff': 0.023763146}, {'return_vol_3D': 0.023367055}, {'daily_vol_diff_pct30': 0.024748575}, {'volume_vol_3D': 0.022026433}, {'volume_vol_450M': 0.023325998}, {'close_diff_deviation': 0.02390457}, {'return_vol_30D': 0.025144769}, {'close_diff_deviation3': 0.026260551}, {'return_vol_16H': 0.02311887}, {'volume_vol_30M': 0.020663397}, {'rsi': 0.024616709}, {'threeD_stddev50': 0.02665103}, {'close_diff5': 0.025306989}, {'range_vol10MA': 0.0253555}, {'SPY_5D': 0.026729282}, {'daily_vol_diff': 0.046047267}, {'SPY_diff3': 0.023408428}, {'volume_vol_5D': 0.021772236}, {'rsi3': 0.029536996}, {'volume_25DDiff': 0.021747386}, {'price7': 0.023432909}]\"}\n",
      "{'deployment_date': datetime.datetime(2023, 6, 12, 0, 0), 'dataset_end': datetime.datetime(2023, 6, 2, 0, 0), 'dataset_start': datetime.datetime(2018, 1, 1, 0, 0)}\n"
     ]
    },
    {
     "name": "stderr",
     "output_type": "stream",
     "text": [
      "/var/folders/tq/_9q_lv1s2bndbr3tzzn08x4r0000gn/T/ipykernel_59883/3784404324.py:66: DtypeWarning: Columns (109,110) have mixed types. Specify dtype option on import or set low_memory=False.\n",
      "  data = pd.read_csv(f'/Users/charlesmiller/Documents/model_tester_data/CDLOSE/2018-01-01_2023-12-23_validationTR15.csv')\n"
     ]
    },
    {
     "name": "stdout",
     "output_type": "stream",
     "text": [
      "label\n",
      "1    67311\n",
      "0    55285\n",
      "Name: count, dtype: int64\n",
      "119 90 138 103\n",
      "{'model_name': 'CDLOSE_1d:TSSIM1_TL15-EXP_custHypTP0.55', 'deployment_date': '2023-06-12', 'algorithm_type': 'xgboost', 'dataset': 'TSSIM1_TL15-EXP_custHypTP0.55', 'TP': 119, 'TPpct': Decimal('0'), 'FP': 90, 'FPpct': Decimal('0'), 'TN': 138, 'TNpct': Decimal('0'), 'FN': 103, 'FNpct': Decimal('0'), 'precision_ratio': Decimal('1.3222222222222222'), 'evaluation_timeperiod': '2023-06-12_2023-06-16', 'live': False, 'hyperparameters': {\"{'subsample': 0.6, 'num_round': 1000, 'min_child_weight': 10, 'max_depth': 10, 'learning_rate': 0.1, 'gamma': 2, 'colsample_bytree': 1}\"}, 'features': {\"['SPY_diff', 'day_of_week', 'return_vol_5D', 'hour_volume_vol_diff', 'return_vol_240M', 'volume_vol_8H', 'range_vol_diff5', 'return_vol_30M', 'daily_volume_vol_diff30', 'close_diff', 'volume_vol_15M', 'return_vol_10D', 'daily_vol_diff_pct', 'daily_volume_vol_diff_pct30', 'range_vol5MA', 'cmf', 'return_vol_450M', 'hour_volume_vol_diff_pct', 'min_vol_diff', 'price_25DDiff', 'return_vol_3D', 'daily_vol_diff_pct30', 'volume_vol_3D', 'volume_vol_450M', 'close_diff_deviation', 'return_vol_30D', 'close_diff_deviation3', 'return_vol_16H', 'volume_vol_30M', 'rsi', 'threeD_stddev50', 'close_diff5', 'range_vol10MA', 'SPY_5D', 'daily_vol_diff', 'SPY_diff3', 'volume_vol_5D', 'rsi3', 'volume_25DDiff', 'price7']\"}, 'target': '-0.797+one_min_vol', 'feature_importances': \"[{'SPY_diff': 0.023587748}, {'day_of_week': 0.027577577}, {'return_vol_5D': 0.023932345}, {'hour_volume_vol_diff': 0.022576965}, {'return_vol_240M': 0.025688687}, {'volume_vol_8H': 0.021836892}, {'range_vol_diff5': 0.024471156}, {'return_vol_30M': 0.02773829}, {'daily_volume_vol_diff30': 0.023494901}, {'close_diff': 0.025285013}, {'volume_vol_15M': 0.019881522}, {'return_vol_10D': 0.028478576}, {'daily_vol_diff_pct': 0.030068683}, {'daily_volume_vol_diff_pct30': 0.02342073}, {'range_vol5MA': 0.024648938}, {'cmf': 0.023145596}, {'return_vol_450M': 0.026484706}, {'hour_volume_vol_diff_pct': 0.022927279}, {'min_vol_diff': 0.021528052}, {'price_25DDiff': 0.02506688}, {'return_vol_3D': 0.022984179}, {'daily_vol_diff_pct30': 0.024742663}, {'volume_vol_3D': 0.022205083}, {'volume_vol_450M': 0.02261915}, {'close_diff_deviation': 0.024556767}, {'return_vol_30D': 0.02521553}, {'close_diff_deviation3': 0.025951145}, {'return_vol_16H': 0.022981077}, {'volume_vol_30M': 0.019888703}, {'rsi': 0.025039172}, {'threeD_stddev50': 0.027654119}, {'close_diff5': 0.024784023}, {'range_vol10MA': 0.024470748}, {'SPY_5D': 0.026968872}, {'daily_vol_diff': 0.048668254}, {'SPY_diff3': 0.022834277}, {'volume_vol_5D': 0.021466892}, {'rsi3': 0.029562829}, {'volume_25DDiff': 0.022164222}, {'price7': 0.023401726}]\"}\n",
      "{'deployment_date': datetime.datetime(2023, 6, 19, 0, 0), 'dataset_end': datetime.datetime(2023, 6, 9, 0, 0), 'dataset_start': datetime.datetime(2018, 1, 1, 0, 0)}\n"
     ]
    },
    {
     "name": "stderr",
     "output_type": "stream",
     "text": [
      "/var/folders/tq/_9q_lv1s2bndbr3tzzn08x4r0000gn/T/ipykernel_59883/3784404324.py:66: DtypeWarning: Columns (109,110) have mixed types. Specify dtype option on import or set low_memory=False.\n",
      "  data = pd.read_csv(f'/Users/charlesmiller/Documents/model_tester_data/CDLOSE/2018-01-01_2023-12-23_validationTR15.csv')\n"
     ]
    },
    {
     "name": "stdout",
     "output_type": "stream",
     "text": [
      "label\n",
      "1    67591\n",
      "0    55455\n",
      "Name: count, dtype: int64\n",
      "163 78 57 62\n",
      "{'model_name': 'CDLOSE_1d:TSSIM1_TL15-EXP_custHypTP0.55', 'deployment_date': '2023-06-19', 'algorithm_type': 'xgboost', 'dataset': 'TSSIM1_TL15-EXP_custHypTP0.55', 'TP': 163, 'TPpct': Decimal('0'), 'FP': 78, 'FPpct': Decimal('0'), 'TN': 57, 'TNpct': Decimal('0'), 'FN': 62, 'FNpct': Decimal('0'), 'precision_ratio': Decimal('2.08974358974359'), 'evaluation_timeperiod': '2023-06-19_2023-06-23', 'live': False, 'hyperparameters': {\"{'subsample': 0.6, 'num_round': 1000, 'min_child_weight': 10, 'max_depth': 10, 'learning_rate': 0.1, 'gamma': 2, 'colsample_bytree': 1}\"}, 'features': {\"['SPY_diff', 'day_of_week', 'return_vol_5D', 'hour_volume_vol_diff', 'return_vol_240M', 'volume_vol_8H', 'range_vol_diff5', 'return_vol_30M', 'daily_volume_vol_diff30', 'close_diff', 'volume_vol_15M', 'return_vol_10D', 'daily_vol_diff_pct', 'daily_volume_vol_diff_pct30', 'range_vol5MA', 'cmf', 'return_vol_450M', 'hour_volume_vol_diff_pct', 'min_vol_diff', 'price_25DDiff', 'return_vol_3D', 'daily_vol_diff_pct30', 'volume_vol_3D', 'volume_vol_450M', 'close_diff_deviation', 'return_vol_30D', 'close_diff_deviation3', 'return_vol_16H', 'volume_vol_30M', 'rsi', 'threeD_stddev50', 'close_diff5', 'range_vol10MA', 'SPY_5D', 'daily_vol_diff', 'SPY_diff3', 'volume_vol_5D', 'rsi3', 'volume_25DDiff', 'price7']\"}, 'target': '-0.795+one_min_vol', 'feature_importances': \"[{'SPY_diff': 0.023832511}, {'day_of_week': 0.027734436}, {'return_vol_5D': 0.024033906}, {'hour_volume_vol_diff': 0.022276612}, {'return_vol_240M': 0.02585407}, {'volume_vol_8H': 0.022521228}, {'range_vol_diff5': 0.024404803}, {'return_vol_30M': 0.028727412}, {'daily_volume_vol_diff30': 0.02276096}, {'close_diff': 0.024932368}, {'volume_vol_15M': 0.019773664}, {'return_vol_10D': 0.028192656}, {'daily_vol_diff_pct': 0.03138892}, {'daily_volume_vol_diff_pct30': 0.022685008}, {'range_vol5MA': 0.025136573}, {'cmf': 0.02345698}, {'return_vol_450M': 0.026622558}, {'hour_volume_vol_diff_pct': 0.022660656}, {'min_vol_diff': 0.020938477}, {'price_25DDiff': 0.0238599}, {'return_vol_3D': 0.023560626}, {'daily_vol_diff_pct30': 0.024257433}, {'volume_vol_3D': 0.02247489}, {'volume_vol_450M': 0.022288062}, {'close_diff_deviation': 0.024083547}, {'return_vol_30D': 0.025501402}, {'close_diff_deviation3': 0.026058368}, {'return_vol_16H': 0.022984607}, {'volume_vol_30M': 0.019433524}, {'rsi': 0.025215121}, {'threeD_stddev50': 0.02664091}, {'close_diff5': 0.02582336}, {'range_vol10MA': 0.025154354}, {'SPY_5D': 0.026496429}, {'daily_vol_diff': 0.047196314}, {'SPY_diff3': 0.023080157}, {'volume_vol_5D': 0.022359418}, {'rsi3': 0.03038573}, {'volume_25DDiff': 0.022006761}, {'price7': 0.023205243}]\"}\n",
      "{'deployment_date': datetime.datetime(2023, 6, 26, 0, 0), 'dataset_end': datetime.datetime(2023, 6, 16, 0, 0), 'dataset_start': datetime.datetime(2018, 1, 1, 0, 0)}\n"
     ]
    },
    {
     "name": "stderr",
     "output_type": "stream",
     "text": [
      "/var/folders/tq/_9q_lv1s2bndbr3tzzn08x4r0000gn/T/ipykernel_59883/3784404324.py:66: DtypeWarning: Columns (109,110) have mixed types. Specify dtype option on import or set low_memory=False.\n",
      "  data = pd.read_csv(f'/Users/charlesmiller/Documents/model_tester_data/CDLOSE/2018-01-01_2023-12-23_validationTR15.csv')\n"
     ]
    },
    {
     "name": "stdout",
     "output_type": "stream",
     "text": [
      "label\n",
      "1    67851\n",
      "0    55645\n",
      "Name: count, dtype: int64\n",
      "94 178 134 44\n",
      "{'model_name': 'CDLOSE_1d:TSSIM1_TL15-EXP_custHypTP0.55', 'deployment_date': '2023-06-26', 'algorithm_type': 'xgboost', 'dataset': 'TSSIM1_TL15-EXP_custHypTP0.55', 'TP': 94, 'TPpct': Decimal('0'), 'FP': 178, 'FPpct': Decimal('0'), 'TN': 134, 'TNpct': Decimal('0'), 'FN': 44, 'FNpct': Decimal('0'), 'precision_ratio': Decimal('0.5280898876404494'), 'evaluation_timeperiod': '2023-06-26_2023-06-30', 'live': False, 'hyperparameters': {\"{'subsample': 0.6, 'num_round': 1000, 'min_child_weight': 10, 'max_depth': 10, 'learning_rate': 0.1, 'gamma': 2, 'colsample_bytree': 1}\"}, 'features': {\"['SPY_diff', 'day_of_week', 'return_vol_5D', 'hour_volume_vol_diff', 'return_vol_240M', 'volume_vol_8H', 'range_vol_diff5', 'return_vol_30M', 'daily_volume_vol_diff30', 'close_diff', 'volume_vol_15M', 'return_vol_10D', 'daily_vol_diff_pct', 'daily_volume_vol_diff_pct30', 'range_vol5MA', 'cmf', 'return_vol_450M', 'hour_volume_vol_diff_pct', 'min_vol_diff', 'price_25DDiff', 'return_vol_3D', 'daily_vol_diff_pct30', 'volume_vol_3D', 'volume_vol_450M', 'close_diff_deviation', 'return_vol_30D', 'close_diff_deviation3', 'return_vol_16H', 'volume_vol_30M', 'rsi', 'threeD_stddev50', 'close_diff5', 'range_vol10MA', 'SPY_5D', 'daily_vol_diff', 'SPY_diff3', 'volume_vol_5D', 'rsi3', 'volume_25DDiff', 'price7']\"}, 'target': '-0.794+one_min_vol', 'feature_importances': \"[{'SPY_diff': 0.024068585}, {'day_of_week': 0.028198259}, {'return_vol_5D': 0.024389831}, {'hour_volume_vol_diff': 0.02186975}, {'return_vol_240M': 0.02631379}, {'volume_vol_8H': 0.022168119}, {'range_vol_diff5': 0.024195531}, {'return_vol_30M': 0.027571883}, {'daily_volume_vol_diff30': 0.024290578}, {'close_diff': 0.02581253}, {'volume_vol_15M': 0.019238442}, {'return_vol_10D': 0.02900601}, {'daily_vol_diff_pct': 0.031081792}, {'daily_volume_vol_diff_pct30': 0.022617463}, {'range_vol5MA': 0.024340047}, {'cmf': 0.023110831}, {'return_vol_450M': 0.026302187}, {'hour_volume_vol_diff_pct': 0.022984445}, {'min_vol_diff': 0.021162713}, {'price_25DDiff': 0.023854088}, {'return_vol_3D': 0.0226239}, {'daily_vol_diff_pct30': 0.025218569}, {'volume_vol_3D': 0.022552257}, {'volume_vol_450M': 0.022235658}, {'close_diff_deviation': 0.024156807}, {'return_vol_30D': 0.025510931}, {'close_diff_deviation3': 0.026629753}, {'return_vol_16H': 0.02341835}, {'volume_vol_30M': 0.019511214}, {'rsi': 0.024397222}, {'threeD_stddev50': 0.026225677}, {'close_diff5': 0.025392506}, {'range_vol10MA': 0.025426183}, {'SPY_5D': 0.026688209}, {'daily_vol_diff': 0.04805658}, {'SPY_diff3': 0.023511302}, {'volume_vol_5D': 0.021834653}, {'rsi3': 0.028437588}, {'volume_25DDiff': 0.02216946}, {'price7': 0.023426292}]\"}\n",
      "{'deployment_date': datetime.datetime(2023, 7, 3, 0, 0), 'dataset_end': datetime.datetime(2023, 6, 23, 0, 0), 'dataset_start': datetime.datetime(2018, 1, 1, 0, 0)}\n"
     ]
    },
    {
     "name": "stderr",
     "output_type": "stream",
     "text": [
      "/var/folders/tq/_9q_lv1s2bndbr3tzzn08x4r0000gn/T/ipykernel_59883/3784404324.py:66: DtypeWarning: Columns (109,110) have mixed types. Specify dtype option on import or set low_memory=False.\n",
      "  data = pd.read_csv(f'/Users/charlesmiller/Documents/model_tester_data/CDLOSE/2018-01-01_2023-12-23_validationTR15.csv')\n"
     ]
    },
    {
     "name": "stdout",
     "output_type": "stream",
     "text": [
      "label\n",
      "1    68041\n",
      "0    55815\n",
      "Name: count, dtype: int64\n",
      "60 53 136 111\n",
      "{'model_name': 'CDLOSE_1d:TSSIM1_TL15-EXP_custHypTP0.55', 'deployment_date': '2023-07-03', 'algorithm_type': 'xgboost', 'dataset': 'TSSIM1_TL15-EXP_custHypTP0.55', 'TP': 60, 'TPpct': Decimal('0'), 'FP': 53, 'FPpct': Decimal('0'), 'TN': 136, 'TNpct': Decimal('0'), 'FN': 111, 'FNpct': Decimal('0'), 'precision_ratio': Decimal('1.1320754716981132'), 'evaluation_timeperiod': '2023-07-03_2023-07-07', 'live': False, 'hyperparameters': {\"{'subsample': 0.6, 'num_round': 1000, 'min_child_weight': 10, 'max_depth': 10, 'learning_rate': 0.1, 'gamma': 2, 'colsample_bytree': 1}\"}, 'features': {\"['SPY_diff', 'day_of_week', 'return_vol_5D', 'hour_volume_vol_diff', 'return_vol_240M', 'volume_vol_8H', 'range_vol_diff5', 'return_vol_30M', 'daily_volume_vol_diff30', 'close_diff', 'volume_vol_15M', 'return_vol_10D', 'daily_vol_diff_pct', 'daily_volume_vol_diff_pct30', 'range_vol5MA', 'cmf', 'return_vol_450M', 'hour_volume_vol_diff_pct', 'min_vol_diff', 'price_25DDiff', 'return_vol_3D', 'daily_vol_diff_pct30', 'volume_vol_3D', 'volume_vol_450M', 'close_diff_deviation', 'return_vol_30D', 'close_diff_deviation3', 'return_vol_16H', 'volume_vol_30M', 'rsi', 'threeD_stddev50', 'close_diff5', 'range_vol10MA', 'SPY_5D', 'daily_vol_diff', 'SPY_diff3', 'volume_vol_5D', 'rsi3', 'volume_25DDiff', 'price7']\"}, 'target': '-0.794+one_min_vol', 'feature_importances': \"[{'SPY_diff': 0.023769576}, {'day_of_week': 0.027923467}, {'return_vol_5D': 0.024214752}, {'hour_volume_vol_diff': 0.022805262}, {'return_vol_240M': 0.025319586}, {'volume_vol_8H': 0.022246707}, {'range_vol_diff5': 0.024495991}, {'return_vol_30M': 0.027333133}, {'daily_volume_vol_diff30': 0.024104642}, {'close_diff': 0.025134034}, {'volume_vol_15M': 0.01886549}, {'return_vol_10D': 0.02920842}, {'daily_vol_diff_pct': 0.03004712}, {'daily_volume_vol_diff_pct30': 0.022566998}, {'range_vol5MA': 0.025053537}, {'cmf': 0.022393888}, {'return_vol_450M': 0.026583007}, {'hour_volume_vol_diff_pct': 0.022508428}, {'min_vol_diff': 0.021044703}, {'price_25DDiff': 0.024267118}, {'return_vol_3D': 0.022607334}, {'daily_vol_diff_pct30': 0.024925454}, {'volume_vol_3D': 0.021895686}, {'volume_vol_450M': 0.021902729}, {'close_diff_deviation': 0.023628237}, {'return_vol_30D': 0.025008347}, {'close_diff_deviation3': 0.025842339}, {'return_vol_16H': 0.023679556}, {'volume_vol_30M': 0.020174978}, {'rsi': 0.02436751}, {'threeD_stddev50': 0.026474083}, {'close_diff5': 0.025891937}, {'range_vol10MA': 0.026117982}, {'SPY_5D': 0.02692083}, {'daily_vol_diff': 0.04962219}, {'SPY_diff3': 0.023338873}, {'volume_vol_5D': 0.021675382}, {'rsi3': 0.030008256}, {'volume_25DDiff': 0.022519667}, {'price7': 0.023512721}]\"}\n",
      "{'deployment_date': datetime.datetime(2023, 7, 10, 0, 0), 'dataset_end': datetime.datetime(2023, 6, 30, 0, 0), 'dataset_start': datetime.datetime(2018, 1, 1, 0, 0)}\n"
     ]
    },
    {
     "name": "stderr",
     "output_type": "stream",
     "text": [
      "/var/folders/tq/_9q_lv1s2bndbr3tzzn08x4r0000gn/T/ipykernel_59883/3784404324.py:66: DtypeWarning: Columns (109,110) have mixed types. Specify dtype option on import or set low_memory=False.\n",
      "  data = pd.read_csv(f'/Users/charlesmiller/Documents/model_tester_data/CDLOSE/2018-01-01_2023-12-23_validationTR15.csv')\n"
     ]
    },
    {
     "name": "stdout",
     "output_type": "stream",
     "text": [
      "label\n",
      "1    68276\n",
      "0    56030\n",
      "Name: count, dtype: int64\n",
      "164 111 102 73\n",
      "{'model_name': 'CDLOSE_1d:TSSIM1_TL15-EXP_custHypTP0.55', 'deployment_date': '2023-07-10', 'algorithm_type': 'xgboost', 'dataset': 'TSSIM1_TL15-EXP_custHypTP0.55', 'TP': 164, 'TPpct': Decimal('0'), 'FP': 111, 'FPpct': Decimal('0'), 'TN': 102, 'TNpct': Decimal('0'), 'FN': 73, 'FNpct': Decimal('0'), 'precision_ratio': Decimal('1.4774774774774775'), 'evaluation_timeperiod': '2023-07-10_2023-07-14', 'live': False, 'hyperparameters': {\"{'subsample': 0.6, 'num_round': 1000, 'min_child_weight': 10, 'max_depth': 10, 'learning_rate': 0.1, 'gamma': 2, 'colsample_bytree': 1}\"}, 'features': {\"['SPY_diff', 'day_of_week', 'return_vol_5D', 'hour_volume_vol_diff', 'return_vol_240M', 'volume_vol_8H', 'range_vol_diff5', 'return_vol_30M', 'daily_volume_vol_diff30', 'close_diff', 'volume_vol_15M', 'return_vol_10D', 'daily_vol_diff_pct', 'daily_volume_vol_diff_pct30', 'range_vol5MA', 'cmf', 'return_vol_450M', 'hour_volume_vol_diff_pct', 'min_vol_diff', 'price_25DDiff', 'return_vol_3D', 'daily_vol_diff_pct30', 'volume_vol_3D', 'volume_vol_450M', 'close_diff_deviation', 'return_vol_30D', 'close_diff_deviation3', 'return_vol_16H', 'volume_vol_30M', 'rsi', 'threeD_stddev50', 'close_diff5', 'range_vol10MA', 'SPY_5D', 'daily_vol_diff', 'SPY_diff3', 'volume_vol_5D', 'rsi3', 'volume_25DDiff', 'price7']\"}, 'target': '-0.792+one_min_vol', 'feature_importances': \"[{'SPY_diff': 0.023688976}, {'day_of_week': 0.028493546}, {'return_vol_5D': 0.023616113}, {'hour_volume_vol_diff': 0.022239232}, {'return_vol_240M': 0.025740158}, {'volume_vol_8H': 0.022290953}, {'range_vol_diff5': 0.024129162}, {'return_vol_30M': 0.027138025}, {'daily_volume_vol_diff30': 0.02372028}, {'close_diff': 0.025301756}, {'volume_vol_15M': 0.019524882}, {'return_vol_10D': 0.028456297}, {'daily_vol_diff_pct': 0.030443048}, {'daily_volume_vol_diff_pct30': 0.022895858}, {'range_vol5MA': 0.025521247}, {'cmf': 0.0230759}, {'return_vol_450M': 0.026443768}, {'hour_volume_vol_diff_pct': 0.022737756}, {'min_vol_diff': 0.02157615}, {'price_25DDiff': 0.023984894}, {'return_vol_3D': 0.022544427}, {'daily_vol_diff_pct30': 0.024561482}, {'volume_vol_3D': 0.02224751}, {'volume_vol_450M': 0.02224114}, {'close_diff_deviation': 0.023389364}, {'return_vol_30D': 0.024943907}, {'close_diff_deviation3': 0.026289057}, {'return_vol_16H': 0.023784209}, {'volume_vol_30M': 0.019961927}, {'rsi': 0.02479718}, {'threeD_stddev50': 0.025874197}, {'close_diff5': 0.025927907}, {'range_vol10MA': 0.0259645}, {'SPY_5D': 0.027077084}, {'daily_vol_diff': 0.0493762}, {'SPY_diff3': 0.023199204}, {'volume_vol_5D': 0.02189796}, {'rsi3': 0.029341005}, {'volume_25DDiff': 0.021883843}, {'price7': 0.023679923}]\"}\n",
      "{'deployment_date': datetime.datetime(2023, 7, 17, 0, 0), 'dataset_end': datetime.datetime(2023, 7, 7, 0, 0), 'dataset_start': datetime.datetime(2018, 1, 1, 0, 0)}\n"
     ]
    },
    {
     "name": "stderr",
     "output_type": "stream",
     "text": [
      "/var/folders/tq/_9q_lv1s2bndbr3tzzn08x4r0000gn/T/ipykernel_59883/3784404324.py:66: DtypeWarning: Columns (109,110) have mixed types. Specify dtype option on import or set low_memory=False.\n",
      "  data = pd.read_csv(f'/Users/charlesmiller/Documents/model_tester_data/CDLOSE/2018-01-01_2023-12-23_validationTR15.csv')\n"
     ]
    },
    {
     "name": "stdout",
     "output_type": "stream",
     "text": [
      "label\n",
      "1    68477\n",
      "0    56189\n",
      "Name: count, dtype: int64\n",
      "158 98 96 98\n",
      "{'model_name': 'CDLOSE_1d:TSSIM1_TL15-EXP_custHypTP0.55', 'deployment_date': '2023-07-17', 'algorithm_type': 'xgboost', 'dataset': 'TSSIM1_TL15-EXP_custHypTP0.55', 'TP': 158, 'TPpct': Decimal('0'), 'FP': 98, 'FPpct': Decimal('0'), 'TN': 96, 'TNpct': Decimal('0'), 'FN': 98, 'FNpct': Decimal('0'), 'precision_ratio': Decimal('1.6122448979591837'), 'evaluation_timeperiod': '2023-07-17_2023-07-21', 'live': False, 'hyperparameters': {\"{'subsample': 0.6, 'num_round': 1000, 'min_child_weight': 10, 'max_depth': 10, 'learning_rate': 0.1, 'gamma': 2, 'colsample_bytree': 1}\"}, 'features': {\"['SPY_diff', 'day_of_week', 'return_vol_5D', 'hour_volume_vol_diff', 'return_vol_240M', 'volume_vol_8H', 'range_vol_diff5', 'return_vol_30M', 'daily_volume_vol_diff30', 'close_diff', 'volume_vol_15M', 'return_vol_10D', 'daily_vol_diff_pct', 'daily_volume_vol_diff_pct30', 'range_vol5MA', 'cmf', 'return_vol_450M', 'hour_volume_vol_diff_pct', 'min_vol_diff', 'price_25DDiff', 'return_vol_3D', 'daily_vol_diff_pct30', 'volume_vol_3D', 'volume_vol_450M', 'close_diff_deviation', 'return_vol_30D', 'close_diff_deviation3', 'return_vol_16H', 'volume_vol_30M', 'rsi', 'threeD_stddev50', 'close_diff5', 'range_vol10MA', 'SPY_5D', 'daily_vol_diff', 'SPY_diff3', 'volume_vol_5D', 'rsi3', 'volume_25DDiff', 'price7']\"}, 'target': '-0.792+one_min_vol', 'feature_importances': \"[{'SPY_diff': 0.023792176}, {'day_of_week': 0.027390802}, {'return_vol_5D': 0.02390174}, {'hour_volume_vol_diff': 0.022429526}, {'return_vol_240M': 0.027090916}, {'volume_vol_8H': 0.022273492}, {'range_vol_diff5': 0.023966225}, {'return_vol_30M': 0.02900256}, {'daily_volume_vol_diff30': 0.022940282}, {'close_diff': 0.025528323}, {'volume_vol_15M': 0.020197675}, {'return_vol_10D': 0.02937604}, {'daily_vol_diff_pct': 0.03131539}, {'daily_volume_vol_diff_pct30': 0.023198431}, {'range_vol5MA': 0.025103724}, {'cmf': 0.022858012}, {'return_vol_450M': 0.025400838}, {'hour_volume_vol_diff_pct': 0.02310082}, {'min_vol_diff': 0.020676581}, {'price_25DDiff': 0.023801452}, {'return_vol_3D': 0.022333086}, {'daily_vol_diff_pct30': 0.025054604}, {'volume_vol_3D': 0.021681638}, {'volume_vol_450M': 0.022137156}, {'close_diff_deviation': 0.023298992}, {'return_vol_30D': 0.025362875}, {'close_diff_deviation3': 0.025711093}, {'return_vol_16H': 0.022902181}, {'volume_vol_30M': 0.019347817}, {'rsi': 0.024617525}, {'threeD_stddev50': 0.026259916}, {'close_diff5': 0.025226185}, {'range_vol10MA': 0.025135845}, {'SPY_5D': 0.027137063}, {'daily_vol_diff': 0.051011216}, {'SPY_diff3': 0.022457143}, {'volume_vol_5D': 0.021665664}, {'rsi3': 0.029489527}, {'volume_25DDiff': 0.022590727}, {'price7': 0.023234716}]\"}\n",
      "{'deployment_date': datetime.datetime(2023, 7, 24, 0, 0), 'dataset_end': datetime.datetime(2023, 7, 14, 0, 0), 'dataset_start': datetime.datetime(2018, 1, 1, 0, 0)}\n"
     ]
    },
    {
     "name": "stderr",
     "output_type": "stream",
     "text": [
      "/var/folders/tq/_9q_lv1s2bndbr3tzzn08x4r0000gn/T/ipykernel_59883/3784404324.py:66: DtypeWarning: Columns (109,110) have mixed types. Specify dtype option on import or set low_memory=False.\n",
      "  data = pd.read_csv(f'/Users/charlesmiller/Documents/model_tester_data/CDLOSE/2018-01-01_2023-12-23_validationTR15.csv')\n"
     ]
    },
    {
     "name": "stdout",
     "output_type": "stream",
     "text": [
      "label\n",
      "1    68690\n",
      "0    56426\n",
      "Name: count, dtype: int64\n",
      "114 126 118 92\n",
      "{'model_name': 'CDLOSE_1d:TSSIM1_TL15-EXP_custHypTP0.55', 'deployment_date': '2023-07-24', 'algorithm_type': 'xgboost', 'dataset': 'TSSIM1_TL15-EXP_custHypTP0.55', 'TP': 114, 'TPpct': Decimal('0'), 'FP': 126, 'FPpct': Decimal('0'), 'TN': 118, 'TNpct': Decimal('0'), 'FN': 92, 'FNpct': Decimal('0'), 'precision_ratio': Decimal('0.9047619047619048'), 'evaluation_timeperiod': '2023-07-24_2023-07-28', 'live': False, 'hyperparameters': {\"{'subsample': 0.6, 'num_round': 1000, 'min_child_weight': 10, 'max_depth': 10, 'learning_rate': 0.1, 'gamma': 2, 'colsample_bytree': 1}\"}, 'features': {\"['SPY_diff', 'day_of_week', 'return_vol_5D', 'hour_volume_vol_diff', 'return_vol_240M', 'volume_vol_8H', 'range_vol_diff5', 'return_vol_30M', 'daily_volume_vol_diff30', 'close_diff', 'volume_vol_15M', 'return_vol_10D', 'daily_vol_diff_pct', 'daily_volume_vol_diff_pct30', 'range_vol5MA', 'cmf', 'return_vol_450M', 'hour_volume_vol_diff_pct', 'min_vol_diff', 'price_25DDiff', 'return_vol_3D', 'daily_vol_diff_pct30', 'volume_vol_3D', 'volume_vol_450M', 'close_diff_deviation', 'return_vol_30D', 'close_diff_deviation3', 'return_vol_16H', 'volume_vol_30M', 'rsi', 'threeD_stddev50', 'close_diff5', 'range_vol10MA', 'SPY_5D', 'daily_vol_diff', 'SPY_diff3', 'volume_vol_5D', 'rsi3', 'volume_25DDiff', 'price7']\"}, 'target': '-0.792+one_min_vol', 'feature_importances': \"[{'SPY_diff': 0.024037324}, {'day_of_week': 0.028398462}, {'return_vol_5D': 0.024495196}, {'hour_volume_vol_diff': 0.02299796}, {'return_vol_240M': 0.025628796}, {'volume_vol_8H': 0.022227034}, {'range_vol_diff5': 0.02448078}, {'return_vol_30M': 0.027191209}, {'daily_volume_vol_diff30': 0.023111565}, {'close_diff': 0.025274377}, {'volume_vol_15M': 0.019185573}, {'return_vol_10D': 0.029292012}, {'daily_vol_diff_pct': 0.031141045}, {'daily_volume_vol_diff_pct30': 0.023141503}, {'range_vol5MA': 0.024039026}, {'cmf': 0.022861786}, {'return_vol_450M': 0.026089743}, {'hour_volume_vol_diff_pct': 0.022696195}, {'min_vol_diff': 0.021667235}, {'price_25DDiff': 0.023334753}, {'return_vol_3D': 0.021969248}, {'daily_vol_diff_pct30': 0.024534376}, {'volume_vol_3D': 0.021610714}, {'volume_vol_450M': 0.022703903}, {'close_diff_deviation': 0.023878405}, {'return_vol_30D': 0.025233338}, {'close_diff_deviation3': 0.026508896}, {'return_vol_16H': 0.023348652}, {'volume_vol_30M': 0.020285634}, {'rsi': 0.024624214}, {'threeD_stddev50': 0.026363999}, {'close_diff5': 0.026580459}, {'range_vol10MA': 0.024651028}, {'SPY_5D': 0.026510267}, {'daily_vol_diff': 0.04823062}, {'SPY_diff3': 0.02372694}, {'volume_vol_5D': 0.022366997}, {'rsi3': 0.029354654}, {'volume_25DDiff': 0.022200081}, {'price7': 0.024025992}]\"}\n",
      "{'deployment_date': datetime.datetime(2023, 7, 31, 0, 0), 'dataset_end': datetime.datetime(2023, 7, 21, 0, 0), 'dataset_start': datetime.datetime(2018, 1, 1, 0, 0)}\n"
     ]
    },
    {
     "name": "stderr",
     "output_type": "stream",
     "text": [
      "/var/folders/tq/_9q_lv1s2bndbr3tzzn08x4r0000gn/T/ipykernel_59883/3784404324.py:66: DtypeWarning: Columns (109,110) have mixed types. Specify dtype option on import or set low_memory=False.\n",
      "  data = pd.read_csv(f'/Users/charlesmiller/Documents/model_tester_data/CDLOSE/2018-01-01_2023-12-23_validationTR15.csv')\n"
     ]
    },
    {
     "name": "stdout",
     "output_type": "stream",
     "text": [
      "label\n",
      "1    68975\n",
      "0    56591\n",
      "Name: count, dtype: int64\n",
      "178 77 66 129\n",
      "{'model_name': 'CDLOSE_1d:TSSIM1_TL15-EXP_custHypTP0.55', 'deployment_date': '2023-07-31', 'algorithm_type': 'xgboost', 'dataset': 'TSSIM1_TL15-EXP_custHypTP0.55', 'TP': 178, 'TPpct': Decimal('0'), 'FP': 77, 'FPpct': Decimal('0'), 'TN': 66, 'TNpct': Decimal('0'), 'FN': 129, 'FNpct': Decimal('0'), 'precision_ratio': Decimal('2.311688311688312'), 'evaluation_timeperiod': '2023-07-31_2023-08-04', 'live': False, 'hyperparameters': {\"{'subsample': 0.6, 'num_round': 1000, 'min_child_weight': 10, 'max_depth': 10, 'learning_rate': 0.1, 'gamma': 2, 'colsample_bytree': 1}\"}, 'features': {\"['SPY_diff', 'day_of_week', 'return_vol_5D', 'hour_volume_vol_diff', 'return_vol_240M', 'volume_vol_8H', 'range_vol_diff5', 'return_vol_30M', 'daily_volume_vol_diff30', 'close_diff', 'volume_vol_15M', 'return_vol_10D', 'daily_vol_diff_pct', 'daily_volume_vol_diff_pct30', 'range_vol5MA', 'cmf', 'return_vol_450M', 'hour_volume_vol_diff_pct', 'min_vol_diff', 'price_25DDiff', 'return_vol_3D', 'daily_vol_diff_pct30', 'volume_vol_3D', 'volume_vol_450M', 'close_diff_deviation', 'return_vol_30D', 'close_diff_deviation3', 'return_vol_16H', 'volume_vol_30M', 'rsi', 'threeD_stddev50', 'close_diff5', 'range_vol10MA', 'SPY_5D', 'daily_vol_diff', 'SPY_diff3', 'volume_vol_5D', 'rsi3', 'volume_25DDiff', 'price7']\"}, 'target': '-0.791+one_min_vol', 'feature_importances': \"[{'SPY_diff': 0.023889037}, {'day_of_week': 0.027474247}, {'return_vol_5D': 0.024256097}, {'hour_volume_vol_diff': 0.023019096}, {'return_vol_240M': 0.02600253}, {'volume_vol_8H': 0.02280783}, {'range_vol_diff5': 0.023608604}, {'return_vol_30M': 0.028333591}, {'daily_volume_vol_diff30': 0.02301291}, {'close_diff': 0.025405137}, {'volume_vol_15M': 0.019793581}, {'return_vol_10D': 0.029260322}, {'daily_vol_diff_pct': 0.03140825}, {'daily_volume_vol_diff_pct30': 0.023220258}, {'range_vol5MA': 0.02456857}, {'cmf': 0.023626411}, {'return_vol_450M': 0.026253387}, {'hour_volume_vol_diff_pct': 0.022718687}, {'min_vol_diff': 0.021664418}, {'price_25DDiff': 0.023571314}, {'return_vol_3D': 0.023247765}, {'daily_vol_diff_pct30': 0.02474596}, {'volume_vol_3D': 0.021680977}, {'volume_vol_450M': 0.022201674}, {'close_diff_deviation': 0.0246487}, {'return_vol_30D': 0.025647927}, {'close_diff_deviation3': 0.026679974}, {'return_vol_16H': 0.022992978}, {'volume_vol_30M': 0.01990719}, {'rsi': 0.024436422}, {'threeD_stddev50': 0.025945207}, {'close_diff5': 0.025786377}, {'range_vol10MA': 0.024969496}, {'SPY_5D': 0.026733918}, {'daily_vol_diff': 0.04594909}, {'SPY_diff3': 0.023428248}, {'volume_vol_5D': 0.022182379}, {'rsi3': 0.029249266}, {'volume_25DDiff': 0.02226719}, {'price7': 0.02340492}]\"}\n",
      "{'deployment_date': datetime.datetime(2023, 8, 7, 0, 0), 'dataset_end': datetime.datetime(2023, 7, 28, 0, 0), 'dataset_start': datetime.datetime(2018, 1, 1, 0, 0)}\n"
     ]
    },
    {
     "name": "stderr",
     "output_type": "stream",
     "text": [
      "/var/folders/tq/_9q_lv1s2bndbr3tzzn08x4r0000gn/T/ipykernel_59883/3784404324.py:66: DtypeWarning: Columns (109,110) have mixed types. Specify dtype option on import or set low_memory=False.\n",
      "  data = pd.read_csv(f'/Users/charlesmiller/Documents/model_tester_data/CDLOSE/2018-01-01_2023-12-23_validationTR15.csv')\n"
     ]
    },
    {
     "name": "stdout",
     "output_type": "stream",
     "text": [
      "label\n",
      "1    69196\n",
      "0    56820\n",
      "Name: count, dtype: int64\n",
      "148 86 98 118\n",
      "{'model_name': 'CDLOSE_1d:TSSIM1_TL15-EXP_custHypTP0.55', 'deployment_date': '2023-08-07', 'algorithm_type': 'xgboost', 'dataset': 'TSSIM1_TL15-EXP_custHypTP0.55', 'TP': 148, 'TPpct': Decimal('0'), 'FP': 86, 'FPpct': Decimal('0'), 'TN': 98, 'TNpct': Decimal('0'), 'FN': 118, 'FNpct': Decimal('0'), 'precision_ratio': Decimal('1.7209302325581395'), 'evaluation_timeperiod': '2023-08-07_2023-08-11', 'live': False, 'hyperparameters': {\"{'subsample': 0.6, 'num_round': 1000, 'min_child_weight': 10, 'max_depth': 10, 'learning_rate': 0.1, 'gamma': 2, 'colsample_bytree': 1}\"}, 'features': {\"['SPY_diff', 'day_of_week', 'return_vol_5D', 'hour_volume_vol_diff', 'return_vol_240M', 'volume_vol_8H', 'range_vol_diff5', 'return_vol_30M', 'daily_volume_vol_diff30', 'close_diff', 'volume_vol_15M', 'return_vol_10D', 'daily_vol_diff_pct', 'daily_volume_vol_diff_pct30', 'range_vol5MA', 'cmf', 'return_vol_450M', 'hour_volume_vol_diff_pct', 'min_vol_diff', 'price_25DDiff', 'return_vol_3D', 'daily_vol_diff_pct30', 'volume_vol_3D', 'volume_vol_450M', 'close_diff_deviation', 'return_vol_30D', 'close_diff_deviation3', 'return_vol_16H', 'volume_vol_30M', 'rsi', 'threeD_stddev50', 'close_diff5', 'range_vol10MA', 'SPY_5D', 'daily_vol_diff', 'SPY_diff3', 'volume_vol_5D', 'rsi3', 'volume_25DDiff', 'price7']\"}, 'target': '-0.791+one_min_vol', 'feature_importances': \"[{'SPY_diff': 0.023671465}, {'day_of_week': 0.02696841}, {'return_vol_5D': 0.023279093}, {'hour_volume_vol_diff': 0.022672376}, {'return_vol_240M': 0.02488255}, {'volume_vol_8H': 0.021991126}, {'range_vol_diff5': 0.023803124}, {'return_vol_30M': 0.027951755}, {'daily_volume_vol_diff30': 0.0229122}, {'close_diff': 0.025478257}, {'volume_vol_15M': 0.019774554}, {'return_vol_10D': 0.029465409}, {'daily_vol_diff_pct': 0.032825973}, {'daily_volume_vol_diff_pct30': 0.023406487}, {'range_vol5MA': 0.02549254}, {'cmf': 0.023368882}, {'return_vol_450M': 0.026063014}, {'hour_volume_vol_diff_pct': 0.022485726}, {'min_vol_diff': 0.02146971}, {'price_25DDiff': 0.023500377}, {'return_vol_3D': 0.022771467}, {'daily_vol_diff_pct30': 0.025398908}, {'volume_vol_3D': 0.022737803}, {'volume_vol_450M': 0.022284336}, {'close_diff_deviation': 0.023562126}, {'return_vol_30D': 0.024798729}, {'close_diff_deviation3': 0.0265035}, {'return_vol_16H': 0.023483591}, {'volume_vol_30M': 0.020491181}, {'rsi': 0.02481925}, {'threeD_stddev50': 0.025620932}, {'close_diff5': 0.025692496}, {'range_vol10MA': 0.025528692}, {'SPY_5D': 0.02685344}, {'daily_vol_diff': 0.047260378}, {'SPY_diff3': 0.023471167}, {'volume_vol_5D': 0.02151608}, {'rsi3': 0.029412381}, {'volume_25DDiff': 0.022372186}, {'price7': 0.023958318}]\"}\n",
      "{'deployment_date': datetime.datetime(2023, 8, 14, 0, 0), 'dataset_end': datetime.datetime(2023, 8, 4, 0, 0), 'dataset_start': datetime.datetime(2018, 1, 1, 0, 0)}\n"
     ]
    },
    {
     "name": "stderr",
     "output_type": "stream",
     "text": [
      "/var/folders/tq/_9q_lv1s2bndbr3tzzn08x4r0000gn/T/ipykernel_59883/3784404324.py:66: DtypeWarning: Columns (109,110) have mixed types. Specify dtype option on import or set low_memory=False.\n",
      "  data = pd.read_csv(f'/Users/charlesmiller/Documents/model_tester_data/CDLOSE/2018-01-01_2023-12-23_validationTR15.csv')\n"
     ]
    },
    {
     "name": "stdout",
     "output_type": "stream",
     "text": [
      "label\n",
      "1    69474\n",
      "0    56992\n",
      "Name: count, dtype: int64\n",
      "232 58 58 102\n",
      "{'model_name': 'CDLOSE_1d:TSSIM1_TL15-EXP_custHypTP0.55', 'deployment_date': '2023-08-14', 'algorithm_type': 'xgboost', 'dataset': 'TSSIM1_TL15-EXP_custHypTP0.55', 'TP': 232, 'TPpct': Decimal('0'), 'FP': 58, 'FPpct': Decimal('0'), 'TN': 58, 'TNpct': Decimal('0'), 'FN': 102, 'FNpct': Decimal('0'), 'precision_ratio': Decimal('4.0'), 'evaluation_timeperiod': '2023-08-14_2023-08-18', 'live': False, 'hyperparameters': {\"{'subsample': 0.6, 'num_round': 1000, 'min_child_weight': 10, 'max_depth': 10, 'learning_rate': 0.1, 'gamma': 2, 'colsample_bytree': 1}\"}, 'features': {\"['SPY_diff', 'day_of_week', 'return_vol_5D', 'hour_volume_vol_diff', 'return_vol_240M', 'volume_vol_8H', 'range_vol_diff5', 'return_vol_30M', 'daily_volume_vol_diff30', 'close_diff', 'volume_vol_15M', 'return_vol_10D', 'daily_vol_diff_pct', 'daily_volume_vol_diff_pct30', 'range_vol5MA', 'cmf', 'return_vol_450M', 'hour_volume_vol_diff_pct', 'min_vol_diff', 'price_25DDiff', 'return_vol_3D', 'daily_vol_diff_pct30', 'volume_vol_3D', 'volume_vol_450M', 'close_diff_deviation', 'return_vol_30D', 'close_diff_deviation3', 'return_vol_16H', 'volume_vol_30M', 'rsi', 'threeD_stddev50', 'close_diff5', 'range_vol10MA', 'SPY_5D', 'daily_vol_diff', 'SPY_diff3', 'volume_vol_5D', 'rsi3', 'volume_25DDiff', 'price7']\"}, 'target': '-0.791+one_min_vol', 'feature_importances': \"[{'SPY_diff': 0.024056919}, {'day_of_week': 0.027741611}, {'return_vol_5D': 0.02370799}, {'hour_volume_vol_diff': 0.023045564}, {'return_vol_240M': 0.025895726}, {'volume_vol_8H': 0.022364266}, {'range_vol_diff5': 0.023268871}, {'return_vol_30M': 0.02672916}, {'daily_volume_vol_diff30': 0.024012873}, {'close_diff': 0.025098713}, {'volume_vol_15M': 0.018804064}, {'return_vol_10D': 0.029228738}, {'daily_vol_diff_pct': 0.032428235}, {'daily_volume_vol_diff_pct30': 0.022861227}, {'range_vol5MA': 0.024495322}, {'cmf': 0.02324592}, {'return_vol_450M': 0.025749903}, {'hour_volume_vol_diff_pct': 0.02340355}, {'min_vol_diff': 0.0220903}, {'price_25DDiff': 0.023606826}, {'return_vol_3D': 0.023572594}, {'daily_vol_diff_pct30': 0.024651136}, {'volume_vol_3D': 0.022524247}, {'volume_vol_450M': 0.022604913}, {'close_diff_deviation': 0.023202281}, {'return_vol_30D': 0.025018966}, {'close_diff_deviation3': 0.026246717}, {'return_vol_16H': 0.022951206}, {'volume_vol_30M': 0.021114932}, {'rsi': 0.02485837}, {'threeD_stddev50': 0.025782615}, {'close_diff5': 0.02675147}, {'range_vol10MA': 0.024997227}, {'SPY_5D': 0.026470004}, {'daily_vol_diff': 0.046511415}, {'SPY_diff3': 0.023568943}, {'volume_vol_5D': 0.022022367}, {'rsi3': 0.030288963}, {'volume_25DDiff': 0.021432612}, {'price7': 0.02359322}]\"}\n",
      "{'deployment_date': datetime.datetime(2023, 8, 21, 0, 0), 'dataset_end': datetime.datetime(2023, 8, 11, 0, 0), 'dataset_start': datetime.datetime(2018, 1, 1, 0, 0)}\n"
     ]
    },
    {
     "name": "stderr",
     "output_type": "stream",
     "text": [
      "/var/folders/tq/_9q_lv1s2bndbr3tzzn08x4r0000gn/T/ipykernel_59883/3784404324.py:66: DtypeWarning: Columns (109,110) have mixed types. Specify dtype option on import or set low_memory=False.\n",
      "  data = pd.read_csv(f'/Users/charlesmiller/Documents/model_tester_data/CDLOSE/2018-01-01_2023-12-23_validationTR15.csv')\n"
     ]
    },
    {
     "name": "stdout",
     "output_type": "stream",
     "text": [
      "label\n",
      "1    69702\n",
      "0    57214\n",
      "Name: count, dtype: int64\n",
      "169 148 57 76\n",
      "{'model_name': 'CDLOSE_1d:TSSIM1_TL15-EXP_custHypTP0.55', 'deployment_date': '2023-08-21', 'algorithm_type': 'xgboost', 'dataset': 'TSSIM1_TL15-EXP_custHypTP0.55', 'TP': 169, 'TPpct': Decimal('0'), 'FP': 148, 'FPpct': Decimal('0'), 'TN': 57, 'TNpct': Decimal('0'), 'FN': 76, 'FNpct': Decimal('0'), 'precision_ratio': Decimal('1.1418918918918919'), 'evaluation_timeperiod': '2023-08-21_2023-08-25', 'live': False, 'hyperparameters': {\"{'subsample': 0.6, 'num_round': 1000, 'min_child_weight': 10, 'max_depth': 10, 'learning_rate': 0.1, 'gamma': 2, 'colsample_bytree': 1}\"}, 'features': {\"['SPY_diff', 'day_of_week', 'return_vol_5D', 'hour_volume_vol_diff', 'return_vol_240M', 'volume_vol_8H', 'range_vol_diff5', 'return_vol_30M', 'daily_volume_vol_diff30', 'close_diff', 'volume_vol_15M', 'return_vol_10D', 'daily_vol_diff_pct', 'daily_volume_vol_diff_pct30', 'range_vol5MA', 'cmf', 'return_vol_450M', 'hour_volume_vol_diff_pct', 'min_vol_diff', 'price_25DDiff', 'return_vol_3D', 'daily_vol_diff_pct30', 'volume_vol_3D', 'volume_vol_450M', 'close_diff_deviation', 'return_vol_30D', 'close_diff_deviation3', 'return_vol_16H', 'volume_vol_30M', 'rsi', 'threeD_stddev50', 'close_diff5', 'range_vol10MA', 'SPY_5D', 'daily_vol_diff', 'SPY_diff3', 'volume_vol_5D', 'rsi3', 'volume_25DDiff', 'price7']\"}, 'target': '-0.791+one_min_vol', 'feature_importances': \"[{'SPY_diff': 0.023361908}, {'day_of_week': 0.02731433}, {'return_vol_5D': 0.02345691}, {'hour_volume_vol_diff': 0.023443483}, {'return_vol_240M': 0.025559632}, {'volume_vol_8H': 0.022163767}, {'range_vol_diff5': 0.024718365}, {'return_vol_30M': 0.02640549}, {'daily_volume_vol_diff30': 0.023502061}, {'close_diff': 0.024580332}, {'volume_vol_15M': 0.019946225}, {'return_vol_10D': 0.02961904}, {'daily_vol_diff_pct': 0.032665577}, {'daily_volume_vol_diff_pct30': 0.02308434}, {'range_vol5MA': 0.02440458}, {'cmf': 0.022763522}, {'return_vol_450M': 0.025397079}, {'hour_volume_vol_diff_pct': 0.022679476}, {'min_vol_diff': 0.021667091}, {'price_25DDiff': 0.024062864}, {'return_vol_3D': 0.023802895}, {'daily_vol_diff_pct30': 0.024293372}, {'volume_vol_3D': 0.022336869}, {'volume_vol_450M': 0.022181574}, {'close_diff_deviation': 0.02417837}, {'return_vol_30D': 0.025415234}, {'close_diff_deviation3': 0.02608857}, {'return_vol_16H': 0.02389028}, {'volume_vol_30M': 0.020409342}, {'rsi': 0.0250311}, {'threeD_stddev50': 0.02647966}, {'close_diff5': 0.02535286}, {'range_vol10MA': 0.025642514}, {'SPY_5D': 0.026665486}, {'daily_vol_diff': 0.04690741}, {'SPY_diff3': 0.022873322}, {'volume_vol_5D': 0.02257288}, {'rsi3': 0.029582636}, {'volume_25DDiff': 0.021826617}, {'price7': 0.023672907}]\"}\n",
      "{'deployment_date': datetime.datetime(2023, 8, 28, 0, 0), 'dataset_end': datetime.datetime(2023, 8, 18, 0, 0), 'dataset_start': datetime.datetime(2018, 1, 1, 0, 0)}\n"
     ]
    },
    {
     "name": "stderr",
     "output_type": "stream",
     "text": [
      "/var/folders/tq/_9q_lv1s2bndbr3tzzn08x4r0000gn/T/ipykernel_59883/3784404324.py:66: DtypeWarning: Columns (109,110) have mixed types. Specify dtype option on import or set low_memory=False.\n",
      "  data = pd.read_csv(f'/Users/charlesmiller/Documents/model_tester_data/CDLOSE/2018-01-01_2023-12-23_validationTR15.csv')\n"
     ]
    },
    {
     "name": "stdout",
     "output_type": "stream",
     "text": [
      "label\n",
      "1    69974\n",
      "0    57392\n",
      "Name: count, dtype: int64\n",
      "110 151 128 61\n",
      "{'model_name': 'CDLOSE_1d:TSSIM1_TL15-EXP_custHypTP0.55', 'deployment_date': '2023-08-28', 'algorithm_type': 'xgboost', 'dataset': 'TSSIM1_TL15-EXP_custHypTP0.55', 'TP': 110, 'TPpct': Decimal('0'), 'FP': 151, 'FPpct': Decimal('0'), 'TN': 128, 'TNpct': Decimal('0'), 'FN': 61, 'FNpct': Decimal('0'), 'precision_ratio': Decimal('0.7284768211920529'), 'evaluation_timeperiod': '2023-08-28_2023-09-01', 'live': False, 'hyperparameters': {\"{'subsample': 0.6, 'num_round': 1000, 'min_child_weight': 10, 'max_depth': 10, 'learning_rate': 0.1, 'gamma': 2, 'colsample_bytree': 1}\"}, 'features': {\"['SPY_diff', 'day_of_week', 'return_vol_5D', 'hour_volume_vol_diff', 'return_vol_240M', 'volume_vol_8H', 'range_vol_diff5', 'return_vol_30M', 'daily_volume_vol_diff30', 'close_diff', 'volume_vol_15M', 'return_vol_10D', 'daily_vol_diff_pct', 'daily_volume_vol_diff_pct30', 'range_vol5MA', 'cmf', 'return_vol_450M', 'hour_volume_vol_diff_pct', 'min_vol_diff', 'price_25DDiff', 'return_vol_3D', 'daily_vol_diff_pct30', 'volume_vol_3D', 'volume_vol_450M', 'close_diff_deviation', 'return_vol_30D', 'close_diff_deviation3', 'return_vol_16H', 'volume_vol_30M', 'rsi', 'threeD_stddev50', 'close_diff5', 'range_vol10MA', 'SPY_5D', 'daily_vol_diff', 'SPY_diff3', 'volume_vol_5D', 'rsi3', 'volume_25DDiff', 'price7']\"}, 'target': '-0.792+one_min_vol', 'feature_importances': \"[{'SPY_diff': 0.023171881}, {'day_of_week': 0.027269127}, {'return_vol_5D': 0.024155246}, {'hour_volume_vol_diff': 0.023120094}, {'return_vol_240M': 0.02532605}, {'volume_vol_8H': 0.022297304}, {'range_vol_diff5': 0.023985315}, {'return_vol_30M': 0.027598405}, {'daily_volume_vol_diff30': 0.023647588}, {'close_diff': 0.025795171}, {'volume_vol_15M': 0.019229705}, {'return_vol_10D': 0.029023191}, {'daily_vol_diff_pct': 0.03172689}, {'daily_volume_vol_diff_pct30': 0.023900894}, {'range_vol5MA': 0.02466905}, {'cmf': 0.022819772}, {'return_vol_450M': 0.025434686}, {'hour_volume_vol_diff_pct': 0.02268266}, {'min_vol_diff': 0.022402717}, {'price_25DDiff': 0.023881877}, {'return_vol_3D': 0.022750413}, {'daily_vol_diff_pct30': 0.024626866}, {'volume_vol_3D': 0.022919571}, {'volume_vol_450M': 0.022874232}, {'close_diff_deviation': 0.023485903}, {'return_vol_30D': 0.024107415}, {'close_diff_deviation3': 0.026545703}, {'return_vol_16H': 0.023316734}, {'volume_vol_30M': 0.020115333}, {'rsi': 0.024680277}, {'threeD_stddev50': 0.026420763}, {'close_diff5': 0.026120877}, {'range_vol10MA': 0.02579909}, {'SPY_5D': 0.027837506}, {'daily_vol_diff': 0.045576286}, {'SPY_diff3': 0.02338269}, {'volume_vol_5D': 0.022018254}, {'rsi3': 0.029930037}, {'volume_25DDiff': 0.021888794}, {'price7': 0.023465632}]\"}\n",
      "{'deployment_date': datetime.datetime(2023, 9, 4, 0, 0), 'dataset_end': datetime.datetime(2023, 8, 25, 0, 0), 'dataset_start': datetime.datetime(2018, 1, 1, 0, 0)}\n"
     ]
    },
    {
     "name": "stderr",
     "output_type": "stream",
     "text": [
      "/var/folders/tq/_9q_lv1s2bndbr3tzzn08x4r0000gn/T/ipykernel_59883/3784404324.py:66: DtypeWarning: Columns (109,110) have mixed types. Specify dtype option on import or set low_memory=False.\n",
      "  data = pd.read_csv(f'/Users/charlesmiller/Documents/model_tester_data/CDLOSE/2018-01-01_2023-12-23_validationTR15.csv')\n"
     ]
    },
    {
     "name": "stdout",
     "output_type": "stream",
     "text": [
      "label\n",
      "1    70230\n",
      "0    57586\n",
      "Name: count, dtype: int64\n",
      "153 84 41 82\n",
      "{'model_name': 'CDLOSE_1d:TSSIM1_TL15-EXP_custHypTP0.55', 'deployment_date': '2023-09-04', 'algorithm_type': 'xgboost', 'dataset': 'TSSIM1_TL15-EXP_custHypTP0.55', 'TP': 153, 'TPpct': Decimal('0'), 'FP': 84, 'FPpct': Decimal('0'), 'TN': 41, 'TNpct': Decimal('0'), 'FN': 82, 'FNpct': Decimal('0'), 'precision_ratio': Decimal('1.8214285714285714'), 'evaluation_timeperiod': '2023-09-04_2023-09-08', 'live': False, 'hyperparameters': {\"{'subsample': 0.6, 'num_round': 1000, 'min_child_weight': 10, 'max_depth': 10, 'learning_rate': 0.1, 'gamma': 2, 'colsample_bytree': 1}\"}, 'features': {\"['SPY_diff', 'day_of_week', 'return_vol_5D', 'hour_volume_vol_diff', 'return_vol_240M', 'volume_vol_8H', 'range_vol_diff5', 'return_vol_30M', 'daily_volume_vol_diff30', 'close_diff', 'volume_vol_15M', 'return_vol_10D', 'daily_vol_diff_pct', 'daily_volume_vol_diff_pct30', 'range_vol5MA', 'cmf', 'return_vol_450M', 'hour_volume_vol_diff_pct', 'min_vol_diff', 'price_25DDiff', 'return_vol_3D', 'daily_vol_diff_pct30', 'volume_vol_3D', 'volume_vol_450M', 'close_diff_deviation', 'return_vol_30D', 'close_diff_deviation3', 'return_vol_16H', 'volume_vol_30M', 'rsi', 'threeD_stddev50', 'close_diff5', 'range_vol10MA', 'SPY_5D', 'daily_vol_diff', 'SPY_diff3', 'volume_vol_5D', 'rsi3', 'volume_25DDiff', 'price7']\"}, 'target': '-0.791+one_min_vol', 'feature_importances': \"[{'SPY_diff': 0.023957763}, {'day_of_week': 0.027948312}, {'return_vol_5D': 0.023642346}, {'hour_volume_vol_diff': 0.022809006}, {'return_vol_240M': 0.024992805}, {'volume_vol_8H': 0.022631958}, {'range_vol_diff5': 0.023810249}, {'return_vol_30M': 0.028663967}, {'daily_volume_vol_diff30': 0.02407951}, {'close_diff': 0.025825057}, {'volume_vol_15M': 0.01898874}, {'return_vol_10D': 0.028572075}, {'daily_vol_diff_pct': 0.03245875}, {'daily_volume_vol_diff_pct30': 0.022702396}, {'range_vol5MA': 0.025171302}, {'cmf': 0.02355881}, {'return_vol_450M': 0.025573103}, {'hour_volume_vol_diff_pct': 0.022566792}, {'min_vol_diff': 0.021797525}, {'price_25DDiff': 0.023865357}, {'return_vol_3D': 0.023797005}, {'daily_vol_diff_pct30': 0.024487292}, {'volume_vol_3D': 0.02262348}, {'volume_vol_450M': 0.0222299}, {'close_diff_deviation': 0.023375379}, {'return_vol_30D': 0.02539288}, {'close_diff_deviation3': 0.025745234}, {'return_vol_16H': 0.023510454}, {'volume_vol_30M': 0.020227864}, {'rsi': 0.024465224}, {'threeD_stddev50': 0.02564556}, {'close_diff5': 0.025412407}, {'range_vol10MA': 0.02553759}, {'SPY_5D': 0.027313238}, {'daily_vol_diff': 0.046142496}, {'SPY_diff3': 0.023653274}, {'volume_vol_5D': 0.021750685}, {'rsi3': 0.029362844}, {'volume_25DDiff': 0.022281293}, {'price7': 0.023430089}]\"}\n",
      "{'deployment_date': datetime.datetime(2023, 9, 11, 0, 0), 'dataset_end': datetime.datetime(2023, 9, 1, 0, 0), 'dataset_start': datetime.datetime(2018, 1, 1, 0, 0)}\n"
     ]
    },
    {
     "name": "stderr",
     "output_type": "stream",
     "text": [
      "/var/folders/tq/_9q_lv1s2bndbr3tzzn08x4r0000gn/T/ipykernel_59883/3784404324.py:66: DtypeWarning: Columns (109,110) have mixed types. Specify dtype option on import or set low_memory=False.\n",
      "  data = pd.read_csv(f'/Users/charlesmiller/Documents/model_tester_data/CDLOSE/2018-01-01_2023-12-23_validationTR15.csv')\n"
     ]
    },
    {
     "name": "stdout",
     "output_type": "stream",
     "text": [
      "label\n",
      "1    70472\n",
      "0    57794\n",
      "Name: count, dtype: int64\n",
      "211 98 52 87\n",
      "{'model_name': 'CDLOSE_1d:TSSIM1_TL15-EXP_custHypTP0.55', 'deployment_date': '2023-09-11', 'algorithm_type': 'xgboost', 'dataset': 'TSSIM1_TL15-EXP_custHypTP0.55', 'TP': 211, 'TPpct': Decimal('0'), 'FP': 98, 'FPpct': Decimal('0'), 'TN': 52, 'TNpct': Decimal('0'), 'FN': 87, 'FNpct': Decimal('0'), 'precision_ratio': Decimal('2.1530612244897958'), 'evaluation_timeperiod': '2023-09-11_2023-09-15', 'live': False, 'hyperparameters': {\"{'subsample': 0.6, 'num_round': 1000, 'min_child_weight': 10, 'max_depth': 10, 'learning_rate': 0.1, 'gamma': 2, 'colsample_bytree': 1}\"}, 'features': {\"['SPY_diff', 'day_of_week', 'return_vol_5D', 'hour_volume_vol_diff', 'return_vol_240M', 'volume_vol_8H', 'range_vol_diff5', 'return_vol_30M', 'daily_volume_vol_diff30', 'close_diff', 'volume_vol_15M', 'return_vol_10D', 'daily_vol_diff_pct', 'daily_volume_vol_diff_pct30', 'range_vol5MA', 'cmf', 'return_vol_450M', 'hour_volume_vol_diff_pct', 'min_vol_diff', 'price_25DDiff', 'return_vol_3D', 'daily_vol_diff_pct30', 'volume_vol_3D', 'volume_vol_450M', 'close_diff_deviation', 'return_vol_30D', 'close_diff_deviation3', 'return_vol_16H', 'volume_vol_30M', 'rsi', 'threeD_stddev50', 'close_diff5', 'range_vol10MA', 'SPY_5D', 'daily_vol_diff', 'SPY_diff3', 'volume_vol_5D', 'rsi3', 'volume_25DDiff', 'price7']\"}, 'target': '-0.79+one_min_vol', 'feature_importances': \"[{'SPY_diff': 0.024045274}, {'day_of_week': 0.027939884}, {'return_vol_5D': 0.023784755}, {'hour_volume_vol_diff': 0.023092292}, {'return_vol_240M': 0.024752965}, {'volume_vol_8H': 0.022539167}, {'range_vol_diff5': 0.024962716}, {'return_vol_30M': 0.027909463}, {'daily_volume_vol_diff30': 0.023152921}, {'close_diff': 0.0251124}, {'volume_vol_15M': 0.019470941}, {'return_vol_10D': 0.028388765}, {'daily_vol_diff_pct': 0.03311239}, {'daily_volume_vol_diff_pct30': 0.023398457}, {'range_vol5MA': 0.02529387}, {'cmf': 0.023160862}, {'return_vol_450M': 0.026206821}, {'hour_volume_vol_diff_pct': 0.022726422}, {'min_vol_diff': 0.021213094}, {'price_25DDiff': 0.023864882}, {'return_vol_3D': 0.023269752}, {'daily_vol_diff_pct30': 0.024899067}, {'volume_vol_3D': 0.021013975}, {'volume_vol_450M': 0.022015434}, {'close_diff_deviation': 0.023983166}, {'return_vol_30D': 0.025701422}, {'close_diff_deviation3': 0.026263416}, {'return_vol_16H': 0.023514321}, {'volume_vol_30M': 0.020172969}, {'rsi': 0.024735633}, {'threeD_stddev50': 0.026232015}, {'close_diff5': 0.026560858}, {'range_vol10MA': 0.02464981}, {'SPY_5D': 0.02674737}, {'daily_vol_diff': 0.045362577}, {'SPY_diff3': 0.023374692}, {'volume_vol_5D': 0.022011433}, {'rsi3': 0.029429726}, {'volume_25DDiff': 0.022734601}, {'price7': 0.023199433}]\"}\n",
      "{'deployment_date': datetime.datetime(2023, 9, 18, 0, 0), 'dataset_end': datetime.datetime(2023, 9, 8, 0, 0), 'dataset_start': datetime.datetime(2018, 1, 1, 0, 0)}\n"
     ]
    },
    {
     "name": "stderr",
     "output_type": "stream",
     "text": [
      "/var/folders/tq/_9q_lv1s2bndbr3tzzn08x4r0000gn/T/ipykernel_59883/3784404324.py:66: DtypeWarning: Columns (109,110) have mixed types. Specify dtype option on import or set low_memory=False.\n",
      "  data = pd.read_csv(f'/Users/charlesmiller/Documents/model_tester_data/CDLOSE/2018-01-01_2023-12-23_validationTR15.csv')\n"
     ]
    },
    {
     "name": "stdout",
     "output_type": "stream",
     "text": [
      "label\n",
      "1    70626\n",
      "0    58000\n",
      "Name: count, dtype: int64\n",
      "219 70 58 97\n",
      "{'model_name': 'CDLOSE_1d:TSSIM1_TL15-EXP_custHypTP0.55', 'deployment_date': '2023-09-18', 'algorithm_type': 'xgboost', 'dataset': 'TSSIM1_TL15-EXP_custHypTP0.55', 'TP': 219, 'TPpct': Decimal('0'), 'FP': 70, 'FPpct': Decimal('0'), 'TN': 58, 'TNpct': Decimal('0'), 'FN': 97, 'FNpct': Decimal('0'), 'precision_ratio': Decimal('3.1285714285714286'), 'evaluation_timeperiod': '2023-09-18_2023-09-22', 'live': False, 'hyperparameters': {\"{'subsample': 0.6, 'num_round': 1000, 'min_child_weight': 10, 'max_depth': 10, 'learning_rate': 0.1, 'gamma': 2, 'colsample_bytree': 1}\"}, 'features': {\"['SPY_diff', 'day_of_week', 'return_vol_5D', 'hour_volume_vol_diff', 'return_vol_240M', 'volume_vol_8H', 'range_vol_diff5', 'return_vol_30M', 'daily_volume_vol_diff30', 'close_diff', 'volume_vol_15M', 'return_vol_10D', 'daily_vol_diff_pct', 'daily_volume_vol_diff_pct30', 'range_vol5MA', 'cmf', 'return_vol_450M', 'hour_volume_vol_diff_pct', 'min_vol_diff', 'price_25DDiff', 'return_vol_3D', 'daily_vol_diff_pct30', 'volume_vol_3D', 'volume_vol_450M', 'close_diff_deviation', 'return_vol_30D', 'close_diff_deviation3', 'return_vol_16H', 'volume_vol_30M', 'rsi', 'threeD_stddev50', 'close_diff5', 'range_vol10MA', 'SPY_5D', 'daily_vol_diff', 'SPY_diff3', 'volume_vol_5D', 'rsi3', 'volume_25DDiff', 'price7']\"}, 'target': '-0.791+one_min_vol', 'feature_importances': \"[{'SPY_diff': 0.024666177}, {'day_of_week': 0.027627781}, {'return_vol_5D': 0.023583554}, {'hour_volume_vol_diff': 0.023355989}, {'return_vol_240M': 0.024724305}, {'volume_vol_8H': 0.022625519}, {'range_vol_diff5': 0.023918727}, {'return_vol_30M': 0.027610164}, {'daily_volume_vol_diff30': 0.02305101}, {'close_diff': 0.025405984}, {'volume_vol_15M': 0.019776953}, {'return_vol_10D': 0.02884919}, {'daily_vol_diff_pct': 0.032325517}, {'daily_volume_vol_diff_pct30': 0.023211109}, {'range_vol5MA': 0.024363285}, {'cmf': 0.023179196}, {'return_vol_450M': 0.026438165}, {'hour_volume_vol_diff_pct': 0.022685036}, {'min_vol_diff': 0.02213444}, {'price_25DDiff': 0.024724588}, {'return_vol_3D': 0.0225268}, {'daily_vol_diff_pct30': 0.025633553}, {'volume_vol_3D': 0.021575602}, {'volume_vol_450M': 0.022629114}, {'close_diff_deviation': 0.023136454}, {'return_vol_30D': 0.025253983}, {'close_diff_deviation3': 0.02612264}, {'return_vol_16H': 0.024324067}, {'volume_vol_30M': 0.019812146}, {'rsi': 0.024042724}, {'threeD_stddev50': 0.02585257}, {'close_diff5': 0.025817377}, {'range_vol10MA': 0.025491236}, {'SPY_5D': 0.026954537}, {'daily_vol_diff': 0.04422904}, {'SPY_diff3': 0.023485068}, {'volume_vol_5D': 0.022199994}, {'rsi3': 0.029897695}, {'volume_25DDiff': 0.022505976}, {'price7': 0.024252778}]\"}\n",
      "{'deployment_date': datetime.datetime(2023, 9, 25, 0, 0), 'dataset_end': datetime.datetime(2023, 9, 15, 0, 0), 'dataset_start': datetime.datetime(2018, 1, 1, 0, 0)}\n"
     ]
    },
    {
     "name": "stderr",
     "output_type": "stream",
     "text": [
      "/var/folders/tq/_9q_lv1s2bndbr3tzzn08x4r0000gn/T/ipykernel_59883/3784404324.py:66: DtypeWarning: Columns (109,110) have mixed types. Specify dtype option on import or set low_memory=False.\n",
      "  data = pd.read_csv(f'/Users/charlesmiller/Documents/model_tester_data/CDLOSE/2018-01-01_2023-12-23_validationTR15.csv')\n"
     ]
    },
    {
     "name": "stdout",
     "output_type": "stream",
     "text": [
      "label\n",
      "1    70887\n",
      "0    58187\n",
      "Name: count, dtype: int64\n",
      "170 119 70 91\n",
      "{'model_name': 'CDLOSE_1d:TSSIM1_TL15-EXP_custHypTP0.55', 'deployment_date': '2023-09-25', 'algorithm_type': 'xgboost', 'dataset': 'TSSIM1_TL15-EXP_custHypTP0.55', 'TP': 170, 'TPpct': Decimal('0'), 'FP': 119, 'FPpct': Decimal('0'), 'TN': 70, 'TNpct': Decimal('0'), 'FN': 91, 'FNpct': Decimal('0'), 'precision_ratio': Decimal('1.4285714285714286'), 'evaluation_timeperiod': '2023-09-25_2023-09-29', 'live': False, 'hyperparameters': {\"{'subsample': 0.6, 'num_round': 1000, 'min_child_weight': 10, 'max_depth': 10, 'learning_rate': 0.1, 'gamma': 2, 'colsample_bytree': 1}\"}, 'features': {\"['SPY_diff', 'day_of_week', 'return_vol_5D', 'hour_volume_vol_diff', 'return_vol_240M', 'volume_vol_8H', 'range_vol_diff5', 'return_vol_30M', 'daily_volume_vol_diff30', 'close_diff', 'volume_vol_15M', 'return_vol_10D', 'daily_vol_diff_pct', 'daily_volume_vol_diff_pct30', 'range_vol5MA', 'cmf', 'return_vol_450M', 'hour_volume_vol_diff_pct', 'min_vol_diff', 'price_25DDiff', 'return_vol_3D', 'daily_vol_diff_pct30', 'volume_vol_3D', 'volume_vol_450M', 'close_diff_deviation', 'return_vol_30D', 'close_diff_deviation3', 'return_vol_16H', 'volume_vol_30M', 'rsi', 'threeD_stddev50', 'close_diff5', 'range_vol10MA', 'SPY_5D', 'daily_vol_diff', 'SPY_diff3', 'volume_vol_5D', 'rsi3', 'volume_25DDiff', 'price7']\"}, 'target': '-0.791+one_min_vol', 'feature_importances': \"[{'SPY_diff': 0.024005985}, {'day_of_week': 0.028108532}, {'return_vol_5D': 0.023904987}, {'hour_volume_vol_diff': 0.022465046}, {'return_vol_240M': 0.026145227}, {'volume_vol_8H': 0.022556014}, {'range_vol_diff5': 0.024105191}, {'return_vol_30M': 0.027057635}, {'daily_volume_vol_diff30': 0.023875922}, {'close_diff': 0.025879508}, {'volume_vol_15M': 0.019470738}, {'return_vol_10D': 0.02996712}, {'daily_vol_diff_pct': 0.033307232}, {'daily_volume_vol_diff_pct30': 0.023262464}, {'range_vol5MA': 0.023557175}, {'cmf': 0.023345714}, {'return_vol_450M': 0.024731448}, {'hour_volume_vol_diff_pct': 0.023250693}, {'min_vol_diff': 0.021142097}, {'price_25DDiff': 0.023926107}, {'return_vol_3D': 0.023196977}, {'daily_vol_diff_pct30': 0.025542282}, {'volume_vol_3D': 0.02183418}, {'volume_vol_450M': 0.022424601}, {'close_diff_deviation': 0.024144769}, {'return_vol_30D': 0.024921488}, {'close_diff_deviation3': 0.02623853}, {'return_vol_16H': 0.023914844}, {'volume_vol_30M': 0.019877085}, {'rsi': 0.024411267}, {'threeD_stddev50': 0.025878076}, {'close_diff5': 0.025461415}, {'range_vol10MA': 0.025214383}, {'SPY_5D': 0.027246403}, {'daily_vol_diff': 0.045360316}, {'SPY_diff3': 0.022831803}, {'volume_vol_5D': 0.022294836}, {'rsi3': 0.029851502}, {'volume_25DDiff': 0.021641508}, {'price7': 0.023648933}]\"}\n",
      "{'deployment_date': datetime.datetime(2023, 10, 2, 0, 0), 'dataset_end': datetime.datetime(2023, 9, 22, 0, 0), 'dataset_start': datetime.datetime(2018, 1, 1, 0, 0)}\n"
     ]
    },
    {
     "name": "stderr",
     "output_type": "stream",
     "text": [
      "/var/folders/tq/_9q_lv1s2bndbr3tzzn08x4r0000gn/T/ipykernel_59883/3784404324.py:66: DtypeWarning: Columns (109,110) have mixed types. Specify dtype option on import or set low_memory=False.\n",
      "  data = pd.read_csv(f'/Users/charlesmiller/Documents/model_tester_data/CDLOSE/2018-01-01_2023-12-23_validationTR15.csv')\n"
     ]
    },
    {
     "name": "stdout",
     "output_type": "stream",
     "text": [
      "label\n",
      "1    71113\n",
      "0    58405\n",
      "Name: count, dtype: int64\n",
      "220 124 58 48\n",
      "{'model_name': 'CDLOSE_1d:TSSIM1_TL15-EXP_custHypTP0.55', 'deployment_date': '2023-10-02', 'algorithm_type': 'xgboost', 'dataset': 'TSSIM1_TL15-EXP_custHypTP0.55', 'TP': 220, 'TPpct': Decimal('0'), 'FP': 124, 'FPpct': Decimal('0'), 'TN': 58, 'TNpct': Decimal('0'), 'FN': 48, 'FNpct': Decimal('0'), 'precision_ratio': Decimal('1.7741935483870968'), 'evaluation_timeperiod': '2023-10-02_2023-10-06', 'live': False, 'hyperparameters': {\"{'subsample': 0.6, 'num_round': 1000, 'min_child_weight': 10, 'max_depth': 10, 'learning_rate': 0.1, 'gamma': 2, 'colsample_bytree': 1}\"}, 'features': {\"['SPY_diff', 'day_of_week', 'return_vol_5D', 'hour_volume_vol_diff', 'return_vol_240M', 'volume_vol_8H', 'range_vol_diff5', 'return_vol_30M', 'daily_volume_vol_diff30', 'close_diff', 'volume_vol_15M', 'return_vol_10D', 'daily_vol_diff_pct', 'daily_volume_vol_diff_pct30', 'range_vol5MA', 'cmf', 'return_vol_450M', 'hour_volume_vol_diff_pct', 'min_vol_diff', 'price_25DDiff', 'return_vol_3D', 'daily_vol_diff_pct30', 'volume_vol_3D', 'volume_vol_450M', 'close_diff_deviation', 'return_vol_30D', 'close_diff_deviation3', 'return_vol_16H', 'volume_vol_30M', 'rsi', 'threeD_stddev50', 'close_diff5', 'range_vol10MA', 'SPY_5D', 'daily_vol_diff', 'SPY_diff3', 'volume_vol_5D', 'rsi3', 'volume_25DDiff', 'price7']\"}, 'target': '-0.792+one_min_vol', 'feature_importances': \"[{'SPY_diff': 0.024595337}, {'day_of_week': 0.028001178}, {'return_vol_5D': 0.023059547}, {'hour_volume_vol_diff': 0.022443905}, {'return_vol_240M': 0.025705276}, {'volume_vol_8H': 0.022454021}, {'range_vol_diff5': 0.023902453}, {'return_vol_30M': 0.02736009}, {'daily_volume_vol_diff30': 0.024730219}, {'close_diff': 0.02544391}, {'volume_vol_15M': 0.019419236}, {'return_vol_10D': 0.029170997}, {'daily_vol_diff_pct': 0.033514302}, {'daily_volume_vol_diff_pct30': 0.023927465}, {'range_vol5MA': 0.024976172}, {'cmf': 0.023051089}, {'return_vol_450M': 0.025921604}, {'hour_volume_vol_diff_pct': 0.022802273}, {'min_vol_diff': 0.022527754}, {'price_25DDiff': 0.024189899}, {'return_vol_3D': 0.022847993}, {'daily_vol_diff_pct30': 0.025038864}, {'volume_vol_3D': 0.021250729}, {'volume_vol_450M': 0.022876602}, {'close_diff_deviation': 0.023654753}, {'return_vol_30D': 0.025074784}, {'close_diff_deviation3': 0.026203811}, {'return_vol_16H': 0.022568518}, {'volume_vol_30M': 0.020192435}, {'rsi': 0.024464723}, {'threeD_stddev50': 0.02553315}, {'close_diff5': 0.025586205}, {'range_vol10MA': 0.025385564}, {'SPY_5D': 0.027255546}, {'daily_vol_diff': 0.044075795}, {'SPY_diff3': 0.022968339}, {'volume_vol_5D': 0.022337649}, {'rsi3': 0.029989459}, {'volume_25DDiff': 0.022080647}, {'price7': 0.023417696}]\"}\n",
      "{'deployment_date': datetime.datetime(2023, 10, 9, 0, 0), 'dataset_end': datetime.datetime(2023, 9, 29, 0, 0), 'dataset_start': datetime.datetime(2018, 1, 1, 0, 0)}\n"
     ]
    },
    {
     "name": "stderr",
     "output_type": "stream",
     "text": [
      "/var/folders/tq/_9q_lv1s2bndbr3tzzn08x4r0000gn/T/ipykernel_59883/3784404324.py:66: DtypeWarning: Columns (109,110) have mixed types. Specify dtype option on import or set low_memory=False.\n",
      "  data = pd.read_csv(f'/Users/charlesmiller/Documents/model_tester_data/CDLOSE/2018-01-01_2023-12-23_validationTR15.csv')\n"
     ]
    },
    {
     "name": "stdout",
     "output_type": "stream",
     "text": [
      "label\n",
      "1    71351\n",
      "0    58617\n",
      "Name: count, dtype: int64\n",
      "150 84 113 103\n",
      "{'model_name': 'CDLOSE_1d:TSSIM1_TL15-EXP_custHypTP0.55', 'deployment_date': '2023-10-09', 'algorithm_type': 'xgboost', 'dataset': 'TSSIM1_TL15-EXP_custHypTP0.55', 'TP': 150, 'TPpct': Decimal('0'), 'FP': 84, 'FPpct': Decimal('0'), 'TN': 113, 'TNpct': Decimal('0'), 'FN': 103, 'FNpct': Decimal('0'), 'precision_ratio': Decimal('1.7857142857142858'), 'evaluation_timeperiod': '2023-10-09_2023-10-13', 'live': False, 'hyperparameters': {\"{'subsample': 0.6, 'num_round': 1000, 'min_child_weight': 10, 'max_depth': 10, 'learning_rate': 0.1, 'gamma': 2, 'colsample_bytree': 1}\"}, 'features': {\"['SPY_diff', 'day_of_week', 'return_vol_5D', 'hour_volume_vol_diff', 'return_vol_240M', 'volume_vol_8H', 'range_vol_diff5', 'return_vol_30M', 'daily_volume_vol_diff30', 'close_diff', 'volume_vol_15M', 'return_vol_10D', 'daily_vol_diff_pct', 'daily_volume_vol_diff_pct30', 'range_vol5MA', 'cmf', 'return_vol_450M', 'hour_volume_vol_diff_pct', 'min_vol_diff', 'price_25DDiff', 'return_vol_3D', 'daily_vol_diff_pct30', 'volume_vol_3D', 'volume_vol_450M', 'close_diff_deviation', 'return_vol_30D', 'close_diff_deviation3', 'return_vol_16H', 'volume_vol_30M', 'rsi', 'threeD_stddev50', 'close_diff5', 'range_vol10MA', 'SPY_5D', 'daily_vol_diff', 'SPY_diff3', 'volume_vol_5D', 'rsi3', 'volume_25DDiff', 'price7']\"}, 'target': '-0.793+one_min_vol', 'feature_importances': \"[{'SPY_diff': 0.023828303}, {'day_of_week': 0.027765734}, {'return_vol_5D': 0.02385306}, {'hour_volume_vol_diff': 0.022034131}, {'return_vol_240M': 0.02600989}, {'volume_vol_8H': 0.021853374}, {'range_vol_diff5': 0.024223845}, {'return_vol_30M': 0.027618233}, {'daily_volume_vol_diff30': 0.023697115}, {'close_diff': 0.0255725}, {'volume_vol_15M': 0.019220458}, {'return_vol_10D': 0.030115906}, {'daily_vol_diff_pct': 0.034064844}, {'daily_volume_vol_diff_pct30': 0.02309461}, {'range_vol5MA': 0.024228396}, {'cmf': 0.023385443}, {'return_vol_450M': 0.025514975}, {'hour_volume_vol_diff_pct': 0.0226465}, {'min_vol_diff': 0.021973228}, {'price_25DDiff': 0.024731953}, {'return_vol_3D': 0.022710172}, {'daily_vol_diff_pct30': 0.024450079}, {'volume_vol_3D': 0.022522544}, {'volume_vol_450M': 0.022520242}, {'close_diff_deviation': 0.024520556}, {'return_vol_30D': 0.025128204}, {'close_diff_deviation3': 0.025718536}, {'return_vol_16H': 0.022970637}, {'volume_vol_30M': 0.019869313}, {'rsi': 0.024816023}, {'threeD_stddev50': 0.025279239}, {'close_diff5': 0.02521608}, {'range_vol10MA': 0.024892109}, {'SPY_5D': 0.026532236}, {'daily_vol_diff': 0.045440577}, {'SPY_diff3': 0.023387624}, {'volume_vol_5D': 0.02323311}, {'rsi3': 0.029532267}, {'volume_25DDiff': 0.022394268}, {'price7': 0.023433695}]\"}\n",
      "{'deployment_date': datetime.datetime(2023, 10, 16, 0, 0), 'dataset_end': datetime.datetime(2023, 10, 6, 0, 0), 'dataset_start': datetime.datetime(2018, 1, 1, 0, 0)}\n"
     ]
    },
    {
     "name": "stderr",
     "output_type": "stream",
     "text": [
      "/var/folders/tq/_9q_lv1s2bndbr3tzzn08x4r0000gn/T/ipykernel_59883/3784404324.py:66: DtypeWarning: Columns (109,110) have mixed types. Specify dtype option on import or set low_memory=False.\n",
      "  data = pd.read_csv(f'/Users/charlesmiller/Documents/model_tester_data/CDLOSE/2018-01-01_2023-12-23_validationTR15.csv')\n"
     ]
    },
    {
     "name": "stdout",
     "output_type": "stream",
     "text": [
      "label\n",
      "1    71606\n",
      "0    58812\n",
      "Name: count, dtype: int64\n",
      "289 56 50 55\n",
      "{'model_name': 'CDLOSE_1d:TSSIM1_TL15-EXP_custHypTP0.55', 'deployment_date': '2023-10-16', 'algorithm_type': 'xgboost', 'dataset': 'TSSIM1_TL15-EXP_custHypTP0.55', 'TP': 289, 'TPpct': Decimal('0'), 'FP': 56, 'FPpct': Decimal('0'), 'TN': 50, 'TNpct': Decimal('0'), 'FN': 55, 'FNpct': Decimal('0'), 'precision_ratio': Decimal('5.160714285714286'), 'evaluation_timeperiod': '2023-10-16_2023-10-20', 'live': False, 'hyperparameters': {\"{'subsample': 0.6, 'num_round': 1000, 'min_child_weight': 10, 'max_depth': 10, 'learning_rate': 0.1, 'gamma': 2, 'colsample_bytree': 1}\"}, 'features': {\"['SPY_diff', 'day_of_week', 'return_vol_5D', 'hour_volume_vol_diff', 'return_vol_240M', 'volume_vol_8H', 'range_vol_diff5', 'return_vol_30M', 'daily_volume_vol_diff30', 'close_diff', 'volume_vol_15M', 'return_vol_10D', 'daily_vol_diff_pct', 'daily_volume_vol_diff_pct30', 'range_vol5MA', 'cmf', 'return_vol_450M', 'hour_volume_vol_diff_pct', 'min_vol_diff', 'price_25DDiff', 'return_vol_3D', 'daily_vol_diff_pct30', 'volume_vol_3D', 'volume_vol_450M', 'close_diff_deviation', 'return_vol_30D', 'close_diff_deviation3', 'return_vol_16H', 'volume_vol_30M', 'rsi', 'threeD_stddev50', 'close_diff5', 'range_vol10MA', 'SPY_5D', 'daily_vol_diff', 'SPY_diff3', 'volume_vol_5D', 'rsi3', 'volume_25DDiff', 'price7']\"}, 'target': '-0.793+one_min_vol', 'feature_importances': \"[{'SPY_diff': 0.024017723}, {'day_of_week': 0.02784238}, {'return_vol_5D': 0.023480212}, {'hour_volume_vol_diff': 0.022397581}, {'return_vol_240M': 0.02652954}, {'volume_vol_8H': 0.0225281}, {'range_vol_diff5': 0.024394307}, {'return_vol_30M': 0.027654294}, {'daily_volume_vol_diff30': 0.024550509}, {'close_diff': 0.025512422}, {'volume_vol_15M': 0.018881645}, {'return_vol_10D': 0.02943779}, {'daily_vol_diff_pct': 0.033979096}, {'daily_volume_vol_diff_pct30': 0.023006242}, {'range_vol5MA': 0.024588255}, {'cmf': 0.02294944}, {'return_vol_450M': 0.025885409}, {'hour_volume_vol_diff_pct': 0.022665195}, {'min_vol_diff': 0.022244474}, {'price_25DDiff': 0.024087608}, {'return_vol_3D': 0.023083976}, {'daily_vol_diff_pct30': 0.024580196}, {'volume_vol_3D': 0.022322303}, {'volume_vol_450M': 0.022433748}, {'close_diff_deviation': 0.02410048}, {'return_vol_30D': 0.024928022}, {'close_diff_deviation3': 0.026502244}, {'return_vol_16H': 0.023262637}, {'volume_vol_30M': 0.019856341}, {'rsi': 0.024433408}, {'threeD_stddev50': 0.025718713}, {'close_diff5': 0.025377037}, {'range_vol10MA': 0.024745543}, {'SPY_5D': 0.027284523}, {'daily_vol_diff': 0.045399588}, {'SPY_diff3': 0.02273294}, {'volume_vol_5D': 0.022083005}, {'rsi3': 0.029429255}, {'volume_25DDiff': 0.021801755}, {'price7': 0.0232921}]\"}\n",
      "{'deployment_date': datetime.datetime(2023, 10, 23, 0, 0), 'dataset_end': datetime.datetime(2023, 10, 13, 0, 0), 'dataset_start': datetime.datetime(2018, 1, 1, 0, 0)}\n"
     ]
    },
    {
     "name": "stderr",
     "output_type": "stream",
     "text": [
      "/var/folders/tq/_9q_lv1s2bndbr3tzzn08x4r0000gn/T/ipykernel_59883/3784404324.py:66: DtypeWarning: Columns (109,110) have mixed types. Specify dtype option on import or set low_memory=False.\n",
      "  data = pd.read_csv(f'/Users/charlesmiller/Documents/model_tester_data/CDLOSE/2018-01-01_2023-12-23_validationTR15.csv')\n"
     ]
    },
    {
     "name": "stdout",
     "output_type": "stream",
     "text": [
      "label\n",
      "1    71890\n",
      "0    58978\n",
      "Name: count, dtype: int64\n",
      "246 92 60 52\n",
      "{'model_name': 'CDLOSE_1d:TSSIM1_TL15-EXP_custHypTP0.55', 'deployment_date': '2023-10-23', 'algorithm_type': 'xgboost', 'dataset': 'TSSIM1_TL15-EXP_custHypTP0.55', 'TP': 246, 'TPpct': Decimal('0'), 'FP': 92, 'FPpct': Decimal('0'), 'TN': 60, 'TNpct': Decimal('0'), 'FN': 52, 'FNpct': Decimal('0'), 'precision_ratio': Decimal('2.6739130434782608'), 'evaluation_timeperiod': '2023-10-23_2023-10-27', 'live': False, 'hyperparameters': {\"{'subsample': 0.6, 'num_round': 1000, 'min_child_weight': 10, 'max_depth': 10, 'learning_rate': 0.1, 'gamma': 2, 'colsample_bytree': 1}\"}, 'features': {\"['SPY_diff', 'day_of_week', 'return_vol_5D', 'hour_volume_vol_diff', 'return_vol_240M', 'volume_vol_8H', 'range_vol_diff5', 'return_vol_30M', 'daily_volume_vol_diff30', 'close_diff', 'volume_vol_15M', 'return_vol_10D', 'daily_vol_diff_pct', 'daily_volume_vol_diff_pct30', 'range_vol5MA', 'cmf', 'return_vol_450M', 'hour_volume_vol_diff_pct', 'min_vol_diff', 'price_25DDiff', 'return_vol_3D', 'daily_vol_diff_pct30', 'volume_vol_3D', 'volume_vol_450M', 'close_diff_deviation', 'return_vol_30D', 'close_diff_deviation3', 'return_vol_16H', 'volume_vol_30M', 'rsi', 'threeD_stddev50', 'close_diff5', 'range_vol10MA', 'SPY_5D', 'daily_vol_diff', 'SPY_diff3', 'volume_vol_5D', 'rsi3', 'volume_25DDiff', 'price7']\"}, 'target': '-0.792+one_min_vol', 'feature_importances': \"[{'SPY_diff': 0.02411927}, {'day_of_week': 0.026692273}, {'return_vol_5D': 0.023571288}, {'hour_volume_vol_diff': 0.023416229}, {'return_vol_240M': 0.025663503}, {'volume_vol_8H': 0.022359421}, {'range_vol_diff5': 0.023880318}, {'return_vol_30M': 0.02709422}, {'daily_volume_vol_diff30': 0.023766644}, {'close_diff': 0.025600811}, {'volume_vol_15M': 0.019397909}, {'return_vol_10D': 0.029738674}, {'daily_vol_diff_pct': 0.032256808}, {'daily_volume_vol_diff_pct30': 0.023053944}, {'range_vol5MA': 0.025204234}, {'cmf': 0.023019979}, {'return_vol_450M': 0.025886463}, {'hour_volume_vol_diff_pct': 0.022381332}, {'min_vol_diff': 0.021845713}, {'price_25DDiff': 0.023643918}, {'return_vol_3D': 0.022788696}, {'daily_vol_diff_pct30': 0.02423959}, {'volume_vol_3D': 0.02197158}, {'volume_vol_450M': 0.022600707}, {'close_diff_deviation': 0.024344936}, {'return_vol_30D': 0.02586144}, {'close_diff_deviation3': 0.025769608}, {'return_vol_16H': 0.022999793}, {'volume_vol_30M': 0.020331524}, {'rsi': 0.024025943}, {'threeD_stddev50': 0.025712445}, {'close_diff5': 0.025608856}, {'range_vol10MA': 0.024537737}, {'SPY_5D': 0.027527453}, {'daily_vol_diff': 0.047223408}, {'SPY_diff3': 0.023504185}, {'volume_vol_5D': 0.022249732}, {'rsi3': 0.02988294}, {'volume_25DDiff': 0.022624971}, {'price7': 0.023601549}]\"}\n",
      "{'deployment_date': datetime.datetime(2023, 10, 30, 0, 0), 'dataset_end': datetime.datetime(2023, 10, 20, 0, 0), 'dataset_start': datetime.datetime(2018, 1, 1, 0, 0)}\n"
     ]
    },
    {
     "name": "stderr",
     "output_type": "stream",
     "text": [
      "/var/folders/tq/_9q_lv1s2bndbr3tzzn08x4r0000gn/T/ipykernel_59883/3784404324.py:66: DtypeWarning: Columns (109,110) have mixed types. Specify dtype option on import or set low_memory=False.\n",
      "  data = pd.read_csv(f'/Users/charlesmiller/Documents/model_tester_data/CDLOSE/2018-01-01_2023-12-23_validationTR15.csv')\n"
     ]
    },
    {
     "name": "stdout",
     "output_type": "stream",
     "text": [
      "label\n",
      "1    72107\n",
      "0    59211\n",
      "Name: count, dtype: int64\n",
      "67 130 192 61\n",
      "{'model_name': 'CDLOSE_1d:TSSIM1_TL15-EXP_custHypTP0.55', 'deployment_date': '2023-10-30', 'algorithm_type': 'xgboost', 'dataset': 'TSSIM1_TL15-EXP_custHypTP0.55', 'TP': 67, 'TPpct': Decimal('0'), 'FP': 130, 'FPpct': Decimal('0'), 'TN': 192, 'TNpct': Decimal('0'), 'FN': 61, 'FNpct': Decimal('0'), 'precision_ratio': Decimal('0.5153846153846153'), 'evaluation_timeperiod': '2023-10-30_2023-11-03', 'live': False, 'hyperparameters': {\"{'subsample': 0.6, 'num_round': 1000, 'min_child_weight': 10, 'max_depth': 10, 'learning_rate': 0.1, 'gamma': 2, 'colsample_bytree': 1}\"}, 'features': {\"['SPY_diff', 'day_of_week', 'return_vol_5D', 'hour_volume_vol_diff', 'return_vol_240M', 'volume_vol_8H', 'range_vol_diff5', 'return_vol_30M', 'daily_volume_vol_diff30', 'close_diff', 'volume_vol_15M', 'return_vol_10D', 'daily_vol_diff_pct', 'daily_volume_vol_diff_pct30', 'range_vol5MA', 'cmf', 'return_vol_450M', 'hour_volume_vol_diff_pct', 'min_vol_diff', 'price_25DDiff', 'return_vol_3D', 'daily_vol_diff_pct30', 'volume_vol_3D', 'volume_vol_450M', 'close_diff_deviation', 'return_vol_30D', 'close_diff_deviation3', 'return_vol_16H', 'volume_vol_30M', 'rsi', 'threeD_stddev50', 'close_diff5', 'range_vol10MA', 'SPY_5D', 'daily_vol_diff', 'SPY_diff3', 'volume_vol_5D', 'rsi3', 'volume_25DDiff', 'price7']\"}, 'target': '-0.794+one_min_vol', 'feature_importances': \"[{'SPY_diff': 0.02377044}, {'day_of_week': 0.027184317}, {'return_vol_5D': 0.023122104}, {'hour_volume_vol_diff': 0.023215296}, {'return_vol_240M': 0.025362799}, {'volume_vol_8H': 0.02164605}, {'range_vol_diff5': 0.024598408}, {'return_vol_30M': 0.028121231}, {'daily_volume_vol_diff30': 0.02384951}, {'close_diff': 0.025638772}, {'volume_vol_15M': 0.018605428}, {'return_vol_10D': 0.029516852}, {'daily_vol_diff_pct': 0.03483972}, {'daily_volume_vol_diff_pct30': 0.022654846}, {'range_vol5MA': 0.025213655}, {'cmf': 0.02334009}, {'return_vol_450M': 0.026509695}, {'hour_volume_vol_diff_pct': 0.022636142}, {'min_vol_diff': 0.02188667}, {'price_25DDiff': 0.024705384}, {'return_vol_3D': 0.023234215}, {'daily_vol_diff_pct30': 0.024398612}, {'volume_vol_3D': 0.021684643}, {'volume_vol_450M': 0.022948757}, {'close_diff_deviation': 0.024180463}, {'return_vol_30D': 0.024650715}, {'close_diff_deviation3': 0.02618483}, {'return_vol_16H': 0.021992533}, {'volume_vol_30M': 0.019897746}, {'rsi': 0.024335358}, {'threeD_stddev50': 0.02673436}, {'close_diff5': 0.025703192}, {'range_vol10MA': 0.025772003}, {'SPY_5D': 0.027030984}, {'daily_vol_diff': 0.043938126}, {'SPY_diff3': 0.023548838}, {'volume_vol_5D': 0.02213244}, {'rsi3': 0.029497715}, {'volume_25DDiff': 0.022299374}, {'price7': 0.023417763}]\"}\n",
      "{'deployment_date': datetime.datetime(2023, 11, 6, 0, 0), 'dataset_end': datetime.datetime(2023, 10, 27, 0, 0), 'dataset_start': datetime.datetime(2018, 1, 1, 0, 0)}\n"
     ]
    },
    {
     "name": "stderr",
     "output_type": "stream",
     "text": [
      "/var/folders/tq/_9q_lv1s2bndbr3tzzn08x4r0000gn/T/ipykernel_59883/3784404324.py:66: DtypeWarning: Columns (109,110) have mixed types. Specify dtype option on import or set low_memory=False.\n",
      "  data = pd.read_csv(f'/Users/charlesmiller/Documents/model_tester_data/CDLOSE/2018-01-01_2023-12-23_validationTR15.csv')\n"
     ]
    },
    {
     "name": "stdout",
     "output_type": "stream",
     "text": [
      "label\n",
      "1    72340\n",
      "0    59428\n",
      "Name: count, dtype: int64\n",
      "70 60 192 128\n",
      "{'model_name': 'CDLOSE_1d:TSSIM1_TL15-EXP_custHypTP0.55', 'deployment_date': '2023-11-06', 'algorithm_type': 'xgboost', 'dataset': 'TSSIM1_TL15-EXP_custHypTP0.55', 'TP': 70, 'TPpct': Decimal('0'), 'FP': 60, 'FPpct': Decimal('0'), 'TN': 192, 'TNpct': Decimal('0'), 'FN': 128, 'FNpct': Decimal('0'), 'precision_ratio': Decimal('1.1666666666666667'), 'evaluation_timeperiod': '2023-11-06_2023-11-10', 'live': False, 'hyperparameters': {\"{'subsample': 0.6, 'num_round': 1000, 'min_child_weight': 10, 'max_depth': 10, 'learning_rate': 0.1, 'gamma': 2, 'colsample_bytree': 1}\"}, 'features': {\"['SPY_diff', 'day_of_week', 'return_vol_5D', 'hour_volume_vol_diff', 'return_vol_240M', 'volume_vol_8H', 'range_vol_diff5', 'return_vol_30M', 'daily_volume_vol_diff30', 'close_diff', 'volume_vol_15M', 'return_vol_10D', 'daily_vol_diff_pct', 'daily_volume_vol_diff_pct30', 'range_vol5MA', 'cmf', 'return_vol_450M', 'hour_volume_vol_diff_pct', 'min_vol_diff', 'price_25DDiff', 'return_vol_3D', 'daily_vol_diff_pct30', 'volume_vol_3D', 'volume_vol_450M', 'close_diff_deviation', 'return_vol_30D', 'close_diff_deviation3', 'return_vol_16H', 'volume_vol_30M', 'rsi', 'threeD_stddev50', 'close_diff5', 'range_vol10MA', 'SPY_5D', 'daily_vol_diff', 'SPY_diff3', 'volume_vol_5D', 'rsi3', 'volume_25DDiff', 'price7']\"}, 'target': '-0.795+one_min_vol', 'feature_importances': \"[{'SPY_diff': 0.024094788}, {'day_of_week': 0.027792146}, {'return_vol_5D': 0.02269809}, {'hour_volume_vol_diff': 0.022582745}, {'return_vol_240M': 0.024776137}, {'volume_vol_8H': 0.022797102}, {'range_vol_diff5': 0.023960827}, {'return_vol_30M': 0.028596008}, {'daily_volume_vol_diff30': 0.023957634}, {'close_diff': 0.025900217}, {'volume_vol_15M': 0.019986369}, {'return_vol_10D': 0.0287483}, {'daily_vol_diff_pct': 0.031592596}, {'daily_volume_vol_diff_pct30': 0.022845658}, {'range_vol5MA': 0.023939164}, {'cmf': 0.023541205}, {'return_vol_450M': 0.026050316}, {'hour_volume_vol_diff_pct': 0.022771202}, {'min_vol_diff': 0.021857211}, {'price_25DDiff': 0.025001036}, {'return_vol_3D': 0.023466013}, {'daily_vol_diff_pct30': 0.024401816}, {'volume_vol_3D': 0.021904135}, {'volume_vol_450M': 0.022773357}, {'close_diff_deviation': 0.023889463}, {'return_vol_30D': 0.025596209}, {'close_diff_deviation3': 0.02657818}, {'return_vol_16H': 0.023113875}, {'volume_vol_30M': 0.01970366}, {'rsi': 0.024420459}, {'threeD_stddev50': 0.026046153}, {'close_diff5': 0.025051257}, {'range_vol10MA': 0.025515938}, {'SPY_5D': 0.027189545}, {'daily_vol_diff': 0.04592977}, {'SPY_diff3': 0.022721343}, {'volume_vol_5D': 0.022092432}, {'rsi3': 0.030206157}, {'volume_25DDiff': 0.02199409}, {'price7': 0.023917433}]\"}\n",
      "{'deployment_date': datetime.datetime(2023, 11, 13, 0, 0), 'dataset_end': datetime.datetime(2023, 11, 3, 0, 0), 'dataset_start': datetime.datetime(2018, 1, 1, 0, 0)}\n"
     ]
    },
    {
     "name": "stderr",
     "output_type": "stream",
     "text": [
      "/var/folders/tq/_9q_lv1s2bndbr3tzzn08x4r0000gn/T/ipykernel_59883/3784404324.py:66: DtypeWarning: Columns (109,110) have mixed types. Specify dtype option on import or set low_memory=False.\n",
      "  data = pd.read_csv(f'/Users/charlesmiller/Documents/model_tester_data/CDLOSE/2018-01-01_2023-12-23_validationTR15.csv')\n"
     ]
    },
    {
     "name": "stdout",
     "output_type": "stream",
     "text": [
      "label\n",
      "1    72579\n",
      "0    59639\n",
      "Name: count, dtype: int64\n",
      "64 121 203 62\n",
      "{'model_name': 'CDLOSE_1d:TSSIM1_TL15-EXP_custHypTP0.55', 'deployment_date': '2023-11-13', 'algorithm_type': 'xgboost', 'dataset': 'TSSIM1_TL15-EXP_custHypTP0.55', 'TP': 64, 'TPpct': Decimal('0'), 'FP': 121, 'FPpct': Decimal('0'), 'TN': 203, 'TNpct': Decimal('0'), 'FN': 62, 'FNpct': Decimal('0'), 'precision_ratio': Decimal('0.5289256198347108'), 'evaluation_timeperiod': '2023-11-13_2023-11-17', 'live': False, 'hyperparameters': {\"{'subsample': 0.6, 'num_round': 1000, 'min_child_weight': 10, 'max_depth': 10, 'learning_rate': 0.1, 'gamma': 2, 'colsample_bytree': 1}\"}, 'features': {\"['SPY_diff', 'day_of_week', 'return_vol_5D', 'hour_volume_vol_diff', 'return_vol_240M', 'volume_vol_8H', 'range_vol_diff5', 'return_vol_30M', 'daily_volume_vol_diff30', 'close_diff', 'volume_vol_15M', 'return_vol_10D', 'daily_vol_diff_pct', 'daily_volume_vol_diff_pct30', 'range_vol5MA', 'cmf', 'return_vol_450M', 'hour_volume_vol_diff_pct', 'min_vol_diff', 'price_25DDiff', 'return_vol_3D', 'daily_vol_diff_pct30', 'volume_vol_3D', 'volume_vol_450M', 'close_diff_deviation', 'return_vol_30D', 'close_diff_deviation3', 'return_vol_16H', 'volume_vol_30M', 'rsi', 'threeD_stddev50', 'close_diff5', 'range_vol10MA', 'SPY_5D', 'daily_vol_diff', 'SPY_diff3', 'volume_vol_5D', 'rsi3', 'volume_25DDiff', 'price7']\"}, 'target': '-0.794+one_min_vol', 'feature_importances': \"[{'SPY_diff': 0.023847712}, {'day_of_week': 0.0281093}, {'return_vol_5D': 0.023035273}, {'hour_volume_vol_diff': 0.023381256}, {'return_vol_240M': 0.026104815}, {'volume_vol_8H': 0.022570288}, {'range_vol_diff5': 0.02427754}, {'return_vol_30M': 0.027094843}, {'daily_volume_vol_diff30': 0.024063123}, {'close_diff': 0.026144287}, {'volume_vol_15M': 0.01974508}, {'return_vol_10D': 0.029046109}, {'daily_vol_diff_pct': 0.032496195}, {'daily_volume_vol_diff_pct30': 0.02234398}, {'range_vol5MA': 0.024683379}, {'cmf': 0.023075638}, {'return_vol_450M': 0.02526716}, {'hour_volume_vol_diff_pct': 0.023103874}, {'min_vol_diff': 0.02219874}, {'price_25DDiff': 0.024379514}, {'return_vol_3D': 0.022914967}, {'daily_vol_diff_pct30': 0.024329277}, {'volume_vol_3D': 0.021647174}, {'volume_vol_450M': 0.022683352}, {'close_diff_deviation': 0.023820978}, {'return_vol_30D': 0.024954777}, {'close_diff_deviation3': 0.026024235}, {'return_vol_16H': 0.023416104}, {'volume_vol_30M': 0.02003146}, {'rsi': 0.024657853}, {'threeD_stddev50': 0.025754964}, {'close_diff5': 0.025052838}, {'range_vol10MA': 0.025310162}, {'SPY_5D': 0.026846394}, {'daily_vol_diff': 0.047124356}, {'SPY_diff3': 0.023139969}, {'volume_vol_5D': 0.022424657}, {'rsi3': 0.029350065}, {'volume_25DDiff': 0.021768242}, {'price7': 0.023780083}]\"}\n",
      "{'deployment_date': datetime.datetime(2023, 11, 20, 0, 0), 'dataset_end': datetime.datetime(2023, 11, 10, 0, 0), 'dataset_start': datetime.datetime(2018, 1, 1, 0, 0)}\n"
     ]
    },
    {
     "name": "stderr",
     "output_type": "stream",
     "text": [
      "/var/folders/tq/_9q_lv1s2bndbr3tzzn08x4r0000gn/T/ipykernel_59883/3784404324.py:66: DtypeWarning: Columns (109,110) have mixed types. Specify dtype option on import or set low_memory=False.\n",
      "  data = pd.read_csv(f'/Users/charlesmiller/Documents/model_tester_data/CDLOSE/2018-01-01_2023-12-23_validationTR15.csv')\n"
     ]
    },
    {
     "name": "stdout",
     "output_type": "stream",
     "text": [
      "label\n",
      "1    72884\n",
      "0    59784\n",
      "Name: count, dtype: int64\n",
      "39 94 169 58\n",
      "{'model_name': 'CDLOSE_1d:TSSIM1_TL15-EXP_custHypTP0.55', 'deployment_date': '2023-11-20', 'algorithm_type': 'xgboost', 'dataset': 'TSSIM1_TL15-EXP_custHypTP0.55', 'TP': 39, 'TPpct': Decimal('0'), 'FP': 94, 'FPpct': Decimal('0'), 'TN': 169, 'TNpct': Decimal('0'), 'FN': 58, 'FNpct': Decimal('0'), 'precision_ratio': Decimal('0.4148936170212766'), 'evaluation_timeperiod': '2023-11-20_2023-11-24', 'live': False, 'hyperparameters': {\"{'subsample': 0.6, 'num_round': 1000, 'min_child_weight': 10, 'max_depth': 10, 'learning_rate': 0.1, 'gamma': 2, 'colsample_bytree': 1}\"}, 'features': {\"['SPY_diff', 'day_of_week', 'return_vol_5D', 'hour_volume_vol_diff', 'return_vol_240M', 'volume_vol_8H', 'range_vol_diff5', 'return_vol_30M', 'daily_volume_vol_diff30', 'close_diff', 'volume_vol_15M', 'return_vol_10D', 'daily_vol_diff_pct', 'daily_volume_vol_diff_pct30', 'range_vol5MA', 'cmf', 'return_vol_450M', 'hour_volume_vol_diff_pct', 'min_vol_diff', 'price_25DDiff', 'return_vol_3D', 'daily_vol_diff_pct30', 'volume_vol_3D', 'volume_vol_450M', 'close_diff_deviation', 'return_vol_30D', 'close_diff_deviation3', 'return_vol_16H', 'volume_vol_30M', 'rsi', 'threeD_stddev50', 'close_diff5', 'range_vol10MA', 'SPY_5D', 'daily_vol_diff', 'SPY_diff3', 'volume_vol_5D', 'rsi3', 'volume_25DDiff', 'price7']\"}, 'target': '-0.793+one_min_vol', 'feature_importances': \"[{'SPY_diff': 0.023593957}, {'day_of_week': 0.02668024}, {'return_vol_5D': 0.023724752}, {'hour_volume_vol_diff': 0.02248438}, {'return_vol_240M': 0.0253573}, {'volume_vol_8H': 0.022415629}, {'range_vol_diff5': 0.02427719}, {'return_vol_30M': 0.026952408}, {'daily_volume_vol_diff30': 0.023287343}, {'close_diff': 0.025088634}, {'volume_vol_15M': 0.019924225}, {'return_vol_10D': 0.030006533}, {'daily_vol_diff_pct': 0.03328893}, {'daily_volume_vol_diff_pct30': 0.022758465}, {'range_vol5MA': 0.023859374}, {'cmf': 0.023096327}, {'return_vol_450M': 0.026139975}, {'hour_volume_vol_diff_pct': 0.022855498}, {'min_vol_diff': 0.021798072}, {'price_25DDiff': 0.02423449}, {'return_vol_3D': 0.022855774}, {'daily_vol_diff_pct30': 0.024610827}, {'volume_vol_3D': 0.021934154}, {'volume_vol_450M': 0.022718228}, {'close_diff_deviation': 0.02411859}, {'return_vol_30D': 0.025586648}, {'close_diff_deviation3': 0.025963943}, {'return_vol_16H': 0.02293308}, {'volume_vol_30M': 0.020774586}, {'rsi': 0.024910899}, {'threeD_stddev50': 0.02607623}, {'close_diff5': 0.025685417}, {'range_vol10MA': 0.025648065}, {'SPY_5D': 0.027051587}, {'daily_vol_diff': 0.0462511}, {'SPY_diff3': 0.023138992}, {'volume_vol_5D': 0.022867877}, {'rsi3': 0.029863011}, {'volume_25DDiff': 0.022068968}, {'price7': 0.023118295}]\"}\n",
      "{'deployment_date': datetime.datetime(2023, 11, 27, 0, 0), 'dataset_end': datetime.datetime(2023, 11, 17, 0, 0), 'dataset_start': datetime.datetime(2018, 1, 1, 0, 0)}\n"
     ]
    },
    {
     "name": "stderr",
     "output_type": "stream",
     "text": [
      "/var/folders/tq/_9q_lv1s2bndbr3tzzn08x4r0000gn/T/ipykernel_59883/3784404324.py:66: DtypeWarning: Columns (109,110) have mixed types. Specify dtype option on import or set low_memory=False.\n",
      "  data = pd.read_csv(f'/Users/charlesmiller/Documents/model_tester_data/CDLOSE/2018-01-01_2023-12-23_validationTR15.csv')\n"
     ]
    },
    {
     "name": "stdout",
     "output_type": "stream",
     "text": [
      "label\n",
      "1    73121\n",
      "0    59997\n",
      "Name: count, dtype: int64\n",
      "190 92 78 90\n",
      "{'model_name': 'CDLOSE_1d:TSSIM1_TL15-EXP_custHypTP0.55', 'deployment_date': '2023-11-27', 'algorithm_type': 'xgboost', 'dataset': 'TSSIM1_TL15-EXP_custHypTP0.55', 'TP': 190, 'TPpct': Decimal('0'), 'FP': 92, 'FPpct': Decimal('0'), 'TN': 78, 'TNpct': Decimal('0'), 'FN': 90, 'FNpct': Decimal('0'), 'precision_ratio': Decimal('2.0652173913043477'), 'evaluation_timeperiod': '2023-11-27_2023-12-01', 'live': False, 'hyperparameters': {\"{'subsample': 0.6, 'num_round': 1000, 'min_child_weight': 10, 'max_depth': 10, 'learning_rate': 0.1, 'gamma': 2, 'colsample_bytree': 1}\"}, 'features': {\"['SPY_diff', 'day_of_week', 'return_vol_5D', 'hour_volume_vol_diff', 'return_vol_240M', 'volume_vol_8H', 'range_vol_diff5', 'return_vol_30M', 'daily_volume_vol_diff30', 'close_diff', 'volume_vol_15M', 'return_vol_10D', 'daily_vol_diff_pct', 'daily_volume_vol_diff_pct30', 'range_vol5MA', 'cmf', 'return_vol_450M', 'hour_volume_vol_diff_pct', 'min_vol_diff', 'price_25DDiff', 'return_vol_3D', 'daily_vol_diff_pct30', 'volume_vol_3D', 'volume_vol_450M', 'close_diff_deviation', 'return_vol_30D', 'close_diff_deviation3', 'return_vol_16H', 'volume_vol_30M', 'rsi', 'threeD_stddev50', 'close_diff5', 'range_vol10MA', 'SPY_5D', 'daily_vol_diff', 'SPY_diff3', 'volume_vol_5D', 'rsi3', 'volume_25DDiff', 'price7']\"}, 'target': '-0.792+one_min_vol', 'feature_importances': \"[{'SPY_diff': 0.023293136}, {'day_of_week': 0.027535943}, {'return_vol_5D': 0.023252402}, {'hour_volume_vol_diff': 0.0235721}, {'return_vol_240M': 0.025413234}, {'volume_vol_8H': 0.022302005}, {'range_vol_diff5': 0.024145344}, {'return_vol_30M': 0.028412385}, {'daily_volume_vol_diff30': 0.023908487}, {'close_diff': 0.025570514}, {'volume_vol_15M': 0.019537726}, {'return_vol_10D': 0.029880775}, {'daily_vol_diff_pct': 0.031982597}, {'daily_volume_vol_diff_pct30': 0.022394769}, {'range_vol5MA': 0.023932826}, {'cmf': 0.023863131}, {'return_vol_450M': 0.026265483}, {'hour_volume_vol_diff_pct': 0.02289004}, {'min_vol_diff': 0.02132888}, {'price_25DDiff': 0.024059964}, {'return_vol_3D': 0.022866156}, {'daily_vol_diff_pct30': 0.02497299}, {'volume_vol_3D': 0.022246273}, {'volume_vol_450M': 0.023084877}, {'close_diff_deviation': 0.023929216}, {'return_vol_30D': 0.025325395}, {'close_diff_deviation3': 0.026553055}, {'return_vol_16H': 0.022766592}, {'volume_vol_30M': 0.020398796}, {'rsi': 0.024277927}, {'threeD_stddev50': 0.025877245}, {'close_diff5': 0.025593394}, {'range_vol10MA': 0.025066553}, {'SPY_5D': 0.026909051}, {'daily_vol_diff': 0.04618192}, {'SPY_diff3': 0.023342302}, {'volume_vol_5D': 0.022292152}, {'rsi3': 0.02948462}, {'volume_25DDiff': 0.021943538}, {'price7': 0.023346215}]\"}\n",
      "{'deployment_date': datetime.datetime(2023, 12, 4, 0, 0), 'dataset_end': datetime.datetime(2023, 11, 24, 0, 0), 'dataset_start': datetime.datetime(2018, 1, 1, 0, 0)}\n"
     ]
    },
    {
     "name": "stderr",
     "output_type": "stream",
     "text": [
      "/var/folders/tq/_9q_lv1s2bndbr3tzzn08x4r0000gn/T/ipykernel_59883/3784404324.py:66: DtypeWarning: Columns (109,110) have mixed types. Specify dtype option on import or set low_memory=False.\n",
      "  data = pd.read_csv(f'/Users/charlesmiller/Documents/model_tester_data/CDLOSE/2018-01-01_2023-12-23_validationTR15.csv')\n"
     ]
    },
    {
     "name": "stdout",
     "output_type": "stream",
     "text": [
      "label\n",
      "1    73329\n",
      "0    60149\n",
      "Name: count, dtype: int64\n",
      "149 147 105 49\n",
      "{'model_name': 'CDLOSE_1d:TSSIM1_TL15-EXP_custHypTP0.55', 'deployment_date': '2023-12-04', 'algorithm_type': 'xgboost', 'dataset': 'TSSIM1_TL15-EXP_custHypTP0.55', 'TP': 149, 'TPpct': Decimal('0'), 'FP': 147, 'FPpct': Decimal('0'), 'TN': 105, 'TNpct': Decimal('0'), 'FN': 49, 'FNpct': Decimal('0'), 'precision_ratio': Decimal('1.0136054421768708'), 'evaluation_timeperiod': '2023-12-04_2023-12-08', 'live': False, 'hyperparameters': {\"{'subsample': 0.6, 'num_round': 1000, 'min_child_weight': 10, 'max_depth': 10, 'learning_rate': 0.1, 'gamma': 2, 'colsample_bytree': 1}\"}, 'features': {\"['SPY_diff', 'day_of_week', 'return_vol_5D', 'hour_volume_vol_diff', 'return_vol_240M', 'volume_vol_8H', 'range_vol_diff5', 'return_vol_30M', 'daily_volume_vol_diff30', 'close_diff', 'volume_vol_15M', 'return_vol_10D', 'daily_vol_diff_pct', 'daily_volume_vol_diff_pct30', 'range_vol5MA', 'cmf', 'return_vol_450M', 'hour_volume_vol_diff_pct', 'min_vol_diff', 'price_25DDiff', 'return_vol_3D', 'daily_vol_diff_pct30', 'volume_vol_3D', 'volume_vol_450M', 'close_diff_deviation', 'return_vol_30D', 'close_diff_deviation3', 'return_vol_16H', 'volume_vol_30M', 'rsi', 'threeD_stddev50', 'close_diff5', 'range_vol10MA', 'SPY_5D', 'daily_vol_diff', 'SPY_diff3', 'volume_vol_5D', 'rsi3', 'volume_25DDiff', 'price7']\"}, 'target': '-0.79+one_min_vol', 'feature_importances': \"[{'SPY_diff': 0.023689585}, {'day_of_week': 0.027192906}, {'return_vol_5D': 0.023438709}, {'hour_volume_vol_diff': 0.023634026}, {'return_vol_240M': 0.024695277}, {'volume_vol_8H': 0.022319948}, {'range_vol_diff5': 0.02421623}, {'return_vol_30M': 0.02799913}, {'daily_volume_vol_diff30': 0.024273109}, {'close_diff': 0.024996625}, {'volume_vol_15M': 0.019784238}, {'return_vol_10D': 0.028746203}, {'daily_vol_diff_pct': 0.035194904}, {'daily_volume_vol_diff_pct30': 0.024048049}, {'range_vol5MA': 0.024158334}, {'cmf': 0.023478895}, {'return_vol_450M': 0.026163373}, {'hour_volume_vol_diff_pct': 0.022393934}, {'min_vol_diff': 0.02118239}, {'price_25DDiff': 0.024263218}, {'return_vol_3D': 0.022776324}, {'daily_vol_diff_pct30': 0.024884682}, {'volume_vol_3D': 0.022350969}, {'volume_vol_450M': 0.022452535}, {'close_diff_deviation': 0.023820467}, {'return_vol_30D': 0.02547757}, {'close_diff_deviation3': 0.02645401}, {'return_vol_16H': 0.022733865}, {'volume_vol_30M': 0.019523114}, {'rsi': 0.023714606}, {'threeD_stddev50': 0.025947183}, {'close_diff5': 0.025516534}, {'range_vol10MA': 0.025429891}, {'SPY_5D': 0.027022975}, {'daily_vol_diff': 0.044611048}, {'SPY_diff3': 0.022652645}, {'volume_vol_5D': 0.02233205}, {'rsi3': 0.029733561}, {'volume_25DDiff': 0.0229805}, {'price7': 0.023716452}]\"}\n",
      "{'deployment_date': datetime.datetime(2023, 12, 11, 0, 0), 'dataset_end': datetime.datetime(2023, 12, 1, 0, 0), 'dataset_start': datetime.datetime(2018, 1, 1, 0, 0)}\n"
     ]
    },
    {
     "name": "stderr",
     "output_type": "stream",
     "text": [
      "/var/folders/tq/_9q_lv1s2bndbr3tzzn08x4r0000gn/T/ipykernel_59883/3784404324.py:66: DtypeWarning: Columns (109,110) have mixed types. Specify dtype option on import or set low_memory=False.\n",
      "  data = pd.read_csv(f'/Users/charlesmiller/Documents/model_tester_data/CDLOSE/2018-01-01_2023-12-23_validationTR15.csv')\n"
     ]
    },
    {
     "name": "stdout",
     "output_type": "stream",
     "text": [
      "label\n",
      "1    73540\n",
      "0    60388\n",
      "Name: count, dtype: int64\n",
      "106 178 113 53\n",
      "{'model_name': 'CDLOSE_1d:TSSIM1_TL15-EXP_custHypTP0.55', 'deployment_date': '2023-12-11', 'algorithm_type': 'xgboost', 'dataset': 'TSSIM1_TL15-EXP_custHypTP0.55', 'TP': 106, 'TPpct': Decimal('0'), 'FP': 178, 'FPpct': Decimal('0'), 'TN': 113, 'TNpct': Decimal('0'), 'FN': 53, 'FNpct': Decimal('0'), 'precision_ratio': Decimal('0.5955056179775281'), 'evaluation_timeperiod': '2023-12-11_2023-12-15', 'live': False, 'hyperparameters': {\"{'subsample': 0.6, 'num_round': 1000, 'min_child_weight': 10, 'max_depth': 10, 'learning_rate': 0.1, 'gamma': 2, 'colsample_bytree': 1}\"}, 'features': {\"['SPY_diff', 'day_of_week', 'return_vol_5D', 'hour_volume_vol_diff', 'return_vol_240M', 'volume_vol_8H', 'range_vol_diff5', 'return_vol_30M', 'daily_volume_vol_diff30', 'close_diff', 'volume_vol_15M', 'return_vol_10D', 'daily_vol_diff_pct', 'daily_volume_vol_diff_pct30', 'range_vol5MA', 'cmf', 'return_vol_450M', 'hour_volume_vol_diff_pct', 'min_vol_diff', 'price_25DDiff', 'return_vol_3D', 'daily_vol_diff_pct30', 'volume_vol_3D', 'volume_vol_450M', 'close_diff_deviation', 'return_vol_30D', 'close_diff_deviation3', 'return_vol_16H', 'volume_vol_30M', 'rsi', 'threeD_stddev50', 'close_diff5', 'range_vol10MA', 'SPY_5D', 'daily_vol_diff', 'SPY_diff3', 'volume_vol_5D', 'rsi3', 'volume_25DDiff', 'price7']\"}, 'target': '-0.791+one_min_vol', 'feature_importances': \"[{'SPY_diff': 0.023627944}, {'day_of_week': 0.026319353}, {'return_vol_5D': 0.02284615}, {'hour_volume_vol_diff': 0.023411466}, {'return_vol_240M': 0.02496551}, {'volume_vol_8H': 0.022463365}, {'range_vol_diff5': 0.024129514}, {'return_vol_30M': 0.02788564}, {'daily_volume_vol_diff30': 0.023570077}, {'close_diff': 0.026087398}, {'volume_vol_15M': 0.01969502}, {'return_vol_10D': 0.030215356}, {'daily_vol_diff_pct': 0.033343866}, {'daily_volume_vol_diff_pct30': 0.023134677}, {'range_vol5MA': 0.02406422}, {'cmf': 0.023534067}, {'return_vol_450M': 0.025690971}, {'hour_volume_vol_diff_pct': 0.022391235}, {'min_vol_diff': 0.021421855}, {'price_25DDiff': 0.02448977}, {'return_vol_3D': 0.02288295}, {'daily_vol_diff_pct30': 0.024574086}, {'volume_vol_3D': 0.02185119}, {'volume_vol_450M': 0.022630505}, {'close_diff_deviation': 0.024075534}, {'return_vol_30D': 0.024568157}, {'close_diff_deviation3': 0.026538186}, {'return_vol_16H': 0.023259243}, {'volume_vol_30M': 0.020015694}, {'rsi': 0.023712952}, {'threeD_stddev50': 0.025590379}, {'close_diff5': 0.025608024}, {'range_vol10MA': 0.025583442}, {'SPY_5D': 0.026606591}, {'daily_vol_diff': 0.048350178}, {'SPY_diff3': 0.023122873}, {'volume_vol_5D': 0.022138156}, {'rsi3': 0.02931567}, {'volume_25DDiff': 0.021911565}, {'price7': 0.024377216}]\"}\n",
      "{'deployment_date': datetime.datetime(2023, 12, 18, 0, 0), 'dataset_end': datetime.datetime(2023, 12, 8, 0, 0), 'dataset_start': datetime.datetime(2018, 1, 1, 0, 0)}\n"
     ]
    },
    {
     "name": "stderr",
     "output_type": "stream",
     "text": [
      "/var/folders/tq/_9q_lv1s2bndbr3tzzn08x4r0000gn/T/ipykernel_59883/3784404324.py:66: DtypeWarning: Columns (109,110) have mixed types. Specify dtype option on import or set low_memory=False.\n",
      "  data = pd.read_csv(f'/Users/charlesmiller/Documents/model_tester_data/CDLOSE/2018-01-01_2023-12-23_validationTR15.csv')\n"
     ]
    },
    {
     "name": "stdout",
     "output_type": "stream",
     "text": [
      "label\n",
      "1    73786\n",
      "0    60592\n",
      "Name: count, dtype: int64\n",
      "93 123 154 80\n",
      "{'model_name': 'CDLOSE_1d:TSSIM1_TL15-EXP_custHypTP0.55', 'deployment_date': '2023-12-18', 'algorithm_type': 'xgboost', 'dataset': 'TSSIM1_TL15-EXP_custHypTP0.55', 'TP': 93, 'TPpct': Decimal('0'), 'FP': 123, 'FPpct': Decimal('0'), 'TN': 154, 'TNpct': Decimal('0'), 'FN': 80, 'FNpct': Decimal('0'), 'precision_ratio': Decimal('0.7560975609756098'), 'evaluation_timeperiod': '2023-12-18_2023-12-22', 'live': False, 'hyperparameters': {\"{'subsample': 0.6, 'num_round': 1000, 'min_child_weight': 10, 'max_depth': 10, 'learning_rate': 0.1, 'gamma': 2, 'colsample_bytree': 1}\"}, 'features': {\"['SPY_diff', 'day_of_week', 'return_vol_5D', 'hour_volume_vol_diff', 'return_vol_240M', 'volume_vol_8H', 'range_vol_diff5', 'return_vol_30M', 'daily_volume_vol_diff30', 'close_diff', 'volume_vol_15M', 'return_vol_10D', 'daily_vol_diff_pct', 'daily_volume_vol_diff_pct30', 'range_vol5MA', 'cmf', 'return_vol_450M', 'hour_volume_vol_diff_pct', 'min_vol_diff', 'price_25DDiff', 'return_vol_3D', 'daily_vol_diff_pct30', 'volume_vol_3D', 'volume_vol_450M', 'close_diff_deviation', 'return_vol_30D', 'close_diff_deviation3', 'return_vol_16H', 'volume_vol_30M', 'rsi', 'threeD_stddev50', 'close_diff5', 'range_vol10MA', 'SPY_5D', 'daily_vol_diff', 'SPY_diff3', 'volume_vol_5D', 'rsi3', 'volume_25DDiff', 'price7']\"}, 'target': '-0.791+one_min_vol', 'feature_importances': \"[{'SPY_diff': 0.02386655}, {'day_of_week': 0.027022932}, {'return_vol_5D': 0.023592222}, {'hour_volume_vol_diff': 0.022299346}, {'return_vol_240M': 0.025228793}, {'volume_vol_8H': 0.022662818}, {'range_vol_diff5': 0.024974776}, {'return_vol_30M': 0.027824763}, {'daily_volume_vol_diff30': 0.024150776}, {'close_diff': 0.025486547}, {'volume_vol_15M': 0.019445915}, {'return_vol_10D': 0.030087883}, {'daily_vol_diff_pct': 0.03297636}, {'daily_volume_vol_diff_pct30': 0.023045843}, {'range_vol5MA': 0.024463654}, {'cmf': 0.023479959}, {'return_vol_450M': 0.025674304}, {'hour_volume_vol_diff_pct': 0.022482278}, {'min_vol_diff': 0.021010878}, {'price_25DDiff': 0.02363936}, {'return_vol_3D': 0.022494588}, {'daily_vol_diff_pct30': 0.024607465}, {'volume_vol_3D': 0.022680545}, {'volume_vol_450M': 0.02276127}, {'close_diff_deviation': 0.02371468}, {'return_vol_30D': 0.025387734}, {'close_diff_deviation3': 0.025947422}, {'return_vol_16H': 0.023440553}, {'volume_vol_30M': 0.019900251}, {'rsi': 0.024366805}, {'threeD_stddev50': 0.025326258}, {'close_diff5': 0.025519844}, {'range_vol10MA': 0.025584599}, {'SPY_5D': 0.02670798}, {'daily_vol_diff': 0.048252277}, {'SPY_diff3': 0.02289999}, {'volume_vol_5D': 0.021769824}, {'rsi3': 0.029640086}, {'volume_25DDiff': 0.021963673}, {'price7': 0.023618214}]\"}\n"
     ]
    }
   ],
   "source": [
    "title = 'CDLOSE_1d'\n",
    "target_percentile = 0.55\n",
    "# target_vol = -.85\n",
    "model_name = f'{title}:TSSIM1_TL15-EXP_custHypTP{target_percentile}'\n",
    "dataset_name = f'TSSIM1_TL15-EXP_custHypTP{target_percentile}'\n",
    "hyperparams = {'subsample': 0.6, 'num_round': 1000, 'min_child_weight': 10, 'max_depth': 10, 'learning_rate': 0.1, 'gamma': 2, 'colsample_bytree': 1}\n",
    "features = ['SPY_diff', 'day_of_week', 'return_vol_5D', 'hour_volume_vol_diff', 'return_vol_240M', 'volume_vol_8H', 'range_vol_diff5', 'return_vol_30M', \n",
    "            'daily_volume_vol_diff30', 'close_diff', 'volume_vol_15M', 'return_vol_10D', 'daily_vol_diff_pct', 'daily_volume_vol_diff_pct30', 'range_vol5MA', \n",
    "            'cmf', 'return_vol_450M', 'hour_volume_vol_diff_pct', 'min_vol_diff', 'price_25DDiff', 'return_vol_3D', 'daily_vol_diff_pct30', 'volume_vol_3D', \n",
    "            'volume_vol_450M', 'close_diff_deviation', 'return_vol_30D', 'close_diff_deviation3', 'return_vol_16H', 'volume_vol_30M', 'rsi', 'threeD_stddev50', \n",
    "            'close_diff5', 'range_vol10MA', 'SPY_5D', 'daily_vol_diff', 'SPY_diff3', 'volume_vol_5D', 'rsi3', 'volume_25DDiff', 'price7']\n",
    "\n",
    "target_label = 'one_min_vol'\n",
    "\n",
    "dataset_start_date = datetime(2018,1,1,tzinfo=pytz.timezone('US/Eastern')) \n",
    "dates_list = build_evaluation_period(datetime(2022,10,3), datetime(2023,12,23))\n",
    "\n",
    "# date = dates_list[-1]\n",
    "# print(date)\n",
    "# response = model_runner_data(start_date=datetime(2018,1,1),end_date=datetime(2023,12,23))\n",
    "\n",
    "# dataset = pull_training_data_local(start_date=datetime(2018,1,1),end_date=datetime(2023,12,23))\n",
    "# print(dataset['one_min_vol'].describe())\n",
    "\n",
    "for date in dates_list:\n",
    "    print(date)\n",
    "    response = model_runner_v2(model_name, dataset_name, title, features, target_label, target_percentile, \"dataset_start_date\",date['dataset_end'],date['deployment_date'], str(features),str(hyperparams), hyperparams, local_data=True, dataset_start_date=date['dataset_start'])\n",
    "    \n"
   ]
  },
  {
   "cell_type": "code",
   "execution_count": 208,
   "metadata": {},
   "outputs": [],
   "source": [
    "# def convert_timestamp_est(timestamp):\n",
    "#     # Create a naive datetime object from the UNIX timestamp\n",
    "#     dt_naive = datetime.utcfromtimestamp(timestamp)\n",
    "#     # Convert the naive datetime object to a timezone-aware one (UTC)\n",
    "#     dt_utc = pytz.utc.localize(dt_naive)\n",
    "#     # Convert the UTC datetime to EST\n",
    "#     dt_est = dt_utc.astimezone(pytz.timezone('US/Eastern'))\n",
    "    \n",
    "#     return dt_est\n",
    "\n",
    "\n",
    "# data = pd.read_csv(f'/Users/charlesmiller/Documents/model_tester_data/CDGAIN/2018-01-01_2023-12-23_validationTR15.csv')\n",
    "# data['date'] = data['date'].astype(str)\n",
    "# data['date'] = data['date'].apply(lambda x: x.split(\" \")[0])\n",
    "# data = data.drop(data[data['date'] == 'nan'].index)\n",
    "# # data.drop('date',axis=1,inplace=True)\n",
    "# # data['date'] = data['t'].apply(lambda x: convert_timestamp_est(x))\n",
    "# # data.drop(['one_pct','three_pct','Unnamed: 0.2', \"Unnamed: 0\",\"Unnamed: 0.1\", \"date_x\",\"date_y\",'vw_x', 'n_x', 'return_vol_240M_x', 'volume_vol_240M_x', 'return_vol_450M_x', 'volume_vol_450M_x', 'min_vol_diff_x', 'min_vol_diff_pct_x', 'min_volume_vol_diff_x', 'min_volume_vol_diff_pct_x', 'return_vol_8H_x', 'return_vol_16H_x', 'volume_vol_8H_x', 'volume_vol_16H_x', 'hour_vol_diff_x', 'hour_vol_diff_pct_x', 'hour_volume_vol_diff_x', 'hour_volume_vol_diff_pct_x', 'return_vol_5D_x', 'return_vol_10D_x', 'return_vol_30D_x', 'volume_vol_5D_x', 'volume_vol_10D_x', 'volume_vol_30D_x', 'daily_vol_diff_x', 'daily_vol_diff_pct_x', 'daily_vol_diff30_x', 'daily_vol_diff_pct30_x', 'daily_volume_vol_diff_x', 'daily_volume_vol_diff_pct_x', 'daily_volume_vol_diff30_x', 'daily_volume_vol_diff_pct30_x', 'vw_y', 'n_y', 'return_vol_240M_y', 'volume_vol_240M_y', 'return_vol_450M_y', 'volume_vol_450M_y', 'min_vol_diff_y', 'min_vol_diff_pct_y', 'min_volume_vol_diff_y', 'min_volume_vol_diff_pct_y', 'return_vol_8H_y', 'return_vol_16H_y', 'volume_vol_8H_y', 'volume_vol_16H_y', 'hour_vol_diff_y', 'hour_vol_diff_pct_y', 'hour_volume_vol_diff_y', 'hour_volume_vol_diff_pct_y', 'return_vol_5D_y', 'return_vol_10D_y', 'return_vol_30D_y', 'volume_vol_5D_y', 'volume_vol_10D_y', 'volume_vol_30D_y', 'daily_vol_diff_y', 'daily_vol_diff_pct_y', 'daily_vol_diff30_y', 'daily_vol_diff_pct30_y', 'daily_volume_vol_diff_y', 'daily_volume_vol_diff_pct_y', 'daily_volume_vol_diff30_y', 'daily_volume_vol_diff_pct30_y'], axis=1, inplace=True)\n",
    "# data['roc_diff'] = data['roc'] - data['roc5'] \n",
    "# data['range_vol_diff5'] = (data['range_vol'] - data['range_vol5MA'])\n",
    "# data['close_diff_deviation3'] = abs(data['close_diff3'])/(data['threeD_stddev50']*100)\n",
    "# data['close_diff_deviation'] = abs(data['close_diff'])/(data['oneD_stddev50']*100)\n",
    "# data.dropna(subset=['date'], inplace=True)\n",
    "# data['date'] = data['date'].apply(lambda x: datetime.strptime(x,\"%Y-%m-%d\"))\n",
    "# data['day_of_week'] = data['date'].apply(lambda x: x.dayofweek).astype(int)\n",
    "# data['day_of_month'] = data['date'].apply(lambda x: x.day).astype(int)\n",
    "# data['month'] = data['date'].apply(lambda x: x.month).astype(int)\n",
    "# data['year'] = data['date'].apply(lambda x: x.year).astype(int)\n",
    "# data.replace([np.inf, -np.inf], 0, inplace=True)\n",
    "# data.to_csv(f'/Users/charlesmiller/Documents/model_tester_data/CDGAIN/2018-01-01_2023-12-23_validationTR15.csv', index=False)"
   ]
  },
  {
   "cell_type": "code",
   "execution_count": 209,
   "metadata": {},
   "outputs": [],
   "source": [
    "# def run_temporal_simulation(features, target_label, target_value, dataset_start_date, evaluation_start_date, evaluation_end_date):\n",
    "#     tp_avg_list = []\n",
    "#     gross_accuracy_list = []\n",
    "#     # fn_list = []\n",
    "#     # tn_list = []\n",
    "    \n",
    "#     hyperparams = {'subsample': 0.6, 'num_round': 1000, 'min_child_weight': 10, 'max_depth': 10, 'learning_rate': 0.1, 'gamma': 2, 'colsample_bytree': 1}\n",
    "#     dates_list = build_evaluation_period(evaluation_start_date, evaluation_end_date)\n",
    "#     for date in dates_list:\n",
    "#         tp, fp, fn, tn = model_runner_temporal_simulation(features, target_label, target_value,dataset_start_date,date['dataset_end'],date['deployment_date'], hyperparams)\n",
    "#         tp_avg_list.append(tp)\n",
    "#         gross_accuracy_list.append((tp-fp))\n",
    "\n",
    "#     return tp_avg_list, gross_accuracy_list\n"
   ]
  },
  {
   "cell_type": "code",
   "execution_count": 210,
   "metadata": {},
   "outputs": [],
   "source": [
    "# number_of_simulations = 300\n",
    "# now = datetime.now()\n",
    "# title = 'CDLOSE'\n",
    "# # total_feature_list = ['Unnamed: 0.2', 'Unnamed: 0.1', 'Unnamed: 0', 'v', 'o', 'c', 'h', 'l',\n",
    "# #  'date', 'hour', 'symbol', 't', 'price7', 'price14', 'adjusted_volume', 'vol7', 'vol14', 'rsi', \n",
    "# # 'rsi3', 'rsi5', 'roc', 'roc3', 'roc5', 'threeD_returns_close', 'oneD_returns_close', 'range_vol', \n",
    "# # 'range_vol5MA', 'range_vol10MA', 'range_vol25MA', 'oneD_stddev50', 'threeD_stddev50', 'cmf', 'close_diff', \n",
    "# # 'close_diff3', 'close_diff5', 'v_diff_pct', 'adx', 'volume_10MA', 'volume_25MA', 'price_10MA', 'price_25MA',\n",
    "# # 'volume_10DDiff', 'volume_25DDiff', 'price_10DDiff', 'price_25DDiff', 'one_max', 'one_min', 'one_pct', \n",
    "# # 'three_max', 'three_min', 'three_pct', 'SPY_diff', 'SPY_diff3', 'SPY_diff5', 'SPY_1D', 'SPY_3D', 'SPY_5D', \n",
    "# # 'vw', 'n', 'return_vol_15M', 'volume_vol_15M', 'return_vol_30M', 'volume_vol_30M', 'return_vol_60M', \n",
    "# # 'volume_vol_60M', 'return_vol_120M', 'volume_vol_120M', 'return_vol_240M', 'volume_vol_240M', \n",
    "# # 'return_vol_450M', 'volume_vol_450M', '15min_vol_diff', '15min_vol_diff_pct', 'min_vol_diff', \n",
    "# # 'min_vol_diff_pct', 'min_volume_vol_diff', 'min_volume_vol_diff_pct', 'return_vol_4H', 'return_vol_8H', \n",
    "# # 'return_vol_16H', 'volume_vol_4H', 'volume_vol_8H', 'volume_vol_16H', 'hour_vol_diff', 'hour_vol_diff_pct', \n",
    "# # 'hour_volume_vol_diff', 'hour_volume_vol_diff_pct', 'return_vol_3D', 'return_vol_5D', 'return_vol_10D', \n",
    "# # 'return_vol_30D', 'volume_vol_3D', 'volume_vol_5D', 'volume_vol_10D', 'volume_vol_30D', 'daily_vol_diff', \n",
    "# # 'daily_vol_diff_pct', 'daily_vol_diff30', 'daily_vol_diff_pct30', 'daily_volume_vol_diff', 'daily_volume_vol_diff_pct', \n",
    "# # 'daily_volume_vol_diff30', 'daily_volume_vol_diff_pct30', 'cd_vol', 'cd_vol3', 'roc_diff', 'range_vol_diff5', \n",
    "# # 'close_diff_deviation3', 'close_diff_deviation', 'day_of_week', 'day_of_month', 'month', 'year', 'dt', 'one_max_vol', \n",
    "# # 'three_max_vol', 'one_min_vol', 'three_min_vol']\n",
    "\n",
    "# testing_features = ['hour', 'price7', 'price14','vol7', 'vol14', 'rsi', \n",
    "# 'rsi3', 'rsi5', 'roc', 'roc3', 'roc5', 'threeD_returns_close', 'oneD_returns_close', 'range_vol', \n",
    "# 'range_vol5MA', 'range_vol10MA', 'range_vol25MA', 'oneD_stddev50', 'threeD_stddev50', 'cmf', 'close_diff', \n",
    "# 'close_diff3', 'close_diff5','adx',\n",
    "# 'volume_10DDiff', 'volume_25DDiff', 'price_10DDiff', 'price_25DDiff', \n",
    "# 'SPY_diff', 'SPY_diff3', 'SPY_diff5', 'SPY_1D', 'SPY_3D', 'SPY_5D', \n",
    "# 'return_vol_15M', 'volume_vol_15M', 'return_vol_30M', 'volume_vol_30M', 'return_vol_60M', \n",
    "# 'volume_vol_60M', 'return_vol_120M', 'volume_vol_120M', 'return_vol_240M', 'volume_vol_240M', \n",
    "# 'return_vol_450M', 'volume_vol_450M', '15min_vol_diff', '15min_vol_diff_pct', 'min_vol_diff', \n",
    "# 'min_vol_diff_pct', 'min_volume_vol_diff', 'min_volume_vol_diff_pct', 'return_vol_4H', 'return_vol_8H', \n",
    "# 'return_vol_16H', 'volume_vol_4H', 'volume_vol_8H', 'volume_vol_16H', 'hour_vol_diff', 'hour_vol_diff_pct', \n",
    "# 'hour_volume_vol_diff', 'hour_volume_vol_diff_pct', 'return_vol_3D', 'return_vol_5D', 'return_vol_10D', \n",
    "# 'return_vol_30D', 'volume_vol_3D', 'volume_vol_5D', 'volume_vol_10D', 'volume_vol_30D', 'daily_vol_diff', \n",
    "# 'daily_vol_diff_pct', 'daily_vol_diff30', 'daily_vol_diff_pct30', 'daily_volume_vol_diff', 'daily_volume_vol_diff_pct', \n",
    "# 'daily_volume_vol_diff30', 'daily_volume_vol_diff_pct30', 'cd_vol', 'cd_vol3', 'roc_diff', 'range_vol_diff5', \n",
    "# 'close_diff_deviation3', 'close_diff_deviation', 'day_of_week', 'day_of_month', 'month']\n",
    "\n",
    "# target_label = 'one_min_vol'\n",
    "# target_value = -0.9\n",
    "# results_array = []\n",
    "\n",
    "# i = 0\n",
    "# while i < number_of_simulations:\n",
    "#        model_name = f\"{title}_temporal_simulation_{i}\"\n",
    "#        print(model_name)\n",
    "#        random_int = random.randint(15, 40)\n",
    "#        features = random.sample(testing_features, random_int)\n",
    "#        print(features)\n",
    "#        tp_avg_list, gross_accuracy_list = run_temporal_simulation(features, target_label, target_value, dataset_start_date=datetime(2018,1,1), evaluation_start_date=datetime(2022,10,3), evaluation_end_date=datetime(2023,12,23))        \n",
    "#        tp_avg = sum(tp_avg_list)/len(tp_avg_list)\n",
    "#        gross_accuracy = sum(gross_accuracy_list)/len(gross_accuracy_list)\n",
    "#        print(tp_avg, gross_accuracy)\n",
    "#        print()\n",
    "#        results_array.append({\"model_name\": model_name, \"features\": features, \"tp_avg\": tp_avg, \"gross_accuracy\": gross_accuracy,\"num_features\": random_int})\n",
    "#        i += 1\n",
    "\n",
    "# results_df = pd.DataFrame(results_array)\n",
    "# results_df.to_csv(f'/Users/charlesmiller/Documents/temporal_simulation_results/{title}/{now.year}_{now.month}_{now.day}.csv', index=False)"
   ]
  },
  {
   "cell_type": "code",
   "execution_count": null,
   "metadata": {},
   "outputs": [],
   "source": []
  },
  {
   "cell_type": "code",
   "execution_count": null,
   "metadata": {},
   "outputs": [],
   "source": []
  }
 ],
 "metadata": {
  "kernelspec": {
   "display_name": "model-tester-d0oOM2ve",
   "language": "python",
   "name": "python3"
  },
  "language_info": {
   "codemirror_mode": {
    "name": "ipython",
    "version": 3
   },
   "file_extension": ".py",
   "mimetype": "text/x-python",
   "name": "python",
   "nbconvert_exporter": "python",
   "pygments_lexer": "ipython3",
   "version": "3.9.10"
  },
  "orig_nbformat": 4
 },
 "nbformat": 4,
 "nbformat_minor": 2
}
