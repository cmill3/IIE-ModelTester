{
 "cells": [
  {
   "cell_type": "code",
   "execution_count": 228,
   "metadata": {},
   "outputs": [],
   "source": [
    "import boto3\n",
    "import numpy as np\n",
    "import pandas as pd\n",
    "import matplotlib.pyplot as plt\n",
    "import seaborn as sns\n",
    "from datetime import datetime, timedelta\n",
    "from sklearn.metrics import confusion_matrix, ConfusionMatrixDisplay\n",
    "from sklearn.metrics import accuracy_score\n",
    "from sklearn.model_selection import GridSearchCV\n",
    "import xgboost as xgb\n",
    "import math\n",
    "import random\n",
    "from decimal import Decimal, getcontext\n",
    "import pandas_market_calendars as mcal\n",
    "import ast\n",
    "from sklearn.preprocessing import StandardScaler\n",
    "import pytz"
   ]
  },
  {
   "cell_type": "code",
   "execution_count": 229,
   "metadata": {},
   "outputs": [],
   "source": [
    "s3 = boto3.client('s3')\n",
    "\n",
    "training_bucket = \"icarus-research-data\"\n",
    "training_prefix = 'training_datasets/expanded_1d_datasets/'\n",
    "\n",
    "# Create a calendar\n",
    "nyse = mcal.get_calendar('NYSE')\n",
    "holidays = nyse.regular_holidays\n",
    "market_holidays = holidays.holidays()\n",
    "\n",
    "weekly_expiries = ['SPY', 'IVV', 'QQQ', 'GLD', 'IWM', 'EFA', 'XLK', 'XLV', 'TLT', 'LQD', 'XLE', 'TQQQ', 'SQQQ', 'SPXS', 'SPXL', 'SOXL', 'SOXS', 'MMM', 'ABT', 'ABBV', 'ACN', 'ATVI', 'ADM', 'ADBE', 'ADP', \n",
    "                   'AAP', 'AFL', 'ALB', 'ALGN', 'GOOGL', 'GOOG', 'MO', 'AMZN', 'AMD', 'AAL', 'AXP', 'AIG', 'ABC', 'AMGN', 'ADI', 'APA', 'AAPL', 'AMAT', 'ANET', 'T', 'ADSK', 'BAC', 'BBWI', 'BAX', 'BBY', 'BIIB', \n",
    "                   'BLK', 'BA', 'BKNG', 'BMY', 'AVGO', 'CZR', 'CPB', 'COF', 'CAH', 'KMX', 'CCL', 'CAT', 'CBOE', 'CNC', 'CF', 'SCHW', 'CHTR', 'CVX', 'CMG', 'CI', 'CSCO', 'C', 'CLX', 'CME', 'KO', 'CMCSA', 'CMA', 'CAG', \n",
    "                   'COP', 'STZ', 'GLW', 'COST', 'CTRA', 'CSX', 'CVS', 'DHI', 'DHR', 'DE', 'DAL', 'DVN', 'DLR', 'DFS', 'DISH', 'DIS', 'DG', 'DLTR', 'DPZ', 'DOW', 'DD', 'EBAY', 'EA', 'ELV', 'LLY', 'EMR', 'ENPH', 'EOG', 'EQT', \n",
    "                   'ETSY', 'EXPE', 'XOM', 'FDX', 'FITB', 'FSLR', 'FI', 'F', 'FTNT', 'FOXA', 'FCX', 'GEHC', 'GNRC', 'GD', 'GE', 'GM', 'GILD', 'GS', 'HAL', 'HSY', 'HES', 'HD', 'HON', 'HRL', 'HPQ', 'HUM', 'HBAN', 'IBM', 'ILMN', \n",
    "                   'INTC', 'IP', 'INTU', 'ISRG', 'JNJ', 'JPM', 'JNPR', 'KEY', 'KMB', 'KMI', 'KLAC', 'KHC', 'KR', 'LRCX', 'LVS', 'LEN', 'LMT', 'LOW', 'MRO', 'MPC', 'MAR', 'MA', 'MTCH', 'MCD', 'MCK', 'MDT', 'MRK', 'META', 'MET', \n",
    "                   'MGM', 'MU', 'MSFT', 'MRNA', 'MDLZ', 'MS', 'MOS', 'NTAP', 'NFLX', 'NEM', 'NKE', 'NSC', 'NOC', 'NCLH', 'NUE', 'NVDA', 'NXPI', 'OXY', 'ON', 'ORCL', 'PARA', 'PYPL', 'PEP', 'PFE', 'PCG', 'PM', 'PSX', 'PXD', 'PNC', \n",
    "                   'PPG', 'PG', 'PHM', 'QCOM', 'RTX', 'REGN', 'ROST', 'RCL', 'SPGI', 'CRM', 'SLB', 'STX', 'NOW', 'SWKS', 'SEDG', 'SO', 'LUV', 'SBUX', 'TMUS', 'TROW', 'TTWO', 'TPR', 'TGT', 'TSLA', 'TXN', 'TMO', 'TJX', 'TSCO', 'TFC', \n",
    "                   'TSN', 'USB', 'ULTA', 'UNP', 'UAL', 'UPS', 'URI', 'UNH', 'VLO', 'VZ', 'VRTX', 'VFC', 'V', 'WBA', 'WMT', 'WBD', 'WM', 'WFC', 'WDC', 'WHR', 'WMB', 'WYNN', 'ZION']\n",
    "\n",
    "leveraged_etfs = [\"TQQQ\",\"SQQQ\",\"SPXS\",\"SPXL\",\"SOXL\",\"SOXS\"]\n",
    "high_vol = ['COIN','BILI','UPST','CVNA',\"TQQQ\",\"SQQQ\",\"SPXS\",\"SPXL\",\"SOXL\",\"SOXS\",\"NIO\",\"BABA\",\"ROKU\",\"RBLX\",\"SE\",\"SNAP\",\"LCID\",'RIVN',\"BIDU\",\"FUTU\",\"TSLA\",\"JD\",\"HOOD\",\"CHWY\"]\n",
    "expensive = [\"CMG\",\"NFLX\",\"AVGO\",\"BKNG\",\"ABNB\"]\n",
    "indexes = ['QQQ','IWM','TLT','VXX','SPY']\n",
    "\n"
   ]
  },
  {
   "cell_type": "code",
   "execution_count": 230,
   "metadata": {},
   "outputs": [],
   "source": [
    "def create_training_data_local(key_list, prefix, bucket_name, alert_type, start_date, end_date):\n",
    "    df_list = []\n",
    "    hours = [10,11,12,13,14,15]\n",
    "    start = start_date.split(' ')[0]\n",
    "    end = end_date.split(' ')[0]\n",
    "    for key in key_list:\n",
    "        for hour in hours:\n",
    "            try:\n",
    "                data = s3.get_object(Bucket=bucket_name, Key=f'{prefix}{key}/{alert_type}/{hour}.csv')\n",
    "                df = pd.read_csv(data.get(\"Body\")) \n",
    "                df = df.loc[~df['symbol'].isin(expensive)]\n",
    "                df = df.loc[~df['symbol'].isin(high_vol)]\n",
    "                df = df.tail(15)\n",
    "                df_list.append(df)\n",
    "                # df['hour'] = hour\n",
    "            except Exception as e:\n",
    "                print(e)\n",
    "                continue\n",
    "\n",
    "    data = pd.concat(df_list)\n",
    "    data.reset_index(drop=True, inplace=True)\n",
    "    data.replace([np.inf, -np.inf], 0, inplace=True)\n",
    "    data.to_csv(f'/Users/charlesmiller/Documents/model_tester_data/CDLOSE/{start}_{end}_trainTL15.csv', index=False)\n",
    "    return data\n",
    "\n",
    "def create_validation_data_local(key_list, prefix, bucket_name, alert_type, start_date, end_date):\n",
    "    df_list = []\n",
    "    hours = [10,11,12,13,14,15]\n",
    "    start = start_date.split(' ')[0]\n",
    "    end = end_date.split(' ')[0]\n",
    "    for key in key_list:\n",
    "        for hour in hours:\n",
    "            try:\n",
    "                data = s3.get_object(Bucket=bucket_name, Key=f'{prefix}{key}/{alert_type}/{hour}.csv')\n",
    "                df = pd.read_csv(data.get(\"Body\")) \n",
    "                df = df.loc[~df['symbol'].isin(expensive)]\n",
    "                df = df.loc[~df['symbol'].isin(high_vol)]\n",
    "                df = df.tail(15)\n",
    "                df_list.append(df)\n",
    "                # df['hour'] = hour\n",
    "            except Exception as e:\n",
    "                print(e)\n",
    "                continue\n",
    "\n",
    "    data = pd.concat(df_list)\n",
    "    data.reset_index(drop=True, inplace=True)\n",
    "    data.replace([np.inf, -np.inf], 0, inplace=True)\n",
    "    data.to_csv(f'/Users/charlesmiller/Documents/model_tester_data/CDLOSE/{start}_{end}_validationTR15.csv', index=False)\n",
    "    return data\n",
    "\n",
    "def pull_training_data_local(end_date,start_date):\n",
    "    data = pd.read_csv(f'/Users/charlesmiller/Documents/model_tester_data/CDLOSE/2018-01-01_2023-12-23_trainTL15.csv')\n",
    "    data['dt'] = pd.to_datetime(data['date'])\n",
    "    data = data.loc[data['dt'] <= end_date]\n",
    "    # data = data.loc[~data['symbol'].isin(high_vol)]\n",
    "    # data = data.loc[~data['symbol'].isin(expensive)]\n",
    "    # data = data.loc[~data['symbol'].isin(leveraged_etfs)]\n",
    "    data['one_max_vol'] = (data['one_max']/data['return_vol_10D']).round(3)\n",
    "    data['three_max_vol'] = (data['three_max']/data['return_vol_10D']).round(3)\n",
    "    data['one_min_vol'] = (data['one_min']/data['return_vol_10D']).round(3)\n",
    "    data['three_min_vol'] = (data['three_min']/data['return_vol_10D']).round(3)    \n",
    "    data.replace([np.inf, -np.inf], 0, inplace=True)\n",
    "\n",
    "    return data\n",
    "\n",
    "\n",
    "def pull_validation_data_local(end_date,start_date):\n",
    "    data = pd.read_csv(f'/Users/charlesmiller/Documents/model_tester_data/CDLOSE/2018-01-01_2023-12-23_validationTR15.csv')\n",
    "    data['dt'] = pd.to_datetime(data['date'])\n",
    "    # data = data.loc[~data['symbol'].isin(high_vol)]\n",
    "    # data = data.loc[~data['symbol'].isin(expensive)]\n",
    "    # data = data.loc[~data['symbol'].isin(leveraged_etfs)]\n",
    "    data = data.loc[data['dt'] <= end_date]\n",
    "    data = data.loc[data['dt'] >= start_date]\n",
    "    data['one_max_vol'] = (data['one_max']/data['return_vol_10D']).round(3)\n",
    "    data['three_max_vol'] = (data['three_max']/data['return_vol_10D']).round(3)\n",
    "    data['one_min_vol'] = (data['one_min']/data['return_vol_10D']).round(3)\n",
    "    data['three_min_vol'] = (data['three_min']/data['return_vol_10D']).round(3)\n",
    "    data.replace([np.inf, -np.inf], 0, inplace=True)\n",
    "\n",
    "    return data"
   ]
  },
  {
   "cell_type": "code",
   "execution_count": 231,
   "metadata": {},
   "outputs": [],
   "source": [
    "def build_date_list(start_date, end_date):\n",
    "    print(start_date, end_date)\n",
    "    date_diff = end_date - start_date\n",
    "    numdays = date_diff.days \n",
    "    dateList = []\n",
    "    for x in range (0, numdays):\n",
    "        temp_date = start_date + timedelta(days = x)\n",
    "        if temp_date.weekday() > 4:\n",
    "            continue\n",
    "        else:\n",
    "            dateList.append(temp_date)\n",
    "    return dateList\n",
    "\n",
    "def build_query_keys_hist():\n",
    "    start_date = datetime(2021,1,5)\n",
    "    date_diff = datetime(2022,7,29) - start_date\n",
    "    numdays = date_diff.days \n",
    "    key_list = []\n",
    "    for x in range (0, numdays):\n",
    "        temp_date = start_date + timedelta(days = x)\n",
    "        if temp_date.weekday() > 4:\n",
    "            continue\n",
    "        else:\n",
    "            date_str = temp_date.strftime('%Y-%m-%d')\n",
    "            if date_str in market_holidays:\n",
    "                continue\n",
    "            else:\n",
    "                date_str = date_str.replace(\"-\",\"/\")\n",
    "                key_list.append(date_str)\n",
    "        \n",
    "    return key_list\n",
    "    \n",
    "def build_query_keys(dates):\n",
    "    key_list = []\n",
    "    for date in dates:\n",
    "        date_str = date.strftime('%Y-%m-%d')\n",
    "        if date_str in market_holidays:\n",
    "            continue\n",
    "        else:\n",
    "            year, month, day = date_str.split('-')\n",
    "            temp = f'{year}/{month}/{day}'\n",
    "            key_list.append(temp)\n",
    "\n",
    "    return key_list\n",
    "\n",
    "def build_query_keys_validation(end_date):\n",
    "    validation_end_date = end_date + timedelta(days=7)\n",
    "    dates = build_date_list(end_date, validation_end_date)\n",
    "    key_list = []\n",
    "    for date in dates:\n",
    "        date_str = date.strftime('%Y-%m-%d')\n",
    "        if date_str in market_holidays:\n",
    "            continue\n",
    "        else:\n",
    "            year, month, day = date_str.split('-')\n",
    "            temp = f'{year}/{month}/{day}'\n",
    "            key_list.append(temp)\n",
    "\n",
    "    return key_list\n",
    "\n",
    "def build_validation_dates_local(deployment_date):\n",
    "    end_date = deployment_date + timedelta(days=5)\n",
    "    return end_date"
   ]
  },
  {
   "cell_type": "code",
   "execution_count": 232,
   "metadata": {},
   "outputs": [],
   "source": [
    "def model_results_analyzer(predictions, y_validate, target_value):\n",
    "    result_list = []\n",
    "    counter = 0\n",
    "    predictions_series = pd.Series(predictions,name='prediction_values')\n",
    "    for x in predictions:\n",
    "        if x == 1:\n",
    "            if y_validate.iloc[counter] == 1:\n",
    "                classification_result = 0\n",
    "            else:\n",
    "                classification_result = 1\n",
    "        elif x == 0:\n",
    "            if y_validate.iloc[counter] == 0:\n",
    "                classification_result = 2\n",
    "            else: \n",
    "                classification_result = 3\n",
    "        result_list.append(classification_result)\n",
    "        counter += 1\n",
    "    three_max = pd.Series(y_validate,name='three_max')\n",
    "    df = pd.concat([pd.Series(result_list,name='classifier_performance'),predictions_series,three_max],axis=1)\n",
    "    df.reset_index(drop=True, inplace=True)\n",
    "    # df = pd.DataFrame([result_list, y_validate], columns=['classifier_performance', 'prediction_score'])\n",
    "\n",
    "    tp = df.loc[df['classifier_performance'] == 0]\n",
    "    fp = df.loc[df['classifier_performance'] == 1]\n",
    "    tn = df.loc[df['classifier_performance'] == 2]\n",
    "    fn = df.loc[df['classifier_performance'] == 3]\n",
    "\n",
    "    # tp_scr = tp[\"prediction_score\"].mean()\n",
    "    # fp_scr = fp[\"prediction_score\"].mean()\n",
    "    # tn_scr = tn[\"prediction_score\"].mean()\n",
    "    # fn_scr = fn[\"prediction_score\"].mean()\n",
    "\n",
    "    return len(tp), \"0\", len(fp), \"0\", len(tn), \"0\", len(fn), \"0\""
   ]
  },
  {
   "cell_type": "code",
   "execution_count": 233,
   "metadata": {},
   "outputs": [],
   "source": [
    "def create_dynamo_record(tp, tp_scr, fp, fp_scr, tn, tn_scr, fn, fn_scr, model_name, deployment_date, dataset_name, hyperparam_str, feature_str, target_str, fi_list):    \n",
    "    ddb = boto3.resource('dynamodb','us-east-1')\n",
    "    table = ddb.Table('icarus-models-results-table')\n",
    "    eval_start = deployment_date\n",
    "    eval_end = deployment_date + timedelta(days=4)\n",
    "    try:\n",
    "        precision = (tp/fp)\n",
    "    except:\n",
    "        precision = 0\n",
    "\n",
    "    ## FILL IN\n",
    "    item={\n",
    "        'model_name': model_name,\n",
    "        'deployment_date': deployment_date.strftime(\"%Y-%m-%d\"),\n",
    "        'algorithm_type': 'xgboost',\n",
    "        'dataset': dataset_name,\n",
    "        'TP': tp,\n",
    "        'TPpct': Decimal(\"0\"),\n",
    "        'FP': fp,\n",
    "        'FPpct': Decimal(\"0\"),\n",
    "        'TN': tn,\n",
    "        'TNpct': Decimal(\"0\"),\n",
    "        'FN': fn,\n",
    "        'FNpct': Decimal(\"0\"),\n",
    "        'precision_ratio': Decimal(str(precision)),\n",
    "        'evaluation_timeperiod': f'{eval_start.strftime(\"%Y-%m-%d\")}_{eval_end.strftime(\"%Y-%m-%d\")}',\n",
    "        'live': False,\n",
    "        'hyperparameters': {hyperparam_str},\n",
    "        'features' : {feature_str},\n",
    "        'target' : target_str,\n",
    "        'feature_importances': fi_list\n",
    "\n",
    "    }\n",
    "\n",
    "    print(item)\n",
    "    response = table.put_item(\n",
    "            Item=item\n",
    "        )\n",
    "\n",
    "    return response"
   ]
  },
  {
   "cell_type": "code",
   "execution_count": 234,
   "metadata": {},
   "outputs": [],
   "source": [
    "def train_model(features, dataset, validation_dataset, target_label, target_value, hyperparams):\n",
    "    dataset.loc[:, 'label'] = (dataset[target_label] <  target_value).astype(int)\n",
    "    validation_dataset.loc[:, 'label'] = (validation_dataset[target_label] <  target_value).astype(int)\n",
    "\n",
    "    # dataset = dataset.round(3)\n",
    "    # validation_dataset = validation_dataset.round(3)\n",
    "\n",
    "    X = dataset[features].astype(float)\n",
    "    y = dataset['label']\n",
    "\n",
    "    X_validate = validation_dataset[features].astype(float)\n",
    "    y_validate = validation_dataset['label']\n",
    "\n",
    "\n",
    "    xgb_model = xgb.XGBClassifier(subsample=hyperparams['subsample'],num_round=hyperparams['num_round'],min_child_weight=hyperparams['min_child_weight'],max_depth=hyperparams['max_depth'],learning_rate=hyperparams['learning_rate'],gamma=hyperparams['gamma'],colsample_bytree=hyperparams['colsample_bytree'],verbosity=0,objective='binary:logistic',random_state=42)\n",
    "    xgb_model.fit(X,y)\n",
    "\n",
    "    print(y.value_counts())\n",
    "    predictions = xgb_model.predict(X_validate)\n",
    "    probabilities = xgb_model.predict_proba(X_validate)\n",
    "    tp, tp_scr, fp, fp_scr, tn, tn_scr, fn, fn_scr = model_results_analyzer(predictions, y_validate, target_value)\n",
    "\n",
    "    fi = xgb_model.feature_importances_\n",
    "    fi_list = []\n",
    "    counter = 0\n",
    "    for x in features:\n",
    "        fi_list.append({x:fi[counter]})\n",
    "        counter += 1\n",
    "    print(tp,fp,tn,fn)\n",
    "    return tp, tp_scr, fp, fp_scr, tn, tn_scr, fn, fn_scr,str(fi_list), predictions, probabilities\n",
    "\n",
    "\n",
    "def train_model_TSSim(features, dataset, validation_dataset, target_label, target_value, hyperparams):\n",
    "    dataset.loc[:, 'label'] = (dataset[target_label] < target_value).astype(int)\n",
    "    validation_dataset.loc[:, 'label'] = (validation_dataset[target_label] < target_value).astype(int)\n",
    "\n",
    "    dataset = dataset.round(5)\n",
    "    validation_dataset = validation_dataset.round(3)\n",
    "\n",
    "\n",
    "    X = dataset[features].astype(float)\n",
    "    y = dataset['label']\n",
    "\n",
    "    X_validate = validation_dataset[features].astype(float)\n",
    "    y_validate = validation_dataset['label']\n",
    "    \n",
    "\n",
    "    xgb_model = xgb.XGBClassifier(subsample=hyperparams['subsample'],num_round=hyperparams['num_round'],min_child_weight=hyperparams['min_child_weight'],max_depth=hyperparams['max_depth'],learning_rate=hyperparams['learning_rate'],gamma=hyperparams['gamma'],colsample_bytree=hyperparams['colsample_bytree'],verbosity=0,objective='binary:logistic',random_state=42)\n",
    "    xgb_model.fit(X,y)\n",
    "\n",
    "    predictions = xgb_model.predict(X_validate)\n",
    "    tp, tp_scr, fp, fp_scr, tn, tn_scr, fn, fn_scr = model_results_analyzer(predictions, y_validate, target_value)\n",
    "\n",
    "    return tp, tp_scr, fp, fp_scr, tn, tn_scr, fn, fn_scr,\"str(fi_list)\", predictions, \"probabilities\""
   ]
  },
  {
   "cell_type": "code",
   "execution_count": 235,
   "metadata": {},
   "outputs": [],
   "source": [
    "def model_runner_v2(model_name, dataset_name, title, features, target_label, target_percentile, start_date, end_date,deployment_date, feature_str, hyperparams_str, hyperparams,local_data, dataset_start_date):\n",
    "    validation_end_date = build_validation_dates_local(deployment_date)\n",
    "    validation_dataset = pull_validation_data_local(validation_end_date,deployment_date)\n",
    "    dataset = pull_training_data_local(end_date, dataset_start_date)\n",
    "    dataset.dropna(subset=[\"close_diff_deviation3\"],inplace=True)\n",
    "    validation_dataset.dropna(subset=[\"close_diff_deviation3\"],inplace=True)\n",
    "    target_value = dataset[target_label].quantile(target_percentile).round(3)\n",
    "    tp, tp_scr, fp, fp_scr, tn, tn_scr, fn, fn_scr, fi_list, predictions, probabilities = train_model(features, dataset, validation_dataset, target_label, target_value, hyperparams)\n",
    "    response = create_dynamo_record(tp, tp_scr, fp, fp_scr, tn, tn_scr, fn, fn_scr, model_name, deployment_date, dataset_name,hyperparams_str,feature_str, f\"{target_value}+{target_label}\", fi_list)\n",
    "    validation_dataset['probabilities'] = probabilities[:,1]\n",
    "    validation_dataset['predictions'] = predictions\n",
    "    validation_dataset['target_value'] = target_value\n",
    "    validation_dataset['target_pct'] = validation_dataset['target_value'] * validation_dataset['return_vol_10D']\n",
    "    validation_csv = validation_dataset.to_csv()\n",
    "    put_response = s3.put_object(Bucket=\"icarus-research-data\", Key=f\"backtesting_data/inv_alerts/{dataset_name}/{title}/{deployment_date.strftime('%Y-%m-%d')}.csv\", Body=validation_csv)\n",
    "    return response\n",
    "\n",
    "def model_runner_temporal_simulation(features, target_label, target_vol,dataset_start_date,end_date,deployment_date,hyperparams):\n",
    "    validation_end_date = build_validation_dates_local(deployment_date)\n",
    "    dataset = pull_training_data_local(end_date, dataset_start_date)\n",
    "    validation_dataset = pull_validation_data_local(validation_end_date,deployment_date)\n",
    "    dataset.dropna(subset=[\"close_diff_deviation3\"],inplace=True)\n",
    "    validation_dataset.dropna(subset=[\"close_diff_deviation3\"],inplace=True)\n",
    "    dataset.dropna(subset=[\"close_diff_deviation\"],inplace=True)\n",
    "    validation_dataset.dropna(subset=[\"close_diff_deviation\"],inplace=True)\n",
    "    tp, tp_scr, fp, fp_scr, tn, tn_scr, fn, fn_scr, fi_list, predictions, probabilities = train_model_TSSim(features, dataset, validation_dataset, target_label, target_vol, hyperparams)\n",
    "    return tp, fp, fn, tn \n",
    "\n",
    "def model_runner_data(start_date,end_date):\n",
    "    dates = build_date_list(start_date, end_date)\n",
    "    key_list = build_query_keys(dates)\n",
    "    print(key_list[-1])\n",
    "    train_data = create_training_data_local(key_list, 'full_alerts/weekly_exp_alerts_cdvol/', 'inv-alerts', 'cdvol_losers', start_date.strftime('%Y-%m-%d %H:%M:%S'),end_date.strftime('%Y-%m-%d %H:%M:%S'))\n",
    "    val_data = create_validation_data_local(key_list, 'full_alerts/trading_symbols_alerts_cdvol/', 'inv-alerts', 'cdvol_losers', start_date.strftime('%Y-%m-%d %H:%M:%S'),end_date.strftime('%Y-%m-%d %H:%M:%S'))\n",
    "    return \"train_data\", \"val_data\""
   ]
  },
  {
   "cell_type": "code",
   "execution_count": 236,
   "metadata": {},
   "outputs": [],
   "source": [
    "def build_evaluation_period(eval_start, eval_end):\n",
    "    dates_list = []\n",
    "    while eval_start <= eval_end:\n",
    "        date_object = {\n",
    "            \"deployment_date\": eval_start,\n",
    "            \"dataset_end\": eval_start - timedelta(days=10),\n",
    "            \"dataset_start\": datetime(2018,1,1)\n",
    "        }\n",
    "        dates_list.append(date_object)\n",
    "        eval_start += timedelta(days=7)\n",
    "    return dates_list"
   ]
  },
  {
   "cell_type": "code",
   "execution_count": 237,
   "metadata": {},
   "outputs": [
    {
     "name": "stdout",
     "output_type": "stream",
     "text": [
      "{'deployment_date': datetime.datetime(2022, 10, 3, 0, 0), 'dataset_end': datetime.datetime(2022, 9, 23, 0, 0), 'dataset_start': datetime.datetime(2018, 1, 1, 0, 0)}\n"
     ]
    },
    {
     "name": "stderr",
     "output_type": "stream",
     "text": [
      "/var/folders/tq/_9q_lv1s2bndbr3tzzn08x4r0000gn/T/ipykernel_72521/4205899279.py:68: DtypeWarning: Columns (109,110) have mixed types. Specify dtype option on import or set low_memory=False.\n",
      "  data = pd.read_csv(f'/Users/charlesmiller/Documents/model_tester_data/CDLOSE/2018-01-01_2023-12-23_validationTR15.csv')\n"
     ]
    },
    {
     "name": "stdout",
     "output_type": "stream",
     "text": [
      "label\n",
      "1    58771\n",
      "0    48255\n",
      "Name: count, dtype: int64\n",
      "143 41 54 212\n",
      "{'model_name': 'CDLOSE:TSSIM1:1_TL15-EXP_custHypTP0.55', 'deployment_date': '2022-10-03', 'algorithm_type': 'xgboost', 'dataset': 'TSSIM1:1_TL15-EXP_custHypTP0.55', 'TP': 143, 'TPpct': Decimal('0'), 'FP': 41, 'FPpct': Decimal('0'), 'TN': 54, 'TNpct': Decimal('0'), 'FN': 212, 'FNpct': Decimal('0'), 'precision_ratio': Decimal('3.4878048780487805'), 'evaluation_timeperiod': '2022-10-03_2022-10-07', 'live': False, 'hyperparameters': {\"{'subsample': 0.6, 'num_round': 1000, 'min_child_weight': 10, 'max_depth': 10, 'learning_rate': 0.1, 'gamma': 2, 'colsample_bytree': 1}\"}, 'features': {\"['SPY_diff', 'day_of_week', 'return_vol_5D', 'hour_volume_vol_diff', 'return_vol_240M', 'volume_vol_8H', 'range_vol_diff5', 'return_vol_30M', 'daily_volume_vol_diff30', 'close_diff', 'volume_vol_15M', 'return_vol_10D', 'daily_vol_diff_pct', 'daily_volume_vol_diff_pct30', 'range_vol5MA', 'cmf', 'return_vol_450M', 'hour_volume_vol_diff_pct', 'min_vol_diff', 'price_25DDiff', 'return_vol_3D', 'daily_vol_diff_pct30', 'volume_vol_3D', 'volume_vol_450M', 'close_diff_deviation', 'return_vol_30D', 'close_diff_deviation3', 'return_vol_16H', 'volume_vol_30M', 'rsi', 'threeD_stddev50', 'close_diff5', 'range_vol10MA', 'SPY_5D', 'daily_vol_diff', 'SPY_diff3', 'volume_vol_5D', 'rsi3', 'volume_25DDiff', 'price7']\"}, 'target': '-1.199+three_min_vol', 'feature_importances': \"[{'SPY_diff': 0.023515698}, {'day_of_week': 0.027299874}, {'return_vol_5D': 0.025291901}, {'hour_volume_vol_diff': 0.022650888}, {'return_vol_240M': 0.023188548}, {'volume_vol_8H': 0.022408936}, {'range_vol_diff5': 0.02548385}, {'return_vol_30M': 0.025008177}, {'daily_volume_vol_diff30': 0.022018848}, {'close_diff': 0.024208082}, {'volume_vol_15M': 0.019093294}, {'return_vol_10D': 0.031431843}, {'daily_vol_diff_pct': 0.027564535}, {'daily_volume_vol_diff_pct30': 0.02257432}, {'range_vol5MA': 0.025622187}, {'cmf': 0.024652183}, {'return_vol_450M': 0.026682505}, {'hour_volume_vol_diff_pct': 0.023275996}, {'min_vol_diff': 0.020116022}, {'price_25DDiff': 0.025816582}, {'return_vol_3D': 0.02369365}, {'daily_vol_diff_pct30': 0.026479723}, {'volume_vol_3D': 0.021438992}, {'volume_vol_450M': 0.023455912}, {'close_diff_deviation': 0.025185559}, {'return_vol_30D': 0.026043031}, {'close_diff_deviation3': 0.025699854}, {'return_vol_16H': 0.024294348}, {'volume_vol_30M': 0.020040529}, {'rsi': 0.025308266}, {'threeD_stddev50': 0.025800927}, {'close_diff5': 0.026122363}, {'range_vol10MA': 0.026442397}, {'SPY_5D': 0.027734933}, {'daily_vol_diff': 0.040664494}, {'SPY_diff3': 0.024000864}, {'volume_vol_5D': 0.02238269}, {'rsi3': 0.030306509}, {'volume_25DDiff': 0.022458188}, {'price7': 0.024542527}]\"}\n",
      "{'deployment_date': datetime.datetime(2022, 10, 10, 0, 0), 'dataset_end': datetime.datetime(2022, 9, 30, 0, 0), 'dataset_start': datetime.datetime(2018, 1, 1, 0, 0)}\n"
     ]
    },
    {
     "name": "stderr",
     "output_type": "stream",
     "text": [
      "/var/folders/tq/_9q_lv1s2bndbr3tzzn08x4r0000gn/T/ipykernel_72521/4205899279.py:68: DtypeWarning: Columns (109,110) have mixed types. Specify dtype option on import or set low_memory=False.\n",
      "  data = pd.read_csv(f'/Users/charlesmiller/Documents/model_tester_data/CDLOSE/2018-01-01_2023-12-23_validationTR15.csv')\n"
     ]
    },
    {
     "name": "stdout",
     "output_type": "stream",
     "text": [
      "label\n",
      "1    59041\n",
      "0    48435\n",
      "Name: count, dtype: int64\n",
      "127 89 96 138\n",
      "{'model_name': 'CDLOSE:TSSIM1:1_TL15-EXP_custHypTP0.55', 'deployment_date': '2022-10-10', 'algorithm_type': 'xgboost', 'dataset': 'TSSIM1:1_TL15-EXP_custHypTP0.55', 'TP': 127, 'TPpct': Decimal('0'), 'FP': 89, 'FPpct': Decimal('0'), 'TN': 96, 'TNpct': Decimal('0'), 'FN': 138, 'FNpct': Decimal('0'), 'precision_ratio': Decimal('1.4269662921348314'), 'evaluation_timeperiod': '2022-10-10_2022-10-14', 'live': False, 'hyperparameters': {\"{'subsample': 0.6, 'num_round': 1000, 'min_child_weight': 10, 'max_depth': 10, 'learning_rate': 0.1, 'gamma': 2, 'colsample_bytree': 1}\"}, 'features': {\"['SPY_diff', 'day_of_week', 'return_vol_5D', 'hour_volume_vol_diff', 'return_vol_240M', 'volume_vol_8H', 'range_vol_diff5', 'return_vol_30M', 'daily_volume_vol_diff30', 'close_diff', 'volume_vol_15M', 'return_vol_10D', 'daily_vol_diff_pct', 'daily_volume_vol_diff_pct30', 'range_vol5MA', 'cmf', 'return_vol_450M', 'hour_volume_vol_diff_pct', 'min_vol_diff', 'price_25DDiff', 'return_vol_3D', 'daily_vol_diff_pct30', 'volume_vol_3D', 'volume_vol_450M', 'close_diff_deviation', 'return_vol_30D', 'close_diff_deviation3', 'return_vol_16H', 'volume_vol_30M', 'rsi', 'threeD_stddev50', 'close_diff5', 'range_vol10MA', 'SPY_5D', 'daily_vol_diff', 'SPY_diff3', 'volume_vol_5D', 'rsi3', 'volume_25DDiff', 'price7']\"}, 'target': '-1.198+three_min_vol', 'feature_importances': \"[{'SPY_diff': 0.024440158}, {'day_of_week': 0.028042942}, {'return_vol_5D': 0.025381463}, {'hour_volume_vol_diff': 0.022533294}, {'return_vol_240M': 0.02321728}, {'volume_vol_8H': 0.023332957}, {'range_vol_diff5': 0.024732739}, {'return_vol_30M': 0.02581333}, {'daily_volume_vol_diff30': 0.022044834}, {'close_diff': 0.024566714}, {'volume_vol_15M': 0.01890001}, {'return_vol_10D': 0.03147855}, {'daily_vol_diff_pct': 0.026543664}, {'daily_volume_vol_diff_pct30': 0.021851687}, {'range_vol5MA': 0.025621789}, {'cmf': 0.0247393}, {'return_vol_450M': 0.026820926}, {'hour_volume_vol_diff_pct': 0.023527658}, {'min_vol_diff': 0.019617582}, {'price_25DDiff': 0.02477195}, {'return_vol_3D': 0.02413758}, {'daily_vol_diff_pct30': 0.026662795}, {'volume_vol_3D': 0.022144277}, {'volume_vol_450M': 0.023153627}, {'close_diff_deviation': 0.02594548}, {'return_vol_30D': 0.026211677}, {'close_diff_deviation3': 0.025118848}, {'return_vol_16H': 0.024387432}, {'volume_vol_30M': 0.019461693}, {'rsi': 0.025841283}, {'threeD_stddev50': 0.025682585}, {'close_diff5': 0.026216691}, {'range_vol10MA': 0.025949031}, {'SPY_5D': 0.027849238}, {'daily_vol_diff': 0.040783044}, {'SPY_diff3': 0.023653306}, {'volume_vol_5D': 0.022616887}, {'rsi3': 0.029375035}, {'volume_25DDiff': 0.022311738}, {'price7': 0.02451892}]\"}\n",
      "{'deployment_date': datetime.datetime(2022, 10, 17, 0, 0), 'dataset_end': datetime.datetime(2022, 10, 7, 0, 0), 'dataset_start': datetime.datetime(2018, 1, 1, 0, 0)}\n"
     ]
    },
    {
     "name": "stderr",
     "output_type": "stream",
     "text": [
      "/var/folders/tq/_9q_lv1s2bndbr3tzzn08x4r0000gn/T/ipykernel_72521/4205899279.py:68: DtypeWarning: Columns (109,110) have mixed types. Specify dtype option on import or set low_memory=False.\n",
      "  data = pd.read_csv(f'/Users/charlesmiller/Documents/model_tester_data/CDLOSE/2018-01-01_2023-12-23_validationTR15.csv')\n"
     ]
    },
    {
     "name": "stdout",
     "output_type": "stream",
     "text": [
      "label\n",
      "1    59282\n",
      "0    48644\n",
      "Name: count, dtype: int64\n",
      "103 183 133 31\n",
      "{'model_name': 'CDLOSE:TSSIM1:1_TL15-EXP_custHypTP0.55', 'deployment_date': '2022-10-17', 'algorithm_type': 'xgboost', 'dataset': 'TSSIM1:1_TL15-EXP_custHypTP0.55', 'TP': 103, 'TPpct': Decimal('0'), 'FP': 183, 'FPpct': Decimal('0'), 'TN': 133, 'TNpct': Decimal('0'), 'FN': 31, 'FNpct': Decimal('0'), 'precision_ratio': Decimal('0.5628415300546448'), 'evaluation_timeperiod': '2022-10-17_2022-10-21', 'live': False, 'hyperparameters': {\"{'subsample': 0.6, 'num_round': 1000, 'min_child_weight': 10, 'max_depth': 10, 'learning_rate': 0.1, 'gamma': 2, 'colsample_bytree': 1}\"}, 'features': {\"['SPY_diff', 'day_of_week', 'return_vol_5D', 'hour_volume_vol_diff', 'return_vol_240M', 'volume_vol_8H', 'range_vol_diff5', 'return_vol_30M', 'daily_volume_vol_diff30', 'close_diff', 'volume_vol_15M', 'return_vol_10D', 'daily_vol_diff_pct', 'daily_volume_vol_diff_pct30', 'range_vol5MA', 'cmf', 'return_vol_450M', 'hour_volume_vol_diff_pct', 'min_vol_diff', 'price_25DDiff', 'return_vol_3D', 'daily_vol_diff_pct30', 'volume_vol_3D', 'volume_vol_450M', 'close_diff_deviation', 'return_vol_30D', 'close_diff_deviation3', 'return_vol_16H', 'volume_vol_30M', 'rsi', 'threeD_stddev50', 'close_diff5', 'range_vol10MA', 'SPY_5D', 'daily_vol_diff', 'SPY_diff3', 'volume_vol_5D', 'rsi3', 'volume_25DDiff', 'price7']\"}, 'target': '-1.201+three_min_vol', 'feature_importances': \"[{'SPY_diff': 0.02467525}, {'day_of_week': 0.026782898}, {'return_vol_5D': 0.02516436}, {'hour_volume_vol_diff': 0.02288288}, {'return_vol_240M': 0.022219382}, {'volume_vol_8H': 0.022512572}, {'range_vol_diff5': 0.02430469}, {'return_vol_30M': 0.026402734}, {'daily_volume_vol_diff30': 0.020944221}, {'close_diff': 0.025769247}, {'volume_vol_15M': 0.019654773}, {'return_vol_10D': 0.031396158}, {'daily_vol_diff_pct': 0.027218325}, {'daily_volume_vol_diff_pct30': 0.022549788}, {'range_vol5MA': 0.025304249}, {'cmf': 0.025224682}, {'return_vol_450M': 0.02625081}, {'hour_volume_vol_diff_pct': 0.023139756}, {'min_vol_diff': 0.019801483}, {'price_25DDiff': 0.024885956}, {'return_vol_3D': 0.02395135}, {'daily_vol_diff_pct30': 0.026408391}, {'volume_vol_3D': 0.021328704}, {'volume_vol_450M': 0.023859233}, {'close_diff_deviation': 0.02498445}, {'return_vol_30D': 0.026331704}, {'close_diff_deviation3': 0.026081482}, {'return_vol_16H': 0.024457783}, {'volume_vol_30M': 0.018693738}, {'rsi': 0.025856534}, {'threeD_stddev50': 0.02672117}, {'close_diff5': 0.025089221}, {'range_vol10MA': 0.026608031}, {'SPY_5D': 0.027922811}, {'daily_vol_diff': 0.040336832}, {'SPY_diff3': 0.02470066}, {'volume_vol_5D': 0.023033796}, {'rsi3': 0.029755896}, {'volume_25DDiff': 0.022361428}, {'price7': 0.024432547}]\"}\n",
      "{'deployment_date': datetime.datetime(2022, 10, 24, 0, 0), 'dataset_end': datetime.datetime(2022, 10, 14, 0, 0), 'dataset_start': datetime.datetime(2018, 1, 1, 0, 0)}\n"
     ]
    },
    {
     "name": "stderr",
     "output_type": "stream",
     "text": [
      "/var/folders/tq/_9q_lv1s2bndbr3tzzn08x4r0000gn/T/ipykernel_72521/4205899279.py:68: DtypeWarning: Columns (109,110) have mixed types. Specify dtype option on import or set low_memory=False.\n",
      "  data = pd.read_csv(f'/Users/charlesmiller/Documents/model_tester_data/CDLOSE/2018-01-01_2023-12-23_validationTR15.csv')\n"
     ]
    },
    {
     "name": "stdout",
     "output_type": "stream",
     "text": [
      "label\n",
      "1    59530\n",
      "0    48846\n",
      "Name: count, dtype: int64\n",
      "100 92 143 115\n",
      "{'model_name': 'CDLOSE:TSSIM1:1_TL15-EXP_custHypTP0.55', 'deployment_date': '2022-10-24', 'algorithm_type': 'xgboost', 'dataset': 'TSSIM1:1_TL15-EXP_custHypTP0.55', 'TP': 100, 'TPpct': Decimal('0'), 'FP': 92, 'FPpct': Decimal('0'), 'TN': 143, 'TNpct': Decimal('0'), 'FN': 115, 'FNpct': Decimal('0'), 'precision_ratio': Decimal('1.0869565217391304'), 'evaluation_timeperiod': '2022-10-24_2022-10-28', 'live': False, 'hyperparameters': {\"{'subsample': 0.6, 'num_round': 1000, 'min_child_weight': 10, 'max_depth': 10, 'learning_rate': 0.1, 'gamma': 2, 'colsample_bytree': 1}\"}, 'features': {\"['SPY_diff', 'day_of_week', 'return_vol_5D', 'hour_volume_vol_diff', 'return_vol_240M', 'volume_vol_8H', 'range_vol_diff5', 'return_vol_30M', 'daily_volume_vol_diff30', 'close_diff', 'volume_vol_15M', 'return_vol_10D', 'daily_vol_diff_pct', 'daily_volume_vol_diff_pct30', 'range_vol5MA', 'cmf', 'return_vol_450M', 'hour_volume_vol_diff_pct', 'min_vol_diff', 'price_25DDiff', 'return_vol_3D', 'daily_vol_diff_pct30', 'volume_vol_3D', 'volume_vol_450M', 'close_diff_deviation', 'return_vol_30D', 'close_diff_deviation3', 'return_vol_16H', 'volume_vol_30M', 'rsi', 'threeD_stddev50', 'close_diff5', 'range_vol10MA', 'SPY_5D', 'daily_vol_diff', 'SPY_diff3', 'volume_vol_5D', 'rsi3', 'volume_25DDiff', 'price7']\"}, 'target': '-1.202+three_min_vol', 'feature_importances': \"[{'SPY_diff': 0.02389828}, {'day_of_week': 0.027321922}, {'return_vol_5D': 0.02446645}, {'hour_volume_vol_diff': 0.023898939}, {'return_vol_240M': 0.023070883}, {'volume_vol_8H': 0.023430003}, {'range_vol_diff5': 0.025639923}, {'return_vol_30M': 0.02565901}, {'daily_volume_vol_diff30': 0.022523921}, {'close_diff': 0.025267886}, {'volume_vol_15M': 0.0182793}, {'return_vol_10D': 0.031450193}, {'daily_vol_diff_pct': 0.026822198}, {'daily_volume_vol_diff_pct30': 0.022631835}, {'range_vol5MA': 0.024926148}, {'cmf': 0.024846967}, {'return_vol_450M': 0.026315413}, {'hour_volume_vol_diff_pct': 0.023678085}, {'min_vol_diff': 0.02088576}, {'price_25DDiff': 0.026066795}, {'return_vol_3D': 0.023237849}, {'daily_vol_diff_pct30': 0.026315387}, {'volume_vol_3D': 0.02224201}, {'volume_vol_450M': 0.02337307}, {'close_diff_deviation': 0.02447227}, {'return_vol_30D': 0.0265822}, {'close_diff_deviation3': 0.025851265}, {'return_vol_16H': 0.024300361}, {'volume_vol_30M': 0.018986808}, {'rsi': 0.025843939}, {'threeD_stddev50': 0.026110759}, {'close_diff5': 0.026138384}, {'range_vol10MA': 0.025635874}, {'SPY_5D': 0.027809547}, {'daily_vol_diff': 0.04042244}, {'SPY_diff3': 0.023030635}, {'volume_vol_5D': 0.022354653}, {'rsi3': 0.030224329}, {'volume_25DDiff': 0.021583136}, {'price7': 0.024405135}]\"}\n",
      "{'deployment_date': datetime.datetime(2022, 10, 31, 0, 0), 'dataset_end': datetime.datetime(2022, 10, 21, 0, 0), 'dataset_start': datetime.datetime(2018, 1, 1, 0, 0)}\n"
     ]
    },
    {
     "name": "stderr",
     "output_type": "stream",
     "text": [
      "/var/folders/tq/_9q_lv1s2bndbr3tzzn08x4r0000gn/T/ipykernel_72521/4205899279.py:68: DtypeWarning: Columns (109,110) have mixed types. Specify dtype option on import or set low_memory=False.\n",
      "  data = pd.read_csv(f'/Users/charlesmiller/Documents/model_tester_data/CDLOSE/2018-01-01_2023-12-23_validationTR15.csv')\n"
     ]
    },
    {
     "name": "stdout",
     "output_type": "stream",
     "text": [
      "label\n",
      "1    59759\n",
      "0    49067\n",
      "Name: count, dtype: int64\n",
      "220 91 35 104\n",
      "{'model_name': 'CDLOSE:TSSIM1:1_TL15-EXP_custHypTP0.55', 'deployment_date': '2022-10-31', 'algorithm_type': 'xgboost', 'dataset': 'TSSIM1:1_TL15-EXP_custHypTP0.55', 'TP': 220, 'TPpct': Decimal('0'), 'FP': 91, 'FPpct': Decimal('0'), 'TN': 35, 'TNpct': Decimal('0'), 'FN': 104, 'FNpct': Decimal('0'), 'precision_ratio': Decimal('2.4175824175824174'), 'evaluation_timeperiod': '2022-10-31_2022-11-04', 'live': False, 'hyperparameters': {\"{'subsample': 0.6, 'num_round': 1000, 'min_child_weight': 10, 'max_depth': 10, 'learning_rate': 0.1, 'gamma': 2, 'colsample_bytree': 1}\"}, 'features': {\"['SPY_diff', 'day_of_week', 'return_vol_5D', 'hour_volume_vol_diff', 'return_vol_240M', 'volume_vol_8H', 'range_vol_diff5', 'return_vol_30M', 'daily_volume_vol_diff30', 'close_diff', 'volume_vol_15M', 'return_vol_10D', 'daily_vol_diff_pct', 'daily_volume_vol_diff_pct30', 'range_vol5MA', 'cmf', 'return_vol_450M', 'hour_volume_vol_diff_pct', 'min_vol_diff', 'price_25DDiff', 'return_vol_3D', 'daily_vol_diff_pct30', 'volume_vol_3D', 'volume_vol_450M', 'close_diff_deviation', 'return_vol_30D', 'close_diff_deviation3', 'return_vol_16H', 'volume_vol_30M', 'rsi', 'threeD_stddev50', 'close_diff5', 'range_vol10MA', 'SPY_5D', 'daily_vol_diff', 'SPY_diff3', 'volume_vol_5D', 'rsi3', 'volume_25DDiff', 'price7']\"}, 'target': '-1.2+three_min_vol', 'feature_importances': \"[{'SPY_diff': 0.024312407}, {'day_of_week': 0.027065275}, {'return_vol_5D': 0.024563197}, {'hour_volume_vol_diff': 0.022726603}, {'return_vol_240M': 0.02221175}, {'volume_vol_8H': 0.023001399}, {'range_vol_diff5': 0.02472424}, {'return_vol_30M': 0.026458949}, {'daily_volume_vol_diff30': 0.022383325}, {'close_diff': 0.024407385}, {'volume_vol_15M': 0.019128501}, {'return_vol_10D': 0.030913733}, {'daily_vol_diff_pct': 0.026988698}, {'daily_volume_vol_diff_pct30': 0.022977557}, {'range_vol5MA': 0.02621075}, {'cmf': 0.024949625}, {'return_vol_450M': 0.025656132}, {'hour_volume_vol_diff_pct': 0.021922763}, {'min_vol_diff': 0.020468652}, {'price_25DDiff': 0.025463834}, {'return_vol_3D': 0.023237284}, {'daily_vol_diff_pct30': 0.02662443}, {'volume_vol_3D': 0.021444729}, {'volume_vol_450M': 0.02398377}, {'close_diff_deviation': 0.024753721}, {'return_vol_30D': 0.026720233}, {'close_diff_deviation3': 0.024942717}, {'return_vol_16H': 0.025167147}, {'volume_vol_30M': 0.019879358}, {'rsi': 0.02521617}, {'threeD_stddev50': 0.026544673}, {'close_diff5': 0.02671224}, {'range_vol10MA': 0.027004337}, {'SPY_5D': 0.02797008}, {'daily_vol_diff': 0.039486233}, {'SPY_diff3': 0.023870656}, {'volume_vol_5D': 0.022611082}, {'rsi3': 0.030481199}, {'volume_25DDiff': 0.02173709}, {'price7': 0.025078068}]\"}\n",
      "{'deployment_date': datetime.datetime(2022, 11, 7, 0, 0), 'dataset_end': datetime.datetime(2022, 10, 28, 0, 0), 'dataset_start': datetime.datetime(2018, 1, 1, 0, 0)}\n"
     ]
    },
    {
     "name": "stderr",
     "output_type": "stream",
     "text": [
      "/var/folders/tq/_9q_lv1s2bndbr3tzzn08x4r0000gn/T/ipykernel_72521/4205899279.py:68: DtypeWarning: Columns (109,110) have mixed types. Specify dtype option on import or set low_memory=False.\n",
      "  data = pd.read_csv(f'/Users/charlesmiller/Documents/model_tester_data/CDLOSE/2018-01-01_2023-12-23_validationTR15.csv')\n"
     ]
    },
    {
     "name": "stdout",
     "output_type": "stream",
     "text": [
      "label\n",
      "1    60009\n",
      "0    49267\n",
      "Name: count, dtype: int64\n",
      "94 153 144 59\n",
      "{'model_name': 'CDLOSE:TSSIM1:1_TL15-EXP_custHypTP0.55', 'deployment_date': '2022-11-07', 'algorithm_type': 'xgboost', 'dataset': 'TSSIM1:1_TL15-EXP_custHypTP0.55', 'TP': 94, 'TPpct': Decimal('0'), 'FP': 153, 'FPpct': Decimal('0'), 'TN': 144, 'TNpct': Decimal('0'), 'FN': 59, 'FNpct': Decimal('0'), 'precision_ratio': Decimal('0.6143790849673203'), 'evaluation_timeperiod': '2022-11-07_2022-11-11', 'live': False, 'hyperparameters': {\"{'subsample': 0.6, 'num_round': 1000, 'min_child_weight': 10, 'max_depth': 10, 'learning_rate': 0.1, 'gamma': 2, 'colsample_bytree': 1}\"}, 'features': {\"['SPY_diff', 'day_of_week', 'return_vol_5D', 'hour_volume_vol_diff', 'return_vol_240M', 'volume_vol_8H', 'range_vol_diff5', 'return_vol_30M', 'daily_volume_vol_diff30', 'close_diff', 'volume_vol_15M', 'return_vol_10D', 'daily_vol_diff_pct', 'daily_volume_vol_diff_pct30', 'range_vol5MA', 'cmf', 'return_vol_450M', 'hour_volume_vol_diff_pct', 'min_vol_diff', 'price_25DDiff', 'return_vol_3D', 'daily_vol_diff_pct30', 'volume_vol_3D', 'volume_vol_450M', 'close_diff_deviation', 'return_vol_30D', 'close_diff_deviation3', 'return_vol_16H', 'volume_vol_30M', 'rsi', 'threeD_stddev50', 'close_diff5', 'range_vol10MA', 'SPY_5D', 'daily_vol_diff', 'SPY_diff3', 'volume_vol_5D', 'rsi3', 'volume_25DDiff', 'price7']\"}, 'target': '-1.198+three_min_vol', 'feature_importances': \"[{'SPY_diff': 0.024395345}, {'day_of_week': 0.028245421}, {'return_vol_5D': 0.0256349}, {'hour_volume_vol_diff': 0.02282717}, {'return_vol_240M': 0.022480812}, {'volume_vol_8H': 0.02233837}, {'range_vol_diff5': 0.025648385}, {'return_vol_30M': 0.02527293}, {'daily_volume_vol_diff30': 0.023819355}, {'close_diff': 0.02364253}, {'volume_vol_15M': 0.018701471}, {'return_vol_10D': 0.030559666}, {'daily_vol_diff_pct': 0.027018901}, {'daily_volume_vol_diff_pct30': 0.023196992}, {'range_vol5MA': 0.026075851}, {'cmf': 0.024735598}, {'return_vol_450M': 0.026153171}, {'hour_volume_vol_diff_pct': 0.022857703}, {'min_vol_diff': 0.020351665}, {'price_25DDiff': 0.02509318}, {'return_vol_3D': 0.023809856}, {'daily_vol_diff_pct30': 0.025879845}, {'volume_vol_3D': 0.02197062}, {'volume_vol_450M': 0.02335047}, {'close_diff_deviation': 0.025894037}, {'return_vol_30D': 0.026832413}, {'close_diff_deviation3': 0.024695868}, {'return_vol_16H': 0.024502993}, {'volume_vol_30M': 0.0193632}, {'rsi': 0.025011394}, {'threeD_stddev50': 0.025645342}, {'close_diff5': 0.026063425}, {'range_vol10MA': 0.026026573}, {'SPY_5D': 0.02761299}, {'daily_vol_diff': 0.04146702}, {'SPY_diff3': 0.024086004}, {'volume_vol_5D': 0.022421353}, {'rsi3': 0.029974245}, {'volume_25DDiff': 0.02211609}, {'price7': 0.02422683}]\"}\n",
      "{'deployment_date': datetime.datetime(2022, 11, 14, 0, 0), 'dataset_end': datetime.datetime(2022, 11, 4, 0, 0), 'dataset_start': datetime.datetime(2018, 1, 1, 0, 0)}\n"
     ]
    },
    {
     "name": "stderr",
     "output_type": "stream",
     "text": [
      "/var/folders/tq/_9q_lv1s2bndbr3tzzn08x4r0000gn/T/ipykernel_72521/4205899279.py:68: DtypeWarning: Columns (109,110) have mixed types. Specify dtype option on import or set low_memory=False.\n",
      "  data = pd.read_csv(f'/Users/charlesmiller/Documents/model_tester_data/CDLOSE/2018-01-01_2023-12-23_validationTR15.csv')\n"
     ]
    },
    {
     "name": "stdout",
     "output_type": "stream",
     "text": [
      "label\n",
      "1    60272\n",
      "0    49454\n",
      "Name: count, dtype: int64\n",
      "86 85 117 162\n",
      "{'model_name': 'CDLOSE:TSSIM1:1_TL15-EXP_custHypTP0.55', 'deployment_date': '2022-11-14', 'algorithm_type': 'xgboost', 'dataset': 'TSSIM1:1_TL15-EXP_custHypTP0.55', 'TP': 86, 'TPpct': Decimal('0'), 'FP': 85, 'FPpct': Decimal('0'), 'TN': 117, 'TNpct': Decimal('0'), 'FN': 162, 'FNpct': Decimal('0'), 'precision_ratio': Decimal('1.011764705882353'), 'evaluation_timeperiod': '2022-11-14_2022-11-18', 'live': False, 'hyperparameters': {\"{'subsample': 0.6, 'num_round': 1000, 'min_child_weight': 10, 'max_depth': 10, 'learning_rate': 0.1, 'gamma': 2, 'colsample_bytree': 1}\"}, 'features': {\"['SPY_diff', 'day_of_week', 'return_vol_5D', 'hour_volume_vol_diff', 'return_vol_240M', 'volume_vol_8H', 'range_vol_diff5', 'return_vol_30M', 'daily_volume_vol_diff30', 'close_diff', 'volume_vol_15M', 'return_vol_10D', 'daily_vol_diff_pct', 'daily_volume_vol_diff_pct30', 'range_vol5MA', 'cmf', 'return_vol_450M', 'hour_volume_vol_diff_pct', 'min_vol_diff', 'price_25DDiff', 'return_vol_3D', 'daily_vol_diff_pct30', 'volume_vol_3D', 'volume_vol_450M', 'close_diff_deviation', 'return_vol_30D', 'close_diff_deviation3', 'return_vol_16H', 'volume_vol_30M', 'rsi', 'threeD_stddev50', 'close_diff5', 'range_vol10MA', 'SPY_5D', 'daily_vol_diff', 'SPY_diff3', 'volume_vol_5D', 'rsi3', 'volume_25DDiff', 'price7']\"}, 'target': '-1.199+three_min_vol', 'feature_importances': \"[{'SPY_diff': 0.024356177}, {'day_of_week': 0.027076392}, {'return_vol_5D': 0.025071602}, {'hour_volume_vol_diff': 0.024164889}, {'return_vol_240M': 0.022470392}, {'volume_vol_8H': 0.022801658}, {'range_vol_diff5': 0.024189413}, {'return_vol_30M': 0.02598616}, {'daily_volume_vol_diff30': 0.022319328}, {'close_diff': 0.024320953}, {'volume_vol_15M': 0.0188701}, {'return_vol_10D': 0.030622613}, {'daily_vol_diff_pct': 0.027334413}, {'daily_volume_vol_diff_pct30': 0.02258309}, {'range_vol5MA': 0.02596786}, {'cmf': 0.02434104}, {'return_vol_450M': 0.026767692}, {'hour_volume_vol_diff_pct': 0.023229519}, {'min_vol_diff': 0.020694517}, {'price_25DDiff': 0.02549827}, {'return_vol_3D': 0.023696993}, {'daily_vol_diff_pct30': 0.026223073}, {'volume_vol_3D': 0.021752048}, {'volume_vol_450M': 0.0241534}, {'close_diff_deviation': 0.02475014}, {'return_vol_30D': 0.026076626}, {'close_diff_deviation3': 0.025618095}, {'return_vol_16H': 0.02413319}, {'volume_vol_30M': 0.01925247}, {'rsi': 0.026239846}, {'threeD_stddev50': 0.026559915}, {'close_diff5': 0.025921343}, {'range_vol10MA': 0.026520507}, {'SPY_5D': 0.027642991}, {'daily_vol_diff': 0.0389486}, {'SPY_diff3': 0.023963965}, {'volume_vol_5D': 0.02190887}, {'rsi3': 0.02968134}, {'volume_25DDiff': 0.022621378}, {'price7': 0.025669094}]\"}\n",
      "{'deployment_date': datetime.datetime(2022, 11, 21, 0, 0), 'dataset_end': datetime.datetime(2022, 11, 11, 0, 0), 'dataset_start': datetime.datetime(2018, 1, 1, 0, 0)}\n"
     ]
    },
    {
     "name": "stderr",
     "output_type": "stream",
     "text": [
      "/var/folders/tq/_9q_lv1s2bndbr3tzzn08x4r0000gn/T/ipykernel_72521/4205899279.py:68: DtypeWarning: Columns (109,110) have mixed types. Specify dtype option on import or set low_memory=False.\n",
      "  data = pd.read_csv(f'/Users/charlesmiller/Documents/model_tester_data/CDLOSE/2018-01-01_2023-12-23_validationTR15.csv')\n"
     ]
    },
    {
     "name": "stdout",
     "output_type": "stream",
     "text": [
      "label\n",
      "1    60503\n",
      "0    49673\n",
      "Name: count, dtype: int64\n",
      "47 77 170 66\n",
      "{'model_name': 'CDLOSE:TSSIM1:1_TL15-EXP_custHypTP0.55', 'deployment_date': '2022-11-21', 'algorithm_type': 'xgboost', 'dataset': 'TSSIM1:1_TL15-EXP_custHypTP0.55', 'TP': 47, 'TPpct': Decimal('0'), 'FP': 77, 'FPpct': Decimal('0'), 'TN': 170, 'TNpct': Decimal('0'), 'FN': 66, 'FNpct': Decimal('0'), 'precision_ratio': Decimal('0.6103896103896104'), 'evaluation_timeperiod': '2022-11-21_2022-11-25', 'live': False, 'hyperparameters': {\"{'subsample': 0.6, 'num_round': 1000, 'min_child_weight': 10, 'max_depth': 10, 'learning_rate': 0.1, 'gamma': 2, 'colsample_bytree': 1}\"}, 'features': {\"['SPY_diff', 'day_of_week', 'return_vol_5D', 'hour_volume_vol_diff', 'return_vol_240M', 'volume_vol_8H', 'range_vol_diff5', 'return_vol_30M', 'daily_volume_vol_diff30', 'close_diff', 'volume_vol_15M', 'return_vol_10D', 'daily_vol_diff_pct', 'daily_volume_vol_diff_pct30', 'range_vol5MA', 'cmf', 'return_vol_450M', 'hour_volume_vol_diff_pct', 'min_vol_diff', 'price_25DDiff', 'return_vol_3D', 'daily_vol_diff_pct30', 'volume_vol_3D', 'volume_vol_450M', 'close_diff_deviation', 'return_vol_30D', 'close_diff_deviation3', 'return_vol_16H', 'volume_vol_30M', 'rsi', 'threeD_stddev50', 'close_diff5', 'range_vol10MA', 'SPY_5D', 'daily_vol_diff', 'SPY_diff3', 'volume_vol_5D', 'rsi3', 'volume_25DDiff', 'price7']\"}, 'target': '-1.199+three_min_vol', 'feature_importances': \"[{'SPY_diff': 0.024638379}, {'day_of_week': 0.028536793}, {'return_vol_5D': 0.025504662}, {'hour_volume_vol_diff': 0.023425873}, {'return_vol_240M': 0.023374835}, {'volume_vol_8H': 0.022775026}, {'range_vol_diff5': 0.024577565}, {'return_vol_30M': 0.025571132}, {'daily_volume_vol_diff30': 0.022805244}, {'close_diff': 0.02449945}, {'volume_vol_15M': 0.01871248}, {'return_vol_10D': 0.03062341}, {'daily_vol_diff_pct': 0.026575873}, {'daily_volume_vol_diff_pct30': 0.023079688}, {'range_vol5MA': 0.02604408}, {'cmf': 0.024794605}, {'return_vol_450M': 0.026447175}, {'hour_volume_vol_diff_pct': 0.022932686}, {'min_vol_diff': 0.020187903}, {'price_25DDiff': 0.025339486}, {'return_vol_3D': 0.02364828}, {'daily_vol_diff_pct30': 0.025907276}, {'volume_vol_3D': 0.022152197}, {'volume_vol_450M': 0.023892911}, {'close_diff_deviation': 0.025503969}, {'return_vol_30D': 0.026364688}, {'close_diff_deviation3': 0.024902089}, {'return_vol_16H': 0.024424115}, {'volume_vol_30M': 0.019636458}, {'rsi': 0.025317313}, {'threeD_stddev50': 0.026366342}, {'close_diff5': 0.0261626}, {'range_vol10MA': 0.025869746}, {'SPY_5D': 0.027744744}, {'daily_vol_diff': 0.038111527}, {'SPY_diff3': 0.024714397}, {'volume_vol_5D': 0.022746893}, {'rsi3': 0.029306855}, {'volume_25DDiff': 0.022687845}, {'price7': 0.024093395}]\"}\n",
      "{'deployment_date': datetime.datetime(2022, 11, 28, 0, 0), 'dataset_end': datetime.datetime(2022, 11, 18, 0, 0), 'dataset_start': datetime.datetime(2018, 1, 1, 0, 0)}\n"
     ]
    },
    {
     "name": "stderr",
     "output_type": "stream",
     "text": [
      "/var/folders/tq/_9q_lv1s2bndbr3tzzn08x4r0000gn/T/ipykernel_72521/4205899279.py:68: DtypeWarning: Columns (109,110) have mixed types. Specify dtype option on import or set low_memory=False.\n",
      "  data = pd.read_csv(f'/Users/charlesmiller/Documents/model_tester_data/CDLOSE/2018-01-01_2023-12-23_validationTR15.csv')\n"
     ]
    },
    {
     "name": "stdout",
     "output_type": "stream",
     "text": [
      "label\n",
      "1    60747\n",
      "0    49879\n",
      "Name: count, dtype: int64\n",
      "220 96 52 82\n",
      "{'model_name': 'CDLOSE:TSSIM1:1_TL15-EXP_custHypTP0.55', 'deployment_date': '2022-11-28', 'algorithm_type': 'xgboost', 'dataset': 'TSSIM1:1_TL15-EXP_custHypTP0.55', 'TP': 220, 'TPpct': Decimal('0'), 'FP': 96, 'FPpct': Decimal('0'), 'TN': 52, 'TNpct': Decimal('0'), 'FN': 82, 'FNpct': Decimal('0'), 'precision_ratio': Decimal('2.2916666666666665'), 'evaluation_timeperiod': '2022-11-28_2022-12-02', 'live': False, 'hyperparameters': {\"{'subsample': 0.6, 'num_round': 1000, 'min_child_weight': 10, 'max_depth': 10, 'learning_rate': 0.1, 'gamma': 2, 'colsample_bytree': 1}\"}, 'features': {\"['SPY_diff', 'day_of_week', 'return_vol_5D', 'hour_volume_vol_diff', 'return_vol_240M', 'volume_vol_8H', 'range_vol_diff5', 'return_vol_30M', 'daily_volume_vol_diff30', 'close_diff', 'volume_vol_15M', 'return_vol_10D', 'daily_vol_diff_pct', 'daily_volume_vol_diff_pct30', 'range_vol5MA', 'cmf', 'return_vol_450M', 'hour_volume_vol_diff_pct', 'min_vol_diff', 'price_25DDiff', 'return_vol_3D', 'daily_vol_diff_pct30', 'volume_vol_3D', 'volume_vol_450M', 'close_diff_deviation', 'return_vol_30D', 'close_diff_deviation3', 'return_vol_16H', 'volume_vol_30M', 'rsi', 'threeD_stddev50', 'close_diff5', 'range_vol10MA', 'SPY_5D', 'daily_vol_diff', 'SPY_diff3', 'volume_vol_5D', 'rsi3', 'volume_25DDiff', 'price7']\"}, 'target': '-1.198+three_min_vol', 'feature_importances': \"[{'SPY_diff': 0.024086947}, {'day_of_week': 0.02866533}, {'return_vol_5D': 0.024704063}, {'hour_volume_vol_diff': 0.02362927}, {'return_vol_240M': 0.022620467}, {'volume_vol_8H': 0.023028051}, {'range_vol_diff5': 0.023853937}, {'return_vol_30M': 0.026268726}, {'daily_volume_vol_diff30': 0.023440517}, {'close_diff': 0.025081484}, {'volume_vol_15M': 0.018548807}, {'return_vol_10D': 0.03098875}, {'daily_vol_diff_pct': 0.026329154}, {'daily_volume_vol_diff_pct30': 0.022775492}, {'range_vol5MA': 0.025432646}, {'cmf': 0.024792355}, {'return_vol_450M': 0.026222264}, {'hour_volume_vol_diff_pct': 0.023044229}, {'min_vol_diff': 0.020396128}, {'price_25DDiff': 0.024714833}, {'return_vol_3D': 0.022589223}, {'daily_vol_diff_pct30': 0.026347553}, {'volume_vol_3D': 0.022046927}, {'volume_vol_450M': 0.02392399}, {'close_diff_deviation': 0.0254786}, {'return_vol_30D': 0.025838954}, {'close_diff_deviation3': 0.026152346}, {'return_vol_16H': 0.023619605}, {'volume_vol_30M': 0.018753259}, {'rsi': 0.026098093}, {'threeD_stddev50': 0.02618947}, {'close_diff5': 0.027118405}, {'range_vol10MA': 0.026348455}, {'SPY_5D': 0.028697612}, {'daily_vol_diff': 0.03888063}, {'SPY_diff3': 0.024366047}, {'volume_vol_5D': 0.022857312}, {'rsi3': 0.02953272}, {'volume_25DDiff': 0.022197073}, {'price7': 0.024340266}]\"}\n",
      "{'deployment_date': datetime.datetime(2022, 12, 5, 0, 0), 'dataset_end': datetime.datetime(2022, 11, 25, 0, 0), 'dataset_start': datetime.datetime(2018, 1, 1, 0, 0)}\n"
     ]
    },
    {
     "name": "stderr",
     "output_type": "stream",
     "text": [
      "/var/folders/tq/_9q_lv1s2bndbr3tzzn08x4r0000gn/T/ipykernel_72521/4205899279.py:68: DtypeWarning: Columns (109,110) have mixed types. Specify dtype option on import or set low_memory=False.\n",
      "  data = pd.read_csv(f'/Users/charlesmiller/Documents/model_tester_data/CDLOSE/2018-01-01_2023-12-23_validationTR15.csv')\n"
     ]
    },
    {
     "name": "stdout",
     "output_type": "stream",
     "text": [
      "label\n",
      "1    60963\n",
      "0    50023\n",
      "Name: count, dtype: int64\n",
      "191 145 65 49\n",
      "{'model_name': 'CDLOSE:TSSIM1:1_TL15-EXP_custHypTP0.55', 'deployment_date': '2022-12-05', 'algorithm_type': 'xgboost', 'dataset': 'TSSIM1:1_TL15-EXP_custHypTP0.55', 'TP': 191, 'TPpct': Decimal('0'), 'FP': 145, 'FPpct': Decimal('0'), 'TN': 65, 'TNpct': Decimal('0'), 'FN': 49, 'FNpct': Decimal('0'), 'precision_ratio': Decimal('1.3172413793103448'), 'evaluation_timeperiod': '2022-12-05_2022-12-09', 'live': False, 'hyperparameters': {\"{'subsample': 0.6, 'num_round': 1000, 'min_child_weight': 10, 'max_depth': 10, 'learning_rate': 0.1, 'gamma': 2, 'colsample_bytree': 1}\"}, 'features': {\"['SPY_diff', 'day_of_week', 'return_vol_5D', 'hour_volume_vol_diff', 'return_vol_240M', 'volume_vol_8H', 'range_vol_diff5', 'return_vol_30M', 'daily_volume_vol_diff30', 'close_diff', 'volume_vol_15M', 'return_vol_10D', 'daily_vol_diff_pct', 'daily_volume_vol_diff_pct30', 'range_vol5MA', 'cmf', 'return_vol_450M', 'hour_volume_vol_diff_pct', 'min_vol_diff', 'price_25DDiff', 'return_vol_3D', 'daily_vol_diff_pct30', 'volume_vol_3D', 'volume_vol_450M', 'close_diff_deviation', 'return_vol_30D', 'close_diff_deviation3', 'return_vol_16H', 'volume_vol_30M', 'rsi', 'threeD_stddev50', 'close_diff5', 'range_vol10MA', 'SPY_5D', 'daily_vol_diff', 'SPY_diff3', 'volume_vol_5D', 'rsi3', 'volume_25DDiff', 'price7']\"}, 'target': '-1.195+three_min_vol', 'feature_importances': \"[{'SPY_diff': 0.024106765}, {'day_of_week': 0.026866153}, {'return_vol_5D': 0.024925293}, {'hour_volume_vol_diff': 0.022903457}, {'return_vol_240M': 0.023396138}, {'volume_vol_8H': 0.023450887}, {'range_vol_diff5': 0.024944663}, {'return_vol_30M': 0.025718639}, {'daily_volume_vol_diff30': 0.02323983}, {'close_diff': 0.024889397}, {'volume_vol_15M': 0.019372225}, {'return_vol_10D': 0.031648543}, {'daily_vol_diff_pct': 0.026602626}, {'daily_volume_vol_diff_pct30': 0.023131369}, {'range_vol5MA': 0.025754021}, {'cmf': 0.024400236}, {'return_vol_450M': 0.027122233}, {'hour_volume_vol_diff_pct': 0.02345983}, {'min_vol_diff': 0.019515343}, {'price_25DDiff': 0.024982769}, {'return_vol_3D': 0.023658441}, {'daily_vol_diff_pct30': 0.025963018}, {'volume_vol_3D': 0.021639828}, {'volume_vol_450M': 0.02399186}, {'close_diff_deviation': 0.025002083}, {'return_vol_30D': 0.026308306}, {'close_diff_deviation3': 0.02536907}, {'return_vol_16H': 0.023530146}, {'volume_vol_30M': 0.019738518}, {'rsi': 0.025236564}, {'threeD_stddev50': 0.026529046}, {'close_diff5': 0.026686314}, {'range_vol10MA': 0.026705282}, {'SPY_5D': 0.027253626}, {'daily_vol_diff': 0.040460013}, {'SPY_diff3': 0.024256406}, {'volume_vol_5D': 0.02253744}, {'rsi3': 0.028358191}, {'volume_25DDiff': 0.022300065}, {'price7': 0.024045382}]\"}\n",
      "{'deployment_date': datetime.datetime(2022, 12, 12, 0, 0), 'dataset_end': datetime.datetime(2022, 12, 2, 0, 0), 'dataset_start': datetime.datetime(2018, 1, 1, 0, 0)}\n"
     ]
    },
    {
     "name": "stderr",
     "output_type": "stream",
     "text": [
      "/var/folders/tq/_9q_lv1s2bndbr3tzzn08x4r0000gn/T/ipykernel_72521/4205899279.py:68: DtypeWarning: Columns (109,110) have mixed types. Specify dtype option on import or set low_memory=False.\n",
      "  data = pd.read_csv(f'/Users/charlesmiller/Documents/model_tester_data/CDLOSE/2018-01-01_2023-12-23_validationTR15.csv')\n"
     ]
    },
    {
     "name": "stdout",
     "output_type": "stream",
     "text": [
      "label\n",
      "1    61217\n",
      "0    50219\n",
      "Name: count, dtype: int64\n",
      "279 77 31 63\n",
      "{'model_name': 'CDLOSE:TSSIM1:1_TL15-EXP_custHypTP0.55', 'deployment_date': '2022-12-12', 'algorithm_type': 'xgboost', 'dataset': 'TSSIM1:1_TL15-EXP_custHypTP0.55', 'TP': 279, 'TPpct': Decimal('0'), 'FP': 77, 'FPpct': Decimal('0'), 'TN': 31, 'TNpct': Decimal('0'), 'FN': 63, 'FNpct': Decimal('0'), 'precision_ratio': Decimal('3.6233766233766236'), 'evaluation_timeperiod': '2022-12-12_2022-12-16', 'live': False, 'hyperparameters': {\"{'subsample': 0.6, 'num_round': 1000, 'min_child_weight': 10, 'max_depth': 10, 'learning_rate': 0.1, 'gamma': 2, 'colsample_bytree': 1}\"}, 'features': {\"['SPY_diff', 'day_of_week', 'return_vol_5D', 'hour_volume_vol_diff', 'return_vol_240M', 'volume_vol_8H', 'range_vol_diff5', 'return_vol_30M', 'daily_volume_vol_diff30', 'close_diff', 'volume_vol_15M', 'return_vol_10D', 'daily_vol_diff_pct', 'daily_volume_vol_diff_pct30', 'range_vol5MA', 'cmf', 'return_vol_450M', 'hour_volume_vol_diff_pct', 'min_vol_diff', 'price_25DDiff', 'return_vol_3D', 'daily_vol_diff_pct30', 'volume_vol_3D', 'volume_vol_450M', 'close_diff_deviation', 'return_vol_30D', 'close_diff_deviation3', 'return_vol_16H', 'volume_vol_30M', 'rsi', 'threeD_stddev50', 'close_diff5', 'range_vol10MA', 'SPY_5D', 'daily_vol_diff', 'SPY_diff3', 'volume_vol_5D', 'rsi3', 'volume_25DDiff', 'price7']\"}, 'target': '-1.196+three_min_vol', 'feature_importances': \"[{'SPY_diff': 0.024108402}, {'day_of_week': 0.027273875}, {'return_vol_5D': 0.024847465}, {'hour_volume_vol_diff': 0.023660813}, {'return_vol_240M': 0.023777666}, {'volume_vol_8H': 0.022701032}, {'range_vol_diff5': 0.025045188}, {'return_vol_30M': 0.025428176}, {'daily_volume_vol_diff30': 0.023618486}, {'close_diff': 0.024814693}, {'volume_vol_15M': 0.018951157}, {'return_vol_10D': 0.03217055}, {'daily_vol_diff_pct': 0.026558002}, {'daily_volume_vol_diff_pct30': 0.022928793}, {'range_vol5MA': 0.02530555}, {'cmf': 0.02419149}, {'return_vol_450M': 0.0265288}, {'hour_volume_vol_diff_pct': 0.023337448}, {'min_vol_diff': 0.020170419}, {'price_25DDiff': 0.025214642}, {'return_vol_3D': 0.02379402}, {'daily_vol_diff_pct30': 0.02509499}, {'volume_vol_3D': 0.021566244}, {'volume_vol_450M': 0.02394151}, {'close_diff_deviation': 0.024780957}, {'return_vol_30D': 0.026832804}, {'close_diff_deviation3': 0.02560529}, {'return_vol_16H': 0.023491735}, {'volume_vol_30M': 0.018974371}, {'rsi': 0.024790678}, {'threeD_stddev50': 0.02564678}, {'close_diff5': 0.02669305}, {'range_vol10MA': 0.02607637}, {'SPY_5D': 0.027561039}, {'daily_vol_diff': 0.041118648}, {'SPY_diff3': 0.023868583}, {'volume_vol_5D': 0.022900013}, {'rsi3': 0.029157322}, {'volume_25DDiff': 0.02253843}, {'price7': 0.024934433}]\"}\n",
      "{'deployment_date': datetime.datetime(2022, 12, 19, 0, 0), 'dataset_end': datetime.datetime(2022, 12, 9, 0, 0), 'dataset_start': datetime.datetime(2018, 1, 1, 0, 0)}\n"
     ]
    },
    {
     "name": "stderr",
     "output_type": "stream",
     "text": [
      "/var/folders/tq/_9q_lv1s2bndbr3tzzn08x4r0000gn/T/ipykernel_72521/4205899279.py:68: DtypeWarning: Columns (109,110) have mixed types. Specify dtype option on import or set low_memory=False.\n",
      "  data = pd.read_csv(f'/Users/charlesmiller/Documents/model_tester_data/CDLOSE/2018-01-01_2023-12-23_validationTR15.csv')\n"
     ]
    },
    {
     "name": "stdout",
     "output_type": "stream",
     "text": [
      "label\n",
      "1    61448\n",
      "0    50438\n",
      "Name: count, dtype: int64\n",
      "198 82 65 105\n",
      "{'model_name': 'CDLOSE:TSSIM1:1_TL15-EXP_custHypTP0.55', 'deployment_date': '2022-12-19', 'algorithm_type': 'xgboost', 'dataset': 'TSSIM1:1_TL15-EXP_custHypTP0.55', 'TP': 198, 'TPpct': Decimal('0'), 'FP': 82, 'FPpct': Decimal('0'), 'TN': 65, 'TNpct': Decimal('0'), 'FN': 105, 'FNpct': Decimal('0'), 'precision_ratio': Decimal('2.4146341463414633'), 'evaluation_timeperiod': '2022-12-19_2022-12-23', 'live': False, 'hyperparameters': {\"{'subsample': 0.6, 'num_round': 1000, 'min_child_weight': 10, 'max_depth': 10, 'learning_rate': 0.1, 'gamma': 2, 'colsample_bytree': 1}\"}, 'features': {\"['SPY_diff', 'day_of_week', 'return_vol_5D', 'hour_volume_vol_diff', 'return_vol_240M', 'volume_vol_8H', 'range_vol_diff5', 'return_vol_30M', 'daily_volume_vol_diff30', 'close_diff', 'volume_vol_15M', 'return_vol_10D', 'daily_vol_diff_pct', 'daily_volume_vol_diff_pct30', 'range_vol5MA', 'cmf', 'return_vol_450M', 'hour_volume_vol_diff_pct', 'min_vol_diff', 'price_25DDiff', 'return_vol_3D', 'daily_vol_diff_pct30', 'volume_vol_3D', 'volume_vol_450M', 'close_diff_deviation', 'return_vol_30D', 'close_diff_deviation3', 'return_vol_16H', 'volume_vol_30M', 'rsi', 'threeD_stddev50', 'close_diff5', 'range_vol10MA', 'SPY_5D', 'daily_vol_diff', 'SPY_diff3', 'volume_vol_5D', 'rsi3', 'volume_25DDiff', 'price7']\"}, 'target': '-1.197+three_min_vol', 'feature_importances': \"[{'SPY_diff': 0.024619533}, {'day_of_week': 0.027578343}, {'return_vol_5D': 0.024242813}, {'hour_volume_vol_diff': 0.023473362}, {'return_vol_240M': 0.023183916}, {'volume_vol_8H': 0.022669569}, {'range_vol_diff5': 0.024890855}, {'return_vol_30M': 0.026335647}, {'daily_volume_vol_diff30': 0.022451505}, {'close_diff': 0.024597697}, {'volume_vol_15M': 0.018707965}, {'return_vol_10D': 0.03166995}, {'daily_vol_diff_pct': 0.026188651}, {'daily_volume_vol_diff_pct30': 0.023619687}, {'range_vol5MA': 0.0264159}, {'cmf': 0.024869738}, {'return_vol_450M': 0.02594873}, {'hour_volume_vol_diff_pct': 0.023548326}, {'min_vol_diff': 0.020072203}, {'price_25DDiff': 0.025872765}, {'return_vol_3D': 0.022808751}, {'daily_vol_diff_pct30': 0.025745708}, {'volume_vol_3D': 0.021100365}, {'volume_vol_450M': 0.023865908}, {'close_diff_deviation': 0.02507778}, {'return_vol_30D': 0.02721811}, {'close_diff_deviation3': 0.024829065}, {'return_vol_16H': 0.024198953}, {'volume_vol_30M': 0.019212788}, {'rsi': 0.024655951}, {'threeD_stddev50': 0.025690585}, {'close_diff5': 0.02603163}, {'range_vol10MA': 0.02555346}, {'SPY_5D': 0.027914217}, {'daily_vol_diff': 0.04190881}, {'SPY_diff3': 0.02371473}, {'volume_vol_5D': 0.023117773}, {'rsi3': 0.029830882}, {'volume_25DDiff': 0.021999706}, {'price7': 0.024567703}]\"}\n",
      "{'deployment_date': datetime.datetime(2022, 12, 26, 0, 0), 'dataset_end': datetime.datetime(2022, 12, 16, 0, 0), 'dataset_start': datetime.datetime(2018, 1, 1, 0, 0)}\n"
     ]
    },
    {
     "name": "stderr",
     "output_type": "stream",
     "text": [
      "/var/folders/tq/_9q_lv1s2bndbr3tzzn08x4r0000gn/T/ipykernel_72521/4205899279.py:68: DtypeWarning: Columns (109,110) have mixed types. Specify dtype option on import or set low_memory=False.\n",
      "  data = pd.read_csv(f'/Users/charlesmiller/Documents/model_tester_data/CDLOSE/2018-01-01_2023-12-23_validationTR15.csv')\n"
     ]
    },
    {
     "name": "stdout",
     "output_type": "stream",
     "text": [
      "label\n",
      "1    61688\n",
      "0    50648\n",
      "Name: count, dtype: int64\n",
      "80 152 90 38\n",
      "{'model_name': 'CDLOSE:TSSIM1:1_TL15-EXP_custHypTP0.55', 'deployment_date': '2022-12-26', 'algorithm_type': 'xgboost', 'dataset': 'TSSIM1:1_TL15-EXP_custHypTP0.55', 'TP': 80, 'TPpct': Decimal('0'), 'FP': 152, 'FPpct': Decimal('0'), 'TN': 90, 'TNpct': Decimal('0'), 'FN': 38, 'FNpct': Decimal('0'), 'precision_ratio': Decimal('0.5263157894736842'), 'evaluation_timeperiod': '2022-12-26_2022-12-30', 'live': False, 'hyperparameters': {\"{'subsample': 0.6, 'num_round': 1000, 'min_child_weight': 10, 'max_depth': 10, 'learning_rate': 0.1, 'gamma': 2, 'colsample_bytree': 1}\"}, 'features': {\"['SPY_diff', 'day_of_week', 'return_vol_5D', 'hour_volume_vol_diff', 'return_vol_240M', 'volume_vol_8H', 'range_vol_diff5', 'return_vol_30M', 'daily_volume_vol_diff30', 'close_diff', 'volume_vol_15M', 'return_vol_10D', 'daily_vol_diff_pct', 'daily_volume_vol_diff_pct30', 'range_vol5MA', 'cmf', 'return_vol_450M', 'hour_volume_vol_diff_pct', 'min_vol_diff', 'price_25DDiff', 'return_vol_3D', 'daily_vol_diff_pct30', 'volume_vol_3D', 'volume_vol_450M', 'close_diff_deviation', 'return_vol_30D', 'close_diff_deviation3', 'return_vol_16H', 'volume_vol_30M', 'rsi', 'threeD_stddev50', 'close_diff5', 'range_vol10MA', 'SPY_5D', 'daily_vol_diff', 'SPY_diff3', 'volume_vol_5D', 'rsi3', 'volume_25DDiff', 'price7']\"}, 'target': '-1.2+three_min_vol', 'feature_importances': \"[{'SPY_diff': 0.024258126}, {'day_of_week': 0.028899826}, {'return_vol_5D': 0.02440069}, {'hour_volume_vol_diff': 0.02287152}, {'return_vol_240M': 0.023147983}, {'volume_vol_8H': 0.022446075}, {'range_vol_diff5': 0.025019811}, {'return_vol_30M': 0.02614873}, {'daily_volume_vol_diff30': 0.022880955}, {'close_diff': 0.024838347}, {'volume_vol_15M': 0.018475188}, {'return_vol_10D': 0.031179437}, {'daily_vol_diff_pct': 0.026967771}, {'daily_volume_vol_diff_pct30': 0.02353831}, {'range_vol5MA': 0.025933042}, {'cmf': 0.025084807}, {'return_vol_450M': 0.0257576}, {'hour_volume_vol_diff_pct': 0.022583665}, {'min_vol_diff': 0.020103963}, {'price_25DDiff': 0.025340129}, {'return_vol_3D': 0.023350459}, {'daily_vol_diff_pct30': 0.0263412}, {'volume_vol_3D': 0.021296993}, {'volume_vol_450M': 0.023775253}, {'close_diff_deviation': 0.024611253}, {'return_vol_30D': 0.026345082}, {'close_diff_deviation3': 0.025359927}, {'return_vol_16H': 0.0237148}, {'volume_vol_30M': 0.018914327}, {'rsi': 0.02453646}, {'threeD_stddev50': 0.027409153}, {'close_diff5': 0.02745351}, {'range_vol10MA': 0.025484946}, {'SPY_5D': 0.027761208}, {'daily_vol_diff': 0.041726407}, {'SPY_diff3': 0.023395075}, {'volume_vol_5D': 0.022743087}, {'rsi3': 0.029029708}, {'volume_25DDiff': 0.021815399}, {'price7': 0.025059704}]\"}\n",
      "{'deployment_date': datetime.datetime(2023, 1, 2, 0, 0), 'dataset_end': datetime.datetime(2022, 12, 23, 0, 0), 'dataset_start': datetime.datetime(2018, 1, 1, 0, 0)}\n"
     ]
    },
    {
     "name": "stderr",
     "output_type": "stream",
     "text": [
      "/var/folders/tq/_9q_lv1s2bndbr3tzzn08x4r0000gn/T/ipykernel_72521/4205899279.py:68: DtypeWarning: Columns (109,110) have mixed types. Specify dtype option on import or set low_memory=False.\n",
      "  data = pd.read_csv(f'/Users/charlesmiller/Documents/model_tester_data/CDLOSE/2018-01-01_2023-12-23_validationTR15.csv')\n"
     ]
    },
    {
     "name": "stdout",
     "output_type": "stream",
     "text": [
      "label\n",
      "1    61927\n",
      "0    50859\n",
      "Name: count, dtype: int64\n",
      "151 158 34 17\n",
      "{'model_name': 'CDLOSE:TSSIM1:1_TL15-EXP_custHypTP0.55', 'deployment_date': '2023-01-02', 'algorithm_type': 'xgboost', 'dataset': 'TSSIM1:1_TL15-EXP_custHypTP0.55', 'TP': 151, 'TPpct': Decimal('0'), 'FP': 158, 'FPpct': Decimal('0'), 'TN': 34, 'TNpct': Decimal('0'), 'FN': 17, 'FNpct': Decimal('0'), 'precision_ratio': Decimal('0.9556962025316456'), 'evaluation_timeperiod': '2023-01-02_2023-01-06', 'live': False, 'hyperparameters': {\"{'subsample': 0.6, 'num_round': 1000, 'min_child_weight': 10, 'max_depth': 10, 'learning_rate': 0.1, 'gamma': 2, 'colsample_bytree': 1}\"}, 'features': {\"['SPY_diff', 'day_of_week', 'return_vol_5D', 'hour_volume_vol_diff', 'return_vol_240M', 'volume_vol_8H', 'range_vol_diff5', 'return_vol_30M', 'daily_volume_vol_diff30', 'close_diff', 'volume_vol_15M', 'return_vol_10D', 'daily_vol_diff_pct', 'daily_volume_vol_diff_pct30', 'range_vol5MA', 'cmf', 'return_vol_450M', 'hour_volume_vol_diff_pct', 'min_vol_diff', 'price_25DDiff', 'return_vol_3D', 'daily_vol_diff_pct30', 'volume_vol_3D', 'volume_vol_450M', 'close_diff_deviation', 'return_vol_30D', 'close_diff_deviation3', 'return_vol_16H', 'volume_vol_30M', 'rsi', 'threeD_stddev50', 'close_diff5', 'range_vol10MA', 'SPY_5D', 'daily_vol_diff', 'SPY_diff3', 'volume_vol_5D', 'rsi3', 'volume_25DDiff', 'price7']\"}, 'target': '-1.2+three_min_vol', 'feature_importances': \"[{'SPY_diff': 0.024011005}, {'day_of_week': 0.027258893}, {'return_vol_5D': 0.024659049}, {'hour_volume_vol_diff': 0.021864189}, {'return_vol_240M': 0.023108246}, {'volume_vol_8H': 0.022330958}, {'range_vol_diff5': 0.024315778}, {'return_vol_30M': 0.0263906}, {'daily_volume_vol_diff30': 0.02324494}, {'close_diff': 0.024931077}, {'volume_vol_15M': 0.018721594}, {'return_vol_10D': 0.031548444}, {'daily_vol_diff_pct': 0.027487539}, {'daily_volume_vol_diff_pct30': 0.022217656}, {'range_vol5MA': 0.026143804}, {'cmf': 0.024339417}, {'return_vol_450M': 0.026318703}, {'hour_volume_vol_diff_pct': 0.025018057}, {'min_vol_diff': 0.020575352}, {'price_25DDiff': 0.02563715}, {'return_vol_3D': 0.023293441}, {'daily_vol_diff_pct30': 0.02645403}, {'volume_vol_3D': 0.021806955}, {'volume_vol_450M': 0.023192419}, {'close_diff_deviation': 0.025629228}, {'return_vol_30D': 0.026216153}, {'close_diff_deviation3': 0.024980852}, {'return_vol_16H': 0.02328143}, {'volume_vol_30M': 0.020985184}, {'rsi': 0.02475238}, {'threeD_stddev50': 0.025480103}, {'close_diff5': 0.026161034}, {'range_vol10MA': 0.025980828}, {'SPY_5D': 0.027578145}, {'daily_vol_diff': 0.042307723}, {'SPY_diff3': 0.02367864}, {'volume_vol_5D': 0.022996355}, {'rsi3': 0.02880526}, {'volume_25DDiff': 0.021938646}, {'price7': 0.024358751}]\"}\n",
      "{'deployment_date': datetime.datetime(2023, 1, 9, 0, 0), 'dataset_end': datetime.datetime(2022, 12, 30, 0, 0), 'dataset_start': datetime.datetime(2018, 1, 1, 0, 0)}\n"
     ]
    },
    {
     "name": "stderr",
     "output_type": "stream",
     "text": [
      "/var/folders/tq/_9q_lv1s2bndbr3tzzn08x4r0000gn/T/ipykernel_72521/4205899279.py:68: DtypeWarning: Columns (109,110) have mixed types. Specify dtype option on import or set low_memory=False.\n",
      "  data = pd.read_csv(f'/Users/charlesmiller/Documents/model_tester_data/CDLOSE/2018-01-01_2023-12-23_validationTR15.csv')\n"
     ]
    },
    {
     "name": "stdout",
     "output_type": "stream",
     "text": [
      "label\n",
      "1    62138\n",
      "0    51008\n",
      "Name: count, dtype: int64\n",
      "106 130 150 64\n",
      "{'model_name': 'CDLOSE:TSSIM1:1_TL15-EXP_custHypTP0.55', 'deployment_date': '2023-01-09', 'algorithm_type': 'xgboost', 'dataset': 'TSSIM1:1_TL15-EXP_custHypTP0.55', 'TP': 106, 'TPpct': Decimal('0'), 'FP': 130, 'FPpct': Decimal('0'), 'TN': 150, 'TNpct': Decimal('0'), 'FN': 64, 'FNpct': Decimal('0'), 'precision_ratio': Decimal('0.8153846153846154'), 'evaluation_timeperiod': '2023-01-09_2023-01-13', 'live': False, 'hyperparameters': {\"{'subsample': 0.6, 'num_round': 1000, 'min_child_weight': 10, 'max_depth': 10, 'learning_rate': 0.1, 'gamma': 2, 'colsample_bytree': 1}\"}, 'features': {\"['SPY_diff', 'day_of_week', 'return_vol_5D', 'hour_volume_vol_diff', 'return_vol_240M', 'volume_vol_8H', 'range_vol_diff5', 'return_vol_30M', 'daily_volume_vol_diff30', 'close_diff', 'volume_vol_15M', 'return_vol_10D', 'daily_vol_diff_pct', 'daily_volume_vol_diff_pct30', 'range_vol5MA', 'cmf', 'return_vol_450M', 'hour_volume_vol_diff_pct', 'min_vol_diff', 'price_25DDiff', 'return_vol_3D', 'daily_vol_diff_pct30', 'volume_vol_3D', 'volume_vol_450M', 'close_diff_deviation', 'return_vol_30D', 'close_diff_deviation3', 'return_vol_16H', 'volume_vol_30M', 'rsi', 'threeD_stddev50', 'close_diff5', 'range_vol10MA', 'SPY_5D', 'daily_vol_diff', 'SPY_diff3', 'volume_vol_5D', 'rsi3', 'volume_25DDiff', 'price7']\"}, 'target': '-1.199+three_min_vol', 'feature_importances': \"[{'SPY_diff': 0.023780452}, {'day_of_week': 0.028052388}, {'return_vol_5D': 0.02475583}, {'hour_volume_vol_diff': 0.022895843}, {'return_vol_240M': 0.023376944}, {'volume_vol_8H': 0.022678168}, {'range_vol_diff5': 0.024971252}, {'return_vol_30M': 0.025212886}, {'daily_volume_vol_diff30': 0.022435263}, {'close_diff': 0.024477465}, {'volume_vol_15M': 0.02057536}, {'return_vol_10D': 0.031198516}, {'daily_vol_diff_pct': 0.027047101}, {'daily_volume_vol_diff_pct30': 0.02258264}, {'range_vol5MA': 0.025645949}, {'cmf': 0.025234617}, {'return_vol_450M': 0.02594431}, {'hour_volume_vol_diff_pct': 0.02457052}, {'min_vol_diff': 0.020061255}, {'price_25DDiff': 0.02554774}, {'return_vol_3D': 0.023093404}, {'daily_vol_diff_pct30': 0.025700834}, {'volume_vol_3D': 0.022147689}, {'volume_vol_450M': 0.023885058}, {'close_diff_deviation': 0.02533388}, {'return_vol_30D': 0.025890686}, {'close_diff_deviation3': 0.024838446}, {'return_vol_16H': 0.024051499}, {'volume_vol_30M': 0.019546222}, {'rsi': 0.024512868}, {'threeD_stddev50': 0.025909776}, {'close_diff5': 0.026478166}, {'range_vol10MA': 0.026117286}, {'SPY_5D': 0.027891742}, {'daily_vol_diff': 0.04165388}, {'SPY_diff3': 0.023660367}, {'volume_vol_5D': 0.022807525}, {'rsi3': 0.029352926}, {'volume_25DDiff': 0.02178314}, {'price7': 0.024300108}]\"}\n",
      "{'deployment_date': datetime.datetime(2023, 1, 16, 0, 0), 'dataset_end': datetime.datetime(2023, 1, 6, 0, 0), 'dataset_start': datetime.datetime(2018, 1, 1, 0, 0)}\n"
     ]
    },
    {
     "name": "stderr",
     "output_type": "stream",
     "text": [
      "/var/folders/tq/_9q_lv1s2bndbr3tzzn08x4r0000gn/T/ipykernel_72521/4205899279.py:68: DtypeWarning: Columns (109,110) have mixed types. Specify dtype option on import or set low_memory=False.\n",
      "  data = pd.read_csv(f'/Users/charlesmiller/Documents/model_tester_data/CDLOSE/2018-01-01_2023-12-23_validationTR15.csv')\n"
     ]
    },
    {
     "name": "stdout",
     "output_type": "stream",
     "text": [
      "label\n",
      "1    62359\n",
      "0    51147\n",
      "Name: count, dtype: int64\n",
      "108 117 53 82\n",
      "{'model_name': 'CDLOSE:TSSIM1:1_TL15-EXP_custHypTP0.55', 'deployment_date': '2023-01-16', 'algorithm_type': 'xgboost', 'dataset': 'TSSIM1:1_TL15-EXP_custHypTP0.55', 'TP': 108, 'TPpct': Decimal('0'), 'FP': 117, 'FPpct': Decimal('0'), 'TN': 53, 'TNpct': Decimal('0'), 'FN': 82, 'FNpct': Decimal('0'), 'precision_ratio': Decimal('0.9230769230769231'), 'evaluation_timeperiod': '2023-01-16_2023-01-20', 'live': False, 'hyperparameters': {\"{'subsample': 0.6, 'num_round': 1000, 'min_child_weight': 10, 'max_depth': 10, 'learning_rate': 0.1, 'gamma': 2, 'colsample_bytree': 1}\"}, 'features': {\"['SPY_diff', 'day_of_week', 'return_vol_5D', 'hour_volume_vol_diff', 'return_vol_240M', 'volume_vol_8H', 'range_vol_diff5', 'return_vol_30M', 'daily_volume_vol_diff30', 'close_diff', 'volume_vol_15M', 'return_vol_10D', 'daily_vol_diff_pct', 'daily_volume_vol_diff_pct30', 'range_vol5MA', 'cmf', 'return_vol_450M', 'hour_volume_vol_diff_pct', 'min_vol_diff', 'price_25DDiff', 'return_vol_3D', 'daily_vol_diff_pct30', 'volume_vol_3D', 'volume_vol_450M', 'close_diff_deviation', 'return_vol_30D', 'close_diff_deviation3', 'return_vol_16H', 'volume_vol_30M', 'rsi', 'threeD_stddev50', 'close_diff5', 'range_vol10MA', 'SPY_5D', 'daily_vol_diff', 'SPY_diff3', 'volume_vol_5D', 'rsi3', 'volume_25DDiff', 'price7']\"}, 'target': '-1.198+three_min_vol', 'feature_importances': \"[{'SPY_diff': 0.024344364}, {'day_of_week': 0.02692189}, {'return_vol_5D': 0.024626195}, {'hour_volume_vol_diff': 0.02278077}, {'return_vol_240M': 0.02300142}, {'volume_vol_8H': 0.023468649}, {'range_vol_diff5': 0.024941899}, {'return_vol_30M': 0.02634822}, {'daily_volume_vol_diff30': 0.022784058}, {'close_diff': 0.02543579}, {'volume_vol_15M': 0.019263538}, {'return_vol_10D': 0.032088827}, {'daily_vol_diff_pct': 0.026685825}, {'daily_volume_vol_diff_pct30': 0.02195419}, {'range_vol5MA': 0.026114864}, {'cmf': 0.024711026}, {'return_vol_450M': 0.026538951}, {'hour_volume_vol_diff_pct': 0.022770042}, {'min_vol_diff': 0.020222692}, {'price_25DDiff': 0.025873072}, {'return_vol_3D': 0.022685982}, {'daily_vol_diff_pct30': 0.026859839}, {'volume_vol_3D': 0.02232709}, {'volume_vol_450M': 0.023575801}, {'close_diff_deviation': 0.024267536}, {'return_vol_30D': 0.026546711}, {'close_diff_deviation3': 0.02490422}, {'return_vol_16H': 0.024515186}, {'volume_vol_30M': 0.019318461}, {'rsi': 0.025189605}, {'threeD_stddev50': 0.026151195}, {'close_diff5': 0.026600877}, {'range_vol10MA': 0.027306018}, {'SPY_5D': 0.027513757}, {'daily_vol_diff': 0.03996218}, {'SPY_diff3': 0.023392268}, {'volume_vol_5D': 0.022503892}, {'rsi3': 0.029076204}, {'volume_25DDiff': 0.021477789}, {'price7': 0.02494911}]\"}\n",
      "{'deployment_date': datetime.datetime(2023, 1, 23, 0, 0), 'dataset_end': datetime.datetime(2023, 1, 13, 0, 0), 'dataset_start': datetime.datetime(2018, 1, 1, 0, 0)}\n"
     ]
    },
    {
     "name": "stderr",
     "output_type": "stream",
     "text": [
      "/var/folders/tq/_9q_lv1s2bndbr3tzzn08x4r0000gn/T/ipykernel_72521/4205899279.py:68: DtypeWarning: Columns (109,110) have mixed types. Specify dtype option on import or set low_memory=False.\n",
      "  data = pd.read_csv(f'/Users/charlesmiller/Documents/model_tester_data/CDLOSE/2018-01-01_2023-12-23_validationTR15.csv')\n"
     ]
    },
    {
     "name": "stdout",
     "output_type": "stream",
     "text": [
      "label\n",
      "1    62592\n",
      "0    51364\n",
      "Name: count, dtype: int64\n",
      "158 115 99 78\n",
      "{'model_name': 'CDLOSE:TSSIM1:1_TL15-EXP_custHypTP0.55', 'deployment_date': '2023-01-23', 'algorithm_type': 'xgboost', 'dataset': 'TSSIM1:1_TL15-EXP_custHypTP0.55', 'TP': 158, 'TPpct': Decimal('0'), 'FP': 115, 'FPpct': Decimal('0'), 'TN': 99, 'TNpct': Decimal('0'), 'FN': 78, 'FNpct': Decimal('0'), 'precision_ratio': Decimal('1.373913043478261'), 'evaluation_timeperiod': '2023-01-23_2023-01-27', 'live': False, 'hyperparameters': {\"{'subsample': 0.6, 'num_round': 1000, 'min_child_weight': 10, 'max_depth': 10, 'learning_rate': 0.1, 'gamma': 2, 'colsample_bytree': 1}\"}, 'features': {\"['SPY_diff', 'day_of_week', 'return_vol_5D', 'hour_volume_vol_diff', 'return_vol_240M', 'volume_vol_8H', 'range_vol_diff5', 'return_vol_30M', 'daily_volume_vol_diff30', 'close_diff', 'volume_vol_15M', 'return_vol_10D', 'daily_vol_diff_pct', 'daily_volume_vol_diff_pct30', 'range_vol5MA', 'cmf', 'return_vol_450M', 'hour_volume_vol_diff_pct', 'min_vol_diff', 'price_25DDiff', 'return_vol_3D', 'daily_vol_diff_pct30', 'volume_vol_3D', 'volume_vol_450M', 'close_diff_deviation', 'return_vol_30D', 'close_diff_deviation3', 'return_vol_16H', 'volume_vol_30M', 'rsi', 'threeD_stddev50', 'close_diff5', 'range_vol10MA', 'SPY_5D', 'daily_vol_diff', 'SPY_diff3', 'volume_vol_5D', 'rsi3', 'volume_25DDiff', 'price7']\"}, 'target': '-1.197+three_min_vol', 'feature_importances': \"[{'SPY_diff': 0.02434082}, {'day_of_week': 0.028237028}, {'return_vol_5D': 0.02471392}, {'hour_volume_vol_diff': 0.022494491}, {'return_vol_240M': 0.022825452}, {'volume_vol_8H': 0.022786394}, {'range_vol_diff5': 0.025316743}, {'return_vol_30M': 0.027093738}, {'daily_volume_vol_diff30': 0.024211075}, {'close_diff': 0.024943525}, {'volume_vol_15M': 0.019395469}, {'return_vol_10D': 0.03157873}, {'daily_vol_diff_pct': 0.027392229}, {'daily_volume_vol_diff_pct30': 0.022247262}, {'range_vol5MA': 0.0257869}, {'cmf': 0.024372812}, {'return_vol_450M': 0.025943037}, {'hour_volume_vol_diff_pct': 0.023065837}, {'min_vol_diff': 0.019790975}, {'price_25DDiff': 0.026077809}, {'return_vol_3D': 0.023218457}, {'daily_vol_diff_pct30': 0.026355255}, {'volume_vol_3D': 0.021600002}, {'volume_vol_450M': 0.023311231}, {'close_diff_deviation': 0.024447221}, {'return_vol_30D': 0.026524547}, {'close_diff_deviation3': 0.025175638}, {'return_vol_16H': 0.024383}, {'volume_vol_30M': 0.020070704}, {'rsi': 0.025563458}, {'threeD_stddev50': 0.026071325}, {'close_diff5': 0.026075015}, {'range_vol10MA': 0.025642727}, {'SPY_5D': 0.027618574}, {'daily_vol_diff': 0.039982155}, {'SPY_diff3': 0.023417538}, {'volume_vol_5D': 0.022266487}, {'rsi3': 0.029104648}, {'volume_25DDiff': 0.022017047}, {'price7': 0.024540693}]\"}\n",
      "{'deployment_date': datetime.datetime(2023, 1, 30, 0, 0), 'dataset_end': datetime.datetime(2023, 1, 20, 0, 0), 'dataset_start': datetime.datetime(2018, 1, 1, 0, 0)}\n"
     ]
    },
    {
     "name": "stderr",
     "output_type": "stream",
     "text": [
      "/var/folders/tq/_9q_lv1s2bndbr3tzzn08x4r0000gn/T/ipykernel_72521/4205899279.py:68: DtypeWarning: Columns (109,110) have mixed types. Specify dtype option on import or set low_memory=False.\n",
      "  data = pd.read_csv(f'/Users/charlesmiller/Documents/model_tester_data/CDLOSE/2018-01-01_2023-12-23_validationTR15.csv')\n"
     ]
    },
    {
     "name": "stdout",
     "output_type": "stream",
     "text": [
      "label\n",
      "1    62799\n",
      "0    51517\n",
      "Name: count, dtype: int64\n",
      "162 154 84 50\n",
      "{'model_name': 'CDLOSE:TSSIM1:1_TL15-EXP_custHypTP0.55', 'deployment_date': '2023-01-30', 'algorithm_type': 'xgboost', 'dataset': 'TSSIM1:1_TL15-EXP_custHypTP0.55', 'TP': 162, 'TPpct': Decimal('0'), 'FP': 154, 'FPpct': Decimal('0'), 'TN': 84, 'TNpct': Decimal('0'), 'FN': 50, 'FNpct': Decimal('0'), 'precision_ratio': Decimal('1.051948051948052'), 'evaluation_timeperiod': '2023-01-30_2023-02-03', 'live': False, 'hyperparameters': {\"{'subsample': 0.6, 'num_round': 1000, 'min_child_weight': 10, 'max_depth': 10, 'learning_rate': 0.1, 'gamma': 2, 'colsample_bytree': 1}\"}, 'features': {\"['SPY_diff', 'day_of_week', 'return_vol_5D', 'hour_volume_vol_diff', 'return_vol_240M', 'volume_vol_8H', 'range_vol_diff5', 'return_vol_30M', 'daily_volume_vol_diff30', 'close_diff', 'volume_vol_15M', 'return_vol_10D', 'daily_vol_diff_pct', 'daily_volume_vol_diff_pct30', 'range_vol5MA', 'cmf', 'return_vol_450M', 'hour_volume_vol_diff_pct', 'min_vol_diff', 'price_25DDiff', 'return_vol_3D', 'daily_vol_diff_pct30', 'volume_vol_3D', 'volume_vol_450M', 'close_diff_deviation', 'return_vol_30D', 'close_diff_deviation3', 'return_vol_16H', 'volume_vol_30M', 'rsi', 'threeD_stddev50', 'close_diff5', 'range_vol10MA', 'SPY_5D', 'daily_vol_diff', 'SPY_diff3', 'volume_vol_5D', 'rsi3', 'volume_25DDiff', 'price7']\"}, 'target': '-1.197+three_min_vol', 'feature_importances': \"[{'SPY_diff': 0.023996968}, {'day_of_week': 0.026799329}, {'return_vol_5D': 0.024484802}, {'hour_volume_vol_diff': 0.021359505}, {'return_vol_240M': 0.022564547}, {'volume_vol_8H': 0.022879055}, {'range_vol_diff5': 0.025107}, {'return_vol_30M': 0.025310308}, {'daily_volume_vol_diff30': 0.02293583}, {'close_diff': 0.024440598}, {'volume_vol_15M': 0.02028978}, {'return_vol_10D': 0.031481795}, {'daily_vol_diff_pct': 0.027358301}, {'daily_volume_vol_diff_pct30': 0.022853207}, {'range_vol5MA': 0.026277214}, {'cmf': 0.024635822}, {'return_vol_450M': 0.02597296}, {'hour_volume_vol_diff_pct': 0.02380297}, {'min_vol_diff': 0.019846242}, {'price_25DDiff': 0.024786776}, {'return_vol_3D': 0.023906963}, {'daily_vol_diff_pct30': 0.025688712}, {'volume_vol_3D': 0.022192474}, {'volume_vol_450M': 0.02388568}, {'close_diff_deviation': 0.025041651}, {'return_vol_30D': 0.026261037}, {'close_diff_deviation3': 0.024862716}, {'return_vol_16H': 0.024582114}, {'volume_vol_30M': 0.019366859}, {'rsi': 0.024832033}, {'threeD_stddev50': 0.027302468}, {'close_diff5': 0.026378505}, {'range_vol10MA': 0.025482085}, {'SPY_5D': 0.028337637}, {'daily_vol_diff': 0.042239405}, {'SPY_diff3': 0.023541844}, {'volume_vol_5D': 0.022103643}, {'rsi3': 0.02986728}, {'volume_25DDiff': 0.022362119}, {'price7': 0.024581756}]\"}\n",
      "{'deployment_date': datetime.datetime(2023, 2, 6, 0, 0), 'dataset_end': datetime.datetime(2023, 1, 27, 0, 0), 'dataset_start': datetime.datetime(2018, 1, 1, 0, 0)}\n"
     ]
    },
    {
     "name": "stderr",
     "output_type": "stream",
     "text": [
      "/var/folders/tq/_9q_lv1s2bndbr3tzzn08x4r0000gn/T/ipykernel_72521/4205899279.py:68: DtypeWarning: Columns (109,110) have mixed types. Specify dtype option on import or set low_memory=False.\n",
      "  data = pd.read_csv(f'/Users/charlesmiller/Documents/model_tester_data/CDLOSE/2018-01-01_2023-12-23_validationTR15.csv')\n"
     ]
    },
    {
     "name": "stdout",
     "output_type": "stream",
     "text": [
      "label\n",
      "1    63035\n",
      "0    51731\n",
      "Name: count, dtype: int64\n",
      "140 116 107 87\n",
      "{'model_name': 'CDLOSE:TSSIM1:1_TL15-EXP_custHypTP0.55', 'deployment_date': '2023-02-06', 'algorithm_type': 'xgboost', 'dataset': 'TSSIM1:1_TL15-EXP_custHypTP0.55', 'TP': 140, 'TPpct': Decimal('0'), 'FP': 116, 'FPpct': Decimal('0'), 'TN': 107, 'TNpct': Decimal('0'), 'FN': 87, 'FNpct': Decimal('0'), 'precision_ratio': Decimal('1.206896551724138'), 'evaluation_timeperiod': '2023-02-06_2023-02-10', 'live': False, 'hyperparameters': {\"{'subsample': 0.6, 'num_round': 1000, 'min_child_weight': 10, 'max_depth': 10, 'learning_rate': 0.1, 'gamma': 2, 'colsample_bytree': 1}\"}, 'features': {\"['SPY_diff', 'day_of_week', 'return_vol_5D', 'hour_volume_vol_diff', 'return_vol_240M', 'volume_vol_8H', 'range_vol_diff5', 'return_vol_30M', 'daily_volume_vol_diff30', 'close_diff', 'volume_vol_15M', 'return_vol_10D', 'daily_vol_diff_pct', 'daily_volume_vol_diff_pct30', 'range_vol5MA', 'cmf', 'return_vol_450M', 'hour_volume_vol_diff_pct', 'min_vol_diff', 'price_25DDiff', 'return_vol_3D', 'daily_vol_diff_pct30', 'volume_vol_3D', 'volume_vol_450M', 'close_diff_deviation', 'return_vol_30D', 'close_diff_deviation3', 'return_vol_16H', 'volume_vol_30M', 'rsi', 'threeD_stddev50', 'close_diff5', 'range_vol10MA', 'SPY_5D', 'daily_vol_diff', 'SPY_diff3', 'volume_vol_5D', 'rsi3', 'volume_25DDiff', 'price7']\"}, 'target': '-1.197+three_min_vol', 'feature_importances': \"[{'SPY_diff': 0.024281617}, {'day_of_week': 0.027064595}, {'return_vol_5D': 0.024062136}, {'hour_volume_vol_diff': 0.022351077}, {'return_vol_240M': 0.023597628}, {'volume_vol_8H': 0.022417728}, {'range_vol_diff5': 0.024292562}, {'return_vol_30M': 0.025886303}, {'daily_volume_vol_diff30': 0.02395709}, {'close_diff': 0.025604626}, {'volume_vol_15M': 0.019099487}, {'return_vol_10D': 0.032598488}, {'daily_vol_diff_pct': 0.027378598}, {'daily_volume_vol_diff_pct30': 0.022732371}, {'range_vol5MA': 0.02491868}, {'cmf': 0.024934977}, {'return_vol_450M': 0.026971374}, {'hour_volume_vol_diff_pct': 0.0228432}, {'min_vol_diff': 0.01965143}, {'price_25DDiff': 0.025589392}, {'return_vol_3D': 0.023308253}, {'daily_vol_diff_pct30': 0.025958905}, {'volume_vol_3D': 0.022211267}, {'volume_vol_450M': 0.023702458}, {'close_diff_deviation': 0.025662655}, {'return_vol_30D': 0.02572853}, {'close_diff_deviation3': 0.025722006}, {'return_vol_16H': 0.023500286}, {'volume_vol_30M': 0.019283265}, {'rsi': 0.025780234}, {'threeD_stddev50': 0.02632474}, {'close_diff5': 0.025951669}, {'range_vol10MA': 0.025479775}, {'SPY_5D': 0.028336259}, {'daily_vol_diff': 0.04070349}, {'SPY_diff3': 0.023670357}, {'volume_vol_5D': 0.022549987}, {'rsi3': 0.029309938}, {'volume_25DDiff': 0.021750443}, {'price7': 0.024832131}]\"}\n",
      "{'deployment_date': datetime.datetime(2023, 2, 13, 0, 0), 'dataset_end': datetime.datetime(2023, 2, 3, 0, 0), 'dataset_start': datetime.datetime(2018, 1, 1, 0, 0)}\n"
     ]
    },
    {
     "name": "stderr",
     "output_type": "stream",
     "text": [
      "/var/folders/tq/_9q_lv1s2bndbr3tzzn08x4r0000gn/T/ipykernel_72521/4205899279.py:68: DtypeWarning: Columns (109,110) have mixed types. Specify dtype option on import or set low_memory=False.\n",
      "  data = pd.read_csv(f'/Users/charlesmiller/Documents/model_tester_data/CDLOSE/2018-01-01_2023-12-23_validationTR15.csv')\n"
     ]
    },
    {
     "name": "stdout",
     "output_type": "stream",
     "text": [
      "label\n",
      "1    63290\n",
      "0    51926\n",
      "Name: count, dtype: int64\n",
      "179 76 74 121\n",
      "{'model_name': 'CDLOSE:TSSIM1:1_TL15-EXP_custHypTP0.55', 'deployment_date': '2023-02-13', 'algorithm_type': 'xgboost', 'dataset': 'TSSIM1:1_TL15-EXP_custHypTP0.55', 'TP': 179, 'TPpct': Decimal('0'), 'FP': 76, 'FPpct': Decimal('0'), 'TN': 74, 'TNpct': Decimal('0'), 'FN': 121, 'FNpct': Decimal('0'), 'precision_ratio': Decimal('2.3552631578947367'), 'evaluation_timeperiod': '2023-02-13_2023-02-17', 'live': False, 'hyperparameters': {\"{'subsample': 0.6, 'num_round': 1000, 'min_child_weight': 10, 'max_depth': 10, 'learning_rate': 0.1, 'gamma': 2, 'colsample_bytree': 1}\"}, 'features': {\"['SPY_diff', 'day_of_week', 'return_vol_5D', 'hour_volume_vol_diff', 'return_vol_240M', 'volume_vol_8H', 'range_vol_diff5', 'return_vol_30M', 'daily_volume_vol_diff30', 'close_diff', 'volume_vol_15M', 'return_vol_10D', 'daily_vol_diff_pct', 'daily_volume_vol_diff_pct30', 'range_vol5MA', 'cmf', 'return_vol_450M', 'hour_volume_vol_diff_pct', 'min_vol_diff', 'price_25DDiff', 'return_vol_3D', 'daily_vol_diff_pct30', 'volume_vol_3D', 'volume_vol_450M', 'close_diff_deviation', 'return_vol_30D', 'close_diff_deviation3', 'return_vol_16H', 'volume_vol_30M', 'rsi', 'threeD_stddev50', 'close_diff5', 'range_vol10MA', 'SPY_5D', 'daily_vol_diff', 'SPY_diff3', 'volume_vol_5D', 'rsi3', 'volume_25DDiff', 'price7']\"}, 'target': '-1.198+three_min_vol', 'feature_importances': \"[{'SPY_diff': 0.023438761}, {'day_of_week': 0.027756883}, {'return_vol_5D': 0.023618963}, {'hour_volume_vol_diff': 0.023573894}, {'return_vol_240M': 0.022570485}, {'volume_vol_8H': 0.022999847}, {'range_vol_diff5': 0.024983574}, {'return_vol_30M': 0.025393138}, {'daily_volume_vol_diff30': 0.023567626}, {'close_diff': 0.024546146}, {'volume_vol_15M': 0.01899426}, {'return_vol_10D': 0.032064382}, {'daily_vol_diff_pct': 0.027332075}, {'daily_volume_vol_diff_pct30': 0.022859836}, {'range_vol5MA': 0.026062949}, {'cmf': 0.02477445}, {'return_vol_450M': 0.027039362}, {'hour_volume_vol_diff_pct': 0.022873892}, {'min_vol_diff': 0.019299112}, {'price_25DDiff': 0.025714505}, {'return_vol_3D': 0.023057329}, {'daily_vol_diff_pct30': 0.026273876}, {'volume_vol_3D': 0.02330536}, {'volume_vol_450M': 0.023427805}, {'close_diff_deviation': 0.02518469}, {'return_vol_30D': 0.025774367}, {'close_diff_deviation3': 0.024682365}, {'return_vol_16H': 0.02482624}, {'volume_vol_30M': 0.01920831}, {'rsi': 0.025142059}, {'threeD_stddev50': 0.02642275}, {'close_diff5': 0.026183492}, {'range_vol10MA': 0.027705478}, {'SPY_5D': 0.028140532}, {'daily_vol_diff': 0.040747017}, {'SPY_diff3': 0.023333099}, {'volume_vol_5D': 0.022291655}, {'rsi3': 0.029013561}, {'volume_25DDiff': 0.021700231}, {'price7': 0.024115656}]\"}\n",
      "{'deployment_date': datetime.datetime(2023, 2, 20, 0, 0), 'dataset_end': datetime.datetime(2023, 2, 10, 0, 0), 'dataset_start': datetime.datetime(2018, 1, 1, 0, 0)}\n"
     ]
    },
    {
     "name": "stderr",
     "output_type": "stream",
     "text": [
      "/var/folders/tq/_9q_lv1s2bndbr3tzzn08x4r0000gn/T/ipykernel_72521/4205899279.py:68: DtypeWarning: Columns (109,110) have mixed types. Specify dtype option on import or set low_memory=False.\n",
      "  data = pd.read_csv(f'/Users/charlesmiller/Documents/model_tester_data/CDLOSE/2018-01-01_2023-12-23_validationTR15.csv')\n"
     ]
    },
    {
     "name": "stdout",
     "output_type": "stream",
     "text": [
      "label\n",
      "1    63521\n",
      "0    52145\n",
      "Name: count, dtype: int64\n",
      "151 113 61 35\n",
      "{'model_name': 'CDLOSE:TSSIM1:1_TL15-EXP_custHypTP0.55', 'deployment_date': '2023-02-20', 'algorithm_type': 'xgboost', 'dataset': 'TSSIM1:1_TL15-EXP_custHypTP0.55', 'TP': 151, 'TPpct': Decimal('0'), 'FP': 113, 'FPpct': Decimal('0'), 'TN': 61, 'TNpct': Decimal('0'), 'FN': 35, 'FNpct': Decimal('0'), 'precision_ratio': Decimal('1.336283185840708'), 'evaluation_timeperiod': '2023-02-20_2023-02-24', 'live': False, 'hyperparameters': {\"{'subsample': 0.6, 'num_round': 1000, 'min_child_weight': 10, 'max_depth': 10, 'learning_rate': 0.1, 'gamma': 2, 'colsample_bytree': 1}\"}, 'features': {\"['SPY_diff', 'day_of_week', 'return_vol_5D', 'hour_volume_vol_diff', 'return_vol_240M', 'volume_vol_8H', 'range_vol_diff5', 'return_vol_30M', 'daily_volume_vol_diff30', 'close_diff', 'volume_vol_15M', 'return_vol_10D', 'daily_vol_diff_pct', 'daily_volume_vol_diff_pct30', 'range_vol5MA', 'cmf', 'return_vol_450M', 'hour_volume_vol_diff_pct', 'min_vol_diff', 'price_25DDiff', 'return_vol_3D', 'daily_vol_diff_pct30', 'volume_vol_3D', 'volume_vol_450M', 'close_diff_deviation', 'return_vol_30D', 'close_diff_deviation3', 'return_vol_16H', 'volume_vol_30M', 'rsi', 'threeD_stddev50', 'close_diff5', 'range_vol10MA', 'SPY_5D', 'daily_vol_diff', 'SPY_diff3', 'volume_vol_5D', 'rsi3', 'volume_25DDiff', 'price7']\"}, 'target': '-1.197+three_min_vol', 'feature_importances': \"[{'SPY_diff': 0.023356905}, {'day_of_week': 0.027153805}, {'return_vol_5D': 0.02429818}, {'hour_volume_vol_diff': 0.023306785}, {'return_vol_240M': 0.024803495}, {'volume_vol_8H': 0.023239924}, {'range_vol_diff5': 0.023897788}, {'return_vol_30M': 0.026064118}, {'daily_volume_vol_diff30': 0.022380022}, {'close_diff': 0.02478417}, {'volume_vol_15M': 0.01831335}, {'return_vol_10D': 0.03287393}, {'daily_vol_diff_pct': 0.026739098}, {'daily_volume_vol_diff_pct30': 0.022886477}, {'range_vol5MA': 0.0257764}, {'cmf': 0.023996491}, {'return_vol_450M': 0.026730714}, {'hour_volume_vol_diff_pct': 0.022918362}, {'min_vol_diff': 0.01944868}, {'price_25DDiff': 0.025851859}, {'return_vol_3D': 0.022609992}, {'daily_vol_diff_pct30': 0.026240895}, {'volume_vol_3D': 0.02335397}, {'volume_vol_450M': 0.023502154}, {'close_diff_deviation': 0.024757706}, {'return_vol_30D': 0.026025113}, {'close_diff_deviation3': 0.024717899}, {'return_vol_16H': 0.02448314}, {'volume_vol_30M': 0.01955778}, {'rsi': 0.025980176}, {'threeD_stddev50': 0.02635811}, {'close_diff5': 0.026383856}, {'range_vol10MA': 0.026526725}, {'SPY_5D': 0.027785944}, {'daily_vol_diff': 0.040242344}, {'SPY_diff3': 0.023867255}, {'volume_vol_5D': 0.02270447}, {'rsi3': 0.029710835}, {'volume_25DDiff': 0.021949526}, {'price7': 0.0244215}]\"}\n",
      "{'deployment_date': datetime.datetime(2023, 2, 27, 0, 0), 'dataset_end': datetime.datetime(2023, 2, 17, 0, 0), 'dataset_start': datetime.datetime(2018, 1, 1, 0, 0)}\n"
     ]
    },
    {
     "name": "stderr",
     "output_type": "stream",
     "text": [
      "/var/folders/tq/_9q_lv1s2bndbr3tzzn08x4r0000gn/T/ipykernel_72521/4205899279.py:68: DtypeWarning: Columns (109,110) have mixed types. Specify dtype option on import or set low_memory=False.\n",
      "  data = pd.read_csv(f'/Users/charlesmiller/Documents/model_tester_data/CDLOSE/2018-01-01_2023-12-23_validationTR15.csv')\n"
     ]
    },
    {
     "name": "stdout",
     "output_type": "stream",
     "text": [
      "label\n",
      "1    63778\n",
      "0    52338\n",
      "Name: count, dtype: int64\n",
      "157 164 74 55\n",
      "{'model_name': 'CDLOSE:TSSIM1:1_TL15-EXP_custHypTP0.55', 'deployment_date': '2023-02-27', 'algorithm_type': 'xgboost', 'dataset': 'TSSIM1:1_TL15-EXP_custHypTP0.55', 'TP': 157, 'TPpct': Decimal('0'), 'FP': 164, 'FPpct': Decimal('0'), 'TN': 74, 'TNpct': Decimal('0'), 'FN': 55, 'FNpct': Decimal('0'), 'precision_ratio': Decimal('0.9573170731707317'), 'evaluation_timeperiod': '2023-02-27_2023-03-03', 'live': False, 'hyperparameters': {\"{'subsample': 0.6, 'num_round': 1000, 'min_child_weight': 10, 'max_depth': 10, 'learning_rate': 0.1, 'gamma': 2, 'colsample_bytree': 1}\"}, 'features': {\"['SPY_diff', 'day_of_week', 'return_vol_5D', 'hour_volume_vol_diff', 'return_vol_240M', 'volume_vol_8H', 'range_vol_diff5', 'return_vol_30M', 'daily_volume_vol_diff30', 'close_diff', 'volume_vol_15M', 'return_vol_10D', 'daily_vol_diff_pct', 'daily_volume_vol_diff_pct30', 'range_vol5MA', 'cmf', 'return_vol_450M', 'hour_volume_vol_diff_pct', 'min_vol_diff', 'price_25DDiff', 'return_vol_3D', 'daily_vol_diff_pct30', 'volume_vol_3D', 'volume_vol_450M', 'close_diff_deviation', 'return_vol_30D', 'close_diff_deviation3', 'return_vol_16H', 'volume_vol_30M', 'rsi', 'threeD_stddev50', 'close_diff5', 'range_vol10MA', 'SPY_5D', 'daily_vol_diff', 'SPY_diff3', 'volume_vol_5D', 'rsi3', 'volume_25DDiff', 'price7']\"}, 'target': '-1.199+three_min_vol', 'feature_importances': \"[{'SPY_diff': 0.024384601}, {'day_of_week': 0.027585777}, {'return_vol_5D': 0.024361458}, {'hour_volume_vol_diff': 0.022895498}, {'return_vol_240M': 0.024240343}, {'volume_vol_8H': 0.022356894}, {'range_vol_diff5': 0.024726907}, {'return_vol_30M': 0.026135882}, {'daily_volume_vol_diff30': 0.023636023}, {'close_diff': 0.024645371}, {'volume_vol_15M': 0.019664317}, {'return_vol_10D': 0.032250166}, {'daily_vol_diff_pct': 0.026934663}, {'daily_volume_vol_diff_pct30': 0.022166526}, {'range_vol5MA': 0.025992537}, {'cmf': 0.02461583}, {'return_vol_450M': 0.026548328}, {'hour_volume_vol_diff_pct': 0.023737118}, {'min_vol_diff': 0.01989017}, {'price_25DDiff': 0.024706211}, {'return_vol_3D': 0.02223338}, {'daily_vol_diff_pct30': 0.025357956}, {'volume_vol_3D': 0.022267742}, {'volume_vol_450M': 0.023673905}, {'close_diff_deviation': 0.024618817}, {'return_vol_30D': 0.026965588}, {'close_diff_deviation3': 0.025331153}, {'return_vol_16H': 0.024388429}, {'volume_vol_30M': 0.019303767}, {'rsi': 0.0259011}, {'threeD_stddev50': 0.025761172}, {'close_diff5': 0.026132485}, {'range_vol10MA': 0.02705858}, {'SPY_5D': 0.02781007}, {'daily_vol_diff': 0.03953818}, {'SPY_diff3': 0.02431026}, {'volume_vol_5D': 0.022715503}, {'rsi3': 0.028584344}, {'volume_25DDiff': 0.02197347}, {'price7': 0.024599522}]\"}\n",
      "{'deployment_date': datetime.datetime(2023, 3, 6, 0, 0), 'dataset_end': datetime.datetime(2023, 2, 24, 0, 0), 'dataset_start': datetime.datetime(2018, 1, 1, 0, 0)}\n"
     ]
    },
    {
     "name": "stderr",
     "output_type": "stream",
     "text": [
      "/var/folders/tq/_9q_lv1s2bndbr3tzzn08x4r0000gn/T/ipykernel_72521/4205899279.py:68: DtypeWarning: Columns (109,110) have mixed types. Specify dtype option on import or set low_memory=False.\n",
      "  data = pd.read_csv(f'/Users/charlesmiller/Documents/model_tester_data/CDLOSE/2018-01-01_2023-12-23_validationTR15.csv')\n"
     ]
    },
    {
     "name": "stdout",
     "output_type": "stream",
     "text": [
      "label\n",
      "1    63980\n",
      "0    52496\n",
      "Name: count, dtype: int64\n",
      "334 11 7 98\n",
      "{'model_name': 'CDLOSE:TSSIM1:1_TL15-EXP_custHypTP0.55', 'deployment_date': '2023-03-06', 'algorithm_type': 'xgboost', 'dataset': 'TSSIM1:1_TL15-EXP_custHypTP0.55', 'TP': 334, 'TPpct': Decimal('0'), 'FP': 11, 'FPpct': Decimal('0'), 'TN': 7, 'TNpct': Decimal('0'), 'FN': 98, 'FNpct': Decimal('0'), 'precision_ratio': Decimal('30.363636363636363'), 'evaluation_timeperiod': '2023-03-06_2023-03-10', 'live': False, 'hyperparameters': {\"{'subsample': 0.6, 'num_round': 1000, 'min_child_weight': 10, 'max_depth': 10, 'learning_rate': 0.1, 'gamma': 2, 'colsample_bytree': 1}\"}, 'features': {\"['SPY_diff', 'day_of_week', 'return_vol_5D', 'hour_volume_vol_diff', 'return_vol_240M', 'volume_vol_8H', 'range_vol_diff5', 'return_vol_30M', 'daily_volume_vol_diff30', 'close_diff', 'volume_vol_15M', 'return_vol_10D', 'daily_vol_diff_pct', 'daily_volume_vol_diff_pct30', 'range_vol5MA', 'cmf', 'return_vol_450M', 'hour_volume_vol_diff_pct', 'min_vol_diff', 'price_25DDiff', 'return_vol_3D', 'daily_vol_diff_pct30', 'volume_vol_3D', 'volume_vol_450M', 'close_diff_deviation', 'return_vol_30D', 'close_diff_deviation3', 'return_vol_16H', 'volume_vol_30M', 'rsi', 'threeD_stddev50', 'close_diff5', 'range_vol10MA', 'SPY_5D', 'daily_vol_diff', 'SPY_diff3', 'volume_vol_5D', 'rsi3', 'volume_25DDiff', 'price7']\"}, 'target': '-1.199+three_min_vol', 'feature_importances': \"[{'SPY_diff': 0.024322331}, {'day_of_week': 0.027276607}, {'return_vol_5D': 0.024690518}, {'hour_volume_vol_diff': 0.02228581}, {'return_vol_240M': 0.02275736}, {'volume_vol_8H': 0.02276326}, {'range_vol_diff5': 0.02481042}, {'return_vol_30M': 0.024770822}, {'daily_volume_vol_diff30': 0.02335001}, {'close_diff': 0.024805065}, {'volume_vol_15M': 0.019403473}, {'return_vol_10D': 0.032771252}, {'daily_vol_diff_pct': 0.027548058}, {'daily_volume_vol_diff_pct30': 0.02317953}, {'range_vol5MA': 0.025463786}, {'cmf': 0.024990445}, {'return_vol_450M': 0.026954582}, {'hour_volume_vol_diff_pct': 0.023465645}, {'min_vol_diff': 0.020195939}, {'price_25DDiff': 0.02485275}, {'return_vol_3D': 0.02367086}, {'daily_vol_diff_pct30': 0.025190245}, {'volume_vol_3D': 0.021893825}, {'volume_vol_450M': 0.0238615}, {'close_diff_deviation': 0.024370711}, {'return_vol_30D': 0.026134402}, {'close_diff_deviation3': 0.02472095}, {'return_vol_16H': 0.025697112}, {'volume_vol_30M': 0.019648718}, {'rsi': 0.025636086}, {'threeD_stddev50': 0.026827682}, {'close_diff5': 0.026604945}, {'range_vol10MA': 0.026032275}, {'SPY_5D': 0.02757417}, {'daily_vol_diff': 0.040536787}, {'SPY_diff3': 0.02339398}, {'volume_vol_5D': 0.022794342}, {'rsi3': 0.029088542}, {'volume_25DDiff': 0.021628221}, {'price7': 0.024037013}]\"}\n",
      "{'deployment_date': datetime.datetime(2023, 3, 13, 0, 0), 'dataset_end': datetime.datetime(2023, 3, 3, 0, 0), 'dataset_start': datetime.datetime(2018, 1, 1, 0, 0)}\n"
     ]
    },
    {
     "name": "stderr",
     "output_type": "stream",
     "text": [
      "/var/folders/tq/_9q_lv1s2bndbr3tzzn08x4r0000gn/T/ipykernel_72521/4205899279.py:68: DtypeWarning: Columns (109,110) have mixed types. Specify dtype option on import or set low_memory=False.\n",
      "  data = pd.read_csv(f'/Users/charlesmiller/Documents/model_tester_data/CDLOSE/2018-01-01_2023-12-23_validationTR15.csv')\n"
     ]
    },
    {
     "name": "stdout",
     "output_type": "stream",
     "text": [
      "label\n",
      "1    64228\n",
      "0    52698\n",
      "Name: count, dtype: int64\n",
      "177 139 87 47\n",
      "{'model_name': 'CDLOSE:TSSIM1:1_TL15-EXP_custHypTP0.55', 'deployment_date': '2023-03-13', 'algorithm_type': 'xgboost', 'dataset': 'TSSIM1:1_TL15-EXP_custHypTP0.55', 'TP': 177, 'TPpct': Decimal('0'), 'FP': 139, 'FPpct': Decimal('0'), 'TN': 87, 'TNpct': Decimal('0'), 'FN': 47, 'FNpct': Decimal('0'), 'precision_ratio': Decimal('1.2733812949640289'), 'evaluation_timeperiod': '2023-03-13_2023-03-17', 'live': False, 'hyperparameters': {\"{'subsample': 0.6, 'num_round': 1000, 'min_child_weight': 10, 'max_depth': 10, 'learning_rate': 0.1, 'gamma': 2, 'colsample_bytree': 1}\"}, 'features': {\"['SPY_diff', 'day_of_week', 'return_vol_5D', 'hour_volume_vol_diff', 'return_vol_240M', 'volume_vol_8H', 'range_vol_diff5', 'return_vol_30M', 'daily_volume_vol_diff30', 'close_diff', 'volume_vol_15M', 'return_vol_10D', 'daily_vol_diff_pct', 'daily_volume_vol_diff_pct30', 'range_vol5MA', 'cmf', 'return_vol_450M', 'hour_volume_vol_diff_pct', 'min_vol_diff', 'price_25DDiff', 'return_vol_3D', 'daily_vol_diff_pct30', 'volume_vol_3D', 'volume_vol_450M', 'close_diff_deviation', 'return_vol_30D', 'close_diff_deviation3', 'return_vol_16H', 'volume_vol_30M', 'rsi', 'threeD_stddev50', 'close_diff5', 'range_vol10MA', 'SPY_5D', 'daily_vol_diff', 'SPY_diff3', 'volume_vol_5D', 'rsi3', 'volume_25DDiff', 'price7']\"}, 'target': '-1.2+three_min_vol', 'feature_importances': \"[{'SPY_diff': 0.023653943}, {'day_of_week': 0.026847642}, {'return_vol_5D': 0.024494266}, {'hour_volume_vol_diff': 0.022762083}, {'return_vol_240M': 0.023422405}, {'volume_vol_8H': 0.023258781}, {'range_vol_diff5': 0.024972983}, {'return_vol_30M': 0.025740616}, {'daily_volume_vol_diff30': 0.02160082}, {'close_diff': 0.025446488}, {'volume_vol_15M': 0.019156728}, {'return_vol_10D': 0.033201635}, {'daily_vol_diff_pct': 0.027457189}, {'daily_volume_vol_diff_pct30': 0.023225855}, {'range_vol5MA': 0.025246266}, {'cmf': 0.023941223}, {'return_vol_450M': 0.027104966}, {'hour_volume_vol_diff_pct': 0.02378825}, {'min_vol_diff': 0.019736242}, {'price_25DDiff': 0.025449222}, {'return_vol_3D': 0.02321532}, {'daily_vol_diff_pct30': 0.025103325}, {'volume_vol_3D': 0.021664198}, {'volume_vol_450M': 0.023673695}, {'close_diff_deviation': 0.025119755}, {'return_vol_30D': 0.026666852}, {'close_diff_deviation3': 0.024803566}, {'return_vol_16H': 0.024753308}, {'volume_vol_30M': 0.020198107}, {'rsi': 0.024467338}, {'threeD_stddev50': 0.0259182}, {'close_diff5': 0.026107207}, {'range_vol10MA': 0.027427737}, {'SPY_5D': 0.02782406}, {'daily_vol_diff': 0.041572545}, {'SPY_diff3': 0.023495072}, {'volume_vol_5D': 0.02264172}, {'rsi3': 0.028365565}, {'volume_25DDiff': 0.022043401}, {'price7': 0.024431482}]\"}\n",
      "{'deployment_date': datetime.datetime(2023, 3, 20, 0, 0), 'dataset_end': datetime.datetime(2023, 3, 10, 0, 0), 'dataset_start': datetime.datetime(2018, 1, 1, 0, 0)}\n"
     ]
    },
    {
     "name": "stderr",
     "output_type": "stream",
     "text": [
      "/var/folders/tq/_9q_lv1s2bndbr3tzzn08x4r0000gn/T/ipykernel_72521/4205899279.py:68: DtypeWarning: Columns (109,110) have mixed types. Specify dtype option on import or set low_memory=False.\n",
      "  data = pd.read_csv(f'/Users/charlesmiller/Documents/model_tester_data/CDLOSE/2018-01-01_2023-12-23_validationTR15.csv')\n"
     ]
    },
    {
     "name": "stdout",
     "output_type": "stream",
     "text": [
      "label\n",
      "1    64470\n",
      "0    52906\n",
      "Name: count, dtype: int64\n",
      "142 130 105 73\n",
      "{'model_name': 'CDLOSE:TSSIM1:1_TL15-EXP_custHypTP0.55', 'deployment_date': '2023-03-20', 'algorithm_type': 'xgboost', 'dataset': 'TSSIM1:1_TL15-EXP_custHypTP0.55', 'TP': 142, 'TPpct': Decimal('0'), 'FP': 130, 'FPpct': Decimal('0'), 'TN': 105, 'TNpct': Decimal('0'), 'FN': 73, 'FNpct': Decimal('0'), 'precision_ratio': Decimal('1.0923076923076922'), 'evaluation_timeperiod': '2023-03-20_2023-03-24', 'live': False, 'hyperparameters': {\"{'subsample': 0.6, 'num_round': 1000, 'min_child_weight': 10, 'max_depth': 10, 'learning_rate': 0.1, 'gamma': 2, 'colsample_bytree': 1}\"}, 'features': {\"['SPY_diff', 'day_of_week', 'return_vol_5D', 'hour_volume_vol_diff', 'return_vol_240M', 'volume_vol_8H', 'range_vol_diff5', 'return_vol_30M', 'daily_volume_vol_diff30', 'close_diff', 'volume_vol_15M', 'return_vol_10D', 'daily_vol_diff_pct', 'daily_volume_vol_diff_pct30', 'range_vol5MA', 'cmf', 'return_vol_450M', 'hour_volume_vol_diff_pct', 'min_vol_diff', 'price_25DDiff', 'return_vol_3D', 'daily_vol_diff_pct30', 'volume_vol_3D', 'volume_vol_450M', 'close_diff_deviation', 'return_vol_30D', 'close_diff_deviation3', 'return_vol_16H', 'volume_vol_30M', 'rsi', 'threeD_stddev50', 'close_diff5', 'range_vol10MA', 'SPY_5D', 'daily_vol_diff', 'SPY_diff3', 'volume_vol_5D', 'rsi3', 'volume_25DDiff', 'price7']\"}, 'target': '-1.207+three_min_vol', 'feature_importances': \"[{'SPY_diff': 0.023142679}, {'day_of_week': 0.027613085}, {'return_vol_5D': 0.024256099}, {'hour_volume_vol_diff': 0.022689821}, {'return_vol_240M': 0.022247106}, {'volume_vol_8H': 0.023108881}, {'range_vol_diff5': 0.025036892}, {'return_vol_30M': 0.025878506}, {'daily_volume_vol_diff30': 0.02391663}, {'close_diff': 0.024431618}, {'volume_vol_15M': 0.019471146}, {'return_vol_10D': 0.03273097}, {'daily_vol_diff_pct': 0.027648713}, {'daily_volume_vol_diff_pct30': 0.02225968}, {'range_vol5MA': 0.024809398}, {'cmf': 0.024945362}, {'return_vol_450M': 0.027477298}, {'hour_volume_vol_diff_pct': 0.023225715}, {'min_vol_diff': 0.019358851}, {'price_25DDiff': 0.025022803}, {'return_vol_3D': 0.022234378}, {'daily_vol_diff_pct30': 0.02623741}, {'volume_vol_3D': 0.022874838}, {'volume_vol_450M': 0.023447705}, {'close_diff_deviation': 0.024937524}, {'return_vol_30D': 0.026529027}, {'close_diff_deviation3': 0.024850398}, {'return_vol_16H': 0.025137719}, {'volume_vol_30M': 0.018735085}, {'rsi': 0.025646016}, {'threeD_stddev50': 0.026392324}, {'close_diff5': 0.026513686}, {'range_vol10MA': 0.026544997}, {'SPY_5D': 0.027427834}, {'daily_vol_diff': 0.04247459}, {'SPY_diff3': 0.023105696}, {'volume_vol_5D': 0.022178069}, {'rsi3': 0.028727606}, {'volume_25DDiff': 0.022542275}, {'price7': 0.02419159}]\"}\n",
      "{'deployment_date': datetime.datetime(2023, 3, 27, 0, 0), 'dataset_end': datetime.datetime(2023, 3, 17, 0, 0), 'dataset_start': datetime.datetime(2018, 1, 1, 0, 0)}\n"
     ]
    },
    {
     "name": "stderr",
     "output_type": "stream",
     "text": [
      "/var/folders/tq/_9q_lv1s2bndbr3tzzn08x4r0000gn/T/ipykernel_72521/4205899279.py:68: DtypeWarning: Columns (109,110) have mixed types. Specify dtype option on import or set low_memory=False.\n",
      "  data = pd.read_csv(f'/Users/charlesmiller/Documents/model_tester_data/CDLOSE/2018-01-01_2023-12-23_validationTR15.csv')\n"
     ]
    },
    {
     "name": "stdout",
     "output_type": "stream",
     "text": [
      "label\n",
      "1    64730\n",
      "0    53096\n",
      "Name: count, dtype: int64\n",
      "44 143 193 70\n",
      "{'model_name': 'CDLOSE:TSSIM1:1_TL15-EXP_custHypTP0.55', 'deployment_date': '2023-03-27', 'algorithm_type': 'xgboost', 'dataset': 'TSSIM1:1_TL15-EXP_custHypTP0.55', 'TP': 44, 'TPpct': Decimal('0'), 'FP': 143, 'FPpct': Decimal('0'), 'TN': 193, 'TNpct': Decimal('0'), 'FN': 70, 'FNpct': Decimal('0'), 'precision_ratio': Decimal('0.3076923076923077'), 'evaluation_timeperiod': '2023-03-27_2023-03-31', 'live': False, 'hyperparameters': {\"{'subsample': 0.6, 'num_round': 1000, 'min_child_weight': 10, 'max_depth': 10, 'learning_rate': 0.1, 'gamma': 2, 'colsample_bytree': 1}\"}, 'features': {\"['SPY_diff', 'day_of_week', 'return_vol_5D', 'hour_volume_vol_diff', 'return_vol_240M', 'volume_vol_8H', 'range_vol_diff5', 'return_vol_30M', 'daily_volume_vol_diff30', 'close_diff', 'volume_vol_15M', 'return_vol_10D', 'daily_vol_diff_pct', 'daily_volume_vol_diff_pct30', 'range_vol5MA', 'cmf', 'return_vol_450M', 'hour_volume_vol_diff_pct', 'min_vol_diff', 'price_25DDiff', 'return_vol_3D', 'daily_vol_diff_pct30', 'volume_vol_3D', 'volume_vol_450M', 'close_diff_deviation', 'return_vol_30D', 'close_diff_deviation3', 'return_vol_16H', 'volume_vol_30M', 'rsi', 'threeD_stddev50', 'close_diff5', 'range_vol10MA', 'SPY_5D', 'daily_vol_diff', 'SPY_diff3', 'volume_vol_5D', 'rsi3', 'volume_25DDiff', 'price7']\"}, 'target': '-1.206+three_min_vol', 'feature_importances': \"[{'SPY_diff': 0.02413683}, {'day_of_week': 0.027709814}, {'return_vol_5D': 0.024215205}, {'hour_volume_vol_diff': 0.022695059}, {'return_vol_240M': 0.023864252}, {'volume_vol_8H': 0.022270361}, {'range_vol_diff5': 0.025972277}, {'return_vol_30M': 0.02651765}, {'daily_volume_vol_diff30': 0.022824477}, {'close_diff': 0.024232335}, {'volume_vol_15M': 0.019183867}, {'return_vol_10D': 0.032581154}, {'daily_vol_diff_pct': 0.026156308}, {'daily_volume_vol_diff_pct30': 0.023085799}, {'range_vol5MA': 0.025992556}, {'cmf': 0.024915043}, {'return_vol_450M': 0.02664057}, {'hour_volume_vol_diff_pct': 0.02294596}, {'min_vol_diff': 0.019799033}, {'price_25DDiff': 0.02469146}, {'return_vol_3D': 0.023822961}, {'daily_vol_diff_pct30': 0.025744442}, {'volume_vol_3D': 0.021090914}, {'volume_vol_450M': 0.023652965}, {'close_diff_deviation': 0.02432414}, {'return_vol_30D': 0.026544984}, {'close_diff_deviation3': 0.024948215}, {'return_vol_16H': 0.023894854}, {'volume_vol_30M': 0.02035708}, {'rsi': 0.024819093}, {'threeD_stddev50': 0.0254069}, {'close_diff5': 0.025530636}, {'range_vol10MA': 0.027868317}, {'SPY_5D': 0.02839443}, {'daily_vol_diff': 0.041870866}, {'SPY_diff3': 0.023053143}, {'volume_vol_5D': 0.023125168}, {'rsi3': 0.028624801}, {'volume_25DDiff': 0.022349263}, {'price7': 0.02414682}]\"}\n",
      "{'deployment_date': datetime.datetime(2023, 4, 3, 0, 0), 'dataset_end': datetime.datetime(2023, 3, 24, 0, 0), 'dataset_start': datetime.datetime(2018, 1, 1, 0, 0)}\n"
     ]
    },
    {
     "name": "stderr",
     "output_type": "stream",
     "text": [
      "/var/folders/tq/_9q_lv1s2bndbr3tzzn08x4r0000gn/T/ipykernel_72521/4205899279.py:68: DtypeWarning: Columns (109,110) have mixed types. Specify dtype option on import or set low_memory=False.\n",
      "  data = pd.read_csv(f'/Users/charlesmiller/Documents/model_tester_data/CDLOSE/2018-01-01_2023-12-23_validationTR15.csv')\n"
     ]
    },
    {
     "name": "stdout",
     "output_type": "stream",
     "text": [
      "label\n",
      "1    64975\n",
      "0    53301\n",
      "Name: count, dtype: int64\n",
      "128 98 78 56\n",
      "{'model_name': 'CDLOSE:TSSIM1:1_TL15-EXP_custHypTP0.55', 'deployment_date': '2023-04-03', 'algorithm_type': 'xgboost', 'dataset': 'TSSIM1:1_TL15-EXP_custHypTP0.55', 'TP': 128, 'TPpct': Decimal('0'), 'FP': 98, 'FPpct': Decimal('0'), 'TN': 78, 'TNpct': Decimal('0'), 'FN': 56, 'FNpct': Decimal('0'), 'precision_ratio': Decimal('1.3061224489795917'), 'evaluation_timeperiod': '2023-04-03_2023-04-07', 'live': False, 'hyperparameters': {\"{'subsample': 0.6, 'num_round': 1000, 'min_child_weight': 10, 'max_depth': 10, 'learning_rate': 0.1, 'gamma': 2, 'colsample_bytree': 1}\"}, 'features': {\"['SPY_diff', 'day_of_week', 'return_vol_5D', 'hour_volume_vol_diff', 'return_vol_240M', 'volume_vol_8H', 'range_vol_diff5', 'return_vol_30M', 'daily_volume_vol_diff30', 'close_diff', 'volume_vol_15M', 'return_vol_10D', 'daily_vol_diff_pct', 'daily_volume_vol_diff_pct30', 'range_vol5MA', 'cmf', 'return_vol_450M', 'hour_volume_vol_diff_pct', 'min_vol_diff', 'price_25DDiff', 'return_vol_3D', 'daily_vol_diff_pct30', 'volume_vol_3D', 'volume_vol_450M', 'close_diff_deviation', 'return_vol_30D', 'close_diff_deviation3', 'return_vol_16H', 'volume_vol_30M', 'rsi', 'threeD_stddev50', 'close_diff5', 'range_vol10MA', 'SPY_5D', 'daily_vol_diff', 'SPY_diff3', 'volume_vol_5D', 'rsi3', 'volume_25DDiff', 'price7']\"}, 'target': '-1.205+three_min_vol', 'feature_importances': \"[{'SPY_diff': 0.023971956}, {'day_of_week': 0.026989039}, {'return_vol_5D': 0.024660781}, {'hour_volume_vol_diff': 0.022682726}, {'return_vol_240M': 0.023181058}, {'volume_vol_8H': 0.022710811}, {'range_vol_diff5': 0.025074705}, {'return_vol_30M': 0.025961569}, {'daily_volume_vol_diff30': 0.022815011}, {'close_diff': 0.024616199}, {'volume_vol_15M': 0.01939352}, {'return_vol_10D': 0.033313837}, {'daily_vol_diff_pct': 0.027095968}, {'daily_volume_vol_diff_pct30': 0.022054028}, {'range_vol5MA': 0.02673167}, {'cmf': 0.024145778}, {'return_vol_450M': 0.025708092}, {'hour_volume_vol_diff_pct': 0.023242177}, {'min_vol_diff': 0.019123152}, {'price_25DDiff': 0.024228455}, {'return_vol_3D': 0.023798967}, {'daily_vol_diff_pct30': 0.026509242}, {'volume_vol_3D': 0.022583472}, {'volume_vol_450M': 0.023848537}, {'close_diff_deviation': 0.024124537}, {'return_vol_30D': 0.026556015}, {'close_diff_deviation3': 0.02459524}, {'return_vol_16H': 0.024351139}, {'volume_vol_30M': 0.019924054}, {'rsi': 0.025671823}, {'threeD_stddev50': 0.025921093}, {'close_diff5': 0.025965534}, {'range_vol10MA': 0.026898501}, {'SPY_5D': 0.027689455}, {'daily_vol_diff': 0.04195026}, {'SPY_diff3': 0.023934951}, {'volume_vol_5D': 0.022947641}, {'rsi3': 0.028673613}, {'volume_25DDiff': 0.021947984}, {'price7': 0.024407458}]\"}\n",
      "{'deployment_date': datetime.datetime(2023, 4, 10, 0, 0), 'dataset_end': datetime.datetime(2023, 3, 31, 0, 0), 'dataset_start': datetime.datetime(2018, 1, 1, 0, 0)}\n"
     ]
    },
    {
     "name": "stderr",
     "output_type": "stream",
     "text": [
      "/var/folders/tq/_9q_lv1s2bndbr3tzzn08x4r0000gn/T/ipykernel_72521/4205899279.py:68: DtypeWarning: Columns (109,110) have mixed types. Specify dtype option on import or set low_memory=False.\n",
      "  data = pd.read_csv(f'/Users/charlesmiller/Documents/model_tester_data/CDLOSE/2018-01-01_2023-12-23_validationTR15.csv')\n"
     ]
    },
    {
     "name": "stdout",
     "output_type": "stream",
     "text": [
      "label\n",
      "1    65231\n",
      "0    53495\n",
      "Name: count, dtype: int64\n",
      "145 179 77 49\n",
      "{'model_name': 'CDLOSE:TSSIM1:1_TL15-EXP_custHypTP0.55', 'deployment_date': '2023-04-10', 'algorithm_type': 'xgboost', 'dataset': 'TSSIM1:1_TL15-EXP_custHypTP0.55', 'TP': 145, 'TPpct': Decimal('0'), 'FP': 179, 'FPpct': Decimal('0'), 'TN': 77, 'TNpct': Decimal('0'), 'FN': 49, 'FNpct': Decimal('0'), 'precision_ratio': Decimal('0.8100558659217877'), 'evaluation_timeperiod': '2023-04-10_2023-04-14', 'live': False, 'hyperparameters': {\"{'subsample': 0.6, 'num_round': 1000, 'min_child_weight': 10, 'max_depth': 10, 'learning_rate': 0.1, 'gamma': 2, 'colsample_bytree': 1}\"}, 'features': {\"['SPY_diff', 'day_of_week', 'return_vol_5D', 'hour_volume_vol_diff', 'return_vol_240M', 'volume_vol_8H', 'range_vol_diff5', 'return_vol_30M', 'daily_volume_vol_diff30', 'close_diff', 'volume_vol_15M', 'return_vol_10D', 'daily_vol_diff_pct', 'daily_volume_vol_diff_pct30', 'range_vol5MA', 'cmf', 'return_vol_450M', 'hour_volume_vol_diff_pct', 'min_vol_diff', 'price_25DDiff', 'return_vol_3D', 'daily_vol_diff_pct30', 'volume_vol_3D', 'volume_vol_450M', 'close_diff_deviation', 'return_vol_30D', 'close_diff_deviation3', 'return_vol_16H', 'volume_vol_30M', 'rsi', 'threeD_stddev50', 'close_diff5', 'range_vol10MA', 'SPY_5D', 'daily_vol_diff', 'SPY_diff3', 'volume_vol_5D', 'rsi3', 'volume_25DDiff', 'price7']\"}, 'target': '-1.201+three_min_vol', 'feature_importances': \"[{'SPY_diff': 0.023693081}, {'day_of_week': 0.026559664}, {'return_vol_5D': 0.024725813}, {'hour_volume_vol_diff': 0.022282923}, {'return_vol_240M': 0.023348618}, {'volume_vol_8H': 0.022693234}, {'range_vol_diff5': 0.025045322}, {'return_vol_30M': 0.026296766}, {'daily_volume_vol_diff30': 0.023058245}, {'close_diff': 0.024955874}, {'volume_vol_15M': 0.01907188}, {'return_vol_10D': 0.03264403}, {'daily_vol_diff_pct': 0.027031505}, {'daily_volume_vol_diff_pct30': 0.022925992}, {'range_vol5MA': 0.025129212}, {'cmf': 0.024555717}, {'return_vol_450M': 0.026468126}, {'hour_volume_vol_diff_pct': 0.02280109}, {'min_vol_diff': 0.020283483}, {'price_25DDiff': 0.025477458}, {'return_vol_3D': 0.023955328}, {'daily_vol_diff_pct30': 0.026569081}, {'volume_vol_3D': 0.021915598}, {'volume_vol_450M': 0.023099655}, {'close_diff_deviation': 0.024823308}, {'return_vol_30D': 0.0259609}, {'close_diff_deviation3': 0.02525436}, {'return_vol_16H': 0.0243077}, {'volume_vol_30M': 0.019622589}, {'rsi': 0.024900498}, {'threeD_stddev50': 0.025047448}, {'close_diff5': 0.026438411}, {'range_vol10MA': 0.02624838}, {'SPY_5D': 0.027712269}, {'daily_vol_diff': 0.043610223}, {'SPY_diff3': 0.023609923}, {'volume_vol_5D': 0.022846565}, {'rsi3': 0.028371166}, {'volume_25DDiff': 0.02205182}, {'price7': 0.024606712}]\"}\n",
      "{'deployment_date': datetime.datetime(2023, 4, 17, 0, 0), 'dataset_end': datetime.datetime(2023, 4, 7, 0, 0), 'dataset_start': datetime.datetime(2018, 1, 1, 0, 0)}\n"
     ]
    },
    {
     "name": "stderr",
     "output_type": "stream",
     "text": [
      "/var/folders/tq/_9q_lv1s2bndbr3tzzn08x4r0000gn/T/ipykernel_72521/4205899279.py:68: DtypeWarning: Columns (109,110) have mixed types. Specify dtype option on import or set low_memory=False.\n",
      "  data = pd.read_csv(f'/Users/charlesmiller/Documents/model_tester_data/CDLOSE/2018-01-01_2023-12-23_validationTR15.csv')\n"
     ]
    },
    {
     "name": "stdout",
     "output_type": "stream",
     "text": [
      "label\n",
      "1    65425\n",
      "0    53661\n",
      "Name: count, dtype: int64\n",
      "250 80 36 84\n",
      "{'model_name': 'CDLOSE:TSSIM1:1_TL15-EXP_custHypTP0.55', 'deployment_date': '2023-04-17', 'algorithm_type': 'xgboost', 'dataset': 'TSSIM1:1_TL15-EXP_custHypTP0.55', 'TP': 250, 'TPpct': Decimal('0'), 'FP': 80, 'FPpct': Decimal('0'), 'TN': 36, 'TNpct': Decimal('0'), 'FN': 84, 'FNpct': Decimal('0'), 'precision_ratio': Decimal('3.125'), 'evaluation_timeperiod': '2023-04-17_2023-04-21', 'live': False, 'hyperparameters': {\"{'subsample': 0.6, 'num_round': 1000, 'min_child_weight': 10, 'max_depth': 10, 'learning_rate': 0.1, 'gamma': 2, 'colsample_bytree': 1}\"}, 'features': {\"['SPY_diff', 'day_of_week', 'return_vol_5D', 'hour_volume_vol_diff', 'return_vol_240M', 'volume_vol_8H', 'range_vol_diff5', 'return_vol_30M', 'daily_volume_vol_diff30', 'close_diff', 'volume_vol_15M', 'return_vol_10D', 'daily_vol_diff_pct', 'daily_volume_vol_diff_pct30', 'range_vol5MA', 'cmf', 'return_vol_450M', 'hour_volume_vol_diff_pct', 'min_vol_diff', 'price_25DDiff', 'return_vol_3D', 'daily_vol_diff_pct30', 'volume_vol_3D', 'volume_vol_450M', 'close_diff_deviation', 'return_vol_30D', 'close_diff_deviation3', 'return_vol_16H', 'volume_vol_30M', 'rsi', 'threeD_stddev50', 'close_diff5', 'range_vol10MA', 'SPY_5D', 'daily_vol_diff', 'SPY_diff3', 'volume_vol_5D', 'rsi3', 'volume_25DDiff', 'price7']\"}, 'target': '-1.2+three_min_vol', 'feature_importances': \"[{'SPY_diff': 0.024160119}, {'day_of_week': 0.027032254}, {'return_vol_5D': 0.025121849}, {'hour_volume_vol_diff': 0.022815527}, {'return_vol_240M': 0.022386763}, {'volume_vol_8H': 0.023205055}, {'range_vol_diff5': 0.025172638}, {'return_vol_30M': 0.026205653}, {'daily_volume_vol_diff30': 0.024019804}, {'close_diff': 0.023200955}, {'volume_vol_15M': 0.01931344}, {'return_vol_10D': 0.033902615}, {'daily_vol_diff_pct': 0.026470635}, {'daily_volume_vol_diff_pct30': 0.023067981}, {'range_vol5MA': 0.025648698}, {'cmf': 0.023805186}, {'return_vol_450M': 0.026803827}, {'hour_volume_vol_diff_pct': 0.023502097}, {'min_vol_diff': 0.019692551}, {'price_25DDiff': 0.02485351}, {'return_vol_3D': 0.023824727}, {'daily_vol_diff_pct30': 0.02590204}, {'volume_vol_3D': 0.021288192}, {'volume_vol_450M': 0.023157688}, {'close_diff_deviation': 0.024947455}, {'return_vol_30D': 0.026999656}, {'close_diff_deviation3': 0.025028493}, {'return_vol_16H': 0.024363423}, {'volume_vol_30M': 0.019681048}, {'rsi': 0.02560378}, {'threeD_stddev50': 0.02490875}, {'close_diff5': 0.026136113}, {'range_vol10MA': 0.026051467}, {'SPY_5D': 0.027724423}, {'daily_vol_diff': 0.04255682}, {'SPY_diff3': 0.024286624}, {'volume_vol_5D': 0.022170762}, {'rsi3': 0.028217314}, {'volume_25DDiff': 0.022323173}, {'price7': 0.02444683}]\"}\n",
      "{'deployment_date': datetime.datetime(2023, 4, 24, 0, 0), 'dataset_end': datetime.datetime(2023, 4, 14, 0, 0), 'dataset_start': datetime.datetime(2018, 1, 1, 0, 0)}\n"
     ]
    },
    {
     "name": "stderr",
     "output_type": "stream",
     "text": [
      "/var/folders/tq/_9q_lv1s2bndbr3tzzn08x4r0000gn/T/ipykernel_72521/4205899279.py:68: DtypeWarning: Columns (109,110) have mixed types. Specify dtype option on import or set low_memory=False.\n",
      "  data = pd.read_csv(f'/Users/charlesmiller/Documents/model_tester_data/CDLOSE/2018-01-01_2023-12-23_validationTR15.csv')\n"
     ]
    },
    {
     "name": "stdout",
     "output_type": "stream",
     "text": [
      "label\n",
      "1    65655\n",
      "0    53881\n",
      "Name: count, dtype: int64\n",
      "236 103 42 69\n",
      "{'model_name': 'CDLOSE:TSSIM1:1_TL15-EXP_custHypTP0.55', 'deployment_date': '2023-04-24', 'algorithm_type': 'xgboost', 'dataset': 'TSSIM1:1_TL15-EXP_custHypTP0.55', 'TP': 236, 'TPpct': Decimal('0'), 'FP': 103, 'FPpct': Decimal('0'), 'TN': 42, 'TNpct': Decimal('0'), 'FN': 69, 'FNpct': Decimal('0'), 'precision_ratio': Decimal('2.29126213592233'), 'evaluation_timeperiod': '2023-04-24_2023-04-28', 'live': False, 'hyperparameters': {\"{'subsample': 0.6, 'num_round': 1000, 'min_child_weight': 10, 'max_depth': 10, 'learning_rate': 0.1, 'gamma': 2, 'colsample_bytree': 1}\"}, 'features': {\"['SPY_diff', 'day_of_week', 'return_vol_5D', 'hour_volume_vol_diff', 'return_vol_240M', 'volume_vol_8H', 'range_vol_diff5', 'return_vol_30M', 'daily_volume_vol_diff30', 'close_diff', 'volume_vol_15M', 'return_vol_10D', 'daily_vol_diff_pct', 'daily_volume_vol_diff_pct30', 'range_vol5MA', 'cmf', 'return_vol_450M', 'hour_volume_vol_diff_pct', 'min_vol_diff', 'price_25DDiff', 'return_vol_3D', 'daily_vol_diff_pct30', 'volume_vol_3D', 'volume_vol_450M', 'close_diff_deviation', 'return_vol_30D', 'close_diff_deviation3', 'return_vol_16H', 'volume_vol_30M', 'rsi', 'threeD_stddev50', 'close_diff5', 'range_vol10MA', 'SPY_5D', 'daily_vol_diff', 'SPY_diff3', 'volume_vol_5D', 'rsi3', 'volume_25DDiff', 'price7']\"}, 'target': '-1.199+three_min_vol', 'feature_importances': \"[{'SPY_diff': 0.02428833}, {'day_of_week': 0.028246062}, {'return_vol_5D': 0.02521074}, {'hour_volume_vol_diff': 0.02219491}, {'return_vol_240M': 0.02315473}, {'volume_vol_8H': 0.022990216}, {'range_vol_diff5': 0.024550615}, {'return_vol_30M': 0.025108373}, {'daily_volume_vol_diff30': 0.023091603}, {'close_diff': 0.024171775}, {'volume_vol_15M': 0.019385213}, {'return_vol_10D': 0.032267015}, {'daily_vol_diff_pct': 0.027056951}, {'daily_volume_vol_diff_pct30': 0.021904407}, {'range_vol5MA': 0.025421796}, {'cmf': 0.024855297}, {'return_vol_450M': 0.02744793}, {'hour_volume_vol_diff_pct': 0.023597438}, {'min_vol_diff': 0.021136364}, {'price_25DDiff': 0.025031518}, {'return_vol_3D': 0.022842858}, {'daily_vol_diff_pct30': 0.026274856}, {'volume_vol_3D': 0.021249674}, {'volume_vol_450M': 0.024043644}, {'close_diff_deviation': 0.023956768}, {'return_vol_30D': 0.026115905}, {'close_diff_deviation3': 0.025051676}, {'return_vol_16H': 0.024160784}, {'volume_vol_30M': 0.020136911}, {'rsi': 0.024951503}, {'threeD_stddev50': 0.026455734}, {'close_diff5': 0.026240796}, {'range_vol10MA': 0.026819812}, {'SPY_5D': 0.027284326}, {'daily_vol_diff': 0.042102918}, {'SPY_diff3': 0.023394192}, {'volume_vol_5D': 0.022799833}, {'rsi3': 0.028635684}, {'volume_25DDiff': 0.02160047}, {'price7': 0.024770409}]\"}\n",
      "{'deployment_date': datetime.datetime(2023, 5, 1, 0, 0), 'dataset_end': datetime.datetime(2023, 4, 21, 0, 0), 'dataset_start': datetime.datetime(2018, 1, 1, 0, 0)}\n"
     ]
    },
    {
     "name": "stderr",
     "output_type": "stream",
     "text": [
      "/var/folders/tq/_9q_lv1s2bndbr3tzzn08x4r0000gn/T/ipykernel_72521/4205899279.py:68: DtypeWarning: Columns (109,110) have mixed types. Specify dtype option on import or set low_memory=False.\n",
      "  data = pd.read_csv(f'/Users/charlesmiller/Documents/model_tester_data/CDLOSE/2018-01-01_2023-12-23_validationTR15.csv')\n"
     ]
    },
    {
     "name": "stdout",
     "output_type": "stream",
     "text": [
      "label\n",
      "1    65895\n",
      "0    54091\n",
      "Name: count, dtype: int64\n",
      "167 144 69 70\n",
      "{'model_name': 'CDLOSE:TSSIM1:1_TL15-EXP_custHypTP0.55', 'deployment_date': '2023-05-01', 'algorithm_type': 'xgboost', 'dataset': 'TSSIM1:1_TL15-EXP_custHypTP0.55', 'TP': 167, 'TPpct': Decimal('0'), 'FP': 144, 'FPpct': Decimal('0'), 'TN': 69, 'TNpct': Decimal('0'), 'FN': 70, 'FNpct': Decimal('0'), 'precision_ratio': Decimal('1.1597222222222223'), 'evaluation_timeperiod': '2023-05-01_2023-05-05', 'live': False, 'hyperparameters': {\"{'subsample': 0.6, 'num_round': 1000, 'min_child_weight': 10, 'max_depth': 10, 'learning_rate': 0.1, 'gamma': 2, 'colsample_bytree': 1}\"}, 'features': {\"['SPY_diff', 'day_of_week', 'return_vol_5D', 'hour_volume_vol_diff', 'return_vol_240M', 'volume_vol_8H', 'range_vol_diff5', 'return_vol_30M', 'daily_volume_vol_diff30', 'close_diff', 'volume_vol_15M', 'return_vol_10D', 'daily_vol_diff_pct', 'daily_volume_vol_diff_pct30', 'range_vol5MA', 'cmf', 'return_vol_450M', 'hour_volume_vol_diff_pct', 'min_vol_diff', 'price_25DDiff', 'return_vol_3D', 'daily_vol_diff_pct30', 'volume_vol_3D', 'volume_vol_450M', 'close_diff_deviation', 'return_vol_30D', 'close_diff_deviation3', 'return_vol_16H', 'volume_vol_30M', 'rsi', 'threeD_stddev50', 'close_diff5', 'range_vol10MA', 'SPY_5D', 'daily_vol_diff', 'SPY_diff3', 'volume_vol_5D', 'rsi3', 'volume_25DDiff', 'price7']\"}, 'target': '-1.202+three_min_vol', 'feature_importances': \"[{'SPY_diff': 0.023874464}, {'day_of_week': 0.027577009}, {'return_vol_5D': 0.024812976}, {'hour_volume_vol_diff': 0.022714818}, {'return_vol_240M': 0.023046145}, {'volume_vol_8H': 0.022234991}, {'range_vol_diff5': 0.024916451}, {'return_vol_30M': 0.026626742}, {'daily_volume_vol_diff30': 0.02247943}, {'close_diff': 0.024431808}, {'volume_vol_15M': 0.018935}, {'return_vol_10D': 0.03285305}, {'daily_vol_diff_pct': 0.026667232}, {'daily_volume_vol_diff_pct30': 0.02243923}, {'range_vol5MA': 0.026779715}, {'cmf': 0.023727491}, {'return_vol_450M': 0.02653801}, {'hour_volume_vol_diff_pct': 0.022909077}, {'min_vol_diff': 0.019206336}, {'price_25DDiff': 0.025458748}, {'return_vol_3D': 0.023240684}, {'daily_vol_diff_pct30': 0.026306411}, {'volume_vol_3D': 0.02125824}, {'volume_vol_450M': 0.023244964}, {'close_diff_deviation': 0.02472201}, {'return_vol_30D': 0.026148874}, {'close_diff_deviation3': 0.026114097}, {'return_vol_16H': 0.023190781}, {'volume_vol_30M': 0.01992521}, {'rsi': 0.025291076}, {'threeD_stddev50': 0.026043845}, {'close_diff5': 0.026149156}, {'range_vol10MA': 0.02668536}, {'SPY_5D': 0.027553216}, {'daily_vol_diff': 0.04232984}, {'SPY_diff3': 0.024110544}, {'volume_vol_5D': 0.023685047}, {'rsi3': 0.02864113}, {'volume_25DDiff': 0.022875631}, {'price7': 0.024255143}]\"}\n",
      "{'deployment_date': datetime.datetime(2023, 5, 8, 0, 0), 'dataset_end': datetime.datetime(2023, 4, 28, 0, 0), 'dataset_start': datetime.datetime(2018, 1, 1, 0, 0)}\n"
     ]
    },
    {
     "name": "stderr",
     "output_type": "stream",
     "text": [
      "/var/folders/tq/_9q_lv1s2bndbr3tzzn08x4r0000gn/T/ipykernel_72521/4205899279.py:68: DtypeWarning: Columns (109,110) have mixed types. Specify dtype option on import or set low_memory=False.\n",
      "  data = pd.read_csv(f'/Users/charlesmiller/Documents/model_tester_data/CDLOSE/2018-01-01_2023-12-23_validationTR15.csv')\n"
     ]
    },
    {
     "name": "stdout",
     "output_type": "stream",
     "text": [
      "label\n",
      "1    66165\n",
      "0    54271\n",
      "Name: count, dtype: int64\n",
      "119 131 113 87\n",
      "{'model_name': 'CDLOSE:TSSIM1:1_TL15-EXP_custHypTP0.55', 'deployment_date': '2023-05-08', 'algorithm_type': 'xgboost', 'dataset': 'TSSIM1:1_TL15-EXP_custHypTP0.55', 'TP': 119, 'TPpct': Decimal('0'), 'FP': 131, 'FPpct': Decimal('0'), 'TN': 113, 'TNpct': Decimal('0'), 'FN': 87, 'FNpct': Decimal('0'), 'precision_ratio': Decimal('0.9083969465648855'), 'evaluation_timeperiod': '2023-05-08_2023-05-12', 'live': False, 'hyperparameters': {\"{'subsample': 0.6, 'num_round': 1000, 'min_child_weight': 10, 'max_depth': 10, 'learning_rate': 0.1, 'gamma': 2, 'colsample_bytree': 1}\"}, 'features': {\"['SPY_diff', 'day_of_week', 'return_vol_5D', 'hour_volume_vol_diff', 'return_vol_240M', 'volume_vol_8H', 'range_vol_diff5', 'return_vol_30M', 'daily_volume_vol_diff30', 'close_diff', 'volume_vol_15M', 'return_vol_10D', 'daily_vol_diff_pct', 'daily_volume_vol_diff_pct30', 'range_vol5MA', 'cmf', 'return_vol_450M', 'hour_volume_vol_diff_pct', 'min_vol_diff', 'price_25DDiff', 'return_vol_3D', 'daily_vol_diff_pct30', 'volume_vol_3D', 'volume_vol_450M', 'close_diff_deviation', 'return_vol_30D', 'close_diff_deviation3', 'return_vol_16H', 'volume_vol_30M', 'rsi', 'threeD_stddev50', 'close_diff5', 'range_vol10MA', 'SPY_5D', 'daily_vol_diff', 'SPY_diff3', 'volume_vol_5D', 'rsi3', 'volume_25DDiff', 'price7']\"}, 'target': '-1.203+three_min_vol', 'feature_importances': \"[{'SPY_diff': 0.02368663}, {'day_of_week': 0.027238956}, {'return_vol_5D': 0.024375295}, {'hour_volume_vol_diff': 0.02292235}, {'return_vol_240M': 0.023196336}, {'volume_vol_8H': 0.022596622}, {'range_vol_diff5': 0.02484564}, {'return_vol_30M': 0.026084412}, {'daily_volume_vol_diff30': 0.022129891}, {'close_diff': 0.02575146}, {'volume_vol_15M': 0.019653851}, {'return_vol_10D': 0.032513317}, {'daily_vol_diff_pct': 0.027064115}, {'daily_volume_vol_diff_pct30': 0.02304573}, {'range_vol5MA': 0.026261132}, {'cmf': 0.024213122}, {'return_vol_450M': 0.027245695}, {'hour_volume_vol_diff_pct': 0.023893123}, {'min_vol_diff': 0.0199268}, {'price_25DDiff': 0.025203813}, {'return_vol_3D': 0.023776034}, {'daily_vol_diff_pct30': 0.025661798}, {'volume_vol_3D': 0.021838933}, {'volume_vol_450M': 0.023927445}, {'close_diff_deviation': 0.02474203}, {'return_vol_30D': 0.026452035}, {'close_diff_deviation3': 0.02559071}, {'return_vol_16H': 0.024784002}, {'volume_vol_30M': 0.019769847}, {'rsi': 0.025096476}, {'threeD_stddev50': 0.025011629}, {'close_diff5': 0.025069593}, {'range_vol10MA': 0.027228305}, {'SPY_5D': 0.02768639}, {'daily_vol_diff': 0.040953234}, {'SPY_diff3': 0.023933755}, {'volume_vol_5D': 0.022677613}, {'rsi3': 0.028145164}, {'volume_25DDiff': 0.021286912}, {'price7': 0.024519773}]\"}\n",
      "{'deployment_date': datetime.datetime(2023, 5, 15, 0, 0), 'dataset_end': datetime.datetime(2023, 5, 5, 0, 0), 'dataset_start': datetime.datetime(2018, 1, 1, 0, 0)}\n"
     ]
    },
    {
     "name": "stderr",
     "output_type": "stream",
     "text": [
      "/var/folders/tq/_9q_lv1s2bndbr3tzzn08x4r0000gn/T/ipykernel_72521/4205899279.py:68: DtypeWarning: Columns (109,110) have mixed types. Specify dtype option on import or set low_memory=False.\n",
      "  data = pd.read_csv(f'/Users/charlesmiller/Documents/model_tester_data/CDLOSE/2018-01-01_2023-12-23_validationTR15.csv')\n"
     ]
    },
    {
     "name": "stdout",
     "output_type": "stream",
     "text": [
      "label\n",
      "1    66392\n",
      "0    54494\n",
      "Name: count, dtype: int64\n",
      "180 116 93 61\n",
      "{'model_name': 'CDLOSE:TSSIM1:1_TL15-EXP_custHypTP0.55', 'deployment_date': '2023-05-15', 'algorithm_type': 'xgboost', 'dataset': 'TSSIM1:1_TL15-EXP_custHypTP0.55', 'TP': 180, 'TPpct': Decimal('0'), 'FP': 116, 'FPpct': Decimal('0'), 'TN': 93, 'TNpct': Decimal('0'), 'FN': 61, 'FNpct': Decimal('0'), 'precision_ratio': Decimal('1.5517241379310345'), 'evaluation_timeperiod': '2023-05-15_2023-05-19', 'live': False, 'hyperparameters': {\"{'subsample': 0.6, 'num_round': 1000, 'min_child_weight': 10, 'max_depth': 10, 'learning_rate': 0.1, 'gamma': 2, 'colsample_bytree': 1}\"}, 'features': {\"['SPY_diff', 'day_of_week', 'return_vol_5D', 'hour_volume_vol_diff', 'return_vol_240M', 'volume_vol_8H', 'range_vol_diff5', 'return_vol_30M', 'daily_volume_vol_diff30', 'close_diff', 'volume_vol_15M', 'return_vol_10D', 'daily_vol_diff_pct', 'daily_volume_vol_diff_pct30', 'range_vol5MA', 'cmf', 'return_vol_450M', 'hour_volume_vol_diff_pct', 'min_vol_diff', 'price_25DDiff', 'return_vol_3D', 'daily_vol_diff_pct30', 'volume_vol_3D', 'volume_vol_450M', 'close_diff_deviation', 'return_vol_30D', 'close_diff_deviation3', 'return_vol_16H', 'volume_vol_30M', 'rsi', 'threeD_stddev50', 'close_diff5', 'range_vol10MA', 'SPY_5D', 'daily_vol_diff', 'SPY_diff3', 'volume_vol_5D', 'rsi3', 'volume_25DDiff', 'price7']\"}, 'target': '-1.205+three_min_vol', 'feature_importances': \"[{'SPY_diff': 0.02407446}, {'day_of_week': 0.027353974}, {'return_vol_5D': 0.024223423}, {'hour_volume_vol_diff': 0.0226905}, {'return_vol_240M': 0.022803139}, {'volume_vol_8H': 0.023247197}, {'range_vol_diff5': 0.025118567}, {'return_vol_30M': 0.025319692}, {'daily_volume_vol_diff30': 0.023164866}, {'close_diff': 0.025358021}, {'volume_vol_15M': 0.018961534}, {'return_vol_10D': 0.03227103}, {'daily_vol_diff_pct': 0.026992071}, {'daily_volume_vol_diff_pct30': 0.022373008}, {'range_vol5MA': 0.025875723}, {'cmf': 0.024642596}, {'return_vol_450M': 0.02701722}, {'hour_volume_vol_diff_pct': 0.022498684}, {'min_vol_diff': 0.020266317}, {'price_25DDiff': 0.026014091}, {'return_vol_3D': 0.023097925}, {'daily_vol_diff_pct30': 0.025774978}, {'volume_vol_3D': 0.021502253}, {'volume_vol_450M': 0.02394792}, {'close_diff_deviation': 0.024075367}, {'return_vol_30D': 0.026108794}, {'close_diff_deviation3': 0.026136251}, {'return_vol_16H': 0.024417492}, {'volume_vol_30M': 0.020077571}, {'rsi': 0.02640973}, {'threeD_stddev50': 0.024654599}, {'close_diff5': 0.026575835}, {'range_vol10MA': 0.027080016}, {'SPY_5D': 0.027182605}, {'daily_vol_diff': 0.042200018}, {'SPY_diff3': 0.023556868}, {'volume_vol_5D': 0.022516849}, {'rsi3': 0.02851388}, {'volume_25DDiff': 0.022086827}, {'price7': 0.023818104}]\"}\n",
      "{'deployment_date': datetime.datetime(2023, 5, 22, 0, 0), 'dataset_end': datetime.datetime(2023, 5, 12, 0, 0), 'dataset_start': datetime.datetime(2018, 1, 1, 0, 0)}\n"
     ]
    },
    {
     "name": "stderr",
     "output_type": "stream",
     "text": [
      "/var/folders/tq/_9q_lv1s2bndbr3tzzn08x4r0000gn/T/ipykernel_72521/4205899279.py:68: DtypeWarning: Columns (109,110) have mixed types. Specify dtype option on import or set low_memory=False.\n",
      "  data = pd.read_csv(f'/Users/charlesmiller/Documents/model_tester_data/CDLOSE/2018-01-01_2023-12-23_validationTR15.csv')\n"
     ]
    },
    {
     "name": "stdout",
     "output_type": "stream",
     "text": [
      "label\n",
      "1    66643\n",
      "0    54693\n",
      "Name: count, dtype: int64\n",
      "181 117 62 90\n",
      "{'model_name': 'CDLOSE:TSSIM1:1_TL15-EXP_custHypTP0.55', 'deployment_date': '2023-05-22', 'algorithm_type': 'xgboost', 'dataset': 'TSSIM1:1_TL15-EXP_custHypTP0.55', 'TP': 181, 'TPpct': Decimal('0'), 'FP': 117, 'FPpct': Decimal('0'), 'TN': 62, 'TNpct': Decimal('0'), 'FN': 90, 'FNpct': Decimal('0'), 'precision_ratio': Decimal('1.547008547008547'), 'evaluation_timeperiod': '2023-05-22_2023-05-26', 'live': False, 'hyperparameters': {\"{'subsample': 0.6, 'num_round': 1000, 'min_child_weight': 10, 'max_depth': 10, 'learning_rate': 0.1, 'gamma': 2, 'colsample_bytree': 1}\"}, 'features': {\"['SPY_diff', 'day_of_week', 'return_vol_5D', 'hour_volume_vol_diff', 'return_vol_240M', 'volume_vol_8H', 'range_vol_diff5', 'return_vol_30M', 'daily_volume_vol_diff30', 'close_diff', 'volume_vol_15M', 'return_vol_10D', 'daily_vol_diff_pct', 'daily_volume_vol_diff_pct30', 'range_vol5MA', 'cmf', 'return_vol_450M', 'hour_volume_vol_diff_pct', 'min_vol_diff', 'price_25DDiff', 'return_vol_3D', 'daily_vol_diff_pct30', 'volume_vol_3D', 'volume_vol_450M', 'close_diff_deviation', 'return_vol_30D', 'close_diff_deviation3', 'return_vol_16H', 'volume_vol_30M', 'rsi', 'threeD_stddev50', 'close_diff5', 'range_vol10MA', 'SPY_5D', 'daily_vol_diff', 'SPY_diff3', 'volume_vol_5D', 'rsi3', 'volume_25DDiff', 'price7']\"}, 'target': '-1.203+three_min_vol', 'feature_importances': \"[{'SPY_diff': 0.024092613}, {'day_of_week': 0.02774016}, {'return_vol_5D': 0.023633646}, {'hour_volume_vol_diff': 0.022072578}, {'return_vol_240M': 0.023846148}, {'volume_vol_8H': 0.02282822}, {'range_vol_diff5': 0.025615709}, {'return_vol_30M': 0.026359815}, {'daily_volume_vol_diff30': 0.022318685}, {'close_diff': 0.02424717}, {'volume_vol_15M': 0.019172546}, {'return_vol_10D': 0.03214264}, {'daily_vol_diff_pct': 0.027464198}, {'daily_volume_vol_diff_pct30': 0.02235475}, {'range_vol5MA': 0.025021551}, {'cmf': 0.024624085}, {'return_vol_450M': 0.026381932}, {'hour_volume_vol_diff_pct': 0.022621846}, {'min_vol_diff': 0.01997568}, {'price_25DDiff': 0.024952082}, {'return_vol_3D': 0.023144042}, {'daily_vol_diff_pct30': 0.026036577}, {'volume_vol_3D': 0.023917157}, {'volume_vol_450M': 0.023993772}, {'close_diff_deviation': 0.024570549}, {'return_vol_30D': 0.026522512}, {'close_diff_deviation3': 0.025699846}, {'return_vol_16H': 0.024312757}, {'volume_vol_30M': 0.019503871}, {'rsi': 0.025718471}, {'threeD_stddev50': 0.025302982}, {'close_diff5': 0.025375504}, {'range_vol10MA': 0.026452754}, {'SPY_5D': 0.027271584}, {'daily_vol_diff': 0.044023383}, {'SPY_diff3': 0.02369983}, {'volume_vol_5D': 0.022390977}, {'rsi3': 0.028492913}, {'volume_25DDiff': 0.021558208}, {'price7': 0.024546284}]\"}\n",
      "{'deployment_date': datetime.datetime(2023, 5, 29, 0, 0), 'dataset_end': datetime.datetime(2023, 5, 19, 0, 0), 'dataset_start': datetime.datetime(2018, 1, 1, 0, 0)}\n"
     ]
    },
    {
     "name": "stderr",
     "output_type": "stream",
     "text": [
      "/var/folders/tq/_9q_lv1s2bndbr3tzzn08x4r0000gn/T/ipykernel_72521/4205899279.py:68: DtypeWarning: Columns (109,110) have mixed types. Specify dtype option on import or set low_memory=False.\n",
      "  data = pd.read_csv(f'/Users/charlesmiller/Documents/model_tester_data/CDLOSE/2018-01-01_2023-12-23_validationTR15.csv')\n"
     ]
    },
    {
     "name": "stdout",
     "output_type": "stream",
     "text": [
      "label\n",
      "1    66907\n",
      "0    54879\n",
      "Name: count, dtype: int64\n",
      "79 112 114 55\n",
      "{'model_name': 'CDLOSE:TSSIM1:1_TL15-EXP_custHypTP0.55', 'deployment_date': '2023-05-29', 'algorithm_type': 'xgboost', 'dataset': 'TSSIM1:1_TL15-EXP_custHypTP0.55', 'TP': 79, 'TPpct': Decimal('0'), 'FP': 112, 'FPpct': Decimal('0'), 'TN': 114, 'TNpct': Decimal('0'), 'FN': 55, 'FNpct': Decimal('0'), 'precision_ratio': Decimal('0.7053571428571429'), 'evaluation_timeperiod': '2023-05-29_2023-06-02', 'live': False, 'hyperparameters': {\"{'subsample': 0.6, 'num_round': 1000, 'min_child_weight': 10, 'max_depth': 10, 'learning_rate': 0.1, 'gamma': 2, 'colsample_bytree': 1}\"}, 'features': {\"['SPY_diff', 'day_of_week', 'return_vol_5D', 'hour_volume_vol_diff', 'return_vol_240M', 'volume_vol_8H', 'range_vol_diff5', 'return_vol_30M', 'daily_volume_vol_diff30', 'close_diff', 'volume_vol_15M', 'return_vol_10D', 'daily_vol_diff_pct', 'daily_volume_vol_diff_pct30', 'range_vol5MA', 'cmf', 'return_vol_450M', 'hour_volume_vol_diff_pct', 'min_vol_diff', 'price_25DDiff', 'return_vol_3D', 'daily_vol_diff_pct30', 'volume_vol_3D', 'volume_vol_450M', 'close_diff_deviation', 'return_vol_30D', 'close_diff_deviation3', 'return_vol_16H', 'volume_vol_30M', 'rsi', 'threeD_stddev50', 'close_diff5', 'range_vol10MA', 'SPY_5D', 'daily_vol_diff', 'SPY_diff3', 'volume_vol_5D', 'rsi3', 'volume_25DDiff', 'price7']\"}, 'target': '-1.204+three_min_vol', 'feature_importances': \"[{'SPY_diff': 0.024211416}, {'day_of_week': 0.02768576}, {'return_vol_5D': 0.024602238}, {'hour_volume_vol_diff': 0.022250464}, {'return_vol_240M': 0.023457827}, {'volume_vol_8H': 0.022322109}, {'range_vol_diff5': 0.02633285}, {'return_vol_30M': 0.025386594}, {'daily_volume_vol_diff30': 0.021780783}, {'close_diff': 0.024633648}, {'volume_vol_15M': 0.01970672}, {'return_vol_10D': 0.032622945}, {'daily_vol_diff_pct': 0.027029406}, {'daily_volume_vol_diff_pct30': 0.022921259}, {'range_vol5MA': 0.025260288}, {'cmf': 0.024540659}, {'return_vol_450M': 0.02727128}, {'hour_volume_vol_diff_pct': 0.023539677}, {'min_vol_diff': 0.01959286}, {'price_25DDiff': 0.025681308}, {'return_vol_3D': 0.023372496}, {'daily_vol_diff_pct30': 0.026171448}, {'volume_vol_3D': 0.021865332}, {'volume_vol_450M': 0.023531036}, {'close_diff_deviation': 0.024914846}, {'return_vol_30D': 0.027184965}, {'close_diff_deviation3': 0.024944833}, {'return_vol_16H': 0.024421768}, {'volume_vol_30M': 0.019648073}, {'rsi': 0.025767632}, {'threeD_stddev50': 0.025100099}, {'close_diff5': 0.025601171}, {'range_vol10MA': 0.026261171}, {'SPY_5D': 0.026592769}, {'daily_vol_diff': 0.042329613}, {'SPY_diff3': 0.024487905}, {'volume_vol_5D': 0.022413814}, {'rsi3': 0.027748702}, {'volume_25DDiff': 0.022342019}, {'price7': 0.024470221}]\"}\n",
      "{'deployment_date': datetime.datetime(2023, 6, 5, 0, 0), 'dataset_end': datetime.datetime(2023, 5, 26, 0, 0), 'dataset_start': datetime.datetime(2018, 1, 1, 0, 0)}\n"
     ]
    },
    {
     "name": "stderr",
     "output_type": "stream",
     "text": [
      "/var/folders/tq/_9q_lv1s2bndbr3tzzn08x4r0000gn/T/ipykernel_72521/4205899279.py:68: DtypeWarning: Columns (109,110) have mixed types. Specify dtype option on import or set low_memory=False.\n",
      "  data = pd.read_csv(f'/Users/charlesmiller/Documents/model_tester_data/CDLOSE/2018-01-01_2023-12-23_validationTR15.csv')\n"
     ]
    },
    {
     "name": "stdout",
     "output_type": "stream",
     "text": [
      "label\n",
      "1    67132\n",
      "0    55104\n",
      "Name: count, dtype: int64\n",
      "51 166 163 70\n",
      "{'model_name': 'CDLOSE:TSSIM1:1_TL15-EXP_custHypTP0.55', 'deployment_date': '2023-06-05', 'algorithm_type': 'xgboost', 'dataset': 'TSSIM1:1_TL15-EXP_custHypTP0.55', 'TP': 51, 'TPpct': Decimal('0'), 'FP': 166, 'FPpct': Decimal('0'), 'TN': 163, 'TNpct': Decimal('0'), 'FN': 70, 'FNpct': Decimal('0'), 'precision_ratio': Decimal('0.3072289156626506'), 'evaluation_timeperiod': '2023-06-05_2023-06-09', 'live': False, 'hyperparameters': {\"{'subsample': 0.6, 'num_round': 1000, 'min_child_weight': 10, 'max_depth': 10, 'learning_rate': 0.1, 'gamma': 2, 'colsample_bytree': 1}\"}, 'features': {\"['SPY_diff', 'day_of_week', 'return_vol_5D', 'hour_volume_vol_diff', 'return_vol_240M', 'volume_vol_8H', 'range_vol_diff5', 'return_vol_30M', 'daily_volume_vol_diff30', 'close_diff', 'volume_vol_15M', 'return_vol_10D', 'daily_vol_diff_pct', 'daily_volume_vol_diff_pct30', 'range_vol5MA', 'cmf', 'return_vol_450M', 'hour_volume_vol_diff_pct', 'min_vol_diff', 'price_25DDiff', 'return_vol_3D', 'daily_vol_diff_pct30', 'volume_vol_3D', 'volume_vol_450M', 'close_diff_deviation', 'return_vol_30D', 'close_diff_deviation3', 'return_vol_16H', 'volume_vol_30M', 'rsi', 'threeD_stddev50', 'close_diff5', 'range_vol10MA', 'SPY_5D', 'daily_vol_diff', 'SPY_diff3', 'volume_vol_5D', 'rsi3', 'volume_25DDiff', 'price7']\"}, 'target': '-1.205+three_min_vol', 'feature_importances': \"[{'SPY_diff': 0.02398753}, {'day_of_week': 0.026427358}, {'return_vol_5D': 0.025449801}, {'hour_volume_vol_diff': 0.022761177}, {'return_vol_240M': 0.023007168}, {'volume_vol_8H': 0.022502959}, {'range_vol_diff5': 0.025687458}, {'return_vol_30M': 0.026257249}, {'daily_volume_vol_diff30': 0.023034351}, {'close_diff': 0.02404515}, {'volume_vol_15M': 0.019177992}, {'return_vol_10D': 0.032908633}, {'daily_vol_diff_pct': 0.027772661}, {'daily_volume_vol_diff_pct30': 0.022101853}, {'range_vol5MA': 0.026058193}, {'cmf': 0.023825398}, {'return_vol_450M': 0.02687925}, {'hour_volume_vol_diff_pct': 0.023078151}, {'min_vol_diff': 0.020179817}, {'price_25DDiff': 0.024770947}, {'return_vol_3D': 0.023221437}, {'daily_vol_diff_pct30': 0.02650916}, {'volume_vol_3D': 0.02170198}, {'volume_vol_450M': 0.023372427}, {'close_diff_deviation': 0.024041926}, {'return_vol_30D': 0.027012745}, {'close_diff_deviation3': 0.025282731}, {'return_vol_16H': 0.025307117}, {'volume_vol_30M': 0.019623313}, {'rsi': 0.025119506}, {'threeD_stddev50': 0.025783548}, {'close_diff5': 0.025428465}, {'range_vol10MA': 0.02717011}, {'SPY_5D': 0.027295958}, {'daily_vol_diff': 0.042066593}, {'SPY_diff3': 0.02384397}, {'volume_vol_5D': 0.022304524}, {'rsi3': 0.028112007}, {'volume_25DDiff': 0.02249874}, {'price7': 0.024390724}]\"}\n",
      "{'deployment_date': datetime.datetime(2023, 6, 12, 0, 0), 'dataset_end': datetime.datetime(2023, 6, 2, 0, 0), 'dataset_start': datetime.datetime(2018, 1, 1, 0, 0)}\n"
     ]
    },
    {
     "name": "stderr",
     "output_type": "stream",
     "text": [
      "/var/folders/tq/_9q_lv1s2bndbr3tzzn08x4r0000gn/T/ipykernel_72521/4205899279.py:68: DtypeWarning: Columns (109,110) have mixed types. Specify dtype option on import or set low_memory=False.\n",
      "  data = pd.read_csv(f'/Users/charlesmiller/Documents/model_tester_data/CDLOSE/2018-01-01_2023-12-23_validationTR15.csv')\n"
     ]
    },
    {
     "name": "stdout",
     "output_type": "stream",
     "text": [
      "label\n",
      "1    67334\n",
      "0    55262\n",
      "Name: count, dtype: int64\n",
      "169 88 104 89\n",
      "{'model_name': 'CDLOSE:TSSIM1:1_TL15-EXP_custHypTP0.55', 'deployment_date': '2023-06-12', 'algorithm_type': 'xgboost', 'dataset': 'TSSIM1:1_TL15-EXP_custHypTP0.55', 'TP': 169, 'TPpct': Decimal('0'), 'FP': 88, 'FPpct': Decimal('0'), 'TN': 104, 'TNpct': Decimal('0'), 'FN': 89, 'FNpct': Decimal('0'), 'precision_ratio': Decimal('1.9204545454545454'), 'evaluation_timeperiod': '2023-06-12_2023-06-16', 'live': False, 'hyperparameters': {\"{'subsample': 0.6, 'num_round': 1000, 'min_child_weight': 10, 'max_depth': 10, 'learning_rate': 0.1, 'gamma': 2, 'colsample_bytree': 1}\"}, 'features': {\"['SPY_diff', 'day_of_week', 'return_vol_5D', 'hour_volume_vol_diff', 'return_vol_240M', 'volume_vol_8H', 'range_vol_diff5', 'return_vol_30M', 'daily_volume_vol_diff30', 'close_diff', 'volume_vol_15M', 'return_vol_10D', 'daily_vol_diff_pct', 'daily_volume_vol_diff_pct30', 'range_vol5MA', 'cmf', 'return_vol_450M', 'hour_volume_vol_diff_pct', 'min_vol_diff', 'price_25DDiff', 'return_vol_3D', 'daily_vol_diff_pct30', 'volume_vol_3D', 'volume_vol_450M', 'close_diff_deviation', 'return_vol_30D', 'close_diff_deviation3', 'return_vol_16H', 'volume_vol_30M', 'rsi', 'threeD_stddev50', 'close_diff5', 'range_vol10MA', 'SPY_5D', 'daily_vol_diff', 'SPY_diff3', 'volume_vol_5D', 'rsi3', 'volume_25DDiff', 'price7']\"}, 'target': '-1.203+three_min_vol', 'feature_importances': \"[{'SPY_diff': 0.023883227}, {'day_of_week': 0.027135424}, {'return_vol_5D': 0.02461783}, {'hour_volume_vol_diff': 0.022352714}, {'return_vol_240M': 0.02243562}, {'volume_vol_8H': 0.022836331}, {'range_vol_diff5': 0.02512095}, {'return_vol_30M': 0.02711211}, {'daily_volume_vol_diff30': 0.023820823}, {'close_diff': 0.024531841}, {'volume_vol_15M': 0.01858997}, {'return_vol_10D': 0.033017054}, {'daily_vol_diff_pct': 0.027335234}, {'daily_volume_vol_diff_pct30': 0.021919591}, {'range_vol5MA': 0.025678378}, {'cmf': 0.024626441}, {'return_vol_450M': 0.026335638}, {'hour_volume_vol_diff_pct': 0.02278962}, {'min_vol_diff': 0.019892804}, {'price_25DDiff': 0.024947543}, {'return_vol_3D': 0.023381827}, {'daily_vol_diff_pct30': 0.026614409}, {'volume_vol_3D': 0.021494096}, {'volume_vol_450M': 0.023147179}, {'close_diff_deviation': 0.025052981}, {'return_vol_30D': 0.026409965}, {'close_diff_deviation3': 0.026442695}, {'return_vol_16H': 0.024417507}, {'volume_vol_30M': 0.019955974}, {'rsi': 0.02467535}, {'threeD_stddev50': 0.026305463}, {'close_diff5': 0.02553911}, {'range_vol10MA': 0.026215956}, {'SPY_5D': 0.02759631}, {'daily_vol_diff': 0.043753497}, {'SPY_diff3': 0.023485547}, {'volume_vol_5D': 0.022202734}, {'rsi3': 0.028027475}, {'volume_25DDiff': 0.021827804}, {'price7': 0.024474947}]\"}\n",
      "{'deployment_date': datetime.datetime(2023, 6, 19, 0, 0), 'dataset_end': datetime.datetime(2023, 6, 9, 0, 0), 'dataset_start': datetime.datetime(2018, 1, 1, 0, 0)}\n"
     ]
    },
    {
     "name": "stderr",
     "output_type": "stream",
     "text": [
      "/var/folders/tq/_9q_lv1s2bndbr3tzzn08x4r0000gn/T/ipykernel_72521/4205899279.py:68: DtypeWarning: Columns (109,110) have mixed types. Specify dtype option on import or set low_memory=False.\n",
      "  data = pd.read_csv(f'/Users/charlesmiller/Documents/model_tester_data/CDLOSE/2018-01-01_2023-12-23_validationTR15.csv')\n"
     ]
    },
    {
     "name": "stdout",
     "output_type": "stream",
     "text": [
      "label\n",
      "1    67604\n",
      "0    55442\n",
      "Name: count, dtype: int64\n",
      "166 77 53 64\n",
      "{'model_name': 'CDLOSE:TSSIM1:1_TL15-EXP_custHypTP0.55', 'deployment_date': '2023-06-19', 'algorithm_type': 'xgboost', 'dataset': 'TSSIM1:1_TL15-EXP_custHypTP0.55', 'TP': 166, 'TPpct': Decimal('0'), 'FP': 77, 'FPpct': Decimal('0'), 'TN': 53, 'TNpct': Decimal('0'), 'FN': 64, 'FNpct': Decimal('0'), 'precision_ratio': Decimal('2.155844155844156'), 'evaluation_timeperiod': '2023-06-19_2023-06-23', 'live': False, 'hyperparameters': {\"{'subsample': 0.6, 'num_round': 1000, 'min_child_weight': 10, 'max_depth': 10, 'learning_rate': 0.1, 'gamma': 2, 'colsample_bytree': 1}\"}, 'features': {\"['SPY_diff', 'day_of_week', 'return_vol_5D', 'hour_volume_vol_diff', 'return_vol_240M', 'volume_vol_8H', 'range_vol_diff5', 'return_vol_30M', 'daily_volume_vol_diff30', 'close_diff', 'volume_vol_15M', 'return_vol_10D', 'daily_vol_diff_pct', 'daily_volume_vol_diff_pct30', 'range_vol5MA', 'cmf', 'return_vol_450M', 'hour_volume_vol_diff_pct', 'min_vol_diff', 'price_25DDiff', 'return_vol_3D', 'daily_vol_diff_pct30', 'volume_vol_3D', 'volume_vol_450M', 'close_diff_deviation', 'return_vol_30D', 'close_diff_deviation3', 'return_vol_16H', 'volume_vol_30M', 'rsi', 'threeD_stddev50', 'close_diff5', 'range_vol10MA', 'SPY_5D', 'daily_vol_diff', 'SPY_diff3', 'volume_vol_5D', 'rsi3', 'volume_25DDiff', 'price7']\"}, 'target': '-1.199+three_min_vol', 'feature_importances': \"[{'SPY_diff': 0.023876736}, {'day_of_week': 0.026568891}, {'return_vol_5D': 0.024377352}, {'hour_volume_vol_diff': 0.022627525}, {'return_vol_240M': 0.023189109}, {'volume_vol_8H': 0.022382962}, {'range_vol_diff5': 0.025698932}, {'return_vol_30M': 0.02664097}, {'daily_volume_vol_diff30': 0.022292906}, {'close_diff': 0.023566341}, {'volume_vol_15M': 0.01867233}, {'return_vol_10D': 0.03314129}, {'daily_vol_diff_pct': 0.027352395}, {'daily_volume_vol_diff_pct30': 0.022347342}, {'range_vol5MA': 0.025552988}, {'cmf': 0.024636462}, {'return_vol_450M': 0.026500735}, {'hour_volume_vol_diff_pct': 0.02296374}, {'min_vol_diff': 0.020407896}, {'price_25DDiff': 0.025496736}, {'return_vol_3D': 0.022993986}, {'daily_vol_diff_pct30': 0.02759292}, {'volume_vol_3D': 0.022179607}, {'volume_vol_450M': 0.023563763}, {'close_diff_deviation': 0.025029918}, {'return_vol_30D': 0.026470227}, {'close_diff_deviation3': 0.025661038}, {'return_vol_16H': 0.02458971}, {'volume_vol_30M': 0.020641666}, {'rsi': 0.025561243}, {'threeD_stddev50': 0.025923379}, {'close_diff5': 0.025891205}, {'range_vol10MA': 0.025891157}, {'SPY_5D': 0.027750818}, {'daily_vol_diff': 0.04233592}, {'SPY_diff3': 0.022999093}, {'volume_vol_5D': 0.022895955}, {'rsi3': 0.027607007}, {'volume_25DDiff': 0.0216413}, {'price7': 0.02448647}]\"}\n",
      "{'deployment_date': datetime.datetime(2023, 6, 26, 0, 0), 'dataset_end': datetime.datetime(2023, 6, 16, 0, 0), 'dataset_start': datetime.datetime(2018, 1, 1, 0, 0)}\n"
     ]
    },
    {
     "name": "stderr",
     "output_type": "stream",
     "text": [
      "/var/folders/tq/_9q_lv1s2bndbr3tzzn08x4r0000gn/T/ipykernel_72521/4205899279.py:68: DtypeWarning: Columns (109,110) have mixed types. Specify dtype option on import or set low_memory=False.\n",
      "  data = pd.read_csv(f'/Users/charlesmiller/Documents/model_tester_data/CDLOSE/2018-01-01_2023-12-23_validationTR15.csv')\n"
     ]
    },
    {
     "name": "stdout",
     "output_type": "stream",
     "text": [
      "label\n",
      "1    67844\n",
      "0    55652\n",
      "Name: count, dtype: int64\n",
      "106 227 86 31\n",
      "{'model_name': 'CDLOSE:TSSIM1:1_TL15-EXP_custHypTP0.55', 'deployment_date': '2023-06-26', 'algorithm_type': 'xgboost', 'dataset': 'TSSIM1:1_TL15-EXP_custHypTP0.55', 'TP': 106, 'TPpct': Decimal('0'), 'FP': 227, 'FPpct': Decimal('0'), 'TN': 86, 'TNpct': Decimal('0'), 'FN': 31, 'FNpct': Decimal('0'), 'precision_ratio': Decimal('0.4669603524229075'), 'evaluation_timeperiod': '2023-06-26_2023-06-30', 'live': False, 'hyperparameters': {\"{'subsample': 0.6, 'num_round': 1000, 'min_child_weight': 10, 'max_depth': 10, 'learning_rate': 0.1, 'gamma': 2, 'colsample_bytree': 1}\"}, 'features': {\"['SPY_diff', 'day_of_week', 'return_vol_5D', 'hour_volume_vol_diff', 'return_vol_240M', 'volume_vol_8H', 'range_vol_diff5', 'return_vol_30M', 'daily_volume_vol_diff30', 'close_diff', 'volume_vol_15M', 'return_vol_10D', 'daily_vol_diff_pct', 'daily_volume_vol_diff_pct30', 'range_vol5MA', 'cmf', 'return_vol_450M', 'hour_volume_vol_diff_pct', 'min_vol_diff', 'price_25DDiff', 'return_vol_3D', 'daily_vol_diff_pct30', 'volume_vol_3D', 'volume_vol_450M', 'close_diff_deviation', 'return_vol_30D', 'close_diff_deviation3', 'return_vol_16H', 'volume_vol_30M', 'rsi', 'threeD_stddev50', 'close_diff5', 'range_vol10MA', 'SPY_5D', 'daily_vol_diff', 'SPY_diff3', 'volume_vol_5D', 'rsi3', 'volume_25DDiff', 'price7']\"}, 'target': '-1.198+three_min_vol', 'feature_importances': \"[{'SPY_diff': 0.023043001}, {'day_of_week': 0.028031915}, {'return_vol_5D': 0.024755068}, {'hour_volume_vol_diff': 0.02270461}, {'return_vol_240M': 0.024570616}, {'volume_vol_8H': 0.022285596}, {'range_vol_diff5': 0.025502887}, {'return_vol_30M': 0.025957618}, {'daily_volume_vol_diff30': 0.022198493}, {'close_diff': 0.025681645}, {'volume_vol_15M': 0.019040845}, {'return_vol_10D': 0.032502797}, {'daily_vol_diff_pct': 0.028440133}, {'daily_volume_vol_diff_pct30': 0.022318004}, {'range_vol5MA': 0.026425447}, {'cmf': 0.024878241}, {'return_vol_450M': 0.026668075}, {'hour_volume_vol_diff_pct': 0.023589283}, {'min_vol_diff': 0.020033034}, {'price_25DDiff': 0.024358824}, {'return_vol_3D': 0.022395477}, {'daily_vol_diff_pct30': 0.02731063}, {'volume_vol_3D': 0.022870472}, {'volume_vol_450M': 0.023188861}, {'close_diff_deviation': 0.023523878}, {'return_vol_30D': 0.02595245}, {'close_diff_deviation3': 0.024979714}, {'return_vol_16H': 0.024846155}, {'volume_vol_30M': 0.01989208}, {'rsi': 0.024976095}, {'threeD_stddev50': 0.026094295}, {'close_diff5': 0.025743026}, {'range_vol10MA': 0.026413418}, {'SPY_5D': 0.027698338}, {'daily_vol_diff': 0.042401206}, {'SPY_diff3': 0.023564855}, {'volume_vol_5D': 0.021612922}, {'rsi3': 0.027536219}, {'volume_25DDiff': 0.021401973}, {'price7': 0.024611777}]\"}\n",
      "{'deployment_date': datetime.datetime(2023, 7, 3, 0, 0), 'dataset_end': datetime.datetime(2023, 6, 23, 0, 0), 'dataset_start': datetime.datetime(2018, 1, 1, 0, 0)}\n"
     ]
    },
    {
     "name": "stderr",
     "output_type": "stream",
     "text": [
      "/var/folders/tq/_9q_lv1s2bndbr3tzzn08x4r0000gn/T/ipykernel_72521/4205899279.py:68: DtypeWarning: Columns (109,110) have mixed types. Specify dtype option on import or set low_memory=False.\n",
      "  data = pd.read_csv(f'/Users/charlesmiller/Documents/model_tester_data/CDLOSE/2018-01-01_2023-12-23_validationTR15.csv')\n"
     ]
    },
    {
     "name": "stdout",
     "output_type": "stream",
     "text": [
      "label\n",
      "1    68024\n",
      "0    55832\n",
      "Name: count, dtype: int64\n",
      "86 75 104 95\n",
      "{'model_name': 'CDLOSE:TSSIM1:1_TL15-EXP_custHypTP0.55', 'deployment_date': '2023-07-03', 'algorithm_type': 'xgboost', 'dataset': 'TSSIM1:1_TL15-EXP_custHypTP0.55', 'TP': 86, 'TPpct': Decimal('0'), 'FP': 75, 'FPpct': Decimal('0'), 'TN': 104, 'TNpct': Decimal('0'), 'FN': 95, 'FNpct': Decimal('0'), 'precision_ratio': Decimal('1.1466666666666667'), 'evaluation_timeperiod': '2023-07-03_2023-07-07', 'live': False, 'hyperparameters': {\"{'subsample': 0.6, 'num_round': 1000, 'min_child_weight': 10, 'max_depth': 10, 'learning_rate': 0.1, 'gamma': 2, 'colsample_bytree': 1}\"}, 'features': {\"['SPY_diff', 'day_of_week', 'return_vol_5D', 'hour_volume_vol_diff', 'return_vol_240M', 'volume_vol_8H', 'range_vol_diff5', 'return_vol_30M', 'daily_volume_vol_diff30', 'close_diff', 'volume_vol_15M', 'return_vol_10D', 'daily_vol_diff_pct', 'daily_volume_vol_diff_pct30', 'range_vol5MA', 'cmf', 'return_vol_450M', 'hour_volume_vol_diff_pct', 'min_vol_diff', 'price_25DDiff', 'return_vol_3D', 'daily_vol_diff_pct30', 'volume_vol_3D', 'volume_vol_450M', 'close_diff_deviation', 'return_vol_30D', 'close_diff_deviation3', 'return_vol_16H', 'volume_vol_30M', 'rsi', 'threeD_stddev50', 'close_diff5', 'range_vol10MA', 'SPY_5D', 'daily_vol_diff', 'SPY_diff3', 'volume_vol_5D', 'rsi3', 'volume_25DDiff', 'price7']\"}, 'target': '-1.198+three_min_vol', 'feature_importances': \"[{'SPY_diff': 0.023492184}, {'day_of_week': 0.027800282}, {'return_vol_5D': 0.02466072}, {'hour_volume_vol_diff': 0.022881463}, {'return_vol_240M': 0.02324774}, {'volume_vol_8H': 0.02307565}, {'range_vol_diff5': 0.025914537}, {'return_vol_30M': 0.027333897}, {'daily_volume_vol_diff30': 0.023363618}, {'close_diff': 0.025123926}, {'volume_vol_15M': 0.018760579}, {'return_vol_10D': 0.032507997}, {'daily_vol_diff_pct': 0.02720471}, {'daily_volume_vol_diff_pct30': 0.022485198}, {'range_vol5MA': 0.024422409}, {'cmf': 0.02485451}, {'return_vol_450M': 0.026522389}, {'hour_volume_vol_diff_pct': 0.02276563}, {'min_vol_diff': 0.020724531}, {'price_25DDiff': 0.02574841}, {'return_vol_3D': 0.023053026}, {'daily_vol_diff_pct30': 0.026942246}, {'volume_vol_3D': 0.02133554}, {'volume_vol_450M': 0.023702966}, {'close_diff_deviation': 0.024586417}, {'return_vol_30D': 0.026296379}, {'close_diff_deviation3': 0.025566753}, {'return_vol_16H': 0.024736006}, {'volume_vol_30M': 0.019449228}, {'rsi': 0.024982054}, {'threeD_stddev50': 0.026884425}, {'close_diff5': 0.025559131}, {'range_vol10MA': 0.026070628}, {'SPY_5D': 0.027277108}, {'daily_vol_diff': 0.042222045}, {'SPY_diff3': 0.023648513}, {'volume_vol_5D': 0.021919157}, {'rsi3': 0.027216025}, {'volume_25DDiff': 0.021568064}, {'price7': 0.0240939}]\"}\n",
      "{'deployment_date': datetime.datetime(2023, 7, 10, 0, 0), 'dataset_end': datetime.datetime(2023, 6, 30, 0, 0), 'dataset_start': datetime.datetime(2018, 1, 1, 0, 0)}\n"
     ]
    },
    {
     "name": "stderr",
     "output_type": "stream",
     "text": [
      "/var/folders/tq/_9q_lv1s2bndbr3tzzn08x4r0000gn/T/ipykernel_72521/4205899279.py:68: DtypeWarning: Columns (109,110) have mixed types. Specify dtype option on import or set low_memory=False.\n",
      "  data = pd.read_csv(f'/Users/charlesmiller/Documents/model_tester_data/CDLOSE/2018-01-01_2023-12-23_validationTR15.csv')\n"
     ]
    },
    {
     "name": "stdout",
     "output_type": "stream",
     "text": [
      "label\n",
      "1    68270\n",
      "0    56036\n",
      "Name: count, dtype: int64\n",
      "156 149 80 65\n",
      "{'model_name': 'CDLOSE:TSSIM1:1_TL15-EXP_custHypTP0.55', 'deployment_date': '2023-07-10', 'algorithm_type': 'xgboost', 'dataset': 'TSSIM1:1_TL15-EXP_custHypTP0.55', 'TP': 156, 'TPpct': Decimal('0'), 'FP': 149, 'FPpct': Decimal('0'), 'TN': 80, 'TNpct': Decimal('0'), 'FN': 65, 'FNpct': Decimal('0'), 'precision_ratio': Decimal('1.0469798657718121'), 'evaluation_timeperiod': '2023-07-10_2023-07-14', 'live': False, 'hyperparameters': {\"{'subsample': 0.6, 'num_round': 1000, 'min_child_weight': 10, 'max_depth': 10, 'learning_rate': 0.1, 'gamma': 2, 'colsample_bytree': 1}\"}, 'features': {\"['SPY_diff', 'day_of_week', 'return_vol_5D', 'hour_volume_vol_diff', 'return_vol_240M', 'volume_vol_8H', 'range_vol_diff5', 'return_vol_30M', 'daily_volume_vol_diff30', 'close_diff', 'volume_vol_15M', 'return_vol_10D', 'daily_vol_diff_pct', 'daily_volume_vol_diff_pct30', 'range_vol5MA', 'cmf', 'return_vol_450M', 'hour_volume_vol_diff_pct', 'min_vol_diff', 'price_25DDiff', 'return_vol_3D', 'daily_vol_diff_pct30', 'volume_vol_3D', 'volume_vol_450M', 'close_diff_deviation', 'return_vol_30D', 'close_diff_deviation3', 'return_vol_16H', 'volume_vol_30M', 'rsi', 'threeD_stddev50', 'close_diff5', 'range_vol10MA', 'SPY_5D', 'daily_vol_diff', 'SPY_diff3', 'volume_vol_5D', 'rsi3', 'volume_25DDiff', 'price7']\"}, 'target': '-1.194+three_min_vol', 'feature_importances': \"[{'SPY_diff': 0.023793014}, {'day_of_week': 0.027313067}, {'return_vol_5D': 0.024699401}, {'hour_volume_vol_diff': 0.023106553}, {'return_vol_240M': 0.023011403}, {'volume_vol_8H': 0.022322327}, {'range_vol_diff5': 0.025468705}, {'return_vol_30M': 0.025956247}, {'daily_volume_vol_diff30': 0.022775188}, {'close_diff': 0.024732573}, {'volume_vol_15M': 0.019697422}, {'return_vol_10D': 0.032266583}, {'daily_vol_diff_pct': 0.027199399}, {'daily_volume_vol_diff_pct30': 0.023432018}, {'range_vol5MA': 0.026652409}, {'cmf': 0.024460984}, {'return_vol_450M': 0.026291884}, {'hour_volume_vol_diff_pct': 0.022826537}, {'min_vol_diff': 0.02062528}, {'price_25DDiff': 0.025584023}, {'return_vol_3D': 0.022649849}, {'daily_vol_diff_pct30': 0.027039273}, {'volume_vol_3D': 0.022166483}, {'volume_vol_450M': 0.022960905}, {'close_diff_deviation': 0.024365243}, {'return_vol_30D': 0.02595139}, {'close_diff_deviation3': 0.0255096}, {'return_vol_16H': 0.024583276}, {'volume_vol_30M': 0.020061668}, {'rsi': 0.024999132}, {'threeD_stddev50': 0.025586102}, {'close_diff5': 0.026440931}, {'range_vol10MA': 0.026093714}, {'SPY_5D': 0.026887296}, {'daily_vol_diff': 0.0423063}, {'SPY_diff3': 0.023106113}, {'volume_vol_5D': 0.02249832}, {'rsi3': 0.028275471}, {'volume_25DDiff': 0.022025373}, {'price7': 0.02427852}]\"}\n",
      "{'deployment_date': datetime.datetime(2023, 7, 17, 0, 0), 'dataset_end': datetime.datetime(2023, 7, 7, 0, 0), 'dataset_start': datetime.datetime(2018, 1, 1, 0, 0)}\n"
     ]
    },
    {
     "name": "stderr",
     "output_type": "stream",
     "text": [
      "/var/folders/tq/_9q_lv1s2bndbr3tzzn08x4r0000gn/T/ipykernel_72521/4205899279.py:68: DtypeWarning: Columns (109,110) have mixed types. Specify dtype option on import or set low_memory=False.\n",
      "  data = pd.read_csv(f'/Users/charlesmiller/Documents/model_tester_data/CDLOSE/2018-01-01_2023-12-23_validationTR15.csv')\n"
     ]
    },
    {
     "name": "stdout",
     "output_type": "stream",
     "text": [
      "label\n",
      "1    68469\n",
      "0    56197\n",
      "Name: count, dtype: int64\n",
      "166 89 85 110\n",
      "{'model_name': 'CDLOSE:TSSIM1:1_TL15-EXP_custHypTP0.55', 'deployment_date': '2023-07-17', 'algorithm_type': 'xgboost', 'dataset': 'TSSIM1:1_TL15-EXP_custHypTP0.55', 'TP': 166, 'TPpct': Decimal('0'), 'FP': 89, 'FPpct': Decimal('0'), 'TN': 85, 'TNpct': Decimal('0'), 'FN': 110, 'FNpct': Decimal('0'), 'precision_ratio': Decimal('1.8651685393258426'), 'evaluation_timeperiod': '2023-07-17_2023-07-21', 'live': False, 'hyperparameters': {\"{'subsample': 0.6, 'num_round': 1000, 'min_child_weight': 10, 'max_depth': 10, 'learning_rate': 0.1, 'gamma': 2, 'colsample_bytree': 1}\"}, 'features': {\"['SPY_diff', 'day_of_week', 'return_vol_5D', 'hour_volume_vol_diff', 'return_vol_240M', 'volume_vol_8H', 'range_vol_diff5', 'return_vol_30M', 'daily_volume_vol_diff30', 'close_diff', 'volume_vol_15M', 'return_vol_10D', 'daily_vol_diff_pct', 'daily_volume_vol_diff_pct30', 'range_vol5MA', 'cmf', 'return_vol_450M', 'hour_volume_vol_diff_pct', 'min_vol_diff', 'price_25DDiff', 'return_vol_3D', 'daily_vol_diff_pct30', 'volume_vol_3D', 'volume_vol_450M', 'close_diff_deviation', 'return_vol_30D', 'close_diff_deviation3', 'return_vol_16H', 'volume_vol_30M', 'rsi', 'threeD_stddev50', 'close_diff5', 'range_vol10MA', 'SPY_5D', 'daily_vol_diff', 'SPY_diff3', 'volume_vol_5D', 'rsi3', 'volume_25DDiff', 'price7']\"}, 'target': '-1.194+three_min_vol', 'feature_importances': \"[{'SPY_diff': 0.024191333}, {'day_of_week': 0.026933279}, {'return_vol_5D': 0.024144404}, {'hour_volume_vol_diff': 0.023666346}, {'return_vol_240M': 0.02273155}, {'volume_vol_8H': 0.023030052}, {'range_vol_diff5': 0.025299994}, {'return_vol_30M': 0.027146261}, {'daily_volume_vol_diff30': 0.023746502}, {'close_diff': 0.024676442}, {'volume_vol_15M': 0.019471357}, {'return_vol_10D': 0.032365557}, {'daily_vol_diff_pct': 0.027193623}, {'daily_volume_vol_diff_pct30': 0.023268469}, {'range_vol5MA': 0.02582255}, {'cmf': 0.024281077}, {'return_vol_450M': 0.026629617}, {'hour_volume_vol_diff_pct': 0.023547063}, {'min_vol_diff': 0.019518157}, {'price_25DDiff': 0.025483355}, {'return_vol_3D': 0.02219636}, {'daily_vol_diff_pct30': 0.025928864}, {'volume_vol_3D': 0.022354802}, {'volume_vol_450M': 0.023413904}, {'close_diff_deviation': 0.024553597}, {'return_vol_30D': 0.02658365}, {'close_diff_deviation3': 0.025331289}, {'return_vol_16H': 0.024177512}, {'volume_vol_30M': 0.020098928}, {'rsi': 0.024853643}, {'threeD_stddev50': 0.025821669}, {'close_diff5': 0.026394734}, {'range_vol10MA': 0.026312301}, {'SPY_5D': 0.026748413}, {'daily_vol_diff': 0.04149767}, {'SPY_diff3': 0.023812484}, {'volume_vol_5D': 0.022827081}, {'rsi3': 0.027558193}, {'volume_25DDiff': 0.021985864}, {'price7': 0.02440201}]\"}\n",
      "{'deployment_date': datetime.datetime(2023, 7, 24, 0, 0), 'dataset_end': datetime.datetime(2023, 7, 14, 0, 0), 'dataset_start': datetime.datetime(2018, 1, 1, 0, 0)}\n"
     ]
    },
    {
     "name": "stderr",
     "output_type": "stream",
     "text": [
      "/var/folders/tq/_9q_lv1s2bndbr3tzzn08x4r0000gn/T/ipykernel_72521/4205899279.py:68: DtypeWarning: Columns (109,110) have mixed types. Specify dtype option on import or set low_memory=False.\n",
      "  data = pd.read_csv(f'/Users/charlesmiller/Documents/model_tester_data/CDLOSE/2018-01-01_2023-12-23_validationTR15.csv')\n"
     ]
    },
    {
     "name": "stdout",
     "output_type": "stream",
     "text": [
      "label\n",
      "1    68731\n",
      "0    56385\n",
      "Name: count, dtype: int64\n",
      "137 132 102 79\n",
      "{'model_name': 'CDLOSE:TSSIM1:1_TL15-EXP_custHypTP0.55', 'deployment_date': '2023-07-24', 'algorithm_type': 'xgboost', 'dataset': 'TSSIM1:1_TL15-EXP_custHypTP0.55', 'TP': 137, 'TPpct': Decimal('0'), 'FP': 132, 'FPpct': Decimal('0'), 'TN': 102, 'TNpct': Decimal('0'), 'FN': 79, 'FNpct': Decimal('0'), 'precision_ratio': Decimal('1.0378787878787878'), 'evaluation_timeperiod': '2023-07-24_2023-07-28', 'live': False, 'hyperparameters': {\"{'subsample': 0.6, 'num_round': 1000, 'min_child_weight': 10, 'max_depth': 10, 'learning_rate': 0.1, 'gamma': 2, 'colsample_bytree': 1}\"}, 'features': {\"['SPY_diff', 'day_of_week', 'return_vol_5D', 'hour_volume_vol_diff', 'return_vol_240M', 'volume_vol_8H', 'range_vol_diff5', 'return_vol_30M', 'daily_volume_vol_diff30', 'close_diff', 'volume_vol_15M', 'return_vol_10D', 'daily_vol_diff_pct', 'daily_volume_vol_diff_pct30', 'range_vol5MA', 'cmf', 'return_vol_450M', 'hour_volume_vol_diff_pct', 'min_vol_diff', 'price_25DDiff', 'return_vol_3D', 'daily_vol_diff_pct30', 'volume_vol_3D', 'volume_vol_450M', 'close_diff_deviation', 'return_vol_30D', 'close_diff_deviation3', 'return_vol_16H', 'volume_vol_30M', 'rsi', 'threeD_stddev50', 'close_diff5', 'range_vol10MA', 'SPY_5D', 'daily_vol_diff', 'SPY_diff3', 'volume_vol_5D', 'rsi3', 'volume_25DDiff', 'price7']\"}, 'target': '-1.191+three_min_vol', 'feature_importances': \"[{'SPY_diff': 0.024171798}, {'day_of_week': 0.02657695}, {'return_vol_5D': 0.024497095}, {'hour_volume_vol_diff': 0.022715194}, {'return_vol_240M': 0.023287421}, {'volume_vol_8H': 0.022938475}, {'range_vol_diff5': 0.025777604}, {'return_vol_30M': 0.02707881}, {'daily_volume_vol_diff30': 0.022746867}, {'close_diff': 0.025279744}, {'volume_vol_15M': 0.018795947}, {'return_vol_10D': 0.03239747}, {'daily_vol_diff_pct': 0.028460631}, {'daily_volume_vol_diff_pct30': 0.022411527}, {'range_vol5MA': 0.025505036}, {'cmf': 0.02407054}, {'return_vol_450M': 0.02683801}, {'hour_volume_vol_diff_pct': 0.023365494}, {'min_vol_diff': 0.020277685}, {'price_25DDiff': 0.025160633}, {'return_vol_3D': 0.024003549}, {'daily_vol_diff_pct30': 0.026565505}, {'volume_vol_3D': 0.022074083}, {'volume_vol_450M': 0.023827253}, {'close_diff_deviation': 0.02538344}, {'return_vol_30D': 0.026328452}, {'close_diff_deviation3': 0.024732215}, {'return_vol_16H': 0.024223391}, {'volume_vol_30M': 0.019936142}, {'rsi': 0.025389453}, {'threeD_stddev50': 0.026799697}, {'close_diff5': 0.025772126}, {'range_vol10MA': 0.025989743}, {'SPY_5D': 0.027296256}, {'daily_vol_diff': 0.038433522}, {'SPY_diff3': 0.023917569}, {'volume_vol_5D': 0.022773089}, {'rsi3': 0.028454876}, {'volume_25DDiff': 0.021896683}, {'price7': 0.023849938}]\"}\n",
      "{'deployment_date': datetime.datetime(2023, 7, 31, 0, 0), 'dataset_end': datetime.datetime(2023, 7, 21, 0, 0), 'dataset_start': datetime.datetime(2018, 1, 1, 0, 0)}\n"
     ]
    },
    {
     "name": "stderr",
     "output_type": "stream",
     "text": [
      "/var/folders/tq/_9q_lv1s2bndbr3tzzn08x4r0000gn/T/ipykernel_72521/4205899279.py:68: DtypeWarning: Columns (109,110) have mixed types. Specify dtype option on import or set low_memory=False.\n",
      "  data = pd.read_csv(f'/Users/charlesmiller/Documents/model_tester_data/CDLOSE/2018-01-01_2023-12-23_validationTR15.csv')\n"
     ]
    },
    {
     "name": "stdout",
     "output_type": "stream",
     "text": [
      "label\n",
      "1    68983\n",
      "0    56583\n",
      "Name: count, dtype: int64\n",
      "220 63 42 125\n",
      "{'model_name': 'CDLOSE:TSSIM1:1_TL15-EXP_custHypTP0.55', 'deployment_date': '2023-07-31', 'algorithm_type': 'xgboost', 'dataset': 'TSSIM1:1_TL15-EXP_custHypTP0.55', 'TP': 220, 'TPpct': Decimal('0'), 'FP': 63, 'FPpct': Decimal('0'), 'TN': 42, 'TNpct': Decimal('0'), 'FN': 125, 'FNpct': Decimal('0'), 'precision_ratio': Decimal('3.492063492063492'), 'evaluation_timeperiod': '2023-07-31_2023-08-04', 'live': False, 'hyperparameters': {\"{'subsample': 0.6, 'num_round': 1000, 'min_child_weight': 10, 'max_depth': 10, 'learning_rate': 0.1, 'gamma': 2, 'colsample_bytree': 1}\"}, 'features': {\"['SPY_diff', 'day_of_week', 'return_vol_5D', 'hour_volume_vol_diff', 'return_vol_240M', 'volume_vol_8H', 'range_vol_diff5', 'return_vol_30M', 'daily_volume_vol_diff30', 'close_diff', 'volume_vol_15M', 'return_vol_10D', 'daily_vol_diff_pct', 'daily_volume_vol_diff_pct30', 'range_vol5MA', 'cmf', 'return_vol_450M', 'hour_volume_vol_diff_pct', 'min_vol_diff', 'price_25DDiff', 'return_vol_3D', 'daily_vol_diff_pct30', 'volume_vol_3D', 'volume_vol_450M', 'close_diff_deviation', 'return_vol_30D', 'close_diff_deviation3', 'return_vol_16H', 'volume_vol_30M', 'rsi', 'threeD_stddev50', 'close_diff5', 'range_vol10MA', 'SPY_5D', 'daily_vol_diff', 'SPY_diff3', 'volume_vol_5D', 'rsi3', 'volume_25DDiff', 'price7']\"}, 'target': '-1.191+three_min_vol', 'feature_importances': \"[{'SPY_diff': 0.024080938}, {'day_of_week': 0.026422417}, {'return_vol_5D': 0.024649117}, {'hour_volume_vol_diff': 0.023151072}, {'return_vol_240M': 0.022843853}, {'volume_vol_8H': 0.022456938}, {'range_vol_diff5': 0.025587153}, {'return_vol_30M': 0.026980307}, {'daily_volume_vol_diff30': 0.022910343}, {'close_diff': 0.024692312}, {'volume_vol_15M': 0.018952623}, {'return_vol_10D': 0.031318925}, {'daily_vol_diff_pct': 0.028246857}, {'daily_volume_vol_diff_pct30': 0.023070142}, {'range_vol5MA': 0.025591103}, {'cmf': 0.024333326}, {'return_vol_450M': 0.027590511}, {'hour_volume_vol_diff_pct': 0.023212455}, {'min_vol_diff': 0.019740889}, {'price_25DDiff': 0.025976898}, {'return_vol_3D': 0.023460807}, {'daily_vol_diff_pct30': 0.02626672}, {'volume_vol_3D': 0.02220885}, {'volume_vol_450M': 0.02300887}, {'close_diff_deviation': 0.024815822}, {'return_vol_30D': 0.02661138}, {'close_diff_deviation3': 0.025916135}, {'return_vol_16H': 0.023836777}, {'volume_vol_30M': 0.02036201}, {'rsi': 0.02575716}, {'threeD_stddev50': 0.02657957}, {'close_diff5': 0.026353655}, {'range_vol10MA': 0.02693872}, {'SPY_5D': 0.027686357}, {'daily_vol_diff': 0.0392188}, {'SPY_diff3': 0.023627523}, {'volume_vol_5D': 0.022156248}, {'rsi3': 0.027390273}, {'volume_25DDiff': 0.021833304}, {'price7': 0.024162889}]\"}\n",
      "{'deployment_date': datetime.datetime(2023, 8, 7, 0, 0), 'dataset_end': datetime.datetime(2023, 7, 28, 0, 0), 'dataset_start': datetime.datetime(2018, 1, 1, 0, 0)}\n"
     ]
    },
    {
     "name": "stderr",
     "output_type": "stream",
     "text": [
      "/var/folders/tq/_9q_lv1s2bndbr3tzzn08x4r0000gn/T/ipykernel_72521/4205899279.py:68: DtypeWarning: Columns (109,110) have mixed types. Specify dtype option on import or set low_memory=False.\n",
      "  data = pd.read_csv(f'/Users/charlesmiller/Documents/model_tester_data/CDLOSE/2018-01-01_2023-12-23_validationTR15.csv')\n"
     ]
    },
    {
     "name": "stdout",
     "output_type": "stream",
     "text": [
      "label\n",
      "1    69230\n",
      "0    56786\n",
      "Name: count, dtype: int64\n",
      "175 97 72 106\n",
      "{'model_name': 'CDLOSE:TSSIM1:1_TL15-EXP_custHypTP0.55', 'deployment_date': '2023-08-07', 'algorithm_type': 'xgboost', 'dataset': 'TSSIM1:1_TL15-EXP_custHypTP0.55', 'TP': 175, 'TPpct': Decimal('0'), 'FP': 97, 'FPpct': Decimal('0'), 'TN': 72, 'TNpct': Decimal('0'), 'FN': 106, 'FNpct': Decimal('0'), 'precision_ratio': Decimal('1.8041237113402062'), 'evaluation_timeperiod': '2023-08-07_2023-08-11', 'live': False, 'hyperparameters': {\"{'subsample': 0.6, 'num_round': 1000, 'min_child_weight': 10, 'max_depth': 10, 'learning_rate': 0.1, 'gamma': 2, 'colsample_bytree': 1}\"}, 'features': {\"['SPY_diff', 'day_of_week', 'return_vol_5D', 'hour_volume_vol_diff', 'return_vol_240M', 'volume_vol_8H', 'range_vol_diff5', 'return_vol_30M', 'daily_volume_vol_diff30', 'close_diff', 'volume_vol_15M', 'return_vol_10D', 'daily_vol_diff_pct', 'daily_volume_vol_diff_pct30', 'range_vol5MA', 'cmf', 'return_vol_450M', 'hour_volume_vol_diff_pct', 'min_vol_diff', 'price_25DDiff', 'return_vol_3D', 'daily_vol_diff_pct30', 'volume_vol_3D', 'volume_vol_450M', 'close_diff_deviation', 'return_vol_30D', 'close_diff_deviation3', 'return_vol_16H', 'volume_vol_30M', 'rsi', 'threeD_stddev50', 'close_diff5', 'range_vol10MA', 'SPY_5D', 'daily_vol_diff', 'SPY_diff3', 'volume_vol_5D', 'rsi3', 'volume_25DDiff', 'price7']\"}, 'target': '-1.191+three_min_vol', 'feature_importances': \"[{'SPY_diff': 0.023801353}, {'day_of_week': 0.026814386}, {'return_vol_5D': 0.024770552}, {'hour_volume_vol_diff': 0.02358831}, {'return_vol_240M': 0.023117583}, {'volume_vol_8H': 0.021915507}, {'range_vol_diff5': 0.026250185}, {'return_vol_30M': 0.027948784}, {'daily_volume_vol_diff30': 0.02272066}, {'close_diff': 0.024735477}, {'volume_vol_15M': 0.019033108}, {'return_vol_10D': 0.032383353}, {'daily_vol_diff_pct': 0.027315892}, {'daily_volume_vol_diff_pct30': 0.022917138}, {'range_vol5MA': 0.025175054}, {'cmf': 0.023703862}, {'return_vol_450M': 0.026642108}, {'hour_volume_vol_diff_pct': 0.022395259}, {'min_vol_diff': 0.019483332}, {'price_25DDiff': 0.025762282}, {'return_vol_3D': 0.023308203}, {'daily_vol_diff_pct30': 0.025826458}, {'volume_vol_3D': 0.021508427}, {'volume_vol_450M': 0.02419793}, {'close_diff_deviation': 0.02411321}, {'return_vol_30D': 0.026963165}, {'close_diff_deviation3': 0.025716031}, {'return_vol_16H': 0.023467822}, {'volume_vol_30M': 0.020544762}, {'rsi': 0.024957761}, {'threeD_stddev50': 0.02654224}, {'close_diff5': 0.02577828}, {'range_vol10MA': 0.026348066}, {'SPY_5D': 0.027658917}, {'daily_vol_diff': 0.04151068}, {'SPY_diff3': 0.023725001}, {'volume_vol_5D': 0.022853026}, {'rsi3': 0.027986394}, {'volume_25DDiff': 0.022153188}, {'price7': 0.024366302}]\"}\n",
      "{'deployment_date': datetime.datetime(2023, 8, 14, 0, 0), 'dataset_end': datetime.datetime(2023, 8, 4, 0, 0), 'dataset_start': datetime.datetime(2018, 1, 1, 0, 0)}\n"
     ]
    },
    {
     "name": "stderr",
     "output_type": "stream",
     "text": [
      "/var/folders/tq/_9q_lv1s2bndbr3tzzn08x4r0000gn/T/ipykernel_72521/4205899279.py:68: DtypeWarning: Columns (109,110) have mixed types. Specify dtype option on import or set low_memory=False.\n",
      "  data = pd.read_csv(f'/Users/charlesmiller/Documents/model_tester_data/CDLOSE/2018-01-01_2023-12-23_validationTR15.csv')\n"
     ]
    },
    {
     "name": "stdout",
     "output_type": "stream",
     "text": [
      "label\n",
      "1    69465\n",
      "0    57001\n",
      "Name: count, dtype: int64\n",
      "248 85 51 66\n",
      "{'model_name': 'CDLOSE:TSSIM1:1_TL15-EXP_custHypTP0.55', 'deployment_date': '2023-08-14', 'algorithm_type': 'xgboost', 'dataset': 'TSSIM1:1_TL15-EXP_custHypTP0.55', 'TP': 248, 'TPpct': Decimal('0'), 'FP': 85, 'FPpct': Decimal('0'), 'TN': 51, 'TNpct': Decimal('0'), 'FN': 66, 'FNpct': Decimal('0'), 'precision_ratio': Decimal('2.9176470588235293'), 'evaluation_timeperiod': '2023-08-14_2023-08-18', 'live': False, 'hyperparameters': {\"{'subsample': 0.6, 'num_round': 1000, 'min_child_weight': 10, 'max_depth': 10, 'learning_rate': 0.1, 'gamma': 2, 'colsample_bytree': 1}\"}, 'features': {\"['SPY_diff', 'day_of_week', 'return_vol_5D', 'hour_volume_vol_diff', 'return_vol_240M', 'volume_vol_8H', 'range_vol_diff5', 'return_vol_30M', 'daily_volume_vol_diff30', 'close_diff', 'volume_vol_15M', 'return_vol_10D', 'daily_vol_diff_pct', 'daily_volume_vol_diff_pct30', 'range_vol5MA', 'cmf', 'return_vol_450M', 'hour_volume_vol_diff_pct', 'min_vol_diff', 'price_25DDiff', 'return_vol_3D', 'daily_vol_diff_pct30', 'volume_vol_3D', 'volume_vol_450M', 'close_diff_deviation', 'return_vol_30D', 'close_diff_deviation3', 'return_vol_16H', 'volume_vol_30M', 'rsi', 'threeD_stddev50', 'close_diff5', 'range_vol10MA', 'SPY_5D', 'daily_vol_diff', 'SPY_diff3', 'volume_vol_5D', 'rsi3', 'volume_25DDiff', 'price7']\"}, 'target': '-1.193+three_min_vol', 'feature_importances': \"[{'SPY_diff': 0.024166087}, {'day_of_week': 0.027028263}, {'return_vol_5D': 0.02391215}, {'hour_volume_vol_diff': 0.023337457}, {'return_vol_240M': 0.02412073}, {'volume_vol_8H': 0.022314964}, {'range_vol_diff5': 0.025878128}, {'return_vol_30M': 0.026068741}, {'daily_volume_vol_diff30': 0.023015598}, {'close_diff': 0.025006827}, {'volume_vol_15M': 0.01970322}, {'return_vol_10D': 0.03214451}, {'daily_vol_diff_pct': 0.026821133}, {'daily_volume_vol_diff_pct30': 0.022340002}, {'range_vol5MA': 0.02481728}, {'cmf': 0.024236692}, {'return_vol_450M': 0.027075306}, {'hour_volume_vol_diff_pct': 0.023548204}, {'min_vol_diff': 0.02036625}, {'price_25DDiff': 0.024810292}, {'return_vol_3D': 0.024759224}, {'daily_vol_diff_pct30': 0.026857268}, {'volume_vol_3D': 0.021787837}, {'volume_vol_450M': 0.024123564}, {'close_diff_deviation': 0.023358695}, {'return_vol_30D': 0.026953815}, {'close_diff_deviation3': 0.025558652}, {'return_vol_16H': 0.024264192}, {'volume_vol_30M': 0.020652097}, {'rsi': 0.025108114}, {'threeD_stddev50': 0.02617116}, {'close_diff5': 0.026502889}, {'range_vol10MA': 0.02535531}, {'SPY_5D': 0.027010627}, {'daily_vol_diff': 0.041456815}, {'SPY_diff3': 0.024453241}, {'volume_vol_5D': 0.022089839}, {'rsi3': 0.027086992}, {'volume_25DDiff': 0.021245895}, {'price7': 0.024491893}]\"}\n",
      "{'deployment_date': datetime.datetime(2023, 8, 21, 0, 0), 'dataset_end': datetime.datetime(2023, 8, 11, 0, 0), 'dataset_start': datetime.datetime(2018, 1, 1, 0, 0)}\n"
     ]
    },
    {
     "name": "stderr",
     "output_type": "stream",
     "text": [
      "/var/folders/tq/_9q_lv1s2bndbr3tzzn08x4r0000gn/T/ipykernel_72521/4205899279.py:68: DtypeWarning: Columns (109,110) have mixed types. Specify dtype option on import or set low_memory=False.\n",
      "  data = pd.read_csv(f'/Users/charlesmiller/Documents/model_tester_data/CDLOSE/2018-01-01_2023-12-23_validationTR15.csv')\n"
     ]
    },
    {
     "name": "stdout",
     "output_type": "stream",
     "text": [
      "label\n",
      "1    69712\n",
      "0    57204\n",
      "Name: count, dtype: int64\n",
      "157 169 63 61\n",
      "{'model_name': 'CDLOSE:TSSIM1:1_TL15-EXP_custHypTP0.55', 'deployment_date': '2023-08-21', 'algorithm_type': 'xgboost', 'dataset': 'TSSIM1:1_TL15-EXP_custHypTP0.55', 'TP': 157, 'TPpct': Decimal('0'), 'FP': 169, 'FPpct': Decimal('0'), 'TN': 63, 'TNpct': Decimal('0'), 'FN': 61, 'FNpct': Decimal('0'), 'precision_ratio': Decimal('0.9289940828402367'), 'evaluation_timeperiod': '2023-08-21_2023-08-25', 'live': False, 'hyperparameters': {\"{'subsample': 0.6, 'num_round': 1000, 'min_child_weight': 10, 'max_depth': 10, 'learning_rate': 0.1, 'gamma': 2, 'colsample_bytree': 1}\"}, 'features': {\"['SPY_diff', 'day_of_week', 'return_vol_5D', 'hour_volume_vol_diff', 'return_vol_240M', 'volume_vol_8H', 'range_vol_diff5', 'return_vol_30M', 'daily_volume_vol_diff30', 'close_diff', 'volume_vol_15M', 'return_vol_10D', 'daily_vol_diff_pct', 'daily_volume_vol_diff_pct30', 'range_vol5MA', 'cmf', 'return_vol_450M', 'hour_volume_vol_diff_pct', 'min_vol_diff', 'price_25DDiff', 'return_vol_3D', 'daily_vol_diff_pct30', 'volume_vol_3D', 'volume_vol_450M', 'close_diff_deviation', 'return_vol_30D', 'close_diff_deviation3', 'return_vol_16H', 'volume_vol_30M', 'rsi', 'threeD_stddev50', 'close_diff5', 'range_vol10MA', 'SPY_5D', 'daily_vol_diff', 'SPY_diff3', 'volume_vol_5D', 'rsi3', 'volume_25DDiff', 'price7']\"}, 'target': '-1.193+three_min_vol', 'feature_importances': \"[{'SPY_diff': 0.025117196}, {'day_of_week': 0.025985641}, {'return_vol_5D': 0.02529331}, {'hour_volume_vol_diff': 0.023056615}, {'return_vol_240M': 0.02352753}, {'volume_vol_8H': 0.022126185}, {'range_vol_diff5': 0.025263775}, {'return_vol_30M': 0.02661127}, {'daily_volume_vol_diff30': 0.02301125}, {'close_diff': 0.024172127}, {'volume_vol_15M': 0.019481521}, {'return_vol_10D': 0.032245427}, {'daily_vol_diff_pct': 0.028608255}, {'daily_volume_vol_diff_pct30': 0.021388428}, {'range_vol5MA': 0.025067681}, {'cmf': 0.024550945}, {'return_vol_450M': 0.02688725}, {'hour_volume_vol_diff_pct': 0.023238918}, {'min_vol_diff': 0.020771075}, {'price_25DDiff': 0.025467807}, {'return_vol_3D': 0.022846697}, {'daily_vol_diff_pct30': 0.026586454}, {'volume_vol_3D': 0.022110924}, {'volume_vol_450M': 0.022866968}, {'close_diff_deviation': 0.024996242}, {'return_vol_30D': 0.026717683}, {'close_diff_deviation3': 0.025262576}, {'return_vol_16H': 0.02474651}, {'volume_vol_30M': 0.020591013}, {'rsi': 0.025637975}, {'threeD_stddev50': 0.025898568}, {'close_diff5': 0.025804823}, {'range_vol10MA': 0.025521593}, {'SPY_5D': 0.027217109}, {'daily_vol_diff': 0.040847227}, {'SPY_diff3': 0.023646006}, {'volume_vol_5D': 0.02248496}, {'rsi3': 0.027836714}, {'volume_25DDiff': 0.021579055}, {'price7': 0.024928678}]\"}\n",
      "{'deployment_date': datetime.datetime(2023, 8, 28, 0, 0), 'dataset_end': datetime.datetime(2023, 8, 18, 0, 0), 'dataset_start': datetime.datetime(2018, 1, 1, 0, 0)}\n"
     ]
    },
    {
     "name": "stderr",
     "output_type": "stream",
     "text": [
      "/var/folders/tq/_9q_lv1s2bndbr3tzzn08x4r0000gn/T/ipykernel_72521/4205899279.py:68: DtypeWarning: Columns (109,110) have mixed types. Specify dtype option on import or set low_memory=False.\n",
      "  data = pd.read_csv(f'/Users/charlesmiller/Documents/model_tester_data/CDLOSE/2018-01-01_2023-12-23_validationTR15.csv')\n"
     ]
    },
    {
     "name": "stdout",
     "output_type": "stream",
     "text": [
      "label\n",
      "1    69959\n",
      "0    57407\n",
      "Name: count, dtype: int64\n",
      "152 143 83 72\n",
      "{'model_name': 'CDLOSE:TSSIM1:1_TL15-EXP_custHypTP0.55', 'deployment_date': '2023-08-28', 'algorithm_type': 'xgboost', 'dataset': 'TSSIM1:1_TL15-EXP_custHypTP0.55', 'TP': 152, 'TPpct': Decimal('0'), 'FP': 143, 'FPpct': Decimal('0'), 'TN': 83, 'TNpct': Decimal('0'), 'FN': 72, 'FNpct': Decimal('0'), 'precision_ratio': Decimal('1.062937062937063'), 'evaluation_timeperiod': '2023-08-28_2023-09-01', 'live': False, 'hyperparameters': {\"{'subsample': 0.6, 'num_round': 1000, 'min_child_weight': 10, 'max_depth': 10, 'learning_rate': 0.1, 'gamma': 2, 'colsample_bytree': 1}\"}, 'features': {\"['SPY_diff', 'day_of_week', 'return_vol_5D', 'hour_volume_vol_diff', 'return_vol_240M', 'volume_vol_8H', 'range_vol_diff5', 'return_vol_30M', 'daily_volume_vol_diff30', 'close_diff', 'volume_vol_15M', 'return_vol_10D', 'daily_vol_diff_pct', 'daily_volume_vol_diff_pct30', 'range_vol5MA', 'cmf', 'return_vol_450M', 'hour_volume_vol_diff_pct', 'min_vol_diff', 'price_25DDiff', 'return_vol_3D', 'daily_vol_diff_pct30', 'volume_vol_3D', 'volume_vol_450M', 'close_diff_deviation', 'return_vol_30D', 'close_diff_deviation3', 'return_vol_16H', 'volume_vol_30M', 'rsi', 'threeD_stddev50', 'close_diff5', 'range_vol10MA', 'SPY_5D', 'daily_vol_diff', 'SPY_diff3', 'volume_vol_5D', 'rsi3', 'volume_25DDiff', 'price7']\"}, 'target': '-1.195+three_min_vol', 'feature_importances': \"[{'SPY_diff': 0.024191126}, {'day_of_week': 0.026383424}, {'return_vol_5D': 0.02493789}, {'hour_volume_vol_diff': 0.023109935}, {'return_vol_240M': 0.023703508}, {'volume_vol_8H': 0.022381263}, {'range_vol_diff5': 0.024942031}, {'return_vol_30M': 0.025799619}, {'daily_volume_vol_diff30': 0.023510456}, {'close_diff': 0.025708478}, {'volume_vol_15M': 0.019369217}, {'return_vol_10D': 0.033328347}, {'daily_vol_diff_pct': 0.027929666}, {'daily_volume_vol_diff_pct30': 0.02213474}, {'range_vol5MA': 0.024880249}, {'cmf': 0.024464257}, {'return_vol_450M': 0.028009258}, {'hour_volume_vol_diff_pct': 0.023455596}, {'min_vol_diff': 0.01938766}, {'price_25DDiff': 0.025108911}, {'return_vol_3D': 0.023143662}, {'daily_vol_diff_pct30': 0.025560979}, {'volume_vol_3D': 0.02214626}, {'volume_vol_450M': 0.023587164}, {'close_diff_deviation': 0.02445132}, {'return_vol_30D': 0.026709715}, {'close_diff_deviation3': 0.025515687}, {'return_vol_16H': 0.02380693}, {'volume_vol_30M': 0.019584911}, {'rsi': 0.025813377}, {'threeD_stddev50': 0.025833283}, {'close_diff5': 0.026424602}, {'range_vol10MA': 0.026336275}, {'SPY_5D': 0.0276426}, {'daily_vol_diff': 0.040091876}, {'SPY_diff3': 0.023356315}, {'volume_vol_5D': 0.022539616}, {'rsi3': 0.027429556}, {'volume_25DDiff': 0.02220282}, {'price7': 0.025087377}]\"}\n",
      "{'deployment_date': datetime.datetime(2023, 9, 4, 0, 0), 'dataset_end': datetime.datetime(2023, 8, 25, 0, 0), 'dataset_start': datetime.datetime(2018, 1, 1, 0, 0)}\n"
     ]
    },
    {
     "name": "stderr",
     "output_type": "stream",
     "text": [
      "/var/folders/tq/_9q_lv1s2bndbr3tzzn08x4r0000gn/T/ipykernel_72521/4205899279.py:68: DtypeWarning: Columns (109,110) have mixed types. Specify dtype option on import or set low_memory=False.\n",
      "  data = pd.read_csv(f'/Users/charlesmiller/Documents/model_tester_data/CDLOSE/2018-01-01_2023-12-23_validationTR15.csv')\n"
     ]
    },
    {
     "name": "stdout",
     "output_type": "stream",
     "text": [
      "label\n",
      "1    70216\n",
      "0    57600\n",
      "Name: count, dtype: int64\n",
      "174 77 40 69\n",
      "{'model_name': 'CDLOSE:TSSIM1:1_TL15-EXP_custHypTP0.55', 'deployment_date': '2023-09-04', 'algorithm_type': 'xgboost', 'dataset': 'TSSIM1:1_TL15-EXP_custHypTP0.55', 'TP': 174, 'TPpct': Decimal('0'), 'FP': 77, 'FPpct': Decimal('0'), 'TN': 40, 'TNpct': Decimal('0'), 'FN': 69, 'FNpct': Decimal('0'), 'precision_ratio': Decimal('2.25974025974026'), 'evaluation_timeperiod': '2023-09-04_2023-09-08', 'live': False, 'hyperparameters': {\"{'subsample': 0.6, 'num_round': 1000, 'min_child_weight': 10, 'max_depth': 10, 'learning_rate': 0.1, 'gamma': 2, 'colsample_bytree': 1}\"}, 'features': {\"['SPY_diff', 'day_of_week', 'return_vol_5D', 'hour_volume_vol_diff', 'return_vol_240M', 'volume_vol_8H', 'range_vol_diff5', 'return_vol_30M', 'daily_volume_vol_diff30', 'close_diff', 'volume_vol_15M', 'return_vol_10D', 'daily_vol_diff_pct', 'daily_volume_vol_diff_pct30', 'range_vol5MA', 'cmf', 'return_vol_450M', 'hour_volume_vol_diff_pct', 'min_vol_diff', 'price_25DDiff', 'return_vol_3D', 'daily_vol_diff_pct30', 'volume_vol_3D', 'volume_vol_450M', 'close_diff_deviation', 'return_vol_30D', 'close_diff_deviation3', 'return_vol_16H', 'volume_vol_30M', 'rsi', 'threeD_stddev50', 'close_diff5', 'range_vol10MA', 'SPY_5D', 'daily_vol_diff', 'SPY_diff3', 'volume_vol_5D', 'rsi3', 'volume_25DDiff', 'price7']\"}, 'target': '-1.192+three_min_vol', 'feature_importances': \"[{'SPY_diff': 0.024240961}, {'day_of_week': 0.027326103}, {'return_vol_5D': 0.024254333}, {'hour_volume_vol_diff': 0.02384912}, {'return_vol_240M': 0.022899179}, {'volume_vol_8H': 0.022071}, {'range_vol_diff5': 0.025062978}, {'return_vol_30M': 0.027630236}, {'daily_volume_vol_diff30': 0.022930618}, {'close_diff': 0.025029542}, {'volume_vol_15M': 0.018647287}, {'return_vol_10D': 0.032115616}, {'daily_vol_diff_pct': 0.028668586}, {'daily_volume_vol_diff_pct30': 0.022671359}, {'range_vol5MA': 0.025904197}, {'cmf': 0.024659317}, {'return_vol_450M': 0.027064191}, {'hour_volume_vol_diff_pct': 0.022524156}, {'min_vol_diff': 0.019322362}, {'price_25DDiff': 0.026117876}, {'return_vol_3D': 0.023224898}, {'daily_vol_diff_pct30': 0.026554065}, {'volume_vol_3D': 0.022053404}, {'volume_vol_450M': 0.023483662}, {'close_diff_deviation': 0.02439069}, {'return_vol_30D': 0.026397837}, {'close_diff_deviation3': 0.025344886}, {'return_vol_16H': 0.024326341}, {'volume_vol_30M': 0.019658754}, {'rsi': 0.025370633}, {'threeD_stddev50': 0.026087621}, {'close_diff5': 0.025703408}, {'range_vol10MA': 0.025629673}, {'SPY_5D': 0.027609244}, {'daily_vol_diff': 0.04042746}, {'SPY_diff3': 0.023271123}, {'volume_vol_5D': 0.023103258}, {'rsi3': 0.027864965}, {'volume_25DDiff': 0.021693544}, {'price7': 0.024815463}]\"}\n",
      "{'deployment_date': datetime.datetime(2023, 9, 11, 0, 0), 'dataset_end': datetime.datetime(2023, 9, 1, 0, 0), 'dataset_start': datetime.datetime(2018, 1, 1, 0, 0)}\n"
     ]
    },
    {
     "name": "stderr",
     "output_type": "stream",
     "text": [
      "/var/folders/tq/_9q_lv1s2bndbr3tzzn08x4r0000gn/T/ipykernel_72521/4205899279.py:68: DtypeWarning: Columns (109,110) have mixed types. Specify dtype option on import or set low_memory=False.\n",
      "  data = pd.read_csv(f'/Users/charlesmiller/Documents/model_tester_data/CDLOSE/2018-01-01_2023-12-23_validationTR15.csv')\n"
     ]
    },
    {
     "name": "stdout",
     "output_type": "stream",
     "text": [
      "label\n",
      "1    70453\n",
      "0    57813\n",
      "Name: count, dtype: int64\n",
      "250 91 45 62\n",
      "{'model_name': 'CDLOSE:TSSIM1:1_TL15-EXP_custHypTP0.55', 'deployment_date': '2023-09-11', 'algorithm_type': 'xgboost', 'dataset': 'TSSIM1:1_TL15-EXP_custHypTP0.55', 'TP': 250, 'TPpct': Decimal('0'), 'FP': 91, 'FPpct': Decimal('0'), 'TN': 45, 'TNpct': Decimal('0'), 'FN': 62, 'FNpct': Decimal('0'), 'precision_ratio': Decimal('2.7472527472527473'), 'evaluation_timeperiod': '2023-09-11_2023-09-15', 'live': False, 'hyperparameters': {\"{'subsample': 0.6, 'num_round': 1000, 'min_child_weight': 10, 'max_depth': 10, 'learning_rate': 0.1, 'gamma': 2, 'colsample_bytree': 1}\"}, 'features': {\"['SPY_diff', 'day_of_week', 'return_vol_5D', 'hour_volume_vol_diff', 'return_vol_240M', 'volume_vol_8H', 'range_vol_diff5', 'return_vol_30M', 'daily_volume_vol_diff30', 'close_diff', 'volume_vol_15M', 'return_vol_10D', 'daily_vol_diff_pct', 'daily_volume_vol_diff_pct30', 'range_vol5MA', 'cmf', 'return_vol_450M', 'hour_volume_vol_diff_pct', 'min_vol_diff', 'price_25DDiff', 'return_vol_3D', 'daily_vol_diff_pct30', 'volume_vol_3D', 'volume_vol_450M', 'close_diff_deviation', 'return_vol_30D', 'close_diff_deviation3', 'return_vol_16H', 'volume_vol_30M', 'rsi', 'threeD_stddev50', 'close_diff5', 'range_vol10MA', 'SPY_5D', 'daily_vol_diff', 'SPY_diff3', 'volume_vol_5D', 'rsi3', 'volume_25DDiff', 'price7']\"}, 'target': '-1.192+three_min_vol', 'feature_importances': \"[{'SPY_diff': 0.024552658}, {'day_of_week': 0.026675548}, {'return_vol_5D': 0.024873076}, {'hour_volume_vol_diff': 0.023802206}, {'return_vol_240M': 0.023745814}, {'volume_vol_8H': 0.022750385}, {'range_vol_diff5': 0.024900949}, {'return_vol_30M': 0.025934882}, {'daily_volume_vol_diff30': 0.022700628}, {'close_diff': 0.025867581}, {'volume_vol_15M': 0.019174583}, {'return_vol_10D': 0.031824928}, {'daily_vol_diff_pct': 0.02767083}, {'daily_volume_vol_diff_pct30': 0.023105947}, {'range_vol5MA': 0.025356555}, {'cmf': 0.024282033}, {'return_vol_450M': 0.02694595}, {'hour_volume_vol_diff_pct': 0.022850398}, {'min_vol_diff': 0.020163257}, {'price_25DDiff': 0.025791924}, {'return_vol_3D': 0.02366823}, {'daily_vol_diff_pct30': 0.026012475}, {'volume_vol_3D': 0.022044182}, {'volume_vol_450M': 0.023255862}, {'close_diff_deviation': 0.02496332}, {'return_vol_30D': 0.024964932}, {'close_diff_deviation3': 0.025830861}, {'return_vol_16H': 0.024578486}, {'volume_vol_30M': 0.020139938}, {'rsi': 0.025940955}, {'threeD_stddev50': 0.026319487}, {'close_diff5': 0.025260294}, {'range_vol10MA': 0.02538841}, {'SPY_5D': 0.027385956}, {'daily_vol_diff': 0.040847395}, {'SPY_diff3': 0.023561219}, {'volume_vol_5D': 0.022814993}, {'rsi3': 0.027457923}, {'volume_25DDiff': 0.021866983}, {'price7': 0.02472802}]\"}\n",
      "{'deployment_date': datetime.datetime(2023, 9, 18, 0, 0), 'dataset_end': datetime.datetime(2023, 9, 8, 0, 0), 'dataset_start': datetime.datetime(2018, 1, 1, 0, 0)}\n"
     ]
    },
    {
     "name": "stderr",
     "output_type": "stream",
     "text": [
      "/var/folders/tq/_9q_lv1s2bndbr3tzzn08x4r0000gn/T/ipykernel_72521/4205899279.py:68: DtypeWarning: Columns (109,110) have mixed types. Specify dtype option on import or set low_memory=False.\n",
      "  data = pd.read_csv(f'/Users/charlesmiller/Documents/model_tester_data/CDLOSE/2018-01-01_2023-12-23_validationTR15.csv')\n"
     ]
    },
    {
     "name": "stdout",
     "output_type": "stream",
     "text": [
      "label\n",
      "1    70672\n",
      "0    57954\n",
      "Name: count, dtype: int64\n",
      "247 19 40 138\n",
      "{'model_name': 'CDLOSE:TSSIM1:1_TL15-EXP_custHypTP0.55', 'deployment_date': '2023-09-18', 'algorithm_type': 'xgboost', 'dataset': 'TSSIM1:1_TL15-EXP_custHypTP0.55', 'TP': 247, 'TPpct': Decimal('0'), 'FP': 19, 'FPpct': Decimal('0'), 'TN': 40, 'TNpct': Decimal('0'), 'FN': 138, 'FNpct': Decimal('0'), 'precision_ratio': Decimal('13.0'), 'evaluation_timeperiod': '2023-09-18_2023-09-22', 'live': False, 'hyperparameters': {\"{'subsample': 0.6, 'num_round': 1000, 'min_child_weight': 10, 'max_depth': 10, 'learning_rate': 0.1, 'gamma': 2, 'colsample_bytree': 1}\"}, 'features': {\"['SPY_diff', 'day_of_week', 'return_vol_5D', 'hour_volume_vol_diff', 'return_vol_240M', 'volume_vol_8H', 'range_vol_diff5', 'return_vol_30M', 'daily_volume_vol_diff30', 'close_diff', 'volume_vol_15M', 'return_vol_10D', 'daily_vol_diff_pct', 'daily_volume_vol_diff_pct30', 'range_vol5MA', 'cmf', 'return_vol_450M', 'hour_volume_vol_diff_pct', 'min_vol_diff', 'price_25DDiff', 'return_vol_3D', 'daily_vol_diff_pct30', 'volume_vol_3D', 'volume_vol_450M', 'close_diff_deviation', 'return_vol_30D', 'close_diff_deviation3', 'return_vol_16H', 'volume_vol_30M', 'rsi', 'threeD_stddev50', 'close_diff5', 'range_vol10MA', 'SPY_5D', 'daily_vol_diff', 'SPY_diff3', 'volume_vol_5D', 'rsi3', 'volume_25DDiff', 'price7']\"}, 'target': '-1.192+three_min_vol', 'feature_importances': \"[{'SPY_diff': 0.024355449}, {'day_of_week': 0.027460337}, {'return_vol_5D': 0.02445993}, {'hour_volume_vol_diff': 0.022902517}, {'return_vol_240M': 0.023041036}, {'volume_vol_8H': 0.021927947}, {'range_vol_diff5': 0.025481282}, {'return_vol_30M': 0.02685843}, {'daily_volume_vol_diff30': 0.022874437}, {'close_diff': 0.025223762}, {'volume_vol_15M': 0.01986134}, {'return_vol_10D': 0.03140303}, {'daily_vol_diff_pct': 0.028112855}, {'daily_volume_vol_diff_pct30': 0.023834432}, {'range_vol5MA': 0.02528507}, {'cmf': 0.024419008}, {'return_vol_450M': 0.026805636}, {'hour_volume_vol_diff_pct': 0.023065208}, {'min_vol_diff': 0.019486237}, {'price_25DDiff': 0.02561987}, {'return_vol_3D': 0.023351908}, {'daily_vol_diff_pct30': 0.026268665}, {'volume_vol_3D': 0.02218679}, {'volume_vol_450M': 0.023979161}, {'close_diff_deviation': 0.024158966}, {'return_vol_30D': 0.025217744}, {'close_diff_deviation3': 0.025939077}, {'return_vol_16H': 0.024480825}, {'volume_vol_30M': 0.02035428}, {'rsi': 0.025707763}, {'threeD_stddev50': 0.025444368}, {'close_diff5': 0.025733497}, {'range_vol10MA': 0.025328737}, {'SPY_5D': 0.027553353}, {'daily_vol_diff': 0.04165567}, {'SPY_diff3': 0.023048844}, {'volume_vol_5D': 0.022677831}, {'rsi3': 0.027884655}, {'volume_25DDiff': 0.021750664}, {'price7': 0.0247994}]\"}\n",
      "{'deployment_date': datetime.datetime(2023, 9, 25, 0, 0), 'dataset_end': datetime.datetime(2023, 9, 15, 0, 0), 'dataset_start': datetime.datetime(2018, 1, 1, 0, 0)}\n"
     ]
    },
    {
     "name": "stderr",
     "output_type": "stream",
     "text": [
      "/var/folders/tq/_9q_lv1s2bndbr3tzzn08x4r0000gn/T/ipykernel_72521/4205899279.py:68: DtypeWarning: Columns (109,110) have mixed types. Specify dtype option on import or set low_memory=False.\n",
      "  data = pd.read_csv(f'/Users/charlesmiller/Documents/model_tester_data/CDLOSE/2018-01-01_2023-12-23_validationTR15.csv')\n"
     ]
    },
    {
     "name": "stdout",
     "output_type": "stream",
     "text": [
      "label\n",
      "1    70918\n",
      "0    58156\n",
      "Name: count, dtype: int64\n",
      "212 120 52 66\n",
      "{'model_name': 'CDLOSE:TSSIM1:1_TL15-EXP_custHypTP0.55', 'deployment_date': '2023-09-25', 'algorithm_type': 'xgboost', 'dataset': 'TSSIM1:1_TL15-EXP_custHypTP0.55', 'TP': 212, 'TPpct': Decimal('0'), 'FP': 120, 'FPpct': Decimal('0'), 'TN': 52, 'TNpct': Decimal('0'), 'FN': 66, 'FNpct': Decimal('0'), 'precision_ratio': Decimal('1.7666666666666666'), 'evaluation_timeperiod': '2023-09-25_2023-09-29', 'live': False, 'hyperparameters': {\"{'subsample': 0.6, 'num_round': 1000, 'min_child_weight': 10, 'max_depth': 10, 'learning_rate': 0.1, 'gamma': 2, 'colsample_bytree': 1}\"}, 'features': {\"['SPY_diff', 'day_of_week', 'return_vol_5D', 'hour_volume_vol_diff', 'return_vol_240M', 'volume_vol_8H', 'range_vol_diff5', 'return_vol_30M', 'daily_volume_vol_diff30', 'close_diff', 'volume_vol_15M', 'return_vol_10D', 'daily_vol_diff_pct', 'daily_volume_vol_diff_pct30', 'range_vol5MA', 'cmf', 'return_vol_450M', 'hour_volume_vol_diff_pct', 'min_vol_diff', 'price_25DDiff', 'return_vol_3D', 'daily_vol_diff_pct30', 'volume_vol_3D', 'volume_vol_450M', 'close_diff_deviation', 'return_vol_30D', 'close_diff_deviation3', 'return_vol_16H', 'volume_vol_30M', 'rsi', 'threeD_stddev50', 'close_diff5', 'range_vol10MA', 'SPY_5D', 'daily_vol_diff', 'SPY_diff3', 'volume_vol_5D', 'rsi3', 'volume_25DDiff', 'price7']\"}, 'target': '-1.193+three_min_vol', 'feature_importances': \"[{'SPY_diff': 0.02421015}, {'day_of_week': 0.026409155}, {'return_vol_5D': 0.025176868}, {'hour_volume_vol_diff': 0.02352422}, {'return_vol_240M': 0.023664437}, {'volume_vol_8H': 0.022992369}, {'range_vol_diff5': 0.025639169}, {'return_vol_30M': 0.026069589}, {'daily_volume_vol_diff30': 0.023936842}, {'close_diff': 0.024711678}, {'volume_vol_15M': 0.018624969}, {'return_vol_10D': 0.03142946}, {'daily_vol_diff_pct': 0.027998984}, {'daily_volume_vol_diff_pct30': 0.022415511}, {'range_vol5MA': 0.025488293}, {'cmf': 0.024232987}, {'return_vol_450M': 0.02642762}, {'hour_volume_vol_diff_pct': 0.022514472}, {'min_vol_diff': 0.020454364}, {'price_25DDiff': 0.025602031}, {'return_vol_3D': 0.02400466}, {'daily_vol_diff_pct30': 0.026305938}, {'volume_vol_3D': 0.021283237}, {'volume_vol_450M': 0.023512218}, {'close_diff_deviation': 0.024979267}, {'return_vol_30D': 0.025957635}, {'close_diff_deviation3': 0.025689857}, {'return_vol_16H': 0.024118679}, {'volume_vol_30M': 0.020562569}, {'rsi': 0.025181578}, {'threeD_stddev50': 0.025702674}, {'close_diff5': 0.025748705}, {'range_vol10MA': 0.026186334}, {'SPY_5D': 0.027531825}, {'daily_vol_diff': 0.042590532}, {'SPY_diff3': 0.02273218}, {'volume_vol_5D': 0.022289839}, {'rsi3': 0.027522238}, {'volume_25DDiff': 0.021965928}, {'price7': 0.024610963}]\"}\n",
      "{'deployment_date': datetime.datetime(2023, 10, 2, 0, 0), 'dataset_end': datetime.datetime(2023, 9, 22, 0, 0), 'dataset_start': datetime.datetime(2018, 1, 1, 0, 0)}\n"
     ]
    },
    {
     "name": "stderr",
     "output_type": "stream",
     "text": [
      "/var/folders/tq/_9q_lv1s2bndbr3tzzn08x4r0000gn/T/ipykernel_72521/4205899279.py:68: DtypeWarning: Columns (109,110) have mixed types. Specify dtype option on import or set low_memory=False.\n",
      "  data = pd.read_csv(f'/Users/charlesmiller/Documents/model_tester_data/CDLOSE/2018-01-01_2023-12-23_validationTR15.csv')\n"
     ]
    },
    {
     "name": "stdout",
     "output_type": "stream",
     "text": [
      "label\n",
      "1    71120\n",
      "0    58398\n",
      "Name: count, dtype: int64\n",
      "220 143 47 40\n",
      "{'model_name': 'CDLOSE:TSSIM1:1_TL15-EXP_custHypTP0.55', 'deployment_date': '2023-10-02', 'algorithm_type': 'xgboost', 'dataset': 'TSSIM1:1_TL15-EXP_custHypTP0.55', 'TP': 220, 'TPpct': Decimal('0'), 'FP': 143, 'FPpct': Decimal('0'), 'TN': 47, 'TNpct': Decimal('0'), 'FN': 40, 'FNpct': Decimal('0'), 'precision_ratio': Decimal('1.5384615384615385'), 'evaluation_timeperiod': '2023-10-02_2023-10-06', 'live': False, 'hyperparameters': {\"{'subsample': 0.6, 'num_round': 1000, 'min_child_weight': 10, 'max_depth': 10, 'learning_rate': 0.1, 'gamma': 2, 'colsample_bytree': 1}\"}, 'features': {\"['SPY_diff', 'day_of_week', 'return_vol_5D', 'hour_volume_vol_diff', 'return_vol_240M', 'volume_vol_8H', 'range_vol_diff5', 'return_vol_30M', 'daily_volume_vol_diff30', 'close_diff', 'volume_vol_15M', 'return_vol_10D', 'daily_vol_diff_pct', 'daily_volume_vol_diff_pct30', 'range_vol5MA', 'cmf', 'return_vol_450M', 'hour_volume_vol_diff_pct', 'min_vol_diff', 'price_25DDiff', 'return_vol_3D', 'daily_vol_diff_pct30', 'volume_vol_3D', 'volume_vol_450M', 'close_diff_deviation', 'return_vol_30D', 'close_diff_deviation3', 'return_vol_16H', 'volume_vol_30M', 'rsi', 'threeD_stddev50', 'close_diff5', 'range_vol10MA', 'SPY_5D', 'daily_vol_diff', 'SPY_diff3', 'volume_vol_5D', 'rsi3', 'volume_25DDiff', 'price7']\"}, 'target': '-1.197+three_min_vol', 'feature_importances': \"[{'SPY_diff': 0.023733448}, {'day_of_week': 0.027420625}, {'return_vol_5D': 0.024907233}, {'hour_volume_vol_diff': 0.02425822}, {'return_vol_240M': 0.02349591}, {'volume_vol_8H': 0.02230839}, {'range_vol_diff5': 0.02577096}, {'return_vol_30M': 0.025136897}, {'daily_volume_vol_diff30': 0.023550129}, {'close_diff': 0.02549698}, {'volume_vol_15M': 0.020028235}, {'return_vol_10D': 0.032380946}, {'daily_vol_diff_pct': 0.027922818}, {'daily_volume_vol_diff_pct30': 0.022154676}, {'range_vol5MA': 0.025248151}, {'cmf': 0.023990944}, {'return_vol_450M': 0.027206562}, {'hour_volume_vol_diff_pct': 0.022017911}, {'min_vol_diff': 0.019851962}, {'price_25DDiff': 0.025152044}, {'return_vol_3D': 0.022764867}, {'daily_vol_diff_pct30': 0.025755337}, {'volume_vol_3D': 0.021720221}, {'volume_vol_450M': 0.02386791}, {'close_diff_deviation': 0.024840446}, {'return_vol_30D': 0.025912037}, {'close_diff_deviation3': 0.02625659}, {'return_vol_16H': 0.024338773}, {'volume_vol_30M': 0.020940399}, {'rsi': 0.025893934}, {'threeD_stddev50': 0.025468383}, {'close_diff5': 0.025917249}, {'range_vol10MA': 0.026250506}, {'SPY_5D': 0.026638057}, {'daily_vol_diff': 0.041761726}, {'SPY_diff3': 0.022894613}, {'volume_vol_5D': 0.021825856}, {'rsi3': 0.028764712}, {'volume_25DDiff': 0.021537513}, {'price7': 0.024617871}]\"}\n",
      "{'deployment_date': datetime.datetime(2023, 10, 9, 0, 0), 'dataset_end': datetime.datetime(2023, 9, 29, 0, 0), 'dataset_start': datetime.datetime(2018, 1, 1, 0, 0)}\n"
     ]
    },
    {
     "name": "stderr",
     "output_type": "stream",
     "text": [
      "/var/folders/tq/_9q_lv1s2bndbr3tzzn08x4r0000gn/T/ipykernel_72521/4205899279.py:68: DtypeWarning: Columns (109,110) have mixed types. Specify dtype option on import or set low_memory=False.\n",
      "  data = pd.read_csv(f'/Users/charlesmiller/Documents/model_tester_data/CDLOSE/2018-01-01_2023-12-23_validationTR15.csv')\n"
     ]
    },
    {
     "name": "stdout",
     "output_type": "stream",
     "text": [
      "label\n",
      "1    71374\n",
      "0    58594\n",
      "Name: count, dtype: int64\n",
      "180 88 69 113\n",
      "{'model_name': 'CDLOSE:TSSIM1:1_TL15-EXP_custHypTP0.55', 'deployment_date': '2023-10-09', 'algorithm_type': 'xgboost', 'dataset': 'TSSIM1:1_TL15-EXP_custHypTP0.55', 'TP': 180, 'TPpct': Decimal('0'), 'FP': 88, 'FPpct': Decimal('0'), 'TN': 69, 'TNpct': Decimal('0'), 'FN': 113, 'FNpct': Decimal('0'), 'precision_ratio': Decimal('2.0454545454545454'), 'evaluation_timeperiod': '2023-10-09_2023-10-13', 'live': False, 'hyperparameters': {\"{'subsample': 0.6, 'num_round': 1000, 'min_child_weight': 10, 'max_depth': 10, 'learning_rate': 0.1, 'gamma': 2, 'colsample_bytree': 1}\"}, 'features': {\"['SPY_diff', 'day_of_week', 'return_vol_5D', 'hour_volume_vol_diff', 'return_vol_240M', 'volume_vol_8H', 'range_vol_diff5', 'return_vol_30M', 'daily_volume_vol_diff30', 'close_diff', 'volume_vol_15M', 'return_vol_10D', 'daily_vol_diff_pct', 'daily_volume_vol_diff_pct30', 'range_vol5MA', 'cmf', 'return_vol_450M', 'hour_volume_vol_diff_pct', 'min_vol_diff', 'price_25DDiff', 'return_vol_3D', 'daily_vol_diff_pct30', 'volume_vol_3D', 'volume_vol_450M', 'close_diff_deviation', 'return_vol_30D', 'close_diff_deviation3', 'return_vol_16H', 'volume_vol_30M', 'rsi', 'threeD_stddev50', 'close_diff5', 'range_vol10MA', 'SPY_5D', 'daily_vol_diff', 'SPY_diff3', 'volume_vol_5D', 'rsi3', 'volume_25DDiff', 'price7']\"}, 'target': '-1.199+three_min_vol', 'feature_importances': \"[{'SPY_diff': 0.023580309}, {'day_of_week': 0.026701728}, {'return_vol_5D': 0.024288021}, {'hour_volume_vol_diff': 0.024004247}, {'return_vol_240M': 0.023531979}, {'volume_vol_8H': 0.022499887}, {'range_vol_diff5': 0.025243703}, {'return_vol_30M': 0.025692789}, {'daily_volume_vol_diff30': 0.023336094}, {'close_diff': 0.025112165}, {'volume_vol_15M': 0.019393103}, {'return_vol_10D': 0.03295919}, {'daily_vol_diff_pct': 0.028621737}, {'daily_volume_vol_diff_pct30': 0.021811062}, {'range_vol5MA': 0.025605123}, {'cmf': 0.024132216}, {'return_vol_450M': 0.02701288}, {'hour_volume_vol_diff_pct': 0.022427555}, {'min_vol_diff': 0.019894596}, {'price_25DDiff': 0.025242103}, {'return_vol_3D': 0.022514861}, {'daily_vol_diff_pct30': 0.026157012}, {'volume_vol_3D': 0.022106295}, {'volume_vol_450M': 0.023887245}, {'close_diff_deviation': 0.024473589}, {'return_vol_30D': 0.025694223}, {'close_diff_deviation3': 0.025259675}, {'return_vol_16H': 0.024184776}, {'volume_vol_30M': 0.020465558}, {'rsi': 0.02507313}, {'threeD_stddev50': 0.02679915}, {'close_diff5': 0.02704115}, {'range_vol10MA': 0.025540045}, {'SPY_5D': 0.027431596}, {'daily_vol_diff': 0.04287137}, {'SPY_diff3': 0.02337681}, {'volume_vol_5D': 0.022883808}, {'rsi3': 0.027250074}, {'volume_25DDiff': 0.021094417}, {'price7': 0.024804734}]\"}\n",
      "{'deployment_date': datetime.datetime(2023, 10, 16, 0, 0), 'dataset_end': datetime.datetime(2023, 10, 6, 0, 0), 'dataset_start': datetime.datetime(2018, 1, 1, 0, 0)}\n"
     ]
    },
    {
     "name": "stderr",
     "output_type": "stream",
     "text": [
      "/var/folders/tq/_9q_lv1s2bndbr3tzzn08x4r0000gn/T/ipykernel_72521/4205899279.py:68: DtypeWarning: Columns (109,110) have mixed types. Specify dtype option on import or set low_memory=False.\n",
      "  data = pd.read_csv(f'/Users/charlesmiller/Documents/model_tester_data/CDLOSE/2018-01-01_2023-12-23_validationTR15.csv')\n"
     ]
    },
    {
     "name": "stdout",
     "output_type": "stream",
     "text": [
      "label\n",
      "1    71627\n",
      "0    58791\n",
      "Name: count, dtype: int64\n",
      "307 23 34 86\n",
      "{'model_name': 'CDLOSE:TSSIM1:1_TL15-EXP_custHypTP0.55', 'deployment_date': '2023-10-16', 'algorithm_type': 'xgboost', 'dataset': 'TSSIM1:1_TL15-EXP_custHypTP0.55', 'TP': 307, 'TPpct': Decimal('0'), 'FP': 23, 'FPpct': Decimal('0'), 'TN': 34, 'TNpct': Decimal('0'), 'FN': 86, 'FNpct': Decimal('0'), 'precision_ratio': Decimal('13.347826086956522'), 'evaluation_timeperiod': '2023-10-16_2023-10-20', 'live': False, 'hyperparameters': {\"{'subsample': 0.6, 'num_round': 1000, 'min_child_weight': 10, 'max_depth': 10, 'learning_rate': 0.1, 'gamma': 2, 'colsample_bytree': 1}\"}, 'features': {\"['SPY_diff', 'day_of_week', 'return_vol_5D', 'hour_volume_vol_diff', 'return_vol_240M', 'volume_vol_8H', 'range_vol_diff5', 'return_vol_30M', 'daily_volume_vol_diff30', 'close_diff', 'volume_vol_15M', 'return_vol_10D', 'daily_vol_diff_pct', 'daily_volume_vol_diff_pct30', 'range_vol5MA', 'cmf', 'return_vol_450M', 'hour_volume_vol_diff_pct', 'min_vol_diff', 'price_25DDiff', 'return_vol_3D', 'daily_vol_diff_pct30', 'volume_vol_3D', 'volume_vol_450M', 'close_diff_deviation', 'return_vol_30D', 'close_diff_deviation3', 'return_vol_16H', 'volume_vol_30M', 'rsi', 'threeD_stddev50', 'close_diff5', 'range_vol10MA', 'SPY_5D', 'daily_vol_diff', 'SPY_diff3', 'volume_vol_5D', 'rsi3', 'volume_25DDiff', 'price7']\"}, 'target': '-1.198+three_min_vol', 'feature_importances': \"[{'SPY_diff': 0.02383373}, {'day_of_week': 0.026969438}, {'return_vol_5D': 0.024288364}, {'hour_volume_vol_diff': 0.023169719}, {'return_vol_240M': 0.023097292}, {'volume_vol_8H': 0.022515653}, {'range_vol_diff5': 0.025160987}, {'return_vol_30M': 0.026019037}, {'daily_volume_vol_diff30': 0.022557661}, {'close_diff': 0.024949241}, {'volume_vol_15M': 0.01936487}, {'return_vol_10D': 0.032775495}, {'daily_vol_diff_pct': 0.028173443}, {'daily_volume_vol_diff_pct30': 0.02337242}, {'range_vol5MA': 0.024857437}, {'cmf': 0.02436937}, {'return_vol_450M': 0.02763058}, {'hour_volume_vol_diff_pct': 0.022417856}, {'min_vol_diff': 0.020571962}, {'price_25DDiff': 0.025622612}, {'return_vol_3D': 0.02242859}, {'daily_vol_diff_pct30': 0.026625063}, {'volume_vol_3D': 0.022297524}, {'volume_vol_450M': 0.023998503}, {'close_diff_deviation': 0.024154427}, {'return_vol_30D': 0.026712047}, {'close_diff_deviation3': 0.025752341}, {'return_vol_16H': 0.024122795}, {'volume_vol_30M': 0.019961046}, {'rsi': 0.025707627}, {'threeD_stddev50': 0.025884405}, {'close_diff5': 0.026819216}, {'range_vol10MA': 0.025744606}, {'SPY_5D': 0.027245115}, {'daily_vol_diff': 0.040458363}, {'SPY_diff3': 0.023754893}, {'volume_vol_5D': 0.023055471}, {'rsi3': 0.027965222}, {'volume_25DDiff': 0.021774983}, {'price7': 0.02382067}]\"}\n",
      "{'deployment_date': datetime.datetime(2023, 10, 23, 0, 0), 'dataset_end': datetime.datetime(2023, 10, 13, 0, 0), 'dataset_start': datetime.datetime(2018, 1, 1, 0, 0)}\n"
     ]
    },
    {
     "name": "stderr",
     "output_type": "stream",
     "text": [
      "/var/folders/tq/_9q_lv1s2bndbr3tzzn08x4r0000gn/T/ipykernel_72521/4205899279.py:68: DtypeWarning: Columns (109,110) have mixed types. Specify dtype option on import or set low_memory=False.\n",
      "  data = pd.read_csv(f'/Users/charlesmiller/Documents/model_tester_data/CDLOSE/2018-01-01_2023-12-23_validationTR15.csv')\n"
     ]
    },
    {
     "name": "stdout",
     "output_type": "stream",
     "text": [
      "label\n",
      "1    71885\n",
      "0    58983\n",
      "Name: count, dtype: int64\n",
      "225 100 61 64\n",
      "{'model_name': 'CDLOSE:TSSIM1:1_TL15-EXP_custHypTP0.55', 'deployment_date': '2023-10-23', 'algorithm_type': 'xgboost', 'dataset': 'TSSIM1:1_TL15-EXP_custHypTP0.55', 'TP': 225, 'TPpct': Decimal('0'), 'FP': 100, 'FPpct': Decimal('0'), 'TN': 61, 'TNpct': Decimal('0'), 'FN': 64, 'FNpct': Decimal('0'), 'precision_ratio': Decimal('2.25'), 'evaluation_timeperiod': '2023-10-23_2023-10-27', 'live': False, 'hyperparameters': {\"{'subsample': 0.6, 'num_round': 1000, 'min_child_weight': 10, 'max_depth': 10, 'learning_rate': 0.1, 'gamma': 2, 'colsample_bytree': 1}\"}, 'features': {\"['SPY_diff', 'day_of_week', 'return_vol_5D', 'hour_volume_vol_diff', 'return_vol_240M', 'volume_vol_8H', 'range_vol_diff5', 'return_vol_30M', 'daily_volume_vol_diff30', 'close_diff', 'volume_vol_15M', 'return_vol_10D', 'daily_vol_diff_pct', 'daily_volume_vol_diff_pct30', 'range_vol5MA', 'cmf', 'return_vol_450M', 'hour_volume_vol_diff_pct', 'min_vol_diff', 'price_25DDiff', 'return_vol_3D', 'daily_vol_diff_pct30', 'volume_vol_3D', 'volume_vol_450M', 'close_diff_deviation', 'return_vol_30D', 'close_diff_deviation3', 'return_vol_16H', 'volume_vol_30M', 'rsi', 'threeD_stddev50', 'close_diff5', 'range_vol10MA', 'SPY_5D', 'daily_vol_diff', 'SPY_diff3', 'volume_vol_5D', 'rsi3', 'volume_25DDiff', 'price7']\"}, 'target': '-1.198+three_min_vol', 'feature_importances': \"[{'SPY_diff': 0.023832267}, {'day_of_week': 0.026912436}, {'return_vol_5D': 0.024891574}, {'hour_volume_vol_diff': 0.023353504}, {'return_vol_240M': 0.02302542}, {'volume_vol_8H': 0.02261795}, {'range_vol_diff5': 0.024913946}, {'return_vol_30M': 0.025373219}, {'daily_volume_vol_diff30': 0.022772664}, {'close_diff': 0.025377415}, {'volume_vol_15M': 0.018731492}, {'return_vol_10D': 0.032670137}, {'daily_vol_diff_pct': 0.02791912}, {'daily_volume_vol_diff_pct30': 0.023165261}, {'range_vol5MA': 0.024940068}, {'cmf': 0.02407514}, {'return_vol_450M': 0.026920034}, {'hour_volume_vol_diff_pct': 0.023543006}, {'min_vol_diff': 0.019876553}, {'price_25DDiff': 0.025436865}, {'return_vol_3D': 0.022461887}, {'daily_vol_diff_pct30': 0.02585734}, {'volume_vol_3D': 0.02240199}, {'volume_vol_450M': 0.024542348}, {'close_diff_deviation': 0.024370227}, {'return_vol_30D': 0.025916291}, {'close_diff_deviation3': 0.02597939}, {'return_vol_16H': 0.024323335}, {'volume_vol_30M': 0.020204324}, {'rsi': 0.025368791}, {'threeD_stddev50': 0.025441626}, {'close_diff5': 0.026592383}, {'range_vol10MA': 0.026742352}, {'SPY_5D': 0.027588977}, {'daily_vol_diff': 0.042000055}, {'SPY_diff3': 0.022760497}, {'volume_vol_5D': 0.023067558}, {'rsi3': 0.027051615}, {'volume_25DDiff': 0.021960288}, {'price7': 0.025020633}]\"}\n",
      "{'deployment_date': datetime.datetime(2023, 10, 30, 0, 0), 'dataset_end': datetime.datetime(2023, 10, 20, 0, 0), 'dataset_start': datetime.datetime(2018, 1, 1, 0, 0)}\n"
     ]
    },
    {
     "name": "stderr",
     "output_type": "stream",
     "text": [
      "/var/folders/tq/_9q_lv1s2bndbr3tzzn08x4r0000gn/T/ipykernel_72521/4205899279.py:68: DtypeWarning: Columns (109,110) have mixed types. Specify dtype option on import or set low_memory=False.\n",
      "  data = pd.read_csv(f'/Users/charlesmiller/Documents/model_tester_data/CDLOSE/2018-01-01_2023-12-23_validationTR15.csv')\n"
     ]
    },
    {
     "name": "stdout",
     "output_type": "stream",
     "text": [
      "label\n",
      "1    72122\n",
      "0    59196\n",
      "Name: count, dtype: int64\n",
      "58 170 185 37\n",
      "{'model_name': 'CDLOSE:TSSIM1:1_TL15-EXP_custHypTP0.55', 'deployment_date': '2023-10-30', 'algorithm_type': 'xgboost', 'dataset': 'TSSIM1:1_TL15-EXP_custHypTP0.55', 'TP': 58, 'TPpct': Decimal('0'), 'FP': 170, 'FPpct': Decimal('0'), 'TN': 185, 'TNpct': Decimal('0'), 'FN': 37, 'FNpct': Decimal('0'), 'precision_ratio': Decimal('0.3411764705882353'), 'evaluation_timeperiod': '2023-10-30_2023-11-03', 'live': False, 'hyperparameters': {\"{'subsample': 0.6, 'num_round': 1000, 'min_child_weight': 10, 'max_depth': 10, 'learning_rate': 0.1, 'gamma': 2, 'colsample_bytree': 1}\"}, 'features': {\"['SPY_diff', 'day_of_week', 'return_vol_5D', 'hour_volume_vol_diff', 'return_vol_240M', 'volume_vol_8H', 'range_vol_diff5', 'return_vol_30M', 'daily_volume_vol_diff30', 'close_diff', 'volume_vol_15M', 'return_vol_10D', 'daily_vol_diff_pct', 'daily_volume_vol_diff_pct30', 'range_vol5MA', 'cmf', 'return_vol_450M', 'hour_volume_vol_diff_pct', 'min_vol_diff', 'price_25DDiff', 'return_vol_3D', 'daily_vol_diff_pct30', 'volume_vol_3D', 'volume_vol_450M', 'close_diff_deviation', 'return_vol_30D', 'close_diff_deviation3', 'return_vol_16H', 'volume_vol_30M', 'rsi', 'threeD_stddev50', 'close_diff5', 'range_vol10MA', 'SPY_5D', 'daily_vol_diff', 'SPY_diff3', 'volume_vol_5D', 'rsi3', 'volume_25DDiff', 'price7']\"}, 'target': '-1.202+three_min_vol', 'feature_importances': \"[{'SPY_diff': 0.023367714}, {'day_of_week': 0.026473027}, {'return_vol_5D': 0.0252546}, {'hour_volume_vol_diff': 0.02349442}, {'return_vol_240M': 0.022459336}, {'volume_vol_8H': 0.022416035}, {'range_vol_diff5': 0.025314786}, {'return_vol_30M': 0.025308155}, {'daily_volume_vol_diff30': 0.02295203}, {'close_diff': 0.025304554}, {'volume_vol_15M': 0.019564863}, {'return_vol_10D': 0.032924045}, {'daily_vol_diff_pct': 0.028687986}, {'daily_volume_vol_diff_pct30': 0.022640174}, {'range_vol5MA': 0.02549287}, {'cmf': 0.024252925}, {'return_vol_450M': 0.027632061}, {'hour_volume_vol_diff_pct': 0.022837395}, {'min_vol_diff': 0.019935416}, {'price_25DDiff': 0.025284009}, {'return_vol_3D': 0.023041235}, {'daily_vol_diff_pct30': 0.02618689}, {'volume_vol_3D': 0.02208803}, {'volume_vol_450M': 0.02397585}, {'close_diff_deviation': 0.024401426}, {'return_vol_30D': 0.025891572}, {'close_diff_deviation3': 0.025879642}, {'return_vol_16H': 0.024616925}, {'volume_vol_30M': 0.01980912}, {'rsi': 0.024959791}, {'threeD_stddev50': 0.024976548}, {'close_diff5': 0.025664829}, {'range_vol10MA': 0.025987875}, {'SPY_5D': 0.02702564}, {'daily_vol_diff': 0.042120114}, {'SPY_diff3': 0.023771463}, {'volume_vol_5D': 0.022509128}, {'rsi3': 0.028677406}, {'volume_25DDiff': 0.021902231}, {'price7': 0.024917886}]\"}\n",
      "{'deployment_date': datetime.datetime(2023, 11, 6, 0, 0), 'dataset_end': datetime.datetime(2023, 10, 27, 0, 0), 'dataset_start': datetime.datetime(2018, 1, 1, 0, 0)}\n"
     ]
    },
    {
     "name": "stderr",
     "output_type": "stream",
     "text": [
      "/var/folders/tq/_9q_lv1s2bndbr3tzzn08x4r0000gn/T/ipykernel_72521/4205899279.py:68: DtypeWarning: Columns (109,110) have mixed types. Specify dtype option on import or set low_memory=False.\n",
      "  data = pd.read_csv(f'/Users/charlesmiller/Documents/model_tester_data/CDLOSE/2018-01-01_2023-12-23_validationTR15.csv')\n"
     ]
    },
    {
     "name": "stdout",
     "output_type": "stream",
     "text": [
      "label\n",
      "1    72369\n",
      "0    59399\n",
      "Name: count, dtype: int64\n",
      "85 95 181 89\n",
      "{'model_name': 'CDLOSE:TSSIM1:1_TL15-EXP_custHypTP0.55', 'deployment_date': '2023-11-06', 'algorithm_type': 'xgboost', 'dataset': 'TSSIM1:1_TL15-EXP_custHypTP0.55', 'TP': 85, 'TPpct': Decimal('0'), 'FP': 95, 'FPpct': Decimal('0'), 'TN': 181, 'TNpct': Decimal('0'), 'FN': 89, 'FNpct': Decimal('0'), 'precision_ratio': Decimal('0.8947368421052632'), 'evaluation_timeperiod': '2023-11-06_2023-11-10', 'live': False, 'hyperparameters': {\"{'subsample': 0.6, 'num_round': 1000, 'min_child_weight': 10, 'max_depth': 10, 'learning_rate': 0.1, 'gamma': 2, 'colsample_bytree': 1}\"}, 'features': {\"['SPY_diff', 'day_of_week', 'return_vol_5D', 'hour_volume_vol_diff', 'return_vol_240M', 'volume_vol_8H', 'range_vol_diff5', 'return_vol_30M', 'daily_volume_vol_diff30', 'close_diff', 'volume_vol_15M', 'return_vol_10D', 'daily_vol_diff_pct', 'daily_volume_vol_diff_pct30', 'range_vol5MA', 'cmf', 'return_vol_450M', 'hour_volume_vol_diff_pct', 'min_vol_diff', 'price_25DDiff', 'return_vol_3D', 'daily_vol_diff_pct30', 'volume_vol_3D', 'volume_vol_450M', 'close_diff_deviation', 'return_vol_30D', 'close_diff_deviation3', 'return_vol_16H', 'volume_vol_30M', 'rsi', 'threeD_stddev50', 'close_diff5', 'range_vol10MA', 'SPY_5D', 'daily_vol_diff', 'SPY_diff3', 'volume_vol_5D', 'rsi3', 'volume_25DDiff', 'price7']\"}, 'target': '-1.203+three_min_vol', 'feature_importances': \"[{'SPY_diff': 0.024013875}, {'day_of_week': 0.026623052}, {'return_vol_5D': 0.025410462}, {'hour_volume_vol_diff': 0.023243235}, {'return_vol_240M': 0.02321265}, {'volume_vol_8H': 0.022795528}, {'range_vol_diff5': 0.02636476}, {'return_vol_30M': 0.025499368}, {'daily_volume_vol_diff30': 0.022323562}, {'close_diff': 0.024324121}, {'volume_vol_15M': 0.01963085}, {'return_vol_10D': 0.031852398}, {'daily_vol_diff_pct': 0.028176328}, {'daily_volume_vol_diff_pct30': 0.022719404}, {'range_vol5MA': 0.025234248}, {'cmf': 0.02351579}, {'return_vol_450M': 0.027173445}, {'hour_volume_vol_diff_pct': 0.023329105}, {'min_vol_diff': 0.019788697}, {'price_25DDiff': 0.025425581}, {'return_vol_3D': 0.023120362}, {'daily_vol_diff_pct30': 0.025728153}, {'volume_vol_3D': 0.02291239}, {'volume_vol_450M': 0.023566714}, {'close_diff_deviation': 0.024556622}, {'return_vol_30D': 0.02587188}, {'close_diff_deviation3': 0.02556297}, {'return_vol_16H': 0.023738848}, {'volume_vol_30M': 0.020891065}, {'rsi': 0.025381796}, {'threeD_stddev50': 0.025944429}, {'close_diff5': 0.0255631}, {'range_vol10MA': 0.025386345}, {'SPY_5D': 0.026663354}, {'daily_vol_diff': 0.043104753}, {'SPY_diff3': 0.024185931}, {'volume_vol_5D': 0.022724343}, {'rsi3': 0.028319005}, {'volume_25DDiff': 0.021654848}, {'price7': 0.024466587}]\"}\n",
      "{'deployment_date': datetime.datetime(2023, 11, 13, 0, 0), 'dataset_end': datetime.datetime(2023, 11, 3, 0, 0), 'dataset_start': datetime.datetime(2018, 1, 1, 0, 0)}\n"
     ]
    },
    {
     "name": "stderr",
     "output_type": "stream",
     "text": [
      "/var/folders/tq/_9q_lv1s2bndbr3tzzn08x4r0000gn/T/ipykernel_72521/4205899279.py:68: DtypeWarning: Columns (109,110) have mixed types. Specify dtype option on import or set low_memory=False.\n",
      "  data = pd.read_csv(f'/Users/charlesmiller/Documents/model_tester_data/CDLOSE/2018-01-01_2023-12-23_validationTR15.csv')\n"
     ]
    },
    {
     "name": "stdout",
     "output_type": "stream",
     "text": [
      "label\n",
      "1    72607\n",
      "0    59611\n",
      "Name: count, dtype: int64\n",
      "52 133 218 47\n",
      "{'model_name': 'CDLOSE:TSSIM1:1_TL15-EXP_custHypTP0.55', 'deployment_date': '2023-11-13', 'algorithm_type': 'xgboost', 'dataset': 'TSSIM1:1_TL15-EXP_custHypTP0.55', 'TP': 52, 'TPpct': Decimal('0'), 'FP': 133, 'FPpct': Decimal('0'), 'TN': 218, 'TNpct': Decimal('0'), 'FN': 47, 'FNpct': Decimal('0'), 'precision_ratio': Decimal('0.39097744360902253'), 'evaluation_timeperiod': '2023-11-13_2023-11-17', 'live': False, 'hyperparameters': {\"{'subsample': 0.6, 'num_round': 1000, 'min_child_weight': 10, 'max_depth': 10, 'learning_rate': 0.1, 'gamma': 2, 'colsample_bytree': 1}\"}, 'features': {\"['SPY_diff', 'day_of_week', 'return_vol_5D', 'hour_volume_vol_diff', 'return_vol_240M', 'volume_vol_8H', 'range_vol_diff5', 'return_vol_30M', 'daily_volume_vol_diff30', 'close_diff', 'volume_vol_15M', 'return_vol_10D', 'daily_vol_diff_pct', 'daily_volume_vol_diff_pct30', 'range_vol5MA', 'cmf', 'return_vol_450M', 'hour_volume_vol_diff_pct', 'min_vol_diff', 'price_25DDiff', 'return_vol_3D', 'daily_vol_diff_pct30', 'volume_vol_3D', 'volume_vol_450M', 'close_diff_deviation', 'return_vol_30D', 'close_diff_deviation3', 'return_vol_16H', 'volume_vol_30M', 'rsi', 'threeD_stddev50', 'close_diff5', 'range_vol10MA', 'SPY_5D', 'daily_vol_diff', 'SPY_diff3', 'volume_vol_5D', 'rsi3', 'volume_25DDiff', 'price7']\"}, 'target': '-1.2+three_min_vol', 'feature_importances': \"[{'SPY_diff': 0.023021484}, {'day_of_week': 0.026920177}, {'return_vol_5D': 0.024966279}, {'hour_volume_vol_diff': 0.023377365}, {'return_vol_240M': 0.023877189}, {'volume_vol_8H': 0.022321085}, {'range_vol_diff5': 0.0251712}, {'return_vol_30M': 0.0264815}, {'daily_volume_vol_diff30': 0.022773659}, {'close_diff': 0.02428957}, {'volume_vol_15M': 0.019870957}, {'return_vol_10D': 0.032720476}, {'daily_vol_diff_pct': 0.02723953}, {'daily_volume_vol_diff_pct30': 0.022547074}, {'range_vol5MA': 0.02506573}, {'cmf': 0.024523878}, {'return_vol_450M': 0.027026704}, {'hour_volume_vol_diff_pct': 0.02404263}, {'min_vol_diff': 0.019976502}, {'price_25DDiff': 0.024938202}, {'return_vol_3D': 0.02323986}, {'daily_vol_diff_pct30': 0.026081674}, {'volume_vol_3D': 0.021768115}, {'volume_vol_450M': 0.024577737}, {'close_diff_deviation': 0.024413021}, {'return_vol_30D': 0.025763057}, {'close_diff_deviation3': 0.02563314}, {'return_vol_16H': 0.024726845}, {'volume_vol_30M': 0.019841125}, {'rsi': 0.025855139}, {'threeD_stddev50': 0.025638469}, {'close_diff5': 0.025547775}, {'range_vol10MA': 0.026940295}, {'SPY_5D': 0.02725018}, {'daily_vol_diff': 0.041473363}, {'SPY_diff3': 0.024022117}, {'volume_vol_5D': 0.022740183}, {'rsi3': 0.0279914}, {'volume_25DDiff': 0.021023659}, {'price7': 0.024321644}]\"}\n",
      "{'deployment_date': datetime.datetime(2023, 11, 20, 0, 0), 'dataset_end': datetime.datetime(2023, 11, 10, 0, 0), 'dataset_start': datetime.datetime(2018, 1, 1, 0, 0)}\n"
     ]
    },
    {
     "name": "stderr",
     "output_type": "stream",
     "text": [
      "/var/folders/tq/_9q_lv1s2bndbr3tzzn08x4r0000gn/T/ipykernel_72521/4205899279.py:68: DtypeWarning: Columns (109,110) have mixed types. Specify dtype option on import or set low_memory=False.\n",
      "  data = pd.read_csv(f'/Users/charlesmiller/Documents/model_tester_data/CDLOSE/2018-01-01_2023-12-23_validationTR15.csv')\n"
     ]
    },
    {
     "name": "stdout",
     "output_type": "stream",
     "text": [
      "label\n",
      "1    72881\n",
      "0    59787\n",
      "Name: count, dtype: int64\n",
      "41 94 171 54\n",
      "{'model_name': 'CDLOSE:TSSIM1:1_TL15-EXP_custHypTP0.55', 'deployment_date': '2023-11-20', 'algorithm_type': 'xgboost', 'dataset': 'TSSIM1:1_TL15-EXP_custHypTP0.55', 'TP': 41, 'TPpct': Decimal('0'), 'FP': 94, 'FPpct': Decimal('0'), 'TN': 171, 'TNpct': Decimal('0'), 'FN': 54, 'FNpct': Decimal('0'), 'precision_ratio': Decimal('0.43617021276595747'), 'evaluation_timeperiod': '2023-11-20_2023-11-24', 'live': False, 'hyperparameters': {\"{'subsample': 0.6, 'num_round': 1000, 'min_child_weight': 10, 'max_depth': 10, 'learning_rate': 0.1, 'gamma': 2, 'colsample_bytree': 1}\"}, 'features': {\"['SPY_diff', 'day_of_week', 'return_vol_5D', 'hour_volume_vol_diff', 'return_vol_240M', 'volume_vol_8H', 'range_vol_diff5', 'return_vol_30M', 'daily_volume_vol_diff30', 'close_diff', 'volume_vol_15M', 'return_vol_10D', 'daily_vol_diff_pct', 'daily_volume_vol_diff_pct30', 'range_vol5MA', 'cmf', 'return_vol_450M', 'hour_volume_vol_diff_pct', 'min_vol_diff', 'price_25DDiff', 'return_vol_3D', 'daily_vol_diff_pct30', 'volume_vol_3D', 'volume_vol_450M', 'close_diff_deviation', 'return_vol_30D', 'close_diff_deviation3', 'return_vol_16H', 'volume_vol_30M', 'rsi', 'threeD_stddev50', 'close_diff5', 'range_vol10MA', 'SPY_5D', 'daily_vol_diff', 'SPY_diff3', 'volume_vol_5D', 'rsi3', 'volume_25DDiff', 'price7']\"}, 'target': '-1.199+three_min_vol', 'feature_importances': \"[{'SPY_diff': 0.023959989}, {'day_of_week': 0.027292944}, {'return_vol_5D': 0.02466562}, {'hour_volume_vol_diff': 0.022998627}, {'return_vol_240M': 0.023438858}, {'volume_vol_8H': 0.021948526}, {'range_vol_diff5': 0.025433242}, {'return_vol_30M': 0.026732476}, {'daily_volume_vol_diff30': 0.022589687}, {'close_diff': 0.025420599}, {'volume_vol_15M': 0.01857062}, {'return_vol_10D': 0.03242721}, {'daily_vol_diff_pct': 0.028516453}, {'daily_volume_vol_diff_pct30': 0.023716828}, {'range_vol5MA': 0.025335327}, {'cmf': 0.024208242}, {'return_vol_450M': 0.027095784}, {'hour_volume_vol_diff_pct': 0.02310221}, {'min_vol_diff': 0.020482417}, {'price_25DDiff': 0.025019841}, {'return_vol_3D': 0.023739066}, {'daily_vol_diff_pct30': 0.026160492}, {'volume_vol_3D': 0.02231786}, {'volume_vol_450M': 0.023793986}, {'close_diff_deviation': 0.024205515}, {'return_vol_30D': 0.026175117}, {'close_diff_deviation3': 0.02518446}, {'return_vol_16H': 0.023530783}, {'volume_vol_30M': 0.020397767}, {'rsi': 0.024950247}, {'threeD_stddev50': 0.026020098}, {'close_diff5': 0.025444774}, {'range_vol10MA': 0.02688466}, {'SPY_5D': 0.02773874}, {'daily_vol_diff': 0.04014263}, {'SPY_diff3': 0.023739154}, {'volume_vol_5D': 0.022840906}, {'rsi3': 0.02695816}, {'volume_25DDiff': 0.022221114}, {'price7': 0.024598997}]\"}\n",
      "{'deployment_date': datetime.datetime(2023, 11, 27, 0, 0), 'dataset_end': datetime.datetime(2023, 11, 17, 0, 0), 'dataset_start': datetime.datetime(2018, 1, 1, 0, 0)}\n"
     ]
    },
    {
     "name": "stderr",
     "output_type": "stream",
     "text": [
      "/var/folders/tq/_9q_lv1s2bndbr3tzzn08x4r0000gn/T/ipykernel_72521/4205899279.py:68: DtypeWarning: Columns (109,110) have mixed types. Specify dtype option on import or set low_memory=False.\n",
      "  data = pd.read_csv(f'/Users/charlesmiller/Documents/model_tester_data/CDLOSE/2018-01-01_2023-12-23_validationTR15.csv')\n"
     ]
    },
    {
     "name": "stdout",
     "output_type": "stream",
     "text": [
      "label\n",
      "1    73125\n",
      "0    59993\n",
      "Name: count, dtype: int64\n",
      "163 121 77 89\n",
      "{'model_name': 'CDLOSE:TSSIM1:1_TL15-EXP_custHypTP0.55', 'deployment_date': '2023-11-27', 'algorithm_type': 'xgboost', 'dataset': 'TSSIM1:1_TL15-EXP_custHypTP0.55', 'TP': 163, 'TPpct': Decimal('0'), 'FP': 121, 'FPpct': Decimal('0'), 'TN': 77, 'TNpct': Decimal('0'), 'FN': 89, 'FNpct': Decimal('0'), 'precision_ratio': Decimal('1.3471074380165289'), 'evaluation_timeperiod': '2023-11-27_2023-12-01', 'live': False, 'hyperparameters': {\"{'subsample': 0.6, 'num_round': 1000, 'min_child_weight': 10, 'max_depth': 10, 'learning_rate': 0.1, 'gamma': 2, 'colsample_bytree': 1}\"}, 'features': {\"['SPY_diff', 'day_of_week', 'return_vol_5D', 'hour_volume_vol_diff', 'return_vol_240M', 'volume_vol_8H', 'range_vol_diff5', 'return_vol_30M', 'daily_volume_vol_diff30', 'close_diff', 'volume_vol_15M', 'return_vol_10D', 'daily_vol_diff_pct', 'daily_volume_vol_diff_pct30', 'range_vol5MA', 'cmf', 'return_vol_450M', 'hour_volume_vol_diff_pct', 'min_vol_diff', 'price_25DDiff', 'return_vol_3D', 'daily_vol_diff_pct30', 'volume_vol_3D', 'volume_vol_450M', 'close_diff_deviation', 'return_vol_30D', 'close_diff_deviation3', 'return_vol_16H', 'volume_vol_30M', 'rsi', 'threeD_stddev50', 'close_diff5', 'range_vol10MA', 'SPY_5D', 'daily_vol_diff', 'SPY_diff3', 'volume_vol_5D', 'rsi3', 'volume_25DDiff', 'price7']\"}, 'target': '-1.196+three_min_vol', 'feature_importances': \"[{'SPY_diff': 0.023113538}, {'day_of_week': 0.026474448}, {'return_vol_5D': 0.024513772}, {'hour_volume_vol_diff': 0.024280054}, {'return_vol_240M': 0.023440208}, {'volume_vol_8H': 0.022689791}, {'range_vol_diff5': 0.024917098}, {'return_vol_30M': 0.024916805}, {'daily_volume_vol_diff30': 0.023783851}, {'close_diff': 0.02550861}, {'volume_vol_15M': 0.018434083}, {'return_vol_10D': 0.03305346}, {'daily_vol_diff_pct': 0.028029852}, {'daily_volume_vol_diff_pct30': 0.022343298}, {'range_vol5MA': 0.025628848}, {'cmf': 0.024271145}, {'return_vol_450M': 0.027115805}, {'hour_volume_vol_diff_pct': 0.022985263}, {'min_vol_diff': 0.019778721}, {'price_25DDiff': 0.025578106}, {'return_vol_3D': 0.022807574}, {'daily_vol_diff_pct30': 0.02705768}, {'volume_vol_3D': 0.02276165}, {'volume_vol_450M': 0.024223965}, {'close_diff_deviation': 0.024502449}, {'return_vol_30D': 0.026074987}, {'close_diff_deviation3': 0.026086971}, {'return_vol_16H': 0.024096636}, {'volume_vol_30M': 0.020523397}, {'rsi': 0.025486404}, {'threeD_stddev50': 0.026261078}, {'close_diff5': 0.025323555}, {'range_vol10MA': 0.02556865}, {'SPY_5D': 0.026997527}, {'daily_vol_diff': 0.040768225}, {'SPY_diff3': 0.023594052}, {'volume_vol_5D': 0.02304006}, {'rsi3': 0.027698759}, {'volume_25DDiff': 0.021488786}, {'price7': 0.024780825}]\"}\n",
      "{'deployment_date': datetime.datetime(2023, 12, 4, 0, 0), 'dataset_end': datetime.datetime(2023, 11, 24, 0, 0), 'dataset_start': datetime.datetime(2018, 1, 1, 0, 0)}\n"
     ]
    },
    {
     "name": "stderr",
     "output_type": "stream",
     "text": [
      "/var/folders/tq/_9q_lv1s2bndbr3tzzn08x4r0000gn/T/ipykernel_72521/4205899279.py:68: DtypeWarning: Columns (109,110) have mixed types. Specify dtype option on import or set low_memory=False.\n",
      "  data = pd.read_csv(f'/Users/charlesmiller/Documents/model_tester_data/CDLOSE/2018-01-01_2023-12-23_validationTR15.csv')\n"
     ]
    },
    {
     "name": "stdout",
     "output_type": "stream",
     "text": [
      "label\n",
      "1    73309\n",
      "0    60169\n",
      "Name: count, dtype: int64\n",
      "136 197 87 30\n",
      "{'model_name': 'CDLOSE:TSSIM1:1_TL15-EXP_custHypTP0.55', 'deployment_date': '2023-12-04', 'algorithm_type': 'xgboost', 'dataset': 'TSSIM1:1_TL15-EXP_custHypTP0.55', 'TP': 136, 'TPpct': Decimal('0'), 'FP': 197, 'FPpct': Decimal('0'), 'TN': 87, 'TNpct': Decimal('0'), 'FN': 30, 'FNpct': Decimal('0'), 'precision_ratio': Decimal('0.6903553299492385'), 'evaluation_timeperiod': '2023-12-04_2023-12-08', 'live': False, 'hyperparameters': {\"{'subsample': 0.6, 'num_round': 1000, 'min_child_weight': 10, 'max_depth': 10, 'learning_rate': 0.1, 'gamma': 2, 'colsample_bytree': 1}\"}, 'features': {\"['SPY_diff', 'day_of_week', 'return_vol_5D', 'hour_volume_vol_diff', 'return_vol_240M', 'volume_vol_8H', 'range_vol_diff5', 'return_vol_30M', 'daily_volume_vol_diff30', 'close_diff', 'volume_vol_15M', 'return_vol_10D', 'daily_vol_diff_pct', 'daily_volume_vol_diff_pct30', 'range_vol5MA', 'cmf', 'return_vol_450M', 'hour_volume_vol_diff_pct', 'min_vol_diff', 'price_25DDiff', 'return_vol_3D', 'daily_vol_diff_pct30', 'volume_vol_3D', 'volume_vol_450M', 'close_diff_deviation', 'return_vol_30D', 'close_diff_deviation3', 'return_vol_16H', 'volume_vol_30M', 'rsi', 'threeD_stddev50', 'close_diff5', 'range_vol10MA', 'SPY_5D', 'daily_vol_diff', 'SPY_diff3', 'volume_vol_5D', 'rsi3', 'volume_25DDiff', 'price7']\"}, 'target': '-1.193+three_min_vol', 'feature_importances': \"[{'SPY_diff': 0.023580978}, {'day_of_week': 0.028005036}, {'return_vol_5D': 0.025161551}, {'hour_volume_vol_diff': 0.024145018}, {'return_vol_240M': 0.021964198}, {'volume_vol_8H': 0.022620363}, {'range_vol_diff5': 0.024787156}, {'return_vol_30M': 0.026041452}, {'daily_volume_vol_diff30': 0.023690712}, {'close_diff': 0.025284676}, {'volume_vol_15M': 0.019166239}, {'return_vol_10D': 0.03154905}, {'daily_vol_diff_pct': 0.028447753}, {'daily_volume_vol_diff_pct30': 0.022801505}, {'range_vol5MA': 0.02440511}, {'cmf': 0.023929914}, {'return_vol_450M': 0.027961314}, {'hour_volume_vol_diff_pct': 0.021835534}, {'min_vol_diff': 0.020149268}, {'price_25DDiff': 0.02513037}, {'return_vol_3D': 0.023467895}, {'daily_vol_diff_pct30': 0.02641633}, {'volume_vol_3D': 0.021294165}, {'volume_vol_450M': 0.024125908}, {'close_diff_deviation': 0.024599075}, {'return_vol_30D': 0.026085984}, {'close_diff_deviation3': 0.02561656}, {'return_vol_16H': 0.024915494}, {'volume_vol_30M': 0.020471273}, {'rsi': 0.024639163}, {'threeD_stddev50': 0.025843533}, {'close_diff5': 0.025907785}, {'range_vol10MA': 0.02619726}, {'SPY_5D': 0.02680806}, {'daily_vol_diff': 0.043094397}, {'SPY_diff3': 0.023412349}, {'volume_vol_5D': 0.022948412}, {'rsi3': 0.027715996}, {'volume_25DDiff': 0.021459261}, {'price7': 0.02432398}]\"}\n",
      "{'deployment_date': datetime.datetime(2023, 12, 11, 0, 0), 'dataset_end': datetime.datetime(2023, 12, 1, 0, 0), 'dataset_start': datetime.datetime(2018, 1, 1, 0, 0)}\n"
     ]
    },
    {
     "name": "stderr",
     "output_type": "stream",
     "text": [
      "/var/folders/tq/_9q_lv1s2bndbr3tzzn08x4r0000gn/T/ipykernel_72521/4205899279.py:68: DtypeWarning: Columns (109,110) have mixed types. Specify dtype option on import or set low_memory=False.\n",
      "  data = pd.read_csv(f'/Users/charlesmiller/Documents/model_tester_data/CDLOSE/2018-01-01_2023-12-23_validationTR15.csv')\n"
     ]
    },
    {
     "name": "stdout",
     "output_type": "stream",
     "text": [
      "label\n",
      "1    73577\n",
      "0    60351\n",
      "Name: count, dtype: int64\n",
      "97 209 111 33\n",
      "{'model_name': 'CDLOSE:TSSIM1:1_TL15-EXP_custHypTP0.55', 'deployment_date': '2023-12-11', 'algorithm_type': 'xgboost', 'dataset': 'TSSIM1:1_TL15-EXP_custHypTP0.55', 'TP': 97, 'TPpct': Decimal('0'), 'FP': 209, 'FPpct': Decimal('0'), 'TN': 111, 'TNpct': Decimal('0'), 'FN': 33, 'FNpct': Decimal('0'), 'precision_ratio': Decimal('0.46411483253588515'), 'evaluation_timeperiod': '2023-12-11_2023-12-15', 'live': False, 'hyperparameters': {\"{'subsample': 0.6, 'num_round': 1000, 'min_child_weight': 10, 'max_depth': 10, 'learning_rate': 0.1, 'gamma': 2, 'colsample_bytree': 1}\"}, 'features': {\"['SPY_diff', 'day_of_week', 'return_vol_5D', 'hour_volume_vol_diff', 'return_vol_240M', 'volume_vol_8H', 'range_vol_diff5', 'return_vol_30M', 'daily_volume_vol_diff30', 'close_diff', 'volume_vol_15M', 'return_vol_10D', 'daily_vol_diff_pct', 'daily_volume_vol_diff_pct30', 'range_vol5MA', 'cmf', 'return_vol_450M', 'hour_volume_vol_diff_pct', 'min_vol_diff', 'price_25DDiff', 'return_vol_3D', 'daily_vol_diff_pct30', 'volume_vol_3D', 'volume_vol_450M', 'close_diff_deviation', 'return_vol_30D', 'close_diff_deviation3', 'return_vol_16H', 'volume_vol_30M', 'rsi', 'threeD_stddev50', 'close_diff5', 'range_vol10MA', 'SPY_5D', 'daily_vol_diff', 'SPY_diff3', 'volume_vol_5D', 'rsi3', 'volume_25DDiff', 'price7']\"}, 'target': '-1.192+three_min_vol', 'feature_importances': \"[{'SPY_diff': 0.023944605}, {'day_of_week': 0.026729733}, {'return_vol_5D': 0.024918873}, {'hour_volume_vol_diff': 0.023174677}, {'return_vol_240M': 0.022948971}, {'volume_vol_8H': 0.022359688}, {'range_vol_diff5': 0.025303178}, {'return_vol_30M': 0.026322683}, {'daily_volume_vol_diff30': 0.023212153}, {'close_diff': 0.024921257}, {'volume_vol_15M': 0.019079167}, {'return_vol_10D': 0.03351267}, {'daily_vol_diff_pct': 0.028227529}, {'daily_volume_vol_diff_pct30': 0.023028566}, {'range_vol5MA': 0.025983753}, {'cmf': 0.023917647}, {'return_vol_450M': 0.027061284}, {'hour_volume_vol_diff_pct': 0.023012491}, {'min_vol_diff': 0.02026825}, {'price_25DDiff': 0.02469958}, {'return_vol_3D': 0.022630235}, {'daily_vol_diff_pct30': 0.025310932}, {'volume_vol_3D': 0.021420712}, {'volume_vol_450M': 0.02412683}, {'close_diff_deviation': 0.02400981}, {'return_vol_30D': 0.02603281}, {'close_diff_deviation3': 0.025173837}, {'return_vol_16H': 0.024194894}, {'volume_vol_30M': 0.01990228}, {'rsi': 0.02504127}, {'threeD_stddev50': 0.025708547}, {'close_diff5': 0.02591754}, {'range_vol10MA': 0.026294617}, {'SPY_5D': 0.027373696}, {'daily_vol_diff': 0.042604282}, {'SPY_diff3': 0.0242189}, {'volume_vol_5D': 0.022796199}, {'rsi3': 0.0278137}, {'volume_25DDiff': 0.021760851}, {'price7': 0.025041325}]\"}\n",
      "{'deployment_date': datetime.datetime(2023, 12, 18, 0, 0), 'dataset_end': datetime.datetime(2023, 12, 8, 0, 0), 'dataset_start': datetime.datetime(2018, 1, 1, 0, 0)}\n"
     ]
    },
    {
     "name": "stderr",
     "output_type": "stream",
     "text": [
      "/var/folders/tq/_9q_lv1s2bndbr3tzzn08x4r0000gn/T/ipykernel_72521/4205899279.py:68: DtypeWarning: Columns (109,110) have mixed types. Specify dtype option on import or set low_memory=False.\n",
      "  data = pd.read_csv(f'/Users/charlesmiller/Documents/model_tester_data/CDLOSE/2018-01-01_2023-12-23_validationTR15.csv')\n"
     ]
    },
    {
     "name": "stdout",
     "output_type": "stream",
     "text": [
      "label\n",
      "1    73797\n",
      "0    60581\n",
      "Name: count, dtype: int64\n",
      "89 128 164 69\n",
      "{'model_name': 'CDLOSE:TSSIM1:1_TL15-EXP_custHypTP0.55', 'deployment_date': '2023-12-18', 'algorithm_type': 'xgboost', 'dataset': 'TSSIM1:1_TL15-EXP_custHypTP0.55', 'TP': 89, 'TPpct': Decimal('0'), 'FP': 128, 'FPpct': Decimal('0'), 'TN': 164, 'TNpct': Decimal('0'), 'FN': 69, 'FNpct': Decimal('0'), 'precision_ratio': Decimal('0.6953125'), 'evaluation_timeperiod': '2023-12-18_2023-12-22', 'live': False, 'hyperparameters': {\"{'subsample': 0.6, 'num_round': 1000, 'min_child_weight': 10, 'max_depth': 10, 'learning_rate': 0.1, 'gamma': 2, 'colsample_bytree': 1}\"}, 'features': {\"['SPY_diff', 'day_of_week', 'return_vol_5D', 'hour_volume_vol_diff', 'return_vol_240M', 'volume_vol_8H', 'range_vol_diff5', 'return_vol_30M', 'daily_volume_vol_diff30', 'close_diff', 'volume_vol_15M', 'return_vol_10D', 'daily_vol_diff_pct', 'daily_volume_vol_diff_pct30', 'range_vol5MA', 'cmf', 'return_vol_450M', 'hour_volume_vol_diff_pct', 'min_vol_diff', 'price_25DDiff', 'return_vol_3D', 'daily_vol_diff_pct30', 'volume_vol_3D', 'volume_vol_450M', 'close_diff_deviation', 'return_vol_30D', 'close_diff_deviation3', 'return_vol_16H', 'volume_vol_30M', 'rsi', 'threeD_stddev50', 'close_diff5', 'range_vol10MA', 'SPY_5D', 'daily_vol_diff', 'SPY_diff3', 'volume_vol_5D', 'rsi3', 'volume_25DDiff', 'price7']\"}, 'target': '-1.192+three_min_vol', 'feature_importances': \"[{'SPY_diff': 0.023588836}, {'day_of_week': 0.026524657}, {'return_vol_5D': 0.024643866}, {'hour_volume_vol_diff': 0.023648223}, {'return_vol_240M': 0.023236033}, {'volume_vol_8H': 0.022959111}, {'range_vol_diff5': 0.025734989}, {'return_vol_30M': 0.025790857}, {'daily_volume_vol_diff30': 0.023120392}, {'close_diff': 0.02551057}, {'volume_vol_15M': 0.02031276}, {'return_vol_10D': 0.033409014}, {'daily_vol_diff_pct': 0.027771523}, {'daily_volume_vol_diff_pct30': 0.0233843}, {'range_vol5MA': 0.025506943}, {'cmf': 0.02371991}, {'return_vol_450M': 0.026548944}, {'hour_volume_vol_diff_pct': 0.02389578}, {'min_vol_diff': 0.018427277}, {'price_25DDiff': 0.025422426}, {'return_vol_3D': 0.022753254}, {'daily_vol_diff_pct30': 0.02654339}, {'volume_vol_3D': 0.021941904}, {'volume_vol_450M': 0.023430292}, {'close_diff_deviation': 0.02477237}, {'return_vol_30D': 0.02646894}, {'close_diff_deviation3': 0.025443703}, {'return_vol_16H': 0.024509687}, {'volume_vol_30M': 0.018974682}, {'rsi': 0.025579924}, {'threeD_stddev50': 0.025590729}, {'close_diff5': 0.026568048}, {'range_vol10MA': 0.02575689}, {'SPY_5D': 0.02701827}, {'daily_vol_diff': 0.040644772}, {'SPY_diff3': 0.023552688}, {'volume_vol_5D': 0.022808518}, {'rsi3': 0.027952738}, {'volume_25DDiff': 0.021587221}, {'price7': 0.024945624}]\"}\n"
     ]
    }
   ],
   "source": [
    "target_percentile = 0.55\n",
    "title = 'CDLOSE'\n",
    "# target_vol = -1.44\n",
    "model_name = f'{title}:TSSIM1:1_TL15-EXP_custHypTP{target_percentile}'\n",
    "dataset_name = f'TSSIM1:1_TL15-EXP_custHypTP{target_percentile}'\n",
    "hyperparams = {'subsample': 0.6, 'num_round': 1000, 'min_child_weight': 10, 'max_depth': 10, 'learning_rate': 0.1, 'gamma': 2, 'colsample_bytree': 1}\n",
    "features = ['SPY_diff', 'day_of_week', 'return_vol_5D', 'hour_volume_vol_diff', 'return_vol_240M', 'volume_vol_8H', 'range_vol_diff5', 'return_vol_30M', \n",
    "            'daily_volume_vol_diff30', 'close_diff', 'volume_vol_15M', 'return_vol_10D', 'daily_vol_diff_pct', 'daily_volume_vol_diff_pct30', 'range_vol5MA', \n",
    "            'cmf', 'return_vol_450M', 'hour_volume_vol_diff_pct', 'min_vol_diff', 'price_25DDiff', 'return_vol_3D', 'daily_vol_diff_pct30', 'volume_vol_3D', \n",
    "            'volume_vol_450M', 'close_diff_deviation', 'return_vol_30D', 'close_diff_deviation3', 'return_vol_16H', 'volume_vol_30M', 'rsi', 'threeD_stddev50', \n",
    "            'close_diff5', 'range_vol10MA', 'SPY_5D', 'daily_vol_diff', 'SPY_diff3', 'volume_vol_5D', 'rsi3', 'volume_25DDiff', 'price7']\n",
    "\n",
    "\n",
    "target_label = 'three_min_vol'\n",
    "\n",
    "dataset_start_date = datetime(2018,1,1,tzinfo=pytz.timezone('US/Eastern')) \n",
    "dates_list = build_evaluation_period(datetime(2022,10,3), datetime(2023,12,23))\n",
    "\n",
    "# date = dates_list[-1]\n",
    "# print(date)\n",
    "# response = model_runner_data(start_date=datetime(2018,1,1),end_date=datetime(2023,12,23))\n",
    "\n",
    "# dataset = pull_training_data_local(start_date=datetime(2018,1,1),end_date=datetime(2023,12,23))\n",
    "# print(dataset['three_min_vol'].describe())\n",
    "\n",
    "for date in dates_list:\n",
    "    print(date)\n",
    "    response = model_runner_v2(model_name, dataset_name, title, features, target_label, target_percentile,\"dataset_start_date\",date['dataset_end'],date['deployment_date'], str(features),str(hyperparams), hyperparams, local_data=True, dataset_start_date=date['dataset_start'])\n",
    "    \n"
   ]
  },
  {
   "cell_type": "code",
   "execution_count": 238,
   "metadata": {},
   "outputs": [],
   "source": [
    "# def convert_timestamp_est(timestamp):\n",
    "#     # Create a naive datetime object from the UNIX timestamp\n",
    "#     dt_naive = datetime.utcfromtimestamp(timestamp)\n",
    "#     # Convert the naive datetime object to a timezone-aware one (UTC)\n",
    "#     dt_utc = pytz.utc.localize(dt_naive)\n",
    "#     # Convert the UTC datetime to EST\n",
    "#     dt_est = dt_utc.astimezone(pytz.timezone('US/Eastern'))\n",
    "    \n",
    "#     return dt_est\n",
    "\n",
    "\n",
    "# data = pd.read_csv(f'/Users/charlesmiller/Documents/model_tester_data/CDLOSE/2018-01-01_2023-12-23_trainTL15.csv')\n",
    "# data['date'] = data['date'].astype(str)\n",
    "# data['date'] = data['date'].apply(lambda x: x.split(\" \")[0])\n",
    "# data = data.drop(data[data['date'] == 'nan'].index)\n",
    "# # data.drop('date',axis=1,inplace=True)\n",
    "# # data['date'] = data['t'].apply(lambda x: convert_timestamp_est(x))\n",
    "# # data.drop(['one_pct','three_pct','Unnamed: 0.2', \"Unnamed: 0\",\"Unnamed: 0.1\", \"date_x\",\"date_y\",'vw_x', 'n_x', 'return_vol_240M_x', 'volume_vol_240M_x', 'return_vol_450M_x', 'volume_vol_450M_x', 'min_vol_diff_x', 'min_vol_diff_pct_x', 'min_volume_vol_diff_x', 'min_volume_vol_diff_pct_x', 'return_vol_8H_x', 'return_vol_16H_x', 'volume_vol_8H_x', 'volume_vol_16H_x', 'hour_vol_diff_x', 'hour_vol_diff_pct_x', 'hour_volume_vol_diff_x', 'hour_volume_vol_diff_pct_x', 'return_vol_5D_x', 'return_vol_10D_x', 'return_vol_30D_x', 'volume_vol_5D_x', 'volume_vol_10D_x', 'volume_vol_30D_x', 'daily_vol_diff_x', 'daily_vol_diff_pct_x', 'daily_vol_diff30_x', 'daily_vol_diff_pct30_x', 'daily_volume_vol_diff_x', 'daily_volume_vol_diff_pct_x', 'daily_volume_vol_diff30_x', 'daily_volume_vol_diff_pct30_x', 'vw_y', 'n_y', 'return_vol_240M_y', 'volume_vol_240M_y', 'return_vol_450M_y', 'volume_vol_450M_y', 'min_vol_diff_y', 'min_vol_diff_pct_y', 'min_volume_vol_diff_y', 'min_volume_vol_diff_pct_y', 'return_vol_8H_y', 'return_vol_16H_y', 'volume_vol_8H_y', 'volume_vol_16H_y', 'hour_vol_diff_y', 'hour_vol_diff_pct_y', 'hour_volume_vol_diff_y', 'hour_volume_vol_diff_pct_y', 'return_vol_5D_y', 'return_vol_10D_y', 'return_vol_30D_y', 'volume_vol_5D_y', 'volume_vol_10D_y', 'volume_vol_30D_y', 'daily_vol_diff_y', 'daily_vol_diff_pct_y', 'daily_vol_diff30_y', 'daily_vol_diff_pct30_y', 'daily_volume_vol_diff_y', 'daily_volume_vol_diff_pct_y', 'daily_volume_vol_diff30_y', 'daily_volume_vol_diff_pct30_y'], axis=1, inplace=True)\n",
    "# data['roc_diff'] = data['roc'] - data['roc5'] \n",
    "# data['range_vol_diff5'] = (data['range_vol'] - data['range_vol5MA'])\n",
    "# data['close_diff_deviation3'] = abs(data['close_diff3'])/(data['threeD_stddev50']*100)\n",
    "# data['close_diff_deviation'] = abs(data['close_diff'])/(data['oneD_stddev50']*100)\n",
    "# data.dropna(subset=['date'], inplace=True)\n",
    "# data['date'] = data['date'].apply(lambda x: datetime.strptime(x,\"%Y-%m-%d\"))\n",
    "# data['day_of_week'] = data['date'].apply(lambda x: x.dayofweek).astype(int)\n",
    "# data['day_of_month'] = data['date'].apply(lambda x: x.day).astype(int)\n",
    "# data['month'] = data['date'].apply(lambda x: x.month).astype(int)\n",
    "# data['year'] = data['date'].apply(lambda x: x.year).astype(int)\n",
    "# data.replace([np.inf, -np.inf], 0, inplace=True)\n",
    "# data.to_csv(f'/Users/charlesmiller/Documents/model_tester_data/CDLOSE/2018-01-01_2023-12-23_trainTL15.csv', index=False)"
   ]
  },
  {
   "cell_type": "code",
   "execution_count": 239,
   "metadata": {},
   "outputs": [],
   "source": [
    "# def run_temporal_simulation(features, target_label, target_value, dataset_start_date, evaluation_start_date, evaluation_end_date):\n",
    "#     tp_avg_list = []\n",
    "#     gross_accuracy_list = []\n",
    "#     # fn_list = []\n",
    "#     # tn_list = []\n",
    "    \n",
    "#     hyperparams = {'subsample': 0.6, 'num_round': 1000, 'min_child_weight': 10, 'max_depth': 10, 'learning_rate': 0.1, 'gamma': 2, 'colsample_bytree': 1}\n",
    "#     dates_list = build_evaluation_period(evaluation_start_date, evaluation_end_date)\n",
    "#     for date in dates_list:\n",
    "#         tp, fp, fn, tn = model_runner_temporal_simulation(features, target_label, target_value,dataset_start_date,date['dataset_end'],date['deployment_date'], hyperparams)\n",
    "#         tp_avg_list.append(tp)\n",
    "#         gross_accuracy_list.append((tp-fp))\n",
    "\n",
    "#     return tp_avg_list, gross_accuracy_list\n"
   ]
  },
  {
   "cell_type": "code",
   "execution_count": 240,
   "metadata": {},
   "outputs": [],
   "source": [
    "# number_of_simulations = 300\n",
    "# now = datetime.now()\n",
    "# title = 'CDLOSE'\n",
    "# # total_feature_list = ['Unnamed: 0.2', 'Unnamed: 0.1', 'Unnamed: 0', 'v', 'o', 'c', 'h', 'l',\n",
    "# #  'date', 'hour', 'symbol', 't', 'price7', 'price14', 'adjusted_volume', 'vol7', 'vol14', 'rsi', \n",
    "# # 'rsi3', 'rsi5', 'roc', 'roc3', 'roc5', 'threeD_returns_close', 'oneD_returns_close', 'range_vol', \n",
    "# # 'range_vol5MA', 'range_vol10MA', 'range_vol25MA', 'oneD_stddev50', 'threeD_stddev50', 'cmf', 'close_diff', \n",
    "# # 'close_diff3', 'close_diff5', 'v_diff_pct', 'adx', 'volume_10MA', 'volume_25MA', 'price_10MA', 'price_25MA',\n",
    "# # 'volume_10DDiff', 'volume_25DDiff', 'price_10DDiff', 'price_25DDiff', 'one_max', 'one_min', 'one_pct', \n",
    "# # 'three_max', 'three_min', 'three_pct', 'SPY_diff', 'SPY_diff3', 'SPY_diff5', 'SPY_1D', 'SPY_3D', 'SPY_5D', \n",
    "# # 'vw', 'n', 'return_vol_15M', 'volume_vol_15M', 'return_vol_30M', 'volume_vol_30M', 'return_vol_60M', \n",
    "# # 'volume_vol_60M', 'return_vol_120M', 'volume_vol_120M', 'return_vol_240M', 'volume_vol_240M', \n",
    "# # 'return_vol_450M', 'volume_vol_450M', '15min_vol_diff', '15min_vol_diff_pct', 'min_vol_diff', \n",
    "# # 'min_vol_diff_pct', 'min_volume_vol_diff', 'min_volume_vol_diff_pct', 'return_vol_4H', 'return_vol_8H', \n",
    "# # 'return_vol_16H', 'volume_vol_4H', 'volume_vol_8H', 'volume_vol_16H', 'hour_vol_diff', 'hour_vol_diff_pct', \n",
    "# # 'hour_volume_vol_diff', 'hour_volume_vol_diff_pct', 'return_vol_3D', 'return_vol_5D', 'return_vol_10D', \n",
    "# # 'return_vol_30D', 'volume_vol_3D', 'volume_vol_5D', 'volume_vol_10D', 'volume_vol_30D', 'daily_vol_diff', \n",
    "# # 'daily_vol_diff_pct', 'daily_vol_diff30', 'daily_vol_diff_pct30', 'daily_volume_vol_diff', 'daily_volume_vol_diff_pct', \n",
    "# # 'daily_volume_vol_diff30', 'daily_volume_vol_diff_pct30', 'cd_vol', 'cd_vol3', 'roc_diff', 'range_vol_diff5', \n",
    "# # 'close_diff_deviation3', 'close_diff_deviation', 'day_of_week', 'day_of_month', 'month', 'year', 'dt', 'one_max_vol', \n",
    "# # 'three_max_vol', 'one_min_vol', 'three_min_vol']\n",
    "\n",
    "# testing_features = ['hour', 'price7', 'price14','vol7', 'vol14', 'rsi', \n",
    "# 'rsi3', 'rsi5', 'roc', 'roc3', 'roc5', 'threeD_returns_close', 'oneD_returns_close', 'range_vol', \n",
    "# 'range_vol5MA', 'range_vol10MA', 'range_vol25MA', 'oneD_stddev50', 'threeD_stddev50', 'cmf', 'close_diff', \n",
    "# 'close_diff3', 'close_diff5','adx',\n",
    "# 'volume_10DDiff', 'volume_25DDiff', 'price_10DDiff', 'price_25DDiff', \n",
    "# 'SPY_diff', 'SPY_diff3', 'SPY_diff5', 'SPY_1D', 'SPY_3D', 'SPY_5D', \n",
    "# 'return_vol_15M', 'volume_vol_15M', 'return_vol_30M', 'volume_vol_30M', 'return_vol_60M', \n",
    "# 'volume_vol_60M', 'return_vol_120M', 'volume_vol_120M', 'return_vol_240M', 'volume_vol_240M', \n",
    "# 'return_vol_450M', 'volume_vol_450M', '15min_vol_diff', '15min_vol_diff_pct', 'min_vol_diff', \n",
    "# 'min_vol_diff_pct', 'min_volume_vol_diff', 'min_volume_vol_diff_pct', 'return_vol_4H', 'return_vol_8H', \n",
    "# 'return_vol_16H', 'volume_vol_4H', 'volume_vol_8H', 'volume_vol_16H', 'hour_vol_diff', 'hour_vol_diff_pct', \n",
    "# 'hour_volume_vol_diff', 'hour_volume_vol_diff_pct', 'return_vol_3D', 'return_vol_5D', 'return_vol_10D', \n",
    "# 'return_vol_30D', 'volume_vol_3D', 'volume_vol_5D', 'volume_vol_10D', 'volume_vol_30D', 'daily_vol_diff', \n",
    "# 'daily_vol_diff_pct', 'daily_vol_diff30', 'daily_vol_diff_pct30', 'daily_volume_vol_diff', 'daily_volume_vol_diff_pct', \n",
    "# 'daily_volume_vol_diff30', 'daily_volume_vol_diff_pct30', 'cd_vol', 'cd_vol3', 'roc_diff', 'range_vol_diff5', \n",
    "# 'close_diff_deviation3', 'close_diff_deviation', 'day_of_week', 'day_of_month', 'month']\n",
    "\n",
    "# target_label = 'three_min_vol'\n",
    "# target_value = -1.4\n",
    "# results_array = []\n",
    "\n",
    "# i = 0\n",
    "# while i < number_of_simulations:\n",
    "#        model_name = f\"{title}_temporal_simulation_{i}\"\n",
    "#        print(model_name)\n",
    "#        random_int = random.randint(15, 40)\n",
    "#        features = random.sample(testing_features, random_int)\n",
    "#        print(features)\n",
    "#        tp_avg_list, gross_accuracy_list = run_temporal_simulation(features, target_label, target_value, dataset_start_date=datetime(2018,1,1), evaluation_start_date=datetime(2022,10,3), evaluation_end_date=datetime(2023,12,23))        \n",
    "#        tp_avg = sum(tp_avg_list)/len(tp_avg_list)\n",
    "#        gross_accuracy = sum(gross_accuracy_list)/len(gross_accuracy_list)\n",
    "#        print(tp_avg, gross_accuracy)\n",
    "#        print()\n",
    "#        results_array.append({\"model_name\": model_name, \"features\": features, \"tp_avg\": tp_avg, \"gross_accuracy\": gross_accuracy,\"num_features\": random_int})\n",
    "#        i += 1\n",
    "\n",
    "# results_df = pd.DataFrame(results_array)\n",
    "# results_df.to_csv(f'/Users/charlesmiller/Documents/temporal_simulation_results/{title}/{now.year}_{now.month}_{now.day}.csv', index=False)"
   ]
  },
  {
   "cell_type": "code",
   "execution_count": null,
   "metadata": {},
   "outputs": [],
   "source": []
  },
  {
   "cell_type": "code",
   "execution_count": null,
   "metadata": {},
   "outputs": [],
   "source": []
  }
 ],
 "metadata": {
  "kernelspec": {
   "display_name": "model-tester-d0oOM2ve",
   "language": "python",
   "name": "python3"
  },
  "language_info": {
   "codemirror_mode": {
    "name": "ipython",
    "version": 3
   },
   "file_extension": ".py",
   "mimetype": "text/x-python",
   "name": "python",
   "nbconvert_exporter": "python",
   "pygments_lexer": "ipython3",
   "version": "3.9.10"
  },
  "orig_nbformat": 4
 },
 "nbformat": 4,
 "nbformat_minor": 2
}
