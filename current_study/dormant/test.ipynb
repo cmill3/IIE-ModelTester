{
 "cells": [
  {
   "cell_type": "code",
   "execution_count": 4,
   "metadata": {},
   "outputs": [],
   "source": [
    "import boto3\n",
    "import numpy as np\n",
    "import pandas as pd\n",
    "import matplotlib.pyplot as plt\n",
    "import seaborn as sns\n",
    "from datetime import datetime, timedelta\n",
    "from sklearn.metrics import confusion_matrix, ConfusionMatrixDisplay\n",
    "from sklearn.metrics import accuracy_score\n",
    "from sklearn.model_selection import GridSearchCV\n",
    "import xgboost as xgb\n",
    "import math\n",
    "import random\n",
    "from decimal import Decimal, getcontext\n",
    "import pandas_market_calendars as mcal\n",
    "import ast\n",
    "from sklearn.preprocessing import StandardScaler"
   ]
  },
  {
   "cell_type": "code",
   "execution_count": 18,
   "metadata": {},
   "outputs": [],
   "source": [
    "data = pd.read_csv(f'/Users/charlesmiller/Documents/BF/2021-01-01_2023-07-28.csv')\n",
    "data['dt'] = pd.to_datetime(data['date'])\n",
    "# data = data.loc[data['dt'] <= end_date]\n",
    "data['month'] = data['dt'].apply(lambda x: x.month)\n",
    "data['roc_diff'] = data['roc'] - data['roc5']\n",
    "data['close_diff_deviation'] = abs(data['close_diff'])/(data['oneD_stddev50']*100)\n"
   ]
  },
  {
   "cell_type": "code",
   "execution_count": 19,
   "metadata": {},
   "outputs": [
    {
     "name": "stdout",
     "output_type": "stream",
     "text": [
      "112053\n"
     ]
    },
    {
     "data": {
      "text/plain": [
       "close_diff_deviation\n",
       "0.000000    171\n",
       "0.040000     59\n",
       "0.010000     56\n",
       "0.020000     55\n",
       "0.080000     49\n",
       "           ... \n",
       "2.095238      1\n",
       "1.750952      1\n",
       "1.201333      1\n",
       "1.908750      1\n",
       "1.688125      1\n",
       "Name: count, Length: 54306, dtype: int64"
      ]
     },
     "execution_count": 19,
     "metadata": {},
     "output_type": "execute_result"
    }
   ],
   "source": [
    "print(len(data))\n",
    "data['close_diff_deviation'].value_counts()"
   ]
  },
  {
   "cell_type": "code",
   "execution_count": 22,
   "metadata": {},
   "outputs": [],
   "source": [
    "A = data.loc[data['close_diff_deviation'].isna()]\n"
   ]
  },
  {
   "cell_type": "code",
   "execution_count": 24,
   "metadata": {},
   "outputs": [
    {
     "data": {
      "text/plain": [
       "23602    META\n",
       "23635    META\n",
       "23668    META\n",
       "23701    META\n",
       "23734    META\n",
       "23767    META\n",
       "Name: symbol, dtype: object"
      ]
     },
     "execution_count": 24,
     "metadata": {},
     "output_type": "execute_result"
    }
   ],
   "source": [
    "A['symbol']"
   ]
  }
 ],
 "metadata": {
  "kernelspec": {
   "display_name": "model-tester-d0oOM2ve",
   "language": "python",
   "name": "python3"
  },
  "language_info": {
   "codemirror_mode": {
    "name": "ipython",
    "version": 3
   },
   "file_extension": ".py",
   "mimetype": "text/x-python",
   "name": "python",
   "nbconvert_exporter": "python",
   "pygments_lexer": "ipython3",
   "version": "3.11.3"
  },
  "orig_nbformat": 4
 },
 "nbformat": 4,
 "nbformat_minor": 2
}
