{
 "cells": [
  {
   "cell_type": "code",
   "execution_count": 14,
   "metadata": {},
   "outputs": [],
   "source": [
    "import boto3\n",
    "import numpy as np\n",
    "import pandas as pd\n",
    "import matplotlib.pyplot as plt\n",
    "import seaborn as sns\n",
    "from datetime import datetime, timedelta\n",
    "from sklearn.metrics import confusion_matrix, ConfusionMatrixDisplay\n",
    "from sklearn.metrics import accuracy_score\n",
    "from sklearn.model_selection import GridSearchCV\n",
    "import xgboost as xgb\n",
    "import math\n",
    "import random\n",
    "from decimal import Decimal, getcontext\n",
    "import pandas_market_calendars as mcal\n",
    "import ast\n",
    "from sklearn.preprocessing import StandardScaler\n",
    "import pytz\n",
    "from helpers.constants import *"
   ]
  },
  {
   "cell_type": "code",
   "execution_count": 15,
   "metadata": {},
   "outputs": [],
   "source": [
    "s3 = boto3.client('s3')\n",
    "\n",
    "training_bucket = \"icarus-research-data\"\n",
    "training_prefix = 'training_datasets/expanded_1d_datasets/'\n",
    "\n",
    "# Create a calendar\n",
    "nyse = mcal.get_calendar('NYSE')\n",
    "holidays = nyse.regular_holidays\n",
    "market_holidays = holidays.holidays()\n",
    "\n",
    "weekly_expiries = ['SPY', 'IVV', 'QQQ', 'GLD', 'IWM', 'EFA', 'XLK', 'XLV', 'TLT', 'LQD', 'XLE', 'TQQQ', 'SQQQ', 'SPXS', 'SPXL', 'SOXL', 'SOXS', 'MMM', 'ABT', 'ABBV', 'ACN', 'ATVI', 'ADM', 'ADBE', 'ADP', \n",
    "                   'AAP', 'AFL', 'ALB', 'ALGN', 'GOOGL', 'GOOG', 'MO', 'AMZN', 'AMD', 'AAL', 'AXP', 'AIG', 'ABC', 'AMGN', 'ADI', 'APA', 'AAPL', 'AMAT', 'ANET', 'T', 'ADSK', 'BAC', 'BBWI', 'BAX', 'BBY', 'BIIB', \n",
    "                   'BLK', 'BA', 'BKNG', 'BMY', 'AVGO', 'CZR', 'CPB', 'COF', 'CAH', 'KMX', 'CCL', 'CAT', 'CBOE', 'CNC', 'CF', 'SCHW', 'CHTR', 'CVX', 'CMG', 'CI', 'CSCO', 'C', 'CLX', 'CME', 'KO', 'CMCSA', 'CMA', 'CAG', \n",
    "                   'COP', 'STZ', 'GLW', 'COST', 'CTRA', 'CSX', 'CVS', 'DHI', 'DHR', 'DE', 'DAL', 'DVN', 'DLR', 'DFS', 'DISH', 'DIS', 'DG', 'DLTR', 'DPZ', 'DOW', 'DD', 'EBAY', 'EA', 'ELV', 'LLY', 'EMR', 'ENPH', 'EOG', 'EQT', \n",
    "                   'ETSY', 'EXPE', 'XOM', 'FDX', 'FITB', 'FSLR', 'FI', 'F', 'FTNT', 'FOXA', 'FCX', 'GEHC', 'GNRC', 'GD', 'GE', 'GM', 'GILD', 'GS', 'HAL', 'HSY', 'HES', 'HD', 'HON', 'HRL', 'HPQ', 'HUM', 'HBAN', 'IBM', 'ILMN', \n",
    "                   'INTC', 'IP', 'INTU', 'ISRG', 'JNJ', 'JPM', 'JNPR', 'KEY', 'KMB', 'KMI', 'KLAC', 'KHC', 'KR', 'LRCX', 'LVS', 'LEN', 'LMT', 'LOW', 'MRO', 'MPC', 'MAR', 'MA', 'MTCH', 'MCD', 'MCK', 'MDT', 'MRK', 'META', 'MET', \n",
    "                   'MGM', 'MU', 'MSFT', 'MRNA', 'MDLZ', 'MS', 'MOS', 'NTAP', 'NFLX', 'NEM', 'NKE', 'NSC', 'NOC', 'NCLH', 'NUE', 'NVDA', 'NXPI', 'OXY', 'ON', 'ORCL', 'PARA', 'PYPL', 'PEP', 'PFE', 'PCG', 'PM', 'PSX', 'PXD', 'PNC', \n",
    "                   'PPG', 'PG', 'PHM', 'QCOM', 'RTX', 'REGN', 'ROST', 'RCL', 'SPGI', 'CRM', 'SLB', 'STX', 'NOW', 'SWKS', 'SEDG', 'SO', 'LUV', 'SBUX', 'TMUS', 'TROW', 'TTWO', 'TPR', 'TGT', 'TSLA', 'TXN', 'TMO', 'TJX', 'TSCO', 'TFC', \n",
    "                   'TSN', 'USB', 'ULTA', 'UNP', 'UAL', 'UPS', 'URI', 'UNH', 'VLO', 'VZ', 'VRTX', 'VFC', 'V', 'WBA', 'WMT', 'WBD', 'WM', 'WFC', 'WDC', 'WHR', 'WMB', 'WYNN', 'ZION']\n",
    "\n",
    "leveraged_etfs = [\"TQQQ\",\"SQQQ\",\"SPXS\",\"SPXL\",\"SOXL\",\"SOXS\"]\n",
    "high_vol = ['COIN','BILI','UPST','CVNA',\"TQQQ\",\"SQQQ\",\"SPXS\",\"SPXL\",\"SOXL\",\"SOXS\",\"NIO\",\"BABA\",\"ROKU\",\"RBLX\",\"SE\",\"SNAP\",\"LCID\",'RIVN',\"BIDU\",\"FUTU\",\"TSLA\",\"JD\",\"HOOD\",\"CHWY\"]\n",
    "expensive = [\"CMG\",\"NFLX\",\"AVGO\",\"BKNG\",\"ABNB\"]\n",
    "indexes = ['QQQ','IWM','TLT','VXX','SPY']\n"
   ]
  },
  {
   "cell_type": "code",
   "execution_count": 16,
   "metadata": {},
   "outputs": [],
   "source": [
    "def create_training_data_local(key_list, prefix, bucket_name, alert_type, start_date, end_date):\n",
    "    df_list = []\n",
    "    hours = [10,11,12,13,14,15]\n",
    "    start = start_date.split(' ')[0]\n",
    "    end = end_date.split(' ')[0]\n",
    "    for key in key_list:\n",
    "        for hour in hours:\n",
    "            try:\n",
    "                data = s3.get_object(Bucket=bucket_name, Key=f'{prefix}{key}/{alert_type}/{hour}.csv')\n",
    "                df = pd.read_csv(data.get(\"Body\")) \n",
    "                df = df.loc[df['symbol'].isin(WEEKLY_EXP)]\n",
    "                df = df.loc[~df['symbol'].isin(high_vol)]\n",
    "                df = df.iloc[:10]\n",
    "                df_list.append(df)\n",
    "                # df['hour'] = hour\n",
    "            except:\n",
    "                continue\n",
    "\n",
    "    data = pd.concat(df_list)\n",
    "    data.reset_index(drop=True, inplace=True)\n",
    "    data.replace([np.inf, -np.inf], 0, inplace=True)\n",
    "    data.to_csv(f'/Users/charlesmiller/Documents/model_tester_data/GAIN/{start}_{end}_trainTL10.csv', index=False)\n",
    "    return data\n",
    "\n",
    "def create_validation_data_local(key_list, prefix, bucket_name, alert_type, start_date, end_date):\n",
    "    df_list = []\n",
    "    hours = [10,11,12,13,14,15]\n",
    "    start = start_date.split(' ')[0]\n",
    "    end = end_date.split(' ')[0]\n",
    "    for key in key_list:\n",
    "        for hour in hours:\n",
    "            try:\n",
    "                data = s3.get_object(Bucket=bucket_name, Key=f'{prefix}{key}/{alert_type}/{hour}.csv')\n",
    "                df = pd.read_csv(data.get(\"Body\")) \n",
    "                df = df.loc[df['symbol'].isin(TRADING_SYMBOLS)]\n",
    "                df = df.loc[~df['symbol'].isin(high_vol)]\n",
    "                df = df.iloc[:6]\n",
    "                df_list.append(df)\n",
    "                # df['hour'] = hour\n",
    "            except:\n",
    "                continue\n",
    "\n",
    "    data = pd.concat(df_list)\n",
    "    data.reset_index(drop=True, inplace=True)\n",
    "    data.replace([np.inf, -np.inf], 0, inplace=True)\n",
    "    data.to_csv(f'/Users/charlesmiller/Documents/model_tester_data/GAIN/{start}_{end}_validationTR6.csv', index=False)\n",
    "    return data\n",
    "\n",
    "def pull_training_data_local(end_date,start_date):\n",
    "    data = pd.read_csv(f'/Users/charlesmiller/Documents/model_tester_data/MA/2018-01-01_2023-12-23_trainTL15.csv')\n",
    "    data['dt'] = pd.to_datetime(data['date'])\n",
    "    data = data.loc[data['dt'] <= end_date]\n",
    "    data = data.loc[~data['symbol'].isin(high_vol)]\n",
    "    data = data.loc[~data['symbol'].isin(expensive)]\n",
    "    data = data.loc[~data['symbol'].isin(leveraged_etfs)]\n",
    "    data.replace([np.inf, -np.inf], 0, inplace=True)\n",
    "\n",
    "    return data\n",
    "\n",
    "\n",
    "def pull_validation_data_local(end_date,start_date):\n",
    "    data = pd.read_csv(f'/Users/charlesmiller/Documents/model_tester_data/MA/2018-01-01_2023-12-23_validationTL15.csv')\n",
    "    data['dt'] = pd.to_datetime(data['date'])\n",
    "    data = data.loc[~data['symbol'].isin(high_vol)]\n",
    "    data = data.loc[~data['symbol'].isin(expensive)]\n",
    "    data = data.loc[~data['symbol'].isin(leveraged_etfs)]\n",
    "    data = data.loc[data['dt'] <= end_date]\n",
    "    data = data.loc[data['dt'] >= start_date]\n",
    "    data.replace([np.inf, -np.inf], 0, inplace=True)\n",
    "\n",
    "    return data"
   ]
  },
  {
   "cell_type": "code",
   "execution_count": 17,
   "metadata": {},
   "outputs": [],
   "source": [
    "def build_date_list(start_date, end_date):\n",
    "    print(start_date, end_date)\n",
    "    date_diff = end_date - start_date\n",
    "    numdays = date_diff.days \n",
    "    dateList = []\n",
    "    for x in range (0, numdays):\n",
    "        temp_date = start_date + timedelta(days = x)\n",
    "        if temp_date.weekday() > 4:\n",
    "            continue\n",
    "        else:\n",
    "            dateList.append(temp_date)\n",
    "    return dateList\n",
    "\n",
    "def build_query_keys_hist():\n",
    "    start_date = datetime(2021,1,5)\n",
    "    date_diff = datetime(2022,7,29) - start_date\n",
    "    numdays = date_diff.days \n",
    "    key_list = []\n",
    "    for x in range (0, numdays):\n",
    "        temp_date = start_date + timedelta(days = x)\n",
    "        if temp_date.weekday() > 4:\n",
    "            continue\n",
    "        else:\n",
    "            date_str = temp_date.strftime('%Y-%m-%d')\n",
    "            if date_str in market_holidays:\n",
    "                continue\n",
    "            else:\n",
    "                date_str = date_str.replace(\"-\",\"/\")\n",
    "                key_list.append(date_str)\n",
    "        \n",
    "    return key_list\n",
    "    \n",
    "def build_query_keys(dates):\n",
    "    key_list = []\n",
    "    for date in dates:\n",
    "        date_str = date.strftime('%Y-%m-%d')\n",
    "        if date_str in market_holidays:\n",
    "            continue\n",
    "        else:\n",
    "            year, month, day = date_str.split('-')\n",
    "            temp = f'{year}/{month}/{day}'\n",
    "            key_list.append(temp)\n",
    "\n",
    "    return key_list\n",
    "\n",
    "def build_query_keys_validation(end_date):\n",
    "    validation_end_date = end_date + timedelta(days=7)\n",
    "    dates = build_date_list(end_date, validation_end_date)\n",
    "    key_list = []\n",
    "    for date in dates:\n",
    "        date_str = date.strftime('%Y-%m-%d')\n",
    "        if date_str in market_holidays:\n",
    "            continue\n",
    "        else:\n",
    "            year, month, day = date_str.split('-')\n",
    "            temp = f'{year}/{month}/{day}'\n",
    "            key_list.append(temp)\n",
    "\n",
    "    return key_list\n",
    "\n",
    "def build_validation_dates_local(deployment_date):\n",
    "    end_date = deployment_date + timedelta(days=5)\n",
    "    return end_date"
   ]
  },
  {
   "cell_type": "code",
   "execution_count": 18,
   "metadata": {},
   "outputs": [],
   "source": [
    "def model_results_analyzer(predictions, y_validate, target_value):\n",
    "    result_list = []\n",
    "    counter = 0\n",
    "    predictions_series = pd.Series(predictions,name='prediction_values')\n",
    "    for x in predictions:\n",
    "        if x == 1:\n",
    "            if y_validate.iloc[counter] == 1:\n",
    "                classification_result = 0\n",
    "            else:\n",
    "                classification_result = 1\n",
    "        elif x == 0:\n",
    "            if y_validate.iloc[counter] == 0:\n",
    "                classification_result = 2\n",
    "            else: \n",
    "                classification_result = 3\n",
    "        result_list.append(classification_result)\n",
    "        counter += 1\n",
    "    three_max = pd.Series(y_validate,name='three_max')\n",
    "    df = pd.concat([pd.Series(result_list,name='classifier_performance'),predictions_series,three_max],axis=1)\n",
    "    df.reset_index(drop=True, inplace=True)\n",
    "    # df = pd.DataFrame([result_list, y_validate], columns=['classifier_performance', 'prediction_score'])\n",
    "\n",
    "    tp = df.loc[df['classifier_performance'] == 0]\n",
    "    fp = df.loc[df['classifier_performance'] == 1]\n",
    "    tn = df.loc[df['classifier_performance'] == 2]\n",
    "    fn = df.loc[df['classifier_performance'] == 3]\n",
    "\n",
    "    # tp_scr = tp[\"prediction_score\"].mean()\n",
    "    # fp_scr = fp[\"prediction_score\"].mean()\n",
    "    # tn_scr = tn[\"prediction_score\"].mean()\n",
    "    # fn_scr = fn[\"prediction_score\"].mean()\n",
    "\n",
    "    return len(tp), \"0\", len(fp), \"0\", len(tn), \"0\", len(fn), \"0\""
   ]
  },
  {
   "cell_type": "code",
   "execution_count": 19,
   "metadata": {},
   "outputs": [],
   "source": [
    "def create_dynamo_record(tp, tp_scr, fp, fp_scr, tn, tn_scr, fn, fn_scr, model_name, deployment_date, dataset_name, hyperparam_str, feature_str, target_str, fi_list):    \n",
    "    ddb = boto3.resource('dynamodb','us-east-1')\n",
    "    table = ddb.Table('icarus-models-results-table')\n",
    "    eval_start = deployment_date\n",
    "    eval_end = deployment_date + timedelta(days=4)\n",
    "    try:\n",
    "        precision = (tp/fp)\n",
    "    except:\n",
    "        precision = 0\n",
    "\n",
    "    ## FILL IN\n",
    "    item={\n",
    "        'model_name': model_name,\n",
    "        'deployment_date': deployment_date.strftime(\"%Y-%m-%d\"),\n",
    "        'algorithm_type': 'xgboost',\n",
    "        'dataset': dataset_name,\n",
    "        'TP': tp,\n",
    "        'TPpct': Decimal(\"0\"),\n",
    "        'FP': fp,\n",
    "        'FPpct': Decimal(\"0\"),\n",
    "        'TN': tn,\n",
    "        'TNpct': Decimal(\"0\"),\n",
    "        'FN': fn,\n",
    "        'FNpct': Decimal(\"0\"),\n",
    "        'precision_ratio': Decimal(str(precision)),\n",
    "        'evaluation_timeperiod': f'{eval_start.strftime(\"%Y-%m-%d\")}_{eval_end.strftime(\"%Y-%m-%d\")}',\n",
    "        'live': False,\n",
    "        'hyperparameters': {hyperparam_str},\n",
    "        'features' : {feature_str},\n",
    "        'target' : target_str,\n",
    "        'feature_importances': fi_list\n",
    "\n",
    "    }\n",
    "\n",
    "    print(item)\n",
    "    response = table.put_item(\n",
    "            Item=item\n",
    "        )\n",
    "\n",
    "    return response"
   ]
  },
  {
   "cell_type": "code",
   "execution_count": 20,
   "metadata": {},
   "outputs": [],
   "source": [
    "def train_model(features, dataset, validation_dataset, target_label, target_value, hyperparams):\n",
    "    dataset.loc[:, 'label'] = (dataset[target_label] > target_value).astype(int)\n",
    "    validation_dataset.loc[:, 'label'] = (validation_dataset[target_label] > target_value).astype(int)\n",
    "\n",
    "    # dataset = dataset.round(3)\n",
    "    # validation_dataset = validation_dataset.round(3)\n",
    "\n",
    "    X = dataset[features].astype(float)\n",
    "    y = dataset['label']\n",
    "\n",
    "    X_validate = validation_dataset[features].astype(float)\n",
    "    y_validate = validation_dataset['label']\n",
    "\n",
    "\n",
    "    xgb_model = xgb.XGBClassifier(subsample=hyperparams['subsample'],num_round=hyperparams['num_round'],min_child_weight=hyperparams['min_child_weight'],max_depth=hyperparams['max_depth'],learning_rate=hyperparams['learning_rate'],gamma=hyperparams['gamma'],colsample_bytree=hyperparams['colsample_bytree'],verbosity=0,objective='binary:logistic',random_state=42)\n",
    "    xgb_model.fit(X,y)\n",
    "\n",
    "    print(y.value_counts())\n",
    "    predictions = xgb_model.predict(X_validate)\n",
    "    probabilities = xgb_model.predict_proba(X_validate)\n",
    "    tp, tp_scr, fp, fp_scr, tn, tn_scr, fn, fn_scr = model_results_analyzer(predictions, y_validate, target_value)\n",
    "\n",
    "    fi = xgb_model.feature_importances_\n",
    "    fi_list = []\n",
    "    counter = 0\n",
    "    for x in features:\n",
    "        fi_list.append({x:fi[counter]})\n",
    "        counter += 1\n",
    "    print(tp,fp,tn,fn)\n",
    "    return tp, tp_scr, fp, fp_scr, tn, tn_scr, fn, fn_scr,str(fi_list), predictions, probabilities\n",
    "\n",
    "\n",
    "def train_model_TSSim(features, dataset, validation_dataset, target_label, target_value, hyperparams):\n",
    "    dataset.loc[:, 'label'] = (dataset[target_label] > target_value).astype(int)\n",
    "    validation_dataset.loc[:, 'label'] = (validation_dataset[target_label] > target_value).astype(int)\n",
    "\n",
    "    dataset = dataset.round(5)\n",
    "    validation_dataset = validation_dataset.round(3)\n",
    "\n",
    "\n",
    "    X = dataset[features].astype(float)\n",
    "    y = dataset['label']\n",
    "\n",
    "    X_validate = validation_dataset[features].astype(float)\n",
    "    y_validate = validation_dataset['label']\n",
    "    \n",
    "\n",
    "    xgb_model = xgb.XGBClassifier(subsample=hyperparams['subsample'],num_round=hyperparams['num_round'],min_child_weight=hyperparams['min_child_weight'],max_depth=hyperparams['max_depth'],learning_rate=hyperparams['learning_rate'],gamma=hyperparams['gamma'],colsample_bytree=hyperparams['colsample_bytree'],verbosity=0,objective='binary:logistic',random_state=42)\n",
    "    xgb_model.fit(X,y)\n",
    "\n",
    "    predictions = xgb_model.predict(X_validate)\n",
    "    tp, tp_scr, fp, fp_scr, tn, tn_scr, fn, fn_scr = model_results_analyzer(predictions, y_validate, target_value)\n",
    "\n",
    "    return tp, tp_scr, fp, fp_scr, tn, tn_scr, fn, fn_scr,\"str(fi_list)\", predictions, \"probabilities\""
   ]
  },
  {
   "cell_type": "code",
   "execution_count": 21,
   "metadata": {},
   "outputs": [],
   "source": [
    "def model_runner_v2(model_name, dataset_name, title, features, target_label, target_percentile, start_date, end_date,deployment_date, feature_str, hyperparams_str, hyperparams,local_data, dataset_start_date):\n",
    "    validation_end_date = build_validation_dates_local(deployment_date)\n",
    "    validation_dataset = pull_validation_data_local(validation_end_date,deployment_date)\n",
    "    dataset = pull_training_data_local(end_date, dataset_start_date)\n",
    "    dates_list = pull_gmm_labels(deployment_date)\n",
    "    rm_dataset = dataset.loc[dataset['dt'].isin(dates_list)]\n",
    "    target_value = rm_dataset[target_label].quantile(target_percentile).round(3)\n",
    "    print(target_value)\n",
    "    print(len(rm_dataset)/len(dataset))\n",
    "    tp, tp_scr, fp, fp_scr, tn, tn_scr, fn, fn_scr, fi_list, predictions, probabilities = train_model(features, rm_dataset, validation_dataset, target_label, target_value, hyperparams)\n",
    "    response = create_dynamo_record(tp, tp_scr, fp, fp_scr, tn, tn_scr, fn, fn_scr, model_name, deployment_date, dataset_name,hyperparams_str,feature_str, f\"{target_value}+{target_label}\", fi_list)\n",
    "    validation_dataset['probabilities'] = probabilities[:,1]\n",
    "    validation_dataset['predictions'] = predictions\n",
    "    validation_dataset['target_value'] = target_value\n",
    "    validation_csv = validation_dataset.to_csv()\n",
    "    put_response = s3.put_object(Bucket=\"icarus-research-data\", Key=f\"backtesting_data/inv_alerts/{dataset_name}/{title}/{deployment_date.strftime('%Y-%m-%d')}.csv\", Body=validation_csv)\n",
    "    return \"response\"\n",
    "\n",
    "def model_runner_temporal_simulation(features, target_label, target_value,dataset_start_date,end_date,deployment_date,hyperparams):\n",
    "    validation_end_date = build_validation_dates_local(deployment_date)\n",
    "    dataset = pull_training_data_local(end_date, dataset_start_date)\n",
    "    validation_dataset = pull_validation_data_local(validation_end_date,deployment_date)\n",
    "    dataset.dropna(subset=[\"close_diff_deviation3\"],inplace=True)\n",
    "    validation_dataset.dropna(subset=[\"close_diff_deviation3\"],inplace=True)\n",
    "    dataset.dropna(subset=[\"close_diff_deviation\"],inplace=True)\n",
    "    validation_dataset.dropna(subset=[\"close_diff_deviation\"],inplace=True)\n",
    "    tp, tp_scr, fp, fp_scr, tn, tn_scr, fn, fn_scr, fi_list, predictions, probabilities = train_model_TSSim(features, dataset, validation_dataset, target_label, target_value, hyperparams)\n",
    "    return tp, fp, fn, tn \n",
    "\n",
    "def model_runner_data(start_date,end_date):\n",
    "    dates = build_date_list(start_date, end_date)\n",
    "    key_list = build_query_keys(dates)\n",
    "    print(key_list[-1])\n",
    "    train_data = create_training_data_local(key_list, 'full_alerts/weekly_exp_alerts/', 'inv-alerts', 'gainers', start_date.strftime('%Y-%m-%d %H:%M:%S'),end_date.strftime('%Y-%m-%d %H:%M:%S'))\n",
    "    # val_data = create_validation_data_local(key_list, 'full_alerts/trading_symbols_alerts/', 'inv-alerts', 'gainers', start_date.strftime('%Y-%m-%d %H:%M:%S'),end_date.strftime('%Y-%m-%d %H:%M:%S'))\n",
    "    return \"train_data\", \"val_data\""
   ]
  },
  {
   "cell_type": "code",
   "execution_count": 22,
   "metadata": {},
   "outputs": [],
   "source": [
    "def build_evaluation_period(eval_start, eval_end):\n",
    "    dates_list = []\n",
    "    while eval_start <= eval_end:\n",
    "        date_object = {\n",
    "            \"deployment_date\": eval_start,\n",
    "            \"dataset_end\": eval_start - timedelta(days=10),\n",
    "            \"dataset_start\": datetime(2018,1,1)\n",
    "        }\n",
    "        dates_list.append(date_object)\n",
    "        eval_start += timedelta(days=7)\n",
    "    return dates_list\n",
    "\n",
    "def pull_gmm_labels(date):\n",
    "    date_str = date.strftime('%Y-%m-%d')\n",
    "    data_20d = s3.get_object(Bucket=\"icarus-research-data\", Key=f'regime_modeling_data/gmm20d_labels_RM2/{date_str}.csv')\n",
    "    data_10d = s3.get_object(Bucket=\"icarus-research-data\", Key=f'regime_modeling_data/gmm10d_labels_RM2/{date_str}.csv')\n",
    "    data_3d = s3.get_object(Bucket=\"icarus-research-data\", Key=f'regime_modeling_data/gmm3d_labels_RM2/{date_str}.csv')\n",
    "\n",
    "    data_20d = pd.read_csv(data_20d.get(\"Body\"))\n",
    "    data_10d = pd.read_csv(data_10d.get(\"Body\"))\n",
    "    data_3d = pd.read_csv(data_3d.get(\"Body\"))\n",
    "\n",
    "    data_20d['dt'] = pd.to_datetime(data_20d['date'])\n",
    "    data_10d['dt'] = pd.to_datetime(data_10d['date'])\n",
    "    data_3d['dt'] = pd.to_datetime(data_3d['date'])\n",
    "\n",
    "    label_20d = data_20d['labels'].iloc[-1]\n",
    "    label_10d = data_10d['labels'].iloc[-1]\n",
    "    label_3d = data_3d['labels'].iloc[-1]\n",
    "\n",
    "    dates_20d = data_20d['dt'].loc[data_20d['labels'] == label_20d].tolist()\n",
    "    dates_10d = data_10d['dt'].loc[data_10d['labels'] == label_10d].tolist()\n",
    "    dates_3d = data_3d['dt'].loc[data_3d['labels'] == label_3d].tolist()\n",
    "\n",
    "    combined_list = list(set(dates_20d  + dates_3d))\n",
    "    return dates_20d"
   ]
  },
  {
   "cell_type": "code",
   "execution_count": 23,
   "metadata": {},
   "outputs": [
    {
     "name": "stdout",
     "output_type": "stream",
     "text": [
      "{'deployment_date': datetime.datetime(2022, 10, 3, 0, 0), 'dataset_end': datetime.datetime(2022, 9, 23, 0, 0), 'dataset_start': datetime.datetime(2018, 1, 1, 0, 0)}\n",
      "0.018\n",
      "0.8193041946905971\n"
     ]
    },
    {
     "name": "stderr",
     "output_type": "stream",
     "text": [
      "/var/folders/tq/_9q_lv1s2bndbr3tzzn08x4r0000gn/T/ipykernel_13040/3239437027.py:2: SettingWithCopyWarning: \n",
      "A value is trying to be set on a copy of a slice from a DataFrame.\n",
      "Try using .loc[row_indexer,col_indexer] = value instead\n",
      "\n",
      "See the caveats in the documentation: https://pandas.pydata.org/pandas-docs/stable/user_guide/indexing.html#returning-a-view-versus-a-copy\n",
      "  dataset.loc[:, 'label'] = (dataset[target_label] > target_value).astype(int)\n"
     ]
    },
    {
     "name": "stdout",
     "output_type": "stream",
     "text": [
      "label\n",
      "0    49271\n",
      "1    38193\n",
      "Name: count, dtype: int64\n",
      "128 105 140 77\n",
      "{'model_name': 'MA_1d:RM220_TSSIM1_TL15-EXP_custHypTP0.57', 'deployment_date': '2022-10-03', 'algorithm_type': 'xgboost', 'dataset': 'MA_1d:RM220_TSSIM1_TL15-EXP_custHypTP0.57', 'TP': 128, 'TPpct': Decimal('0'), 'FP': 105, 'FPpct': Decimal('0'), 'TN': 140, 'TNpct': Decimal('0'), 'FN': 77, 'FNpct': Decimal('0'), 'precision_ratio': Decimal('1.2190476190476192'), 'evaluation_timeperiod': '2022-10-03_2022-10-07', 'live': False, 'hyperparameters': {\"{'subsample': 0.6, 'num_round': 1000, 'min_child_weight': 10, 'max_depth': 10, 'learning_rate': 0.1, 'gamma': 2, 'colsample_bytree': 1}\"}, 'features': {\"['oneD_stddev50', 'rsi', 'close_diff', 'daily_volume_vol_diff_pct30', 'range_vol_diff5', 'SPY_diff', 'threeD_stddev50', 'close_diff3', 'min_volume_vol_diff_pct', 'month', 'return_vol_240M', 'range_vol', 'rsi5', 'roc', 'SPY_3D', 'roc5', 'roc_diff', 'price_25DDiff', 'daily_volume_vol_diff_pct', 'price_10DDiff', 'SPY_1D', 'hour_volume_vol_diff', 'hour_volume_vol_diff_pct', 'return_vol_10D', 'SPY_5D']\"}, 'target': '0.018+one_max', 'feature_importances': \"[{'oneD_stddev50': 0.041034885}, {'rsi': 0.034602974}, {'close_diff': 0.032984287}, {'daily_volume_vol_diff_pct30': 0.030443093}, {'range_vol_diff5': 0.03385505}, {'SPY_diff': 0.02931255}, {'threeD_stddev50': 0.035044856}, {'close_diff3': 0.034223814}, {'min_volume_vol_diff_pct': 0.025915973}, {'month': 0.03652489}, {'return_vol_240M': 0.1502233}, {'range_vol': 0.05270406}, {'rsi5': 0.03371559}, {'roc': 0.032317705}, {'SPY_3D': 0.036356024}, {'roc5': 0.035542686}, {'roc_diff': 0.034927603}, {'price_25DDiff': 0.0367891}, {'daily_volume_vol_diff_pct': 0.029699354}, {'price_10DDiff': 0.032759372}, {'SPY_1D': 0.034909327}, {'hour_volume_vol_diff': 0.029139176}, {'hour_volume_vol_diff_pct': 0.030040586}, {'return_vol_10D': 0.06197571}, {'SPY_5D': 0.034958094}]\"}\n",
      "{'deployment_date': datetime.datetime(2022, 10, 10, 0, 0), 'dataset_end': datetime.datetime(2022, 9, 30, 0, 0), 'dataset_start': datetime.datetime(2018, 1, 1, 0, 0)}\n",
      "0.018\n",
      "0.8192181043087284\n"
     ]
    },
    {
     "name": "stderr",
     "output_type": "stream",
     "text": [
      "/var/folders/tq/_9q_lv1s2bndbr3tzzn08x4r0000gn/T/ipykernel_13040/3239437027.py:2: SettingWithCopyWarning: \n",
      "A value is trying to be set on a copy of a slice from a DataFrame.\n",
      "Try using .loc[row_indexer,col_indexer] = value instead\n",
      "\n",
      "See the caveats in the documentation: https://pandas.pydata.org/pandas-docs/stable/user_guide/indexing.html#returning-a-view-versus-a-copy\n",
      "  dataset.loc[:, 'label'] = (dataset[target_label] > target_value).astype(int)\n"
     ]
    },
    {
     "name": "stdout",
     "output_type": "stream",
     "text": [
      "label\n",
      "0    49428\n",
      "1    38393\n",
      "Name: count, dtype: int64\n",
      "291 90 39 30\n",
      "{'model_name': 'MA_1d:RM220_TSSIM1_TL15-EXP_custHypTP0.57', 'deployment_date': '2022-10-10', 'algorithm_type': 'xgboost', 'dataset': 'MA_1d:RM220_TSSIM1_TL15-EXP_custHypTP0.57', 'TP': 291, 'TPpct': Decimal('0'), 'FP': 90, 'FPpct': Decimal('0'), 'TN': 39, 'TNpct': Decimal('0'), 'FN': 30, 'FNpct': Decimal('0'), 'precision_ratio': Decimal('3.2333333333333334'), 'evaluation_timeperiod': '2022-10-10_2022-10-14', 'live': False, 'hyperparameters': {\"{'subsample': 0.6, 'num_round': 1000, 'min_child_weight': 10, 'max_depth': 10, 'learning_rate': 0.1, 'gamma': 2, 'colsample_bytree': 1}\"}, 'features': {\"['oneD_stddev50', 'rsi', 'close_diff', 'daily_volume_vol_diff_pct30', 'range_vol_diff5', 'SPY_diff', 'threeD_stddev50', 'close_diff3', 'min_volume_vol_diff_pct', 'month', 'return_vol_240M', 'range_vol', 'rsi5', 'roc', 'SPY_3D', 'roc5', 'roc_diff', 'price_25DDiff', 'daily_volume_vol_diff_pct', 'price_10DDiff', 'SPY_1D', 'hour_volume_vol_diff', 'hour_volume_vol_diff_pct', 'return_vol_10D', 'SPY_5D']\"}, 'target': '0.018+one_max', 'feature_importances': \"[{'oneD_stddev50': 0.042027894}, {'rsi': 0.03428355}, {'close_diff': 0.0314087}, {'daily_volume_vol_diff_pct30': 0.029251777}, {'range_vol_diff5': 0.03263328}, {'SPY_diff': 0.02827878}, {'threeD_stddev50': 0.033354152}, {'close_diff3': 0.033151474}, {'min_volume_vol_diff_pct': 0.025336113}, {'month': 0.036271628}, {'return_vol_240M': 0.17014433}, {'range_vol': 0.048971873}, {'rsi5': 0.03373332}, {'roc': 0.03347638}, {'SPY_3D': 0.035450265}, {'roc5': 0.034741633}, {'roc_diff': 0.034928348}, {'price_25DDiff': 0.0365618}, {'daily_volume_vol_diff_pct': 0.029186878}, {'price_10DDiff': 0.032901816}, {'SPY_1D': 0.034501366}, {'hour_volume_vol_diff': 0.0297602}, {'hour_volume_vol_diff_pct': 0.029811494}, {'return_vol_10D': 0.055044685}, {'SPY_5D': 0.034788284}]\"}\n",
      "{'deployment_date': datetime.datetime(2022, 10, 17, 0, 0), 'dataset_end': datetime.datetime(2022, 10, 7, 0, 0), 'dataset_start': datetime.datetime(2018, 1, 1, 0, 0)}\n",
      "0.02\n",
      "0.5014259040789217\n"
     ]
    },
    {
     "name": "stderr",
     "output_type": "stream",
     "text": [
      "/var/folders/tq/_9q_lv1s2bndbr3tzzn08x4r0000gn/T/ipykernel_13040/3239437027.py:2: SettingWithCopyWarning: \n",
      "A value is trying to be set on a copy of a slice from a DataFrame.\n",
      "Try using .loc[row_indexer,col_indexer] = value instead\n",
      "\n",
      "See the caveats in the documentation: https://pandas.pydata.org/pandas-docs/stable/user_guide/indexing.html#returning-a-view-versus-a-copy\n",
      "  dataset.loc[:, 'label'] = (dataset[target_label] > target_value).astype(int)\n"
     ]
    },
    {
     "name": "stdout",
     "output_type": "stream",
     "text": [
      "label\n",
      "0    30406\n",
      "1    23573\n",
      "Name: count, dtype: int64\n",
      "185 71 55 126\n",
      "{'model_name': 'MA_1d:RM220_TSSIM1_TL15-EXP_custHypTP0.57', 'deployment_date': '2022-10-17', 'algorithm_type': 'xgboost', 'dataset': 'MA_1d:RM220_TSSIM1_TL15-EXP_custHypTP0.57', 'TP': 185, 'TPpct': Decimal('0'), 'FP': 71, 'FPpct': Decimal('0'), 'TN': 55, 'TNpct': Decimal('0'), 'FN': 126, 'FNpct': Decimal('0'), 'precision_ratio': Decimal('2.6056338028169015'), 'evaluation_timeperiod': '2022-10-17_2022-10-21', 'live': False, 'hyperparameters': {\"{'subsample': 0.6, 'num_round': 1000, 'min_child_weight': 10, 'max_depth': 10, 'learning_rate': 0.1, 'gamma': 2, 'colsample_bytree': 1}\"}, 'features': {\"['oneD_stddev50', 'rsi', 'close_diff', 'daily_volume_vol_diff_pct30', 'range_vol_diff5', 'SPY_diff', 'threeD_stddev50', 'close_diff3', 'min_volume_vol_diff_pct', 'month', 'return_vol_240M', 'range_vol', 'rsi5', 'roc', 'SPY_3D', 'roc5', 'roc_diff', 'price_25DDiff', 'daily_volume_vol_diff_pct', 'price_10DDiff', 'SPY_1D', 'hour_volume_vol_diff', 'hour_volume_vol_diff_pct', 'return_vol_10D', 'SPY_5D']\"}, 'target': '0.02+one_max', 'feature_importances': \"[{'oneD_stddev50': 0.052516364}, {'rsi': 0.032654695}, {'close_diff': 0.03282616}, {'daily_volume_vol_diff_pct30': 0.029688066}, {'range_vol_diff5': 0.03317625}, {'SPY_diff': 0.031638}, {'threeD_stddev50': 0.036802437}, {'close_diff3': 0.035010103}, {'min_volume_vol_diff_pct': 0.026674157}, {'month': 0.041149903}, {'return_vol_240M': 0.12939711}, {'range_vol': 0.057242386}, {'rsi5': 0.03576057}, {'roc': 0.035647605}, {'SPY_3D': 0.037404984}, {'roc5': 0.035152443}, {'roc_diff': 0.036756027}, {'price_25DDiff': 0.040036008}, {'daily_volume_vol_diff_pct': 0.031545173}, {'price_10DDiff': 0.03506678}, {'SPY_1D': 0.036483973}, {'hour_volume_vol_diff': 0.030396514}, {'hour_volume_vol_diff_pct': 0.029728001}, {'return_vol_10D': 0.039595567}, {'SPY_5D': 0.03765076}]\"}\n",
      "{'deployment_date': datetime.datetime(2022, 10, 24, 0, 0), 'dataset_end': datetime.datetime(2022, 10, 14, 0, 0), 'dataset_start': datetime.datetime(2018, 1, 1, 0, 0)}\n",
      "0.021\n",
      "0.5001711362522085\n"
     ]
    },
    {
     "name": "stderr",
     "output_type": "stream",
     "text": [
      "/var/folders/tq/_9q_lv1s2bndbr3tzzn08x4r0000gn/T/ipykernel_13040/3239437027.py:2: SettingWithCopyWarning: \n",
      "A value is trying to be set on a copy of a slice from a DataFrame.\n",
      "Try using .loc[row_indexer,col_indexer] = value instead\n",
      "\n",
      "See the caveats in the documentation: https://pandas.pydata.org/pandas-docs/stable/user_guide/indexing.html#returning-a-view-versus-a-copy\n",
      "  dataset.loc[:, 'label'] = (dataset[target_label] > target_value).astype(int)\n"
     ]
    },
    {
     "name": "stdout",
     "output_type": "stream",
     "text": [
      "label\n",
      "0    31254\n",
      "1    22815\n",
      "Name: count, dtype: int64\n",
      "117 67 132 134\n",
      "{'model_name': 'MA_1d:RM220_TSSIM1_TL15-EXP_custHypTP0.57', 'deployment_date': '2022-10-24', 'algorithm_type': 'xgboost', 'dataset': 'MA_1d:RM220_TSSIM1_TL15-EXP_custHypTP0.57', 'TP': 117, 'TPpct': Decimal('0'), 'FP': 67, 'FPpct': Decimal('0'), 'TN': 132, 'TNpct': Decimal('0'), 'FN': 134, 'FNpct': Decimal('0'), 'precision_ratio': Decimal('1.7462686567164178'), 'evaluation_timeperiod': '2022-10-24_2022-10-28', 'live': False, 'hyperparameters': {\"{'subsample': 0.6, 'num_round': 1000, 'min_child_weight': 10, 'max_depth': 10, 'learning_rate': 0.1, 'gamma': 2, 'colsample_bytree': 1}\"}, 'features': {\"['oneD_stddev50', 'rsi', 'close_diff', 'daily_volume_vol_diff_pct30', 'range_vol_diff5', 'SPY_diff', 'threeD_stddev50', 'close_diff3', 'min_volume_vol_diff_pct', 'month', 'return_vol_240M', 'range_vol', 'rsi5', 'roc', 'SPY_3D', 'roc5', 'roc_diff', 'price_25DDiff', 'daily_volume_vol_diff_pct', 'price_10DDiff', 'SPY_1D', 'hour_volume_vol_diff', 'hour_volume_vol_diff_pct', 'return_vol_10D', 'SPY_5D']\"}, 'target': '0.021+one_max', 'feature_importances': \"[{'oneD_stddev50': 0.048902273}, {'rsi': 0.033927295}, {'close_diff': 0.032061484}, {'daily_volume_vol_diff_pct30': 0.030644216}, {'range_vol_diff5': 0.033382926}, {'SPY_diff': 0.029567488}, {'threeD_stddev50': 0.0354655}, {'close_diff3': 0.033873495}, {'min_volume_vol_diff_pct': 0.028116979}, {'month': 0.03827638}, {'return_vol_240M': 0.13990334}, {'range_vol': 0.05846044}, {'rsi5': 0.034355104}, {'roc': 0.03499443}, {'SPY_3D': 0.036393795}, {'roc5': 0.036410253}, {'roc_diff': 0.036359273}, {'price_25DDiff': 0.039047793}, {'daily_volume_vol_diff_pct': 0.030080197}, {'price_10DDiff': 0.036816716}, {'SPY_1D': 0.03579764}, {'hour_volume_vol_diff': 0.03047825}, {'hour_volume_vol_diff_pct': 0.029428007}, {'return_vol_10D': 0.040983144}, {'SPY_5D': 0.03627359}]\"}\n",
      "{'deployment_date': datetime.datetime(2022, 10, 31, 0, 0), 'dataset_end': datetime.datetime(2022, 10, 21, 0, 0), 'dataset_start': datetime.datetime(2018, 1, 1, 0, 0)}\n",
      "0.019\n",
      "0.8214565387627252\n"
     ]
    },
    {
     "name": "stderr",
     "output_type": "stream",
     "text": [
      "/var/folders/tq/_9q_lv1s2bndbr3tzzn08x4r0000gn/T/ipykernel_13040/3239437027.py:2: SettingWithCopyWarning: \n",
      "A value is trying to be set on a copy of a slice from a DataFrame.\n",
      "Try using .loc[row_indexer,col_indexer] = value instead\n",
      "\n",
      "See the caveats in the documentation: https://pandas.pydata.org/pandas-docs/stable/user_guide/indexing.html#returning-a-view-versus-a-copy\n",
      "  dataset.loc[:, 'label'] = (dataset[target_label] > target_value).astype(int)\n"
     ]
    },
    {
     "name": "stdout",
     "output_type": "stream",
     "text": [
      "label\n",
      "0    51678\n",
      "1    37487\n",
      "Name: count, dtype: int64\n",
      "178 105 86 75\n",
      "{'model_name': 'MA_1d:RM220_TSSIM1_TL15-EXP_custHypTP0.57', 'deployment_date': '2022-10-31', 'algorithm_type': 'xgboost', 'dataset': 'MA_1d:RM220_TSSIM1_TL15-EXP_custHypTP0.57', 'TP': 178, 'TPpct': Decimal('0'), 'FP': 105, 'FPpct': Decimal('0'), 'TN': 86, 'TNpct': Decimal('0'), 'FN': 75, 'FNpct': Decimal('0'), 'precision_ratio': Decimal('1.6952380952380952'), 'evaluation_timeperiod': '2022-10-31_2022-11-04', 'live': False, 'hyperparameters': {\"{'subsample': 0.6, 'num_round': 1000, 'min_child_weight': 10, 'max_depth': 10, 'learning_rate': 0.1, 'gamma': 2, 'colsample_bytree': 1}\"}, 'features': {\"['oneD_stddev50', 'rsi', 'close_diff', 'daily_volume_vol_diff_pct30', 'range_vol_diff5', 'SPY_diff', 'threeD_stddev50', 'close_diff3', 'min_volume_vol_diff_pct', 'month', 'return_vol_240M', 'range_vol', 'rsi5', 'roc', 'SPY_3D', 'roc5', 'roc_diff', 'price_25DDiff', 'daily_volume_vol_diff_pct', 'price_10DDiff', 'SPY_1D', 'hour_volume_vol_diff', 'hour_volume_vol_diff_pct', 'return_vol_10D', 'SPY_5D']\"}, 'target': '0.019+one_max', 'feature_importances': \"[{'oneD_stddev50': 0.04073143}, {'rsi': 0.034879684}, {'close_diff': 0.031406857}, {'daily_volume_vol_diff_pct30': 0.02961968}, {'range_vol_diff5': 0.033598177}, {'SPY_diff': 0.028152954}, {'threeD_stddev50': 0.03397412}, {'close_diff3': 0.03214523}, {'min_volume_vol_diff_pct': 0.025643252}, {'month': 0.035438895}, {'return_vol_240M': 0.15881951}, {'range_vol': 0.051886436}, {'rsi5': 0.03173755}, {'roc': 0.03267832}, {'SPY_3D': 0.034510594}, {'roc5': 0.034779806}, {'roc_diff': 0.0345991}, {'price_25DDiff': 0.036742296}, {'daily_volume_vol_diff_pct': 0.029017085}, {'price_10DDiff': 0.03391704}, {'SPY_1D': 0.035022967}, {'hour_volume_vol_diff': 0.028922787}, {'hour_volume_vol_diff_pct': 0.02989674}, {'return_vol_10D': 0.06706231}, {'SPY_5D': 0.034817096}]\"}\n",
      "{'deployment_date': datetime.datetime(2022, 11, 7, 0, 0), 'dataset_end': datetime.datetime(2022, 10, 28, 0, 0), 'dataset_start': datetime.datetime(2018, 1, 1, 0, 0)}\n",
      "0.021\n",
      "0.5067480159640351\n"
     ]
    },
    {
     "name": "stderr",
     "output_type": "stream",
     "text": [
      "/var/folders/tq/_9q_lv1s2bndbr3tzzn08x4r0000gn/T/ipykernel_13040/3239437027.py:2: SettingWithCopyWarning: \n",
      "A value is trying to be set on a copy of a slice from a DataFrame.\n",
      "Try using .loc[row_indexer,col_indexer] = value instead\n",
      "\n",
      "See the caveats in the documentation: https://pandas.pydata.org/pandas-docs/stable/user_guide/indexing.html#returning-a-view-versus-a-copy\n",
      "  dataset.loc[:, 'label'] = (dataset[target_label] > target_value).astype(int)\n"
     ]
    },
    {
     "name": "stdout",
     "output_type": "stream",
     "text": [
      "label\n",
      "0    31822\n",
      "1    23411\n",
      "Name: count, dtype: int64\n",
      "201 36 57 156\n",
      "{'model_name': 'MA_1d:RM220_TSSIM1_TL15-EXP_custHypTP0.57', 'deployment_date': '2022-11-07', 'algorithm_type': 'xgboost', 'dataset': 'MA_1d:RM220_TSSIM1_TL15-EXP_custHypTP0.57', 'TP': 201, 'TPpct': Decimal('0'), 'FP': 36, 'FPpct': Decimal('0'), 'TN': 57, 'TNpct': Decimal('0'), 'FN': 156, 'FNpct': Decimal('0'), 'precision_ratio': Decimal('5.583333333333333'), 'evaluation_timeperiod': '2022-11-07_2022-11-11', 'live': False, 'hyperparameters': {\"{'subsample': 0.6, 'num_round': 1000, 'min_child_weight': 10, 'max_depth': 10, 'learning_rate': 0.1, 'gamma': 2, 'colsample_bytree': 1}\"}, 'features': {\"['oneD_stddev50', 'rsi', 'close_diff', 'daily_volume_vol_diff_pct30', 'range_vol_diff5', 'SPY_diff', 'threeD_stddev50', 'close_diff3', 'min_volume_vol_diff_pct', 'month', 'return_vol_240M', 'range_vol', 'rsi5', 'roc', 'SPY_3D', 'roc5', 'roc_diff', 'price_25DDiff', 'daily_volume_vol_diff_pct', 'price_10DDiff', 'SPY_1D', 'hour_volume_vol_diff', 'hour_volume_vol_diff_pct', 'return_vol_10D', 'SPY_5D']\"}, 'target': '0.021+one_max', 'feature_importances': \"[{'oneD_stddev50': 0.051835682}, {'rsi': 0.032521095}, {'close_diff': 0.032449264}, {'daily_volume_vol_diff_pct30': 0.029997008}, {'range_vol_diff5': 0.034023944}, {'SPY_diff': 0.03074461}, {'threeD_stddev50': 0.03630834}, {'close_diff3': 0.03537339}, {'min_volume_vol_diff_pct': 0.027264224}, {'month': 0.039277837}, {'return_vol_240M': 0.13154492}, {'range_vol': 0.06263363}, {'rsi5': 0.03395635}, {'roc': 0.0346052}, {'SPY_3D': 0.03643527}, {'roc5': 0.036389183}, {'roc_diff': 0.036046214}, {'price_25DDiff': 0.03893942}, {'daily_volume_vol_diff_pct': 0.031663727}, {'price_10DDiff': 0.03500901}, {'SPY_1D': 0.037123546}, {'hour_volume_vol_diff': 0.030318279}, {'hour_volume_vol_diff_pct': 0.03004198}, {'return_vol_10D': 0.03903646}, {'SPY_5D': 0.036461417}]\"}\n",
      "{'deployment_date': datetime.datetime(2022, 11, 14, 0, 0), 'dataset_end': datetime.datetime(2022, 11, 4, 0, 0), 'dataset_start': datetime.datetime(2018, 1, 1, 0, 0)}\n",
      "0.017\n",
      "0.43464395690750096\n"
     ]
    },
    {
     "name": "stderr",
     "output_type": "stream",
     "text": [
      "/var/folders/tq/_9q_lv1s2bndbr3tzzn08x4r0000gn/T/ipykernel_13040/3239437027.py:2: SettingWithCopyWarning: \n",
      "A value is trying to be set on a copy of a slice from a DataFrame.\n",
      "Try using .loc[row_indexer,col_indexer] = value instead\n",
      "\n",
      "See the caveats in the documentation: https://pandas.pydata.org/pandas-docs/stable/user_guide/indexing.html#returning-a-view-versus-a-copy\n",
      "  dataset.loc[:, 'label'] = (dataset[target_label] > target_value).astype(int)\n"
     ]
    },
    {
     "name": "stdout",
     "output_type": "stream",
     "text": [
      "label\n",
      "0    27165\n",
      "1    20402\n",
      "Name: count, dtype: int64\n",
      "103 199 81 67\n",
      "{'model_name': 'MA_1d:RM220_TSSIM1_TL15-EXP_custHypTP0.57', 'deployment_date': '2022-11-14', 'algorithm_type': 'xgboost', 'dataset': 'MA_1d:RM220_TSSIM1_TL15-EXP_custHypTP0.57', 'TP': 103, 'TPpct': Decimal('0'), 'FP': 199, 'FPpct': Decimal('0'), 'TN': 81, 'TNpct': Decimal('0'), 'FN': 67, 'FNpct': Decimal('0'), 'precision_ratio': Decimal('0.5175879396984925'), 'evaluation_timeperiod': '2022-11-14_2022-11-18', 'live': False, 'hyperparameters': {\"{'subsample': 0.6, 'num_round': 1000, 'min_child_weight': 10, 'max_depth': 10, 'learning_rate': 0.1, 'gamma': 2, 'colsample_bytree': 1}\"}, 'features': {\"['oneD_stddev50', 'rsi', 'close_diff', 'daily_volume_vol_diff_pct30', 'range_vol_diff5', 'SPY_diff', 'threeD_stddev50', 'close_diff3', 'min_volume_vol_diff_pct', 'month', 'return_vol_240M', 'range_vol', 'rsi5', 'roc', 'SPY_3D', 'roc5', 'roc_diff', 'price_25DDiff', 'daily_volume_vol_diff_pct', 'price_10DDiff', 'SPY_1D', 'hour_volume_vol_diff', 'hour_volume_vol_diff_pct', 'return_vol_10D', 'SPY_5D']\"}, 'target': '0.017+one_max', 'feature_importances': \"[{'oneD_stddev50': 0.055106327}, {'rsi': 0.037435472}, {'close_diff': 0.03374495}, {'daily_volume_vol_diff_pct30': 0.031370178}, {'range_vol_diff5': 0.03391334}, {'SPY_diff': 0.030337997}, {'threeD_stddev50': 0.03828686}, {'close_diff3': 0.03597857}, {'min_volume_vol_diff_pct': 0.02750125}, {'month': 0.038474686}, {'return_vol_240M': 0.06843639}, {'range_vol': 0.04439692}, {'rsi5': 0.035007972}, {'roc': 0.03641696}, {'SPY_3D': 0.036274545}, {'roc5': 0.03668555}, {'roc_diff': 0.03600481}, {'price_25DDiff': 0.037735704}, {'daily_volume_vol_diff_pct': 0.032899056}, {'price_10DDiff': 0.036414493}, {'SPY_1D': 0.034623742}, {'hour_volume_vol_diff': 0.032600656}, {'hour_volume_vol_diff_pct': 0.0318362}, {'return_vol_10D': 0.10389179}, {'SPY_5D': 0.03462556}]\"}\n",
      "{'deployment_date': datetime.datetime(2022, 11, 21, 0, 0), 'dataset_end': datetime.datetime(2022, 11, 11, 0, 0), 'dataset_start': datetime.datetime(2018, 1, 1, 0, 0)}\n",
      "0.022\n",
      "0.5752259097816887\n"
     ]
    },
    {
     "name": "stderr",
     "output_type": "stream",
     "text": [
      "/var/folders/tq/_9q_lv1s2bndbr3tzzn08x4r0000gn/T/ipykernel_13040/3239437027.py:2: SettingWithCopyWarning: \n",
      "A value is trying to be set on a copy of a slice from a DataFrame.\n",
      "Try using .loc[row_indexer,col_indexer] = value instead\n",
      "\n",
      "See the caveats in the documentation: https://pandas.pydata.org/pandas-docs/stable/user_guide/indexing.html#returning-a-view-versus-a-copy\n",
      "  dataset.loc[:, 'label'] = (dataset[target_label] > target_value).astype(int)\n"
     ]
    },
    {
     "name": "stdout",
     "output_type": "stream",
     "text": [
      "label\n",
      "0    36167\n",
      "1    27044\n",
      "Name: count, dtype: int64\n",
      "78 88 140 54\n",
      "{'model_name': 'MA_1d:RM220_TSSIM1_TL15-EXP_custHypTP0.57', 'deployment_date': '2022-11-21', 'algorithm_type': 'xgboost', 'dataset': 'MA_1d:RM220_TSSIM1_TL15-EXP_custHypTP0.57', 'TP': 78, 'TPpct': Decimal('0'), 'FP': 88, 'FPpct': Decimal('0'), 'TN': 140, 'TNpct': Decimal('0'), 'FN': 54, 'FNpct': Decimal('0'), 'precision_ratio': Decimal('0.8863636363636364'), 'evaluation_timeperiod': '2022-11-21_2022-11-25', 'live': False, 'hyperparameters': {\"{'subsample': 0.6, 'num_round': 1000, 'min_child_weight': 10, 'max_depth': 10, 'learning_rate': 0.1, 'gamma': 2, 'colsample_bytree': 1}\"}, 'features': {\"['oneD_stddev50', 'rsi', 'close_diff', 'daily_volume_vol_diff_pct30', 'range_vol_diff5', 'SPY_diff', 'threeD_stddev50', 'close_diff3', 'min_volume_vol_diff_pct', 'month', 'return_vol_240M', 'range_vol', 'rsi5', 'roc', 'SPY_3D', 'roc5', 'roc_diff', 'price_25DDiff', 'daily_volume_vol_diff_pct', 'price_10DDiff', 'SPY_1D', 'hour_volume_vol_diff', 'hour_volume_vol_diff_pct', 'return_vol_10D', 'SPY_5D']\"}, 'target': '0.022+one_max', 'feature_importances': \"[{'oneD_stddev50': 0.059450377}, {'rsi': 0.033854622}, {'close_diff': 0.032336783}, {'daily_volume_vol_diff_pct30': 0.029087223}, {'range_vol_diff5': 0.03266104}, {'SPY_diff': 0.0298112}, {'threeD_stddev50': 0.03544675}, {'close_diff3': 0.03381917}, {'min_volume_vol_diff_pct': 0.02620254}, {'month': 0.038356576}, {'return_vol_240M': 0.14135492}, {'range_vol': 0.057472114}, {'rsi5': 0.033617314}, {'roc': 0.033785928}, {'SPY_3D': 0.0373432}, {'roc5': 0.036301922}, {'roc_diff': 0.03454286}, {'price_25DDiff': 0.03673573}, {'daily_volume_vol_diff_pct': 0.030696003}, {'price_10DDiff': 0.034917384}, {'SPY_1D': 0.036697377}, {'hour_volume_vol_diff': 0.030804176}, {'hour_volume_vol_diff_pct': 0.029996423}, {'return_vol_10D': 0.038374294}, {'SPY_5D': 0.036334045}]\"}\n",
      "{'deployment_date': datetime.datetime(2022, 11, 28, 0, 0), 'dataset_end': datetime.datetime(2022, 11, 18, 0, 0), 'dataset_start': datetime.datetime(2018, 1, 1, 0, 0)}\n",
      "0.019\n",
      "0.8227825157016105\n"
     ]
    },
    {
     "name": "stderr",
     "output_type": "stream",
     "text": [
      "/var/folders/tq/_9q_lv1s2bndbr3tzzn08x4r0000gn/T/ipykernel_13040/3239437027.py:2: SettingWithCopyWarning: \n",
      "A value is trying to be set on a copy of a slice from a DataFrame.\n",
      "Try using .loc[row_indexer,col_indexer] = value instead\n",
      "\n",
      "See the caveats in the documentation: https://pandas.pydata.org/pandas-docs/stable/user_guide/indexing.html#returning-a-view-versus-a-copy\n",
      "  dataset.loc[:, 'label'] = (dataset[target_label] > target_value).astype(int)\n"
     ]
    },
    {
     "name": "stdout",
     "output_type": "stream",
     "text": [
      "label\n",
      "0    52362\n",
      "1    38423\n",
      "Name: count, dtype: int64\n",
      "97 69 155 129\n",
      "{'model_name': 'MA_1d:RM220_TSSIM1_TL15-EXP_custHypTP0.57', 'deployment_date': '2022-11-28', 'algorithm_type': 'xgboost', 'dataset': 'MA_1d:RM220_TSSIM1_TL15-EXP_custHypTP0.57', 'TP': 97, 'TPpct': Decimal('0'), 'FP': 69, 'FPpct': Decimal('0'), 'TN': 155, 'TNpct': Decimal('0'), 'FN': 129, 'FNpct': Decimal('0'), 'precision_ratio': Decimal('1.4057971014492754'), 'evaluation_timeperiod': '2022-11-28_2022-12-02', 'live': False, 'hyperparameters': {\"{'subsample': 0.6, 'num_round': 1000, 'min_child_weight': 10, 'max_depth': 10, 'learning_rate': 0.1, 'gamma': 2, 'colsample_bytree': 1}\"}, 'features': {\"['oneD_stddev50', 'rsi', 'close_diff', 'daily_volume_vol_diff_pct30', 'range_vol_diff5', 'SPY_diff', 'threeD_stddev50', 'close_diff3', 'min_volume_vol_diff_pct', 'month', 'return_vol_240M', 'range_vol', 'rsi5', 'roc', 'SPY_3D', 'roc5', 'roc_diff', 'price_25DDiff', 'daily_volume_vol_diff_pct', 'price_10DDiff', 'SPY_1D', 'hour_volume_vol_diff', 'hour_volume_vol_diff_pct', 'return_vol_10D', 'SPY_5D']\"}, 'target': '0.019+one_max', 'feature_importances': \"[{'oneD_stddev50': 0.04044552}, {'rsi': 0.034549642}, {'close_diff': 0.031828694}, {'daily_volume_vol_diff_pct30': 0.028603163}, {'range_vol_diff5': 0.032292165}, {'SPY_diff': 0.027893884}, {'threeD_stddev50': 0.03273087}, {'close_diff3': 0.032332554}, {'min_volume_vol_diff_pct': 0.02549929}, {'month': 0.03602825}, {'return_vol_240M': 0.17246678}, {'range_vol': 0.047912326}, {'rsi5': 0.03429154}, {'roc': 0.032783717}, {'SPY_3D': 0.03544692}, {'roc5': 0.03461733}, {'roc_diff': 0.03454113}, {'price_25DDiff': 0.035952106}, {'daily_volume_vol_diff_pct': 0.028940363}, {'price_10DDiff': 0.03329464}, {'SPY_1D': 0.034758884}, {'hour_volume_vol_diff': 0.02958961}, {'hour_volume_vol_diff_pct': 0.028039442}, {'return_vol_10D': 0.059965927}, {'SPY_5D': 0.03519522}]\"}\n",
      "{'deployment_date': datetime.datetime(2022, 12, 5, 0, 0), 'dataset_end': datetime.datetime(2022, 11, 25, 0, 0), 'dataset_start': datetime.datetime(2018, 1, 1, 0, 0)}\n",
      "0.017\n",
      "0.4536445677016053\n"
     ]
    },
    {
     "name": "stderr",
     "output_type": "stream",
     "text": [
      "/var/folders/tq/_9q_lv1s2bndbr3tzzn08x4r0000gn/T/ipykernel_13040/3239437027.py:2: SettingWithCopyWarning: \n",
      "A value is trying to be set on a copy of a slice from a DataFrame.\n",
      "Try using .loc[row_indexer,col_indexer] = value instead\n",
      "\n",
      "See the caveats in the documentation: https://pandas.pydata.org/pandas-docs/stable/user_guide/indexing.html#returning-a-view-versus-a-copy\n",
      "  dataset.loc[:, 'label'] = (dataset[target_label] > target_value).astype(int)\n"
     ]
    },
    {
     "name": "stdout",
     "output_type": "stream",
     "text": [
      "label\n",
      "0    28534\n",
      "1    21684\n",
      "Name: count, dtype: int64\n",
      "91 113 161 80\n",
      "{'model_name': 'MA_1d:RM220_TSSIM1_TL15-EXP_custHypTP0.57', 'deployment_date': '2022-12-05', 'algorithm_type': 'xgboost', 'dataset': 'MA_1d:RM220_TSSIM1_TL15-EXP_custHypTP0.57', 'TP': 91, 'TPpct': Decimal('0'), 'FP': 113, 'FPpct': Decimal('0'), 'TN': 161, 'TNpct': Decimal('0'), 'FN': 80, 'FNpct': Decimal('0'), 'precision_ratio': Decimal('0.8053097345132744'), 'evaluation_timeperiod': '2022-12-05_2022-12-09', 'live': False, 'hyperparameters': {\"{'subsample': 0.6, 'num_round': 1000, 'min_child_weight': 10, 'max_depth': 10, 'learning_rate': 0.1, 'gamma': 2, 'colsample_bytree': 1}\"}, 'features': {\"['oneD_stddev50', 'rsi', 'close_diff', 'daily_volume_vol_diff_pct30', 'range_vol_diff5', 'SPY_diff', 'threeD_stddev50', 'close_diff3', 'min_volume_vol_diff_pct', 'month', 'return_vol_240M', 'range_vol', 'rsi5', 'roc', 'SPY_3D', 'roc5', 'roc_diff', 'price_25DDiff', 'daily_volume_vol_diff_pct', 'price_10DDiff', 'SPY_1D', 'hour_volume_vol_diff', 'hour_volume_vol_diff_pct', 'return_vol_10D', 'SPY_5D']\"}, 'target': '0.017+one_max', 'feature_importances': \"[{'oneD_stddev50': 0.053067148}, {'rsi': 0.038283303}, {'close_diff': 0.03399338}, {'daily_volume_vol_diff_pct30': 0.032419283}, {'range_vol_diff5': 0.034226336}, {'SPY_diff': 0.03056166}, {'threeD_stddev50': 0.0380703}, {'close_diff3': 0.032970782}, {'min_volume_vol_diff_pct': 0.026863832}, {'month': 0.03833209}, {'return_vol_240M': 0.093410015}, {'range_vol': 0.043047123}, {'rsi5': 0.035355464}, {'roc': 0.035089802}, {'SPY_3D': 0.03579067}, {'roc5': 0.035007443}, {'roc_diff': 0.037949134}, {'price_25DDiff': 0.036575813}, {'daily_volume_vol_diff_pct': 0.031150365}, {'price_10DDiff': 0.034180947}, {'SPY_1D': 0.035159018}, {'hour_volume_vol_diff': 0.03219551}, {'hour_volume_vol_diff_pct': 0.03084631}, {'return_vol_10D': 0.08974159}, {'SPY_5D': 0.03571263}]\"}\n",
      "{'deployment_date': datetime.datetime(2022, 12, 12, 0, 0), 'dataset_end': datetime.datetime(2022, 12, 2, 0, 0), 'dataset_start': datetime.datetime(2018, 1, 1, 0, 0)}\n",
      "0.021\n",
      "0.4891631953503855\n"
     ]
    },
    {
     "name": "stderr",
     "output_type": "stream",
     "text": [
      "/var/folders/tq/_9q_lv1s2bndbr3tzzn08x4r0000gn/T/ipykernel_13040/3239437027.py:2: SettingWithCopyWarning: \n",
      "A value is trying to be set on a copy of a slice from a DataFrame.\n",
      "Try using .loc[row_indexer,col_indexer] = value instead\n",
      "\n",
      "See the caveats in the documentation: https://pandas.pydata.org/pandas-docs/stable/user_guide/indexing.html#returning-a-view-versus-a-copy\n",
      "  dataset.loc[:, 'label'] = (dataset[target_label] > target_value).astype(int)\n"
     ]
    },
    {
     "name": "stdout",
     "output_type": "stream",
     "text": [
      "label\n",
      "0    31107\n",
      "1    23263\n",
      "Name: count, dtype: int64\n",
      "45 83 234 86\n",
      "{'model_name': 'MA_1d:RM220_TSSIM1_TL15-EXP_custHypTP0.57', 'deployment_date': '2022-12-12', 'algorithm_type': 'xgboost', 'dataset': 'MA_1d:RM220_TSSIM1_TL15-EXP_custHypTP0.57', 'TP': 45, 'TPpct': Decimal('0'), 'FP': 83, 'FPpct': Decimal('0'), 'TN': 234, 'TNpct': Decimal('0'), 'FN': 86, 'FNpct': Decimal('0'), 'precision_ratio': Decimal('0.5421686746987951'), 'evaluation_timeperiod': '2022-12-12_2022-12-16', 'live': False, 'hyperparameters': {\"{'subsample': 0.6, 'num_round': 1000, 'min_child_weight': 10, 'max_depth': 10, 'learning_rate': 0.1, 'gamma': 2, 'colsample_bytree': 1}\"}, 'features': {\"['oneD_stddev50', 'rsi', 'close_diff', 'daily_volume_vol_diff_pct30', 'range_vol_diff5', 'SPY_diff', 'threeD_stddev50', 'close_diff3', 'min_volume_vol_diff_pct', 'month', 'return_vol_240M', 'range_vol', 'rsi5', 'roc', 'SPY_3D', 'roc5', 'roc_diff', 'price_25DDiff', 'daily_volume_vol_diff_pct', 'price_10DDiff', 'SPY_1D', 'hour_volume_vol_diff', 'hour_volume_vol_diff_pct', 'return_vol_10D', 'SPY_5D']\"}, 'target': '0.021+one_max', 'feature_importances': \"[{'oneD_stddev50': 0.05299816}, {'rsi': 0.03392718}, {'close_diff': 0.032290313}, {'daily_volume_vol_diff_pct30': 0.029495789}, {'range_vol_diff5': 0.032602694}, {'SPY_diff': 0.029621035}, {'threeD_stddev50': 0.03942708}, {'close_diff3': 0.033483155}, {'min_volume_vol_diff_pct': 0.026731156}, {'month': 0.038822446}, {'return_vol_240M': 0.13034256}, {'range_vol': 0.06608544}, {'rsi5': 0.032345273}, {'roc': 0.035233293}, {'SPY_3D': 0.036540456}, {'roc5': 0.036472645}, {'roc_diff': 0.0351053}, {'price_25DDiff': 0.038156614}, {'daily_volume_vol_diff_pct': 0.029584661}, {'price_10DDiff': 0.036456782}, {'SPY_1D': 0.036858637}, {'hour_volume_vol_diff': 0.03119582}, {'hour_volume_vol_diff_pct': 0.029803075}, {'return_vol_10D': 0.04013997}, {'SPY_5D': 0.036280442}]\"}\n",
      "{'deployment_date': datetime.datetime(2022, 12, 19, 0, 0), 'dataset_end': datetime.datetime(2022, 12, 9, 0, 0), 'dataset_start': datetime.datetime(2018, 1, 1, 0, 0)}\n",
      "0.021\n",
      "0.4895872537950069\n"
     ]
    },
    {
     "name": "stderr",
     "output_type": "stream",
     "text": [
      "/var/folders/tq/_9q_lv1s2bndbr3tzzn08x4r0000gn/T/ipykernel_13040/3239437027.py:2: SettingWithCopyWarning: \n",
      "A value is trying to be set on a copy of a slice from a DataFrame.\n",
      "Try using .loc[row_indexer,col_indexer] = value instead\n",
      "\n",
      "See the caveats in the documentation: https://pandas.pydata.org/pandas-docs/stable/user_guide/indexing.html#returning-a-view-versus-a-copy\n",
      "  dataset.loc[:, 'label'] = (dataset[target_label] > target_value).astype(int)\n"
     ]
    },
    {
     "name": "stdout",
     "output_type": "stream",
     "text": [
      "label\n",
      "0    31260\n",
      "1    23375\n",
      "Name: count, dtype: int64\n",
      "113 119 174 44\n",
      "{'model_name': 'MA_1d:RM220_TSSIM1_TL15-EXP_custHypTP0.57', 'deployment_date': '2022-12-19', 'algorithm_type': 'xgboost', 'dataset': 'MA_1d:RM220_TSSIM1_TL15-EXP_custHypTP0.57', 'TP': 113, 'TPpct': Decimal('0'), 'FP': 119, 'FPpct': Decimal('0'), 'TN': 174, 'TNpct': Decimal('0'), 'FN': 44, 'FNpct': Decimal('0'), 'precision_ratio': Decimal('0.9495798319327731'), 'evaluation_timeperiod': '2022-12-19_2022-12-23', 'live': False, 'hyperparameters': {\"{'subsample': 0.6, 'num_round': 1000, 'min_child_weight': 10, 'max_depth': 10, 'learning_rate': 0.1, 'gamma': 2, 'colsample_bytree': 1}\"}, 'features': {\"['oneD_stddev50', 'rsi', 'close_diff', 'daily_volume_vol_diff_pct30', 'range_vol_diff5', 'SPY_diff', 'threeD_stddev50', 'close_diff3', 'min_volume_vol_diff_pct', 'month', 'return_vol_240M', 'range_vol', 'rsi5', 'roc', 'SPY_3D', 'roc5', 'roc_diff', 'price_25DDiff', 'daily_volume_vol_diff_pct', 'price_10DDiff', 'SPY_1D', 'hour_volume_vol_diff', 'hour_volume_vol_diff_pct', 'return_vol_10D', 'SPY_5D']\"}, 'target': '0.021+one_max', 'feature_importances': \"[{'oneD_stddev50': 0.06395928}, {'rsi': 0.033165447}, {'close_diff': 0.03292861}, {'daily_volume_vol_diff_pct30': 0.02864747}, {'range_vol_diff5': 0.03327023}, {'SPY_diff': 0.031301137}, {'threeD_stddev50': 0.039064355}, {'close_diff3': 0.034518003}, {'min_volume_vol_diff_pct': 0.026818888}, {'month': 0.03869156}, {'return_vol_240M': 0.118515715}, {'range_vol': 0.058663074}, {'rsi5': 0.034178313}, {'roc': 0.0341528}, {'SPY_3D': 0.038464304}, {'roc5': 0.03729041}, {'roc_diff': 0.03503796}, {'price_25DDiff': 0.03853342}, {'daily_volume_vol_diff_pct': 0.030467145}, {'price_10DDiff': 0.03549371}, {'SPY_1D': 0.036550656}, {'hour_volume_vol_diff': 0.032667484}, {'hour_volume_vol_diff_pct': 0.030850159}, {'return_vol_10D': 0.03957006}, {'SPY_5D': 0.037199814}]\"}\n",
      "{'deployment_date': datetime.datetime(2022, 12, 26, 0, 0), 'dataset_end': datetime.datetime(2022, 12, 16, 0, 0), 'dataset_start': datetime.datetime(2018, 1, 1, 0, 0)}\n",
      "0.019\n",
      "0.29473505707630104\n"
     ]
    },
    {
     "name": "stderr",
     "output_type": "stream",
     "text": [
      "/var/folders/tq/_9q_lv1s2bndbr3tzzn08x4r0000gn/T/ipykernel_13040/3239437027.py:2: SettingWithCopyWarning: \n",
      "A value is trying to be set on a copy of a slice from a DataFrame.\n",
      "Try using .loc[row_indexer,col_indexer] = value instead\n",
      "\n",
      "See the caveats in the documentation: https://pandas.pydata.org/pandas-docs/stable/user_guide/indexing.html#returning-a-view-versus-a-copy\n",
      "  dataset.loc[:, 'label'] = (dataset[target_label] > target_value).astype(int)\n"
     ]
    },
    {
     "name": "stdout",
     "output_type": "stream",
     "text": [
      "label\n",
      "0    18738\n",
      "1    14285\n",
      "Name: count, dtype: int64\n",
      "36 31 172 121\n",
      "{'model_name': 'MA_1d:RM220_TSSIM1_TL15-EXP_custHypTP0.57', 'deployment_date': '2022-12-26', 'algorithm_type': 'xgboost', 'dataset': 'MA_1d:RM220_TSSIM1_TL15-EXP_custHypTP0.57', 'TP': 36, 'TPpct': Decimal('0'), 'FP': 31, 'FPpct': Decimal('0'), 'TN': 172, 'TNpct': Decimal('0'), 'FN': 121, 'FNpct': Decimal('0'), 'precision_ratio': Decimal('1.1612903225806452'), 'evaluation_timeperiod': '2022-12-26_2022-12-30', 'live': False, 'hyperparameters': {\"{'subsample': 0.6, 'num_round': 1000, 'min_child_weight': 10, 'max_depth': 10, 'learning_rate': 0.1, 'gamma': 2, 'colsample_bytree': 1}\"}, 'features': {\"['oneD_stddev50', 'rsi', 'close_diff', 'daily_volume_vol_diff_pct30', 'range_vol_diff5', 'SPY_diff', 'threeD_stddev50', 'close_diff3', 'min_volume_vol_diff_pct', 'month', 'return_vol_240M', 'range_vol', 'rsi5', 'roc', 'SPY_3D', 'roc5', 'roc_diff', 'price_25DDiff', 'daily_volume_vol_diff_pct', 'price_10DDiff', 'SPY_1D', 'hour_volume_vol_diff', 'hour_volume_vol_diff_pct', 'return_vol_10D', 'SPY_5D']\"}, 'target': '0.019+one_max', 'feature_importances': \"[{'oneD_stddev50': 0.047504663}, {'rsi': 0.03711661}, {'close_diff': 0.035142906}, {'daily_volume_vol_diff_pct30': 0.030390726}, {'range_vol_diff5': 0.031407032}, {'SPY_diff': 0.031566042}, {'threeD_stddev50': 0.050510425}, {'close_diff3': 0.03530257}, {'min_volume_vol_diff_pct': 0.027096722}, {'month': 0.0412593}, {'return_vol_240M': 0.0788993}, {'range_vol': 0.046742193}, {'rsi5': 0.035107356}, {'roc': 0.038472403}, {'SPY_3D': 0.037298035}, {'roc5': 0.034610294}, {'roc_diff': 0.03779471}, {'price_25DDiff': 0.036292188}, {'daily_volume_vol_diff_pct': 0.031291656}, {'price_10DDiff': 0.035545465}, {'SPY_1D': 0.03899184}, {'hour_volume_vol_diff': 0.03387254}, {'hour_volume_vol_diff_pct': 0.032571264}, {'return_vol_10D': 0.07321174}, {'SPY_5D': 0.042002045}]\"}\n",
      "{'deployment_date': datetime.datetime(2023, 1, 2, 0, 0), 'dataset_end': datetime.datetime(2022, 12, 23, 0, 0), 'dataset_start': datetime.datetime(2018, 1, 1, 0, 0)}\n",
      "0.019\n",
      "0.6593210244192972\n"
     ]
    },
    {
     "name": "stderr",
     "output_type": "stream",
     "text": [
      "/var/folders/tq/_9q_lv1s2bndbr3tzzn08x4r0000gn/T/ipykernel_13040/3239437027.py:2: SettingWithCopyWarning: \n",
      "A value is trying to be set on a copy of a slice from a DataFrame.\n",
      "Try using .loc[row_indexer,col_indexer] = value instead\n",
      "\n",
      "See the caveats in the documentation: https://pandas.pydata.org/pandas-docs/stable/user_guide/indexing.html#returning-a-view-versus-a-copy\n",
      "  dataset.loc[:, 'label'] = (dataset[target_label] > target_value).astype(int)\n"
     ]
    },
    {
     "name": "stdout",
     "output_type": "stream",
     "text": [
      "label\n",
      "0    42616\n",
      "1    31553\n",
      "Name: count, dtype: int64\n",
      "170 75 27 88\n",
      "{'model_name': 'MA_1d:RM220_TSSIM1_TL15-EXP_custHypTP0.57', 'deployment_date': '2023-01-02', 'algorithm_type': 'xgboost', 'dataset': 'MA_1d:RM220_TSSIM1_TL15-EXP_custHypTP0.57', 'TP': 170, 'TPpct': Decimal('0'), 'FP': 75, 'FPpct': Decimal('0'), 'TN': 27, 'TNpct': Decimal('0'), 'FN': 88, 'FNpct': Decimal('0'), 'precision_ratio': Decimal('2.2666666666666666'), 'evaluation_timeperiod': '2023-01-02_2023-01-06', 'live': False, 'hyperparameters': {\"{'subsample': 0.6, 'num_round': 1000, 'min_child_weight': 10, 'max_depth': 10, 'learning_rate': 0.1, 'gamma': 2, 'colsample_bytree': 1}\"}, 'features': {\"['oneD_stddev50', 'rsi', 'close_diff', 'daily_volume_vol_diff_pct30', 'range_vol_diff5', 'SPY_diff', 'threeD_stddev50', 'close_diff3', 'min_volume_vol_diff_pct', 'month', 'return_vol_240M', 'range_vol', 'rsi5', 'roc', 'SPY_3D', 'roc5', 'roc_diff', 'price_25DDiff', 'daily_volume_vol_diff_pct', 'price_10DDiff', 'SPY_1D', 'hour_volume_vol_diff', 'hour_volume_vol_diff_pct', 'return_vol_10D', 'SPY_5D']\"}, 'target': '0.019+one_max', 'feature_importances': \"[{'oneD_stddev50': 0.038474396}, {'rsi': 0.034770843}, {'close_diff': 0.031380855}, {'daily_volume_vol_diff_pct30': 0.03044714}, {'range_vol_diff5': 0.031334206}, {'SPY_diff': 0.028098198}, {'threeD_stddev50': 0.03554058}, {'close_diff3': 0.03321935}, {'min_volume_vol_diff_pct': 0.024319224}, {'month': 0.038977783}, {'return_vol_240M': 0.15908295}, {'range_vol': 0.06121898}, {'rsi5': 0.0321623}, {'roc': 0.03453319}, {'SPY_3D': 0.03534361}, {'roc5': 0.034631155}, {'roc_diff': 0.033901878}, {'price_25DDiff': 0.034897733}, {'daily_volume_vol_diff_pct': 0.030972596}, {'price_10DDiff': 0.032492355}, {'SPY_1D': 0.033645235}, {'hour_volume_vol_diff': 0.029895976}, {'hour_volume_vol_diff_pct': 0.030037686}, {'return_vol_10D': 0.053621117}, {'SPY_5D': 0.03700071}]\"}\n",
      "{'deployment_date': datetime.datetime(2023, 1, 9, 0, 0), 'dataset_end': datetime.datetime(2022, 12, 30, 0, 0), 'dataset_start': datetime.datetime(2018, 1, 1, 0, 0)}\n",
      "0.019\n",
      "0.28942961197309774\n"
     ]
    },
    {
     "name": "stderr",
     "output_type": "stream",
     "text": [
      "/var/folders/tq/_9q_lv1s2bndbr3tzzn08x4r0000gn/T/ipykernel_13040/3239437027.py:2: SettingWithCopyWarning: \n",
      "A value is trying to be set on a copy of a slice from a DataFrame.\n",
      "Try using .loc[row_indexer,col_indexer] = value instead\n",
      "\n",
      "See the caveats in the documentation: https://pandas.pydata.org/pandas-docs/stable/user_guide/indexing.html#returning-a-view-versus-a-copy\n",
      "  dataset.loc[:, 'label'] = (dataset[target_label] > target_value).astype(int)\n"
     ]
    },
    {
     "name": "stdout",
     "output_type": "stream",
     "text": [
      "label\n",
      "0    18551\n",
      "1    14112\n",
      "Name: count, dtype: int64\n",
      "110 60 117 163\n",
      "{'model_name': 'MA_1d:RM220_TSSIM1_TL15-EXP_custHypTP0.57', 'deployment_date': '2023-01-09', 'algorithm_type': 'xgboost', 'dataset': 'MA_1d:RM220_TSSIM1_TL15-EXP_custHypTP0.57', 'TP': 110, 'TPpct': Decimal('0'), 'FP': 60, 'FPpct': Decimal('0'), 'TN': 117, 'TNpct': Decimal('0'), 'FN': 163, 'FNpct': Decimal('0'), 'precision_ratio': Decimal('1.8333333333333333'), 'evaluation_timeperiod': '2023-01-09_2023-01-13', 'live': False, 'hyperparameters': {\"{'subsample': 0.6, 'num_round': 1000, 'min_child_weight': 10, 'max_depth': 10, 'learning_rate': 0.1, 'gamma': 2, 'colsample_bytree': 1}\"}, 'features': {\"['oneD_stddev50', 'rsi', 'close_diff', 'daily_volume_vol_diff_pct30', 'range_vol_diff5', 'SPY_diff', 'threeD_stddev50', 'close_diff3', 'min_volume_vol_diff_pct', 'month', 'return_vol_240M', 'range_vol', 'rsi5', 'roc', 'SPY_3D', 'roc5', 'roc_diff', 'price_25DDiff', 'daily_volume_vol_diff_pct', 'price_10DDiff', 'SPY_1D', 'hour_volume_vol_diff', 'hour_volume_vol_diff_pct', 'return_vol_10D', 'SPY_5D']\"}, 'target': '0.019+one_max', 'feature_importances': \"[{'oneD_stddev50': 0.0505857}, {'rsi': 0.03675266}, {'close_diff': 0.033891175}, {'daily_volume_vol_diff_pct30': 0.030485768}, {'range_vol_diff5': 0.032794446}, {'SPY_diff': 0.031377196}, {'threeD_stddev50': 0.047080718}, {'close_diff3': 0.034295317}, {'min_volume_vol_diff_pct': 0.028283427}, {'month': 0.043625724}, {'return_vol_240M': 0.067792006}, {'range_vol': 0.04759364}, {'rsi5': 0.03663531}, {'roc': 0.038297474}, {'SPY_3D': 0.03951722}, {'roc5': 0.033660993}, {'roc_diff': 0.03914558}, {'price_25DDiff': 0.036149316}, {'daily_volume_vol_diff_pct': 0.032213088}, {'price_10DDiff': 0.03559195}, {'SPY_1D': 0.038038973}, {'hour_volume_vol_diff': 0.033515893}, {'hour_volume_vol_diff_pct': 0.031442955}, {'return_vol_10D': 0.079081014}, {'SPY_5D': 0.042152457}]\"}\n",
      "{'deployment_date': datetime.datetime(2023, 1, 16, 0, 0), 'dataset_end': datetime.datetime(2023, 1, 6, 0, 0), 'dataset_start': datetime.datetime(2018, 1, 1, 0, 0)}\n",
      "0.019\n",
      "0.2853735878388524\n"
     ]
    },
    {
     "name": "stderr",
     "output_type": "stream",
     "text": [
      "/var/folders/tq/_9q_lv1s2bndbr3tzzn08x4r0000gn/T/ipykernel_13040/3239437027.py:2: SettingWithCopyWarning: \n",
      "A value is trying to be set on a copy of a slice from a DataFrame.\n",
      "Try using .loc[row_indexer,col_indexer] = value instead\n",
      "\n",
      "See the caveats in the documentation: https://pandas.pydata.org/pandas-docs/stable/user_guide/indexing.html#returning-a-view-versus-a-copy\n",
      "  dataset.loc[:, 'label'] = (dataset[target_label] > target_value).astype(int)\n"
     ]
    },
    {
     "name": "stdout",
     "output_type": "stream",
     "text": [
      "label\n",
      "0    18310\n",
      "1    13998\n",
      "Name: count, dtype: int64\n",
      "47 29 126 152\n",
      "{'model_name': 'MA_1d:RM220_TSSIM1_TL15-EXP_custHypTP0.57', 'deployment_date': '2023-01-16', 'algorithm_type': 'xgboost', 'dataset': 'MA_1d:RM220_TSSIM1_TL15-EXP_custHypTP0.57', 'TP': 47, 'TPpct': Decimal('0'), 'FP': 29, 'FPpct': Decimal('0'), 'TN': 126, 'TNpct': Decimal('0'), 'FN': 152, 'FNpct': Decimal('0'), 'precision_ratio': Decimal('1.6206896551724137'), 'evaluation_timeperiod': '2023-01-16_2023-01-20', 'live': False, 'hyperparameters': {\"{'subsample': 0.6, 'num_round': 1000, 'min_child_weight': 10, 'max_depth': 10, 'learning_rate': 0.1, 'gamma': 2, 'colsample_bytree': 1}\"}, 'features': {\"['oneD_stddev50', 'rsi', 'close_diff', 'daily_volume_vol_diff_pct30', 'range_vol_diff5', 'SPY_diff', 'threeD_stddev50', 'close_diff3', 'min_volume_vol_diff_pct', 'month', 'return_vol_240M', 'range_vol', 'rsi5', 'roc', 'SPY_3D', 'roc5', 'roc_diff', 'price_25DDiff', 'daily_volume_vol_diff_pct', 'price_10DDiff', 'SPY_1D', 'hour_volume_vol_diff', 'hour_volume_vol_diff_pct', 'return_vol_10D', 'SPY_5D']\"}, 'target': '0.019+one_max', 'feature_importances': \"[{'oneD_stddev50': 0.0476943}, {'rsi': 0.036595915}, {'close_diff': 0.03310449}, {'daily_volume_vol_diff_pct30': 0.031825364}, {'range_vol_diff5': 0.031792022}, {'SPY_diff': 0.030678442}, {'threeD_stddev50': 0.05968926}, {'close_diff3': 0.035459068}, {'min_volume_vol_diff_pct': 0.027917864}, {'month': 0.042464342}, {'return_vol_240M': 0.057745334}, {'range_vol': 0.048883148}, {'rsi5': 0.035968095}, {'roc': 0.03663926}, {'SPY_3D': 0.040289085}, {'roc5': 0.036650855}, {'roc_diff': 0.036613606}, {'price_25DDiff': 0.036221713}, {'daily_volume_vol_diff_pct': 0.032558482}, {'price_10DDiff': 0.037980527}, {'SPY_1D': 0.037923045}, {'hour_volume_vol_diff': 0.033978652}, {'hour_volume_vol_diff_pct': 0.03195223}, {'return_vol_10D': 0.07688506}, {'SPY_5D': 0.042489953}]\"}\n",
      "{'deployment_date': datetime.datetime(2023, 1, 23, 0, 0), 'dataset_end': datetime.datetime(2023, 1, 13, 0, 0), 'dataset_start': datetime.datetime(2018, 1, 1, 0, 0)}\n",
      "0.019\n",
      "0.6674819422327406\n"
     ]
    },
    {
     "name": "stderr",
     "output_type": "stream",
     "text": [
      "/var/folders/tq/_9q_lv1s2bndbr3tzzn08x4r0000gn/T/ipykernel_13040/3239437027.py:2: SettingWithCopyWarning: \n",
      "A value is trying to be set on a copy of a slice from a DataFrame.\n",
      "Try using .loc[row_indexer,col_indexer] = value instead\n",
      "\n",
      "See the caveats in the documentation: https://pandas.pydata.org/pandas-docs/stable/user_guide/indexing.html#returning-a-view-versus-a-copy\n",
      "  dataset.loc[:, 'label'] = (dataset[target_label] > target_value).astype(int)\n"
     ]
    },
    {
     "name": "stdout",
     "output_type": "stream",
     "text": [
      "label\n",
      "0    43536\n",
      "1    32332\n",
      "Name: count, dtype: int64\n",
      "96 59 155 140\n",
      "{'model_name': 'MA_1d:RM220_TSSIM1_TL15-EXP_custHypTP0.57', 'deployment_date': '2023-01-23', 'algorithm_type': 'xgboost', 'dataset': 'MA_1d:RM220_TSSIM1_TL15-EXP_custHypTP0.57', 'TP': 96, 'TPpct': Decimal('0'), 'FP': 59, 'FPpct': Decimal('0'), 'TN': 155, 'TNpct': Decimal('0'), 'FN': 140, 'FNpct': Decimal('0'), 'precision_ratio': Decimal('1.6271186440677967'), 'evaluation_timeperiod': '2023-01-23_2023-01-27', 'live': False, 'hyperparameters': {\"{'subsample': 0.6, 'num_round': 1000, 'min_child_weight': 10, 'max_depth': 10, 'learning_rate': 0.1, 'gamma': 2, 'colsample_bytree': 1}\"}, 'features': {\"['oneD_stddev50', 'rsi', 'close_diff', 'daily_volume_vol_diff_pct30', 'range_vol_diff5', 'SPY_diff', 'threeD_stddev50', 'close_diff3', 'min_volume_vol_diff_pct', 'month', 'return_vol_240M', 'range_vol', 'rsi5', 'roc', 'SPY_3D', 'roc5', 'roc_diff', 'price_25DDiff', 'daily_volume_vol_diff_pct', 'price_10DDiff', 'SPY_1D', 'hour_volume_vol_diff', 'hour_volume_vol_diff_pct', 'return_vol_10D', 'SPY_5D']\"}, 'target': '0.019+one_max', 'feature_importances': \"[{'oneD_stddev50': 0.039566483}, {'rsi': 0.034353454}, {'close_diff': 0.03206006}, {'daily_volume_vol_diff_pct30': 0.030312788}, {'range_vol_diff5': 0.030784851}, {'SPY_diff': 0.028997947}, {'threeD_stddev50': 0.034890287}, {'close_diff3': 0.032269053}, {'min_volume_vol_diff_pct': 0.02617883}, {'month': 0.037545685}, {'return_vol_240M': 0.1777413}, {'range_vol': 0.054470114}, {'rsi5': 0.032815576}, {'roc': 0.032981448}, {'SPY_3D': 0.035167195}, {'roc5': 0.03416679}, {'roc_diff': 0.034327835}, {'price_25DDiff': 0.034996208}, {'daily_volume_vol_diff_pct': 0.02941569}, {'price_10DDiff': 0.032508623}, {'SPY_1D': 0.03456381}, {'hour_volume_vol_diff': 0.028218448}, {'hour_volume_vol_diff_pct': 0.029203165}, {'return_vol_10D': 0.04730591}, {'SPY_5D': 0.03515845}]\"}\n",
      "{'deployment_date': datetime.datetime(2023, 1, 30, 0, 0), 'dataset_end': datetime.datetime(2023, 1, 20, 0, 0), 'dataset_start': datetime.datetime(2018, 1, 1, 0, 0)}\n",
      "0.019\n",
      "0.8198338844207442\n"
     ]
    },
    {
     "name": "stderr",
     "output_type": "stream",
     "text": [
      "/var/folders/tq/_9q_lv1s2bndbr3tzzn08x4r0000gn/T/ipykernel_13040/3239437027.py:2: SettingWithCopyWarning: \n",
      "A value is trying to be set on a copy of a slice from a DataFrame.\n",
      "Try using .loc[row_indexer,col_indexer] = value instead\n",
      "\n",
      "See the caveats in the documentation: https://pandas.pydata.org/pandas-docs/stable/user_guide/indexing.html#returning-a-view-versus-a-copy\n",
      "  dataset.loc[:, 'label'] = (dataset[target_label] > target_value).astype(int)\n"
     ]
    },
    {
     "name": "stdout",
     "output_type": "stream",
     "text": [
      "label\n",
      "0    53821\n",
      "1    39654\n",
      "Name: count, dtype: int64\n",
      "97 58 140 155\n",
      "{'model_name': 'MA_1d:RM220_TSSIM1_TL15-EXP_custHypTP0.57', 'deployment_date': '2023-01-30', 'algorithm_type': 'xgboost', 'dataset': 'MA_1d:RM220_TSSIM1_TL15-EXP_custHypTP0.57', 'TP': 97, 'TPpct': Decimal('0'), 'FP': 58, 'FPpct': Decimal('0'), 'TN': 140, 'TNpct': Decimal('0'), 'FN': 155, 'FNpct': Decimal('0'), 'precision_ratio': Decimal('1.6724137931034482'), 'evaluation_timeperiod': '2023-01-30_2023-02-03', 'live': False, 'hyperparameters': {\"{'subsample': 0.6, 'num_round': 1000, 'min_child_weight': 10, 'max_depth': 10, 'learning_rate': 0.1, 'gamma': 2, 'colsample_bytree': 1}\"}, 'features': {\"['oneD_stddev50', 'rsi', 'close_diff', 'daily_volume_vol_diff_pct30', 'range_vol_diff5', 'SPY_diff', 'threeD_stddev50', 'close_diff3', 'min_volume_vol_diff_pct', 'month', 'return_vol_240M', 'range_vol', 'rsi5', 'roc', 'SPY_3D', 'roc5', 'roc_diff', 'price_25DDiff', 'daily_volume_vol_diff_pct', 'price_10DDiff', 'SPY_1D', 'hour_volume_vol_diff', 'hour_volume_vol_diff_pct', 'return_vol_10D', 'SPY_5D']\"}, 'target': '0.019+one_max', 'feature_importances': \"[{'oneD_stddev50': 0.04030714}, {'rsi': 0.033394586}, {'close_diff': 0.031153351}, {'daily_volume_vol_diff_pct30': 0.028893149}, {'range_vol_diff5': 0.031672332}, {'SPY_diff': 0.027857276}, {'threeD_stddev50': 0.03395665}, {'close_diff3': 0.03221809}, {'min_volume_vol_diff_pct': 0.024549665}, {'month': 0.03649622}, {'return_vol_240M': 0.17571375}, {'range_vol': 0.05091909}, {'rsi5': 0.03290774}, {'roc': 0.03147212}, {'SPY_3D': 0.036039393}, {'roc5': 0.03411599}, {'roc_diff': 0.034140486}, {'price_25DDiff': 0.035018284}, {'daily_volume_vol_diff_pct': 0.02909508}, {'price_10DDiff': 0.03164339}, {'SPY_1D': 0.033955626}, {'hour_volume_vol_diff': 0.028425103}, {'hour_volume_vol_diff_pct': 0.028379418}, {'return_vol_10D': 0.063377745}, {'SPY_5D': 0.034298267}]\"}\n",
      "{'deployment_date': datetime.datetime(2023, 2, 6, 0, 0), 'dataset_end': datetime.datetime(2023, 1, 27, 0, 0), 'dataset_start': datetime.datetime(2018, 1, 1, 0, 0)}\n",
      "0.019\n",
      "0.668244996374501\n"
     ]
    },
    {
     "name": "stderr",
     "output_type": "stream",
     "text": [
      "/var/folders/tq/_9q_lv1s2bndbr3tzzn08x4r0000gn/T/ipykernel_13040/3239437027.py:2: SettingWithCopyWarning: \n",
      "A value is trying to be set on a copy of a slice from a DataFrame.\n",
      "Try using .loc[row_indexer,col_indexer] = value instead\n",
      "\n",
      "See the caveats in the documentation: https://pandas.pydata.org/pandas-docs/stable/user_guide/indexing.html#returning-a-view-versus-a-copy\n",
      "  dataset.loc[:, 'label'] = (dataset[target_label] > target_value).astype(int)\n"
     ]
    },
    {
     "name": "stdout",
     "output_type": "stream",
     "text": [
      "label\n",
      "0    43806\n",
      "1    32686\n",
      "Name: count, dtype: int64\n",
      "124 126 120 80\n",
      "{'model_name': 'MA_1d:RM220_TSSIM1_TL15-EXP_custHypTP0.57', 'deployment_date': '2023-02-06', 'algorithm_type': 'xgboost', 'dataset': 'MA_1d:RM220_TSSIM1_TL15-EXP_custHypTP0.57', 'TP': 124, 'TPpct': Decimal('0'), 'FP': 126, 'FPpct': Decimal('0'), 'TN': 120, 'TNpct': Decimal('0'), 'FN': 80, 'FNpct': Decimal('0'), 'precision_ratio': Decimal('0.9841269841269841'), 'evaluation_timeperiod': '2023-02-06_2023-02-10', 'live': False, 'hyperparameters': {\"{'subsample': 0.6, 'num_round': 1000, 'min_child_weight': 10, 'max_depth': 10, 'learning_rate': 0.1, 'gamma': 2, 'colsample_bytree': 1}\"}, 'features': {\"['oneD_stddev50', 'rsi', 'close_diff', 'daily_volume_vol_diff_pct30', 'range_vol_diff5', 'SPY_diff', 'threeD_stddev50', 'close_diff3', 'min_volume_vol_diff_pct', 'month', 'return_vol_240M', 'range_vol', 'rsi5', 'roc', 'SPY_3D', 'roc5', 'roc_diff', 'price_25DDiff', 'daily_volume_vol_diff_pct', 'price_10DDiff', 'SPY_1D', 'hour_volume_vol_diff', 'hour_volume_vol_diff_pct', 'return_vol_10D', 'SPY_5D']\"}, 'target': '0.019+one_max', 'feature_importances': \"[{'oneD_stddev50': 0.039925627}, {'rsi': 0.03393383}, {'close_diff': 0.03136028}, {'daily_volume_vol_diff_pct30': 0.030797783}, {'range_vol_diff5': 0.031770315}, {'SPY_diff': 0.028264802}, {'threeD_stddev50': 0.0350588}, {'close_diff3': 0.03347877}, {'min_volume_vol_diff_pct': 0.025194807}, {'month': 0.037598047}, {'return_vol_240M': 0.17666869}, {'range_vol': 0.052982494}, {'rsi5': 0.032312233}, {'roc': 0.032363653}, {'SPY_3D': 0.033550706}, {'roc5': 0.035060346}, {'roc_diff': 0.033797707}, {'price_25DDiff': 0.035161436}, {'daily_volume_vol_diff_pct': 0.029862735}, {'price_10DDiff': 0.033188585}, {'SPY_1D': 0.03440405}, {'hour_volume_vol_diff': 0.028055986}, {'hour_volume_vol_diff_pct': 0.029002737}, {'return_vol_10D': 0.048606455}, {'SPY_5D': 0.03759907}]\"}\n",
      "{'deployment_date': datetime.datetime(2023, 2, 13, 0, 0), 'dataset_end': datetime.datetime(2023, 2, 3, 0, 0), 'dataset_start': datetime.datetime(2018, 1, 1, 0, 0)}\n",
      "0.019\n",
      "0.6711104536317516\n"
     ]
    },
    {
     "name": "stderr",
     "output_type": "stream",
     "text": [
      "/var/folders/tq/_9q_lv1s2bndbr3tzzn08x4r0000gn/T/ipykernel_13040/3239437027.py:2: SettingWithCopyWarning: \n",
      "A value is trying to be set on a copy of a slice from a DataFrame.\n",
      "Try using .loc[row_indexer,col_indexer] = value instead\n",
      "\n",
      "See the caveats in the documentation: https://pandas.pydata.org/pandas-docs/stable/user_guide/indexing.html#returning-a-view-versus-a-copy\n",
      "  dataset.loc[:, 'label'] = (dataset[target_label] > target_value).astype(int)\n"
     ]
    },
    {
     "name": "stdout",
     "output_type": "stream",
     "text": [
      "label\n",
      "0    44166\n",
      "1    32956\n",
      "Name: count, dtype: int64\n",
      "79 110 192 58\n",
      "{'model_name': 'MA_1d:RM220_TSSIM1_TL15-EXP_custHypTP0.57', 'deployment_date': '2023-02-13', 'algorithm_type': 'xgboost', 'dataset': 'MA_1d:RM220_TSSIM1_TL15-EXP_custHypTP0.57', 'TP': 79, 'TPpct': Decimal('0'), 'FP': 110, 'FPpct': Decimal('0'), 'TN': 192, 'TNpct': Decimal('0'), 'FN': 58, 'FNpct': Decimal('0'), 'precision_ratio': Decimal('0.7181818181818181'), 'evaluation_timeperiod': '2023-02-13_2023-02-17', 'live': False, 'hyperparameters': {\"{'subsample': 0.6, 'num_round': 1000, 'min_child_weight': 10, 'max_depth': 10, 'learning_rate': 0.1, 'gamma': 2, 'colsample_bytree': 1}\"}, 'features': {\"['oneD_stddev50', 'rsi', 'close_diff', 'daily_volume_vol_diff_pct30', 'range_vol_diff5', 'SPY_diff', 'threeD_stddev50', 'close_diff3', 'min_volume_vol_diff_pct', 'month', 'return_vol_240M', 'range_vol', 'rsi5', 'roc', 'SPY_3D', 'roc5', 'roc_diff', 'price_25DDiff', 'daily_volume_vol_diff_pct', 'price_10DDiff', 'SPY_1D', 'hour_volume_vol_diff', 'hour_volume_vol_diff_pct', 'return_vol_10D', 'SPY_5D']\"}, 'target': '0.019+one_max', 'feature_importances': \"[{'oneD_stddev50': 0.04182083}, {'rsi': 0.034388516}, {'close_diff': 0.032291796}, {'daily_volume_vol_diff_pct30': 0.03105005}, {'range_vol_diff5': 0.032474432}, {'SPY_diff': 0.027747303}, {'threeD_stddev50': 0.036043454}, {'close_diff3': 0.033609446}, {'min_volume_vol_diff_pct': 0.02551428}, {'month': 0.03604354}, {'return_vol_240M': 0.17043445}, {'range_vol': 0.053201064}, {'rsi5': 0.033192772}, {'roc': 0.03289895}, {'SPY_3D': 0.034135558}, {'roc5': 0.033962496}, {'roc_diff': 0.034228615}, {'price_25DDiff': 0.03472228}, {'daily_volume_vol_diff_pct': 0.030131817}, {'price_10DDiff': 0.0323867}, {'SPY_1D': 0.034407184}, {'hour_volume_vol_diff': 0.029360808}, {'hour_volume_vol_diff_pct': 0.02801033}, {'return_vol_10D': 0.051134516}, {'SPY_5D': 0.036808833}]\"}\n",
      "{'deployment_date': datetime.datetime(2023, 2, 20, 0, 0), 'dataset_end': datetime.datetime(2023, 2, 10, 0, 0), 'dataset_start': datetime.datetime(2018, 1, 1, 0, 0)}\n",
      "0.019\n",
      "0.8219421498348748\n"
     ]
    },
    {
     "name": "stderr",
     "output_type": "stream",
     "text": [
      "/var/folders/tq/_9q_lv1s2bndbr3tzzn08x4r0000gn/T/ipykernel_13040/3239437027.py:2: SettingWithCopyWarning: \n",
      "A value is trying to be set on a copy of a slice from a DataFrame.\n",
      "Try using .loc[row_indexer,col_indexer] = value instead\n",
      "\n",
      "See the caveats in the documentation: https://pandas.pydata.org/pandas-docs/stable/user_guide/indexing.html#returning-a-view-versus-a-copy\n",
      "  dataset.loc[:, 'label'] = (dataset[target_label] > target_value).astype(int)\n"
     ]
    },
    {
     "name": "stdout",
     "output_type": "stream",
     "text": [
      "label\n",
      "0    54407\n",
      "1    40418\n",
      "Name: count, dtype: int64\n",
      "54 83 155 68\n",
      "{'model_name': 'MA_1d:RM220_TSSIM1_TL15-EXP_custHypTP0.57', 'deployment_date': '2023-02-20', 'algorithm_type': 'xgboost', 'dataset': 'MA_1d:RM220_TSSIM1_TL15-EXP_custHypTP0.57', 'TP': 54, 'TPpct': Decimal('0'), 'FP': 83, 'FPpct': Decimal('0'), 'TN': 155, 'TNpct': Decimal('0'), 'FN': 68, 'FNpct': Decimal('0'), 'precision_ratio': Decimal('0.6506024096385542'), 'evaluation_timeperiod': '2023-02-20_2023-02-24', 'live': False, 'hyperparameters': {\"{'subsample': 0.6, 'num_round': 1000, 'min_child_weight': 10, 'max_depth': 10, 'learning_rate': 0.1, 'gamma': 2, 'colsample_bytree': 1}\"}, 'features': {\"['oneD_stddev50', 'rsi', 'close_diff', 'daily_volume_vol_diff_pct30', 'range_vol_diff5', 'SPY_diff', 'threeD_stddev50', 'close_diff3', 'min_volume_vol_diff_pct', 'month', 'return_vol_240M', 'range_vol', 'rsi5', 'roc', 'SPY_3D', 'roc5', 'roc_diff', 'price_25DDiff', 'daily_volume_vol_diff_pct', 'price_10DDiff', 'SPY_1D', 'hour_volume_vol_diff', 'hour_volume_vol_diff_pct', 'return_vol_10D', 'SPY_5D']\"}, 'target': '0.019+one_max', 'feature_importances': \"[{'oneD_stddev50': 0.040376183}, {'rsi': 0.034614634}, {'close_diff': 0.031973705}, {'daily_volume_vol_diff_pct30': 0.0290728}, {'range_vol_diff5': 0.031696893}, {'SPY_diff': 0.028669182}, {'threeD_stddev50': 0.033328403}, {'close_diff3': 0.031552527}, {'min_volume_vol_diff_pct': 0.025974708}, {'month': 0.037501194}, {'return_vol_240M': 0.16658832}, {'range_vol': 0.049005307}, {'rsi5': 0.032717183}, {'roc': 0.03337489}, {'SPY_3D': 0.034831543}, {'roc5': 0.03358435}, {'roc_diff': 0.03412532}, {'price_25DDiff': 0.03664088}, {'daily_volume_vol_diff_pct': 0.028865458}, {'price_10DDiff': 0.03301119}, {'SPY_1D': 0.034431115}, {'hour_volume_vol_diff': 0.02902435}, {'hour_volume_vol_diff_pct': 0.028700281}, {'return_vol_10D': 0.0651584}, {'SPY_5D': 0.035181213}]\"}\n",
      "{'deployment_date': datetime.datetime(2023, 2, 27, 0, 0), 'dataset_end': datetime.datetime(2023, 2, 17, 0, 0), 'dataset_start': datetime.datetime(2018, 1, 1, 0, 0)}\n",
      "0.019\n",
      "0.673638035697324\n"
     ]
    },
    {
     "name": "stderr",
     "output_type": "stream",
     "text": [
      "/var/folders/tq/_9q_lv1s2bndbr3tzzn08x4r0000gn/T/ipykernel_13040/3239437027.py:2: SettingWithCopyWarning: \n",
      "A value is trying to be set on a copy of a slice from a DataFrame.\n",
      "Try using .loc[row_indexer,col_indexer] = value instead\n",
      "\n",
      "See the caveats in the documentation: https://pandas.pydata.org/pandas-docs/stable/user_guide/indexing.html#returning-a-view-versus-a-copy\n",
      "  dataset.loc[:, 'label'] = (dataset[target_label] > target_value).astype(int)\n"
     ]
    },
    {
     "name": "stdout",
     "output_type": "stream",
     "text": [
      "label\n",
      "0    44708\n",
      "1    33304\n",
      "Name: count, dtype: int64\n",
      "84 53 149 164\n",
      "{'model_name': 'MA_1d:RM220_TSSIM1_TL15-EXP_custHypTP0.57', 'deployment_date': '2023-02-27', 'algorithm_type': 'xgboost', 'dataset': 'MA_1d:RM220_TSSIM1_TL15-EXP_custHypTP0.57', 'TP': 84, 'TPpct': Decimal('0'), 'FP': 53, 'FPpct': Decimal('0'), 'TN': 149, 'TNpct': Decimal('0'), 'FN': 164, 'FNpct': Decimal('0'), 'precision_ratio': Decimal('1.5849056603773586'), 'evaluation_timeperiod': '2023-02-27_2023-03-03', 'live': False, 'hyperparameters': {\"{'subsample': 0.6, 'num_round': 1000, 'min_child_weight': 10, 'max_depth': 10, 'learning_rate': 0.1, 'gamma': 2, 'colsample_bytree': 1}\"}, 'features': {\"['oneD_stddev50', 'rsi', 'close_diff', 'daily_volume_vol_diff_pct30', 'range_vol_diff5', 'SPY_diff', 'threeD_stddev50', 'close_diff3', 'min_volume_vol_diff_pct', 'month', 'return_vol_240M', 'range_vol', 'rsi5', 'roc', 'SPY_3D', 'roc5', 'roc_diff', 'price_25DDiff', 'daily_volume_vol_diff_pct', 'price_10DDiff', 'SPY_1D', 'hour_volume_vol_diff', 'hour_volume_vol_diff_pct', 'return_vol_10D', 'SPY_5D']\"}, 'target': '0.019+one_max', 'feature_importances': \"[{'oneD_stddev50': 0.04051488}, {'rsi': 0.033845678}, {'close_diff': 0.030834071}, {'daily_volume_vol_diff_pct30': 0.030236261}, {'range_vol_diff5': 0.031562738}, {'SPY_diff': 0.027852453}, {'threeD_stddev50': 0.034227822}, {'close_diff3': 0.03298946}, {'min_volume_vol_diff_pct': 0.02607109}, {'month': 0.037653796}, {'return_vol_240M': 0.17852315}, {'range_vol': 0.054332826}, {'rsi5': 0.03236821}, {'roc': 0.032831196}, {'SPY_3D': 0.032733478}, {'roc5': 0.033156157}, {'roc_diff': 0.033613056}, {'price_25DDiff': 0.03352784}, {'daily_volume_vol_diff_pct': 0.029477501}, {'price_10DDiff': 0.03239883}, {'SPY_1D': 0.03494718}, {'hour_volume_vol_diff': 0.029140772}, {'hour_volume_vol_diff_pct': 0.028182939}, {'return_vol_10D': 0.05231191}, {'SPY_5D': 0.03666667}]\"}\n",
      "{'deployment_date': datetime.datetime(2023, 3, 6, 0, 0), 'dataset_end': datetime.datetime(2023, 2, 24, 0, 0), 'dataset_start': datetime.datetime(2018, 1, 1, 0, 0)}\n",
      "0.019\n",
      "0.27966634242082516\n"
     ]
    },
    {
     "name": "stderr",
     "output_type": "stream",
     "text": [
      "/var/folders/tq/_9q_lv1s2bndbr3tzzn08x4r0000gn/T/ipykernel_13040/3239437027.py:2: SettingWithCopyWarning: \n",
      "A value is trying to be set on a copy of a slice from a DataFrame.\n",
      "Try using .loc[row_indexer,col_indexer] = value instead\n",
      "\n",
      "See the caveats in the documentation: https://pandas.pydata.org/pandas-docs/stable/user_guide/indexing.html#returning-a-view-versus-a-copy\n",
      "  dataset.loc[:, 'label'] = (dataset[target_label] > target_value).astype(int)\n"
     ]
    },
    {
     "name": "stdout",
     "output_type": "stream",
     "text": [
      "label\n",
      "0    18304\n",
      "1    14184\n",
      "Name: count, dtype: int64\n",
      "47 74 233 96\n",
      "{'model_name': 'MA_1d:RM220_TSSIM1_TL15-EXP_custHypTP0.57', 'deployment_date': '2023-03-06', 'algorithm_type': 'xgboost', 'dataset': 'MA_1d:RM220_TSSIM1_TL15-EXP_custHypTP0.57', 'TP': 47, 'TPpct': Decimal('0'), 'FP': 74, 'FPpct': Decimal('0'), 'TN': 233, 'TNpct': Decimal('0'), 'FN': 96, 'FNpct': Decimal('0'), 'precision_ratio': Decimal('0.6351351351351351'), 'evaluation_timeperiod': '2023-03-06_2023-03-10', 'live': False, 'hyperparameters': {\"{'subsample': 0.6, 'num_round': 1000, 'min_child_weight': 10, 'max_depth': 10, 'learning_rate': 0.1, 'gamma': 2, 'colsample_bytree': 1}\"}, 'features': {\"['oneD_stddev50', 'rsi', 'close_diff', 'daily_volume_vol_diff_pct30', 'range_vol_diff5', 'SPY_diff', 'threeD_stddev50', 'close_diff3', 'min_volume_vol_diff_pct', 'month', 'return_vol_240M', 'range_vol', 'rsi5', 'roc', 'SPY_3D', 'roc5', 'roc_diff', 'price_25DDiff', 'daily_volume_vol_diff_pct', 'price_10DDiff', 'SPY_1D', 'hour_volume_vol_diff', 'hour_volume_vol_diff_pct', 'return_vol_10D', 'SPY_5D']\"}, 'target': '0.019+one_max', 'feature_importances': \"[{'oneD_stddev50': 0.046607673}, {'rsi': 0.036133002}, {'close_diff': 0.033517506}, {'daily_volume_vol_diff_pct30': 0.031010788}, {'range_vol_diff5': 0.03266848}, {'SPY_diff': 0.030286212}, {'threeD_stddev50': 0.05177971}, {'close_diff3': 0.037017584}, {'min_volume_vol_diff_pct': 0.02796564}, {'month': 0.043595962}, {'return_vol_240M': 0.060307786}, {'range_vol': 0.048072264}, {'rsi5': 0.037653483}, {'roc': 0.03852398}, {'SPY_3D': 0.040770724}, {'roc5': 0.0373286}, {'roc_diff': 0.038010646}, {'price_25DDiff': 0.03654586}, {'daily_volume_vol_diff_pct': 0.03139111}, {'price_10DDiff': 0.03489552}, {'SPY_1D': 0.038612008}, {'hour_volume_vol_diff': 0.03446943}, {'hour_volume_vol_diff_pct': 0.030991664}, {'return_vol_10D': 0.0814417}, {'SPY_5D': 0.040402703}]\"}\n",
      "{'deployment_date': datetime.datetime(2023, 3, 13, 0, 0), 'dataset_end': datetime.datetime(2023, 3, 3, 0, 0), 'dataset_start': datetime.datetime(2018, 1, 1, 0, 0)}\n",
      "0.019\n",
      "0.6720460996252691\n"
     ]
    },
    {
     "name": "stderr",
     "output_type": "stream",
     "text": [
      "/var/folders/tq/_9q_lv1s2bndbr3tzzn08x4r0000gn/T/ipykernel_13040/3239437027.py:2: SettingWithCopyWarning: \n",
      "A value is trying to be set on a copy of a slice from a DataFrame.\n",
      "Try using .loc[row_indexer,col_indexer] = value instead\n",
      "\n",
      "See the caveats in the documentation: https://pandas.pydata.org/pandas-docs/stable/user_guide/indexing.html#returning-a-view-versus-a-copy\n",
      "  dataset.loc[:, 'label'] = (dataset[target_label] > target_value).astype(int)\n"
     ]
    },
    {
     "name": "stdout",
     "output_type": "stream",
     "text": [
      "label\n",
      "0    44857\n",
      "1    33515\n",
      "Name: count, dtype: int64\n",
      "156 88 86 120\n",
      "{'model_name': 'MA_1d:RM220_TSSIM1_TL15-EXP_custHypTP0.57', 'deployment_date': '2023-03-13', 'algorithm_type': 'xgboost', 'dataset': 'MA_1d:RM220_TSSIM1_TL15-EXP_custHypTP0.57', 'TP': 156, 'TPpct': Decimal('0'), 'FP': 88, 'FPpct': Decimal('0'), 'TN': 86, 'TNpct': Decimal('0'), 'FN': 120, 'FNpct': Decimal('0'), 'precision_ratio': Decimal('1.7727272727272727'), 'evaluation_timeperiod': '2023-03-13_2023-03-17', 'live': False, 'hyperparameters': {\"{'subsample': 0.6, 'num_round': 1000, 'min_child_weight': 10, 'max_depth': 10, 'learning_rate': 0.1, 'gamma': 2, 'colsample_bytree': 1}\"}, 'features': {\"['oneD_stddev50', 'rsi', 'close_diff', 'daily_volume_vol_diff_pct30', 'range_vol_diff5', 'SPY_diff', 'threeD_stddev50', 'close_diff3', 'min_volume_vol_diff_pct', 'month', 'return_vol_240M', 'range_vol', 'rsi5', 'roc', 'SPY_3D', 'roc5', 'roc_diff', 'price_25DDiff', 'daily_volume_vol_diff_pct', 'price_10DDiff', 'SPY_1D', 'hour_volume_vol_diff', 'hour_volume_vol_diff_pct', 'return_vol_10D', 'SPY_5D']\"}, 'target': '0.019+one_max', 'feature_importances': \"[{'oneD_stddev50': 0.043093473}, {'rsi': 0.034232616}, {'close_diff': 0.031095944}, {'daily_volume_vol_diff_pct30': 0.02943568}, {'range_vol_diff5': 0.031453922}, {'SPY_diff': 0.028076852}, {'threeD_stddev50': 0.034967806}, {'close_diff3': 0.03383912}, {'min_volume_vol_diff_pct': 0.02686795}, {'month': 0.03723828}, {'return_vol_240M': 0.17459814}, {'range_vol': 0.04870397}, {'rsi5': 0.033273425}, {'roc': 0.033660356}, {'SPY_3D': 0.034106024}, {'roc5': 0.03323103}, {'roc_diff': 0.034574628}, {'price_25DDiff': 0.035249125}, {'daily_volume_vol_diff_pct': 0.029213816}, {'price_10DDiff': 0.032613996}, {'SPY_1D': 0.033981137}, {'hour_volume_vol_diff': 0.02867376}, {'hour_volume_vol_diff_pct': 0.029293412}, {'return_vol_10D': 0.0519011}, {'SPY_5D': 0.0366244}]\"}\n",
      "{'deployment_date': datetime.datetime(2023, 3, 20, 0, 0), 'dataset_end': datetime.datetime(2023, 3, 10, 0, 0), 'dataset_start': datetime.datetime(2018, 1, 1, 0, 0)}\n",
      "0.019\n",
      "0.6725379483543612\n"
     ]
    },
    {
     "name": "stderr",
     "output_type": "stream",
     "text": [
      "/var/folders/tq/_9q_lv1s2bndbr3tzzn08x4r0000gn/T/ipykernel_13040/3239437027.py:2: SettingWithCopyWarning: \n",
      "A value is trying to be set on a copy of a slice from a DataFrame.\n",
      "Try using .loc[row_indexer,col_indexer] = value instead\n",
      "\n",
      "See the caveats in the documentation: https://pandas.pydata.org/pandas-docs/stable/user_guide/indexing.html#returning-a-view-versus-a-copy\n",
      "  dataset.loc[:, 'label'] = (dataset[target_label] > target_value).astype(int)\n"
     ]
    },
    {
     "name": "stdout",
     "output_type": "stream",
     "text": [
      "label\n",
      "0    45095\n",
      "1    33637\n",
      "Name: count, dtype: int64\n",
      "120 63 152 110\n",
      "{'model_name': 'MA_1d:RM220_TSSIM1_TL15-EXP_custHypTP0.57', 'deployment_date': '2023-03-20', 'algorithm_type': 'xgboost', 'dataset': 'MA_1d:RM220_TSSIM1_TL15-EXP_custHypTP0.57', 'TP': 120, 'TPpct': Decimal('0'), 'FP': 63, 'FPpct': Decimal('0'), 'TN': 152, 'TNpct': Decimal('0'), 'FN': 110, 'FNpct': Decimal('0'), 'precision_ratio': Decimal('1.9047619047619047'), 'evaluation_timeperiod': '2023-03-20_2023-03-24', 'live': False, 'hyperparameters': {\"{'subsample': 0.6, 'num_round': 1000, 'min_child_weight': 10, 'max_depth': 10, 'learning_rate': 0.1, 'gamma': 2, 'colsample_bytree': 1}\"}, 'features': {\"['oneD_stddev50', 'rsi', 'close_diff', 'daily_volume_vol_diff_pct30', 'range_vol_diff5', 'SPY_diff', 'threeD_stddev50', 'close_diff3', 'min_volume_vol_diff_pct', 'month', 'return_vol_240M', 'range_vol', 'rsi5', 'roc', 'SPY_3D', 'roc5', 'roc_diff', 'price_25DDiff', 'daily_volume_vol_diff_pct', 'price_10DDiff', 'SPY_1D', 'hour_volume_vol_diff', 'hour_volume_vol_diff_pct', 'return_vol_10D', 'SPY_5D']\"}, 'target': '0.019+one_max', 'feature_importances': \"[{'oneD_stddev50': 0.04429721}, {'rsi': 0.036322635}, {'close_diff': 0.03146949}, {'daily_volume_vol_diff_pct30': 0.030083228}, {'range_vol_diff5': 0.03242295}, {'SPY_diff': 0.027989853}, {'threeD_stddev50': 0.0353599}, {'close_diff3': 0.03319484}, {'min_volume_vol_diff_pct': 0.025789022}, {'month': 0.038476896}, {'return_vol_240M': 0.16833813}, {'range_vol': 0.051595315}, {'rsi5': 0.033381496}, {'roc': 0.031909112}, {'SPY_3D': 0.034692805}, {'roc5': 0.033462163}, {'roc_diff': 0.034774218}, {'price_25DDiff': 0.035733953}, {'daily_volume_vol_diff_pct': 0.029213091}, {'price_10DDiff': 0.032467563}, {'SPY_1D': 0.034261085}, {'hour_volume_vol_diff': 0.028862001}, {'hour_volume_vol_diff_pct': 0.02984748}, {'return_vol_10D': 0.04971127}, {'SPY_5D': 0.036344323}]\"}\n",
      "{'deployment_date': datetime.datetime(2023, 3, 27, 0, 0), 'dataset_end': datetime.datetime(2023, 3, 17, 0, 0), 'dataset_start': datetime.datetime(2018, 1, 1, 0, 0)}\n",
      "0.019\n",
      "0.2788022158496218\n"
     ]
    },
    {
     "name": "stderr",
     "output_type": "stream",
     "text": [
      "/var/folders/tq/_9q_lv1s2bndbr3tzzn08x4r0000gn/T/ipykernel_13040/3239437027.py:2: SettingWithCopyWarning: \n",
      "A value is trying to be set on a copy of a slice from a DataFrame.\n",
      "Try using .loc[row_indexer,col_indexer] = value instead\n",
      "\n",
      "See the caveats in the documentation: https://pandas.pydata.org/pandas-docs/stable/user_guide/indexing.html#returning-a-view-versus-a-copy\n",
      "  dataset.loc[:, 'label'] = (dataset[target_label] > target_value).astype(int)\n"
     ]
    },
    {
     "name": "stdout",
     "output_type": "stream",
     "text": [
      "label\n",
      "0    18431\n",
      "1    14333\n",
      "Name: count, dtype: int64\n",
      "125 85 111 129\n",
      "{'model_name': 'MA_1d:RM220_TSSIM1_TL15-EXP_custHypTP0.57', 'deployment_date': '2023-03-27', 'algorithm_type': 'xgboost', 'dataset': 'MA_1d:RM220_TSSIM1_TL15-EXP_custHypTP0.57', 'TP': 125, 'TPpct': Decimal('0'), 'FP': 85, 'FPpct': Decimal('0'), 'TN': 111, 'TNpct': Decimal('0'), 'FN': 129, 'FNpct': Decimal('0'), 'precision_ratio': Decimal('1.4705882352941178'), 'evaluation_timeperiod': '2023-03-27_2023-03-31', 'live': False, 'hyperparameters': {\"{'subsample': 0.6, 'num_round': 1000, 'min_child_weight': 10, 'max_depth': 10, 'learning_rate': 0.1, 'gamma': 2, 'colsample_bytree': 1}\"}, 'features': {\"['oneD_stddev50', 'rsi', 'close_diff', 'daily_volume_vol_diff_pct30', 'range_vol_diff5', 'SPY_diff', 'threeD_stddev50', 'close_diff3', 'min_volume_vol_diff_pct', 'month', 'return_vol_240M', 'range_vol', 'rsi5', 'roc', 'SPY_3D', 'roc5', 'roc_diff', 'price_25DDiff', 'daily_volume_vol_diff_pct', 'price_10DDiff', 'SPY_1D', 'hour_volume_vol_diff', 'hour_volume_vol_diff_pct', 'return_vol_10D', 'SPY_5D']\"}, 'target': '0.019+one_max', 'feature_importances': \"[{'oneD_stddev50': 0.05385206}, {'rsi': 0.036725275}, {'close_diff': 0.03407932}, {'daily_volume_vol_diff_pct30': 0.029612463}, {'range_vol_diff5': 0.032773256}, {'SPY_diff': 0.030116778}, {'threeD_stddev50': 0.0529944}, {'close_diff3': 0.035790227}, {'min_volume_vol_diff_pct': 0.029204719}, {'month': 0.042555578}, {'return_vol_240M': 0.059206218}, {'range_vol': 0.04651845}, {'rsi5': 0.036517743}, {'roc': 0.039084177}, {'SPY_3D': 0.040665947}, {'roc5': 0.036499195}, {'roc_diff': 0.03815341}, {'price_25DDiff': 0.037011113}, {'daily_volume_vol_diff_pct': 0.030895384}, {'price_10DDiff': 0.036111325}, {'SPY_1D': 0.038449734}, {'hour_volume_vol_diff': 0.03252245}, {'hour_volume_vol_diff_pct': 0.031445973}, {'return_vol_10D': 0.07684575}, {'SPY_5D': 0.042369053}]\"}\n",
      "{'deployment_date': datetime.datetime(2023, 4, 3, 0, 0), 'dataset_end': datetime.datetime(2023, 3, 24, 0, 0), 'dataset_start': datetime.datetime(2018, 1, 1, 0, 0)}\n",
      "0.019\n",
      "0.2770313228499979\n"
     ]
    },
    {
     "name": "stderr",
     "output_type": "stream",
     "text": [
      "/var/folders/tq/_9q_lv1s2bndbr3tzzn08x4r0000gn/T/ipykernel_13040/3239437027.py:2: SettingWithCopyWarning: \n",
      "A value is trying to be set on a copy of a slice from a DataFrame.\n",
      "Try using .loc[row_indexer,col_indexer] = value instead\n",
      "\n",
      "See the caveats in the documentation: https://pandas.pydata.org/pandas-docs/stable/user_guide/indexing.html#returning-a-view-versus-a-copy\n",
      "  dataset.loc[:, 'label'] = (dataset[target_label] > target_value).astype(int)\n"
     ]
    },
    {
     "name": "stdout",
     "output_type": "stream",
     "text": [
      "label\n",
      "0    18381\n",
      "1    14299\n",
      "Name: count, dtype: int64\n",
      "19 47 199 94\n",
      "{'model_name': 'MA_1d:RM220_TSSIM1_TL15-EXP_custHypTP0.57', 'deployment_date': '2023-04-03', 'algorithm_type': 'xgboost', 'dataset': 'MA_1d:RM220_TSSIM1_TL15-EXP_custHypTP0.57', 'TP': 19, 'TPpct': Decimal('0'), 'FP': 47, 'FPpct': Decimal('0'), 'TN': 199, 'TNpct': Decimal('0'), 'FN': 94, 'FNpct': Decimal('0'), 'precision_ratio': Decimal('0.40425531914893614'), 'evaluation_timeperiod': '2023-04-03_2023-04-07', 'live': False, 'hyperparameters': {\"{'subsample': 0.6, 'num_round': 1000, 'min_child_weight': 10, 'max_depth': 10, 'learning_rate': 0.1, 'gamma': 2, 'colsample_bytree': 1}\"}, 'features': {\"['oneD_stddev50', 'rsi', 'close_diff', 'daily_volume_vol_diff_pct30', 'range_vol_diff5', 'SPY_diff', 'threeD_stddev50', 'close_diff3', 'min_volume_vol_diff_pct', 'month', 'return_vol_240M', 'range_vol', 'rsi5', 'roc', 'SPY_3D', 'roc5', 'roc_diff', 'price_25DDiff', 'daily_volume_vol_diff_pct', 'price_10DDiff', 'SPY_1D', 'hour_volume_vol_diff', 'hour_volume_vol_diff_pct', 'return_vol_10D', 'SPY_5D']\"}, 'target': '0.019+one_max', 'feature_importances': \"[{'oneD_stddev50': 0.055971567}, {'rsi': 0.0372907}, {'close_diff': 0.034823146}, {'daily_volume_vol_diff_pct30': 0.031748015}, {'range_vol_diff5': 0.034461934}, {'SPY_diff': 0.030143503}, {'threeD_stddev50': 0.04373453}, {'close_diff3': 0.034616888}, {'min_volume_vol_diff_pct': 0.0279797}, {'month': 0.04216161}, {'return_vol_240M': 0.05888587}, {'range_vol': 0.054442916}, {'rsi5': 0.03587663}, {'roc': 0.03770449}, {'SPY_3D': 0.03945132}, {'roc5': 0.034478407}, {'roc_diff': 0.037339684}, {'price_25DDiff': 0.039386027}, {'daily_volume_vol_diff_pct': 0.03302168}, {'price_10DDiff': 0.035010923}, {'SPY_1D': 0.03683275}, {'hour_volume_vol_diff': 0.033213537}, {'hour_volume_vol_diff_pct': 0.030740278}, {'return_vol_10D': 0.07960319}, {'SPY_5D': 0.041080706}]\"}\n",
      "{'deployment_date': datetime.datetime(2023, 4, 10, 0, 0), 'dataset_end': datetime.datetime(2023, 3, 31, 0, 0), 'dataset_start': datetime.datetime(2018, 1, 1, 0, 0)}\n",
      "0.019\n",
      "0.6724148123126293\n"
     ]
    },
    {
     "name": "stderr",
     "output_type": "stream",
     "text": [
      "/var/folders/tq/_9q_lv1s2bndbr3tzzn08x4r0000gn/T/ipykernel_13040/3239437027.py:2: SettingWithCopyWarning: \n",
      "A value is trying to be set on a copy of a slice from a DataFrame.\n",
      "Try using .loc[row_indexer,col_indexer] = value instead\n",
      "\n",
      "See the caveats in the documentation: https://pandas.pydata.org/pandas-docs/stable/user_guide/indexing.html#returning-a-view-versus-a-copy\n",
      "  dataset.loc[:, 'label'] = (dataset[target_label] > target_value).astype(int)\n"
     ]
    },
    {
     "name": "stdout",
     "output_type": "stream",
     "text": [
      "label\n",
      "0    45461\n",
      "1    34163\n",
      "Name: count, dtype: int64\n",
      "31 31 260 128\n",
      "{'model_name': 'MA_1d:RM220_TSSIM1_TL15-EXP_custHypTP0.57', 'deployment_date': '2023-04-10', 'algorithm_type': 'xgboost', 'dataset': 'MA_1d:RM220_TSSIM1_TL15-EXP_custHypTP0.57', 'TP': 31, 'TPpct': Decimal('0'), 'FP': 31, 'FPpct': Decimal('0'), 'TN': 260, 'TNpct': Decimal('0'), 'FN': 128, 'FNpct': Decimal('0'), 'precision_ratio': Decimal('1.0'), 'evaluation_timeperiod': '2023-04-10_2023-04-14', 'live': False, 'hyperparameters': {\"{'subsample': 0.6, 'num_round': 1000, 'min_child_weight': 10, 'max_depth': 10, 'learning_rate': 0.1, 'gamma': 2, 'colsample_bytree': 1}\"}, 'features': {\"['oneD_stddev50', 'rsi', 'close_diff', 'daily_volume_vol_diff_pct30', 'range_vol_diff5', 'SPY_diff', 'threeD_stddev50', 'close_diff3', 'min_volume_vol_diff_pct', 'month', 'return_vol_240M', 'range_vol', 'rsi5', 'roc', 'SPY_3D', 'roc5', 'roc_diff', 'price_25DDiff', 'daily_volume_vol_diff_pct', 'price_10DDiff', 'SPY_1D', 'hour_volume_vol_diff', 'hour_volume_vol_diff_pct', 'return_vol_10D', 'SPY_5D']\"}, 'target': '0.019+one_max', 'feature_importances': \"[{'oneD_stddev50': 0.041400816}, {'rsi': 0.034408893}, {'close_diff': 0.031898826}, {'daily_volume_vol_diff_pct30': 0.030128349}, {'range_vol_diff5': 0.032888126}, {'SPY_diff': 0.028902445}, {'threeD_stddev50': 0.034962945}, {'close_diff3': 0.033222128}, {'min_volume_vol_diff_pct': 0.025708213}, {'month': 0.03741055}, {'return_vol_240M': 0.16680996}, {'range_vol': 0.05221944}, {'rsi5': 0.033116106}, {'roc': 0.032570314}, {'SPY_3D': 0.03475291}, {'roc5': 0.034703393}, {'roc_diff': 0.03499642}, {'price_25DDiff': 0.035716135}, {'daily_volume_vol_diff_pct': 0.030131275}, {'price_10DDiff': 0.032041054}, {'SPY_1D': 0.03473506}, {'hour_volume_vol_diff': 0.029280877}, {'hour_volume_vol_diff_pct': 0.029957758}, {'return_vol_10D': 0.05163645}, {'SPY_5D': 0.036401488}]\"}\n",
      "{'deployment_date': datetime.datetime(2023, 4, 17, 0, 0), 'dataset_end': datetime.datetime(2023, 4, 7, 0, 0), 'dataset_start': datetime.datetime(2018, 1, 1, 0, 0)}\n",
      "0.019\n",
      "0.6719427488949695\n"
     ]
    },
    {
     "name": "stderr",
     "output_type": "stream",
     "text": [
      "/var/folders/tq/_9q_lv1s2bndbr3tzzn08x4r0000gn/T/ipykernel_13040/3239437027.py:2: SettingWithCopyWarning: \n",
      "A value is trying to be set on a copy of a slice from a DataFrame.\n",
      "Try using .loc[row_indexer,col_indexer] = value instead\n",
      "\n",
      "See the caveats in the documentation: https://pandas.pydata.org/pandas-docs/stable/user_guide/indexing.html#returning-a-view-versus-a-copy\n",
      "  dataset.loc[:, 'label'] = (dataset[target_label] > target_value).astype(int)\n"
     ]
    },
    {
     "name": "stdout",
     "output_type": "stream",
     "text": [
      "label\n",
      "0    45516\n",
      "1    34294\n",
      "Name: count, dtype: int64\n",
      "13 23 317 91\n",
      "{'model_name': 'MA_1d:RM220_TSSIM1_TL15-EXP_custHypTP0.57', 'deployment_date': '2023-04-17', 'algorithm_type': 'xgboost', 'dataset': 'MA_1d:RM220_TSSIM1_TL15-EXP_custHypTP0.57', 'TP': 13, 'TPpct': Decimal('0'), 'FP': 23, 'FPpct': Decimal('0'), 'TN': 317, 'TNpct': Decimal('0'), 'FN': 91, 'FNpct': Decimal('0'), 'precision_ratio': Decimal('0.5652173913043478'), 'evaluation_timeperiod': '2023-04-17_2023-04-21', 'live': False, 'hyperparameters': {\"{'subsample': 0.6, 'num_round': 1000, 'min_child_weight': 10, 'max_depth': 10, 'learning_rate': 0.1, 'gamma': 2, 'colsample_bytree': 1}\"}, 'features': {\"['oneD_stddev50', 'rsi', 'close_diff', 'daily_volume_vol_diff_pct30', 'range_vol_diff5', 'SPY_diff', 'threeD_stddev50', 'close_diff3', 'min_volume_vol_diff_pct', 'month', 'return_vol_240M', 'range_vol', 'rsi5', 'roc', 'SPY_3D', 'roc5', 'roc_diff', 'price_25DDiff', 'daily_volume_vol_diff_pct', 'price_10DDiff', 'SPY_1D', 'hour_volume_vol_diff', 'hour_volume_vol_diff_pct', 'return_vol_10D', 'SPY_5D']\"}, 'target': '0.019+one_max', 'feature_importances': \"[{'oneD_stddev50': 0.041983284}, {'rsi': 0.03414239}, {'close_diff': 0.03218289}, {'daily_volume_vol_diff_pct30': 0.029104475}, {'range_vol_diff5': 0.031852745}, {'SPY_diff': 0.027635192}, {'threeD_stddev50': 0.035995215}, {'close_diff3': 0.03332209}, {'min_volume_vol_diff_pct': 0.02678618}, {'month': 0.03838057}, {'return_vol_240M': 0.1719347}, {'range_vol': 0.0537764}, {'rsi5': 0.03246825}, {'roc': 0.03382283}, {'SPY_3D': 0.03360497}, {'roc5': 0.03252981}, {'roc_diff': 0.034010652}, {'price_25DDiff': 0.034903746}, {'daily_volume_vol_diff_pct': 0.02899172}, {'price_10DDiff': 0.034932125}, {'SPY_1D': 0.034332886}, {'hour_volume_vol_diff': 0.02985489}, {'hour_volume_vol_diff_pct': 0.030913638}, {'return_vol_10D': 0.047749113}, {'SPY_5D': 0.034789268}]\"}\n",
      "{'deployment_date': datetime.datetime(2023, 4, 24, 0, 0), 'dataset_end': datetime.datetime(2023, 4, 14, 0, 0), 'dataset_start': datetime.datetime(2018, 1, 1, 0, 0)}\n",
      "0.019\n",
      "0.8194002935625917\n"
     ]
    },
    {
     "name": "stderr",
     "output_type": "stream",
     "text": [
      "/var/folders/tq/_9q_lv1s2bndbr3tzzn08x4r0000gn/T/ipykernel_13040/3239437027.py:2: SettingWithCopyWarning: \n",
      "A value is trying to be set on a copy of a slice from a DataFrame.\n",
      "Try using .loc[row_indexer,col_indexer] = value instead\n",
      "\n",
      "See the caveats in the documentation: https://pandas.pydata.org/pandas-docs/stable/user_guide/indexing.html#returning-a-view-versus-a-copy\n",
      "  dataset.loc[:, 'label'] = (dataset[target_label] > target_value).astype(int)\n"
     ]
    },
    {
     "name": "stdout",
     "output_type": "stream",
     "text": [
      "label\n",
      "0    55999\n",
      "1    41694\n",
      "Name: count, dtype: int64\n",
      "52 41 204 153\n",
      "{'model_name': 'MA_1d:RM220_TSSIM1_TL15-EXP_custHypTP0.57', 'deployment_date': '2023-04-24', 'algorithm_type': 'xgboost', 'dataset': 'MA_1d:RM220_TSSIM1_TL15-EXP_custHypTP0.57', 'TP': 52, 'TPpct': Decimal('0'), 'FP': 41, 'FPpct': Decimal('0'), 'TN': 204, 'TNpct': Decimal('0'), 'FN': 153, 'FNpct': Decimal('0'), 'precision_ratio': Decimal('1.2682926829268293'), 'evaluation_timeperiod': '2023-04-24_2023-04-28', 'live': False, 'hyperparameters': {\"{'subsample': 0.6, 'num_round': 1000, 'min_child_weight': 10, 'max_depth': 10, 'learning_rate': 0.1, 'gamma': 2, 'colsample_bytree': 1}\"}, 'features': {\"['oneD_stddev50', 'rsi', 'close_diff', 'daily_volume_vol_diff_pct30', 'range_vol_diff5', 'SPY_diff', 'threeD_stddev50', 'close_diff3', 'min_volume_vol_diff_pct', 'month', 'return_vol_240M', 'range_vol', 'rsi5', 'roc', 'SPY_3D', 'roc5', 'roc_diff', 'price_25DDiff', 'daily_volume_vol_diff_pct', 'price_10DDiff', 'SPY_1D', 'hour_volume_vol_diff', 'hour_volume_vol_diff_pct', 'return_vol_10D', 'SPY_5D']\"}, 'target': '0.019+one_max', 'feature_importances': \"[{'oneD_stddev50': 0.039145708}, {'rsi': 0.033840798}, {'close_diff': 0.030316265}, {'daily_volume_vol_diff_pct30': 0.02888284}, {'range_vol_diff5': 0.031444795}, {'SPY_diff': 0.02823662}, {'threeD_stddev50': 0.034296382}, {'close_diff3': 0.03316984}, {'min_volume_vol_diff_pct': 0.025267335}, {'month': 0.037049722}, {'return_vol_240M': 0.1676205}, {'range_vol': 0.048896227}, {'rsi5': 0.033961598}, {'roc': 0.03336137}, {'SPY_3D': 0.03548329}, {'roc5': 0.03439652}, {'roc_diff': 0.034779694}, {'price_25DDiff': 0.03653705}, {'daily_volume_vol_diff_pct': 0.028993985}, {'price_10DDiff': 0.032498054}, {'SPY_1D': 0.03477685}, {'hour_volume_vol_diff': 0.029752396}, {'hour_volume_vol_diff_pct': 0.029042613}, {'return_vol_10D': 0.063920826}, {'SPY_5D': 0.03432875}]\"}\n",
      "{'deployment_date': datetime.datetime(2023, 5, 1, 0, 0), 'dataset_end': datetime.datetime(2023, 4, 21, 0, 0), 'dataset_start': datetime.datetime(2018, 1, 1, 0, 0)}\n",
      "0.019\n",
      "0.2790530546758141\n"
     ]
    },
    {
     "name": "stderr",
     "output_type": "stream",
     "text": [
      "/var/folders/tq/_9q_lv1s2bndbr3tzzn08x4r0000gn/T/ipykernel_13040/3239437027.py:2: SettingWithCopyWarning: \n",
      "A value is trying to be set on a copy of a slice from a DataFrame.\n",
      "Try using .loc[row_indexer,col_indexer] = value instead\n",
      "\n",
      "See the caveats in the documentation: https://pandas.pydata.org/pandas-docs/stable/user_guide/indexing.html#returning-a-view-versus-a-copy\n",
      "  dataset.loc[:, 'label'] = (dataset[target_label] > target_value).astype(int)\n"
     ]
    },
    {
     "name": "stdout",
     "output_type": "stream",
     "text": [
      "label\n",
      "0    18852\n",
      "1    14542\n",
      "Name: count, dtype: int64\n",
      "123 64 156 107\n",
      "{'model_name': 'MA_1d:RM220_TSSIM1_TL15-EXP_custHypTP0.57', 'deployment_date': '2023-05-01', 'algorithm_type': 'xgboost', 'dataset': 'MA_1d:RM220_TSSIM1_TL15-EXP_custHypTP0.57', 'TP': 123, 'TPpct': Decimal('0'), 'FP': 64, 'FPpct': Decimal('0'), 'TN': 156, 'TNpct': Decimal('0'), 'FN': 107, 'FNpct': Decimal('0'), 'precision_ratio': Decimal('1.921875'), 'evaluation_timeperiod': '2023-05-01_2023-05-05', 'live': False, 'hyperparameters': {\"{'subsample': 0.6, 'num_round': 1000, 'min_child_weight': 10, 'max_depth': 10, 'learning_rate': 0.1, 'gamma': 2, 'colsample_bytree': 1}\"}, 'features': {\"['oneD_stddev50', 'rsi', 'close_diff', 'daily_volume_vol_diff_pct30', 'range_vol_diff5', 'SPY_diff', 'threeD_stddev50', 'close_diff3', 'min_volume_vol_diff_pct', 'month', 'return_vol_240M', 'range_vol', 'rsi5', 'roc', 'SPY_3D', 'roc5', 'roc_diff', 'price_25DDiff', 'daily_volume_vol_diff_pct', 'price_10DDiff', 'SPY_1D', 'hour_volume_vol_diff', 'hour_volume_vol_diff_pct', 'return_vol_10D', 'SPY_5D']\"}, 'target': '0.019+one_max', 'feature_importances': \"[{'oneD_stddev50': 0.049208567}, {'rsi': 0.03745669}, {'close_diff': 0.034285}, {'daily_volume_vol_diff_pct30': 0.031697124}, {'range_vol_diff5': 0.033065986}, {'SPY_diff': 0.030347157}, {'threeD_stddev50': 0.06004283}, {'close_diff3': 0.035841115}, {'min_volume_vol_diff_pct': 0.028558897}, {'month': 0.042584553}, {'return_vol_240M': 0.08027336}, {'range_vol': 0.043844145}, {'rsi5': 0.034348786}, {'roc': 0.038010076}, {'SPY_3D': 0.0401724}, {'roc5': 0.036822435}, {'roc_diff': 0.038740795}, {'price_25DDiff': 0.03600505}, {'daily_volume_vol_diff_pct': 0.031870946}, {'price_10DDiff': 0.03436905}, {'SPY_1D': 0.036358282}, {'hour_volume_vol_diff': 0.032735668}, {'hour_volume_vol_diff_pct': 0.03376413}, {'return_vol_10D': 0.060228862}, {'SPY_5D': 0.03936808}]\"}\n",
      "{'deployment_date': datetime.datetime(2023, 5, 8, 0, 0), 'dataset_end': datetime.datetime(2023, 4, 28, 0, 0), 'dataset_start': datetime.datetime(2018, 1, 1, 0, 0)}\n",
      "0.019\n",
      "0.28770635786178705\n"
     ]
    },
    {
     "name": "stderr",
     "output_type": "stream",
     "text": [
      "/var/folders/tq/_9q_lv1s2bndbr3tzzn08x4r0000gn/T/ipykernel_13040/3239437027.py:2: SettingWithCopyWarning: \n",
      "A value is trying to be set on a copy of a slice from a DataFrame.\n",
      "Try using .loc[row_indexer,col_indexer] = value instead\n",
      "\n",
      "See the caveats in the documentation: https://pandas.pydata.org/pandas-docs/stable/user_guide/indexing.html#returning-a-view-versus-a-copy\n",
      "  dataset.loc[:, 'label'] = (dataset[target_label] > target_value).astype(int)\n"
     ]
    },
    {
     "name": "stdout",
     "output_type": "stream",
     "text": [
      "label\n",
      "0    19441\n",
      "1    15118\n",
      "Name: count, dtype: int64\n",
      "63 77 216 88\n",
      "{'model_name': 'MA_1d:RM220_TSSIM1_TL15-EXP_custHypTP0.57', 'deployment_date': '2023-05-08', 'algorithm_type': 'xgboost', 'dataset': 'MA_1d:RM220_TSSIM1_TL15-EXP_custHypTP0.57', 'TP': 63, 'TPpct': Decimal('0'), 'FP': 77, 'FPpct': Decimal('0'), 'TN': 216, 'TNpct': Decimal('0'), 'FN': 88, 'FNpct': Decimal('0'), 'precision_ratio': Decimal('0.8181818181818182'), 'evaluation_timeperiod': '2023-05-08_2023-05-12', 'live': False, 'hyperparameters': {\"{'subsample': 0.6, 'num_round': 1000, 'min_child_weight': 10, 'max_depth': 10, 'learning_rate': 0.1, 'gamma': 2, 'colsample_bytree': 1}\"}, 'features': {\"['oneD_stddev50', 'rsi', 'close_diff', 'daily_volume_vol_diff_pct30', 'range_vol_diff5', 'SPY_diff', 'threeD_stddev50', 'close_diff3', 'min_volume_vol_diff_pct', 'month', 'return_vol_240M', 'range_vol', 'rsi5', 'roc', 'SPY_3D', 'roc5', 'roc_diff', 'price_25DDiff', 'daily_volume_vol_diff_pct', 'price_10DDiff', 'SPY_1D', 'hour_volume_vol_diff', 'hour_volume_vol_diff_pct', 'return_vol_10D', 'SPY_5D']\"}, 'target': '0.019+one_max', 'feature_importances': \"[{'oneD_stddev50': 0.04835927}, {'rsi': 0.037585672}, {'close_diff': 0.032519545}, {'daily_volume_vol_diff_pct30': 0.03142168}, {'range_vol_diff5': 0.0344408}, {'SPY_diff': 0.030860897}, {'threeD_stddev50': 0.0643021}, {'close_diff3': 0.037638847}, {'min_volume_vol_diff_pct': 0.02853132}, {'month': 0.042013135}, {'return_vol_240M': 0.07315926}, {'range_vol': 0.04757151}, {'rsi5': 0.036738925}, {'roc': 0.036125798}, {'SPY_3D': 0.039233424}, {'roc5': 0.037130877}, {'roc_diff': 0.038444147}, {'price_25DDiff': 0.03583679}, {'daily_volume_vol_diff_pct': 0.03214894}, {'price_10DDiff': 0.035093583}, {'SPY_1D': 0.036738016}, {'hour_volume_vol_diff': 0.033032335}, {'hour_volume_vol_diff_pct': 0.03060482}, {'return_vol_10D': 0.058810543}, {'SPY_5D': 0.04165779}]\"}\n",
      "{'deployment_date': datetime.datetime(2023, 5, 15, 0, 0), 'dataset_end': datetime.datetime(2023, 5, 5, 0, 0), 'dataset_start': datetime.datetime(2018, 1, 1, 0, 0)}\n",
      "0.021\n",
      "0.5031309872355249\n"
     ]
    },
    {
     "name": "stderr",
     "output_type": "stream",
     "text": [
      "/var/folders/tq/_9q_lv1s2bndbr3tzzn08x4r0000gn/T/ipykernel_13040/3239437027.py:2: SettingWithCopyWarning: \n",
      "A value is trying to be set on a copy of a slice from a DataFrame.\n",
      "Try using .loc[row_indexer,col_indexer] = value instead\n",
      "\n",
      "See the caveats in the documentation: https://pandas.pydata.org/pandas-docs/stable/user_guide/indexing.html#returning-a-view-versus-a-copy\n",
      "  dataset.loc[:, 'label'] = (dataset[target_label] > target_value).astype(int)\n"
     ]
    },
    {
     "name": "stdout",
     "output_type": "stream",
     "text": [
      "label\n",
      "0    34589\n",
      "1    26073\n",
      "Name: count, dtype: int64\n",
      "66 14 166 198\n",
      "{'model_name': 'MA_1d:RM220_TSSIM1_TL15-EXP_custHypTP0.57', 'deployment_date': '2023-05-15', 'algorithm_type': 'xgboost', 'dataset': 'MA_1d:RM220_TSSIM1_TL15-EXP_custHypTP0.57', 'TP': 66, 'TPpct': Decimal('0'), 'FP': 14, 'FPpct': Decimal('0'), 'TN': 166, 'TNpct': Decimal('0'), 'FN': 198, 'FNpct': Decimal('0'), 'precision_ratio': Decimal('4.714285714285714'), 'evaluation_timeperiod': '2023-05-15_2023-05-19', 'live': False, 'hyperparameters': {\"{'subsample': 0.6, 'num_round': 1000, 'min_child_weight': 10, 'max_depth': 10, 'learning_rate': 0.1, 'gamma': 2, 'colsample_bytree': 1}\"}, 'features': {\"['oneD_stddev50', 'rsi', 'close_diff', 'daily_volume_vol_diff_pct30', 'range_vol_diff5', 'SPY_diff', 'threeD_stddev50', 'close_diff3', 'min_volume_vol_diff_pct', 'month', 'return_vol_240M', 'range_vol', 'rsi5', 'roc', 'SPY_3D', 'roc5', 'roc_diff', 'price_25DDiff', 'daily_volume_vol_diff_pct', 'price_10DDiff', 'SPY_1D', 'hour_volume_vol_diff', 'hour_volume_vol_diff_pct', 'return_vol_10D', 'SPY_5D']\"}, 'target': '0.021+one_max', 'feature_importances': \"[{'oneD_stddev50': 0.053280506}, {'rsi': 0.032606225}, {'close_diff': 0.031800684}, {'daily_volume_vol_diff_pct30': 0.029393816}, {'range_vol_diff5': 0.032437086}, {'SPY_diff': 0.029924404}, {'threeD_stddev50': 0.03684522}, {'close_diff3': 0.03466047}, {'min_volume_vol_diff_pct': 0.027270883}, {'month': 0.03949072}, {'return_vol_240M': 0.13836089}, {'range_vol': 0.06023055}, {'rsi5': 0.03262648}, {'roc': 0.03423808}, {'SPY_3D': 0.03715177}, {'roc5': 0.035900824}, {'roc_diff': 0.03499991}, {'price_25DDiff': 0.039724495}, {'daily_volume_vol_diff_pct': 0.028969903}, {'price_10DDiff': 0.035034955}, {'SPY_1D': 0.037182875}, {'hour_volume_vol_diff': 0.032144625}, {'hour_volume_vol_diff_pct': 0.032244794}, {'return_vol_10D': 0.03648492}, {'SPY_5D': 0.03699493}]\"}\n",
      "{'deployment_date': datetime.datetime(2023, 5, 22, 0, 0), 'dataset_end': datetime.datetime(2023, 5, 12, 0, 0), 'dataset_start': datetime.datetime(2018, 1, 1, 0, 0)}\n",
      "0.021\n",
      "0.5027724294084107\n"
     ]
    },
    {
     "name": "stderr",
     "output_type": "stream",
     "text": [
      "/var/folders/tq/_9q_lv1s2bndbr3tzzn08x4r0000gn/T/ipykernel_13040/3239437027.py:2: SettingWithCopyWarning: \n",
      "A value is trying to be set on a copy of a slice from a DataFrame.\n",
      "Try using .loc[row_indexer,col_indexer] = value instead\n",
      "\n",
      "See the caveats in the documentation: https://pandas.pydata.org/pandas-docs/stable/user_guide/indexing.html#returning-a-view-versus-a-copy\n",
      "  dataset.loc[:, 'label'] = (dataset[target_label] > target_value).astype(int)\n"
     ]
    },
    {
     "name": "stdout",
     "output_type": "stream",
     "text": [
      "label\n",
      "0    34706\n",
      "1    26136\n",
      "Name: count, dtype: int64\n",
      "55 49 199 147\n",
      "{'model_name': 'MA_1d:RM220_TSSIM1_TL15-EXP_custHypTP0.57', 'deployment_date': '2023-05-22', 'algorithm_type': 'xgboost', 'dataset': 'MA_1d:RM220_TSSIM1_TL15-EXP_custHypTP0.57', 'TP': 55, 'TPpct': Decimal('0'), 'FP': 49, 'FPpct': Decimal('0'), 'TN': 199, 'TNpct': Decimal('0'), 'FN': 147, 'FNpct': Decimal('0'), 'precision_ratio': Decimal('1.1224489795918366'), 'evaluation_timeperiod': '2023-05-22_2023-05-26', 'live': False, 'hyperparameters': {\"{'subsample': 0.6, 'num_round': 1000, 'min_child_weight': 10, 'max_depth': 10, 'learning_rate': 0.1, 'gamma': 2, 'colsample_bytree': 1}\"}, 'features': {\"['oneD_stddev50', 'rsi', 'close_diff', 'daily_volume_vol_diff_pct30', 'range_vol_diff5', 'SPY_diff', 'threeD_stddev50', 'close_diff3', 'min_volume_vol_diff_pct', 'month', 'return_vol_240M', 'range_vol', 'rsi5', 'roc', 'SPY_3D', 'roc5', 'roc_diff', 'price_25DDiff', 'daily_volume_vol_diff_pct', 'price_10DDiff', 'SPY_1D', 'hour_volume_vol_diff', 'hour_volume_vol_diff_pct', 'return_vol_10D', 'SPY_5D']\"}, 'target': '0.021+one_max', 'feature_importances': \"[{'oneD_stddev50': 0.05307123}, {'rsi': 0.033275753}, {'close_diff': 0.03212101}, {'daily_volume_vol_diff_pct30': 0.029341975}, {'range_vol_diff5': 0.03277049}, {'SPY_diff': 0.02939463}, {'threeD_stddev50': 0.037029646}, {'close_diff3': 0.034599807}, {'min_volume_vol_diff_pct': 0.026985358}, {'month': 0.040442187}, {'return_vol_240M': 0.1335929}, {'range_vol': 0.064141184}, {'rsi5': 0.031704396}, {'roc': 0.0339845}, {'SPY_3D': 0.03806555}, {'roc5': 0.035612088}, {'roc_diff': 0.035501365}, {'price_25DDiff': 0.038453657}, {'daily_volume_vol_diff_pct': 0.029402075}, {'price_10DDiff': 0.03522616}, {'SPY_1D': 0.03718908}, {'hour_volume_vol_diff': 0.030691158}, {'hour_volume_vol_diff_pct': 0.031645793}, {'return_vol_10D': 0.037702903}, {'SPY_5D': 0.03805509}]\"}\n",
      "{'deployment_date': datetime.datetime(2023, 5, 29, 0, 0), 'dataset_end': datetime.datetime(2023, 5, 19, 0, 0), 'dataset_start': datetime.datetime(2018, 1, 1, 0, 0)}\n",
      "0.017\n",
      "0.4421317832648592\n"
     ]
    },
    {
     "name": "stderr",
     "output_type": "stream",
     "text": [
      "/var/folders/tq/_9q_lv1s2bndbr3tzzn08x4r0000gn/T/ipykernel_13040/3239437027.py:2: SettingWithCopyWarning: \n",
      "A value is trying to be set on a copy of a slice from a DataFrame.\n",
      "Try using .loc[row_indexer,col_indexer] = value instead\n",
      "\n",
      "See the caveats in the documentation: https://pandas.pydata.org/pandas-docs/stable/user_guide/indexing.html#returning-a-view-versus-a-copy\n",
      "  dataset.loc[:, 'label'] = (dataset[target_label] > target_value).astype(int)\n"
     ]
    },
    {
     "name": "stdout",
     "output_type": "stream",
     "text": [
      "label\n",
      "0    30422\n",
      "1    23278\n",
      "Name: count, dtype: int64\n",
      "102 62 100 96\n",
      "{'model_name': 'MA_1d:RM220_TSSIM1_TL15-EXP_custHypTP0.57', 'deployment_date': '2023-05-29', 'algorithm_type': 'xgboost', 'dataset': 'MA_1d:RM220_TSSIM1_TL15-EXP_custHypTP0.57', 'TP': 102, 'TPpct': Decimal('0'), 'FP': 62, 'FPpct': Decimal('0'), 'TN': 100, 'TNpct': Decimal('0'), 'FN': 96, 'FNpct': Decimal('0'), 'precision_ratio': Decimal('1.6451612903225807'), 'evaluation_timeperiod': '2023-05-29_2023-06-02', 'live': False, 'hyperparameters': {\"{'subsample': 0.6, 'num_round': 1000, 'min_child_weight': 10, 'max_depth': 10, 'learning_rate': 0.1, 'gamma': 2, 'colsample_bytree': 1}\"}, 'features': {\"['oneD_stddev50', 'rsi', 'close_diff', 'daily_volume_vol_diff_pct30', 'range_vol_diff5', 'SPY_diff', 'threeD_stddev50', 'close_diff3', 'min_volume_vol_diff_pct', 'month', 'return_vol_240M', 'range_vol', 'rsi5', 'roc', 'SPY_3D', 'roc5', 'roc_diff', 'price_25DDiff', 'daily_volume_vol_diff_pct', 'price_10DDiff', 'SPY_1D', 'hour_volume_vol_diff', 'hour_volume_vol_diff_pct', 'return_vol_10D', 'SPY_5D']\"}, 'target': '0.017+one_max', 'feature_importances': \"[{'oneD_stddev50': 0.052832346}, {'rsi': 0.037052}, {'close_diff': 0.034578256}, {'daily_volume_vol_diff_pct30': 0.030598333}, {'range_vol_diff5': 0.034950078}, {'SPY_diff': 0.029621432}, {'threeD_stddev50': 0.0381321}, {'close_diff3': 0.03456572}, {'min_volume_vol_diff_pct': 0.028342225}, {'month': 0.04068037}, {'return_vol_240M': 0.091329426}, {'range_vol': 0.04716008}, {'rsi5': 0.03404609}, {'roc': 0.035672817}, {'SPY_3D': 0.035362974}, {'roc5': 0.035561364}, {'roc_diff': 0.037460756}, {'price_25DDiff': 0.035933394}, {'daily_volume_vol_diff_pct': 0.031040326}, {'price_10DDiff': 0.03552766}, {'SPY_1D': 0.0358518}, {'hour_volume_vol_diff': 0.032092072}, {'hour_volume_vol_diff_pct': 0.029730126}, {'return_vol_10D': 0.08592548}, {'SPY_5D': 0.035952717}]\"}\n",
      "{'deployment_date': datetime.datetime(2023, 6, 5, 0, 0), 'dataset_end': datetime.datetime(2023, 5, 26, 0, 0), 'dataset_start': datetime.datetime(2018, 1, 1, 0, 0)}\n",
      "0.017\n",
      "0.44345279598382376\n"
     ]
    },
    {
     "name": "stderr",
     "output_type": "stream",
     "text": [
      "/var/folders/tq/_9q_lv1s2bndbr3tzzn08x4r0000gn/T/ipykernel_13040/3239437027.py:2: SettingWithCopyWarning: \n",
      "A value is trying to be set on a copy of a slice from a DataFrame.\n",
      "Try using .loc[row_indexer,col_indexer] = value instead\n",
      "\n",
      "See the caveats in the documentation: https://pandas.pydata.org/pandas-docs/stable/user_guide/indexing.html#returning-a-view-versus-a-copy\n",
      "  dataset.loc[:, 'label'] = (dataset[target_label] > target_value).astype(int)\n"
     ]
    },
    {
     "name": "stdout",
     "output_type": "stream",
     "text": [
      "label\n",
      "0    30626\n",
      "1    23434\n",
      "Name: count, dtype: int64\n",
      "118 44 148 138\n",
      "{'model_name': 'MA_1d:RM220_TSSIM1_TL15-EXP_custHypTP0.57', 'deployment_date': '2023-06-05', 'algorithm_type': 'xgboost', 'dataset': 'MA_1d:RM220_TSSIM1_TL15-EXP_custHypTP0.57', 'TP': 118, 'TPpct': Decimal('0'), 'FP': 44, 'FPpct': Decimal('0'), 'TN': 148, 'TNpct': Decimal('0'), 'FN': 138, 'FNpct': Decimal('0'), 'precision_ratio': Decimal('2.6818181818181817'), 'evaluation_timeperiod': '2023-06-05_2023-06-09', 'live': False, 'hyperparameters': {\"{'subsample': 0.6, 'num_round': 1000, 'min_child_weight': 10, 'max_depth': 10, 'learning_rate': 0.1, 'gamma': 2, 'colsample_bytree': 1}\"}, 'features': {\"['oneD_stddev50', 'rsi', 'close_diff', 'daily_volume_vol_diff_pct30', 'range_vol_diff5', 'SPY_diff', 'threeD_stddev50', 'close_diff3', 'min_volume_vol_diff_pct', 'month', 'return_vol_240M', 'range_vol', 'rsi5', 'roc', 'SPY_3D', 'roc5', 'roc_diff', 'price_25DDiff', 'daily_volume_vol_diff_pct', 'price_10DDiff', 'SPY_1D', 'hour_volume_vol_diff', 'hour_volume_vol_diff_pct', 'return_vol_10D', 'SPY_5D']\"}, 'target': '0.017+one_max', 'feature_importances': \"[{'oneD_stddev50': 0.05301405}, {'rsi': 0.03670196}, {'close_diff': 0.034215175}, {'daily_volume_vol_diff_pct30': 0.03095019}, {'range_vol_diff5': 0.03447481}, {'SPY_diff': 0.029480789}, {'threeD_stddev50': 0.038391422}, {'close_diff3': 0.035607148}, {'min_volume_vol_diff_pct': 0.028272273}, {'month': 0.04056872}, {'return_vol_240M': 0.088348635}, {'range_vol': 0.04392422}, {'rsi5': 0.032906745}, {'roc': 0.035474185}, {'SPY_3D': 0.037360027}, {'roc5': 0.035474703}, {'roc_diff': 0.03730557}, {'price_25DDiff': 0.037187718}, {'daily_volume_vol_diff_pct': 0.030253323}, {'price_10DDiff': 0.034020595}, {'SPY_1D': 0.034839388}, {'hour_volume_vol_diff': 0.030498652}, {'hour_volume_vol_diff_pct': 0.030678146}, {'return_vol_10D': 0.09388375}, {'SPY_5D': 0.036167752}]\"}\n",
      "{'deployment_date': datetime.datetime(2023, 6, 12, 0, 0), 'dataset_end': datetime.datetime(2023, 6, 2, 0, 0), 'dataset_start': datetime.datetime(2018, 1, 1, 0, 0)}\n",
      "0.017\n",
      "0.4508984435702193\n"
     ]
    },
    {
     "name": "stderr",
     "output_type": "stream",
     "text": [
      "/var/folders/tq/_9q_lv1s2bndbr3tzzn08x4r0000gn/T/ipykernel_13040/3239437027.py:2: SettingWithCopyWarning: \n",
      "A value is trying to be set on a copy of a slice from a DataFrame.\n",
      "Try using .loc[row_indexer,col_indexer] = value instead\n",
      "\n",
      "See the caveats in the documentation: https://pandas.pydata.org/pandas-docs/stable/user_guide/indexing.html#returning-a-view-versus-a-copy\n",
      "  dataset.loc[:, 'label'] = (dataset[target_label] > target_value).astype(int)\n"
     ]
    },
    {
     "name": "stdout",
     "output_type": "stream",
     "text": [
      "label\n",
      "0    31109\n",
      "1    24021\n",
      "Name: count, dtype: int64\n",
      "77 70 184 119\n",
      "{'model_name': 'MA_1d:RM220_TSSIM1_TL15-EXP_custHypTP0.57', 'deployment_date': '2023-06-12', 'algorithm_type': 'xgboost', 'dataset': 'MA_1d:RM220_TSSIM1_TL15-EXP_custHypTP0.57', 'TP': 77, 'TPpct': Decimal('0'), 'FP': 70, 'FPpct': Decimal('0'), 'TN': 184, 'TNpct': Decimal('0'), 'FN': 119, 'FNpct': Decimal('0'), 'precision_ratio': Decimal('1.1'), 'evaluation_timeperiod': '2023-06-12_2023-06-16', 'live': False, 'hyperparameters': {\"{'subsample': 0.6, 'num_round': 1000, 'min_child_weight': 10, 'max_depth': 10, 'learning_rate': 0.1, 'gamma': 2, 'colsample_bytree': 1}\"}, 'features': {\"['oneD_stddev50', 'rsi', 'close_diff', 'daily_volume_vol_diff_pct30', 'range_vol_diff5', 'SPY_diff', 'threeD_stddev50', 'close_diff3', 'min_volume_vol_diff_pct', 'month', 'return_vol_240M', 'range_vol', 'rsi5', 'roc', 'SPY_3D', 'roc5', 'roc_diff', 'price_25DDiff', 'daily_volume_vol_diff_pct', 'price_10DDiff', 'SPY_1D', 'hour_volume_vol_diff', 'hour_volume_vol_diff_pct', 'return_vol_10D', 'SPY_5D']\"}, 'target': '0.017+one_max', 'feature_importances': \"[{'oneD_stddev50': 0.053740624}, {'rsi': 0.036116738}, {'close_diff': 0.03333368}, {'daily_volume_vol_diff_pct30': 0.03249135}, {'range_vol_diff5': 0.034167413}, {'SPY_diff': 0.030832611}, {'threeD_stddev50': 0.03727951}, {'close_diff3': 0.033958185}, {'min_volume_vol_diff_pct': 0.027590767}, {'month': 0.040188767}, {'return_vol_240M': 0.08655207}, {'range_vol': 0.04384196}, {'rsi5': 0.035279784}, {'roc': 0.0354315}, {'SPY_3D': 0.036046945}, {'roc5': 0.035033844}, {'roc_diff': 0.037185144}, {'price_25DDiff': 0.03687188}, {'daily_volume_vol_diff_pct': 0.032819886}, {'price_10DDiff': 0.03524067}, {'SPY_1D': 0.036067955}, {'hour_volume_vol_diff': 0.03245259}, {'hour_volume_vol_diff_pct': 0.0324201}, {'return_vol_10D': 0.09048858}, {'SPY_5D': 0.03456741}]\"}\n",
      "{'deployment_date': datetime.datetime(2023, 6, 19, 0, 0), 'dataset_end': datetime.datetime(2023, 6, 9, 0, 0), 'dataset_start': datetime.datetime(2018, 1, 1, 0, 0)}\n",
      "0.017\n",
      "0.4471218097069657\n"
     ]
    },
    {
     "name": "stderr",
     "output_type": "stream",
     "text": [
      "/var/folders/tq/_9q_lv1s2bndbr3tzzn08x4r0000gn/T/ipykernel_13040/3239437027.py:2: SettingWithCopyWarning: \n",
      "A value is trying to be set on a copy of a slice from a DataFrame.\n",
      "Try using .loc[row_indexer,col_indexer] = value instead\n",
      "\n",
      "See the caveats in the documentation: https://pandas.pydata.org/pandas-docs/stable/user_guide/indexing.html#returning-a-view-versus-a-copy\n",
      "  dataset.loc[:, 'label'] = (dataset[target_label] > target_value).astype(int)\n"
     ]
    },
    {
     "name": "stdout",
     "output_type": "stream",
     "text": [
      "label\n",
      "0    30942\n",
      "1    23927\n",
      "Name: count, dtype: int64\n",
      "55 77 160 68\n",
      "{'model_name': 'MA_1d:RM220_TSSIM1_TL15-EXP_custHypTP0.57', 'deployment_date': '2023-06-19', 'algorithm_type': 'xgboost', 'dataset': 'MA_1d:RM220_TSSIM1_TL15-EXP_custHypTP0.57', 'TP': 55, 'TPpct': Decimal('0'), 'FP': 77, 'FPpct': Decimal('0'), 'TN': 160, 'TNpct': Decimal('0'), 'FN': 68, 'FNpct': Decimal('0'), 'precision_ratio': Decimal('0.7142857142857143'), 'evaluation_timeperiod': '2023-06-19_2023-06-23', 'live': False, 'hyperparameters': {\"{'subsample': 0.6, 'num_round': 1000, 'min_child_weight': 10, 'max_depth': 10, 'learning_rate': 0.1, 'gamma': 2, 'colsample_bytree': 1}\"}, 'features': {\"['oneD_stddev50', 'rsi', 'close_diff', 'daily_volume_vol_diff_pct30', 'range_vol_diff5', 'SPY_diff', 'threeD_stddev50', 'close_diff3', 'min_volume_vol_diff_pct', 'month', 'return_vol_240M', 'range_vol', 'rsi5', 'roc', 'SPY_3D', 'roc5', 'roc_diff', 'price_25DDiff', 'daily_volume_vol_diff_pct', 'price_10DDiff', 'SPY_1D', 'hour_volume_vol_diff', 'hour_volume_vol_diff_pct', 'return_vol_10D', 'SPY_5D']\"}, 'target': '0.017+one_max', 'feature_importances': \"[{'oneD_stddev50': 0.05556996}, {'rsi': 0.037314568}, {'close_diff': 0.0347747}, {'daily_volume_vol_diff_pct30': 0.03080772}, {'range_vol_diff5': 0.034959257}, {'SPY_diff': 0.03032036}, {'threeD_stddev50': 0.038625732}, {'close_diff3': 0.03492109}, {'min_volume_vol_diff_pct': 0.027264738}, {'month': 0.038879372}, {'return_vol_240M': 0.07680001}, {'range_vol': 0.046029616}, {'rsi5': 0.03650968}, {'roc': 0.034834005}, {'SPY_3D': 0.03646187}, {'roc5': 0.03455106}, {'roc_diff': 0.037729934}, {'price_25DDiff': 0.03648562}, {'daily_volume_vol_diff_pct': 0.03239188}, {'price_10DDiff': 0.03515677}, {'SPY_1D': 0.035743337}, {'hour_volume_vol_diff': 0.0323305}, {'hour_volume_vol_diff_pct': 0.031556614}, {'return_vol_10D': 0.095160946}, {'SPY_5D': 0.034820687}]\"}\n",
      "{'deployment_date': datetime.datetime(2023, 6, 26, 0, 0), 'dataset_end': datetime.datetime(2023, 6, 16, 0, 0), 'dataset_start': datetime.datetime(2018, 1, 1, 0, 0)}\n",
      "0.019\n",
      "0.5666742445155318\n"
     ]
    },
    {
     "name": "stderr",
     "output_type": "stream",
     "text": [
      "/var/folders/tq/_9q_lv1s2bndbr3tzzn08x4r0000gn/T/ipykernel_13040/3239437027.py:2: SettingWithCopyWarning: \n",
      "A value is trying to be set on a copy of a slice from a DataFrame.\n",
      "Try using .loc[row_indexer,col_indexer] = value instead\n",
      "\n",
      "See the caveats in the documentation: https://pandas.pydata.org/pandas-docs/stable/user_guide/indexing.html#returning-a-view-versus-a-copy\n",
      "  dataset.loc[:, 'label'] = (dataset[target_label] > target_value).astype(int)\n"
     ]
    },
    {
     "name": "stdout",
     "output_type": "stream",
     "text": [
      "label\n",
      "0    39708\n",
      "1    30087\n",
      "Name: count, dtype: int64\n",
      "91 51 164 144\n",
      "{'model_name': 'MA_1d:RM220_TSSIM1_TL15-EXP_custHypTP0.57', 'deployment_date': '2023-06-26', 'algorithm_type': 'xgboost', 'dataset': 'MA_1d:RM220_TSSIM1_TL15-EXP_custHypTP0.57', 'TP': 91, 'TPpct': Decimal('0'), 'FP': 51, 'FPpct': Decimal('0'), 'TN': 164, 'TNpct': Decimal('0'), 'FN': 144, 'FNpct': Decimal('0'), 'precision_ratio': Decimal('1.7843137254901962'), 'evaluation_timeperiod': '2023-06-26_2023-06-30', 'live': False, 'hyperparameters': {\"{'subsample': 0.6, 'num_round': 1000, 'min_child_weight': 10, 'max_depth': 10, 'learning_rate': 0.1, 'gamma': 2, 'colsample_bytree': 1}\"}, 'features': {\"['oneD_stddev50', 'rsi', 'close_diff', 'daily_volume_vol_diff_pct30', 'range_vol_diff5', 'SPY_diff', 'threeD_stddev50', 'close_diff3', 'min_volume_vol_diff_pct', 'month', 'return_vol_240M', 'range_vol', 'rsi5', 'roc', 'SPY_3D', 'roc5', 'roc_diff', 'price_25DDiff', 'daily_volume_vol_diff_pct', 'price_10DDiff', 'SPY_1D', 'hour_volume_vol_diff', 'hour_volume_vol_diff_pct', 'return_vol_10D', 'SPY_5D']\"}, 'target': '0.019+one_max', 'feature_importances': \"[{'oneD_stddev50': 0.04460084}, {'rsi': 0.033113413}, {'close_diff': 0.030564135}, {'daily_volume_vol_diff_pct30': 0.028970707}, {'range_vol_diff5': 0.032047022}, {'SPY_diff': 0.027884996}, {'threeD_stddev50': 0.033260114}, {'close_diff3': 0.032051172}, {'min_volume_vol_diff_pct': 0.027091531}, {'month': 0.038025703}, {'return_vol_240M': 0.18867208}, {'range_vol': 0.042879846}, {'rsi5': 0.032096025}, {'roc': 0.033479076}, {'SPY_3D': 0.035619695}, {'roc5': 0.03577747}, {'roc_diff': 0.03404028}, {'price_25DDiff': 0.03376114}, {'daily_volume_vol_diff_pct': 0.029677758}, {'price_10DDiff': 0.032688864}, {'SPY_1D': 0.035145152}, {'hour_volume_vol_diff': 0.03002832}, {'hour_volume_vol_diff_pct': 0.028986419}, {'return_vol_10D': 0.04448661}, {'SPY_5D': 0.035051618}]\"}\n",
      "{'deployment_date': datetime.datetime(2023, 7, 3, 0, 0), 'dataset_end': datetime.datetime(2023, 6, 23, 0, 0), 'dataset_start': datetime.datetime(2018, 1, 1, 0, 0)}\n",
      "0.019\n",
      "0.5679371144536373\n"
     ]
    },
    {
     "name": "stderr",
     "output_type": "stream",
     "text": [
      "/var/folders/tq/_9q_lv1s2bndbr3tzzn08x4r0000gn/T/ipykernel_13040/3239437027.py:2: SettingWithCopyWarning: \n",
      "A value is trying to be set on a copy of a slice from a DataFrame.\n",
      "Try using .loc[row_indexer,col_indexer] = value instead\n",
      "\n",
      "See the caveats in the documentation: https://pandas.pydata.org/pandas-docs/stable/user_guide/indexing.html#returning-a-view-versus-a-copy\n",
      "  dataset.loc[:, 'label'] = (dataset[target_label] > target_value).astype(int)\n"
     ]
    },
    {
     "name": "stdout",
     "output_type": "stream",
     "text": [
      "label\n",
      "0    39966\n",
      "1    30189\n",
      "Name: count, dtype: int64\n",
      "59 29 235 37\n",
      "{'model_name': 'MA_1d:RM220_TSSIM1_TL15-EXP_custHypTP0.57', 'deployment_date': '2023-07-03', 'algorithm_type': 'xgboost', 'dataset': 'MA_1d:RM220_TSSIM1_TL15-EXP_custHypTP0.57', 'TP': 59, 'TPpct': Decimal('0'), 'FP': 29, 'FPpct': Decimal('0'), 'TN': 235, 'TNpct': Decimal('0'), 'FN': 37, 'FNpct': Decimal('0'), 'precision_ratio': Decimal('2.0344827586206895'), 'evaluation_timeperiod': '2023-07-03_2023-07-07', 'live': False, 'hyperparameters': {\"{'subsample': 0.6, 'num_round': 1000, 'min_child_weight': 10, 'max_depth': 10, 'learning_rate': 0.1, 'gamma': 2, 'colsample_bytree': 1}\"}, 'features': {\"['oneD_stddev50', 'rsi', 'close_diff', 'daily_volume_vol_diff_pct30', 'range_vol_diff5', 'SPY_diff', 'threeD_stddev50', 'close_diff3', 'min_volume_vol_diff_pct', 'month', 'return_vol_240M', 'range_vol', 'rsi5', 'roc', 'SPY_3D', 'roc5', 'roc_diff', 'price_25DDiff', 'daily_volume_vol_diff_pct', 'price_10DDiff', 'SPY_1D', 'hour_volume_vol_diff', 'hour_volume_vol_diff_pct', 'return_vol_10D', 'SPY_5D']\"}, 'target': '0.019+one_max', 'feature_importances': \"[{'oneD_stddev50': 0.04963158}, {'rsi': 0.03253938}, {'close_diff': 0.031940464}, {'daily_volume_vol_diff_pct30': 0.028778056}, {'range_vol_diff5': 0.031747002}, {'SPY_diff': 0.02782047}, {'threeD_stddev50': 0.034915376}, {'close_diff3': 0.032493293}, {'min_volume_vol_diff_pct': 0.025450176}, {'month': 0.037446264}, {'return_vol_240M': 0.1882384}, {'range_vol': 0.041077}, {'rsi5': 0.033339877}, {'roc': 0.032439582}, {'SPY_3D': 0.033909608}, {'roc5': 0.03489498}, {'roc_diff': 0.034382723}, {'price_25DDiff': 0.034596536}, {'daily_volume_vol_diff_pct': 0.031005159}, {'price_10DDiff': 0.032669626}, {'SPY_1D': 0.035162944}, {'hour_volume_vol_diff': 0.029971879}, {'hour_volume_vol_diff_pct': 0.028195279}, {'return_vol_10D': 0.042432092}, {'SPY_5D': 0.034922205}]\"}\n",
      "{'deployment_date': datetime.datetime(2023, 7, 10, 0, 0), 'dataset_end': datetime.datetime(2023, 6, 30, 0, 0), 'dataset_start': datetime.datetime(2018, 1, 1, 0, 0)}\n",
      "0.019\n",
      "0.37828289346325095\n"
     ]
    },
    {
     "name": "stderr",
     "output_type": "stream",
     "text": [
      "/var/folders/tq/_9q_lv1s2bndbr3tzzn08x4r0000gn/T/ipykernel_13040/3239437027.py:2: SettingWithCopyWarning: \n",
      "A value is trying to be set on a copy of a slice from a DataFrame.\n",
      "Try using .loc[row_indexer,col_indexer] = value instead\n",
      "\n",
      "See the caveats in the documentation: https://pandas.pydata.org/pandas-docs/stable/user_guide/indexing.html#returning-a-view-versus-a-copy\n",
      "  dataset.loc[:, 'label'] = (dataset[target_label] > target_value).astype(int)\n"
     ]
    },
    {
     "name": "stdout",
     "output_type": "stream",
     "text": [
      "label\n",
      "0    26735\n",
      "1    20163\n",
      "Name: count, dtype: int64\n",
      "50 39 182 179\n",
      "{'model_name': 'MA_1d:RM220_TSSIM1_TL15-EXP_custHypTP0.57', 'deployment_date': '2023-07-10', 'algorithm_type': 'xgboost', 'dataset': 'MA_1d:RM220_TSSIM1_TL15-EXP_custHypTP0.57', 'TP': 50, 'TPpct': Decimal('0'), 'FP': 39, 'FPpct': Decimal('0'), 'TN': 182, 'TNpct': Decimal('0'), 'FN': 179, 'FNpct': Decimal('0'), 'precision_ratio': Decimal('1.2820512820512822'), 'evaluation_timeperiod': '2023-07-10_2023-07-14', 'live': False, 'hyperparameters': {\"{'subsample': 0.6, 'num_round': 1000, 'min_child_weight': 10, 'max_depth': 10, 'learning_rate': 0.1, 'gamma': 2, 'colsample_bytree': 1}\"}, 'features': {\"['oneD_stddev50', 'rsi', 'close_diff', 'daily_volume_vol_diff_pct30', 'range_vol_diff5', 'SPY_diff', 'threeD_stddev50', 'close_diff3', 'min_volume_vol_diff_pct', 'month', 'return_vol_240M', 'range_vol', 'rsi5', 'roc', 'SPY_3D', 'roc5', 'roc_diff', 'price_25DDiff', 'daily_volume_vol_diff_pct', 'price_10DDiff', 'SPY_1D', 'hour_volume_vol_diff', 'hour_volume_vol_diff_pct', 'return_vol_10D', 'SPY_5D']\"}, 'target': '0.019+one_max', 'feature_importances': \"[{'oneD_stddev50': 0.059317295}, {'rsi': 0.035772588}, {'close_diff': 0.034020107}, {'daily_volume_vol_diff_pct30': 0.031447183}, {'range_vol_diff5': 0.033596}, {'SPY_diff': 0.031434473}, {'threeD_stddev50': 0.044362754}, {'close_diff3': 0.03491826}, {'min_volume_vol_diff_pct': 0.026376799}, {'month': 0.04151182}, {'return_vol_240M': 0.0985869}, {'range_vol': 0.049983576}, {'rsi5': 0.03610833}, {'roc': 0.03613103}, {'SPY_3D': 0.039380983}, {'roc5': 0.034668647}, {'roc_diff': 0.03661942}, {'price_25DDiff': 0.037081946}, {'daily_volume_vol_diff_pct': 0.029968048}, {'price_10DDiff': 0.03683879}, {'SPY_1D': 0.03762398}, {'hour_volume_vol_diff': 0.03264279}, {'hour_volume_vol_diff_pct': 0.030840058}, {'return_vol_10D': 0.05381356}, {'SPY_5D': 0.036954705}]\"}\n",
      "{'deployment_date': datetime.datetime(2023, 7, 17, 0, 0), 'dataset_end': datetime.datetime(2023, 7, 7, 0, 0), 'dataset_start': datetime.datetime(2018, 1, 1, 0, 0)}\n",
      "0.019\n",
      "0.38875305623471884\n"
     ]
    },
    {
     "name": "stderr",
     "output_type": "stream",
     "text": [
      "/var/folders/tq/_9q_lv1s2bndbr3tzzn08x4r0000gn/T/ipykernel_13040/3239437027.py:2: SettingWithCopyWarning: \n",
      "A value is trying to be set on a copy of a slice from a DataFrame.\n",
      "Try using .loc[row_indexer,col_indexer] = value instead\n",
      "\n",
      "See the caveats in the documentation: https://pandas.pydata.org/pandas-docs/stable/user_guide/indexing.html#returning-a-view-versus-a-copy\n",
      "  dataset.loc[:, 'label'] = (dataset[target_label] > target_value).astype(int)\n"
     ]
    },
    {
     "name": "stdout",
     "output_type": "stream",
     "text": [
      "label\n",
      "0    27407\n",
      "1    20929\n",
      "Name: count, dtype: int64\n",
      "36 48 232 128\n",
      "{'model_name': 'MA_1d:RM220_TSSIM1_TL15-EXP_custHypTP0.57', 'deployment_date': '2023-07-17', 'algorithm_type': 'xgboost', 'dataset': 'MA_1d:RM220_TSSIM1_TL15-EXP_custHypTP0.57', 'TP': 36, 'TPpct': Decimal('0'), 'FP': 48, 'FPpct': Decimal('0'), 'TN': 232, 'TNpct': Decimal('0'), 'FN': 128, 'FNpct': Decimal('0'), 'precision_ratio': Decimal('0.75'), 'evaluation_timeperiod': '2023-07-17_2023-07-21', 'live': False, 'hyperparameters': {\"{'subsample': 0.6, 'num_round': 1000, 'min_child_weight': 10, 'max_depth': 10, 'learning_rate': 0.1, 'gamma': 2, 'colsample_bytree': 1}\"}, 'features': {\"['oneD_stddev50', 'rsi', 'close_diff', 'daily_volume_vol_diff_pct30', 'range_vol_diff5', 'SPY_diff', 'threeD_stddev50', 'close_diff3', 'min_volume_vol_diff_pct', 'month', 'return_vol_240M', 'range_vol', 'rsi5', 'roc', 'SPY_3D', 'roc5', 'roc_diff', 'price_25DDiff', 'daily_volume_vol_diff_pct', 'price_10DDiff', 'SPY_1D', 'hour_volume_vol_diff', 'hour_volume_vol_diff_pct', 'return_vol_10D', 'SPY_5D']\"}, 'target': '0.019+one_max', 'feature_importances': \"[{'oneD_stddev50': 0.055226542}, {'rsi': 0.035139047}, {'close_diff': 0.03266805}, {'daily_volume_vol_diff_pct30': 0.03071357}, {'range_vol_diff5': 0.033079468}, {'SPY_diff': 0.032489676}, {'threeD_stddev50': 0.05012161}, {'close_diff3': 0.03430426}, {'min_volume_vol_diff_pct': 0.027032856}, {'month': 0.040195823}, {'return_vol_240M': 0.10568115}, {'range_vol': 0.05362284}, {'rsi5': 0.03532526}, {'roc': 0.03649699}, {'SPY_3D': 0.03874283}, {'roc5': 0.03491154}, {'roc_diff': 0.03651953}, {'price_25DDiff': 0.037014388}, {'daily_volume_vol_diff_pct': 0.03093049}, {'price_10DDiff': 0.03504182}, {'SPY_1D': 0.038305152}, {'hour_volume_vol_diff': 0.032648183}, {'hour_volume_vol_diff_pct': 0.030261477}, {'return_vol_10D': 0.04569025}, {'SPY_5D': 0.037837215}]\"}\n",
      "{'deployment_date': datetime.datetime(2023, 7, 24, 0, 0), 'dataset_end': datetime.datetime(2023, 7, 14, 0, 0), 'dataset_start': datetime.datetime(2018, 1, 1, 0, 0)}\n",
      "0.017\n",
      "0.4627041495039508\n"
     ]
    },
    {
     "name": "stderr",
     "output_type": "stream",
     "text": [
      "/var/folders/tq/_9q_lv1s2bndbr3tzzn08x4r0000gn/T/ipykernel_13040/3239437027.py:2: SettingWithCopyWarning: \n",
      "A value is trying to be set on a copy of a slice from a DataFrame.\n",
      "Try using .loc[row_indexer,col_indexer] = value instead\n",
      "\n",
      "See the caveats in the documentation: https://pandas.pydata.org/pandas-docs/stable/user_guide/indexing.html#returning-a-view-versus-a-copy\n",
      "  dataset.loc[:, 'label'] = (dataset[target_label] > target_value).astype(int)\n"
     ]
    },
    {
     "name": "stdout",
     "output_type": "stream",
     "text": [
      "label\n",
      "0    32531\n",
      "1    25208\n",
      "Name: count, dtype: int64\n",
      "95 29 212 114\n",
      "{'model_name': 'MA_1d:RM220_TSSIM1_TL15-EXP_custHypTP0.57', 'deployment_date': '2023-07-24', 'algorithm_type': 'xgboost', 'dataset': 'MA_1d:RM220_TSSIM1_TL15-EXP_custHypTP0.57', 'TP': 95, 'TPpct': Decimal('0'), 'FP': 29, 'FPpct': Decimal('0'), 'TN': 212, 'TNpct': Decimal('0'), 'FN': 114, 'FNpct': Decimal('0'), 'precision_ratio': Decimal('3.2758620689655173'), 'evaluation_timeperiod': '2023-07-24_2023-07-28', 'live': False, 'hyperparameters': {\"{'subsample': 0.6, 'num_round': 1000, 'min_child_weight': 10, 'max_depth': 10, 'learning_rate': 0.1, 'gamma': 2, 'colsample_bytree': 1}\"}, 'features': {\"['oneD_stddev50', 'rsi', 'close_diff', 'daily_volume_vol_diff_pct30', 'range_vol_diff5', 'SPY_diff', 'threeD_stddev50', 'close_diff3', 'min_volume_vol_diff_pct', 'month', 'return_vol_240M', 'range_vol', 'rsi5', 'roc', 'SPY_3D', 'roc5', 'roc_diff', 'price_25DDiff', 'daily_volume_vol_diff_pct', 'price_10DDiff', 'SPY_1D', 'hour_volume_vol_diff', 'hour_volume_vol_diff_pct', 'return_vol_10D', 'SPY_5D']\"}, 'target': '0.017+one_max', 'feature_importances': \"[{'oneD_stddev50': 0.051870305}, {'rsi': 0.03783583}, {'close_diff': 0.033249497}, {'daily_volume_vol_diff_pct30': 0.031527437}, {'range_vol_diff5': 0.034366935}, {'SPY_diff': 0.029653262}, {'threeD_stddev50': 0.038045984}, {'close_diff3': 0.034117725}, {'min_volume_vol_diff_pct': 0.026721282}, {'month': 0.04060322}, {'return_vol_240M': 0.09514116}, {'range_vol': 0.042167954}, {'rsi5': 0.03474038}, {'roc': 0.035013247}, {'SPY_3D': 0.036231864}, {'roc5': 0.035225254}, {'roc_diff': 0.037305936}, {'price_25DDiff': 0.03599904}, {'daily_volume_vol_diff_pct': 0.031009898}, {'price_10DDiff': 0.035518613}, {'SPY_1D': 0.035158668}, {'hour_volume_vol_diff': 0.031012766}, {'hour_volume_vol_diff_pct': 0.03110255}, {'return_vol_10D': 0.09141614}, {'SPY_5D': 0.03496499}]\"}\n",
      "{'deployment_date': datetime.datetime(2023, 7, 31, 0, 0), 'dataset_end': datetime.datetime(2023, 7, 21, 0, 0), 'dataset_start': datetime.datetime(2018, 1, 1, 0, 0)}\n",
      "0.017\n",
      "0.464609119220634\n"
     ]
    },
    {
     "name": "stderr",
     "output_type": "stream",
     "text": [
      "/var/folders/tq/_9q_lv1s2bndbr3tzzn08x4r0000gn/T/ipykernel_13040/3239437027.py:2: SettingWithCopyWarning: \n",
      "A value is trying to be set on a copy of a slice from a DataFrame.\n",
      "Try using .loc[row_indexer,col_indexer] = value instead\n",
      "\n",
      "See the caveats in the documentation: https://pandas.pydata.org/pandas-docs/stable/user_guide/indexing.html#returning-a-view-versus-a-copy\n",
      "  dataset.loc[:, 'label'] = (dataset[target_label] > target_value).astype(int)\n"
     ]
    },
    {
     "name": "stdout",
     "output_type": "stream",
     "text": [
      "label\n",
      "0    32781\n",
      "1    25402\n",
      "Name: count, dtype: int64\n",
      "78 57 232 83\n",
      "{'model_name': 'MA_1d:RM220_TSSIM1_TL15-EXP_custHypTP0.57', 'deployment_date': '2023-07-31', 'algorithm_type': 'xgboost', 'dataset': 'MA_1d:RM220_TSSIM1_TL15-EXP_custHypTP0.57', 'TP': 78, 'TPpct': Decimal('0'), 'FP': 57, 'FPpct': Decimal('0'), 'TN': 232, 'TNpct': Decimal('0'), 'FN': 83, 'FNpct': Decimal('0'), 'precision_ratio': Decimal('1.368421052631579'), 'evaluation_timeperiod': '2023-07-31_2023-08-04', 'live': False, 'hyperparameters': {\"{'subsample': 0.6, 'num_round': 1000, 'min_child_weight': 10, 'max_depth': 10, 'learning_rate': 0.1, 'gamma': 2, 'colsample_bytree': 1}\"}, 'features': {\"['oneD_stddev50', 'rsi', 'close_diff', 'daily_volume_vol_diff_pct30', 'range_vol_diff5', 'SPY_diff', 'threeD_stddev50', 'close_diff3', 'min_volume_vol_diff_pct', 'month', 'return_vol_240M', 'range_vol', 'rsi5', 'roc', 'SPY_3D', 'roc5', 'roc_diff', 'price_25DDiff', 'daily_volume_vol_diff_pct', 'price_10DDiff', 'SPY_1D', 'hour_volume_vol_diff', 'hour_volume_vol_diff_pct', 'return_vol_10D', 'SPY_5D']\"}, 'target': '0.017+one_max', 'feature_importances': \"[{'oneD_stddev50': 0.050662383}, {'rsi': 0.036177974}, {'close_diff': 0.033922587}, {'daily_volume_vol_diff_pct30': 0.030997269}, {'range_vol_diff5': 0.03285865}, {'SPY_diff': 0.02942047}, {'threeD_stddev50': 0.03749303}, {'close_diff3': 0.033782613}, {'min_volume_vol_diff_pct': 0.02801923}, {'month': 0.040811908}, {'return_vol_240M': 0.09251015}, {'range_vol': 0.04407419}, {'rsi5': 0.034305155}, {'roc': 0.033805348}, {'SPY_3D': 0.037575804}, {'roc5': 0.0352404}, {'roc_diff': 0.0377815}, {'price_25DDiff': 0.037101723}, {'daily_volume_vol_diff_pct': 0.031225208}, {'price_10DDiff': 0.03705602}, {'SPY_1D': 0.035149984}, {'hour_volume_vol_diff': 0.031505965}, {'hour_volume_vol_diff_pct': 0.031585444}, {'return_vol_10D': 0.09127826}, {'SPY_5D': 0.03565869}]\"}\n",
      "{'deployment_date': datetime.datetime(2023, 8, 7, 0, 0), 'dataset_end': datetime.datetime(2023, 7, 28, 0, 0), 'dataset_start': datetime.datetime(2018, 1, 1, 0, 0)}\n",
      "0.021\n",
      "0.4798376830044558\n"
     ]
    },
    {
     "name": "stderr",
     "output_type": "stream",
     "text": [
      "/var/folders/tq/_9q_lv1s2bndbr3tzzn08x4r0000gn/T/ipykernel_13040/3239437027.py:2: SettingWithCopyWarning: \n",
      "A value is trying to be set on a copy of a slice from a DataFrame.\n",
      "Try using .loc[row_indexer,col_indexer] = value instead\n",
      "\n",
      "See the caveats in the documentation: https://pandas.pydata.org/pandas-docs/stable/user_guide/indexing.html#returning-a-view-versus-a-copy\n",
      "  dataset.loc[:, 'label'] = (dataset[target_label] > target_value).astype(int)\n"
     ]
    },
    {
     "name": "stdout",
     "output_type": "stream",
     "text": [
      "label\n",
      "0    34366\n",
      "1    25940\n",
      "Name: count, dtype: int64\n",
      "35 49 314 52\n",
      "{'model_name': 'MA_1d:RM220_TSSIM1_TL15-EXP_custHypTP0.57', 'deployment_date': '2023-08-07', 'algorithm_type': 'xgboost', 'dataset': 'MA_1d:RM220_TSSIM1_TL15-EXP_custHypTP0.57', 'TP': 35, 'TPpct': Decimal('0'), 'FP': 49, 'FPpct': Decimal('0'), 'TN': 314, 'TNpct': Decimal('0'), 'FN': 52, 'FNpct': Decimal('0'), 'precision_ratio': Decimal('0.7142857142857143'), 'evaluation_timeperiod': '2023-08-07_2023-08-11', 'live': False, 'hyperparameters': {\"{'subsample': 0.6, 'num_round': 1000, 'min_child_weight': 10, 'max_depth': 10, 'learning_rate': 0.1, 'gamma': 2, 'colsample_bytree': 1}\"}, 'features': {\"['oneD_stddev50', 'rsi', 'close_diff', 'daily_volume_vol_diff_pct30', 'range_vol_diff5', 'SPY_diff', 'threeD_stddev50', 'close_diff3', 'min_volume_vol_diff_pct', 'month', 'return_vol_240M', 'range_vol', 'rsi5', 'roc', 'SPY_3D', 'roc5', 'roc_diff', 'price_25DDiff', 'daily_volume_vol_diff_pct', 'price_10DDiff', 'SPY_1D', 'hour_volume_vol_diff', 'hour_volume_vol_diff_pct', 'return_vol_10D', 'SPY_5D']\"}, 'target': '0.021+one_max', 'feature_importances': \"[{'oneD_stddev50': 0.07027663}, {'rsi': 0.03505975}, {'close_diff': 0.03117379}, {'daily_volume_vol_diff_pct30': 0.028951399}, {'range_vol_diff5': 0.033373058}, {'SPY_diff': 0.029636849}, {'threeD_stddev50': 0.03839374}, {'close_diff3': 0.033904336}, {'min_volume_vol_diff_pct': 0.026997995}, {'month': 0.038770393}, {'return_vol_240M': 0.117294595}, {'range_vol': 0.05824847}, {'rsi5': 0.034954466}, {'roc': 0.033955704}, {'SPY_3D': 0.038404737}, {'roc5': 0.03820318}, {'roc_diff': 0.035085343}, {'price_25DDiff': 0.03800844}, {'daily_volume_vol_diff_pct': 0.02913753}, {'price_10DDiff': 0.03418747}, {'SPY_1D': 0.03694947}, {'hour_volume_vol_diff': 0.031829745}, {'hour_volume_vol_diff_pct': 0.030644044}, {'return_vol_10D': 0.039788857}, {'SPY_5D': 0.036769997}]\"}\n",
      "{'deployment_date': datetime.datetime(2023, 8, 14, 0, 0), 'dataset_end': datetime.datetime(2023, 8, 4, 0, 0), 'dataset_start': datetime.datetime(2018, 1, 1, 0, 0)}\n",
      "0.021\n",
      "0.4795528423055578\n"
     ]
    },
    {
     "name": "stderr",
     "output_type": "stream",
     "text": [
      "/var/folders/tq/_9q_lv1s2bndbr3tzzn08x4r0000gn/T/ipykernel_13040/3239437027.py:2: SettingWithCopyWarning: \n",
      "A value is trying to be set on a copy of a slice from a DataFrame.\n",
      "Try using .loc[row_indexer,col_indexer] = value instead\n",
      "\n",
      "See the caveats in the documentation: https://pandas.pydata.org/pandas-docs/stable/user_guide/indexing.html#returning-a-view-versus-a-copy\n",
      "  dataset.loc[:, 'label'] = (dataset[target_label] > target_value).astype(int)\n"
     ]
    },
    {
     "name": "stdout",
     "output_type": "stream",
     "text": [
      "label\n",
      "0    34488\n",
      "1    25998\n",
      "Name: count, dtype: int64\n",
      "35 103 259 53\n",
      "{'model_name': 'MA_1d:RM220_TSSIM1_TL15-EXP_custHypTP0.57', 'deployment_date': '2023-08-14', 'algorithm_type': 'xgboost', 'dataset': 'MA_1d:RM220_TSSIM1_TL15-EXP_custHypTP0.57', 'TP': 35, 'TPpct': Decimal('0'), 'FP': 103, 'FPpct': Decimal('0'), 'TN': 259, 'TNpct': Decimal('0'), 'FN': 53, 'FNpct': Decimal('0'), 'precision_ratio': Decimal('0.33980582524271846'), 'evaluation_timeperiod': '2023-08-14_2023-08-18', 'live': False, 'hyperparameters': {\"{'subsample': 0.6, 'num_round': 1000, 'min_child_weight': 10, 'max_depth': 10, 'learning_rate': 0.1, 'gamma': 2, 'colsample_bytree': 1}\"}, 'features': {\"['oneD_stddev50', 'rsi', 'close_diff', 'daily_volume_vol_diff_pct30', 'range_vol_diff5', 'SPY_diff', 'threeD_stddev50', 'close_diff3', 'min_volume_vol_diff_pct', 'month', 'return_vol_240M', 'range_vol', 'rsi5', 'roc', 'SPY_3D', 'roc5', 'roc_diff', 'price_25DDiff', 'daily_volume_vol_diff_pct', 'price_10DDiff', 'SPY_1D', 'hour_volume_vol_diff', 'hour_volume_vol_diff_pct', 'return_vol_10D', 'SPY_5D']\"}, 'target': '0.021+one_max', 'feature_importances': \"[{'oneD_stddev50': 0.0563827}, {'rsi': 0.034373403}, {'close_diff': 0.031571668}, {'daily_volume_vol_diff_pct30': 0.030941583}, {'range_vol_diff5': 0.031877473}, {'SPY_diff': 0.030725906}, {'threeD_stddev50': 0.037594132}, {'close_diff3': 0.034078725}, {'min_volume_vol_diff_pct': 0.026958482}, {'month': 0.040283117}, {'return_vol_240M': 0.13453445}, {'range_vol': 0.056397974}, {'rsi5': 0.034402627}, {'roc': 0.035595007}, {'SPY_3D': 0.036951475}, {'roc5': 0.03665482}, {'roc_diff': 0.035800364}, {'price_25DDiff': 0.037346743}, {'daily_volume_vol_diff_pct': 0.029472688}, {'price_10DDiff': 0.033823986}, {'SPY_1D': 0.03671063}, {'hour_volume_vol_diff': 0.032355823}, {'hour_volume_vol_diff_pct': 0.030451637}, {'return_vol_10D': 0.037216533}, {'SPY_5D': 0.037498027}]\"}\n",
      "{'deployment_date': datetime.datetime(2023, 8, 21, 0, 0), 'dataset_end': datetime.datetime(2023, 8, 11, 0, 0), 'dataset_start': datetime.datetime(2018, 1, 1, 0, 0)}\n",
      "0.021\n",
      "0.4792700268604835\n"
     ]
    },
    {
     "name": "stderr",
     "output_type": "stream",
     "text": [
      "/var/folders/tq/_9q_lv1s2bndbr3tzzn08x4r0000gn/T/ipykernel_13040/3239437027.py:2: SettingWithCopyWarning: \n",
      "A value is trying to be set on a copy of a slice from a DataFrame.\n",
      "Try using .loc[row_indexer,col_indexer] = value instead\n",
      "\n",
      "See the caveats in the documentation: https://pandas.pydata.org/pandas-docs/stable/user_guide/indexing.html#returning-a-view-versus-a-copy\n",
      "  dataset.loc[:, 'label'] = (dataset[target_label] > target_value).astype(int)\n"
     ]
    },
    {
     "name": "stdout",
     "output_type": "stream",
     "text": [
      "label\n",
      "0    34730\n",
      "1    25936\n",
      "Name: count, dtype: int64\n",
      "50 29 231 140\n",
      "{'model_name': 'MA_1d:RM220_TSSIM1_TL15-EXP_custHypTP0.57', 'deployment_date': '2023-08-21', 'algorithm_type': 'xgboost', 'dataset': 'MA_1d:RM220_TSSIM1_TL15-EXP_custHypTP0.57', 'TP': 50, 'TPpct': Decimal('0'), 'FP': 29, 'FPpct': Decimal('0'), 'TN': 231, 'TNpct': Decimal('0'), 'FN': 140, 'FNpct': Decimal('0'), 'precision_ratio': Decimal('1.7241379310344827'), 'evaluation_timeperiod': '2023-08-21_2023-08-25', 'live': False, 'hyperparameters': {\"{'subsample': 0.6, 'num_round': 1000, 'min_child_weight': 10, 'max_depth': 10, 'learning_rate': 0.1, 'gamma': 2, 'colsample_bytree': 1}\"}, 'features': {\"['oneD_stddev50', 'rsi', 'close_diff', 'daily_volume_vol_diff_pct30', 'range_vol_diff5', 'SPY_diff', 'threeD_stddev50', 'close_diff3', 'min_volume_vol_diff_pct', 'month', 'return_vol_240M', 'range_vol', 'rsi5', 'roc', 'SPY_3D', 'roc5', 'roc_diff', 'price_25DDiff', 'daily_volume_vol_diff_pct', 'price_10DDiff', 'SPY_1D', 'hour_volume_vol_diff', 'hour_volume_vol_diff_pct', 'return_vol_10D', 'SPY_5D']\"}, 'target': '0.021+one_max', 'feature_importances': \"[{'oneD_stddev50': 0.05696758}, {'rsi': 0.034607563}, {'close_diff': 0.031922203}, {'daily_volume_vol_diff_pct30': 0.030454563}, {'range_vol_diff5': 0.033046793}, {'SPY_diff': 0.03011807}, {'threeD_stddev50': 0.038457703}, {'close_diff3': 0.03361214}, {'min_volume_vol_diff_pct': 0.026169892}, {'month': 0.03902298}, {'return_vol_240M': 0.13708654}, {'range_vol': 0.056286916}, {'rsi5': 0.034223516}, {'roc': 0.034417115}, {'SPY_3D': 0.036800012}, {'roc5': 0.035464052}, {'roc_diff': 0.03445471}, {'price_25DDiff': 0.03684951}, {'daily_volume_vol_diff_pct': 0.029606566}, {'price_10DDiff': 0.03511234}, {'SPY_1D': 0.038300097}, {'hour_volume_vol_diff': 0.03178856}, {'hour_volume_vol_diff_pct': 0.029641295}, {'return_vol_10D': 0.0371249}, {'SPY_5D': 0.038464367}]\"}\n",
      "{'deployment_date': datetime.datetime(2023, 8, 28, 0, 0), 'dataset_end': datetime.datetime(2023, 8, 18, 0, 0), 'dataset_start': datetime.datetime(2018, 1, 1, 0, 0)}\n",
      "0.021\n",
      "0.4804062032590727\n"
     ]
    },
    {
     "name": "stderr",
     "output_type": "stream",
     "text": [
      "/var/folders/tq/_9q_lv1s2bndbr3tzzn08x4r0000gn/T/ipykernel_13040/3239437027.py:2: SettingWithCopyWarning: \n",
      "A value is trying to be set on a copy of a slice from a DataFrame.\n",
      "Try using .loc[row_indexer,col_indexer] = value instead\n",
      "\n",
      "See the caveats in the documentation: https://pandas.pydata.org/pandas-docs/stable/user_guide/indexing.html#returning-a-view-versus-a-copy\n",
      "  dataset.loc[:, 'label'] = (dataset[target_label] > target_value).astype(int)\n"
     ]
    },
    {
     "name": "stdout",
     "output_type": "stream",
     "text": [
      "label\n",
      "0    35021\n",
      "1    26005\n",
      "Name: count, dtype: int64\n",
      "33 33 264 120\n",
      "{'model_name': 'MA_1d:RM220_TSSIM1_TL15-EXP_custHypTP0.57', 'deployment_date': '2023-08-28', 'algorithm_type': 'xgboost', 'dataset': 'MA_1d:RM220_TSSIM1_TL15-EXP_custHypTP0.57', 'TP': 33, 'TPpct': Decimal('0'), 'FP': 33, 'FPpct': Decimal('0'), 'TN': 264, 'TNpct': Decimal('0'), 'FN': 120, 'FNpct': Decimal('0'), 'precision_ratio': Decimal('1.0'), 'evaluation_timeperiod': '2023-08-28_2023-09-01', 'live': False, 'hyperparameters': {\"{'subsample': 0.6, 'num_round': 1000, 'min_child_weight': 10, 'max_depth': 10, 'learning_rate': 0.1, 'gamma': 2, 'colsample_bytree': 1}\"}, 'features': {\"['oneD_stddev50', 'rsi', 'close_diff', 'daily_volume_vol_diff_pct30', 'range_vol_diff5', 'SPY_diff', 'threeD_stddev50', 'close_diff3', 'min_volume_vol_diff_pct', 'month', 'return_vol_240M', 'range_vol', 'rsi5', 'roc', 'SPY_3D', 'roc5', 'roc_diff', 'price_25DDiff', 'daily_volume_vol_diff_pct', 'price_10DDiff', 'SPY_1D', 'hour_volume_vol_diff', 'hour_volume_vol_diff_pct', 'return_vol_10D', 'SPY_5D']\"}, 'target': '0.021+one_max', 'feature_importances': \"[{'oneD_stddev50': 0.050658546}, {'rsi': 0.03319773}, {'close_diff': 0.03250364}, {'daily_volume_vol_diff_pct30': 0.030357702}, {'range_vol_diff5': 0.032782767}, {'SPY_diff': 0.029870499}, {'threeD_stddev50': 0.037634697}, {'close_diff3': 0.033987127}, {'min_volume_vol_diff_pct': 0.025693182}, {'month': 0.039166845}, {'return_vol_240M': 0.14251779}, {'range_vol': 0.055670004}, {'rsi5': 0.034293104}, {'roc': 0.035313766}, {'SPY_3D': 0.037122555}, {'roc5': 0.035578344}, {'roc_diff': 0.034017738}, {'price_25DDiff': 0.03748373}, {'daily_volume_vol_diff_pct': 0.029903041}, {'price_10DDiff': 0.034295842}, {'SPY_1D': 0.03744884}, {'hour_volume_vol_diff': 0.032448374}, {'hour_volume_vol_diff_pct': 0.031116638}, {'return_vol_10D': 0.03968835}, {'SPY_5D': 0.037249193}]\"}\n",
      "{'deployment_date': datetime.datetime(2023, 9, 4, 0, 0), 'dataset_end': datetime.datetime(2023, 8, 25, 0, 0), 'dataset_start': datetime.datetime(2018, 1, 1, 0, 0)}\n",
      "0.019\n",
      "0.3827110134923125\n"
     ]
    },
    {
     "name": "stderr",
     "output_type": "stream",
     "text": [
      "/var/folders/tq/_9q_lv1s2bndbr3tzzn08x4r0000gn/T/ipykernel_13040/3239437027.py:2: SettingWithCopyWarning: \n",
      "A value is trying to be set on a copy of a slice from a DataFrame.\n",
      "Try using .loc[row_indexer,col_indexer] = value instead\n",
      "\n",
      "See the caveats in the documentation: https://pandas.pydata.org/pandas-docs/stable/user_guide/indexing.html#returning-a-view-versus-a-copy\n",
      "  dataset.loc[:, 'label'] = (dataset[target_label] > target_value).astype(int)\n"
     ]
    },
    {
     "name": "stdout",
     "output_type": "stream",
     "text": [
      "label\n",
      "0    27706\n",
      "1    21082\n",
      "Name: count, dtype: int64\n",
      "38 34 187 95\n",
      "{'model_name': 'MA_1d:RM220_TSSIM1_TL15-EXP_custHypTP0.57', 'deployment_date': '2023-09-04', 'algorithm_type': 'xgboost', 'dataset': 'MA_1d:RM220_TSSIM1_TL15-EXP_custHypTP0.57', 'TP': 38, 'TPpct': Decimal('0'), 'FP': 34, 'FPpct': Decimal('0'), 'TN': 187, 'TNpct': Decimal('0'), 'FN': 95, 'FNpct': Decimal('0'), 'precision_ratio': Decimal('1.1176470588235294'), 'evaluation_timeperiod': '2023-09-04_2023-09-08', 'live': False, 'hyperparameters': {\"{'subsample': 0.6, 'num_round': 1000, 'min_child_weight': 10, 'max_depth': 10, 'learning_rate': 0.1, 'gamma': 2, 'colsample_bytree': 1}\"}, 'features': {\"['oneD_stddev50', 'rsi', 'close_diff', 'daily_volume_vol_diff_pct30', 'range_vol_diff5', 'SPY_diff', 'threeD_stddev50', 'close_diff3', 'min_volume_vol_diff_pct', 'month', 'return_vol_240M', 'range_vol', 'rsi5', 'roc', 'SPY_3D', 'roc5', 'roc_diff', 'price_25DDiff', 'daily_volume_vol_diff_pct', 'price_10DDiff', 'SPY_1D', 'hour_volume_vol_diff', 'hour_volume_vol_diff_pct', 'return_vol_10D', 'SPY_5D']\"}, 'target': '0.019+one_max', 'feature_importances': \"[{'oneD_stddev50': 0.061989915}, {'rsi': 0.035029534}, {'close_diff': 0.032742925}, {'daily_volume_vol_diff_pct30': 0.030921623}, {'range_vol_diff5': 0.032420557}, {'SPY_diff': 0.030857107}, {'threeD_stddev50': 0.04030479}, {'close_diff3': 0.034867704}, {'min_volume_vol_diff_pct': 0.028001262}, {'month': 0.041149113}, {'return_vol_240M': 0.12019703}, {'range_vol': 0.048918996}, {'rsi5': 0.036176264}, {'roc': 0.03573208}, {'SPY_3D': 0.037877444}, {'roc5': 0.034634084}, {'roc_diff': 0.03717593}, {'price_25DDiff': 0.03702444}, {'daily_volume_vol_diff_pct': 0.030223262}, {'price_10DDiff': 0.033992037}, {'SPY_1D': 0.037440214}, {'hour_volume_vol_diff': 0.032575093}, {'hour_volume_vol_diff_pct': 0.03147037}, {'return_vol_10D': 0.04080011}, {'SPY_5D': 0.037478115}]\"}\n",
      "{'deployment_date': datetime.datetime(2023, 9, 11, 0, 0), 'dataset_end': datetime.datetime(2023, 9, 1, 0, 0), 'dataset_start': datetime.datetime(2018, 1, 1, 0, 0)}\n",
      "0.019\n",
      "0.38134917533025875\n"
     ]
    },
    {
     "name": "stderr",
     "output_type": "stream",
     "text": [
      "/var/folders/tq/_9q_lv1s2bndbr3tzzn08x4r0000gn/T/ipykernel_13040/3239437027.py:2: SettingWithCopyWarning: \n",
      "A value is trying to be set on a copy of a slice from a DataFrame.\n",
      "Try using .loc[row_indexer,col_indexer] = value instead\n",
      "\n",
      "See the caveats in the documentation: https://pandas.pydata.org/pandas-docs/stable/user_guide/indexing.html#returning-a-view-versus-a-copy\n",
      "  dataset.loc[:, 'label'] = (dataset[target_label] > target_value).astype(int)\n"
     ]
    },
    {
     "name": "stdout",
     "output_type": "stream",
     "text": [
      "label\n",
      "0    27809\n",
      "1    20977\n",
      "Name: count, dtype: int64\n",
      "37 44 263 106\n",
      "{'model_name': 'MA_1d:RM220_TSSIM1_TL15-EXP_custHypTP0.57', 'deployment_date': '2023-09-11', 'algorithm_type': 'xgboost', 'dataset': 'MA_1d:RM220_TSSIM1_TL15-EXP_custHypTP0.57', 'TP': 37, 'TPpct': Decimal('0'), 'FP': 44, 'FPpct': Decimal('0'), 'TN': 263, 'TNpct': Decimal('0'), 'FN': 106, 'FNpct': Decimal('0'), 'precision_ratio': Decimal('0.8409090909090909'), 'evaluation_timeperiod': '2023-09-11_2023-09-15', 'live': False, 'hyperparameters': {\"{'subsample': 0.6, 'num_round': 1000, 'min_child_weight': 10, 'max_depth': 10, 'learning_rate': 0.1, 'gamma': 2, 'colsample_bytree': 1}\"}, 'features': {\"['oneD_stddev50', 'rsi', 'close_diff', 'daily_volume_vol_diff_pct30', 'range_vol_diff5', 'SPY_diff', 'threeD_stddev50', 'close_diff3', 'min_volume_vol_diff_pct', 'month', 'return_vol_240M', 'range_vol', 'rsi5', 'roc', 'SPY_3D', 'roc5', 'roc_diff', 'price_25DDiff', 'daily_volume_vol_diff_pct', 'price_10DDiff', 'SPY_1D', 'hour_volume_vol_diff', 'hour_volume_vol_diff_pct', 'return_vol_10D', 'SPY_5D']\"}, 'target': '0.019+one_max', 'feature_importances': \"[{'oneD_stddev50': 0.04273707}, {'rsi': 0.035986986}, {'close_diff': 0.032941815}, {'daily_volume_vol_diff_pct30': 0.03229847}, {'range_vol_diff5': 0.033270802}, {'SPY_diff': 0.029854232}, {'threeD_stddev50': 0.060527045}, {'close_diff3': 0.03556958}, {'min_volume_vol_diff_pct': 0.026159883}, {'month': 0.039010428}, {'return_vol_240M': 0.11173519}, {'range_vol': 0.053575613}, {'rsi5': 0.03526228}, {'roc': 0.036566745}, {'SPY_3D': 0.03779955}, {'roc5': 0.035551514}, {'roc_diff': 0.037726857}, {'price_25DDiff': 0.037993595}, {'daily_volume_vol_diff_pct': 0.029857023}, {'price_10DDiff': 0.034187786}, {'SPY_1D': 0.034929395}, {'hour_volume_vol_diff': 0.03341167}, {'hour_volume_vol_diff_pct': 0.030443633}, {'return_vol_10D': 0.04388098}, {'SPY_5D': 0.038721897}]\"}\n",
      "{'deployment_date': datetime.datetime(2023, 9, 18, 0, 0), 'dataset_end': datetime.datetime(2023, 9, 8, 0, 0), 'dataset_start': datetime.datetime(2018, 1, 1, 0, 0)}\n",
      "0.019\n",
      "0.3810140001870849\n"
     ]
    },
    {
     "name": "stderr",
     "output_type": "stream",
     "text": [
      "/var/folders/tq/_9q_lv1s2bndbr3tzzn08x4r0000gn/T/ipykernel_13040/3239437027.py:2: SettingWithCopyWarning: \n",
      "A value is trying to be set on a copy of a slice from a DataFrame.\n",
      "Try using .loc[row_indexer,col_indexer] = value instead\n",
      "\n",
      "See the caveats in the documentation: https://pandas.pydata.org/pandas-docs/stable/user_guide/indexing.html#returning-a-view-versus-a-copy\n",
      "  dataset.loc[:, 'label'] = (dataset[target_label] > target_value).astype(int)\n"
     ]
    },
    {
     "name": "stdout",
     "output_type": "stream",
     "text": [
      "label\n",
      "0    27891\n",
      "1    20987\n",
      "Name: count, dtype: int64\n",
      "27 71 315 37\n",
      "{'model_name': 'MA_1d:RM220_TSSIM1_TL15-EXP_custHypTP0.57', 'deployment_date': '2023-09-18', 'algorithm_type': 'xgboost', 'dataset': 'MA_1d:RM220_TSSIM1_TL15-EXP_custHypTP0.57', 'TP': 27, 'TPpct': Decimal('0'), 'FP': 71, 'FPpct': Decimal('0'), 'TN': 315, 'TNpct': Decimal('0'), 'FN': 37, 'FNpct': Decimal('0'), 'precision_ratio': Decimal('0.38028169014084506'), 'evaluation_timeperiod': '2023-09-18_2023-09-22', 'live': False, 'hyperparameters': {\"{'subsample': 0.6, 'num_round': 1000, 'min_child_weight': 10, 'max_depth': 10, 'learning_rate': 0.1, 'gamma': 2, 'colsample_bytree': 1}\"}, 'features': {\"['oneD_stddev50', 'rsi', 'close_diff', 'daily_volume_vol_diff_pct30', 'range_vol_diff5', 'SPY_diff', 'threeD_stddev50', 'close_diff3', 'min_volume_vol_diff_pct', 'month', 'return_vol_240M', 'range_vol', 'rsi5', 'roc', 'SPY_3D', 'roc5', 'roc_diff', 'price_25DDiff', 'daily_volume_vol_diff_pct', 'price_10DDiff', 'SPY_1D', 'hour_volume_vol_diff', 'hour_volume_vol_diff_pct', 'return_vol_10D', 'SPY_5D']\"}, 'target': '0.019+one_max', 'feature_importances': \"[{'oneD_stddev50': 0.06917395}, {'rsi': 0.03493899}, {'close_diff': 0.031539753}, {'daily_volume_vol_diff_pct30': 0.03131895}, {'range_vol_diff5': 0.033420425}, {'SPY_diff': 0.029945495}, {'threeD_stddev50': 0.040457666}, {'close_diff3': 0.033034932}, {'min_volume_vol_diff_pct': 0.027435688}, {'month': 0.039164238}, {'return_vol_240M': 0.10466155}, {'range_vol': 0.05318768}, {'rsi5': 0.036939207}, {'roc': 0.035063434}, {'SPY_3D': 0.03733985}, {'roc5': 0.035489794}, {'roc_diff': 0.037007328}, {'price_25DDiff': 0.03793757}, {'daily_volume_vol_diff_pct': 0.0304123}, {'price_10DDiff': 0.035419125}, {'SPY_1D': 0.036213044}, {'hour_volume_vol_diff': 0.033148844}, {'hour_volume_vol_diff_pct': 0.030080443}, {'return_vol_10D': 0.04913629}, {'SPY_5D': 0.037533425}]\"}\n",
      "{'deployment_date': datetime.datetime(2023, 9, 25, 0, 0), 'dataset_end': datetime.datetime(2023, 9, 15, 0, 0), 'dataset_start': datetime.datetime(2018, 1, 1, 0, 0)}\n",
      "0.019\n",
      "0.37899855516025294\n"
     ]
    },
    {
     "name": "stderr",
     "output_type": "stream",
     "text": [
      "/var/folders/tq/_9q_lv1s2bndbr3tzzn08x4r0000gn/T/ipykernel_13040/3239437027.py:2: SettingWithCopyWarning: \n",
      "A value is trying to be set on a copy of a slice from a DataFrame.\n",
      "Try using .loc[row_indexer,col_indexer] = value instead\n",
      "\n",
      "See the caveats in the documentation: https://pandas.pydata.org/pandas-docs/stable/user_guide/indexing.html#returning-a-view-versus-a-copy\n",
      "  dataset.loc[:, 'label'] = (dataset[target_label] > target_value).astype(int)\n"
     ]
    },
    {
     "name": "stdout",
     "output_type": "stream",
     "text": [
      "label\n",
      "0    27973\n",
      "1    20817\n",
      "Name: count, dtype: int64\n",
      "72 32 189 157\n",
      "{'model_name': 'MA_1d:RM220_TSSIM1_TL15-EXP_custHypTP0.57', 'deployment_date': '2023-09-25', 'algorithm_type': 'xgboost', 'dataset': 'MA_1d:RM220_TSSIM1_TL15-EXP_custHypTP0.57', 'TP': 72, 'TPpct': Decimal('0'), 'FP': 32, 'FPpct': Decimal('0'), 'TN': 189, 'TNpct': Decimal('0'), 'FN': 157, 'FNpct': Decimal('0'), 'precision_ratio': Decimal('2.25'), 'evaluation_timeperiod': '2023-09-25_2023-09-29', 'live': False, 'hyperparameters': {\"{'subsample': 0.6, 'num_round': 1000, 'min_child_weight': 10, 'max_depth': 10, 'learning_rate': 0.1, 'gamma': 2, 'colsample_bytree': 1}\"}, 'features': {\"['oneD_stddev50', 'rsi', 'close_diff', 'daily_volume_vol_diff_pct30', 'range_vol_diff5', 'SPY_diff', 'threeD_stddev50', 'close_diff3', 'min_volume_vol_diff_pct', 'month', 'return_vol_240M', 'range_vol', 'rsi5', 'roc', 'SPY_3D', 'roc5', 'roc_diff', 'price_25DDiff', 'daily_volume_vol_diff_pct', 'price_10DDiff', 'SPY_1D', 'hour_volume_vol_diff', 'hour_volume_vol_diff_pct', 'return_vol_10D', 'SPY_5D']\"}, 'target': '0.019+one_max', 'feature_importances': \"[{'oneD_stddev50': 0.049429223}, {'rsi': 0.036587413}, {'close_diff': 0.03268762}, {'daily_volume_vol_diff_pct30': 0.031174676}, {'range_vol_diff5': 0.033344693}, {'SPY_diff': 0.0316785}, {'threeD_stddev50': 0.069198854}, {'close_diff3': 0.034268346}, {'min_volume_vol_diff_pct': 0.027677462}, {'month': 0.041119844}, {'return_vol_240M': 0.069130816}, {'range_vol': 0.061226312}, {'rsi5': 0.036167663}, {'roc': 0.034774277}, {'SPY_3D': 0.038239677}, {'roc5': 0.034872606}, {'roc_diff': 0.03850299}, {'price_25DDiff': 0.03748387}, {'daily_volume_vol_diff_pct': 0.030603424}, {'price_10DDiff': 0.034732986}, {'SPY_1D': 0.03651978}, {'hour_volume_vol_diff': 0.033359442}, {'hour_volume_vol_diff_pct': 0.032811847}, {'return_vol_10D': 0.056295156}, {'SPY_5D': 0.038112566}]\"}\n",
      "{'deployment_date': datetime.datetime(2023, 10, 2, 0, 0), 'dataset_end': datetime.datetime(2023, 9, 22, 0, 0), 'dataset_start': datetime.datetime(2018, 1, 1, 0, 0)}\n",
      "0.019\n",
      "0.5617955783998019\n"
     ]
    },
    {
     "name": "stderr",
     "output_type": "stream",
     "text": [
      "/var/folders/tq/_9q_lv1s2bndbr3tzzn08x4r0000gn/T/ipykernel_13040/3239437027.py:2: SettingWithCopyWarning: \n",
      "A value is trying to be set on a copy of a slice from a DataFrame.\n",
      "Try using .loc[row_indexer,col_indexer] = value instead\n",
      "\n",
      "See the caveats in the documentation: https://pandas.pydata.org/pandas-docs/stable/user_guide/indexing.html#returning-a-view-versus-a-copy\n",
      "  dataset.loc[:, 'label'] = (dataset[target_label] > target_value).astype(int)\n"
     ]
    },
    {
     "name": "stdout",
     "output_type": "stream",
     "text": [
      "label\n",
      "0    41663\n",
      "1    30912\n",
      "Name: count, dtype: int64\n",
      "86 65 173 125\n",
      "{'model_name': 'MA_1d:RM220_TSSIM1_TL15-EXP_custHypTP0.57', 'deployment_date': '2023-10-02', 'algorithm_type': 'xgboost', 'dataset': 'MA_1d:RM220_TSSIM1_TL15-EXP_custHypTP0.57', 'TP': 86, 'TPpct': Decimal('0'), 'FP': 65, 'FPpct': Decimal('0'), 'TN': 173, 'TNpct': Decimal('0'), 'FN': 125, 'FNpct': Decimal('0'), 'precision_ratio': Decimal('1.323076923076923'), 'evaluation_timeperiod': '2023-10-02_2023-10-06', 'live': False, 'hyperparameters': {\"{'subsample': 0.6, 'num_round': 1000, 'min_child_weight': 10, 'max_depth': 10, 'learning_rate': 0.1, 'gamma': 2, 'colsample_bytree': 1}\"}, 'features': {\"['oneD_stddev50', 'rsi', 'close_diff', 'daily_volume_vol_diff_pct30', 'range_vol_diff5', 'SPY_diff', 'threeD_stddev50', 'close_diff3', 'min_volume_vol_diff_pct', 'month', 'return_vol_240M', 'range_vol', 'rsi5', 'roc', 'SPY_3D', 'roc5', 'roc_diff', 'price_25DDiff', 'daily_volume_vol_diff_pct', 'price_10DDiff', 'SPY_1D', 'hour_volume_vol_diff', 'hour_volume_vol_diff_pct', 'return_vol_10D', 'SPY_5D']\"}, 'target': '0.019+one_max', 'feature_importances': \"[{'oneD_stddev50': 0.05208434}, {'rsi': 0.033019796}, {'close_diff': 0.03112223}, {'daily_volume_vol_diff_pct30': 0.029081248}, {'range_vol_diff5': 0.032280352}, {'SPY_diff': 0.027787441}, {'threeD_stddev50': 0.033313725}, {'close_diff3': 0.032111835}, {'min_volume_vol_diff_pct': 0.024385445}, {'month': 0.038562242}, {'return_vol_240M': 0.18810207}, {'range_vol': 0.046898805}, {'rsi5': 0.03249687}, {'roc': 0.034151427}, {'SPY_3D': 0.033984028}, {'roc5': 0.034502417}, {'roc_diff': 0.03418988}, {'price_25DDiff': 0.03513299}, {'daily_volume_vol_diff_pct': 0.029970713}, {'price_10DDiff': 0.03357933}, {'SPY_1D': 0.033928573}, {'hour_volume_vol_diff': 0.028078523}, {'hour_volume_vol_diff_pct': 0.029408297}, {'return_vol_10D': 0.037016474}, {'SPY_5D': 0.03481092}]\"}\n",
      "{'deployment_date': datetime.datetime(2023, 10, 9, 0, 0), 'dataset_end': datetime.datetime(2023, 9, 29, 0, 0), 'dataset_start': datetime.datetime(2018, 1, 1, 0, 0)}\n",
      "0.019\n",
      "0.38607155530184983\n"
     ]
    },
    {
     "name": "stderr",
     "output_type": "stream",
     "text": [
      "/var/folders/tq/_9q_lv1s2bndbr3tzzn08x4r0000gn/T/ipykernel_13040/3239437027.py:2: SettingWithCopyWarning: \n",
      "A value is trying to be set on a copy of a slice from a DataFrame.\n",
      "Try using .loc[row_indexer,col_indexer] = value instead\n",
      "\n",
      "See the caveats in the documentation: https://pandas.pydata.org/pandas-docs/stable/user_guide/indexing.html#returning-a-view-versus-a-copy\n",
      "  dataset.loc[:, 'label'] = (dataset[target_label] > target_value).astype(int)\n"
     ]
    },
    {
     "name": "stdout",
     "output_type": "stream",
     "text": [
      "label\n",
      "0    28597\n",
      "1    21451\n",
      "Name: count, dtype: int64\n",
      "43 43 231 133\n",
      "{'model_name': 'MA_1d:RM220_TSSIM1_TL15-EXP_custHypTP0.57', 'deployment_date': '2023-10-09', 'algorithm_type': 'xgboost', 'dataset': 'MA_1d:RM220_TSSIM1_TL15-EXP_custHypTP0.57', 'TP': 43, 'TPpct': Decimal('0'), 'FP': 43, 'FPpct': Decimal('0'), 'TN': 231, 'TNpct': Decimal('0'), 'FN': 133, 'FNpct': Decimal('0'), 'precision_ratio': Decimal('1.0'), 'evaluation_timeperiod': '2023-10-09_2023-10-13', 'live': False, 'hyperparameters': {\"{'subsample': 0.6, 'num_round': 1000, 'min_child_weight': 10, 'max_depth': 10, 'learning_rate': 0.1, 'gamma': 2, 'colsample_bytree': 1}\"}, 'features': {\"['oneD_stddev50', 'rsi', 'close_diff', 'daily_volume_vol_diff_pct30', 'range_vol_diff5', 'SPY_diff', 'threeD_stddev50', 'close_diff3', 'min_volume_vol_diff_pct', 'month', 'return_vol_240M', 'range_vol', 'rsi5', 'roc', 'SPY_3D', 'roc5', 'roc_diff', 'price_25DDiff', 'daily_volume_vol_diff_pct', 'price_10DDiff', 'SPY_1D', 'hour_volume_vol_diff', 'hour_volume_vol_diff_pct', 'return_vol_10D', 'SPY_5D']\"}, 'target': '0.019+one_max', 'feature_importances': \"[{'oneD_stddev50': 0.04835953}, {'rsi': 0.034044724}, {'close_diff': 0.031928726}, {'daily_volume_vol_diff_pct30': 0.030488538}, {'range_vol_diff5': 0.03351714}, {'SPY_diff': 0.030360833}, {'threeD_stddev50': 0.046483893}, {'close_diff3': 0.034725532}, {'min_volume_vol_diff_pct': 0.027093777}, {'month': 0.04082604}, {'return_vol_240M': 0.11724444}, {'range_vol': 0.050665956}, {'rsi5': 0.035985988}, {'roc': 0.035238832}, {'SPY_3D': 0.036624867}, {'roc5': 0.035427995}, {'roc_diff': 0.036805864}, {'price_25DDiff': 0.03905761}, {'daily_volume_vol_diff_pct': 0.030976282}, {'price_10DDiff': 0.03576383}, {'SPY_1D': 0.035263076}, {'hour_volume_vol_diff': 0.03300635}, {'hour_volume_vol_diff_pct': 0.031477332}, {'return_vol_10D': 0.050947998}, {'SPY_5D': 0.037684917}]\"}\n",
      "{'deployment_date': datetime.datetime(2023, 10, 16, 0, 0), 'dataset_end': datetime.datetime(2023, 10, 6, 0, 0), 'dataset_start': datetime.datetime(2018, 1, 1, 0, 0)}\n",
      "0.019\n",
      "0.5537541415865255\n"
     ]
    },
    {
     "name": "stderr",
     "output_type": "stream",
     "text": [
      "/var/folders/tq/_9q_lv1s2bndbr3tzzn08x4r0000gn/T/ipykernel_13040/3239437027.py:2: SettingWithCopyWarning: \n",
      "A value is trying to be set on a copy of a slice from a DataFrame.\n",
      "Try using .loc[row_indexer,col_indexer] = value instead\n",
      "\n",
      "See the caveats in the documentation: https://pandas.pydata.org/pandas-docs/stable/user_guide/indexing.html#returning-a-view-versus-a-copy\n",
      "  dataset.loc[:, 'label'] = (dataset[target_label] > target_value).astype(int)\n"
     ]
    },
    {
     "name": "stdout",
     "output_type": "stream",
     "text": [
      "label\n",
      "0    41465\n",
      "1    30569\n",
      "Name: count, dtype: int64\n",
      "70 150 181 43\n",
      "{'model_name': 'MA_1d:RM220_TSSIM1_TL15-EXP_custHypTP0.57', 'deployment_date': '2023-10-16', 'algorithm_type': 'xgboost', 'dataset': 'MA_1d:RM220_TSSIM1_TL15-EXP_custHypTP0.57', 'TP': 70, 'TPpct': Decimal('0'), 'FP': 150, 'FPpct': Decimal('0'), 'TN': 181, 'TNpct': Decimal('0'), 'FN': 43, 'FNpct': Decimal('0'), 'precision_ratio': Decimal('0.4666666666666667'), 'evaluation_timeperiod': '2023-10-16_2023-10-20', 'live': False, 'hyperparameters': {\"{'subsample': 0.6, 'num_round': 1000, 'min_child_weight': 10, 'max_depth': 10, 'learning_rate': 0.1, 'gamma': 2, 'colsample_bytree': 1}\"}, 'features': {\"['oneD_stddev50', 'rsi', 'close_diff', 'daily_volume_vol_diff_pct30', 'range_vol_diff5', 'SPY_diff', 'threeD_stddev50', 'close_diff3', 'min_volume_vol_diff_pct', 'month', 'return_vol_240M', 'range_vol', 'rsi5', 'roc', 'SPY_3D', 'roc5', 'roc_diff', 'price_25DDiff', 'daily_volume_vol_diff_pct', 'price_10DDiff', 'SPY_1D', 'hour_volume_vol_diff', 'hour_volume_vol_diff_pct', 'return_vol_10D', 'SPY_5D']\"}, 'target': '0.019+one_max', 'feature_importances': \"[{'oneD_stddev50': 0.048335113}, {'rsi': 0.03411298}, {'close_diff': 0.03117201}, {'daily_volume_vol_diff_pct30': 0.029195296}, {'range_vol_diff5': 0.032099083}, {'SPY_diff': 0.028258806}, {'threeD_stddev50': 0.032649245}, {'close_diff3': 0.033077225}, {'min_volume_vol_diff_pct': 0.024811871}, {'month': 0.03773857}, {'return_vol_240M': 0.17866935}, {'range_vol': 0.046115126}, {'rsi5': 0.031707544}, {'roc': 0.033940516}, {'SPY_3D': 0.034900025}, {'roc5': 0.03265096}, {'roc_diff': 0.03356688}, {'price_25DDiff': 0.035548188}, {'daily_volume_vol_diff_pct': 0.030404894}, {'price_10DDiff': 0.032982282}, {'SPY_1D': 0.033783834}, {'hour_volume_vol_diff': 0.029281586}, {'hour_volume_vol_diff_pct': 0.030503623}, {'return_vol_10D': 0.04957833}, {'SPY_5D': 0.034916606}]\"}\n",
      "{'deployment_date': datetime.datetime(2023, 10, 23, 0, 0), 'dataset_end': datetime.datetime(2023, 10, 13, 0, 0), 'dataset_start': datetime.datetime(2018, 1, 1, 0, 0)}\n",
      "0.019\n",
      "0.39511847578773185\n"
     ]
    },
    {
     "name": "stderr",
     "output_type": "stream",
     "text": [
      "/var/folders/tq/_9q_lv1s2bndbr3tzzn08x4r0000gn/T/ipykernel_13040/3239437027.py:2: SettingWithCopyWarning: \n",
      "A value is trying to be set on a copy of a slice from a DataFrame.\n",
      "Try using .loc[row_indexer,col_indexer] = value instead\n",
      "\n",
      "See the caveats in the documentation: https://pandas.pydata.org/pandas-docs/stable/user_guide/indexing.html#returning-a-view-versus-a-copy\n",
      "  dataset.loc[:, 'label'] = (dataset[target_label] > target_value).astype(int)\n"
     ]
    },
    {
     "name": "stdout",
     "output_type": "stream",
     "text": [
      "label\n",
      "0    29389\n",
      "1    22187\n",
      "Name: count, dtype: int64\n",
      "76 81 198 95\n",
      "{'model_name': 'MA_1d:RM220_TSSIM1_TL15-EXP_custHypTP0.57', 'deployment_date': '2023-10-23', 'algorithm_type': 'xgboost', 'dataset': 'MA_1d:RM220_TSSIM1_TL15-EXP_custHypTP0.57', 'TP': 76, 'TPpct': Decimal('0'), 'FP': 81, 'FPpct': Decimal('0'), 'TN': 198, 'TNpct': Decimal('0'), 'FN': 95, 'FNpct': Decimal('0'), 'precision_ratio': Decimal('0.9382716049382716'), 'evaluation_timeperiod': '2023-10-23_2023-10-27', 'live': False, 'hyperparameters': {\"{'subsample': 0.6, 'num_round': 1000, 'min_child_weight': 10, 'max_depth': 10, 'learning_rate': 0.1, 'gamma': 2, 'colsample_bytree': 1}\"}, 'features': {\"['oneD_stddev50', 'rsi', 'close_diff', 'daily_volume_vol_diff_pct30', 'range_vol_diff5', 'SPY_diff', 'threeD_stddev50', 'close_diff3', 'min_volume_vol_diff_pct', 'month', 'return_vol_240M', 'range_vol', 'rsi5', 'roc', 'SPY_3D', 'roc5', 'roc_diff', 'price_25DDiff', 'daily_volume_vol_diff_pct', 'price_10DDiff', 'SPY_1D', 'hour_volume_vol_diff', 'hour_volume_vol_diff_pct', 'return_vol_10D', 'SPY_5D']\"}, 'target': '0.019+one_max', 'feature_importances': \"[{'oneD_stddev50': 0.050350614}, {'rsi': 0.03667238}, {'close_diff': 0.031489808}, {'daily_volume_vol_diff_pct30': 0.030988092}, {'range_vol_diff5': 0.03307041}, {'SPY_diff': 0.03018667}, {'threeD_stddev50': 0.043262415}, {'close_diff3': 0.034040462}, {'min_volume_vol_diff_pct': 0.027757082}, {'month': 0.04046051}, {'return_vol_240M': 0.1324234}, {'range_vol': 0.046804976}, {'rsi5': 0.03422279}, {'roc': 0.034804124}, {'SPY_3D': 0.03709464}, {'roc5': 0.034641765}, {'roc_diff': 0.03608737}, {'price_25DDiff': 0.03768089}, {'daily_volume_vol_diff_pct': 0.030437404}, {'price_10DDiff': 0.035921168}, {'SPY_1D': 0.03513325}, {'hour_volume_vol_diff': 0.03225842}, {'hour_volume_vol_diff_pct': 0.030271906}, {'return_vol_10D': 0.04688773}, {'SPY_5D': 0.03705171}]\"}\n",
      "{'deployment_date': datetime.datetime(2023, 10, 30, 0, 0), 'dataset_end': datetime.datetime(2023, 10, 20, 0, 0), 'dataset_start': datetime.datetime(2018, 1, 1, 0, 0)}\n",
      "0.019\n",
      "0.407430312192217\n"
     ]
    },
    {
     "name": "stderr",
     "output_type": "stream",
     "text": [
      "/var/folders/tq/_9q_lv1s2bndbr3tzzn08x4r0000gn/T/ipykernel_13040/3239437027.py:2: SettingWithCopyWarning: \n",
      "A value is trying to be set on a copy of a slice from a DataFrame.\n",
      "Try using .loc[row_indexer,col_indexer] = value instead\n",
      "\n",
      "See the caveats in the documentation: https://pandas.pydata.org/pandas-docs/stable/user_guide/indexing.html#returning-a-view-versus-a-copy\n",
      "  dataset.loc[:, 'label'] = (dataset[target_label] > target_value).astype(int)\n"
     ]
    },
    {
     "name": "stdout",
     "output_type": "stream",
     "text": [
      "label\n",
      "0    30406\n",
      "1    22958\n",
      "Name: count, dtype: int64\n",
      "143 38 93 176\n",
      "{'model_name': 'MA_1d:RM220_TSSIM1_TL15-EXP_custHypTP0.57', 'deployment_date': '2023-10-30', 'algorithm_type': 'xgboost', 'dataset': 'MA_1d:RM220_TSSIM1_TL15-EXP_custHypTP0.57', 'TP': 143, 'TPpct': Decimal('0'), 'FP': 38, 'FPpct': Decimal('0'), 'TN': 93, 'TNpct': Decimal('0'), 'FN': 176, 'FNpct': Decimal('0'), 'precision_ratio': Decimal('3.763157894736842'), 'evaluation_timeperiod': '2023-10-30_2023-11-03', 'live': False, 'hyperparameters': {\"{'subsample': 0.6, 'num_round': 1000, 'min_child_weight': 10, 'max_depth': 10, 'learning_rate': 0.1, 'gamma': 2, 'colsample_bytree': 1}\"}, 'features': {\"['oneD_stddev50', 'rsi', 'close_diff', 'daily_volume_vol_diff_pct30', 'range_vol_diff5', 'SPY_diff', 'threeD_stddev50', 'close_diff3', 'min_volume_vol_diff_pct', 'month', 'return_vol_240M', 'range_vol', 'rsi5', 'roc', 'SPY_3D', 'roc5', 'roc_diff', 'price_25DDiff', 'daily_volume_vol_diff_pct', 'price_10DDiff', 'SPY_1D', 'hour_volume_vol_diff', 'hour_volume_vol_diff_pct', 'return_vol_10D', 'SPY_5D']\"}, 'target': '0.019+one_max', 'feature_importances': \"[{'oneD_stddev50': 0.056412976}, {'rsi': 0.03439563}, {'close_diff': 0.032880638}, {'daily_volume_vol_diff_pct30': 0.03076113}, {'range_vol_diff5': 0.032034226}, {'SPY_diff': 0.030542769}, {'threeD_stddev50': 0.044269364}, {'close_diff3': 0.034780085}, {'min_volume_vol_diff_pct': 0.028006498}, {'month': 0.040533446}, {'return_vol_240M': 0.11775539}, {'range_vol': 0.046511747}, {'rsi5': 0.03614955}, {'roc': 0.035632562}, {'SPY_3D': 0.037720714}, {'roc5': 0.035667624}, {'roc_diff': 0.03584507}, {'price_25DDiff': 0.039950136}, {'daily_volume_vol_diff_pct': 0.028912017}, {'price_10DDiff': 0.035052847}, {'SPY_1D': 0.036517702}, {'hour_volume_vol_diff': 0.033165433}, {'hour_volume_vol_diff_pct': 0.030419875}, {'return_vol_10D': 0.04883472}, {'SPY_5D': 0.037247833}]\"}\n",
      "{'deployment_date': datetime.datetime(2023, 11, 6, 0, 0), 'dataset_end': datetime.datetime(2023, 10, 27, 0, 0), 'dataset_start': datetime.datetime(2018, 1, 1, 0, 0)}\n",
      "0.019\n",
      "0.40947446110768715\n"
     ]
    },
    {
     "name": "stderr",
     "output_type": "stream",
     "text": [
      "/var/folders/tq/_9q_lv1s2bndbr3tzzn08x4r0000gn/T/ipykernel_13040/3239437027.py:2: SettingWithCopyWarning: \n",
      "A value is trying to be set on a copy of a slice from a DataFrame.\n",
      "Try using .loc[row_indexer,col_indexer] = value instead\n",
      "\n",
      "See the caveats in the documentation: https://pandas.pydata.org/pandas-docs/stable/user_guide/indexing.html#returning-a-view-versus-a-copy\n",
      "  dataset.loc[:, 'label'] = (dataset[target_label] > target_value).astype(int)\n"
     ]
    },
    {
     "name": "stdout",
     "output_type": "stream",
     "text": [
      "label\n",
      "0    30495\n",
      "1    23321\n",
      "Name: count, dtype: int64\n",
      "78 50 176 146\n",
      "{'model_name': 'MA_1d:RM220_TSSIM1_TL15-EXP_custHypTP0.57', 'deployment_date': '2023-11-06', 'algorithm_type': 'xgboost', 'dataset': 'MA_1d:RM220_TSSIM1_TL15-EXP_custHypTP0.57', 'TP': 78, 'TPpct': Decimal('0'), 'FP': 50, 'FPpct': Decimal('0'), 'TN': 176, 'TNpct': Decimal('0'), 'FN': 146, 'FNpct': Decimal('0'), 'precision_ratio': Decimal('1.56'), 'evaluation_timeperiod': '2023-11-06_2023-11-10', 'live': False, 'hyperparameters': {\"{'subsample': 0.6, 'num_round': 1000, 'min_child_weight': 10, 'max_depth': 10, 'learning_rate': 0.1, 'gamma': 2, 'colsample_bytree': 1}\"}, 'features': {\"['oneD_stddev50', 'rsi', 'close_diff', 'daily_volume_vol_diff_pct30', 'range_vol_diff5', 'SPY_diff', 'threeD_stddev50', 'close_diff3', 'min_volume_vol_diff_pct', 'month', 'return_vol_240M', 'range_vol', 'rsi5', 'roc', 'SPY_3D', 'roc5', 'roc_diff', 'price_25DDiff', 'daily_volume_vol_diff_pct', 'price_10DDiff', 'SPY_1D', 'hour_volume_vol_diff', 'hour_volume_vol_diff_pct', 'return_vol_10D', 'SPY_5D']\"}, 'target': '0.019+one_max', 'feature_importances': \"[{'oneD_stddev50': 0.060106587}, {'rsi': 0.034786645}, {'close_diff': 0.033084385}, {'daily_volume_vol_diff_pct30': 0.030324694}, {'range_vol_diff5': 0.032212395}, {'SPY_diff': 0.03129614}, {'threeD_stddev50': 0.041896187}, {'close_diff3': 0.03359312}, {'min_volume_vol_diff_pct': 0.02633478}, {'month': 0.04158974}, {'return_vol_240M': 0.11283687}, {'range_vol': 0.050161716}, {'rsi5': 0.033690896}, {'roc': 0.03470726}, {'SPY_3D': 0.03674544}, {'roc5': 0.034840945}, {'roc_diff': 0.035695683}, {'price_25DDiff': 0.03877752}, {'daily_volume_vol_diff_pct': 0.029706733}, {'price_10DDiff': 0.035565525}, {'SPY_1D': 0.03728509}, {'hour_volume_vol_diff': 0.034634143}, {'hour_volume_vol_diff_pct': 0.030147215}, {'return_vol_10D': 0.052094273}, {'SPY_5D': 0.037886024}]\"}\n",
      "{'deployment_date': datetime.datetime(2023, 11, 13, 0, 0), 'dataset_end': datetime.datetime(2023, 11, 3, 0, 0), 'dataset_start': datetime.datetime(2018, 1, 1, 0, 0)}\n",
      "0.019\n",
      "0.5353473312253084\n"
     ]
    },
    {
     "name": "stderr",
     "output_type": "stream",
     "text": [
      "/var/folders/tq/_9q_lv1s2bndbr3tzzn08x4r0000gn/T/ipykernel_13040/3239437027.py:2: SettingWithCopyWarning: \n",
      "A value is trying to be set on a copy of a slice from a DataFrame.\n",
      "Try using .loc[row_indexer,col_indexer] = value instead\n",
      "\n",
      "See the caveats in the documentation: https://pandas.pydata.org/pandas-docs/stable/user_guide/indexing.html#returning-a-view-versus-a-copy\n",
      "  dataset.loc[:, 'label'] = (dataset[target_label] > target_value).astype(int)\n"
     ]
    },
    {
     "name": "stdout",
     "output_type": "stream",
     "text": [
      "label\n",
      "0    40801\n",
      "1    29799\n",
      "Name: count, dtype: int64\n",
      "74 44 178 154\n",
      "{'model_name': 'MA_1d:RM220_TSSIM1_TL15-EXP_custHypTP0.57', 'deployment_date': '2023-11-13', 'algorithm_type': 'xgboost', 'dataset': 'MA_1d:RM220_TSSIM1_TL15-EXP_custHypTP0.57', 'TP': 74, 'TPpct': Decimal('0'), 'FP': 44, 'FPpct': Decimal('0'), 'TN': 178, 'TNpct': Decimal('0'), 'FN': 154, 'FNpct': Decimal('0'), 'precision_ratio': Decimal('1.6818181818181819'), 'evaluation_timeperiod': '2023-11-13_2023-11-17', 'live': False, 'hyperparameters': {\"{'subsample': 0.6, 'num_round': 1000, 'min_child_weight': 10, 'max_depth': 10, 'learning_rate': 0.1, 'gamma': 2, 'colsample_bytree': 1}\"}, 'features': {\"['oneD_stddev50', 'rsi', 'close_diff', 'daily_volume_vol_diff_pct30', 'range_vol_diff5', 'SPY_diff', 'threeD_stddev50', 'close_diff3', 'min_volume_vol_diff_pct', 'month', 'return_vol_240M', 'range_vol', 'rsi5', 'roc', 'SPY_3D', 'roc5', 'roc_diff', 'price_25DDiff', 'daily_volume_vol_diff_pct', 'price_10DDiff', 'SPY_1D', 'hour_volume_vol_diff', 'hour_volume_vol_diff_pct', 'return_vol_10D', 'SPY_5D']\"}, 'target': '0.019+one_max', 'feature_importances': \"[{'oneD_stddev50': 0.047958888}, {'rsi': 0.034203716}, {'close_diff': 0.032085467}, {'daily_volume_vol_diff_pct30': 0.029459674}, {'range_vol_diff5': 0.03207795}, {'SPY_diff': 0.027598483}, {'threeD_stddev50': 0.0338707}, {'close_diff3': 0.032550838}, {'min_volume_vol_diff_pct': 0.026891684}, {'month': 0.038067486}, {'return_vol_240M': 0.16745797}, {'range_vol': 0.049017325}, {'rsi5': 0.03240478}, {'roc': 0.033877987}, {'SPY_3D': 0.033652242}, {'roc5': 0.03400879}, {'roc_diff': 0.034333926}, {'price_25DDiff': 0.035304848}, {'daily_volume_vol_diff_pct': 0.031190207}, {'price_10DDiff': 0.032549795}, {'SPY_1D': 0.035670113}, {'hour_volume_vol_diff': 0.028983561}, {'hour_volume_vol_diff_pct': 0.028722422}, {'return_vol_10D': 0.05373996}, {'SPY_5D': 0.03432122}]\"}\n",
      "{'deployment_date': datetime.datetime(2023, 11, 20, 0, 0), 'dataset_end': datetime.datetime(2023, 11, 10, 0, 0), 'dataset_start': datetime.datetime(2018, 1, 1, 0, 0)}\n",
      "0.018\n",
      "0.5132285928041896\n"
     ]
    },
    {
     "name": "stderr",
     "output_type": "stream",
     "text": [
      "/var/folders/tq/_9q_lv1s2bndbr3tzzn08x4r0000gn/T/ipykernel_13040/3239437027.py:2: SettingWithCopyWarning: \n",
      "A value is trying to be set on a copy of a slice from a DataFrame.\n",
      "Try using .loc[row_indexer,col_indexer] = value instead\n",
      "\n",
      "See the caveats in the documentation: https://pandas.pydata.org/pandas-docs/stable/user_guide/indexing.html#returning-a-view-versus-a-copy\n",
      "  dataset.loc[:, 'label'] = (dataset[target_label] > target_value).astype(int)\n"
     ]
    },
    {
     "name": "stdout",
     "output_type": "stream",
     "text": [
      "label\n",
      "0    38170\n",
      "1    29744\n",
      "Name: count, dtype: int64\n",
      "36 62 213 49\n",
      "{'model_name': 'MA_1d:RM220_TSSIM1_TL15-EXP_custHypTP0.57', 'deployment_date': '2023-11-20', 'algorithm_type': 'xgboost', 'dataset': 'MA_1d:RM220_TSSIM1_TL15-EXP_custHypTP0.57', 'TP': 36, 'TPpct': Decimal('0'), 'FP': 62, 'FPpct': Decimal('0'), 'TN': 213, 'TNpct': Decimal('0'), 'FN': 49, 'FNpct': Decimal('0'), 'precision_ratio': Decimal('0.5806451612903226'), 'evaluation_timeperiod': '2023-11-20_2023-11-24', 'live': False, 'hyperparameters': {\"{'subsample': 0.6, 'num_round': 1000, 'min_child_weight': 10, 'max_depth': 10, 'learning_rate': 0.1, 'gamma': 2, 'colsample_bytree': 1}\"}, 'features': {\"['oneD_stddev50', 'rsi', 'close_diff', 'daily_volume_vol_diff_pct30', 'range_vol_diff5', 'SPY_diff', 'threeD_stddev50', 'close_diff3', 'min_volume_vol_diff_pct', 'month', 'return_vol_240M', 'range_vol', 'rsi5', 'roc', 'SPY_3D', 'roc5', 'roc_diff', 'price_25DDiff', 'daily_volume_vol_diff_pct', 'price_10DDiff', 'SPY_1D', 'hour_volume_vol_diff', 'hour_volume_vol_diff_pct', 'return_vol_10D', 'SPY_5D']\"}, 'target': '0.018+one_max', 'feature_importances': \"[{'oneD_stddev50': 0.049988616}, {'rsi': 0.035567634}, {'close_diff': 0.031940278}, {'daily_volume_vol_diff_pct30': 0.030346118}, {'range_vol_diff5': 0.032805398}, {'SPY_diff': 0.02900127}, {'threeD_stddev50': 0.03483651}, {'close_diff3': 0.033881117}, {'min_volume_vol_diff_pct': 0.02528394}, {'month': 0.03840054}, {'return_vol_240M': 0.1683862}, {'range_vol': 0.045537237}, {'rsi5': 0.031814408}, {'roc': 0.035360772}, {'SPY_3D': 0.035899747}, {'roc5': 0.034511935}, {'roc_diff': 0.034474395}, {'price_25DDiff': 0.034415767}, {'daily_volume_vol_diff_pct': 0.029825415}, {'price_10DDiff': 0.034436073}, {'SPY_1D': 0.03583225}, {'hour_volume_vol_diff': 0.029550923}, {'hour_volume_vol_diff_pct': 0.03043118}, {'return_vol_10D': 0.0426043}, {'SPY_5D': 0.034867886}]\"}\n",
      "{'deployment_date': datetime.datetime(2023, 11, 27, 0, 0), 'dataset_end': datetime.datetime(2023, 11, 17, 0, 0), 'dataset_start': datetime.datetime(2018, 1, 1, 0, 0)}\n",
      "0.02\n",
      "0.4968405672669212\n"
     ]
    },
    {
     "name": "stderr",
     "output_type": "stream",
     "text": [
      "/var/folders/tq/_9q_lv1s2bndbr3tzzn08x4r0000gn/T/ipykernel_13040/3239437027.py:2: SettingWithCopyWarning: \n",
      "A value is trying to be set on a copy of a slice from a DataFrame.\n",
      "Try using .loc[row_indexer,col_indexer] = value instead\n",
      "\n",
      "See the caveats in the documentation: https://pandas.pydata.org/pandas-docs/stable/user_guide/indexing.html#returning-a-view-versus-a-copy\n",
      "  dataset.loc[:, 'label'] = (dataset[target_label] > target_value).astype(int)\n"
     ]
    },
    {
     "name": "stdout",
     "output_type": "stream",
     "text": [
      "label\n",
      "0    37159\n",
      "1    28810\n",
      "Name: count, dtype: int64\n",
      "60 50 238 102\n",
      "{'model_name': 'MA_1d:RM220_TSSIM1_TL15-EXP_custHypTP0.57', 'deployment_date': '2023-11-27', 'algorithm_type': 'xgboost', 'dataset': 'MA_1d:RM220_TSSIM1_TL15-EXP_custHypTP0.57', 'TP': 60, 'TPpct': Decimal('0'), 'FP': 50, 'FPpct': Decimal('0'), 'TN': 238, 'TNpct': Decimal('0'), 'FN': 102, 'FNpct': Decimal('0'), 'precision_ratio': Decimal('1.2'), 'evaluation_timeperiod': '2023-11-27_2023-12-01', 'live': False, 'hyperparameters': {\"{'subsample': 0.6, 'num_round': 1000, 'min_child_weight': 10, 'max_depth': 10, 'learning_rate': 0.1, 'gamma': 2, 'colsample_bytree': 1}\"}, 'features': {\"['oneD_stddev50', 'rsi', 'close_diff', 'daily_volume_vol_diff_pct30', 'range_vol_diff5', 'SPY_diff', 'threeD_stddev50', 'close_diff3', 'min_volume_vol_diff_pct', 'month', 'return_vol_240M', 'range_vol', 'rsi5', 'roc', 'SPY_3D', 'roc5', 'roc_diff', 'price_25DDiff', 'daily_volume_vol_diff_pct', 'price_10DDiff', 'SPY_1D', 'hour_volume_vol_diff', 'hour_volume_vol_diff_pct', 'return_vol_10D', 'SPY_5D']\"}, 'target': '0.02+one_max', 'feature_importances': \"[{'oneD_stddev50': 0.055387307}, {'rsi': 0.03388046}, {'close_diff': 0.03168299}, {'daily_volume_vol_diff_pct30': 0.029179692}, {'range_vol_diff5': 0.033045597}, {'SPY_diff': 0.030733086}, {'threeD_stddev50': 0.037671197}, {'close_diff3': 0.03352563}, {'min_volume_vol_diff_pct': 0.026153905}, {'month': 0.04089102}, {'return_vol_240M': 0.13986771}, {'range_vol': 0.050797787}, {'rsi5': 0.034113497}, {'roc': 0.03436742}, {'SPY_3D': 0.037894856}, {'roc5': 0.035352282}, {'roc_diff': 0.03453378}, {'price_25DDiff': 0.0390229}, {'daily_volume_vol_diff_pct': 0.02952542}, {'price_10DDiff': 0.03501877}, {'SPY_1D': 0.037563484}, {'hour_volume_vol_diff': 0.031486034}, {'hour_volume_vol_diff_pct': 0.029952321}, {'return_vol_10D': 0.042162314}, {'SPY_5D': 0.036190603}]\"}\n",
      "{'deployment_date': datetime.datetime(2023, 12, 4, 0, 0), 'dataset_end': datetime.datetime(2023, 11, 24, 0, 0), 'dataset_start': datetime.datetime(2018, 1, 1, 0, 0)}\n",
      "0.017\n",
      "0.4518428385798088\n"
     ]
    },
    {
     "name": "stderr",
     "output_type": "stream",
     "text": [
      "/var/folders/tq/_9q_lv1s2bndbr3tzzn08x4r0000gn/T/ipykernel_13040/3239437027.py:2: SettingWithCopyWarning: \n",
      "A value is trying to be set on a copy of a slice from a DataFrame.\n",
      "Try using .loc[row_indexer,col_indexer] = value instead\n",
      "\n",
      "See the caveats in the documentation: https://pandas.pydata.org/pandas-docs/stable/user_guide/indexing.html#returning-a-view-versus-a-copy\n",
      "  dataset.loc[:, 'label'] = (dataset[target_label] > target_value).astype(int)\n"
     ]
    },
    {
     "name": "stdout",
     "output_type": "stream",
     "text": [
      "label\n",
      "0    33722\n",
      "1    26435\n",
      "Name: count, dtype: int64\n",
      "36 56 178 180\n",
      "{'model_name': 'MA_1d:RM220_TSSIM1_TL15-EXP_custHypTP0.57', 'deployment_date': '2023-12-04', 'algorithm_type': 'xgboost', 'dataset': 'MA_1d:RM220_TSSIM1_TL15-EXP_custHypTP0.57', 'TP': 36, 'TPpct': Decimal('0'), 'FP': 56, 'FPpct': Decimal('0'), 'TN': 178, 'TNpct': Decimal('0'), 'FN': 180, 'FNpct': Decimal('0'), 'precision_ratio': Decimal('0.6428571428571429'), 'evaluation_timeperiod': '2023-12-04_2023-12-08', 'live': False, 'hyperparameters': {\"{'subsample': 0.6, 'num_round': 1000, 'min_child_weight': 10, 'max_depth': 10, 'learning_rate': 0.1, 'gamma': 2, 'colsample_bytree': 1}\"}, 'features': {\"['oneD_stddev50', 'rsi', 'close_diff', 'daily_volume_vol_diff_pct30', 'range_vol_diff5', 'SPY_diff', 'threeD_stddev50', 'close_diff3', 'min_volume_vol_diff_pct', 'month', 'return_vol_240M', 'range_vol', 'rsi5', 'roc', 'SPY_3D', 'roc5', 'roc_diff', 'price_25DDiff', 'daily_volume_vol_diff_pct', 'price_10DDiff', 'SPY_1D', 'hour_volume_vol_diff', 'hour_volume_vol_diff_pct', 'return_vol_10D', 'SPY_5D']\"}, 'target': '0.017+one_max', 'feature_importances': \"[{'oneD_stddev50': 0.050313275}, {'rsi': 0.033651974}, {'close_diff': 0.032335542}, {'daily_volume_vol_diff_pct30': 0.030898646}, {'range_vol_diff5': 0.032450795}, {'SPY_diff': 0.029255116}, {'threeD_stddev50': 0.038085893}, {'close_diff3': 0.032933958}, {'min_volume_vol_diff_pct': 0.02734726}, {'month': 0.03834906}, {'return_vol_240M': 0.14620447}, {'range_vol': 0.041818593}, {'rsi5': 0.032468125}, {'roc': 0.033329803}, {'SPY_3D': 0.035132837}, {'roc5': 0.034588423}, {'roc_diff': 0.035973206}, {'price_25DDiff': 0.035045423}, {'daily_volume_vol_diff_pct': 0.030497313}, {'price_10DDiff': 0.033553462}, {'SPY_1D': 0.034371823}, {'hour_volume_vol_diff': 0.030994913}, {'hour_volume_vol_diff_pct': 0.03198125}, {'return_vol_10D': 0.0642742}, {'SPY_5D': 0.034144703}]\"}\n",
      "{'deployment_date': datetime.datetime(2023, 12, 11, 0, 0), 'dataset_end': datetime.datetime(2023, 12, 1, 0, 0), 'dataset_start': datetime.datetime(2018, 1, 1, 0, 0)}\n",
      "0.017\n",
      "0.4523419194981548\n"
     ]
    },
    {
     "name": "stderr",
     "output_type": "stream",
     "text": [
      "/var/folders/tq/_9q_lv1s2bndbr3tzzn08x4r0000gn/T/ipykernel_13040/3239437027.py:2: SettingWithCopyWarning: \n",
      "A value is trying to be set on a copy of a slice from a DataFrame.\n",
      "Try using .loc[row_indexer,col_indexer] = value instead\n",
      "\n",
      "See the caveats in the documentation: https://pandas.pydata.org/pandas-docs/stable/user_guide/indexing.html#returning-a-view-versus-a-copy\n",
      "  dataset.loc[:, 'label'] = (dataset[target_label] > target_value).astype(int)\n"
     ]
    },
    {
     "name": "stdout",
     "output_type": "stream",
     "text": [
      "label\n",
      "0    33922\n",
      "1    26505\n",
      "Name: count, dtype: int64\n",
      "38 46 173 193\n",
      "{'model_name': 'MA_1d:RM220_TSSIM1_TL15-EXP_custHypTP0.57', 'deployment_date': '2023-12-11', 'algorithm_type': 'xgboost', 'dataset': 'MA_1d:RM220_TSSIM1_TL15-EXP_custHypTP0.57', 'TP': 38, 'TPpct': Decimal('0'), 'FP': 46, 'FPpct': Decimal('0'), 'TN': 173, 'TNpct': Decimal('0'), 'FN': 193, 'FNpct': Decimal('0'), 'precision_ratio': Decimal('0.8260869565217391'), 'evaluation_timeperiod': '2023-12-11_2023-12-15', 'live': False, 'hyperparameters': {\"{'subsample': 0.6, 'num_round': 1000, 'min_child_weight': 10, 'max_depth': 10, 'learning_rate': 0.1, 'gamma': 2, 'colsample_bytree': 1}\"}, 'features': {\"['oneD_stddev50', 'rsi', 'close_diff', 'daily_volume_vol_diff_pct30', 'range_vol_diff5', 'SPY_diff', 'threeD_stddev50', 'close_diff3', 'min_volume_vol_diff_pct', 'month', 'return_vol_240M', 'range_vol', 'rsi5', 'roc', 'SPY_3D', 'roc5', 'roc_diff', 'price_25DDiff', 'daily_volume_vol_diff_pct', 'price_10DDiff', 'SPY_1D', 'hour_volume_vol_diff', 'hour_volume_vol_diff_pct', 'return_vol_10D', 'SPY_5D']\"}, 'target': '0.017+one_max', 'feature_importances': \"[{'oneD_stddev50': 0.054836966}, {'rsi': 0.03690668}, {'close_diff': 0.033829454}, {'daily_volume_vol_diff_pct30': 0.031881783}, {'range_vol_diff5': 0.03331266}, {'SPY_diff': 0.029802848}, {'threeD_stddev50': 0.03946164}, {'close_diff3': 0.03332338}, {'min_volume_vol_diff_pct': 0.027884925}, {'month': 0.038690627}, {'return_vol_240M': 0.12294088}, {'range_vol': 0.040465407}, {'rsi5': 0.0346529}, {'roc': 0.03470287}, {'SPY_3D': 0.03521055}, {'roc5': 0.033955205}, {'roc_diff': 0.036631804}, {'price_25DDiff': 0.035309885}, {'daily_volume_vol_diff_pct': 0.03088076}, {'price_10DDiff': 0.034027502}, {'SPY_1D': 0.03518712}, {'hour_volume_vol_diff': 0.03115075}, {'hour_volume_vol_diff_pct': 0.031082157}, {'return_vol_10D': 0.06933161}, {'SPY_5D': 0.034539692}]\"}\n",
      "{'deployment_date': datetime.datetime(2023, 12, 18, 0, 0), 'dataset_end': datetime.datetime(2023, 12, 8, 0, 0), 'dataset_start': datetime.datetime(2018, 1, 1, 0, 0)}\n",
      "0.017\n",
      "0.4561949312503264\n"
     ]
    },
    {
     "name": "stderr",
     "output_type": "stream",
     "text": [
      "/var/folders/tq/_9q_lv1s2bndbr3tzzn08x4r0000gn/T/ipykernel_13040/3239437027.py:2: SettingWithCopyWarning: \n",
      "A value is trying to be set on a copy of a slice from a DataFrame.\n",
      "Try using .loc[row_indexer,col_indexer] = value instead\n",
      "\n",
      "See the caveats in the documentation: https://pandas.pydata.org/pandas-docs/stable/user_guide/indexing.html#returning-a-view-versus-a-copy\n",
      "  dataset.loc[:, 'label'] = (dataset[target_label] > target_value).astype(int)\n"
     ]
    },
    {
     "name": "stdout",
     "output_type": "stream",
     "text": [
      "label\n",
      "0    34451\n",
      "1    26696\n",
      "Name: count, dtype: int64\n",
      "20 22 291 117\n",
      "{'model_name': 'MA_1d:RM220_TSSIM1_TL15-EXP_custHypTP0.57', 'deployment_date': '2023-12-18', 'algorithm_type': 'xgboost', 'dataset': 'MA_1d:RM220_TSSIM1_TL15-EXP_custHypTP0.57', 'TP': 20, 'TPpct': Decimal('0'), 'FP': 22, 'FPpct': Decimal('0'), 'TN': 291, 'TNpct': Decimal('0'), 'FN': 117, 'FNpct': Decimal('0'), 'precision_ratio': Decimal('0.9090909090909091'), 'evaluation_timeperiod': '2023-12-18_2023-12-22', 'live': False, 'hyperparameters': {\"{'subsample': 0.6, 'num_round': 1000, 'min_child_weight': 10, 'max_depth': 10, 'learning_rate': 0.1, 'gamma': 2, 'colsample_bytree': 1}\"}, 'features': {\"['oneD_stddev50', 'rsi', 'close_diff', 'daily_volume_vol_diff_pct30', 'range_vol_diff5', 'SPY_diff', 'threeD_stddev50', 'close_diff3', 'min_volume_vol_diff_pct', 'month', 'return_vol_240M', 'range_vol', 'rsi5', 'roc', 'SPY_3D', 'roc5', 'roc_diff', 'price_25DDiff', 'daily_volume_vol_diff_pct', 'price_10DDiff', 'SPY_1D', 'hour_volume_vol_diff', 'hour_volume_vol_diff_pct', 'return_vol_10D', 'SPY_5D']\"}, 'target': '0.017+one_max', 'feature_importances': \"[{'oneD_stddev50': 0.052391034}, {'rsi': 0.035789713}, {'close_diff': 0.032576267}, {'daily_volume_vol_diff_pct30': 0.0316717}, {'range_vol_diff5': 0.034461863}, {'SPY_diff': 0.03061371}, {'threeD_stddev50': 0.03725297}, {'close_diff3': 0.032869264}, {'min_volume_vol_diff_pct': 0.02706773}, {'month': 0.038274925}, {'return_vol_240M': 0.14271428}, {'range_vol': 0.042065702}, {'rsi5': 0.033148013}, {'roc': 0.03347646}, {'SPY_3D': 0.035518516}, {'roc5': 0.03393838}, {'roc_diff': 0.03613946}, {'price_25DDiff': 0.03509314}, {'daily_volume_vol_diff_pct': 0.03231681}, {'price_10DDiff': 0.03248466}, {'SPY_1D': 0.034397658}, {'hour_volume_vol_diff': 0.032197945}, {'hour_volume_vol_diff_pct': 0.030203337}, {'return_vol_10D': 0.058763262}, {'SPY_5D': 0.03457319}]\"}\n"
     ]
    }
   ],
   "source": [
    "target_percentile = 0.57\n",
    "model_name = f'MA_1d:RM220_TSSIM1_TL15-EXP_custHypTP{target_percentile}'\n",
    "# model_name = 'GAIN:TSSIM1_TL15_custHypP3'\n",
    "dataset_name = f'MA_1d:RM220_TSSIM1_TL15-EXP_custHypTP{target_percentile}'\n",
    "title = 'MA_1d'\n",
    "hyperparams = {'subsample': 0.6, 'num_round': 1000, 'min_child_weight': 10, 'max_depth': 10, 'learning_rate': 0.1, 'gamma': 2, 'colsample_bytree': 1}\n",
    "features = ['oneD_stddev50', 'rsi', 'close_diff', 'daily_volume_vol_diff_pct30', 'range_vol_diff5', 'SPY_diff', 'threeD_stddev50', 'close_diff3', 'min_volume_vol_diff_pct', 'month', \n",
    "            'return_vol_240M', 'range_vol', 'rsi5', 'roc', 'SPY_3D', 'roc5', 'roc_diff', 'price_25DDiff', 'daily_volume_vol_diff_pct', 'price_10DDiff', 'SPY_1D', 'hour_volume_vol_diff', \n",
    "            'hour_volume_vol_diff_pct', 'return_vol_10D', 'SPY_5D']\n",
    "target_label = 'one_max'\n",
    "\n",
    "dataset_start_date = datetime(2018,1,1,tzinfo=pytz.timezone('US/Eastern')) \n",
    "dates_list = build_evaluation_period(datetime(2022,10,3), datetime(2023,12,23))\n",
    "\n",
    "# date = dates_list[-1]\n",
    "# print(date)\n",
    "# response = model_runner_data(start_date=datetime(2018,1,1),end_date=datetime(2023,12,23))\n",
    "\n",
    "# dataset = pull_training_data_local(start_date=datetime(2018,1,1),end_date=datetime(2023,10,28))\n",
    "# print(dataset['three_max'].describe())\n",
    "\n",
    "for date in dates_list:\n",
    "    print(date)\n",
    "    response = model_runner_v2(model_name, dataset_name, title, features, target_label, target_percentile,\"dataset_start_date\",date['dataset_end'],date['deployment_date'], str(features),str(hyperparams), hyperparams, local_data=True, dataset_start_date=date['dataset_start'])\n",
    "    \n"
   ]
  },
  {
   "cell_type": "code",
   "execution_count": 24,
   "metadata": {},
   "outputs": [],
   "source": [
    "# def convert_timestamp_est(timestamp):\n",
    "#     # Create a naive datetime object from the UNIX timestamp\n",
    "#     dt_naive = datetime.utcfromtimestamp(timestamp)\n",
    "#     # Convert the naive datetime object to a timezone-aware one (UTC)\n",
    "#     dt_utc = pytz.utc.localize(dt_naive)\n",
    "#     # Convert the UTC datetime to EST\n",
    "#     dt_est = dt_utc.astimezone(pytz.timezone('US/Eastern'))\n",
    "    \n",
    "#     return dt_est\n",
    "\n",
    "\n",
    "# data = pd.read_csv(f'/Users/charlesmiller/Documents/model_tester_data/GAIN/2018-01-01_2023-12-23_trainTL10.csv')\n",
    "# data['date'] = data['date'].astype(str)\n",
    "# data['date'] = data['date'].apply(lambda x: x.split(\" \")[0])\n",
    "# data = data.drop(data[data['date'] == 'nan'].index)\n",
    "# # data.drop('date',axis=1,inplace=True)\n",
    "# # data['date'] = data['t'].apply(lambda x: convert_timestamp_est(x))\n",
    "# # data.drop(['one_pct','three_pct','Unnamed: 0.2', \"Unnamed: 0\",\"Unnamed: 0.1\", \"date_x\",\"date_y\",'vw_x', 'n_x', 'return_vol_240M_x', 'volume_vol_240M_x', 'return_vol_450M_x', 'volume_vol_450M_x', 'min_vol_diff_x', 'min_vol_diff_pct_x', 'min_volume_vol_diff_x', 'min_volume_vol_diff_pct_x', 'return_vol_8H_x', 'return_vol_16H_x', 'volume_vol_8H_x', 'volume_vol_16H_x', 'hour_vol_diff_x', 'hour_vol_diff_pct_x', 'hour_volume_vol_diff_x', 'hour_volume_vol_diff_pct_x', 'return_vol_5D_x', 'return_vol_10D_x', 'return_vol_30D_x', 'volume_vol_5D_x', 'volume_vol_10D_x', 'volume_vol_30D_x', 'daily_vol_diff_x', 'daily_vol_diff_pct_x', 'daily_vol_diff30_x', 'daily_vol_diff_pct30_x', 'daily_volume_vol_diff_x', 'daily_volume_vol_diff_pct_x', 'daily_volume_vol_diff30_x', 'daily_volume_vol_diff_pct30_x', 'vw_y', 'n_y', 'return_vol_240M_y', 'volume_vol_240M_y', 'return_vol_450M_y', 'volume_vol_450M_y', 'min_vol_diff_y', 'min_vol_diff_pct_y', 'min_volume_vol_diff_y', 'min_volume_vol_diff_pct_y', 'return_vol_8H_y', 'return_vol_16H_y', 'volume_vol_8H_y', 'volume_vol_16H_y', 'hour_vol_diff_y', 'hour_vol_diff_pct_y', 'hour_volume_vol_diff_y', 'hour_volume_vol_diff_pct_y', 'return_vol_5D_y', 'return_vol_10D_y', 'return_vol_30D_y', 'volume_vol_5D_y', 'volume_vol_10D_y', 'volume_vol_30D_y', 'daily_vol_diff_y', 'daily_vol_diff_pct_y', 'daily_vol_diff30_y', 'daily_vol_diff_pct30_y', 'daily_volume_vol_diff_y', 'daily_volume_vol_diff_pct_y', 'daily_volume_vol_diff30_y', 'daily_volume_vol_diff_pct30_y'], axis=1, inplace=True)\n",
    "# data['roc_diff'] = data['roc'] - data['roc5'] \n",
    "# data['range_vol_diff5'] = (data['range_vol'] - data['range_vol5MA'])\n",
    "# data['close_diff_deviation3'] = abs(data['close_diff3'])/(data['threeD_stddev50']*100)\n",
    "# data['close_diff_deviation'] = abs(data['close_diff'])/(data['oneD_stddev50']*100)\n",
    "# data.dropna(subset=['date'], inplace=True)\n",
    "# data['date'] = data['date'].apply(lambda x: datetime.strptime(x,\"%Y-%m-%d\"))\n",
    "# data['day_of_week'] = data['date'].apply(lambda x: x.dayofweek).astype(int)\n",
    "# data['day_of_month'] = data['date'].apply(lambda x: x.day).astype(int)\n",
    "# data['month'] = data['date'].apply(lambda x: x.month).astype(int)\n",
    "# data['year'] = data['date'].apply(lambda x: x.year).astype(int)\n",
    "# data.replace([np.inf, -np.inf], 0, inplace=True)\n",
    "# data.to_csv(f'/Users/charlesmiller/Documents/model_tester_data/GAIN/2018-01-01_2023-12-23_trainTL10.csv', index=False)"
   ]
  },
  {
   "cell_type": "code",
   "execution_count": 25,
   "metadata": {},
   "outputs": [],
   "source": [
    "# def run_temporal_simulation(features, target_label, target_value, dataset_start_date, evaluation_start_date, evaluation_end_date):\n",
    "#     tp_avg_list = []\n",
    "#     gross_accuracy_list = []\n",
    "#     # fn_list = []\n",
    "#     # tn_list = []\n",
    "    \n",
    "#     hyperparams = {'subsample': 0.6, 'num_round': 1000, 'min_child_weight': 10, 'max_depth': 10, 'learning_rate': 0.1, 'gamma': 2, 'colsample_bytree': 1}\n",
    "#     dates_list = build_evaluation_period(evaluation_start_date, evaluation_end_date)\n",
    "#     for date in dates_list:\n",
    "#         tp, fp, fn, tn = model_runner_temporal_simulation(features, target_label, target_value,dataset_start_date,date['dataset_end'],date['deployment_date'], hyperparams)\n",
    "#         tp_avg_list.append(tp)\n",
    "#         gross_accuracy_list.append((tp-fp))\n",
    "\n",
    "#     return tp_avg_list, gross_accuracy_list\n"
   ]
  },
  {
   "cell_type": "code",
   "execution_count": 26,
   "metadata": {},
   "outputs": [],
   "source": [
    "# number_of_simulations = 200\n",
    "# now = datetime.now()\n",
    "# title = 'GAIN'\n",
    "# # total_feature_list = ['hour','year','month','day_of_month',\n",
    "# #        'price7', 'price14', 'adjusted_volume', 'vol7', 'vol14',\n",
    "# #        'rsi', 'rsi3', 'rsi5', 'roc', 'roc3', 'roc5', 'threeD_returns_close',\n",
    "# #        'oneD_returns_close', 'range_vol', 'range_vol5MA', 'range_vol10MA',\n",
    "# #        'range_vol25MA', 'oneD_stddev50', 'threeD_stddev50', 'cmf',\n",
    "# #        'close_diff', 'close_diff3', 'close_diff5', 'v_diff_pct', 'adx',\n",
    "# #        'volume_10MA', 'volume_25MA', 'price_10MA', 'price_25MA',\n",
    "# #        'volume_10DDiff', 'volume_25DDiff', 'price_10DDiff', 'price_25DDiff',\n",
    "# #        'day_of_week','close_diff_deviation3','close_diff_deviation','roc_diff','range_vol_diff5',\n",
    "# #        'return_vol_240M', 'volume_vol_240M', 'return_vol_450M', 'volume_vol_450M', 'min_vol_diff', 'min_vol_diff_pct', 'min_volume_vol_diff', \n",
    "# #        'min_volume_vol_diff_pct', 'return_vol_8H', 'return_vol_16H', 'volume_vol_8H', 'volume_vol_16H', 'hour_vol_diff', 'hour_vol_diff_pct', 'hour_volume_vol_diff', \n",
    "# #        'hour_volume_vol_diff_pct', 'return_vol_5D', 'return_vol_10D', 'return_vol_30D', 'volume_vol_5D', 'volume_vol_10D', 'volume_vol_30D', 'daily_vol_diff', 'daily_vol_diff_pct',\n",
    "# #        'daily_vol_diff30', 'daily_vol_diff_pct30', 'daily_volume_vol_diff', 'daily_volume_vol_diff_pct', 'daily_volume_vol_diff30', 'daily_volume_vol_diff_pct30']\n",
    "# testing_features = ['hour', 'day_of_week','month','daily_vol_diff30', 'hour_volume_vol_diff', 'roc_diff', \n",
    "# 'range_vol', 'volume_vol_8H','close_diff3', 'close_diff5',\n",
    "# 'range_vol_diff5', 'SPY_diff', 'SPY_diff3','SPY_diff5','rsi5','roc5',\n",
    "# 'return_vol_10D', 'return_vol_8H', 'return_vol_16H', 'return_vol_450M', 'adx', \n",
    "# 'rsi','roc','rsi3','roc3','daily_vol_diff', 'SPY_1D','SPY_3D', 'SPY_5D','min_vol_diff', 'return_vol_240M', \n",
    "# 'price_25DDiff', 'price_10DDiff','daily_vol_diff_pct30','threeD_stddev50',\n",
    "# 'price7', 'daily_vol_diff_pct', 'oneD_stddev50', 'volume_vol_16H','min_volume_vol_diff_pct',\n",
    "# 'close_diff_deviation','close_diff','daily_volume_vol_diff_pct','hour_volume_vol_diff_pct','daily_volume_vol_diff_pct30']\n",
    "\n",
    "# target_label = 'three_max'\n",
    "# target_value = .03\n",
    "# results_array = []\n",
    "\n",
    "# i = 0\n",
    "# while i < number_of_simulations:\n",
    "#        model_name = f\"{title}_temporal_simulation_{i}\"\n",
    "#        print(model_name)\n",
    "#        random_int = random.randint(20, 35)\n",
    "#        features = random.sample(testing_features, random_int)\n",
    "#        print(features)\n",
    "#        tp_avg_list, gross_accuracy_list = run_temporal_simulation(features, target_label, target_value, dataset_start_date=datetime(2018,1,1), evaluation_start_date=datetime(2022,10,3), evaluation_end_date=datetime(2023,10,2))        \n",
    "#        tp_avg = sum(tp_avg_list)/len(tp_avg_list)\n",
    "#        gross_accuracy = sum(gross_accuracy_list)/len(gross_accuracy_list)\n",
    "#        print(tp_avg, gross_accuracy)\n",
    "#        print()\n",
    "#        results_array.append({\"model_name\": model_name, \"features\": features, \"tp_avg\": tp_avg, \"gross_accuracy\": gross_accuracy,\"num_features\": random_int})\n",
    "#        i += 1\n",
    "\n",
    "# results_df = pd.DataFrame(results_array)\n",
    "# results_df.to_csv(f'/Users/charlesmiller/Documents/temporal_simulation_results/{title}/{now.year}_{now.month}_{now.day}.csv', index=False)"
   ]
  },
  {
   "cell_type": "code",
   "execution_count": null,
   "metadata": {},
   "outputs": [],
   "source": []
  },
  {
   "cell_type": "code",
   "execution_count": null,
   "metadata": {},
   "outputs": [],
   "source": []
  }
 ],
 "metadata": {
  "kernelspec": {
   "display_name": "model-tester-d0oOM2ve",
   "language": "python",
   "name": "python3"
  },
  "language_info": {
   "codemirror_mode": {
    "name": "ipython",
    "version": 3
   },
   "file_extension": ".py",
   "mimetype": "text/x-python",
   "name": "python",
   "nbconvert_exporter": "python",
   "pygments_lexer": "ipython3",
   "version": "3.9.10"
  },
  "orig_nbformat": 4
 },
 "nbformat": 4,
 "nbformat_minor": 2
}
