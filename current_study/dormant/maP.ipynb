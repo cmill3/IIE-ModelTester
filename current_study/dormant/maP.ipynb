{
 "cells": [
  {
   "cell_type": "code",
   "execution_count": 14,
   "metadata": {},
   "outputs": [],
   "source": [
    "import boto3\n",
    "import numpy as np\n",
    "import pandas as pd\n",
    "import matplotlib.pyplot as plt\n",
    "import seaborn as sns\n",
    "from datetime import datetime, timedelta\n",
    "from sklearn.metrics import confusion_matrix, ConfusionMatrixDisplay\n",
    "from sklearn.metrics import accuracy_score\n",
    "from sklearn.model_selection import GridSearchCV\n",
    "import xgboost as xgb\n",
    "import math\n",
    "import random\n",
    "from decimal import Decimal, getcontext\n",
    "import pandas_market_calendars as mcal\n",
    "import ast\n",
    "from sklearn.preprocessing import StandardScaler\n",
    "import pytz\n",
    "from helpers.constants import *"
   ]
  },
  {
   "cell_type": "code",
   "execution_count": 15,
   "metadata": {},
   "outputs": [],
   "source": [
    "s3 = boto3.client('s3')\n",
    "\n",
    "training_bucket = \"icarus-research-data\"\n",
    "training_prefix = 'training_datasets/expanded_1d_datasets/'\n",
    "\n",
    "# Create a calendar\n",
    "nyse = mcal.get_calendar('NYSE')\n",
    "holidays = nyse.regular_holidays\n",
    "market_holidays = holidays.holidays()\n",
    "\n",
    "weekly_expiries = ['SPY', 'IVV', 'QQQ', 'GLD', 'IWM', 'EFA', 'XLK', 'XLV', 'TLT', 'LQD', 'XLE', 'TQQQ', 'SQQQ', 'SPXS', 'SPXL', 'SOXL', 'SOXS', 'MMM', 'ABT', 'ABBV', 'ACN', 'ATVI', 'ADM', 'ADBE', 'ADP', \n",
    "                   'AAP', 'AFL', 'ALB', 'ALGN', 'GOOGL', 'GOOG', 'MO', 'AMZN', 'AMD', 'AAL', 'AXP', 'AIG', 'ABC', 'AMGN', 'ADI', 'APA', 'AAPL', 'AMAT', 'ANET', 'T', 'ADSK', 'BAC', 'BBWI', 'BAX', 'BBY', 'BIIB', \n",
    "                   'BLK', 'BA', 'BKNG', 'BMY', 'AVGO', 'CZR', 'CPB', 'COF', 'CAH', 'KMX', 'CCL', 'CAT', 'CBOE', 'CNC', 'CF', 'SCHW', 'CHTR', 'CVX', 'CMG', 'CI', 'CSCO', 'C', 'CLX', 'CME', 'KO', 'CMCSA', 'CMA', 'CAG', \n",
    "                   'COP', 'STZ', 'GLW', 'COST', 'CTRA', 'CSX', 'CVS', 'DHI', 'DHR', 'DE', 'DAL', 'DVN', 'DLR', 'DFS', 'DISH', 'DIS', 'DG', 'DLTR', 'DPZ', 'DOW', 'DD', 'EBAY', 'EA', 'ELV', 'LLY', 'EMR', 'ENPH', 'EOG', 'EQT', \n",
    "                   'ETSY', 'EXPE', 'XOM', 'FDX', 'FITB', 'FSLR', 'FI', 'F', 'FTNT', 'FOXA', 'FCX', 'GEHC', 'GNRC', 'GD', 'GE', 'GM', 'GILD', 'GS', 'HAL', 'HSY', 'HES', 'HD', 'HON', 'HRL', 'HPQ', 'HUM', 'HBAN', 'IBM', 'ILMN', \n",
    "                   'INTC', 'IP', 'INTU', 'ISRG', 'JNJ', 'JPM', 'JNPR', 'KEY', 'KMB', 'KMI', 'KLAC', 'KHC', 'KR', 'LRCX', 'LVS', 'LEN', 'LMT', 'LOW', 'MRO', 'MPC', 'MAR', 'MA', 'MTCH', 'MCD', 'MCK', 'MDT', 'MRK', 'META', 'MET', \n",
    "                   'MGM', 'MU', 'MSFT', 'MRNA', 'MDLZ', 'MS', 'MOS', 'NTAP', 'NFLX', 'NEM', 'NKE', 'NSC', 'NOC', 'NCLH', 'NUE', 'NVDA', 'NXPI', 'OXY', 'ON', 'ORCL', 'PARA', 'PYPL', 'PEP', 'PFE', 'PCG', 'PM', 'PSX', 'PXD', 'PNC', \n",
    "                   'PPG', 'PG', 'PHM', 'QCOM', 'RTX', 'REGN', 'ROST', 'RCL', 'SPGI', 'CRM', 'SLB', 'STX', 'NOW', 'SWKS', 'SEDG', 'SO', 'LUV', 'SBUX', 'TMUS', 'TROW', 'TTWO', 'TPR', 'TGT', 'TSLA', 'TXN', 'TMO', 'TJX', 'TSCO', 'TFC', \n",
    "                   'TSN', 'USB', 'ULTA', 'UNP', 'UAL', 'UPS', 'URI', 'UNH', 'VLO', 'VZ', 'VRTX', 'VFC', 'V', 'WBA', 'WMT', 'WBD', 'WM', 'WFC', 'WDC', 'WHR', 'WMB', 'WYNN', 'ZION']\n",
    "\n",
    "leveraged_etfs = [\"TQQQ\",\"SQQQ\",\"SPXS\",\"SPXL\",\"SOXL\",\"SOXS\"]\n",
    "high_vol = ['COIN','BILI','UPST','CVNA',\"TQQQ\",\"SQQQ\",\"SPXS\",\"SPXL\",\"SOXL\",\"SOXS\",\"NIO\",\"BABA\",\"ROKU\",\"RBLX\",\"SE\",\"SNAP\",\"LCID\",'RIVN',\"BIDU\",\"FUTU\",\"TSLA\",\"JD\",\"HOOD\",\"CHWY\"]\n",
    "expensive = [\"CMG\",\"NFLX\",\"AVGO\",\"BKNG\",\"ABNB\"]\n",
    "indexes = ['QQQ','IWM','TLT','VXX','SPY']\n"
   ]
  },
  {
   "cell_type": "code",
   "execution_count": 16,
   "metadata": {},
   "outputs": [],
   "source": [
    "def create_training_data_local(key_list, prefix, bucket_name, alert_type, start_date, end_date):\n",
    "    df_list = []\n",
    "    hours = [10,11,12,13,14,15]\n",
    "    start = start_date.split(' ')[0]\n",
    "    end = end_date.split(' ')[0]\n",
    "    for key in key_list:\n",
    "        for hour in hours:\n",
    "            try:\n",
    "                data = s3.get_object(Bucket=bucket_name, Key=f'{prefix}{key}/{alert_type}/{hour}.csv')\n",
    "                df = pd.read_csv(data.get(\"Body\")) \n",
    "                df = df.loc[df['symbol'].isin(WEEKLY_EXP)]\n",
    "                df = df.loc[~df['symbol'].isin(high_vol)]\n",
    "                df = df.iloc[:10]\n",
    "                df_list.append(df)\n",
    "                # df['hour'] = hour\n",
    "            except:\n",
    "                continue\n",
    "\n",
    "    data = pd.concat(df_list)\n",
    "    data.reset_index(drop=True, inplace=True)\n",
    "    data.replace([np.inf, -np.inf], 0, inplace=True)\n",
    "    data.to_csv(f'/Users/charlesmiller/Documents/model_tester_data/GAIN/{start}_{end}_trainTL10.csv', index=False)\n",
    "    return data\n",
    "\n",
    "def create_validation_data_local(key_list, prefix, bucket_name, alert_type, start_date, end_date):\n",
    "    df_list = []\n",
    "    hours = [10,11,12,13,14,15]\n",
    "    start = start_date.split(' ')[0]\n",
    "    end = end_date.split(' ')[0]\n",
    "    for key in key_list:\n",
    "        for hour in hours:\n",
    "            try:\n",
    "                data = s3.get_object(Bucket=bucket_name, Key=f'{prefix}{key}/{alert_type}/{hour}.csv')\n",
    "                df = pd.read_csv(data.get(\"Body\")) \n",
    "                df = df.loc[df['symbol'].isin(TRADING_SYMBOLS)]\n",
    "                df = df.loc[~df['symbol'].isin(high_vol)]\n",
    "                df = df.iloc[:6]\n",
    "                df_list.append(df)\n",
    "                # df['hour'] = hour\n",
    "            except:\n",
    "                continue\n",
    "\n",
    "    data = pd.concat(df_list)\n",
    "    data.reset_index(drop=True, inplace=True)\n",
    "    data.replace([np.inf, -np.inf], 0, inplace=True)\n",
    "    data.to_csv(f'/Users/charlesmiller/Documents/model_tester_data/GAIN/{start}_{end}_validationTR6.csv', index=False)\n",
    "    return data\n",
    "\n",
    "def pull_training_data_local(end_date,start_date):\n",
    "    data = pd.read_csv(f'/Users/charlesmiller/Documents/model_tester_data/MA/2018-01-01_2023-12-23_trainTL15.csv')\n",
    "    data['dt'] = pd.to_datetime(data['date'])\n",
    "    data = data.loc[data['dt'] <= end_date]\n",
    "    data = data.loc[~data['symbol'].isin(high_vol)]\n",
    "    data = data.loc[~data['symbol'].isin(expensive)]\n",
    "    data = data.loc[~data['symbol'].isin(leveraged_etfs)]\n",
    "    data.replace([np.inf, -np.inf], 0, inplace=True)\n",
    "\n",
    "    return data\n",
    "\n",
    "\n",
    "def pull_validation_data_local(end_date,start_date):\n",
    "    data = pd.read_csv(f'/Users/charlesmiller/Documents/model_tester_data/MA/2018-01-01_2023-12-23_validationTL15.csv')\n",
    "    data['dt'] = pd.to_datetime(data['date'])\n",
    "    data = data.loc[~data['symbol'].isin(high_vol)]\n",
    "    data = data.loc[~data['symbol'].isin(expensive)]\n",
    "    data = data.loc[~data['symbol'].isin(leveraged_etfs)]\n",
    "    data = data.loc[data['dt'] <= end_date]\n",
    "    data = data.loc[data['dt'] >= start_date]\n",
    "    data.replace([np.inf, -np.inf], 0, inplace=True)\n",
    "\n",
    "    return data"
   ]
  },
  {
   "cell_type": "code",
   "execution_count": 17,
   "metadata": {},
   "outputs": [],
   "source": [
    "def build_date_list(start_date, end_date):\n",
    "    print(start_date, end_date)\n",
    "    date_diff = end_date - start_date\n",
    "    numdays = date_diff.days \n",
    "    dateList = []\n",
    "    for x in range (0, numdays):\n",
    "        temp_date = start_date + timedelta(days = x)\n",
    "        if temp_date.weekday() > 4:\n",
    "            continue\n",
    "        else:\n",
    "            dateList.append(temp_date)\n",
    "    return dateList\n",
    "\n",
    "def build_query_keys_hist():\n",
    "    start_date = datetime(2021,1,5)\n",
    "    date_diff = datetime(2022,7,29) - start_date\n",
    "    numdays = date_diff.days \n",
    "    key_list = []\n",
    "    for x in range (0, numdays):\n",
    "        temp_date = start_date + timedelta(days = x)\n",
    "        if temp_date.weekday() > 4:\n",
    "            continue\n",
    "        else:\n",
    "            date_str = temp_date.strftime('%Y-%m-%d')\n",
    "            if date_str in market_holidays:\n",
    "                continue\n",
    "            else:\n",
    "                date_str = date_str.replace(\"-\",\"/\")\n",
    "                key_list.append(date_str)\n",
    "        \n",
    "    return key_list\n",
    "    \n",
    "def build_query_keys(dates):\n",
    "    key_list = []\n",
    "    for date in dates:\n",
    "        date_str = date.strftime('%Y-%m-%d')\n",
    "        if date_str in market_holidays:\n",
    "            continue\n",
    "        else:\n",
    "            year, month, day = date_str.split('-')\n",
    "            temp = f'{year}/{month}/{day}'\n",
    "            key_list.append(temp)\n",
    "\n",
    "    return key_list\n",
    "\n",
    "def build_query_keys_validation(end_date):\n",
    "    validation_end_date = end_date + timedelta(days=7)\n",
    "    dates = build_date_list(end_date, validation_end_date)\n",
    "    key_list = []\n",
    "    for date in dates:\n",
    "        date_str = date.strftime('%Y-%m-%d')\n",
    "        if date_str in market_holidays:\n",
    "            continue\n",
    "        else:\n",
    "            year, month, day = date_str.split('-')\n",
    "            temp = f'{year}/{month}/{day}'\n",
    "            key_list.append(temp)\n",
    "\n",
    "    return key_list\n",
    "\n",
    "def build_validation_dates_local(deployment_date):\n",
    "    end_date = deployment_date + timedelta(days=5)\n",
    "    return end_date"
   ]
  },
  {
   "cell_type": "code",
   "execution_count": 18,
   "metadata": {},
   "outputs": [],
   "source": [
    "def model_results_analyzer(predictions, y_validate, target_value):\n",
    "    result_list = []\n",
    "    counter = 0\n",
    "    predictions_series = pd.Series(predictions,name='prediction_values')\n",
    "    for x in predictions:\n",
    "        if x == 1:\n",
    "            if y_validate.iloc[counter] == 1:\n",
    "                classification_result = 0\n",
    "            else:\n",
    "                classification_result = 1\n",
    "        elif x == 0:\n",
    "            if y_validate.iloc[counter] == 0:\n",
    "                classification_result = 2\n",
    "            else: \n",
    "                classification_result = 3\n",
    "        result_list.append(classification_result)\n",
    "        counter += 1\n",
    "    three_max = pd.Series(y_validate,name='three_max')\n",
    "    df = pd.concat([pd.Series(result_list,name='classifier_performance'),predictions_series,three_max],axis=1)\n",
    "    df.reset_index(drop=True, inplace=True)\n",
    "    # df = pd.DataFrame([result_list, y_validate], columns=['classifier_performance', 'prediction_score'])\n",
    "\n",
    "    tp = df.loc[df['classifier_performance'] == 0]\n",
    "    fp = df.loc[df['classifier_performance'] == 1]\n",
    "    tn = df.loc[df['classifier_performance'] == 2]\n",
    "    fn = df.loc[df['classifier_performance'] == 3]\n",
    "\n",
    "    # tp_scr = tp[\"prediction_score\"].mean()\n",
    "    # fp_scr = fp[\"prediction_score\"].mean()\n",
    "    # tn_scr = tn[\"prediction_score\"].mean()\n",
    "    # fn_scr = fn[\"prediction_score\"].mean()\n",
    "\n",
    "    return len(tp), \"0\", len(fp), \"0\", len(tn), \"0\", len(fn), \"0\""
   ]
  },
  {
   "cell_type": "code",
   "execution_count": 19,
   "metadata": {},
   "outputs": [],
   "source": [
    "def create_dynamo_record(tp, tp_scr, fp, fp_scr, tn, tn_scr, fn, fn_scr, model_name, deployment_date, dataset_name, hyperparam_str, feature_str, target_str, fi_list):    \n",
    "    ddb = boto3.resource('dynamodb','us-east-1')\n",
    "    table = ddb.Table('icarus-models-results-table')\n",
    "    eval_start = deployment_date\n",
    "    eval_end = deployment_date + timedelta(days=4)\n",
    "    try:\n",
    "        precision = (tp/fp)\n",
    "    except:\n",
    "        precision = 0\n",
    "\n",
    "    ## FILL IN\n",
    "    item={\n",
    "        'model_name': model_name,\n",
    "        'deployment_date': deployment_date.strftime(\"%Y-%m-%d\"),\n",
    "        'algorithm_type': 'xgboost',\n",
    "        'dataset': dataset_name,\n",
    "        'TP': tp,\n",
    "        'TPpct': Decimal(\"0\"),\n",
    "        'FP': fp,\n",
    "        'FPpct': Decimal(\"0\"),\n",
    "        'TN': tn,\n",
    "        'TNpct': Decimal(\"0\"),\n",
    "        'FN': fn,\n",
    "        'FNpct': Decimal(\"0\"),\n",
    "        'precision_ratio': Decimal(str(precision)),\n",
    "        'evaluation_timeperiod': f'{eval_start.strftime(\"%Y-%m-%d\")}_{eval_end.strftime(\"%Y-%m-%d\")}',\n",
    "        'live': False,\n",
    "        'hyperparameters': {hyperparam_str},\n",
    "        'features' : {feature_str},\n",
    "        'target' : target_str,\n",
    "        'feature_importances': fi_list\n",
    "\n",
    "    }\n",
    "\n",
    "    print(item)\n",
    "    response = table.put_item(\n",
    "            Item=item\n",
    "        )\n",
    "\n",
    "    return response"
   ]
  },
  {
   "cell_type": "code",
   "execution_count": 20,
   "metadata": {},
   "outputs": [],
   "source": [
    "def train_model(features, dataset, validation_dataset, target_label, target_value, hyperparams):\n",
    "    dataset.loc[:, 'label'] = (dataset[target_label] < target_value).astype(int)\n",
    "    validation_dataset.loc[:, 'label'] = (validation_dataset[target_label] < target_value).astype(int)\n",
    "\n",
    "    # dataset = dataset.round(3)\n",
    "    # validation_dataset = validation_dataset.round(3)\n",
    "\n",
    "    X = dataset[features].astype(float)\n",
    "    y = dataset['label']\n",
    "\n",
    "    X_validate = validation_dataset[features].astype(float)\n",
    "    y_validate = validation_dataset['label']\n",
    "\n",
    "\n",
    "    xgb_model = xgb.XGBClassifier(subsample=hyperparams['subsample'],num_round=hyperparams['num_round'],min_child_weight=hyperparams['min_child_weight'],max_depth=hyperparams['max_depth'],learning_rate=hyperparams['learning_rate'],gamma=hyperparams['gamma'],colsample_bytree=hyperparams['colsample_bytree'],verbosity=0,objective='binary:logistic',random_state=42)\n",
    "    xgb_model.fit(X,y)\n",
    "\n",
    "    print(y.value_counts())\n",
    "    predictions = xgb_model.predict(X_validate)\n",
    "    probabilities = xgb_model.predict_proba(X_validate)\n",
    "    tp, tp_scr, fp, fp_scr, tn, tn_scr, fn, fn_scr = model_results_analyzer(predictions, y_validate, target_value)\n",
    "\n",
    "    fi = xgb_model.feature_importances_\n",
    "    fi_list = []\n",
    "    counter = 0\n",
    "    for x in features:\n",
    "        fi_list.append({x:fi[counter]})\n",
    "        counter += 1\n",
    "    print(tp,fp,tn,fn)\n",
    "    return tp, tp_scr, fp, fp_scr, tn, tn_scr, fn, fn_scr,str(fi_list), predictions, probabilities\n",
    "\n",
    "\n",
    "def train_model_TSSim(features, dataset, validation_dataset, target_label, target_value, hyperparams):\n",
    "    dataset.loc[:, 'label'] = (dataset[target_label] > target_value).astype(int)\n",
    "    validation_dataset.loc[:, 'label'] = (validation_dataset[target_label] > target_value).astype(int)\n",
    "\n",
    "    dataset = dataset.round(5)\n",
    "    validation_dataset = validation_dataset.round(3)\n",
    "\n",
    "\n",
    "    X = dataset[features].astype(float)\n",
    "    y = dataset['label']\n",
    "\n",
    "    X_validate = validation_dataset[features].astype(float)\n",
    "    y_validate = validation_dataset['label']\n",
    "    \n",
    "\n",
    "    xgb_model = xgb.XGBClassifier(subsample=hyperparams['subsample'],num_round=hyperparams['num_round'],min_child_weight=hyperparams['min_child_weight'],max_depth=hyperparams['max_depth'],learning_rate=hyperparams['learning_rate'],gamma=hyperparams['gamma'],colsample_bytree=hyperparams['colsample_bytree'],verbosity=0,objective='binary:logistic',random_state=42)\n",
    "    xgb_model.fit(X,y)\n",
    "\n",
    "    predictions = xgb_model.predict(X_validate)\n",
    "    tp, tp_scr, fp, fp_scr, tn, tn_scr, fn, fn_scr = model_results_analyzer(predictions, y_validate, target_value)\n",
    "\n",
    "    return tp, tp_scr, fp, fp_scr, tn, tn_scr, fn, fn_scr,\"str(fi_list)\", predictions, \"probabilities\""
   ]
  },
  {
   "cell_type": "code",
   "execution_count": 21,
   "metadata": {},
   "outputs": [],
   "source": [
    "def model_runner_v2(model_name, dataset_name, title, features, target_label, target_percentile, start_date, end_date,deployment_date, feature_str, hyperparams_str, hyperparams,local_data, dataset_start_date):\n",
    "    validation_end_date = build_validation_dates_local(deployment_date)\n",
    "    validation_dataset = pull_validation_data_local(validation_end_date,deployment_date)\n",
    "    dataset = pull_training_data_local(end_date, dataset_start_date)\n",
    "    dates_list = pull_gmm_labels(deployment_date)\n",
    "    rm_dataset = dataset.loc[dataset['dt'].isin(dates_list)]\n",
    "    target_value = rm_dataset[target_label].quantile(target_percentile).round(3)\n",
    "    print(target_value)\n",
    "    print(len(rm_dataset)/len(dataset))\n",
    "    tp, tp_scr, fp, fp_scr, tn, tn_scr, fn, fn_scr, fi_list, predictions, probabilities = train_model(features, rm_dataset, validation_dataset, target_label, target_value, hyperparams)\n",
    "    response = create_dynamo_record(tp, tp_scr, fp, fp_scr, tn, tn_scr, fn, fn_scr, model_name, deployment_date, dataset_name,hyperparams_str,feature_str, f\"{target_value}+{target_label}\", fi_list)\n",
    "    validation_dataset['probabilities'] = probabilities[:,1]\n",
    "    validation_dataset['predictions'] = predictions\n",
    "    validation_dataset['target_value'] = target_value\n",
    "    validation_csv = validation_dataset.to_csv()\n",
    "    put_response = s3.put_object(Bucket=\"icarus-research-data\", Key=f\"backtesting_data/inv_alerts/{dataset_name}/{title}/{deployment_date.strftime('%Y-%m-%d')}.csv\", Body=validation_csv)\n",
    "    return \"response\"\n",
    "\n",
    "def model_runner_temporal_simulation(features, target_label, target_value,dataset_start_date,end_date,deployment_date,hyperparams):\n",
    "    validation_end_date = build_validation_dates_local(deployment_date)\n",
    "    dataset = pull_training_data_local(end_date, dataset_start_date)\n",
    "    validation_dataset = pull_validation_data_local(validation_end_date,deployment_date)\n",
    "    dataset.dropna(subset=[\"close_diff_deviation3\"],inplace=True)\n",
    "    validation_dataset.dropna(subset=[\"close_diff_deviation3\"],inplace=True)\n",
    "    dataset.dropna(subset=[\"close_diff_deviation\"],inplace=True)\n",
    "    validation_dataset.dropna(subset=[\"close_diff_deviation\"],inplace=True)\n",
    "    tp, tp_scr, fp, fp_scr, tn, tn_scr, fn, fn_scr, fi_list, predictions, probabilities = train_model_TSSim(features, dataset, validation_dataset, target_label, target_value, hyperparams)\n",
    "    return tp, fp, fn, tn \n",
    "\n",
    "def model_runner_data(start_date,end_date):\n",
    "    dates = build_date_list(start_date, end_date)\n",
    "    key_list = build_query_keys(dates)\n",
    "    print(key_list[-1])\n",
    "    train_data = create_training_data_local(key_list, 'full_alerts/weekly_exp_alerts/', 'inv-alerts', 'gainers', start_date.strftime('%Y-%m-%d %H:%M:%S'),end_date.strftime('%Y-%m-%d %H:%M:%S'))\n",
    "    # val_data = create_validation_data_local(key_list, 'full_alerts/trading_symbols_alerts/', 'inv-alerts', 'gainers', start_date.strftime('%Y-%m-%d %H:%M:%S'),end_date.strftime('%Y-%m-%d %H:%M:%S'))\n",
    "    return \"train_data\", \"val_data\""
   ]
  },
  {
   "cell_type": "code",
   "execution_count": 22,
   "metadata": {},
   "outputs": [],
   "source": [
    "def build_evaluation_period(eval_start, eval_end):\n",
    "    dates_list = []\n",
    "    while eval_start <= eval_end:\n",
    "        date_object = {\n",
    "            \"deployment_date\": eval_start,\n",
    "            \"dataset_end\": eval_start - timedelta(days=10),\n",
    "            \"dataset_start\": datetime(2018,1,1)\n",
    "        }\n",
    "        dates_list.append(date_object)\n",
    "        eval_start += timedelta(days=7)\n",
    "    return dates_list\n",
    "\n",
    "def pull_gmm_labels(date):\n",
    "    date_str = date.strftime('%Y-%m-%d')\n",
    "    data_20d = s3.get_object(Bucket=\"icarus-research-data\", Key=f'regime_modeling_data/gmm20d_labels_RM2/{date_str}.csv')\n",
    "    data_10d = s3.get_object(Bucket=\"icarus-research-data\", Key=f'regime_modeling_data/gmm10d_labels_RM2/{date_str}.csv')\n",
    "    data_3d = s3.get_object(Bucket=\"icarus-research-data\", Key=f'regime_modeling_data/gmm3d_labels_RM2/{date_str}.csv')\n",
    "\n",
    "    data_20d = pd.read_csv(data_20d.get(\"Body\"))\n",
    "    data_10d = pd.read_csv(data_10d.get(\"Body\"))\n",
    "    data_3d = pd.read_csv(data_3d.get(\"Body\"))\n",
    "\n",
    "    data_20d['dt'] = pd.to_datetime(data_20d['date'])\n",
    "    data_10d['dt'] = pd.to_datetime(data_10d['date'])\n",
    "    data_3d['dt'] = pd.to_datetime(data_3d['date'])\n",
    "\n",
    "    label_20d = data_20d['labels'].iloc[-1]\n",
    "    label_10d = data_10d['labels'].iloc[-1]\n",
    "    label_3d = data_3d['labels'].iloc[-1]\n",
    "\n",
    "    dates_20d = data_20d['dt'].loc[data_20d['labels'] == label_20d].tolist()\n",
    "    dates_10d = data_10d['dt'].loc[data_10d['labels'] == label_10d].tolist()\n",
    "    dates_3d = data_3d['dt'].loc[data_3d['labels'] == label_3d].tolist()\n",
    "\n",
    "    combined_list = list(set(dates_20d  + dates_3d))\n",
    "    return dates_20d"
   ]
  },
  {
   "cell_type": "code",
   "execution_count": 23,
   "metadata": {},
   "outputs": [
    {
     "name": "stdout",
     "output_type": "stream",
     "text": [
      "{'deployment_date': datetime.datetime(2022, 10, 3, 0, 0), 'dataset_end': datetime.datetime(2022, 9, 23, 0, 0), 'dataset_start': datetime.datetime(2018, 1, 1, 0, 0)}\n",
      "-0.027\n",
      "0.8193041946905971\n"
     ]
    },
    {
     "name": "stderr",
     "output_type": "stream",
     "text": [
      "/var/folders/tq/_9q_lv1s2bndbr3tzzn08x4r0000gn/T/ipykernel_13078/1039188303.py:2: SettingWithCopyWarning: \n",
      "A value is trying to be set on a copy of a slice from a DataFrame.\n",
      "Try using .loc[row_indexer,col_indexer] = value instead\n",
      "\n",
      "See the caveats in the documentation: https://pandas.pydata.org/pandas-docs/stable/user_guide/indexing.html#returning-a-view-versus-a-copy\n",
      "  dataset.loc[:, 'label'] = (dataset[target_label] < target_value).astype(int)\n"
     ]
    },
    {
     "name": "stdout",
     "output_type": "stream",
     "text": [
      "label\n",
      "0    49469\n",
      "1    37995\n",
      "Name: count, dtype: int64\n",
      "256 69 21 104\n",
      "{'model_name': 'MAP:RM220_TSSIM1_TL15-EXP_custHypTP0.43', 'deployment_date': '2022-10-03', 'algorithm_type': 'xgboost', 'dataset': 'MAP:RM220_TSSIM1_TL15-EXP_custHypTP0.43', 'TP': 256, 'TPpct': Decimal('0'), 'FP': 69, 'FPpct': Decimal('0'), 'TN': 21, 'TNpct': Decimal('0'), 'FN': 104, 'FNpct': Decimal('0'), 'precision_ratio': Decimal('3.710144927536232'), 'evaluation_timeperiod': '2022-10-03_2022-10-07', 'live': False, 'hyperparameters': {\"{'subsample': 0.6, 'num_round': 1000, 'min_child_weight': 10, 'max_depth': 10, 'learning_rate': 0.1, 'gamma': 2, 'colsample_bytree': 1}\"}, 'features': {\"['oneD_stddev50', 'rsi', 'close_diff', 'daily_volume_vol_diff_pct30', 'range_vol_diff5', 'SPY_diff', 'threeD_stddev50', 'close_diff3', 'min_volume_vol_diff_pct', 'month', 'return_vol_240M', 'range_vol', 'rsi5', 'roc', 'SPY_3D', 'roc5', 'roc_diff', 'price_25DDiff', 'daily_volume_vol_diff_pct', 'price_10DDiff', 'SPY_1D', 'hour_volume_vol_diff', 'hour_volume_vol_diff_pct', 'return_vol_10D', 'SPY_5D']\"}, 'target': '-0.027+three_min', 'feature_importances': \"[{'oneD_stddev50': 0.091955565}, {'rsi': 0.03397009}, {'close_diff': 0.030178811}, {'daily_volume_vol_diff_pct30': 0.029396243}, {'range_vol_diff5': 0.031808194}, {'SPY_diff': 0.028549498}, {'threeD_stddev50': 0.043556873}, {'close_diff3': 0.03219841}, {'min_volume_vol_diff_pct': 0.02483858}, {'month': 0.040022645}, {'return_vol_240M': 0.13216119}, {'range_vol': 0.036015563}, {'rsi5': 0.03527959}, {'roc': 0.034079544}, {'SPY_3D': 0.036042266}, {'roc5': 0.033563018}, {'roc_diff': 0.03516602}, {'price_25DDiff': 0.034470964}, {'daily_volume_vol_diff_pct': 0.03039863}, {'price_10DDiff': 0.036865894}, {'SPY_1D': 0.0375377}, {'hour_volume_vol_diff': 0.029214123}, {'hour_volume_vol_diff_pct': 0.028528186}, {'return_vol_10D': 0.038710102}, {'SPY_5D': 0.035492245}]\"}\n",
      "{'deployment_date': datetime.datetime(2022, 10, 10, 0, 0), 'dataset_end': datetime.datetime(2022, 9, 30, 0, 0), 'dataset_start': datetime.datetime(2018, 1, 1, 0, 0)}\n",
      "-0.027\n",
      "0.8192181043087284\n"
     ]
    },
    {
     "name": "stderr",
     "output_type": "stream",
     "text": [
      "/var/folders/tq/_9q_lv1s2bndbr3tzzn08x4r0000gn/T/ipykernel_13078/1039188303.py:2: SettingWithCopyWarning: \n",
      "A value is trying to be set on a copy of a slice from a DataFrame.\n",
      "Try using .loc[row_indexer,col_indexer] = value instead\n",
      "\n",
      "See the caveats in the documentation: https://pandas.pydata.org/pandas-docs/stable/user_guide/indexing.html#returning-a-view-versus-a-copy\n",
      "  dataset.loc[:, 'label'] = (dataset[target_label] < target_value).astype(int)\n"
     ]
    },
    {
     "name": "stdout",
     "output_type": "stream",
     "text": [
      "label\n",
      "0    49663\n",
      "1    38158\n",
      "Name: count, dtype: int64\n",
      "125 183 83 59\n",
      "{'model_name': 'MAP:RM220_TSSIM1_TL15-EXP_custHypTP0.43', 'deployment_date': '2022-10-10', 'algorithm_type': 'xgboost', 'dataset': 'MAP:RM220_TSSIM1_TL15-EXP_custHypTP0.43', 'TP': 125, 'TPpct': Decimal('0'), 'FP': 183, 'FPpct': Decimal('0'), 'TN': 83, 'TNpct': Decimal('0'), 'FN': 59, 'FNpct': Decimal('0'), 'precision_ratio': Decimal('0.6830601092896175'), 'evaluation_timeperiod': '2022-10-10_2022-10-14', 'live': False, 'hyperparameters': {\"{'subsample': 0.6, 'num_round': 1000, 'min_child_weight': 10, 'max_depth': 10, 'learning_rate': 0.1, 'gamma': 2, 'colsample_bytree': 1}\"}, 'features': {\"['oneD_stddev50', 'rsi', 'close_diff', 'daily_volume_vol_diff_pct30', 'range_vol_diff5', 'SPY_diff', 'threeD_stddev50', 'close_diff3', 'min_volume_vol_diff_pct', 'month', 'return_vol_240M', 'range_vol', 'rsi5', 'roc', 'SPY_3D', 'roc5', 'roc_diff', 'price_25DDiff', 'daily_volume_vol_diff_pct', 'price_10DDiff', 'SPY_1D', 'hour_volume_vol_diff', 'hour_volume_vol_diff_pct', 'return_vol_10D', 'SPY_5D']\"}, 'target': '-0.027+three_min', 'feature_importances': \"[{'oneD_stddev50': 0.09495024}, {'rsi': 0.034161527}, {'close_diff': 0.032058563}, {'daily_volume_vol_diff_pct30': 0.030109694}, {'range_vol_diff5': 0.031151544}, {'SPY_diff': 0.02861542}, {'threeD_stddev50': 0.04465534}, {'close_diff3': 0.03278543}, {'min_volume_vol_diff_pct': 0.024743004}, {'month': 0.04040388}, {'return_vol_240M': 0.12875886}, {'range_vol': 0.035027284}, {'rsi5': 0.03556006}, {'roc': 0.035105713}, {'SPY_3D': 0.035679642}, {'roc5': 0.03363457}, {'roc_diff': 0.03494751}, {'price_25DDiff': 0.03507145}, {'daily_volume_vol_diff_pct': 0.02890895}, {'price_10DDiff': 0.035702214}, {'SPY_1D': 0.036977194}, {'hour_volume_vol_diff': 0.029494405}, {'hour_volume_vol_diff_pct': 0.028596222}, {'return_vol_10D': 0.037535604}, {'SPY_5D': 0.03536571}]\"}\n",
      "{'deployment_date': datetime.datetime(2022, 10, 17, 0, 0), 'dataset_end': datetime.datetime(2022, 10, 7, 0, 0), 'dataset_start': datetime.datetime(2018, 1, 1, 0, 0)}\n",
      "-0.032\n",
      "0.5014259040789217\n"
     ]
    },
    {
     "name": "stderr",
     "output_type": "stream",
     "text": [
      "/var/folders/tq/_9q_lv1s2bndbr3tzzn08x4r0000gn/T/ipykernel_13078/1039188303.py:2: SettingWithCopyWarning: \n",
      "A value is trying to be set on a copy of a slice from a DataFrame.\n",
      "Try using .loc[row_indexer,col_indexer] = value instead\n",
      "\n",
      "See the caveats in the documentation: https://pandas.pydata.org/pandas-docs/stable/user_guide/indexing.html#returning-a-view-versus-a-copy\n",
      "  dataset.loc[:, 'label'] = (dataset[target_label] < target_value).astype(int)\n"
     ]
    },
    {
     "name": "stdout",
     "output_type": "stream",
     "text": [
      "label\n",
      "0    30535\n",
      "1    23444\n",
      "Name: count, dtype: int64\n",
      "45 179 167 46\n",
      "{'model_name': 'MAP:RM220_TSSIM1_TL15-EXP_custHypTP0.43', 'deployment_date': '2022-10-17', 'algorithm_type': 'xgboost', 'dataset': 'MAP:RM220_TSSIM1_TL15-EXP_custHypTP0.43', 'TP': 45, 'TPpct': Decimal('0'), 'FP': 179, 'FPpct': Decimal('0'), 'TN': 167, 'TNpct': Decimal('0'), 'FN': 46, 'FNpct': Decimal('0'), 'precision_ratio': Decimal('0.25139664804469275'), 'evaluation_timeperiod': '2022-10-17_2022-10-21', 'live': False, 'hyperparameters': {\"{'subsample': 0.6, 'num_round': 1000, 'min_child_weight': 10, 'max_depth': 10, 'learning_rate': 0.1, 'gamma': 2, 'colsample_bytree': 1}\"}, 'features': {\"['oneD_stddev50', 'rsi', 'close_diff', 'daily_volume_vol_diff_pct30', 'range_vol_diff5', 'SPY_diff', 'threeD_stddev50', 'close_diff3', 'min_volume_vol_diff_pct', 'month', 'return_vol_240M', 'range_vol', 'rsi5', 'roc', 'SPY_3D', 'roc5', 'roc_diff', 'price_25DDiff', 'daily_volume_vol_diff_pct', 'price_10DDiff', 'SPY_1D', 'hour_volume_vol_diff', 'hour_volume_vol_diff_pct', 'return_vol_10D', 'SPY_5D']\"}, 'target': '-0.032+three_min', 'feature_importances': \"[{'oneD_stddev50': 0.059712987}, {'rsi': 0.0350131}, {'close_diff': 0.03269095}, {'daily_volume_vol_diff_pct30': 0.028351396}, {'range_vol_diff5': 0.03192351}, {'SPY_diff': 0.029896792}, {'threeD_stddev50': 0.042454597}, {'close_diff3': 0.034466624}, {'min_volume_vol_diff_pct': 0.025205292}, {'month': 0.04645514}, {'return_vol_240M': 0.14030899}, {'range_vol': 0.03179685}, {'rsi5': 0.033461675}, {'roc': 0.035778355}, {'SPY_3D': 0.038402986}, {'roc5': 0.036351874}, {'roc_diff': 0.036383748}, {'price_25DDiff': 0.035775304}, {'daily_volume_vol_diff_pct': 0.02908194}, {'price_10DDiff': 0.038072832}, {'SPY_1D': 0.038873933}, {'hour_volume_vol_diff': 0.030867584}, {'hour_volume_vol_diff_pct': 0.02814948}, {'return_vol_10D': 0.042464323}, {'SPY_5D': 0.03805979}]\"}\n",
      "{'deployment_date': datetime.datetime(2022, 10, 24, 0, 0), 'dataset_end': datetime.datetime(2022, 10, 14, 0, 0), 'dataset_start': datetime.datetime(2018, 1, 1, 0, 0)}\n",
      "-0.032\n",
      "0.5001711362522085\n"
     ]
    },
    {
     "name": "stderr",
     "output_type": "stream",
     "text": [
      "/var/folders/tq/_9q_lv1s2bndbr3tzzn08x4r0000gn/T/ipykernel_13078/1039188303.py:2: SettingWithCopyWarning: \n",
      "A value is trying to be set on a copy of a slice from a DataFrame.\n",
      "Try using .loc[row_indexer,col_indexer] = value instead\n",
      "\n",
      "See the caveats in the documentation: https://pandas.pydata.org/pandas-docs/stable/user_guide/indexing.html#returning-a-view-versus-a-copy\n",
      "  dataset.loc[:, 'label'] = (dataset[target_label] < target_value).astype(int)\n"
     ]
    },
    {
     "name": "stdout",
     "output_type": "stream",
     "text": [
      "label\n",
      "0    30633\n",
      "1    23436\n",
      "Name: count, dtype: int64\n",
      "81 122 116 131\n",
      "{'model_name': 'MAP:RM220_TSSIM1_TL15-EXP_custHypTP0.43', 'deployment_date': '2022-10-24', 'algorithm_type': 'xgboost', 'dataset': 'MAP:RM220_TSSIM1_TL15-EXP_custHypTP0.43', 'TP': 81, 'TPpct': Decimal('0'), 'FP': 122, 'FPpct': Decimal('0'), 'TN': 116, 'TNpct': Decimal('0'), 'FN': 131, 'FNpct': Decimal('0'), 'precision_ratio': Decimal('0.6639344262295082'), 'evaluation_timeperiod': '2022-10-24_2022-10-28', 'live': False, 'hyperparameters': {\"{'subsample': 0.6, 'num_round': 1000, 'min_child_weight': 10, 'max_depth': 10, 'learning_rate': 0.1, 'gamma': 2, 'colsample_bytree': 1}\"}, 'features': {\"['oneD_stddev50', 'rsi', 'close_diff', 'daily_volume_vol_diff_pct30', 'range_vol_diff5', 'SPY_diff', 'threeD_stddev50', 'close_diff3', 'min_volume_vol_diff_pct', 'month', 'return_vol_240M', 'range_vol', 'rsi5', 'roc', 'SPY_3D', 'roc5', 'roc_diff', 'price_25DDiff', 'daily_volume_vol_diff_pct', 'price_10DDiff', 'SPY_1D', 'hour_volume_vol_diff', 'hour_volume_vol_diff_pct', 'return_vol_10D', 'SPY_5D']\"}, 'target': '-0.032+three_min', 'feature_importances': \"[{'oneD_stddev50': 0.057947144}, {'rsi': 0.03618045}, {'close_diff': 0.031243127}, {'daily_volume_vol_diff_pct30': 0.02818239}, {'range_vol_diff5': 0.03197799}, {'SPY_diff': 0.029735975}, {'threeD_stddev50': 0.04211893}, {'close_diff3': 0.033469632}, {'min_volume_vol_diff_pct': 0.025474554}, {'month': 0.0463007}, {'return_vol_240M': 0.13791859}, {'range_vol': 0.033275522}, {'rsi5': 0.0351153}, {'roc': 0.03495324}, {'SPY_3D': 0.038039874}, {'roc5': 0.034478236}, {'roc_diff': 0.037664846}, {'price_25DDiff': 0.03718698}, {'daily_volume_vol_diff_pct': 0.02890395}, {'price_10DDiff': 0.038639892}, {'SPY_1D': 0.03958069}, {'hour_volume_vol_diff': 0.02973468}, {'hour_volume_vol_diff_pct': 0.02960592}, {'return_vol_10D': 0.04330955}, {'SPY_5D': 0.038961843}]\"}\n",
      "{'deployment_date': datetime.datetime(2022, 10, 31, 0, 0), 'dataset_end': datetime.datetime(2022, 10, 21, 0, 0), 'dataset_start': datetime.datetime(2018, 1, 1, 0, 0)}\n",
      "-0.027\n",
      "0.8214565387627252\n"
     ]
    },
    {
     "name": "stderr",
     "output_type": "stream",
     "text": [
      "/var/folders/tq/_9q_lv1s2bndbr3tzzn08x4r0000gn/T/ipykernel_13078/1039188303.py:2: SettingWithCopyWarning: \n",
      "A value is trying to be set on a copy of a slice from a DataFrame.\n",
      "Try using .loc[row_indexer,col_indexer] = value instead\n",
      "\n",
      "See the caveats in the documentation: https://pandas.pydata.org/pandas-docs/stable/user_guide/indexing.html#returning-a-view-versus-a-copy\n",
      "  dataset.loc[:, 'label'] = (dataset[target_label] < target_value).astype(int)\n"
     ]
    },
    {
     "name": "stdout",
     "output_type": "stream",
     "text": [
      "label\n",
      "0    50447\n",
      "1    38718\n",
      "Name: count, dtype: int64\n",
      "207 92 54 91\n",
      "{'model_name': 'MAP:RM220_TSSIM1_TL15-EXP_custHypTP0.43', 'deployment_date': '2022-10-31', 'algorithm_type': 'xgboost', 'dataset': 'MAP:RM220_TSSIM1_TL15-EXP_custHypTP0.43', 'TP': 207, 'TPpct': Decimal('0'), 'FP': 92, 'FPpct': Decimal('0'), 'TN': 54, 'TNpct': Decimal('0'), 'FN': 91, 'FNpct': Decimal('0'), 'precision_ratio': Decimal('2.25'), 'evaluation_timeperiod': '2022-10-31_2022-11-04', 'live': False, 'hyperparameters': {\"{'subsample': 0.6, 'num_round': 1000, 'min_child_weight': 10, 'max_depth': 10, 'learning_rate': 0.1, 'gamma': 2, 'colsample_bytree': 1}\"}, 'features': {\"['oneD_stddev50', 'rsi', 'close_diff', 'daily_volume_vol_diff_pct30', 'range_vol_diff5', 'SPY_diff', 'threeD_stddev50', 'close_diff3', 'min_volume_vol_diff_pct', 'month', 'return_vol_240M', 'range_vol', 'rsi5', 'roc', 'SPY_3D', 'roc5', 'roc_diff', 'price_25DDiff', 'daily_volume_vol_diff_pct', 'price_10DDiff', 'SPY_1D', 'hour_volume_vol_diff', 'hour_volume_vol_diff_pct', 'return_vol_10D', 'SPY_5D']\"}, 'target': '-0.027+three_min', 'feature_importances': \"[{'oneD_stddev50': 0.09542584}, {'rsi': 0.03445067}, {'close_diff': 0.031898666}, {'daily_volume_vol_diff_pct30': 0.03021509}, {'range_vol_diff5': 0.030841367}, {'SPY_diff': 0.028041156}, {'threeD_stddev50': 0.04418542}, {'close_diff3': 0.033017684}, {'min_volume_vol_diff_pct': 0.024678772}, {'month': 0.041865375}, {'return_vol_240M': 0.123172596}, {'range_vol': 0.036306355}, {'rsi5': 0.03575363}, {'roc': 0.034285795}, {'SPY_3D': 0.036203258}, {'roc5': 0.033565663}, {'roc_diff': 0.035408124}, {'price_25DDiff': 0.034245405}, {'daily_volume_vol_diff_pct': 0.030555923}, {'price_10DDiff': 0.036015917}, {'SPY_1D': 0.0383643}, {'hour_volume_vol_diff': 0.028675674}, {'hour_volume_vol_diff_pct': 0.02905213}, {'return_vol_10D': 0.03742437}, {'SPY_5D': 0.036350925}]\"}\n",
      "{'deployment_date': datetime.datetime(2022, 11, 7, 0, 0), 'dataset_end': datetime.datetime(2022, 10, 28, 0, 0), 'dataset_start': datetime.datetime(2018, 1, 1, 0, 0)}\n",
      "-0.032\n",
      "0.5067480159640351\n"
     ]
    },
    {
     "name": "stderr",
     "output_type": "stream",
     "text": [
      "/var/folders/tq/_9q_lv1s2bndbr3tzzn08x4r0000gn/T/ipykernel_13078/1039188303.py:2: SettingWithCopyWarning: \n",
      "A value is trying to be set on a copy of a slice from a DataFrame.\n",
      "Try using .loc[row_indexer,col_indexer] = value instead\n",
      "\n",
      "See the caveats in the documentation: https://pandas.pydata.org/pandas-docs/stable/user_guide/indexing.html#returning-a-view-versus-a-copy\n",
      "  dataset.loc[:, 'label'] = (dataset[target_label] < target_value).astype(int)\n"
     ]
    },
    {
     "name": "stdout",
     "output_type": "stream",
     "text": [
      "label\n",
      "0    31371\n",
      "1    23862\n",
      "Name: count, dtype: int64\n",
      "77 225 92 56\n",
      "{'model_name': 'MAP:RM220_TSSIM1_TL15-EXP_custHypTP0.43', 'deployment_date': '2022-11-07', 'algorithm_type': 'xgboost', 'dataset': 'MAP:RM220_TSSIM1_TL15-EXP_custHypTP0.43', 'TP': 77, 'TPpct': Decimal('0'), 'FP': 225, 'FPpct': Decimal('0'), 'TN': 92, 'TNpct': Decimal('0'), 'FN': 56, 'FNpct': Decimal('0'), 'precision_ratio': Decimal('0.3422222222222222'), 'evaluation_timeperiod': '2022-11-07_2022-11-11', 'live': False, 'hyperparameters': {\"{'subsample': 0.6, 'num_round': 1000, 'min_child_weight': 10, 'max_depth': 10, 'learning_rate': 0.1, 'gamma': 2, 'colsample_bytree': 1}\"}, 'features': {\"['oneD_stddev50', 'rsi', 'close_diff', 'daily_volume_vol_diff_pct30', 'range_vol_diff5', 'SPY_diff', 'threeD_stddev50', 'close_diff3', 'min_volume_vol_diff_pct', 'month', 'return_vol_240M', 'range_vol', 'rsi5', 'roc', 'SPY_3D', 'roc5', 'roc_diff', 'price_25DDiff', 'daily_volume_vol_diff_pct', 'price_10DDiff', 'SPY_1D', 'hour_volume_vol_diff', 'hour_volume_vol_diff_pct', 'return_vol_10D', 'SPY_5D']\"}, 'target': '-0.032+three_min', 'feature_importances': \"[{'oneD_stddev50': 0.07813523}, {'rsi': 0.036028206}, {'close_diff': 0.032765515}, {'daily_volume_vol_diff_pct30': 0.029743208}, {'range_vol_diff5': 0.031881124}, {'SPY_diff': 0.02966338}, {'threeD_stddev50': 0.04239575}, {'close_diff3': 0.033358112}, {'min_volume_vol_diff_pct': 0.025207937}, {'month': 0.04599861}, {'return_vol_240M': 0.11499392}, {'range_vol': 0.03304645}, {'rsi5': 0.034795348}, {'roc': 0.03623275}, {'SPY_3D': 0.039772917}, {'roc5': 0.035106115}, {'roc_diff': 0.03783677}, {'price_25DDiff': 0.035608657}, {'daily_volume_vol_diff_pct': 0.030137826}, {'price_10DDiff': 0.03857578}, {'SPY_1D': 0.03999315}, {'hour_volume_vol_diff': 0.030107118}, {'hour_volume_vol_diff_pct': 0.029873693}, {'return_vol_10D': 0.04031596}, {'SPY_5D': 0.038426433}]\"}\n",
      "{'deployment_date': datetime.datetime(2022, 11, 14, 0, 0), 'dataset_end': datetime.datetime(2022, 11, 4, 0, 0), 'dataset_start': datetime.datetime(2018, 1, 1, 0, 0)}\n",
      "-0.024\n",
      "0.43464395690750096\n"
     ]
    },
    {
     "name": "stderr",
     "output_type": "stream",
     "text": [
      "/var/folders/tq/_9q_lv1s2bndbr3tzzn08x4r0000gn/T/ipykernel_13078/1039188303.py:2: SettingWithCopyWarning: \n",
      "A value is trying to be set on a copy of a slice from a DataFrame.\n",
      "Try using .loc[row_indexer,col_indexer] = value instead\n",
      "\n",
      "See the caveats in the documentation: https://pandas.pydata.org/pandas-docs/stable/user_guide/indexing.html#returning-a-view-versus-a-copy\n",
      "  dataset.loc[:, 'label'] = (dataset[target_label] < target_value).astype(int)\n"
     ]
    },
    {
     "name": "stdout",
     "output_type": "stream",
     "text": [
      "label\n",
      "0    27078\n",
      "1    20489\n",
      "Name: count, dtype: int64\n",
      "201 41 95 113\n",
      "{'model_name': 'MAP:RM220_TSSIM1_TL15-EXP_custHypTP0.43', 'deployment_date': '2022-11-14', 'algorithm_type': 'xgboost', 'dataset': 'MAP:RM220_TSSIM1_TL15-EXP_custHypTP0.43', 'TP': 201, 'TPpct': Decimal('0'), 'FP': 41, 'FPpct': Decimal('0'), 'TN': 95, 'TNpct': Decimal('0'), 'FN': 113, 'FNpct': Decimal('0'), 'precision_ratio': Decimal('4.902439024390244'), 'evaluation_timeperiod': '2022-11-14_2022-11-18', 'live': False, 'hyperparameters': {\"{'subsample': 0.6, 'num_round': 1000, 'min_child_weight': 10, 'max_depth': 10, 'learning_rate': 0.1, 'gamma': 2, 'colsample_bytree': 1}\"}, 'features': {\"['oneD_stddev50', 'rsi', 'close_diff', 'daily_volume_vol_diff_pct30', 'range_vol_diff5', 'SPY_diff', 'threeD_stddev50', 'close_diff3', 'min_volume_vol_diff_pct', 'month', 'return_vol_240M', 'range_vol', 'rsi5', 'roc', 'SPY_3D', 'roc5', 'roc_diff', 'price_25DDiff', 'daily_volume_vol_diff_pct', 'price_10DDiff', 'SPY_1D', 'hour_volume_vol_diff', 'hour_volume_vol_diff_pct', 'return_vol_10D', 'SPY_5D']\"}, 'target': '-0.024+three_min', 'feature_importances': \"[{'oneD_stddev50': 0.11744654}, {'rsi': 0.0363048}, {'close_diff': 0.031463586}, {'daily_volume_vol_diff_pct30': 0.03150995}, {'range_vol_diff5': 0.033099078}, {'SPY_diff': 0.030327532}, {'threeD_stddev50': 0.0478259}, {'close_diff3': 0.033998795}, {'min_volume_vol_diff_pct': 0.025049683}, {'month': 0.04392241}, {'return_vol_240M': 0.06474394}, {'range_vol': 0.050510447}, {'rsi5': 0.035129063}, {'roc': 0.035534564}, {'SPY_3D': 0.037705645}, {'roc5': 0.0386263}, {'roc_diff': 0.037759483}, {'price_25DDiff': 0.038664866}, {'daily_volume_vol_diff_pct': 0.03088832}, {'price_10DDiff': 0.034729946}, {'SPY_1D': 0.03515497}, {'hour_volume_vol_diff': 0.029931834}, {'hour_volume_vol_diff_pct': 0.029076422}, {'return_vol_10D': 0.03609696}, {'SPY_5D': 0.034498975}]\"}\n",
      "{'deployment_date': datetime.datetime(2022, 11, 21, 0, 0), 'dataset_end': datetime.datetime(2022, 11, 11, 0, 0), 'dataset_start': datetime.datetime(2018, 1, 1, 0, 0)}\n",
      "-0.032\n",
      "0.5752259097816887\n"
     ]
    },
    {
     "name": "stderr",
     "output_type": "stream",
     "text": [
      "/var/folders/tq/_9q_lv1s2bndbr3tzzn08x4r0000gn/T/ipykernel_13078/1039188303.py:2: SettingWithCopyWarning: \n",
      "A value is trying to be set on a copy of a slice from a DataFrame.\n",
      "Try using .loc[row_indexer,col_indexer] = value instead\n",
      "\n",
      "See the caveats in the documentation: https://pandas.pydata.org/pandas-docs/stable/user_guide/indexing.html#returning-a-view-versus-a-copy\n",
      "  dataset.loc[:, 'label'] = (dataset[target_label] < target_value).astype(int)\n"
     ]
    },
    {
     "name": "stdout",
     "output_type": "stream",
     "text": [
      "label\n",
      "0    35697\n",
      "1    27514\n",
      "Name: count, dtype: int64\n",
      "36 46 182 96\n",
      "{'model_name': 'MAP:RM220_TSSIM1_TL15-EXP_custHypTP0.43', 'deployment_date': '2022-11-21', 'algorithm_type': 'xgboost', 'dataset': 'MAP:RM220_TSSIM1_TL15-EXP_custHypTP0.43', 'TP': 36, 'TPpct': Decimal('0'), 'FP': 46, 'FPpct': Decimal('0'), 'TN': 182, 'TNpct': Decimal('0'), 'FN': 96, 'FNpct': Decimal('0'), 'precision_ratio': Decimal('0.782608695652174'), 'evaluation_timeperiod': '2022-11-21_2022-11-25', 'live': False, 'hyperparameters': {\"{'subsample': 0.6, 'num_round': 1000, 'min_child_weight': 10, 'max_depth': 10, 'learning_rate': 0.1, 'gamma': 2, 'colsample_bytree': 1}\"}, 'features': {\"['oneD_stddev50', 'rsi', 'close_diff', 'daily_volume_vol_diff_pct30', 'range_vol_diff5', 'SPY_diff', 'threeD_stddev50', 'close_diff3', 'min_volume_vol_diff_pct', 'month', 'return_vol_240M', 'range_vol', 'rsi5', 'roc', 'SPY_3D', 'roc5', 'roc_diff', 'price_25DDiff', 'daily_volume_vol_diff_pct', 'price_10DDiff', 'SPY_1D', 'hour_volume_vol_diff', 'hour_volume_vol_diff_pct', 'return_vol_10D', 'SPY_5D']\"}, 'target': '-0.032+three_min', 'feature_importances': \"[{'oneD_stddev50': 0.06240341}, {'rsi': 0.035939954}, {'close_diff': 0.031634074}, {'daily_volume_vol_diff_pct30': 0.028261624}, {'range_vol_diff5': 0.032281328}, {'SPY_diff': 0.029661328}, {'threeD_stddev50': 0.040682163}, {'close_diff3': 0.035710957}, {'min_volume_vol_diff_pct': 0.02474471}, {'month': 0.04430611}, {'return_vol_240M': 0.1335933}, {'range_vol': 0.034372754}, {'rsi5': 0.03408424}, {'roc': 0.03504162}, {'SPY_3D': 0.03840074}, {'roc5': 0.034794625}, {'roc_diff': 0.036279608}, {'price_25DDiff': 0.037786}, {'daily_volume_vol_diff_pct': 0.030405357}, {'price_10DDiff': 0.03710655}, {'SPY_1D': 0.03799598}, {'hour_volume_vol_diff': 0.029646778}, {'hour_volume_vol_diff_pct': 0.029328734}, {'return_vol_10D': 0.047523797}, {'SPY_5D': 0.03801419}]\"}\n",
      "{'deployment_date': datetime.datetime(2022, 11, 28, 0, 0), 'dataset_end': datetime.datetime(2022, 11, 18, 0, 0), 'dataset_start': datetime.datetime(2018, 1, 1, 0, 0)}\n",
      "-0.027\n",
      "0.8227825157016105\n"
     ]
    },
    {
     "name": "stderr",
     "output_type": "stream",
     "text": [
      "/var/folders/tq/_9q_lv1s2bndbr3tzzn08x4r0000gn/T/ipykernel_13078/1039188303.py:2: SettingWithCopyWarning: \n",
      "A value is trying to be set on a copy of a slice from a DataFrame.\n",
      "Try using .loc[row_indexer,col_indexer] = value instead\n",
      "\n",
      "See the caveats in the documentation: https://pandas.pydata.org/pandas-docs/stable/user_guide/indexing.html#returning-a-view-versus-a-copy\n",
      "  dataset.loc[:, 'label'] = (dataset[target_label] < target_value).astype(int)\n"
     ]
    },
    {
     "name": "stdout",
     "output_type": "stream",
     "text": [
      "label\n",
      "0    51197\n",
      "1    39588\n",
      "Name: count, dtype: int64\n",
      "102 35 163 150\n",
      "{'model_name': 'MAP:RM220_TSSIM1_TL15-EXP_custHypTP0.43', 'deployment_date': '2022-11-28', 'algorithm_type': 'xgboost', 'dataset': 'MAP:RM220_TSSIM1_TL15-EXP_custHypTP0.43', 'TP': 102, 'TPpct': Decimal('0'), 'FP': 35, 'FPpct': Decimal('0'), 'TN': 163, 'TNpct': Decimal('0'), 'FN': 150, 'FNpct': Decimal('0'), 'precision_ratio': Decimal('2.914285714285714'), 'evaluation_timeperiod': '2022-11-28_2022-12-02', 'live': False, 'hyperparameters': {\"{'subsample': 0.6, 'num_round': 1000, 'min_child_weight': 10, 'max_depth': 10, 'learning_rate': 0.1, 'gamma': 2, 'colsample_bytree': 1}\"}, 'features': {\"['oneD_stddev50', 'rsi', 'close_diff', 'daily_volume_vol_diff_pct30', 'range_vol_diff5', 'SPY_diff', 'threeD_stddev50', 'close_diff3', 'min_volume_vol_diff_pct', 'month', 'return_vol_240M', 'range_vol', 'rsi5', 'roc', 'SPY_3D', 'roc5', 'roc_diff', 'price_25DDiff', 'daily_volume_vol_diff_pct', 'price_10DDiff', 'SPY_1D', 'hour_volume_vol_diff', 'hour_volume_vol_diff_pct', 'return_vol_10D', 'SPY_5D']\"}, 'target': '-0.027+three_min', 'feature_importances': \"[{'oneD_stddev50': 0.07703739}, {'rsi': 0.03394125}, {'close_diff': 0.03127693}, {'daily_volume_vol_diff_pct30': 0.029242733}, {'range_vol_diff5': 0.031341925}, {'SPY_diff': 0.027494533}, {'threeD_stddev50': 0.04567222}, {'close_diff3': 0.032715805}, {'min_volume_vol_diff_pct': 0.024533069}, {'month': 0.040518876}, {'return_vol_240M': 0.14843361}, {'range_vol': 0.03466316}, {'rsi5': 0.03474577}, {'roc': 0.03345785}, {'SPY_3D': 0.03608451}, {'roc5': 0.03349747}, {'roc_diff': 0.034402207}, {'price_25DDiff': 0.035459746}, {'daily_volume_vol_diff_pct': 0.029342674}, {'price_10DDiff': 0.036095433}, {'SPY_1D': 0.037824064}, {'hour_volume_vol_diff': 0.029171107}, {'hour_volume_vol_diff_pct': 0.029581893}, {'return_vol_10D': 0.03738541}, {'SPY_5D': 0.036080413}]\"}\n",
      "{'deployment_date': datetime.datetime(2022, 12, 5, 0, 0), 'dataset_end': datetime.datetime(2022, 11, 25, 0, 0), 'dataset_start': datetime.datetime(2018, 1, 1, 0, 0)}\n",
      "-0.025\n",
      "0.4536445677016053\n"
     ]
    },
    {
     "name": "stderr",
     "output_type": "stream",
     "text": [
      "/var/folders/tq/_9q_lv1s2bndbr3tzzn08x4r0000gn/T/ipykernel_13078/1039188303.py:2: SettingWithCopyWarning: \n",
      "A value is trying to be set on a copy of a slice from a DataFrame.\n",
      "Try using .loc[row_indexer,col_indexer] = value instead\n",
      "\n",
      "See the caveats in the documentation: https://pandas.pydata.org/pandas-docs/stable/user_guide/indexing.html#returning-a-view-versus-a-copy\n",
      "  dataset.loc[:, 'label'] = (dataset[target_label] < target_value).astype(int)\n"
     ]
    },
    {
     "name": "stdout",
     "output_type": "stream",
     "text": [
      "label\n",
      "0    28860\n",
      "1    21358\n",
      "Name: count, dtype: int64\n",
      "85 41 172 147\n",
      "{'model_name': 'MAP:RM220_TSSIM1_TL15-EXP_custHypTP0.43', 'deployment_date': '2022-12-05', 'algorithm_type': 'xgboost', 'dataset': 'MAP:RM220_TSSIM1_TL15-EXP_custHypTP0.43', 'TP': 85, 'TPpct': Decimal('0'), 'FP': 41, 'FPpct': Decimal('0'), 'TN': 172, 'TNpct': Decimal('0'), 'FN': 147, 'FNpct': Decimal('0'), 'precision_ratio': Decimal('2.073170731707317'), 'evaluation_timeperiod': '2022-12-05_2022-12-09', 'live': False, 'hyperparameters': {\"{'subsample': 0.6, 'num_round': 1000, 'min_child_weight': 10, 'max_depth': 10, 'learning_rate': 0.1, 'gamma': 2, 'colsample_bytree': 1}\"}, 'features': {\"['oneD_stddev50', 'rsi', 'close_diff', 'daily_volume_vol_diff_pct30', 'range_vol_diff5', 'SPY_diff', 'threeD_stddev50', 'close_diff3', 'min_volume_vol_diff_pct', 'month', 'return_vol_240M', 'range_vol', 'rsi5', 'roc', 'SPY_3D', 'roc5', 'roc_diff', 'price_25DDiff', 'daily_volume_vol_diff_pct', 'price_10DDiff', 'SPY_1D', 'hour_volume_vol_diff', 'hour_volume_vol_diff_pct', 'return_vol_10D', 'SPY_5D']\"}, 'target': '-0.025+three_min', 'feature_importances': \"[{'oneD_stddev50': 0.11782523}, {'rsi': 0.036741614}, {'close_diff': 0.032310195}, {'daily_volume_vol_diff_pct30': 0.030840792}, {'range_vol_diff5': 0.03218768}, {'SPY_diff': 0.028916014}, {'threeD_stddev50': 0.05047282}, {'close_diff3': 0.03319361}, {'min_volume_vol_diff_pct': 0.024762662}, {'month': 0.043711197}, {'return_vol_240M': 0.060505796}, {'range_vol': 0.057061456}, {'rsi5': 0.036895167}, {'roc': 0.035545696}, {'SPY_3D': 0.037033115}, {'roc5': 0.03599732}, {'roc_diff': 0.038497757}, {'price_25DDiff': 0.036731366}, {'daily_volume_vol_diff_pct': 0.030504398}, {'price_10DDiff': 0.03671861}, {'SPY_1D': 0.033232205}, {'hour_volume_vol_diff': 0.030233422}, {'hour_volume_vol_diff_pct': 0.030105108}, {'return_vol_10D': 0.035607554}, {'SPY_5D': 0.034369234}]\"}\n",
      "{'deployment_date': datetime.datetime(2022, 12, 12, 0, 0), 'dataset_end': datetime.datetime(2022, 12, 2, 0, 0), 'dataset_start': datetime.datetime(2018, 1, 1, 0, 0)}\n",
      "-0.032\n",
      "0.4891631953503855\n"
     ]
    },
    {
     "name": "stderr",
     "output_type": "stream",
     "text": [
      "/var/folders/tq/_9q_lv1s2bndbr3tzzn08x4r0000gn/T/ipykernel_13078/1039188303.py:2: SettingWithCopyWarning: \n",
      "A value is trying to be set on a copy of a slice from a DataFrame.\n",
      "Try using .loc[row_indexer,col_indexer] = value instead\n",
      "\n",
      "See the caveats in the documentation: https://pandas.pydata.org/pandas-docs/stable/user_guide/indexing.html#returning-a-view-versus-a-copy\n",
      "  dataset.loc[:, 'label'] = (dataset[target_label] < target_value).astype(int)\n"
     ]
    },
    {
     "name": "stdout",
     "output_type": "stream",
     "text": [
      "label\n",
      "0    31041\n",
      "1    23329\n",
      "Name: count, dtype: int64\n",
      "215 45 45 143\n",
      "{'model_name': 'MAP:RM220_TSSIM1_TL15-EXP_custHypTP0.43', 'deployment_date': '2022-12-12', 'algorithm_type': 'xgboost', 'dataset': 'MAP:RM220_TSSIM1_TL15-EXP_custHypTP0.43', 'TP': 215, 'TPpct': Decimal('0'), 'FP': 45, 'FPpct': Decimal('0'), 'TN': 45, 'TNpct': Decimal('0'), 'FN': 143, 'FNpct': Decimal('0'), 'precision_ratio': Decimal('4.777777777777778'), 'evaluation_timeperiod': '2022-12-12_2022-12-16', 'live': False, 'hyperparameters': {\"{'subsample': 0.6, 'num_round': 1000, 'min_child_weight': 10, 'max_depth': 10, 'learning_rate': 0.1, 'gamma': 2, 'colsample_bytree': 1}\"}, 'features': {\"['oneD_stddev50', 'rsi', 'close_diff', 'daily_volume_vol_diff_pct30', 'range_vol_diff5', 'SPY_diff', 'threeD_stddev50', 'close_diff3', 'min_volume_vol_diff_pct', 'month', 'return_vol_240M', 'range_vol', 'rsi5', 'roc', 'SPY_3D', 'roc5', 'roc_diff', 'price_25DDiff', 'daily_volume_vol_diff_pct', 'price_10DDiff', 'SPY_1D', 'hour_volume_vol_diff', 'hour_volume_vol_diff_pct', 'return_vol_10D', 'SPY_5D']\"}, 'target': '-0.032+three_min', 'feature_importances': \"[{'oneD_stddev50': 0.062074512}, {'rsi': 0.03527344}, {'close_diff': 0.0317411}, {'daily_volume_vol_diff_pct30': 0.029124819}, {'range_vol_diff5': 0.031270076}, {'SPY_diff': 0.028311811}, {'threeD_stddev50': 0.041048124}, {'close_diff3': 0.033827733}, {'min_volume_vol_diff_pct': 0.024407452}, {'month': 0.0464028}, {'return_vol_240M': 0.13119067}, {'range_vol': 0.031923007}, {'rsi5': 0.03482222}, {'roc': 0.037119772}, {'SPY_3D': 0.039384816}, {'roc5': 0.035954844}, {'roc_diff': 0.03656408}, {'price_25DDiff': 0.03633082}, {'daily_volume_vol_diff_pct': 0.031703692}, {'price_10DDiff': 0.040473197}, {'SPY_1D': 0.03872861}, {'hour_volume_vol_diff': 0.029932072}, {'hour_volume_vol_diff_pct': 0.03017653}, {'return_vol_10D': 0.04246598}, {'SPY_5D': 0.039747823}]\"}\n",
      "{'deployment_date': datetime.datetime(2022, 12, 19, 0, 0), 'dataset_end': datetime.datetime(2022, 12, 9, 0, 0), 'dataset_start': datetime.datetime(2018, 1, 1, 0, 0)}\n",
      "-0.032\n",
      "0.4895872537950069\n"
     ]
    },
    {
     "name": "stderr",
     "output_type": "stream",
     "text": [
      "/var/folders/tq/_9q_lv1s2bndbr3tzzn08x4r0000gn/T/ipykernel_13078/1039188303.py:2: SettingWithCopyWarning: \n",
      "A value is trying to be set on a copy of a slice from a DataFrame.\n",
      "Try using .loc[row_indexer,col_indexer] = value instead\n",
      "\n",
      "See the caveats in the documentation: https://pandas.pydata.org/pandas-docs/stable/user_guide/indexing.html#returning-a-view-versus-a-copy\n",
      "  dataset.loc[:, 'label'] = (dataset[target_label] < target_value).astype(int)\n"
     ]
    },
    {
     "name": "stdout",
     "output_type": "stream",
     "text": [
      "label\n",
      "0    31222\n",
      "1    23413\n",
      "Name: count, dtype: int64\n",
      "129 73 138 110\n",
      "{'model_name': 'MAP:RM220_TSSIM1_TL15-EXP_custHypTP0.43', 'deployment_date': '2022-12-19', 'algorithm_type': 'xgboost', 'dataset': 'MAP:RM220_TSSIM1_TL15-EXP_custHypTP0.43', 'TP': 129, 'TPpct': Decimal('0'), 'FP': 73, 'FPpct': Decimal('0'), 'TN': 138, 'TNpct': Decimal('0'), 'FN': 110, 'FNpct': Decimal('0'), 'precision_ratio': Decimal('1.7671232876712328'), 'evaluation_timeperiod': '2022-12-19_2022-12-23', 'live': False, 'hyperparameters': {\"{'subsample': 0.6, 'num_round': 1000, 'min_child_weight': 10, 'max_depth': 10, 'learning_rate': 0.1, 'gamma': 2, 'colsample_bytree': 1}\"}, 'features': {\"['oneD_stddev50', 'rsi', 'close_diff', 'daily_volume_vol_diff_pct30', 'range_vol_diff5', 'SPY_diff', 'threeD_stddev50', 'close_diff3', 'min_volume_vol_diff_pct', 'month', 'return_vol_240M', 'range_vol', 'rsi5', 'roc', 'SPY_3D', 'roc5', 'roc_diff', 'price_25DDiff', 'daily_volume_vol_diff_pct', 'price_10DDiff', 'SPY_1D', 'hour_volume_vol_diff', 'hour_volume_vol_diff_pct', 'return_vol_10D', 'SPY_5D']\"}, 'target': '-0.032+three_min', 'feature_importances': \"[{'oneD_stddev50': 0.06361802}, {'rsi': 0.03457981}, {'close_diff': 0.030969331}, {'daily_volume_vol_diff_pct30': 0.029993594}, {'range_vol_diff5': 0.031758495}, {'SPY_diff': 0.02917942}, {'threeD_stddev50': 0.03952319}, {'close_diff3': 0.035926793}, {'min_volume_vol_diff_pct': 0.024161913}, {'month': 0.045413136}, {'return_vol_240M': 0.12781921}, {'range_vol': 0.032896474}, {'rsi5': 0.034632187}, {'roc': 0.037291225}, {'SPY_3D': 0.04038228}, {'roc5': 0.03795389}, {'roc_diff': 0.036000255}, {'price_25DDiff': 0.03504945}, {'daily_volume_vol_diff_pct': 0.031586085}, {'price_10DDiff': 0.038169026}, {'SPY_1D': 0.038918935}, {'hour_volume_vol_diff': 0.031833585}, {'hour_volume_vol_diff_pct': 0.029981121}, {'return_vol_10D': 0.042374544}, {'SPY_5D': 0.039988056}]\"}\n",
      "{'deployment_date': datetime.datetime(2022, 12, 26, 0, 0), 'dataset_end': datetime.datetime(2022, 12, 16, 0, 0), 'dataset_start': datetime.datetime(2018, 1, 1, 0, 0)}\n",
      "-0.03\n",
      "0.29473505707630104\n"
     ]
    },
    {
     "name": "stderr",
     "output_type": "stream",
     "text": [
      "/var/folders/tq/_9q_lv1s2bndbr3tzzn08x4r0000gn/T/ipykernel_13078/1039188303.py:2: SettingWithCopyWarning: \n",
      "A value is trying to be set on a copy of a slice from a DataFrame.\n",
      "Try using .loc[row_indexer,col_indexer] = value instead\n",
      "\n",
      "See the caveats in the documentation: https://pandas.pydata.org/pandas-docs/stable/user_guide/indexing.html#returning-a-view-versus-a-copy\n",
      "  dataset.loc[:, 'label'] = (dataset[target_label] < target_value).astype(int)\n"
     ]
    },
    {
     "name": "stdout",
     "output_type": "stream",
     "text": [
      "label\n",
      "0    18768\n",
      "1    14255\n",
      "Name: count, dtype: int64\n",
      "34 196 112 18\n",
      "{'model_name': 'MAP:RM220_TSSIM1_TL15-EXP_custHypTP0.43', 'deployment_date': '2022-12-26', 'algorithm_type': 'xgboost', 'dataset': 'MAP:RM220_TSSIM1_TL15-EXP_custHypTP0.43', 'TP': 34, 'TPpct': Decimal('0'), 'FP': 196, 'FPpct': Decimal('0'), 'TN': 112, 'TNpct': Decimal('0'), 'FN': 18, 'FNpct': Decimal('0'), 'precision_ratio': Decimal('0.17346938775510204'), 'evaluation_timeperiod': '2022-12-26_2022-12-30', 'live': False, 'hyperparameters': {\"{'subsample': 0.6, 'num_round': 1000, 'min_child_weight': 10, 'max_depth': 10, 'learning_rate': 0.1, 'gamma': 2, 'colsample_bytree': 1}\"}, 'features': {\"['oneD_stddev50', 'rsi', 'close_diff', 'daily_volume_vol_diff_pct30', 'range_vol_diff5', 'SPY_diff', 'threeD_stddev50', 'close_diff3', 'min_volume_vol_diff_pct', 'month', 'return_vol_240M', 'range_vol', 'rsi5', 'roc', 'SPY_3D', 'roc5', 'roc_diff', 'price_25DDiff', 'daily_volume_vol_diff_pct', 'price_10DDiff', 'SPY_1D', 'hour_volume_vol_diff', 'hour_volume_vol_diff_pct', 'return_vol_10D', 'SPY_5D']\"}, 'target': '-0.03+three_min', 'feature_importances': \"[{'oneD_stddev50': 0.051267847}, {'rsi': 0.033799864}, {'close_diff': 0.03183553}, {'daily_volume_vol_diff_pct30': 0.030762631}, {'range_vol_diff5': 0.03063491}, {'SPY_diff': 0.02887455}, {'threeD_stddev50': 0.035946812}, {'close_diff3': 0.035738934}, {'min_volume_vol_diff_pct': 0.026087219}, {'month': 0.04615011}, {'return_vol_240M': 0.15072167}, {'range_vol': 0.04171613}, {'rsi5': 0.034981824}, {'roc': 0.034176618}, {'SPY_3D': 0.040295057}, {'roc5': 0.035509054}, {'roc_diff': 0.036202747}, {'price_25DDiff': 0.032633107}, {'daily_volume_vol_diff_pct': 0.030704824}, {'price_10DDiff': 0.036145713}, {'SPY_1D': 0.04163719}, {'hour_volume_vol_diff': 0.030992273}, {'hour_volume_vol_diff_pct': 0.029705403}, {'return_vol_10D': 0.03615734}, {'SPY_5D': 0.037322655}]\"}\n",
      "{'deployment_date': datetime.datetime(2023, 1, 2, 0, 0), 'dataset_end': datetime.datetime(2022, 12, 23, 0, 0), 'dataset_start': datetime.datetime(2018, 1, 1, 0, 0)}\n",
      "-0.028\n",
      "0.6593210244192972\n"
     ]
    },
    {
     "name": "stderr",
     "output_type": "stream",
     "text": [
      "/var/folders/tq/_9q_lv1s2bndbr3tzzn08x4r0000gn/T/ipykernel_13078/1039188303.py:2: SettingWithCopyWarning: \n",
      "A value is trying to be set on a copy of a slice from a DataFrame.\n",
      "Try using .loc[row_indexer,col_indexer] = value instead\n",
      "\n",
      "See the caveats in the documentation: https://pandas.pydata.org/pandas-docs/stable/user_guide/indexing.html#returning-a-view-versus-a-copy\n",
      "  dataset.loc[:, 'label'] = (dataset[target_label] < target_value).astype(int)\n"
     ]
    },
    {
     "name": "stdout",
     "output_type": "stream",
     "text": [
      "label\n",
      "0    42546\n",
      "1    31623\n",
      "Name: count, dtype: int64\n",
      "8 53 206 93\n",
      "{'model_name': 'MAP:RM220_TSSIM1_TL15-EXP_custHypTP0.43', 'deployment_date': '2023-01-02', 'algorithm_type': 'xgboost', 'dataset': 'MAP:RM220_TSSIM1_TL15-EXP_custHypTP0.43', 'TP': 8, 'TPpct': Decimal('0'), 'FP': 53, 'FPpct': Decimal('0'), 'TN': 206, 'TNpct': Decimal('0'), 'FN': 93, 'FNpct': Decimal('0'), 'precision_ratio': Decimal('0.1509433962264151'), 'evaluation_timeperiod': '2023-01-02_2023-01-06', 'live': False, 'hyperparameters': {\"{'subsample': 0.6, 'num_round': 1000, 'min_child_weight': 10, 'max_depth': 10, 'learning_rate': 0.1, 'gamma': 2, 'colsample_bytree': 1}\"}, 'features': {\"['oneD_stddev50', 'rsi', 'close_diff', 'daily_volume_vol_diff_pct30', 'range_vol_diff5', 'SPY_diff', 'threeD_stddev50', 'close_diff3', 'min_volume_vol_diff_pct', 'month', 'return_vol_240M', 'range_vol', 'rsi5', 'roc', 'SPY_3D', 'roc5', 'roc_diff', 'price_25DDiff', 'daily_volume_vol_diff_pct', 'price_10DDiff', 'SPY_1D', 'hour_volume_vol_diff', 'hour_volume_vol_diff_pct', 'return_vol_10D', 'SPY_5D']\"}, 'target': '-0.028+three_min', 'feature_importances': \"[{'oneD_stddev50': 0.1116428}, {'rsi': 0.034375098}, {'close_diff': 0.030310022}, {'daily_volume_vol_diff_pct30': 0.029231908}, {'range_vol_diff5': 0.030645411}, {'SPY_diff': 0.027132751}, {'threeD_stddev50': 0.044970583}, {'close_diff3': 0.032087382}, {'min_volume_vol_diff_pct': 0.024442073}, {'month': 0.040312685}, {'return_vol_240M': 0.117496505}, {'range_vol': 0.040839873}, {'rsi5': 0.033749107}, {'roc': 0.034164116}, {'SPY_3D': 0.034571595}, {'roc5': 0.03339436}, {'roc_diff': 0.034848996}, {'price_25DDiff': 0.035072286}, {'daily_volume_vol_diff_pct': 0.029078556}, {'price_10DDiff': 0.035340823}, {'SPY_1D': 0.03492365}, {'hour_volume_vol_diff': 0.030435365}, {'hour_volume_vol_diff_pct': 0.02878858}, {'return_vol_10D': 0.03595147}, {'SPY_5D': 0.03619393}]\"}\n",
      "{'deployment_date': datetime.datetime(2023, 1, 9, 0, 0), 'dataset_end': datetime.datetime(2022, 12, 30, 0, 0), 'dataset_start': datetime.datetime(2018, 1, 1, 0, 0)}\n",
      "-0.03\n",
      "0.28942961197309774\n"
     ]
    },
    {
     "name": "stderr",
     "output_type": "stream",
     "text": [
      "/var/folders/tq/_9q_lv1s2bndbr3tzzn08x4r0000gn/T/ipykernel_13078/1039188303.py:2: SettingWithCopyWarning: \n",
      "A value is trying to be set on a copy of a slice from a DataFrame.\n",
      "Try using .loc[row_indexer,col_indexer] = value instead\n",
      "\n",
      "See the caveats in the documentation: https://pandas.pydata.org/pandas-docs/stable/user_guide/indexing.html#returning-a-view-versus-a-copy\n",
      "  dataset.loc[:, 'label'] = (dataset[target_label] < target_value).astype(int)\n"
     ]
    },
    {
     "name": "stdout",
     "output_type": "stream",
     "text": [
      "label\n",
      "0    18446\n",
      "1    14217\n",
      "Name: count, dtype: int64\n",
      "41 130 227 52\n",
      "{'model_name': 'MAP:RM220_TSSIM1_TL15-EXP_custHypTP0.43', 'deployment_date': '2023-01-09', 'algorithm_type': 'xgboost', 'dataset': 'MAP:RM220_TSSIM1_TL15-EXP_custHypTP0.43', 'TP': 41, 'TPpct': Decimal('0'), 'FP': 130, 'FPpct': Decimal('0'), 'TN': 227, 'TNpct': Decimal('0'), 'FN': 52, 'FNpct': Decimal('0'), 'precision_ratio': Decimal('0.3153846153846154'), 'evaluation_timeperiod': '2023-01-09_2023-01-13', 'live': False, 'hyperparameters': {\"{'subsample': 0.6, 'num_round': 1000, 'min_child_weight': 10, 'max_depth': 10, 'learning_rate': 0.1, 'gamma': 2, 'colsample_bytree': 1}\"}, 'features': {\"['oneD_stddev50', 'rsi', 'close_diff', 'daily_volume_vol_diff_pct30', 'range_vol_diff5', 'SPY_diff', 'threeD_stddev50', 'close_diff3', 'min_volume_vol_diff_pct', 'month', 'return_vol_240M', 'range_vol', 'rsi5', 'roc', 'SPY_3D', 'roc5', 'roc_diff', 'price_25DDiff', 'daily_volume_vol_diff_pct', 'price_10DDiff', 'SPY_1D', 'hour_volume_vol_diff', 'hour_volume_vol_diff_pct', 'return_vol_10D', 'SPY_5D']\"}, 'target': '-0.03+three_min', 'feature_importances': \"[{'oneD_stddev50': 0.048958857}, {'rsi': 0.03519639}, {'close_diff': 0.031550165}, {'daily_volume_vol_diff_pct30': 0.030880567}, {'range_vol_diff5': 0.032401048}, {'SPY_diff': 0.030726755}, {'threeD_stddev50': 0.03512224}, {'close_diff3': 0.03476724}, {'min_volume_vol_diff_pct': 0.025207154}, {'month': 0.04744104}, {'return_vol_240M': 0.1477205}, {'range_vol': 0.036882933}, {'rsi5': 0.035149958}, {'roc': 0.035633054}, {'SPY_3D': 0.037990533}, {'roc5': 0.03563959}, {'roc_diff': 0.037232384}, {'price_25DDiff': 0.03497436}, {'daily_volume_vol_diff_pct': 0.03295459}, {'price_10DDiff': 0.0371}, {'SPY_1D': 0.040356655}, {'hour_volume_vol_diff': 0.029928051}, {'hour_volume_vol_diff_pct': 0.029274324}, {'return_vol_10D': 0.038346667}, {'SPY_5D': 0.038564924}]\"}\n",
      "{'deployment_date': datetime.datetime(2023, 1, 16, 0, 0), 'dataset_end': datetime.datetime(2023, 1, 6, 0, 0), 'dataset_start': datetime.datetime(2018, 1, 1, 0, 0)}\n",
      "-0.03\n",
      "0.2853735878388524\n"
     ]
    },
    {
     "name": "stderr",
     "output_type": "stream",
     "text": [
      "/var/folders/tq/_9q_lv1s2bndbr3tzzn08x4r0000gn/T/ipykernel_13078/1039188303.py:2: SettingWithCopyWarning: \n",
      "A value is trying to be set on a copy of a slice from a DataFrame.\n",
      "Try using .loc[row_indexer,col_indexer] = value instead\n",
      "\n",
      "See the caveats in the documentation: https://pandas.pydata.org/pandas-docs/stable/user_guide/indexing.html#returning-a-view-versus-a-copy\n",
      "  dataset.loc[:, 'label'] = (dataset[target_label] < target_value).astype(int)\n"
     ]
    },
    {
     "name": "stdout",
     "output_type": "stream",
     "text": [
      "label\n",
      "0    18326\n",
      "1    13982\n",
      "Name: count, dtype: int64\n",
      "73 126 75 80\n",
      "{'model_name': 'MAP:RM220_TSSIM1_TL15-EXP_custHypTP0.43', 'deployment_date': '2023-01-16', 'algorithm_type': 'xgboost', 'dataset': 'MAP:RM220_TSSIM1_TL15-EXP_custHypTP0.43', 'TP': 73, 'TPpct': Decimal('0'), 'FP': 126, 'FPpct': Decimal('0'), 'TN': 75, 'TNpct': Decimal('0'), 'FN': 80, 'FNpct': Decimal('0'), 'precision_ratio': Decimal('0.5793650793650794'), 'evaluation_timeperiod': '2023-01-16_2023-01-20', 'live': False, 'hyperparameters': {\"{'subsample': 0.6, 'num_round': 1000, 'min_child_weight': 10, 'max_depth': 10, 'learning_rate': 0.1, 'gamma': 2, 'colsample_bytree': 1}\"}, 'features': {\"['oneD_stddev50', 'rsi', 'close_diff', 'daily_volume_vol_diff_pct30', 'range_vol_diff5', 'SPY_diff', 'threeD_stddev50', 'close_diff3', 'min_volume_vol_diff_pct', 'month', 'return_vol_240M', 'range_vol', 'rsi5', 'roc', 'SPY_3D', 'roc5', 'roc_diff', 'price_25DDiff', 'daily_volume_vol_diff_pct', 'price_10DDiff', 'SPY_1D', 'hour_volume_vol_diff', 'hour_volume_vol_diff_pct', 'return_vol_10D', 'SPY_5D']\"}, 'target': '-0.03+three_min', 'feature_importances': \"[{'oneD_stddev50': 0.046414617}, {'rsi': 0.032909006}, {'close_diff': 0.031805675}, {'daily_volume_vol_diff_pct30': 0.031527907}, {'range_vol_diff5': 0.032850787}, {'SPY_diff': 0.028997444}, {'threeD_stddev50': 0.034250207}, {'close_diff3': 0.036838148}, {'min_volume_vol_diff_pct': 0.024510622}, {'month': 0.045623887}, {'return_vol_240M': 0.1617455}, {'range_vol': 0.038304504}, {'rsi5': 0.033265144}, {'roc': 0.033977136}, {'SPY_3D': 0.040590532}, {'roc5': 0.0347813}, {'roc_diff': 0.035766903}, {'price_25DDiff': 0.034526072}, {'daily_volume_vol_diff_pct': 0.03138672}, {'price_10DDiff': 0.036128115}, {'SPY_1D': 0.040569395}, {'hour_volume_vol_diff': 0.03065555}, {'hour_volume_vol_diff_pct': 0.027545653}, {'return_vol_10D': 0.03603552}, {'SPY_5D': 0.038993623}]\"}\n",
      "{'deployment_date': datetime.datetime(2023, 1, 23, 0, 0), 'dataset_end': datetime.datetime(2023, 1, 13, 0, 0), 'dataset_start': datetime.datetime(2018, 1, 1, 0, 0)}\n",
      "-0.028\n",
      "0.6674819422327406\n"
     ]
    },
    {
     "name": "stderr",
     "output_type": "stream",
     "text": [
      "/var/folders/tq/_9q_lv1s2bndbr3tzzn08x4r0000gn/T/ipykernel_13078/1039188303.py:2: SettingWithCopyWarning: \n",
      "A value is trying to be set on a copy of a slice from a DataFrame.\n",
      "Try using .loc[row_indexer,col_indexer] = value instead\n",
      "\n",
      "See the caveats in the documentation: https://pandas.pydata.org/pandas-docs/stable/user_guide/indexing.html#returning-a-view-versus-a-copy\n",
      "  dataset.loc[:, 'label'] = (dataset[target_label] < target_value).astype(int)\n"
     ]
    },
    {
     "name": "stdout",
     "output_type": "stream",
     "text": [
      "label\n",
      "0    43514\n",
      "1    32354\n",
      "Name: count, dtype: int64\n",
      "73 54 202 121\n",
      "{'model_name': 'MAP:RM220_TSSIM1_TL15-EXP_custHypTP0.43', 'deployment_date': '2023-01-23', 'algorithm_type': 'xgboost', 'dataset': 'MAP:RM220_TSSIM1_TL15-EXP_custHypTP0.43', 'TP': 73, 'TPpct': Decimal('0'), 'FP': 54, 'FPpct': Decimal('0'), 'TN': 202, 'TNpct': Decimal('0'), 'FN': 121, 'FNpct': Decimal('0'), 'precision_ratio': Decimal('1.3518518518518519'), 'evaluation_timeperiod': '2023-01-23_2023-01-27', 'live': False, 'hyperparameters': {\"{'subsample': 0.6, 'num_round': 1000, 'min_child_weight': 10, 'max_depth': 10, 'learning_rate': 0.1, 'gamma': 2, 'colsample_bytree': 1}\"}, 'features': {\"['oneD_stddev50', 'rsi', 'close_diff', 'daily_volume_vol_diff_pct30', 'range_vol_diff5', 'SPY_diff', 'threeD_stddev50', 'close_diff3', 'min_volume_vol_diff_pct', 'month', 'return_vol_240M', 'range_vol', 'rsi5', 'roc', 'SPY_3D', 'roc5', 'roc_diff', 'price_25DDiff', 'daily_volume_vol_diff_pct', 'price_10DDiff', 'SPY_1D', 'hour_volume_vol_diff', 'hour_volume_vol_diff_pct', 'return_vol_10D', 'SPY_5D']\"}, 'target': '-0.028+three_min', 'feature_importances': \"[{'oneD_stddev50': 0.078328595}, {'rsi': 0.03466502}, {'close_diff': 0.032291874}, {'daily_volume_vol_diff_pct30': 0.030493844}, {'range_vol_diff5': 0.031466454}, {'SPY_diff': 0.027276114}, {'threeD_stddev50': 0.045134634}, {'close_diff3': 0.033296768}, {'min_volume_vol_diff_pct': 0.024428708}, {'month': 0.039169434}, {'return_vol_240M': 0.1355026}, {'range_vol': 0.043121606}, {'rsi5': 0.03474244}, {'roc': 0.035033744}, {'SPY_3D': 0.03624689}, {'roc5': 0.03353914}, {'roc_diff': 0.034542654}, {'price_25DDiff': 0.03467999}, {'daily_volume_vol_diff_pct': 0.030592814}, {'price_10DDiff': 0.035868857}, {'SPY_1D': 0.036349792}, {'hour_volume_vol_diff': 0.028547015}, {'hour_volume_vol_diff_pct': 0.029220331}, {'return_vol_10D': 0.037683822}, {'SPY_5D': 0.037776824}]\"}\n",
      "{'deployment_date': datetime.datetime(2023, 1, 30, 0, 0), 'dataset_end': datetime.datetime(2023, 1, 20, 0, 0), 'dataset_start': datetime.datetime(2018, 1, 1, 0, 0)}\n",
      "-0.028\n",
      "0.8198338844207442\n"
     ]
    },
    {
     "name": "stderr",
     "output_type": "stream",
     "text": [
      "/var/folders/tq/_9q_lv1s2bndbr3tzzn08x4r0000gn/T/ipykernel_13078/1039188303.py:2: SettingWithCopyWarning: \n",
      "A value is trying to be set on a copy of a slice from a DataFrame.\n",
      "Try using .loc[row_indexer,col_indexer] = value instead\n",
      "\n",
      "See the caveats in the documentation: https://pandas.pydata.org/pandas-docs/stable/user_guide/indexing.html#returning-a-view-versus-a-copy\n",
      "  dataset.loc[:, 'label'] = (dataset[target_label] < target_value).astype(int)\n"
     ]
    },
    {
     "name": "stdout",
     "output_type": "stream",
     "text": [
      "label\n",
      "0    53767\n",
      "1    39708\n",
      "Name: count, dtype: int64\n",
      "102 97 210 41\n",
      "{'model_name': 'MAP:RM220_TSSIM1_TL15-EXP_custHypTP0.43', 'deployment_date': '2023-01-30', 'algorithm_type': 'xgboost', 'dataset': 'MAP:RM220_TSSIM1_TL15-EXP_custHypTP0.43', 'TP': 102, 'TPpct': Decimal('0'), 'FP': 97, 'FPpct': Decimal('0'), 'TN': 210, 'TNpct': Decimal('0'), 'FN': 41, 'FNpct': Decimal('0'), 'precision_ratio': Decimal('1.0515463917525774'), 'evaluation_timeperiod': '2023-01-30_2023-02-03', 'live': False, 'hyperparameters': {\"{'subsample': 0.6, 'num_round': 1000, 'min_child_weight': 10, 'max_depth': 10, 'learning_rate': 0.1, 'gamma': 2, 'colsample_bytree': 1}\"}, 'features': {\"['oneD_stddev50', 'rsi', 'close_diff', 'daily_volume_vol_diff_pct30', 'range_vol_diff5', 'SPY_diff', 'threeD_stddev50', 'close_diff3', 'min_volume_vol_diff_pct', 'month', 'return_vol_240M', 'range_vol', 'rsi5', 'roc', 'SPY_3D', 'roc5', 'roc_diff', 'price_25DDiff', 'daily_volume_vol_diff_pct', 'price_10DDiff', 'SPY_1D', 'hour_volume_vol_diff', 'hour_volume_vol_diff_pct', 'return_vol_10D', 'SPY_5D']\"}, 'target': '-0.028+three_min', 'feature_importances': \"[{'oneD_stddev50': 0.105927624}, {'rsi': 0.035072725}, {'close_diff': 0.031055726}, {'daily_volume_vol_diff_pct30': 0.029328959}, {'range_vol_diff5': 0.031608567}, {'SPY_diff': 0.028777763}, {'threeD_stddev50': 0.041901186}, {'close_diff3': 0.033912398}, {'min_volume_vol_diff_pct': 0.026302803}, {'month': 0.04064811}, {'return_vol_240M': 0.117038}, {'range_vol': 0.036578134}, {'rsi5': 0.033708032}, {'roc': 0.035183545}, {'SPY_3D': 0.03689015}, {'roc5': 0.034186598}, {'roc_diff': 0.035779875}, {'price_25DDiff': 0.035600543}, {'daily_volume_vol_diff_pct': 0.030012075}, {'price_10DDiff': 0.034264583}, {'SPY_1D': 0.037543446}, {'hour_volume_vol_diff': 0.029873583}, {'hour_volume_vol_diff_pct': 0.027083145}, {'return_vol_10D': 0.035203293}, {'SPY_5D': 0.036519103}]\"}\n",
      "{'deployment_date': datetime.datetime(2023, 2, 6, 0, 0), 'dataset_end': datetime.datetime(2023, 1, 27, 0, 0), 'dataset_start': datetime.datetime(2018, 1, 1, 0, 0)}\n",
      "-0.028\n",
      "0.668244996374501\n"
     ]
    },
    {
     "name": "stderr",
     "output_type": "stream",
     "text": [
      "/var/folders/tq/_9q_lv1s2bndbr3tzzn08x4r0000gn/T/ipykernel_13078/1039188303.py:2: SettingWithCopyWarning: \n",
      "A value is trying to be set on a copy of a slice from a DataFrame.\n",
      "Try using .loc[row_indexer,col_indexer] = value instead\n",
      "\n",
      "See the caveats in the documentation: https://pandas.pydata.org/pandas-docs/stable/user_guide/indexing.html#returning-a-view-versus-a-copy\n",
      "  dataset.loc[:, 'label'] = (dataset[target_label] < target_value).astype(int)\n"
     ]
    },
    {
     "name": "stdout",
     "output_type": "stream",
     "text": [
      "label\n",
      "0    43936\n",
      "1    32556\n",
      "Name: count, dtype: int64\n",
      "140 58 98 154\n",
      "{'model_name': 'MAP:RM220_TSSIM1_TL15-EXP_custHypTP0.43', 'deployment_date': '2023-02-06', 'algorithm_type': 'xgboost', 'dataset': 'MAP:RM220_TSSIM1_TL15-EXP_custHypTP0.43', 'TP': 140, 'TPpct': Decimal('0'), 'FP': 58, 'FPpct': Decimal('0'), 'TN': 98, 'TNpct': Decimal('0'), 'FN': 154, 'FNpct': Decimal('0'), 'precision_ratio': Decimal('2.413793103448276'), 'evaluation_timeperiod': '2023-02-06_2023-02-10', 'live': False, 'hyperparameters': {\"{'subsample': 0.6, 'num_round': 1000, 'min_child_weight': 10, 'max_depth': 10, 'learning_rate': 0.1, 'gamma': 2, 'colsample_bytree': 1}\"}, 'features': {\"['oneD_stddev50', 'rsi', 'close_diff', 'daily_volume_vol_diff_pct30', 'range_vol_diff5', 'SPY_diff', 'threeD_stddev50', 'close_diff3', 'min_volume_vol_diff_pct', 'month', 'return_vol_240M', 'range_vol', 'rsi5', 'roc', 'SPY_3D', 'roc5', 'roc_diff', 'price_25DDiff', 'daily_volume_vol_diff_pct', 'price_10DDiff', 'SPY_1D', 'hour_volume_vol_diff', 'hour_volume_vol_diff_pct', 'return_vol_10D', 'SPY_5D']\"}, 'target': '-0.028+three_min', 'feature_importances': \"[{'oneD_stddev50': 0.08760925}, {'rsi': 0.033891443}, {'close_diff': 0.030923966}, {'daily_volume_vol_diff_pct30': 0.029809466}, {'range_vol_diff5': 0.03051287}, {'SPY_diff': 0.027811911}, {'threeD_stddev50': 0.04568039}, {'close_diff3': 0.033190057}, {'min_volume_vol_diff_pct': 0.024092132}, {'month': 0.040252324}, {'return_vol_240M': 0.13888569}, {'range_vol': 0.041017283}, {'rsi5': 0.033186413}, {'roc': 0.033439282}, {'SPY_3D': 0.035467964}, {'roc5': 0.03308096}, {'roc_diff': 0.03562006}, {'price_25DDiff': 0.0338827}, {'daily_volume_vol_diff_pct': 0.029146008}, {'price_10DDiff': 0.03457624}, {'SPY_1D': 0.03528508}, {'hour_volume_vol_diff': 0.029861372}, {'hour_volume_vol_diff_pct': 0.028164396}, {'return_vol_10D': 0.037004046}, {'SPY_5D': 0.037608676}]\"}\n",
      "{'deployment_date': datetime.datetime(2023, 2, 13, 0, 0), 'dataset_end': datetime.datetime(2023, 2, 3, 0, 0), 'dataset_start': datetime.datetime(2018, 1, 1, 0, 0)}\n",
      "-0.028\n",
      "0.6711104536317516\n"
     ]
    },
    {
     "name": "stderr",
     "output_type": "stream",
     "text": [
      "/var/folders/tq/_9q_lv1s2bndbr3tzzn08x4r0000gn/T/ipykernel_13078/1039188303.py:2: SettingWithCopyWarning: \n",
      "A value is trying to be set on a copy of a slice from a DataFrame.\n",
      "Try using .loc[row_indexer,col_indexer] = value instead\n",
      "\n",
      "See the caveats in the documentation: https://pandas.pydata.org/pandas-docs/stable/user_guide/indexing.html#returning-a-view-versus-a-copy\n",
      "  dataset.loc[:, 'label'] = (dataset[target_label] < target_value).astype(int)\n"
     ]
    },
    {
     "name": "stdout",
     "output_type": "stream",
     "text": [
      "label\n",
      "0    44251\n",
      "1    32871\n",
      "Name: count, dtype: int64\n",
      "96 36 99 208\n",
      "{'model_name': 'MAP:RM220_TSSIM1_TL15-EXP_custHypTP0.43', 'deployment_date': '2023-02-13', 'algorithm_type': 'xgboost', 'dataset': 'MAP:RM220_TSSIM1_TL15-EXP_custHypTP0.43', 'TP': 96, 'TPpct': Decimal('0'), 'FP': 36, 'FPpct': Decimal('0'), 'TN': 99, 'TNpct': Decimal('0'), 'FN': 208, 'FNpct': Decimal('0'), 'precision_ratio': Decimal('2.6666666666666665'), 'evaluation_timeperiod': '2023-02-13_2023-02-17', 'live': False, 'hyperparameters': {\"{'subsample': 0.6, 'num_round': 1000, 'min_child_weight': 10, 'max_depth': 10, 'learning_rate': 0.1, 'gamma': 2, 'colsample_bytree': 1}\"}, 'features': {\"['oneD_stddev50', 'rsi', 'close_diff', 'daily_volume_vol_diff_pct30', 'range_vol_diff5', 'SPY_diff', 'threeD_stddev50', 'close_diff3', 'min_volume_vol_diff_pct', 'month', 'return_vol_240M', 'range_vol', 'rsi5', 'roc', 'SPY_3D', 'roc5', 'roc_diff', 'price_25DDiff', 'daily_volume_vol_diff_pct', 'price_10DDiff', 'SPY_1D', 'hour_volume_vol_diff', 'hour_volume_vol_diff_pct', 'return_vol_10D', 'SPY_5D']\"}, 'target': '-0.028+three_min', 'feature_importances': \"[{'oneD_stddev50': 0.085751325}, {'rsi': 0.034002006}, {'close_diff': 0.03155933}, {'daily_volume_vol_diff_pct30': 0.02859471}, {'range_vol_diff5': 0.031051576}, {'SPY_diff': 0.026948042}, {'threeD_stddev50': 0.046479434}, {'close_diff3': 0.033210933}, {'min_volume_vol_diff_pct': 0.024369372}, {'month': 0.040979102}, {'return_vol_240M': 0.13804252}, {'range_vol': 0.04062111}, {'rsi5': 0.03315776}, {'roc': 0.034435023}, {'SPY_3D': 0.03610745}, {'roc5': 0.032916874}, {'roc_diff': 0.03483305}, {'price_25DDiff': 0.033998635}, {'daily_volume_vol_diff_pct': 0.028939163}, {'price_10DDiff': 0.03561437}, {'SPY_1D': 0.036693435}, {'hour_volume_vol_diff': 0.029984683}, {'hour_volume_vol_diff_pct': 0.028850133}, {'return_vol_10D': 0.035687074}, {'SPY_5D': 0.03717297}]\"}\n",
      "{'deployment_date': datetime.datetime(2023, 2, 20, 0, 0), 'dataset_end': datetime.datetime(2023, 2, 10, 0, 0), 'dataset_start': datetime.datetime(2018, 1, 1, 0, 0)}\n",
      "-0.028\n",
      "0.8219421498348748\n"
     ]
    },
    {
     "name": "stderr",
     "output_type": "stream",
     "text": [
      "/var/folders/tq/_9q_lv1s2bndbr3tzzn08x4r0000gn/T/ipykernel_13078/1039188303.py:2: SettingWithCopyWarning: \n",
      "A value is trying to be set on a copy of a slice from a DataFrame.\n",
      "Try using .loc[row_indexer,col_indexer] = value instead\n",
      "\n",
      "See the caveats in the documentation: https://pandas.pydata.org/pandas-docs/stable/user_guide/indexing.html#returning-a-view-versus-a-copy\n",
      "  dataset.loc[:, 'label'] = (dataset[target_label] < target_value).astype(int)\n"
     ]
    },
    {
     "name": "stdout",
     "output_type": "stream",
     "text": [
      "label\n",
      "0    54495\n",
      "1    40330\n",
      "Name: count, dtype: int64\n",
      "123 132 67 38\n",
      "{'model_name': 'MAP:RM220_TSSIM1_TL15-EXP_custHypTP0.43', 'deployment_date': '2023-02-20', 'algorithm_type': 'xgboost', 'dataset': 'MAP:RM220_TSSIM1_TL15-EXP_custHypTP0.43', 'TP': 123, 'TPpct': Decimal('0'), 'FP': 132, 'FPpct': Decimal('0'), 'TN': 67, 'TNpct': Decimal('0'), 'FN': 38, 'FNpct': Decimal('0'), 'precision_ratio': Decimal('0.9318181818181818'), 'evaluation_timeperiod': '2023-02-20_2023-02-24', 'live': False, 'hyperparameters': {\"{'subsample': 0.6, 'num_round': 1000, 'min_child_weight': 10, 'max_depth': 10, 'learning_rate': 0.1, 'gamma': 2, 'colsample_bytree': 1}\"}, 'features': {\"['oneD_stddev50', 'rsi', 'close_diff', 'daily_volume_vol_diff_pct30', 'range_vol_diff5', 'SPY_diff', 'threeD_stddev50', 'close_diff3', 'min_volume_vol_diff_pct', 'month', 'return_vol_240M', 'range_vol', 'rsi5', 'roc', 'SPY_3D', 'roc5', 'roc_diff', 'price_25DDiff', 'daily_volume_vol_diff_pct', 'price_10DDiff', 'SPY_1D', 'hour_volume_vol_diff', 'hour_volume_vol_diff_pct', 'return_vol_10D', 'SPY_5D']\"}, 'target': '-0.028+three_min', 'feature_importances': \"[{'oneD_stddev50': 0.0919334}, {'rsi': 0.034903746}, {'close_diff': 0.03354023}, {'daily_volume_vol_diff_pct30': 0.029337628}, {'range_vol_diff5': 0.03163426}, {'SPY_diff': 0.029078148}, {'threeD_stddev50': 0.043594718}, {'close_diff3': 0.03339724}, {'min_volume_vol_diff_pct': 0.02535982}, {'month': 0.041388262}, {'return_vol_240M': 0.12511481}, {'range_vol': 0.035438094}, {'rsi5': 0.034401983}, {'roc': 0.035474893}, {'SPY_3D': 0.036386933}, {'roc5': 0.033816617}, {'roc_diff': 0.03640286}, {'price_25DDiff': 0.03517886}, {'daily_volume_vol_diff_pct': 0.029484395}, {'price_10DDiff': 0.03610144}, {'SPY_1D': 0.036667902}, {'hour_volume_vol_diff': 0.02949067}, {'hour_volume_vol_diff_pct': 0.029636022}, {'return_vol_10D': 0.035879493}, {'SPY_5D': 0.036357556}]\"}\n",
      "{'deployment_date': datetime.datetime(2023, 2, 27, 0, 0), 'dataset_end': datetime.datetime(2023, 2, 17, 0, 0), 'dataset_start': datetime.datetime(2018, 1, 1, 0, 0)}\n",
      "-0.028\n",
      "0.673638035697324\n"
     ]
    },
    {
     "name": "stderr",
     "output_type": "stream",
     "text": [
      "/var/folders/tq/_9q_lv1s2bndbr3tzzn08x4r0000gn/T/ipykernel_13078/1039188303.py:2: SettingWithCopyWarning: \n",
      "A value is trying to be set on a copy of a slice from a DataFrame.\n",
      "Try using .loc[row_indexer,col_indexer] = value instead\n",
      "\n",
      "See the caveats in the documentation: https://pandas.pydata.org/pandas-docs/stable/user_guide/indexing.html#returning-a-view-versus-a-copy\n",
      "  dataset.loc[:, 'label'] = (dataset[target_label] < target_value).astype(int)\n"
     ]
    },
    {
     "name": "stdout",
     "output_type": "stream",
     "text": [
      "label\n",
      "0    44561\n",
      "1    33451\n",
      "Name: count, dtype: int64\n",
      "60 142 156 92\n",
      "{'model_name': 'MAP:RM220_TSSIM1_TL15-EXP_custHypTP0.43', 'deployment_date': '2023-02-27', 'algorithm_type': 'xgboost', 'dataset': 'MAP:RM220_TSSIM1_TL15-EXP_custHypTP0.43', 'TP': 60, 'TPpct': Decimal('0'), 'FP': 142, 'FPpct': Decimal('0'), 'TN': 156, 'TNpct': Decimal('0'), 'FN': 92, 'FNpct': Decimal('0'), 'precision_ratio': Decimal('0.4225352112676056'), 'evaluation_timeperiod': '2023-02-27_2023-03-03', 'live': False, 'hyperparameters': {\"{'subsample': 0.6, 'num_round': 1000, 'min_child_weight': 10, 'max_depth': 10, 'learning_rate': 0.1, 'gamma': 2, 'colsample_bytree': 1}\"}, 'features': {\"['oneD_stddev50', 'rsi', 'close_diff', 'daily_volume_vol_diff_pct30', 'range_vol_diff5', 'SPY_diff', 'threeD_stddev50', 'close_diff3', 'min_volume_vol_diff_pct', 'month', 'return_vol_240M', 'range_vol', 'rsi5', 'roc', 'SPY_3D', 'roc5', 'roc_diff', 'price_25DDiff', 'daily_volume_vol_diff_pct', 'price_10DDiff', 'SPY_1D', 'hour_volume_vol_diff', 'hour_volume_vol_diff_pct', 'return_vol_10D', 'SPY_5D']\"}, 'target': '-0.028+three_min', 'feature_importances': \"[{'oneD_stddev50': 0.0721191}, {'rsi': 0.033569064}, {'close_diff': 0.03237148}, {'daily_volume_vol_diff_pct30': 0.027333776}, {'range_vol_diff5': 0.030396366}, {'SPY_diff': 0.027727423}, {'threeD_stddev50': 0.048519}, {'close_diff3': 0.033972047}, {'min_volume_vol_diff_pct': 0.025161767}, {'month': 0.03978195}, {'return_vol_240M': 0.14706571}, {'range_vol': 0.040562868}, {'rsi5': 0.0339842}, {'roc': 0.03441274}, {'SPY_3D': 0.03604297}, {'roc5': 0.033497576}, {'roc_diff': 0.035666198}, {'price_25DDiff': 0.03577904}, {'daily_volume_vol_diff_pct': 0.02874688}, {'price_10DDiff': 0.035184477}, {'SPY_1D': 0.03775343}, {'hour_volume_vol_diff': 0.02882109}, {'hour_volume_vol_diff_pct': 0.027157601}, {'return_vol_10D': 0.03663358}, {'SPY_5D': 0.037739728}]\"}\n",
      "{'deployment_date': datetime.datetime(2023, 3, 6, 0, 0), 'dataset_end': datetime.datetime(2023, 2, 24, 0, 0), 'dataset_start': datetime.datetime(2018, 1, 1, 0, 0)}\n",
      "-0.03\n",
      "0.27966634242082516\n"
     ]
    },
    {
     "name": "stderr",
     "output_type": "stream",
     "text": [
      "/var/folders/tq/_9q_lv1s2bndbr3tzzn08x4r0000gn/T/ipykernel_13078/1039188303.py:2: SettingWithCopyWarning: \n",
      "A value is trying to be set on a copy of a slice from a DataFrame.\n",
      "Try using .loc[row_indexer,col_indexer] = value instead\n",
      "\n",
      "See the caveats in the documentation: https://pandas.pydata.org/pandas-docs/stable/user_guide/indexing.html#returning-a-view-versus-a-copy\n",
      "  dataset.loc[:, 'label'] = (dataset[target_label] < target_value).astype(int)\n"
     ]
    },
    {
     "name": "stdout",
     "output_type": "stream",
     "text": [
      "label\n",
      "0    18556\n",
      "1    13932\n",
      "Name: count, dtype: int64\n",
      "181 48 47 174\n",
      "{'model_name': 'MAP:RM220_TSSIM1_TL15-EXP_custHypTP0.43', 'deployment_date': '2023-03-06', 'algorithm_type': 'xgboost', 'dataset': 'MAP:RM220_TSSIM1_TL15-EXP_custHypTP0.43', 'TP': 181, 'TPpct': Decimal('0'), 'FP': 48, 'FPpct': Decimal('0'), 'TN': 47, 'TNpct': Decimal('0'), 'FN': 174, 'FNpct': Decimal('0'), 'precision_ratio': Decimal('3.7708333333333335'), 'evaluation_timeperiod': '2023-03-06_2023-03-10', 'live': False, 'hyperparameters': {\"{'subsample': 0.6, 'num_round': 1000, 'min_child_weight': 10, 'max_depth': 10, 'learning_rate': 0.1, 'gamma': 2, 'colsample_bytree': 1}\"}, 'features': {\"['oneD_stddev50', 'rsi', 'close_diff', 'daily_volume_vol_diff_pct30', 'range_vol_diff5', 'SPY_diff', 'threeD_stddev50', 'close_diff3', 'min_volume_vol_diff_pct', 'month', 'return_vol_240M', 'range_vol', 'rsi5', 'roc', 'SPY_3D', 'roc5', 'roc_diff', 'price_25DDiff', 'daily_volume_vol_diff_pct', 'price_10DDiff', 'SPY_1D', 'hour_volume_vol_diff', 'hour_volume_vol_diff_pct', 'return_vol_10D', 'SPY_5D']\"}, 'target': '-0.03+three_min', 'feature_importances': \"[{'oneD_stddev50': 0.051479556}, {'rsi': 0.032884903}, {'close_diff': 0.03266811}, {'daily_volume_vol_diff_pct30': 0.029495109}, {'range_vol_diff5': 0.03268056}, {'SPY_diff': 0.028596595}, {'threeD_stddev50': 0.03502583}, {'close_diff3': 0.03648298}, {'min_volume_vol_diff_pct': 0.024557268}, {'month': 0.04767839}, {'return_vol_240M': 0.15328932}, {'range_vol': 0.038162496}, {'rsi5': 0.033138335}, {'roc': 0.033568222}, {'SPY_3D': 0.039542053}, {'roc5': 0.0344114}, {'roc_diff': 0.035501163}, {'price_25DDiff': 0.034699187}, {'daily_volume_vol_diff_pct': 0.029792512}, {'price_10DDiff': 0.038903456}, {'SPY_1D': 0.040898334}, {'hour_volume_vol_diff': 0.03154088}, {'hour_volume_vol_diff_pct': 0.02903747}, {'return_vol_10D': 0.035517726}, {'SPY_5D': 0.040448125}]\"}\n",
      "{'deployment_date': datetime.datetime(2023, 3, 13, 0, 0), 'dataset_end': datetime.datetime(2023, 3, 3, 0, 0), 'dataset_start': datetime.datetime(2018, 1, 1, 0, 0)}\n",
      "-0.028\n",
      "0.6720460996252691\n"
     ]
    },
    {
     "name": "stderr",
     "output_type": "stream",
     "text": [
      "/var/folders/tq/_9q_lv1s2bndbr3tzzn08x4r0000gn/T/ipykernel_13078/1039188303.py:2: SettingWithCopyWarning: \n",
      "A value is trying to be set on a copy of a slice from a DataFrame.\n",
      "Try using .loc[row_indexer,col_indexer] = value instead\n",
      "\n",
      "See the caveats in the documentation: https://pandas.pydata.org/pandas-docs/stable/user_guide/indexing.html#returning-a-view-versus-a-copy\n",
      "  dataset.loc[:, 'label'] = (dataset[target_label] < target_value).astype(int)\n"
     ]
    },
    {
     "name": "stdout",
     "output_type": "stream",
     "text": [
      "label\n",
      "0    44817\n",
      "1    33555\n",
      "Name: count, dtype: int64\n",
      "133 160 106 51\n",
      "{'model_name': 'MAP:RM220_TSSIM1_TL15-EXP_custHypTP0.43', 'deployment_date': '2023-03-13', 'algorithm_type': 'xgboost', 'dataset': 'MAP:RM220_TSSIM1_TL15-EXP_custHypTP0.43', 'TP': 133, 'TPpct': Decimal('0'), 'FP': 160, 'FPpct': Decimal('0'), 'TN': 106, 'TNpct': Decimal('0'), 'FN': 51, 'FNpct': Decimal('0'), 'precision_ratio': Decimal('0.83125'), 'evaluation_timeperiod': '2023-03-13_2023-03-17', 'live': False, 'hyperparameters': {\"{'subsample': 0.6, 'num_round': 1000, 'min_child_weight': 10, 'max_depth': 10, 'learning_rate': 0.1, 'gamma': 2, 'colsample_bytree': 1}\"}, 'features': {\"['oneD_stddev50', 'rsi', 'close_diff', 'daily_volume_vol_diff_pct30', 'range_vol_diff5', 'SPY_diff', 'threeD_stddev50', 'close_diff3', 'min_volume_vol_diff_pct', 'month', 'return_vol_240M', 'range_vol', 'rsi5', 'roc', 'SPY_3D', 'roc5', 'roc_diff', 'price_25DDiff', 'daily_volume_vol_diff_pct', 'price_10DDiff', 'SPY_1D', 'hour_volume_vol_diff', 'hour_volume_vol_diff_pct', 'return_vol_10D', 'SPY_5D']\"}, 'target': '-0.028+three_min', 'feature_importances': \"[{'oneD_stddev50': 0.07596875}, {'rsi': 0.033632275}, {'close_diff': 0.03026204}, {'daily_volume_vol_diff_pct30': 0.027814323}, {'range_vol_diff5': 0.031612545}, {'SPY_diff': 0.027237065}, {'threeD_stddev50': 0.045171294}, {'close_diff3': 0.03352007}, {'min_volume_vol_diff_pct': 0.025408296}, {'month': 0.039508056}, {'return_vol_240M': 0.15446696}, {'range_vol': 0.040207118}, {'rsi5': 0.032390527}, {'roc': 0.03402764}, {'SPY_3D': 0.036577307}, {'roc5': 0.033527005}, {'roc_diff': 0.034713607}, {'price_25DDiff': 0.034649104}, {'daily_volume_vol_diff_pct': 0.029329188}, {'price_10DDiff': 0.034355517}, {'SPY_1D': 0.036030374}, {'hour_volume_vol_diff': 0.02868916}, {'hour_volume_vol_diff_pct': 0.028233944}, {'return_vol_10D': 0.035706285}, {'SPY_5D': 0.036961596}]\"}\n",
      "{'deployment_date': datetime.datetime(2023, 3, 20, 0, 0), 'dataset_end': datetime.datetime(2023, 3, 10, 0, 0), 'dataset_start': datetime.datetime(2018, 1, 1, 0, 0)}\n",
      "-0.028\n",
      "0.6725379483543612\n"
     ]
    },
    {
     "name": "stderr",
     "output_type": "stream",
     "text": [
      "/var/folders/tq/_9q_lv1s2bndbr3tzzn08x4r0000gn/T/ipykernel_13078/1039188303.py:2: SettingWithCopyWarning: \n",
      "A value is trying to be set on a copy of a slice from a DataFrame.\n",
      "Try using .loc[row_indexer,col_indexer] = value instead\n",
      "\n",
      "See the caveats in the documentation: https://pandas.pydata.org/pandas-docs/stable/user_guide/indexing.html#returning-a-view-versus-a-copy\n",
      "  dataset.loc[:, 'label'] = (dataset[target_label] < target_value).astype(int)\n"
     ]
    },
    {
     "name": "stdout",
     "output_type": "stream",
     "text": [
      "label\n",
      "0    44887\n",
      "1    33845\n",
      "Name: count, dtype: int64\n",
      "141 108 98 98\n",
      "{'model_name': 'MAP:RM220_TSSIM1_TL15-EXP_custHypTP0.43', 'deployment_date': '2023-03-20', 'algorithm_type': 'xgboost', 'dataset': 'MAP:RM220_TSSIM1_TL15-EXP_custHypTP0.43', 'TP': 141, 'TPpct': Decimal('0'), 'FP': 108, 'FPpct': Decimal('0'), 'TN': 98, 'TNpct': Decimal('0'), 'FN': 98, 'FNpct': Decimal('0'), 'precision_ratio': Decimal('1.3055555555555556'), 'evaluation_timeperiod': '2023-03-20_2023-03-24', 'live': False, 'hyperparameters': {\"{'subsample': 0.6, 'num_round': 1000, 'min_child_weight': 10, 'max_depth': 10, 'learning_rate': 0.1, 'gamma': 2, 'colsample_bytree': 1}\"}, 'features': {\"['oneD_stddev50', 'rsi', 'close_diff', 'daily_volume_vol_diff_pct30', 'range_vol_diff5', 'SPY_diff', 'threeD_stddev50', 'close_diff3', 'min_volume_vol_diff_pct', 'month', 'return_vol_240M', 'range_vol', 'rsi5', 'roc', 'SPY_3D', 'roc5', 'roc_diff', 'price_25DDiff', 'daily_volume_vol_diff_pct', 'price_10DDiff', 'SPY_1D', 'hour_volume_vol_diff', 'hour_volume_vol_diff_pct', 'return_vol_10D', 'SPY_5D']\"}, 'target': '-0.028+three_min', 'feature_importances': \"[{'oneD_stddev50': 0.07838557}, {'rsi': 0.033758577}, {'close_diff': 0.031399578}, {'daily_volume_vol_diff_pct30': 0.028733406}, {'range_vol_diff5': 0.031015998}, {'SPY_diff': 0.027062207}, {'threeD_stddev50': 0.043627676}, {'close_diff3': 0.031508636}, {'min_volume_vol_diff_pct': 0.02380304}, {'month': 0.04026615}, {'return_vol_240M': 0.15967125}, {'range_vol': 0.040393826}, {'rsi5': 0.033005837}, {'roc': 0.033655804}, {'SPY_3D': 0.034398306}, {'roc5': 0.033224747}, {'roc_diff': 0.03424341}, {'price_25DDiff': 0.034518223}, {'daily_volume_vol_diff_pct': 0.028900368}, {'price_10DDiff': 0.03427238}, {'SPY_1D': 0.036802962}, {'hour_volume_vol_diff': 0.028186357}, {'hour_volume_vol_diff_pct': 0.026273733}, {'return_vol_10D': 0.036589347}, {'SPY_5D': 0.03630266}]\"}\n",
      "{'deployment_date': datetime.datetime(2023, 3, 27, 0, 0), 'dataset_end': datetime.datetime(2023, 3, 17, 0, 0), 'dataset_start': datetime.datetime(2018, 1, 1, 0, 0)}\n",
      "-0.03\n",
      "0.2788022158496218\n"
     ]
    },
    {
     "name": "stderr",
     "output_type": "stream",
     "text": [
      "/var/folders/tq/_9q_lv1s2bndbr3tzzn08x4r0000gn/T/ipykernel_13078/1039188303.py:2: SettingWithCopyWarning: \n",
      "A value is trying to be set on a copy of a slice from a DataFrame.\n",
      "Try using .loc[row_indexer,col_indexer] = value instead\n",
      "\n",
      "See the caveats in the documentation: https://pandas.pydata.org/pandas-docs/stable/user_guide/indexing.html#returning-a-view-versus-a-copy\n",
      "  dataset.loc[:, 'label'] = (dataset[target_label] < target_value).astype(int)\n"
     ]
    },
    {
     "name": "stdout",
     "output_type": "stream",
     "text": [
      "label\n",
      "0    18723\n",
      "1    14041\n",
      "Name: count, dtype: int64\n",
      "44 100 240 66\n",
      "{'model_name': 'MAP:RM220_TSSIM1_TL15-EXP_custHypTP0.43', 'deployment_date': '2023-03-27', 'algorithm_type': 'xgboost', 'dataset': 'MAP:RM220_TSSIM1_TL15-EXP_custHypTP0.43', 'TP': 44, 'TPpct': Decimal('0'), 'FP': 100, 'FPpct': Decimal('0'), 'TN': 240, 'TNpct': Decimal('0'), 'FN': 66, 'FNpct': Decimal('0'), 'precision_ratio': Decimal('0.44'), 'evaluation_timeperiod': '2023-03-27_2023-03-31', 'live': False, 'hyperparameters': {\"{'subsample': 0.6, 'num_round': 1000, 'min_child_weight': 10, 'max_depth': 10, 'learning_rate': 0.1, 'gamma': 2, 'colsample_bytree': 1}\"}, 'features': {\"['oneD_stddev50', 'rsi', 'close_diff', 'daily_volume_vol_diff_pct30', 'range_vol_diff5', 'SPY_diff', 'threeD_stddev50', 'close_diff3', 'min_volume_vol_diff_pct', 'month', 'return_vol_240M', 'range_vol', 'rsi5', 'roc', 'SPY_3D', 'roc5', 'roc_diff', 'price_25DDiff', 'daily_volume_vol_diff_pct', 'price_10DDiff', 'SPY_1D', 'hour_volume_vol_diff', 'hour_volume_vol_diff_pct', 'return_vol_10D', 'SPY_5D']\"}, 'target': '-0.03+three_min', 'feature_importances': \"[{'oneD_stddev50': 0.051597342}, {'rsi': 0.03332848}, {'close_diff': 0.032923095}, {'daily_volume_vol_diff_pct30': 0.030489337}, {'range_vol_diff5': 0.03357455}, {'SPY_diff': 0.03008362}, {'threeD_stddev50': 0.034873314}, {'close_diff3': 0.036598418}, {'min_volume_vol_diff_pct': 0.024733428}, {'month': 0.0463282}, {'return_vol_240M': 0.14391232}, {'range_vol': 0.039259598}, {'rsi5': 0.035907887}, {'roc': 0.034878995}, {'SPY_3D': 0.04114761}, {'roc5': 0.034856092}, {'roc_diff': 0.03592782}, {'price_25DDiff': 0.033279438}, {'daily_volume_vol_diff_pct': 0.030420665}, {'price_10DDiff': 0.039199896}, {'SPY_1D': 0.040417157}, {'hour_volume_vol_diff': 0.03064128}, {'hour_volume_vol_diff_pct': 0.028726839}, {'return_vol_10D': 0.038232565}, {'SPY_5D': 0.038662087}]\"}\n",
      "{'deployment_date': datetime.datetime(2023, 4, 3, 0, 0), 'dataset_end': datetime.datetime(2023, 3, 24, 0, 0), 'dataset_start': datetime.datetime(2018, 1, 1, 0, 0)}\n",
      "-0.03\n",
      "0.2770313228499979\n"
     ]
    },
    {
     "name": "stderr",
     "output_type": "stream",
     "text": [
      "/var/folders/tq/_9q_lv1s2bndbr3tzzn08x4r0000gn/T/ipykernel_13078/1039188303.py:2: SettingWithCopyWarning: \n",
      "A value is trying to be set on a copy of a slice from a DataFrame.\n",
      "Try using .loc[row_indexer,col_indexer] = value instead\n",
      "\n",
      "See the caveats in the documentation: https://pandas.pydata.org/pandas-docs/stable/user_guide/indexing.html#returning-a-view-versus-a-copy\n",
      "  dataset.loc[:, 'label'] = (dataset[target_label] < target_value).astype(int)\n"
     ]
    },
    {
     "name": "stdout",
     "output_type": "stream",
     "text": [
      "label\n",
      "0    18723\n",
      "1    13957\n",
      "Name: count, dtype: int64\n",
      "38 61 209 51\n",
      "{'model_name': 'MAP:RM220_TSSIM1_TL15-EXP_custHypTP0.43', 'deployment_date': '2023-04-03', 'algorithm_type': 'xgboost', 'dataset': 'MAP:RM220_TSSIM1_TL15-EXP_custHypTP0.43', 'TP': 38, 'TPpct': Decimal('0'), 'FP': 61, 'FPpct': Decimal('0'), 'TN': 209, 'TNpct': Decimal('0'), 'FN': 51, 'FNpct': Decimal('0'), 'precision_ratio': Decimal('0.6229508196721312'), 'evaluation_timeperiod': '2023-04-03_2023-04-07', 'live': False, 'hyperparameters': {\"{'subsample': 0.6, 'num_round': 1000, 'min_child_weight': 10, 'max_depth': 10, 'learning_rate': 0.1, 'gamma': 2, 'colsample_bytree': 1}\"}, 'features': {\"['oneD_stddev50', 'rsi', 'close_diff', 'daily_volume_vol_diff_pct30', 'range_vol_diff5', 'SPY_diff', 'threeD_stddev50', 'close_diff3', 'min_volume_vol_diff_pct', 'month', 'return_vol_240M', 'range_vol', 'rsi5', 'roc', 'SPY_3D', 'roc5', 'roc_diff', 'price_25DDiff', 'daily_volume_vol_diff_pct', 'price_10DDiff', 'SPY_1D', 'hour_volume_vol_diff', 'hour_volume_vol_diff_pct', 'return_vol_10D', 'SPY_5D']\"}, 'target': '-0.03+three_min', 'feature_importances': \"[{'oneD_stddev50': 0.05122613}, {'rsi': 0.033507172}, {'close_diff': 0.032132413}, {'daily_volume_vol_diff_pct30': 0.030639915}, {'range_vol_diff5': 0.032336943}, {'SPY_diff': 0.029019197}, {'threeD_stddev50': 0.034210764}, {'close_diff3': 0.036465023}, {'min_volume_vol_diff_pct': 0.026122052}, {'month': 0.047020085}, {'return_vol_240M': 0.15026243}, {'range_vol': 0.038020063}, {'rsi5': 0.033743437}, {'roc': 0.035814464}, {'SPY_3D': 0.04104987}, {'roc5': 0.033980172}, {'roc_diff': 0.03666934}, {'price_25DDiff': 0.031319547}, {'daily_volume_vol_diff_pct': 0.032114945}, {'price_10DDiff': 0.0386957}, {'SPY_1D': 0.04007585}, {'hour_volume_vol_diff': 0.031823605}, {'hour_volume_vol_diff_pct': 0.030066738}, {'return_vol_10D': 0.034570456}, {'SPY_5D': 0.0391137}]\"}\n",
      "{'deployment_date': datetime.datetime(2023, 4, 10, 0, 0), 'dataset_end': datetime.datetime(2023, 3, 31, 0, 0), 'dataset_start': datetime.datetime(2018, 1, 1, 0, 0)}\n",
      "-0.028\n",
      "0.6724148123126293\n"
     ]
    },
    {
     "name": "stderr",
     "output_type": "stream",
     "text": [
      "/var/folders/tq/_9q_lv1s2bndbr3tzzn08x4r0000gn/T/ipykernel_13078/1039188303.py:2: SettingWithCopyWarning: \n",
      "A value is trying to be set on a copy of a slice from a DataFrame.\n",
      "Try using .loc[row_indexer,col_indexer] = value instead\n",
      "\n",
      "See the caveats in the documentation: https://pandas.pydata.org/pandas-docs/stable/user_guide/indexing.html#returning-a-view-versus-a-copy\n",
      "  dataset.loc[:, 'label'] = (dataset[target_label] < target_value).astype(int)\n"
     ]
    },
    {
     "name": "stdout",
     "output_type": "stream",
     "text": [
      "label\n",
      "0    45301\n",
      "1    34323\n",
      "Name: count, dtype: int64\n",
      "72 95 218 65\n",
      "{'model_name': 'MAP:RM220_TSSIM1_TL15-EXP_custHypTP0.43', 'deployment_date': '2023-04-10', 'algorithm_type': 'xgboost', 'dataset': 'MAP:RM220_TSSIM1_TL15-EXP_custHypTP0.43', 'TP': 72, 'TPpct': Decimal('0'), 'FP': 95, 'FPpct': Decimal('0'), 'TN': 218, 'TNpct': Decimal('0'), 'FN': 65, 'FNpct': Decimal('0'), 'precision_ratio': Decimal('0.7578947368421053'), 'evaluation_timeperiod': '2023-04-10_2023-04-14', 'live': False, 'hyperparameters': {\"{'subsample': 0.6, 'num_round': 1000, 'min_child_weight': 10, 'max_depth': 10, 'learning_rate': 0.1, 'gamma': 2, 'colsample_bytree': 1}\"}, 'features': {\"['oneD_stddev50', 'rsi', 'close_diff', 'daily_volume_vol_diff_pct30', 'range_vol_diff5', 'SPY_diff', 'threeD_stddev50', 'close_diff3', 'min_volume_vol_diff_pct', 'month', 'return_vol_240M', 'range_vol', 'rsi5', 'roc', 'SPY_3D', 'roc5', 'roc_diff', 'price_25DDiff', 'daily_volume_vol_diff_pct', 'price_10DDiff', 'SPY_1D', 'hour_volume_vol_diff', 'hour_volume_vol_diff_pct', 'return_vol_10D', 'SPY_5D']\"}, 'target': '-0.028+three_min', 'feature_importances': \"[{'oneD_stddev50': 0.055570204}, {'rsi': 0.034850236}, {'close_diff': 0.032478493}, {'daily_volume_vol_diff_pct30': 0.028623972}, {'range_vol_diff5': 0.029515099}, {'SPY_diff': 0.026948053}, {'threeD_stddev50': 0.04559028}, {'close_diff3': 0.031252567}, {'min_volume_vol_diff_pct': 0.024412138}, {'month': 0.038991254}, {'return_vol_240M': 0.17603046}, {'range_vol': 0.03961883}, {'rsi5': 0.032432325}, {'roc': 0.03416086}, {'SPY_3D': 0.03623029}, {'roc5': 0.031773053}, {'roc_diff': 0.03455232}, {'price_25DDiff': 0.035101376}, {'daily_volume_vol_diff_pct': 0.029049883}, {'price_10DDiff': 0.034489956}, {'SPY_1D': 0.035294376}, {'hour_volume_vol_diff': 0.029767537}, {'hour_volume_vol_diff_pct': 0.027110524}, {'return_vol_10D': 0.039323933}, {'SPY_5D': 0.036831964}]\"}\n",
      "{'deployment_date': datetime.datetime(2023, 4, 17, 0, 0), 'dataset_end': datetime.datetime(2023, 4, 7, 0, 0), 'dataset_start': datetime.datetime(2018, 1, 1, 0, 0)}\n",
      "-0.028\n",
      "0.6719427488949695\n"
     ]
    },
    {
     "name": "stderr",
     "output_type": "stream",
     "text": [
      "/var/folders/tq/_9q_lv1s2bndbr3tzzn08x4r0000gn/T/ipykernel_13078/1039188303.py:2: SettingWithCopyWarning: \n",
      "A value is trying to be set on a copy of a slice from a DataFrame.\n",
      "Try using .loc[row_indexer,col_indexer] = value instead\n",
      "\n",
      "See the caveats in the documentation: https://pandas.pydata.org/pandas-docs/stable/user_guide/indexing.html#returning-a-view-versus-a-copy\n",
      "  dataset.loc[:, 'label'] = (dataset[target_label] < target_value).astype(int)\n"
     ]
    },
    {
     "name": "stdout",
     "output_type": "stream",
     "text": [
      "label\n",
      "0    45483\n",
      "1    34327\n",
      "Name: count, dtype: int64\n",
      "89 36 165 154\n",
      "{'model_name': 'MAP:RM220_TSSIM1_TL15-EXP_custHypTP0.43', 'deployment_date': '2023-04-17', 'algorithm_type': 'xgboost', 'dataset': 'MAP:RM220_TSSIM1_TL15-EXP_custHypTP0.43', 'TP': 89, 'TPpct': Decimal('0'), 'FP': 36, 'FPpct': Decimal('0'), 'TN': 165, 'TNpct': Decimal('0'), 'FN': 154, 'FNpct': Decimal('0'), 'precision_ratio': Decimal('2.4722222222222223'), 'evaluation_timeperiod': '2023-04-17_2023-04-21', 'live': False, 'hyperparameters': {\"{'subsample': 0.6, 'num_round': 1000, 'min_child_weight': 10, 'max_depth': 10, 'learning_rate': 0.1, 'gamma': 2, 'colsample_bytree': 1}\"}, 'features': {\"['oneD_stddev50', 'rsi', 'close_diff', 'daily_volume_vol_diff_pct30', 'range_vol_diff5', 'SPY_diff', 'threeD_stddev50', 'close_diff3', 'min_volume_vol_diff_pct', 'month', 'return_vol_240M', 'range_vol', 'rsi5', 'roc', 'SPY_3D', 'roc5', 'roc_diff', 'price_25DDiff', 'daily_volume_vol_diff_pct', 'price_10DDiff', 'SPY_1D', 'hour_volume_vol_diff', 'hour_volume_vol_diff_pct', 'return_vol_10D', 'SPY_5D']\"}, 'target': '-0.028+three_min', 'feature_importances': \"[{'oneD_stddev50': 0.07639675}, {'rsi': 0.03340633}, {'close_diff': 0.030859925}, {'daily_volume_vol_diff_pct30': 0.028781177}, {'range_vol_diff5': 0.030949423}, {'SPY_diff': 0.02715352}, {'threeD_stddev50': 0.042252578}, {'close_diff3': 0.033128124}, {'min_volume_vol_diff_pct': 0.02534929}, {'month': 0.039244514}, {'return_vol_240M': 0.15676452}, {'range_vol': 0.037937135}, {'rsi5': 0.034264237}, {'roc': 0.034718066}, {'SPY_3D': 0.036202867}, {'roc5': 0.032953557}, {'roc_diff': 0.034823533}, {'price_25DDiff': 0.034910142}, {'daily_volume_vol_diff_pct': 0.029274125}, {'price_10DDiff': 0.034557506}, {'SPY_1D': 0.03527332}, {'hour_volume_vol_diff': 0.030197041}, {'hour_volume_vol_diff_pct': 0.02767919}, {'return_vol_10D': 0.038072217}, {'SPY_5D': 0.03485095}]\"}\n",
      "{'deployment_date': datetime.datetime(2023, 4, 24, 0, 0), 'dataset_end': datetime.datetime(2023, 4, 14, 0, 0), 'dataset_start': datetime.datetime(2018, 1, 1, 0, 0)}\n",
      "-0.028\n",
      "0.8194002935625917\n"
     ]
    },
    {
     "name": "stderr",
     "output_type": "stream",
     "text": [
      "/var/folders/tq/_9q_lv1s2bndbr3tzzn08x4r0000gn/T/ipykernel_13078/1039188303.py:2: SettingWithCopyWarning: \n",
      "A value is trying to be set on a copy of a slice from a DataFrame.\n",
      "Try using .loc[row_indexer,col_indexer] = value instead\n",
      "\n",
      "See the caveats in the documentation: https://pandas.pydata.org/pandas-docs/stable/user_guide/indexing.html#returning-a-view-versus-a-copy\n",
      "  dataset.loc[:, 'label'] = (dataset[target_label] < target_value).astype(int)\n"
     ]
    },
    {
     "name": "stdout",
     "output_type": "stream",
     "text": [
      "label\n",
      "0    55917\n",
      "1    41776\n",
      "Name: count, dtype: int64\n",
      "57 54 209 130\n",
      "{'model_name': 'MAP:RM220_TSSIM1_TL15-EXP_custHypTP0.43', 'deployment_date': '2023-04-24', 'algorithm_type': 'xgboost', 'dataset': 'MAP:RM220_TSSIM1_TL15-EXP_custHypTP0.43', 'TP': 57, 'TPpct': Decimal('0'), 'FP': 54, 'FPpct': Decimal('0'), 'TN': 209, 'TNpct': Decimal('0'), 'FN': 130, 'FNpct': Decimal('0'), 'precision_ratio': Decimal('1.0555555555555556'), 'evaluation_timeperiod': '2023-04-24_2023-04-28', 'live': False, 'hyperparameters': {\"{'subsample': 0.6, 'num_round': 1000, 'min_child_weight': 10, 'max_depth': 10, 'learning_rate': 0.1, 'gamma': 2, 'colsample_bytree': 1}\"}, 'features': {\"['oneD_stddev50', 'rsi', 'close_diff', 'daily_volume_vol_diff_pct30', 'range_vol_diff5', 'SPY_diff', 'threeD_stddev50', 'close_diff3', 'min_volume_vol_diff_pct', 'month', 'return_vol_240M', 'range_vol', 'rsi5', 'roc', 'SPY_3D', 'roc5', 'roc_diff', 'price_25DDiff', 'daily_volume_vol_diff_pct', 'price_10DDiff', 'SPY_1D', 'hour_volume_vol_diff', 'hour_volume_vol_diff_pct', 'return_vol_10D', 'SPY_5D']\"}, 'target': '-0.028+three_min', 'feature_importances': \"[{'oneD_stddev50': 0.09253278}, {'rsi': 0.03472835}, {'close_diff': 0.03213827}, {'daily_volume_vol_diff_pct30': 0.029270306}, {'range_vol_diff5': 0.030727694}, {'SPY_diff': 0.02843275}, {'threeD_stddev50': 0.042609885}, {'close_diff3': 0.033378728}, {'min_volume_vol_diff_pct': 0.025040898}, {'month': 0.040237725}, {'return_vol_240M': 0.13035023}, {'range_vol': 0.036758006}, {'rsi5': 0.0348161}, {'roc': 0.035606246}, {'SPY_3D': 0.036352023}, {'roc5': 0.033872183}, {'roc_diff': 0.035357792}, {'price_25DDiff': 0.035039946}, {'daily_volume_vol_diff_pct': 0.030157423}, {'price_10DDiff': 0.035336696}, {'SPY_1D': 0.037048202}, {'hour_volume_vol_diff': 0.028585246}, {'hour_volume_vol_diff_pct': 0.029581998}, {'return_vol_10D': 0.035891186}, {'SPY_5D': 0.036149368}]\"}\n",
      "{'deployment_date': datetime.datetime(2023, 5, 1, 0, 0), 'dataset_end': datetime.datetime(2023, 4, 21, 0, 0), 'dataset_start': datetime.datetime(2018, 1, 1, 0, 0)}\n",
      "-0.03\n",
      "0.2790530546758141\n"
     ]
    },
    {
     "name": "stderr",
     "output_type": "stream",
     "text": [
      "/var/folders/tq/_9q_lv1s2bndbr3tzzn08x4r0000gn/T/ipykernel_13078/1039188303.py:2: SettingWithCopyWarning: \n",
      "A value is trying to be set on a copy of a slice from a DataFrame.\n",
      "Try using .loc[row_indexer,col_indexer] = value instead\n",
      "\n",
      "See the caveats in the documentation: https://pandas.pydata.org/pandas-docs/stable/user_guide/indexing.html#returning-a-view-versus-a-copy\n",
      "  dataset.loc[:, 'label'] = (dataset[target_label] < target_value).astype(int)\n"
     ]
    },
    {
     "name": "stdout",
     "output_type": "stream",
     "text": [
      "label\n",
      "0    19101\n",
      "1    14293\n",
      "Name: count, dtype: int64\n",
      "63 100 196 91\n",
      "{'model_name': 'MAP:RM220_TSSIM1_TL15-EXP_custHypTP0.43', 'deployment_date': '2023-05-01', 'algorithm_type': 'xgboost', 'dataset': 'MAP:RM220_TSSIM1_TL15-EXP_custHypTP0.43', 'TP': 63, 'TPpct': Decimal('0'), 'FP': 100, 'FPpct': Decimal('0'), 'TN': 196, 'TNpct': Decimal('0'), 'FN': 91, 'FNpct': Decimal('0'), 'precision_ratio': Decimal('0.63'), 'evaluation_timeperiod': '2023-05-01_2023-05-05', 'live': False, 'hyperparameters': {\"{'subsample': 0.6, 'num_round': 1000, 'min_child_weight': 10, 'max_depth': 10, 'learning_rate': 0.1, 'gamma': 2, 'colsample_bytree': 1}\"}, 'features': {\"['oneD_stddev50', 'rsi', 'close_diff', 'daily_volume_vol_diff_pct30', 'range_vol_diff5', 'SPY_diff', 'threeD_stddev50', 'close_diff3', 'min_volume_vol_diff_pct', 'month', 'return_vol_240M', 'range_vol', 'rsi5', 'roc', 'SPY_3D', 'roc5', 'roc_diff', 'price_25DDiff', 'daily_volume_vol_diff_pct', 'price_10DDiff', 'SPY_1D', 'hour_volume_vol_diff', 'hour_volume_vol_diff_pct', 'return_vol_10D', 'SPY_5D']\"}, 'target': '-0.03+three_min', 'feature_importances': \"[{'oneD_stddev50': 0.050378732}, {'rsi': 0.034234386}, {'close_diff': 0.031598486}, {'daily_volume_vol_diff_pct30': 0.030314147}, {'range_vol_diff5': 0.03205846}, {'SPY_diff': 0.030608775}, {'threeD_stddev50': 0.03451835}, {'close_diff3': 0.036619473}, {'min_volume_vol_diff_pct': 0.024337795}, {'month': 0.046568435}, {'return_vol_240M': 0.15345669}, {'range_vol': 0.03889653}, {'rsi5': 0.034342285}, {'roc': 0.035066508}, {'SPY_3D': 0.040741973}, {'roc5': 0.034296304}, {'roc_diff': 0.037126683}, {'price_25DDiff': 0.03299308}, {'daily_volume_vol_diff_pct': 0.029889965}, {'price_10DDiff': 0.03702337}, {'SPY_1D': 0.04019293}, {'hour_volume_vol_diff': 0.030186437}, {'hour_volume_vol_diff_pct': 0.02916266}, {'return_vol_10D': 0.03606276}, {'SPY_5D': 0.03932476}]\"}\n",
      "{'deployment_date': datetime.datetime(2023, 5, 8, 0, 0), 'dataset_end': datetime.datetime(2023, 4, 28, 0, 0), 'dataset_start': datetime.datetime(2018, 1, 1, 0, 0)}\n",
      "-0.03\n",
      "0.28770635786178705\n"
     ]
    },
    {
     "name": "stderr",
     "output_type": "stream",
     "text": [
      "/var/folders/tq/_9q_lv1s2bndbr3tzzn08x4r0000gn/T/ipykernel_13078/1039188303.py:2: SettingWithCopyWarning: \n",
      "A value is trying to be set on a copy of a slice from a DataFrame.\n",
      "Try using .loc[row_indexer,col_indexer] = value instead\n",
      "\n",
      "See the caveats in the documentation: https://pandas.pydata.org/pandas-docs/stable/user_guide/indexing.html#returning-a-view-versus-a-copy\n",
      "  dataset.loc[:, 'label'] = (dataset[target_label] < target_value).astype(int)\n"
     ]
    },
    {
     "name": "stdout",
     "output_type": "stream",
     "text": [
      "label\n",
      "0    19759\n",
      "1    14800\n",
      "Name: count, dtype: int64\n",
      "73 66 231 74\n",
      "{'model_name': 'MAP:RM220_TSSIM1_TL15-EXP_custHypTP0.43', 'deployment_date': '2023-05-08', 'algorithm_type': 'xgboost', 'dataset': 'MAP:RM220_TSSIM1_TL15-EXP_custHypTP0.43', 'TP': 73, 'TPpct': Decimal('0'), 'FP': 66, 'FPpct': Decimal('0'), 'TN': 231, 'TNpct': Decimal('0'), 'FN': 74, 'FNpct': Decimal('0'), 'precision_ratio': Decimal('1.106060606060606'), 'evaluation_timeperiod': '2023-05-08_2023-05-12', 'live': False, 'hyperparameters': {\"{'subsample': 0.6, 'num_round': 1000, 'min_child_weight': 10, 'max_depth': 10, 'learning_rate': 0.1, 'gamma': 2, 'colsample_bytree': 1}\"}, 'features': {\"['oneD_stddev50', 'rsi', 'close_diff', 'daily_volume_vol_diff_pct30', 'range_vol_diff5', 'SPY_diff', 'threeD_stddev50', 'close_diff3', 'min_volume_vol_diff_pct', 'month', 'return_vol_240M', 'range_vol', 'rsi5', 'roc', 'SPY_3D', 'roc5', 'roc_diff', 'price_25DDiff', 'daily_volume_vol_diff_pct', 'price_10DDiff', 'SPY_1D', 'hour_volume_vol_diff', 'hour_volume_vol_diff_pct', 'return_vol_10D', 'SPY_5D']\"}, 'target': '-0.03+three_min', 'feature_importances': \"[{'oneD_stddev50': 0.04564936}, {'rsi': 0.033589456}, {'close_diff': 0.031449832}, {'daily_volume_vol_diff_pct30': 0.031270493}, {'range_vol_diff5': 0.032248482}, {'SPY_diff': 0.03078673}, {'threeD_stddev50': 0.036632657}, {'close_diff3': 0.037460722}, {'min_volume_vol_diff_pct': 0.025269067}, {'month': 0.045088477}, {'return_vol_240M': 0.15513372}, {'range_vol': 0.040246293}, {'rsi5': 0.033670537}, {'roc': 0.035029303}, {'SPY_3D': 0.039378826}, {'roc5': 0.034096073}, {'roc_diff': 0.036819987}, {'price_25DDiff': 0.03199143}, {'daily_volume_vol_diff_pct': 0.030311298}, {'price_10DDiff': 0.036826976}, {'SPY_1D': 0.04104629}, {'hour_volume_vol_diff': 0.03158429}, {'hour_volume_vol_diff_pct': 0.029397517}, {'return_vol_10D': 0.035728455}, {'SPY_5D': 0.03929375}]\"}\n",
      "{'deployment_date': datetime.datetime(2023, 5, 15, 0, 0), 'dataset_end': datetime.datetime(2023, 5, 5, 0, 0), 'dataset_start': datetime.datetime(2018, 1, 1, 0, 0)}\n",
      "-0.031\n",
      "0.5031309872355249\n"
     ]
    },
    {
     "name": "stderr",
     "output_type": "stream",
     "text": [
      "/var/folders/tq/_9q_lv1s2bndbr3tzzn08x4r0000gn/T/ipykernel_13078/1039188303.py:2: SettingWithCopyWarning: \n",
      "A value is trying to be set on a copy of a slice from a DataFrame.\n",
      "Try using .loc[row_indexer,col_indexer] = value instead\n",
      "\n",
      "See the caveats in the documentation: https://pandas.pydata.org/pandas-docs/stable/user_guide/indexing.html#returning-a-view-versus-a-copy\n",
      "  dataset.loc[:, 'label'] = (dataset[target_label] < target_value).astype(int)\n"
     ]
    },
    {
     "name": "stdout",
     "output_type": "stream",
     "text": [
      "label\n",
      "0    34263\n",
      "1    26399\n",
      "Name: count, dtype: int64\n",
      "15 73 305 51\n",
      "{'model_name': 'MAP:RM220_TSSIM1_TL15-EXP_custHypTP0.43', 'deployment_date': '2023-05-15', 'algorithm_type': 'xgboost', 'dataset': 'MAP:RM220_TSSIM1_TL15-EXP_custHypTP0.43', 'TP': 15, 'TPpct': Decimal('0'), 'FP': 73, 'FPpct': Decimal('0'), 'TN': 305, 'TNpct': Decimal('0'), 'FN': 51, 'FNpct': Decimal('0'), 'precision_ratio': Decimal('0.2054794520547945'), 'evaluation_timeperiod': '2023-05-15_2023-05-19', 'live': False, 'hyperparameters': {\"{'subsample': 0.6, 'num_round': 1000, 'min_child_weight': 10, 'max_depth': 10, 'learning_rate': 0.1, 'gamma': 2, 'colsample_bytree': 1}\"}, 'features': {\"['oneD_stddev50', 'rsi', 'close_diff', 'daily_volume_vol_diff_pct30', 'range_vol_diff5', 'SPY_diff', 'threeD_stddev50', 'close_diff3', 'min_volume_vol_diff_pct', 'month', 'return_vol_240M', 'range_vol', 'rsi5', 'roc', 'SPY_3D', 'roc5', 'roc_diff', 'price_25DDiff', 'daily_volume_vol_diff_pct', 'price_10DDiff', 'SPY_1D', 'hour_volume_vol_diff', 'hour_volume_vol_diff_pct', 'return_vol_10D', 'SPY_5D']\"}, 'target': '-0.031+three_min', 'feature_importances': \"[{'oneD_stddev50': 0.046157047}, {'rsi': 0.03695658}, {'close_diff': 0.031561587}, {'daily_volume_vol_diff_pct30': 0.029641218}, {'range_vol_diff5': 0.031529926}, {'SPY_diff': 0.027613534}, {'threeD_stddev50': 0.03901975}, {'close_diff3': 0.03466033}, {'min_volume_vol_diff_pct': 0.025277752}, {'month': 0.04332664}, {'return_vol_240M': 0.16224545}, {'range_vol': 0.034652393}, {'rsi5': 0.032162663}, {'roc': 0.035805665}, {'SPY_3D': 0.037404336}, {'roc5': 0.034499075}, {'roc_diff': 0.03580532}, {'price_25DDiff': 0.03653885}, {'daily_volume_vol_diff_pct': 0.030457953}, {'price_10DDiff': 0.03669643}, {'SPY_1D': 0.038783368}, {'hour_volume_vol_diff': 0.028492518}, {'hour_volume_vol_diff_pct': 0.029489422}, {'return_vol_10D': 0.042036936}, {'SPY_5D': 0.03918534}]\"}\n",
      "{'deployment_date': datetime.datetime(2023, 5, 22, 0, 0), 'dataset_end': datetime.datetime(2023, 5, 12, 0, 0), 'dataset_start': datetime.datetime(2018, 1, 1, 0, 0)}\n",
      "-0.031\n",
      "0.5027724294084107\n"
     ]
    },
    {
     "name": "stderr",
     "output_type": "stream",
     "text": [
      "/var/folders/tq/_9q_lv1s2bndbr3tzzn08x4r0000gn/T/ipykernel_13078/1039188303.py:2: SettingWithCopyWarning: \n",
      "A value is trying to be set on a copy of a slice from a DataFrame.\n",
      "Try using .loc[row_indexer,col_indexer] = value instead\n",
      "\n",
      "See the caveats in the documentation: https://pandas.pydata.org/pandas-docs/stable/user_guide/indexing.html#returning-a-view-versus-a-copy\n",
      "  dataset.loc[:, 'label'] = (dataset[target_label] < target_value).astype(int)\n"
     ]
    },
    {
     "name": "stdout",
     "output_type": "stream",
     "text": [
      "label\n",
      "0    34382\n",
      "1    26460\n",
      "Name: count, dtype: int64\n",
      "44 92 225 89\n",
      "{'model_name': 'MAP:RM220_TSSIM1_TL15-EXP_custHypTP0.43', 'deployment_date': '2023-05-22', 'algorithm_type': 'xgboost', 'dataset': 'MAP:RM220_TSSIM1_TL15-EXP_custHypTP0.43', 'TP': 44, 'TPpct': Decimal('0'), 'FP': 92, 'FPpct': Decimal('0'), 'TN': 225, 'TNpct': Decimal('0'), 'FN': 89, 'FNpct': Decimal('0'), 'precision_ratio': Decimal('0.4782608695652174'), 'evaluation_timeperiod': '2023-05-22_2023-05-26', 'live': False, 'hyperparameters': {\"{'subsample': 0.6, 'num_round': 1000, 'min_child_weight': 10, 'max_depth': 10, 'learning_rate': 0.1, 'gamma': 2, 'colsample_bytree': 1}\"}, 'features': {\"['oneD_stddev50', 'rsi', 'close_diff', 'daily_volume_vol_diff_pct30', 'range_vol_diff5', 'SPY_diff', 'threeD_stddev50', 'close_diff3', 'min_volume_vol_diff_pct', 'month', 'return_vol_240M', 'range_vol', 'rsi5', 'roc', 'SPY_3D', 'roc5', 'roc_diff', 'price_25DDiff', 'daily_volume_vol_diff_pct', 'price_10DDiff', 'SPY_1D', 'hour_volume_vol_diff', 'hour_volume_vol_diff_pct', 'return_vol_10D', 'SPY_5D']\"}, 'target': '-0.031+three_min', 'feature_importances': \"[{'oneD_stddev50': 0.04637089}, {'rsi': 0.03538548}, {'close_diff': 0.032768313}, {'daily_volume_vol_diff_pct30': 0.02974026}, {'range_vol_diff5': 0.031214435}, {'SPY_diff': 0.029253269}, {'threeD_stddev50': 0.03990277}, {'close_diff3': 0.035038214}, {'min_volume_vol_diff_pct': 0.02509705}, {'month': 0.044699233}, {'return_vol_240M': 0.16127577}, {'range_vol': 0.034153208}, {'rsi5': 0.032711305}, {'roc': 0.036384933}, {'SPY_3D': 0.038081493}, {'roc5': 0.03460603}, {'roc_diff': 0.036059856}, {'price_25DDiff': 0.034329485}, {'daily_volume_vol_diff_pct': 0.029973019}, {'price_10DDiff': 0.037973557}, {'SPY_1D': 0.038518015}, {'hour_volume_vol_diff': 0.028468182}, {'hour_volume_vol_diff_pct': 0.029332288}, {'return_vol_10D': 0.03996256}, {'SPY_5D': 0.038700394}]\"}\n",
      "{'deployment_date': datetime.datetime(2023, 5, 29, 0, 0), 'dataset_end': datetime.datetime(2023, 5, 19, 0, 0), 'dataset_start': datetime.datetime(2018, 1, 1, 0, 0)}\n",
      "-0.025\n",
      "0.4421317832648592\n"
     ]
    },
    {
     "name": "stderr",
     "output_type": "stream",
     "text": [
      "/var/folders/tq/_9q_lv1s2bndbr3tzzn08x4r0000gn/T/ipykernel_13078/1039188303.py:2: SettingWithCopyWarning: \n",
      "A value is trying to be set on a copy of a slice from a DataFrame.\n",
      "Try using .loc[row_indexer,col_indexer] = value instead\n",
      "\n",
      "See the caveats in the documentation: https://pandas.pydata.org/pandas-docs/stable/user_guide/indexing.html#returning-a-view-versus-a-copy\n",
      "  dataset.loc[:, 'label'] = (dataset[target_label] < target_value).astype(int)\n"
     ]
    },
    {
     "name": "stdout",
     "output_type": "stream",
     "text": [
      "label\n",
      "0    30435\n",
      "1    23265\n",
      "Name: count, dtype: int64\n",
      "80 99 125 56\n",
      "{'model_name': 'MAP:RM220_TSSIM1_TL15-EXP_custHypTP0.43', 'deployment_date': '2023-05-29', 'algorithm_type': 'xgboost', 'dataset': 'MAP:RM220_TSSIM1_TL15-EXP_custHypTP0.43', 'TP': 80, 'TPpct': Decimal('0'), 'FP': 99, 'FPpct': Decimal('0'), 'TN': 125, 'TNpct': Decimal('0'), 'FN': 56, 'FNpct': Decimal('0'), 'precision_ratio': Decimal('0.8080808080808081'), 'evaluation_timeperiod': '2023-05-29_2023-06-02', 'live': False, 'hyperparameters': {\"{'subsample': 0.6, 'num_round': 1000, 'min_child_weight': 10, 'max_depth': 10, 'learning_rate': 0.1, 'gamma': 2, 'colsample_bytree': 1}\"}, 'features': {\"['oneD_stddev50', 'rsi', 'close_diff', 'daily_volume_vol_diff_pct30', 'range_vol_diff5', 'SPY_diff', 'threeD_stddev50', 'close_diff3', 'min_volume_vol_diff_pct', 'month', 'return_vol_240M', 'range_vol', 'rsi5', 'roc', 'SPY_3D', 'roc5', 'roc_diff', 'price_25DDiff', 'daily_volume_vol_diff_pct', 'price_10DDiff', 'SPY_1D', 'hour_volume_vol_diff', 'hour_volume_vol_diff_pct', 'return_vol_10D', 'SPY_5D']\"}, 'target': '-0.025+three_min', 'feature_importances': \"[{'oneD_stddev50': 0.11777817}, {'rsi': 0.03608753}, {'close_diff': 0.03135052}, {'daily_volume_vol_diff_pct30': 0.030988107}, {'range_vol_diff5': 0.031587124}, {'SPY_diff': 0.02793969}, {'threeD_stddev50': 0.053734746}, {'close_diff3': 0.033515427}, {'min_volume_vol_diff_pct': 0.02583294}, {'month': 0.043419898}, {'return_vol_240M': 0.066049}, {'range_vol': 0.054014698}, {'rsi5': 0.03663515}, {'roc': 0.036195826}, {'SPY_3D': 0.03631842}, {'roc5': 0.035814423}, {'roc_diff': 0.036508836}, {'price_25DDiff': 0.035292562}, {'daily_volume_vol_diff_pct': 0.029624015}, {'price_10DDiff': 0.035961125}, {'SPY_1D': 0.035860214}, {'hour_volume_vol_diff': 0.031032953}, {'hour_volume_vol_diff_pct': 0.028044777}, {'return_vol_10D': 0.0365231}, {'SPY_5D': 0.033890802}]\"}\n",
      "{'deployment_date': datetime.datetime(2023, 6, 5, 0, 0), 'dataset_end': datetime.datetime(2023, 5, 26, 0, 0), 'dataset_start': datetime.datetime(2018, 1, 1, 0, 0)}\n",
      "-0.025\n",
      "0.44345279598382376\n"
     ]
    },
    {
     "name": "stderr",
     "output_type": "stream",
     "text": [
      "/var/folders/tq/_9q_lv1s2bndbr3tzzn08x4r0000gn/T/ipykernel_13078/1039188303.py:2: SettingWithCopyWarning: \n",
      "A value is trying to be set on a copy of a slice from a DataFrame.\n",
      "Try using .loc[row_indexer,col_indexer] = value instead\n",
      "\n",
      "See the caveats in the documentation: https://pandas.pydata.org/pandas-docs/stable/user_guide/indexing.html#returning-a-view-versus-a-copy\n",
      "  dataset.loc[:, 'label'] = (dataset[target_label] < target_value).astype(int)\n"
     ]
    },
    {
     "name": "stdout",
     "output_type": "stream",
     "text": [
      "label\n",
      "0    30630\n",
      "1    23430\n",
      "Name: count, dtype: int64\n",
      "64 118 196 70\n",
      "{'model_name': 'MAP:RM220_TSSIM1_TL15-EXP_custHypTP0.43', 'deployment_date': '2023-06-05', 'algorithm_type': 'xgboost', 'dataset': 'MAP:RM220_TSSIM1_TL15-EXP_custHypTP0.43', 'TP': 64, 'TPpct': Decimal('0'), 'FP': 118, 'FPpct': Decimal('0'), 'TN': 196, 'TNpct': Decimal('0'), 'FN': 70, 'FNpct': Decimal('0'), 'precision_ratio': Decimal('0.5423728813559322'), 'evaluation_timeperiod': '2023-06-05_2023-06-09', 'live': False, 'hyperparameters': {\"{'subsample': 0.6, 'num_round': 1000, 'min_child_weight': 10, 'max_depth': 10, 'learning_rate': 0.1, 'gamma': 2, 'colsample_bytree': 1}\"}, 'features': {\"['oneD_stddev50', 'rsi', 'close_diff', 'daily_volume_vol_diff_pct30', 'range_vol_diff5', 'SPY_diff', 'threeD_stddev50', 'close_diff3', 'min_volume_vol_diff_pct', 'month', 'return_vol_240M', 'range_vol', 'rsi5', 'roc', 'SPY_3D', 'roc5', 'roc_diff', 'price_25DDiff', 'daily_volume_vol_diff_pct', 'price_10DDiff', 'SPY_1D', 'hour_volume_vol_diff', 'hour_volume_vol_diff_pct', 'return_vol_10D', 'SPY_5D']\"}, 'target': '-0.025+three_min', 'feature_importances': \"[{'oneD_stddev50': 0.11589169}, {'rsi': 0.036288828}, {'close_diff': 0.030504702}, {'daily_volume_vol_diff_pct30': 0.030793186}, {'range_vol_diff5': 0.03256972}, {'SPY_diff': 0.02911347}, {'threeD_stddev50': 0.05389933}, {'close_diff3': 0.03468741}, {'min_volume_vol_diff_pct': 0.02497014}, {'month': 0.042127352}, {'return_vol_240M': 0.06383852}, {'range_vol': 0.052632034}, {'rsi5': 0.037538975}, {'roc': 0.034205824}, {'SPY_3D': 0.036562197}, {'roc5': 0.035476014}, {'roc_diff': 0.03714981}, {'price_25DDiff': 0.03659782}, {'daily_volume_vol_diff_pct': 0.030406108}, {'price_10DDiff': 0.036930237}, {'SPY_1D': 0.036734246}, {'hour_volume_vol_diff': 0.03013425}, {'hour_volume_vol_diff_pct': 0.028587298}, {'return_vol_10D': 0.037620604}, {'SPY_5D': 0.03474015}]\"}\n",
      "{'deployment_date': datetime.datetime(2023, 6, 12, 0, 0), 'dataset_end': datetime.datetime(2023, 6, 2, 0, 0), 'dataset_start': datetime.datetime(2018, 1, 1, 0, 0)}\n",
      "-0.025\n",
      "0.4508984435702193\n"
     ]
    },
    {
     "name": "stderr",
     "output_type": "stream",
     "text": [
      "/var/folders/tq/_9q_lv1s2bndbr3tzzn08x4r0000gn/T/ipykernel_13078/1039188303.py:2: SettingWithCopyWarning: \n",
      "A value is trying to be set on a copy of a slice from a DataFrame.\n",
      "Try using .loc[row_indexer,col_indexer] = value instead\n",
      "\n",
      "See the caveats in the documentation: https://pandas.pydata.org/pandas-docs/stable/user_guide/indexing.html#returning-a-view-versus-a-copy\n",
      "  dataset.loc[:, 'label'] = (dataset[target_label] < target_value).astype(int)\n"
     ]
    },
    {
     "name": "stdout",
     "output_type": "stream",
     "text": [
      "label\n",
      "0    31315\n",
      "1    23815\n",
      "Name: count, dtype: int64\n",
      "107 92 172 79\n",
      "{'model_name': 'MAP:RM220_TSSIM1_TL15-EXP_custHypTP0.43', 'deployment_date': '2023-06-12', 'algorithm_type': 'xgboost', 'dataset': 'MAP:RM220_TSSIM1_TL15-EXP_custHypTP0.43', 'TP': 107, 'TPpct': Decimal('0'), 'FP': 92, 'FPpct': Decimal('0'), 'TN': 172, 'TNpct': Decimal('0'), 'FN': 79, 'FNpct': Decimal('0'), 'precision_ratio': Decimal('1.1630434782608696'), 'evaluation_timeperiod': '2023-06-12_2023-06-16', 'live': False, 'hyperparameters': {\"{'subsample': 0.6, 'num_round': 1000, 'min_child_weight': 10, 'max_depth': 10, 'learning_rate': 0.1, 'gamma': 2, 'colsample_bytree': 1}\"}, 'features': {\"['oneD_stddev50', 'rsi', 'close_diff', 'daily_volume_vol_diff_pct30', 'range_vol_diff5', 'SPY_diff', 'threeD_stddev50', 'close_diff3', 'min_volume_vol_diff_pct', 'month', 'return_vol_240M', 'range_vol', 'rsi5', 'roc', 'SPY_3D', 'roc5', 'roc_diff', 'price_25DDiff', 'daily_volume_vol_diff_pct', 'price_10DDiff', 'SPY_1D', 'hour_volume_vol_diff', 'hour_volume_vol_diff_pct', 'return_vol_10D', 'SPY_5D']\"}, 'target': '-0.025+three_min', 'feature_importances': \"[{'oneD_stddev50': 0.11388746}, {'rsi': 0.036554564}, {'close_diff': 0.03288154}, {'daily_volume_vol_diff_pct30': 0.030426195}, {'range_vol_diff5': 0.032309137}, {'SPY_diff': 0.029224722}, {'threeD_stddev50': 0.059657745}, {'close_diff3': 0.031443372}, {'min_volume_vol_diff_pct': 0.024263054}, {'month': 0.042480387}, {'return_vol_240M': 0.06573029}, {'range_vol': 0.05164443}, {'rsi5': 0.03656715}, {'roc': 0.035895787}, {'SPY_3D': 0.03566991}, {'roc5': 0.034925744}, {'roc_diff': 0.037528202}, {'price_25DDiff': 0.034992654}, {'daily_volume_vol_diff_pct': 0.029999726}, {'price_10DDiff': 0.034907732}, {'SPY_1D': 0.036528938}, {'hour_volume_vol_diff': 0.031033056}, {'hour_volume_vol_diff_pct': 0.02843826}, {'return_vol_10D': 0.03714798}, {'SPY_5D': 0.03586204}]\"}\n",
      "{'deployment_date': datetime.datetime(2023, 6, 19, 0, 0), 'dataset_end': datetime.datetime(2023, 6, 9, 0, 0), 'dataset_start': datetime.datetime(2018, 1, 1, 0, 0)}\n",
      "-0.025\n",
      "0.4471218097069657\n"
     ]
    },
    {
     "name": "stderr",
     "output_type": "stream",
     "text": [
      "/var/folders/tq/_9q_lv1s2bndbr3tzzn08x4r0000gn/T/ipykernel_13078/1039188303.py:2: SettingWithCopyWarning: \n",
      "A value is trying to be set on a copy of a slice from a DataFrame.\n",
      "Try using .loc[row_indexer,col_indexer] = value instead\n",
      "\n",
      "See the caveats in the documentation: https://pandas.pydata.org/pandas-docs/stable/user_guide/indexing.html#returning-a-view-versus-a-copy\n",
      "  dataset.loc[:, 'label'] = (dataset[target_label] < target_value).astype(int)\n"
     ]
    },
    {
     "name": "stdout",
     "output_type": "stream",
     "text": [
      "label\n",
      "0    31195\n",
      "1    23674\n",
      "Name: count, dtype: int64\n",
      "101 61 113 85\n",
      "{'model_name': 'MAP:RM220_TSSIM1_TL15-EXP_custHypTP0.43', 'deployment_date': '2023-06-19', 'algorithm_type': 'xgboost', 'dataset': 'MAP:RM220_TSSIM1_TL15-EXP_custHypTP0.43', 'TP': 101, 'TPpct': Decimal('0'), 'FP': 61, 'FPpct': Decimal('0'), 'TN': 113, 'TNpct': Decimal('0'), 'FN': 85, 'FNpct': Decimal('0'), 'precision_ratio': Decimal('1.6557377049180328'), 'evaluation_timeperiod': '2023-06-19_2023-06-23', 'live': False, 'hyperparameters': {\"{'subsample': 0.6, 'num_round': 1000, 'min_child_weight': 10, 'max_depth': 10, 'learning_rate': 0.1, 'gamma': 2, 'colsample_bytree': 1}\"}, 'features': {\"['oneD_stddev50', 'rsi', 'close_diff', 'daily_volume_vol_diff_pct30', 'range_vol_diff5', 'SPY_diff', 'threeD_stddev50', 'close_diff3', 'min_volume_vol_diff_pct', 'month', 'return_vol_240M', 'range_vol', 'rsi5', 'roc', 'SPY_3D', 'roc5', 'roc_diff', 'price_25DDiff', 'daily_volume_vol_diff_pct', 'price_10DDiff', 'SPY_1D', 'hour_volume_vol_diff', 'hour_volume_vol_diff_pct', 'return_vol_10D', 'SPY_5D']\"}, 'target': '-0.025+three_min', 'feature_importances': \"[{'oneD_stddev50': 0.12020533}, {'rsi': 0.035775702}, {'close_diff': 0.032217856}, {'daily_volume_vol_diff_pct30': 0.031838328}, {'range_vol_diff5': 0.03264646}, {'SPY_diff': 0.028898112}, {'threeD_stddev50': 0.046891235}, {'close_diff3': 0.03512297}, {'min_volume_vol_diff_pct': 0.025264941}, {'month': 0.04298503}, {'return_vol_240M': 0.07065993}, {'range_vol': 0.051247314}, {'rsi5': 0.03524303}, {'roc': 0.035863053}, {'SPY_3D': 0.035435274}, {'roc5': 0.035784233}, {'roc_diff': 0.036698963}, {'price_25DDiff': 0.03779836}, {'daily_volume_vol_diff_pct': 0.030668566}, {'price_10DDiff': 0.037120596}, {'SPY_1D': 0.035310972}, {'hour_volume_vol_diff': 0.028988894}, {'hour_volume_vol_diff_pct': 0.028315187}, {'return_vol_10D': 0.03633376}, {'SPY_5D': 0.032685954}]\"}\n",
      "{'deployment_date': datetime.datetime(2023, 6, 26, 0, 0), 'dataset_end': datetime.datetime(2023, 6, 16, 0, 0), 'dataset_start': datetime.datetime(2018, 1, 1, 0, 0)}\n",
      "-0.028\n",
      "0.5666742445155318\n"
     ]
    },
    {
     "name": "stderr",
     "output_type": "stream",
     "text": [
      "/var/folders/tq/_9q_lv1s2bndbr3tzzn08x4r0000gn/T/ipykernel_13078/1039188303.py:2: SettingWithCopyWarning: \n",
      "A value is trying to be set on a copy of a slice from a DataFrame.\n",
      "Try using .loc[row_indexer,col_indexer] = value instead\n",
      "\n",
      "See the caveats in the documentation: https://pandas.pydata.org/pandas-docs/stable/user_guide/indexing.html#returning-a-view-versus-a-copy\n",
      "  dataset.loc[:, 'label'] = (dataset[target_label] < target_value).astype(int)\n"
     ]
    },
    {
     "name": "stdout",
     "output_type": "stream",
     "text": [
      "label\n",
      "0    40051\n",
      "1    29744\n",
      "Name: count, dtype: int64\n",
      "20 116 256 58\n",
      "{'model_name': 'MAP:RM220_TSSIM1_TL15-EXP_custHypTP0.43', 'deployment_date': '2023-06-26', 'algorithm_type': 'xgboost', 'dataset': 'MAP:RM220_TSSIM1_TL15-EXP_custHypTP0.43', 'TP': 20, 'TPpct': Decimal('0'), 'FP': 116, 'FPpct': Decimal('0'), 'TN': 256, 'TNpct': Decimal('0'), 'FN': 58, 'FNpct': Decimal('0'), 'precision_ratio': Decimal('0.1724137931034483'), 'evaluation_timeperiod': '2023-06-26_2023-06-30', 'live': False, 'hyperparameters': {\"{'subsample': 0.6, 'num_round': 1000, 'min_child_weight': 10, 'max_depth': 10, 'learning_rate': 0.1, 'gamma': 2, 'colsample_bytree': 1}\"}, 'features': {\"['oneD_stddev50', 'rsi', 'close_diff', 'daily_volume_vol_diff_pct30', 'range_vol_diff5', 'SPY_diff', 'threeD_stddev50', 'close_diff3', 'min_volume_vol_diff_pct', 'month', 'return_vol_240M', 'range_vol', 'rsi5', 'roc', 'SPY_3D', 'roc5', 'roc_diff', 'price_25DDiff', 'daily_volume_vol_diff_pct', 'price_10DDiff', 'SPY_1D', 'hour_volume_vol_diff', 'hour_volume_vol_diff_pct', 'return_vol_10D', 'SPY_5D']\"}, 'target': '-0.028+three_min', 'feature_importances': \"[{'oneD_stddev50': 0.07459034}, {'rsi': 0.03610349}, {'close_diff': 0.031120135}, {'daily_volume_vol_diff_pct30': 0.031173233}, {'range_vol_diff5': 0.031866863}, {'SPY_diff': 0.02860521}, {'threeD_stddev50': 0.053502485}, {'close_diff3': 0.033478852}, {'min_volume_vol_diff_pct': 0.025310835}, {'month': 0.040542807}, {'return_vol_240M': 0.12697443}, {'range_vol': 0.039679065}, {'rsi5': 0.03542097}, {'roc': 0.033935256}, {'SPY_3D': 0.034507226}, {'roc5': 0.034753103}, {'roc_diff': 0.036385607}, {'price_25DDiff': 0.038323484}, {'daily_volume_vol_diff_pct': 0.030228516}, {'price_10DDiff': 0.035499427}, {'SPY_1D': 0.036547586}, {'hour_volume_vol_diff': 0.02867609}, {'hour_volume_vol_diff_pct': 0.029811474}, {'return_vol_10D': 0.037388463}, {'SPY_5D': 0.03557498}]\"}\n",
      "{'deployment_date': datetime.datetime(2023, 7, 3, 0, 0), 'dataset_end': datetime.datetime(2023, 6, 23, 0, 0), 'dataset_start': datetime.datetime(2018, 1, 1, 0, 0)}\n",
      "-0.028\n",
      "0.5679371144536373\n"
     ]
    },
    {
     "name": "stderr",
     "output_type": "stream",
     "text": [
      "/var/folders/tq/_9q_lv1s2bndbr3tzzn08x4r0000gn/T/ipykernel_13078/1039188303.py:2: SettingWithCopyWarning: \n",
      "A value is trying to be set on a copy of a slice from a DataFrame.\n",
      "Try using .loc[row_indexer,col_indexer] = value instead\n",
      "\n",
      "See the caveats in the documentation: https://pandas.pydata.org/pandas-docs/stable/user_guide/indexing.html#returning-a-view-versus-a-copy\n",
      "  dataset.loc[:, 'label'] = (dataset[target_label] < target_value).astype(int)\n"
     ]
    },
    {
     "name": "stdout",
     "output_type": "stream",
     "text": [
      "label\n",
      "0    40245\n",
      "1    29910\n",
      "Name: count, dtype: int64\n",
      "40 6 167 147\n",
      "{'model_name': 'MAP:RM220_TSSIM1_TL15-EXP_custHypTP0.43', 'deployment_date': '2023-07-03', 'algorithm_type': 'xgboost', 'dataset': 'MAP:RM220_TSSIM1_TL15-EXP_custHypTP0.43', 'TP': 40, 'TPpct': Decimal('0'), 'FP': 6, 'FPpct': Decimal('0'), 'TN': 167, 'TNpct': Decimal('0'), 'FN': 147, 'FNpct': Decimal('0'), 'precision_ratio': Decimal('6.666666666666667'), 'evaluation_timeperiod': '2023-07-03_2023-07-07', 'live': False, 'hyperparameters': {\"{'subsample': 0.6, 'num_round': 1000, 'min_child_weight': 10, 'max_depth': 10, 'learning_rate': 0.1, 'gamma': 2, 'colsample_bytree': 1}\"}, 'features': {\"['oneD_stddev50', 'rsi', 'close_diff', 'daily_volume_vol_diff_pct30', 'range_vol_diff5', 'SPY_diff', 'threeD_stddev50', 'close_diff3', 'min_volume_vol_diff_pct', 'month', 'return_vol_240M', 'range_vol', 'rsi5', 'roc', 'SPY_3D', 'roc5', 'roc_diff', 'price_25DDiff', 'daily_volume_vol_diff_pct', 'price_10DDiff', 'SPY_1D', 'hour_volume_vol_diff', 'hour_volume_vol_diff_pct', 'return_vol_10D', 'SPY_5D']\"}, 'target': '-0.028+three_min', 'feature_importances': \"[{'oneD_stddev50': 0.07524725}, {'rsi': 0.03572202}, {'close_diff': 0.033289444}, {'daily_volume_vol_diff_pct30': 0.030281007}, {'range_vol_diff5': 0.03151904}, {'SPY_diff': 0.02949739}, {'threeD_stddev50': 0.054776233}, {'close_diff3': 0.033902083}, {'min_volume_vol_diff_pct': 0.025999967}, {'month': 0.040498834}, {'return_vol_240M': 0.11938223}, {'range_vol': 0.042553645}, {'rsi5': 0.03560299}, {'roc': 0.03442282}, {'SPY_3D': 0.03471363}, {'roc5': 0.035485648}, {'roc_diff': 0.035895742}, {'price_25DDiff': 0.037805296}, {'daily_volume_vol_diff_pct': 0.03069976}, {'price_10DDiff': 0.03508398}, {'SPY_1D': 0.035741016}, {'hour_volume_vol_diff': 0.030082615}, {'hour_volume_vol_diff_pct': 0.028768696}, {'return_vol_10D': 0.037297174}, {'SPY_5D': 0.03573151}]\"}\n",
      "{'deployment_date': datetime.datetime(2023, 7, 10, 0, 0), 'dataset_end': datetime.datetime(2023, 6, 30, 0, 0), 'dataset_start': datetime.datetime(2018, 1, 1, 0, 0)}\n",
      "-0.029\n",
      "0.37828289346325095\n"
     ]
    },
    {
     "name": "stderr",
     "output_type": "stream",
     "text": [
      "/var/folders/tq/_9q_lv1s2bndbr3tzzn08x4r0000gn/T/ipykernel_13078/1039188303.py:2: SettingWithCopyWarning: \n",
      "A value is trying to be set on a copy of a slice from a DataFrame.\n",
      "Try using .loc[row_indexer,col_indexer] = value instead\n",
      "\n",
      "See the caveats in the documentation: https://pandas.pydata.org/pandas-docs/stable/user_guide/indexing.html#returning-a-view-versus-a-copy\n",
      "  dataset.loc[:, 'label'] = (dataset[target_label] < target_value).astype(int)\n"
     ]
    },
    {
     "name": "stdout",
     "output_type": "stream",
     "text": [
      "label\n",
      "0    26723\n",
      "1    20175\n",
      "Name: count, dtype: int64\n",
      "31 66 243 110\n",
      "{'model_name': 'MAP:RM220_TSSIM1_TL15-EXP_custHypTP0.43', 'deployment_date': '2023-07-10', 'algorithm_type': 'xgboost', 'dataset': 'MAP:RM220_TSSIM1_TL15-EXP_custHypTP0.43', 'TP': 31, 'TPpct': Decimal('0'), 'FP': 66, 'FPpct': Decimal('0'), 'TN': 243, 'TNpct': Decimal('0'), 'FN': 110, 'FNpct': Decimal('0'), 'precision_ratio': Decimal('0.4696969696969697'), 'evaluation_timeperiod': '2023-07-10_2023-07-14', 'live': False, 'hyperparameters': {\"{'subsample': 0.6, 'num_round': 1000, 'min_child_weight': 10, 'max_depth': 10, 'learning_rate': 0.1, 'gamma': 2, 'colsample_bytree': 1}\"}, 'features': {\"['oneD_stddev50', 'rsi', 'close_diff', 'daily_volume_vol_diff_pct30', 'range_vol_diff5', 'SPY_diff', 'threeD_stddev50', 'close_diff3', 'min_volume_vol_diff_pct', 'month', 'return_vol_240M', 'range_vol', 'rsi5', 'roc', 'SPY_3D', 'roc5', 'roc_diff', 'price_25DDiff', 'daily_volume_vol_diff_pct', 'price_10DDiff', 'SPY_1D', 'hour_volume_vol_diff', 'hour_volume_vol_diff_pct', 'return_vol_10D', 'SPY_5D']\"}, 'target': '-0.029+three_min', 'feature_importances': \"[{'oneD_stddev50': 0.045591567}, {'rsi': 0.033305723}, {'close_diff': 0.031694252}, {'daily_volume_vol_diff_pct30': 0.029305104}, {'range_vol_diff5': 0.029758701}, {'SPY_diff': 0.027925175}, {'threeD_stddev50': 0.037184667}, {'close_diff3': 0.034397013}, {'min_volume_vol_diff_pct': 0.02621897}, {'month': 0.044544194}, {'return_vol_240M': 0.17829937}, {'range_vol': 0.032488853}, {'rsi5': 0.030973652}, {'roc': 0.03673282}, {'SPY_3D': 0.039583128}, {'roc5': 0.032967124}, {'roc_diff': 0.035045568}, {'price_25DDiff': 0.033765376}, {'daily_volume_vol_diff_pct': 0.028736431}, {'price_10DDiff': 0.037773475}, {'SPY_1D': 0.039493572}, {'hour_volume_vol_diff': 0.0305066}, {'hour_volume_vol_diff_pct': 0.029304018}, {'return_vol_10D': 0.034798138}, {'SPY_5D': 0.03960654}]\"}\n",
      "{'deployment_date': datetime.datetime(2023, 7, 17, 0, 0), 'dataset_end': datetime.datetime(2023, 7, 7, 0, 0), 'dataset_start': datetime.datetime(2018, 1, 1, 0, 0)}\n",
      "-0.029\n",
      "0.38875305623471884\n"
     ]
    },
    {
     "name": "stderr",
     "output_type": "stream",
     "text": [
      "/var/folders/tq/_9q_lv1s2bndbr3tzzn08x4r0000gn/T/ipykernel_13078/1039188303.py:2: SettingWithCopyWarning: \n",
      "A value is trying to be set on a copy of a slice from a DataFrame.\n",
      "Try using .loc[row_indexer,col_indexer] = value instead\n",
      "\n",
      "See the caveats in the documentation: https://pandas.pydata.org/pandas-docs/stable/user_guide/indexing.html#returning-a-view-versus-a-copy\n",
      "  dataset.loc[:, 'label'] = (dataset[target_label] < target_value).astype(int)\n"
     ]
    },
    {
     "name": "stdout",
     "output_type": "stream",
     "text": [
      "label\n",
      "0    27435\n",
      "1    20901\n",
      "Name: count, dtype: int64\n",
      "76 39 193 136\n",
      "{'model_name': 'MAP:RM220_TSSIM1_TL15-EXP_custHypTP0.43', 'deployment_date': '2023-07-17', 'algorithm_type': 'xgboost', 'dataset': 'MAP:RM220_TSSIM1_TL15-EXP_custHypTP0.43', 'TP': 76, 'TPpct': Decimal('0'), 'FP': 39, 'FPpct': Decimal('0'), 'TN': 193, 'TNpct': Decimal('0'), 'FN': 136, 'FNpct': Decimal('0'), 'precision_ratio': Decimal('1.9487179487179487'), 'evaluation_timeperiod': '2023-07-17_2023-07-21', 'live': False, 'hyperparameters': {\"{'subsample': 0.6, 'num_round': 1000, 'min_child_weight': 10, 'max_depth': 10, 'learning_rate': 0.1, 'gamma': 2, 'colsample_bytree': 1}\"}, 'features': {\"['oneD_stddev50', 'rsi', 'close_diff', 'daily_volume_vol_diff_pct30', 'range_vol_diff5', 'SPY_diff', 'threeD_stddev50', 'close_diff3', 'min_volume_vol_diff_pct', 'month', 'return_vol_240M', 'range_vol', 'rsi5', 'roc', 'SPY_3D', 'roc5', 'roc_diff', 'price_25DDiff', 'daily_volume_vol_diff_pct', 'price_10DDiff', 'SPY_1D', 'hour_volume_vol_diff', 'hour_volume_vol_diff_pct', 'return_vol_10D', 'SPY_5D']\"}, 'target': '-0.029+three_min', 'feature_importances': \"[{'oneD_stddev50': 0.04679588}, {'rsi': 0.034812614}, {'close_diff': 0.03243902}, {'daily_volume_vol_diff_pct30': 0.028342925}, {'range_vol_diff5': 0.030573174}, {'SPY_diff': 0.02947431}, {'threeD_stddev50': 0.039281175}, {'close_diff3': 0.036380567}, {'min_volume_vol_diff_pct': 0.025329167}, {'month': 0.045432013}, {'return_vol_240M': 0.15829699}, {'range_vol': 0.03385786}, {'rsi5': 0.033032093}, {'roc': 0.033813268}, {'SPY_3D': 0.040123127}, {'roc5': 0.034952078}, {'roc_diff': 0.03590782}, {'price_25DDiff': 0.034340095}, {'daily_volume_vol_diff_pct': 0.03018123}, {'price_10DDiff': 0.03765459}, {'SPY_1D': 0.040539388}, {'hour_volume_vol_diff': 0.030010257}, {'hour_volume_vol_diff_pct': 0.030780016}, {'return_vol_10D': 0.038370367}, {'SPY_5D': 0.039279927}]\"}\n",
      "{'deployment_date': datetime.datetime(2023, 7, 24, 0, 0), 'dataset_end': datetime.datetime(2023, 7, 14, 0, 0), 'dataset_start': datetime.datetime(2018, 1, 1, 0, 0)}\n",
      "-0.025\n",
      "0.4627041495039508\n"
     ]
    },
    {
     "name": "stderr",
     "output_type": "stream",
     "text": [
      "/var/folders/tq/_9q_lv1s2bndbr3tzzn08x4r0000gn/T/ipykernel_13078/1039188303.py:2: SettingWithCopyWarning: \n",
      "A value is trying to be set on a copy of a slice from a DataFrame.\n",
      "Try using .loc[row_indexer,col_indexer] = value instead\n",
      "\n",
      "See the caveats in the documentation: https://pandas.pydata.org/pandas-docs/stable/user_guide/indexing.html#returning-a-view-versus-a-copy\n",
      "  dataset.loc[:, 'label'] = (dataset[target_label] < target_value).astype(int)\n"
     ]
    },
    {
     "name": "stdout",
     "output_type": "stream",
     "text": [
      "label\n",
      "0    32913\n",
      "1    24826\n",
      "Name: count, dtype: int64\n",
      "84 88 154 124\n",
      "{'model_name': 'MAP:RM220_TSSIM1_TL15-EXP_custHypTP0.43', 'deployment_date': '2023-07-24', 'algorithm_type': 'xgboost', 'dataset': 'MAP:RM220_TSSIM1_TL15-EXP_custHypTP0.43', 'TP': 84, 'TPpct': Decimal('0'), 'FP': 88, 'FPpct': Decimal('0'), 'TN': 154, 'TNpct': Decimal('0'), 'FN': 124, 'FNpct': Decimal('0'), 'precision_ratio': Decimal('0.9545454545454546'), 'evaluation_timeperiod': '2023-07-24_2023-07-28', 'live': False, 'hyperparameters': {\"{'subsample': 0.6, 'num_round': 1000, 'min_child_weight': 10, 'max_depth': 10, 'learning_rate': 0.1, 'gamma': 2, 'colsample_bytree': 1}\"}, 'features': {\"['oneD_stddev50', 'rsi', 'close_diff', 'daily_volume_vol_diff_pct30', 'range_vol_diff5', 'SPY_diff', 'threeD_stddev50', 'close_diff3', 'min_volume_vol_diff_pct', 'month', 'return_vol_240M', 'range_vol', 'rsi5', 'roc', 'SPY_3D', 'roc5', 'roc_diff', 'price_25DDiff', 'daily_volume_vol_diff_pct', 'price_10DDiff', 'SPY_1D', 'hour_volume_vol_diff', 'hour_volume_vol_diff_pct', 'return_vol_10D', 'SPY_5D']\"}, 'target': '-0.025+three_min', 'feature_importances': \"[{'oneD_stddev50': 0.11396312}, {'rsi': 0.037082493}, {'close_diff': 0.03146197}, {'daily_volume_vol_diff_pct30': 0.032679405}, {'range_vol_diff5': 0.031674813}, {'SPY_diff': 0.028423278}, {'threeD_stddev50': 0.053700432}, {'close_diff3': 0.034226835}, {'min_volume_vol_diff_pct': 0.025378726}, {'month': 0.042975824}, {'return_vol_240M': 0.053256404}, {'range_vol': 0.061448865}, {'rsi5': 0.035826724}, {'roc': 0.0358296}, {'SPY_3D': 0.038464345}, {'roc5': 0.036143806}, {'roc_diff': 0.036880333}, {'price_25DDiff': 0.03665869}, {'daily_volume_vol_diff_pct': 0.030535}, {'price_10DDiff': 0.03699093}, {'SPY_1D': 0.03623009}, {'hour_volume_vol_diff': 0.02905214}, {'hour_volume_vol_diff_pct': 0.029721782}, {'return_vol_10D': 0.036096334}, {'SPY_5D': 0.03529805}]\"}\n",
      "{'deployment_date': datetime.datetime(2023, 7, 31, 0, 0), 'dataset_end': datetime.datetime(2023, 7, 21, 0, 0), 'dataset_start': datetime.datetime(2018, 1, 1, 0, 0)}\n",
      "-0.025\n",
      "0.464609119220634\n"
     ]
    },
    {
     "name": "stderr",
     "output_type": "stream",
     "text": [
      "/var/folders/tq/_9q_lv1s2bndbr3tzzn08x4r0000gn/T/ipykernel_13078/1039188303.py:2: SettingWithCopyWarning: \n",
      "A value is trying to be set on a copy of a slice from a DataFrame.\n",
      "Try using .loc[row_indexer,col_indexer] = value instead\n",
      "\n",
      "See the caveats in the documentation: https://pandas.pydata.org/pandas-docs/stable/user_guide/indexing.html#returning-a-view-versus-a-copy\n",
      "  dataset.loc[:, 'label'] = (dataset[target_label] < target_value).astype(int)\n"
     ]
    },
    {
     "name": "stdout",
     "output_type": "stream",
     "text": [
      "label\n",
      "0    33129\n",
      "1    25054\n",
      "Name: count, dtype: int64\n",
      "137 65 84 164\n",
      "{'model_name': 'MAP:RM220_TSSIM1_TL15-EXP_custHypTP0.43', 'deployment_date': '2023-07-31', 'algorithm_type': 'xgboost', 'dataset': 'MAP:RM220_TSSIM1_TL15-EXP_custHypTP0.43', 'TP': 137, 'TPpct': Decimal('0'), 'FP': 65, 'FPpct': Decimal('0'), 'TN': 84, 'TNpct': Decimal('0'), 'FN': 164, 'FNpct': Decimal('0'), 'precision_ratio': Decimal('2.1076923076923078'), 'evaluation_timeperiod': '2023-07-31_2023-08-04', 'live': False, 'hyperparameters': {\"{'subsample': 0.6, 'num_round': 1000, 'min_child_weight': 10, 'max_depth': 10, 'learning_rate': 0.1, 'gamma': 2, 'colsample_bytree': 1}\"}, 'features': {\"['oneD_stddev50', 'rsi', 'close_diff', 'daily_volume_vol_diff_pct30', 'range_vol_diff5', 'SPY_diff', 'threeD_stddev50', 'close_diff3', 'min_volume_vol_diff_pct', 'month', 'return_vol_240M', 'range_vol', 'rsi5', 'roc', 'SPY_3D', 'roc5', 'roc_diff', 'price_25DDiff', 'daily_volume_vol_diff_pct', 'price_10DDiff', 'SPY_1D', 'hour_volume_vol_diff', 'hour_volume_vol_diff_pct', 'return_vol_10D', 'SPY_5D']\"}, 'target': '-0.025+three_min', 'feature_importances': \"[{'oneD_stddev50': 0.11791545}, {'rsi': 0.03492115}, {'close_diff': 0.032280583}, {'daily_volume_vol_diff_pct30': 0.03167266}, {'range_vol_diff5': 0.03156521}, {'SPY_diff': 0.028733134}, {'threeD_stddev50': 0.051041987}, {'close_diff3': 0.0331601}, {'min_volume_vol_diff_pct': 0.026201181}, {'month': 0.04257356}, {'return_vol_240M': 0.060717117}, {'range_vol': 0.060006168}, {'rsi5': 0.03678943}, {'roc': 0.035044428}, {'SPY_3D': 0.035781786}, {'roc5': 0.036393043}, {'roc_diff': 0.038023017}, {'price_25DDiff': 0.03707845}, {'daily_volume_vol_diff_pct': 0.031192712}, {'price_10DDiff': 0.035709936}, {'SPY_1D': 0.03569265}, {'hour_volume_vol_diff': 0.029498653}, {'hour_volume_vol_diff_pct': 0.02851773}, {'return_vol_10D': 0.035541605}, {'SPY_5D': 0.03394823}]\"}\n",
      "{'deployment_date': datetime.datetime(2023, 8, 7, 0, 0), 'dataset_end': datetime.datetime(2023, 7, 28, 0, 0), 'dataset_start': datetime.datetime(2018, 1, 1, 0, 0)}\n",
      "-0.031\n",
      "0.4798376830044558\n"
     ]
    },
    {
     "name": "stderr",
     "output_type": "stream",
     "text": [
      "/var/folders/tq/_9q_lv1s2bndbr3tzzn08x4r0000gn/T/ipykernel_13078/1039188303.py:2: SettingWithCopyWarning: \n",
      "A value is trying to be set on a copy of a slice from a DataFrame.\n",
      "Try using .loc[row_indexer,col_indexer] = value instead\n",
      "\n",
      "See the caveats in the documentation: https://pandas.pydata.org/pandas-docs/stable/user_guide/indexing.html#returning-a-view-versus-a-copy\n",
      "  dataset.loc[:, 'label'] = (dataset[target_label] < target_value).astype(int)\n"
     ]
    },
    {
     "name": "stdout",
     "output_type": "stream",
     "text": [
      "label\n",
      "0    34044\n",
      "1    26262\n",
      "Name: count, dtype: int64\n",
      "67 35 219 129\n",
      "{'model_name': 'MAP:RM220_TSSIM1_TL15-EXP_custHypTP0.43', 'deployment_date': '2023-08-07', 'algorithm_type': 'xgboost', 'dataset': 'MAP:RM220_TSSIM1_TL15-EXP_custHypTP0.43', 'TP': 67, 'TPpct': Decimal('0'), 'FP': 35, 'FPpct': Decimal('0'), 'TN': 219, 'TNpct': Decimal('0'), 'FN': 129, 'FNpct': Decimal('0'), 'precision_ratio': Decimal('1.9142857142857144'), 'evaluation_timeperiod': '2023-08-07_2023-08-11', 'live': False, 'hyperparameters': {\"{'subsample': 0.6, 'num_round': 1000, 'min_child_weight': 10, 'max_depth': 10, 'learning_rate': 0.1, 'gamma': 2, 'colsample_bytree': 1}\"}, 'features': {\"['oneD_stddev50', 'rsi', 'close_diff', 'daily_volume_vol_diff_pct30', 'range_vol_diff5', 'SPY_diff', 'threeD_stddev50', 'close_diff3', 'min_volume_vol_diff_pct', 'month', 'return_vol_240M', 'range_vol', 'rsi5', 'roc', 'SPY_3D', 'roc5', 'roc_diff', 'price_25DDiff', 'daily_volume_vol_diff_pct', 'price_10DDiff', 'SPY_1D', 'hour_volume_vol_diff', 'hour_volume_vol_diff_pct', 'return_vol_10D', 'SPY_5D']\"}, 'target': '-0.031+three_min', 'feature_importances': \"[{'oneD_stddev50': 0.045559626}, {'rsi': 0.034392558}, {'close_diff': 0.031002482}, {'daily_volume_vol_diff_pct30': 0.030669678}, {'range_vol_diff5': 0.030950284}, {'SPY_diff': 0.028307877}, {'threeD_stddev50': 0.039929263}, {'close_diff3': 0.0359579}, {'min_volume_vol_diff_pct': 0.023819914}, {'month': 0.04531841}, {'return_vol_240M': 0.15516834}, {'range_vol': 0.034129698}, {'rsi5': 0.03416986}, {'roc': 0.03696522}, {'SPY_3D': 0.039745197}, {'roc5': 0.035401516}, {'roc_diff': 0.0366704}, {'price_25DDiff': 0.03570229}, {'daily_volume_vol_diff_pct': 0.029287068}, {'price_10DDiff': 0.03790846}, {'SPY_1D': 0.039661672}, {'hour_volume_vol_diff': 0.03118692}, {'hour_volume_vol_diff_pct': 0.029825363}, {'return_vol_10D': 0.04050075}, {'SPY_5D': 0.037769206}]\"}\n",
      "{'deployment_date': datetime.datetime(2023, 8, 14, 0, 0), 'dataset_end': datetime.datetime(2023, 8, 4, 0, 0), 'dataset_start': datetime.datetime(2018, 1, 1, 0, 0)}\n",
      "-0.032\n",
      "0.4795528423055578\n"
     ]
    },
    {
     "name": "stderr",
     "output_type": "stream",
     "text": [
      "/var/folders/tq/_9q_lv1s2bndbr3tzzn08x4r0000gn/T/ipykernel_13078/1039188303.py:2: SettingWithCopyWarning: \n",
      "A value is trying to be set on a copy of a slice from a DataFrame.\n",
      "Try using .loc[row_indexer,col_indexer] = value instead\n",
      "\n",
      "See the caveats in the documentation: https://pandas.pydata.org/pandas-docs/stable/user_guide/indexing.html#returning-a-view-versus-a-copy\n",
      "  dataset.loc[:, 'label'] = (dataset[target_label] < target_value).astype(int)\n"
     ]
    },
    {
     "name": "stdout",
     "output_type": "stream",
     "text": [
      "label\n",
      "0    34810\n",
      "1    25676\n",
      "Name: count, dtype: int64\n",
      "44 15 212 179\n",
      "{'model_name': 'MAP:RM220_TSSIM1_TL15-EXP_custHypTP0.43', 'deployment_date': '2023-08-14', 'algorithm_type': 'xgboost', 'dataset': 'MAP:RM220_TSSIM1_TL15-EXP_custHypTP0.43', 'TP': 44, 'TPpct': Decimal('0'), 'FP': 15, 'FPpct': Decimal('0'), 'TN': 212, 'TNpct': Decimal('0'), 'FN': 179, 'FNpct': Decimal('0'), 'precision_ratio': Decimal('2.933333333333333'), 'evaluation_timeperiod': '2023-08-14_2023-08-18', 'live': False, 'hyperparameters': {\"{'subsample': 0.6, 'num_round': 1000, 'min_child_weight': 10, 'max_depth': 10, 'learning_rate': 0.1, 'gamma': 2, 'colsample_bytree': 1}\"}, 'features': {\"['oneD_stddev50', 'rsi', 'close_diff', 'daily_volume_vol_diff_pct30', 'range_vol_diff5', 'SPY_diff', 'threeD_stddev50', 'close_diff3', 'min_volume_vol_diff_pct', 'month', 'return_vol_240M', 'range_vol', 'rsi5', 'roc', 'SPY_3D', 'roc5', 'roc_diff', 'price_25DDiff', 'daily_volume_vol_diff_pct', 'price_10DDiff', 'SPY_1D', 'hour_volume_vol_diff', 'hour_volume_vol_diff_pct', 'return_vol_10D', 'SPY_5D']\"}, 'target': '-0.032+three_min', 'feature_importances': \"[{'oneD_stddev50': 0.056320872}, {'rsi': 0.03523262}, {'close_diff': 0.03186205}, {'daily_volume_vol_diff_pct30': 0.029416755}, {'range_vol_diff5': 0.033377297}, {'SPY_diff': 0.028446011}, {'threeD_stddev50': 0.03823198}, {'close_diff3': 0.03343249}, {'min_volume_vol_diff_pct': 0.025389152}, {'month': 0.044492003}, {'return_vol_240M': 0.1429766}, {'range_vol': 0.03590569}, {'rsi5': 0.03297784}, {'roc': 0.037012845}, {'SPY_3D': 0.039977055}, {'roc5': 0.03483669}, {'roc_diff': 0.035470538}, {'price_25DDiff': 0.036431365}, {'daily_volume_vol_diff_pct': 0.030858496}, {'price_10DDiff': 0.038883775}, {'SPY_1D': 0.038430084}, {'hour_volume_vol_diff': 0.0308476}, {'hour_volume_vol_diff_pct': 0.029751185}, {'return_vol_10D': 0.040893085}, {'SPY_5D': 0.03854601}]\"}\n",
      "{'deployment_date': datetime.datetime(2023, 8, 21, 0, 0), 'dataset_end': datetime.datetime(2023, 8, 11, 0, 0), 'dataset_start': datetime.datetime(2018, 1, 1, 0, 0)}\n",
      "-0.032\n",
      "0.4792700268604835\n"
     ]
    },
    {
     "name": "stderr",
     "output_type": "stream",
     "text": [
      "/var/folders/tq/_9q_lv1s2bndbr3tzzn08x4r0000gn/T/ipykernel_13078/1039188303.py:2: SettingWithCopyWarning: \n",
      "A value is trying to be set on a copy of a slice from a DataFrame.\n",
      "Try using .loc[row_indexer,col_indexer] = value instead\n",
      "\n",
      "See the caveats in the documentation: https://pandas.pydata.org/pandas-docs/stable/user_guide/indexing.html#returning-a-view-versus-a-copy\n",
      "  dataset.loc[:, 'label'] = (dataset[target_label] < target_value).astype(int)\n"
     ]
    },
    {
     "name": "stdout",
     "output_type": "stream",
     "text": [
      "label\n",
      "0    34878\n",
      "1    25788\n",
      "Name: count, dtype: int64\n",
      "36 33 301 80\n",
      "{'model_name': 'MAP:RM220_TSSIM1_TL15-EXP_custHypTP0.43', 'deployment_date': '2023-08-21', 'algorithm_type': 'xgboost', 'dataset': 'MAP:RM220_TSSIM1_TL15-EXP_custHypTP0.43', 'TP': 36, 'TPpct': Decimal('0'), 'FP': 33, 'FPpct': Decimal('0'), 'TN': 301, 'TNpct': Decimal('0'), 'FN': 80, 'FNpct': Decimal('0'), 'precision_ratio': Decimal('1.0909090909090908'), 'evaluation_timeperiod': '2023-08-21_2023-08-25', 'live': False, 'hyperparameters': {\"{'subsample': 0.6, 'num_round': 1000, 'min_child_weight': 10, 'max_depth': 10, 'learning_rate': 0.1, 'gamma': 2, 'colsample_bytree': 1}\"}, 'features': {\"['oneD_stddev50', 'rsi', 'close_diff', 'daily_volume_vol_diff_pct30', 'range_vol_diff5', 'SPY_diff', 'threeD_stddev50', 'close_diff3', 'min_volume_vol_diff_pct', 'month', 'return_vol_240M', 'range_vol', 'rsi5', 'roc', 'SPY_3D', 'roc5', 'roc_diff', 'price_25DDiff', 'daily_volume_vol_diff_pct', 'price_10DDiff', 'SPY_1D', 'hour_volume_vol_diff', 'hour_volume_vol_diff_pct', 'return_vol_10D', 'SPY_5D']\"}, 'target': '-0.032+three_min', 'feature_importances': \"[{'oneD_stddev50': 0.057093494}, {'rsi': 0.03457491}, {'close_diff': 0.0327354}, {'daily_volume_vol_diff_pct30': 0.029444559}, {'range_vol_diff5': 0.032609455}, {'SPY_diff': 0.02744699}, {'threeD_stddev50': 0.039103765}, {'close_diff3': 0.034711357}, {'min_volume_vol_diff_pct': 0.025405012}, {'month': 0.043249726}, {'return_vol_240M': 0.15309964}, {'range_vol': 0.032412037}, {'rsi5': 0.032000165}, {'roc': 0.037399005}, {'SPY_3D': 0.039225742}, {'roc5': 0.03458419}, {'roc_diff': 0.035750497}, {'price_25DDiff': 0.035857353}, {'daily_volume_vol_diff_pct': 0.029058084}, {'price_10DDiff': 0.038122285}, {'SPY_1D': 0.03809276}, {'hour_volume_vol_diff': 0.030322285}, {'hour_volume_vol_diff_pct': 0.029811302}, {'return_vol_10D': 0.03907099}, {'SPY_5D': 0.03881897}]\"}\n",
      "{'deployment_date': datetime.datetime(2023, 8, 28, 0, 0), 'dataset_end': datetime.datetime(2023, 8, 18, 0, 0), 'dataset_start': datetime.datetime(2018, 1, 1, 0, 0)}\n",
      "-0.032\n",
      "0.4804062032590727\n"
     ]
    },
    {
     "name": "stderr",
     "output_type": "stream",
     "text": [
      "/var/folders/tq/_9q_lv1s2bndbr3tzzn08x4r0000gn/T/ipykernel_13078/1039188303.py:2: SettingWithCopyWarning: \n",
      "A value is trying to be set on a copy of a slice from a DataFrame.\n",
      "Try using .loc[row_indexer,col_indexer] = value instead\n",
      "\n",
      "See the caveats in the documentation: https://pandas.pydata.org/pandas-docs/stable/user_guide/indexing.html#returning-a-view-versus-a-copy\n",
      "  dataset.loc[:, 'label'] = (dataset[target_label] < target_value).astype(int)\n"
     ]
    },
    {
     "name": "stdout",
     "output_type": "stream",
     "text": [
      "label\n",
      "0    35097\n",
      "1    25929\n",
      "Name: count, dtype: int64\n",
      "34 59 313 44\n",
      "{'model_name': 'MAP:RM220_TSSIM1_TL15-EXP_custHypTP0.43', 'deployment_date': '2023-08-28', 'algorithm_type': 'xgboost', 'dataset': 'MAP:RM220_TSSIM1_TL15-EXP_custHypTP0.43', 'TP': 34, 'TPpct': Decimal('0'), 'FP': 59, 'FPpct': Decimal('0'), 'TN': 313, 'TNpct': Decimal('0'), 'FN': 44, 'FNpct': Decimal('0'), 'precision_ratio': Decimal('0.576271186440678'), 'evaluation_timeperiod': '2023-08-28_2023-09-01', 'live': False, 'hyperparameters': {\"{'subsample': 0.6, 'num_round': 1000, 'min_child_weight': 10, 'max_depth': 10, 'learning_rate': 0.1, 'gamma': 2, 'colsample_bytree': 1}\"}, 'features': {\"['oneD_stddev50', 'rsi', 'close_diff', 'daily_volume_vol_diff_pct30', 'range_vol_diff5', 'SPY_diff', 'threeD_stddev50', 'close_diff3', 'min_volume_vol_diff_pct', 'month', 'return_vol_240M', 'range_vol', 'rsi5', 'roc', 'SPY_3D', 'roc5', 'roc_diff', 'price_25DDiff', 'daily_volume_vol_diff_pct', 'price_10DDiff', 'SPY_1D', 'hour_volume_vol_diff', 'hour_volume_vol_diff_pct', 'return_vol_10D', 'SPY_5D']\"}, 'target': '-0.032+three_min', 'feature_importances': \"[{'oneD_stddev50': 0.059475835}, {'rsi': 0.03521396}, {'close_diff': 0.031568456}, {'daily_volume_vol_diff_pct30': 0.030178647}, {'range_vol_diff5': 0.032959532}, {'SPY_diff': 0.027950982}, {'threeD_stddev50': 0.039341155}, {'close_diff3': 0.03331735}, {'min_volume_vol_diff_pct': 0.025797643}, {'month': 0.044192005}, {'return_vol_240M': 0.14623463}, {'range_vol': 0.032248225}, {'rsi5': 0.032724284}, {'roc': 0.03771768}, {'SPY_3D': 0.03846539}, {'roc5': 0.035814013}, {'roc_diff': 0.03598923}, {'price_25DDiff': 0.03604537}, {'daily_volume_vol_diff_pct': 0.029055571}, {'price_10DDiff': 0.03882868}, {'SPY_1D': 0.03717038}, {'hour_volume_vol_diff': 0.030769665}, {'hour_volume_vol_diff_pct': 0.028815338}, {'return_vol_10D': 0.040406417}, {'SPY_5D': 0.039719623}]\"}\n",
      "{'deployment_date': datetime.datetime(2023, 9, 4, 0, 0), 'dataset_end': datetime.datetime(2023, 8, 25, 0, 0), 'dataset_start': datetime.datetime(2018, 1, 1, 0, 0)}\n",
      "-0.029\n",
      "0.3827110134923125\n"
     ]
    },
    {
     "name": "stderr",
     "output_type": "stream",
     "text": [
      "/var/folders/tq/_9q_lv1s2bndbr3tzzn08x4r0000gn/T/ipykernel_13078/1039188303.py:2: SettingWithCopyWarning: \n",
      "A value is trying to be set on a copy of a slice from a DataFrame.\n",
      "Try using .loc[row_indexer,col_indexer] = value instead\n",
      "\n",
      "See the caveats in the documentation: https://pandas.pydata.org/pandas-docs/stable/user_guide/indexing.html#returning-a-view-versus-a-copy\n",
      "  dataset.loc[:, 'label'] = (dataset[target_label] < target_value).astype(int)\n"
     ]
    },
    {
     "name": "stdout",
     "output_type": "stream",
     "text": [
      "label\n",
      "0    27550\n",
      "1    21238\n",
      "Name: count, dtype: int64\n",
      "62 49 191 52\n",
      "{'model_name': 'MAP:RM220_TSSIM1_TL15-EXP_custHypTP0.43', 'deployment_date': '2023-09-04', 'algorithm_type': 'xgboost', 'dataset': 'MAP:RM220_TSSIM1_TL15-EXP_custHypTP0.43', 'TP': 62, 'TPpct': Decimal('0'), 'FP': 49, 'FPpct': Decimal('0'), 'TN': 191, 'TNpct': Decimal('0'), 'FN': 52, 'FNpct': Decimal('0'), 'precision_ratio': Decimal('1.2653061224489797'), 'evaluation_timeperiod': '2023-09-04_2023-09-08', 'live': False, 'hyperparameters': {\"{'subsample': 0.6, 'num_round': 1000, 'min_child_weight': 10, 'max_depth': 10, 'learning_rate': 0.1, 'gamma': 2, 'colsample_bytree': 1}\"}, 'features': {\"['oneD_stddev50', 'rsi', 'close_diff', 'daily_volume_vol_diff_pct30', 'range_vol_diff5', 'SPY_diff', 'threeD_stddev50', 'close_diff3', 'min_volume_vol_diff_pct', 'month', 'return_vol_240M', 'range_vol', 'rsi5', 'roc', 'SPY_3D', 'roc5', 'roc_diff', 'price_25DDiff', 'daily_volume_vol_diff_pct', 'price_10DDiff', 'SPY_1D', 'hour_volume_vol_diff', 'hour_volume_vol_diff_pct', 'return_vol_10D', 'SPY_5D']\"}, 'target': '-0.029+three_min', 'feature_importances': \"[{'oneD_stddev50': 0.045412827}, {'rsi': 0.034692615}, {'close_diff': 0.03127392}, {'daily_volume_vol_diff_pct30': 0.02909311}, {'range_vol_diff5': 0.03007432}, {'SPY_diff': 0.027946819}, {'threeD_stddev50': 0.036507297}, {'close_diff3': 0.034137025}, {'min_volume_vol_diff_pct': 0.025503444}, {'month': 0.043613486}, {'return_vol_240M': 0.17771284}, {'range_vol': 0.034931034}, {'rsi5': 0.03288836}, {'roc': 0.033381153}, {'SPY_3D': 0.03864994}, {'roc5': 0.033176668}, {'roc_diff': 0.036097825}, {'price_25DDiff': 0.035207443}, {'daily_volume_vol_diff_pct': 0.029549418}, {'price_10DDiff': 0.036254823}, {'SPY_1D': 0.03986535}, {'hour_volume_vol_diff': 0.030728258}, {'hour_volume_vol_diff_pct': 0.029147893}, {'return_vol_10D': 0.036072165}, {'SPY_5D': 0.038081933}]\"}\n",
      "{'deployment_date': datetime.datetime(2023, 9, 11, 0, 0), 'dataset_end': datetime.datetime(2023, 9, 1, 0, 0), 'dataset_start': datetime.datetime(2018, 1, 1, 0, 0)}\n",
      "-0.029\n",
      "0.38134917533025875\n"
     ]
    },
    {
     "name": "stderr",
     "output_type": "stream",
     "text": [
      "/var/folders/tq/_9q_lv1s2bndbr3tzzn08x4r0000gn/T/ipykernel_13078/1039188303.py:2: SettingWithCopyWarning: \n",
      "A value is trying to be set on a copy of a slice from a DataFrame.\n",
      "Try using .loc[row_indexer,col_indexer] = value instead\n",
      "\n",
      "See the caveats in the documentation: https://pandas.pydata.org/pandas-docs/stable/user_guide/indexing.html#returning-a-view-versus-a-copy\n",
      "  dataset.loc[:, 'label'] = (dataset[target_label] < target_value).astype(int)\n"
     ]
    },
    {
     "name": "stdout",
     "output_type": "stream",
     "text": [
      "label\n",
      "0    27725\n",
      "1    21061\n",
      "Name: count, dtype: int64\n",
      "98 38 214 100\n",
      "{'model_name': 'MAP:RM220_TSSIM1_TL15-EXP_custHypTP0.43', 'deployment_date': '2023-09-11', 'algorithm_type': 'xgboost', 'dataset': 'MAP:RM220_TSSIM1_TL15-EXP_custHypTP0.43', 'TP': 98, 'TPpct': Decimal('0'), 'FP': 38, 'FPpct': Decimal('0'), 'TN': 214, 'TNpct': Decimal('0'), 'FN': 100, 'FNpct': Decimal('0'), 'precision_ratio': Decimal('2.5789473684210527'), 'evaluation_timeperiod': '2023-09-11_2023-09-15', 'live': False, 'hyperparameters': {\"{'subsample': 0.6, 'num_round': 1000, 'min_child_weight': 10, 'max_depth': 10, 'learning_rate': 0.1, 'gamma': 2, 'colsample_bytree': 1}\"}, 'features': {\"['oneD_stddev50', 'rsi', 'close_diff', 'daily_volume_vol_diff_pct30', 'range_vol_diff5', 'SPY_diff', 'threeD_stddev50', 'close_diff3', 'min_volume_vol_diff_pct', 'month', 'return_vol_240M', 'range_vol', 'rsi5', 'roc', 'SPY_3D', 'roc5', 'roc_diff', 'price_25DDiff', 'daily_volume_vol_diff_pct', 'price_10DDiff', 'SPY_1D', 'hour_volume_vol_diff', 'hour_volume_vol_diff_pct', 'return_vol_10D', 'SPY_5D']\"}, 'target': '-0.029+three_min', 'feature_importances': \"[{'oneD_stddev50': 0.045109324}, {'rsi': 0.034098413}, {'close_diff': 0.031482946}, {'daily_volume_vol_diff_pct30': 0.029632684}, {'range_vol_diff5': 0.030450363}, {'SPY_diff': 0.028808223}, {'threeD_stddev50': 0.036802497}, {'close_diff3': 0.033443537}, {'min_volume_vol_diff_pct': 0.024858432}, {'month': 0.043678522}, {'return_vol_240M': 0.1843835}, {'range_vol': 0.033286247}, {'rsi5': 0.033332538}, {'roc': 0.035768684}, {'SPY_3D': 0.037552707}, {'roc5': 0.03161777}, {'roc_diff': 0.0358573}, {'price_25DDiff': 0.032779034}, {'daily_volume_vol_diff_pct': 0.02923252}, {'price_10DDiff': 0.035967242}, {'SPY_1D': 0.03790297}, {'hour_volume_vol_diff': 0.03118656}, {'hour_volume_vol_diff_pct': 0.029174995}, {'return_vol_10D': 0.035699055}, {'SPY_5D': 0.037893962}]\"}\n",
      "{'deployment_date': datetime.datetime(2023, 9, 18, 0, 0), 'dataset_end': datetime.datetime(2023, 9, 8, 0, 0), 'dataset_start': datetime.datetime(2018, 1, 1, 0, 0)}\n",
      "-0.029\n",
      "0.3810140001870849\n"
     ]
    },
    {
     "name": "stderr",
     "output_type": "stream",
     "text": [
      "/var/folders/tq/_9q_lv1s2bndbr3tzzn08x4r0000gn/T/ipykernel_13078/1039188303.py:2: SettingWithCopyWarning: \n",
      "A value is trying to be set on a copy of a slice from a DataFrame.\n",
      "Try using .loc[row_indexer,col_indexer] = value instead\n",
      "\n",
      "See the caveats in the documentation: https://pandas.pydata.org/pandas-docs/stable/user_guide/indexing.html#returning-a-view-versus-a-copy\n",
      "  dataset.loc[:, 'label'] = (dataset[target_label] < target_value).astype(int)\n"
     ]
    },
    {
     "name": "stdout",
     "output_type": "stream",
     "text": [
      "label\n",
      "0    28033\n",
      "1    20845\n",
      "Name: count, dtype: int64\n",
      "85 16 129 220\n",
      "{'model_name': 'MAP:RM220_TSSIM1_TL15-EXP_custHypTP0.43', 'deployment_date': '2023-09-18', 'algorithm_type': 'xgboost', 'dataset': 'MAP:RM220_TSSIM1_TL15-EXP_custHypTP0.43', 'TP': 85, 'TPpct': Decimal('0'), 'FP': 16, 'FPpct': Decimal('0'), 'TN': 129, 'TNpct': Decimal('0'), 'FN': 220, 'FNpct': Decimal('0'), 'precision_ratio': Decimal('5.3125'), 'evaluation_timeperiod': '2023-09-18_2023-09-22', 'live': False, 'hyperparameters': {\"{'subsample': 0.6, 'num_round': 1000, 'min_child_weight': 10, 'max_depth': 10, 'learning_rate': 0.1, 'gamma': 2, 'colsample_bytree': 1}\"}, 'features': {\"['oneD_stddev50', 'rsi', 'close_diff', 'daily_volume_vol_diff_pct30', 'range_vol_diff5', 'SPY_diff', 'threeD_stddev50', 'close_diff3', 'min_volume_vol_diff_pct', 'month', 'return_vol_240M', 'range_vol', 'rsi5', 'roc', 'SPY_3D', 'roc5', 'roc_diff', 'price_25DDiff', 'daily_volume_vol_diff_pct', 'price_10DDiff', 'SPY_1D', 'hour_volume_vol_diff', 'hour_volume_vol_diff_pct', 'return_vol_10D', 'SPY_5D']\"}, 'target': '-0.029+three_min', 'feature_importances': \"[{'oneD_stddev50': 0.043878637}, {'rsi': 0.03454955}, {'close_diff': 0.030251155}, {'daily_volume_vol_diff_pct30': 0.02913302}, {'range_vol_diff5': 0.030622326}, {'SPY_diff': 0.027633097}, {'threeD_stddev50': 0.03748976}, {'close_diff3': 0.0344337}, {'min_volume_vol_diff_pct': 0.024681348}, {'month': 0.042531956}, {'return_vol_240M': 0.1813037}, {'range_vol': 0.03675068}, {'rsi5': 0.033324033}, {'roc': 0.034409713}, {'SPY_3D': 0.038340714}, {'roc5': 0.032612365}, {'roc_diff': 0.033907793}, {'price_25DDiff': 0.033784874}, {'daily_volume_vol_diff_pct': 0.02851873}, {'price_10DDiff': 0.036572654}, {'SPY_1D': 0.03915252}, {'hour_volume_vol_diff': 0.0317651}, {'hour_volume_vol_diff_pct': 0.028954977}, {'return_vol_10D': 0.03661532}, {'SPY_5D': 0.038782302}]\"}\n",
      "{'deployment_date': datetime.datetime(2023, 9, 25, 0, 0), 'dataset_end': datetime.datetime(2023, 9, 15, 0, 0), 'dataset_start': datetime.datetime(2018, 1, 1, 0, 0)}\n",
      "-0.029\n",
      "0.37899855516025294\n"
     ]
    },
    {
     "name": "stderr",
     "output_type": "stream",
     "text": [
      "/var/folders/tq/_9q_lv1s2bndbr3tzzn08x4r0000gn/T/ipykernel_13078/1039188303.py:2: SettingWithCopyWarning: \n",
      "A value is trying to be set on a copy of a slice from a DataFrame.\n",
      "Try using .loc[row_indexer,col_indexer] = value instead\n",
      "\n",
      "See the caveats in the documentation: https://pandas.pydata.org/pandas-docs/stable/user_guide/indexing.html#returning-a-view-versus-a-copy\n",
      "  dataset.loc[:, 'label'] = (dataset[target_label] < target_value).astype(int)\n"
     ]
    },
    {
     "name": "stdout",
     "output_type": "stream",
     "text": [
      "label\n",
      "0    28013\n",
      "1    20777\n",
      "Name: count, dtype: int64\n",
      "38 70 241 101\n",
      "{'model_name': 'MAP:RM220_TSSIM1_TL15-EXP_custHypTP0.43', 'deployment_date': '2023-09-25', 'algorithm_type': 'xgboost', 'dataset': 'MAP:RM220_TSSIM1_TL15-EXP_custHypTP0.43', 'TP': 38, 'TPpct': Decimal('0'), 'FP': 70, 'FPpct': Decimal('0'), 'TN': 241, 'TNpct': Decimal('0'), 'FN': 101, 'FNpct': Decimal('0'), 'precision_ratio': Decimal('0.5428571428571428'), 'evaluation_timeperiod': '2023-09-25_2023-09-29', 'live': False, 'hyperparameters': {\"{'subsample': 0.6, 'num_round': 1000, 'min_child_weight': 10, 'max_depth': 10, 'learning_rate': 0.1, 'gamma': 2, 'colsample_bytree': 1}\"}, 'features': {\"['oneD_stddev50', 'rsi', 'close_diff', 'daily_volume_vol_diff_pct30', 'range_vol_diff5', 'SPY_diff', 'threeD_stddev50', 'close_diff3', 'min_volume_vol_diff_pct', 'month', 'return_vol_240M', 'range_vol', 'rsi5', 'roc', 'SPY_3D', 'roc5', 'roc_diff', 'price_25DDiff', 'daily_volume_vol_diff_pct', 'price_10DDiff', 'SPY_1D', 'hour_volume_vol_diff', 'hour_volume_vol_diff_pct', 'return_vol_10D', 'SPY_5D']\"}, 'target': '-0.029+three_min', 'feature_importances': \"[{'oneD_stddev50': 0.052749235}, {'rsi': 0.03468237}, {'close_diff': 0.030680018}, {'daily_volume_vol_diff_pct30': 0.028349318}, {'range_vol_diff5': 0.031025555}, {'SPY_diff': 0.030041108}, {'threeD_stddev50': 0.037798177}, {'close_diff3': 0.033426773}, {'min_volume_vol_diff_pct': 0.025943577}, {'month': 0.043029223}, {'return_vol_240M': 0.17166339}, {'range_vol': 0.034515455}, {'rsi5': 0.03389989}, {'roc': 0.033032924}, {'SPY_3D': 0.039232127}, {'roc5': 0.032898918}, {'roc_diff': 0.03500376}, {'price_25DDiff': 0.033630766}, {'daily_volume_vol_diff_pct': 0.029078424}, {'price_10DDiff': 0.036959145}, {'SPY_1D': 0.038207464}, {'hour_volume_vol_diff': 0.03066298}, {'hour_volume_vol_diff_pct': 0.029758023}, {'return_vol_10D': 0.035973594}, {'SPY_5D': 0.037757777}]\"}\n",
      "{'deployment_date': datetime.datetime(2023, 10, 2, 0, 0), 'dataset_end': datetime.datetime(2023, 9, 22, 0, 0), 'dataset_start': datetime.datetime(2018, 1, 1, 0, 0)}\n",
      "-0.028\n",
      "0.5617955783998019\n"
     ]
    },
    {
     "name": "stderr",
     "output_type": "stream",
     "text": [
      "/var/folders/tq/_9q_lv1s2bndbr3tzzn08x4r0000gn/T/ipykernel_13078/1039188303.py:2: SettingWithCopyWarning: \n",
      "A value is trying to be set on a copy of a slice from a DataFrame.\n",
      "Try using .loc[row_indexer,col_indexer] = value instead\n",
      "\n",
      "See the caveats in the documentation: https://pandas.pydata.org/pandas-docs/stable/user_guide/indexing.html#returning-a-view-versus-a-copy\n",
      "  dataset.loc[:, 'label'] = (dataset[target_label] < target_value).astype(int)\n"
     ]
    },
    {
     "name": "stdout",
     "output_type": "stream",
     "text": [
      "label\n",
      "0    41689\n",
      "1    30886\n",
      "Name: count, dtype: int64\n",
      "40 102 206 101\n",
      "{'model_name': 'MAP:RM220_TSSIM1_TL15-EXP_custHypTP0.43', 'deployment_date': '2023-10-02', 'algorithm_type': 'xgboost', 'dataset': 'MAP:RM220_TSSIM1_TL15-EXP_custHypTP0.43', 'TP': 40, 'TPpct': Decimal('0'), 'FP': 102, 'FPpct': Decimal('0'), 'TN': 206, 'TNpct': Decimal('0'), 'FN': 101, 'FNpct': Decimal('0'), 'precision_ratio': Decimal('0.39215686274509803'), 'evaluation_timeperiod': '2023-10-02_2023-10-06', 'live': False, 'hyperparameters': {\"{'subsample': 0.6, 'num_round': 1000, 'min_child_weight': 10, 'max_depth': 10, 'learning_rate': 0.1, 'gamma': 2, 'colsample_bytree': 1}\"}, 'features': {\"['oneD_stddev50', 'rsi', 'close_diff', 'daily_volume_vol_diff_pct30', 'range_vol_diff5', 'SPY_diff', 'threeD_stddev50', 'close_diff3', 'min_volume_vol_diff_pct', 'month', 'return_vol_240M', 'range_vol', 'rsi5', 'roc', 'SPY_3D', 'roc5', 'roc_diff', 'price_25DDiff', 'daily_volume_vol_diff_pct', 'price_10DDiff', 'SPY_1D', 'hour_volume_vol_diff', 'hour_volume_vol_diff_pct', 'return_vol_10D', 'SPY_5D']\"}, 'target': '-0.028+three_min', 'feature_importances': \"[{'oneD_stddev50': 0.111262865}, {'rsi': 0.03594236}, {'close_diff': 0.030867847}, {'daily_volume_vol_diff_pct30': 0.031843733}, {'range_vol_diff5': 0.03274713}, {'SPY_diff': 0.02891258}, {'threeD_stddev50': 0.04364782}, {'close_diff3': 0.033482485}, {'min_volume_vol_diff_pct': 0.02571643}, {'month': 0.041292362}, {'return_vol_240M': 0.09772911}, {'range_vol': 0.043798976}, {'rsi5': 0.03443327}, {'roc': 0.035562586}, {'SPY_3D': 0.035203397}, {'roc5': 0.034020867}, {'roc_diff': 0.03554605}, {'price_25DDiff': 0.035840347}, {'daily_volume_vol_diff_pct': 0.029562334}, {'price_10DDiff': 0.03664835}, {'SPY_1D': 0.035829097}, {'hour_volume_vol_diff': 0.02860814}, {'hour_volume_vol_diff_pct': 0.030040393}, {'return_vol_10D': 0.036653634}, {'SPY_5D': 0.03480785}]\"}\n",
      "{'deployment_date': datetime.datetime(2023, 10, 9, 0, 0), 'dataset_end': datetime.datetime(2023, 9, 29, 0, 0), 'dataset_start': datetime.datetime(2018, 1, 1, 0, 0)}\n",
      "-0.029\n",
      "0.38607155530184983\n"
     ]
    },
    {
     "name": "stderr",
     "output_type": "stream",
     "text": [
      "/var/folders/tq/_9q_lv1s2bndbr3tzzn08x4r0000gn/T/ipykernel_13078/1039188303.py:2: SettingWithCopyWarning: \n",
      "A value is trying to be set on a copy of a slice from a DataFrame.\n",
      "Try using .loc[row_indexer,col_indexer] = value instead\n",
      "\n",
      "See the caveats in the documentation: https://pandas.pydata.org/pandas-docs/stable/user_guide/indexing.html#returning-a-view-versus-a-copy\n",
      "  dataset.loc[:, 'label'] = (dataset[target_label] < target_value).astype(int)\n"
     ]
    },
    {
     "name": "stdout",
     "output_type": "stream",
     "text": [
      "label\n",
      "0    28456\n",
      "1    21592\n",
      "Name: count, dtype: int64\n",
      "102 78 170 100\n",
      "{'model_name': 'MAP:RM220_TSSIM1_TL15-EXP_custHypTP0.43', 'deployment_date': '2023-10-09', 'algorithm_type': 'xgboost', 'dataset': 'MAP:RM220_TSSIM1_TL15-EXP_custHypTP0.43', 'TP': 102, 'TPpct': Decimal('0'), 'FP': 78, 'FPpct': Decimal('0'), 'TN': 170, 'TNpct': Decimal('0'), 'FN': 100, 'FNpct': Decimal('0'), 'precision_ratio': Decimal('1.3076923076923077'), 'evaluation_timeperiod': '2023-10-09_2023-10-13', 'live': False, 'hyperparameters': {\"{'subsample': 0.6, 'num_round': 1000, 'min_child_weight': 10, 'max_depth': 10, 'learning_rate': 0.1, 'gamma': 2, 'colsample_bytree': 1}\"}, 'features': {\"['oneD_stddev50', 'rsi', 'close_diff', 'daily_volume_vol_diff_pct30', 'range_vol_diff5', 'SPY_diff', 'threeD_stddev50', 'close_diff3', 'min_volume_vol_diff_pct', 'month', 'return_vol_240M', 'range_vol', 'rsi5', 'roc', 'SPY_3D', 'roc5', 'roc_diff', 'price_25DDiff', 'daily_volume_vol_diff_pct', 'price_10DDiff', 'SPY_1D', 'hour_volume_vol_diff', 'hour_volume_vol_diff_pct', 'return_vol_10D', 'SPY_5D']\"}, 'target': '-0.029+three_min', 'feature_importances': \"[{'oneD_stddev50': 0.05109736}, {'rsi': 0.03453041}, {'close_diff': 0.03175724}, {'daily_volume_vol_diff_pct30': 0.031110106}, {'range_vol_diff5': 0.031392828}, {'SPY_diff': 0.029670151}, {'threeD_stddev50': 0.03947455}, {'close_diff3': 0.034499377}, {'min_volume_vol_diff_pct': 0.026415726}, {'month': 0.044703647}, {'return_vol_240M': 0.1543036}, {'range_vol': 0.033604875}, {'rsi5': 0.034717027}, {'roc': 0.035179734}, {'SPY_3D': 0.037100114}, {'roc5': 0.033836044}, {'roc_diff': 0.036223378}, {'price_25DDiff': 0.03543603}, {'daily_volume_vol_diff_pct': 0.031603605}, {'price_10DDiff': 0.03817445}, {'SPY_1D': 0.040037114}, {'hour_volume_vol_diff': 0.03197581}, {'hour_volume_vol_diff_pct': 0.028157424}, {'return_vol_10D': 0.036745217}, {'SPY_5D': 0.03825419}]\"}\n",
      "{'deployment_date': datetime.datetime(2023, 10, 16, 0, 0), 'dataset_end': datetime.datetime(2023, 10, 6, 0, 0), 'dataset_start': datetime.datetime(2018, 1, 1, 0, 0)}\n",
      "-0.027\n",
      "0.5537541415865255\n"
     ]
    },
    {
     "name": "stderr",
     "output_type": "stream",
     "text": [
      "/var/folders/tq/_9q_lv1s2bndbr3tzzn08x4r0000gn/T/ipykernel_13078/1039188303.py:2: SettingWithCopyWarning: \n",
      "A value is trying to be set on a copy of a slice from a DataFrame.\n",
      "Try using .loc[row_indexer,col_indexer] = value instead\n",
      "\n",
      "See the caveats in the documentation: https://pandas.pydata.org/pandas-docs/stable/user_guide/indexing.html#returning-a-view-versus-a-copy\n",
      "  dataset.loc[:, 'label'] = (dataset[target_label] < target_value).astype(int)\n"
     ]
    },
    {
     "name": "stdout",
     "output_type": "stream",
     "text": [
      "label\n",
      "0    40663\n",
      "1    31371\n",
      "Name: count, dtype: int64\n",
      "88 12 91 253\n",
      "{'model_name': 'MAP:RM220_TSSIM1_TL15-EXP_custHypTP0.43', 'deployment_date': '2023-10-16', 'algorithm_type': 'xgboost', 'dataset': 'MAP:RM220_TSSIM1_TL15-EXP_custHypTP0.43', 'TP': 88, 'TPpct': Decimal('0'), 'FP': 12, 'FPpct': Decimal('0'), 'TN': 91, 'TNpct': Decimal('0'), 'FN': 253, 'FNpct': Decimal('0'), 'precision_ratio': Decimal('7.333333333333333'), 'evaluation_timeperiod': '2023-10-16_2023-10-20', 'live': False, 'hyperparameters': {\"{'subsample': 0.6, 'num_round': 1000, 'min_child_weight': 10, 'max_depth': 10, 'learning_rate': 0.1, 'gamma': 2, 'colsample_bytree': 1}\"}, 'features': {\"['oneD_stddev50', 'rsi', 'close_diff', 'daily_volume_vol_diff_pct30', 'range_vol_diff5', 'SPY_diff', 'threeD_stddev50', 'close_diff3', 'min_volume_vol_diff_pct', 'month', 'return_vol_240M', 'range_vol', 'rsi5', 'roc', 'SPY_3D', 'roc5', 'roc_diff', 'price_25DDiff', 'daily_volume_vol_diff_pct', 'price_10DDiff', 'SPY_1D', 'hour_volume_vol_diff', 'hour_volume_vol_diff_pct', 'return_vol_10D', 'SPY_5D']\"}, 'target': '-0.027+three_min', 'feature_importances': \"[{'oneD_stddev50': 0.09773448}, {'rsi': 0.035822675}, {'close_diff': 0.03167319}, {'daily_volume_vol_diff_pct30': 0.030047305}, {'range_vol_diff5': 0.033614695}, {'SPY_diff': 0.028493652}, {'threeD_stddev50': 0.04521759}, {'close_diff3': 0.032904595}, {'min_volume_vol_diff_pct': 0.025795402}, {'month': 0.040942416}, {'return_vol_240M': 0.10537422}, {'range_vol': 0.04152775}, {'rsi5': 0.036777236}, {'roc': 0.034946095}, {'SPY_3D': 0.034759875}, {'roc5': 0.035989735}, {'roc_diff': 0.03546062}, {'price_25DDiff': 0.03764142}, {'daily_volume_vol_diff_pct': 0.030967869}, {'price_10DDiff': 0.036758773}, {'SPY_1D': 0.03664637}, {'hour_volume_vol_diff': 0.029016493}, {'hour_volume_vol_diff_pct': 0.028676106}, {'return_vol_10D': 0.038008403}, {'SPY_5D': 0.03520304}]\"}\n",
      "{'deployment_date': datetime.datetime(2023, 10, 23, 0, 0), 'dataset_end': datetime.datetime(2023, 10, 13, 0, 0), 'dataset_start': datetime.datetime(2018, 1, 1, 0, 0)}\n",
      "-0.029\n",
      "0.39511847578773185\n"
     ]
    },
    {
     "name": "stderr",
     "output_type": "stream",
     "text": [
      "/var/folders/tq/_9q_lv1s2bndbr3tzzn08x4r0000gn/T/ipykernel_13078/1039188303.py:2: SettingWithCopyWarning: \n",
      "A value is trying to be set on a copy of a slice from a DataFrame.\n",
      "Try using .loc[row_indexer,col_indexer] = value instead\n",
      "\n",
      "See the caveats in the documentation: https://pandas.pydata.org/pandas-docs/stable/user_guide/indexing.html#returning-a-view-versus-a-copy\n",
      "  dataset.loc[:, 'label'] = (dataset[target_label] < target_value).astype(int)\n"
     ]
    },
    {
     "name": "stdout",
     "output_type": "stream",
     "text": [
      "label\n",
      "0    29328\n",
      "1    22248\n",
      "Name: count, dtype: int64\n",
      "124 92 111 123\n",
      "{'model_name': 'MAP:RM220_TSSIM1_TL15-EXP_custHypTP0.43', 'deployment_date': '2023-10-23', 'algorithm_type': 'xgboost', 'dataset': 'MAP:RM220_TSSIM1_TL15-EXP_custHypTP0.43', 'TP': 124, 'TPpct': Decimal('0'), 'FP': 92, 'FPpct': Decimal('0'), 'TN': 111, 'TNpct': Decimal('0'), 'FN': 123, 'FNpct': Decimal('0'), 'precision_ratio': Decimal('1.3478260869565217'), 'evaluation_timeperiod': '2023-10-23_2023-10-27', 'live': False, 'hyperparameters': {\"{'subsample': 0.6, 'num_round': 1000, 'min_child_weight': 10, 'max_depth': 10, 'learning_rate': 0.1, 'gamma': 2, 'colsample_bytree': 1}\"}, 'features': {\"['oneD_stddev50', 'rsi', 'close_diff', 'daily_volume_vol_diff_pct30', 'range_vol_diff5', 'SPY_diff', 'threeD_stddev50', 'close_diff3', 'min_volume_vol_diff_pct', 'month', 'return_vol_240M', 'range_vol', 'rsi5', 'roc', 'SPY_3D', 'roc5', 'roc_diff', 'price_25DDiff', 'daily_volume_vol_diff_pct', 'price_10DDiff', 'SPY_1D', 'hour_volume_vol_diff', 'hour_volume_vol_diff_pct', 'return_vol_10D', 'SPY_5D']\"}, 'target': '-0.029+three_min', 'feature_importances': \"[{'oneD_stddev50': 0.045327716}, {'rsi': 0.034738835}, {'close_diff': 0.032899123}, {'daily_volume_vol_diff_pct30': 0.028513981}, {'range_vol_diff5': 0.030348808}, {'SPY_diff': 0.028900849}, {'threeD_stddev50': 0.03803704}, {'close_diff3': 0.03542333}, {'min_volume_vol_diff_pct': 0.026133113}, {'month': 0.045600563}, {'return_vol_240M': 0.16825995}, {'range_vol': 0.03456371}, {'rsi5': 0.0333236}, {'roc': 0.03651894}, {'SPY_3D': 0.03842144}, {'roc5': 0.033497646}, {'roc_diff': 0.035886586}, {'price_25DDiff': 0.033112295}, {'daily_volume_vol_diff_pct': 0.03052194}, {'price_10DDiff': 0.03653089}, {'SPY_1D': 0.037721336}, {'hour_volume_vol_diff': 0.029922372}, {'hour_volume_vol_diff_pct': 0.0299651}, {'return_vol_10D': 0.039540265}, {'SPY_5D': 0.036290634}]\"}\n",
      "{'deployment_date': datetime.datetime(2023, 10, 30, 0, 0), 'dataset_end': datetime.datetime(2023, 10, 20, 0, 0), 'dataset_start': datetime.datetime(2018, 1, 1, 0, 0)}\n",
      "-0.03\n",
      "0.407430312192217\n"
     ]
    },
    {
     "name": "stderr",
     "output_type": "stream",
     "text": [
      "/var/folders/tq/_9q_lv1s2bndbr3tzzn08x4r0000gn/T/ipykernel_13078/1039188303.py:2: SettingWithCopyWarning: \n",
      "A value is trying to be set on a copy of a slice from a DataFrame.\n",
      "Try using .loc[row_indexer,col_indexer] = value instead\n",
      "\n",
      "See the caveats in the documentation: https://pandas.pydata.org/pandas-docs/stable/user_guide/indexing.html#returning-a-view-versus-a-copy\n",
      "  dataset.loc[:, 'label'] = (dataset[target_label] < target_value).astype(int)\n"
     ]
    },
    {
     "name": "stdout",
     "output_type": "stream",
     "text": [
      "label\n",
      "0    30695\n",
      "1    22669\n",
      "Name: count, dtype: int64\n",
      "26 126 266 32\n",
      "{'model_name': 'MAP:RM220_TSSIM1_TL15-EXP_custHypTP0.43', 'deployment_date': '2023-10-30', 'algorithm_type': 'xgboost', 'dataset': 'MAP:RM220_TSSIM1_TL15-EXP_custHypTP0.43', 'TP': 26, 'TPpct': Decimal('0'), 'FP': 126, 'FPpct': Decimal('0'), 'TN': 266, 'TNpct': Decimal('0'), 'FN': 32, 'FNpct': Decimal('0'), 'precision_ratio': Decimal('0.20634920634920634'), 'evaluation_timeperiod': '2023-10-30_2023-11-03', 'live': False, 'hyperparameters': {\"{'subsample': 0.6, 'num_round': 1000, 'min_child_weight': 10, 'max_depth': 10, 'learning_rate': 0.1, 'gamma': 2, 'colsample_bytree': 1}\"}, 'features': {\"['oneD_stddev50', 'rsi', 'close_diff', 'daily_volume_vol_diff_pct30', 'range_vol_diff5', 'SPY_diff', 'threeD_stddev50', 'close_diff3', 'min_volume_vol_diff_pct', 'month', 'return_vol_240M', 'range_vol', 'rsi5', 'roc', 'SPY_3D', 'roc5', 'roc_diff', 'price_25DDiff', 'daily_volume_vol_diff_pct', 'price_10DDiff', 'SPY_1D', 'hour_volume_vol_diff', 'hour_volume_vol_diff_pct', 'return_vol_10D', 'SPY_5D']\"}, 'target': '-0.03+three_min', 'feature_importances': \"[{'oneD_stddev50': 0.04419129}, {'rsi': 0.034988098}, {'close_diff': 0.032133218}, {'daily_volume_vol_diff_pct30': 0.029281322}, {'range_vol_diff5': 0.031053618}, {'SPY_diff': 0.027671063}, {'threeD_stddev50': 0.038146}, {'close_diff3': 0.033151496}, {'min_volume_vol_diff_pct': 0.025763854}, {'month': 0.04513298}, {'return_vol_240M': 0.1685211}, {'range_vol': 0.035464212}, {'rsi5': 0.033925463}, {'roc': 0.03546746}, {'SPY_3D': 0.03792079}, {'roc5': 0.032954708}, {'roc_diff': 0.03551395}, {'price_25DDiff': 0.035331346}, {'daily_volume_vol_diff_pct': 0.027628472}, {'price_10DDiff': 0.036955316}, {'SPY_1D': 0.040485777}, {'hour_volume_vol_diff': 0.0316387}, {'hour_volume_vol_diff_pct': 0.028557332}, {'return_vol_10D': 0.039789677}, {'SPY_5D': 0.03833277}]\"}\n",
      "{'deployment_date': datetime.datetime(2023, 11, 6, 0, 0), 'dataset_end': datetime.datetime(2023, 10, 27, 0, 0), 'dataset_start': datetime.datetime(2018, 1, 1, 0, 0)}\n",
      "-0.03\n",
      "0.40947446110768715\n"
     ]
    },
    {
     "name": "stderr",
     "output_type": "stream",
     "text": [
      "/var/folders/tq/_9q_lv1s2bndbr3tzzn08x4r0000gn/T/ipykernel_13078/1039188303.py:2: SettingWithCopyWarning: \n",
      "A value is trying to be set on a copy of a slice from a DataFrame.\n",
      "Try using .loc[row_indexer,col_indexer] = value instead\n",
      "\n",
      "See the caveats in the documentation: https://pandas.pydata.org/pandas-docs/stable/user_guide/indexing.html#returning-a-view-versus-a-copy\n",
      "  dataset.loc[:, 'label'] = (dataset[target_label] < target_value).astype(int)\n"
     ]
    },
    {
     "name": "stdout",
     "output_type": "stream",
     "text": [
      "label\n",
      "0    30748\n",
      "1    23068\n",
      "Name: count, dtype: int64\n",
      "48 133 221 48\n",
      "{'model_name': 'MAP:RM220_TSSIM1_TL15-EXP_custHypTP0.43', 'deployment_date': '2023-11-06', 'algorithm_type': 'xgboost', 'dataset': 'MAP:RM220_TSSIM1_TL15-EXP_custHypTP0.43', 'TP': 48, 'TPpct': Decimal('0'), 'FP': 133, 'FPpct': Decimal('0'), 'TN': 221, 'TNpct': Decimal('0'), 'FN': 48, 'FNpct': Decimal('0'), 'precision_ratio': Decimal('0.3609022556390977'), 'evaluation_timeperiod': '2023-11-06_2023-11-10', 'live': False, 'hyperparameters': {\"{'subsample': 0.6, 'num_round': 1000, 'min_child_weight': 10, 'max_depth': 10, 'learning_rate': 0.1, 'gamma': 2, 'colsample_bytree': 1}\"}, 'features': {\"['oneD_stddev50', 'rsi', 'close_diff', 'daily_volume_vol_diff_pct30', 'range_vol_diff5', 'SPY_diff', 'threeD_stddev50', 'close_diff3', 'min_volume_vol_diff_pct', 'month', 'return_vol_240M', 'range_vol', 'rsi5', 'roc', 'SPY_3D', 'roc5', 'roc_diff', 'price_25DDiff', 'daily_volume_vol_diff_pct', 'price_10DDiff', 'SPY_1D', 'hour_volume_vol_diff', 'hour_volume_vol_diff_pct', 'return_vol_10D', 'SPY_5D']\"}, 'target': '-0.03+three_min', 'feature_importances': \"[{'oneD_stddev50': 0.047961876}, {'rsi': 0.034674767}, {'close_diff': 0.033214625}, {'daily_volume_vol_diff_pct30': 0.029462632}, {'range_vol_diff5': 0.030602861}, {'SPY_diff': 0.028288063}, {'threeD_stddev50': 0.03655226}, {'close_diff3': 0.032981306}, {'min_volume_vol_diff_pct': 0.023753848}, {'month': 0.045470476}, {'return_vol_240M': 0.16669087}, {'range_vol': 0.034695704}, {'rsi5': 0.03298063}, {'roc': 0.035574317}, {'SPY_3D': 0.038808666}, {'roc5': 0.03334125}, {'roc_diff': 0.036422357}, {'price_25DDiff': 0.03427382}, {'daily_volume_vol_diff_pct': 0.02901995}, {'price_10DDiff': 0.035857018}, {'SPY_1D': 0.040067133}, {'hour_volume_vol_diff': 0.032982666}, {'hour_volume_vol_diff_pct': 0.030064005}, {'return_vol_10D': 0.039245192}, {'SPY_5D': 0.03701371}]\"}\n",
      "{'deployment_date': datetime.datetime(2023, 11, 13, 0, 0), 'dataset_end': datetime.datetime(2023, 11, 3, 0, 0), 'dataset_start': datetime.datetime(2018, 1, 1, 0, 0)}\n",
      "-0.027\n",
      "0.5353473312253084\n"
     ]
    },
    {
     "name": "stderr",
     "output_type": "stream",
     "text": [
      "/var/folders/tq/_9q_lv1s2bndbr3tzzn08x4r0000gn/T/ipykernel_13078/1039188303.py:2: SettingWithCopyWarning: \n",
      "A value is trying to be set on a copy of a slice from a DataFrame.\n",
      "Try using .loc[row_indexer,col_indexer] = value instead\n",
      "\n",
      "See the caveats in the documentation: https://pandas.pydata.org/pandas-docs/stable/user_guide/indexing.html#returning-a-view-versus-a-copy\n",
      "  dataset.loc[:, 'label'] = (dataset[target_label] < target_value).astype(int)\n"
     ]
    },
    {
     "name": "stdout",
     "output_type": "stream",
     "text": [
      "label\n",
      "0    40022\n",
      "1    30578\n",
      "Name: count, dtype: int64\n",
      "30 52 324 44\n",
      "{'model_name': 'MAP:RM220_TSSIM1_TL15-EXP_custHypTP0.43', 'deployment_date': '2023-11-13', 'algorithm_type': 'xgboost', 'dataset': 'MAP:RM220_TSSIM1_TL15-EXP_custHypTP0.43', 'TP': 30, 'TPpct': Decimal('0'), 'FP': 52, 'FPpct': Decimal('0'), 'TN': 324, 'TNpct': Decimal('0'), 'FN': 44, 'FNpct': Decimal('0'), 'precision_ratio': Decimal('0.5769230769230769'), 'evaluation_timeperiod': '2023-11-13_2023-11-17', 'live': False, 'hyperparameters': {\"{'subsample': 0.6, 'num_round': 1000, 'min_child_weight': 10, 'max_depth': 10, 'learning_rate': 0.1, 'gamma': 2, 'colsample_bytree': 1}\"}, 'features': {\"['oneD_stddev50', 'rsi', 'close_diff', 'daily_volume_vol_diff_pct30', 'range_vol_diff5', 'SPY_diff', 'threeD_stddev50', 'close_diff3', 'min_volume_vol_diff_pct', 'month', 'return_vol_240M', 'range_vol', 'rsi5', 'roc', 'SPY_3D', 'roc5', 'roc_diff', 'price_25DDiff', 'daily_volume_vol_diff_pct', 'price_10DDiff', 'SPY_1D', 'hour_volume_vol_diff', 'hour_volume_vol_diff_pct', 'return_vol_10D', 'SPY_5D']\"}, 'target': '-0.027+three_min', 'feature_importances': \"[{'oneD_stddev50': 0.09729066}, {'rsi': 0.037514858}, {'close_diff': 0.031623844}, {'daily_volume_vol_diff_pct30': 0.03100175}, {'range_vol_diff5': 0.033376005}, {'SPY_diff': 0.028163793}, {'threeD_stddev50': 0.04989012}, {'close_diff3': 0.03400775}, {'min_volume_vol_diff_pct': 0.025052737}, {'month': 0.04098447}, {'return_vol_240M': 0.08421233}, {'range_vol': 0.04950321}, {'rsi5': 0.03805645}, {'roc': 0.035681874}, {'SPY_3D': 0.03716675}, {'roc5': 0.035761595}, {'roc_diff': 0.036615252}, {'price_25DDiff': 0.037090182}, {'daily_volume_vol_diff_pct': 0.029289385}, {'price_10DDiff': 0.0355267}, {'SPY_1D': 0.037189104}, {'hour_volume_vol_diff': 0.030655067}, {'hour_volume_vol_diff_pct': 0.03041857}, {'return_vol_10D': 0.037882168}, {'SPY_5D': 0.03604534}]\"}\n",
      "{'deployment_date': datetime.datetime(2023, 11, 20, 0, 0), 'dataset_end': datetime.datetime(2023, 11, 10, 0, 0), 'dataset_start': datetime.datetime(2018, 1, 1, 0, 0)}\n",
      "-0.027\n",
      "0.5132285928041896\n"
     ]
    },
    {
     "name": "stderr",
     "output_type": "stream",
     "text": [
      "/var/folders/tq/_9q_lv1s2bndbr3tzzn08x4r0000gn/T/ipykernel_13078/1039188303.py:2: SettingWithCopyWarning: \n",
      "A value is trying to be set on a copy of a slice from a DataFrame.\n",
      "Try using .loc[row_indexer,col_indexer] = value instead\n",
      "\n",
      "See the caveats in the documentation: https://pandas.pydata.org/pandas-docs/stable/user_guide/indexing.html#returning-a-view-versus-a-copy\n",
      "  dataset.loc[:, 'label'] = (dataset[target_label] < target_value).astype(int)\n"
     ]
    },
    {
     "name": "stdout",
     "output_type": "stream",
     "text": [
      "label\n",
      "0    38856\n",
      "1    29058\n",
      "Name: count, dtype: int64\n",
      "29 16 255 60\n",
      "{'model_name': 'MAP:RM220_TSSIM1_TL15-EXP_custHypTP0.43', 'deployment_date': '2023-11-20', 'algorithm_type': 'xgboost', 'dataset': 'MAP:RM220_TSSIM1_TL15-EXP_custHypTP0.43', 'TP': 29, 'TPpct': Decimal('0'), 'FP': 16, 'FPpct': Decimal('0'), 'TN': 255, 'TNpct': Decimal('0'), 'FN': 60, 'FNpct': Decimal('0'), 'precision_ratio': Decimal('1.8125'), 'evaluation_timeperiod': '2023-11-20_2023-11-24', 'live': False, 'hyperparameters': {\"{'subsample': 0.6, 'num_round': 1000, 'min_child_weight': 10, 'max_depth': 10, 'learning_rate': 0.1, 'gamma': 2, 'colsample_bytree': 1}\"}, 'features': {\"['oneD_stddev50', 'rsi', 'close_diff', 'daily_volume_vol_diff_pct30', 'range_vol_diff5', 'SPY_diff', 'threeD_stddev50', 'close_diff3', 'min_volume_vol_diff_pct', 'month', 'return_vol_240M', 'range_vol', 'rsi5', 'roc', 'SPY_3D', 'roc5', 'roc_diff', 'price_25DDiff', 'daily_volume_vol_diff_pct', 'price_10DDiff', 'SPY_1D', 'hour_volume_vol_diff', 'hour_volume_vol_diff_pct', 'return_vol_10D', 'SPY_5D']\"}, 'target': '-0.027+three_min', 'feature_importances': \"[{'oneD_stddev50': 0.09024343}, {'rsi': 0.03728144}, {'close_diff': 0.03243253}, {'daily_volume_vol_diff_pct30': 0.031842556}, {'range_vol_diff5': 0.031961612}, {'SPY_diff': 0.027653754}, {'threeD_stddev50': 0.05095997}, {'close_diff3': 0.035498973}, {'min_volume_vol_diff_pct': 0.026423186}, {'month': 0.042301115}, {'return_vol_240M': 0.09771631}, {'range_vol': 0.042040877}, {'rsi5': 0.0377759}, {'roc': 0.03547486}, {'SPY_3D': 0.03676288}, {'roc5': 0.03562963}, {'roc_diff': 0.036538}, {'price_25DDiff': 0.036119275}, {'daily_volume_vol_diff_pct': 0.029243572}, {'price_10DDiff': 0.036876164}, {'SPY_1D': 0.037418604}, {'hour_volume_vol_diff': 0.028119216}, {'hour_volume_vol_diff_pct': 0.028669313}, {'return_vol_10D': 0.037913874}, {'SPY_5D': 0.03710302}]\"}\n",
      "{'deployment_date': datetime.datetime(2023, 11, 27, 0, 0), 'dataset_end': datetime.datetime(2023, 11, 17, 0, 0), 'dataset_start': datetime.datetime(2018, 1, 1, 0, 0)}\n",
      "-0.031\n",
      "0.4968405672669212\n"
     ]
    },
    {
     "name": "stderr",
     "output_type": "stream",
     "text": [
      "/var/folders/tq/_9q_lv1s2bndbr3tzzn08x4r0000gn/T/ipykernel_13078/1039188303.py:2: SettingWithCopyWarning: \n",
      "A value is trying to be set on a copy of a slice from a DataFrame.\n",
      "Try using .loc[row_indexer,col_indexer] = value instead\n",
      "\n",
      "See the caveats in the documentation: https://pandas.pydata.org/pandas-docs/stable/user_guide/indexing.html#returning-a-view-versus-a-copy\n",
      "  dataset.loc[:, 'label'] = (dataset[target_label] < target_value).astype(int)\n"
     ]
    },
    {
     "name": "stdout",
     "output_type": "stream",
     "text": [
      "label\n",
      "0    37596\n",
      "1    28373\n",
      "Name: count, dtype: int64\n",
      "46 55 228 121\n",
      "{'model_name': 'MAP:RM220_TSSIM1_TL15-EXP_custHypTP0.43', 'deployment_date': '2023-11-27', 'algorithm_type': 'xgboost', 'dataset': 'MAP:RM220_TSSIM1_TL15-EXP_custHypTP0.43', 'TP': 46, 'TPpct': Decimal('0'), 'FP': 55, 'FPpct': Decimal('0'), 'TN': 228, 'TNpct': Decimal('0'), 'FN': 121, 'FNpct': Decimal('0'), 'precision_ratio': Decimal('0.8363636363636363'), 'evaluation_timeperiod': '2023-11-27_2023-12-01', 'live': False, 'hyperparameters': {\"{'subsample': 0.6, 'num_round': 1000, 'min_child_weight': 10, 'max_depth': 10, 'learning_rate': 0.1, 'gamma': 2, 'colsample_bytree': 1}\"}, 'features': {\"['oneD_stddev50', 'rsi', 'close_diff', 'daily_volume_vol_diff_pct30', 'range_vol_diff5', 'SPY_diff', 'threeD_stddev50', 'close_diff3', 'min_volume_vol_diff_pct', 'month', 'return_vol_240M', 'range_vol', 'rsi5', 'roc', 'SPY_3D', 'roc5', 'roc_diff', 'price_25DDiff', 'daily_volume_vol_diff_pct', 'price_10DDiff', 'SPY_1D', 'hour_volume_vol_diff', 'hour_volume_vol_diff_pct', 'return_vol_10D', 'SPY_5D']\"}, 'target': '-0.031+three_min', 'feature_importances': \"[{'oneD_stddev50': 0.05103935}, {'rsi': 0.034300603}, {'close_diff': 0.0303998}, {'daily_volume_vol_diff_pct30': 0.028415434}, {'range_vol_diff5': 0.030520285}, {'SPY_diff': 0.029120987}, {'threeD_stddev50': 0.036982633}, {'close_diff3': 0.033600688}, {'min_volume_vol_diff_pct': 0.026336012}, {'month': 0.04238839}, {'return_vol_240M': 0.17153521}, {'range_vol': 0.034435444}, {'rsi5': 0.03454024}, {'roc': 0.03452334}, {'SPY_3D': 0.03742706}, {'roc5': 0.033846986}, {'roc_diff': 0.03520907}, {'price_25DDiff': 0.037120935}, {'daily_volume_vol_diff_pct': 0.028454805}, {'price_10DDiff': 0.03755334}, {'SPY_1D': 0.03723276}, {'hour_volume_vol_diff': 0.030825201}, {'hour_volume_vol_diff_pct': 0.029624974}, {'return_vol_10D': 0.037162594}, {'SPY_5D': 0.037403885}]\"}\n",
      "{'deployment_date': datetime.datetime(2023, 12, 4, 0, 0), 'dataset_end': datetime.datetime(2023, 11, 24, 0, 0), 'dataset_start': datetime.datetime(2018, 1, 1, 0, 0)}\n",
      "-0.025\n",
      "0.4518428385798088\n"
     ]
    },
    {
     "name": "stderr",
     "output_type": "stream",
     "text": [
      "/var/folders/tq/_9q_lv1s2bndbr3tzzn08x4r0000gn/T/ipykernel_13078/1039188303.py:2: SettingWithCopyWarning: \n",
      "A value is trying to be set on a copy of a slice from a DataFrame.\n",
      "Try using .loc[row_indexer,col_indexer] = value instead\n",
      "\n",
      "See the caveats in the documentation: https://pandas.pydata.org/pandas-docs/stable/user_guide/indexing.html#returning-a-view-versus-a-copy\n",
      "  dataset.loc[:, 'label'] = (dataset[target_label] < target_value).astype(int)\n"
     ]
    },
    {
     "name": "stdout",
     "output_type": "stream",
     "text": [
      "label\n",
      "0    34044\n",
      "1    26113\n",
      "Name: count, dtype: int64\n",
      "42 101 248 59\n",
      "{'model_name': 'MAP:RM220_TSSIM1_TL15-EXP_custHypTP0.43', 'deployment_date': '2023-12-04', 'algorithm_type': 'xgboost', 'dataset': 'MAP:RM220_TSSIM1_TL15-EXP_custHypTP0.43', 'TP': 42, 'TPpct': Decimal('0'), 'FP': 101, 'FPpct': Decimal('0'), 'TN': 248, 'TNpct': Decimal('0'), 'FN': 59, 'FNpct': Decimal('0'), 'precision_ratio': Decimal('0.4158415841584158'), 'evaluation_timeperiod': '2023-12-04_2023-12-08', 'live': False, 'hyperparameters': {\"{'subsample': 0.6, 'num_round': 1000, 'min_child_weight': 10, 'max_depth': 10, 'learning_rate': 0.1, 'gamma': 2, 'colsample_bytree': 1}\"}, 'features': {\"['oneD_stddev50', 'rsi', 'close_diff', 'daily_volume_vol_diff_pct30', 'range_vol_diff5', 'SPY_diff', 'threeD_stddev50', 'close_diff3', 'min_volume_vol_diff_pct', 'month', 'return_vol_240M', 'range_vol', 'rsi5', 'roc', 'SPY_3D', 'roc5', 'roc_diff', 'price_25DDiff', 'daily_volume_vol_diff_pct', 'price_10DDiff', 'SPY_1D', 'hour_volume_vol_diff', 'hour_volume_vol_diff_pct', 'return_vol_10D', 'SPY_5D']\"}, 'target': '-0.025+three_min', 'feature_importances': \"[{'oneD_stddev50': 0.11985286}, {'rsi': 0.03567641}, {'close_diff': 0.033378053}, {'daily_volume_vol_diff_pct30': 0.03158688}, {'range_vol_diff5': 0.033153836}, {'SPY_diff': 0.028387707}, {'threeD_stddev50': 0.05662186}, {'close_diff3': 0.03238231}, {'min_volume_vol_diff_pct': 0.026230654}, {'month': 0.04467625}, {'return_vol_240M': 0.061494224}, {'range_vol': 0.051341623}, {'rsi5': 0.03797395}, {'roc': 0.034319557}, {'SPY_3D': 0.035300262}, {'roc5': 0.036364242}, {'roc_diff': 0.036175944}, {'price_25DDiff': 0.03539791}, {'daily_volume_vol_diff_pct': 0.030589908}, {'price_10DDiff': 0.034746096}, {'SPY_1D': 0.03517608}, {'hour_volume_vol_diff': 0.029154139}, {'hour_volume_vol_diff_pct': 0.028298484}, {'return_vol_10D': 0.036134094}, {'SPY_5D': 0.035586707}]\"}\n",
      "{'deployment_date': datetime.datetime(2023, 12, 11, 0, 0), 'dataset_end': datetime.datetime(2023, 12, 1, 0, 0), 'dataset_start': datetime.datetime(2018, 1, 1, 0, 0)}\n",
      "-0.025\n",
      "0.4523419194981548\n"
     ]
    },
    {
     "name": "stderr",
     "output_type": "stream",
     "text": [
      "/var/folders/tq/_9q_lv1s2bndbr3tzzn08x4r0000gn/T/ipykernel_13078/1039188303.py:2: SettingWithCopyWarning: \n",
      "A value is trying to be set on a copy of a slice from a DataFrame.\n",
      "Try using .loc[row_indexer,col_indexer] = value instead\n",
      "\n",
      "See the caveats in the documentation: https://pandas.pydata.org/pandas-docs/stable/user_guide/indexing.html#returning-a-view-versus-a-copy\n",
      "  dataset.loc[:, 'label'] = (dataset[target_label] < target_value).astype(int)\n"
     ]
    },
    {
     "name": "stdout",
     "output_type": "stream",
     "text": [
      "label\n",
      "0    34234\n",
      "1    26193\n",
      "Name: count, dtype: int64\n",
      "42 63 269 76\n",
      "{'model_name': 'MAP:RM220_TSSIM1_TL15-EXP_custHypTP0.43', 'deployment_date': '2023-12-11', 'algorithm_type': 'xgboost', 'dataset': 'MAP:RM220_TSSIM1_TL15-EXP_custHypTP0.43', 'TP': 42, 'TPpct': Decimal('0'), 'FP': 63, 'FPpct': Decimal('0'), 'TN': 269, 'TNpct': Decimal('0'), 'FN': 76, 'FNpct': Decimal('0'), 'precision_ratio': Decimal('0.6666666666666666'), 'evaluation_timeperiod': '2023-12-11_2023-12-15', 'live': False, 'hyperparameters': {\"{'subsample': 0.6, 'num_round': 1000, 'min_child_weight': 10, 'max_depth': 10, 'learning_rate': 0.1, 'gamma': 2, 'colsample_bytree': 1}\"}, 'features': {\"['oneD_stddev50', 'rsi', 'close_diff', 'daily_volume_vol_diff_pct30', 'range_vol_diff5', 'SPY_diff', 'threeD_stddev50', 'close_diff3', 'min_volume_vol_diff_pct', 'month', 'return_vol_240M', 'range_vol', 'rsi5', 'roc', 'SPY_3D', 'roc5', 'roc_diff', 'price_25DDiff', 'daily_volume_vol_diff_pct', 'price_10DDiff', 'SPY_1D', 'hour_volume_vol_diff', 'hour_volume_vol_diff_pct', 'return_vol_10D', 'SPY_5D']\"}, 'target': '-0.025+three_min', 'feature_importances': \"[{'oneD_stddev50': 0.11283246}, {'rsi': 0.03698068}, {'close_diff': 0.032643393}, {'daily_volume_vol_diff_pct30': 0.031274717}, {'range_vol_diff5': 0.03401862}, {'SPY_diff': 0.029478382}, {'threeD_stddev50': 0.052319422}, {'close_diff3': 0.03304336}, {'min_volume_vol_diff_pct': 0.025799645}, {'month': 0.043113757}, {'return_vol_240M': 0.06797249}, {'range_vol': 0.049335957}, {'rsi5': 0.037830234}, {'roc': 0.034566004}, {'SPY_3D': 0.03741964}, {'roc5': 0.035313558}, {'roc_diff': 0.036480047}, {'price_25DDiff': 0.03720891}, {'daily_volume_vol_diff_pct': 0.030439032}, {'price_10DDiff': 0.035041243}, {'SPY_1D': 0.035099827}, {'hour_volume_vol_diff': 0.030901903}, {'hour_volume_vol_diff_pct': 0.029513871}, {'return_vol_10D': 0.03624047}, {'SPY_5D': 0.035132363}]\"}\n",
      "{'deployment_date': datetime.datetime(2023, 12, 18, 0, 0), 'dataset_end': datetime.datetime(2023, 12, 8, 0, 0), 'dataset_start': datetime.datetime(2018, 1, 1, 0, 0)}\n",
      "-0.025\n",
      "0.4561949312503264\n"
     ]
    },
    {
     "name": "stderr",
     "output_type": "stream",
     "text": [
      "/var/folders/tq/_9q_lv1s2bndbr3tzzn08x4r0000gn/T/ipykernel_13078/1039188303.py:2: SettingWithCopyWarning: \n",
      "A value is trying to be set on a copy of a slice from a DataFrame.\n",
      "Try using .loc[row_indexer,col_indexer] = value instead\n",
      "\n",
      "See the caveats in the documentation: https://pandas.pydata.org/pandas-docs/stable/user_guide/indexing.html#returning-a-view-versus-a-copy\n",
      "  dataset.loc[:, 'label'] = (dataset[target_label] < target_value).astype(int)\n"
     ]
    },
    {
     "name": "stdout",
     "output_type": "stream",
     "text": [
      "label\n",
      "0    34651\n",
      "1    26496\n",
      "Name: count, dtype: int64\n",
      "27 34 336 53\n",
      "{'model_name': 'MAP:RM220_TSSIM1_TL15-EXP_custHypTP0.43', 'deployment_date': '2023-12-18', 'algorithm_type': 'xgboost', 'dataset': 'MAP:RM220_TSSIM1_TL15-EXP_custHypTP0.43', 'TP': 27, 'TPpct': Decimal('0'), 'FP': 34, 'FPpct': Decimal('0'), 'TN': 336, 'TNpct': Decimal('0'), 'FN': 53, 'FNpct': Decimal('0'), 'precision_ratio': Decimal('0.7941176470588235'), 'evaluation_timeperiod': '2023-12-18_2023-12-22', 'live': False, 'hyperparameters': {\"{'subsample': 0.6, 'num_round': 1000, 'min_child_weight': 10, 'max_depth': 10, 'learning_rate': 0.1, 'gamma': 2, 'colsample_bytree': 1}\"}, 'features': {\"['oneD_stddev50', 'rsi', 'close_diff', 'daily_volume_vol_diff_pct30', 'range_vol_diff5', 'SPY_diff', 'threeD_stddev50', 'close_diff3', 'min_volume_vol_diff_pct', 'month', 'return_vol_240M', 'range_vol', 'rsi5', 'roc', 'SPY_3D', 'roc5', 'roc_diff', 'price_25DDiff', 'daily_volume_vol_diff_pct', 'price_10DDiff', 'SPY_1D', 'hour_volume_vol_diff', 'hour_volume_vol_diff_pct', 'return_vol_10D', 'SPY_5D']\"}, 'target': '-0.025+three_min', 'feature_importances': \"[{'oneD_stddev50': 0.11739728}, {'rsi': 0.036212914}, {'close_diff': 0.03180856}, {'daily_volume_vol_diff_pct30': 0.03348081}, {'range_vol_diff5': 0.033363953}, {'SPY_diff': 0.027546188}, {'threeD_stddev50': 0.0534406}, {'close_diff3': 0.032572716}, {'min_volume_vol_diff_pct': 0.02632032}, {'month': 0.04363499}, {'return_vol_240M': 0.06141789}, {'range_vol': 0.051491182}, {'rsi5': 0.036081985}, {'roc': 0.033449803}, {'SPY_3D': 0.038471103}, {'roc5': 0.03633944}, {'roc_diff': 0.03626807}, {'price_25DDiff': 0.036320396}, {'daily_volume_vol_diff_pct': 0.029940736}, {'price_10DDiff': 0.035954464}, {'SPY_1D': 0.035271123}, {'hour_volume_vol_diff': 0.03185454}, {'hour_volume_vol_diff_pct': 0.029203739}, {'return_vol_10D': 0.03682576}, {'SPY_5D': 0.035331357}]\"}\n"
     ]
    }
   ],
   "source": [
    "target_percentile = 0.43\n",
    "model_name = f'MAP:RM220_TSSIM1_TL15-EXP_custHypTP{target_percentile}'\n",
    "# model_name = 'GAIN:TSSIM1_TL15_custHypP3'\n",
    "dataset_name = f'MAP:RM220_TSSIM1_TL15-EXP_custHypTP{target_percentile}'\n",
    "title = 'MAP'\n",
    "hyperparams = {'subsample': 0.6, 'num_round': 1000, 'min_child_weight': 10, 'max_depth': 10, 'learning_rate': 0.1, 'gamma': 2, 'colsample_bytree': 1}\n",
    "features = ['oneD_stddev50', 'rsi', 'close_diff', 'daily_volume_vol_diff_pct30', 'range_vol_diff5', 'SPY_diff', 'threeD_stddev50', 'close_diff3', 'min_volume_vol_diff_pct', 'month', \n",
    "            'return_vol_240M', 'range_vol', 'rsi5', 'roc', 'SPY_3D', 'roc5', 'roc_diff', 'price_25DDiff', 'daily_volume_vol_diff_pct', 'price_10DDiff', 'SPY_1D', 'hour_volume_vol_diff', \n",
    "            'hour_volume_vol_diff_pct', 'return_vol_10D', 'SPY_5D']\n",
    "target_label = 'three_min'\n",
    "\n",
    "dataset_start_date = datetime(2018,1,1,tzinfo=pytz.timezone('US/Eastern')) \n",
    "dates_list = build_evaluation_period(datetime(2022,10,3), datetime(2023,12,23))\n",
    "\n",
    "# date = dates_list[-1]\n",
    "# print(date)\n",
    "# response = model_runner_data(start_date=datetime(2018,1,1),end_date=datetime(2023,12,23))\n",
    "\n",
    "# dataset = pull_training_data_local(start_date=datetime(2018,1,1),end_date=datetime(2023,10,28))\n",
    "# print(dataset['three_max'].describe())\n",
    "\n",
    "for date in dates_list:\n",
    "    print(date)\n",
    "    response = model_runner_v2(model_name, dataset_name, title, features, target_label, target_percentile,\"dataset_start_date\",date['dataset_end'],date['deployment_date'], str(features),str(hyperparams), hyperparams, local_data=True, dataset_start_date=date['dataset_start'])\n",
    "    \n"
   ]
  },
  {
   "cell_type": "code",
   "execution_count": 24,
   "metadata": {},
   "outputs": [],
   "source": [
    "# def convert_timestamp_est(timestamp):\n",
    "#     # Create a naive datetime object from the UNIX timestamp\n",
    "#     dt_naive = datetime.utcfromtimestamp(timestamp)\n",
    "#     # Convert the naive datetime object to a timezone-aware one (UTC)\n",
    "#     dt_utc = pytz.utc.localize(dt_naive)\n",
    "#     # Convert the UTC datetime to EST\n",
    "#     dt_est = dt_utc.astimezone(pytz.timezone('US/Eastern'))\n",
    "    \n",
    "#     return dt_est\n",
    "\n",
    "\n",
    "# data = pd.read_csv(f'/Users/charlesmiller/Documents/model_tester_data/GAIN/2018-01-01_2023-12-23_trainTL10.csv')\n",
    "# data['date'] = data['date'].astype(str)\n",
    "# data['date'] = data['date'].apply(lambda x: x.split(\" \")[0])\n",
    "# data = data.drop(data[data['date'] == 'nan'].index)\n",
    "# # data.drop('date',axis=1,inplace=True)\n",
    "# # data['date'] = data['t'].apply(lambda x: convert_timestamp_est(x))\n",
    "# # data.drop(['one_pct','three_pct','Unnamed: 0.2', \"Unnamed: 0\",\"Unnamed: 0.1\", \"date_x\",\"date_y\",'vw_x', 'n_x', 'return_vol_240M_x', 'volume_vol_240M_x', 'return_vol_450M_x', 'volume_vol_450M_x', 'min_vol_diff_x', 'min_vol_diff_pct_x', 'min_volume_vol_diff_x', 'min_volume_vol_diff_pct_x', 'return_vol_8H_x', 'return_vol_16H_x', 'volume_vol_8H_x', 'volume_vol_16H_x', 'hour_vol_diff_x', 'hour_vol_diff_pct_x', 'hour_volume_vol_diff_x', 'hour_volume_vol_diff_pct_x', 'return_vol_5D_x', 'return_vol_10D_x', 'return_vol_30D_x', 'volume_vol_5D_x', 'volume_vol_10D_x', 'volume_vol_30D_x', 'daily_vol_diff_x', 'daily_vol_diff_pct_x', 'daily_vol_diff30_x', 'daily_vol_diff_pct30_x', 'daily_volume_vol_diff_x', 'daily_volume_vol_diff_pct_x', 'daily_volume_vol_diff30_x', 'daily_volume_vol_diff_pct30_x', 'vw_y', 'n_y', 'return_vol_240M_y', 'volume_vol_240M_y', 'return_vol_450M_y', 'volume_vol_450M_y', 'min_vol_diff_y', 'min_vol_diff_pct_y', 'min_volume_vol_diff_y', 'min_volume_vol_diff_pct_y', 'return_vol_8H_y', 'return_vol_16H_y', 'volume_vol_8H_y', 'volume_vol_16H_y', 'hour_vol_diff_y', 'hour_vol_diff_pct_y', 'hour_volume_vol_diff_y', 'hour_volume_vol_diff_pct_y', 'return_vol_5D_y', 'return_vol_10D_y', 'return_vol_30D_y', 'volume_vol_5D_y', 'volume_vol_10D_y', 'volume_vol_30D_y', 'daily_vol_diff_y', 'daily_vol_diff_pct_y', 'daily_vol_diff30_y', 'daily_vol_diff_pct30_y', 'daily_volume_vol_diff_y', 'daily_volume_vol_diff_pct_y', 'daily_volume_vol_diff30_y', 'daily_volume_vol_diff_pct30_y'], axis=1, inplace=True)\n",
    "# data['roc_diff'] = data['roc'] - data['roc5'] \n",
    "# data['range_vol_diff5'] = (data['range_vol'] - data['range_vol5MA'])\n",
    "# data['close_diff_deviation3'] = abs(data['close_diff3'])/(data['threeD_stddev50']*100)\n",
    "# data['close_diff_deviation'] = abs(data['close_diff'])/(data['oneD_stddev50']*100)\n",
    "# data.dropna(subset=['date'], inplace=True)\n",
    "# data['date'] = data['date'].apply(lambda x: datetime.strptime(x,\"%Y-%m-%d\"))\n",
    "# data['day_of_week'] = data['date'].apply(lambda x: x.dayofweek).astype(int)\n",
    "# data['day_of_month'] = data['date'].apply(lambda x: x.day).astype(int)\n",
    "# data['month'] = data['date'].apply(lambda x: x.month).astype(int)\n",
    "# data['year'] = data['date'].apply(lambda x: x.year).astype(int)\n",
    "# data.replace([np.inf, -np.inf], 0, inplace=True)\n",
    "# data.to_csv(f'/Users/charlesmiller/Documents/model_tester_data/GAIN/2018-01-01_2023-12-23_trainTL10.csv', index=False)"
   ]
  },
  {
   "cell_type": "code",
   "execution_count": 25,
   "metadata": {},
   "outputs": [],
   "source": [
    "# def run_temporal_simulation(features, target_label, target_value, dataset_start_date, evaluation_start_date, evaluation_end_date):\n",
    "#     tp_avg_list = []\n",
    "#     gross_accuracy_list = []\n",
    "#     # fn_list = []\n",
    "#     # tn_list = []\n",
    "    \n",
    "#     hyperparams = {'subsample': 0.6, 'num_round': 1000, 'min_child_weight': 10, 'max_depth': 10, 'learning_rate': 0.1, 'gamma': 2, 'colsample_bytree': 1}\n",
    "#     dates_list = build_evaluation_period(evaluation_start_date, evaluation_end_date)\n",
    "#     for date in dates_list:\n",
    "#         tp, fp, fn, tn = model_runner_temporal_simulation(features, target_label, target_value,dataset_start_date,date['dataset_end'],date['deployment_date'], hyperparams)\n",
    "#         tp_avg_list.append(tp)\n",
    "#         gross_accuracy_list.append((tp-fp))\n",
    "\n",
    "#     return tp_avg_list, gross_accuracy_list\n"
   ]
  },
  {
   "cell_type": "code",
   "execution_count": 26,
   "metadata": {},
   "outputs": [],
   "source": [
    "# number_of_simulations = 200\n",
    "# now = datetime.now()\n",
    "# title = 'GAIN'\n",
    "# # total_feature_list = ['hour','year','month','day_of_month',\n",
    "# #        'price7', 'price14', 'adjusted_volume', 'vol7', 'vol14',\n",
    "# #        'rsi', 'rsi3', 'rsi5', 'roc', 'roc3', 'roc5', 'threeD_returns_close',\n",
    "# #        'oneD_returns_close', 'range_vol', 'range_vol5MA', 'range_vol10MA',\n",
    "# #        'range_vol25MA', 'oneD_stddev50', 'threeD_stddev50', 'cmf',\n",
    "# #        'close_diff', 'close_diff3', 'close_diff5', 'v_diff_pct', 'adx',\n",
    "# #        'volume_10MA', 'volume_25MA', 'price_10MA', 'price_25MA',\n",
    "# #        'volume_10DDiff', 'volume_25DDiff', 'price_10DDiff', 'price_25DDiff',\n",
    "# #        'day_of_week','close_diff_deviation3','close_diff_deviation','roc_diff','range_vol_diff5',\n",
    "# #        'return_vol_240M', 'volume_vol_240M', 'return_vol_450M', 'volume_vol_450M', 'min_vol_diff', 'min_vol_diff_pct', 'min_volume_vol_diff', \n",
    "# #        'min_volume_vol_diff_pct', 'return_vol_8H', 'return_vol_16H', 'volume_vol_8H', 'volume_vol_16H', 'hour_vol_diff', 'hour_vol_diff_pct', 'hour_volume_vol_diff', \n",
    "# #        'hour_volume_vol_diff_pct', 'return_vol_5D', 'return_vol_10D', 'return_vol_30D', 'volume_vol_5D', 'volume_vol_10D', 'volume_vol_30D', 'daily_vol_diff', 'daily_vol_diff_pct',\n",
    "# #        'daily_vol_diff30', 'daily_vol_diff_pct30', 'daily_volume_vol_diff', 'daily_volume_vol_diff_pct', 'daily_volume_vol_diff30', 'daily_volume_vol_diff_pct30']\n",
    "# testing_features = ['hour', 'day_of_week','month','daily_vol_diff30', 'hour_volume_vol_diff', 'roc_diff', \n",
    "# 'range_vol', 'volume_vol_8H','close_diff3', 'close_diff5',\n",
    "# 'range_vol_diff5', 'SPY_diff', 'SPY_diff3','SPY_diff5','rsi5','roc5',\n",
    "# 'return_vol_10D', 'return_vol_8H', 'return_vol_16H', 'return_vol_450M', 'adx', \n",
    "# 'rsi','roc','rsi3','roc3','daily_vol_diff', 'SPY_1D','SPY_3D', 'SPY_5D','min_vol_diff', 'return_vol_240M', \n",
    "# 'price_25DDiff', 'price_10DDiff','daily_vol_diff_pct30','threeD_stddev50',\n",
    "# 'price7', 'daily_vol_diff_pct', 'oneD_stddev50', 'volume_vol_16H','min_volume_vol_diff_pct',\n",
    "# 'close_diff_deviation','close_diff','daily_volume_vol_diff_pct','hour_volume_vol_diff_pct','daily_volume_vol_diff_pct30']\n",
    "\n",
    "# target_label = 'three_max'\n",
    "# target_value = .03\n",
    "# results_array = []\n",
    "\n",
    "# i = 0\n",
    "# while i < number_of_simulations:\n",
    "#        model_name = f\"{title}_temporal_simulation_{i}\"\n",
    "#        print(model_name)\n",
    "#        random_int = random.randint(20, 35)\n",
    "#        features = random.sample(testing_features, random_int)\n",
    "#        print(features)\n",
    "#        tp_avg_list, gross_accuracy_list = run_temporal_simulation(features, target_label, target_value, dataset_start_date=datetime(2018,1,1), evaluation_start_date=datetime(2022,10,3), evaluation_end_date=datetime(2023,10,2))        \n",
    "#        tp_avg = sum(tp_avg_list)/len(tp_avg_list)\n",
    "#        gross_accuracy = sum(gross_accuracy_list)/len(gross_accuracy_list)\n",
    "#        print(tp_avg, gross_accuracy)\n",
    "#        print()\n",
    "#        results_array.append({\"model_name\": model_name, \"features\": features, \"tp_avg\": tp_avg, \"gross_accuracy\": gross_accuracy,\"num_features\": random_int})\n",
    "#        i += 1\n",
    "\n",
    "# results_df = pd.DataFrame(results_array)\n",
    "# results_df.to_csv(f'/Users/charlesmiller/Documents/temporal_simulation_results/{title}/{now.year}_{now.month}_{now.day}.csv', index=False)"
   ]
  },
  {
   "cell_type": "code",
   "execution_count": null,
   "metadata": {},
   "outputs": [],
   "source": []
  },
  {
   "cell_type": "code",
   "execution_count": null,
   "metadata": {},
   "outputs": [],
   "source": []
  }
 ],
 "metadata": {
  "kernelspec": {
   "display_name": "model-tester-d0oOM2ve",
   "language": "python",
   "name": "python3"
  },
  "language_info": {
   "codemirror_mode": {
    "name": "ipython",
    "version": 3
   },
   "file_extension": ".py",
   "mimetype": "text/x-python",
   "name": "python",
   "nbconvert_exporter": "python",
   "pygments_lexer": "ipython3",
   "version": "3.9.10"
  },
  "orig_nbformat": 4
 },
 "nbformat": 4,
 "nbformat_minor": 2
}
