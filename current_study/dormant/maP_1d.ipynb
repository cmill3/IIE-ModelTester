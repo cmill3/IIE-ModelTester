{
 "cells": [
  {
   "cell_type": "code",
   "execution_count": 27,
   "metadata": {},
   "outputs": [],
   "source": [
    "import boto3\n",
    "import numpy as np\n",
    "import pandas as pd\n",
    "import matplotlib.pyplot as plt\n",
    "import seaborn as sns\n",
    "from datetime import datetime, timedelta\n",
    "from sklearn.metrics import confusion_matrix, ConfusionMatrixDisplay\n",
    "from sklearn.metrics import accuracy_score\n",
    "from sklearn.model_selection import GridSearchCV\n",
    "import xgboost as xgb\n",
    "import math\n",
    "import random\n",
    "from decimal import Decimal, getcontext\n",
    "import pandas_market_calendars as mcal\n",
    "import ast\n",
    "from sklearn.preprocessing import StandardScaler\n",
    "import pytz\n",
    "from helpers.constants import *"
   ]
  },
  {
   "cell_type": "code",
   "execution_count": 28,
   "metadata": {},
   "outputs": [],
   "source": [
    "s3 = boto3.client('s3')\n",
    "\n",
    "training_bucket = \"icarus-research-data\"\n",
    "training_prefix = 'training_datasets/expanded_1d_datasets/'\n",
    "\n",
    "# Create a calendar\n",
    "nyse = mcal.get_calendar('NYSE')\n",
    "holidays = nyse.regular_holidays\n",
    "market_holidays = holidays.holidays()\n",
    "\n",
    "weekly_expiries = ['SPY', 'IVV', 'QQQ', 'GLD', 'IWM', 'EFA', 'XLK', 'XLV', 'TLT', 'LQD', 'XLE', 'TQQQ', 'SQQQ', 'SPXS', 'SPXL', 'SOXL', 'SOXS', 'MMM', 'ABT', 'ABBV', 'ACN', 'ATVI', 'ADM', 'ADBE', 'ADP', \n",
    "                   'AAP', 'AFL', 'ALB', 'ALGN', 'GOOGL', 'GOOG', 'MO', 'AMZN', 'AMD', 'AAL', 'AXP', 'AIG', 'ABC', 'AMGN', 'ADI', 'APA', 'AAPL', 'AMAT', 'ANET', 'T', 'ADSK', 'BAC', 'BBWI', 'BAX', 'BBY', 'BIIB', \n",
    "                   'BLK', 'BA', 'BKNG', 'BMY', 'AVGO', 'CZR', 'CPB', 'COF', 'CAH', 'KMX', 'CCL', 'CAT', 'CBOE', 'CNC', 'CF', 'SCHW', 'CHTR', 'CVX', 'CMG', 'CI', 'CSCO', 'C', 'CLX', 'CME', 'KO', 'CMCSA', 'CMA', 'CAG', \n",
    "                   'COP', 'STZ', 'GLW', 'COST', 'CTRA', 'CSX', 'CVS', 'DHI', 'DHR', 'DE', 'DAL', 'DVN', 'DLR', 'DFS', 'DISH', 'DIS', 'DG', 'DLTR', 'DPZ', 'DOW', 'DD', 'EBAY', 'EA', 'ELV', 'LLY', 'EMR', 'ENPH', 'EOG', 'EQT', \n",
    "                   'ETSY', 'EXPE', 'XOM', 'FDX', 'FITB', 'FSLR', 'FI', 'F', 'FTNT', 'FOXA', 'FCX', 'GEHC', 'GNRC', 'GD', 'GE', 'GM', 'GILD', 'GS', 'HAL', 'HSY', 'HES', 'HD', 'HON', 'HRL', 'HPQ', 'HUM', 'HBAN', 'IBM', 'ILMN', \n",
    "                   'INTC', 'IP', 'INTU', 'ISRG', 'JNJ', 'JPM', 'JNPR', 'KEY', 'KMB', 'KMI', 'KLAC', 'KHC', 'KR', 'LRCX', 'LVS', 'LEN', 'LMT', 'LOW', 'MRO', 'MPC', 'MAR', 'MA', 'MTCH', 'MCD', 'MCK', 'MDT', 'MRK', 'META', 'MET', \n",
    "                   'MGM', 'MU', 'MSFT', 'MRNA', 'MDLZ', 'MS', 'MOS', 'NTAP', 'NFLX', 'NEM', 'NKE', 'NSC', 'NOC', 'NCLH', 'NUE', 'NVDA', 'NXPI', 'OXY', 'ON', 'ORCL', 'PARA', 'PYPL', 'PEP', 'PFE', 'PCG', 'PM', 'PSX', 'PXD', 'PNC', \n",
    "                   'PPG', 'PG', 'PHM', 'QCOM', 'RTX', 'REGN', 'ROST', 'RCL', 'SPGI', 'CRM', 'SLB', 'STX', 'NOW', 'SWKS', 'SEDG', 'SO', 'LUV', 'SBUX', 'TMUS', 'TROW', 'TTWO', 'TPR', 'TGT', 'TSLA', 'TXN', 'TMO', 'TJX', 'TSCO', 'TFC', \n",
    "                   'TSN', 'USB', 'ULTA', 'UNP', 'UAL', 'UPS', 'URI', 'UNH', 'VLO', 'VZ', 'VRTX', 'VFC', 'V', 'WBA', 'WMT', 'WBD', 'WM', 'WFC', 'WDC', 'WHR', 'WMB', 'WYNN', 'ZION']\n",
    "\n",
    "leveraged_etfs = [\"TQQQ\",\"SQQQ\",\"SPXS\",\"SPXL\",\"SOXL\",\"SOXS\"]\n",
    "high_vol = ['COIN','BILI','UPST','CVNA',\"TQQQ\",\"SQQQ\",\"SPXS\",\"SPXL\",\"SOXL\",\"SOXS\",\"NIO\",\"BABA\",\"ROKU\",\"RBLX\",\"SE\",\"SNAP\",\"LCID\",'RIVN',\"BIDU\",\"FUTU\",\"TSLA\",\"JD\",\"HOOD\",\"CHWY\"]\n",
    "expensive = [\"CMG\",\"NFLX\",\"AVGO\",\"BKNG\",\"ABNB\"]\n",
    "indexes = ['QQQ','IWM','TLT','VXX','SPY']\n"
   ]
  },
  {
   "cell_type": "code",
   "execution_count": 29,
   "metadata": {},
   "outputs": [],
   "source": [
    "def create_training_data_local(key_list, prefix, bucket_name, alert_type, start_date, end_date):\n",
    "    df_list = []\n",
    "    hours = [10,11,12,13,14,15]\n",
    "    start = start_date.split(' ')[0]\n",
    "    end = end_date.split(' ')[0]\n",
    "    for key in key_list:\n",
    "        for hour in hours:\n",
    "            try:\n",
    "                data = s3.get_object(Bucket=bucket_name, Key=f'{prefix}{key}/{alert_type}/{hour}.csv')\n",
    "                df = pd.read_csv(data.get(\"Body\")) \n",
    "                df = df.loc[df['symbol'].isin(WEEKLY_EXP)]\n",
    "                df = df.loc[~df['symbol'].isin(high_vol)]\n",
    "                df = df.iloc[:10]\n",
    "                df_list.append(df)\n",
    "                # df['hour'] = hour\n",
    "            except:\n",
    "                continue\n",
    "\n",
    "    data = pd.concat(df_list)\n",
    "    data.reset_index(drop=True, inplace=True)\n",
    "    data.replace([np.inf, -np.inf], 0, inplace=True)\n",
    "    data.to_csv(f'/Users/charlesmiller/Documents/model_tester_data/GAIN/{start}_{end}_trainTL10.csv', index=False)\n",
    "    return data\n",
    "\n",
    "def create_validation_data_local(key_list, prefix, bucket_name, alert_type, start_date, end_date):\n",
    "    df_list = []\n",
    "    hours = [10,11,12,13,14,15]\n",
    "    start = start_date.split(' ')[0]\n",
    "    end = end_date.split(' ')[0]\n",
    "    for key in key_list:\n",
    "        for hour in hours:\n",
    "            try:\n",
    "                data = s3.get_object(Bucket=bucket_name, Key=f'{prefix}{key}/{alert_type}/{hour}.csv')\n",
    "                df = pd.read_csv(data.get(\"Body\")) \n",
    "                df = df.loc[df['symbol'].isin(TRADING_SYMBOLS)]\n",
    "                df = df.loc[~df['symbol'].isin(high_vol)]\n",
    "                df = df.iloc[:6]\n",
    "                df_list.append(df)\n",
    "                # df['hour'] = hour\n",
    "            except:\n",
    "                continue\n",
    "\n",
    "    data = pd.concat(df_list)\n",
    "    data.reset_index(drop=True, inplace=True)\n",
    "    data.replace([np.inf, -np.inf], 0, inplace=True)\n",
    "    data.to_csv(f'/Users/charlesmiller/Documents/model_tester_data/GAIN/{start}_{end}_validationTR6.csv', index=False)\n",
    "    return data\n",
    "\n",
    "def pull_training_data_local(end_date,start_date):\n",
    "    data = pd.read_csv(f'/Users/charlesmiller/Documents/model_tester_data/MA/2018-01-01_2023-12-23_trainTL15.csv')\n",
    "    data['dt'] = pd.to_datetime(data['date'])\n",
    "    data = data.loc[data['dt'] <= end_date]\n",
    "    data = data.loc[~data['symbol'].isin(high_vol)]\n",
    "    data = data.loc[~data['symbol'].isin(expensive)]\n",
    "    data = data.loc[~data['symbol'].isin(leveraged_etfs)]\n",
    "    data.replace([np.inf, -np.inf], 0, inplace=True)\n",
    "\n",
    "    return data\n",
    "\n",
    "\n",
    "def pull_validation_data_local(end_date,start_date):\n",
    "    data = pd.read_csv(f'/Users/charlesmiller/Documents/model_tester_data/MA/2018-01-01_2023-12-23_validationTL15.csv')\n",
    "    data['dt'] = pd.to_datetime(data['date'])\n",
    "    data = data.loc[~data['symbol'].isin(high_vol)]\n",
    "    data = data.loc[~data['symbol'].isin(expensive)]\n",
    "    data = data.loc[~data['symbol'].isin(leveraged_etfs)]\n",
    "    data = data.loc[data['dt'] <= end_date]\n",
    "    data = data.loc[data['dt'] >= start_date]\n",
    "    data.replace([np.inf, -np.inf], 0, inplace=True)\n",
    "\n",
    "    return data"
   ]
  },
  {
   "cell_type": "code",
   "execution_count": 30,
   "metadata": {},
   "outputs": [],
   "source": [
    "def build_date_list(start_date, end_date):\n",
    "    print(start_date, end_date)\n",
    "    date_diff = end_date - start_date\n",
    "    numdays = date_diff.days \n",
    "    dateList = []\n",
    "    for x in range (0, numdays):\n",
    "        temp_date = start_date + timedelta(days = x)\n",
    "        if temp_date.weekday() > 4:\n",
    "            continue\n",
    "        else:\n",
    "            dateList.append(temp_date)\n",
    "    return dateList\n",
    "\n",
    "def build_query_keys_hist():\n",
    "    start_date = datetime(2021,1,5)\n",
    "    date_diff = datetime(2022,7,29) - start_date\n",
    "    numdays = date_diff.days \n",
    "    key_list = []\n",
    "    for x in range (0, numdays):\n",
    "        temp_date = start_date + timedelta(days = x)\n",
    "        if temp_date.weekday() > 4:\n",
    "            continue\n",
    "        else:\n",
    "            date_str = temp_date.strftime('%Y-%m-%d')\n",
    "            if date_str in market_holidays:\n",
    "                continue\n",
    "            else:\n",
    "                date_str = date_str.replace(\"-\",\"/\")\n",
    "                key_list.append(date_str)\n",
    "        \n",
    "    return key_list\n",
    "    \n",
    "def build_query_keys(dates):\n",
    "    key_list = []\n",
    "    for date in dates:\n",
    "        date_str = date.strftime('%Y-%m-%d')\n",
    "        if date_str in market_holidays:\n",
    "            continue\n",
    "        else:\n",
    "            year, month, day = date_str.split('-')\n",
    "            temp = f'{year}/{month}/{day}'\n",
    "            key_list.append(temp)\n",
    "\n",
    "    return key_list\n",
    "\n",
    "def build_query_keys_validation(end_date):\n",
    "    validation_end_date = end_date + timedelta(days=7)\n",
    "    dates = build_date_list(end_date, validation_end_date)\n",
    "    key_list = []\n",
    "    for date in dates:\n",
    "        date_str = date.strftime('%Y-%m-%d')\n",
    "        if date_str in market_holidays:\n",
    "            continue\n",
    "        else:\n",
    "            year, month, day = date_str.split('-')\n",
    "            temp = f'{year}/{month}/{day}'\n",
    "            key_list.append(temp)\n",
    "\n",
    "    return key_list\n",
    "\n",
    "def build_validation_dates_local(deployment_date):\n",
    "    end_date = deployment_date + timedelta(days=5)\n",
    "    return end_date"
   ]
  },
  {
   "cell_type": "code",
   "execution_count": 31,
   "metadata": {},
   "outputs": [],
   "source": [
    "def model_results_analyzer(predictions, y_validate, target_value):\n",
    "    result_list = []\n",
    "    counter = 0\n",
    "    predictions_series = pd.Series(predictions,name='prediction_values')\n",
    "    for x in predictions:\n",
    "        if x == 1:\n",
    "            if y_validate.iloc[counter] == 1:\n",
    "                classification_result = 0\n",
    "            else:\n",
    "                classification_result = 1\n",
    "        elif x == 0:\n",
    "            if y_validate.iloc[counter] == 0:\n",
    "                classification_result = 2\n",
    "            else: \n",
    "                classification_result = 3\n",
    "        result_list.append(classification_result)\n",
    "        counter += 1\n",
    "    three_max = pd.Series(y_validate,name='three_max')\n",
    "    df = pd.concat([pd.Series(result_list,name='classifier_performance'),predictions_series,three_max],axis=1)\n",
    "    df.reset_index(drop=True, inplace=True)\n",
    "    # df = pd.DataFrame([result_list, y_validate], columns=['classifier_performance', 'prediction_score'])\n",
    "\n",
    "    tp = df.loc[df['classifier_performance'] == 0]\n",
    "    fp = df.loc[df['classifier_performance'] == 1]\n",
    "    tn = df.loc[df['classifier_performance'] == 2]\n",
    "    fn = df.loc[df['classifier_performance'] == 3]\n",
    "\n",
    "    # tp_scr = tp[\"prediction_score\"].mean()\n",
    "    # fp_scr = fp[\"prediction_score\"].mean()\n",
    "    # tn_scr = tn[\"prediction_score\"].mean()\n",
    "    # fn_scr = fn[\"prediction_score\"].mean()\n",
    "\n",
    "    return len(tp), \"0\", len(fp), \"0\", len(tn), \"0\", len(fn), \"0\""
   ]
  },
  {
   "cell_type": "code",
   "execution_count": 32,
   "metadata": {},
   "outputs": [],
   "source": [
    "def create_dynamo_record(tp, tp_scr, fp, fp_scr, tn, tn_scr, fn, fn_scr, model_name, deployment_date, dataset_name, hyperparam_str, feature_str, target_str, fi_list):    \n",
    "    ddb = boto3.resource('dynamodb','us-east-1')\n",
    "    table = ddb.Table('icarus-models-results-table')\n",
    "    eval_start = deployment_date\n",
    "    eval_end = deployment_date + timedelta(days=4)\n",
    "    try:\n",
    "        precision = (tp/fp)\n",
    "    except:\n",
    "        precision = 0\n",
    "\n",
    "    ## FILL IN\n",
    "    item={\n",
    "        'model_name': model_name,\n",
    "        'deployment_date': deployment_date.strftime(\"%Y-%m-%d\"),\n",
    "        'algorithm_type': 'xgboost',\n",
    "        'dataset': dataset_name,\n",
    "        'TP': tp,\n",
    "        'TPpct': Decimal(\"0\"),\n",
    "        'FP': fp,\n",
    "        'FPpct': Decimal(\"0\"),\n",
    "        'TN': tn,\n",
    "        'TNpct': Decimal(\"0\"),\n",
    "        'FN': fn,\n",
    "        'FNpct': Decimal(\"0\"),\n",
    "        'precision_ratio': Decimal(str(precision)),\n",
    "        'evaluation_timeperiod': f'{eval_start.strftime(\"%Y-%m-%d\")}_{eval_end.strftime(\"%Y-%m-%d\")}',\n",
    "        'live': False,\n",
    "        'hyperparameters': {hyperparam_str},\n",
    "        'features' : {feature_str},\n",
    "        'target' : target_str,\n",
    "        'feature_importances': fi_list\n",
    "\n",
    "    }\n",
    "\n",
    "    print(item)\n",
    "    response = table.put_item(\n",
    "            Item=item\n",
    "        )\n",
    "\n",
    "    return response"
   ]
  },
  {
   "cell_type": "code",
   "execution_count": 33,
   "metadata": {},
   "outputs": [],
   "source": [
    "def train_model(features, dataset, validation_dataset, target_label, target_value, hyperparams):\n",
    "    dataset.loc[:, 'label'] = (dataset[target_label] < target_value).astype(int)\n",
    "    validation_dataset.loc[:, 'label'] = (validation_dataset[target_label] < target_value).astype(int)\n",
    "\n",
    "    # dataset = dataset.round(3)\n",
    "    # validation_dataset = validation_dataset.round(3)\n",
    "\n",
    "    X = dataset[features].astype(float)\n",
    "    y = dataset['label']\n",
    "\n",
    "    X_validate = validation_dataset[features].astype(float)\n",
    "    y_validate = validation_dataset['label']\n",
    "\n",
    "\n",
    "    xgb_model = xgb.XGBClassifier(subsample=hyperparams['subsample'],num_round=hyperparams['num_round'],min_child_weight=hyperparams['min_child_weight'],max_depth=hyperparams['max_depth'],learning_rate=hyperparams['learning_rate'],gamma=hyperparams['gamma'],colsample_bytree=hyperparams['colsample_bytree'],verbosity=0,objective='binary:logistic',random_state=42)\n",
    "    xgb_model.fit(X,y)\n",
    "\n",
    "    print(y.value_counts())\n",
    "    predictions = xgb_model.predict(X_validate)\n",
    "    probabilities = xgb_model.predict_proba(X_validate)\n",
    "    tp, tp_scr, fp, fp_scr, tn, tn_scr, fn, fn_scr = model_results_analyzer(predictions, y_validate, target_value)\n",
    "\n",
    "    fi = xgb_model.feature_importances_\n",
    "    fi_list = []\n",
    "    counter = 0\n",
    "    for x in features:\n",
    "        fi_list.append({x:fi[counter]})\n",
    "        counter += 1\n",
    "    print(tp,fp,tn,fn)\n",
    "    return tp, tp_scr, fp, fp_scr, tn, tn_scr, fn, fn_scr,str(fi_list), predictions, probabilities\n",
    "\n",
    "\n",
    "def train_model_TSSim(features, dataset, validation_dataset, target_label, target_value, hyperparams):\n",
    "    dataset.loc[:, 'label'] = (dataset[target_label] > target_value).astype(int)\n",
    "    validation_dataset.loc[:, 'label'] = (validation_dataset[target_label] > target_value).astype(int)\n",
    "\n",
    "    dataset = dataset.round(5)\n",
    "    validation_dataset = validation_dataset.round(3)\n",
    "\n",
    "\n",
    "    X = dataset[features].astype(float)\n",
    "    y = dataset['label']\n",
    "\n",
    "    X_validate = validation_dataset[features].astype(float)\n",
    "    y_validate = validation_dataset['label']\n",
    "    \n",
    "\n",
    "    xgb_model = xgb.XGBClassifier(subsample=hyperparams['subsample'],num_round=hyperparams['num_round'],min_child_weight=hyperparams['min_child_weight'],max_depth=hyperparams['max_depth'],learning_rate=hyperparams['learning_rate'],gamma=hyperparams['gamma'],colsample_bytree=hyperparams['colsample_bytree'],verbosity=0,objective='binary:logistic',random_state=42)\n",
    "    xgb_model.fit(X,y)\n",
    "\n",
    "    predictions = xgb_model.predict(X_validate)\n",
    "    tp, tp_scr, fp, fp_scr, tn, tn_scr, fn, fn_scr = model_results_analyzer(predictions, y_validate, target_value)\n",
    "\n",
    "    return tp, tp_scr, fp, fp_scr, tn, tn_scr, fn, fn_scr,\"str(fi_list)\", predictions, \"probabilities\""
   ]
  },
  {
   "cell_type": "code",
   "execution_count": 34,
   "metadata": {},
   "outputs": [],
   "source": [
    "def model_runner_v2(model_name, dataset_name, title, features, target_label, target_percentile, start_date, end_date,deployment_date, feature_str, hyperparams_str, hyperparams,local_data, dataset_start_date):\n",
    "    validation_end_date = build_validation_dates_local(deployment_date)\n",
    "    validation_dataset = pull_validation_data_local(validation_end_date,deployment_date)\n",
    "    dataset = pull_training_data_local(end_date, dataset_start_date)\n",
    "    dates_list = pull_gmm_labels(deployment_date)\n",
    "    rm_dataset = dataset.loc[dataset['dt'].isin(dates_list)]\n",
    "    target_value = rm_dataset[target_label].quantile(target_percentile).round(3)\n",
    "    print(target_value)\n",
    "    print(len(rm_dataset)/len(dataset))\n",
    "    tp, tp_scr, fp, fp_scr, tn, tn_scr, fn, fn_scr, fi_list, predictions, probabilities = train_model(features, rm_dataset, validation_dataset, target_label, target_value, hyperparams)\n",
    "    response = create_dynamo_record(tp, tp_scr, fp, fp_scr, tn, tn_scr, fn, fn_scr, model_name, deployment_date, dataset_name,hyperparams_str,feature_str, f\"{target_value}+{target_label}\", fi_list)\n",
    "    validation_dataset['probabilities'] = probabilities[:,1]\n",
    "    validation_dataset['predictions'] = predictions\n",
    "    validation_dataset['target_value'] = target_value\n",
    "    validation_csv = validation_dataset.to_csv()\n",
    "    put_response = s3.put_object(Bucket=\"icarus-research-data\", Key=f\"backtesting_data/inv_alerts/{dataset_name}/{title}/{deployment_date.strftime('%Y-%m-%d')}.csv\", Body=validation_csv)\n",
    "    return \"response\"\n",
    "\n",
    "def model_runner_temporal_simulation(features, target_label, target_value,dataset_start_date,end_date,deployment_date,hyperparams):\n",
    "    validation_end_date = build_validation_dates_local(deployment_date)\n",
    "    dataset = pull_training_data_local(end_date, dataset_start_date)\n",
    "    validation_dataset = pull_validation_data_local(validation_end_date,deployment_date)\n",
    "    dataset.dropna(subset=[\"close_diff_deviation3\"],inplace=True)\n",
    "    validation_dataset.dropna(subset=[\"close_diff_deviation3\"],inplace=True)\n",
    "    dataset.dropna(subset=[\"close_diff_deviation\"],inplace=True)\n",
    "    validation_dataset.dropna(subset=[\"close_diff_deviation\"],inplace=True)\n",
    "    tp, tp_scr, fp, fp_scr, tn, tn_scr, fn, fn_scr, fi_list, predictions, probabilities = train_model_TSSim(features, dataset, validation_dataset, target_label, target_value, hyperparams)\n",
    "    return tp, fp, fn, tn \n",
    "\n",
    "def model_runner_data(start_date,end_date):\n",
    "    dates = build_date_list(start_date, end_date)\n",
    "    key_list = build_query_keys(dates)\n",
    "    print(key_list[-1])\n",
    "    train_data = create_training_data_local(key_list, 'full_alerts/weekly_exp_alerts/', 'inv-alerts', 'gainers', start_date.strftime('%Y-%m-%d %H:%M:%S'),end_date.strftime('%Y-%m-%d %H:%M:%S'))\n",
    "    # val_data = create_validation_data_local(key_list, 'full_alerts/trading_symbols_alerts/', 'inv-alerts', 'gainers', start_date.strftime('%Y-%m-%d %H:%M:%S'),end_date.strftime('%Y-%m-%d %H:%M:%S'))\n",
    "    return \"train_data\", \"val_data\""
   ]
  },
  {
   "cell_type": "code",
   "execution_count": 35,
   "metadata": {},
   "outputs": [],
   "source": [
    "def build_evaluation_period(eval_start, eval_end):\n",
    "    dates_list = []\n",
    "    while eval_start <= eval_end:\n",
    "        date_object = {\n",
    "            \"deployment_date\": eval_start,\n",
    "            \"dataset_end\": eval_start - timedelta(days=10),\n",
    "            \"dataset_start\": datetime(2018,1,1)\n",
    "        }\n",
    "        dates_list.append(date_object)\n",
    "        eval_start += timedelta(days=7)\n",
    "    return dates_list\n",
    "\n",
    "def pull_gmm_labels(date):\n",
    "    date_str = date.strftime('%Y-%m-%d')\n",
    "    data_20d = s3.get_object(Bucket=\"icarus-research-data\", Key=f'regime_modeling_data/gmm20d_labels_RM2/{date_str}.csv')\n",
    "    data_10d = s3.get_object(Bucket=\"icarus-research-data\", Key=f'regime_modeling_data/gmm10d_labels_RM2/{date_str}.csv')\n",
    "    data_3d = s3.get_object(Bucket=\"icarus-research-data\", Key=f'regime_modeling_data/gmm3d_labels_RM2/{date_str}.csv')\n",
    "\n",
    "    data_20d = pd.read_csv(data_20d.get(\"Body\"))\n",
    "    data_10d = pd.read_csv(data_10d.get(\"Body\"))\n",
    "    data_3d = pd.read_csv(data_3d.get(\"Body\"))\n",
    "\n",
    "    data_20d['dt'] = pd.to_datetime(data_20d['date'])\n",
    "    data_10d['dt'] = pd.to_datetime(data_10d['date'])\n",
    "    data_3d['dt'] = pd.to_datetime(data_3d['date'])\n",
    "\n",
    "    label_20d = data_20d['labels'].iloc[-1]\n",
    "    label_10d = data_10d['labels'].iloc[-1]\n",
    "    label_3d = data_3d['labels'].iloc[-1]\n",
    "\n",
    "    dates_20d = data_20d['dt'].loc[data_20d['labels'] == label_20d].tolist()\n",
    "    dates_10d = data_10d['dt'].loc[data_10d['labels'] == label_10d].tolist()\n",
    "    dates_3d = data_3d['dt'].loc[data_3d['labels'] == label_3d].tolist()\n",
    "\n",
    "    combined_list = list(set(dates_20d  + dates_3d))\n",
    "    return dates_20d"
   ]
  },
  {
   "cell_type": "code",
   "execution_count": 36,
   "metadata": {},
   "outputs": [
    {
     "name": "stdout",
     "output_type": "stream",
     "text": [
      "{'deployment_date': datetime.datetime(2022, 10, 3, 0, 0), 'dataset_end': datetime.datetime(2022, 9, 23, 0, 0), 'dataset_start': datetime.datetime(2018, 1, 1, 0, 0)}\n",
      "-0.016\n",
      "0.8193041946905971\n"
     ]
    },
    {
     "name": "stderr",
     "output_type": "stream",
     "text": [
      "/var/folders/tq/_9q_lv1s2bndbr3tzzn08x4r0000gn/T/ipykernel_13065/1039188303.py:2: SettingWithCopyWarning: \n",
      "A value is trying to be set on a copy of a slice from a DataFrame.\n",
      "Try using .loc[row_indexer,col_indexer] = value instead\n",
      "\n",
      "See the caveats in the documentation: https://pandas.pydata.org/pandas-docs/stable/user_guide/indexing.html#returning-a-view-versus-a-copy\n",
      "  dataset.loc[:, 'label'] = (dataset[target_label] < target_value).astype(int)\n"
     ]
    },
    {
     "name": "stdout",
     "output_type": "stream",
     "text": [
      "label\n",
      "0    46407\n",
      "1    41057\n",
      "Name: count, dtype: int64\n",
      "245 113 17 75\n",
      "{'model_name': 'MAP_1d:RM220_TSSIM1_TL15-EXP_custHypTP0.48', 'deployment_date': '2022-10-03', 'algorithm_type': 'xgboost', 'dataset': 'MAP_1d:RM220_TSSIM1_TL15-EXP_custHypTP0.48', 'TP': 245, 'TPpct': Decimal('0'), 'FP': 113, 'FPpct': Decimal('0'), 'TN': 17, 'TNpct': Decimal('0'), 'FN': 75, 'FNpct': Decimal('0'), 'precision_ratio': Decimal('2.168141592920354'), 'evaluation_timeperiod': '2022-10-03_2022-10-07', 'live': False, 'hyperparameters': {\"{'subsample': 0.6, 'num_round': 1000, 'min_child_weight': 10, 'max_depth': 10, 'learning_rate': 0.1, 'gamma': 2, 'colsample_bytree': 1}\"}, 'features': {\"['oneD_stddev50', 'rsi', 'close_diff', 'daily_volume_vol_diff_pct30', 'range_vol_diff5', 'SPY_diff', 'threeD_stddev50', 'close_diff3', 'min_volume_vol_diff_pct', 'month', 'return_vol_240M', 'range_vol', 'rsi5', 'roc', 'SPY_3D', 'roc5', 'roc_diff', 'price_25DDiff', 'daily_volume_vol_diff_pct', 'price_10DDiff', 'SPY_1D', 'hour_volume_vol_diff', 'hour_volume_vol_diff_pct', 'return_vol_10D', 'SPY_5D']\"}, 'target': '-0.016+one_min', 'feature_importances': \"[{'oneD_stddev50': 0.038392965}, {'rsi': 0.032364205}, {'close_diff': 0.030578133}, {'daily_volume_vol_diff_pct30': 0.028842581}, {'range_vol_diff5': 0.03049236}, {'SPY_diff': 0.027704978}, {'threeD_stddev50': 0.037719782}, {'close_diff3': 0.03189205}, {'min_volume_vol_diff_pct': 0.026515199}, {'month': 0.0379022}, {'return_vol_240M': 0.20295362}, {'range_vol': 0.045826092}, {'rsi5': 0.033328984}, {'roc': 0.03229199}, {'SPY_3D': 0.035004154}, {'roc5': 0.033167947}, {'roc_diff': 0.03290111}, {'price_25DDiff': 0.032537147}, {'daily_volume_vol_diff_pct': 0.028837185}, {'price_10DDiff': 0.03312192}, {'SPY_1D': 0.03618351}, {'hour_volume_vol_diff': 0.028243084}, {'hour_volume_vol_diff_pct': 0.03006067}, {'return_vol_10D': 0.03728719}, {'SPY_5D': 0.03585097}]\"}\n",
      "{'deployment_date': datetime.datetime(2022, 10, 10, 0, 0), 'dataset_end': datetime.datetime(2022, 9, 30, 0, 0), 'dataset_start': datetime.datetime(2018, 1, 1, 0, 0)}\n",
      "-0.016\n",
      "0.8192181043087284\n"
     ]
    },
    {
     "name": "stderr",
     "output_type": "stream",
     "text": [
      "/var/folders/tq/_9q_lv1s2bndbr3tzzn08x4r0000gn/T/ipykernel_13065/1039188303.py:2: SettingWithCopyWarning: \n",
      "A value is trying to be set on a copy of a slice from a DataFrame.\n",
      "Try using .loc[row_indexer,col_indexer] = value instead\n",
      "\n",
      "See the caveats in the documentation: https://pandas.pydata.org/pandas-docs/stable/user_guide/indexing.html#returning-a-view-versus-a-copy\n",
      "  dataset.loc[:, 'label'] = (dataset[target_label] < target_value).astype(int)\n"
     ]
    },
    {
     "name": "stdout",
     "output_type": "stream",
     "text": [
      "label\n",
      "0    46515\n",
      "1    41306\n",
      "Name: count, dtype: int64\n",
      "218 143 33 56\n",
      "{'model_name': 'MAP_1d:RM220_TSSIM1_TL15-EXP_custHypTP0.48', 'deployment_date': '2022-10-10', 'algorithm_type': 'xgboost', 'dataset': 'MAP_1d:RM220_TSSIM1_TL15-EXP_custHypTP0.48', 'TP': 218, 'TPpct': Decimal('0'), 'FP': 143, 'FPpct': Decimal('0'), 'TN': 33, 'TNpct': Decimal('0'), 'FN': 56, 'FNpct': Decimal('0'), 'precision_ratio': Decimal('1.5244755244755244'), 'evaluation_timeperiod': '2022-10-10_2022-10-14', 'live': False, 'hyperparameters': {\"{'subsample': 0.6, 'num_round': 1000, 'min_child_weight': 10, 'max_depth': 10, 'learning_rate': 0.1, 'gamma': 2, 'colsample_bytree': 1}\"}, 'features': {\"['oneD_stddev50', 'rsi', 'close_diff', 'daily_volume_vol_diff_pct30', 'range_vol_diff5', 'SPY_diff', 'threeD_stddev50', 'close_diff3', 'min_volume_vol_diff_pct', 'month', 'return_vol_240M', 'range_vol', 'rsi5', 'roc', 'SPY_3D', 'roc5', 'roc_diff', 'price_25DDiff', 'daily_volume_vol_diff_pct', 'price_10DDiff', 'SPY_1D', 'hour_volume_vol_diff', 'hour_volume_vol_diff_pct', 'return_vol_10D', 'SPY_5D']\"}, 'target': '-0.016+one_min', 'feature_importances': \"[{'oneD_stddev50': 0.03873441}, {'rsi': 0.03142284}, {'close_diff': 0.030728053}, {'daily_volume_vol_diff_pct30': 0.028747303}, {'range_vol_diff5': 0.02980374}, {'SPY_diff': 0.026936462}, {'threeD_stddev50': 0.03781713}, {'close_diff3': 0.032029644}, {'min_volume_vol_diff_pct': 0.026037078}, {'month': 0.038194466}, {'return_vol_240M': 0.20440365}, {'range_vol': 0.04470862}, {'rsi5': 0.032428082}, {'roc': 0.032921262}, {'SPY_3D': 0.035855968}, {'roc5': 0.03264439}, {'roc_diff': 0.03251772}, {'price_25DDiff': 0.0334676}, {'daily_volume_vol_diff_pct': 0.028324831}, {'price_10DDiff': 0.033046324}, {'SPY_1D': 0.03691038}, {'hour_volume_vol_diff': 0.029377092}, {'hour_volume_vol_diff_pct': 0.027697787}, {'return_vol_10D': 0.0395244}, {'SPY_5D': 0.035720777}]\"}\n",
      "{'deployment_date': datetime.datetime(2022, 10, 17, 0, 0), 'dataset_end': datetime.datetime(2022, 10, 7, 0, 0), 'dataset_start': datetime.datetime(2018, 1, 1, 0, 0)}\n",
      "-0.019\n",
      "0.5014259040789217\n"
     ]
    },
    {
     "name": "stderr",
     "output_type": "stream",
     "text": [
      "/var/folders/tq/_9q_lv1s2bndbr3tzzn08x4r0000gn/T/ipykernel_13065/1039188303.py:2: SettingWithCopyWarning: \n",
      "A value is trying to be set on a copy of a slice from a DataFrame.\n",
      "Try using .loc[row_indexer,col_indexer] = value instead\n",
      "\n",
      "See the caveats in the documentation: https://pandas.pydata.org/pandas-docs/stable/user_guide/indexing.html#returning-a-view-versus-a-copy\n",
      "  dataset.loc[:, 'label'] = (dataset[target_label] < target_value).astype(int)\n"
     ]
    },
    {
     "name": "stdout",
     "output_type": "stream",
     "text": [
      "label\n",
      "0    28345\n",
      "1    25634\n",
      "Name: count, dtype: int64\n",
      "109 164 112 52\n",
      "{'model_name': 'MAP_1d:RM220_TSSIM1_TL15-EXP_custHypTP0.48', 'deployment_date': '2022-10-17', 'algorithm_type': 'xgboost', 'dataset': 'MAP_1d:RM220_TSSIM1_TL15-EXP_custHypTP0.48', 'TP': 109, 'TPpct': Decimal('0'), 'FP': 164, 'FPpct': Decimal('0'), 'TN': 112, 'TNpct': Decimal('0'), 'FN': 52, 'FNpct': Decimal('0'), 'precision_ratio': Decimal('0.6646341463414634'), 'evaluation_timeperiod': '2022-10-17_2022-10-21', 'live': False, 'hyperparameters': {\"{'subsample': 0.6, 'num_round': 1000, 'min_child_weight': 10, 'max_depth': 10, 'learning_rate': 0.1, 'gamma': 2, 'colsample_bytree': 1}\"}, 'features': {\"['oneD_stddev50', 'rsi', 'close_diff', 'daily_volume_vol_diff_pct30', 'range_vol_diff5', 'SPY_diff', 'threeD_stddev50', 'close_diff3', 'min_volume_vol_diff_pct', 'month', 'return_vol_240M', 'range_vol', 'rsi5', 'roc', 'SPY_3D', 'roc5', 'roc_diff', 'price_25DDiff', 'daily_volume_vol_diff_pct', 'price_10DDiff', 'SPY_1D', 'hour_volume_vol_diff', 'hour_volume_vol_diff_pct', 'return_vol_10D', 'SPY_5D']\"}, 'target': '-0.019+one_min', 'feature_importances': \"[{'oneD_stddev50': 0.040054344}, {'rsi': 0.033447456}, {'close_diff': 0.03177047}, {'daily_volume_vol_diff_pct30': 0.02906613}, {'range_vol_diff5': 0.030204406}, {'SPY_diff': 0.028309928}, {'threeD_stddev50': 0.038874343}, {'close_diff3': 0.035008688}, {'min_volume_vol_diff_pct': 0.027924804}, {'month': 0.044572163}, {'return_vol_240M': 0.16146064}, {'range_vol': 0.035935566}, {'rsi5': 0.03317234}, {'roc': 0.035467118}, {'SPY_3D': 0.041463938}, {'roc5': 0.036207397}, {'roc_diff': 0.033998337}, {'price_25DDiff': 0.033539083}, {'daily_volume_vol_diff_pct': 0.03080004}, {'price_10DDiff': 0.03533184}, {'SPY_1D': 0.04091902}, {'hour_volume_vol_diff': 0.029467825}, {'hour_volume_vol_diff_pct': 0.030713644}, {'return_vol_10D': 0.042214546}, {'SPY_5D': 0.040075894}]\"}\n",
      "{'deployment_date': datetime.datetime(2022, 10, 24, 0, 0), 'dataset_end': datetime.datetime(2022, 10, 14, 0, 0), 'dataset_start': datetime.datetime(2018, 1, 1, 0, 0)}\n",
      "-0.019\n",
      "0.5001711362522085\n"
     ]
    },
    {
     "name": "stderr",
     "output_type": "stream",
     "text": [
      "/var/folders/tq/_9q_lv1s2bndbr3tzzn08x4r0000gn/T/ipykernel_13065/1039188303.py:2: SettingWithCopyWarning: \n",
      "A value is trying to be set on a copy of a slice from a DataFrame.\n",
      "Try using .loc[row_indexer,col_indexer] = value instead\n",
      "\n",
      "See the caveats in the documentation: https://pandas.pydata.org/pandas-docs/stable/user_guide/indexing.html#returning-a-view-versus-a-copy\n",
      "  dataset.loc[:, 'label'] = (dataset[target_label] < target_value).astype(int)\n"
     ]
    },
    {
     "name": "stdout",
     "output_type": "stream",
     "text": [
      "label\n",
      "0    28310\n",
      "1    25759\n",
      "Name: count, dtype: int64\n",
      "154 159 72 65\n",
      "{'model_name': 'MAP_1d:RM220_TSSIM1_TL15-EXP_custHypTP0.48', 'deployment_date': '2022-10-24', 'algorithm_type': 'xgboost', 'dataset': 'MAP_1d:RM220_TSSIM1_TL15-EXP_custHypTP0.48', 'TP': 154, 'TPpct': Decimal('0'), 'FP': 159, 'FPpct': Decimal('0'), 'TN': 72, 'TNpct': Decimal('0'), 'FN': 65, 'FNpct': Decimal('0'), 'precision_ratio': Decimal('0.9685534591194969'), 'evaluation_timeperiod': '2022-10-24_2022-10-28', 'live': False, 'hyperparameters': {\"{'subsample': 0.6, 'num_round': 1000, 'min_child_weight': 10, 'max_depth': 10, 'learning_rate': 0.1, 'gamma': 2, 'colsample_bytree': 1}\"}, 'features': {\"['oneD_stddev50', 'rsi', 'close_diff', 'daily_volume_vol_diff_pct30', 'range_vol_diff5', 'SPY_diff', 'threeD_stddev50', 'close_diff3', 'min_volume_vol_diff_pct', 'month', 'return_vol_240M', 'range_vol', 'rsi5', 'roc', 'SPY_3D', 'roc5', 'roc_diff', 'price_25DDiff', 'daily_volume_vol_diff_pct', 'price_10DDiff', 'SPY_1D', 'hour_volume_vol_diff', 'hour_volume_vol_diff_pct', 'return_vol_10D', 'SPY_5D']\"}, 'target': '-0.019+one_min', 'feature_importances': \"[{'oneD_stddev50': 0.03749646}, {'rsi': 0.033564508}, {'close_diff': 0.032855675}, {'daily_volume_vol_diff_pct30': 0.029906869}, {'range_vol_diff5': 0.030982153}, {'SPY_diff': 0.029351275}, {'threeD_stddev50': 0.038840156}, {'close_diff3': 0.034150932}, {'min_volume_vol_diff_pct': 0.026982026}, {'month': 0.04391432}, {'return_vol_240M': 0.16274068}, {'range_vol': 0.036834277}, {'rsi5': 0.033949733}, {'roc': 0.03451934}, {'SPY_3D': 0.03901542}, {'roc5': 0.035896208}, {'roc_diff': 0.03655981}, {'price_25DDiff': 0.033984955}, {'daily_volume_vol_diff_pct': 0.03261407}, {'price_10DDiff': 0.03589399}, {'SPY_1D': 0.040838007}, {'hour_volume_vol_diff': 0.029956136}, {'hour_volume_vol_diff_pct': 0.030341117}, {'return_vol_10D': 0.039111525}, {'SPY_5D': 0.039700326}]\"}\n",
      "{'deployment_date': datetime.datetime(2022, 10, 31, 0, 0), 'dataset_end': datetime.datetime(2022, 10, 21, 0, 0), 'dataset_start': datetime.datetime(2018, 1, 1, 0, 0)}\n",
      "-0.016\n",
      "0.8214565387627252\n"
     ]
    },
    {
     "name": "stderr",
     "output_type": "stream",
     "text": [
      "/var/folders/tq/_9q_lv1s2bndbr3tzzn08x4r0000gn/T/ipykernel_13065/1039188303.py:2: SettingWithCopyWarning: \n",
      "A value is trying to be set on a copy of a slice from a DataFrame.\n",
      "Try using .loc[row_indexer,col_indexer] = value instead\n",
      "\n",
      "See the caveats in the documentation: https://pandas.pydata.org/pandas-docs/stable/user_guide/indexing.html#returning-a-view-versus-a-copy\n",
      "  dataset.loc[:, 'label'] = (dataset[target_label] < target_value).astype(int)\n"
     ]
    },
    {
     "name": "stdout",
     "output_type": "stream",
     "text": [
      "label\n",
      "0    47154\n",
      "1    42011\n",
      "Name: count, dtype: int64\n",
      "200 94 37 113\n",
      "{'model_name': 'MAP_1d:RM220_TSSIM1_TL15-EXP_custHypTP0.48', 'deployment_date': '2022-10-31', 'algorithm_type': 'xgboost', 'dataset': 'MAP_1d:RM220_TSSIM1_TL15-EXP_custHypTP0.48', 'TP': 200, 'TPpct': Decimal('0'), 'FP': 94, 'FPpct': Decimal('0'), 'TN': 37, 'TNpct': Decimal('0'), 'FN': 113, 'FNpct': Decimal('0'), 'precision_ratio': Decimal('2.127659574468085'), 'evaluation_timeperiod': '2022-10-31_2022-11-04', 'live': False, 'hyperparameters': {\"{'subsample': 0.6, 'num_round': 1000, 'min_child_weight': 10, 'max_depth': 10, 'learning_rate': 0.1, 'gamma': 2, 'colsample_bytree': 1}\"}, 'features': {\"['oneD_stddev50', 'rsi', 'close_diff', 'daily_volume_vol_diff_pct30', 'range_vol_diff5', 'SPY_diff', 'threeD_stddev50', 'close_diff3', 'min_volume_vol_diff_pct', 'month', 'return_vol_240M', 'range_vol', 'rsi5', 'roc', 'SPY_3D', 'roc5', 'roc_diff', 'price_25DDiff', 'daily_volume_vol_diff_pct', 'price_10DDiff', 'SPY_1D', 'hour_volume_vol_diff', 'hour_volume_vol_diff_pct', 'return_vol_10D', 'SPY_5D']\"}, 'target': '-0.016+one_min', 'feature_importances': \"[{'oneD_stddev50': 0.03869252}, {'rsi': 0.03239288}, {'close_diff': 0.030102963}, {'daily_volume_vol_diff_pct30': 0.028029962}, {'range_vol_diff5': 0.030151313}, {'SPY_diff': 0.027516803}, {'threeD_stddev50': 0.038776994}, {'close_diff3': 0.032720793}, {'min_volume_vol_diff_pct': 0.026510727}, {'month': 0.038036913}, {'return_vol_240M': 0.20938823}, {'range_vol': 0.04075224}, {'rsi5': 0.03205206}, {'roc': 0.03189959}, {'SPY_3D': 0.036190122}, {'roc5': 0.031921502}, {'roc_diff': 0.032868713}, {'price_25DDiff': 0.033136867}, {'daily_volume_vol_diff_pct': 0.028847747}, {'price_10DDiff': 0.032024663}, {'SPY_1D': 0.035940103}, {'hour_volume_vol_diff': 0.027697999}, {'hour_volume_vol_diff_pct': 0.027972534}, {'return_vol_10D': 0.03966471}, {'SPY_5D': 0.03671114}]\"}\n",
      "{'deployment_date': datetime.datetime(2022, 11, 7, 0, 0), 'dataset_end': datetime.datetime(2022, 10, 28, 0, 0), 'dataset_start': datetime.datetime(2018, 1, 1, 0, 0)}\n",
      "-0.019\n",
      "0.5067480159640351\n"
     ]
    },
    {
     "name": "stderr",
     "output_type": "stream",
     "text": [
      "/var/folders/tq/_9q_lv1s2bndbr3tzzn08x4r0000gn/T/ipykernel_13065/1039188303.py:2: SettingWithCopyWarning: \n",
      "A value is trying to be set on a copy of a slice from a DataFrame.\n",
      "Try using .loc[row_indexer,col_indexer] = value instead\n",
      "\n",
      "See the caveats in the documentation: https://pandas.pydata.org/pandas-docs/stable/user_guide/indexing.html#returning-a-view-versus-a-copy\n",
      "  dataset.loc[:, 'label'] = (dataset[target_label] < target_value).astype(int)\n"
     ]
    },
    {
     "name": "stdout",
     "output_type": "stream",
     "text": [
      "label\n",
      "0    28990\n",
      "1    26243\n",
      "Name: count, dtype: int64\n",
      "115 203 62 70\n",
      "{'model_name': 'MAP_1d:RM220_TSSIM1_TL15-EXP_custHypTP0.48', 'deployment_date': '2022-11-07', 'algorithm_type': 'xgboost', 'dataset': 'MAP_1d:RM220_TSSIM1_TL15-EXP_custHypTP0.48', 'TP': 115, 'TPpct': Decimal('0'), 'FP': 203, 'FPpct': Decimal('0'), 'TN': 62, 'TNpct': Decimal('0'), 'FN': 70, 'FNpct': Decimal('0'), 'precision_ratio': Decimal('0.5665024630541872'), 'evaluation_timeperiod': '2022-11-07_2022-11-11', 'live': False, 'hyperparameters': {\"{'subsample': 0.6, 'num_round': 1000, 'min_child_weight': 10, 'max_depth': 10, 'learning_rate': 0.1, 'gamma': 2, 'colsample_bytree': 1}\"}, 'features': {\"['oneD_stddev50', 'rsi', 'close_diff', 'daily_volume_vol_diff_pct30', 'range_vol_diff5', 'SPY_diff', 'threeD_stddev50', 'close_diff3', 'min_volume_vol_diff_pct', 'month', 'return_vol_240M', 'range_vol', 'rsi5', 'roc', 'SPY_3D', 'roc5', 'roc_diff', 'price_25DDiff', 'daily_volume_vol_diff_pct', 'price_10DDiff', 'SPY_1D', 'hour_volume_vol_diff', 'hour_volume_vol_diff_pct', 'return_vol_10D', 'SPY_5D']\"}, 'target': '-0.019+one_min', 'feature_importances': \"[{'oneD_stddev50': 0.044191904}, {'rsi': 0.033056505}, {'close_diff': 0.032754038}, {'daily_volume_vol_diff_pct30': 0.03014215}, {'range_vol_diff5': 0.03196969}, {'SPY_diff': 0.030156322}, {'threeD_stddev50': 0.036618076}, {'close_diff3': 0.035119038}, {'min_volume_vol_diff_pct': 0.027877193}, {'month': 0.043948077}, {'return_vol_240M': 0.15428568}, {'range_vol': 0.033631027}, {'rsi5': 0.03219971}, {'roc': 0.03482209}, {'SPY_3D': 0.04216587}, {'roc5': 0.03631121}, {'roc_diff': 0.037014484}, {'price_25DDiff': 0.0347388}, {'daily_volume_vol_diff_pct': 0.03137495}, {'price_10DDiff': 0.036287203}, {'SPY_1D': 0.041623432}, {'hour_volume_vol_diff': 0.029262511}, {'hour_volume_vol_diff_pct': 0.028925436}, {'return_vol_10D': 0.04064989}, {'SPY_5D': 0.040874697}]\"}\n",
      "{'deployment_date': datetime.datetime(2022, 11, 14, 0, 0), 'dataset_end': datetime.datetime(2022, 11, 4, 0, 0), 'dataset_start': datetime.datetime(2018, 1, 1, 0, 0)}\n",
      "-0.013\n",
      "0.43464395690750096\n"
     ]
    },
    {
     "name": "stderr",
     "output_type": "stream",
     "text": [
      "/var/folders/tq/_9q_lv1s2bndbr3tzzn08x4r0000gn/T/ipykernel_13065/1039188303.py:2: SettingWithCopyWarning: \n",
      "A value is trying to be set on a copy of a slice from a DataFrame.\n",
      "Try using .loc[row_indexer,col_indexer] = value instead\n",
      "\n",
      "See the caveats in the documentation: https://pandas.pydata.org/pandas-docs/stable/user_guide/indexing.html#returning-a-view-versus-a-copy\n",
      "  dataset.loc[:, 'label'] = (dataset[target_label] < target_value).astype(int)\n"
     ]
    },
    {
     "name": "stdout",
     "output_type": "stream",
     "text": [
      "label\n",
      "0    24305\n",
      "1    23262\n",
      "Name: count, dtype: int64\n",
      "247 72 51 80\n",
      "{'model_name': 'MAP_1d:RM220_TSSIM1_TL15-EXP_custHypTP0.48', 'deployment_date': '2022-11-14', 'algorithm_type': 'xgboost', 'dataset': 'MAP_1d:RM220_TSSIM1_TL15-EXP_custHypTP0.48', 'TP': 247, 'TPpct': Decimal('0'), 'FP': 72, 'FPpct': Decimal('0'), 'TN': 51, 'TNpct': Decimal('0'), 'FN': 80, 'FNpct': Decimal('0'), 'precision_ratio': Decimal('3.4305555555555554'), 'evaluation_timeperiod': '2022-11-14_2022-11-18', 'live': False, 'hyperparameters': {\"{'subsample': 0.6, 'num_round': 1000, 'min_child_weight': 10, 'max_depth': 10, 'learning_rate': 0.1, 'gamma': 2, 'colsample_bytree': 1}\"}, 'features': {\"['oneD_stddev50', 'rsi', 'close_diff', 'daily_volume_vol_diff_pct30', 'range_vol_diff5', 'SPY_diff', 'threeD_stddev50', 'close_diff3', 'min_volume_vol_diff_pct', 'month', 'return_vol_240M', 'range_vol', 'rsi5', 'roc', 'SPY_3D', 'roc5', 'roc_diff', 'price_25DDiff', 'daily_volume_vol_diff_pct', 'price_10DDiff', 'SPY_1D', 'hour_volume_vol_diff', 'hour_volume_vol_diff_pct', 'return_vol_10D', 'SPY_5D']\"}, 'target': '-0.013+one_min', 'feature_importances': \"[{'oneD_stddev50': 0.061199203}, {'rsi': 0.03318653}, {'close_diff': 0.030123264}, {'daily_volume_vol_diff_pct30': 0.030642983}, {'range_vol_diff5': 0.032292016}, {'SPY_diff': 0.029220823}, {'threeD_stddev50': 0.04035068}, {'close_diff3': 0.03304901}, {'min_volume_vol_diff_pct': 0.025707511}, {'month': 0.037857797}, {'return_vol_240M': 0.14010465}, {'range_vol': 0.067984104}, {'rsi5': 0.03275051}, {'roc': 0.033919778}, {'SPY_3D': 0.035875496}, {'roc5': 0.033329975}, {'roc_diff': 0.033717033}, {'price_25DDiff': 0.038280632}, {'daily_volume_vol_diff_pct': 0.029397767}, {'price_10DDiff': 0.036014188}, {'SPY_1D': 0.035450272}, {'hour_volume_vol_diff': 0.030603295}, {'hour_volume_vol_diff_pct': 0.02856771}, {'return_vol_10D': 0.03672195}, {'SPY_5D': 0.033652868}]\"}\n",
      "{'deployment_date': datetime.datetime(2022, 11, 21, 0, 0), 'dataset_end': datetime.datetime(2022, 11, 11, 0, 0), 'dataset_start': datetime.datetime(2018, 1, 1, 0, 0)}\n",
      "-0.019\n",
      "0.5752259097816887\n"
     ]
    },
    {
     "name": "stderr",
     "output_type": "stream",
     "text": [
      "/var/folders/tq/_9q_lv1s2bndbr3tzzn08x4r0000gn/T/ipykernel_13065/1039188303.py:2: SettingWithCopyWarning: \n",
      "A value is trying to be set on a copy of a slice from a DataFrame.\n",
      "Try using .loc[row_indexer,col_indexer] = value instead\n",
      "\n",
      "See the caveats in the documentation: https://pandas.pydata.org/pandas-docs/stable/user_guide/indexing.html#returning-a-view-versus-a-copy\n",
      "  dataset.loc[:, 'label'] = (dataset[target_label] < target_value).astype(int)\n"
     ]
    },
    {
     "name": "stdout",
     "output_type": "stream",
     "text": [
      "label\n",
      "0    32872\n",
      "1    30339\n",
      "Name: count, dtype: int64\n",
      "54 98 155 53\n",
      "{'model_name': 'MAP_1d:RM220_TSSIM1_TL15-EXP_custHypTP0.48', 'deployment_date': '2022-11-21', 'algorithm_type': 'xgboost', 'dataset': 'MAP_1d:RM220_TSSIM1_TL15-EXP_custHypTP0.48', 'TP': 54, 'TPpct': Decimal('0'), 'FP': 98, 'FPpct': Decimal('0'), 'TN': 155, 'TNpct': Decimal('0'), 'FN': 53, 'FNpct': Decimal('0'), 'precision_ratio': Decimal('0.5510204081632653'), 'evaluation_timeperiod': '2022-11-21_2022-11-25', 'live': False, 'hyperparameters': {\"{'subsample': 0.6, 'num_round': 1000, 'min_child_weight': 10, 'max_depth': 10, 'learning_rate': 0.1, 'gamma': 2, 'colsample_bytree': 1}\"}, 'features': {\"['oneD_stddev50', 'rsi', 'close_diff', 'daily_volume_vol_diff_pct30', 'range_vol_diff5', 'SPY_diff', 'threeD_stddev50', 'close_diff3', 'min_volume_vol_diff_pct', 'month', 'return_vol_240M', 'range_vol', 'rsi5', 'roc', 'SPY_3D', 'roc5', 'roc_diff', 'price_25DDiff', 'daily_volume_vol_diff_pct', 'price_10DDiff', 'SPY_1D', 'hour_volume_vol_diff', 'hour_volume_vol_diff_pct', 'return_vol_10D', 'SPY_5D']\"}, 'target': '-0.019+one_min', 'feature_importances': \"[{'oneD_stddev50': 0.038569257}, {'rsi': 0.033891138}, {'close_diff': 0.033002593}, {'daily_volume_vol_diff_pct30': 0.03022685}, {'range_vol_diff5': 0.03116527}, {'SPY_diff': 0.030332888}, {'threeD_stddev50': 0.037197076}, {'close_diff3': 0.033550028}, {'min_volume_vol_diff_pct': 0.026715748}, {'month': 0.04224727}, {'return_vol_240M': 0.16694702}, {'range_vol': 0.03402469}, {'rsi5': 0.031526968}, {'roc': 0.03447559}, {'SPY_3D': 0.04025621}, {'roc5': 0.035157632}, {'roc_diff': 0.036062364}, {'price_25DDiff': 0.03362204}, {'daily_volume_vol_diff_pct': 0.030606437}, {'price_10DDiff': 0.03529504}, {'SPY_1D': 0.040770594}, {'hour_volume_vol_diff': 0.030767303}, {'hour_volume_vol_diff_pct': 0.030132368}, {'return_vol_10D': 0.044048607}, {'SPY_5D': 0.039409023}]\"}\n",
      "{'deployment_date': datetime.datetime(2022, 11, 28, 0, 0), 'dataset_end': datetime.datetime(2022, 11, 18, 0, 0), 'dataset_start': datetime.datetime(2018, 1, 1, 0, 0)}\n",
      "-0.016\n",
      "0.8227825157016105\n"
     ]
    },
    {
     "name": "stderr",
     "output_type": "stream",
     "text": [
      "/var/folders/tq/_9q_lv1s2bndbr3tzzn08x4r0000gn/T/ipykernel_13065/1039188303.py:2: SettingWithCopyWarning: \n",
      "A value is trying to be set on a copy of a slice from a DataFrame.\n",
      "Try using .loc[row_indexer,col_indexer] = value instead\n",
      "\n",
      "See the caveats in the documentation: https://pandas.pydata.org/pandas-docs/stable/user_guide/indexing.html#returning-a-view-versus-a-copy\n",
      "  dataset.loc[:, 'label'] = (dataset[target_label] < target_value).astype(int)\n"
     ]
    },
    {
     "name": "stdout",
     "output_type": "stream",
     "text": [
      "label\n",
      "0    47838\n",
      "1    42947\n",
      "Name: count, dtype: int64\n",
      "130 86 103 131\n",
      "{'model_name': 'MAP_1d:RM220_TSSIM1_TL15-EXP_custHypTP0.48', 'deployment_date': '2022-11-28', 'algorithm_type': 'xgboost', 'dataset': 'MAP_1d:RM220_TSSIM1_TL15-EXP_custHypTP0.48', 'TP': 130, 'TPpct': Decimal('0'), 'FP': 86, 'FPpct': Decimal('0'), 'TN': 103, 'TNpct': Decimal('0'), 'FN': 131, 'FNpct': Decimal('0'), 'precision_ratio': Decimal('1.5116279069767442'), 'evaluation_timeperiod': '2022-11-28_2022-12-02', 'live': False, 'hyperparameters': {\"{'subsample': 0.6, 'num_round': 1000, 'min_child_weight': 10, 'max_depth': 10, 'learning_rate': 0.1, 'gamma': 2, 'colsample_bytree': 1}\"}, 'features': {\"['oneD_stddev50', 'rsi', 'close_diff', 'daily_volume_vol_diff_pct30', 'range_vol_diff5', 'SPY_diff', 'threeD_stddev50', 'close_diff3', 'min_volume_vol_diff_pct', 'month', 'return_vol_240M', 'range_vol', 'rsi5', 'roc', 'SPY_3D', 'roc5', 'roc_diff', 'price_25DDiff', 'daily_volume_vol_diff_pct', 'price_10DDiff', 'SPY_1D', 'hour_volume_vol_diff', 'hour_volume_vol_diff_pct', 'return_vol_10D', 'SPY_5D']\"}, 'target': '-0.016+one_min', 'feature_importances': \"[{'oneD_stddev50': 0.039766625}, {'rsi': 0.031184848}, {'close_diff': 0.029891195}, {'daily_volume_vol_diff_pct30': 0.027881196}, {'range_vol_diff5': 0.030207952}, {'SPY_diff': 0.02685282}, {'threeD_stddev50': 0.036887925}, {'close_diff3': 0.032288373}, {'min_volume_vol_diff_pct': 0.02587784}, {'month': 0.036698174}, {'return_vol_240M': 0.21290182}, {'range_vol': 0.04157852}, {'rsi5': 0.031845145}, {'roc': 0.032378078}, {'SPY_3D': 0.036264602}, {'roc5': 0.03332858}, {'roc_diff': 0.032803398}, {'price_25DDiff': 0.03291849}, {'daily_volume_vol_diff_pct': 0.029046698}, {'price_10DDiff': 0.032605857}, {'SPY_1D': 0.036543865}, {'hour_volume_vol_diff': 0.02901411}, {'hour_volume_vol_diff_pct': 0.027894823}, {'return_vol_10D': 0.037060805}, {'SPY_5D': 0.036278304}]\"}\n",
      "{'deployment_date': datetime.datetime(2022, 12, 5, 0, 0), 'dataset_end': datetime.datetime(2022, 11, 25, 0, 0), 'dataset_start': datetime.datetime(2018, 1, 1, 0, 0)}\n",
      "-0.014\n",
      "0.4536445677016053\n"
     ]
    },
    {
     "name": "stderr",
     "output_type": "stream",
     "text": [
      "/var/folders/tq/_9q_lv1s2bndbr3tzzn08x4r0000gn/T/ipykernel_13065/1039188303.py:2: SettingWithCopyWarning: \n",
      "A value is trying to be set on a copy of a slice from a DataFrame.\n",
      "Try using .loc[row_indexer,col_indexer] = value instead\n",
      "\n",
      "See the caveats in the documentation: https://pandas.pydata.org/pandas-docs/stable/user_guide/indexing.html#returning-a-view-versus-a-copy\n",
      "  dataset.loc[:, 'label'] = (dataset[target_label] < target_value).astype(int)\n"
     ]
    },
    {
     "name": "stdout",
     "output_type": "stream",
     "text": [
      "label\n",
      "0    26538\n",
      "1    23680\n",
      "Name: count, dtype: int64\n",
      "142 65 87 151\n",
      "{'model_name': 'MAP_1d:RM220_TSSIM1_TL15-EXP_custHypTP0.48', 'deployment_date': '2022-12-05', 'algorithm_type': 'xgboost', 'dataset': 'MAP_1d:RM220_TSSIM1_TL15-EXP_custHypTP0.48', 'TP': 142, 'TPpct': Decimal('0'), 'FP': 65, 'FPpct': Decimal('0'), 'TN': 87, 'TNpct': Decimal('0'), 'FN': 151, 'FNpct': Decimal('0'), 'precision_ratio': Decimal('2.1846153846153844'), 'evaluation_timeperiod': '2022-12-05_2022-12-09', 'live': False, 'hyperparameters': {\"{'subsample': 0.6, 'num_round': 1000, 'min_child_weight': 10, 'max_depth': 10, 'learning_rate': 0.1, 'gamma': 2, 'colsample_bytree': 1}\"}, 'features': {\"['oneD_stddev50', 'rsi', 'close_diff', 'daily_volume_vol_diff_pct30', 'range_vol_diff5', 'SPY_diff', 'threeD_stddev50', 'close_diff3', 'min_volume_vol_diff_pct', 'month', 'return_vol_240M', 'range_vol', 'rsi5', 'roc', 'SPY_3D', 'roc5', 'roc_diff', 'price_25DDiff', 'daily_volume_vol_diff_pct', 'price_10DDiff', 'SPY_1D', 'hour_volume_vol_diff', 'hour_volume_vol_diff_pct', 'return_vol_10D', 'SPY_5D']\"}, 'target': '-0.014+one_min', 'feature_importances': \"[{'oneD_stddev50': 0.076182574}, {'rsi': 0.033474587}, {'close_diff': 0.030289778}, {'daily_volume_vol_diff_pct30': 0.03003975}, {'range_vol_diff5': 0.032639347}, {'SPY_diff': 0.028483305}, {'threeD_stddev50': 0.04596762}, {'close_diff3': 0.03351338}, {'min_volume_vol_diff_pct': 0.025094029}, {'month': 0.037401542}, {'return_vol_240M': 0.11788328}, {'range_vol': 0.074452534}, {'rsi5': 0.032457206}, {'roc': 0.03387065}, {'SPY_3D': 0.035648413}, {'roc5': 0.03275122}, {'roc_diff': 0.034186002}, {'price_25DDiff': 0.03517674}, {'daily_volume_vol_diff_pct': 0.029058583}, {'price_10DDiff': 0.035337504}, {'SPY_1D': 0.035510626}, {'hour_volume_vol_diff': 0.030894332}, {'hour_volume_vol_diff_pct': 0.030157598}, {'return_vol_10D': 0.035251524}, {'SPY_5D': 0.034277827}]\"}\n",
      "{'deployment_date': datetime.datetime(2022, 12, 12, 0, 0), 'dataset_end': datetime.datetime(2022, 12, 2, 0, 0), 'dataset_start': datetime.datetime(2018, 1, 1, 0, 0)}\n",
      "-0.019\n",
      "0.4891631953503855\n"
     ]
    },
    {
     "name": "stderr",
     "output_type": "stream",
     "text": [
      "/var/folders/tq/_9q_lv1s2bndbr3tzzn08x4r0000gn/T/ipykernel_13065/1039188303.py:2: SettingWithCopyWarning: \n",
      "A value is trying to be set on a copy of a slice from a DataFrame.\n",
      "Try using .loc[row_indexer,col_indexer] = value instead\n",
      "\n",
      "See the caveats in the documentation: https://pandas.pydata.org/pandas-docs/stable/user_guide/indexing.html#returning-a-view-versus-a-copy\n",
      "  dataset.loc[:, 'label'] = (dataset[target_label] < target_value).astype(int)\n"
     ]
    },
    {
     "name": "stdout",
     "output_type": "stream",
     "text": [
      "label\n",
      "0    28564\n",
      "1    25806\n",
      "Name: count, dtype: int64\n",
      "249 52 67 80\n",
      "{'model_name': 'MAP_1d:RM220_TSSIM1_TL15-EXP_custHypTP0.48', 'deployment_date': '2022-12-12', 'algorithm_type': 'xgboost', 'dataset': 'MAP_1d:RM220_TSSIM1_TL15-EXP_custHypTP0.48', 'TP': 249, 'TPpct': Decimal('0'), 'FP': 52, 'FPpct': Decimal('0'), 'TN': 67, 'TNpct': Decimal('0'), 'FN': 80, 'FNpct': Decimal('0'), 'precision_ratio': Decimal('4.788461538461538'), 'evaluation_timeperiod': '2022-12-12_2022-12-16', 'live': False, 'hyperparameters': {\"{'subsample': 0.6, 'num_round': 1000, 'min_child_weight': 10, 'max_depth': 10, 'learning_rate': 0.1, 'gamma': 2, 'colsample_bytree': 1}\"}, 'features': {\"['oneD_stddev50', 'rsi', 'close_diff', 'daily_volume_vol_diff_pct30', 'range_vol_diff5', 'SPY_diff', 'threeD_stddev50', 'close_diff3', 'min_volume_vol_diff_pct', 'month', 'return_vol_240M', 'range_vol', 'rsi5', 'roc', 'SPY_3D', 'roc5', 'roc_diff', 'price_25DDiff', 'daily_volume_vol_diff_pct', 'price_10DDiff', 'SPY_1D', 'hour_volume_vol_diff', 'hour_volume_vol_diff_pct', 'return_vol_10D', 'SPY_5D']\"}, 'target': '-0.019+one_min', 'feature_importances': \"[{'oneD_stddev50': 0.04206929}, {'rsi': 0.034354787}, {'close_diff': 0.031592265}, {'daily_volume_vol_diff_pct30': 0.031241683}, {'range_vol_diff5': 0.032357953}, {'SPY_diff': 0.028864032}, {'threeD_stddev50': 0.037301872}, {'close_diff3': 0.03484345}, {'min_volume_vol_diff_pct': 0.027325165}, {'month': 0.044139136}, {'return_vol_240M': 0.1551689}, {'range_vol': 0.034606356}, {'rsi5': 0.033301923}, {'roc': 0.034803648}, {'SPY_3D': 0.041405037}, {'roc5': 0.036818855}, {'roc_diff': 0.03546671}, {'price_25DDiff': 0.033237774}, {'daily_volume_vol_diff_pct': 0.03105355}, {'price_10DDiff': 0.036902517}, {'SPY_1D': 0.04051283}, {'hour_volume_vol_diff': 0.030107677}, {'hour_volume_vol_diff_pct': 0.030899808}, {'return_vol_10D': 0.040629268}, {'SPY_5D': 0.040995583}]\"}\n",
      "{'deployment_date': datetime.datetime(2022, 12, 19, 0, 0), 'dataset_end': datetime.datetime(2022, 12, 9, 0, 0), 'dataset_start': datetime.datetime(2018, 1, 1, 0, 0)}\n",
      "-0.019\n",
      "0.4895872537950069\n"
     ]
    },
    {
     "name": "stderr",
     "output_type": "stream",
     "text": [
      "/var/folders/tq/_9q_lv1s2bndbr3tzzn08x4r0000gn/T/ipykernel_13065/1039188303.py:2: SettingWithCopyWarning: \n",
      "A value is trying to be set on a copy of a slice from a DataFrame.\n",
      "Try using .loc[row_indexer,col_indexer] = value instead\n",
      "\n",
      "See the caveats in the documentation: https://pandas.pydata.org/pandas-docs/stable/user_guide/indexing.html#returning-a-view-versus-a-copy\n",
      "  dataset.loc[:, 'label'] = (dataset[target_label] < target_value).astype(int)\n"
     ]
    },
    {
     "name": "stdout",
     "output_type": "stream",
     "text": [
      "label\n",
      "0    28718\n",
      "1    25917\n",
      "Name: count, dtype: int64\n",
      "140 121 115 74\n",
      "{'model_name': 'MAP_1d:RM220_TSSIM1_TL15-EXP_custHypTP0.48', 'deployment_date': '2022-12-19', 'algorithm_type': 'xgboost', 'dataset': 'MAP_1d:RM220_TSSIM1_TL15-EXP_custHypTP0.48', 'TP': 140, 'TPpct': Decimal('0'), 'FP': 121, 'FPpct': Decimal('0'), 'TN': 115, 'TNpct': Decimal('0'), 'FN': 74, 'FNpct': Decimal('0'), 'precision_ratio': Decimal('1.1570247933884297'), 'evaluation_timeperiod': '2022-12-19_2022-12-23', 'live': False, 'hyperparameters': {\"{'subsample': 0.6, 'num_round': 1000, 'min_child_weight': 10, 'max_depth': 10, 'learning_rate': 0.1, 'gamma': 2, 'colsample_bytree': 1}\"}, 'features': {\"['oneD_stddev50', 'rsi', 'close_diff', 'daily_volume_vol_diff_pct30', 'range_vol_diff5', 'SPY_diff', 'threeD_stddev50', 'close_diff3', 'min_volume_vol_diff_pct', 'month', 'return_vol_240M', 'range_vol', 'rsi5', 'roc', 'SPY_3D', 'roc5', 'roc_diff', 'price_25DDiff', 'daily_volume_vol_diff_pct', 'price_10DDiff', 'SPY_1D', 'hour_volume_vol_diff', 'hour_volume_vol_diff_pct', 'return_vol_10D', 'SPY_5D']\"}, 'target': '-0.019+one_min', 'feature_importances': \"[{'oneD_stddev50': 0.042514183}, {'rsi': 0.03329415}, {'close_diff': 0.03148263}, {'daily_volume_vol_diff_pct30': 0.03089006}, {'range_vol_diff5': 0.031624023}, {'SPY_diff': 0.028599951}, {'threeD_stddev50': 0.03669499}, {'close_diff3': 0.035088804}, {'min_volume_vol_diff_pct': 0.02765936}, {'month': 0.04391027}, {'return_vol_240M': 0.15708865}, {'range_vol': 0.03423728}, {'rsi5': 0.0332679}, {'roc': 0.035366606}, {'SPY_3D': 0.041914962}, {'roc5': 0.037821542}, {'roc_diff': 0.035863683}, {'price_25DDiff': 0.03336846}, {'daily_volume_vol_diff_pct': 0.029885363}, {'price_10DDiff': 0.035097323}, {'SPY_1D': 0.03991558}, {'hour_volume_vol_diff': 0.02974547}, {'hour_volume_vol_diff_pct': 0.030997394}, {'return_vol_10D': 0.041770734}, {'SPY_5D': 0.041900583}]\"}\n",
      "{'deployment_date': datetime.datetime(2022, 12, 26, 0, 0), 'dataset_end': datetime.datetime(2022, 12, 16, 0, 0), 'dataset_start': datetime.datetime(2018, 1, 1, 0, 0)}\n",
      "-0.017\n",
      "0.29473505707630104\n"
     ]
    },
    {
     "name": "stderr",
     "output_type": "stream",
     "text": [
      "/var/folders/tq/_9q_lv1s2bndbr3tzzn08x4r0000gn/T/ipykernel_13065/1039188303.py:2: SettingWithCopyWarning: \n",
      "A value is trying to be set on a copy of a slice from a DataFrame.\n",
      "Try using .loc[row_indexer,col_indexer] = value instead\n",
      "\n",
      "See the caveats in the documentation: https://pandas.pydata.org/pandas-docs/stable/user_guide/indexing.html#returning-a-view-versus-a-copy\n",
      "  dataset.loc[:, 'label'] = (dataset[target_label] < target_value).astype(int)\n"
     ]
    },
    {
     "name": "stdout",
     "output_type": "stream",
     "text": [
      "label\n",
      "0    17149\n",
      "1    15874\n",
      "Name: count, dtype: int64\n",
      "99 162 85 14\n",
      "{'model_name': 'MAP_1d:RM220_TSSIM1_TL15-EXP_custHypTP0.48', 'deployment_date': '2022-12-26', 'algorithm_type': 'xgboost', 'dataset': 'MAP_1d:RM220_TSSIM1_TL15-EXP_custHypTP0.48', 'TP': 99, 'TPpct': Decimal('0'), 'FP': 162, 'FPpct': Decimal('0'), 'TN': 85, 'TNpct': Decimal('0'), 'FN': 14, 'FNpct': Decimal('0'), 'precision_ratio': Decimal('0.6111111111111112'), 'evaluation_timeperiod': '2022-12-26_2022-12-30', 'live': False, 'hyperparameters': {\"{'subsample': 0.6, 'num_round': 1000, 'min_child_weight': 10, 'max_depth': 10, 'learning_rate': 0.1, 'gamma': 2, 'colsample_bytree': 1}\"}, 'features': {\"['oneD_stddev50', 'rsi', 'close_diff', 'daily_volume_vol_diff_pct30', 'range_vol_diff5', 'SPY_diff', 'threeD_stddev50', 'close_diff3', 'min_volume_vol_diff_pct', 'month', 'return_vol_240M', 'range_vol', 'rsi5', 'roc', 'SPY_3D', 'roc5', 'roc_diff', 'price_25DDiff', 'daily_volume_vol_diff_pct', 'price_10DDiff', 'SPY_1D', 'hour_volume_vol_diff', 'hour_volume_vol_diff_pct', 'return_vol_10D', 'SPY_5D']\"}, 'target': '-0.017+one_min', 'feature_importances': \"[{'oneD_stddev50': 0.039591435}, {'rsi': 0.033973057}, {'close_diff': 0.032619953}, {'daily_volume_vol_diff_pct30': 0.033207685}, {'range_vol_diff5': 0.03217384}, {'SPY_diff': 0.029470112}, {'threeD_stddev50': 0.036020856}, {'close_diff3': 0.036230028}, {'min_volume_vol_diff_pct': 0.027835257}, {'month': 0.044053737}, {'return_vol_240M': 0.15182604}, {'range_vol': 0.045519814}, {'rsi5': 0.035130773}, {'roc': 0.032599792}, {'SPY_3D': 0.039663747}, {'roc5': 0.035224833}, {'roc_diff': 0.036231495}, {'price_25DDiff': 0.033102248}, {'daily_volume_vol_diff_pct': 0.03144725}, {'price_10DDiff': 0.035673715}, {'SPY_1D': 0.0406908}, {'hour_volume_vol_diff': 0.03146251}, {'hour_volume_vol_diff_pct': 0.029805744}, {'return_vol_10D': 0.03491648}, {'SPY_5D': 0.04152872}]\"}\n",
      "{'deployment_date': datetime.datetime(2023, 1, 2, 0, 0), 'dataset_end': datetime.datetime(2022, 12, 23, 0, 0), 'dataset_start': datetime.datetime(2018, 1, 1, 0, 0)}\n",
      "-0.016\n",
      "0.6593210244192972\n"
     ]
    },
    {
     "name": "stderr",
     "output_type": "stream",
     "text": [
      "/var/folders/tq/_9q_lv1s2bndbr3tzzn08x4r0000gn/T/ipykernel_13065/1039188303.py:2: SettingWithCopyWarning: \n",
      "A value is trying to be set on a copy of a slice from a DataFrame.\n",
      "Try using .loc[row_indexer,col_indexer] = value instead\n",
      "\n",
      "See the caveats in the documentation: https://pandas.pydata.org/pandas-docs/stable/user_guide/indexing.html#returning-a-view-versus-a-copy\n",
      "  dataset.loc[:, 'label'] = (dataset[target_label] < target_value).astype(int)\n"
     ]
    },
    {
     "name": "stdout",
     "output_type": "stream",
     "text": [
      "label\n",
      "0    39005\n",
      "1    35164\n",
      "Name: count, dtype: int64\n",
      "54 91 132 83\n",
      "{'model_name': 'MAP_1d:RM220_TSSIM1_TL15-EXP_custHypTP0.48', 'deployment_date': '2023-01-02', 'algorithm_type': 'xgboost', 'dataset': 'MAP_1d:RM220_TSSIM1_TL15-EXP_custHypTP0.48', 'TP': 54, 'TPpct': Decimal('0'), 'FP': 91, 'FPpct': Decimal('0'), 'TN': 132, 'TNpct': Decimal('0'), 'FN': 83, 'FNpct': Decimal('0'), 'precision_ratio': Decimal('0.5934065934065934'), 'evaluation_timeperiod': '2023-01-02_2023-01-06', 'live': False, 'hyperparameters': {\"{'subsample': 0.6, 'num_round': 1000, 'min_child_weight': 10, 'max_depth': 10, 'learning_rate': 0.1, 'gamma': 2, 'colsample_bytree': 1}\"}, 'features': {\"['oneD_stddev50', 'rsi', 'close_diff', 'daily_volume_vol_diff_pct30', 'range_vol_diff5', 'SPY_diff', 'threeD_stddev50', 'close_diff3', 'min_volume_vol_diff_pct', 'month', 'return_vol_240M', 'range_vol', 'rsi5', 'roc', 'SPY_3D', 'roc5', 'roc_diff', 'price_25DDiff', 'daily_volume_vol_diff_pct', 'price_10DDiff', 'SPY_1D', 'hour_volume_vol_diff', 'hour_volume_vol_diff_pct', 'return_vol_10D', 'SPY_5D']\"}, 'target': '-0.016+one_min', 'feature_importances': \"[{'oneD_stddev50': 0.04046917}, {'rsi': 0.031308968}, {'close_diff': 0.029453166}, {'daily_volume_vol_diff_pct30': 0.027339682}, {'range_vol_diff5': 0.030676479}, {'SPY_diff': 0.02730983}, {'threeD_stddev50': 0.042994127}, {'close_diff3': 0.031602137}, {'min_volume_vol_diff_pct': 0.025030706}, {'month': 0.03832126}, {'return_vol_240M': 0.19812565}, {'range_vol': 0.049242493}, {'rsi5': 0.0322244}, {'roc': 0.03178318}, {'SPY_3D': 0.036835082}, {'roc5': 0.032313935}, {'roc_diff': 0.03267375}, {'price_25DDiff': 0.03316137}, {'daily_volume_vol_diff_pct': 0.028732155}, {'price_10DDiff': 0.03164113}, {'SPY_1D': 0.03644489}, {'hour_volume_vol_diff': 0.028887678}, {'hour_volume_vol_diff_pct': 0.028797802}, {'return_vol_10D': 0.03836144}, {'SPY_5D': 0.036269635}]\"}\n",
      "{'deployment_date': datetime.datetime(2023, 1, 9, 0, 0), 'dataset_end': datetime.datetime(2022, 12, 30, 0, 0), 'dataset_start': datetime.datetime(2018, 1, 1, 0, 0)}\n",
      "-0.017\n",
      "0.28942961197309774\n"
     ]
    },
    {
     "name": "stderr",
     "output_type": "stream",
     "text": [
      "/var/folders/tq/_9q_lv1s2bndbr3tzzn08x4r0000gn/T/ipykernel_13065/1039188303.py:2: SettingWithCopyWarning: \n",
      "A value is trying to be set on a copy of a slice from a DataFrame.\n",
      "Try using .loc[row_indexer,col_indexer] = value instead\n",
      "\n",
      "See the caveats in the documentation: https://pandas.pydata.org/pandas-docs/stable/user_guide/indexing.html#returning-a-view-versus-a-copy\n",
      "  dataset.loc[:, 'label'] = (dataset[target_label] < target_value).astype(int)\n"
     ]
    },
    {
     "name": "stdout",
     "output_type": "stream",
     "text": [
      "label\n",
      "0    16896\n",
      "1    15767\n",
      "Name: count, dtype: int64\n",
      "55 166 174 55\n",
      "{'model_name': 'MAP_1d:RM220_TSSIM1_TL15-EXP_custHypTP0.48', 'deployment_date': '2023-01-09', 'algorithm_type': 'xgboost', 'dataset': 'MAP_1d:RM220_TSSIM1_TL15-EXP_custHypTP0.48', 'TP': 55, 'TPpct': Decimal('0'), 'FP': 166, 'FPpct': Decimal('0'), 'TN': 174, 'TNpct': Decimal('0'), 'FN': 55, 'FNpct': Decimal('0'), 'precision_ratio': Decimal('0.3313253012048193'), 'evaluation_timeperiod': '2023-01-09_2023-01-13', 'live': False, 'hyperparameters': {\"{'subsample': 0.6, 'num_round': 1000, 'min_child_weight': 10, 'max_depth': 10, 'learning_rate': 0.1, 'gamma': 2, 'colsample_bytree': 1}\"}, 'features': {\"['oneD_stddev50', 'rsi', 'close_diff', 'daily_volume_vol_diff_pct30', 'range_vol_diff5', 'SPY_diff', 'threeD_stddev50', 'close_diff3', 'min_volume_vol_diff_pct', 'month', 'return_vol_240M', 'range_vol', 'rsi5', 'roc', 'SPY_3D', 'roc5', 'roc_diff', 'price_25DDiff', 'daily_volume_vol_diff_pct', 'price_10DDiff', 'SPY_1D', 'hour_volume_vol_diff', 'hour_volume_vol_diff_pct', 'return_vol_10D', 'SPY_5D']\"}, 'target': '-0.017+one_min', 'feature_importances': \"[{'oneD_stddev50': 0.040348526}, {'rsi': 0.03280912}, {'close_diff': 0.032377675}, {'daily_volume_vol_diff_pct30': 0.030297216}, {'range_vol_diff5': 0.03180164}, {'SPY_diff': 0.031107608}, {'threeD_stddev50': 0.035232823}, {'close_diff3': 0.035446674}, {'min_volume_vol_diff_pct': 0.02926461}, {'month': 0.045595337}, {'return_vol_240M': 0.15550806}, {'range_vol': 0.03799129}, {'rsi5': 0.03284859}, {'roc': 0.03448214}, {'SPY_3D': 0.03893098}, {'roc5': 0.034751236}, {'roc_diff': 0.035991695}, {'price_25DDiff': 0.03482367}, {'daily_volume_vol_diff_pct': 0.031214407}, {'price_10DDiff': 0.037021752}, {'SPY_1D': 0.042288925}, {'hour_volume_vol_diff': 0.030790113}, {'hour_volume_vol_diff_pct': 0.031397864}, {'return_vol_10D': 0.03465137}, {'SPY_5D': 0.043026667}]\"}\n",
      "{'deployment_date': datetime.datetime(2023, 1, 16, 0, 0), 'dataset_end': datetime.datetime(2023, 1, 6, 0, 0), 'dataset_start': datetime.datetime(2018, 1, 1, 0, 0)}\n",
      "-0.017\n",
      "0.2853735878388524\n"
     ]
    },
    {
     "name": "stderr",
     "output_type": "stream",
     "text": [
      "/var/folders/tq/_9q_lv1s2bndbr3tzzn08x4r0000gn/T/ipykernel_13065/1039188303.py:2: SettingWithCopyWarning: \n",
      "A value is trying to be set on a copy of a slice from a DataFrame.\n",
      "Try using .loc[row_indexer,col_indexer] = value instead\n",
      "\n",
      "See the caveats in the documentation: https://pandas.pydata.org/pandas-docs/stable/user_guide/indexing.html#returning-a-view-versus-a-copy\n",
      "  dataset.loc[:, 'label'] = (dataset[target_label] < target_value).astype(int)\n"
     ]
    },
    {
     "name": "stdout",
     "output_type": "stream",
     "text": [
      "label\n",
      "0    16769\n",
      "1    15539\n",
      "Name: count, dtype: int64\n",
      "115 112 83 44\n",
      "{'model_name': 'MAP_1d:RM220_TSSIM1_TL15-EXP_custHypTP0.48', 'deployment_date': '2023-01-16', 'algorithm_type': 'xgboost', 'dataset': 'MAP_1d:RM220_TSSIM1_TL15-EXP_custHypTP0.48', 'TP': 115, 'TPpct': Decimal('0'), 'FP': 112, 'FPpct': Decimal('0'), 'TN': 83, 'TNpct': Decimal('0'), 'FN': 44, 'FNpct': Decimal('0'), 'precision_ratio': Decimal('1.0267857142857142'), 'evaluation_timeperiod': '2023-01-16_2023-01-20', 'live': False, 'hyperparameters': {\"{'subsample': 0.6, 'num_round': 1000, 'min_child_weight': 10, 'max_depth': 10, 'learning_rate': 0.1, 'gamma': 2, 'colsample_bytree': 1}\"}, 'features': {\"['oneD_stddev50', 'rsi', 'close_diff', 'daily_volume_vol_diff_pct30', 'range_vol_diff5', 'SPY_diff', 'threeD_stddev50', 'close_diff3', 'min_volume_vol_diff_pct', 'month', 'return_vol_240M', 'range_vol', 'rsi5', 'roc', 'SPY_3D', 'roc5', 'roc_diff', 'price_25DDiff', 'daily_volume_vol_diff_pct', 'price_10DDiff', 'SPY_1D', 'hour_volume_vol_diff', 'hour_volume_vol_diff_pct', 'return_vol_10D', 'SPY_5D']\"}, 'target': '-0.017+one_min', 'feature_importances': \"[{'oneD_stddev50': 0.03992805}, {'rsi': 0.033055887}, {'close_diff': 0.030429907}, {'daily_volume_vol_diff_pct30': 0.031129634}, {'range_vol_diff5': 0.03200334}, {'SPY_diff': 0.02908911}, {'threeD_stddev50': 0.035459515}, {'close_diff3': 0.035647817}, {'min_volume_vol_diff_pct': 0.028787537}, {'month': 0.043933414}, {'return_vol_240M': 0.15902752}, {'range_vol': 0.038690314}, {'rsi5': 0.034451336}, {'roc': 0.033575833}, {'SPY_3D': 0.040964857}, {'roc5': 0.035630662}, {'roc_diff': 0.03590576}, {'price_25DDiff': 0.034758925}, {'daily_volume_vol_diff_pct': 0.03123503}, {'price_10DDiff': 0.037349153}, {'SPY_1D': 0.0416634}, {'hour_volume_vol_diff': 0.030255836}, {'hour_volume_vol_diff_pct': 0.032172408}, {'return_vol_10D': 0.033162814}, {'SPY_5D': 0.041691903}]\"}\n",
      "{'deployment_date': datetime.datetime(2023, 1, 23, 0, 0), 'dataset_end': datetime.datetime(2023, 1, 13, 0, 0), 'dataset_start': datetime.datetime(2018, 1, 1, 0, 0)}\n",
      "-0.016\n",
      "0.6674819422327406\n"
     ]
    },
    {
     "name": "stderr",
     "output_type": "stream",
     "text": [
      "/var/folders/tq/_9q_lv1s2bndbr3tzzn08x4r0000gn/T/ipykernel_13065/1039188303.py:2: SettingWithCopyWarning: \n",
      "A value is trying to be set on a copy of a slice from a DataFrame.\n",
      "Try using .loc[row_indexer,col_indexer] = value instead\n",
      "\n",
      "See the caveats in the documentation: https://pandas.pydata.org/pandas-docs/stable/user_guide/indexing.html#returning-a-view-versus-a-copy\n",
      "  dataset.loc[:, 'label'] = (dataset[target_label] < target_value).astype(int)\n"
     ]
    },
    {
     "name": "stdout",
     "output_type": "stream",
     "text": [
      "label\n",
      "0    39843\n",
      "1    36025\n",
      "Name: count, dtype: int64\n",
      "138 88 116 108\n",
      "{'model_name': 'MAP_1d:RM220_TSSIM1_TL15-EXP_custHypTP0.48', 'deployment_date': '2023-01-23', 'algorithm_type': 'xgboost', 'dataset': 'MAP_1d:RM220_TSSIM1_TL15-EXP_custHypTP0.48', 'TP': 138, 'TPpct': Decimal('0'), 'FP': 88, 'FPpct': Decimal('0'), 'TN': 116, 'TNpct': Decimal('0'), 'FN': 108, 'FNpct': Decimal('0'), 'precision_ratio': Decimal('1.5681818181818181'), 'evaluation_timeperiod': '2023-01-23_2023-01-27', 'live': False, 'hyperparameters': {\"{'subsample': 0.6, 'num_round': 1000, 'min_child_weight': 10, 'max_depth': 10, 'learning_rate': 0.1, 'gamma': 2, 'colsample_bytree': 1}\"}, 'features': {\"['oneD_stddev50', 'rsi', 'close_diff', 'daily_volume_vol_diff_pct30', 'range_vol_diff5', 'SPY_diff', 'threeD_stddev50', 'close_diff3', 'min_volume_vol_diff_pct', 'month', 'return_vol_240M', 'range_vol', 'rsi5', 'roc', 'SPY_3D', 'roc5', 'roc_diff', 'price_25DDiff', 'daily_volume_vol_diff_pct', 'price_10DDiff', 'SPY_1D', 'hour_volume_vol_diff', 'hour_volume_vol_diff_pct', 'return_vol_10D', 'SPY_5D']\"}, 'target': '-0.016+one_min', 'feature_importances': \"[{'oneD_stddev50': 0.04147636}, {'rsi': 0.031349342}, {'close_diff': 0.03002229}, {'daily_volume_vol_diff_pct30': 0.02824204}, {'range_vol_diff5': 0.030293323}, {'SPY_diff': 0.028249184}, {'threeD_stddev50': 0.043411568}, {'close_diff3': 0.031973615}, {'min_volume_vol_diff_pct': 0.02569916}, {'month': 0.036551498}, {'return_vol_240M': 0.20027049}, {'range_vol': 0.04268659}, {'rsi5': 0.031636763}, {'roc': 0.031796187}, {'SPY_3D': 0.03609547}, {'roc5': 0.033995666}, {'roc_diff': 0.03341981}, {'price_25DDiff': 0.0329893}, {'daily_volume_vol_diff_pct': 0.028972054}, {'price_10DDiff': 0.03209129}, {'SPY_1D': 0.03565739}, {'hour_volume_vol_diff': 0.028434576}, {'hour_volume_vol_diff_pct': 0.028001627}, {'return_vol_10D': 0.03948577}, {'SPY_5D': 0.03719868}]\"}\n",
      "{'deployment_date': datetime.datetime(2023, 1, 30, 0, 0), 'dataset_end': datetime.datetime(2023, 1, 20, 0, 0), 'dataset_start': datetime.datetime(2018, 1, 1, 0, 0)}\n",
      "-0.016\n",
      "0.8198338844207442\n"
     ]
    },
    {
     "name": "stderr",
     "output_type": "stream",
     "text": [
      "/var/folders/tq/_9q_lv1s2bndbr3tzzn08x4r0000gn/T/ipykernel_13065/1039188303.py:2: SettingWithCopyWarning: \n",
      "A value is trying to be set on a copy of a slice from a DataFrame.\n",
      "Try using .loc[row_indexer,col_indexer] = value instead\n",
      "\n",
      "See the caveats in the documentation: https://pandas.pydata.org/pandas-docs/stable/user_guide/indexing.html#returning-a-view-versus-a-copy\n",
      "  dataset.loc[:, 'label'] = (dataset[target_label] < target_value).astype(int)\n"
     ]
    },
    {
     "name": "stdout",
     "output_type": "stream",
     "text": [
      "label\n",
      "0    49233\n",
      "1    44242\n",
      "Name: count, dtype: int64\n",
      "151 111 141 47\n",
      "{'model_name': 'MAP_1d:RM220_TSSIM1_TL15-EXP_custHypTP0.48', 'deployment_date': '2023-01-30', 'algorithm_type': 'xgboost', 'dataset': 'MAP_1d:RM220_TSSIM1_TL15-EXP_custHypTP0.48', 'TP': 151, 'TPpct': Decimal('0'), 'FP': 111, 'FPpct': Decimal('0'), 'TN': 141, 'TNpct': Decimal('0'), 'FN': 47, 'FNpct': Decimal('0'), 'precision_ratio': Decimal('1.3603603603603605'), 'evaluation_timeperiod': '2023-01-30_2023-02-03', 'live': False, 'hyperparameters': {\"{'subsample': 0.6, 'num_round': 1000, 'min_child_weight': 10, 'max_depth': 10, 'learning_rate': 0.1, 'gamma': 2, 'colsample_bytree': 1}\"}, 'features': {\"['oneD_stddev50', 'rsi', 'close_diff', 'daily_volume_vol_diff_pct30', 'range_vol_diff5', 'SPY_diff', 'threeD_stddev50', 'close_diff3', 'min_volume_vol_diff_pct', 'month', 'return_vol_240M', 'range_vol', 'rsi5', 'roc', 'SPY_3D', 'roc5', 'roc_diff', 'price_25DDiff', 'daily_volume_vol_diff_pct', 'price_10DDiff', 'SPY_1D', 'hour_volume_vol_diff', 'hour_volume_vol_diff_pct', 'return_vol_10D', 'SPY_5D']\"}, 'target': '-0.016+one_min', 'feature_importances': \"[{'oneD_stddev50': 0.041583277}, {'rsi': 0.032261334}, {'close_diff': 0.029753482}, {'daily_volume_vol_diff_pct30': 0.028680107}, {'range_vol_diff5': 0.03027443}, {'SPY_diff': 0.027495675}, {'threeD_stddev50': 0.039259676}, {'close_diff3': 0.03249749}, {'min_volume_vol_diff_pct': 0.026247164}, {'month': 0.03705465}, {'return_vol_240M': 0.2035385}, {'range_vol': 0.04571085}, {'rsi5': 0.03285992}, {'roc': 0.03247165}, {'SPY_3D': 0.03541712}, {'roc5': 0.032452364}, {'roc_diff': 0.03355181}, {'price_25DDiff': 0.032609727}, {'daily_volume_vol_diff_pct': 0.029095896}, {'price_10DDiff': 0.032740463}, {'SPY_1D': 0.03641049}, {'hour_volume_vol_diff': 0.029198717}, {'hour_volume_vol_diff_pct': 0.027644087}, {'return_vol_10D': 0.034294844}, {'SPY_5D': 0.03689641}]\"}\n",
      "{'deployment_date': datetime.datetime(2023, 2, 6, 0, 0), 'dataset_end': datetime.datetime(2023, 1, 27, 0, 0), 'dataset_start': datetime.datetime(2018, 1, 1, 0, 0)}\n",
      "-0.016\n",
      "0.668244996374501\n"
     ]
    },
    {
     "name": "stderr",
     "output_type": "stream",
     "text": [
      "/var/folders/tq/_9q_lv1s2bndbr3tzzn08x4r0000gn/T/ipykernel_13065/1039188303.py:2: SettingWithCopyWarning: \n",
      "A value is trying to be set on a copy of a slice from a DataFrame.\n",
      "Try using .loc[row_indexer,col_indexer] = value instead\n",
      "\n",
      "See the caveats in the documentation: https://pandas.pydata.org/pandas-docs/stable/user_guide/indexing.html#returning-a-view-versus-a-copy\n",
      "  dataset.loc[:, 'label'] = (dataset[target_label] < target_value).astype(int)\n"
     ]
    },
    {
     "name": "stdout",
     "output_type": "stream",
     "text": [
      "label\n",
      "0    40227\n",
      "1    36265\n",
      "Name: count, dtype: int64\n",
      "164 76 83 127\n",
      "{'model_name': 'MAP_1d:RM220_TSSIM1_TL15-EXP_custHypTP0.48', 'deployment_date': '2023-02-06', 'algorithm_type': 'xgboost', 'dataset': 'MAP_1d:RM220_TSSIM1_TL15-EXP_custHypTP0.48', 'TP': 164, 'TPpct': Decimal('0'), 'FP': 76, 'FPpct': Decimal('0'), 'TN': 83, 'TNpct': Decimal('0'), 'FN': 127, 'FNpct': Decimal('0'), 'precision_ratio': Decimal('2.1578947368421053'), 'evaluation_timeperiod': '2023-02-06_2023-02-10', 'live': False, 'hyperparameters': {\"{'subsample': 0.6, 'num_round': 1000, 'min_child_weight': 10, 'max_depth': 10, 'learning_rate': 0.1, 'gamma': 2, 'colsample_bytree': 1}\"}, 'features': {\"['oneD_stddev50', 'rsi', 'close_diff', 'daily_volume_vol_diff_pct30', 'range_vol_diff5', 'SPY_diff', 'threeD_stddev50', 'close_diff3', 'min_volume_vol_diff_pct', 'month', 'return_vol_240M', 'range_vol', 'rsi5', 'roc', 'SPY_3D', 'roc5', 'roc_diff', 'price_25DDiff', 'daily_volume_vol_diff_pct', 'price_10DDiff', 'SPY_1D', 'hour_volume_vol_diff', 'hour_volume_vol_diff_pct', 'return_vol_10D', 'SPY_5D']\"}, 'target': '-0.016+one_min', 'feature_importances': \"[{'oneD_stddev50': 0.03942622}, {'rsi': 0.03123295}, {'close_diff': 0.028956894}, {'daily_volume_vol_diff_pct30': 0.028819311}, {'range_vol_diff5': 0.029419133}, {'SPY_diff': 0.028639033}, {'threeD_stddev50': 0.041581143}, {'close_diff3': 0.031575497}, {'min_volume_vol_diff_pct': 0.026184341}, {'month': 0.0370787}, {'return_vol_240M': 0.20013008}, {'range_vol': 0.04721777}, {'rsi5': 0.032130964}, {'roc': 0.032912552}, {'SPY_3D': 0.035404585}, {'roc5': 0.032803565}, {'roc_diff': 0.03310284}, {'price_25DDiff': 0.033437982}, {'daily_volume_vol_diff_pct': 0.028620161}, {'price_10DDiff': 0.032247387}, {'SPY_1D': 0.035410047}, {'hour_volume_vol_diff': 0.02848261}, {'hour_volume_vol_diff_pct': 0.029942818}, {'return_vol_10D': 0.038325652}, {'SPY_5D': 0.03691776}]\"}\n",
      "{'deployment_date': datetime.datetime(2023, 2, 13, 0, 0), 'dataset_end': datetime.datetime(2023, 2, 3, 0, 0), 'dataset_start': datetime.datetime(2018, 1, 1, 0, 0)}\n",
      "-0.016\n",
      "0.6711104536317516\n"
     ]
    },
    {
     "name": "stderr",
     "output_type": "stream",
     "text": [
      "/var/folders/tq/_9q_lv1s2bndbr3tzzn08x4r0000gn/T/ipykernel_13065/1039188303.py:2: SettingWithCopyWarning: \n",
      "A value is trying to be set on a copy of a slice from a DataFrame.\n",
      "Try using .loc[row_indexer,col_indexer] = value instead\n",
      "\n",
      "See the caveats in the documentation: https://pandas.pydata.org/pandas-docs/stable/user_guide/indexing.html#returning-a-view-versus-a-copy\n",
      "  dataset.loc[:, 'label'] = (dataset[target_label] < target_value).astype(int)\n"
     ]
    },
    {
     "name": "stdout",
     "output_type": "stream",
     "text": [
      "label\n",
      "0    40532\n",
      "1    36590\n",
      "Name: count, dtype: int64\n",
      "134 82 83 140\n",
      "{'model_name': 'MAP_1d:RM220_TSSIM1_TL15-EXP_custHypTP0.48', 'deployment_date': '2023-02-13', 'algorithm_type': 'xgboost', 'dataset': 'MAP_1d:RM220_TSSIM1_TL15-EXP_custHypTP0.48', 'TP': 134, 'TPpct': Decimal('0'), 'FP': 82, 'FPpct': Decimal('0'), 'TN': 83, 'TNpct': Decimal('0'), 'FN': 140, 'FNpct': Decimal('0'), 'precision_ratio': Decimal('1.6341463414634145'), 'evaluation_timeperiod': '2023-02-13_2023-02-17', 'live': False, 'hyperparameters': {\"{'subsample': 0.6, 'num_round': 1000, 'min_child_weight': 10, 'max_depth': 10, 'learning_rate': 0.1, 'gamma': 2, 'colsample_bytree': 1}\"}, 'features': {\"['oneD_stddev50', 'rsi', 'close_diff', 'daily_volume_vol_diff_pct30', 'range_vol_diff5', 'SPY_diff', 'threeD_stddev50', 'close_diff3', 'min_volume_vol_diff_pct', 'month', 'return_vol_240M', 'range_vol', 'rsi5', 'roc', 'SPY_3D', 'roc5', 'roc_diff', 'price_25DDiff', 'daily_volume_vol_diff_pct', 'price_10DDiff', 'SPY_1D', 'hour_volume_vol_diff', 'hour_volume_vol_diff_pct', 'return_vol_10D', 'SPY_5D']\"}, 'target': '-0.016+one_min', 'feature_importances': \"[{'oneD_stddev50': 0.039144773}, {'rsi': 0.032405723}, {'close_diff': 0.029608477}, {'daily_volume_vol_diff_pct30': 0.027296012}, {'range_vol_diff5': 0.02974021}, {'SPY_diff': 0.027145557}, {'threeD_stddev50': 0.03916286}, {'close_diff3': 0.032247864}, {'min_volume_vol_diff_pct': 0.024492858}, {'month': 0.035378877}, {'return_vol_240M': 0.21233183}, {'range_vol': 0.04808391}, {'rsi5': 0.031710055}, {'roc': 0.032208666}, {'SPY_3D': 0.035149854}, {'roc5': 0.03130763}, {'roc_diff': 0.032047518}, {'price_25DDiff': 0.03255526}, {'daily_volume_vol_diff_pct': 0.028775895}, {'price_10DDiff': 0.033283483}, {'SPY_1D': 0.035612017}, {'hour_volume_vol_diff': 0.027915446}, {'hour_volume_vol_diff_pct': 0.027739491}, {'return_vol_10D': 0.038195416}, {'SPY_5D': 0.036460295}]\"}\n",
      "{'deployment_date': datetime.datetime(2023, 2, 20, 0, 0), 'dataset_end': datetime.datetime(2023, 2, 10, 0, 0), 'dataset_start': datetime.datetime(2018, 1, 1, 0, 0)}\n",
      "-0.016\n",
      "0.8219421498348748\n"
     ]
    },
    {
     "name": "stderr",
     "output_type": "stream",
     "text": [
      "/var/folders/tq/_9q_lv1s2bndbr3tzzn08x4r0000gn/T/ipykernel_13065/1039188303.py:2: SettingWithCopyWarning: \n",
      "A value is trying to be set on a copy of a slice from a DataFrame.\n",
      "Try using .loc[row_indexer,col_indexer] = value instead\n",
      "\n",
      "See the caveats in the documentation: https://pandas.pydata.org/pandas-docs/stable/user_guide/indexing.html#returning-a-view-versus-a-copy\n",
      "  dataset.loc[:, 'label'] = (dataset[target_label] < target_value).astype(int)\n"
     ]
    },
    {
     "name": "stdout",
     "output_type": "stream",
     "text": [
      "label\n",
      "0    49865\n",
      "1    44960\n",
      "Name: count, dtype: int64\n",
      "172 123 32 33\n",
      "{'model_name': 'MAP_1d:RM220_TSSIM1_TL15-EXP_custHypTP0.48', 'deployment_date': '2023-02-20', 'algorithm_type': 'xgboost', 'dataset': 'MAP_1d:RM220_TSSIM1_TL15-EXP_custHypTP0.48', 'TP': 172, 'TPpct': Decimal('0'), 'FP': 123, 'FPpct': Decimal('0'), 'TN': 32, 'TNpct': Decimal('0'), 'FN': 33, 'FNpct': Decimal('0'), 'precision_ratio': Decimal('1.3983739837398375'), 'evaluation_timeperiod': '2023-02-20_2023-02-24', 'live': False, 'hyperparameters': {\"{'subsample': 0.6, 'num_round': 1000, 'min_child_weight': 10, 'max_depth': 10, 'learning_rate': 0.1, 'gamma': 2, 'colsample_bytree': 1}\"}, 'features': {\"['oneD_stddev50', 'rsi', 'close_diff', 'daily_volume_vol_diff_pct30', 'range_vol_diff5', 'SPY_diff', 'threeD_stddev50', 'close_diff3', 'min_volume_vol_diff_pct', 'month', 'return_vol_240M', 'range_vol', 'rsi5', 'roc', 'SPY_3D', 'roc5', 'roc_diff', 'price_25DDiff', 'daily_volume_vol_diff_pct', 'price_10DDiff', 'SPY_1D', 'hour_volume_vol_diff', 'hour_volume_vol_diff_pct', 'return_vol_10D', 'SPY_5D']\"}, 'target': '-0.016+one_min', 'feature_importances': \"[{'oneD_stddev50': 0.042659193}, {'rsi': 0.032511607}, {'close_diff': 0.029901436}, {'daily_volume_vol_diff_pct30': 0.028806403}, {'range_vol_diff5': 0.031285565}, {'SPY_diff': 0.028217526}, {'threeD_stddev50': 0.036248837}, {'close_diff3': 0.032083143}, {'min_volume_vol_diff_pct': 0.026255406}, {'month': 0.037279584}, {'return_vol_240M': 0.20153727}, {'range_vol': 0.043539375}, {'rsi5': 0.03288703}, {'roc': 0.03193694}, {'SPY_3D': 0.036502913}, {'roc5': 0.032727417}, {'roc_diff': 0.03312504}, {'price_25DDiff': 0.032809906}, {'daily_volume_vol_diff_pct': 0.028548392}, {'price_10DDiff': 0.03413182}, {'SPY_1D': 0.03685793}, {'hour_volume_vol_diff': 0.029465284}, {'hour_volume_vol_diff_pct': 0.028967524}, {'return_vol_10D': 0.034927294}, {'SPY_5D': 0.036787108}]\"}\n",
      "{'deployment_date': datetime.datetime(2023, 2, 27, 0, 0), 'dataset_end': datetime.datetime(2023, 2, 17, 0, 0), 'dataset_start': datetime.datetime(2018, 1, 1, 0, 0)}\n",
      "-0.016\n",
      "0.673638035697324\n"
     ]
    },
    {
     "name": "stderr",
     "output_type": "stream",
     "text": [
      "/var/folders/tq/_9q_lv1s2bndbr3tzzn08x4r0000gn/T/ipykernel_13065/1039188303.py:2: SettingWithCopyWarning: \n",
      "A value is trying to be set on a copy of a slice from a DataFrame.\n",
      "Try using .loc[row_indexer,col_indexer] = value instead\n",
      "\n",
      "See the caveats in the documentation: https://pandas.pydata.org/pandas-docs/stable/user_guide/indexing.html#returning-a-view-versus-a-copy\n",
      "  dataset.loc[:, 'label'] = (dataset[target_label] < target_value).astype(int)\n"
     ]
    },
    {
     "name": "stdout",
     "output_type": "stream",
     "text": [
      "label\n",
      "0    40866\n",
      "1    37146\n",
      "Name: count, dtype: int64\n",
      "95 99 165 91\n",
      "{'model_name': 'MAP_1d:RM220_TSSIM1_TL15-EXP_custHypTP0.48', 'deployment_date': '2023-02-27', 'algorithm_type': 'xgboost', 'dataset': 'MAP_1d:RM220_TSSIM1_TL15-EXP_custHypTP0.48', 'TP': 95, 'TPpct': Decimal('0'), 'FP': 99, 'FPpct': Decimal('0'), 'TN': 165, 'TNpct': Decimal('0'), 'FN': 91, 'FNpct': Decimal('0'), 'precision_ratio': Decimal('0.9595959595959596'), 'evaluation_timeperiod': '2023-02-27_2023-03-03', 'live': False, 'hyperparameters': {\"{'subsample': 0.6, 'num_round': 1000, 'min_child_weight': 10, 'max_depth': 10, 'learning_rate': 0.1, 'gamma': 2, 'colsample_bytree': 1}\"}, 'features': {\"['oneD_stddev50', 'rsi', 'close_diff', 'daily_volume_vol_diff_pct30', 'range_vol_diff5', 'SPY_diff', 'threeD_stddev50', 'close_diff3', 'min_volume_vol_diff_pct', 'month', 'return_vol_240M', 'range_vol', 'rsi5', 'roc', 'SPY_3D', 'roc5', 'roc_diff', 'price_25DDiff', 'daily_volume_vol_diff_pct', 'price_10DDiff', 'SPY_1D', 'hour_volume_vol_diff', 'hour_volume_vol_diff_pct', 'return_vol_10D', 'SPY_5D']\"}, 'target': '-0.016+one_min', 'feature_importances': \"[{'oneD_stddev50': 0.03928336}, {'rsi': 0.031948797}, {'close_diff': 0.030729057}, {'daily_volume_vol_diff_pct30': 0.027931629}, {'range_vol_diff5': 0.030747782}, {'SPY_diff': 0.027920417}, {'threeD_stddev50': 0.038485993}, {'close_diff3': 0.033538405}, {'min_volume_vol_diff_pct': 0.025856888}, {'month': 0.037116647}, {'return_vol_240M': 0.1939001}, {'range_vol': 0.05074313}, {'rsi5': 0.03292446}, {'roc': 0.03268569}, {'SPY_3D': 0.035704933}, {'roc5': 0.03209975}, {'roc_diff': 0.03279958}, {'price_25DDiff': 0.033366162}, {'daily_volume_vol_diff_pct': 0.028736008}, {'price_10DDiff': 0.031698145}, {'SPY_1D': 0.035952717}, {'hour_volume_vol_diff': 0.029351825}, {'hour_volume_vol_diff_pct': 0.027548347}, {'return_vol_10D': 0.04165167}, {'SPY_5D': 0.03727853}]\"}\n",
      "{'deployment_date': datetime.datetime(2023, 3, 6, 0, 0), 'dataset_end': datetime.datetime(2023, 2, 24, 0, 0), 'dataset_start': datetime.datetime(2018, 1, 1, 0, 0)}\n",
      "-0.017\n",
      "0.27966634242082516\n"
     ]
    },
    {
     "name": "stderr",
     "output_type": "stream",
     "text": [
      "/var/folders/tq/_9q_lv1s2bndbr3tzzn08x4r0000gn/T/ipykernel_13065/1039188303.py:2: SettingWithCopyWarning: \n",
      "A value is trying to be set on a copy of a slice from a DataFrame.\n",
      "Try using .loc[row_indexer,col_indexer] = value instead\n",
      "\n",
      "See the caveats in the documentation: https://pandas.pydata.org/pandas-docs/stable/user_guide/indexing.html#returning-a-view-versus-a-copy\n",
      "  dataset.loc[:, 'label'] = (dataset[target_label] < target_value).astype(int)\n"
     ]
    },
    {
     "name": "stdout",
     "output_type": "stream",
     "text": [
      "label\n",
      "0    16947\n",
      "1    15541\n",
      "Name: count, dtype: int64\n",
      "191 56 46 157\n",
      "{'model_name': 'MAP_1d:RM220_TSSIM1_TL15-EXP_custHypTP0.48', 'deployment_date': '2023-03-06', 'algorithm_type': 'xgboost', 'dataset': 'MAP_1d:RM220_TSSIM1_TL15-EXP_custHypTP0.48', 'TP': 191, 'TPpct': Decimal('0'), 'FP': 56, 'FPpct': Decimal('0'), 'TN': 46, 'TNpct': Decimal('0'), 'FN': 157, 'FNpct': Decimal('0'), 'precision_ratio': Decimal('3.4107142857142856'), 'evaluation_timeperiod': '2023-03-06_2023-03-10', 'live': False, 'hyperparameters': {\"{'subsample': 0.6, 'num_round': 1000, 'min_child_weight': 10, 'max_depth': 10, 'learning_rate': 0.1, 'gamma': 2, 'colsample_bytree': 1}\"}, 'features': {\"['oneD_stddev50', 'rsi', 'close_diff', 'daily_volume_vol_diff_pct30', 'range_vol_diff5', 'SPY_diff', 'threeD_stddev50', 'close_diff3', 'min_volume_vol_diff_pct', 'month', 'return_vol_240M', 'range_vol', 'rsi5', 'roc', 'SPY_3D', 'roc5', 'roc_diff', 'price_25DDiff', 'daily_volume_vol_diff_pct', 'price_10DDiff', 'SPY_1D', 'hour_volume_vol_diff', 'hour_volume_vol_diff_pct', 'return_vol_10D', 'SPY_5D']\"}, 'target': '-0.017+one_min', 'feature_importances': \"[{'oneD_stddev50': 0.041290708}, {'rsi': 0.034861144}, {'close_diff': 0.03263848}, {'daily_volume_vol_diff_pct30': 0.03229241}, {'range_vol_diff5': 0.03383661}, {'SPY_diff': 0.02924616}, {'threeD_stddev50': 0.03617252}, {'close_diff3': 0.037790604}, {'min_volume_vol_diff_pct': 0.027196135}, {'month': 0.045105938}, {'return_vol_240M': 0.1382876}, {'range_vol': 0.04106404}, {'rsi5': 0.03493621}, {'roc': 0.03490038}, {'SPY_3D': 0.042692665}, {'roc5': 0.035459355}, {'roc_diff': 0.034938805}, {'price_25DDiff': 0.0340746}, {'daily_volume_vol_diff_pct': 0.029916577}, {'price_10DDiff': 0.040079664}, {'SPY_1D': 0.04226774}, {'hour_volume_vol_diff': 0.03122799}, {'hour_volume_vol_diff_pct': 0.031574175}, {'return_vol_10D': 0.036216587}, {'SPY_5D': 0.041932955}]\"}\n",
      "{'deployment_date': datetime.datetime(2023, 3, 13, 0, 0), 'dataset_end': datetime.datetime(2023, 3, 3, 0, 0), 'dataset_start': datetime.datetime(2018, 1, 1, 0, 0)}\n",
      "-0.016\n",
      "0.6720460996252691\n"
     ]
    },
    {
     "name": "stderr",
     "output_type": "stream",
     "text": [
      "/var/folders/tq/_9q_lv1s2bndbr3tzzn08x4r0000gn/T/ipykernel_13065/1039188303.py:2: SettingWithCopyWarning: \n",
      "A value is trying to be set on a copy of a slice from a DataFrame.\n",
      "Try using .loc[row_indexer,col_indexer] = value instead\n",
      "\n",
      "See the caveats in the documentation: https://pandas.pydata.org/pandas-docs/stable/user_guide/indexing.html#returning-a-view-versus-a-copy\n",
      "  dataset.loc[:, 'label'] = (dataset[target_label] < target_value).astype(int)\n"
     ]
    },
    {
     "name": "stdout",
     "output_type": "stream",
     "text": [
      "label\n",
      "0    41105\n",
      "1    37267\n",
      "Name: count, dtype: int64\n",
      "183 143 68 56\n",
      "{'model_name': 'MAP_1d:RM220_TSSIM1_TL15-EXP_custHypTP0.48', 'deployment_date': '2023-03-13', 'algorithm_type': 'xgboost', 'dataset': 'MAP_1d:RM220_TSSIM1_TL15-EXP_custHypTP0.48', 'TP': 183, 'TPpct': Decimal('0'), 'FP': 143, 'FPpct': Decimal('0'), 'TN': 68, 'TNpct': Decimal('0'), 'FN': 56, 'FNpct': Decimal('0'), 'precision_ratio': Decimal('1.2797202797202798'), 'evaluation_timeperiod': '2023-03-13_2023-03-17', 'live': False, 'hyperparameters': {\"{'subsample': 0.6, 'num_round': 1000, 'min_child_weight': 10, 'max_depth': 10, 'learning_rate': 0.1, 'gamma': 2, 'colsample_bytree': 1}\"}, 'features': {\"['oneD_stddev50', 'rsi', 'close_diff', 'daily_volume_vol_diff_pct30', 'range_vol_diff5', 'SPY_diff', 'threeD_stddev50', 'close_diff3', 'min_volume_vol_diff_pct', 'month', 'return_vol_240M', 'range_vol', 'rsi5', 'roc', 'SPY_3D', 'roc5', 'roc_diff', 'price_25DDiff', 'daily_volume_vol_diff_pct', 'price_10DDiff', 'SPY_1D', 'hour_volume_vol_diff', 'hour_volume_vol_diff_pct', 'return_vol_10D', 'SPY_5D']\"}, 'target': '-0.016+one_min', 'feature_importances': \"[{'oneD_stddev50': 0.037461314}, {'rsi': 0.032608196}, {'close_diff': 0.029415298}, {'daily_volume_vol_diff_pct30': 0.027695138}, {'range_vol_diff5': 0.03126885}, {'SPY_diff': 0.028461995}, {'threeD_stddev50': 0.038717013}, {'close_diff3': 0.032036316}, {'min_volume_vol_diff_pct': 0.025965147}, {'month': 0.036289774}, {'return_vol_240M': 0.20083337}, {'range_vol': 0.052057203}, {'rsi5': 0.032205023}, {'roc': 0.031910975}, {'SPY_3D': 0.0351879}, {'roc5': 0.033211246}, {'roc_diff': 0.033168156}, {'price_25DDiff': 0.03351631}, {'daily_volume_vol_diff_pct': 0.027989281}, {'price_10DDiff': 0.032115974}, {'SPY_1D': 0.035403743}, {'hour_volume_vol_diff': 0.029216323}, {'hour_volume_vol_diff_pct': 0.027428435}, {'return_vol_10D': 0.039284542}, {'SPY_5D': 0.036552444}]\"}\n",
      "{'deployment_date': datetime.datetime(2023, 3, 20, 0, 0), 'dataset_end': datetime.datetime(2023, 3, 10, 0, 0), 'dataset_start': datetime.datetime(2018, 1, 1, 0, 0)}\n",
      "-0.016\n",
      "0.6725379483543612\n"
     ]
    },
    {
     "name": "stderr",
     "output_type": "stream",
     "text": [
      "/var/folders/tq/_9q_lv1s2bndbr3tzzn08x4r0000gn/T/ipykernel_13065/1039188303.py:2: SettingWithCopyWarning: \n",
      "A value is trying to be set on a copy of a slice from a DataFrame.\n",
      "Try using .loc[row_indexer,col_indexer] = value instead\n",
      "\n",
      "See the caveats in the documentation: https://pandas.pydata.org/pandas-docs/stable/user_guide/indexing.html#returning-a-view-versus-a-copy\n",
      "  dataset.loc[:, 'label'] = (dataset[target_label] < target_value).astype(int)\n"
     ]
    },
    {
     "name": "stdout",
     "output_type": "stream",
     "text": [
      "label\n",
      "0    41191\n",
      "1    37541\n",
      "Name: count, dtype: int64\n",
      "185 103 85 72\n",
      "{'model_name': 'MAP_1d:RM220_TSSIM1_TL15-EXP_custHypTP0.48', 'deployment_date': '2023-03-20', 'algorithm_type': 'xgboost', 'dataset': 'MAP_1d:RM220_TSSIM1_TL15-EXP_custHypTP0.48', 'TP': 185, 'TPpct': Decimal('0'), 'FP': 103, 'FPpct': Decimal('0'), 'TN': 85, 'TNpct': Decimal('0'), 'FN': 72, 'FNpct': Decimal('0'), 'precision_ratio': Decimal('1.796116504854369'), 'evaluation_timeperiod': '2023-03-20_2023-03-24', 'live': False, 'hyperparameters': {\"{'subsample': 0.6, 'num_round': 1000, 'min_child_weight': 10, 'max_depth': 10, 'learning_rate': 0.1, 'gamma': 2, 'colsample_bytree': 1}\"}, 'features': {\"['oneD_stddev50', 'rsi', 'close_diff', 'daily_volume_vol_diff_pct30', 'range_vol_diff5', 'SPY_diff', 'threeD_stddev50', 'close_diff3', 'min_volume_vol_diff_pct', 'month', 'return_vol_240M', 'range_vol', 'rsi5', 'roc', 'SPY_3D', 'roc5', 'roc_diff', 'price_25DDiff', 'daily_volume_vol_diff_pct', 'price_10DDiff', 'SPY_1D', 'hour_volume_vol_diff', 'hour_volume_vol_diff_pct', 'return_vol_10D', 'SPY_5D']\"}, 'target': '-0.016+one_min', 'feature_importances': \"[{'oneD_stddev50': 0.037076686}, {'rsi': 0.031125871}, {'close_diff': 0.029852523}, {'daily_volume_vol_diff_pct30': 0.028282471}, {'range_vol_diff5': 0.029905772}, {'SPY_diff': 0.027747827}, {'threeD_stddev50': 0.039492317}, {'close_diff3': 0.03264664}, {'min_volume_vol_diff_pct': 0.025380466}, {'month': 0.035708025}, {'return_vol_240M': 0.21060728}, {'range_vol': 0.049685504}, {'rsi5': 0.031845856}, {'roc': 0.031839937}, {'SPY_3D': 0.034151733}, {'roc5': 0.03320799}, {'roc_diff': 0.03325793}, {'price_25DDiff': 0.03430307}, {'daily_volume_vol_diff_pct': 0.02874582}, {'price_10DDiff': 0.032276053}, {'SPY_1D': 0.035859086}, {'hour_volume_vol_diff': 0.028393874}, {'hour_volume_vol_diff_pct': 0.027414955}, {'return_vol_10D': 0.0352078}, {'SPY_5D': 0.035984498}]\"}\n",
      "{'deployment_date': datetime.datetime(2023, 3, 27, 0, 0), 'dataset_end': datetime.datetime(2023, 3, 17, 0, 0), 'dataset_start': datetime.datetime(2018, 1, 1, 0, 0)}\n",
      "-0.017\n",
      "0.2788022158496218\n"
     ]
    },
    {
     "name": "stderr",
     "output_type": "stream",
     "text": [
      "/var/folders/tq/_9q_lv1s2bndbr3tzzn08x4r0000gn/T/ipykernel_13065/1039188303.py:2: SettingWithCopyWarning: \n",
      "A value is trying to be set on a copy of a slice from a DataFrame.\n",
      "Try using .loc[row_indexer,col_indexer] = value instead\n",
      "\n",
      "See the caveats in the documentation: https://pandas.pydata.org/pandas-docs/stable/user_guide/indexing.html#returning-a-view-versus-a-copy\n",
      "  dataset.loc[:, 'label'] = (dataset[target_label] < target_value).astype(int)\n"
     ]
    },
    {
     "name": "stdout",
     "output_type": "stream",
     "text": [
      "label\n",
      "0    17099\n",
      "1    15665\n",
      "Name: count, dtype: int64\n",
      "40 107 214 89\n",
      "{'model_name': 'MAP_1d:RM220_TSSIM1_TL15-EXP_custHypTP0.48', 'deployment_date': '2023-03-27', 'algorithm_type': 'xgboost', 'dataset': 'MAP_1d:RM220_TSSIM1_TL15-EXP_custHypTP0.48', 'TP': 40, 'TPpct': Decimal('0'), 'FP': 107, 'FPpct': Decimal('0'), 'TN': 214, 'TNpct': Decimal('0'), 'FN': 89, 'FNpct': Decimal('0'), 'precision_ratio': Decimal('0.37383177570093457'), 'evaluation_timeperiod': '2023-03-27_2023-03-31', 'live': False, 'hyperparameters': {\"{'subsample': 0.6, 'num_round': 1000, 'min_child_weight': 10, 'max_depth': 10, 'learning_rate': 0.1, 'gamma': 2, 'colsample_bytree': 1}\"}, 'features': {\"['oneD_stddev50', 'rsi', 'close_diff', 'daily_volume_vol_diff_pct30', 'range_vol_diff5', 'SPY_diff', 'threeD_stddev50', 'close_diff3', 'min_volume_vol_diff_pct', 'month', 'return_vol_240M', 'range_vol', 'rsi5', 'roc', 'SPY_3D', 'roc5', 'roc_diff', 'price_25DDiff', 'daily_volume_vol_diff_pct', 'price_10DDiff', 'SPY_1D', 'hour_volume_vol_diff', 'hour_volume_vol_diff_pct', 'return_vol_10D', 'SPY_5D']\"}, 'target': '-0.017+one_min', 'feature_importances': \"[{'oneD_stddev50': 0.040203642}, {'rsi': 0.034295466}, {'close_diff': 0.03241978}, {'daily_volume_vol_diff_pct30': 0.030768124}, {'range_vol_diff5': 0.03136412}, {'SPY_diff': 0.030741403}, {'threeD_stddev50': 0.033360682}, {'close_diff3': 0.036112446}, {'min_volume_vol_diff_pct': 0.027915936}, {'month': 0.045653228}, {'return_vol_240M': 0.15669177}, {'range_vol': 0.04004962}, {'rsi5': 0.034963652}, {'roc': 0.03565638}, {'SPY_3D': 0.041406684}, {'roc5': 0.034899756}, {'roc_diff': 0.035780024}, {'price_25DDiff': 0.034236886}, {'daily_volume_vol_diff_pct': 0.030959276}, {'price_10DDiff': 0.034457162}, {'SPY_1D': 0.04076683}, {'hour_volume_vol_diff': 0.03008866}, {'hour_volume_vol_diff_pct': 0.030001508}, {'return_vol_10D': 0.036446013}, {'SPY_5D': 0.040760856}]\"}\n",
      "{'deployment_date': datetime.datetime(2023, 4, 3, 0, 0), 'dataset_end': datetime.datetime(2023, 3, 24, 0, 0), 'dataset_start': datetime.datetime(2018, 1, 1, 0, 0)}\n",
      "-0.017\n",
      "0.2770313228499979\n"
     ]
    },
    {
     "name": "stderr",
     "output_type": "stream",
     "text": [
      "/var/folders/tq/_9q_lv1s2bndbr3tzzn08x4r0000gn/T/ipykernel_13065/1039188303.py:2: SettingWithCopyWarning: \n",
      "A value is trying to be set on a copy of a slice from a DataFrame.\n",
      "Try using .loc[row_indexer,col_indexer] = value instead\n",
      "\n",
      "See the caveats in the documentation: https://pandas.pydata.org/pandas-docs/stable/user_guide/indexing.html#returning-a-view-versus-a-copy\n",
      "  dataset.loc[:, 'label'] = (dataset[target_label] < target_value).astype(int)\n"
     ]
    },
    {
     "name": "stdout",
     "output_type": "stream",
     "text": [
      "label\n",
      "0    17111\n",
      "1    15569\n",
      "Name: count, dtype: int64\n",
      "84 104 123 48\n",
      "{'model_name': 'MAP_1d:RM220_TSSIM1_TL15-EXP_custHypTP0.48', 'deployment_date': '2023-04-03', 'algorithm_type': 'xgboost', 'dataset': 'MAP_1d:RM220_TSSIM1_TL15-EXP_custHypTP0.48', 'TP': 84, 'TPpct': Decimal('0'), 'FP': 104, 'FPpct': Decimal('0'), 'TN': 123, 'TNpct': Decimal('0'), 'FN': 48, 'FNpct': Decimal('0'), 'precision_ratio': Decimal('0.8076923076923077'), 'evaluation_timeperiod': '2023-04-03_2023-04-07', 'live': False, 'hyperparameters': {\"{'subsample': 0.6, 'num_round': 1000, 'min_child_weight': 10, 'max_depth': 10, 'learning_rate': 0.1, 'gamma': 2, 'colsample_bytree': 1}\"}, 'features': {\"['oneD_stddev50', 'rsi', 'close_diff', 'daily_volume_vol_diff_pct30', 'range_vol_diff5', 'SPY_diff', 'threeD_stddev50', 'close_diff3', 'min_volume_vol_diff_pct', 'month', 'return_vol_240M', 'range_vol', 'rsi5', 'roc', 'SPY_3D', 'roc5', 'roc_diff', 'price_25DDiff', 'daily_volume_vol_diff_pct', 'price_10DDiff', 'SPY_1D', 'hour_volume_vol_diff', 'hour_volume_vol_diff_pct', 'return_vol_10D', 'SPY_5D']\"}, 'target': '-0.017+one_min', 'feature_importances': \"[{'oneD_stddev50': 0.03996763}, {'rsi': 0.033747207}, {'close_diff': 0.031723082}, {'daily_volume_vol_diff_pct30': 0.03058551}, {'range_vol_diff5': 0.030359363}, {'SPY_diff': 0.02969891}, {'threeD_stddev50': 0.038862795}, {'close_diff3': 0.03693544}, {'min_volume_vol_diff_pct': 0.028252458}, {'month': 0.044473626}, {'return_vol_240M': 0.15360932}, {'range_vol': 0.0447881}, {'rsi5': 0.03481987}, {'roc': 0.035625048}, {'SPY_3D': 0.041442584}, {'roc5': 0.035067707}, {'roc_diff': 0.03481245}, {'price_25DDiff': 0.03403879}, {'daily_volume_vol_diff_pct': 0.029535806}, {'price_10DDiff': 0.035656247}, {'SPY_1D': 0.040083088}, {'hour_volume_vol_diff': 0.030706245}, {'hour_volume_vol_diff_pct': 0.029405292}, {'return_vol_10D': 0.035701975}, {'SPY_5D': 0.040101424}]\"}\n",
      "{'deployment_date': datetime.datetime(2023, 4, 10, 0, 0), 'dataset_end': datetime.datetime(2023, 3, 31, 0, 0), 'dataset_start': datetime.datetime(2018, 1, 1, 0, 0)}\n",
      "-0.016\n",
      "0.6724148123126293\n"
     ]
    },
    {
     "name": "stderr",
     "output_type": "stream",
     "text": [
      "/var/folders/tq/_9q_lv1s2bndbr3tzzn08x4r0000gn/T/ipykernel_13065/1039188303.py:2: SettingWithCopyWarning: \n",
      "A value is trying to be set on a copy of a slice from a DataFrame.\n",
      "Try using .loc[row_indexer,col_indexer] = value instead\n",
      "\n",
      "See the caveats in the documentation: https://pandas.pydata.org/pandas-docs/stable/user_guide/indexing.html#returning-a-view-versus-a-copy\n",
      "  dataset.loc[:, 'label'] = (dataset[target_label] < target_value).astype(int)\n"
     ]
    },
    {
     "name": "stdout",
     "output_type": "stream",
     "text": [
      "label\n",
      "0    41535\n",
      "1    38089\n",
      "Name: count, dtype: int64\n",
      "93 82 191 84\n",
      "{'model_name': 'MAP_1d:RM220_TSSIM1_TL15-EXP_custHypTP0.48', 'deployment_date': '2023-04-10', 'algorithm_type': 'xgboost', 'dataset': 'MAP_1d:RM220_TSSIM1_TL15-EXP_custHypTP0.48', 'TP': 93, 'TPpct': Decimal('0'), 'FP': 82, 'FPpct': Decimal('0'), 'TN': 191, 'TNpct': Decimal('0'), 'FN': 84, 'FNpct': Decimal('0'), 'precision_ratio': Decimal('1.1341463414634145'), 'evaluation_timeperiod': '2023-04-10_2023-04-14', 'live': False, 'hyperparameters': {\"{'subsample': 0.6, 'num_round': 1000, 'min_child_weight': 10, 'max_depth': 10, 'learning_rate': 0.1, 'gamma': 2, 'colsample_bytree': 1}\"}, 'features': {\"['oneD_stddev50', 'rsi', 'close_diff', 'daily_volume_vol_diff_pct30', 'range_vol_diff5', 'SPY_diff', 'threeD_stddev50', 'close_diff3', 'min_volume_vol_diff_pct', 'month', 'return_vol_240M', 'range_vol', 'rsi5', 'roc', 'SPY_3D', 'roc5', 'roc_diff', 'price_25DDiff', 'daily_volume_vol_diff_pct', 'price_10DDiff', 'SPY_1D', 'hour_volume_vol_diff', 'hour_volume_vol_diff_pct', 'return_vol_10D', 'SPY_5D']\"}, 'target': '-0.016+one_min', 'feature_importances': \"[{'oneD_stddev50': 0.036570188}, {'rsi': 0.03190683}, {'close_diff': 0.029460134}, {'daily_volume_vol_diff_pct30': 0.027970051}, {'range_vol_diff5': 0.029788908}, {'SPY_diff': 0.027164206}, {'threeD_stddev50': 0.03815541}, {'close_diff3': 0.031780947}, {'min_volume_vol_diff_pct': 0.024988543}, {'month': 0.036176212}, {'return_vol_240M': 0.2176792}, {'range_vol': 0.048560463}, {'rsi5': 0.032329116}, {'roc': 0.03142449}, {'SPY_3D': 0.034512207}, {'roc5': 0.03161769}, {'roc_diff': 0.032551687}, {'price_25DDiff': 0.03223397}, {'daily_volume_vol_diff_pct': 0.0271921}, {'price_10DDiff': 0.033396695}, {'SPY_1D': 0.03533118}, {'hour_volume_vol_diff': 0.02716717}, {'hour_volume_vol_diff_pct': 0.027598908}, {'return_vol_10D': 0.038036708}, {'SPY_5D': 0.036407024}]\"}\n",
      "{'deployment_date': datetime.datetime(2023, 4, 17, 0, 0), 'dataset_end': datetime.datetime(2023, 4, 7, 0, 0), 'dataset_start': datetime.datetime(2018, 1, 1, 0, 0)}\n",
      "-0.016\n",
      "0.6719427488949695\n"
     ]
    },
    {
     "name": "stderr",
     "output_type": "stream",
     "text": [
      "/var/folders/tq/_9q_lv1s2bndbr3tzzn08x4r0000gn/T/ipykernel_13065/1039188303.py:2: SettingWithCopyWarning: \n",
      "A value is trying to be set on a copy of a slice from a DataFrame.\n",
      "Try using .loc[row_indexer,col_indexer] = value instead\n",
      "\n",
      "See the caveats in the documentation: https://pandas.pydata.org/pandas-docs/stable/user_guide/indexing.html#returning-a-view-versus-a-copy\n",
      "  dataset.loc[:, 'label'] = (dataset[target_label] < target_value).astype(int)\n"
     ]
    },
    {
     "name": "stdout",
     "output_type": "stream",
     "text": [
      "label\n",
      "0    41682\n",
      "1    38128\n",
      "Name: count, dtype: int64\n",
      "113 63 151 117\n",
      "{'model_name': 'MAP_1d:RM220_TSSIM1_TL15-EXP_custHypTP0.48', 'deployment_date': '2023-04-17', 'algorithm_type': 'xgboost', 'dataset': 'MAP_1d:RM220_TSSIM1_TL15-EXP_custHypTP0.48', 'TP': 113, 'TPpct': Decimal('0'), 'FP': 63, 'FPpct': Decimal('0'), 'TN': 151, 'TNpct': Decimal('0'), 'FN': 117, 'FNpct': Decimal('0'), 'precision_ratio': Decimal('1.7936507936507937'), 'evaluation_timeperiod': '2023-04-17_2023-04-21', 'live': False, 'hyperparameters': {\"{'subsample': 0.6, 'num_round': 1000, 'min_child_weight': 10, 'max_depth': 10, 'learning_rate': 0.1, 'gamma': 2, 'colsample_bytree': 1}\"}, 'features': {\"['oneD_stddev50', 'rsi', 'close_diff', 'daily_volume_vol_diff_pct30', 'range_vol_diff5', 'SPY_diff', 'threeD_stddev50', 'close_diff3', 'min_volume_vol_diff_pct', 'month', 'return_vol_240M', 'range_vol', 'rsi5', 'roc', 'SPY_3D', 'roc5', 'roc_diff', 'price_25DDiff', 'daily_volume_vol_diff_pct', 'price_10DDiff', 'SPY_1D', 'hour_volume_vol_diff', 'hour_volume_vol_diff_pct', 'return_vol_10D', 'SPY_5D']\"}, 'target': '-0.016+one_min', 'feature_importances': \"[{'oneD_stddev50': 0.03766735}, {'rsi': 0.033184938}, {'close_diff': 0.030351305}, {'daily_volume_vol_diff_pct30': 0.028556736}, {'range_vol_diff5': 0.030486079}, {'SPY_diff': 0.028313912}, {'threeD_stddev50': 0.041352544}, {'close_diff3': 0.03203694}, {'min_volume_vol_diff_pct': 0.026249994}, {'month': 0.03586354}, {'return_vol_240M': 0.19740948}, {'range_vol': 0.04929623}, {'rsi5': 0.033182546}, {'roc': 0.032744505}, {'SPY_3D': 0.03562755}, {'roc5': 0.03249786}, {'roc_diff': 0.032978695}, {'price_25DDiff': 0.033117335}, {'daily_volume_vol_diff_pct': 0.028630849}, {'price_10DDiff': 0.03176669}, {'SPY_1D': 0.0358377}, {'hour_volume_vol_diff': 0.028824823}, {'hour_volume_vol_diff_pct': 0.028814547}, {'return_vol_10D': 0.037867844}, {'SPY_5D': 0.037339933}]\"}\n",
      "{'deployment_date': datetime.datetime(2023, 4, 24, 0, 0), 'dataset_end': datetime.datetime(2023, 4, 14, 0, 0), 'dataset_start': datetime.datetime(2018, 1, 1, 0, 0)}\n",
      "-0.016\n",
      "0.8194002935625917\n"
     ]
    },
    {
     "name": "stderr",
     "output_type": "stream",
     "text": [
      "/var/folders/tq/_9q_lv1s2bndbr3tzzn08x4r0000gn/T/ipykernel_13065/1039188303.py:2: SettingWithCopyWarning: \n",
      "A value is trying to be set on a copy of a slice from a DataFrame.\n",
      "Try using .loc[row_indexer,col_indexer] = value instead\n",
      "\n",
      "See the caveats in the documentation: https://pandas.pydata.org/pandas-docs/stable/user_guide/indexing.html#returning-a-view-versus-a-copy\n",
      "  dataset.loc[:, 'label'] = (dataset[target_label] < target_value).astype(int)\n"
     ]
    },
    {
     "name": "stdout",
     "output_type": "stream",
     "text": [
      "label\n",
      "0    51158\n",
      "1    46535\n",
      "Name: count, dtype: int64\n",
      "94 53 171 132\n",
      "{'model_name': 'MAP_1d:RM220_TSSIM1_TL15-EXP_custHypTP0.48', 'deployment_date': '2023-04-24', 'algorithm_type': 'xgboost', 'dataset': 'MAP_1d:RM220_TSSIM1_TL15-EXP_custHypTP0.48', 'TP': 94, 'TPpct': Decimal('0'), 'FP': 53, 'FPpct': Decimal('0'), 'TN': 171, 'TNpct': Decimal('0'), 'FN': 132, 'FNpct': Decimal('0'), 'precision_ratio': Decimal('1.7735849056603774'), 'evaluation_timeperiod': '2023-04-24_2023-04-28', 'live': False, 'hyperparameters': {\"{'subsample': 0.6, 'num_round': 1000, 'min_child_weight': 10, 'max_depth': 10, 'learning_rate': 0.1, 'gamma': 2, 'colsample_bytree': 1}\"}, 'features': {\"['oneD_stddev50', 'rsi', 'close_diff', 'daily_volume_vol_diff_pct30', 'range_vol_diff5', 'SPY_diff', 'threeD_stddev50', 'close_diff3', 'min_volume_vol_diff_pct', 'month', 'return_vol_240M', 'range_vol', 'rsi5', 'roc', 'SPY_3D', 'roc5', 'roc_diff', 'price_25DDiff', 'daily_volume_vol_diff_pct', 'price_10DDiff', 'SPY_1D', 'hour_volume_vol_diff', 'hour_volume_vol_diff_pct', 'return_vol_10D', 'SPY_5D']\"}, 'target': '-0.016+one_min', 'feature_importances': \"[{'oneD_stddev50': 0.042029202}, {'rsi': 0.03139363}, {'close_diff': 0.029519204}, {'daily_volume_vol_diff_pct30': 0.027659616}, {'range_vol_diff5': 0.030760527}, {'SPY_diff': 0.028151479}, {'threeD_stddev50': 0.036787037}, {'close_diff3': 0.032379624}, {'min_volume_vol_diff_pct': 0.02600557}, {'month': 0.036285244}, {'return_vol_240M': 0.21240978}, {'range_vol': 0.0437963}, {'rsi5': 0.031829227}, {'roc': 0.03326977}, {'SPY_3D': 0.036502913}, {'roc5': 0.032554097}, {'roc_diff': 0.033520427}, {'price_25DDiff': 0.03218646}, {'daily_volume_vol_diff_pct': 0.027507445}, {'price_10DDiff': 0.032752253}, {'SPY_1D': 0.036249444}, {'hour_volume_vol_diff': 0.027729386}, {'hour_volume_vol_diff_pct': 0.028102355}, {'return_vol_10D': 0.034737416}, {'SPY_5D': 0.03588159}]\"}\n",
      "{'deployment_date': datetime.datetime(2023, 5, 1, 0, 0), 'dataset_end': datetime.datetime(2023, 4, 21, 0, 0), 'dataset_start': datetime.datetime(2018, 1, 1, 0, 0)}\n",
      "-0.017\n",
      "0.2790530546758141\n"
     ]
    },
    {
     "name": "stderr",
     "output_type": "stream",
     "text": [
      "/var/folders/tq/_9q_lv1s2bndbr3tzzn08x4r0000gn/T/ipykernel_13065/1039188303.py:2: SettingWithCopyWarning: \n",
      "A value is trying to be set on a copy of a slice from a DataFrame.\n",
      "Try using .loc[row_indexer,col_indexer] = value instead\n",
      "\n",
      "See the caveats in the documentation: https://pandas.pydata.org/pandas-docs/stable/user_guide/indexing.html#returning-a-view-versus-a-copy\n",
      "  dataset.loc[:, 'label'] = (dataset[target_label] < target_value).astype(int)\n"
     ]
    },
    {
     "name": "stdout",
     "output_type": "stream",
     "text": [
      "label\n",
      "0    17480\n",
      "1    15914\n",
      "Name: count, dtype: int64\n",
      "99 114 133 104\n",
      "{'model_name': 'MAP_1d:RM220_TSSIM1_TL15-EXP_custHypTP0.48', 'deployment_date': '2023-05-01', 'algorithm_type': 'xgboost', 'dataset': 'MAP_1d:RM220_TSSIM1_TL15-EXP_custHypTP0.48', 'TP': 99, 'TPpct': Decimal('0'), 'FP': 114, 'FPpct': Decimal('0'), 'TN': 133, 'TNpct': Decimal('0'), 'FN': 104, 'FNpct': Decimal('0'), 'precision_ratio': Decimal('0.868421052631579'), 'evaluation_timeperiod': '2023-05-01_2023-05-05', 'live': False, 'hyperparameters': {\"{'subsample': 0.6, 'num_round': 1000, 'min_child_weight': 10, 'max_depth': 10, 'learning_rate': 0.1, 'gamma': 2, 'colsample_bytree': 1}\"}, 'features': {\"['oneD_stddev50', 'rsi', 'close_diff', 'daily_volume_vol_diff_pct30', 'range_vol_diff5', 'SPY_diff', 'threeD_stddev50', 'close_diff3', 'min_volume_vol_diff_pct', 'month', 'return_vol_240M', 'range_vol', 'rsi5', 'roc', 'SPY_3D', 'roc5', 'roc_diff', 'price_25DDiff', 'daily_volume_vol_diff_pct', 'price_10DDiff', 'SPY_1D', 'hour_volume_vol_diff', 'hour_volume_vol_diff_pct', 'return_vol_10D', 'SPY_5D']\"}, 'target': '-0.017+one_min', 'feature_importances': \"[{'oneD_stddev50': 0.03989829}, {'rsi': 0.034329485}, {'close_diff': 0.031814303}, {'daily_volume_vol_diff_pct30': 0.031730987}, {'range_vol_diff5': 0.032686524}, {'SPY_diff': 0.030628433}, {'threeD_stddev50': 0.034611262}, {'close_diff3': 0.036170498}, {'min_volume_vol_diff_pct': 0.027447691}, {'month': 0.044085655}, {'return_vol_240M': 0.15849695}, {'range_vol': 0.040151753}, {'rsi5': 0.033540957}, {'roc': 0.034942973}, {'SPY_3D': 0.04116153}, {'roc5': 0.034426354}, {'roc_diff': 0.03527578}, {'price_25DDiff': 0.033292394}, {'daily_volume_vol_diff_pct': 0.031133512}, {'price_10DDiff': 0.036092237}, {'SPY_1D': 0.040504314}, {'hour_volume_vol_diff': 0.03222857}, {'hour_volume_vol_diff_pct': 0.028576847}, {'return_vol_10D': 0.036328133}, {'SPY_5D': 0.040444613}]\"}\n",
      "{'deployment_date': datetime.datetime(2023, 5, 8, 0, 0), 'dataset_end': datetime.datetime(2023, 4, 28, 0, 0), 'dataset_start': datetime.datetime(2018, 1, 1, 0, 0)}\n",
      "-0.017\n",
      "0.28770635786178705\n"
     ]
    },
    {
     "name": "stderr",
     "output_type": "stream",
     "text": [
      "/var/folders/tq/_9q_lv1s2bndbr3tzzn08x4r0000gn/T/ipykernel_13065/1039188303.py:2: SettingWithCopyWarning: \n",
      "A value is trying to be set on a copy of a slice from a DataFrame.\n",
      "Try using .loc[row_indexer,col_indexer] = value instead\n",
      "\n",
      "See the caveats in the documentation: https://pandas.pydata.org/pandas-docs/stable/user_guide/indexing.html#returning-a-view-versus-a-copy\n",
      "  dataset.loc[:, 'label'] = (dataset[target_label] < target_value).astype(int)\n"
     ]
    },
    {
     "name": "stdout",
     "output_type": "stream",
     "text": [
      "label\n",
      "0    18068\n",
      "1    16491\n",
      "Name: count, dtype: int64\n",
      "105 90 170 79\n",
      "{'model_name': 'MAP_1d:RM220_TSSIM1_TL15-EXP_custHypTP0.48', 'deployment_date': '2023-05-08', 'algorithm_type': 'xgboost', 'dataset': 'MAP_1d:RM220_TSSIM1_TL15-EXP_custHypTP0.48', 'TP': 105, 'TPpct': Decimal('0'), 'FP': 90, 'FPpct': Decimal('0'), 'TN': 170, 'TNpct': Decimal('0'), 'FN': 79, 'FNpct': Decimal('0'), 'precision_ratio': Decimal('1.1666666666666667'), 'evaluation_timeperiod': '2023-05-08_2023-05-12', 'live': False, 'hyperparameters': {\"{'subsample': 0.6, 'num_round': 1000, 'min_child_weight': 10, 'max_depth': 10, 'learning_rate': 0.1, 'gamma': 2, 'colsample_bytree': 1}\"}, 'features': {\"['oneD_stddev50', 'rsi', 'close_diff', 'daily_volume_vol_diff_pct30', 'range_vol_diff5', 'SPY_diff', 'threeD_stddev50', 'close_diff3', 'min_volume_vol_diff_pct', 'month', 'return_vol_240M', 'range_vol', 'rsi5', 'roc', 'SPY_3D', 'roc5', 'roc_diff', 'price_25DDiff', 'daily_volume_vol_diff_pct', 'price_10DDiff', 'SPY_1D', 'hour_volume_vol_diff', 'hour_volume_vol_diff_pct', 'return_vol_10D', 'SPY_5D']\"}, 'target': '-0.017+one_min', 'feature_importances': \"[{'oneD_stddev50': 0.0410887}, {'rsi': 0.035756435}, {'close_diff': 0.03419383}, {'daily_volume_vol_diff_pct30': 0.030871717}, {'range_vol_diff5': 0.03285688}, {'SPY_diff': 0.029618291}, {'threeD_stddev50': 0.035820104}, {'close_diff3': 0.0360725}, {'min_volume_vol_diff_pct': 0.028022485}, {'month': 0.043615345}, {'return_vol_240M': 0.1517562}, {'range_vol': 0.040985122}, {'rsi5': 0.035703097}, {'roc': 0.033956684}, {'SPY_3D': 0.040188123}, {'roc5': 0.034338143}, {'roc_diff': 0.035227377}, {'price_25DDiff': 0.032528054}, {'daily_volume_vol_diff_pct': 0.031806715}, {'price_10DDiff': 0.036059894}, {'SPY_1D': 0.041353587}, {'hour_volume_vol_diff': 0.03143254}, {'hour_volume_vol_diff_pct': 0.030460767}, {'return_vol_10D': 0.035246305}, {'SPY_5D': 0.041041102}]\"}\n",
      "{'deployment_date': datetime.datetime(2023, 5, 15, 0, 0), 'dataset_end': datetime.datetime(2023, 5, 5, 0, 0), 'dataset_start': datetime.datetime(2018, 1, 1, 0, 0)}\n",
      "-0.018\n",
      "0.5031309872355249\n"
     ]
    },
    {
     "name": "stderr",
     "output_type": "stream",
     "text": [
      "/var/folders/tq/_9q_lv1s2bndbr3tzzn08x4r0000gn/T/ipykernel_13065/1039188303.py:2: SettingWithCopyWarning: \n",
      "A value is trying to be set on a copy of a slice from a DataFrame.\n",
      "Try using .loc[row_indexer,col_indexer] = value instead\n",
      "\n",
      "See the caveats in the documentation: https://pandas.pydata.org/pandas-docs/stable/user_guide/indexing.html#returning-a-view-versus-a-copy\n",
      "  dataset.loc[:, 'label'] = (dataset[target_label] < target_value).astype(int)\n"
     ]
    },
    {
     "name": "stdout",
     "output_type": "stream",
     "text": [
      "label\n",
      "0    31041\n",
      "1    29621\n",
      "Name: count, dtype: int64\n",
      "51 114 222 57\n",
      "{'model_name': 'MAP_1d:RM220_TSSIM1_TL15-EXP_custHypTP0.48', 'deployment_date': '2023-05-15', 'algorithm_type': 'xgboost', 'dataset': 'MAP_1d:RM220_TSSIM1_TL15-EXP_custHypTP0.48', 'TP': 51, 'TPpct': Decimal('0'), 'FP': 114, 'FPpct': Decimal('0'), 'TN': 222, 'TNpct': Decimal('0'), 'FN': 57, 'FNpct': Decimal('0'), 'precision_ratio': Decimal('0.4473684210526316'), 'evaluation_timeperiod': '2023-05-15_2023-05-19', 'live': False, 'hyperparameters': {\"{'subsample': 0.6, 'num_round': 1000, 'min_child_weight': 10, 'max_depth': 10, 'learning_rate': 0.1, 'gamma': 2, 'colsample_bytree': 1}\"}, 'features': {\"['oneD_stddev50', 'rsi', 'close_diff', 'daily_volume_vol_diff_pct30', 'range_vol_diff5', 'SPY_diff', 'threeD_stddev50', 'close_diff3', 'min_volume_vol_diff_pct', 'month', 'return_vol_240M', 'range_vol', 'rsi5', 'roc', 'SPY_3D', 'roc5', 'roc_diff', 'price_25DDiff', 'daily_volume_vol_diff_pct', 'price_10DDiff', 'SPY_1D', 'hour_volume_vol_diff', 'hour_volume_vol_diff_pct', 'return_vol_10D', 'SPY_5D']\"}, 'target': '-0.018+one_min', 'feature_importances': \"[{'oneD_stddev50': 0.04101283}, {'rsi': 0.03517502}, {'close_diff': 0.031603795}, {'daily_volume_vol_diff_pct30': 0.029866263}, {'range_vol_diff5': 0.031718988}, {'SPY_diff': 0.028803995}, {'threeD_stddev50': 0.03643174}, {'close_diff3': 0.034950342}, {'min_volume_vol_diff_pct': 0.026809573}, {'month': 0.040919658}, {'return_vol_240M': 0.1740595}, {'range_vol': 0.03573644}, {'rsi5': 0.03290571}, {'roc': 0.035160214}, {'SPY_3D': 0.039559178}, {'roc5': 0.03435851}, {'roc_diff': 0.03601162}, {'price_25DDiff': 0.03374917}, {'daily_volume_vol_diff_pct': 0.030901743}, {'price_10DDiff': 0.034904897}, {'SPY_1D': 0.039189674}, {'hour_volume_vol_diff': 0.029080901}, {'hour_volume_vol_diff_pct': 0.030545492}, {'return_vol_10D': 0.03618784}, {'SPY_5D': 0.04035691}]\"}\n",
      "{'deployment_date': datetime.datetime(2023, 5, 22, 0, 0), 'dataset_end': datetime.datetime(2023, 5, 12, 0, 0), 'dataset_start': datetime.datetime(2018, 1, 1, 0, 0)}\n",
      "-0.018\n",
      "0.5027724294084107\n"
     ]
    },
    {
     "name": "stderr",
     "output_type": "stream",
     "text": [
      "/var/folders/tq/_9q_lv1s2bndbr3tzzn08x4r0000gn/T/ipykernel_13065/1039188303.py:2: SettingWithCopyWarning: \n",
      "A value is trying to be set on a copy of a slice from a DataFrame.\n",
      "Try using .loc[row_indexer,col_indexer] = value instead\n",
      "\n",
      "See the caveats in the documentation: https://pandas.pydata.org/pandas-docs/stable/user_guide/indexing.html#returning-a-view-versus-a-copy\n",
      "  dataset.loc[:, 'label'] = (dataset[target_label] < target_value).astype(int)\n"
     ]
    },
    {
     "name": "stdout",
     "output_type": "stream",
     "text": [
      "label\n",
      "0    31150\n",
      "1    29692\n",
      "Name: count, dtype: int64\n",
      "74 90 193 93\n",
      "{'model_name': 'MAP_1d:RM220_TSSIM1_TL15-EXP_custHypTP0.48', 'deployment_date': '2023-05-22', 'algorithm_type': 'xgboost', 'dataset': 'MAP_1d:RM220_TSSIM1_TL15-EXP_custHypTP0.48', 'TP': 74, 'TPpct': Decimal('0'), 'FP': 90, 'FPpct': Decimal('0'), 'TN': 193, 'TNpct': Decimal('0'), 'FN': 93, 'FNpct': Decimal('0'), 'precision_ratio': Decimal('0.8222222222222222'), 'evaluation_timeperiod': '2023-05-22_2023-05-26', 'live': False, 'hyperparameters': {\"{'subsample': 0.6, 'num_round': 1000, 'min_child_weight': 10, 'max_depth': 10, 'learning_rate': 0.1, 'gamma': 2, 'colsample_bytree': 1}\"}, 'features': {\"['oneD_stddev50', 'rsi', 'close_diff', 'daily_volume_vol_diff_pct30', 'range_vol_diff5', 'SPY_diff', 'threeD_stddev50', 'close_diff3', 'min_volume_vol_diff_pct', 'month', 'return_vol_240M', 'range_vol', 'rsi5', 'roc', 'SPY_3D', 'roc5', 'roc_diff', 'price_25DDiff', 'daily_volume_vol_diff_pct', 'price_10DDiff', 'SPY_1D', 'hour_volume_vol_diff', 'hour_volume_vol_diff_pct', 'return_vol_10D', 'SPY_5D']\"}, 'target': '-0.018+one_min', 'feature_importances': \"[{'oneD_stddev50': 0.04148988}, {'rsi': 0.032815438}, {'close_diff': 0.031233482}, {'daily_volume_vol_diff_pct30': 0.02923214}, {'range_vol_diff5': 0.031032655}, {'SPY_diff': 0.029126523}, {'threeD_stddev50': 0.03693685}, {'close_diff3': 0.035900462}, {'min_volume_vol_diff_pct': 0.027288461}, {'month': 0.041783772}, {'return_vol_240M': 0.17153151}, {'range_vol': 0.035765212}, {'rsi5': 0.032470208}, {'roc': 0.034001917}, {'SPY_3D': 0.0404536}, {'roc5': 0.03481447}, {'roc_diff': 0.035925265}, {'price_25DDiff': 0.0335704}, {'daily_volume_vol_diff_pct': 0.030458333}, {'price_10DDiff': 0.035581272}, {'SPY_1D': 0.03962422}, {'hour_volume_vol_diff': 0.030960012}, {'hour_volume_vol_diff_pct': 0.030990353}, {'return_vol_10D': 0.03666284}, {'SPY_5D': 0.040350724}]\"}\n",
      "{'deployment_date': datetime.datetime(2023, 5, 29, 0, 0), 'dataset_end': datetime.datetime(2023, 5, 19, 0, 0), 'dataset_start': datetime.datetime(2018, 1, 1, 0, 0)}\n",
      "-0.014\n",
      "0.4421317832648592\n"
     ]
    },
    {
     "name": "stderr",
     "output_type": "stream",
     "text": [
      "/var/folders/tq/_9q_lv1s2bndbr3tzzn08x4r0000gn/T/ipykernel_13065/1039188303.py:2: SettingWithCopyWarning: \n",
      "A value is trying to be set on a copy of a slice from a DataFrame.\n",
      "Try using .loc[row_indexer,col_indexer] = value instead\n",
      "\n",
      "See the caveats in the documentation: https://pandas.pydata.org/pandas-docs/stable/user_guide/indexing.html#returning-a-view-versus-a-copy\n",
      "  dataset.loc[:, 'label'] = (dataset[target_label] < target_value).astype(int)\n"
     ]
    },
    {
     "name": "stdout",
     "output_type": "stream",
     "text": [
      "label\n",
      "0    28018\n",
      "1    25682\n",
      "Name: count, dtype: int64\n",
      "107 92 110 51\n",
      "{'model_name': 'MAP_1d:RM220_TSSIM1_TL15-EXP_custHypTP0.48', 'deployment_date': '2023-05-29', 'algorithm_type': 'xgboost', 'dataset': 'MAP_1d:RM220_TSSIM1_TL15-EXP_custHypTP0.48', 'TP': 107, 'TPpct': Decimal('0'), 'FP': 92, 'FPpct': Decimal('0'), 'TN': 110, 'TNpct': Decimal('0'), 'FN': 51, 'FNpct': Decimal('0'), 'precision_ratio': Decimal('1.1630434782608696'), 'evaluation_timeperiod': '2023-05-29_2023-06-02', 'live': False, 'hyperparameters': {\"{'subsample': 0.6, 'num_round': 1000, 'min_child_weight': 10, 'max_depth': 10, 'learning_rate': 0.1, 'gamma': 2, 'colsample_bytree': 1}\"}, 'features': {\"['oneD_stddev50', 'rsi', 'close_diff', 'daily_volume_vol_diff_pct30', 'range_vol_diff5', 'SPY_diff', 'threeD_stddev50', 'close_diff3', 'min_volume_vol_diff_pct', 'month', 'return_vol_240M', 'range_vol', 'rsi5', 'roc', 'SPY_3D', 'roc5', 'roc_diff', 'price_25DDiff', 'daily_volume_vol_diff_pct', 'price_10DDiff', 'SPY_1D', 'hour_volume_vol_diff', 'hour_volume_vol_diff_pct', 'return_vol_10D', 'SPY_5D']\"}, 'target': '-0.014+one_min', 'feature_importances': \"[{'oneD_stddev50': 0.08500117}, {'rsi': 0.032340895}, {'close_diff': 0.031731818}, {'daily_volume_vol_diff_pct30': 0.029253766}, {'range_vol_diff5': 0.032745406}, {'SPY_diff': 0.027568413}, {'threeD_stddev50': 0.044719618}, {'close_diff3': 0.033700194}, {'min_volume_vol_diff_pct': 0.026142905}, {'month': 0.036172327}, {'return_vol_240M': 0.11469379}, {'range_vol': 0.07472492}, {'rsi5': 0.032493833}, {'roc': 0.033885162}, {'SPY_3D': 0.03538923}, {'roc5': 0.034214403}, {'roc_diff': 0.035219453}, {'price_25DDiff': 0.034403827}, {'daily_volume_vol_diff_pct': 0.028706858}, {'price_10DDiff': 0.03460179}, {'SPY_1D': 0.034031127}, {'hour_volume_vol_diff': 0.028982406}, {'hour_volume_vol_diff_pct': 0.030070696}, {'return_vol_10D': 0.035389468}, {'SPY_5D': 0.033816483}]\"}\n",
      "{'deployment_date': datetime.datetime(2023, 6, 5, 0, 0), 'dataset_end': datetime.datetime(2023, 5, 26, 0, 0), 'dataset_start': datetime.datetime(2018, 1, 1, 0, 0)}\n",
      "-0.014\n",
      "0.44345279598382376\n"
     ]
    },
    {
     "name": "stderr",
     "output_type": "stream",
     "text": [
      "/var/folders/tq/_9q_lv1s2bndbr3tzzn08x4r0000gn/T/ipykernel_13065/1039188303.py:2: SettingWithCopyWarning: \n",
      "A value is trying to be set on a copy of a slice from a DataFrame.\n",
      "Try using .loc[row_indexer,col_indexer] = value instead\n",
      "\n",
      "See the caveats in the documentation: https://pandas.pydata.org/pandas-docs/stable/user_guide/indexing.html#returning-a-view-versus-a-copy\n",
      "  dataset.loc[:, 'label'] = (dataset[target_label] < target_value).astype(int)\n"
     ]
    },
    {
     "name": "stdout",
     "output_type": "stream",
     "text": [
      "label\n",
      "0    28190\n",
      "1    25870\n",
      "Name: count, dtype: int64\n",
      "121 139 130 58\n",
      "{'model_name': 'MAP_1d:RM220_TSSIM1_TL15-EXP_custHypTP0.48', 'deployment_date': '2023-06-05', 'algorithm_type': 'xgboost', 'dataset': 'MAP_1d:RM220_TSSIM1_TL15-EXP_custHypTP0.48', 'TP': 121, 'TPpct': Decimal('0'), 'FP': 139, 'FPpct': Decimal('0'), 'TN': 130, 'TNpct': Decimal('0'), 'FN': 58, 'FNpct': Decimal('0'), 'precision_ratio': Decimal('0.8705035971223022'), 'evaluation_timeperiod': '2023-06-05_2023-06-09', 'live': False, 'hyperparameters': {\"{'subsample': 0.6, 'num_round': 1000, 'min_child_weight': 10, 'max_depth': 10, 'learning_rate': 0.1, 'gamma': 2, 'colsample_bytree': 1}\"}, 'features': {\"['oneD_stddev50', 'rsi', 'close_diff', 'daily_volume_vol_diff_pct30', 'range_vol_diff5', 'SPY_diff', 'threeD_stddev50', 'close_diff3', 'min_volume_vol_diff_pct', 'month', 'return_vol_240M', 'range_vol', 'rsi5', 'roc', 'SPY_3D', 'roc5', 'roc_diff', 'price_25DDiff', 'daily_volume_vol_diff_pct', 'price_10DDiff', 'SPY_1D', 'hour_volume_vol_diff', 'hour_volume_vol_diff_pct', 'return_vol_10D', 'SPY_5D']\"}, 'target': '-0.014+one_min', 'feature_importances': \"[{'oneD_stddev50': 0.07384035}, {'rsi': 0.03305721}, {'close_diff': 0.030576523}, {'daily_volume_vol_diff_pct30': 0.029839618}, {'range_vol_diff5': 0.032794066}, {'SPY_diff': 0.029234992}, {'threeD_stddev50': 0.048453547}, {'close_diff3': 0.03415242}, {'min_volume_vol_diff_pct': 0.02580308}, {'month': 0.036768842}, {'return_vol_240M': 0.103805475}, {'range_vol': 0.08882134}, {'rsi5': 0.032020263}, {'roc': 0.03360546}, {'SPY_3D': 0.036035325}, {'roc5': 0.033208184}, {'roc_diff': 0.03510118}, {'price_25DDiff': 0.035798684}, {'daily_volume_vol_diff_pct': 0.029269567}, {'price_10DDiff': 0.03514508}, {'SPY_1D': 0.034892738}, {'hour_volume_vol_diff': 0.030179786}, {'hour_volume_vol_diff_pct': 0.028718732}, {'return_vol_10D': 0.035482306}, {'SPY_5D': 0.033395283}]\"}\n",
      "{'deployment_date': datetime.datetime(2023, 6, 12, 0, 0), 'dataset_end': datetime.datetime(2023, 6, 2, 0, 0), 'dataset_start': datetime.datetime(2018, 1, 1, 0, 0)}\n",
      "-0.014\n",
      "0.4508984435702193\n"
     ]
    },
    {
     "name": "stderr",
     "output_type": "stream",
     "text": [
      "/var/folders/tq/_9q_lv1s2bndbr3tzzn08x4r0000gn/T/ipykernel_13065/1039188303.py:2: SettingWithCopyWarning: \n",
      "A value is trying to be set on a copy of a slice from a DataFrame.\n",
      "Try using .loc[row_indexer,col_indexer] = value instead\n",
      "\n",
      "See the caveats in the documentation: https://pandas.pydata.org/pandas-docs/stable/user_guide/indexing.html#returning-a-view-versus-a-copy\n",
      "  dataset.loc[:, 'label'] = (dataset[target_label] < target_value).astype(int)\n"
     ]
    },
    {
     "name": "stdout",
     "output_type": "stream",
     "text": [
      "label\n",
      "0    28794\n",
      "1    26336\n",
      "Name: count, dtype: int64\n",
      "126 111 134 79\n",
      "{'model_name': 'MAP_1d:RM220_TSSIM1_TL15-EXP_custHypTP0.48', 'deployment_date': '2023-06-12', 'algorithm_type': 'xgboost', 'dataset': 'MAP_1d:RM220_TSSIM1_TL15-EXP_custHypTP0.48', 'TP': 126, 'TPpct': Decimal('0'), 'FP': 111, 'FPpct': Decimal('0'), 'TN': 134, 'TNpct': Decimal('0'), 'FN': 79, 'FNpct': Decimal('0'), 'precision_ratio': Decimal('1.135135135135135'), 'evaluation_timeperiod': '2023-06-12_2023-06-16', 'live': False, 'hyperparameters': {\"{'subsample': 0.6, 'num_round': 1000, 'min_child_weight': 10, 'max_depth': 10, 'learning_rate': 0.1, 'gamma': 2, 'colsample_bytree': 1}\"}, 'features': {\"['oneD_stddev50', 'rsi', 'close_diff', 'daily_volume_vol_diff_pct30', 'range_vol_diff5', 'SPY_diff', 'threeD_stddev50', 'close_diff3', 'min_volume_vol_diff_pct', 'month', 'return_vol_240M', 'range_vol', 'rsi5', 'roc', 'SPY_3D', 'roc5', 'roc_diff', 'price_25DDiff', 'daily_volume_vol_diff_pct', 'price_10DDiff', 'SPY_1D', 'hour_volume_vol_diff', 'hour_volume_vol_diff_pct', 'return_vol_10D', 'SPY_5D']\"}, 'target': '-0.014+one_min', 'feature_importances': \"[{'oneD_stddev50': 0.07251079}, {'rsi': 0.033925876}, {'close_diff': 0.030270098}, {'daily_volume_vol_diff_pct30': 0.030141471}, {'range_vol_diff5': 0.03192658}, {'SPY_diff': 0.028813802}, {'threeD_stddev50': 0.048099462}, {'close_diff3': 0.03504445}, {'min_volume_vol_diff_pct': 0.02656279}, {'month': 0.036348388}, {'return_vol_240M': 0.11708499}, {'range_vol': 0.07683195}, {'rsi5': 0.03310183}, {'roc': 0.03453738}, {'SPY_3D': 0.034921408}, {'roc5': 0.032171883}, {'roc_diff': 0.033442866}, {'price_25DDiff': 0.0349569}, {'daily_volume_vol_diff_pct': 0.029561797}, {'price_10DDiff': 0.033070657}, {'SPY_1D': 0.035562184}, {'hour_volume_vol_diff': 0.031542115}, {'hour_volume_vol_diff_pct': 0.030011194}, {'return_vol_10D': 0.035178997}, {'SPY_5D': 0.034380246}]\"}\n",
      "{'deployment_date': datetime.datetime(2023, 6, 19, 0, 0), 'dataset_end': datetime.datetime(2023, 6, 9, 0, 0), 'dataset_start': datetime.datetime(2018, 1, 1, 0, 0)}\n",
      "-0.014\n",
      "0.4471218097069657\n"
     ]
    },
    {
     "name": "stderr",
     "output_type": "stream",
     "text": [
      "/var/folders/tq/_9q_lv1s2bndbr3tzzn08x4r0000gn/T/ipykernel_13065/1039188303.py:2: SettingWithCopyWarning: \n",
      "A value is trying to be set on a copy of a slice from a DataFrame.\n",
      "Try using .loc[row_indexer,col_indexer] = value instead\n",
      "\n",
      "See the caveats in the documentation: https://pandas.pydata.org/pandas-docs/stable/user_guide/indexing.html#returning-a-view-versus-a-copy\n",
      "  dataset.loc[:, 'label'] = (dataset[target_label] < target_value).astype(int)\n"
     ]
    },
    {
     "name": "stdout",
     "output_type": "stream",
     "text": [
      "label\n",
      "0    28674\n",
      "1    26195\n",
      "Name: count, dtype: int64\n",
      "112 54 91 103\n",
      "{'model_name': 'MAP_1d:RM220_TSSIM1_TL15-EXP_custHypTP0.48', 'deployment_date': '2023-06-19', 'algorithm_type': 'xgboost', 'dataset': 'MAP_1d:RM220_TSSIM1_TL15-EXP_custHypTP0.48', 'TP': 112, 'TPpct': Decimal('0'), 'FP': 54, 'FPpct': Decimal('0'), 'TN': 91, 'TNpct': Decimal('0'), 'FN': 103, 'FNpct': Decimal('0'), 'precision_ratio': Decimal('2.074074074074074'), 'evaluation_timeperiod': '2023-06-19_2023-06-23', 'live': False, 'hyperparameters': {\"{'subsample': 0.6, 'num_round': 1000, 'min_child_weight': 10, 'max_depth': 10, 'learning_rate': 0.1, 'gamma': 2, 'colsample_bytree': 1}\"}, 'features': {\"['oneD_stddev50', 'rsi', 'close_diff', 'daily_volume_vol_diff_pct30', 'range_vol_diff5', 'SPY_diff', 'threeD_stddev50', 'close_diff3', 'min_volume_vol_diff_pct', 'month', 'return_vol_240M', 'range_vol', 'rsi5', 'roc', 'SPY_3D', 'roc5', 'roc_diff', 'price_25DDiff', 'daily_volume_vol_diff_pct', 'price_10DDiff', 'SPY_1D', 'hour_volume_vol_diff', 'hour_volume_vol_diff_pct', 'return_vol_10D', 'SPY_5D']\"}, 'target': '-0.014+one_min', 'feature_importances': \"[{'oneD_stddev50': 0.064300425}, {'rsi': 0.033043608}, {'close_diff': 0.031231847}, {'daily_volume_vol_diff_pct30': 0.03006961}, {'range_vol_diff5': 0.03138524}, {'SPY_diff': 0.029520722}, {'threeD_stddev50': 0.0497217}, {'close_diff3': 0.033587825}, {'min_volume_vol_diff_pct': 0.02701603}, {'month': 0.036972478}, {'return_vol_240M': 0.13404316}, {'range_vol': 0.06978621}, {'rsi5': 0.031993825}, {'roc': 0.033305712}, {'SPY_3D': 0.03532042}, {'roc5': 0.03337149}, {'roc_diff': 0.03447025}, {'price_25DDiff': 0.035758223}, {'daily_volume_vol_diff_pct': 0.028906967}, {'price_10DDiff': 0.033179507}, {'SPY_1D': 0.035084434}, {'hour_volume_vol_diff': 0.02998595}, {'hour_volume_vol_diff_pct': 0.0295161}, {'return_vol_10D': 0.034230627}, {'SPY_5D': 0.034197688}]\"}\n",
      "{'deployment_date': datetime.datetime(2023, 6, 26, 0, 0), 'dataset_end': datetime.datetime(2023, 6, 16, 0, 0), 'dataset_start': datetime.datetime(2018, 1, 1, 0, 0)}\n",
      "-0.016\n",
      "0.5666742445155318\n"
     ]
    },
    {
     "name": "stderr",
     "output_type": "stream",
     "text": [
      "/var/folders/tq/_9q_lv1s2bndbr3tzzn08x4r0000gn/T/ipykernel_13065/1039188303.py:2: SettingWithCopyWarning: \n",
      "A value is trying to be set on a copy of a slice from a DataFrame.\n",
      "Try using .loc[row_indexer,col_indexer] = value instead\n",
      "\n",
      "See the caveats in the documentation: https://pandas.pydata.org/pandas-docs/stable/user_guide/indexing.html#returning-a-view-versus-a-copy\n",
      "  dataset.loc[:, 'label'] = (dataset[target_label] < target_value).astype(int)\n"
     ]
    },
    {
     "name": "stdout",
     "output_type": "stream",
     "text": [
      "label\n",
      "0    36625\n",
      "1    33170\n",
      "Name: count, dtype: int64\n",
      "66 122 218 44\n",
      "{'model_name': 'MAP_1d:RM220_TSSIM1_TL15-EXP_custHypTP0.48', 'deployment_date': '2023-06-26', 'algorithm_type': 'xgboost', 'dataset': 'MAP_1d:RM220_TSSIM1_TL15-EXP_custHypTP0.48', 'TP': 66, 'TPpct': Decimal('0'), 'FP': 122, 'FPpct': Decimal('0'), 'TN': 218, 'TNpct': Decimal('0'), 'FN': 44, 'FNpct': Decimal('0'), 'precision_ratio': Decimal('0.5409836065573771'), 'evaluation_timeperiod': '2023-06-26_2023-06-30', 'live': False, 'hyperparameters': {\"{'subsample': 0.6, 'num_round': 1000, 'min_child_weight': 10, 'max_depth': 10, 'learning_rate': 0.1, 'gamma': 2, 'colsample_bytree': 1}\"}, 'features': {\"['oneD_stddev50', 'rsi', 'close_diff', 'daily_volume_vol_diff_pct30', 'range_vol_diff5', 'SPY_diff', 'threeD_stddev50', 'close_diff3', 'min_volume_vol_diff_pct', 'month', 'return_vol_240M', 'range_vol', 'rsi5', 'roc', 'SPY_3D', 'roc5', 'roc_diff', 'price_25DDiff', 'daily_volume_vol_diff_pct', 'price_10DDiff', 'SPY_1D', 'hour_volume_vol_diff', 'hour_volume_vol_diff_pct', 'return_vol_10D', 'SPY_5D']\"}, 'target': '-0.016+one_min', 'feature_importances': \"[{'oneD_stddev50': 0.03706019}, {'rsi': 0.032128967}, {'close_diff': 0.030909605}, {'daily_volume_vol_diff_pct30': 0.029833542}, {'range_vol_diff5': 0.03162923}, {'SPY_diff': 0.027837234}, {'threeD_stddev50': 0.048176505}, {'close_diff3': 0.033153564}, {'min_volume_vol_diff_pct': 0.025342908}, {'month': 0.036251314}, {'return_vol_240M': 0.19173433}, {'range_vol': 0.045187134}, {'rsi5': 0.0337087}, {'roc': 0.032708406}, {'SPY_3D': 0.03591787}, {'roc5': 0.03221443}, {'roc_diff': 0.03320434}, {'price_25DDiff': 0.035080437}, {'daily_volume_vol_diff_pct': 0.028932113}, {'price_10DDiff': 0.033107612}, {'SPY_1D': 0.035874084}, {'hour_volume_vol_diff': 0.028373824}, {'hour_volume_vol_diff_pct': 0.029027421}, {'return_vol_10D': 0.037347235}, {'SPY_5D': 0.035259064}]\"}\n",
      "{'deployment_date': datetime.datetime(2023, 7, 3, 0, 0), 'dataset_end': datetime.datetime(2023, 6, 23, 0, 0), 'dataset_start': datetime.datetime(2018, 1, 1, 0, 0)}\n",
      "-0.016\n",
      "0.5679371144536373\n"
     ]
    },
    {
     "name": "stderr",
     "output_type": "stream",
     "text": [
      "/var/folders/tq/_9q_lv1s2bndbr3tzzn08x4r0000gn/T/ipykernel_13065/1039188303.py:2: SettingWithCopyWarning: \n",
      "A value is trying to be set on a copy of a slice from a DataFrame.\n",
      "Try using .loc[row_indexer,col_indexer] = value instead\n",
      "\n",
      "See the caveats in the documentation: https://pandas.pydata.org/pandas-docs/stable/user_guide/indexing.html#returning-a-view-versus-a-copy\n",
      "  dataset.loc[:, 'label'] = (dataset[target_label] < target_value).astype(int)\n"
     ]
    },
    {
     "name": "stdout",
     "output_type": "stream",
     "text": [
      "label\n",
      "0    36790\n",
      "1    33365\n",
      "Name: count, dtype: int64\n",
      "43 40 158 119\n",
      "{'model_name': 'MAP_1d:RM220_TSSIM1_TL15-EXP_custHypTP0.48', 'deployment_date': '2023-07-03', 'algorithm_type': 'xgboost', 'dataset': 'MAP_1d:RM220_TSSIM1_TL15-EXP_custHypTP0.48', 'TP': 43, 'TPpct': Decimal('0'), 'FP': 40, 'FPpct': Decimal('0'), 'TN': 158, 'TNpct': Decimal('0'), 'FN': 119, 'FNpct': Decimal('0'), 'precision_ratio': Decimal('1.075'), 'evaluation_timeperiod': '2023-07-03_2023-07-07', 'live': False, 'hyperparameters': {\"{'subsample': 0.6, 'num_round': 1000, 'min_child_weight': 10, 'max_depth': 10, 'learning_rate': 0.1, 'gamma': 2, 'colsample_bytree': 1}\"}, 'features': {\"['oneD_stddev50', 'rsi', 'close_diff', 'daily_volume_vol_diff_pct30', 'range_vol_diff5', 'SPY_diff', 'threeD_stddev50', 'close_diff3', 'min_volume_vol_diff_pct', 'month', 'return_vol_240M', 'range_vol', 'rsi5', 'roc', 'SPY_3D', 'roc5', 'roc_diff', 'price_25DDiff', 'daily_volume_vol_diff_pct', 'price_10DDiff', 'SPY_1D', 'hour_volume_vol_diff', 'hour_volume_vol_diff_pct', 'return_vol_10D', 'SPY_5D']\"}, 'target': '-0.016+one_min', 'feature_importances': \"[{'oneD_stddev50': 0.03817589}, {'rsi': 0.03389779}, {'close_diff': 0.031618576}, {'daily_volume_vol_diff_pct30': 0.029289957}, {'range_vol_diff5': 0.032146182}, {'SPY_diff': 0.028842945}, {'threeD_stddev50': 0.046415985}, {'close_diff3': 0.033449348}, {'min_volume_vol_diff_pct': 0.02625435}, {'month': 0.036170907}, {'return_vol_240M': 0.17900726}, {'range_vol': 0.047822952}, {'rsi5': 0.03384386}, {'roc': 0.03391253}, {'SPY_3D': 0.03591955}, {'roc5': 0.03195164}, {'roc_diff': 0.03466139}, {'price_25DDiff': 0.03460575}, {'daily_volume_vol_diff_pct': 0.029980548}, {'price_10DDiff': 0.033380583}, {'SPY_1D': 0.03624524}, {'hour_volume_vol_diff': 0.029736497}, {'hour_volume_vol_diff_pct': 0.028186861}, {'return_vol_10D': 0.038238168}, {'SPY_5D': 0.036245283}]\"}\n",
      "{'deployment_date': datetime.datetime(2023, 7, 10, 0, 0), 'dataset_end': datetime.datetime(2023, 6, 30, 0, 0), 'dataset_start': datetime.datetime(2018, 1, 1, 0, 0)}\n",
      "-0.016\n",
      "0.37828289346325095\n"
     ]
    },
    {
     "name": "stderr",
     "output_type": "stream",
     "text": [
      "/var/folders/tq/_9q_lv1s2bndbr3tzzn08x4r0000gn/T/ipykernel_13065/1039188303.py:2: SettingWithCopyWarning: \n",
      "A value is trying to be set on a copy of a slice from a DataFrame.\n",
      "Try using .loc[row_indexer,col_indexer] = value instead\n",
      "\n",
      "See the caveats in the documentation: https://pandas.pydata.org/pandas-docs/stable/user_guide/indexing.html#returning-a-view-versus-a-copy\n",
      "  dataset.loc[:, 'label'] = (dataset[target_label] < target_value).astype(int)\n"
     ]
    },
    {
     "name": "stdout",
     "output_type": "stream",
     "text": [
      "label\n",
      "0    23912\n",
      "1    22986\n",
      "Name: count, dtype: int64\n",
      "57 69 221 103\n",
      "{'model_name': 'MAP_1d:RM220_TSSIM1_TL15-EXP_custHypTP0.48', 'deployment_date': '2023-07-10', 'algorithm_type': 'xgboost', 'dataset': 'MAP_1d:RM220_TSSIM1_TL15-EXP_custHypTP0.48', 'TP': 57, 'TPpct': Decimal('0'), 'FP': 69, 'FPpct': Decimal('0'), 'TN': 221, 'TNpct': Decimal('0'), 'FN': 103, 'FNpct': Decimal('0'), 'precision_ratio': Decimal('0.8260869565217391'), 'evaluation_timeperiod': '2023-07-10_2023-07-14', 'live': False, 'hyperparameters': {\"{'subsample': 0.6, 'num_round': 1000, 'min_child_weight': 10, 'max_depth': 10, 'learning_rate': 0.1, 'gamma': 2, 'colsample_bytree': 1}\"}, 'features': {\"['oneD_stddev50', 'rsi', 'close_diff', 'daily_volume_vol_diff_pct30', 'range_vol_diff5', 'SPY_diff', 'threeD_stddev50', 'close_diff3', 'min_volume_vol_diff_pct', 'month', 'return_vol_240M', 'range_vol', 'rsi5', 'roc', 'SPY_3D', 'roc5', 'roc_diff', 'price_25DDiff', 'daily_volume_vol_diff_pct', 'price_10DDiff', 'SPY_1D', 'hour_volume_vol_diff', 'hour_volume_vol_diff_pct', 'return_vol_10D', 'SPY_5D']\"}, 'target': '-0.016+one_min', 'feature_importances': \"[{'oneD_stddev50': 0.047304306}, {'rsi': 0.034610577}, {'close_diff': 0.033360407}, {'daily_volume_vol_diff_pct30': 0.030182227}, {'range_vol_diff5': 0.031122454}, {'SPY_diff': 0.028456261}, {'threeD_stddev50': 0.036964945}, {'close_diff3': 0.03636732}, {'min_volume_vol_diff_pct': 0.027646923}, {'month': 0.041769523}, {'return_vol_240M': 0.15694374}, {'range_vol': 0.036950186}, {'rsi5': 0.033055715}, {'roc': 0.03551986}, {'SPY_3D': 0.041423004}, {'roc5': 0.034795735}, {'roc_diff': 0.03622082}, {'price_25DDiff': 0.034364205}, {'daily_volume_vol_diff_pct': 0.03160028}, {'price_10DDiff': 0.03449409}, {'SPY_1D': 0.039584745}, {'hour_volume_vol_diff': 0.030812422}, {'hour_volume_vol_diff_pct': 0.031322606}, {'return_vol_10D': 0.036473814}, {'SPY_5D': 0.038653802}]\"}\n",
      "{'deployment_date': datetime.datetime(2023, 7, 17, 0, 0), 'dataset_end': datetime.datetime(2023, 7, 7, 0, 0), 'dataset_start': datetime.datetime(2018, 1, 1, 0, 0)}\n",
      "-0.017\n",
      "0.38875305623471884\n"
     ]
    },
    {
     "name": "stderr",
     "output_type": "stream",
     "text": [
      "/var/folders/tq/_9q_lv1s2bndbr3tzzn08x4r0000gn/T/ipykernel_13065/1039188303.py:2: SettingWithCopyWarning: \n",
      "A value is trying to be set on a copy of a slice from a DataFrame.\n",
      "Try using .loc[row_indexer,col_indexer] = value instead\n",
      "\n",
      "See the caveats in the documentation: https://pandas.pydata.org/pandas-docs/stable/user_guide/indexing.html#returning-a-view-versus-a-copy\n",
      "  dataset.loc[:, 'label'] = (dataset[target_label] < target_value).astype(int)\n"
     ]
    },
    {
     "name": "stdout",
     "output_type": "stream",
     "text": [
      "label\n",
      "0    25515\n",
      "1    22821\n",
      "Name: count, dtype: int64\n",
      "104 65 158 117\n",
      "{'model_name': 'MAP_1d:RM220_TSSIM1_TL15-EXP_custHypTP0.48', 'deployment_date': '2023-07-17', 'algorithm_type': 'xgboost', 'dataset': 'MAP_1d:RM220_TSSIM1_TL15-EXP_custHypTP0.48', 'TP': 104, 'TPpct': Decimal('0'), 'FP': 65, 'FPpct': Decimal('0'), 'TN': 158, 'TNpct': Decimal('0'), 'FN': 117, 'FNpct': Decimal('0'), 'precision_ratio': Decimal('1.6'), 'evaluation_timeperiod': '2023-07-17_2023-07-21', 'live': False, 'hyperparameters': {\"{'subsample': 0.6, 'num_round': 1000, 'min_child_weight': 10, 'max_depth': 10, 'learning_rate': 0.1, 'gamma': 2, 'colsample_bytree': 1}\"}, 'features': {\"['oneD_stddev50', 'rsi', 'close_diff', 'daily_volume_vol_diff_pct30', 'range_vol_diff5', 'SPY_diff', 'threeD_stddev50', 'close_diff3', 'min_volume_vol_diff_pct', 'month', 'return_vol_240M', 'range_vol', 'rsi5', 'roc', 'SPY_3D', 'roc5', 'roc_diff', 'price_25DDiff', 'daily_volume_vol_diff_pct', 'price_10DDiff', 'SPY_1D', 'hour_volume_vol_diff', 'hour_volume_vol_diff_pct', 'return_vol_10D', 'SPY_5D']\"}, 'target': '-0.017+one_min', 'feature_importances': \"[{'oneD_stddev50': 0.042652037}, {'rsi': 0.034178894}, {'close_diff': 0.031721536}, {'daily_volume_vol_diff_pct30': 0.03100541}, {'range_vol_diff5': 0.031972256}, {'SPY_diff': 0.029360235}, {'threeD_stddev50': 0.035391245}, {'close_diff3': 0.035544474}, {'min_volume_vol_diff_pct': 0.027832069}, {'month': 0.040429845}, {'return_vol_240M': 0.16539969}, {'range_vol': 0.03748631}, {'rsi5': 0.033459943}, {'roc': 0.035427697}, {'SPY_3D': 0.040801715}, {'roc5': 0.034910683}, {'roc_diff': 0.035838082}, {'price_25DDiff': 0.03387019}, {'daily_volume_vol_diff_pct': 0.02987979}, {'price_10DDiff': 0.035656422}, {'SPY_1D': 0.039805442}, {'hour_volume_vol_diff': 0.031278484}, {'hour_volume_vol_diff_pct': 0.029413292}, {'return_vol_10D': 0.03656327}, {'SPY_5D': 0.040121026}]\"}\n",
      "{'deployment_date': datetime.datetime(2023, 7, 24, 0, 0), 'dataset_end': datetime.datetime(2023, 7, 14, 0, 0), 'dataset_start': datetime.datetime(2018, 1, 1, 0, 0)}\n",
      "-0.014\n",
      "0.4627041495039508\n"
     ]
    },
    {
     "name": "stderr",
     "output_type": "stream",
     "text": [
      "/var/folders/tq/_9q_lv1s2bndbr3tzzn08x4r0000gn/T/ipykernel_13065/1039188303.py:2: SettingWithCopyWarning: \n",
      "A value is trying to be set on a copy of a slice from a DataFrame.\n",
      "Try using .loc[row_indexer,col_indexer] = value instead\n",
      "\n",
      "See the caveats in the documentation: https://pandas.pydata.org/pandas-docs/stable/user_guide/indexing.html#returning-a-view-versus-a-copy\n",
      "  dataset.loc[:, 'label'] = (dataset[target_label] < target_value).astype(int)\n"
     ]
    },
    {
     "name": "stdout",
     "output_type": "stream",
     "text": [
      "label\n",
      "0    30225\n",
      "1    27514\n",
      "Name: count, dtype: int64\n",
      "98 94 132 126\n",
      "{'model_name': 'MAP_1d:RM220_TSSIM1_TL15-EXP_custHypTP0.48', 'deployment_date': '2023-07-24', 'algorithm_type': 'xgboost', 'dataset': 'MAP_1d:RM220_TSSIM1_TL15-EXP_custHypTP0.48', 'TP': 98, 'TPpct': Decimal('0'), 'FP': 94, 'FPpct': Decimal('0'), 'TN': 132, 'TNpct': Decimal('0'), 'FN': 126, 'FNpct': Decimal('0'), 'precision_ratio': Decimal('1.0425531914893618'), 'evaluation_timeperiod': '2023-07-24_2023-07-28', 'live': False, 'hyperparameters': {\"{'subsample': 0.6, 'num_round': 1000, 'min_child_weight': 10, 'max_depth': 10, 'learning_rate': 0.1, 'gamma': 2, 'colsample_bytree': 1}\"}, 'features': {\"['oneD_stddev50', 'rsi', 'close_diff', 'daily_volume_vol_diff_pct30', 'range_vol_diff5', 'SPY_diff', 'threeD_stddev50', 'close_diff3', 'min_volume_vol_diff_pct', 'month', 'return_vol_240M', 'range_vol', 'rsi5', 'roc', 'SPY_3D', 'roc5', 'roc_diff', 'price_25DDiff', 'daily_volume_vol_diff_pct', 'price_10DDiff', 'SPY_1D', 'hour_volume_vol_diff', 'hour_volume_vol_diff_pct', 'return_vol_10D', 'SPY_5D']\"}, 'target': '-0.014+one_min', 'feature_importances': \"[{'oneD_stddev50': 0.07431409}, {'rsi': 0.033138312}, {'close_diff': 0.032498308}, {'daily_volume_vol_diff_pct30': 0.030121772}, {'range_vol_diff5': 0.032209814}, {'SPY_diff': 0.028695794}, {'threeD_stddev50': 0.05223799}, {'close_diff3': 0.033318605}, {'min_volume_vol_diff_pct': 0.026063453}, {'month': 0.037348077}, {'return_vol_240M': 0.100970015}, {'range_vol': 0.08313974}, {'rsi5': 0.03378793}, {'roc': 0.034078702}, {'SPY_3D': 0.035690617}, {'roc5': 0.0330225}, {'roc_diff': 0.034914028}, {'price_25DDiff': 0.034964304}, {'daily_volume_vol_diff_pct': 0.030024404}, {'price_10DDiff': 0.03374277}, {'SPY_1D': 0.035624832}, {'hour_volume_vol_diff': 0.030682119}, {'hour_volume_vol_diff_pct': 0.030212393}, {'return_vol_10D': 0.03522135}, {'SPY_5D': 0.033978093}]\"}\n",
      "{'deployment_date': datetime.datetime(2023, 7, 31, 0, 0), 'dataset_end': datetime.datetime(2023, 7, 21, 0, 0), 'dataset_start': datetime.datetime(2018, 1, 1, 0, 0)}\n",
      "-0.014\n",
      "0.464609119220634\n"
     ]
    },
    {
     "name": "stderr",
     "output_type": "stream",
     "text": [
      "/var/folders/tq/_9q_lv1s2bndbr3tzzn08x4r0000gn/T/ipykernel_13065/1039188303.py:2: SettingWithCopyWarning: \n",
      "A value is trying to be set on a copy of a slice from a DataFrame.\n",
      "Try using .loc[row_indexer,col_indexer] = value instead\n",
      "\n",
      "See the caveats in the documentation: https://pandas.pydata.org/pandas-docs/stable/user_guide/indexing.html#returning-a-view-versus-a-copy\n",
      "  dataset.loc[:, 'label'] = (dataset[target_label] < target_value).astype(int)\n"
     ]
    },
    {
     "name": "stdout",
     "output_type": "stream",
     "text": [
      "label\n",
      "0    30424\n",
      "1    27759\n",
      "Name: count, dtype: int64\n",
      "151 78 66 155\n",
      "{'model_name': 'MAP_1d:RM220_TSSIM1_TL15-EXP_custHypTP0.48', 'deployment_date': '2023-07-31', 'algorithm_type': 'xgboost', 'dataset': 'MAP_1d:RM220_TSSIM1_TL15-EXP_custHypTP0.48', 'TP': 151, 'TPpct': Decimal('0'), 'FP': 78, 'FPpct': Decimal('0'), 'TN': 66, 'TNpct': Decimal('0'), 'FN': 155, 'FNpct': Decimal('0'), 'precision_ratio': Decimal('1.935897435897436'), 'evaluation_timeperiod': '2023-07-31_2023-08-04', 'live': False, 'hyperparameters': {\"{'subsample': 0.6, 'num_round': 1000, 'min_child_weight': 10, 'max_depth': 10, 'learning_rate': 0.1, 'gamma': 2, 'colsample_bytree': 1}\"}, 'features': {\"['oneD_stddev50', 'rsi', 'close_diff', 'daily_volume_vol_diff_pct30', 'range_vol_diff5', 'SPY_diff', 'threeD_stddev50', 'close_diff3', 'min_volume_vol_diff_pct', 'month', 'return_vol_240M', 'range_vol', 'rsi5', 'roc', 'SPY_3D', 'roc5', 'roc_diff', 'price_25DDiff', 'daily_volume_vol_diff_pct', 'price_10DDiff', 'SPY_1D', 'hour_volume_vol_diff', 'hour_volume_vol_diff_pct', 'return_vol_10D', 'SPY_5D']\"}, 'target': '-0.014+one_min', 'feature_importances': \"[{'oneD_stddev50': 0.07594518}, {'rsi': 0.032267373}, {'close_diff': 0.0327905}, {'daily_volume_vol_diff_pct30': 0.030184334}, {'range_vol_diff5': 0.032437805}, {'SPY_diff': 0.028926909}, {'threeD_stddev50': 0.04800338}, {'close_diff3': 0.033686597}, {'min_volume_vol_diff_pct': 0.026514923}, {'month': 0.036779612}, {'return_vol_240M': 0.10880152}, {'range_vol': 0.08047103}, {'rsi5': 0.0335701}, {'roc': 0.03393792}, {'SPY_3D': 0.03649269}, {'roc5': 0.034536265}, {'roc_diff': 0.034346923}, {'price_25DDiff': 0.036041263}, {'daily_volume_vol_diff_pct': 0.029481329}, {'price_10DDiff': 0.033141084}, {'SPY_1D': 0.03363889}, {'hour_volume_vol_diff': 0.030139899}, {'hour_volume_vol_diff_pct': 0.029647814}, {'return_vol_10D': 0.03384038}, {'SPY_5D': 0.034376215}]\"}\n",
      "{'deployment_date': datetime.datetime(2023, 8, 7, 0, 0), 'dataset_end': datetime.datetime(2023, 7, 28, 0, 0), 'dataset_start': datetime.datetime(2018, 1, 1, 0, 0)}\n",
      "-0.018\n",
      "0.4798376830044558\n"
     ]
    },
    {
     "name": "stderr",
     "output_type": "stream",
     "text": [
      "/var/folders/tq/_9q_lv1s2bndbr3tzzn08x4r0000gn/T/ipykernel_13065/1039188303.py:2: SettingWithCopyWarning: \n",
      "A value is trying to be set on a copy of a slice from a DataFrame.\n",
      "Try using .loc[row_indexer,col_indexer] = value instead\n",
      "\n",
      "See the caveats in the documentation: https://pandas.pydata.org/pandas-docs/stable/user_guide/indexing.html#returning-a-view-versus-a-copy\n",
      "  dataset.loc[:, 'label'] = (dataset[target_label] < target_value).astype(int)\n"
     ]
    },
    {
     "name": "stdout",
     "output_type": "stream",
     "text": [
      "label\n",
      "0    30873\n",
      "1    29433\n",
      "Name: count, dtype: int64\n",
      "88 77 187 98\n",
      "{'model_name': 'MAP_1d:RM220_TSSIM1_TL15-EXP_custHypTP0.48', 'deployment_date': '2023-08-07', 'algorithm_type': 'xgboost', 'dataset': 'MAP_1d:RM220_TSSIM1_TL15-EXP_custHypTP0.48', 'TP': 88, 'TPpct': Decimal('0'), 'FP': 77, 'FPpct': Decimal('0'), 'TN': 187, 'TNpct': Decimal('0'), 'FN': 98, 'FNpct': Decimal('0'), 'precision_ratio': Decimal('1.1428571428571428'), 'evaluation_timeperiod': '2023-08-07_2023-08-11', 'live': False, 'hyperparameters': {\"{'subsample': 0.6, 'num_round': 1000, 'min_child_weight': 10, 'max_depth': 10, 'learning_rate': 0.1, 'gamma': 2, 'colsample_bytree': 1}\"}, 'features': {\"['oneD_stddev50', 'rsi', 'close_diff', 'daily_volume_vol_diff_pct30', 'range_vol_diff5', 'SPY_diff', 'threeD_stddev50', 'close_diff3', 'min_volume_vol_diff_pct', 'month', 'return_vol_240M', 'range_vol', 'rsi5', 'roc', 'SPY_3D', 'roc5', 'roc_diff', 'price_25DDiff', 'daily_volume_vol_diff_pct', 'price_10DDiff', 'SPY_1D', 'hour_volume_vol_diff', 'hour_volume_vol_diff_pct', 'return_vol_10D', 'SPY_5D']\"}, 'target': '-0.018+one_min', 'feature_importances': \"[{'oneD_stddev50': 0.039684113}, {'rsi': 0.03397792}, {'close_diff': 0.03171532}, {'daily_volume_vol_diff_pct30': 0.030052247}, {'range_vol_diff5': 0.031302556}, {'SPY_diff': 0.030805765}, {'threeD_stddev50': 0.036607157}, {'close_diff3': 0.035656873}, {'min_volume_vol_diff_pct': 0.027963853}, {'month': 0.042868726}, {'return_vol_240M': 0.16321008}, {'range_vol': 0.035450537}, {'rsi5': 0.034050148}, {'roc': 0.03550202}, {'SPY_3D': 0.04204553}, {'roc5': 0.036356945}, {'roc_diff': 0.036199167}, {'price_25DDiff': 0.034720194}, {'daily_volume_vol_diff_pct': 0.02898017}, {'price_10DDiff': 0.03499831}, {'SPY_1D': 0.041454583}, {'hour_volume_vol_diff': 0.030600838}, {'hour_volume_vol_diff_pct': 0.030832859}, {'return_vol_10D': 0.035850655}, {'SPY_5D': 0.039113425}]\"}\n",
      "{'deployment_date': datetime.datetime(2023, 8, 14, 0, 0), 'dataset_end': datetime.datetime(2023, 8, 4, 0, 0), 'dataset_start': datetime.datetime(2018, 1, 1, 0, 0)}\n",
      "-0.018\n",
      "0.4795528423055578\n"
     ]
    },
    {
     "name": "stderr",
     "output_type": "stream",
     "text": [
      "/var/folders/tq/_9q_lv1s2bndbr3tzzn08x4r0000gn/T/ipykernel_13065/1039188303.py:2: SettingWithCopyWarning: \n",
      "A value is trying to be set on a copy of a slice from a DataFrame.\n",
      "Try using .loc[row_indexer,col_indexer] = value instead\n",
      "\n",
      "See the caveats in the documentation: https://pandas.pydata.org/pandas-docs/stable/user_guide/indexing.html#returning-a-view-versus-a-copy\n",
      "  dataset.loc[:, 'label'] = (dataset[target_label] < target_value).astype(int)\n"
     ]
    },
    {
     "name": "stdout",
     "output_type": "stream",
     "text": [
      "label\n",
      "0    30945\n",
      "1    29541\n",
      "Name: count, dtype: int64\n",
      "52 34 182 182\n",
      "{'model_name': 'MAP_1d:RM220_TSSIM1_TL15-EXP_custHypTP0.48', 'deployment_date': '2023-08-14', 'algorithm_type': 'xgboost', 'dataset': 'MAP_1d:RM220_TSSIM1_TL15-EXP_custHypTP0.48', 'TP': 52, 'TPpct': Decimal('0'), 'FP': 34, 'FPpct': Decimal('0'), 'TN': 182, 'TNpct': Decimal('0'), 'FN': 182, 'FNpct': Decimal('0'), 'precision_ratio': Decimal('1.5294117647058822'), 'evaluation_timeperiod': '2023-08-14_2023-08-18', 'live': False, 'hyperparameters': {\"{'subsample': 0.6, 'num_round': 1000, 'min_child_weight': 10, 'max_depth': 10, 'learning_rate': 0.1, 'gamma': 2, 'colsample_bytree': 1}\"}, 'features': {\"['oneD_stddev50', 'rsi', 'close_diff', 'daily_volume_vol_diff_pct30', 'range_vol_diff5', 'SPY_diff', 'threeD_stddev50', 'close_diff3', 'min_volume_vol_diff_pct', 'month', 'return_vol_240M', 'range_vol', 'rsi5', 'roc', 'SPY_3D', 'roc5', 'roc_diff', 'price_25DDiff', 'daily_volume_vol_diff_pct', 'price_10DDiff', 'SPY_1D', 'hour_volume_vol_diff', 'hour_volume_vol_diff_pct', 'return_vol_10D', 'SPY_5D']\"}, 'target': '-0.018+one_min', 'feature_importances': \"[{'oneD_stddev50': 0.041503586}, {'rsi': 0.035490602}, {'close_diff': 0.033835776}, {'daily_volume_vol_diff_pct30': 0.030364923}, {'range_vol_diff5': 0.0317755}, {'SPY_diff': 0.030330846}, {'threeD_stddev50': 0.03765254}, {'close_diff3': 0.03490527}, {'min_volume_vol_diff_pct': 0.027537921}, {'month': 0.043280106}, {'return_vol_240M': 0.15018146}, {'range_vol': 0.03781992}, {'rsi5': 0.033214744}, {'roc': 0.036250293}, {'SPY_3D': 0.041664824}, {'roc5': 0.035669215}, {'roc_diff': 0.036184862}, {'price_25DDiff': 0.03432798}, {'daily_volume_vol_diff_pct': 0.031041132}, {'price_10DDiff': 0.03602543}, {'SPY_1D': 0.040060926}, {'hour_volume_vol_diff': 0.03212527}, {'hour_volume_vol_diff_pct': 0.031310182}, {'return_vol_10D': 0.036798563}, {'SPY_5D': 0.040648118}]\"}\n",
      "{'deployment_date': datetime.datetime(2023, 8, 21, 0, 0), 'dataset_end': datetime.datetime(2023, 8, 11, 0, 0), 'dataset_start': datetime.datetime(2018, 1, 1, 0, 0)}\n",
      "-0.018\n",
      "0.4792700268604835\n"
     ]
    },
    {
     "name": "stderr",
     "output_type": "stream",
     "text": [
      "/var/folders/tq/_9q_lv1s2bndbr3tzzn08x4r0000gn/T/ipykernel_13065/1039188303.py:2: SettingWithCopyWarning: \n",
      "A value is trying to be set on a copy of a slice from a DataFrame.\n",
      "Try using .loc[row_indexer,col_indexer] = value instead\n",
      "\n",
      "See the caveats in the documentation: https://pandas.pydata.org/pandas-docs/stable/user_guide/indexing.html#returning-a-view-versus-a-copy\n",
      "  dataset.loc[:, 'label'] = (dataset[target_label] < target_value).astype(int)\n"
     ]
    },
    {
     "name": "stdout",
     "output_type": "stream",
     "text": [
      "label\n",
      "0    31086\n",
      "1    29580\n",
      "Name: count, dtype: int64\n",
      "66 57 226 101\n",
      "{'model_name': 'MAP_1d:RM220_TSSIM1_TL15-EXP_custHypTP0.48', 'deployment_date': '2023-08-21', 'algorithm_type': 'xgboost', 'dataset': 'MAP_1d:RM220_TSSIM1_TL15-EXP_custHypTP0.48', 'TP': 66, 'TPpct': Decimal('0'), 'FP': 57, 'FPpct': Decimal('0'), 'TN': 226, 'TNpct': Decimal('0'), 'FN': 101, 'FNpct': Decimal('0'), 'precision_ratio': Decimal('1.1578947368421053'), 'evaluation_timeperiod': '2023-08-21_2023-08-25', 'live': False, 'hyperparameters': {\"{'subsample': 0.6, 'num_round': 1000, 'min_child_weight': 10, 'max_depth': 10, 'learning_rate': 0.1, 'gamma': 2, 'colsample_bytree': 1}\"}, 'features': {\"['oneD_stddev50', 'rsi', 'close_diff', 'daily_volume_vol_diff_pct30', 'range_vol_diff5', 'SPY_diff', 'threeD_stddev50', 'close_diff3', 'min_volume_vol_diff_pct', 'month', 'return_vol_240M', 'range_vol', 'rsi5', 'roc', 'SPY_3D', 'roc5', 'roc_diff', 'price_25DDiff', 'daily_volume_vol_diff_pct', 'price_10DDiff', 'SPY_1D', 'hour_volume_vol_diff', 'hour_volume_vol_diff_pct', 'return_vol_10D', 'SPY_5D']\"}, 'target': '-0.018+one_min', 'feature_importances': \"[{'oneD_stddev50': 0.041692812}, {'rsi': 0.03342269}, {'close_diff': 0.032973144}, {'daily_volume_vol_diff_pct30': 0.031594668}, {'range_vol_diff5': 0.031688374}, {'SPY_diff': 0.03031577}, {'threeD_stddev50': 0.035634857}, {'close_diff3': 0.03465167}, {'min_volume_vol_diff_pct': 0.027670499}, {'month': 0.042402823}, {'return_vol_240M': 0.16062047}, {'range_vol': 0.03580589}, {'rsi5': 0.035963044}, {'roc': 0.03382876}, {'SPY_3D': 0.04108414}, {'roc5': 0.03459363}, {'roc_diff': 0.035714217}, {'price_25DDiff': 0.034777638}, {'daily_volume_vol_diff_pct': 0.030342191}, {'price_10DDiff': 0.036392465}, {'SPY_1D': 0.03978961}, {'hour_volume_vol_diff': 0.031199733}, {'hour_volume_vol_diff_pct': 0.030916477}, {'return_vol_10D': 0.036166992}, {'SPY_5D': 0.04075739}]\"}\n",
      "{'deployment_date': datetime.datetime(2023, 8, 28, 0, 0), 'dataset_end': datetime.datetime(2023, 8, 18, 0, 0), 'dataset_start': datetime.datetime(2018, 1, 1, 0, 0)}\n",
      "-0.018\n",
      "0.4804062032590727\n"
     ]
    },
    {
     "name": "stderr",
     "output_type": "stream",
     "text": [
      "/var/folders/tq/_9q_lv1s2bndbr3tzzn08x4r0000gn/T/ipykernel_13065/1039188303.py:2: SettingWithCopyWarning: \n",
      "A value is trying to be set on a copy of a slice from a DataFrame.\n",
      "Try using .loc[row_indexer,col_indexer] = value instead\n",
      "\n",
      "See the caveats in the documentation: https://pandas.pydata.org/pandas-docs/stable/user_guide/indexing.html#returning-a-view-versus-a-copy\n",
      "  dataset.loc[:, 'label'] = (dataset[target_label] < target_value).astype(int)\n"
     ]
    },
    {
     "name": "stdout",
     "output_type": "stream",
     "text": [
      "label\n",
      "0    31274\n",
      "1    29752\n",
      "Name: count, dtype: int64\n",
      "38 67 317 28\n",
      "{'model_name': 'MAP_1d:RM220_TSSIM1_TL15-EXP_custHypTP0.48', 'deployment_date': '2023-08-28', 'algorithm_type': 'xgboost', 'dataset': 'MAP_1d:RM220_TSSIM1_TL15-EXP_custHypTP0.48', 'TP': 38, 'TPpct': Decimal('0'), 'FP': 67, 'FPpct': Decimal('0'), 'TN': 317, 'TNpct': Decimal('0'), 'FN': 28, 'FNpct': Decimal('0'), 'precision_ratio': Decimal('0.5671641791044776'), 'evaluation_timeperiod': '2023-08-28_2023-09-01', 'live': False, 'hyperparameters': {\"{'subsample': 0.6, 'num_round': 1000, 'min_child_weight': 10, 'max_depth': 10, 'learning_rate': 0.1, 'gamma': 2, 'colsample_bytree': 1}\"}, 'features': {\"['oneD_stddev50', 'rsi', 'close_diff', 'daily_volume_vol_diff_pct30', 'range_vol_diff5', 'SPY_diff', 'threeD_stddev50', 'close_diff3', 'min_volume_vol_diff_pct', 'month', 'return_vol_240M', 'range_vol', 'rsi5', 'roc', 'SPY_3D', 'roc5', 'roc_diff', 'price_25DDiff', 'daily_volume_vol_diff_pct', 'price_10DDiff', 'SPY_1D', 'hour_volume_vol_diff', 'hour_volume_vol_diff_pct', 'return_vol_10D', 'SPY_5D']\"}, 'target': '-0.018+one_min', 'feature_importances': \"[{'oneD_stddev50': 0.041726947}, {'rsi': 0.03389304}, {'close_diff': 0.03202452}, {'daily_volume_vol_diff_pct30': 0.030712143}, {'range_vol_diff5': 0.031263012}, {'SPY_diff': 0.029900279}, {'threeD_stddev50': 0.036157746}, {'close_diff3': 0.034056623}, {'min_volume_vol_diff_pct': 0.026440142}, {'month': 0.04195451}, {'return_vol_240M': 0.16729876}, {'range_vol': 0.03529183}, {'rsi5': 0.033600174}, {'roc': 0.035724524}, {'SPY_3D': 0.03932309}, {'roc5': 0.035173506}, {'roc_diff': 0.034905247}, {'price_25DDiff': 0.03493658}, {'daily_volume_vol_diff_pct': 0.030119145}, {'price_10DDiff': 0.03679635}, {'SPY_1D': 0.039384186}, {'hour_volume_vol_diff': 0.031418018}, {'hour_volume_vol_diff_pct': 0.030320892}, {'return_vol_10D': 0.03673696}, {'SPY_5D': 0.04084175}]\"}\n",
      "{'deployment_date': datetime.datetime(2023, 9, 4, 0, 0), 'dataset_end': datetime.datetime(2023, 8, 25, 0, 0), 'dataset_start': datetime.datetime(2018, 1, 1, 0, 0)}\n",
      "-0.017\n",
      "0.3827110134923125\n"
     ]
    },
    {
     "name": "stderr",
     "output_type": "stream",
     "text": [
      "/var/folders/tq/_9q_lv1s2bndbr3tzzn08x4r0000gn/T/ipykernel_13065/1039188303.py:2: SettingWithCopyWarning: \n",
      "A value is trying to be set on a copy of a slice from a DataFrame.\n",
      "Try using .loc[row_indexer,col_indexer] = value instead\n",
      "\n",
      "See the caveats in the documentation: https://pandas.pydata.org/pandas-docs/stable/user_guide/indexing.html#returning-a-view-versus-a-copy\n",
      "  dataset.loc[:, 'label'] = (dataset[target_label] < target_value).astype(int)\n"
     ]
    },
    {
     "name": "stdout",
     "output_type": "stream",
     "text": [
      "label\n",
      "0    25566\n",
      "1    23222\n",
      "Name: count, dtype: int64\n",
      "69 70 134 81\n",
      "{'model_name': 'MAP_1d:RM220_TSSIM1_TL15-EXP_custHypTP0.48', 'deployment_date': '2023-09-04', 'algorithm_type': 'xgboost', 'dataset': 'MAP_1d:RM220_TSSIM1_TL15-EXP_custHypTP0.48', 'TP': 69, 'TPpct': Decimal('0'), 'FP': 70, 'FPpct': Decimal('0'), 'TN': 134, 'TNpct': Decimal('0'), 'FN': 81, 'FNpct': Decimal('0'), 'precision_ratio': Decimal('0.9857142857142858'), 'evaluation_timeperiod': '2023-09-04_2023-09-08', 'live': False, 'hyperparameters': {\"{'subsample': 0.6, 'num_round': 1000, 'min_child_weight': 10, 'max_depth': 10, 'learning_rate': 0.1, 'gamma': 2, 'colsample_bytree': 1}\"}, 'features': {\"['oneD_stddev50', 'rsi', 'close_diff', 'daily_volume_vol_diff_pct30', 'range_vol_diff5', 'SPY_diff', 'threeD_stddev50', 'close_diff3', 'min_volume_vol_diff_pct', 'month', 'return_vol_240M', 'range_vol', 'rsi5', 'roc', 'SPY_3D', 'roc5', 'roc_diff', 'price_25DDiff', 'daily_volume_vol_diff_pct', 'price_10DDiff', 'SPY_1D', 'hour_volume_vol_diff', 'hour_volume_vol_diff_pct', 'return_vol_10D', 'SPY_5D']\"}, 'target': '-0.017+one_min', 'feature_importances': \"[{'oneD_stddev50': 0.041482724}, {'rsi': 0.034954157}, {'close_diff': 0.03250189}, {'daily_volume_vol_diff_pct30': 0.029805606}, {'range_vol_diff5': 0.031300526}, {'SPY_diff': 0.029085793}, {'threeD_stddev50': 0.036237}, {'close_diff3': 0.03419987}, {'min_volume_vol_diff_pct': 0.027159061}, {'month': 0.041639816}, {'return_vol_240M': 0.16618825}, {'range_vol': 0.040479388}, {'rsi5': 0.03460785}, {'roc': 0.034718364}, {'SPY_3D': 0.038575914}, {'roc5': 0.033885468}, {'roc_diff': 0.036250476}, {'price_25DDiff': 0.033319827}, {'daily_volume_vol_diff_pct': 0.030549577}, {'price_10DDiff': 0.035884906}, {'SPY_1D': 0.03969744}, {'hour_volume_vol_diff': 0.030812075}, {'hour_volume_vol_diff_pct': 0.030707048}, {'return_vol_10D': 0.035998937}, {'SPY_5D': 0.039958034}]\"}\n",
      "{'deployment_date': datetime.datetime(2023, 9, 11, 0, 0), 'dataset_end': datetime.datetime(2023, 9, 1, 0, 0), 'dataset_start': datetime.datetime(2018, 1, 1, 0, 0)}\n",
      "-0.017\n",
      "0.38134917533025875\n"
     ]
    },
    {
     "name": "stderr",
     "output_type": "stream",
     "text": [
      "/var/folders/tq/_9q_lv1s2bndbr3tzzn08x4r0000gn/T/ipykernel_13065/1039188303.py:2: SettingWithCopyWarning: \n",
      "A value is trying to be set on a copy of a slice from a DataFrame.\n",
      "Try using .loc[row_indexer,col_indexer] = value instead\n",
      "\n",
      "See the caveats in the documentation: https://pandas.pydata.org/pandas-docs/stable/user_guide/indexing.html#returning-a-view-versus-a-copy\n",
      "  dataset.loc[:, 'label'] = (dataset[target_label] < target_value).astype(int)\n"
     ]
    },
    {
     "name": "stdout",
     "output_type": "stream",
     "text": [
      "label\n",
      "0    25769\n",
      "1    23017\n",
      "Name: count, dtype: int64\n",
      "104 71 184 91\n",
      "{'model_name': 'MAP_1d:RM220_TSSIM1_TL15-EXP_custHypTP0.48', 'deployment_date': '2023-09-11', 'algorithm_type': 'xgboost', 'dataset': 'MAP_1d:RM220_TSSIM1_TL15-EXP_custHypTP0.48', 'TP': 104, 'TPpct': Decimal('0'), 'FP': 71, 'FPpct': Decimal('0'), 'TN': 184, 'TNpct': Decimal('0'), 'FN': 91, 'FNpct': Decimal('0'), 'precision_ratio': Decimal('1.4647887323943662'), 'evaluation_timeperiod': '2023-09-11_2023-09-15', 'live': False, 'hyperparameters': {\"{'subsample': 0.6, 'num_round': 1000, 'min_child_weight': 10, 'max_depth': 10, 'learning_rate': 0.1, 'gamma': 2, 'colsample_bytree': 1}\"}, 'features': {\"['oneD_stddev50', 'rsi', 'close_diff', 'daily_volume_vol_diff_pct30', 'range_vol_diff5', 'SPY_diff', 'threeD_stddev50', 'close_diff3', 'min_volume_vol_diff_pct', 'month', 'return_vol_240M', 'range_vol', 'rsi5', 'roc', 'SPY_3D', 'roc5', 'roc_diff', 'price_25DDiff', 'daily_volume_vol_diff_pct', 'price_10DDiff', 'SPY_1D', 'hour_volume_vol_diff', 'hour_volume_vol_diff_pct', 'return_vol_10D', 'SPY_5D']\"}, 'target': '-0.017+one_min', 'feature_importances': \"[{'oneD_stddev50': 0.04385431}, {'rsi': 0.033617344}, {'close_diff': 0.031829655}, {'daily_volume_vol_diff_pct30': 0.030194085}, {'range_vol_diff5': 0.031638443}, {'SPY_diff': 0.029762356}, {'threeD_stddev50': 0.036390077}, {'close_diff3': 0.035423137}, {'min_volume_vol_diff_pct': 0.028052347}, {'month': 0.042313993}, {'return_vol_240M': 0.1649862}, {'range_vol': 0.038619205}, {'rsi5': 0.03359126}, {'roc': 0.03359223}, {'SPY_3D': 0.038642444}, {'roc5': 0.034285445}, {'roc_diff': 0.034623012}, {'price_25DDiff': 0.034412917}, {'daily_volume_vol_diff_pct': 0.030031722}, {'price_10DDiff': 0.034690484}, {'SPY_1D': 0.04000237}, {'hour_volume_vol_diff': 0.033026367}, {'hour_volume_vol_diff_pct': 0.030751057}, {'return_vol_10D': 0.03614198}, {'SPY_5D': 0.039527535}]\"}\n",
      "{'deployment_date': datetime.datetime(2023, 9, 18, 0, 0), 'dataset_end': datetime.datetime(2023, 9, 8, 0, 0), 'dataset_start': datetime.datetime(2018, 1, 1, 0, 0)}\n",
      "-0.016\n",
      "0.3810140001870849\n"
     ]
    },
    {
     "name": "stderr",
     "output_type": "stream",
     "text": [
      "/var/folders/tq/_9q_lv1s2bndbr3tzzn08x4r0000gn/T/ipykernel_13065/1039188303.py:2: SettingWithCopyWarning: \n",
      "A value is trying to be set on a copy of a slice from a DataFrame.\n",
      "Try using .loc[row_indexer,col_indexer] = value instead\n",
      "\n",
      "See the caveats in the documentation: https://pandas.pydata.org/pandas-docs/stable/user_guide/indexing.html#returning-a-view-versus-a-copy\n",
      "  dataset.loc[:, 'label'] = (dataset[target_label] < target_value).astype(int)\n"
     ]
    },
    {
     "name": "stdout",
     "output_type": "stream",
     "text": [
      "label\n",
      "0    25090\n",
      "1    23788\n",
      "Name: count, dtype: int64\n",
      "109 29 141 171\n",
      "{'model_name': 'MAP_1d:RM220_TSSIM1_TL15-EXP_custHypTP0.48', 'deployment_date': '2023-09-18', 'algorithm_type': 'xgboost', 'dataset': 'MAP_1d:RM220_TSSIM1_TL15-EXP_custHypTP0.48', 'TP': 109, 'TPpct': Decimal('0'), 'FP': 29, 'FPpct': Decimal('0'), 'TN': 141, 'TNpct': Decimal('0'), 'FN': 171, 'FNpct': Decimal('0'), 'precision_ratio': Decimal('3.7586206896551726'), 'evaluation_timeperiod': '2023-09-18_2023-09-22', 'live': False, 'hyperparameters': {\"{'subsample': 0.6, 'num_round': 1000, 'min_child_weight': 10, 'max_depth': 10, 'learning_rate': 0.1, 'gamma': 2, 'colsample_bytree': 1}\"}, 'features': {\"['oneD_stddev50', 'rsi', 'close_diff', 'daily_volume_vol_diff_pct30', 'range_vol_diff5', 'SPY_diff', 'threeD_stddev50', 'close_diff3', 'min_volume_vol_diff_pct', 'month', 'return_vol_240M', 'range_vol', 'rsi5', 'roc', 'SPY_3D', 'roc5', 'roc_diff', 'price_25DDiff', 'daily_volume_vol_diff_pct', 'price_10DDiff', 'SPY_1D', 'hour_volume_vol_diff', 'hour_volume_vol_diff_pct', 'return_vol_10D', 'SPY_5D']\"}, 'target': '-0.016+one_min', 'feature_importances': \"[{'oneD_stddev50': 0.04585809}, {'rsi': 0.034544326}, {'close_diff': 0.03316026}, {'daily_volume_vol_diff_pct30': 0.02955092}, {'range_vol_diff5': 0.031319067}, {'SPY_diff': 0.029295534}, {'threeD_stddev50': 0.036443185}, {'close_diff3': 0.035439566}, {'min_volume_vol_diff_pct': 0.026692813}, {'month': 0.041624036}, {'return_vol_240M': 0.16288367}, {'range_vol': 0.036147915}, {'rsi5': 0.034449656}, {'roc': 0.03363532}, {'SPY_3D': 0.03995922}, {'roc5': 0.035489526}, {'roc_diff': 0.037028033}, {'price_25DDiff': 0.0350381}, {'daily_volume_vol_diff_pct': 0.030198181}, {'price_10DDiff': 0.03587581}, {'SPY_1D': 0.039753024}, {'hour_volume_vol_diff': 0.030620717}, {'hour_volume_vol_diff_pct': 0.030442344}, {'return_vol_10D': 0.035183895}, {'SPY_5D': 0.039366823}]\"}\n",
      "{'deployment_date': datetime.datetime(2023, 9, 25, 0, 0), 'dataset_end': datetime.datetime(2023, 9, 15, 0, 0), 'dataset_start': datetime.datetime(2018, 1, 1, 0, 0)}\n",
      "-0.016\n",
      "0.37899855516025294\n"
     ]
    },
    {
     "name": "stderr",
     "output_type": "stream",
     "text": [
      "/var/folders/tq/_9q_lv1s2bndbr3tzzn08x4r0000gn/T/ipykernel_13065/1039188303.py:2: SettingWithCopyWarning: \n",
      "A value is trying to be set on a copy of a slice from a DataFrame.\n",
      "Try using .loc[row_indexer,col_indexer] = value instead\n",
      "\n",
      "See the caveats in the documentation: https://pandas.pydata.org/pandas-docs/stable/user_guide/indexing.html#returning-a-view-versus-a-copy\n",
      "  dataset.loc[:, 'label'] = (dataset[target_label] < target_value).astype(int)\n"
     ]
    },
    {
     "name": "stdout",
     "output_type": "stream",
     "text": [
      "label\n",
      "0    25060\n",
      "1    23730\n",
      "Name: count, dtype: int64\n",
      "54 88 178 130\n",
      "{'model_name': 'MAP_1d:RM220_TSSIM1_TL15-EXP_custHypTP0.48', 'deployment_date': '2023-09-25', 'algorithm_type': 'xgboost', 'dataset': 'MAP_1d:RM220_TSSIM1_TL15-EXP_custHypTP0.48', 'TP': 54, 'TPpct': Decimal('0'), 'FP': 88, 'FPpct': Decimal('0'), 'TN': 178, 'TNpct': Decimal('0'), 'FN': 130, 'FNpct': Decimal('0'), 'precision_ratio': Decimal('0.6136363636363636'), 'evaluation_timeperiod': '2023-09-25_2023-09-29', 'live': False, 'hyperparameters': {\"{'subsample': 0.6, 'num_round': 1000, 'min_child_weight': 10, 'max_depth': 10, 'learning_rate': 0.1, 'gamma': 2, 'colsample_bytree': 1}\"}, 'features': {\"['oneD_stddev50', 'rsi', 'close_diff', 'daily_volume_vol_diff_pct30', 'range_vol_diff5', 'SPY_diff', 'threeD_stddev50', 'close_diff3', 'min_volume_vol_diff_pct', 'month', 'return_vol_240M', 'range_vol', 'rsi5', 'roc', 'SPY_3D', 'roc5', 'roc_diff', 'price_25DDiff', 'daily_volume_vol_diff_pct', 'price_10DDiff', 'SPY_1D', 'hour_volume_vol_diff', 'hour_volume_vol_diff_pct', 'return_vol_10D', 'SPY_5D']\"}, 'target': '-0.016+one_min', 'feature_importances': \"[{'oneD_stddev50': 0.043174963}, {'rsi': 0.03517067}, {'close_diff': 0.032755956}, {'daily_volume_vol_diff_pct30': 0.029029869}, {'range_vol_diff5': 0.031985}, {'SPY_diff': 0.030091016}, {'threeD_stddev50': 0.036635734}, {'close_diff3': 0.0370604}, {'min_volume_vol_diff_pct': 0.029030811}, {'month': 0.042379826}, {'return_vol_240M': 0.16320018}, {'range_vol': 0.035480604}, {'rsi5': 0.035467252}, {'roc': 0.034823246}, {'SPY_3D': 0.039731715}, {'roc5': 0.032665543}, {'roc_diff': 0.036145788}, {'price_25DDiff': 0.034286622}, {'daily_volume_vol_diff_pct': 0.030109707}, {'price_10DDiff': 0.034252692}, {'SPY_1D': 0.03925243}, {'hour_volume_vol_diff': 0.031331547}, {'hour_volume_vol_diff_pct': 0.03173561}, {'return_vol_10D': 0.034988362}, {'SPY_5D': 0.039214503}]\"}\n",
      "{'deployment_date': datetime.datetime(2023, 10, 2, 0, 0), 'dataset_end': datetime.datetime(2023, 9, 22, 0, 0), 'dataset_start': datetime.datetime(2018, 1, 1, 0, 0)}\n",
      "-0.016\n",
      "0.5617955783998019\n"
     ]
    },
    {
     "name": "stderr",
     "output_type": "stream",
     "text": [
      "/var/folders/tq/_9q_lv1s2bndbr3tzzn08x4r0000gn/T/ipykernel_13065/1039188303.py:2: SettingWithCopyWarning: \n",
      "A value is trying to be set on a copy of a slice from a DataFrame.\n",
      "Try using .loc[row_indexer,col_indexer] = value instead\n",
      "\n",
      "See the caveats in the documentation: https://pandas.pydata.org/pandas-docs/stable/user_guide/indexing.html#returning-a-view-versus-a-copy\n",
      "  dataset.loc[:, 'label'] = (dataset[target_label] < target_value).astype(int)\n"
     ]
    },
    {
     "name": "stdout",
     "output_type": "stream",
     "text": [
      "label\n",
      "0    38275\n",
      "1    34300\n",
      "Name: count, dtype: int64\n",
      "89 119 149 92\n",
      "{'model_name': 'MAP_1d:RM220_TSSIM1_TL15-EXP_custHypTP0.48', 'deployment_date': '2023-10-02', 'algorithm_type': 'xgboost', 'dataset': 'MAP_1d:RM220_TSSIM1_TL15-EXP_custHypTP0.48', 'TP': 89, 'TPpct': Decimal('0'), 'FP': 119, 'FPpct': Decimal('0'), 'TN': 149, 'TNpct': Decimal('0'), 'FN': 92, 'FNpct': Decimal('0'), 'precision_ratio': Decimal('0.7478991596638656'), 'evaluation_timeperiod': '2023-10-02_2023-10-06', 'live': False, 'hyperparameters': {\"{'subsample': 0.6, 'num_round': 1000, 'min_child_weight': 10, 'max_depth': 10, 'learning_rate': 0.1, 'gamma': 2, 'colsample_bytree': 1}\"}, 'features': {\"['oneD_stddev50', 'rsi', 'close_diff', 'daily_volume_vol_diff_pct30', 'range_vol_diff5', 'SPY_diff', 'threeD_stddev50', 'close_diff3', 'min_volume_vol_diff_pct', 'month', 'return_vol_240M', 'range_vol', 'rsi5', 'roc', 'SPY_3D', 'roc5', 'roc_diff', 'price_25DDiff', 'daily_volume_vol_diff_pct', 'price_10DDiff', 'SPY_1D', 'hour_volume_vol_diff', 'hour_volume_vol_diff_pct', 'return_vol_10D', 'SPY_5D']\"}, 'target': '-0.016+one_min', 'feature_importances': \"[{'oneD_stddev50': 0.036812093}, {'rsi': 0.033185534}, {'close_diff': 0.031233067}, {'daily_volume_vol_diff_pct30': 0.029667528}, {'range_vol_diff5': 0.03203175}, {'SPY_diff': 0.028940087}, {'threeD_stddev50': 0.04763173}, {'close_diff3': 0.032304686}, {'min_volume_vol_diff_pct': 0.026421068}, {'month': 0.037074458}, {'return_vol_240M': 0.18363377}, {'range_vol': 0.04429261}, {'rsi5': 0.033522055}, {'roc': 0.034064364}, {'SPY_3D': 0.03762734}, {'roc5': 0.032365}, {'roc_diff': 0.03385528}, {'price_25DDiff': 0.034411877}, {'daily_volume_vol_diff_pct': 0.029839091}, {'price_10DDiff': 0.032276895}, {'SPY_1D': 0.036233652}, {'hour_volume_vol_diff': 0.029380096}, {'hour_volume_vol_diff_pct': 0.028578784}, {'return_vol_10D': 0.03921281}, {'SPY_5D': 0.035404377}]\"}\n",
      "{'deployment_date': datetime.datetime(2023, 10, 9, 0, 0), 'dataset_end': datetime.datetime(2023, 9, 29, 0, 0), 'dataset_start': datetime.datetime(2018, 1, 1, 0, 0)}\n",
      "-0.017\n",
      "0.38607155530184983\n"
     ]
    },
    {
     "name": "stderr",
     "output_type": "stream",
     "text": [
      "/var/folders/tq/_9q_lv1s2bndbr3tzzn08x4r0000gn/T/ipykernel_13065/1039188303.py:2: SettingWithCopyWarning: \n",
      "A value is trying to be set on a copy of a slice from a DataFrame.\n",
      "Try using .loc[row_indexer,col_indexer] = value instead\n",
      "\n",
      "See the caveats in the documentation: https://pandas.pydata.org/pandas-docs/stable/user_guide/indexing.html#returning-a-view-versus-a-copy\n",
      "  dataset.loc[:, 'label'] = (dataset[target_label] < target_value).astype(int)\n"
     ]
    },
    {
     "name": "stdout",
     "output_type": "stream",
     "text": [
      "label\n",
      "0    26488\n",
      "1    23560\n",
      "Name: count, dtype: int64\n",
      "123 99 152 76\n",
      "{'model_name': 'MAP_1d:RM220_TSSIM1_TL15-EXP_custHypTP0.48', 'deployment_date': '2023-10-09', 'algorithm_type': 'xgboost', 'dataset': 'MAP_1d:RM220_TSSIM1_TL15-EXP_custHypTP0.48', 'TP': 123, 'TPpct': Decimal('0'), 'FP': 99, 'FPpct': Decimal('0'), 'TN': 152, 'TNpct': Decimal('0'), 'FN': 76, 'FNpct': Decimal('0'), 'precision_ratio': Decimal('1.2424242424242424'), 'evaluation_timeperiod': '2023-10-09_2023-10-13', 'live': False, 'hyperparameters': {\"{'subsample': 0.6, 'num_round': 1000, 'min_child_weight': 10, 'max_depth': 10, 'learning_rate': 0.1, 'gamma': 2, 'colsample_bytree': 1}\"}, 'features': {\"['oneD_stddev50', 'rsi', 'close_diff', 'daily_volume_vol_diff_pct30', 'range_vol_diff5', 'SPY_diff', 'threeD_stddev50', 'close_diff3', 'min_volume_vol_diff_pct', 'month', 'return_vol_240M', 'range_vol', 'rsi5', 'roc', 'SPY_3D', 'roc5', 'roc_diff', 'price_25DDiff', 'daily_volume_vol_diff_pct', 'price_10DDiff', 'SPY_1D', 'hour_volume_vol_diff', 'hour_volume_vol_diff_pct', 'return_vol_10D', 'SPY_5D']\"}, 'target': '-0.017+one_min', 'feature_importances': \"[{'oneD_stddev50': 0.043058272}, {'rsi': 0.034170277}, {'close_diff': 0.032013737}, {'daily_volume_vol_diff_pct30': 0.03084265}, {'range_vol_diff5': 0.030396162}, {'SPY_diff': 0.029620722}, {'threeD_stddev50': 0.037612986}, {'close_diff3': 0.03490912}, {'min_volume_vol_diff_pct': 0.028145006}, {'month': 0.04142311}, {'return_vol_240M': 0.17051388}, {'range_vol': 0.03809124}, {'rsi5': 0.03246405}, {'roc': 0.03456592}, {'SPY_3D': 0.03915337}, {'roc5': 0.033594705}, {'roc_diff': 0.035588775}, {'price_25DDiff': 0.03376144}, {'daily_volume_vol_diff_pct': 0.030814622}, {'price_10DDiff': 0.036817048}, {'SPY_1D': 0.03909874}, {'hour_volume_vol_diff': 0.029266044}, {'hour_volume_vol_diff_pct': 0.030043857}, {'return_vol_10D': 0.03610602}, {'SPY_5D': 0.03792831}]\"}\n",
      "{'deployment_date': datetime.datetime(2023, 10, 16, 0, 0), 'dataset_end': datetime.datetime(2023, 10, 6, 0, 0), 'dataset_start': datetime.datetime(2018, 1, 1, 0, 0)}\n",
      "-0.016\n",
      "0.5537541415865255\n"
     ]
    },
    {
     "name": "stderr",
     "output_type": "stream",
     "text": [
      "/var/folders/tq/_9q_lv1s2bndbr3tzzn08x4r0000gn/T/ipykernel_13065/1039188303.py:2: SettingWithCopyWarning: \n",
      "A value is trying to be set on a copy of a slice from a DataFrame.\n",
      "Try using .loc[row_indexer,col_indexer] = value instead\n",
      "\n",
      "See the caveats in the documentation: https://pandas.pydata.org/pandas-docs/stable/user_guide/indexing.html#returning-a-view-versus-a-copy\n",
      "  dataset.loc[:, 'label'] = (dataset[target_label] < target_value).astype(int)\n"
     ]
    },
    {
     "name": "stdout",
     "output_type": "stream",
     "text": [
      "label\n",
      "0    38100\n",
      "1    33934\n",
      "Name: count, dtype: int64\n",
      "123 44 110 167\n",
      "{'model_name': 'MAP_1d:RM220_TSSIM1_TL15-EXP_custHypTP0.48', 'deployment_date': '2023-10-16', 'algorithm_type': 'xgboost', 'dataset': 'MAP_1d:RM220_TSSIM1_TL15-EXP_custHypTP0.48', 'TP': 123, 'TPpct': Decimal('0'), 'FP': 44, 'FPpct': Decimal('0'), 'TN': 110, 'TNpct': Decimal('0'), 'FN': 167, 'FNpct': Decimal('0'), 'precision_ratio': Decimal('2.7954545454545454'), 'evaluation_timeperiod': '2023-10-16_2023-10-20', 'live': False, 'hyperparameters': {\"{'subsample': 0.6, 'num_round': 1000, 'min_child_weight': 10, 'max_depth': 10, 'learning_rate': 0.1, 'gamma': 2, 'colsample_bytree': 1}\"}, 'features': {\"['oneD_stddev50', 'rsi', 'close_diff', 'daily_volume_vol_diff_pct30', 'range_vol_diff5', 'SPY_diff', 'threeD_stddev50', 'close_diff3', 'min_volume_vol_diff_pct', 'month', 'return_vol_240M', 'range_vol', 'rsi5', 'roc', 'SPY_3D', 'roc5', 'roc_diff', 'price_25DDiff', 'daily_volume_vol_diff_pct', 'price_10DDiff', 'SPY_1D', 'hour_volume_vol_diff', 'hour_volume_vol_diff_pct', 'return_vol_10D', 'SPY_5D']\"}, 'target': '-0.016+one_min', 'feature_importances': \"[{'oneD_stddev50': 0.03686754}, {'rsi': 0.03322675}, {'close_diff': 0.029439123}, {'daily_volume_vol_diff_pct30': 0.028277341}, {'range_vol_diff5': 0.032103866}, {'SPY_diff': 0.02910721}, {'threeD_stddev50': 0.044396263}, {'close_diff3': 0.032024276}, {'min_volume_vol_diff_pct': 0.027261969}, {'month': 0.035355072}, {'return_vol_240M': 0.19452666}, {'range_vol': 0.042803597}, {'rsi5': 0.03281092}, {'roc': 0.032970857}, {'SPY_3D': 0.035836753}, {'roc5': 0.033245992}, {'roc_diff': 0.034081195}, {'price_25DDiff': 0.036106493}, {'daily_volume_vol_diff_pct': 0.02815835}, {'price_10DDiff': 0.035180952}, {'SPY_1D': 0.035827626}, {'hour_volume_vol_diff': 0.030375361}, {'hour_volume_vol_diff_pct': 0.02840414}, {'return_vol_10D': 0.03562306}, {'SPY_5D': 0.035988633}]\"}\n",
      "{'deployment_date': datetime.datetime(2023, 10, 23, 0, 0), 'dataset_end': datetime.datetime(2023, 10, 13, 0, 0), 'dataset_start': datetime.datetime(2018, 1, 1, 0, 0)}\n",
      "-0.016\n",
      "0.39511847578773185\n"
     ]
    },
    {
     "name": "stderr",
     "output_type": "stream",
     "text": [
      "/var/folders/tq/_9q_lv1s2bndbr3tzzn08x4r0000gn/T/ipykernel_13065/1039188303.py:2: SettingWithCopyWarning: \n",
      "A value is trying to be set on a copy of a slice from a DataFrame.\n",
      "Try using .loc[row_indexer,col_indexer] = value instead\n",
      "\n",
      "See the caveats in the documentation: https://pandas.pydata.org/pandas-docs/stable/user_guide/indexing.html#returning-a-view-versus-a-copy\n",
      "  dataset.loc[:, 'label'] = (dataset[target_label] < target_value).astype(int)\n"
     ]
    },
    {
     "name": "stdout",
     "output_type": "stream",
     "text": [
      "label\n",
      "0    26360\n",
      "1    25216\n",
      "Name: count, dtype: int64\n",
      "180 76 80 114\n",
      "{'model_name': 'MAP_1d:RM220_TSSIM1_TL15-EXP_custHypTP0.48', 'deployment_date': '2023-10-23', 'algorithm_type': 'xgboost', 'dataset': 'MAP_1d:RM220_TSSIM1_TL15-EXP_custHypTP0.48', 'TP': 180, 'TPpct': Decimal('0'), 'FP': 76, 'FPpct': Decimal('0'), 'TN': 80, 'TNpct': Decimal('0'), 'FN': 114, 'FNpct': Decimal('0'), 'precision_ratio': Decimal('2.3684210526315788'), 'evaluation_timeperiod': '2023-10-23_2023-10-27', 'live': False, 'hyperparameters': {\"{'subsample': 0.6, 'num_round': 1000, 'min_child_weight': 10, 'max_depth': 10, 'learning_rate': 0.1, 'gamma': 2, 'colsample_bytree': 1}\"}, 'features': {\"['oneD_stddev50', 'rsi', 'close_diff', 'daily_volume_vol_diff_pct30', 'range_vol_diff5', 'SPY_diff', 'threeD_stddev50', 'close_diff3', 'min_volume_vol_diff_pct', 'month', 'return_vol_240M', 'range_vol', 'rsi5', 'roc', 'SPY_3D', 'roc5', 'roc_diff', 'price_25DDiff', 'daily_volume_vol_diff_pct', 'price_10DDiff', 'SPY_1D', 'hour_volume_vol_diff', 'hour_volume_vol_diff_pct', 'return_vol_10D', 'SPY_5D']\"}, 'target': '-0.016+one_min', 'feature_importances': \"[{'oneD_stddev50': 0.046284}, {'rsi': 0.03288128}, {'close_diff': 0.03191125}, {'daily_volume_vol_diff_pct30': 0.029586446}, {'range_vol_diff5': 0.03076699}, {'SPY_diff': 0.029034123}, {'threeD_stddev50': 0.03690902}, {'close_diff3': 0.036152955}, {'min_volume_vol_diff_pct': 0.027745383}, {'month': 0.0427145}, {'return_vol_240M': 0.15414374}, {'range_vol': 0.038549885}, {'rsi5': 0.035320017}, {'roc': 0.035030562}, {'SPY_3D': 0.040542744}, {'roc5': 0.035891596}, {'roc_diff': 0.03662202}, {'price_25DDiff': 0.035022393}, {'daily_volume_vol_diff_pct': 0.031534124}, {'price_10DDiff': 0.0355464}, {'SPY_1D': 0.03902789}, {'hour_volume_vol_diff': 0.031167459}, {'hour_volume_vol_diff_pct': 0.031256214}, {'return_vol_10D': 0.036918666}, {'SPY_5D': 0.039440393}]\"}\n",
      "{'deployment_date': datetime.datetime(2023, 10, 30, 0, 0), 'dataset_end': datetime.datetime(2023, 10, 20, 0, 0), 'dataset_start': datetime.datetime(2018, 1, 1, 0, 0)}\n",
      "-0.017\n",
      "0.407430312192217\n"
     ]
    },
    {
     "name": "stderr",
     "output_type": "stream",
     "text": [
      "/var/folders/tq/_9q_lv1s2bndbr3tzzn08x4r0000gn/T/ipykernel_13065/1039188303.py:2: SettingWithCopyWarning: \n",
      "A value is trying to be set on a copy of a slice from a DataFrame.\n",
      "Try using .loc[row_indexer,col_indexer] = value instead\n",
      "\n",
      "See the caveats in the documentation: https://pandas.pydata.org/pandas-docs/stable/user_guide/indexing.html#returning-a-view-versus-a-copy\n",
      "  dataset.loc[:, 'label'] = (dataset[target_label] < target_value).astype(int)\n"
     ]
    },
    {
     "name": "stdout",
     "output_type": "stream",
     "text": [
      "label\n",
      "0    28024\n",
      "1    25340\n",
      "Name: count, dtype: int64\n",
      "73 119 215 43\n",
      "{'model_name': 'MAP_1d:RM220_TSSIM1_TL15-EXP_custHypTP0.48', 'deployment_date': '2023-10-30', 'algorithm_type': 'xgboost', 'dataset': 'MAP_1d:RM220_TSSIM1_TL15-EXP_custHypTP0.48', 'TP': 73, 'TPpct': Decimal('0'), 'FP': 119, 'FPpct': Decimal('0'), 'TN': 215, 'TNpct': Decimal('0'), 'FN': 43, 'FNpct': Decimal('0'), 'precision_ratio': Decimal('0.6134453781512605'), 'evaluation_timeperiod': '2023-10-30_2023-11-03', 'live': False, 'hyperparameters': {\"{'subsample': 0.6, 'num_round': 1000, 'min_child_weight': 10, 'max_depth': 10, 'learning_rate': 0.1, 'gamma': 2, 'colsample_bytree': 1}\"}, 'features': {\"['oneD_stddev50', 'rsi', 'close_diff', 'daily_volume_vol_diff_pct30', 'range_vol_diff5', 'SPY_diff', 'threeD_stddev50', 'close_diff3', 'min_volume_vol_diff_pct', 'month', 'return_vol_240M', 'range_vol', 'rsi5', 'roc', 'SPY_3D', 'roc5', 'roc_diff', 'price_25DDiff', 'daily_volume_vol_diff_pct', 'price_10DDiff', 'SPY_1D', 'hour_volume_vol_diff', 'hour_volume_vol_diff_pct', 'return_vol_10D', 'SPY_5D']\"}, 'target': '-0.017+one_min', 'feature_importances': \"[{'oneD_stddev50': 0.04204665}, {'rsi': 0.034268916}, {'close_diff': 0.032754138}, {'daily_volume_vol_diff_pct30': 0.031055827}, {'range_vol_diff5': 0.031525113}, {'SPY_diff': 0.030179007}, {'threeD_stddev50': 0.03709877}, {'close_diff3': 0.03491732}, {'min_volume_vol_diff_pct': 0.027657988}, {'month': 0.04212556}, {'return_vol_240M': 0.16504923}, {'range_vol': 0.038005587}, {'rsi5': 0.034055665}, {'roc': 0.034087166}, {'SPY_3D': 0.038399767}, {'roc5': 0.033763308}, {'roc_diff': 0.035676718}, {'price_25DDiff': 0.03288438}, {'daily_volume_vol_diff_pct': 0.031176416}, {'price_10DDiff': 0.03635214}, {'SPY_1D': 0.04071024}, {'hour_volume_vol_diff': 0.03052714}, {'hour_volume_vol_diff_pct': 0.030108184}, {'return_vol_10D': 0.03677151}, {'SPY_5D': 0.038803317}]\"}\n",
      "{'deployment_date': datetime.datetime(2023, 11, 6, 0, 0), 'dataset_end': datetime.datetime(2023, 10, 27, 0, 0), 'dataset_start': datetime.datetime(2018, 1, 1, 0, 0)}\n",
      "-0.017\n",
      "0.40947446110768715\n"
     ]
    },
    {
     "name": "stderr",
     "output_type": "stream",
     "text": [
      "/var/folders/tq/_9q_lv1s2bndbr3tzzn08x4r0000gn/T/ipykernel_13065/1039188303.py:2: SettingWithCopyWarning: \n",
      "A value is trying to be set on a copy of a slice from a DataFrame.\n",
      "Try using .loc[row_indexer,col_indexer] = value instead\n",
      "\n",
      "See the caveats in the documentation: https://pandas.pydata.org/pandas-docs/stable/user_guide/indexing.html#returning-a-view-versus-a-copy\n",
      "  dataset.loc[:, 'label'] = (dataset[target_label] < target_value).astype(int)\n"
     ]
    },
    {
     "name": "stdout",
     "output_type": "stream",
     "text": [
      "label\n",
      "0    28050\n",
      "1    25766\n",
      "Name: count, dtype: int64\n",
      "113 154 137 46\n",
      "{'model_name': 'MAP_1d:RM220_TSSIM1_TL15-EXP_custHypTP0.48', 'deployment_date': '2023-11-06', 'algorithm_type': 'xgboost', 'dataset': 'MAP_1d:RM220_TSSIM1_TL15-EXP_custHypTP0.48', 'TP': 113, 'TPpct': Decimal('0'), 'FP': 154, 'FPpct': Decimal('0'), 'TN': 137, 'TNpct': Decimal('0'), 'FN': 46, 'FNpct': Decimal('0'), 'precision_ratio': Decimal('0.7337662337662337'), 'evaluation_timeperiod': '2023-11-06_2023-11-10', 'live': False, 'hyperparameters': {\"{'subsample': 0.6, 'num_round': 1000, 'min_child_weight': 10, 'max_depth': 10, 'learning_rate': 0.1, 'gamma': 2, 'colsample_bytree': 1}\"}, 'features': {\"['oneD_stddev50', 'rsi', 'close_diff', 'daily_volume_vol_diff_pct30', 'range_vol_diff5', 'SPY_diff', 'threeD_stddev50', 'close_diff3', 'min_volume_vol_diff_pct', 'month', 'return_vol_240M', 'range_vol', 'rsi5', 'roc', 'SPY_3D', 'roc5', 'roc_diff', 'price_25DDiff', 'daily_volume_vol_diff_pct', 'price_10DDiff', 'SPY_1D', 'hour_volume_vol_diff', 'hour_volume_vol_diff_pct', 'return_vol_10D', 'SPY_5D']\"}, 'target': '-0.017+one_min', 'feature_importances': \"[{'oneD_stddev50': 0.04204349}, {'rsi': 0.034474846}, {'close_diff': 0.032277226}, {'daily_volume_vol_diff_pct30': 0.029753566}, {'range_vol_diff5': 0.030058954}, {'SPY_diff': 0.029012872}, {'threeD_stddev50': 0.03463261}, {'close_diff3': 0.035893112}, {'min_volume_vol_diff_pct': 0.02776466}, {'month': 0.041078012}, {'return_vol_240M': 0.1709453}, {'range_vol': 0.037878446}, {'rsi5': 0.032726552}, {'roc': 0.03407674}, {'SPY_3D': 0.040982686}, {'roc5': 0.03478782}, {'roc_diff': 0.035371125}, {'price_25DDiff': 0.034103226}, {'daily_volume_vol_diff_pct': 0.029579885}, {'price_10DDiff': 0.03497564}, {'SPY_1D': 0.039582413}, {'hour_volume_vol_diff': 0.032205794}, {'hour_volume_vol_diff_pct': 0.03205656}, {'return_vol_10D': 0.035208106}, {'SPY_5D': 0.038530335}]\"}\n",
      "{'deployment_date': datetime.datetime(2023, 11, 13, 0, 0), 'dataset_end': datetime.datetime(2023, 11, 3, 0, 0), 'dataset_start': datetime.datetime(2018, 1, 1, 0, 0)}\n",
      "-0.015\n",
      "0.5353473312253084\n"
     ]
    },
    {
     "name": "stderr",
     "output_type": "stream",
     "text": [
      "/var/folders/tq/_9q_lv1s2bndbr3tzzn08x4r0000gn/T/ipykernel_13065/1039188303.py:2: SettingWithCopyWarning: \n",
      "A value is trying to be set on a copy of a slice from a DataFrame.\n",
      "Try using .loc[row_indexer,col_indexer] = value instead\n",
      "\n",
      "See the caveats in the documentation: https://pandas.pydata.org/pandas-docs/stable/user_guide/indexing.html#returning-a-view-versus-a-copy\n",
      "  dataset.loc[:, 'label'] = (dataset[target_label] < target_value).astype(int)\n"
     ]
    },
    {
     "name": "stdout",
     "output_type": "stream",
     "text": [
      "label\n",
      "0    35957\n",
      "1    34643\n",
      "Name: count, dtype: int64\n",
      "45 101 236 68\n",
      "{'model_name': 'MAP_1d:RM220_TSSIM1_TL15-EXP_custHypTP0.48', 'deployment_date': '2023-11-13', 'algorithm_type': 'xgboost', 'dataset': 'MAP_1d:RM220_TSSIM1_TL15-EXP_custHypTP0.48', 'TP': 45, 'TPpct': Decimal('0'), 'FP': 101, 'FPpct': Decimal('0'), 'TN': 236, 'TNpct': Decimal('0'), 'FN': 68, 'FNpct': Decimal('0'), 'precision_ratio': Decimal('0.44554455445544555'), 'evaluation_timeperiod': '2023-11-13_2023-11-17', 'live': False, 'hyperparameters': {\"{'subsample': 0.6, 'num_round': 1000, 'min_child_weight': 10, 'max_depth': 10, 'learning_rate': 0.1, 'gamma': 2, 'colsample_bytree': 1}\"}, 'features': {\"['oneD_stddev50', 'rsi', 'close_diff', 'daily_volume_vol_diff_pct30', 'range_vol_diff5', 'SPY_diff', 'threeD_stddev50', 'close_diff3', 'min_volume_vol_diff_pct', 'month', 'return_vol_240M', 'range_vol', 'rsi5', 'roc', 'SPY_3D', 'roc5', 'roc_diff', 'price_25DDiff', 'daily_volume_vol_diff_pct', 'price_10DDiff', 'SPY_1D', 'hour_volume_vol_diff', 'hour_volume_vol_diff_pct', 'return_vol_10D', 'SPY_5D']\"}, 'target': '-0.015+one_min', 'feature_importances': \"[{'oneD_stddev50': 0.03806349}, {'rsi': 0.03233397}, {'close_diff': 0.030770902}, {'daily_volume_vol_diff_pct30': 0.02986969}, {'range_vol_diff5': 0.0322535}, {'SPY_diff': 0.028628027}, {'threeD_stddev50': 0.044853345}, {'close_diff3': 0.03367531}, {'min_volume_vol_diff_pct': 0.02678554}, {'month': 0.036478832}, {'return_vol_240M': 0.17344604}, {'range_vol': 0.049362652}, {'rsi5': 0.0332555}, {'roc': 0.033299055}, {'SPY_3D': 0.036638517}, {'roc5': 0.03297151}, {'roc_diff': 0.03342838}, {'price_25DDiff': 0.035456926}, {'daily_volume_vol_diff_pct': 0.02970116}, {'price_10DDiff': 0.034197327}, {'SPY_1D': 0.03875745}, {'hour_volume_vol_diff': 0.030311063}, {'hour_volume_vol_diff_pct': 0.02967172}, {'return_vol_10D': 0.039256897}, {'SPY_5D': 0.036533207}]\"}\n",
      "{'deployment_date': datetime.datetime(2023, 11, 20, 0, 0), 'dataset_end': datetime.datetime(2023, 11, 10, 0, 0), 'dataset_start': datetime.datetime(2018, 1, 1, 0, 0)}\n",
      "-0.015\n",
      "0.5132285928041896\n"
     ]
    },
    {
     "name": "stderr",
     "output_type": "stream",
     "text": [
      "/var/folders/tq/_9q_lv1s2bndbr3tzzn08x4r0000gn/T/ipykernel_13065/1039188303.py:2: SettingWithCopyWarning: \n",
      "A value is trying to be set on a copy of a slice from a DataFrame.\n",
      "Try using .loc[row_indexer,col_indexer] = value instead\n",
      "\n",
      "See the caveats in the documentation: https://pandas.pydata.org/pandas-docs/stable/user_guide/indexing.html#returning-a-view-versus-a-copy\n",
      "  dataset.loc[:, 'label'] = (dataset[target_label] < target_value).astype(int)\n"
     ]
    },
    {
     "name": "stdout",
     "output_type": "stream",
     "text": [
      "label\n",
      "0    34956\n",
      "1    32958\n",
      "Name: count, dtype: int64\n",
      "34 33 212 81\n",
      "{'model_name': 'MAP_1d:RM220_TSSIM1_TL15-EXP_custHypTP0.48', 'deployment_date': '2023-11-20', 'algorithm_type': 'xgboost', 'dataset': 'MAP_1d:RM220_TSSIM1_TL15-EXP_custHypTP0.48', 'TP': 34, 'TPpct': Decimal('0'), 'FP': 33, 'FPpct': Decimal('0'), 'TN': 212, 'TNpct': Decimal('0'), 'FN': 81, 'FNpct': Decimal('0'), 'precision_ratio': Decimal('1.0303030303030303'), 'evaluation_timeperiod': '2023-11-20_2023-11-24', 'live': False, 'hyperparameters': {\"{'subsample': 0.6, 'num_round': 1000, 'min_child_weight': 10, 'max_depth': 10, 'learning_rate': 0.1, 'gamma': 2, 'colsample_bytree': 1}\"}, 'features': {\"['oneD_stddev50', 'rsi', 'close_diff', 'daily_volume_vol_diff_pct30', 'range_vol_diff5', 'SPY_diff', 'threeD_stddev50', 'close_diff3', 'min_volume_vol_diff_pct', 'month', 'return_vol_240M', 'range_vol', 'rsi5', 'roc', 'SPY_3D', 'roc5', 'roc_diff', 'price_25DDiff', 'daily_volume_vol_diff_pct', 'price_10DDiff', 'SPY_1D', 'hour_volume_vol_diff', 'hour_volume_vol_diff_pct', 'return_vol_10D', 'SPY_5D']\"}, 'target': '-0.015+one_min', 'feature_importances': \"[{'oneD_stddev50': 0.04175049}, {'rsi': 0.033312693}, {'close_diff': 0.03046198}, {'daily_volume_vol_diff_pct30': 0.02957745}, {'range_vol_diff5': 0.032376207}, {'SPY_diff': 0.029241223}, {'threeD_stddev50': 0.04156353}, {'close_diff3': 0.033633385}, {'min_volume_vol_diff_pct': 0.026833558}, {'month': 0.03611773}, {'return_vol_240M': 0.17774294}, {'range_vol': 0.050989132}, {'rsi5': 0.032560457}, {'roc': 0.032848623}, {'SPY_3D': 0.036347635}, {'roc5': 0.032562308}, {'roc_diff': 0.03378249}, {'price_25DDiff': 0.03589441}, {'daily_volume_vol_diff_pct': 0.028329443}, {'price_10DDiff': 0.033793204}, {'SPY_1D': 0.037291057}, {'hour_volume_vol_diff': 0.029711261}, {'hour_volume_vol_diff_pct': 0.030407157}, {'return_vol_10D': 0.035587423}, {'SPY_5D': 0.037284292}]\"}\n",
      "{'deployment_date': datetime.datetime(2023, 11, 27, 0, 0), 'dataset_end': datetime.datetime(2023, 11, 17, 0, 0), 'dataset_start': datetime.datetime(2018, 1, 1, 0, 0)}\n",
      "-0.018\n",
      "0.4968405672669212\n"
     ]
    },
    {
     "name": "stderr",
     "output_type": "stream",
     "text": [
      "/var/folders/tq/_9q_lv1s2bndbr3tzzn08x4r0000gn/T/ipykernel_13065/1039188303.py:2: SettingWithCopyWarning: \n",
      "A value is trying to be set on a copy of a slice from a DataFrame.\n",
      "Try using .loc[row_indexer,col_indexer] = value instead\n",
      "\n",
      "See the caveats in the documentation: https://pandas.pydata.org/pandas-docs/stable/user_guide/indexing.html#returning-a-view-versus-a-copy\n",
      "  dataset.loc[:, 'label'] = (dataset[target_label] < target_value).astype(int)\n"
     ]
    },
    {
     "name": "stdout",
     "output_type": "stream",
     "text": [
      "label\n",
      "0    34369\n",
      "1    31600\n",
      "Name: count, dtype: int64\n",
      "58 98 174 120\n",
      "{'model_name': 'MAP_1d:RM220_TSSIM1_TL15-EXP_custHypTP0.48', 'deployment_date': '2023-11-27', 'algorithm_type': 'xgboost', 'dataset': 'MAP_1d:RM220_TSSIM1_TL15-EXP_custHypTP0.48', 'TP': 58, 'TPpct': Decimal('0'), 'FP': 98, 'FPpct': Decimal('0'), 'TN': 174, 'TNpct': Decimal('0'), 'FN': 120, 'FNpct': Decimal('0'), 'precision_ratio': Decimal('0.5918367346938775'), 'evaluation_timeperiod': '2023-11-27_2023-12-01', 'live': False, 'hyperparameters': {\"{'subsample': 0.6, 'num_round': 1000, 'min_child_weight': 10, 'max_depth': 10, 'learning_rate': 0.1, 'gamma': 2, 'colsample_bytree': 1}\"}, 'features': {\"['oneD_stddev50', 'rsi', 'close_diff', 'daily_volume_vol_diff_pct30', 'range_vol_diff5', 'SPY_diff', 'threeD_stddev50', 'close_diff3', 'min_volume_vol_diff_pct', 'month', 'return_vol_240M', 'range_vol', 'rsi5', 'roc', 'SPY_3D', 'roc5', 'roc_diff', 'price_25DDiff', 'daily_volume_vol_diff_pct', 'price_10DDiff', 'SPY_1D', 'hour_volume_vol_diff', 'hour_volume_vol_diff_pct', 'return_vol_10D', 'SPY_5D']\"}, 'target': '-0.018+one_min', 'feature_importances': \"[{'oneD_stddev50': 0.042145863}, {'rsi': 0.03459882}, {'close_diff': 0.033012778}, {'daily_volume_vol_diff_pct30': 0.031250425}, {'range_vol_diff5': 0.03079016}, {'SPY_diff': 0.028959684}, {'threeD_stddev50': 0.035743896}, {'close_diff3': 0.033982135}, {'min_volume_vol_diff_pct': 0.028396148}, {'month': 0.04220324}, {'return_vol_240M': 0.16061364}, {'range_vol': 0.03760163}, {'rsi5': 0.033610918}, {'roc': 0.03547994}, {'SPY_3D': 0.040945165}, {'roc5': 0.035793155}, {'roc_diff': 0.036511965}, {'price_25DDiff': 0.033279616}, {'daily_volume_vol_diff_pct': 0.030392682}, {'price_10DDiff': 0.035942808}, {'SPY_1D': 0.038698312}, {'hour_volume_vol_diff': 0.031626258}, {'hour_volume_vol_diff_pct': 0.03124766}, {'return_vol_10D': 0.03615801}, {'SPY_5D': 0.041015107}]\"}\n",
      "{'deployment_date': datetime.datetime(2023, 12, 4, 0, 0), 'dataset_end': datetime.datetime(2023, 11, 24, 0, 0), 'dataset_start': datetime.datetime(2018, 1, 1, 0, 0)}\n",
      "-0.014\n",
      "0.4518428385798088\n"
     ]
    },
    {
     "name": "stderr",
     "output_type": "stream",
     "text": [
      "/var/folders/tq/_9q_lv1s2bndbr3tzzn08x4r0000gn/T/ipykernel_13065/1039188303.py:2: SettingWithCopyWarning: \n",
      "A value is trying to be set on a copy of a slice from a DataFrame.\n",
      "Try using .loc[row_indexer,col_indexer] = value instead\n",
      "\n",
      "See the caveats in the documentation: https://pandas.pydata.org/pandas-docs/stable/user_guide/indexing.html#returning-a-view-versus-a-copy\n",
      "  dataset.loc[:, 'label'] = (dataset[target_label] < target_value).astype(int)\n"
     ]
    },
    {
     "name": "stdout",
     "output_type": "stream",
     "text": [
      "label\n",
      "0    31161\n",
      "1    28996\n",
      "Name: count, dtype: int64\n",
      "101 101 158 90\n",
      "{'model_name': 'MAP_1d:RM220_TSSIM1_TL15-EXP_custHypTP0.48', 'deployment_date': '2023-12-04', 'algorithm_type': 'xgboost', 'dataset': 'MAP_1d:RM220_TSSIM1_TL15-EXP_custHypTP0.48', 'TP': 101, 'TPpct': Decimal('0'), 'FP': 101, 'FPpct': Decimal('0'), 'TN': 158, 'TNpct': Decimal('0'), 'FN': 90, 'FNpct': Decimal('0'), 'precision_ratio': Decimal('1.0'), 'evaluation_timeperiod': '2023-12-04_2023-12-08', 'live': False, 'hyperparameters': {\"{'subsample': 0.6, 'num_round': 1000, 'min_child_weight': 10, 'max_depth': 10, 'learning_rate': 0.1, 'gamma': 2, 'colsample_bytree': 1}\"}, 'features': {\"['oneD_stddev50', 'rsi', 'close_diff', 'daily_volume_vol_diff_pct30', 'range_vol_diff5', 'SPY_diff', 'threeD_stddev50', 'close_diff3', 'min_volume_vol_diff_pct', 'month', 'return_vol_240M', 'range_vol', 'rsi5', 'roc', 'SPY_3D', 'roc5', 'roc_diff', 'price_25DDiff', 'daily_volume_vol_diff_pct', 'price_10DDiff', 'SPY_1D', 'hour_volume_vol_diff', 'hour_volume_vol_diff_pct', 'return_vol_10D', 'SPY_5D']\"}, 'target': '-0.014+one_min', 'feature_importances': \"[{'oneD_stddev50': 0.0777718}, {'rsi': 0.033472784}, {'close_diff': 0.03123297}, {'daily_volume_vol_diff_pct30': 0.028930698}, {'range_vol_diff5': 0.031468265}, {'SPY_diff': 0.028231042}, {'threeD_stddev50': 0.048230827}, {'close_diff3': 0.032882057}, {'min_volume_vol_diff_pct': 0.026407877}, {'month': 0.037009753}, {'return_vol_240M': 0.1050671}, {'range_vol': 0.08237663}, {'rsi5': 0.03454812}, {'roc': 0.034229133}, {'SPY_3D': 0.03595558}, {'roc5': 0.03468376}, {'roc_diff': 0.03444533}, {'price_25DDiff': 0.034991298}, {'daily_volume_vol_diff_pct': 0.028925357}, {'price_10DDiff': 0.034435205}, {'SPY_1D': 0.035105377}, {'hour_volume_vol_diff': 0.03008528}, {'hour_volume_vol_diff_pct': 0.029877702}, {'return_vol_10D': 0.034422148}, {'SPY_5D': 0.035213977}]\"}\n",
      "{'deployment_date': datetime.datetime(2023, 12, 11, 0, 0), 'dataset_end': datetime.datetime(2023, 12, 1, 0, 0), 'dataset_start': datetime.datetime(2018, 1, 1, 0, 0)}\n",
      "-0.014\n",
      "0.4523419194981548\n"
     ]
    },
    {
     "name": "stderr",
     "output_type": "stream",
     "text": [
      "/var/folders/tq/_9q_lv1s2bndbr3tzzn08x4r0000gn/T/ipykernel_13065/1039188303.py:2: SettingWithCopyWarning: \n",
      "A value is trying to be set on a copy of a slice from a DataFrame.\n",
      "Try using .loc[row_indexer,col_indexer] = value instead\n",
      "\n",
      "See the caveats in the documentation: https://pandas.pydata.org/pandas-docs/stable/user_guide/indexing.html#returning-a-view-versus-a-copy\n",
      "  dataset.loc[:, 'label'] = (dataset[target_label] < target_value).astype(int)\n"
     ]
    },
    {
     "name": "stdout",
     "output_type": "stream",
     "text": [
      "label\n",
      "0    31370\n",
      "1    29057\n",
      "Name: count, dtype: int64\n",
      "86 97 164 103\n",
      "{'model_name': 'MAP_1d:RM220_TSSIM1_TL15-EXP_custHypTP0.48', 'deployment_date': '2023-12-11', 'algorithm_type': 'xgboost', 'dataset': 'MAP_1d:RM220_TSSIM1_TL15-EXP_custHypTP0.48', 'TP': 86, 'TPpct': Decimal('0'), 'FP': 97, 'FPpct': Decimal('0'), 'TN': 164, 'TNpct': Decimal('0'), 'FN': 103, 'FNpct': Decimal('0'), 'precision_ratio': Decimal('0.8865979381443299'), 'evaluation_timeperiod': '2023-12-11_2023-12-15', 'live': False, 'hyperparameters': {\"{'subsample': 0.6, 'num_round': 1000, 'min_child_weight': 10, 'max_depth': 10, 'learning_rate': 0.1, 'gamma': 2, 'colsample_bytree': 1}\"}, 'features': {\"['oneD_stddev50', 'rsi', 'close_diff', 'daily_volume_vol_diff_pct30', 'range_vol_diff5', 'SPY_diff', 'threeD_stddev50', 'close_diff3', 'min_volume_vol_diff_pct', 'month', 'return_vol_240M', 'range_vol', 'rsi5', 'roc', 'SPY_3D', 'roc5', 'roc_diff', 'price_25DDiff', 'daily_volume_vol_diff_pct', 'price_10DDiff', 'SPY_1D', 'hour_volume_vol_diff', 'hour_volume_vol_diff_pct', 'return_vol_10D', 'SPY_5D']\"}, 'target': '-0.014+one_min', 'feature_importances': \"[{'oneD_stddev50': 0.058904234}, {'rsi': 0.0327436}, {'close_diff': 0.03131424}, {'daily_volume_vol_diff_pct30': 0.029999364}, {'range_vol_diff5': 0.031386998}, {'SPY_diff': 0.028636636}, {'threeD_stddev50': 0.04393745}, {'close_diff3': 0.032808453}, {'min_volume_vol_diff_pct': 0.027171005}, {'month': 0.03732165}, {'return_vol_240M': 0.13277079}, {'range_vol': 0.08156833}, {'rsi5': 0.032942414}, {'roc': 0.033758532}, {'SPY_3D': 0.035555393}, {'roc5': 0.03259258}, {'roc_diff': 0.034091625}, {'price_25DDiff': 0.03478226}, {'daily_volume_vol_diff_pct': 0.030303443}, {'price_10DDiff': 0.034225266}, {'SPY_1D': 0.0355308}, {'hour_volume_vol_diff': 0.0289104}, {'hour_volume_vol_diff_pct': 0.029449064}, {'return_vol_10D': 0.035281323}, {'SPY_5D': 0.034014165}]\"}\n",
      "{'deployment_date': datetime.datetime(2023, 12, 18, 0, 0), 'dataset_end': datetime.datetime(2023, 12, 8, 0, 0), 'dataset_start': datetime.datetime(2018, 1, 1, 0, 0)}\n",
      "-0.014\n",
      "0.4561949312503264\n"
     ]
    },
    {
     "name": "stderr",
     "output_type": "stream",
     "text": [
      "/var/folders/tq/_9q_lv1s2bndbr3tzzn08x4r0000gn/T/ipykernel_13065/1039188303.py:2: SettingWithCopyWarning: \n",
      "A value is trying to be set on a copy of a slice from a DataFrame.\n",
      "Try using .loc[row_indexer,col_indexer] = value instead\n",
      "\n",
      "See the caveats in the documentation: https://pandas.pydata.org/pandas-docs/stable/user_guide/indexing.html#returning-a-view-versus-a-copy\n",
      "  dataset.loc[:, 'label'] = (dataset[target_label] < target_value).astype(int)\n"
     ]
    },
    {
     "name": "stdout",
     "output_type": "stream",
     "text": [
      "label\n",
      "0    31748\n",
      "1    29399\n",
      "Name: count, dtype: int64\n",
      "52 50 232 116\n",
      "{'model_name': 'MAP_1d:RM220_TSSIM1_TL15-EXP_custHypTP0.48', 'deployment_date': '2023-12-18', 'algorithm_type': 'xgboost', 'dataset': 'MAP_1d:RM220_TSSIM1_TL15-EXP_custHypTP0.48', 'TP': 52, 'TPpct': Decimal('0'), 'FP': 50, 'FPpct': Decimal('0'), 'TN': 232, 'TNpct': Decimal('0'), 'FN': 116, 'FNpct': Decimal('0'), 'precision_ratio': Decimal('1.04'), 'evaluation_timeperiod': '2023-12-18_2023-12-22', 'live': False, 'hyperparameters': {\"{'subsample': 0.6, 'num_round': 1000, 'min_child_weight': 10, 'max_depth': 10, 'learning_rate': 0.1, 'gamma': 2, 'colsample_bytree': 1}\"}, 'features': {\"['oneD_stddev50', 'rsi', 'close_diff', 'daily_volume_vol_diff_pct30', 'range_vol_diff5', 'SPY_diff', 'threeD_stddev50', 'close_diff3', 'min_volume_vol_diff_pct', 'month', 'return_vol_240M', 'range_vol', 'rsi5', 'roc', 'SPY_3D', 'roc5', 'roc_diff', 'price_25DDiff', 'daily_volume_vol_diff_pct', 'price_10DDiff', 'SPY_1D', 'hour_volume_vol_diff', 'hour_volume_vol_diff_pct', 'return_vol_10D', 'SPY_5D']\"}, 'target': '-0.014+one_min', 'feature_importances': \"[{'oneD_stddev50': 0.06989228}, {'rsi': 0.03174823}, {'close_diff': 0.031903278}, {'daily_volume_vol_diff_pct30': 0.029461611}, {'range_vol_diff5': 0.032508522}, {'SPY_diff': 0.029422523}, {'threeD_stddev50': 0.0427849}, {'close_diff3': 0.03366176}, {'min_volume_vol_diff_pct': 0.026752383}, {'month': 0.03741508}, {'return_vol_240M': 0.12488301}, {'range_vol': 0.074705705}, {'rsi5': 0.032683793}, {'roc': 0.033705495}, {'SPY_3D': 0.03625644}, {'roc5': 0.034384675}, {'roc_diff': 0.034787446}, {'price_25DDiff': 0.03571203}, {'daily_volume_vol_diff_pct': 0.029228609}, {'price_10DDiff': 0.0328585}, {'SPY_1D': 0.035729382}, {'hour_volume_vol_diff': 0.029653326}, {'hour_volume_vol_diff_pct': 0.031130228}, {'return_vol_10D': 0.0342794}, {'SPY_5D': 0.03445138}]\"}\n"
     ]
    }
   ],
   "source": [
    "target_percentile = 0.48\n",
    "model_name = f'MAP_1d:RM220_TSSIM1_TL15-EXP_custHypTP{target_percentile}'\n",
    "# model_name = 'GAIN:TSSIM1_TL15_custHypP3'\n",
    "dataset_name = f'MAP_1d:RM220_TSSIM1_TL15-EXP_custHypTP{target_percentile}'\n",
    "title = 'MAP_1d'\n",
    "hyperparams = {'subsample': 0.6, 'num_round': 1000, 'min_child_weight': 10, 'max_depth': 10, 'learning_rate': 0.1, 'gamma': 2, 'colsample_bytree': 1}\n",
    "features = ['oneD_stddev50', 'rsi', 'close_diff', 'daily_volume_vol_diff_pct30', 'range_vol_diff5', 'SPY_diff', 'threeD_stddev50', 'close_diff3', 'min_volume_vol_diff_pct', 'month', \n",
    "            'return_vol_240M', 'range_vol', 'rsi5', 'roc', 'SPY_3D', 'roc5', 'roc_diff', 'price_25DDiff', 'daily_volume_vol_diff_pct', 'price_10DDiff', 'SPY_1D', 'hour_volume_vol_diff', \n",
    "            'hour_volume_vol_diff_pct', 'return_vol_10D', 'SPY_5D']\n",
    "target_label = 'one_min'\n",
    "\n",
    "dataset_start_date = datetime(2018,1,1,tzinfo=pytz.timezone('US/Eastern')) \n",
    "dates_list = build_evaluation_period(datetime(2022,10,3), datetime(2023,12,23))\n",
    "\n",
    "# date = dates_list[-1]\n",
    "# print(date)\n",
    "# response = model_runner_data(start_date=datetime(2018,1,1),end_date=datetime(2023,12,23))\n",
    "\n",
    "# dataset = pull_training_data_local(start_date=datetime(2018,1,1),end_date=datetime(2023,10,28))\n",
    "# print(dataset['three_max'].describe())\n",
    "\n",
    "for date in dates_list:\n",
    "    print(date)\n",
    "    response = model_runner_v2(model_name, dataset_name, title, features, target_label, target_percentile,\"dataset_start_date\",date['dataset_end'],date['deployment_date'], str(features),str(hyperparams), hyperparams, local_data=True, dataset_start_date=date['dataset_start'])\n",
    "    \n"
   ]
  },
  {
   "cell_type": "code",
   "execution_count": 37,
   "metadata": {},
   "outputs": [],
   "source": [
    "# def convert_timestamp_est(timestamp):\n",
    "#     # Create a naive datetime object from the UNIX timestamp\n",
    "#     dt_naive = datetime.utcfromtimestamp(timestamp)\n",
    "#     # Convert the naive datetime object to a timezone-aware one (UTC)\n",
    "#     dt_utc = pytz.utc.localize(dt_naive)\n",
    "#     # Convert the UTC datetime to EST\n",
    "#     dt_est = dt_utc.astimezone(pytz.timezone('US/Eastern'))\n",
    "    \n",
    "#     return dt_est\n",
    "\n",
    "\n",
    "# data = pd.read_csv(f'/Users/charlesmiller/Documents/model_tester_data/GAIN/2018-01-01_2023-12-23_trainTL10.csv')\n",
    "# data['date'] = data['date'].astype(str)\n",
    "# data['date'] = data['date'].apply(lambda x: x.split(\" \")[0])\n",
    "# data = data.drop(data[data['date'] == 'nan'].index)\n",
    "# # data.drop('date',axis=1,inplace=True)\n",
    "# # data['date'] = data['t'].apply(lambda x: convert_timestamp_est(x))\n",
    "# # data.drop(['one_pct','three_pct','Unnamed: 0.2', \"Unnamed: 0\",\"Unnamed: 0.1\", \"date_x\",\"date_y\",'vw_x', 'n_x', 'return_vol_240M_x', 'volume_vol_240M_x', 'return_vol_450M_x', 'volume_vol_450M_x', 'min_vol_diff_x', 'min_vol_diff_pct_x', 'min_volume_vol_diff_x', 'min_volume_vol_diff_pct_x', 'return_vol_8H_x', 'return_vol_16H_x', 'volume_vol_8H_x', 'volume_vol_16H_x', 'hour_vol_diff_x', 'hour_vol_diff_pct_x', 'hour_volume_vol_diff_x', 'hour_volume_vol_diff_pct_x', 'return_vol_5D_x', 'return_vol_10D_x', 'return_vol_30D_x', 'volume_vol_5D_x', 'volume_vol_10D_x', 'volume_vol_30D_x', 'daily_vol_diff_x', 'daily_vol_diff_pct_x', 'daily_vol_diff30_x', 'daily_vol_diff_pct30_x', 'daily_volume_vol_diff_x', 'daily_volume_vol_diff_pct_x', 'daily_volume_vol_diff30_x', 'daily_volume_vol_diff_pct30_x', 'vw_y', 'n_y', 'return_vol_240M_y', 'volume_vol_240M_y', 'return_vol_450M_y', 'volume_vol_450M_y', 'min_vol_diff_y', 'min_vol_diff_pct_y', 'min_volume_vol_diff_y', 'min_volume_vol_diff_pct_y', 'return_vol_8H_y', 'return_vol_16H_y', 'volume_vol_8H_y', 'volume_vol_16H_y', 'hour_vol_diff_y', 'hour_vol_diff_pct_y', 'hour_volume_vol_diff_y', 'hour_volume_vol_diff_pct_y', 'return_vol_5D_y', 'return_vol_10D_y', 'return_vol_30D_y', 'volume_vol_5D_y', 'volume_vol_10D_y', 'volume_vol_30D_y', 'daily_vol_diff_y', 'daily_vol_diff_pct_y', 'daily_vol_diff30_y', 'daily_vol_diff_pct30_y', 'daily_volume_vol_diff_y', 'daily_volume_vol_diff_pct_y', 'daily_volume_vol_diff30_y', 'daily_volume_vol_diff_pct30_y'], axis=1, inplace=True)\n",
    "# data['roc_diff'] = data['roc'] - data['roc5'] \n",
    "# data['range_vol_diff5'] = (data['range_vol'] - data['range_vol5MA'])\n",
    "# data['close_diff_deviation3'] = abs(data['close_diff3'])/(data['threeD_stddev50']*100)\n",
    "# data['close_diff_deviation'] = abs(data['close_diff'])/(data['oneD_stddev50']*100)\n",
    "# data.dropna(subset=['date'], inplace=True)\n",
    "# data['date'] = data['date'].apply(lambda x: datetime.strptime(x,\"%Y-%m-%d\"))\n",
    "# data['day_of_week'] = data['date'].apply(lambda x: x.dayofweek).astype(int)\n",
    "# data['day_of_month'] = data['date'].apply(lambda x: x.day).astype(int)\n",
    "# data['month'] = data['date'].apply(lambda x: x.month).astype(int)\n",
    "# data['year'] = data['date'].apply(lambda x: x.year).astype(int)\n",
    "# data.replace([np.inf, -np.inf], 0, inplace=True)\n",
    "# data.to_csv(f'/Users/charlesmiller/Documents/model_tester_data/GAIN/2018-01-01_2023-12-23_trainTL10.csv', index=False)"
   ]
  },
  {
   "cell_type": "code",
   "execution_count": 38,
   "metadata": {},
   "outputs": [],
   "source": [
    "# def run_temporal_simulation(features, target_label, target_value, dataset_start_date, evaluation_start_date, evaluation_end_date):\n",
    "#     tp_avg_list = []\n",
    "#     gross_accuracy_list = []\n",
    "#     # fn_list = []\n",
    "#     # tn_list = []\n",
    "    \n",
    "#     hyperparams = {'subsample': 0.6, 'num_round': 1000, 'min_child_weight': 10, 'max_depth': 10, 'learning_rate': 0.1, 'gamma': 2, 'colsample_bytree': 1}\n",
    "#     dates_list = build_evaluation_period(evaluation_start_date, evaluation_end_date)\n",
    "#     for date in dates_list:\n",
    "#         tp, fp, fn, tn = model_runner_temporal_simulation(features, target_label, target_value,dataset_start_date,date['dataset_end'],date['deployment_date'], hyperparams)\n",
    "#         tp_avg_list.append(tp)\n",
    "#         gross_accuracy_list.append((tp-fp))\n",
    "\n",
    "#     return tp_avg_list, gross_accuracy_list\n"
   ]
  },
  {
   "cell_type": "code",
   "execution_count": 39,
   "metadata": {},
   "outputs": [],
   "source": [
    "# number_of_simulations = 200\n",
    "# now = datetime.now()\n",
    "# title = 'GAIN'\n",
    "# # total_feature_list = ['hour','year','month','day_of_month',\n",
    "# #        'price7', 'price14', 'adjusted_volume', 'vol7', 'vol14',\n",
    "# #        'rsi', 'rsi3', 'rsi5', 'roc', 'roc3', 'roc5', 'threeD_returns_close',\n",
    "# #        'oneD_returns_close', 'range_vol', 'range_vol5MA', 'range_vol10MA',\n",
    "# #        'range_vol25MA', 'oneD_stddev50', 'threeD_stddev50', 'cmf',\n",
    "# #        'close_diff', 'close_diff3', 'close_diff5', 'v_diff_pct', 'adx',\n",
    "# #        'volume_10MA', 'volume_25MA', 'price_10MA', 'price_25MA',\n",
    "# #        'volume_10DDiff', 'volume_25DDiff', 'price_10DDiff', 'price_25DDiff',\n",
    "# #        'day_of_week','close_diff_deviation3','close_diff_deviation','roc_diff','range_vol_diff5',\n",
    "# #        'return_vol_240M', 'volume_vol_240M', 'return_vol_450M', 'volume_vol_450M', 'min_vol_diff', 'min_vol_diff_pct', 'min_volume_vol_diff', \n",
    "# #        'min_volume_vol_diff_pct', 'return_vol_8H', 'return_vol_16H', 'volume_vol_8H', 'volume_vol_16H', 'hour_vol_diff', 'hour_vol_diff_pct', 'hour_volume_vol_diff', \n",
    "# #        'hour_volume_vol_diff_pct', 'return_vol_5D', 'return_vol_10D', 'return_vol_30D', 'volume_vol_5D', 'volume_vol_10D', 'volume_vol_30D', 'daily_vol_diff', 'daily_vol_diff_pct',\n",
    "# #        'daily_vol_diff30', 'daily_vol_diff_pct30', 'daily_volume_vol_diff', 'daily_volume_vol_diff_pct', 'daily_volume_vol_diff30', 'daily_volume_vol_diff_pct30']\n",
    "# testing_features = ['hour', 'day_of_week','month','daily_vol_diff30', 'hour_volume_vol_diff', 'roc_diff', \n",
    "# 'range_vol', 'volume_vol_8H','close_diff3', 'close_diff5',\n",
    "# 'range_vol_diff5', 'SPY_diff', 'SPY_diff3','SPY_diff5','rsi5','roc5',\n",
    "# 'return_vol_10D', 'return_vol_8H', 'return_vol_16H', 'return_vol_450M', 'adx', \n",
    "# 'rsi','roc','rsi3','roc3','daily_vol_diff', 'SPY_1D','SPY_3D', 'SPY_5D','min_vol_diff', 'return_vol_240M', \n",
    "# 'price_25DDiff', 'price_10DDiff','daily_vol_diff_pct30','threeD_stddev50',\n",
    "# 'price7', 'daily_vol_diff_pct', 'oneD_stddev50', 'volume_vol_16H','min_volume_vol_diff_pct',\n",
    "# 'close_diff_deviation','close_diff','daily_volume_vol_diff_pct','hour_volume_vol_diff_pct','daily_volume_vol_diff_pct30']\n",
    "\n",
    "# target_label = 'three_max'\n",
    "# target_value = .03\n",
    "# results_array = []\n",
    "\n",
    "# i = 0\n",
    "# while i < number_of_simulations:\n",
    "#        model_name = f\"{title}_temporal_simulation_{i}\"\n",
    "#        print(model_name)\n",
    "#        random_int = random.randint(20, 35)\n",
    "#        features = random.sample(testing_features, random_int)\n",
    "#        print(features)\n",
    "#        tp_avg_list, gross_accuracy_list = run_temporal_simulation(features, target_label, target_value, dataset_start_date=datetime(2018,1,1), evaluation_start_date=datetime(2022,10,3), evaluation_end_date=datetime(2023,10,2))        \n",
    "#        tp_avg = sum(tp_avg_list)/len(tp_avg_list)\n",
    "#        gross_accuracy = sum(gross_accuracy_list)/len(gross_accuracy_list)\n",
    "#        print(tp_avg, gross_accuracy)\n",
    "#        print()\n",
    "#        results_array.append({\"model_name\": model_name, \"features\": features, \"tp_avg\": tp_avg, \"gross_accuracy\": gross_accuracy,\"num_features\": random_int})\n",
    "#        i += 1\n",
    "\n",
    "# results_df = pd.DataFrame(results_array)\n",
    "# results_df.to_csv(f'/Users/charlesmiller/Documents/temporal_simulation_results/{title}/{now.year}_{now.month}_{now.day}.csv', index=False)"
   ]
  },
  {
   "cell_type": "code",
   "execution_count": null,
   "metadata": {},
   "outputs": [],
   "source": []
  },
  {
   "cell_type": "code",
   "execution_count": null,
   "metadata": {},
   "outputs": [],
   "source": []
  }
 ],
 "metadata": {
  "kernelspec": {
   "display_name": "model-tester-d0oOM2ve",
   "language": "python",
   "name": "python3"
  },
  "language_info": {
   "codemirror_mode": {
    "name": "ipython",
    "version": 3
   },
   "file_extension": ".py",
   "mimetype": "text/x-python",
   "name": "python",
   "nbconvert_exporter": "python",
   "pygments_lexer": "ipython3",
   "version": "3.9.10"
  },
  "orig_nbformat": 4
 },
 "nbformat": 4,
 "nbformat_minor": 2
}
