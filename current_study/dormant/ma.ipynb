{
 "cells": [
  {
   "cell_type": "code",
   "execution_count": 14,
   "metadata": {},
   "outputs": [],
   "source": [
    "import boto3\n",
    "import numpy as np\n",
    "import pandas as pd\n",
    "import matplotlib.pyplot as plt\n",
    "import seaborn as sns\n",
    "from datetime import datetime, timedelta\n",
    "from sklearn.metrics import confusion_matrix, ConfusionMatrixDisplay\n",
    "from sklearn.metrics import accuracy_score\n",
    "from sklearn.model_selection import GridSearchCV\n",
    "import xgboost as xgb\n",
    "import math\n",
    "import random\n",
    "from decimal import Decimal, getcontext\n",
    "import pandas_market_calendars as mcal\n",
    "import ast\n",
    "from sklearn.preprocessing import StandardScaler\n",
    "import pytz\n",
    "from helpers.constants import *"
   ]
  },
  {
   "cell_type": "code",
   "execution_count": 15,
   "metadata": {},
   "outputs": [],
   "source": [
    "s3 = boto3.client('s3')\n",
    "\n",
    "training_bucket = \"icarus-research-data\"\n",
    "training_prefix = 'training_datasets/expanded_1d_datasets/'\n",
    "\n",
    "# Create a calendar\n",
    "nyse = mcal.get_calendar('NYSE')\n",
    "holidays = nyse.regular_holidays\n",
    "market_holidays = holidays.holidays()\n",
    "\n",
    "weekly_expiries = ['SPY', 'IVV', 'QQQ', 'GLD', 'IWM', 'EFA', 'XLK', 'XLV', 'TLT', 'LQD', 'XLE', 'TQQQ', 'SQQQ', 'SPXS', 'SPXL', 'SOXL', 'SOXS', 'MMM', 'ABT', 'ABBV', 'ACN', 'ATVI', 'ADM', 'ADBE', 'ADP', \n",
    "                   'AAP', 'AFL', 'ALB', 'ALGN', 'GOOGL', 'GOOG', 'MO', 'AMZN', 'AMD', 'AAL', 'AXP', 'AIG', 'ABC', 'AMGN', 'ADI', 'APA', 'AAPL', 'AMAT', 'ANET', 'T', 'ADSK', 'BAC', 'BBWI', 'BAX', 'BBY', 'BIIB', \n",
    "                   'BLK', 'BA', 'BKNG', 'BMY', 'AVGO', 'CZR', 'CPB', 'COF', 'CAH', 'KMX', 'CCL', 'CAT', 'CBOE', 'CNC', 'CF', 'SCHW', 'CHTR', 'CVX', 'CMG', 'CI', 'CSCO', 'C', 'CLX', 'CME', 'KO', 'CMCSA', 'CMA', 'CAG', \n",
    "                   'COP', 'STZ', 'GLW', 'COST', 'CTRA', 'CSX', 'CVS', 'DHI', 'DHR', 'DE', 'DAL', 'DVN', 'DLR', 'DFS', 'DISH', 'DIS', 'DG', 'DLTR', 'DPZ', 'DOW', 'DD', 'EBAY', 'EA', 'ELV', 'LLY', 'EMR', 'ENPH', 'EOG', 'EQT', \n",
    "                   'ETSY', 'EXPE', 'XOM', 'FDX', 'FITB', 'FSLR', 'FI', 'F', 'FTNT', 'FOXA', 'FCX', 'GEHC', 'GNRC', 'GD', 'GE', 'GM', 'GILD', 'GS', 'HAL', 'HSY', 'HES', 'HD', 'HON', 'HRL', 'HPQ', 'HUM', 'HBAN', 'IBM', 'ILMN', \n",
    "                   'INTC', 'IP', 'INTU', 'ISRG', 'JNJ', 'JPM', 'JNPR', 'KEY', 'KMB', 'KMI', 'KLAC', 'KHC', 'KR', 'LRCX', 'LVS', 'LEN', 'LMT', 'LOW', 'MRO', 'MPC', 'MAR', 'MA', 'MTCH', 'MCD', 'MCK', 'MDT', 'MRK', 'META', 'MET', \n",
    "                   'MGM', 'MU', 'MSFT', 'MRNA', 'MDLZ', 'MS', 'MOS', 'NTAP', 'NFLX', 'NEM', 'NKE', 'NSC', 'NOC', 'NCLH', 'NUE', 'NVDA', 'NXPI', 'OXY', 'ON', 'ORCL', 'PARA', 'PYPL', 'PEP', 'PFE', 'PCG', 'PM', 'PSX', 'PXD', 'PNC', \n",
    "                   'PPG', 'PG', 'PHM', 'QCOM', 'RTX', 'REGN', 'ROST', 'RCL', 'SPGI', 'CRM', 'SLB', 'STX', 'NOW', 'SWKS', 'SEDG', 'SO', 'LUV', 'SBUX', 'TMUS', 'TROW', 'TTWO', 'TPR', 'TGT', 'TSLA', 'TXN', 'TMO', 'TJX', 'TSCO', 'TFC', \n",
    "                   'TSN', 'USB', 'ULTA', 'UNP', 'UAL', 'UPS', 'URI', 'UNH', 'VLO', 'VZ', 'VRTX', 'VFC', 'V', 'WBA', 'WMT', 'WBD', 'WM', 'WFC', 'WDC', 'WHR', 'WMB', 'WYNN', 'ZION']\n",
    "\n",
    "leveraged_etfs = [\"TQQQ\",\"SQQQ\",\"SPXS\",\"SPXL\",\"SOXL\",\"SOXS\"]\n",
    "high_vol = ['COIN','BILI','UPST','CVNA',\"TQQQ\",\"SQQQ\",\"SPXS\",\"SPXL\",\"SOXL\",\"SOXS\",\"NIO\",\"BABA\",\"ROKU\",\"RBLX\",\"SE\",\"SNAP\",\"LCID\",'RIVN',\"BIDU\",\"FUTU\",\"TSLA\",\"JD\",\"HOOD\",\"CHWY\"]\n",
    "expensive = [\"CMG\",\"NFLX\",\"AVGO\",\"BKNG\",\"ABNB\"]\n",
    "indexes = ['QQQ','IWM','TLT','VXX','SPY']\n"
   ]
  },
  {
   "cell_type": "code",
   "execution_count": 16,
   "metadata": {},
   "outputs": [],
   "source": [
    "def create_training_data_local(key_list, prefix, bucket_name, alert_type, start_date, end_date):\n",
    "    df_list = []\n",
    "    hours = [10,11,12,13,14,15]\n",
    "    start = start_date.split(' ')[0]\n",
    "    end = end_date.split(' ')[0]\n",
    "    for key in key_list:\n",
    "        for hour in hours:\n",
    "            try:\n",
    "                data = s3.get_object(Bucket=bucket_name, Key=f'{prefix}{key}/{alert_type}/{hour}.csv')\n",
    "                df = pd.read_csv(data.get(\"Body\")) \n",
    "                df = df.loc[df['symbol'].isin(WEEKLY_EXP)]\n",
    "                df = df.loc[~df['symbol'].isin(high_vol)]\n",
    "                df = df.iloc[:10]\n",
    "                df_list.append(df)\n",
    "                # df['hour'] = hour\n",
    "            except:\n",
    "                continue\n",
    "\n",
    "    data = pd.concat(df_list)\n",
    "    data.reset_index(drop=True, inplace=True)\n",
    "    data.replace([np.inf, -np.inf], 0, inplace=True)\n",
    "    data.to_csv(f'/Users/charlesmiller/Documents/model_tester_data/GAIN/{start}_{end}_trainTL10.csv', index=False)\n",
    "    return data\n",
    "\n",
    "def create_validation_data_local(key_list, prefix, bucket_name, alert_type, start_date, end_date):\n",
    "    df_list = []\n",
    "    hours = [10,11,12,13,14,15]\n",
    "    start = start_date.split(' ')[0]\n",
    "    end = end_date.split(' ')[0]\n",
    "    for key in key_list:\n",
    "        for hour in hours:\n",
    "            try:\n",
    "                data = s3.get_object(Bucket=bucket_name, Key=f'{prefix}{key}/{alert_type}/{hour}.csv')\n",
    "                df = pd.read_csv(data.get(\"Body\")) \n",
    "                df = df.loc[df['symbol'].isin(TRADING_SYMBOLS)]\n",
    "                df = df.loc[~df['symbol'].isin(high_vol)]\n",
    "                df = df.iloc[:6]\n",
    "                df_list.append(df)\n",
    "                # df['hour'] = hour\n",
    "            except:\n",
    "                continue\n",
    "\n",
    "    data = pd.concat(df_list)\n",
    "    data.reset_index(drop=True, inplace=True)\n",
    "    data.replace([np.inf, -np.inf], 0, inplace=True)\n",
    "    data.to_csv(f'/Users/charlesmiller/Documents/model_tester_data/GAIN/{start}_{end}_validationTR6.csv', index=False)\n",
    "    return data\n",
    "\n",
    "def pull_training_data_local(end_date,start_date):\n",
    "    data = pd.read_csv(f'/Users/charlesmiller/Documents/model_tester_data/MA/2018-01-01_2023-12-23_trainTL15.csv')\n",
    "    data['dt'] = pd.to_datetime(data['date'])\n",
    "    data = data.loc[data['dt'] <= end_date]\n",
    "    data = data.loc[~data['symbol'].isin(high_vol)]\n",
    "    data = data.loc[~data['symbol'].isin(expensive)]\n",
    "    data = data.loc[~data['symbol'].isin(leveraged_etfs)]\n",
    "    data.replace([np.inf, -np.inf], 0, inplace=True)\n",
    "\n",
    "    return data\n",
    "\n",
    "\n",
    "def pull_validation_data_local(end_date,start_date):\n",
    "    data = pd.read_csv(f'/Users/charlesmiller/Documents/model_tester_data/MA/2018-01-01_2023-12-23_validationTL15.csv')\n",
    "    data['dt'] = pd.to_datetime(data['date'])\n",
    "    data = data.loc[~data['symbol'].isin(high_vol)]\n",
    "    data = data.loc[~data['symbol'].isin(expensive)]\n",
    "    data = data.loc[~data['symbol'].isin(leveraged_etfs)]\n",
    "    data = data.loc[data['dt'] <= end_date]\n",
    "    data = data.loc[data['dt'] >= start_date]\n",
    "    data.replace([np.inf, -np.inf], 0, inplace=True)\n",
    "\n",
    "    return data"
   ]
  },
  {
   "cell_type": "code",
   "execution_count": 17,
   "metadata": {},
   "outputs": [],
   "source": [
    "def build_date_list(start_date, end_date):\n",
    "    print(start_date, end_date)\n",
    "    date_diff = end_date - start_date\n",
    "    numdays = date_diff.days \n",
    "    dateList = []\n",
    "    for x in range (0, numdays):\n",
    "        temp_date = start_date + timedelta(days = x)\n",
    "        if temp_date.weekday() > 4:\n",
    "            continue\n",
    "        else:\n",
    "            dateList.append(temp_date)\n",
    "    return dateList\n",
    "\n",
    "def build_query_keys_hist():\n",
    "    start_date = datetime(2021,1,5)\n",
    "    date_diff = datetime(2022,7,29) - start_date\n",
    "    numdays = date_diff.days \n",
    "    key_list = []\n",
    "    for x in range (0, numdays):\n",
    "        temp_date = start_date + timedelta(days = x)\n",
    "        if temp_date.weekday() > 4:\n",
    "            continue\n",
    "        else:\n",
    "            date_str = temp_date.strftime('%Y-%m-%d')\n",
    "            if date_str in market_holidays:\n",
    "                continue\n",
    "            else:\n",
    "                date_str = date_str.replace(\"-\",\"/\")\n",
    "                key_list.append(date_str)\n",
    "        \n",
    "    return key_list\n",
    "    \n",
    "def build_query_keys(dates):\n",
    "    key_list = []\n",
    "    for date in dates:\n",
    "        date_str = date.strftime('%Y-%m-%d')\n",
    "        if date_str in market_holidays:\n",
    "            continue\n",
    "        else:\n",
    "            year, month, day = date_str.split('-')\n",
    "            temp = f'{year}/{month}/{day}'\n",
    "            key_list.append(temp)\n",
    "\n",
    "    return key_list\n",
    "\n",
    "def build_query_keys_validation(end_date):\n",
    "    validation_end_date = end_date + timedelta(days=7)\n",
    "    dates = build_date_list(end_date, validation_end_date)\n",
    "    key_list = []\n",
    "    for date in dates:\n",
    "        date_str = date.strftime('%Y-%m-%d')\n",
    "        if date_str in market_holidays:\n",
    "            continue\n",
    "        else:\n",
    "            year, month, day = date_str.split('-')\n",
    "            temp = f'{year}/{month}/{day}'\n",
    "            key_list.append(temp)\n",
    "\n",
    "    return key_list\n",
    "\n",
    "def build_validation_dates_local(deployment_date):\n",
    "    end_date = deployment_date + timedelta(days=5)\n",
    "    return end_date"
   ]
  },
  {
   "cell_type": "code",
   "execution_count": 18,
   "metadata": {},
   "outputs": [],
   "source": [
    "def model_results_analyzer(predictions, y_validate, target_value):\n",
    "    result_list = []\n",
    "    counter = 0\n",
    "    predictions_series = pd.Series(predictions,name='prediction_values')\n",
    "    for x in predictions:\n",
    "        if x == 1:\n",
    "            if y_validate.iloc[counter] == 1:\n",
    "                classification_result = 0\n",
    "            else:\n",
    "                classification_result = 1\n",
    "        elif x == 0:\n",
    "            if y_validate.iloc[counter] == 0:\n",
    "                classification_result = 2\n",
    "            else: \n",
    "                classification_result = 3\n",
    "        result_list.append(classification_result)\n",
    "        counter += 1\n",
    "    three_max = pd.Series(y_validate,name='three_max')\n",
    "    df = pd.concat([pd.Series(result_list,name='classifier_performance'),predictions_series,three_max],axis=1)\n",
    "    df.reset_index(drop=True, inplace=True)\n",
    "    # df = pd.DataFrame([result_list, y_validate], columns=['classifier_performance', 'prediction_score'])\n",
    "\n",
    "    tp = df.loc[df['classifier_performance'] == 0]\n",
    "    fp = df.loc[df['classifier_performance'] == 1]\n",
    "    tn = df.loc[df['classifier_performance'] == 2]\n",
    "    fn = df.loc[df['classifier_performance'] == 3]\n",
    "\n",
    "    # tp_scr = tp[\"prediction_score\"].mean()\n",
    "    # fp_scr = fp[\"prediction_score\"].mean()\n",
    "    # tn_scr = tn[\"prediction_score\"].mean()\n",
    "    # fn_scr = fn[\"prediction_score\"].mean()\n",
    "\n",
    "    return len(tp), \"0\", len(fp), \"0\", len(tn), \"0\", len(fn), \"0\""
   ]
  },
  {
   "cell_type": "code",
   "execution_count": 19,
   "metadata": {},
   "outputs": [],
   "source": [
    "def create_dynamo_record(tp, tp_scr, fp, fp_scr, tn, tn_scr, fn, fn_scr, model_name, deployment_date, dataset_name, hyperparam_str, feature_str, target_str, fi_list):    \n",
    "    ddb = boto3.resource('dynamodb','us-east-1')\n",
    "    table = ddb.Table('icarus-models-results-table')\n",
    "    eval_start = deployment_date\n",
    "    eval_end = deployment_date + timedelta(days=4)\n",
    "    try:\n",
    "        precision = (tp/fp)\n",
    "    except:\n",
    "        precision = 0\n",
    "\n",
    "    ## FILL IN\n",
    "    item={\n",
    "        'model_name': model_name,\n",
    "        'deployment_date': deployment_date.strftime(\"%Y-%m-%d\"),\n",
    "        'algorithm_type': 'xgboost',\n",
    "        'dataset': dataset_name,\n",
    "        'TP': tp,\n",
    "        'TPpct': Decimal(\"0\"),\n",
    "        'FP': fp,\n",
    "        'FPpct': Decimal(\"0\"),\n",
    "        'TN': tn,\n",
    "        'TNpct': Decimal(\"0\"),\n",
    "        'FN': fn,\n",
    "        'FNpct': Decimal(\"0\"),\n",
    "        'precision_ratio': Decimal(str(precision)),\n",
    "        'evaluation_timeperiod': f'{eval_start.strftime(\"%Y-%m-%d\")}_{eval_end.strftime(\"%Y-%m-%d\")}',\n",
    "        'live': False,\n",
    "        'hyperparameters': {hyperparam_str},\n",
    "        'features' : {feature_str},\n",
    "        'target' : target_str,\n",
    "        'feature_importances': fi_list\n",
    "\n",
    "    }\n",
    "\n",
    "    print(item)\n",
    "    response = table.put_item(\n",
    "            Item=item\n",
    "        )\n",
    "\n",
    "    return response"
   ]
  },
  {
   "cell_type": "code",
   "execution_count": 20,
   "metadata": {},
   "outputs": [],
   "source": [
    "def train_model(features, dataset, validation_dataset, target_label, target_value, hyperparams):\n",
    "    dataset.loc[:, 'label'] = (dataset[target_label] > target_value).astype(int)\n",
    "    validation_dataset.loc[:, 'label'] = (validation_dataset[target_label] > target_value).astype(int)\n",
    "\n",
    "    # dataset = dataset.round(3)\n",
    "    # validation_dataset = validation_dataset.round(3)\n",
    "\n",
    "    X = dataset[features].astype(float)\n",
    "    y = dataset['label']\n",
    "\n",
    "    X_validate = validation_dataset[features].astype(float)\n",
    "    y_validate = validation_dataset['label']\n",
    "\n",
    "\n",
    "    xgb_model = xgb.XGBClassifier(subsample=hyperparams['subsample'],num_round=hyperparams['num_round'],min_child_weight=hyperparams['min_child_weight'],max_depth=hyperparams['max_depth'],learning_rate=hyperparams['learning_rate'],gamma=hyperparams['gamma'],colsample_bytree=hyperparams['colsample_bytree'],verbosity=0,objective='binary:logistic',random_state=42)\n",
    "    xgb_model.fit(X,y)\n",
    "\n",
    "    print(y.value_counts())\n",
    "    predictions = xgb_model.predict(X_validate)\n",
    "    probabilities = xgb_model.predict_proba(X_validate)\n",
    "    tp, tp_scr, fp, fp_scr, tn, tn_scr, fn, fn_scr = model_results_analyzer(predictions, y_validate, target_value)\n",
    "\n",
    "    fi = xgb_model.feature_importances_\n",
    "    fi_list = []\n",
    "    counter = 0\n",
    "    for x in features:\n",
    "        fi_list.append({x:fi[counter]})\n",
    "        counter += 1\n",
    "    print(tp,fp,tn,fn)\n",
    "    return tp, tp_scr, fp, fp_scr, tn, tn_scr, fn, fn_scr,str(fi_list), predictions, probabilities\n",
    "\n",
    "\n",
    "def train_model_TSSim(features, dataset, validation_dataset, target_label, target_value, hyperparams):\n",
    "    dataset.loc[:, 'label'] = (dataset[target_label] > target_value).astype(int)\n",
    "    validation_dataset.loc[:, 'label'] = (validation_dataset[target_label] > target_value).astype(int)\n",
    "\n",
    "    dataset = dataset.round(5)\n",
    "    validation_dataset = validation_dataset.round(3)\n",
    "\n",
    "\n",
    "    X = dataset[features].astype(float)\n",
    "    y = dataset['label']\n",
    "\n",
    "    X_validate = validation_dataset[features].astype(float)\n",
    "    y_validate = validation_dataset['label']\n",
    "    \n",
    "\n",
    "    xgb_model = xgb.XGBClassifier(subsample=hyperparams['subsample'],num_round=hyperparams['num_round'],min_child_weight=hyperparams['min_child_weight'],max_depth=hyperparams['max_depth'],learning_rate=hyperparams['learning_rate'],gamma=hyperparams['gamma'],colsample_bytree=hyperparams['colsample_bytree'],verbosity=0,objective='binary:logistic',random_state=42)\n",
    "    xgb_model.fit(X,y)\n",
    "\n",
    "    predictions = xgb_model.predict(X_validate)\n",
    "    tp, tp_scr, fp, fp_scr, tn, tn_scr, fn, fn_scr = model_results_analyzer(predictions, y_validate, target_value)\n",
    "\n",
    "    return tp, tp_scr, fp, fp_scr, tn, tn_scr, fn, fn_scr,\"str(fi_list)\", predictions, \"probabilities\""
   ]
  },
  {
   "cell_type": "code",
   "execution_count": 21,
   "metadata": {},
   "outputs": [],
   "source": [
    "def model_runner_v2(model_name, dataset_name, title, features, target_label, target_percentile, start_date, end_date,deployment_date, feature_str, hyperparams_str, hyperparams,local_data, dataset_start_date):\n",
    "    validation_end_date = build_validation_dates_local(deployment_date)\n",
    "    validation_dataset = pull_validation_data_local(validation_end_date,deployment_date)\n",
    "    dataset = pull_training_data_local(end_date, dataset_start_date)\n",
    "    dates_list = pull_gmm_labels(deployment_date)\n",
    "    rm_dataset = dataset.loc[dataset['dt'].isin(dates_list)]\n",
    "    target_value = rm_dataset[target_label].quantile(target_percentile).round(3)\n",
    "    print(target_value)\n",
    "    print(len(rm_dataset)/len(dataset))\n",
    "    tp, tp_scr, fp, fp_scr, tn, tn_scr, fn, fn_scr, fi_list, predictions, probabilities = train_model(features, rm_dataset, validation_dataset, target_label, target_value, hyperparams)\n",
    "    response = create_dynamo_record(tp, tp_scr, fp, fp_scr, tn, tn_scr, fn, fn_scr, model_name, deployment_date, dataset_name,hyperparams_str,feature_str, f\"{target_value}+{target_label}\", fi_list)\n",
    "    validation_dataset['probabilities'] = probabilities[:,1]\n",
    "    validation_dataset['predictions'] = predictions\n",
    "    validation_dataset['target_value'] = target_value\n",
    "    validation_csv = validation_dataset.to_csv()\n",
    "    put_response = s3.put_object(Bucket=\"icarus-research-data\", Key=f\"backtesting_data/inv_alerts/{dataset_name}/{title}/{deployment_date.strftime('%Y-%m-%d')}.csv\", Body=validation_csv)\n",
    "    return \"response\"\n",
    "\n",
    "def model_runner_temporal_simulation(features, target_label, target_value,dataset_start_date,end_date,deployment_date,hyperparams):\n",
    "    validation_end_date = build_validation_dates_local(deployment_date)\n",
    "    dataset = pull_training_data_local(end_date, dataset_start_date)\n",
    "    validation_dataset = pull_validation_data_local(validation_end_date,deployment_date)\n",
    "    dataset.dropna(subset=[\"close_diff_deviation3\"],inplace=True)\n",
    "    validation_dataset.dropna(subset=[\"close_diff_deviation3\"],inplace=True)\n",
    "    dataset.dropna(subset=[\"close_diff_deviation\"],inplace=True)\n",
    "    validation_dataset.dropna(subset=[\"close_diff_deviation\"],inplace=True)\n",
    "    tp, tp_scr, fp, fp_scr, tn, tn_scr, fn, fn_scr, fi_list, predictions, probabilities = train_model_TSSim(features, dataset, validation_dataset, target_label, target_value, hyperparams)\n",
    "    return tp, fp, fn, tn \n",
    "\n",
    "def model_runner_data(start_date,end_date):\n",
    "    dates = build_date_list(start_date, end_date)\n",
    "    key_list = build_query_keys(dates)\n",
    "    print(key_list[-1])\n",
    "    train_data = create_training_data_local(key_list, 'full_alerts/weekly_exp_alerts/', 'inv-alerts', 'gainers', start_date.strftime('%Y-%m-%d %H:%M:%S'),end_date.strftime('%Y-%m-%d %H:%M:%S'))\n",
    "    # val_data = create_validation_data_local(key_list, 'full_alerts/trading_symbols_alerts/', 'inv-alerts', 'gainers', start_date.strftime('%Y-%m-%d %H:%M:%S'),end_date.strftime('%Y-%m-%d %H:%M:%S'))\n",
    "    return \"train_data\", \"val_data\""
   ]
  },
  {
   "cell_type": "code",
   "execution_count": 22,
   "metadata": {},
   "outputs": [],
   "source": [
    "def build_evaluation_period(eval_start, eval_end):\n",
    "    dates_list = []\n",
    "    while eval_start <= eval_end:\n",
    "        date_object = {\n",
    "            \"deployment_date\": eval_start,\n",
    "            \"dataset_end\": eval_start - timedelta(days=10),\n",
    "            \"dataset_start\": datetime(2018,1,1)\n",
    "        }\n",
    "        dates_list.append(date_object)\n",
    "        eval_start += timedelta(days=7)\n",
    "    return dates_list\n",
    "\n",
    "def pull_gmm_labels(date):\n",
    "    date_str = date.strftime('%Y-%m-%d')\n",
    "    data_20d = s3.get_object(Bucket=\"icarus-research-data\", Key=f'regime_modeling_data/gmm20d_labels_RM2/{date_str}.csv')\n",
    "    data_10d = s3.get_object(Bucket=\"icarus-research-data\", Key=f'regime_modeling_data/gmm10d_labels_RM2/{date_str}.csv')\n",
    "    data_3d = s3.get_object(Bucket=\"icarus-research-data\", Key=f'regime_modeling_data/gmm3d_labels_RM2/{date_str}.csv')\n",
    "\n",
    "    data_20d = pd.read_csv(data_20d.get(\"Body\"))\n",
    "    data_10d = pd.read_csv(data_10d.get(\"Body\"))\n",
    "    data_3d = pd.read_csv(data_3d.get(\"Body\"))\n",
    "\n",
    "    data_20d['dt'] = pd.to_datetime(data_20d['date'])\n",
    "    data_10d['dt'] = pd.to_datetime(data_10d['date'])\n",
    "    data_3d['dt'] = pd.to_datetime(data_3d['date'])\n",
    "\n",
    "    label_20d = data_20d['labels'].iloc[-1]\n",
    "    label_10d = data_10d['labels'].iloc[-1]\n",
    "    label_3d = data_3d['labels'].iloc[-1]\n",
    "\n",
    "    dates_20d = data_20d['dt'].loc[data_20d['labels'] == label_20d].tolist()\n",
    "    dates_10d = data_10d['dt'].loc[data_10d['labels'] == label_10d].tolist()\n",
    "    dates_3d = data_3d['dt'].loc[data_3d['labels'] == label_3d].tolist()\n",
    "\n",
    "    combined_list = list(set(dates_20d  + dates_3d))\n",
    "    return dates_20d"
   ]
  },
  {
   "cell_type": "code",
   "execution_count": 23,
   "metadata": {},
   "outputs": [
    {
     "name": "stdout",
     "output_type": "stream",
     "text": [
      "{'deployment_date': datetime.datetime(2022, 10, 3, 0, 0), 'dataset_end': datetime.datetime(2022, 9, 23, 0, 0), 'dataset_start': datetime.datetime(2018, 1, 1, 0, 0)}\n",
      "0.029\n",
      "0.8193041946905971\n"
     ]
    },
    {
     "name": "stderr",
     "output_type": "stream",
     "text": [
      "/var/folders/tq/_9q_lv1s2bndbr3tzzn08x4r0000gn/T/ipykernel_13052/3239437027.py:2: SettingWithCopyWarning: \n",
      "A value is trying to be set on a copy of a slice from a DataFrame.\n",
      "Try using .loc[row_indexer,col_indexer] = value instead\n",
      "\n",
      "See the caveats in the documentation: https://pandas.pydata.org/pandas-docs/stable/user_guide/indexing.html#returning-a-view-versus-a-copy\n",
      "  dataset.loc[:, 'label'] = (dataset[target_label] > target_value).astype(int)\n"
     ]
    },
    {
     "name": "stdout",
     "output_type": "stream",
     "text": [
      "label\n",
      "0    50352\n",
      "1    37112\n",
      "Name: count, dtype: int64\n",
      "92 118 169 71\n",
      "{'model_name': 'MA:RM220_TSSIM1_TL15-EXP_custHypTP0.57', 'deployment_date': '2022-10-03', 'algorithm_type': 'xgboost', 'dataset': 'MA:RM220_TSSIM1_TL15-EXP_custHypTP0.57', 'TP': 92, 'TPpct': Decimal('0'), 'FP': 118, 'FPpct': Decimal('0'), 'TN': 169, 'TNpct': Decimal('0'), 'FN': 71, 'FNpct': Decimal('0'), 'precision_ratio': Decimal('0.7796610169491526'), 'evaluation_timeperiod': '2022-10-03_2022-10-07', 'live': False, 'hyperparameters': {\"{'subsample': 0.6, 'num_round': 1000, 'min_child_weight': 10, 'max_depth': 10, 'learning_rate': 0.1, 'gamma': 2, 'colsample_bytree': 1}\"}, 'features': {\"['oneD_stddev50', 'rsi', 'close_diff', 'daily_volume_vol_diff_pct30', 'range_vol_diff5', 'SPY_diff', 'threeD_stddev50', 'close_diff3', 'min_volume_vol_diff_pct', 'month', 'return_vol_240M', 'range_vol', 'rsi5', 'roc', 'SPY_3D', 'roc5', 'roc_diff', 'price_25DDiff', 'daily_volume_vol_diff_pct', 'price_10DDiff', 'SPY_1D', 'hour_volume_vol_diff', 'hour_volume_vol_diff_pct', 'return_vol_10D', 'SPY_5D']\"}, 'target': '0.029+three_max', 'feature_importances': \"[{'oneD_stddev50': 0.07649831}, {'rsi': 0.036844302}, {'close_diff': 0.032328438}, {'daily_volume_vol_diff_pct30': 0.032295816}, {'range_vol_diff5': 0.035398487}, {'SPY_diff': 0.028962262}, {'threeD_stddev50': 0.039089113}, {'close_diff3': 0.034139622}, {'min_volume_vol_diff_pct': 0.024374131}, {'month': 0.040667184}, {'return_vol_240M': 0.08411724}, {'range_vol': 0.037974995}, {'rsi5': 0.034188326}, {'roc': 0.035959043}, {'SPY_3D': 0.03481628}, {'roc5': 0.03455902}, {'roc_diff': 0.037807435}, {'price_25DDiff': 0.0386402}, {'daily_volume_vol_diff_pct': 0.030889843}, {'price_10DDiff': 0.036804017}, {'SPY_1D': 0.035584733}, {'hour_volume_vol_diff': 0.029797504}, {'hour_volume_vol_diff_pct': 0.029966153}, {'return_vol_10D': 0.08366781}, {'SPY_5D': 0.03462975}]\"}\n",
      "{'deployment_date': datetime.datetime(2022, 10, 10, 0, 0), 'dataset_end': datetime.datetime(2022, 9, 30, 0, 0), 'dataset_start': datetime.datetime(2018, 1, 1, 0, 0)}\n",
      "0.029\n",
      "0.8192181043087284\n"
     ]
    },
    {
     "name": "stderr",
     "output_type": "stream",
     "text": [
      "/var/folders/tq/_9q_lv1s2bndbr3tzzn08x4r0000gn/T/ipykernel_13052/3239437027.py:2: SettingWithCopyWarning: \n",
      "A value is trying to be set on a copy of a slice from a DataFrame.\n",
      "Try using .loc[row_indexer,col_indexer] = value instead\n",
      "\n",
      "See the caveats in the documentation: https://pandas.pydata.org/pandas-docs/stable/user_guide/indexing.html#returning-a-view-versus-a-copy\n",
      "  dataset.loc[:, 'label'] = (dataset[target_label] > target_value).astype(int)\n"
     ]
    },
    {
     "name": "stdout",
     "output_type": "stream",
     "text": [
      "label\n",
      "0    50461\n",
      "1    37360\n",
      "Name: count, dtype: int64\n",
      "279 40 33 98\n",
      "{'model_name': 'MA:RM220_TSSIM1_TL15-EXP_custHypTP0.57', 'deployment_date': '2022-10-10', 'algorithm_type': 'xgboost', 'dataset': 'MA:RM220_TSSIM1_TL15-EXP_custHypTP0.57', 'TP': 279, 'TPpct': Decimal('0'), 'FP': 40, 'FPpct': Decimal('0'), 'TN': 33, 'TNpct': Decimal('0'), 'FN': 98, 'FNpct': Decimal('0'), 'precision_ratio': Decimal('6.975'), 'evaluation_timeperiod': '2022-10-10_2022-10-14', 'live': False, 'hyperparameters': {\"{'subsample': 0.6, 'num_round': 1000, 'min_child_weight': 10, 'max_depth': 10, 'learning_rate': 0.1, 'gamma': 2, 'colsample_bytree': 1}\"}, 'features': {\"['oneD_stddev50', 'rsi', 'close_diff', 'daily_volume_vol_diff_pct30', 'range_vol_diff5', 'SPY_diff', 'threeD_stddev50', 'close_diff3', 'min_volume_vol_diff_pct', 'month', 'return_vol_240M', 'range_vol', 'rsi5', 'roc', 'SPY_3D', 'roc5', 'roc_diff', 'price_25DDiff', 'daily_volume_vol_diff_pct', 'price_10DDiff', 'SPY_1D', 'hour_volume_vol_diff', 'hour_volume_vol_diff_pct', 'return_vol_10D', 'SPY_5D']\"}, 'target': '0.029+three_max', 'feature_importances': \"[{'oneD_stddev50': 0.09367752}, {'rsi': 0.0366628}, {'close_diff': 0.033741668}, {'daily_volume_vol_diff_pct30': 0.031078931}, {'range_vol_diff5': 0.035215136}, {'SPY_diff': 0.028446864}, {'threeD_stddev50': 0.038796194}, {'close_diff3': 0.03338724}, {'min_volume_vol_diff_pct': 0.025354344}, {'month': 0.04111914}, {'return_vol_240M': 0.08078588}, {'range_vol': 0.036964923}, {'rsi5': 0.03477039}, {'roc': 0.035020225}, {'SPY_3D': 0.03599782}, {'roc5': 0.034917563}, {'roc_diff': 0.036756672}, {'price_25DDiff': 0.038642045}, {'daily_volume_vol_diff_pct': 0.030644076}, {'price_10DDiff': 0.036384124}, {'SPY_1D': 0.03430961}, {'hour_volume_vol_diff': 0.029769523}, {'hour_volume_vol_diff_pct': 0.02870155}, {'return_vol_10D': 0.07385068}, {'SPY_5D': 0.035005026}]\"}\n",
      "{'deployment_date': datetime.datetime(2022, 10, 17, 0, 0), 'dataset_end': datetime.datetime(2022, 10, 7, 0, 0), 'dataset_start': datetime.datetime(2018, 1, 1, 0, 0)}\n",
      "0.032\n",
      "0.5014259040789217\n"
     ]
    },
    {
     "name": "stderr",
     "output_type": "stream",
     "text": [
      "/var/folders/tq/_9q_lv1s2bndbr3tzzn08x4r0000gn/T/ipykernel_13052/3239437027.py:2: SettingWithCopyWarning: \n",
      "A value is trying to be set on a copy of a slice from a DataFrame.\n",
      "Try using .loc[row_indexer,col_indexer] = value instead\n",
      "\n",
      "See the caveats in the documentation: https://pandas.pydata.org/pandas-docs/stable/user_guide/indexing.html#returning-a-view-versus-a-copy\n",
      "  dataset.loc[:, 'label'] = (dataset[target_label] > target_value).astype(int)\n"
     ]
    },
    {
     "name": "stdout",
     "output_type": "stream",
     "text": [
      "label\n",
      "0    31011\n",
      "1    22968\n",
      "Name: count, dtype: int64\n",
      "206 61 51 119\n",
      "{'model_name': 'MA:RM220_TSSIM1_TL15-EXP_custHypTP0.57', 'deployment_date': '2022-10-17', 'algorithm_type': 'xgboost', 'dataset': 'MA:RM220_TSSIM1_TL15-EXP_custHypTP0.57', 'TP': 206, 'TPpct': Decimal('0'), 'FP': 61, 'FPpct': Decimal('0'), 'TN': 51, 'TNpct': Decimal('0'), 'FN': 119, 'FNpct': Decimal('0'), 'precision_ratio': Decimal('3.377049180327869'), 'evaluation_timeperiod': '2022-10-17_2022-10-21', 'live': False, 'hyperparameters': {\"{'subsample': 0.6, 'num_round': 1000, 'min_child_weight': 10, 'max_depth': 10, 'learning_rate': 0.1, 'gamma': 2, 'colsample_bytree': 1}\"}, 'features': {\"['oneD_stddev50', 'rsi', 'close_diff', 'daily_volume_vol_diff_pct30', 'range_vol_diff5', 'SPY_diff', 'threeD_stddev50', 'close_diff3', 'min_volume_vol_diff_pct', 'month', 'return_vol_240M', 'range_vol', 'rsi5', 'roc', 'SPY_3D', 'roc5', 'roc_diff', 'price_25DDiff', 'daily_volume_vol_diff_pct', 'price_10DDiff', 'SPY_1D', 'hour_volume_vol_diff', 'hour_volume_vol_diff_pct', 'return_vol_10D', 'SPY_5D']\"}, 'target': '0.032+three_max', 'feature_importances': \"[{'oneD_stddev50': 0.10641495}, {'rsi': 0.03467073}, {'close_diff': 0.034035865}, {'daily_volume_vol_diff_pct30': 0.031612027}, {'range_vol_diff5': 0.034795094}, {'SPY_diff': 0.030611292}, {'threeD_stddev50': 0.038003854}, {'close_diff3': 0.036378767}, {'min_volume_vol_diff_pct': 0.024743568}, {'month': 0.044081196}, {'return_vol_240M': 0.06050543}, {'range_vol': 0.042434674}, {'rsi5': 0.037165217}, {'roc': 0.038740817}, {'SPY_3D': 0.03712842}, {'roc5': 0.037480514}, {'roc_diff': 0.038342033}, {'price_25DDiff': 0.04060065}, {'daily_volume_vol_diff_pct': 0.030409692}, {'price_10DDiff': 0.038347214}, {'SPY_1D': 0.03726685}, {'hour_volume_vol_diff': 0.030854074}, {'hour_volume_vol_diff_pct': 0.03086462}, {'return_vol_10D': 0.047994804}, {'SPY_5D': 0.036517646}]\"}\n",
      "{'deployment_date': datetime.datetime(2022, 10, 24, 0, 0), 'dataset_end': datetime.datetime(2022, 10, 14, 0, 0), 'dataset_start': datetime.datetime(2018, 1, 1, 0, 0)}\n",
      "0.032\n",
      "0.5001711362522085\n"
     ]
    },
    {
     "name": "stderr",
     "output_type": "stream",
     "text": [
      "/var/folders/tq/_9q_lv1s2bndbr3tzzn08x4r0000gn/T/ipykernel_13052/3239437027.py:2: SettingWithCopyWarning: \n",
      "A value is trying to be set on a copy of a slice from a DataFrame.\n",
      "Try using .loc[row_indexer,col_indexer] = value instead\n",
      "\n",
      "See the caveats in the documentation: https://pandas.pydata.org/pandas-docs/stable/user_guide/indexing.html#returning-a-view-versus-a-copy\n",
      "  dataset.loc[:, 'label'] = (dataset[target_label] > target_value).astype(int)\n"
     ]
    },
    {
     "name": "stdout",
     "output_type": "stream",
     "text": [
      "label\n",
      "0    30886\n",
      "1    23183\n",
      "Name: count, dtype: int64\n",
      "110 76 116 148\n",
      "{'model_name': 'MA:RM220_TSSIM1_TL15-EXP_custHypTP0.57', 'deployment_date': '2022-10-24', 'algorithm_type': 'xgboost', 'dataset': 'MA:RM220_TSSIM1_TL15-EXP_custHypTP0.57', 'TP': 110, 'TPpct': Decimal('0'), 'FP': 76, 'FPpct': Decimal('0'), 'TN': 116, 'TNpct': Decimal('0'), 'FN': 148, 'FNpct': Decimal('0'), 'precision_ratio': Decimal('1.4473684210526316'), 'evaluation_timeperiod': '2022-10-24_2022-10-28', 'live': False, 'hyperparameters': {\"{'subsample': 0.6, 'num_round': 1000, 'min_child_weight': 10, 'max_depth': 10, 'learning_rate': 0.1, 'gamma': 2, 'colsample_bytree': 1}\"}, 'features': {\"['oneD_stddev50', 'rsi', 'close_diff', 'daily_volume_vol_diff_pct30', 'range_vol_diff5', 'SPY_diff', 'threeD_stddev50', 'close_diff3', 'min_volume_vol_diff_pct', 'month', 'return_vol_240M', 'range_vol', 'rsi5', 'roc', 'SPY_3D', 'roc5', 'roc_diff', 'price_25DDiff', 'daily_volume_vol_diff_pct', 'price_10DDiff', 'SPY_1D', 'hour_volume_vol_diff', 'hour_volume_vol_diff_pct', 'return_vol_10D', 'SPY_5D']\"}, 'target': '0.032+three_max', 'feature_importances': \"[{'oneD_stddev50': 0.10566305}, {'rsi': 0.03657828}, {'close_diff': 0.03182926}, {'daily_volume_vol_diff_pct30': 0.03158556}, {'range_vol_diff5': 0.034159362}, {'SPY_diff': 0.030433355}, {'threeD_stddev50': 0.039021093}, {'close_diff3': 0.037549708}, {'min_volume_vol_diff_pct': 0.024602396}, {'month': 0.04284431}, {'return_vol_240M': 0.060922794}, {'range_vol': 0.042755656}, {'rsi5': 0.036219995}, {'roc': 0.038191266}, {'SPY_3D': 0.037697155}, {'roc5': 0.03734415}, {'roc_diff': 0.03914045}, {'price_25DDiff': 0.04148642}, {'daily_volume_vol_diff_pct': 0.02954018}, {'price_10DDiff': 0.036927715}, {'SPY_1D': 0.03629694}, {'hour_volume_vol_diff': 0.029520188}, {'hour_volume_vol_diff_pct': 0.029220715}, {'return_vol_10D': 0.05030599}, {'SPY_5D': 0.04016397}]\"}\n",
      "{'deployment_date': datetime.datetime(2022, 10, 31, 0, 0), 'dataset_end': datetime.datetime(2022, 10, 21, 0, 0), 'dataset_start': datetime.datetime(2018, 1, 1, 0, 0)}\n",
      "0.029\n",
      "0.8214565387627252\n"
     ]
    },
    {
     "name": "stderr",
     "output_type": "stream",
     "text": [
      "/var/folders/tq/_9q_lv1s2bndbr3tzzn08x4r0000gn/T/ipykernel_13052/3239437027.py:2: SettingWithCopyWarning: \n",
      "A value is trying to be set on a copy of a slice from a DataFrame.\n",
      "Try using .loc[row_indexer,col_indexer] = value instead\n",
      "\n",
      "See the caveats in the documentation: https://pandas.pydata.org/pandas-docs/stable/user_guide/indexing.html#returning-a-view-versus-a-copy\n",
      "  dataset.loc[:, 'label'] = (dataset[target_label] > target_value).astype(int)\n"
     ]
    },
    {
     "name": "stdout",
     "output_type": "stream",
     "text": [
      "label\n",
      "0    50883\n",
      "1    38282\n",
      "Name: count, dtype: int64\n",
      "150 122 105 67\n",
      "{'model_name': 'MA:RM220_TSSIM1_TL15-EXP_custHypTP0.57', 'deployment_date': '2022-10-31', 'algorithm_type': 'xgboost', 'dataset': 'MA:RM220_TSSIM1_TL15-EXP_custHypTP0.57', 'TP': 150, 'TPpct': Decimal('0'), 'FP': 122, 'FPpct': Decimal('0'), 'TN': 105, 'TNpct': Decimal('0'), 'FN': 67, 'FNpct': Decimal('0'), 'precision_ratio': Decimal('1.2295081967213115'), 'evaluation_timeperiod': '2022-10-31_2022-11-04', 'live': False, 'hyperparameters': {\"{'subsample': 0.6, 'num_round': 1000, 'min_child_weight': 10, 'max_depth': 10, 'learning_rate': 0.1, 'gamma': 2, 'colsample_bytree': 1}\"}, 'features': {\"['oneD_stddev50', 'rsi', 'close_diff', 'daily_volume_vol_diff_pct30', 'range_vol_diff5', 'SPY_diff', 'threeD_stddev50', 'close_diff3', 'min_volume_vol_diff_pct', 'month', 'return_vol_240M', 'range_vol', 'rsi5', 'roc', 'SPY_3D', 'roc5', 'roc_diff', 'price_25DDiff', 'daily_volume_vol_diff_pct', 'price_10DDiff', 'SPY_1D', 'hour_volume_vol_diff', 'hour_volume_vol_diff_pct', 'return_vol_10D', 'SPY_5D']\"}, 'target': '0.029+three_max', 'feature_importances': \"[{'oneD_stddev50': 0.06879703}, {'rsi': 0.037133664}, {'close_diff': 0.03333206}, {'daily_volume_vol_diff_pct30': 0.03104763}, {'range_vol_diff5': 0.035259}, {'SPY_diff': 0.028420474}, {'threeD_stddev50': 0.03905206}, {'close_diff3': 0.03327829}, {'min_volume_vol_diff_pct': 0.024463363}, {'month': 0.0391253}, {'return_vol_240M': 0.09380013}, {'range_vol': 0.039512314}, {'rsi5': 0.034059662}, {'roc': 0.03704884}, {'SPY_3D': 0.035605177}, {'roc5': 0.03345612}, {'roc_diff': 0.036963202}, {'price_25DDiff': 0.03850202}, {'daily_volume_vol_diff_pct': 0.030688373}, {'price_10DDiff': 0.035721987}, {'SPY_1D': 0.035444167}, {'hour_volume_vol_diff': 0.02899032}, {'hour_volume_vol_diff_pct': 0.029575802}, {'return_vol_10D': 0.085219696}, {'SPY_5D': 0.03550325}]\"}\n",
      "{'deployment_date': datetime.datetime(2022, 11, 7, 0, 0), 'dataset_end': datetime.datetime(2022, 10, 28, 0, 0), 'dataset_start': datetime.datetime(2018, 1, 1, 0, 0)}\n",
      "0.032\n",
      "0.5067480159640351\n"
     ]
    },
    {
     "name": "stderr",
     "output_type": "stream",
     "text": [
      "/var/folders/tq/_9q_lv1s2bndbr3tzzn08x4r0000gn/T/ipykernel_13052/3239437027.py:2: SettingWithCopyWarning: \n",
      "A value is trying to be set on a copy of a slice from a DataFrame.\n",
      "Try using .loc[row_indexer,col_indexer] = value instead\n",
      "\n",
      "See the caveats in the documentation: https://pandas.pydata.org/pandas-docs/stable/user_guide/indexing.html#returning-a-view-versus-a-copy\n",
      "  dataset.loc[:, 'label'] = (dataset[target_label] > target_value).astype(int)\n"
     ]
    },
    {
     "name": "stdout",
     "output_type": "stream",
     "text": [
      "label\n",
      "0    31416\n",
      "1    23817\n",
      "Name: count, dtype: int64\n",
      "243 25 23 159\n",
      "{'model_name': 'MA:RM220_TSSIM1_TL15-EXP_custHypTP0.57', 'deployment_date': '2022-11-07', 'algorithm_type': 'xgboost', 'dataset': 'MA:RM220_TSSIM1_TL15-EXP_custHypTP0.57', 'TP': 243, 'TPpct': Decimal('0'), 'FP': 25, 'FPpct': Decimal('0'), 'TN': 23, 'TNpct': Decimal('0'), 'FN': 159, 'FNpct': Decimal('0'), 'precision_ratio': Decimal('9.72'), 'evaluation_timeperiod': '2022-11-07_2022-11-11', 'live': False, 'hyperparameters': {\"{'subsample': 0.6, 'num_round': 1000, 'min_child_weight': 10, 'max_depth': 10, 'learning_rate': 0.1, 'gamma': 2, 'colsample_bytree': 1}\"}, 'features': {\"['oneD_stddev50', 'rsi', 'close_diff', 'daily_volume_vol_diff_pct30', 'range_vol_diff5', 'SPY_diff', 'threeD_stddev50', 'close_diff3', 'min_volume_vol_diff_pct', 'month', 'return_vol_240M', 'range_vol', 'rsi5', 'roc', 'SPY_3D', 'roc5', 'roc_diff', 'price_25DDiff', 'daily_volume_vol_diff_pct', 'price_10DDiff', 'SPY_1D', 'hour_volume_vol_diff', 'hour_volume_vol_diff_pct', 'return_vol_10D', 'SPY_5D']\"}, 'target': '0.032+three_max', 'feature_importances': \"[{'oneD_stddev50': 0.11058452}, {'rsi': 0.03676333}, {'close_diff': 0.034320172}, {'daily_volume_vol_diff_pct30': 0.031730194}, {'range_vol_diff5': 0.034328245}, {'SPY_diff': 0.031192357}, {'threeD_stddev50': 0.039014142}, {'close_diff3': 0.036819074}, {'min_volume_vol_diff_pct': 0.024253394}, {'month': 0.043467134}, {'return_vol_240M': 0.056459643}, {'range_vol': 0.043095086}, {'rsi5': 0.036556207}, {'roc': 0.037706953}, {'SPY_3D': 0.037686154}, {'roc5': 0.037003834}, {'roc_diff': 0.03796838}, {'price_25DDiff': 0.0404799}, {'daily_volume_vol_diff_pct': 0.030335102}, {'price_10DDiff': 0.03715247}, {'SPY_1D': 0.035711616}, {'hour_volume_vol_diff': 0.03095907}, {'hour_volume_vol_diff_pct': 0.030406242}, {'return_vol_10D': 0.049977396}, {'SPY_5D': 0.036029354}]\"}\n",
      "{'deployment_date': datetime.datetime(2022, 11, 14, 0, 0), 'dataset_end': datetime.datetime(2022, 11, 4, 0, 0), 'dataset_start': datetime.datetime(2018, 1, 1, 0, 0)}\n",
      "0.026\n",
      "0.43464395690750096\n"
     ]
    },
    {
     "name": "stderr",
     "output_type": "stream",
     "text": [
      "/var/folders/tq/_9q_lv1s2bndbr3tzzn08x4r0000gn/T/ipykernel_13052/3239437027.py:2: SettingWithCopyWarning: \n",
      "A value is trying to be set on a copy of a slice from a DataFrame.\n",
      "Try using .loc[row_indexer,col_indexer] = value instead\n",
      "\n",
      "See the caveats in the documentation: https://pandas.pydata.org/pandas-docs/stable/user_guide/indexing.html#returning-a-view-versus-a-copy\n",
      "  dataset.loc[:, 'label'] = (dataset[target_label] > target_value).astype(int)\n"
     ]
    },
    {
     "name": "stdout",
     "output_type": "stream",
     "text": [
      "label\n",
      "0    26850\n",
      "1    20717\n",
      "Name: count, dtype: int64\n",
      "89 184 125 52\n",
      "{'model_name': 'MA:RM220_TSSIM1_TL15-EXP_custHypTP0.57', 'deployment_date': '2022-11-14', 'algorithm_type': 'xgboost', 'dataset': 'MA:RM220_TSSIM1_TL15-EXP_custHypTP0.57', 'TP': 89, 'TPpct': Decimal('0'), 'FP': 184, 'FPpct': Decimal('0'), 'TN': 125, 'TNpct': Decimal('0'), 'FN': 52, 'FNpct': Decimal('0'), 'precision_ratio': Decimal('0.483695652173913'), 'evaluation_timeperiod': '2022-11-14_2022-11-18', 'live': False, 'hyperparameters': {\"{'subsample': 0.6, 'num_round': 1000, 'min_child_weight': 10, 'max_depth': 10, 'learning_rate': 0.1, 'gamma': 2, 'colsample_bytree': 1}\"}, 'features': {\"['oneD_stddev50', 'rsi', 'close_diff', 'daily_volume_vol_diff_pct30', 'range_vol_diff5', 'SPY_diff', 'threeD_stddev50', 'close_diff3', 'min_volume_vol_diff_pct', 'month', 'return_vol_240M', 'range_vol', 'rsi5', 'roc', 'SPY_3D', 'roc5', 'roc_diff', 'price_25DDiff', 'daily_volume_vol_diff_pct', 'price_10DDiff', 'SPY_1D', 'hour_volume_vol_diff', 'hour_volume_vol_diff_pct', 'return_vol_10D', 'SPY_5D']\"}, 'target': '0.026+three_max', 'feature_importances': \"[{'oneD_stddev50': 0.09757925}, {'rsi': 0.03795302}, {'close_diff': 0.033518612}, {'daily_volume_vol_diff_pct30': 0.032878917}, {'range_vol_diff5': 0.036948197}, {'SPY_diff': 0.029217646}, {'threeD_stddev50': 0.046541087}, {'close_diff3': 0.034509744}, {'min_volume_vol_diff_pct': 0.024788553}, {'month': 0.04398614}, {'return_vol_240M': 0.04590599}, {'range_vol': 0.036228504}, {'rsi5': 0.036137797}, {'roc': 0.037454627}, {'SPY_3D': 0.035603896}, {'roc5': 0.035120156}, {'roc_diff': 0.038762}, {'price_25DDiff': 0.038526226}, {'daily_volume_vol_diff_pct': 0.033050153}, {'price_10DDiff': 0.038438596}, {'SPY_1D': 0.03548294}, {'hour_volume_vol_diff': 0.029625785}, {'hour_volume_vol_diff_pct': 0.030271616}, {'return_vol_10D': 0.07368346}, {'SPY_5D': 0.03778711}]\"}\n",
      "{'deployment_date': datetime.datetime(2022, 11, 21, 0, 0), 'dataset_end': datetime.datetime(2022, 11, 11, 0, 0), 'dataset_start': datetime.datetime(2018, 1, 1, 0, 0)}\n",
      "0.034\n",
      "0.5752259097816887\n"
     ]
    },
    {
     "name": "stderr",
     "output_type": "stream",
     "text": [
      "/var/folders/tq/_9q_lv1s2bndbr3tzzn08x4r0000gn/T/ipykernel_13052/3239437027.py:2: SettingWithCopyWarning: \n",
      "A value is trying to be set on a copy of a slice from a DataFrame.\n",
      "Try using .loc[row_indexer,col_indexer] = value instead\n",
      "\n",
      "See the caveats in the documentation: https://pandas.pydata.org/pandas-docs/stable/user_guide/indexing.html#returning-a-view-versus-a-copy\n",
      "  dataset.loc[:, 'label'] = (dataset[target_label] > target_value).astype(int)\n"
     ]
    },
    {
     "name": "stdout",
     "output_type": "stream",
     "text": [
      "label\n",
      "0    36066\n",
      "1    27145\n",
      "Name: count, dtype: int64\n",
      "92 107 126 35\n",
      "{'model_name': 'MA:RM220_TSSIM1_TL15-EXP_custHypTP0.57', 'deployment_date': '2022-11-21', 'algorithm_type': 'xgboost', 'dataset': 'MA:RM220_TSSIM1_TL15-EXP_custHypTP0.57', 'TP': 92, 'TPpct': Decimal('0'), 'FP': 107, 'FPpct': Decimal('0'), 'TN': 126, 'TNpct': Decimal('0'), 'FN': 35, 'FNpct': Decimal('0'), 'precision_ratio': Decimal('0.8598130841121495'), 'evaluation_timeperiod': '2022-11-21_2022-11-25', 'live': False, 'hyperparameters': {\"{'subsample': 0.6, 'num_round': 1000, 'min_child_weight': 10, 'max_depth': 10, 'learning_rate': 0.1, 'gamma': 2, 'colsample_bytree': 1}\"}, 'features': {\"['oneD_stddev50', 'rsi', 'close_diff', 'daily_volume_vol_diff_pct30', 'range_vol_diff5', 'SPY_diff', 'threeD_stddev50', 'close_diff3', 'min_volume_vol_diff_pct', 'month', 'return_vol_240M', 'range_vol', 'rsi5', 'roc', 'SPY_3D', 'roc5', 'roc_diff', 'price_25DDiff', 'daily_volume_vol_diff_pct', 'price_10DDiff', 'SPY_1D', 'hour_volume_vol_diff', 'hour_volume_vol_diff_pct', 'return_vol_10D', 'SPY_5D']\"}, 'target': '0.034+three_max', 'feature_importances': \"[{'oneD_stddev50': 0.124387965}, {'rsi': 0.034724236}, {'close_diff': 0.033568356}, {'daily_volume_vol_diff_pct30': 0.030322473}, {'range_vol_diff5': 0.032691453}, {'SPY_diff': 0.02981539}, {'threeD_stddev50': 0.039285637}, {'close_diff3': 0.03432899}, {'min_volume_vol_diff_pct': 0.026312158}, {'month': 0.041616276}, {'return_vol_240M': 0.061610684}, {'range_vol': 0.04171733}, {'rsi5': 0.036289968}, {'roc': 0.03910884}, {'SPY_3D': 0.035171226}, {'roc5': 0.03701355}, {'roc_diff': 0.037251197}, {'price_25DDiff': 0.03833265}, {'daily_volume_vol_diff_pct': 0.030682236}, {'price_10DDiff': 0.03704578}, {'SPY_1D': 0.03586491}, {'hour_volume_vol_diff': 0.028736193}, {'hour_volume_vol_diff_pct': 0.028944682}, {'return_vol_10D': 0.04880788}, {'SPY_5D': 0.036369964}]\"}\n",
      "{'deployment_date': datetime.datetime(2022, 11, 28, 0, 0), 'dataset_end': datetime.datetime(2022, 11, 18, 0, 0), 'dataset_start': datetime.datetime(2018, 1, 1, 0, 0)}\n",
      "0.029\n",
      "0.8227825157016105\n"
     ]
    },
    {
     "name": "stderr",
     "output_type": "stream",
     "text": [
      "/var/folders/tq/_9q_lv1s2bndbr3tzzn08x4r0000gn/T/ipykernel_13052/3239437027.py:2: SettingWithCopyWarning: \n",
      "A value is trying to be set on a copy of a slice from a DataFrame.\n",
      "Try using .loc[row_indexer,col_indexer] = value instead\n",
      "\n",
      "See the caveats in the documentation: https://pandas.pydata.org/pandas-docs/stable/user_guide/indexing.html#returning-a-view-versus-a-copy\n",
      "  dataset.loc[:, 'label'] = (dataset[target_label] > target_value).astype(int)\n"
     ]
    },
    {
     "name": "stdout",
     "output_type": "stream",
     "text": [
      "label\n",
      "0    51567\n",
      "1    39218\n",
      "Name: count, dtype: int64\n",
      "87 69 146 148\n",
      "{'model_name': 'MA:RM220_TSSIM1_TL15-EXP_custHypTP0.57', 'deployment_date': '2022-11-28', 'algorithm_type': 'xgboost', 'dataset': 'MA:RM220_TSSIM1_TL15-EXP_custHypTP0.57', 'TP': 87, 'TPpct': Decimal('0'), 'FP': 69, 'FPpct': Decimal('0'), 'TN': 146, 'TNpct': Decimal('0'), 'FN': 148, 'FNpct': Decimal('0'), 'precision_ratio': Decimal('1.2608695652173914'), 'evaluation_timeperiod': '2022-11-28_2022-12-02', 'live': False, 'hyperparameters': {\"{'subsample': 0.6, 'num_round': 1000, 'min_child_weight': 10, 'max_depth': 10, 'learning_rate': 0.1, 'gamma': 2, 'colsample_bytree': 1}\"}, 'features': {\"['oneD_stddev50', 'rsi', 'close_diff', 'daily_volume_vol_diff_pct30', 'range_vol_diff5', 'SPY_diff', 'threeD_stddev50', 'close_diff3', 'min_volume_vol_diff_pct', 'month', 'return_vol_240M', 'range_vol', 'rsi5', 'roc', 'SPY_3D', 'roc5', 'roc_diff', 'price_25DDiff', 'daily_volume_vol_diff_pct', 'price_10DDiff', 'SPY_1D', 'hour_volume_vol_diff', 'hour_volume_vol_diff_pct', 'return_vol_10D', 'SPY_5D']\"}, 'target': '0.029+three_max', 'feature_importances': \"[{'oneD_stddev50': 0.08925471}, {'rsi': 0.03708437}, {'close_diff': 0.03295432}, {'daily_volume_vol_diff_pct30': 0.030838601}, {'range_vol_diff5': 0.03554985}, {'SPY_diff': 0.028302362}, {'threeD_stddev50': 0.03670888}, {'close_diff3': 0.03312929}, {'min_volume_vol_diff_pct': 0.02379819}, {'month': 0.039926425}, {'return_vol_240M': 0.10462505}, {'range_vol': 0.039479084}, {'rsi5': 0.033703223}, {'roc': 0.035689954}, {'SPY_3D': 0.03579848}, {'roc5': 0.034477163}, {'roc_diff': 0.036925152}, {'price_25DDiff': 0.03772389}, {'daily_volume_vol_diff_pct': 0.028976975}, {'price_10DDiff': 0.036098808}, {'SPY_1D': 0.034423552}, {'hour_volume_vol_diff': 0.028876206}, {'hour_volume_vol_diff_pct': 0.027265033}, {'return_vol_10D': 0.06311964}, {'SPY_5D': 0.03527085}]\"}\n",
      "{'deployment_date': datetime.datetime(2022, 12, 5, 0, 0), 'dataset_end': datetime.datetime(2022, 11, 25, 0, 0), 'dataset_start': datetime.datetime(2018, 1, 1, 0, 0)}\n",
      "0.027\n",
      "0.4536445677016053\n"
     ]
    },
    {
     "name": "stderr",
     "output_type": "stream",
     "text": [
      "/var/folders/tq/_9q_lv1s2bndbr3tzzn08x4r0000gn/T/ipykernel_13052/3239437027.py:2: SettingWithCopyWarning: \n",
      "A value is trying to be set on a copy of a slice from a DataFrame.\n",
      "Try using .loc[row_indexer,col_indexer] = value instead\n",
      "\n",
      "See the caveats in the documentation: https://pandas.pydata.org/pandas-docs/stable/user_guide/indexing.html#returning-a-view-versus-a-copy\n",
      "  dataset.loc[:, 'label'] = (dataset[target_label] > target_value).astype(int)\n"
     ]
    },
    {
     "name": "stdout",
     "output_type": "stream",
     "text": [
      "label\n",
      "0    28940\n",
      "1    21278\n",
      "Name: count, dtype: int64\n",
      "93 84 104 164\n",
      "{'model_name': 'MA:RM220_TSSIM1_TL15-EXP_custHypTP0.57', 'deployment_date': '2022-12-05', 'algorithm_type': 'xgboost', 'dataset': 'MA:RM220_TSSIM1_TL15-EXP_custHypTP0.57', 'TP': 93, 'TPpct': Decimal('0'), 'FP': 84, 'FPpct': Decimal('0'), 'TN': 104, 'TNpct': Decimal('0'), 'FN': 164, 'FNpct': Decimal('0'), 'precision_ratio': Decimal('1.1071428571428572'), 'evaluation_timeperiod': '2022-12-05_2022-12-09', 'live': False, 'hyperparameters': {\"{'subsample': 0.6, 'num_round': 1000, 'min_child_weight': 10, 'max_depth': 10, 'learning_rate': 0.1, 'gamma': 2, 'colsample_bytree': 1}\"}, 'features': {\"['oneD_stddev50', 'rsi', 'close_diff', 'daily_volume_vol_diff_pct30', 'range_vol_diff5', 'SPY_diff', 'threeD_stddev50', 'close_diff3', 'min_volume_vol_diff_pct', 'month', 'return_vol_240M', 'range_vol', 'rsi5', 'roc', 'SPY_3D', 'roc5', 'roc_diff', 'price_25DDiff', 'daily_volume_vol_diff_pct', 'price_10DDiff', 'SPY_1D', 'hour_volume_vol_diff', 'hour_volume_vol_diff_pct', 'return_vol_10D', 'SPY_5D']\"}, 'target': '0.027+three_max', 'feature_importances': \"[{'oneD_stddev50': 0.11349774}, {'rsi': 0.037722703}, {'close_diff': 0.033083446}, {'daily_volume_vol_diff_pct30': 0.030571159}, {'range_vol_diff5': 0.035492644}, {'SPY_diff': 0.028511181}, {'threeD_stddev50': 0.043473322}, {'close_diff3': 0.033614974}, {'min_volume_vol_diff_pct': 0.025388638}, {'month': 0.04289932}, {'return_vol_240M': 0.0609013}, {'range_vol': 0.03771473}, {'rsi5': 0.03733346}, {'roc': 0.036515377}, {'SPY_3D': 0.034190364}, {'roc5': 0.03555612}, {'roc_diff': 0.03833436}, {'price_25DDiff': 0.038487904}, {'daily_volume_vol_diff_pct': 0.032090094}, {'price_10DDiff': 0.035746165}, {'SPY_1D': 0.03315451}, {'hour_volume_vol_diff': 0.028775183}, {'hour_volume_vol_diff_pct': 0.029417088}, {'return_vol_10D': 0.06097709}, {'SPY_5D': 0.0365512}]\"}\n",
      "{'deployment_date': datetime.datetime(2022, 12, 12, 0, 0), 'dataset_end': datetime.datetime(2022, 12, 2, 0, 0), 'dataset_start': datetime.datetime(2018, 1, 1, 0, 0)}\n",
      "0.032\n",
      "0.4891631953503855\n"
     ]
    },
    {
     "name": "stderr",
     "output_type": "stream",
     "text": [
      "/var/folders/tq/_9q_lv1s2bndbr3tzzn08x4r0000gn/T/ipykernel_13052/3239437027.py:2: SettingWithCopyWarning: \n",
      "A value is trying to be set on a copy of a slice from a DataFrame.\n",
      "Try using .loc[row_indexer,col_indexer] = value instead\n",
      "\n",
      "See the caveats in the documentation: https://pandas.pydata.org/pandas-docs/stable/user_guide/indexing.html#returning-a-view-versus-a-copy\n",
      "  dataset.loc[:, 'label'] = (dataset[target_label] > target_value).astype(int)\n"
     ]
    },
    {
     "name": "stdout",
     "output_type": "stream",
     "text": [
      "label\n",
      "0    30700\n",
      "1    23670\n",
      "Name: count, dtype: int64\n",
      "32 111 219 86\n",
      "{'model_name': 'MA:RM220_TSSIM1_TL15-EXP_custHypTP0.57', 'deployment_date': '2022-12-12', 'algorithm_type': 'xgboost', 'dataset': 'MA:RM220_TSSIM1_TL15-EXP_custHypTP0.57', 'TP': 32, 'TPpct': Decimal('0'), 'FP': 111, 'FPpct': Decimal('0'), 'TN': 219, 'TNpct': Decimal('0'), 'FN': 86, 'FNpct': Decimal('0'), 'precision_ratio': Decimal('0.2882882882882883'), 'evaluation_timeperiod': '2022-12-12_2022-12-16', 'live': False, 'hyperparameters': {\"{'subsample': 0.6, 'num_round': 1000, 'min_child_weight': 10, 'max_depth': 10, 'learning_rate': 0.1, 'gamma': 2, 'colsample_bytree': 1}\"}, 'features': {\"['oneD_stddev50', 'rsi', 'close_diff', 'daily_volume_vol_diff_pct30', 'range_vol_diff5', 'SPY_diff', 'threeD_stddev50', 'close_diff3', 'min_volume_vol_diff_pct', 'month', 'return_vol_240M', 'range_vol', 'rsi5', 'roc', 'SPY_3D', 'roc5', 'roc_diff', 'price_25DDiff', 'daily_volume_vol_diff_pct', 'price_10DDiff', 'SPY_1D', 'hour_volume_vol_diff', 'hour_volume_vol_diff_pct', 'return_vol_10D', 'SPY_5D']\"}, 'target': '0.032+three_max', 'feature_importances': \"[{'oneD_stddev50': 0.110599756}, {'rsi': 0.036101963}, {'close_diff': 0.034505818}, {'daily_volume_vol_diff_pct30': 0.031368576}, {'range_vol_diff5': 0.034657065}, {'SPY_diff': 0.031675566}, {'threeD_stddev50': 0.038252655}, {'close_diff3': 0.03537497}, {'min_volume_vol_diff_pct': 0.027286977}, {'month': 0.044584002}, {'return_vol_240M': 0.052442178}, {'range_vol': 0.04269557}, {'rsi5': 0.03489054}, {'roc': 0.039344735}, {'SPY_3D': 0.03775056}, {'roc5': 0.03543577}, {'roc_diff': 0.03862178}, {'price_25DDiff': 0.039084952}, {'daily_volume_vol_diff_pct': 0.031432267}, {'price_10DDiff': 0.036739085}, {'SPY_1D': 0.03810039}, {'hour_volume_vol_diff': 0.031384747}, {'hour_volume_vol_diff_pct': 0.028939677}, {'return_vol_10D': 0.05166625}, {'SPY_5D': 0.03706421}]\"}\n",
      "{'deployment_date': datetime.datetime(2022, 12, 19, 0, 0), 'dataset_end': datetime.datetime(2022, 12, 9, 0, 0), 'dataset_start': datetime.datetime(2018, 1, 1, 0, 0)}\n",
      "0.033\n",
      "0.4895872537950069\n"
     ]
    },
    {
     "name": "stderr",
     "output_type": "stream",
     "text": [
      "/var/folders/tq/_9q_lv1s2bndbr3tzzn08x4r0000gn/T/ipykernel_13052/3239437027.py:2: SettingWithCopyWarning: \n",
      "A value is trying to be set on a copy of a slice from a DataFrame.\n",
      "Try using .loc[row_indexer,col_indexer] = value instead\n",
      "\n",
      "See the caveats in the documentation: https://pandas.pydata.org/pandas-docs/stable/user_guide/indexing.html#returning-a-view-versus-a-copy\n",
      "  dataset.loc[:, 'label'] = (dataset[target_label] > target_value).astype(int)\n"
     ]
    },
    {
     "name": "stdout",
     "output_type": "stream",
     "text": [
      "label\n",
      "0    31458\n",
      "1    23177\n",
      "Name: count, dtype: int64\n",
      "70 168 197 15\n",
      "{'model_name': 'MA:RM220_TSSIM1_TL15-EXP_custHypTP0.57', 'deployment_date': '2022-12-19', 'algorithm_type': 'xgboost', 'dataset': 'MA:RM220_TSSIM1_TL15-EXP_custHypTP0.57', 'TP': 70, 'TPpct': Decimal('0'), 'FP': 168, 'FPpct': Decimal('0'), 'TN': 197, 'TNpct': Decimal('0'), 'FN': 15, 'FNpct': Decimal('0'), 'precision_ratio': Decimal('0.4166666666666667'), 'evaluation_timeperiod': '2022-12-19_2022-12-23', 'live': False, 'hyperparameters': {\"{'subsample': 0.6, 'num_round': 1000, 'min_child_weight': 10, 'max_depth': 10, 'learning_rate': 0.1, 'gamma': 2, 'colsample_bytree': 1}\"}, 'features': {\"['oneD_stddev50', 'rsi', 'close_diff', 'daily_volume_vol_diff_pct30', 'range_vol_diff5', 'SPY_diff', 'threeD_stddev50', 'close_diff3', 'min_volume_vol_diff_pct', 'month', 'return_vol_240M', 'range_vol', 'rsi5', 'roc', 'SPY_3D', 'roc5', 'roc_diff', 'price_25DDiff', 'daily_volume_vol_diff_pct', 'price_10DDiff', 'SPY_1D', 'hour_volume_vol_diff', 'hour_volume_vol_diff_pct', 'return_vol_10D', 'SPY_5D']\"}, 'target': '0.033+three_max', 'feature_importances': \"[{'oneD_stddev50': 0.116412476}, {'rsi': 0.035309326}, {'close_diff': 0.033564426}, {'daily_volume_vol_diff_pct30': 0.03224303}, {'range_vol_diff5': 0.033743143}, {'SPY_diff': 0.029183937}, {'threeD_stddev50': 0.038016934}, {'close_diff3': 0.0360145}, {'min_volume_vol_diff_pct': 0.025092637}, {'month': 0.04371521}, {'return_vol_240M': 0.0518625}, {'range_vol': 0.041858327}, {'rsi5': 0.034768566}, {'roc': 0.040308185}, {'SPY_3D': 0.03843418}, {'roc5': 0.03796599}, {'roc_diff': 0.03898067}, {'price_25DDiff': 0.039612204}, {'daily_volume_vol_diff_pct': 0.030437887}, {'price_10DDiff': 0.038241375}, {'SPY_1D': 0.03622787}, {'hour_volume_vol_diff': 0.030095944}, {'hour_volume_vol_diff_pct': 0.031561214}, {'return_vol_10D': 0.048507247}, {'SPY_5D': 0.03784221}]\"}\n",
      "{'deployment_date': datetime.datetime(2022, 12, 26, 0, 0), 'dataset_end': datetime.datetime(2022, 12, 16, 0, 0), 'dataset_start': datetime.datetime(2018, 1, 1, 0, 0)}\n",
      "0.03\n",
      "0.29473505707630104\n"
     ]
    },
    {
     "name": "stderr",
     "output_type": "stream",
     "text": [
      "/var/folders/tq/_9q_lv1s2bndbr3tzzn08x4r0000gn/T/ipykernel_13052/3239437027.py:2: SettingWithCopyWarning: \n",
      "A value is trying to be set on a copy of a slice from a DataFrame.\n",
      "Try using .loc[row_indexer,col_indexer] = value instead\n",
      "\n",
      "See the caveats in the documentation: https://pandas.pydata.org/pandas-docs/stable/user_guide/indexing.html#returning-a-view-versus-a-copy\n",
      "  dataset.loc[:, 'label'] = (dataset[target_label] > target_value).astype(int)\n"
     ]
    },
    {
     "name": "stdout",
     "output_type": "stream",
     "text": [
      "label\n",
      "0    18881\n",
      "1    14142\n",
      "Name: count, dtype: int64\n",
      "75 38 122 125\n",
      "{'model_name': 'MA:RM220_TSSIM1_TL15-EXP_custHypTP0.57', 'deployment_date': '2022-12-26', 'algorithm_type': 'xgboost', 'dataset': 'MA:RM220_TSSIM1_TL15-EXP_custHypTP0.57', 'TP': 75, 'TPpct': Decimal('0'), 'FP': 38, 'FPpct': Decimal('0'), 'TN': 122, 'TNpct': Decimal('0'), 'FN': 125, 'FNpct': Decimal('0'), 'precision_ratio': Decimal('1.9736842105263157'), 'evaluation_timeperiod': '2022-12-26_2022-12-30', 'live': False, 'hyperparameters': {\"{'subsample': 0.6, 'num_round': 1000, 'min_child_weight': 10, 'max_depth': 10, 'learning_rate': 0.1, 'gamma': 2, 'colsample_bytree': 1}\"}, 'features': {\"['oneD_stddev50', 'rsi', 'close_diff', 'daily_volume_vol_diff_pct30', 'range_vol_diff5', 'SPY_diff', 'threeD_stddev50', 'close_diff3', 'min_volume_vol_diff_pct', 'month', 'return_vol_240M', 'range_vol', 'rsi5', 'roc', 'SPY_3D', 'roc5', 'roc_diff', 'price_25DDiff', 'daily_volume_vol_diff_pct', 'price_10DDiff', 'SPY_1D', 'hour_volume_vol_diff', 'hour_volume_vol_diff_pct', 'return_vol_10D', 'SPY_5D']\"}, 'target': '0.03+three_max', 'feature_importances': \"[{'oneD_stddev50': 0.06673019}, {'rsi': 0.03841438}, {'close_diff': 0.033710547}, {'daily_volume_vol_diff_pct30': 0.03192679}, {'range_vol_diff5': 0.035885733}, {'SPY_diff': 0.029327651}, {'threeD_stddev50': 0.073040694}, {'close_diff3': 0.03759869}, {'min_volume_vol_diff_pct': 0.026215458}, {'month': 0.044563923}, {'return_vol_240M': 0.046436433}, {'range_vol': 0.03567292}, {'rsi5': 0.034428954}, {'roc': 0.03950669}, {'SPY_3D': 0.038407158}, {'roc5': 0.038461074}, {'roc_diff': 0.03910534}, {'price_25DDiff': 0.039818525}, {'daily_volume_vol_diff_pct': 0.0324978}, {'price_10DDiff': 0.038322058}, {'SPY_1D': 0.03834025}, {'hour_volume_vol_diff': 0.03359209}, {'hour_volume_vol_diff_pct': 0.031831555}, {'return_vol_10D': 0.052125115}, {'SPY_5D': 0.04404001}]\"}\n",
      "{'deployment_date': datetime.datetime(2023, 1, 2, 0, 0), 'dataset_end': datetime.datetime(2022, 12, 23, 0, 0), 'dataset_start': datetime.datetime(2018, 1, 1, 0, 0)}\n",
      "0.029\n",
      "0.6593210244192972\n"
     ]
    },
    {
     "name": "stderr",
     "output_type": "stream",
     "text": [
      "/var/folders/tq/_9q_lv1s2bndbr3tzzn08x4r0000gn/T/ipykernel_13052/3239437027.py:2: SettingWithCopyWarning: \n",
      "A value is trying to be set on a copy of a slice from a DataFrame.\n",
      "Try using .loc[row_indexer,col_indexer] = value instead\n",
      "\n",
      "See the caveats in the documentation: https://pandas.pydata.org/pandas-docs/stable/user_guide/indexing.html#returning-a-view-versus-a-copy\n",
      "  dataset.loc[:, 'label'] = (dataset[target_label] > target_value).astype(int)\n"
     ]
    },
    {
     "name": "stdout",
     "output_type": "stream",
     "text": [
      "label\n",
      "0    41998\n",
      "1    32171\n",
      "Name: count, dtype: int64\n",
      "229 42 32 57\n",
      "{'model_name': 'MA:RM220_TSSIM1_TL15-EXP_custHypTP0.57', 'deployment_date': '2023-01-02', 'algorithm_type': 'xgboost', 'dataset': 'MA:RM220_TSSIM1_TL15-EXP_custHypTP0.57', 'TP': 229, 'TPpct': Decimal('0'), 'FP': 42, 'FPpct': Decimal('0'), 'TN': 32, 'TNpct': Decimal('0'), 'FN': 57, 'FNpct': Decimal('0'), 'precision_ratio': Decimal('5.4523809523809526'), 'evaluation_timeperiod': '2023-01-02_2023-01-06', 'live': False, 'hyperparameters': {\"{'subsample': 0.6, 'num_round': 1000, 'min_child_weight': 10, 'max_depth': 10, 'learning_rate': 0.1, 'gamma': 2, 'colsample_bytree': 1}\"}, 'features': {\"['oneD_stddev50', 'rsi', 'close_diff', 'daily_volume_vol_diff_pct30', 'range_vol_diff5', 'SPY_diff', 'threeD_stddev50', 'close_diff3', 'min_volume_vol_diff_pct', 'month', 'return_vol_240M', 'range_vol', 'rsi5', 'roc', 'SPY_3D', 'roc5', 'roc_diff', 'price_25DDiff', 'daily_volume_vol_diff_pct', 'price_10DDiff', 'SPY_1D', 'hour_volume_vol_diff', 'hour_volume_vol_diff_pct', 'return_vol_10D', 'SPY_5D']\"}, 'target': '0.029+three_max', 'feature_importances': \"[{'oneD_stddev50': 0.060887042}, {'rsi': 0.035787515}, {'close_diff': 0.03339606}, {'daily_volume_vol_diff_pct30': 0.03067006}, {'range_vol_diff5': 0.035554554}, {'SPY_diff': 0.027539512}, {'threeD_stddev50': 0.037921056}, {'close_diff3': 0.03352981}, {'min_volume_vol_diff_pct': 0.025824033}, {'month': 0.042633433}, {'return_vol_240M': 0.104091026}, {'range_vol': 0.042652313}, {'rsi5': 0.035736304}, {'roc': 0.035789847}, {'SPY_3D': 0.03504182}, {'roc5': 0.033178154}, {'roc_diff': 0.036294617}, {'price_25DDiff': 0.038235012}, {'daily_volume_vol_diff_pct': 0.031403095}, {'price_10DDiff': 0.03504843}, {'SPY_1D': 0.03447481}, {'hour_volume_vol_diff': 0.029072544}, {'hour_volume_vol_diff_pct': 0.029053394}, {'return_vol_10D': 0.080392115}, {'SPY_5D': 0.03579342}]\"}\n",
      "{'deployment_date': datetime.datetime(2023, 1, 9, 0, 0), 'dataset_end': datetime.datetime(2022, 12, 30, 0, 0), 'dataset_start': datetime.datetime(2018, 1, 1, 0, 0)}\n",
      "0.03\n",
      "0.28942961197309774\n"
     ]
    },
    {
     "name": "stderr",
     "output_type": "stream",
     "text": [
      "/var/folders/tq/_9q_lv1s2bndbr3tzzn08x4r0000gn/T/ipykernel_13052/3239437027.py:2: SettingWithCopyWarning: \n",
      "A value is trying to be set on a copy of a slice from a DataFrame.\n",
      "Try using .loc[row_indexer,col_indexer] = value instead\n",
      "\n",
      "See the caveats in the documentation: https://pandas.pydata.org/pandas-docs/stable/user_guide/indexing.html#returning-a-view-versus-a-copy\n",
      "  dataset.loc[:, 'label'] = (dataset[target_label] > target_value).astype(int)\n"
     ]
    },
    {
     "name": "stdout",
     "output_type": "stream",
     "text": [
      "label\n",
      "0    18723\n",
      "1    13940\n",
      "Name: count, dtype: int64\n",
      "138 18 134 160\n",
      "{'model_name': 'MA:RM220_TSSIM1_TL15-EXP_custHypTP0.57', 'deployment_date': '2023-01-09', 'algorithm_type': 'xgboost', 'dataset': 'MA:RM220_TSSIM1_TL15-EXP_custHypTP0.57', 'TP': 138, 'TPpct': Decimal('0'), 'FP': 18, 'FPpct': Decimal('0'), 'TN': 134, 'TNpct': Decimal('0'), 'FN': 160, 'FNpct': Decimal('0'), 'precision_ratio': Decimal('7.666666666666667'), 'evaluation_timeperiod': '2023-01-09_2023-01-13', 'live': False, 'hyperparameters': {\"{'subsample': 0.6, 'num_round': 1000, 'min_child_weight': 10, 'max_depth': 10, 'learning_rate': 0.1, 'gamma': 2, 'colsample_bytree': 1}\"}, 'features': {\"['oneD_stddev50', 'rsi', 'close_diff', 'daily_volume_vol_diff_pct30', 'range_vol_diff5', 'SPY_diff', 'threeD_stddev50', 'close_diff3', 'min_volume_vol_diff_pct', 'month', 'return_vol_240M', 'range_vol', 'rsi5', 'roc', 'SPY_3D', 'roc5', 'roc_diff', 'price_25DDiff', 'daily_volume_vol_diff_pct', 'price_10DDiff', 'SPY_1D', 'hour_volume_vol_diff', 'hour_volume_vol_diff_pct', 'return_vol_10D', 'SPY_5D']\"}, 'target': '0.03+three_max', 'feature_importances': \"[{'oneD_stddev50': 0.062315833}, {'rsi': 0.038361497}, {'close_diff': 0.033823658}, {'daily_volume_vol_diff_pct30': 0.030663304}, {'range_vol_diff5': 0.034937575}, {'SPY_diff': 0.031084366}, {'threeD_stddev50': 0.07638667}, {'close_diff3': 0.03668524}, {'min_volume_vol_diff_pct': 0.02574268}, {'month': 0.04380016}, {'return_vol_240M': 0.048852473}, {'range_vol': 0.035327345}, {'rsi5': 0.037983663}, {'roc': 0.040268186}, {'SPY_3D': 0.04231285}, {'roc5': 0.038724102}, {'roc_diff': 0.03795304}, {'price_25DDiff': 0.03846369}, {'daily_volume_vol_diff_pct': 0.033159878}, {'price_10DDiff': 0.03641918}, {'SPY_1D': 0.038323704}, {'hour_volume_vol_diff': 0.033638883}, {'hour_volume_vol_diff_pct': 0.031245835}, {'return_vol_10D': 0.050010454}, {'SPY_5D': 0.04351571}]\"}\n",
      "{'deployment_date': datetime.datetime(2023, 1, 16, 0, 0), 'dataset_end': datetime.datetime(2023, 1, 6, 0, 0), 'dataset_start': datetime.datetime(2018, 1, 1, 0, 0)}\n",
      "0.03\n",
      "0.2853735878388524\n"
     ]
    },
    {
     "name": "stderr",
     "output_type": "stream",
     "text": [
      "/var/folders/tq/_9q_lv1s2bndbr3tzzn08x4r0000gn/T/ipykernel_13052/3239437027.py:2: SettingWithCopyWarning: \n",
      "A value is trying to be set on a copy of a slice from a DataFrame.\n",
      "Try using .loc[row_indexer,col_indexer] = value instead\n",
      "\n",
      "See the caveats in the documentation: https://pandas.pydata.org/pandas-docs/stable/user_guide/indexing.html#returning-a-view-versus-a-copy\n",
      "  dataset.loc[:, 'label'] = (dataset[target_label] > target_value).astype(int)\n"
     ]
    },
    {
     "name": "stdout",
     "output_type": "stream",
     "text": [
      "label\n",
      "0    18466\n",
      "1    13842\n",
      "Name: count, dtype: int64\n",
      "48 28 90 188\n",
      "{'model_name': 'MA:RM220_TSSIM1_TL15-EXP_custHypTP0.57', 'deployment_date': '2023-01-16', 'algorithm_type': 'xgboost', 'dataset': 'MA:RM220_TSSIM1_TL15-EXP_custHypTP0.57', 'TP': 48, 'TPpct': Decimal('0'), 'FP': 28, 'FPpct': Decimal('0'), 'TN': 90, 'TNpct': Decimal('0'), 'FN': 188, 'FNpct': Decimal('0'), 'precision_ratio': Decimal('1.7142857142857142'), 'evaluation_timeperiod': '2023-01-16_2023-01-20', 'live': False, 'hyperparameters': {\"{'subsample': 0.6, 'num_round': 1000, 'min_child_weight': 10, 'max_depth': 10, 'learning_rate': 0.1, 'gamma': 2, 'colsample_bytree': 1}\"}, 'features': {\"['oneD_stddev50', 'rsi', 'close_diff', 'daily_volume_vol_diff_pct30', 'range_vol_diff5', 'SPY_diff', 'threeD_stddev50', 'close_diff3', 'min_volume_vol_diff_pct', 'month', 'return_vol_240M', 'range_vol', 'rsi5', 'roc', 'SPY_3D', 'roc5', 'roc_diff', 'price_25DDiff', 'daily_volume_vol_diff_pct', 'price_10DDiff', 'SPY_1D', 'hour_volume_vol_diff', 'hour_volume_vol_diff_pct', 'return_vol_10D', 'SPY_5D']\"}, 'target': '0.03+three_max', 'feature_importances': \"[{'oneD_stddev50': 0.060588624}, {'rsi': 0.040600374}, {'close_diff': 0.035325203}, {'daily_volume_vol_diff_pct30': 0.029932505}, {'range_vol_diff5': 0.037450124}, {'SPY_diff': 0.029117275}, {'threeD_stddev50': 0.07210843}, {'close_diff3': 0.034680787}, {'min_volume_vol_diff_pct': 0.026313975}, {'month': 0.0452967}, {'return_vol_240M': 0.047786854}, {'range_vol': 0.035184257}, {'rsi5': 0.035732523}, {'roc': 0.040635064}, {'SPY_3D': 0.040893894}, {'roc5': 0.037123423}, {'roc_diff': 0.039936762}, {'price_25DDiff': 0.040181804}, {'daily_volume_vol_diff_pct': 0.033019703}, {'price_10DDiff': 0.036747254}, {'SPY_1D': 0.03726691}, {'hour_volume_vol_diff': 0.03459611}, {'hour_volume_vol_diff_pct': 0.029844642}, {'return_vol_10D': 0.054121044}, {'SPY_5D': 0.045515824}]\"}\n",
      "{'deployment_date': datetime.datetime(2023, 1, 23, 0, 0), 'dataset_end': datetime.datetime(2023, 1, 13, 0, 0), 'dataset_start': datetime.datetime(2018, 1, 1, 0, 0)}\n",
      "0.029\n",
      "0.6674819422327406\n"
     ]
    },
    {
     "name": "stderr",
     "output_type": "stream",
     "text": [
      "/var/folders/tq/_9q_lv1s2bndbr3tzzn08x4r0000gn/T/ipykernel_13052/3239437027.py:2: SettingWithCopyWarning: \n",
      "A value is trying to be set on a copy of a slice from a DataFrame.\n",
      "Try using .loc[row_indexer,col_indexer] = value instead\n",
      "\n",
      "See the caveats in the documentation: https://pandas.pydata.org/pandas-docs/stable/user_guide/indexing.html#returning-a-view-versus-a-copy\n",
      "  dataset.loc[:, 'label'] = (dataset[target_label] > target_value).astype(int)\n"
     ]
    },
    {
     "name": "stdout",
     "output_type": "stream",
     "text": [
      "label\n",
      "0    42839\n",
      "1    33029\n",
      "Name: count, dtype: int64\n",
      "139 64 92 155\n",
      "{'model_name': 'MA:RM220_TSSIM1_TL15-EXP_custHypTP0.57', 'deployment_date': '2023-01-23', 'algorithm_type': 'xgboost', 'dataset': 'MA:RM220_TSSIM1_TL15-EXP_custHypTP0.57', 'TP': 139, 'TPpct': Decimal('0'), 'FP': 64, 'FPpct': Decimal('0'), 'TN': 92, 'TNpct': Decimal('0'), 'FN': 155, 'FNpct': Decimal('0'), 'precision_ratio': Decimal('2.171875'), 'evaluation_timeperiod': '2023-01-23_2023-01-27', 'live': False, 'hyperparameters': {\"{'subsample': 0.6, 'num_round': 1000, 'min_child_weight': 10, 'max_depth': 10, 'learning_rate': 0.1, 'gamma': 2, 'colsample_bytree': 1}\"}, 'features': {\"['oneD_stddev50', 'rsi', 'close_diff', 'daily_volume_vol_diff_pct30', 'range_vol_diff5', 'SPY_diff', 'threeD_stddev50', 'close_diff3', 'min_volume_vol_diff_pct', 'month', 'return_vol_240M', 'range_vol', 'rsi5', 'roc', 'SPY_3D', 'roc5', 'roc_diff', 'price_25DDiff', 'daily_volume_vol_diff_pct', 'price_10DDiff', 'SPY_1D', 'hour_volume_vol_diff', 'hour_volume_vol_diff_pct', 'return_vol_10D', 'SPY_5D']\"}, 'target': '0.029+three_max', 'feature_importances': \"[{'oneD_stddev50': 0.06657224}, {'rsi': 0.035784226}, {'close_diff': 0.032613177}, {'daily_volume_vol_diff_pct30': 0.03000639}, {'range_vol_diff5': 0.033663556}, {'SPY_diff': 0.028291875}, {'threeD_stddev50': 0.0375411}, {'close_diff3': 0.033227067}, {'min_volume_vol_diff_pct': 0.025608057}, {'month': 0.04317384}, {'return_vol_240M': 0.101987325}, {'range_vol': 0.041403085}, {'rsi5': 0.035810623}, {'roc': 0.0340469}, {'SPY_3D': 0.034450155}, {'roc5': 0.034670494}, {'roc_diff': 0.037195735}, {'price_25DDiff': 0.037168846}, {'daily_volume_vol_diff_pct': 0.031327907}, {'price_10DDiff': 0.037627663}, {'SPY_1D': 0.03376139}, {'hour_volume_vol_diff': 0.02860961}, {'hour_volume_vol_diff_pct': 0.0278697}, {'return_vol_10D': 0.08204305}, {'SPY_5D': 0.03554604}]\"}\n",
      "{'deployment_date': datetime.datetime(2023, 1, 30, 0, 0), 'dataset_end': datetime.datetime(2023, 1, 20, 0, 0), 'dataset_start': datetime.datetime(2018, 1, 1, 0, 0)}\n",
      "0.029\n",
      "0.8198338844207442\n"
     ]
    },
    {
     "name": "stderr",
     "output_type": "stream",
     "text": [
      "/var/folders/tq/_9q_lv1s2bndbr3tzzn08x4r0000gn/T/ipykernel_13052/3239437027.py:2: SettingWithCopyWarning: \n",
      "A value is trying to be set on a copy of a slice from a DataFrame.\n",
      "Try using .loc[row_indexer,col_indexer] = value instead\n",
      "\n",
      "See the caveats in the documentation: https://pandas.pydata.org/pandas-docs/stable/user_guide/indexing.html#returning-a-view-versus-a-copy\n",
      "  dataset.loc[:, 'label'] = (dataset[target_label] > target_value).astype(int)\n"
     ]
    },
    {
     "name": "stdout",
     "output_type": "stream",
     "text": [
      "label\n",
      "0    52906\n",
      "1    40569\n",
      "Name: count, dtype: int64\n",
      "151 57 83 159\n",
      "{'model_name': 'MA:RM220_TSSIM1_TL15-EXP_custHypTP0.57', 'deployment_date': '2023-01-30', 'algorithm_type': 'xgboost', 'dataset': 'MA:RM220_TSSIM1_TL15-EXP_custHypTP0.57', 'TP': 151, 'TPpct': Decimal('0'), 'FP': 57, 'FPpct': Decimal('0'), 'TN': 83, 'TNpct': Decimal('0'), 'FN': 159, 'FNpct': Decimal('0'), 'precision_ratio': Decimal('2.6491228070175437'), 'evaluation_timeperiod': '2023-01-30_2023-02-03', 'live': False, 'hyperparameters': {\"{'subsample': 0.6, 'num_round': 1000, 'min_child_weight': 10, 'max_depth': 10, 'learning_rate': 0.1, 'gamma': 2, 'colsample_bytree': 1}\"}, 'features': {\"['oneD_stddev50', 'rsi', 'close_diff', 'daily_volume_vol_diff_pct30', 'range_vol_diff5', 'SPY_diff', 'threeD_stddev50', 'close_diff3', 'min_volume_vol_diff_pct', 'month', 'return_vol_240M', 'range_vol', 'rsi5', 'roc', 'SPY_3D', 'roc5', 'roc_diff', 'price_25DDiff', 'daily_volume_vol_diff_pct', 'price_10DDiff', 'SPY_1D', 'hour_volume_vol_diff', 'hour_volume_vol_diff_pct', 'return_vol_10D', 'SPY_5D']\"}, 'target': '0.029+three_max', 'feature_importances': \"[{'oneD_stddev50': 0.064121746}, {'rsi': 0.036402576}, {'close_diff': 0.0327819}, {'daily_volume_vol_diff_pct30': 0.031655896}, {'range_vol_diff5': 0.034485005}, {'SPY_diff': 0.029330656}, {'threeD_stddev50': 0.038259406}, {'close_diff3': 0.03231226}, {'min_volume_vol_diff_pct': 0.023418097}, {'month': 0.041763764}, {'return_vol_240M': 0.10223733}, {'range_vol': 0.040369287}, {'rsi5': 0.034857497}, {'roc': 0.034905076}, {'SPY_3D': 0.036075115}, {'roc5': 0.034062}, {'roc_diff': 0.03650616}, {'price_25DDiff': 0.039049264}, {'daily_volume_vol_diff_pct': 0.031010538}, {'price_10DDiff': 0.034586925}, {'SPY_1D': 0.035330255}, {'hour_volume_vol_diff': 0.02937413}, {'hour_volume_vol_diff_pct': 0.02895843}, {'return_vol_10D': 0.08381488}, {'SPY_5D': 0.03433179}]\"}\n",
      "{'deployment_date': datetime.datetime(2023, 2, 6, 0, 0), 'dataset_end': datetime.datetime(2023, 1, 27, 0, 0), 'dataset_start': datetime.datetime(2018, 1, 1, 0, 0)}\n",
      "0.03\n",
      "0.668244996374501\n"
     ]
    },
    {
     "name": "stderr",
     "output_type": "stream",
     "text": [
      "/var/folders/tq/_9q_lv1s2bndbr3tzzn08x4r0000gn/T/ipykernel_13052/3239437027.py:2: SettingWithCopyWarning: \n",
      "A value is trying to be set on a copy of a slice from a DataFrame.\n",
      "Try using .loc[row_indexer,col_indexer] = value instead\n",
      "\n",
      "See the caveats in the documentation: https://pandas.pydata.org/pandas-docs/stable/user_guide/indexing.html#returning-a-view-versus-a-copy\n",
      "  dataset.loc[:, 'label'] = (dataset[target_label] > target_value).astype(int)\n"
     ]
    },
    {
     "name": "stdout",
     "output_type": "stream",
     "text": [
      "label\n",
      "0    43958\n",
      "1    32534\n",
      "Name: count, dtype: int64\n",
      "120 110 154 66\n",
      "{'model_name': 'MA:RM220_TSSIM1_TL15-EXP_custHypTP0.57', 'deployment_date': '2023-02-06', 'algorithm_type': 'xgboost', 'dataset': 'MA:RM220_TSSIM1_TL15-EXP_custHypTP0.57', 'TP': 120, 'TPpct': Decimal('0'), 'FP': 110, 'FPpct': Decimal('0'), 'TN': 154, 'TNpct': Decimal('0'), 'FN': 66, 'FNpct': Decimal('0'), 'precision_ratio': Decimal('1.0909090909090908'), 'evaluation_timeperiod': '2023-02-06_2023-02-10', 'live': False, 'hyperparameters': {\"{'subsample': 0.6, 'num_round': 1000, 'min_child_weight': 10, 'max_depth': 10, 'learning_rate': 0.1, 'gamma': 2, 'colsample_bytree': 1}\"}, 'features': {\"['oneD_stddev50', 'rsi', 'close_diff', 'daily_volume_vol_diff_pct30', 'range_vol_diff5', 'SPY_diff', 'threeD_stddev50', 'close_diff3', 'min_volume_vol_diff_pct', 'month', 'return_vol_240M', 'range_vol', 'rsi5', 'roc', 'SPY_3D', 'roc5', 'roc_diff', 'price_25DDiff', 'daily_volume_vol_diff_pct', 'price_10DDiff', 'SPY_1D', 'hour_volume_vol_diff', 'hour_volume_vol_diff_pct', 'return_vol_10D', 'SPY_5D']\"}, 'target': '0.03+three_max', 'feature_importances': \"[{'oneD_stddev50': 0.06551758}, {'rsi': 0.035952643}, {'close_diff': 0.032608543}, {'daily_volume_vol_diff_pct30': 0.029626127}, {'range_vol_diff5': 0.03528741}, {'SPY_diff': 0.02742443}, {'threeD_stddev50': 0.04002765}, {'close_diff3': 0.033623885}, {'min_volume_vol_diff_pct': 0.025020275}, {'month': 0.042064458}, {'return_vol_240M': 0.1088462}, {'range_vol': 0.041298397}, {'rsi5': 0.034365524}, {'roc': 0.03327691}, {'SPY_3D': 0.034498822}, {'roc5': 0.03500184}, {'roc_diff': 0.035409242}, {'price_25DDiff': 0.03801107}, {'daily_volume_vol_diff_pct': 0.031155039}, {'price_10DDiff': 0.034303427}, {'SPY_1D': 0.035657868}, {'hour_volume_vol_diff': 0.029354835}, {'hour_volume_vol_diff_pct': 0.028940158}, {'return_vol_10D': 0.0768464}, {'SPY_5D': 0.0358813}]\"}\n",
      "{'deployment_date': datetime.datetime(2023, 2, 13, 0, 0), 'dataset_end': datetime.datetime(2023, 2, 3, 0, 0), 'dataset_start': datetime.datetime(2018, 1, 1, 0, 0)}\n",
      "0.03\n",
      "0.6711104536317516\n"
     ]
    },
    {
     "name": "stderr",
     "output_type": "stream",
     "text": [
      "/var/folders/tq/_9q_lv1s2bndbr3tzzn08x4r0000gn/T/ipykernel_13052/3239437027.py:2: SettingWithCopyWarning: \n",
      "A value is trying to be set on a copy of a slice from a DataFrame.\n",
      "Try using .loc[row_indexer,col_indexer] = value instead\n",
      "\n",
      "See the caveats in the documentation: https://pandas.pydata.org/pandas-docs/stable/user_guide/indexing.html#returning-a-view-versus-a-copy\n",
      "  dataset.loc[:, 'label'] = (dataset[target_label] > target_value).astype(int)\n"
     ]
    },
    {
     "name": "stdout",
     "output_type": "stream",
     "text": [
      "label\n",
      "0    44277\n",
      "1    32845\n",
      "Name: count, dtype: int64\n",
      "84 136 197 22\n",
      "{'model_name': 'MA:RM220_TSSIM1_TL15-EXP_custHypTP0.57', 'deployment_date': '2023-02-13', 'algorithm_type': 'xgboost', 'dataset': 'MA:RM220_TSSIM1_TL15-EXP_custHypTP0.57', 'TP': 84, 'TPpct': Decimal('0'), 'FP': 136, 'FPpct': Decimal('0'), 'TN': 197, 'TNpct': Decimal('0'), 'FN': 22, 'FNpct': Decimal('0'), 'precision_ratio': Decimal('0.6176470588235294'), 'evaluation_timeperiod': '2023-02-13_2023-02-17', 'live': False, 'hyperparameters': {\"{'subsample': 0.6, 'num_round': 1000, 'min_child_weight': 10, 'max_depth': 10, 'learning_rate': 0.1, 'gamma': 2, 'colsample_bytree': 1}\"}, 'features': {\"['oneD_stddev50', 'rsi', 'close_diff', 'daily_volume_vol_diff_pct30', 'range_vol_diff5', 'SPY_diff', 'threeD_stddev50', 'close_diff3', 'min_volume_vol_diff_pct', 'month', 'return_vol_240M', 'range_vol', 'rsi5', 'roc', 'SPY_3D', 'roc5', 'roc_diff', 'price_25DDiff', 'daily_volume_vol_diff_pct', 'price_10DDiff', 'SPY_1D', 'hour_volume_vol_diff', 'hour_volume_vol_diff_pct', 'return_vol_10D', 'SPY_5D']\"}, 'target': '0.03+three_max', 'feature_importances': \"[{'oneD_stddev50': 0.07133048}, {'rsi': 0.038559735}, {'close_diff': 0.034204844}, {'daily_volume_vol_diff_pct30': 0.030449921}, {'range_vol_diff5': 0.035738222}, {'SPY_diff': 0.029225815}, {'threeD_stddev50': 0.039096236}, {'close_diff3': 0.0346113}, {'min_volume_vol_diff_pct': 0.024380555}, {'month': 0.04292534}, {'return_vol_240M': 0.073182896}, {'range_vol': 0.043070257}, {'rsi5': 0.034720566}, {'roc': 0.035597768}, {'SPY_3D': 0.03555345}, {'roc5': 0.035674125}, {'roc_diff': 0.036136054}, {'price_25DDiff': 0.03767886}, {'daily_volume_vol_diff_pct': 0.031908277}, {'price_10DDiff': 0.03704699}, {'SPY_1D': 0.035403237}, {'hour_volume_vol_diff': 0.029482016}, {'hour_volume_vol_diff_pct': 0.028785622}, {'return_vol_10D': 0.08838695}, {'SPY_5D': 0.03685049}]\"}\n",
      "{'deployment_date': datetime.datetime(2023, 2, 20, 0, 0), 'dataset_end': datetime.datetime(2023, 2, 10, 0, 0), 'dataset_start': datetime.datetime(2018, 1, 1, 0, 0)}\n",
      "0.03\n",
      "0.8219421498348748\n"
     ]
    },
    {
     "name": "stderr",
     "output_type": "stream",
     "text": [
      "/var/folders/tq/_9q_lv1s2bndbr3tzzn08x4r0000gn/T/ipykernel_13052/3239437027.py:2: SettingWithCopyWarning: \n",
      "A value is trying to be set on a copy of a slice from a DataFrame.\n",
      "Try using .loc[row_indexer,col_indexer] = value instead\n",
      "\n",
      "See the caveats in the documentation: https://pandas.pydata.org/pandas-docs/stable/user_guide/indexing.html#returning-a-view-versus-a-copy\n",
      "  dataset.loc[:, 'label'] = (dataset[target_label] > target_value).astype(int)\n"
     ]
    },
    {
     "name": "stdout",
     "output_type": "stream",
     "text": [
      "label\n",
      "0    54624\n",
      "1    40201\n",
      "Name: count, dtype: int64\n",
      "41 106 176 37\n",
      "{'model_name': 'MA:RM220_TSSIM1_TL15-EXP_custHypTP0.57', 'deployment_date': '2023-02-20', 'algorithm_type': 'xgboost', 'dataset': 'MA:RM220_TSSIM1_TL15-EXP_custHypTP0.57', 'TP': 41, 'TPpct': Decimal('0'), 'FP': 106, 'FPpct': Decimal('0'), 'TN': 176, 'TNpct': Decimal('0'), 'FN': 37, 'FNpct': Decimal('0'), 'precision_ratio': Decimal('0.3867924528301887'), 'evaluation_timeperiod': '2023-02-20_2023-02-24', 'live': False, 'hyperparameters': {\"{'subsample': 0.6, 'num_round': 1000, 'min_child_weight': 10, 'max_depth': 10, 'learning_rate': 0.1, 'gamma': 2, 'colsample_bytree': 1}\"}, 'features': {\"['oneD_stddev50', 'rsi', 'close_diff', 'daily_volume_vol_diff_pct30', 'range_vol_diff5', 'SPY_diff', 'threeD_stddev50', 'close_diff3', 'min_volume_vol_diff_pct', 'month', 'return_vol_240M', 'range_vol', 'rsi5', 'roc', 'SPY_3D', 'roc5', 'roc_diff', 'price_25DDiff', 'daily_volume_vol_diff_pct', 'price_10DDiff', 'SPY_1D', 'hour_volume_vol_diff', 'hour_volume_vol_diff_pct', 'return_vol_10D', 'SPY_5D']\"}, 'target': '0.03+three_max', 'feature_importances': \"[{'oneD_stddev50': 0.08482483}, {'rsi': 0.036950946}, {'close_diff': 0.033778958}, {'daily_volume_vol_diff_pct30': 0.030771002}, {'range_vol_diff5': 0.033678368}, {'SPY_diff': 0.028236622}, {'threeD_stddev50': 0.03917781}, {'close_diff3': 0.0331152}, {'min_volume_vol_diff_pct': 0.022902442}, {'month': 0.04167719}, {'return_vol_240M': 0.070596986}, {'range_vol': 0.041917335}, {'rsi5': 0.0355708}, {'roc': 0.036476433}, {'SPY_3D': 0.035894327}, {'roc5': 0.035024866}, {'roc_diff': 0.036685925}, {'price_25DDiff': 0.0403244}, {'daily_volume_vol_diff_pct': 0.030908408}, {'price_10DDiff': 0.035977527}, {'SPY_1D': 0.034858268}, {'hour_volume_vol_diff': 0.030284133}, {'hour_volume_vol_diff_pct': 0.028219419}, {'return_vol_10D': 0.086243115}, {'SPY_5D': 0.0359046}]\"}\n",
      "{'deployment_date': datetime.datetime(2023, 2, 27, 0, 0), 'dataset_end': datetime.datetime(2023, 2, 17, 0, 0), 'dataset_start': datetime.datetime(2018, 1, 1, 0, 0)}\n",
      "0.03\n",
      "0.673638035697324\n"
     ]
    },
    {
     "name": "stderr",
     "output_type": "stream",
     "text": [
      "/var/folders/tq/_9q_lv1s2bndbr3tzzn08x4r0000gn/T/ipykernel_13052/3239437027.py:2: SettingWithCopyWarning: \n",
      "A value is trying to be set on a copy of a slice from a DataFrame.\n",
      "Try using .loc[row_indexer,col_indexer] = value instead\n",
      "\n",
      "See the caveats in the documentation: https://pandas.pydata.org/pandas-docs/stable/user_guide/indexing.html#returning-a-view-versus-a-copy\n",
      "  dataset.loc[:, 'label'] = (dataset[target_label] > target_value).astype(int)\n"
     ]
    },
    {
     "name": "stdout",
     "output_type": "stream",
     "text": [
      "label\n",
      "0    44870\n",
      "1    33142\n",
      "Name: count, dtype: int64\n",
      "112 49 130 159\n",
      "{'model_name': 'MA:RM220_TSSIM1_TL15-EXP_custHypTP0.57', 'deployment_date': '2023-02-27', 'algorithm_type': 'xgboost', 'dataset': 'MA:RM220_TSSIM1_TL15-EXP_custHypTP0.57', 'TP': 112, 'TPpct': Decimal('0'), 'FP': 49, 'FPpct': Decimal('0'), 'TN': 130, 'TNpct': Decimal('0'), 'FN': 159, 'FNpct': Decimal('0'), 'precision_ratio': Decimal('2.2857142857142856'), 'evaluation_timeperiod': '2023-02-27_2023-03-03', 'live': False, 'hyperparameters': {\"{'subsample': 0.6, 'num_round': 1000, 'min_child_weight': 10, 'max_depth': 10, 'learning_rate': 0.1, 'gamma': 2, 'colsample_bytree': 1}\"}, 'features': {\"['oneD_stddev50', 'rsi', 'close_diff', 'daily_volume_vol_diff_pct30', 'range_vol_diff5', 'SPY_diff', 'threeD_stddev50', 'close_diff3', 'min_volume_vol_diff_pct', 'month', 'return_vol_240M', 'range_vol', 'rsi5', 'roc', 'SPY_3D', 'roc5', 'roc_diff', 'price_25DDiff', 'daily_volume_vol_diff_pct', 'price_10DDiff', 'SPY_1D', 'hour_volume_vol_diff', 'hour_volume_vol_diff_pct', 'return_vol_10D', 'SPY_5D']\"}, 'target': '0.03+three_max', 'feature_importances': \"[{'oneD_stddev50': 0.07359796}, {'rsi': 0.036649067}, {'close_diff': 0.033225507}, {'daily_volume_vol_diff_pct30': 0.030139318}, {'range_vol_diff5': 0.03541311}, {'SPY_diff': 0.029308394}, {'threeD_stddev50': 0.039059006}, {'close_diff3': 0.035555393}, {'min_volume_vol_diff_pct': 0.024598604}, {'month': 0.044753205}, {'return_vol_240M': 0.07174659}, {'range_vol': 0.041791055}, {'rsi5': 0.036597393}, {'roc': 0.03482572}, {'SPY_3D': 0.034215398}, {'roc5': 0.036273126}, {'roc_diff': 0.03567935}, {'price_25DDiff': 0.037941065}, {'daily_volume_vol_diff_pct': 0.031144202}, {'price_10DDiff': 0.0363409}, {'SPY_1D': 0.03595879}, {'hour_volume_vol_diff': 0.030396}, {'hour_volume_vol_diff_pct': 0.03057572}, {'return_vol_10D': 0.08702939}, {'SPY_5D': 0.037185762}]\"}\n",
      "{'deployment_date': datetime.datetime(2023, 3, 6, 0, 0), 'dataset_end': datetime.datetime(2023, 2, 24, 0, 0), 'dataset_start': datetime.datetime(2018, 1, 1, 0, 0)}\n",
      "0.03\n",
      "0.27966634242082516\n"
     ]
    },
    {
     "name": "stderr",
     "output_type": "stream",
     "text": [
      "/var/folders/tq/_9q_lv1s2bndbr3tzzn08x4r0000gn/T/ipykernel_13052/3239437027.py:2: SettingWithCopyWarning: \n",
      "A value is trying to be set on a copy of a slice from a DataFrame.\n",
      "Try using .loc[row_indexer,col_indexer] = value instead\n",
      "\n",
      "See the caveats in the documentation: https://pandas.pydata.org/pandas-docs/stable/user_guide/indexing.html#returning-a-view-versus-a-copy\n",
      "  dataset.loc[:, 'label'] = (dataset[target_label] > target_value).astype(int)\n"
     ]
    },
    {
     "name": "stdout",
     "output_type": "stream",
     "text": [
      "label\n",
      "0    18478\n",
      "1    14010\n",
      "Name: count, dtype: int64\n",
      "65 125 197 63\n",
      "{'model_name': 'MA:RM220_TSSIM1_TL15-EXP_custHypTP0.57', 'deployment_date': '2023-03-06', 'algorithm_type': 'xgboost', 'dataset': 'MA:RM220_TSSIM1_TL15-EXP_custHypTP0.57', 'TP': 65, 'TPpct': Decimal('0'), 'FP': 125, 'FPpct': Decimal('0'), 'TN': 197, 'TNpct': Decimal('0'), 'FN': 63, 'FNpct': Decimal('0'), 'precision_ratio': Decimal('0.52'), 'evaluation_timeperiod': '2023-03-06_2023-03-10', 'live': False, 'hyperparameters': {\"{'subsample': 0.6, 'num_round': 1000, 'min_child_weight': 10, 'max_depth': 10, 'learning_rate': 0.1, 'gamma': 2, 'colsample_bytree': 1}\"}, 'features': {\"['oneD_stddev50', 'rsi', 'close_diff', 'daily_volume_vol_diff_pct30', 'range_vol_diff5', 'SPY_diff', 'threeD_stddev50', 'close_diff3', 'min_volume_vol_diff_pct', 'month', 'return_vol_240M', 'range_vol', 'rsi5', 'roc', 'SPY_3D', 'roc5', 'roc_diff', 'price_25DDiff', 'daily_volume_vol_diff_pct', 'price_10DDiff', 'SPY_1D', 'hour_volume_vol_diff', 'hour_volume_vol_diff_pct', 'return_vol_10D', 'SPY_5D']\"}, 'target': '0.03+three_max', 'feature_importances': \"[{'oneD_stddev50': 0.08949973}, {'rsi': 0.04021677}, {'close_diff': 0.033605434}, {'daily_volume_vol_diff_pct30': 0.029712489}, {'range_vol_diff5': 0.033173125}, {'SPY_diff': 0.030033465}, {'threeD_stddev50': 0.051848184}, {'close_diff3': 0.03672092}, {'min_volume_vol_diff_pct': 0.02693173}, {'month': 0.044549912}, {'return_vol_240M': 0.048420772}, {'range_vol': 0.03810559}, {'rsi5': 0.03872878}, {'roc': 0.03826726}, {'SPY_3D': 0.04080585}, {'roc5': 0.03620607}, {'roc_diff': 0.038579542}, {'price_25DDiff': 0.038871333}, {'daily_volume_vol_diff_pct': 0.032430705}, {'price_10DDiff': 0.035566356}, {'SPY_1D': 0.036405213}, {'hour_volume_vol_diff': 0.032050725}, {'hour_volume_vol_diff_pct': 0.03222479}, {'return_vol_10D': 0.052525777}, {'SPY_5D': 0.044519477}]\"}\n",
      "{'deployment_date': datetime.datetime(2023, 3, 13, 0, 0), 'dataset_end': datetime.datetime(2023, 3, 3, 0, 0), 'dataset_start': datetime.datetime(2018, 1, 1, 0, 0)}\n",
      "0.03\n",
      "0.6720460996252691\n"
     ]
    },
    {
     "name": "stderr",
     "output_type": "stream",
     "text": [
      "/var/folders/tq/_9q_lv1s2bndbr3tzzn08x4r0000gn/T/ipykernel_13052/3239437027.py:2: SettingWithCopyWarning: \n",
      "A value is trying to be set on a copy of a slice from a DataFrame.\n",
      "Try using .loc[row_indexer,col_indexer] = value instead\n",
      "\n",
      "See the caveats in the documentation: https://pandas.pydata.org/pandas-docs/stable/user_guide/indexing.html#returning-a-view-versus-a-copy\n",
      "  dataset.loc[:, 'label'] = (dataset[target_label] > target_value).astype(int)\n"
     ]
    },
    {
     "name": "stdout",
     "output_type": "stream",
     "text": [
      "label\n",
      "0    45017\n",
      "1    33355\n",
      "Name: count, dtype: int64\n",
      "145 87 84 134\n",
      "{'model_name': 'MA:RM220_TSSIM1_TL15-EXP_custHypTP0.57', 'deployment_date': '2023-03-13', 'algorithm_type': 'xgboost', 'dataset': 'MA:RM220_TSSIM1_TL15-EXP_custHypTP0.57', 'TP': 145, 'TPpct': Decimal('0'), 'FP': 87, 'FPpct': Decimal('0'), 'TN': 84, 'TNpct': Decimal('0'), 'FN': 134, 'FNpct': Decimal('0'), 'precision_ratio': Decimal('1.6666666666666667'), 'evaluation_timeperiod': '2023-03-13_2023-03-17', 'live': False, 'hyperparameters': {\"{'subsample': 0.6, 'num_round': 1000, 'min_child_weight': 10, 'max_depth': 10, 'learning_rate': 0.1, 'gamma': 2, 'colsample_bytree': 1}\"}, 'features': {\"['oneD_stddev50', 'rsi', 'close_diff', 'daily_volume_vol_diff_pct30', 'range_vol_diff5', 'SPY_diff', 'threeD_stddev50', 'close_diff3', 'min_volume_vol_diff_pct', 'month', 'return_vol_240M', 'range_vol', 'rsi5', 'roc', 'SPY_3D', 'roc5', 'roc_diff', 'price_25DDiff', 'daily_volume_vol_diff_pct', 'price_10DDiff', 'SPY_1D', 'hour_volume_vol_diff', 'hour_volume_vol_diff_pct', 'return_vol_10D', 'SPY_5D']\"}, 'target': '0.03+three_max', 'feature_importances': \"[{'oneD_stddev50': 0.078235954}, {'rsi': 0.037160847}, {'close_diff': 0.03303768}, {'daily_volume_vol_diff_pct30': 0.030877136}, {'range_vol_diff5': 0.03537419}, {'SPY_diff': 0.028240807}, {'threeD_stddev50': 0.04066436}, {'close_diff3': 0.033190127}, {'min_volume_vol_diff_pct': 0.025058785}, {'month': 0.04311433}, {'return_vol_240M': 0.06948867}, {'range_vol': 0.04157696}, {'rsi5': 0.03600013}, {'roc': 0.036850102}, {'SPY_3D': 0.03506958}, {'roc5': 0.035963178}, {'roc_diff': 0.036466513}, {'price_25DDiff': 0.037566002}, {'daily_volume_vol_diff_pct': 0.032131013}, {'price_10DDiff': 0.037714962}, {'SPY_1D': 0.034721766}, {'hour_volume_vol_diff': 0.02914804}, {'hour_volume_vol_diff_pct': 0.028390517}, {'return_vol_10D': 0.0871909}, {'SPY_5D': 0.036767468}]\"}\n",
      "{'deployment_date': datetime.datetime(2023, 3, 20, 0, 0), 'dataset_end': datetime.datetime(2023, 3, 10, 0, 0), 'dataset_start': datetime.datetime(2018, 1, 1, 0, 0)}\n",
      "0.03\n",
      "0.6725379483543612\n"
     ]
    },
    {
     "name": "stderr",
     "output_type": "stream",
     "text": [
      "/var/folders/tq/_9q_lv1s2bndbr3tzzn08x4r0000gn/T/ipykernel_13052/3239437027.py:2: SettingWithCopyWarning: \n",
      "A value is trying to be set on a copy of a slice from a DataFrame.\n",
      "Try using .loc[row_indexer,col_indexer] = value instead\n",
      "\n",
      "See the caveats in the documentation: https://pandas.pydata.org/pandas-docs/stable/user_guide/indexing.html#returning-a-view-versus-a-copy\n",
      "  dataset.loc[:, 'label'] = (dataset[target_label] > target_value).astype(int)\n"
     ]
    },
    {
     "name": "stdout",
     "output_type": "stream",
     "text": [
      "label\n",
      "0    45278\n",
      "1    33454\n",
      "Name: count, dtype: int64\n",
      "135 78 153 79\n",
      "{'model_name': 'MA:RM220_TSSIM1_TL15-EXP_custHypTP0.57', 'deployment_date': '2023-03-20', 'algorithm_type': 'xgboost', 'dataset': 'MA:RM220_TSSIM1_TL15-EXP_custHypTP0.57', 'TP': 135, 'TPpct': Decimal('0'), 'FP': 78, 'FPpct': Decimal('0'), 'TN': 153, 'TNpct': Decimal('0'), 'FN': 79, 'FNpct': Decimal('0'), 'precision_ratio': Decimal('1.7307692307692308'), 'evaluation_timeperiod': '2023-03-20_2023-03-24', 'live': False, 'hyperparameters': {\"{'subsample': 0.6, 'num_round': 1000, 'min_child_weight': 10, 'max_depth': 10, 'learning_rate': 0.1, 'gamma': 2, 'colsample_bytree': 1}\"}, 'features': {\"['oneD_stddev50', 'rsi', 'close_diff', 'daily_volume_vol_diff_pct30', 'range_vol_diff5', 'SPY_diff', 'threeD_stddev50', 'close_diff3', 'min_volume_vol_diff_pct', 'month', 'return_vol_240M', 'range_vol', 'rsi5', 'roc', 'SPY_3D', 'roc5', 'roc_diff', 'price_25DDiff', 'daily_volume_vol_diff_pct', 'price_10DDiff', 'SPY_1D', 'hour_volume_vol_diff', 'hour_volume_vol_diff_pct', 'return_vol_10D', 'SPY_5D']\"}, 'target': '0.03+three_max', 'feature_importances': \"[{'oneD_stddev50': 0.074094005}, {'rsi': 0.03678818}, {'close_diff': 0.032590624}, {'daily_volume_vol_diff_pct30': 0.0319087}, {'range_vol_diff5': 0.036084697}, {'SPY_diff': 0.028521338}, {'threeD_stddev50': 0.03908981}, {'close_diff3': 0.034589425}, {'min_volume_vol_diff_pct': 0.024076318}, {'month': 0.043356556}, {'return_vol_240M': 0.078405276}, {'range_vol': 0.04134998}, {'rsi5': 0.03540614}, {'roc': 0.035600353}, {'SPY_3D': 0.03578164}, {'roc5': 0.03768786}, {'roc_diff': 0.035993293}, {'price_25DDiff': 0.038928784}, {'daily_volume_vol_diff_pct': 0.031401463}, {'price_10DDiff': 0.03637895}, {'SPY_1D': 0.03498344}, {'hour_volume_vol_diff': 0.02914691}, {'hour_volume_vol_diff_pct': 0.029380772}, {'return_vol_10D': 0.08174722}, {'SPY_5D': 0.036708314}]\"}\n",
      "{'deployment_date': datetime.datetime(2023, 3, 27, 0, 0), 'dataset_end': datetime.datetime(2023, 3, 17, 0, 0), 'dataset_start': datetime.datetime(2018, 1, 1, 0, 0)}\n",
      "0.03\n",
      "0.2788022158496218\n"
     ]
    },
    {
     "name": "stderr",
     "output_type": "stream",
     "text": [
      "/var/folders/tq/_9q_lv1s2bndbr3tzzn08x4r0000gn/T/ipykernel_13052/3239437027.py:2: SettingWithCopyWarning: \n",
      "A value is trying to be set on a copy of a slice from a DataFrame.\n",
      "Try using .loc[row_indexer,col_indexer] = value instead\n",
      "\n",
      "See the caveats in the documentation: https://pandas.pydata.org/pandas-docs/stable/user_guide/indexing.html#returning-a-view-versus-a-copy\n",
      "  dataset.loc[:, 'label'] = (dataset[target_label] > target_value).astype(int)\n"
     ]
    },
    {
     "name": "stdout",
     "output_type": "stream",
     "text": [
      "label\n",
      "0    18607\n",
      "1    14157\n",
      "Name: count, dtype: int64\n",
      "112 70 123 145\n",
      "{'model_name': 'MA:RM220_TSSIM1_TL15-EXP_custHypTP0.57', 'deployment_date': '2023-03-27', 'algorithm_type': 'xgboost', 'dataset': 'MA:RM220_TSSIM1_TL15-EXP_custHypTP0.57', 'TP': 112, 'TPpct': Decimal('0'), 'FP': 70, 'FPpct': Decimal('0'), 'TN': 123, 'TNpct': Decimal('0'), 'FN': 145, 'FNpct': Decimal('0'), 'precision_ratio': Decimal('1.6'), 'evaluation_timeperiod': '2023-03-27_2023-03-31', 'live': False, 'hyperparameters': {\"{'subsample': 0.6, 'num_round': 1000, 'min_child_weight': 10, 'max_depth': 10, 'learning_rate': 0.1, 'gamma': 2, 'colsample_bytree': 1}\"}, 'features': {\"['oneD_stddev50', 'rsi', 'close_diff', 'daily_volume_vol_diff_pct30', 'range_vol_diff5', 'SPY_diff', 'threeD_stddev50', 'close_diff3', 'min_volume_vol_diff_pct', 'month', 'return_vol_240M', 'range_vol', 'rsi5', 'roc', 'SPY_3D', 'roc5', 'roc_diff', 'price_25DDiff', 'daily_volume_vol_diff_pct', 'price_10DDiff', 'SPY_1D', 'hour_volume_vol_diff', 'hour_volume_vol_diff_pct', 'return_vol_10D', 'SPY_5D']\"}, 'target': '0.03+three_max', 'feature_importances': \"[{'oneD_stddev50': 0.05777433}, {'rsi': 0.039534476}, {'close_diff': 0.03355775}, {'daily_volume_vol_diff_pct30': 0.03345246}, {'range_vol_diff5': 0.03356156}, {'SPY_diff': 0.030771922}, {'threeD_stddev50': 0.07815244}, {'close_diff3': 0.03543122}, {'min_volume_vol_diff_pct': 0.026482534}, {'month': 0.04328464}, {'return_vol_240M': 0.05446954}, {'range_vol': 0.037150957}, {'rsi5': 0.03651505}, {'roc': 0.039094828}, {'SPY_3D': 0.040087752}, {'roc5': 0.036764402}, {'roc_diff': 0.038518034}, {'price_25DDiff': 0.04089313}, {'daily_volume_vol_diff_pct': 0.03147326}, {'price_10DDiff': 0.03586525}, {'SPY_1D': 0.039844703}, {'hour_volume_vol_diff': 0.032251365}, {'hour_volume_vol_diff_pct': 0.03040411}, {'return_vol_10D': 0.050541736}, {'SPY_5D': 0.044122525}]\"}\n",
      "{'deployment_date': datetime.datetime(2023, 4, 3, 0, 0), 'dataset_end': datetime.datetime(2023, 3, 24, 0, 0), 'dataset_start': datetime.datetime(2018, 1, 1, 0, 0)}\n",
      "0.03\n",
      "0.2770313228499979\n"
     ]
    },
    {
     "name": "stderr",
     "output_type": "stream",
     "text": [
      "/var/folders/tq/_9q_lv1s2bndbr3tzzn08x4r0000gn/T/ipykernel_13052/3239437027.py:2: SettingWithCopyWarning: \n",
      "A value is trying to be set on a copy of a slice from a DataFrame.\n",
      "Try using .loc[row_indexer,col_indexer] = value instead\n",
      "\n",
      "See the caveats in the documentation: https://pandas.pydata.org/pandas-docs/stable/user_guide/indexing.html#returning-a-view-versus-a-copy\n",
      "  dataset.loc[:, 'label'] = (dataset[target_label] > target_value).astype(int)\n"
     ]
    },
    {
     "name": "stdout",
     "output_type": "stream",
     "text": [
      "label\n",
      "0    18539\n",
      "1    14141\n",
      "Name: count, dtype: int64\n",
      "57 56 165 81\n",
      "{'model_name': 'MA:RM220_TSSIM1_TL15-EXP_custHypTP0.57', 'deployment_date': '2023-04-03', 'algorithm_type': 'xgboost', 'dataset': 'MA:RM220_TSSIM1_TL15-EXP_custHypTP0.57', 'TP': 57, 'TPpct': Decimal('0'), 'FP': 56, 'FPpct': Decimal('0'), 'TN': 165, 'TNpct': Decimal('0'), 'FN': 81, 'FNpct': Decimal('0'), 'precision_ratio': Decimal('1.0178571428571428'), 'evaluation_timeperiod': '2023-04-03_2023-04-07', 'live': False, 'hyperparameters': {\"{'subsample': 0.6, 'num_round': 1000, 'min_child_weight': 10, 'max_depth': 10, 'learning_rate': 0.1, 'gamma': 2, 'colsample_bytree': 1}\"}, 'features': {\"['oneD_stddev50', 'rsi', 'close_diff', 'daily_volume_vol_diff_pct30', 'range_vol_diff5', 'SPY_diff', 'threeD_stddev50', 'close_diff3', 'min_volume_vol_diff_pct', 'month', 'return_vol_240M', 'range_vol', 'rsi5', 'roc', 'SPY_3D', 'roc5', 'roc_diff', 'price_25DDiff', 'daily_volume_vol_diff_pct', 'price_10DDiff', 'SPY_1D', 'hour_volume_vol_diff', 'hour_volume_vol_diff_pct', 'return_vol_10D', 'SPY_5D']\"}, 'target': '0.03+three_max', 'feature_importances': \"[{'oneD_stddev50': 0.06791222}, {'rsi': 0.040648073}, {'close_diff': 0.034275714}, {'daily_volume_vol_diff_pct30': 0.029915381}, {'range_vol_diff5': 0.03468935}, {'SPY_diff': 0.028420597}, {'threeD_stddev50': 0.06516867}, {'close_diff3': 0.0368029}, {'min_volume_vol_diff_pct': 0.025484495}, {'month': 0.043049876}, {'return_vol_240M': 0.054482967}, {'range_vol': 0.03718718}, {'rsi5': 0.038430594}, {'roc': 0.03775401}, {'SPY_3D': 0.0405141}, {'roc5': 0.037689053}, {'roc_diff': 0.03965414}, {'price_25DDiff': 0.039651513}, {'daily_volume_vol_diff_pct': 0.033577144}, {'price_10DDiff': 0.035964884}, {'SPY_1D': 0.03948383}, {'hour_volume_vol_diff': 0.033643153}, {'hour_volume_vol_diff_pct': 0.030701373}, {'return_vol_10D': 0.050060198}, {'SPY_5D': 0.044838566}]\"}\n",
      "{'deployment_date': datetime.datetime(2023, 4, 10, 0, 0), 'dataset_end': datetime.datetime(2023, 3, 31, 0, 0), 'dataset_start': datetime.datetime(2018, 1, 1, 0, 0)}\n",
      "0.03\n",
      "0.6724148123126293\n"
     ]
    },
    {
     "name": "stderr",
     "output_type": "stream",
     "text": [
      "/var/folders/tq/_9q_lv1s2bndbr3tzzn08x4r0000gn/T/ipykernel_13052/3239437027.py:2: SettingWithCopyWarning: \n",
      "A value is trying to be set on a copy of a slice from a DataFrame.\n",
      "Try using .loc[row_indexer,col_indexer] = value instead\n",
      "\n",
      "See the caveats in the documentation: https://pandas.pydata.org/pandas-docs/stable/user_guide/indexing.html#returning-a-view-versus-a-copy\n",
      "  dataset.loc[:, 'label'] = (dataset[target_label] > target_value).astype(int)\n"
     ]
    },
    {
     "name": "stdout",
     "output_type": "stream",
     "text": [
      "label\n",
      "0    45642\n",
      "1    33982\n",
      "Name: count, dtype: int64\n",
      "26 11 242 171\n",
      "{'model_name': 'MA:RM220_TSSIM1_TL15-EXP_custHypTP0.57', 'deployment_date': '2023-04-10', 'algorithm_type': 'xgboost', 'dataset': 'MA:RM220_TSSIM1_TL15-EXP_custHypTP0.57', 'TP': 26, 'TPpct': Decimal('0'), 'FP': 11, 'FPpct': Decimal('0'), 'TN': 242, 'TNpct': Decimal('0'), 'FN': 171, 'FNpct': Decimal('0'), 'precision_ratio': Decimal('2.3636363636363638'), 'evaluation_timeperiod': '2023-04-10_2023-04-14', 'live': False, 'hyperparameters': {\"{'subsample': 0.6, 'num_round': 1000, 'min_child_weight': 10, 'max_depth': 10, 'learning_rate': 0.1, 'gamma': 2, 'colsample_bytree': 1}\"}, 'features': {\"['oneD_stddev50', 'rsi', 'close_diff', 'daily_volume_vol_diff_pct30', 'range_vol_diff5', 'SPY_diff', 'threeD_stddev50', 'close_diff3', 'min_volume_vol_diff_pct', 'month', 'return_vol_240M', 'range_vol', 'rsi5', 'roc', 'SPY_3D', 'roc5', 'roc_diff', 'price_25DDiff', 'daily_volume_vol_diff_pct', 'price_10DDiff', 'SPY_1D', 'hour_volume_vol_diff', 'hour_volume_vol_diff_pct', 'return_vol_10D', 'SPY_5D']\"}, 'target': '0.03+three_max', 'feature_importances': \"[{'oneD_stddev50': 0.07613788}, {'rsi': 0.037499472}, {'close_diff': 0.03420917}, {'daily_volume_vol_diff_pct30': 0.030578535}, {'range_vol_diff5': 0.03387359}, {'SPY_diff': 0.028238516}, {'threeD_stddev50': 0.03933279}, {'close_diff3': 0.033703674}, {'min_volume_vol_diff_pct': 0.024475846}, {'month': 0.043061614}, {'return_vol_240M': 0.077942275}, {'range_vol': 0.042515606}, {'rsi5': 0.034870215}, {'roc': 0.035573322}, {'SPY_3D': 0.035294365}, {'roc5': 0.035839185}, {'roc_diff': 0.036077473}, {'price_25DDiff': 0.037560876}, {'daily_volume_vol_diff_pct': 0.030850349}, {'price_10DDiff': 0.03837419}, {'SPY_1D': 0.034669977}, {'hour_volume_vol_diff': 0.029767768}, {'hour_volume_vol_diff_pct': 0.028120581}, {'return_vol_10D': 0.08385842}, {'SPY_5D': 0.03757432}]\"}\n",
      "{'deployment_date': datetime.datetime(2023, 4, 17, 0, 0), 'dataset_end': datetime.datetime(2023, 4, 7, 0, 0), 'dataset_start': datetime.datetime(2018, 1, 1, 0, 0)}\n",
      "0.03\n",
      "0.6719427488949695\n"
     ]
    },
    {
     "name": "stderr",
     "output_type": "stream",
     "text": [
      "/var/folders/tq/_9q_lv1s2bndbr3tzzn08x4r0000gn/T/ipykernel_13052/3239437027.py:2: SettingWithCopyWarning: \n",
      "A value is trying to be set on a copy of a slice from a DataFrame.\n",
      "Try using .loc[row_indexer,col_indexer] = value instead\n",
      "\n",
      "See the caveats in the documentation: https://pandas.pydata.org/pandas-docs/stable/user_guide/indexing.html#returning-a-view-versus-a-copy\n",
      "  dataset.loc[:, 'label'] = (dataset[target_label] > target_value).astype(int)\n"
     ]
    },
    {
     "name": "stdout",
     "output_type": "stream",
     "text": [
      "label\n",
      "0    45673\n",
      "1    34137\n",
      "Name: count, dtype: int64\n",
      "3 22 337 82\n",
      "{'model_name': 'MA:RM220_TSSIM1_TL15-EXP_custHypTP0.57', 'deployment_date': '2023-04-17', 'algorithm_type': 'xgboost', 'dataset': 'MA:RM220_TSSIM1_TL15-EXP_custHypTP0.57', 'TP': 3, 'TPpct': Decimal('0'), 'FP': 22, 'FPpct': Decimal('0'), 'TN': 337, 'TNpct': Decimal('0'), 'FN': 82, 'FNpct': Decimal('0'), 'precision_ratio': Decimal('0.13636363636363635'), 'evaluation_timeperiod': '2023-04-17_2023-04-21', 'live': False, 'hyperparameters': {\"{'subsample': 0.6, 'num_round': 1000, 'min_child_weight': 10, 'max_depth': 10, 'learning_rate': 0.1, 'gamma': 2, 'colsample_bytree': 1}\"}, 'features': {\"['oneD_stddev50', 'rsi', 'close_diff', 'daily_volume_vol_diff_pct30', 'range_vol_diff5', 'SPY_diff', 'threeD_stddev50', 'close_diff3', 'min_volume_vol_diff_pct', 'month', 'return_vol_240M', 'range_vol', 'rsi5', 'roc', 'SPY_3D', 'roc5', 'roc_diff', 'price_25DDiff', 'daily_volume_vol_diff_pct', 'price_10DDiff', 'SPY_1D', 'hour_volume_vol_diff', 'hour_volume_vol_diff_pct', 'return_vol_10D', 'SPY_5D']\"}, 'target': '0.03+three_max', 'feature_importances': \"[{'oneD_stddev50': 0.06634244}, {'rsi': 0.03637926}, {'close_diff': 0.033506084}, {'daily_volume_vol_diff_pct30': 0.029619576}, {'range_vol_diff5': 0.035258505}, {'SPY_diff': 0.027458498}, {'threeD_stddev50': 0.039397683}, {'close_diff3': 0.033476893}, {'min_volume_vol_diff_pct': 0.023711981}, {'month': 0.04316189}, {'return_vol_240M': 0.11160619}, {'range_vol': 0.041661233}, {'rsi5': 0.03452644}, {'roc': 0.034782153}, {'SPY_3D': 0.03453853}, {'roc5': 0.03515472}, {'roc_diff': 0.03589982}, {'price_25DDiff': 0.037278257}, {'daily_volume_vol_diff_pct': 0.030973738}, {'price_10DDiff': 0.035149436}, {'SPY_1D': 0.03437334}, {'hour_volume_vol_diff': 0.027813673}, {'hour_volume_vol_diff_pct': 0.028096559}, {'return_vol_10D': 0.074983425}, {'SPY_5D': 0.034849647}]\"}\n",
      "{'deployment_date': datetime.datetime(2023, 4, 24, 0, 0), 'dataset_end': datetime.datetime(2023, 4, 14, 0, 0), 'dataset_start': datetime.datetime(2018, 1, 1, 0, 0)}\n",
      "0.03\n",
      "0.8194002935625917\n"
     ]
    },
    {
     "name": "stderr",
     "output_type": "stream",
     "text": [
      "/var/folders/tq/_9q_lv1s2bndbr3tzzn08x4r0000gn/T/ipykernel_13052/3239437027.py:2: SettingWithCopyWarning: \n",
      "A value is trying to be set on a copy of a slice from a DataFrame.\n",
      "Try using .loc[row_indexer,col_indexer] = value instead\n",
      "\n",
      "See the caveats in the documentation: https://pandas.pydata.org/pandas-docs/stable/user_guide/indexing.html#returning-a-view-versus-a-copy\n",
      "  dataset.loc[:, 'label'] = (dataset[target_label] > target_value).astype(int)\n"
     ]
    },
    {
     "name": "stdout",
     "output_type": "stream",
     "text": [
      "label\n",
      "0    56244\n",
      "1    41449\n",
      "Name: count, dtype: int64\n",
      "40 22 201 187\n",
      "{'model_name': 'MA:RM220_TSSIM1_TL15-EXP_custHypTP0.57', 'deployment_date': '2023-04-24', 'algorithm_type': 'xgboost', 'dataset': 'MA:RM220_TSSIM1_TL15-EXP_custHypTP0.57', 'TP': 40, 'TPpct': Decimal('0'), 'FP': 22, 'FPpct': Decimal('0'), 'TN': 201, 'TNpct': Decimal('0'), 'FN': 187, 'FNpct': Decimal('0'), 'precision_ratio': Decimal('1.8181818181818181'), 'evaluation_timeperiod': '2023-04-24_2023-04-28', 'live': False, 'hyperparameters': {\"{'subsample': 0.6, 'num_round': 1000, 'min_child_weight': 10, 'max_depth': 10, 'learning_rate': 0.1, 'gamma': 2, 'colsample_bytree': 1}\"}, 'features': {\"['oneD_stddev50', 'rsi', 'close_diff', 'daily_volume_vol_diff_pct30', 'range_vol_diff5', 'SPY_diff', 'threeD_stddev50', 'close_diff3', 'min_volume_vol_diff_pct', 'month', 'return_vol_240M', 'range_vol', 'rsi5', 'roc', 'SPY_3D', 'roc5', 'roc_diff', 'price_25DDiff', 'daily_volume_vol_diff_pct', 'price_10DDiff', 'SPY_1D', 'hour_volume_vol_diff', 'hour_volume_vol_diff_pct', 'return_vol_10D', 'SPY_5D']\"}, 'target': '0.03+three_max', 'feature_importances': \"[{'oneD_stddev50': 0.08796635}, {'rsi': 0.037624005}, {'close_diff': 0.03492916}, {'daily_volume_vol_diff_pct30': 0.028882759}, {'range_vol_diff5': 0.036511865}, {'SPY_diff': 0.030060235}, {'threeD_stddev50': 0.03891496}, {'close_diff3': 0.03255702}, {'min_volume_vol_diff_pct': 0.023908729}, {'month': 0.04234036}, {'return_vol_240M': 0.06906837}, {'range_vol': 0.041735515}, {'rsi5': 0.03545065}, {'roc': 0.03679006}, {'SPY_3D': 0.036636036}, {'roc5': 0.03530103}, {'roc_diff': 0.03675848}, {'price_25DDiff': 0.03926485}, {'daily_volume_vol_diff_pct': 0.030762112}, {'price_10DDiff': 0.0354597}, {'SPY_1D': 0.036214404}, {'hour_volume_vol_diff': 0.029708523}, {'hour_volume_vol_diff_pct': 0.028707378}, {'return_vol_10D': 0.07913327}, {'SPY_5D': 0.03531421}]\"}\n",
      "{'deployment_date': datetime.datetime(2023, 5, 1, 0, 0), 'dataset_end': datetime.datetime(2023, 4, 21, 0, 0), 'dataset_start': datetime.datetime(2018, 1, 1, 0, 0)}\n",
      "0.03\n",
      "0.2790530546758141\n"
     ]
    },
    {
     "name": "stderr",
     "output_type": "stream",
     "text": [
      "/var/folders/tq/_9q_lv1s2bndbr3tzzn08x4r0000gn/T/ipykernel_13052/3239437027.py:2: SettingWithCopyWarning: \n",
      "A value is trying to be set on a copy of a slice from a DataFrame.\n",
      "Try using .loc[row_indexer,col_indexer] = value instead\n",
      "\n",
      "See the caveats in the documentation: https://pandas.pydata.org/pandas-docs/stable/user_guide/indexing.html#returning-a-view-versus-a-copy\n",
      "  dataset.loc[:, 'label'] = (dataset[target_label] > target_value).astype(int)\n"
     ]
    },
    {
     "name": "stdout",
     "output_type": "stream",
     "text": [
      "label\n",
      "0    19030\n",
      "1    14364\n",
      "Name: count, dtype: int64\n",
      "116 82 155 97\n",
      "{'model_name': 'MA:RM220_TSSIM1_TL15-EXP_custHypTP0.57', 'deployment_date': '2023-05-01', 'algorithm_type': 'xgboost', 'dataset': 'MA:RM220_TSSIM1_TL15-EXP_custHypTP0.57', 'TP': 116, 'TPpct': Decimal('0'), 'FP': 82, 'FPpct': Decimal('0'), 'TN': 155, 'TNpct': Decimal('0'), 'FN': 97, 'FNpct': Decimal('0'), 'precision_ratio': Decimal('1.4146341463414633'), 'evaluation_timeperiod': '2023-05-01_2023-05-05', 'live': False, 'hyperparameters': {\"{'subsample': 0.6, 'num_round': 1000, 'min_child_weight': 10, 'max_depth': 10, 'learning_rate': 0.1, 'gamma': 2, 'colsample_bytree': 1}\"}, 'features': {\"['oneD_stddev50', 'rsi', 'close_diff', 'daily_volume_vol_diff_pct30', 'range_vol_diff5', 'SPY_diff', 'threeD_stddev50', 'close_diff3', 'min_volume_vol_diff_pct', 'month', 'return_vol_240M', 'range_vol', 'rsi5', 'roc', 'SPY_3D', 'roc5', 'roc_diff', 'price_25DDiff', 'daily_volume_vol_diff_pct', 'price_10DDiff', 'SPY_1D', 'hour_volume_vol_diff', 'hour_volume_vol_diff_pct', 'return_vol_10D', 'SPY_5D']\"}, 'target': '0.03+three_max', 'feature_importances': \"[{'oneD_stddev50': 0.074282266}, {'rsi': 0.038835537}, {'close_diff': 0.0351633}, {'daily_volume_vol_diff_pct30': 0.031505223}, {'range_vol_diff5': 0.03486198}, {'SPY_diff': 0.029021438}, {'threeD_stddev50': 0.06927121}, {'close_diff3': 0.036756437}, {'min_volume_vol_diff_pct': 0.026472092}, {'month': 0.044169124}, {'return_vol_240M': 0.048087727}, {'range_vol': 0.03635541}, {'rsi5': 0.038159613}, {'roc': 0.037093673}, {'SPY_3D': 0.040078834}, {'roc5': 0.037280794}, {'roc_diff': 0.04039132}, {'price_25DDiff': 0.040338486}, {'daily_volume_vol_diff_pct': 0.0325497}, {'price_10DDiff': 0.035713036}, {'SPY_1D': 0.03863254}, {'hour_volume_vol_diff': 0.032298453}, {'hour_volume_vol_diff_pct': 0.029549217}, {'return_vol_10D': 0.04900215}, {'SPY_5D': 0.044130478}]\"}\n",
      "{'deployment_date': datetime.datetime(2023, 5, 8, 0, 0), 'dataset_end': datetime.datetime(2023, 4, 28, 0, 0), 'dataset_start': datetime.datetime(2018, 1, 1, 0, 0)}\n",
      "0.03\n",
      "0.28770635786178705\n"
     ]
    },
    {
     "name": "stderr",
     "output_type": "stream",
     "text": [
      "/var/folders/tq/_9q_lv1s2bndbr3tzzn08x4r0000gn/T/ipykernel_13052/3239437027.py:2: SettingWithCopyWarning: \n",
      "A value is trying to be set on a copy of a slice from a DataFrame.\n",
      "Try using .loc[row_indexer,col_indexer] = value instead\n",
      "\n",
      "See the caveats in the documentation: https://pandas.pydata.org/pandas-docs/stable/user_guide/indexing.html#returning-a-view-versus-a-copy\n",
      "  dataset.loc[:, 'label'] = (dataset[target_label] > target_value).astype(int)\n"
     ]
    },
    {
     "name": "stdout",
     "output_type": "stream",
     "text": [
      "label\n",
      "0    19592\n",
      "1    14967\n",
      "Name: count, dtype: int64\n",
      "48 54 214 128\n",
      "{'model_name': 'MA:RM220_TSSIM1_TL15-EXP_custHypTP0.57', 'deployment_date': '2023-05-08', 'algorithm_type': 'xgboost', 'dataset': 'MA:RM220_TSSIM1_TL15-EXP_custHypTP0.57', 'TP': 48, 'TPpct': Decimal('0'), 'FP': 54, 'FPpct': Decimal('0'), 'TN': 214, 'TNpct': Decimal('0'), 'FN': 128, 'FNpct': Decimal('0'), 'precision_ratio': Decimal('0.8888888888888888'), 'evaluation_timeperiod': '2023-05-08_2023-05-12', 'live': False, 'hyperparameters': {\"{'subsample': 0.6, 'num_round': 1000, 'min_child_weight': 10, 'max_depth': 10, 'learning_rate': 0.1, 'gamma': 2, 'colsample_bytree': 1}\"}, 'features': {\"['oneD_stddev50', 'rsi', 'close_diff', 'daily_volume_vol_diff_pct30', 'range_vol_diff5', 'SPY_diff', 'threeD_stddev50', 'close_diff3', 'min_volume_vol_diff_pct', 'month', 'return_vol_240M', 'range_vol', 'rsi5', 'roc', 'SPY_3D', 'roc5', 'roc_diff', 'price_25DDiff', 'daily_volume_vol_diff_pct', 'price_10DDiff', 'SPY_1D', 'hour_volume_vol_diff', 'hour_volume_vol_diff_pct', 'return_vol_10D', 'SPY_5D']\"}, 'target': '0.03+three_max', 'feature_importances': \"[{'oneD_stddev50': 0.05344158}, {'rsi': 0.04093244}, {'close_diff': 0.033699058}, {'daily_volume_vol_diff_pct30': 0.031235488}, {'range_vol_diff5': 0.034724478}, {'SPY_diff': 0.029485356}, {'threeD_stddev50': 0.079423286}, {'close_diff3': 0.03639985}, {'min_volume_vol_diff_pct': 0.02662785}, {'month': 0.042916093}, {'return_vol_240M': 0.05007508}, {'range_vol': 0.037483618}, {'rsi5': 0.040230665}, {'roc': 0.037959572}, {'SPY_3D': 0.040615845}, {'roc5': 0.039758373}, {'roc_diff': 0.03976165}, {'price_25DDiff': 0.03766425}, {'daily_volume_vol_diff_pct': 0.032727443}, {'price_10DDiff': 0.037383337}, {'SPY_1D': 0.038080893}, {'hour_volume_vol_diff': 0.033342075}, {'hour_volume_vol_diff_pct': 0.031370893}, {'return_vol_10D': 0.04994443}, {'SPY_5D': 0.04471642}]\"}\n",
      "{'deployment_date': datetime.datetime(2023, 5, 15, 0, 0), 'dataset_end': datetime.datetime(2023, 5, 5, 0, 0), 'dataset_start': datetime.datetime(2018, 1, 1, 0, 0)}\n",
      "0.033\n",
      "0.5031309872355249\n"
     ]
    },
    {
     "name": "stderr",
     "output_type": "stream",
     "text": [
      "/var/folders/tq/_9q_lv1s2bndbr3tzzn08x4r0000gn/T/ipykernel_13052/3239437027.py:2: SettingWithCopyWarning: \n",
      "A value is trying to be set on a copy of a slice from a DataFrame.\n",
      "Try using .loc[row_indexer,col_indexer] = value instead\n",
      "\n",
      "See the caveats in the documentation: https://pandas.pydata.org/pandas-docs/stable/user_guide/indexing.html#returning-a-view-versus-a-copy\n",
      "  dataset.loc[:, 'label'] = (dataset[target_label] > target_value).astype(int)\n"
     ]
    },
    {
     "name": "stdout",
     "output_type": "stream",
     "text": [
      "label\n",
      "0    34721\n",
      "1    25941\n",
      "Name: count, dtype: int64\n",
      "76 8 180 180\n",
      "{'model_name': 'MA:RM220_TSSIM1_TL15-EXP_custHypTP0.57', 'deployment_date': '2023-05-15', 'algorithm_type': 'xgboost', 'dataset': 'MA:RM220_TSSIM1_TL15-EXP_custHypTP0.57', 'TP': 76, 'TPpct': Decimal('0'), 'FP': 8, 'FPpct': Decimal('0'), 'TN': 180, 'TNpct': Decimal('0'), 'FN': 180, 'FNpct': Decimal('0'), 'precision_ratio': Decimal('9.5'), 'evaluation_timeperiod': '2023-05-15_2023-05-19', 'live': False, 'hyperparameters': {\"{'subsample': 0.6, 'num_round': 1000, 'min_child_weight': 10, 'max_depth': 10, 'learning_rate': 0.1, 'gamma': 2, 'colsample_bytree': 1}\"}, 'features': {\"['oneD_stddev50', 'rsi', 'close_diff', 'daily_volume_vol_diff_pct30', 'range_vol_diff5', 'SPY_diff', 'threeD_stddev50', 'close_diff3', 'min_volume_vol_diff_pct', 'month', 'return_vol_240M', 'range_vol', 'rsi5', 'roc', 'SPY_3D', 'roc5', 'roc_diff', 'price_25DDiff', 'daily_volume_vol_diff_pct', 'price_10DDiff', 'SPY_1D', 'hour_volume_vol_diff', 'hour_volume_vol_diff_pct', 'return_vol_10D', 'SPY_5D']\"}, 'target': '0.033+three_max', 'feature_importances': \"[{'oneD_stddev50': 0.12242873}, {'rsi': 0.03680396}, {'close_diff': 0.03233197}, {'daily_volume_vol_diff_pct30': 0.030516542}, {'range_vol_diff5': 0.03415637}, {'SPY_diff': 0.030484509}, {'threeD_stddev50': 0.037132103}, {'close_diff3': 0.03420476}, {'min_volume_vol_diff_pct': 0.024098676}, {'month': 0.043819994}, {'return_vol_240M': 0.054149255}, {'range_vol': 0.044943113}, {'rsi5': 0.036171876}, {'roc': 0.038233608}, {'SPY_3D': 0.038771465}, {'roc5': 0.0361285}, {'roc_diff': 0.037169706}, {'price_25DDiff': 0.040522892}, {'daily_volume_vol_diff_pct': 0.030556386}, {'price_10DDiff': 0.03818475}, {'SPY_1D': 0.036601897}, {'hour_volume_vol_diff': 0.029817147}, {'hour_volume_vol_diff_pct': 0.028730327}, {'return_vol_10D': 0.047562953}, {'SPY_5D': 0.03647851}]\"}\n",
      "{'deployment_date': datetime.datetime(2023, 5, 22, 0, 0), 'dataset_end': datetime.datetime(2023, 5, 12, 0, 0), 'dataset_start': datetime.datetime(2018, 1, 1, 0, 0)}\n",
      "0.033\n",
      "0.5027724294084107\n"
     ]
    },
    {
     "name": "stderr",
     "output_type": "stream",
     "text": [
      "/var/folders/tq/_9q_lv1s2bndbr3tzzn08x4r0000gn/T/ipykernel_13052/3239437027.py:2: SettingWithCopyWarning: \n",
      "A value is trying to be set on a copy of a slice from a DataFrame.\n",
      "Try using .loc[row_indexer,col_indexer] = value instead\n",
      "\n",
      "See the caveats in the documentation: https://pandas.pydata.org/pandas-docs/stable/user_guide/indexing.html#returning-a-view-versus-a-copy\n",
      "  dataset.loc[:, 'label'] = (dataset[target_label] > target_value).astype(int)\n"
     ]
    },
    {
     "name": "stdout",
     "output_type": "stream",
     "text": [
      "label\n",
      "0    34827\n",
      "1    26015\n",
      "Name: count, dtype: int64\n",
      "46 26 182 196\n",
      "{'model_name': 'MA:RM220_TSSIM1_TL15-EXP_custHypTP0.57', 'deployment_date': '2023-05-22', 'algorithm_type': 'xgboost', 'dataset': 'MA:RM220_TSSIM1_TL15-EXP_custHypTP0.57', 'TP': 46, 'TPpct': Decimal('0'), 'FP': 26, 'FPpct': Decimal('0'), 'TN': 182, 'TNpct': Decimal('0'), 'FN': 196, 'FNpct': Decimal('0'), 'precision_ratio': Decimal('1.7692307692307692'), 'evaluation_timeperiod': '2023-05-22_2023-05-26', 'live': False, 'hyperparameters': {\"{'subsample': 0.6, 'num_round': 1000, 'min_child_weight': 10, 'max_depth': 10, 'learning_rate': 0.1, 'gamma': 2, 'colsample_bytree': 1}\"}, 'features': {\"['oneD_stddev50', 'rsi', 'close_diff', 'daily_volume_vol_diff_pct30', 'range_vol_diff5', 'SPY_diff', 'threeD_stddev50', 'close_diff3', 'min_volume_vol_diff_pct', 'month', 'return_vol_240M', 'range_vol', 'rsi5', 'roc', 'SPY_3D', 'roc5', 'roc_diff', 'price_25DDiff', 'daily_volume_vol_diff_pct', 'price_10DDiff', 'SPY_1D', 'hour_volume_vol_diff', 'hour_volume_vol_diff_pct', 'return_vol_10D', 'SPY_5D']\"}, 'target': '0.033+three_max', 'feature_importances': \"[{'oneD_stddev50': 0.115442306}, {'rsi': 0.03742364}, {'close_diff': 0.032984976}, {'daily_volume_vol_diff_pct30': 0.031382512}, {'range_vol_diff5': 0.033241056}, {'SPY_diff': 0.030212468}, {'threeD_stddev50': 0.037035502}, {'close_diff3': 0.034586567}, {'min_volume_vol_diff_pct': 0.024705034}, {'month': 0.0463641}, {'return_vol_240M': 0.05499236}, {'range_vol': 0.041393254}, {'rsi5': 0.03606105}, {'roc': 0.039173372}, {'SPY_3D': 0.037921477}, {'roc5': 0.036417436}, {'roc_diff': 0.03856713}, {'price_25DDiff': 0.04022249}, {'daily_volume_vol_diff_pct': 0.031044737}, {'price_10DDiff': 0.03790828}, {'SPY_1D': 0.03728633}, {'hour_volume_vol_diff': 0.030152045}, {'hour_volume_vol_diff_pct': 0.029870482}, {'return_vol_10D': 0.04854276}, {'SPY_5D': 0.037068646}]\"}\n",
      "{'deployment_date': datetime.datetime(2023, 5, 29, 0, 0), 'dataset_end': datetime.datetime(2023, 5, 19, 0, 0), 'dataset_start': datetime.datetime(2018, 1, 1, 0, 0)}\n",
      "0.027\n",
      "0.4421317832648592\n"
     ]
    },
    {
     "name": "stderr",
     "output_type": "stream",
     "text": [
      "/var/folders/tq/_9q_lv1s2bndbr3tzzn08x4r0000gn/T/ipykernel_13052/3239437027.py:2: SettingWithCopyWarning: \n",
      "A value is trying to be set on a copy of a slice from a DataFrame.\n",
      "Try using .loc[row_indexer,col_indexer] = value instead\n",
      "\n",
      "See the caveats in the documentation: https://pandas.pydata.org/pandas-docs/stable/user_guide/indexing.html#returning-a-view-versus-a-copy\n",
      "  dataset.loc[:, 'label'] = (dataset[target_label] > target_value).astype(int)\n"
     ]
    },
    {
     "name": "stdout",
     "output_type": "stream",
     "text": [
      "label\n",
      "0    30738\n",
      "1    22962\n",
      "Name: count, dtype: int64\n",
      "77 48 98 137\n",
      "{'model_name': 'MA:RM220_TSSIM1_TL15-EXP_custHypTP0.57', 'deployment_date': '2023-05-29', 'algorithm_type': 'xgboost', 'dataset': 'MA:RM220_TSSIM1_TL15-EXP_custHypTP0.57', 'TP': 77, 'TPpct': Decimal('0'), 'FP': 48, 'FPpct': Decimal('0'), 'TN': 98, 'TNpct': Decimal('0'), 'FN': 137, 'FNpct': Decimal('0'), 'precision_ratio': Decimal('1.6041666666666667'), 'evaluation_timeperiod': '2023-05-29_2023-06-02', 'live': False, 'hyperparameters': {\"{'subsample': 0.6, 'num_round': 1000, 'min_child_weight': 10, 'max_depth': 10, 'learning_rate': 0.1, 'gamma': 2, 'colsample_bytree': 1}\"}, 'features': {\"['oneD_stddev50', 'rsi', 'close_diff', 'daily_volume_vol_diff_pct30', 'range_vol_diff5', 'SPY_diff', 'threeD_stddev50', 'close_diff3', 'min_volume_vol_diff_pct', 'month', 'return_vol_240M', 'range_vol', 'rsi5', 'roc', 'SPY_3D', 'roc5', 'roc_diff', 'price_25DDiff', 'daily_volume_vol_diff_pct', 'price_10DDiff', 'SPY_1D', 'hour_volume_vol_diff', 'hour_volume_vol_diff_pct', 'return_vol_10D', 'SPY_5D']\"}, 'target': '0.027+three_max', 'feature_importances': \"[{'oneD_stddev50': 0.084172636}, {'rsi': 0.038194228}, {'close_diff': 0.034792192}, {'daily_volume_vol_diff_pct30': 0.031788673}, {'range_vol_diff5': 0.03630724}, {'SPY_diff': 0.02970234}, {'threeD_stddev50': 0.043867007}, {'close_diff3': 0.035150178}, {'min_volume_vol_diff_pct': 0.026010226}, {'month': 0.04424383}, {'return_vol_240M': 0.051325046}, {'range_vol': 0.040232092}, {'rsi5': 0.036147848}, {'roc': 0.03914793}, {'SPY_3D': 0.034827627}, {'roc5': 0.03427191}, {'roc_diff': 0.037209038}, {'price_25DDiff': 0.040894505}, {'daily_volume_vol_diff_pct': 0.03273396}, {'price_10DDiff': 0.036987536}, {'SPY_1D': 0.036042154}, {'hour_volume_vol_diff': 0.030539}, {'hour_volume_vol_diff_pct': 0.030426143}, {'return_vol_10D': 0.080669455}, {'SPY_5D': 0.034317195}]\"}\n",
      "{'deployment_date': datetime.datetime(2023, 6, 5, 0, 0), 'dataset_end': datetime.datetime(2023, 5, 26, 0, 0), 'dataset_start': datetime.datetime(2018, 1, 1, 0, 0)}\n",
      "0.027\n",
      "0.44345279598382376\n"
     ]
    },
    {
     "name": "stderr",
     "output_type": "stream",
     "text": [
      "/var/folders/tq/_9q_lv1s2bndbr3tzzn08x4r0000gn/T/ipykernel_13052/3239437027.py:2: SettingWithCopyWarning: \n",
      "A value is trying to be set on a copy of a slice from a DataFrame.\n",
      "Try using .loc[row_indexer,col_indexer] = value instead\n",
      "\n",
      "See the caveats in the documentation: https://pandas.pydata.org/pandas-docs/stable/user_guide/indexing.html#returning-a-view-versus-a-copy\n",
      "  dataset.loc[:, 'label'] = (dataset[target_label] > target_value).astype(int)\n"
     ]
    },
    {
     "name": "stdout",
     "output_type": "stream",
     "text": [
      "label\n",
      "0    30912\n",
      "1    23148\n",
      "Name: count, dtype: int64\n",
      "121 28 148 151\n",
      "{'model_name': 'MA:RM220_TSSIM1_TL15-EXP_custHypTP0.57', 'deployment_date': '2023-06-05', 'algorithm_type': 'xgboost', 'dataset': 'MA:RM220_TSSIM1_TL15-EXP_custHypTP0.57', 'TP': 121, 'TPpct': Decimal('0'), 'FP': 28, 'FPpct': Decimal('0'), 'TN': 148, 'TNpct': Decimal('0'), 'FN': 151, 'FNpct': Decimal('0'), 'precision_ratio': Decimal('4.321428571428571'), 'evaluation_timeperiod': '2023-06-05_2023-06-09', 'live': False, 'hyperparameters': {\"{'subsample': 0.6, 'num_round': 1000, 'min_child_weight': 10, 'max_depth': 10, 'learning_rate': 0.1, 'gamma': 2, 'colsample_bytree': 1}\"}, 'features': {\"['oneD_stddev50', 'rsi', 'close_diff', 'daily_volume_vol_diff_pct30', 'range_vol_diff5', 'SPY_diff', 'threeD_stddev50', 'close_diff3', 'min_volume_vol_diff_pct', 'month', 'return_vol_240M', 'range_vol', 'rsi5', 'roc', 'SPY_3D', 'roc5', 'roc_diff', 'price_25DDiff', 'daily_volume_vol_diff_pct', 'price_10DDiff', 'SPY_1D', 'hour_volume_vol_diff', 'hour_volume_vol_diff_pct', 'return_vol_10D', 'SPY_5D']\"}, 'target': '0.027+three_max', 'feature_importances': \"[{'oneD_stddev50': 0.081534594}, {'rsi': 0.038571317}, {'close_diff': 0.03371163}, {'daily_volume_vol_diff_pct30': 0.030483773}, {'range_vol_diff5': 0.03558428}, {'SPY_diff': 0.02926038}, {'threeD_stddev50': 0.04408428}, {'close_diff3': 0.033574115}, {'min_volume_vol_diff_pct': 0.02594226}, {'month': 0.045750234}, {'return_vol_240M': 0.04899579}, {'range_vol': 0.039774746}, {'rsi5': 0.036704358}, {'roc': 0.038416576}, {'SPY_3D': 0.03545769}, {'roc5': 0.034752402}, {'roc_diff': 0.037520073}, {'price_25DDiff': 0.040513143}, {'daily_volume_vol_diff_pct': 0.033785947}, {'price_10DDiff': 0.038213644}, {'SPY_1D': 0.03523076}, {'hour_volume_vol_diff': 0.030566607}, {'hour_volume_vol_diff_pct': 0.029662749}, {'return_vol_10D': 0.08600359}, {'SPY_5D': 0.03590504}]\"}\n",
      "{'deployment_date': datetime.datetime(2023, 6, 12, 0, 0), 'dataset_end': datetime.datetime(2023, 6, 2, 0, 0), 'dataset_start': datetime.datetime(2018, 1, 1, 0, 0)}\n",
      "0.027\n",
      "0.4508984435702193\n"
     ]
    },
    {
     "name": "stderr",
     "output_type": "stream",
     "text": [
      "/var/folders/tq/_9q_lv1s2bndbr3tzzn08x4r0000gn/T/ipykernel_13052/3239437027.py:2: SettingWithCopyWarning: \n",
      "A value is trying to be set on a copy of a slice from a DataFrame.\n",
      "Try using .loc[row_indexer,col_indexer] = value instead\n",
      "\n",
      "See the caveats in the documentation: https://pandas.pydata.org/pandas-docs/stable/user_guide/indexing.html#returning-a-view-versus-a-copy\n",
      "  dataset.loc[:, 'label'] = (dataset[target_label] > target_value).astype(int)\n"
     ]
    },
    {
     "name": "stdout",
     "output_type": "stream",
     "text": [
      "label\n",
      "0    31395\n",
      "1    23735\n",
      "Name: count, dtype: int64\n",
      "51 87 205 107\n",
      "{'model_name': 'MA:RM220_TSSIM1_TL15-EXP_custHypTP0.57', 'deployment_date': '2023-06-12', 'algorithm_type': 'xgboost', 'dataset': 'MA:RM220_TSSIM1_TL15-EXP_custHypTP0.57', 'TP': 51, 'TPpct': Decimal('0'), 'FP': 87, 'FPpct': Decimal('0'), 'TN': 205, 'TNpct': Decimal('0'), 'FN': 107, 'FNpct': Decimal('0'), 'precision_ratio': Decimal('0.5862068965517241'), 'evaluation_timeperiod': '2023-06-12_2023-06-16', 'live': False, 'hyperparameters': {\"{'subsample': 0.6, 'num_round': 1000, 'min_child_weight': 10, 'max_depth': 10, 'learning_rate': 0.1, 'gamma': 2, 'colsample_bytree': 1}\"}, 'features': {\"['oneD_stddev50', 'rsi', 'close_diff', 'daily_volume_vol_diff_pct30', 'range_vol_diff5', 'SPY_diff', 'threeD_stddev50', 'close_diff3', 'min_volume_vol_diff_pct', 'month', 'return_vol_240M', 'range_vol', 'rsi5', 'roc', 'SPY_3D', 'roc5', 'roc_diff', 'price_25DDiff', 'daily_volume_vol_diff_pct', 'price_10DDiff', 'SPY_1D', 'hour_volume_vol_diff', 'hour_volume_vol_diff_pct', 'return_vol_10D', 'SPY_5D']\"}, 'target': '0.027+three_max', 'feature_importances': \"[{'oneD_stddev50': 0.07763112}, {'rsi': 0.038557723}, {'close_diff': 0.034524687}, {'daily_volume_vol_diff_pct30': 0.03152073}, {'range_vol_diff5': 0.036183037}, {'SPY_diff': 0.029684545}, {'threeD_stddev50': 0.04433193}, {'close_diff3': 0.035048395}, {'min_volume_vol_diff_pct': 0.025878945}, {'month': 0.044523135}, {'return_vol_240M': 0.058264654}, {'range_vol': 0.03874241}, {'rsi5': 0.038378317}, {'roc': 0.0374602}, {'SPY_3D': 0.03615093}, {'roc5': 0.034704782}, {'roc_diff': 0.038280044}, {'price_25DDiff': 0.04056446}, {'daily_volume_vol_diff_pct': 0.033186354}, {'price_10DDiff': 0.036327392}, {'SPY_1D': 0.035444696}, {'hour_volume_vol_diff': 0.029206373}, {'hour_volume_vol_diff_pct': 0.02829791}, {'return_vol_10D': 0.082180634}, {'SPY_5D': 0.03492659}]\"}\n",
      "{'deployment_date': datetime.datetime(2023, 6, 19, 0, 0), 'dataset_end': datetime.datetime(2023, 6, 9, 0, 0), 'dataset_start': datetime.datetime(2018, 1, 1, 0, 0)}\n",
      "0.027\n",
      "0.4471218097069657\n"
     ]
    },
    {
     "name": "stderr",
     "output_type": "stream",
     "text": [
      "/var/folders/tq/_9q_lv1s2bndbr3tzzn08x4r0000gn/T/ipykernel_13052/3239437027.py:2: SettingWithCopyWarning: \n",
      "A value is trying to be set on a copy of a slice from a DataFrame.\n",
      "Try using .loc[row_indexer,col_indexer] = value instead\n",
      "\n",
      "See the caveats in the documentation: https://pandas.pydata.org/pandas-docs/stable/user_guide/indexing.html#returning-a-view-versus-a-copy\n",
      "  dataset.loc[:, 'label'] = (dataset[target_label] > target_value).astype(int)\n"
     ]
    },
    {
     "name": "stdout",
     "output_type": "stream",
     "text": [
      "label\n",
      "0    31220\n",
      "1    23649\n",
      "Name: count, dtype: int64\n",
      "62 78 183 37\n",
      "{'model_name': 'MA:RM220_TSSIM1_TL15-EXP_custHypTP0.57', 'deployment_date': '2023-06-19', 'algorithm_type': 'xgboost', 'dataset': 'MA:RM220_TSSIM1_TL15-EXP_custHypTP0.57', 'TP': 62, 'TPpct': Decimal('0'), 'FP': 78, 'FPpct': Decimal('0'), 'TN': 183, 'TNpct': Decimal('0'), 'FN': 37, 'FNpct': Decimal('0'), 'precision_ratio': Decimal('0.7948717948717948'), 'evaluation_timeperiod': '2023-06-19_2023-06-23', 'live': False, 'hyperparameters': {\"{'subsample': 0.6, 'num_round': 1000, 'min_child_weight': 10, 'max_depth': 10, 'learning_rate': 0.1, 'gamma': 2, 'colsample_bytree': 1}\"}, 'features': {\"['oneD_stddev50', 'rsi', 'close_diff', 'daily_volume_vol_diff_pct30', 'range_vol_diff5', 'SPY_diff', 'threeD_stddev50', 'close_diff3', 'min_volume_vol_diff_pct', 'month', 'return_vol_240M', 'range_vol', 'rsi5', 'roc', 'SPY_3D', 'roc5', 'roc_diff', 'price_25DDiff', 'daily_volume_vol_diff_pct', 'price_10DDiff', 'SPY_1D', 'hour_volume_vol_diff', 'hour_volume_vol_diff_pct', 'return_vol_10D', 'SPY_5D']\"}, 'target': '0.027+three_max', 'feature_importances': \"[{'oneD_stddev50': 0.07343107}, {'rsi': 0.036700226}, {'close_diff': 0.034614827}, {'daily_volume_vol_diff_pct30': 0.031391025}, {'range_vol_diff5': 0.03365449}, {'SPY_diff': 0.029876687}, {'threeD_stddev50': 0.046106048}, {'close_diff3': 0.035199024}, {'min_volume_vol_diff_pct': 0.025051262}, {'month': 0.044861678}, {'return_vol_240M': 0.051286045}, {'range_vol': 0.041720517}, {'rsi5': 0.036249254}, {'roc': 0.038988926}, {'SPY_3D': 0.035075653}, {'roc5': 0.03464988}, {'roc_diff': 0.03760094}, {'price_25DDiff': 0.04079109}, {'daily_volume_vol_diff_pct': 0.03384005}, {'price_10DDiff': 0.037173156}, {'SPY_1D': 0.036905877}, {'hour_volume_vol_diff': 0.030564457}, {'hour_volume_vol_diff_pct': 0.029525721}, {'return_vol_10D': 0.088695265}, {'SPY_5D': 0.036046814}]\"}\n",
      "{'deployment_date': datetime.datetime(2023, 6, 26, 0, 0), 'dataset_end': datetime.datetime(2023, 6, 16, 0, 0), 'dataset_start': datetime.datetime(2018, 1, 1, 0, 0)}\n",
      "0.03\n",
      "0.5666742445155318\n"
     ]
    },
    {
     "name": "stderr",
     "output_type": "stream",
     "text": [
      "/var/folders/tq/_9q_lv1s2bndbr3tzzn08x4r0000gn/T/ipykernel_13052/3239437027.py:2: SettingWithCopyWarning: \n",
      "A value is trying to be set on a copy of a slice from a DataFrame.\n",
      "Try using .loc[row_indexer,col_indexer] = value instead\n",
      "\n",
      "See the caveats in the documentation: https://pandas.pydata.org/pandas-docs/stable/user_guide/indexing.html#returning-a-view-versus-a-copy\n",
      "  dataset.loc[:, 'label'] = (dataset[target_label] > target_value).astype(int)\n"
     ]
    },
    {
     "name": "stdout",
     "output_type": "stream",
     "text": [
      "label\n",
      "0    39627\n",
      "1    30168\n",
      "Name: count, dtype: int64\n",
      "86 42 201 121\n",
      "{'model_name': 'MA:RM220_TSSIM1_TL15-EXP_custHypTP0.57', 'deployment_date': '2023-06-26', 'algorithm_type': 'xgboost', 'dataset': 'MA:RM220_TSSIM1_TL15-EXP_custHypTP0.57', 'TP': 86, 'TPpct': Decimal('0'), 'FP': 42, 'FPpct': Decimal('0'), 'TN': 201, 'TNpct': Decimal('0'), 'FN': 121, 'FNpct': Decimal('0'), 'precision_ratio': Decimal('2.0476190476190474'), 'evaluation_timeperiod': '2023-06-26_2023-06-30', 'live': False, 'hyperparameters': {\"{'subsample': 0.6, 'num_round': 1000, 'min_child_weight': 10, 'max_depth': 10, 'learning_rate': 0.1, 'gamma': 2, 'colsample_bytree': 1}\"}, 'features': {\"['oneD_stddev50', 'rsi', 'close_diff', 'daily_volume_vol_diff_pct30', 'range_vol_diff5', 'SPY_diff', 'threeD_stddev50', 'close_diff3', 'min_volume_vol_diff_pct', 'month', 'return_vol_240M', 'range_vol', 'rsi5', 'roc', 'SPY_3D', 'roc5', 'roc_diff', 'price_25DDiff', 'daily_volume_vol_diff_pct', 'price_10DDiff', 'SPY_1D', 'hour_volume_vol_diff', 'hour_volume_vol_diff_pct', 'return_vol_10D', 'SPY_5D']\"}, 'target': '0.03+three_max', 'feature_importances': \"[{'oneD_stddev50': 0.062113103}, {'rsi': 0.035362065}, {'close_diff': 0.03228061}, {'daily_volume_vol_diff_pct30': 0.029212624}, {'range_vol_diff5': 0.03304234}, {'SPY_diff': 0.029272577}, {'threeD_stddev50': 0.038283616}, {'close_diff3': 0.03384057}, {'min_volume_vol_diff_pct': 0.02432619}, {'month': 0.041357458}, {'return_vol_240M': 0.12965922}, {'range_vol': 0.039157227}, {'rsi5': 0.033407193}, {'roc': 0.034649912}, {'SPY_3D': 0.033249713}, {'roc5': 0.032893408}, {'roc_diff': 0.035602923}, {'price_25DDiff': 0.038655996}, {'daily_volume_vol_diff_pct': 0.032007582}, {'price_10DDiff': 0.03465536}, {'SPY_1D': 0.035641238}, {'hour_volume_vol_diff': 0.030229501}, {'hour_volume_vol_diff_pct': 0.028869705}, {'return_vol_10D': 0.0661063}, {'SPY_5D': 0.036123514}]\"}\n",
      "{'deployment_date': datetime.datetime(2023, 7, 3, 0, 0), 'dataset_end': datetime.datetime(2023, 6, 23, 0, 0), 'dataset_start': datetime.datetime(2018, 1, 1, 0, 0)}\n",
      "0.03\n",
      "0.5679371144536373\n"
     ]
    },
    {
     "name": "stderr",
     "output_type": "stream",
     "text": [
      "/var/folders/tq/_9q_lv1s2bndbr3tzzn08x4r0000gn/T/ipykernel_13052/3239437027.py:2: SettingWithCopyWarning: \n",
      "A value is trying to be set on a copy of a slice from a DataFrame.\n",
      "Try using .loc[row_indexer,col_indexer] = value instead\n",
      "\n",
      "See the caveats in the documentation: https://pandas.pydata.org/pandas-docs/stable/user_guide/indexing.html#returning-a-view-versus-a-copy\n",
      "  dataset.loc[:, 'label'] = (dataset[target_label] > target_value).astype(int)\n"
     ]
    },
    {
     "name": "stdout",
     "output_type": "stream",
     "text": [
      "label\n",
      "0    39899\n",
      "1    30256\n",
      "Name: count, dtype: int64\n",
      "51 28 234 47\n",
      "{'model_name': 'MA:RM220_TSSIM1_TL15-EXP_custHypTP0.57', 'deployment_date': '2023-07-03', 'algorithm_type': 'xgboost', 'dataset': 'MA:RM220_TSSIM1_TL15-EXP_custHypTP0.57', 'TP': 51, 'TPpct': Decimal('0'), 'FP': 28, 'FPpct': Decimal('0'), 'TN': 234, 'TNpct': Decimal('0'), 'FN': 47, 'FNpct': Decimal('0'), 'precision_ratio': Decimal('1.8214285714285714'), 'evaluation_timeperiod': '2023-07-03_2023-07-07', 'live': False, 'hyperparameters': {\"{'subsample': 0.6, 'num_round': 1000, 'min_child_weight': 10, 'max_depth': 10, 'learning_rate': 0.1, 'gamma': 2, 'colsample_bytree': 1}\"}, 'features': {\"['oneD_stddev50', 'rsi', 'close_diff', 'daily_volume_vol_diff_pct30', 'range_vol_diff5', 'SPY_diff', 'threeD_stddev50', 'close_diff3', 'min_volume_vol_diff_pct', 'month', 'return_vol_240M', 'range_vol', 'rsi5', 'roc', 'SPY_3D', 'roc5', 'roc_diff', 'price_25DDiff', 'daily_volume_vol_diff_pct', 'price_10DDiff', 'SPY_1D', 'hour_volume_vol_diff', 'hour_volume_vol_diff_pct', 'return_vol_10D', 'SPY_5D']\"}, 'target': '0.03+three_max', 'feature_importances': \"[{'oneD_stddev50': 0.06507528}, {'rsi': 0.03682676}, {'close_diff': 0.033355318}, {'daily_volume_vol_diff_pct30': 0.029704733}, {'range_vol_diff5': 0.034767807}, {'SPY_diff': 0.02816043}, {'threeD_stddev50': 0.03965758}, {'close_diff3': 0.034072883}, {'min_volume_vol_diff_pct': 0.025226334}, {'month': 0.04322558}, {'return_vol_240M': 0.10143285}, {'range_vol': 0.037592307}, {'rsi5': 0.034920655}, {'roc': 0.035749447}, {'SPY_3D': 0.03430942}, {'roc5': 0.03472836}, {'roc_diff': 0.036981}, {'price_25DDiff': 0.03979388}, {'daily_volume_vol_diff_pct': 0.03152557}, {'price_10DDiff': 0.034990776}, {'SPY_1D': 0.035804514}, {'hour_volume_vol_diff': 0.029470216}, {'hour_volume_vol_diff_pct': 0.029827863}, {'return_vol_10D': 0.075553395}, {'SPY_5D': 0.03724702}]\"}\n",
      "{'deployment_date': datetime.datetime(2023, 7, 10, 0, 0), 'dataset_end': datetime.datetime(2023, 6, 30, 0, 0), 'dataset_start': datetime.datetime(2018, 1, 1, 0, 0)}\n",
      "0.03\n",
      "0.37828289346325095\n"
     ]
    },
    {
     "name": "stderr",
     "output_type": "stream",
     "text": [
      "/var/folders/tq/_9q_lv1s2bndbr3tzzn08x4r0000gn/T/ipykernel_13052/3239437027.py:2: SettingWithCopyWarning: \n",
      "A value is trying to be set on a copy of a slice from a DataFrame.\n",
      "Try using .loc[row_indexer,col_indexer] = value instead\n",
      "\n",
      "See the caveats in the documentation: https://pandas.pydata.org/pandas-docs/stable/user_guide/indexing.html#returning-a-view-versus-a-copy\n",
      "  dataset.loc[:, 'label'] = (dataset[target_label] > target_value).astype(int)\n"
     ]
    },
    {
     "name": "stdout",
     "output_type": "stream",
     "text": [
      "label\n",
      "0    27012\n",
      "1    19886\n",
      "Name: count, dtype: int64\n",
      "54 23 170 203\n",
      "{'model_name': 'MA:RM220_TSSIM1_TL15-EXP_custHypTP0.57', 'deployment_date': '2023-07-10', 'algorithm_type': 'xgboost', 'dataset': 'MA:RM220_TSSIM1_TL15-EXP_custHypTP0.57', 'TP': 54, 'TPpct': Decimal('0'), 'FP': 23, 'FPpct': Decimal('0'), 'TN': 170, 'TNpct': Decimal('0'), 'FN': 203, 'FNpct': Decimal('0'), 'precision_ratio': Decimal('2.347826086956522'), 'evaluation_timeperiod': '2023-07-10_2023-07-14', 'live': False, 'hyperparameters': {\"{'subsample': 0.6, 'num_round': 1000, 'min_child_weight': 10, 'max_depth': 10, 'learning_rate': 0.1, 'gamma': 2, 'colsample_bytree': 1}\"}, 'features': {\"['oneD_stddev50', 'rsi', 'close_diff', 'daily_volume_vol_diff_pct30', 'range_vol_diff5', 'SPY_diff', 'threeD_stddev50', 'close_diff3', 'min_volume_vol_diff_pct', 'month', 'return_vol_240M', 'range_vol', 'rsi5', 'roc', 'SPY_3D', 'roc5', 'roc_diff', 'price_25DDiff', 'daily_volume_vol_diff_pct', 'price_10DDiff', 'SPY_1D', 'hour_volume_vol_diff', 'hour_volume_vol_diff_pct', 'return_vol_10D', 'SPY_5D']\"}, 'target': '0.03+three_max', 'feature_importances': \"[{'oneD_stddev50': 0.09407457}, {'rsi': 0.038116038}, {'close_diff': 0.033123717}, {'daily_volume_vol_diff_pct30': 0.031659238}, {'range_vol_diff5': 0.03472851}, {'SPY_diff': 0.032461092}, {'threeD_stddev50': 0.061403465}, {'close_diff3': 0.036174048}, {'min_volume_vol_diff_pct': 0.025677064}, {'month': 0.045236845}, {'return_vol_240M': 0.037656963}, {'range_vol': 0.038404062}, {'rsi5': 0.036337942}, {'roc': 0.03861747}, {'SPY_3D': 0.03938655}, {'roc5': 0.03620334}, {'roc_diff': 0.038623415}, {'price_25DDiff': 0.039646268}, {'daily_volume_vol_diff_pct': 0.030871}, {'price_10DDiff': 0.038118653}, {'SPY_1D': 0.038319178}, {'hour_volume_vol_diff': 0.035201654}, {'hour_volume_vol_diff_pct': 0.031647578}, {'return_vol_10D': 0.048833948}, {'SPY_5D': 0.039477393}]\"}\n",
      "{'deployment_date': datetime.datetime(2023, 7, 17, 0, 0), 'dataset_end': datetime.datetime(2023, 7, 7, 0, 0), 'dataset_start': datetime.datetime(2018, 1, 1, 0, 0)}\n",
      "0.03\n",
      "0.38875305623471884\n"
     ]
    },
    {
     "name": "stderr",
     "output_type": "stream",
     "text": [
      "/var/folders/tq/_9q_lv1s2bndbr3tzzn08x4r0000gn/T/ipykernel_13052/3239437027.py:2: SettingWithCopyWarning: \n",
      "A value is trying to be set on a copy of a slice from a DataFrame.\n",
      "Try using .loc[row_indexer,col_indexer] = value instead\n",
      "\n",
      "See the caveats in the documentation: https://pandas.pydata.org/pandas-docs/stable/user_guide/indexing.html#returning-a-view-versus-a-copy\n",
      "  dataset.loc[:, 'label'] = (dataset[target_label] > target_value).astype(int)\n"
     ]
    },
    {
     "name": "stdout",
     "output_type": "stream",
     "text": [
      "label\n",
      "0    27722\n",
      "1    20614\n",
      "Name: count, dtype: int64\n",
      "39 57 255 93\n",
      "{'model_name': 'MA:RM220_TSSIM1_TL15-EXP_custHypTP0.57', 'deployment_date': '2023-07-17', 'algorithm_type': 'xgboost', 'dataset': 'MA:RM220_TSSIM1_TL15-EXP_custHypTP0.57', 'TP': 39, 'TPpct': Decimal('0'), 'FP': 57, 'FPpct': Decimal('0'), 'TN': 255, 'TNpct': Decimal('0'), 'FN': 93, 'FNpct': Decimal('0'), 'precision_ratio': Decimal('0.6842105263157895'), 'evaluation_timeperiod': '2023-07-17_2023-07-21', 'live': False, 'hyperparameters': {\"{'subsample': 0.6, 'num_round': 1000, 'min_child_weight': 10, 'max_depth': 10, 'learning_rate': 0.1, 'gamma': 2, 'colsample_bytree': 1}\"}, 'features': {\"['oneD_stddev50', 'rsi', 'close_diff', 'daily_volume_vol_diff_pct30', 'range_vol_diff5', 'SPY_diff', 'threeD_stddev50', 'close_diff3', 'min_volume_vol_diff_pct', 'month', 'return_vol_240M', 'range_vol', 'rsi5', 'roc', 'SPY_3D', 'roc5', 'roc_diff', 'price_25DDiff', 'daily_volume_vol_diff_pct', 'price_10DDiff', 'SPY_1D', 'hour_volume_vol_diff', 'hour_volume_vol_diff_pct', 'return_vol_10D', 'SPY_5D']\"}, 'target': '0.03+three_max', 'feature_importances': \"[{'oneD_stddev50': 0.09673113}, {'rsi': 0.037897017}, {'close_diff': 0.034789775}, {'daily_volume_vol_diff_pct30': 0.033413067}, {'range_vol_diff5': 0.034915913}, {'SPY_diff': 0.03319818}, {'threeD_stddev50': 0.05622915}, {'close_diff3': 0.036592744}, {'min_volume_vol_diff_pct': 0.02528393}, {'month': 0.04505114}, {'return_vol_240M': 0.038351405}, {'range_vol': 0.039513618}, {'rsi5': 0.03485192}, {'roc': 0.038403697}, {'SPY_3D': 0.03932015}, {'roc5': 0.036529332}, {'roc_diff': 0.039033532}, {'price_25DDiff': 0.039870758}, {'daily_volume_vol_diff_pct': 0.030619264}, {'price_10DDiff': 0.039114404}, {'SPY_1D': 0.039346896}, {'hour_volume_vol_diff': 0.03388895}, {'hour_volume_vol_diff_pct': 0.031038536}, {'return_vol_10D': 0.04700226}, {'SPY_5D': 0.039013308}]\"}\n",
      "{'deployment_date': datetime.datetime(2023, 7, 24, 0, 0), 'dataset_end': datetime.datetime(2023, 7, 14, 0, 0), 'dataset_start': datetime.datetime(2018, 1, 1, 0, 0)}\n",
      "0.027\n",
      "0.4627041495039508\n"
     ]
    },
    {
     "name": "stderr",
     "output_type": "stream",
     "text": [
      "/var/folders/tq/_9q_lv1s2bndbr3tzzn08x4r0000gn/T/ipykernel_13052/3239437027.py:2: SettingWithCopyWarning: \n",
      "A value is trying to be set on a copy of a slice from a DataFrame.\n",
      "Try using .loc[row_indexer,col_indexer] = value instead\n",
      "\n",
      "See the caveats in the documentation: https://pandas.pydata.org/pandas-docs/stable/user_guide/indexing.html#returning-a-view-versus-a-copy\n",
      "  dataset.loc[:, 'label'] = (dataset[target_label] > target_value).astype(int)\n"
     ]
    },
    {
     "name": "stdout",
     "output_type": "stream",
     "text": [
      "label\n",
      "0    32889\n",
      "1    24850\n",
      "Name: count, dtype: int64\n",
      "91 37 219 103\n",
      "{'model_name': 'MA:RM220_TSSIM1_TL15-EXP_custHypTP0.57', 'deployment_date': '2023-07-24', 'algorithm_type': 'xgboost', 'dataset': 'MA:RM220_TSSIM1_TL15-EXP_custHypTP0.57', 'TP': 91, 'TPpct': Decimal('0'), 'FP': 37, 'FPpct': Decimal('0'), 'TN': 219, 'TNpct': Decimal('0'), 'FN': 103, 'FNpct': Decimal('0'), 'precision_ratio': Decimal('2.4594594594594597'), 'evaluation_timeperiod': '2023-07-24_2023-07-28', 'live': False, 'hyperparameters': {\"{'subsample': 0.6, 'num_round': 1000, 'min_child_weight': 10, 'max_depth': 10, 'learning_rate': 0.1, 'gamma': 2, 'colsample_bytree': 1}\"}, 'features': {\"['oneD_stddev50', 'rsi', 'close_diff', 'daily_volume_vol_diff_pct30', 'range_vol_diff5', 'SPY_diff', 'threeD_stddev50', 'close_diff3', 'min_volume_vol_diff_pct', 'month', 'return_vol_240M', 'range_vol', 'rsi5', 'roc', 'SPY_3D', 'roc5', 'roc_diff', 'price_25DDiff', 'daily_volume_vol_diff_pct', 'price_10DDiff', 'SPY_1D', 'hour_volume_vol_diff', 'hour_volume_vol_diff_pct', 'return_vol_10D', 'SPY_5D']\"}, 'target': '0.027+three_max', 'feature_importances': \"[{'oneD_stddev50': 0.069750644}, {'rsi': 0.036270294}, {'close_diff': 0.035972517}, {'daily_volume_vol_diff_pct30': 0.031494778}, {'range_vol_diff5': 0.034869798}, {'SPY_diff': 0.02918388}, {'threeD_stddev50': 0.044809483}, {'close_diff3': 0.0343001}, {'min_volume_vol_diff_pct': 0.027049994}, {'month': 0.045618862}, {'return_vol_240M': 0.06030976}, {'range_vol': 0.037732147}, {'rsi5': 0.03880452}, {'roc': 0.037368197}, {'SPY_3D': 0.034966294}, {'roc5': 0.035836376}, {'roc_diff': 0.03707006}, {'price_25DDiff': 0.040951602}, {'daily_volume_vol_diff_pct': 0.034359373}, {'price_10DDiff': 0.036932837}, {'SPY_1D': 0.034640927}, {'hour_volume_vol_diff': 0.031633526}, {'hour_volume_vol_diff_pct': 0.030771833}, {'return_vol_10D': 0.08440469}, {'SPY_5D': 0.03489744}]\"}\n",
      "{'deployment_date': datetime.datetime(2023, 7, 31, 0, 0), 'dataset_end': datetime.datetime(2023, 7, 21, 0, 0), 'dataset_start': datetime.datetime(2018, 1, 1, 0, 0)}\n",
      "0.027\n",
      "0.464609119220634\n"
     ]
    },
    {
     "name": "stderr",
     "output_type": "stream",
     "text": [
      "/var/folders/tq/_9q_lv1s2bndbr3tzzn08x4r0000gn/T/ipykernel_13052/3239437027.py:2: SettingWithCopyWarning: \n",
      "A value is trying to be set on a copy of a slice from a DataFrame.\n",
      "Try using .loc[row_indexer,col_indexer] = value instead\n",
      "\n",
      "See the caveats in the documentation: https://pandas.pydata.org/pandas-docs/stable/user_guide/indexing.html#returning-a-view-versus-a-copy\n",
      "  dataset.loc[:, 'label'] = (dataset[target_label] > target_value).astype(int)\n"
     ]
    },
    {
     "name": "stdout",
     "output_type": "stream",
     "text": [
      "label\n",
      "0    33145\n",
      "1    25038\n",
      "Name: count, dtype: int64\n",
      "53 57 282 58\n",
      "{'model_name': 'MA:RM220_TSSIM1_TL15-EXP_custHypTP0.57', 'deployment_date': '2023-07-31', 'algorithm_type': 'xgboost', 'dataset': 'MA:RM220_TSSIM1_TL15-EXP_custHypTP0.57', 'TP': 53, 'TPpct': Decimal('0'), 'FP': 57, 'FPpct': Decimal('0'), 'TN': 282, 'TNpct': Decimal('0'), 'FN': 58, 'FNpct': Decimal('0'), 'precision_ratio': Decimal('0.9298245614035088'), 'evaluation_timeperiod': '2023-07-31_2023-08-04', 'live': False, 'hyperparameters': {\"{'subsample': 0.6, 'num_round': 1000, 'min_child_weight': 10, 'max_depth': 10, 'learning_rate': 0.1, 'gamma': 2, 'colsample_bytree': 1}\"}, 'features': {\"['oneD_stddev50', 'rsi', 'close_diff', 'daily_volume_vol_diff_pct30', 'range_vol_diff5', 'SPY_diff', 'threeD_stddev50', 'close_diff3', 'min_volume_vol_diff_pct', 'month', 'return_vol_240M', 'range_vol', 'rsi5', 'roc', 'SPY_3D', 'roc5', 'roc_diff', 'price_25DDiff', 'daily_volume_vol_diff_pct', 'price_10DDiff', 'SPY_1D', 'hour_volume_vol_diff', 'hour_volume_vol_diff_pct', 'return_vol_10D', 'SPY_5D']\"}, 'target': '0.027+three_max', 'feature_importances': \"[{'oneD_stddev50': 0.07145049}, {'rsi': 0.03570686}, {'close_diff': 0.03499189}, {'daily_volume_vol_diff_pct30': 0.030968705}, {'range_vol_diff5': 0.03554638}, {'SPY_diff': 0.02989101}, {'threeD_stddev50': 0.047542024}, {'close_diff3': 0.034922846}, {'min_volume_vol_diff_pct': 0.02510678}, {'month': 0.043736346}, {'return_vol_240M': 0.0567686}, {'range_vol': 0.037426822}, {'rsi5': 0.038098115}, {'roc': 0.037654098}, {'SPY_3D': 0.03545156}, {'roc5': 0.035437796}, {'roc_diff': 0.038281333}, {'price_25DDiff': 0.040070962}, {'daily_volume_vol_diff_pct': 0.033561986}, {'price_10DDiff': 0.037226845}, {'SPY_1D': 0.03462706}, {'hour_volume_vol_diff': 0.030718792}, {'hour_volume_vol_diff_pct': 0.030654503}, {'return_vol_10D': 0.08952112}, {'SPY_5D': 0.034637105}]\"}\n",
      "{'deployment_date': datetime.datetime(2023, 8, 7, 0, 0), 'dataset_end': datetime.datetime(2023, 7, 28, 0, 0), 'dataset_start': datetime.datetime(2018, 1, 1, 0, 0)}\n",
      "0.033\n",
      "0.4798376830044558\n"
     ]
    },
    {
     "name": "stderr",
     "output_type": "stream",
     "text": [
      "/var/folders/tq/_9q_lv1s2bndbr3tzzn08x4r0000gn/T/ipykernel_13052/3239437027.py:2: SettingWithCopyWarning: \n",
      "A value is trying to be set on a copy of a slice from a DataFrame.\n",
      "Try using .loc[row_indexer,col_indexer] = value instead\n",
      "\n",
      "See the caveats in the documentation: https://pandas.pydata.org/pandas-docs/stable/user_guide/indexing.html#returning-a-view-versus-a-copy\n",
      "  dataset.loc[:, 'label'] = (dataset[target_label] > target_value).astype(int)\n"
     ]
    },
    {
     "name": "stdout",
     "output_type": "stream",
     "text": [
      "label\n",
      "0    34438\n",
      "1    25868\n",
      "Name: count, dtype: int64\n",
      "19 78 311 42\n",
      "{'model_name': 'MA:RM220_TSSIM1_TL15-EXP_custHypTP0.57', 'deployment_date': '2023-08-07', 'algorithm_type': 'xgboost', 'dataset': 'MA:RM220_TSSIM1_TL15-EXP_custHypTP0.57', 'TP': 19, 'TPpct': Decimal('0'), 'FP': 78, 'FPpct': Decimal('0'), 'TN': 311, 'TNpct': Decimal('0'), 'FN': 42, 'FNpct': Decimal('0'), 'precision_ratio': Decimal('0.24358974358974358'), 'evaluation_timeperiod': '2023-08-07_2023-08-11', 'live': False, 'hyperparameters': {\"{'subsample': 0.6, 'num_round': 1000, 'min_child_weight': 10, 'max_depth': 10, 'learning_rate': 0.1, 'gamma': 2, 'colsample_bytree': 1}\"}, 'features': {\"['oneD_stddev50', 'rsi', 'close_diff', 'daily_volume_vol_diff_pct30', 'range_vol_diff5', 'SPY_diff', 'threeD_stddev50', 'close_diff3', 'min_volume_vol_diff_pct', 'month', 'return_vol_240M', 'range_vol', 'rsi5', 'roc', 'SPY_3D', 'roc5', 'roc_diff', 'price_25DDiff', 'daily_volume_vol_diff_pct', 'price_10DDiff', 'SPY_1D', 'hour_volume_vol_diff', 'hour_volume_vol_diff_pct', 'return_vol_10D', 'SPY_5D']\"}, 'target': '0.033+three_max', 'feature_importances': \"[{'oneD_stddev50': 0.12065897}, {'rsi': 0.037388142}, {'close_diff': 0.03246939}, {'daily_volume_vol_diff_pct30': 0.03146744}, {'range_vol_diff5': 0.03477469}, {'SPY_diff': 0.029990565}, {'threeD_stddev50': 0.04149027}, {'close_diff3': 0.034802344}, {'min_volume_vol_diff_pct': 0.023817366}, {'month': 0.0437751}, {'return_vol_240M': 0.047335893}, {'range_vol': 0.04350279}, {'rsi5': 0.033255775}, {'roc': 0.039955642}, {'SPY_3D': 0.038265012}, {'roc5': 0.0362596}, {'roc_diff': 0.037989434}, {'price_25DDiff': 0.04014603}, {'daily_volume_vol_diff_pct': 0.029898845}, {'price_10DDiff': 0.037956376}, {'SPY_1D': 0.03800105}, {'hour_volume_vol_diff': 0.030511886}, {'hour_volume_vol_diff_pct': 0.030509507}, {'return_vol_10D': 0.048832208}, {'SPY_5D': 0.036945667}]\"}\n",
      "{'deployment_date': datetime.datetime(2023, 8, 14, 0, 0), 'dataset_end': datetime.datetime(2023, 8, 4, 0, 0), 'dataset_start': datetime.datetime(2018, 1, 1, 0, 0)}\n",
      "0.033\n",
      "0.4795528423055578\n"
     ]
    },
    {
     "name": "stderr",
     "output_type": "stream",
     "text": [
      "/var/folders/tq/_9q_lv1s2bndbr3tzzn08x4r0000gn/T/ipykernel_13052/3239437027.py:2: SettingWithCopyWarning: \n",
      "A value is trying to be set on a copy of a slice from a DataFrame.\n",
      "Try using .loc[row_indexer,col_indexer] = value instead\n",
      "\n",
      "See the caveats in the documentation: https://pandas.pydata.org/pandas-docs/stable/user_guide/indexing.html#returning-a-view-versus-a-copy\n",
      "  dataset.loc[:, 'label'] = (dataset[target_label] > target_value).astype(int)\n"
     ]
    },
    {
     "name": "stdout",
     "output_type": "stream",
     "text": [
      "label\n",
      "0    34593\n",
      "1    25893\n",
      "Name: count, dtype: int64\n",
      "31 75 265 79\n",
      "{'model_name': 'MA:RM220_TSSIM1_TL15-EXP_custHypTP0.57', 'deployment_date': '2023-08-14', 'algorithm_type': 'xgboost', 'dataset': 'MA:RM220_TSSIM1_TL15-EXP_custHypTP0.57', 'TP': 31, 'TPpct': Decimal('0'), 'FP': 75, 'FPpct': Decimal('0'), 'TN': 265, 'TNpct': Decimal('0'), 'FN': 79, 'FNpct': Decimal('0'), 'precision_ratio': Decimal('0.41333333333333333'), 'evaluation_timeperiod': '2023-08-14_2023-08-18', 'live': False, 'hyperparameters': {\"{'subsample': 0.6, 'num_round': 1000, 'min_child_weight': 10, 'max_depth': 10, 'learning_rate': 0.1, 'gamma': 2, 'colsample_bytree': 1}\"}, 'features': {\"['oneD_stddev50', 'rsi', 'close_diff', 'daily_volume_vol_diff_pct30', 'range_vol_diff5', 'SPY_diff', 'threeD_stddev50', 'close_diff3', 'min_volume_vol_diff_pct', 'month', 'return_vol_240M', 'range_vol', 'rsi5', 'roc', 'SPY_3D', 'roc5', 'roc_diff', 'price_25DDiff', 'daily_volume_vol_diff_pct', 'price_10DDiff', 'SPY_1D', 'hour_volume_vol_diff', 'hour_volume_vol_diff_pct', 'return_vol_10D', 'SPY_5D']\"}, 'target': '0.033+three_max', 'feature_importances': \"[{'oneD_stddev50': 0.1174812}, {'rsi': 0.03728885}, {'close_diff': 0.034892563}, {'daily_volume_vol_diff_pct30': 0.031212099}, {'range_vol_diff5': 0.034380816}, {'SPY_diff': 0.030157527}, {'threeD_stddev50': 0.037513472}, {'close_diff3': 0.035374533}, {'min_volume_vol_diff_pct': 0.02458085}, {'month': 0.04510758}, {'return_vol_240M': 0.05268178}, {'range_vol': 0.04208753}, {'rsi5': 0.035442676}, {'roc': 0.038570184}, {'SPY_3D': 0.040360797}, {'roc5': 0.03395358}, {'roc_diff': 0.03806926}, {'price_25DDiff': 0.04052477}, {'daily_volume_vol_diff_pct': 0.030749802}, {'price_10DDiff': 0.038531348}, {'SPY_1D': 0.03705852}, {'hour_volume_vol_diff': 0.031044928}, {'hour_volume_vol_diff_pct': 0.028642777}, {'return_vol_10D': 0.04738336}, {'SPY_5D': 0.03690929}]\"}\n",
      "{'deployment_date': datetime.datetime(2023, 8, 21, 0, 0), 'dataset_end': datetime.datetime(2023, 8, 11, 0, 0), 'dataset_start': datetime.datetime(2018, 1, 1, 0, 0)}\n",
      "0.033\n",
      "0.4792700268604835\n"
     ]
    },
    {
     "name": "stderr",
     "output_type": "stream",
     "text": [
      "/var/folders/tq/_9q_lv1s2bndbr3tzzn08x4r0000gn/T/ipykernel_13052/3239437027.py:2: SettingWithCopyWarning: \n",
      "A value is trying to be set on a copy of a slice from a DataFrame.\n",
      "Try using .loc[row_indexer,col_indexer] = value instead\n",
      "\n",
      "See the caveats in the documentation: https://pandas.pydata.org/pandas-docs/stable/user_guide/indexing.html#returning-a-view-versus-a-copy\n",
      "  dataset.loc[:, 'label'] = (dataset[target_label] > target_value).astype(int)\n"
     ]
    },
    {
     "name": "stdout",
     "output_type": "stream",
     "text": [
      "label\n",
      "0    34849\n",
      "1    25817\n",
      "Name: count, dtype: int64\n",
      "58 26 229 137\n",
      "{'model_name': 'MA:RM220_TSSIM1_TL15-EXP_custHypTP0.57', 'deployment_date': '2023-08-21', 'algorithm_type': 'xgboost', 'dataset': 'MA:RM220_TSSIM1_TL15-EXP_custHypTP0.57', 'TP': 58, 'TPpct': Decimal('0'), 'FP': 26, 'FPpct': Decimal('0'), 'TN': 229, 'TNpct': Decimal('0'), 'FN': 137, 'FNpct': Decimal('0'), 'precision_ratio': Decimal('2.230769230769231'), 'evaluation_timeperiod': '2023-08-21_2023-08-25', 'live': False, 'hyperparameters': {\"{'subsample': 0.6, 'num_round': 1000, 'min_child_weight': 10, 'max_depth': 10, 'learning_rate': 0.1, 'gamma': 2, 'colsample_bytree': 1}\"}, 'features': {\"['oneD_stddev50', 'rsi', 'close_diff', 'daily_volume_vol_diff_pct30', 'range_vol_diff5', 'SPY_diff', 'threeD_stddev50', 'close_diff3', 'min_volume_vol_diff_pct', 'month', 'return_vol_240M', 'range_vol', 'rsi5', 'roc', 'SPY_3D', 'roc5', 'roc_diff', 'price_25DDiff', 'daily_volume_vol_diff_pct', 'price_10DDiff', 'SPY_1D', 'hour_volume_vol_diff', 'hour_volume_vol_diff_pct', 'return_vol_10D', 'SPY_5D']\"}, 'target': '0.033+three_max', 'feature_importances': \"[{'oneD_stddev50': 0.11440589}, {'rsi': 0.03688883}, {'close_diff': 0.034005396}, {'daily_volume_vol_diff_pct30': 0.031734705}, {'range_vol_diff5': 0.034820154}, {'SPY_diff': 0.031248478}, {'threeD_stddev50': 0.039570767}, {'close_diff3': 0.035424367}, {'min_volume_vol_diff_pct': 0.024739081}, {'month': 0.04485191}, {'return_vol_240M': 0.050423972}, {'range_vol': 0.04424376}, {'rsi5': 0.035858344}, {'roc': 0.038173065}, {'SPY_3D': 0.038469557}, {'roc5': 0.034916267}, {'roc_diff': 0.03829352}, {'price_25DDiff': 0.041054077}, {'daily_volume_vol_diff_pct': 0.030203974}, {'price_10DDiff': 0.03757189}, {'SPY_1D': 0.03660258}, {'hour_volume_vol_diff': 0.031460535}, {'hour_volume_vol_diff_pct': 0.029320901}, {'return_vol_10D': 0.048027232}, {'SPY_5D': 0.037690796}]\"}\n",
      "{'deployment_date': datetime.datetime(2023, 8, 28, 0, 0), 'dataset_end': datetime.datetime(2023, 8, 18, 0, 0), 'dataset_start': datetime.datetime(2018, 1, 1, 0, 0)}\n",
      "0.033\n",
      "0.4804062032590727\n"
     ]
    },
    {
     "name": "stderr",
     "output_type": "stream",
     "text": [
      "/var/folders/tq/_9q_lv1s2bndbr3tzzn08x4r0000gn/T/ipykernel_13052/3239437027.py:2: SettingWithCopyWarning: \n",
      "A value is trying to be set on a copy of a slice from a DataFrame.\n",
      "Try using .loc[row_indexer,col_indexer] = value instead\n",
      "\n",
      "See the caveats in the documentation: https://pandas.pydata.org/pandas-docs/stable/user_guide/indexing.html#returning-a-view-versus-a-copy\n",
      "  dataset.loc[:, 'label'] = (dataset[target_label] > target_value).astype(int)\n"
     ]
    },
    {
     "name": "stdout",
     "output_type": "stream",
     "text": [
      "label\n",
      "0    35117\n",
      "1    25909\n",
      "Name: count, dtype: int64\n",
      "46 45 265 94\n",
      "{'model_name': 'MA:RM220_TSSIM1_TL15-EXP_custHypTP0.57', 'deployment_date': '2023-08-28', 'algorithm_type': 'xgboost', 'dataset': 'MA:RM220_TSSIM1_TL15-EXP_custHypTP0.57', 'TP': 46, 'TPpct': Decimal('0'), 'FP': 45, 'FPpct': Decimal('0'), 'TN': 265, 'TNpct': Decimal('0'), 'FN': 94, 'FNpct': Decimal('0'), 'precision_ratio': Decimal('1.0222222222222221'), 'evaluation_timeperiod': '2023-08-28_2023-09-01', 'live': False, 'hyperparameters': {\"{'subsample': 0.6, 'num_round': 1000, 'min_child_weight': 10, 'max_depth': 10, 'learning_rate': 0.1, 'gamma': 2, 'colsample_bytree': 1}\"}, 'features': {\"['oneD_stddev50', 'rsi', 'close_diff', 'daily_volume_vol_diff_pct30', 'range_vol_diff5', 'SPY_diff', 'threeD_stddev50', 'close_diff3', 'min_volume_vol_diff_pct', 'month', 'return_vol_240M', 'range_vol', 'rsi5', 'roc', 'SPY_3D', 'roc5', 'roc_diff', 'price_25DDiff', 'daily_volume_vol_diff_pct', 'price_10DDiff', 'SPY_1D', 'hour_volume_vol_diff', 'hour_volume_vol_diff_pct', 'return_vol_10D', 'SPY_5D']\"}, 'target': '0.033+three_max', 'feature_importances': \"[{'oneD_stddev50': 0.11541671}, {'rsi': 0.037536185}, {'close_diff': 0.034857284}, {'daily_volume_vol_diff_pct30': 0.03137473}, {'range_vol_diff5': 0.033555973}, {'SPY_diff': 0.030914808}, {'threeD_stddev50': 0.038592216}, {'close_diff3': 0.03404236}, {'min_volume_vol_diff_pct': 0.026533192}, {'month': 0.04445145}, {'return_vol_240M': 0.05059567}, {'range_vol': 0.04355684}, {'rsi5': 0.035838246}, {'roc': 0.03819866}, {'SPY_3D': 0.03797119}, {'roc5': 0.034902703}, {'roc_diff': 0.0380108}, {'price_25DDiff': 0.039985623}, {'daily_volume_vol_diff_pct': 0.029801417}, {'price_10DDiff': 0.03859104}, {'SPY_1D': 0.036352582}, {'hour_volume_vol_diff': 0.031816468}, {'hour_volume_vol_diff_pct': 0.030460194}, {'return_vol_10D': 0.048163}, {'SPY_5D': 0.038480625}]\"}\n",
      "{'deployment_date': datetime.datetime(2023, 9, 4, 0, 0), 'dataset_end': datetime.datetime(2023, 8, 25, 0, 0), 'dataset_start': datetime.datetime(2018, 1, 1, 0, 0)}\n",
      "0.03\n",
      "0.3827110134923125\n"
     ]
    },
    {
     "name": "stderr",
     "output_type": "stream",
     "text": [
      "/var/folders/tq/_9q_lv1s2bndbr3tzzn08x4r0000gn/T/ipykernel_13052/3239437027.py:2: SettingWithCopyWarning: \n",
      "A value is trying to be set on a copy of a slice from a DataFrame.\n",
      "Try using .loc[row_indexer,col_indexer] = value instead\n",
      "\n",
      "See the caveats in the documentation: https://pandas.pydata.org/pandas-docs/stable/user_guide/indexing.html#returning-a-view-versus-a-copy\n",
      "  dataset.loc[:, 'label'] = (dataset[target_label] > target_value).astype(int)\n"
     ]
    },
    {
     "name": "stdout",
     "output_type": "stream",
     "text": [
      "label\n",
      "0    28054\n",
      "1    20734\n",
      "Name: count, dtype: int64\n",
      "39 36 171 108\n",
      "{'model_name': 'MA:RM220_TSSIM1_TL15-EXP_custHypTP0.57', 'deployment_date': '2023-09-04', 'algorithm_type': 'xgboost', 'dataset': 'MA:RM220_TSSIM1_TL15-EXP_custHypTP0.57', 'TP': 39, 'TPpct': Decimal('0'), 'FP': 36, 'FPpct': Decimal('0'), 'TN': 171, 'TNpct': Decimal('0'), 'FN': 108, 'FNpct': Decimal('0'), 'precision_ratio': Decimal('1.0833333333333333'), 'evaluation_timeperiod': '2023-09-04_2023-09-08', 'live': False, 'hyperparameters': {\"{'subsample': 0.6, 'num_round': 1000, 'min_child_weight': 10, 'max_depth': 10, 'learning_rate': 0.1, 'gamma': 2, 'colsample_bytree': 1}\"}, 'features': {\"['oneD_stddev50', 'rsi', 'close_diff', 'daily_volume_vol_diff_pct30', 'range_vol_diff5', 'SPY_diff', 'threeD_stddev50', 'close_diff3', 'min_volume_vol_diff_pct', 'month', 'return_vol_240M', 'range_vol', 'rsi5', 'roc', 'SPY_3D', 'roc5', 'roc_diff', 'price_25DDiff', 'daily_volume_vol_diff_pct', 'price_10DDiff', 'SPY_1D', 'hour_volume_vol_diff', 'hour_volume_vol_diff_pct', 'return_vol_10D', 'SPY_5D']\"}, 'target': '0.03+three_max', 'feature_importances': \"[{'oneD_stddev50': 0.09793084}, {'rsi': 0.037225094}, {'close_diff': 0.034677736}, {'daily_volume_vol_diff_pct30': 0.03189049}, {'range_vol_diff5': 0.035612386}, {'SPY_diff': 0.03081368}, {'threeD_stddev50': 0.052655052}, {'close_diff3': 0.036605068}, {'min_volume_vol_diff_pct': 0.025227584}, {'month': 0.043969646}, {'return_vol_240M': 0.044041164}, {'range_vol': 0.041589767}, {'rsi5': 0.037530202}, {'roc': 0.038872357}, {'SPY_3D': 0.040009946}, {'roc5': 0.036608797}, {'roc_diff': 0.037092373}, {'price_25DDiff': 0.040041927}, {'daily_volume_vol_diff_pct': 0.03177757}, {'price_10DDiff': 0.03774113}, {'SPY_1D': 0.040711798}, {'hour_volume_vol_diff': 0.03364432}, {'hour_volume_vol_diff_pct': 0.030429654}, {'return_vol_10D': 0.044408683}, {'SPY_5D': 0.038892828}]\"}\n",
      "{'deployment_date': datetime.datetime(2023, 9, 11, 0, 0), 'dataset_end': datetime.datetime(2023, 9, 1, 0, 0), 'dataset_start': datetime.datetime(2018, 1, 1, 0, 0)}\n",
      "0.029\n",
      "0.38134917533025875\n"
     ]
    },
    {
     "name": "stderr",
     "output_type": "stream",
     "text": [
      "/var/folders/tq/_9q_lv1s2bndbr3tzzn08x4r0000gn/T/ipykernel_13052/3239437027.py:2: SettingWithCopyWarning: \n",
      "A value is trying to be set on a copy of a slice from a DataFrame.\n",
      "Try using .loc[row_indexer,col_indexer] = value instead\n",
      "\n",
      "See the caveats in the documentation: https://pandas.pydata.org/pandas-docs/stable/user_guide/indexing.html#returning-a-view-versus-a-copy\n",
      "  dataset.loc[:, 'label'] = (dataset[target_label] > target_value).astype(int)\n"
     ]
    },
    {
     "name": "stdout",
     "output_type": "stream",
     "text": [
      "label\n",
      "0    27477\n",
      "1    21309\n",
      "Name: count, dtype: int64\n",
      "26 37 312 75\n",
      "{'model_name': 'MA:RM220_TSSIM1_TL15-EXP_custHypTP0.57', 'deployment_date': '2023-09-11', 'algorithm_type': 'xgboost', 'dataset': 'MA:RM220_TSSIM1_TL15-EXP_custHypTP0.57', 'TP': 26, 'TPpct': Decimal('0'), 'FP': 37, 'FPpct': Decimal('0'), 'TN': 312, 'TNpct': Decimal('0'), 'FN': 75, 'FNpct': Decimal('0'), 'precision_ratio': Decimal('0.7027027027027027'), 'evaluation_timeperiod': '2023-09-11_2023-09-15', 'live': False, 'hyperparameters': {\"{'subsample': 0.6, 'num_round': 1000, 'min_child_weight': 10, 'max_depth': 10, 'learning_rate': 0.1, 'gamma': 2, 'colsample_bytree': 1}\"}, 'features': {\"['oneD_stddev50', 'rsi', 'close_diff', 'daily_volume_vol_diff_pct30', 'range_vol_diff5', 'SPY_diff', 'threeD_stddev50', 'close_diff3', 'min_volume_vol_diff_pct', 'month', 'return_vol_240M', 'range_vol', 'rsi5', 'roc', 'SPY_3D', 'roc5', 'roc_diff', 'price_25DDiff', 'daily_volume_vol_diff_pct', 'price_10DDiff', 'SPY_1D', 'hour_volume_vol_diff', 'hour_volume_vol_diff_pct', 'return_vol_10D', 'SPY_5D']\"}, 'target': '0.029+three_max', 'feature_importances': \"[{'oneD_stddev50': 0.104456216}, {'rsi': 0.037160683}, {'close_diff': 0.035150386}, {'daily_volume_vol_diff_pct30': 0.033087835}, {'range_vol_diff5': 0.034321796}, {'SPY_diff': 0.03142002}, {'threeD_stddev50': 0.049111657}, {'close_diff3': 0.03490966}, {'min_volume_vol_diff_pct': 0.02536044}, {'month': 0.04553921}, {'return_vol_240M': 0.040863257}, {'range_vol': 0.03752534}, {'rsi5': 0.03877903}, {'roc': 0.041404862}, {'SPY_3D': 0.03808846}, {'roc5': 0.03842809}, {'roc_diff': 0.03798902}, {'price_25DDiff': 0.03776768}, {'daily_volume_vol_diff_pct': 0.03230496}, {'price_10DDiff': 0.038275816}, {'SPY_1D': 0.03816905}, {'hour_volume_vol_diff': 0.03395841}, {'hour_volume_vol_diff_pct': 0.02829756}, {'return_vol_10D': 0.048882037}, {'SPY_5D': 0.038748547}]\"}\n",
      "{'deployment_date': datetime.datetime(2023, 9, 18, 0, 0), 'dataset_end': datetime.datetime(2023, 9, 8, 0, 0), 'dataset_start': datetime.datetime(2018, 1, 1, 0, 0)}\n",
      "0.029\n",
      "0.3810140001870849\n"
     ]
    },
    {
     "name": "stderr",
     "output_type": "stream",
     "text": [
      "/var/folders/tq/_9q_lv1s2bndbr3tzzn08x4r0000gn/T/ipykernel_13052/3239437027.py:2: SettingWithCopyWarning: \n",
      "A value is trying to be set on a copy of a slice from a DataFrame.\n",
      "Try using .loc[row_indexer,col_indexer] = value instead\n",
      "\n",
      "See the caveats in the documentation: https://pandas.pydata.org/pandas-docs/stable/user_guide/indexing.html#returning-a-view-versus-a-copy\n",
      "  dataset.loc[:, 'label'] = (dataset[target_label] > target_value).astype(int)\n"
     ]
    },
    {
     "name": "stdout",
     "output_type": "stream",
     "text": [
      "label\n",
      "0    27541\n",
      "1    21337\n",
      "Name: count, dtype: int64\n",
      "30 90 317 13\n",
      "{'model_name': 'MA:RM220_TSSIM1_TL15-EXP_custHypTP0.57', 'deployment_date': '2023-09-18', 'algorithm_type': 'xgboost', 'dataset': 'MA:RM220_TSSIM1_TL15-EXP_custHypTP0.57', 'TP': 30, 'TPpct': Decimal('0'), 'FP': 90, 'FPpct': Decimal('0'), 'TN': 317, 'TNpct': Decimal('0'), 'FN': 13, 'FNpct': Decimal('0'), 'precision_ratio': Decimal('0.3333333333333333'), 'evaluation_timeperiod': '2023-09-18_2023-09-22', 'live': False, 'hyperparameters': {\"{'subsample': 0.6, 'num_round': 1000, 'min_child_weight': 10, 'max_depth': 10, 'learning_rate': 0.1, 'gamma': 2, 'colsample_bytree': 1}\"}, 'features': {\"['oneD_stddev50', 'rsi', 'close_diff', 'daily_volume_vol_diff_pct30', 'range_vol_diff5', 'SPY_diff', 'threeD_stddev50', 'close_diff3', 'min_volume_vol_diff_pct', 'month', 'return_vol_240M', 'range_vol', 'rsi5', 'roc', 'SPY_3D', 'roc5', 'roc_diff', 'price_25DDiff', 'daily_volume_vol_diff_pct', 'price_10DDiff', 'SPY_1D', 'hour_volume_vol_diff', 'hour_volume_vol_diff_pct', 'return_vol_10D', 'SPY_5D']\"}, 'target': '0.029+three_max', 'feature_importances': \"[{'oneD_stddev50': 0.105016254}, {'rsi': 0.0403136}, {'close_diff': 0.03561162}, {'daily_volume_vol_diff_pct30': 0.030904735}, {'range_vol_diff5': 0.034607474}, {'SPY_diff': 0.03203977}, {'threeD_stddev50': 0.05041496}, {'close_diff3': 0.034986537}, {'min_volume_vol_diff_pct': 0.027128048}, {'month': 0.04574478}, {'return_vol_240M': 0.03943953}, {'range_vol': 0.037991036}, {'rsi5': 0.035816576}, {'roc': 0.03922296}, {'SPY_3D': 0.03910105}, {'roc5': 0.03588626}, {'roc_diff': 0.039099965}, {'price_25DDiff': 0.03956895}, {'daily_volume_vol_diff_pct': 0.031770926}, {'price_10DDiff': 0.037258666}, {'SPY_1D': 0.036275446}, {'hour_volume_vol_diff': 0.03421913}, {'hour_volume_vol_diff_pct': 0.030245075}, {'return_vol_10D': 0.04770462}, {'SPY_5D': 0.039632086}]\"}\n",
      "{'deployment_date': datetime.datetime(2023, 9, 25, 0, 0), 'dataset_end': datetime.datetime(2023, 9, 15, 0, 0), 'dataset_start': datetime.datetime(2018, 1, 1, 0, 0)}\n",
      "0.029\n",
      "0.37899855516025294\n"
     ]
    },
    {
     "name": "stderr",
     "output_type": "stream",
     "text": [
      "/var/folders/tq/_9q_lv1s2bndbr3tzzn08x4r0000gn/T/ipykernel_13052/3239437027.py:2: SettingWithCopyWarning: \n",
      "A value is trying to be set on a copy of a slice from a DataFrame.\n",
      "Try using .loc[row_indexer,col_indexer] = value instead\n",
      "\n",
      "See the caveats in the documentation: https://pandas.pydata.org/pandas-docs/stable/user_guide/indexing.html#returning-a-view-versus-a-copy\n",
      "  dataset.loc[:, 'label'] = (dataset[target_label] > target_value).astype(int)\n"
     ]
    },
    {
     "name": "stdout",
     "output_type": "stream",
     "text": [
      "label\n",
      "0    27607\n",
      "1    21183\n",
      "Name: count, dtype: int64\n",
      "72 27 212 139\n",
      "{'model_name': 'MA:RM220_TSSIM1_TL15-EXP_custHypTP0.57', 'deployment_date': '2023-09-25', 'algorithm_type': 'xgboost', 'dataset': 'MA:RM220_TSSIM1_TL15-EXP_custHypTP0.57', 'TP': 72, 'TPpct': Decimal('0'), 'FP': 27, 'FPpct': Decimal('0'), 'TN': 212, 'TNpct': Decimal('0'), 'FN': 139, 'FNpct': Decimal('0'), 'precision_ratio': Decimal('2.6666666666666665'), 'evaluation_timeperiod': '2023-09-25_2023-09-29', 'live': False, 'hyperparameters': {\"{'subsample': 0.6, 'num_round': 1000, 'min_child_weight': 10, 'max_depth': 10, 'learning_rate': 0.1, 'gamma': 2, 'colsample_bytree': 1}\"}, 'features': {\"['oneD_stddev50', 'rsi', 'close_diff', 'daily_volume_vol_diff_pct30', 'range_vol_diff5', 'SPY_diff', 'threeD_stddev50', 'close_diff3', 'min_volume_vol_diff_pct', 'month', 'return_vol_240M', 'range_vol', 'rsi5', 'roc', 'SPY_3D', 'roc5', 'roc_diff', 'price_25DDiff', 'daily_volume_vol_diff_pct', 'price_10DDiff', 'SPY_1D', 'hour_volume_vol_diff', 'hour_volume_vol_diff_pct', 'return_vol_10D', 'SPY_5D']\"}, 'target': '0.029+three_max', 'feature_importances': \"[{'oneD_stddev50': 0.08382229}, {'rsi': 0.03829827}, {'close_diff': 0.033764035}, {'daily_volume_vol_diff_pct30': 0.030815352}, {'range_vol_diff5': 0.034929056}, {'SPY_diff': 0.031196877}, {'threeD_stddev50': 0.06704578}, {'close_diff3': 0.036514286}, {'min_volume_vol_diff_pct': 0.026031433}, {'month': 0.046512835}, {'return_vol_240M': 0.04148787}, {'range_vol': 0.03941335}, {'rsi5': 0.03571736}, {'roc': 0.03922337}, {'SPY_3D': 0.04223804}, {'roc5': 0.035118718}, {'roc_diff': 0.038475193}, {'price_25DDiff': 0.037985653}, {'daily_volume_vol_diff_pct': 0.031782735}, {'price_10DDiff': 0.03830332}, {'SPY_1D': 0.037560105}, {'hour_volume_vol_diff': 0.035579167}, {'hour_volume_vol_diff_pct': 0.03122489}, {'return_vol_10D': 0.0477383}, {'SPY_5D': 0.03922169}]\"}\n",
      "{'deployment_date': datetime.datetime(2023, 10, 2, 0, 0), 'dataset_end': datetime.datetime(2023, 9, 22, 0, 0), 'dataset_start': datetime.datetime(2018, 1, 1, 0, 0)}\n",
      "0.03\n",
      "0.5617955783998019\n"
     ]
    },
    {
     "name": "stderr",
     "output_type": "stream",
     "text": [
      "/var/folders/tq/_9q_lv1s2bndbr3tzzn08x4r0000gn/T/ipykernel_13052/3239437027.py:2: SettingWithCopyWarning: \n",
      "A value is trying to be set on a copy of a slice from a DataFrame.\n",
      "Try using .loc[row_indexer,col_indexer] = value instead\n",
      "\n",
      "See the caveats in the documentation: https://pandas.pydata.org/pandas-docs/stable/user_guide/indexing.html#returning-a-view-versus-a-copy\n",
      "  dataset.loc[:, 'label'] = (dataset[target_label] > target_value).astype(int)\n"
     ]
    },
    {
     "name": "stdout",
     "output_type": "stream",
     "text": [
      "label\n",
      "0    41696\n",
      "1    30879\n",
      "Name: count, dtype: int64\n",
      "65 62 150 172\n",
      "{'model_name': 'MA:RM220_TSSIM1_TL15-EXP_custHypTP0.57', 'deployment_date': '2023-10-02', 'algorithm_type': 'xgboost', 'dataset': 'MA:RM220_TSSIM1_TL15-EXP_custHypTP0.57', 'TP': 65, 'TPpct': Decimal('0'), 'FP': 62, 'FPpct': Decimal('0'), 'TN': 150, 'TNpct': Decimal('0'), 'FN': 172, 'FNpct': Decimal('0'), 'precision_ratio': Decimal('1.0483870967741935'), 'evaluation_timeperiod': '2023-10-02_2023-10-06', 'live': False, 'hyperparameters': {\"{'subsample': 0.6, 'num_round': 1000, 'min_child_weight': 10, 'max_depth': 10, 'learning_rate': 0.1, 'gamma': 2, 'colsample_bytree': 1}\"}, 'features': {\"['oneD_stddev50', 'rsi', 'close_diff', 'daily_volume_vol_diff_pct30', 'range_vol_diff5', 'SPY_diff', 'threeD_stddev50', 'close_diff3', 'min_volume_vol_diff_pct', 'month', 'return_vol_240M', 'range_vol', 'rsi5', 'roc', 'SPY_3D', 'roc5', 'roc_diff', 'price_25DDiff', 'daily_volume_vol_diff_pct', 'price_10DDiff', 'SPY_1D', 'hour_volume_vol_diff', 'hour_volume_vol_diff_pct', 'return_vol_10D', 'SPY_5D']\"}, 'target': '0.03+three_max', 'feature_importances': \"[{'oneD_stddev50': 0.06439106}, {'rsi': 0.03524266}, {'close_diff': 0.03297302}, {'daily_volume_vol_diff_pct30': 0.029470507}, {'range_vol_diff5': 0.033962708}, {'SPY_diff': 0.027900266}, {'threeD_stddev50': 0.037984148}, {'close_diff3': 0.03348733}, {'min_volume_vol_diff_pct': 0.023533404}, {'month': 0.040672828}, {'return_vol_240M': 0.14647491}, {'range_vol': 0.038578082}, {'rsi5': 0.034835428}, {'roc': 0.035561793}, {'SPY_3D': 0.03427798}, {'roc5': 0.032672547}, {'roc_diff': 0.03603541}, {'price_25DDiff': 0.036703013}, {'daily_volume_vol_diff_pct': 0.030552039}, {'price_10DDiff': 0.03433577}, {'SPY_1D': 0.034513976}, {'hour_volume_vol_diff': 0.02745948}, {'hour_volume_vol_diff_pct': 0.028964734}, {'return_vol_10D': 0.05409967}, {'SPY_5D': 0.03531715}]\"}\n",
      "{'deployment_date': datetime.datetime(2023, 10, 9, 0, 0), 'dataset_end': datetime.datetime(2023, 9, 29, 0, 0), 'dataset_start': datetime.datetime(2018, 1, 1, 0, 0)}\n",
      "0.029\n",
      "0.38607155530184983\n"
     ]
    },
    {
     "name": "stderr",
     "output_type": "stream",
     "text": [
      "/var/folders/tq/_9q_lv1s2bndbr3tzzn08x4r0000gn/T/ipykernel_13052/3239437027.py:2: SettingWithCopyWarning: \n",
      "A value is trying to be set on a copy of a slice from a DataFrame.\n",
      "Try using .loc[row_indexer,col_indexer] = value instead\n",
      "\n",
      "See the caveats in the documentation: https://pandas.pydata.org/pandas-docs/stable/user_guide/indexing.html#returning-a-view-versus-a-copy\n",
      "  dataset.loc[:, 'label'] = (dataset[target_label] > target_value).astype(int)\n"
     ]
    },
    {
     "name": "stdout",
     "output_type": "stream",
     "text": [
      "label\n",
      "0    28290\n",
      "1    21758\n",
      "Name: count, dtype: int64\n",
      "35 43 264 108\n",
      "{'model_name': 'MA:RM220_TSSIM1_TL15-EXP_custHypTP0.57', 'deployment_date': '2023-10-09', 'algorithm_type': 'xgboost', 'dataset': 'MA:RM220_TSSIM1_TL15-EXP_custHypTP0.57', 'TP': 35, 'TPpct': Decimal('0'), 'FP': 43, 'FPpct': Decimal('0'), 'TN': 264, 'TNpct': Decimal('0'), 'FN': 108, 'FNpct': Decimal('0'), 'precision_ratio': Decimal('0.813953488372093'), 'evaluation_timeperiod': '2023-10-09_2023-10-13', 'live': False, 'hyperparameters': {\"{'subsample': 0.6, 'num_round': 1000, 'min_child_weight': 10, 'max_depth': 10, 'learning_rate': 0.1, 'gamma': 2, 'colsample_bytree': 1}\"}, 'features': {\"['oneD_stddev50', 'rsi', 'close_diff', 'daily_volume_vol_diff_pct30', 'range_vol_diff5', 'SPY_diff', 'threeD_stddev50', 'close_diff3', 'min_volume_vol_diff_pct', 'month', 'return_vol_240M', 'range_vol', 'rsi5', 'roc', 'SPY_3D', 'roc5', 'roc_diff', 'price_25DDiff', 'daily_volume_vol_diff_pct', 'price_10DDiff', 'SPY_1D', 'hour_volume_vol_diff', 'hour_volume_vol_diff_pct', 'return_vol_10D', 'SPY_5D']\"}, 'target': '0.029+three_max', 'feature_importances': \"[{'oneD_stddev50': 0.0975538}, {'rsi': 0.0378831}, {'close_diff': 0.03495182}, {'daily_volume_vol_diff_pct30': 0.03170902}, {'range_vol_diff5': 0.03564381}, {'SPY_diff': 0.030378057}, {'threeD_stddev50': 0.05355867}, {'close_diff3': 0.036069203}, {'min_volume_vol_diff_pct': 0.025218513}, {'month': 0.044752546}, {'return_vol_240M': 0.044854645}, {'range_vol': 0.039121173}, {'rsi5': 0.03737803}, {'roc': 0.040070377}, {'SPY_3D': 0.03910094}, {'roc5': 0.036852036}, {'roc_diff': 0.03775392}, {'price_25DDiff': 0.038932413}, {'daily_volume_vol_diff_pct': 0.031722587}, {'price_10DDiff': 0.03758067}, {'SPY_1D': 0.0373659}, {'hour_volume_vol_diff': 0.033459168}, {'hour_volume_vol_diff_pct': 0.03150009}, {'return_vol_10D': 0.046037126}, {'SPY_5D': 0.04055237}]\"}\n",
      "{'deployment_date': datetime.datetime(2023, 10, 16, 0, 0), 'dataset_end': datetime.datetime(2023, 10, 6, 0, 0), 'dataset_start': datetime.datetime(2018, 1, 1, 0, 0)}\n",
      "0.03\n",
      "0.5537541415865255\n"
     ]
    },
    {
     "name": "stderr",
     "output_type": "stream",
     "text": [
      "/var/folders/tq/_9q_lv1s2bndbr3tzzn08x4r0000gn/T/ipykernel_13052/3239437027.py:2: SettingWithCopyWarning: \n",
      "A value is trying to be set on a copy of a slice from a DataFrame.\n",
      "Try using .loc[row_indexer,col_indexer] = value instead\n",
      "\n",
      "See the caveats in the documentation: https://pandas.pydata.org/pandas-docs/stable/user_guide/indexing.html#returning-a-view-versus-a-copy\n",
      "  dataset.loc[:, 'label'] = (dataset[target_label] > target_value).astype(int)\n"
     ]
    },
    {
     "name": "stdout",
     "output_type": "stream",
     "text": [
      "label\n",
      "0    41423\n",
      "1    30611\n",
      "Name: count, dtype: int64\n",
      "34 141 236 33\n",
      "{'model_name': 'MA:RM220_TSSIM1_TL15-EXP_custHypTP0.57', 'deployment_date': '2023-10-16', 'algorithm_type': 'xgboost', 'dataset': 'MA:RM220_TSSIM1_TL15-EXP_custHypTP0.57', 'TP': 34, 'TPpct': Decimal('0'), 'FP': 141, 'FPpct': Decimal('0'), 'TN': 236, 'TNpct': Decimal('0'), 'FN': 33, 'FNpct': Decimal('0'), 'precision_ratio': Decimal('0.24113475177304963'), 'evaluation_timeperiod': '2023-10-16_2023-10-20', 'live': False, 'hyperparameters': {\"{'subsample': 0.6, 'num_round': 1000, 'min_child_weight': 10, 'max_depth': 10, 'learning_rate': 0.1, 'gamma': 2, 'colsample_bytree': 1}\"}, 'features': {\"['oneD_stddev50', 'rsi', 'close_diff', 'daily_volume_vol_diff_pct30', 'range_vol_diff5', 'SPY_diff', 'threeD_stddev50', 'close_diff3', 'min_volume_vol_diff_pct', 'month', 'return_vol_240M', 'range_vol', 'rsi5', 'roc', 'SPY_3D', 'roc5', 'roc_diff', 'price_25DDiff', 'daily_volume_vol_diff_pct', 'price_10DDiff', 'SPY_1D', 'hour_volume_vol_diff', 'hour_volume_vol_diff_pct', 'return_vol_10D', 'SPY_5D']\"}, 'target': '0.03+three_max', 'feature_importances': \"[{'oneD_stddev50': 0.06450872}, {'rsi': 0.036531735}, {'close_diff': 0.0331907}, {'daily_volume_vol_diff_pct30': 0.028996848}, {'range_vol_diff5': 0.033077285}, {'SPY_diff': 0.028563539}, {'threeD_stddev50': 0.040868193}, {'close_diff3': 0.032426134}, {'min_volume_vol_diff_pct': 0.024411175}, {'month': 0.042715497}, {'return_vol_240M': 0.11198821}, {'range_vol': 0.03746767}, {'rsi5': 0.03375058}, {'roc': 0.036877982}, {'SPY_3D': 0.034353957}, {'roc5': 0.034011398}, {'roc_diff': 0.035562932}, {'price_25DDiff': 0.03645425}, {'daily_volume_vol_diff_pct': 0.03232822}, {'price_10DDiff': 0.034989048}, {'SPY_1D': 0.034472}, {'hour_volume_vol_diff': 0.030132042}, {'hour_volume_vol_diff_pct': 0.029857645}, {'return_vol_10D': 0.07678166}, {'SPY_5D': 0.0356826}]\"}\n",
      "{'deployment_date': datetime.datetime(2023, 10, 23, 0, 0), 'dataset_end': datetime.datetime(2023, 10, 13, 0, 0), 'dataset_start': datetime.datetime(2018, 1, 1, 0, 0)}\n",
      "0.029\n",
      "0.39511847578773185\n"
     ]
    },
    {
     "name": "stderr",
     "output_type": "stream",
     "text": [
      "/var/folders/tq/_9q_lv1s2bndbr3tzzn08x4r0000gn/T/ipykernel_13052/3239437027.py:2: SettingWithCopyWarning: \n",
      "A value is trying to be set on a copy of a slice from a DataFrame.\n",
      "Try using .loc[row_indexer,col_indexer] = value instead\n",
      "\n",
      "See the caveats in the documentation: https://pandas.pydata.org/pandas-docs/stable/user_guide/indexing.html#returning-a-view-versus-a-copy\n",
      "  dataset.loc[:, 'label'] = (dataset[target_label] > target_value).astype(int)\n"
     ]
    },
    {
     "name": "stdout",
     "output_type": "stream",
     "text": [
      "label\n",
      "0    29145\n",
      "1    22431\n",
      "Name: count, dtype: int64\n",
      "50 47 212 141\n",
      "{'model_name': 'MA:RM220_TSSIM1_TL15-EXP_custHypTP0.57', 'deployment_date': '2023-10-23', 'algorithm_type': 'xgboost', 'dataset': 'MA:RM220_TSSIM1_TL15-EXP_custHypTP0.57', 'TP': 50, 'TPpct': Decimal('0'), 'FP': 47, 'FPpct': Decimal('0'), 'TN': 212, 'TNpct': Decimal('0'), 'FN': 141, 'FNpct': Decimal('0'), 'precision_ratio': Decimal('1.0638297872340425'), 'evaluation_timeperiod': '2023-10-23_2023-10-27', 'live': False, 'hyperparameters': {\"{'subsample': 0.6, 'num_round': 1000, 'min_child_weight': 10, 'max_depth': 10, 'learning_rate': 0.1, 'gamma': 2, 'colsample_bytree': 1}\"}, 'features': {\"['oneD_stddev50', 'rsi', 'close_diff', 'daily_volume_vol_diff_pct30', 'range_vol_diff5', 'SPY_diff', 'threeD_stddev50', 'close_diff3', 'min_volume_vol_diff_pct', 'month', 'return_vol_240M', 'range_vol', 'rsi5', 'roc', 'SPY_3D', 'roc5', 'roc_diff', 'price_25DDiff', 'daily_volume_vol_diff_pct', 'price_10DDiff', 'SPY_1D', 'hour_volume_vol_diff', 'hour_volume_vol_diff_pct', 'return_vol_10D', 'SPY_5D']\"}, 'target': '0.029+three_max', 'feature_importances': \"[{'oneD_stddev50': 0.10659932}, {'rsi': 0.03776041}, {'close_diff': 0.0349776}, {'daily_volume_vol_diff_pct30': 0.031114163}, {'range_vol_diff5': 0.035816193}, {'SPY_diff': 0.030614944}, {'threeD_stddev50': 0.05456624}, {'close_diff3': 0.035415776}, {'min_volume_vol_diff_pct': 0.025720777}, {'month': 0.045967985}, {'return_vol_240M': 0.041722298}, {'range_vol': 0.037092924}, {'rsi5': 0.036658235}, {'roc': 0.03869192}, {'SPY_3D': 0.03967182}, {'roc5': 0.035278283}, {'roc_diff': 0.03737908}, {'price_25DDiff': 0.03990751}, {'daily_volume_vol_diff_pct': 0.03124832}, {'price_10DDiff': 0.038378406}, {'SPY_1D': 0.0361153}, {'hour_volume_vol_diff': 0.032997172}, {'hour_volume_vol_diff_pct': 0.03019522}, {'return_vol_10D': 0.04566505}, {'SPY_5D': 0.040445074}]\"}\n",
      "{'deployment_date': datetime.datetime(2023, 10, 30, 0, 0), 'dataset_end': datetime.datetime(2023, 10, 20, 0, 0), 'dataset_start': datetime.datetime(2018, 1, 1, 0, 0)}\n",
      "0.029\n",
      "0.407430312192217\n"
     ]
    },
    {
     "name": "stderr",
     "output_type": "stream",
     "text": [
      "/var/folders/tq/_9q_lv1s2bndbr3tzzn08x4r0000gn/T/ipykernel_13052/3239437027.py:2: SettingWithCopyWarning: \n",
      "A value is trying to be set on a copy of a slice from a DataFrame.\n",
      "Try using .loc[row_indexer,col_indexer] = value instead\n",
      "\n",
      "See the caveats in the documentation: https://pandas.pydata.org/pandas-docs/stable/user_guide/indexing.html#returning-a-view-versus-a-copy\n",
      "  dataset.loc[:, 'label'] = (dataset[target_label] > target_value).astype(int)\n"
     ]
    },
    {
     "name": "stdout",
     "output_type": "stream",
     "text": [
      "label\n",
      "0    30069\n",
      "1    23295\n",
      "Name: count, dtype: int64\n",
      "141 11 53 245\n",
      "{'model_name': 'MA:RM220_TSSIM1_TL15-EXP_custHypTP0.57', 'deployment_date': '2023-10-30', 'algorithm_type': 'xgboost', 'dataset': 'MA:RM220_TSSIM1_TL15-EXP_custHypTP0.57', 'TP': 141, 'TPpct': Decimal('0'), 'FP': 11, 'FPpct': Decimal('0'), 'TN': 53, 'TNpct': Decimal('0'), 'FN': 245, 'FNpct': Decimal('0'), 'precision_ratio': Decimal('12.818181818181818'), 'evaluation_timeperiod': '2023-10-30_2023-11-03', 'live': False, 'hyperparameters': {\"{'subsample': 0.6, 'num_round': 1000, 'min_child_weight': 10, 'max_depth': 10, 'learning_rate': 0.1, 'gamma': 2, 'colsample_bytree': 1}\"}, 'features': {\"['oneD_stddev50', 'rsi', 'close_diff', 'daily_volume_vol_diff_pct30', 'range_vol_diff5', 'SPY_diff', 'threeD_stddev50', 'close_diff3', 'min_volume_vol_diff_pct', 'month', 'return_vol_240M', 'range_vol', 'rsi5', 'roc', 'SPY_3D', 'roc5', 'roc_diff', 'price_25DDiff', 'daily_volume_vol_diff_pct', 'price_10DDiff', 'SPY_1D', 'hour_volume_vol_diff', 'hour_volume_vol_diff_pct', 'return_vol_10D', 'SPY_5D']\"}, 'target': '0.029+three_max', 'feature_importances': \"[{'oneD_stddev50': 0.1173037}, {'rsi': 0.037063073}, {'close_diff': 0.034599565}, {'daily_volume_vol_diff_pct30': 0.030382443}, {'range_vol_diff5': 0.035069477}, {'SPY_diff': 0.030055126}, {'threeD_stddev50': 0.048554763}, {'close_diff3': 0.035739444}, {'min_volume_vol_diff_pct': 0.02487264}, {'month': 0.04625251}, {'return_vol_240M': 0.038896684}, {'range_vol': 0.03974928}, {'rsi5': 0.03551663}, {'roc': 0.03788534}, {'SPY_3D': 0.040206086}, {'roc5': 0.036310654}, {'roc_diff': 0.03843078}, {'price_25DDiff': 0.039949898}, {'daily_volume_vol_diff_pct': 0.030869916}, {'price_10DDiff': 0.03734356}, {'SPY_1D': 0.037643965}, {'hour_volume_vol_diff': 0.03233752}, {'hour_volume_vol_diff_pct': 0.02910299}, {'return_vol_10D': 0.047207225}, {'SPY_5D': 0.038656704}]\"}\n",
      "{'deployment_date': datetime.datetime(2023, 11, 6, 0, 0), 'dataset_end': datetime.datetime(2023, 10, 27, 0, 0), 'dataset_start': datetime.datetime(2018, 1, 1, 0, 0)}\n",
      "0.03\n",
      "0.40947446110768715\n"
     ]
    },
    {
     "name": "stderr",
     "output_type": "stream",
     "text": [
      "/var/folders/tq/_9q_lv1s2bndbr3tzzn08x4r0000gn/T/ipykernel_13052/3239437027.py:2: SettingWithCopyWarning: \n",
      "A value is trying to be set on a copy of a slice from a DataFrame.\n",
      "Try using .loc[row_indexer,col_indexer] = value instead\n",
      "\n",
      "See the caveats in the documentation: https://pandas.pydata.org/pandas-docs/stable/user_guide/indexing.html#returning-a-view-versus-a-copy\n",
      "  dataset.loc[:, 'label'] = (dataset[target_label] > target_value).astype(int)\n"
     ]
    },
    {
     "name": "stdout",
     "output_type": "stream",
     "text": [
      "label\n",
      "0    30925\n",
      "1    22891\n",
      "Name: count, dtype: int64\n",
      "72 19 123 236\n",
      "{'model_name': 'MA:RM220_TSSIM1_TL15-EXP_custHypTP0.57', 'deployment_date': '2023-11-06', 'algorithm_type': 'xgboost', 'dataset': 'MA:RM220_TSSIM1_TL15-EXP_custHypTP0.57', 'TP': 72, 'TPpct': Decimal('0'), 'FP': 19, 'FPpct': Decimal('0'), 'TN': 123, 'TNpct': Decimal('0'), 'FN': 236, 'FNpct': Decimal('0'), 'precision_ratio': Decimal('3.789473684210526'), 'evaluation_timeperiod': '2023-11-06_2023-11-10', 'live': False, 'hyperparameters': {\"{'subsample': 0.6, 'num_round': 1000, 'min_child_weight': 10, 'max_depth': 10, 'learning_rate': 0.1, 'gamma': 2, 'colsample_bytree': 1}\"}, 'features': {\"['oneD_stddev50', 'rsi', 'close_diff', 'daily_volume_vol_diff_pct30', 'range_vol_diff5', 'SPY_diff', 'threeD_stddev50', 'close_diff3', 'min_volume_vol_diff_pct', 'month', 'return_vol_240M', 'range_vol', 'rsi5', 'roc', 'SPY_3D', 'roc5', 'roc_diff', 'price_25DDiff', 'daily_volume_vol_diff_pct', 'price_10DDiff', 'SPY_1D', 'hour_volume_vol_diff', 'hour_volume_vol_diff_pct', 'return_vol_10D', 'SPY_5D']\"}, 'target': '0.03+three_max', 'feature_importances': \"[{'oneD_stddev50': 0.10423289}, {'rsi': 0.037306212}, {'close_diff': 0.0346254}, {'daily_volume_vol_diff_pct30': 0.032102402}, {'range_vol_diff5': 0.036607802}, {'SPY_diff': 0.030885719}, {'threeD_stddev50': 0.053979684}, {'close_diff3': 0.03478518}, {'min_volume_vol_diff_pct': 0.025379594}, {'month': 0.045240656}, {'return_vol_240M': 0.04318231}, {'range_vol': 0.038850754}, {'rsi5': 0.035791997}, {'roc': 0.03820967}, {'SPY_3D': 0.03893988}, {'roc5': 0.035859965}, {'roc_diff': 0.039134856}, {'price_25DDiff': 0.039645176}, {'daily_volume_vol_diff_pct': 0.030406026}, {'price_10DDiff': 0.03835447}, {'SPY_1D': 0.03848438}, {'hour_volume_vol_diff': 0.03264966}, {'hour_volume_vol_diff_pct': 0.031169545}, {'return_vol_10D': 0.046178214}, {'SPY_5D': 0.037997544}]\"}\n",
      "{'deployment_date': datetime.datetime(2023, 11, 13, 0, 0), 'dataset_end': datetime.datetime(2023, 11, 3, 0, 0), 'dataset_start': datetime.datetime(2018, 1, 1, 0, 0)}\n",
      "0.029\n",
      "0.5353473312253084\n"
     ]
    },
    {
     "name": "stderr",
     "output_type": "stream",
     "text": [
      "/var/folders/tq/_9q_lv1s2bndbr3tzzn08x4r0000gn/T/ipykernel_13052/3239437027.py:2: SettingWithCopyWarning: \n",
      "A value is trying to be set on a copy of a slice from a DataFrame.\n",
      "Try using .loc[row_indexer,col_indexer] = value instead\n",
      "\n",
      "See the caveats in the documentation: https://pandas.pydata.org/pandas-docs/stable/user_guide/indexing.html#returning-a-view-versus-a-copy\n",
      "  dataset.loc[:, 'label'] = (dataset[target_label] > target_value).astype(int)\n"
     ]
    },
    {
     "name": "stdout",
     "output_type": "stream",
     "text": [
      "label\n",
      "0    39949\n",
      "1    30651\n",
      "Name: count, dtype: int64\n",
      "105 64 174 107\n",
      "{'model_name': 'MA:RM220_TSSIM1_TL15-EXP_custHypTP0.57', 'deployment_date': '2023-11-13', 'algorithm_type': 'xgboost', 'dataset': 'MA:RM220_TSSIM1_TL15-EXP_custHypTP0.57', 'TP': 105, 'TPpct': Decimal('0'), 'FP': 64, 'FPpct': Decimal('0'), 'TN': 174, 'TNpct': Decimal('0'), 'FN': 107, 'FNpct': Decimal('0'), 'precision_ratio': Decimal('1.640625'), 'evaluation_timeperiod': '2023-11-13_2023-11-17', 'live': False, 'hyperparameters': {\"{'subsample': 0.6, 'num_round': 1000, 'min_child_weight': 10, 'max_depth': 10, 'learning_rate': 0.1, 'gamma': 2, 'colsample_bytree': 1}\"}, 'features': {\"['oneD_stddev50', 'rsi', 'close_diff', 'daily_volume_vol_diff_pct30', 'range_vol_diff5', 'SPY_diff', 'threeD_stddev50', 'close_diff3', 'min_volume_vol_diff_pct', 'month', 'return_vol_240M', 'range_vol', 'rsi5', 'roc', 'SPY_3D', 'roc5', 'roc_diff', 'price_25DDiff', 'daily_volume_vol_diff_pct', 'price_10DDiff', 'SPY_1D', 'hour_volume_vol_diff', 'hour_volume_vol_diff_pct', 'return_vol_10D', 'SPY_5D']\"}, 'target': '0.029+three_max', 'feature_importances': \"[{'oneD_stddev50': 0.064719304}, {'rsi': 0.03791717}, {'close_diff': 0.0337747}, {'daily_volume_vol_diff_pct30': 0.029706502}, {'range_vol_diff5': 0.033789985}, {'SPY_diff': 0.028926656}, {'threeD_stddev50': 0.04048812}, {'close_diff3': 0.03431458}, {'min_volume_vol_diff_pct': 0.024920994}, {'month': 0.04260014}, {'return_vol_240M': 0.08708384}, {'range_vol': 0.037995193}, {'rsi5': 0.035748493}, {'roc': 0.03667172}, {'SPY_3D': 0.035643674}, {'roc5': 0.03487809}, {'roc_diff': 0.036311492}, {'price_25DDiff': 0.04060855}, {'daily_volume_vol_diff_pct': 0.031661723}, {'price_10DDiff': 0.035578888}, {'SPY_1D': 0.036217257}, {'hour_volume_vol_diff': 0.030003995}, {'hour_volume_vol_diff_pct': 0.029135367}, {'return_vol_10D': 0.08556516}, {'SPY_5D': 0.03573835}]\"}\n",
      "{'deployment_date': datetime.datetime(2023, 11, 20, 0, 0), 'dataset_end': datetime.datetime(2023, 11, 10, 0, 0), 'dataset_start': datetime.datetime(2018, 1, 1, 0, 0)}\n",
      "0.029\n",
      "0.5132285928041896\n"
     ]
    },
    {
     "name": "stderr",
     "output_type": "stream",
     "text": [
      "/var/folders/tq/_9q_lv1s2bndbr3tzzn08x4r0000gn/T/ipykernel_13052/3239437027.py:2: SettingWithCopyWarning: \n",
      "A value is trying to be set on a copy of a slice from a DataFrame.\n",
      "Try using .loc[row_indexer,col_indexer] = value instead\n",
      "\n",
      "See the caveats in the documentation: https://pandas.pydata.org/pandas-docs/stable/user_guide/indexing.html#returning-a-view-versus-a-copy\n",
      "  dataset.loc[:, 'label'] = (dataset[target_label] > target_value).astype(int)\n"
     ]
    },
    {
     "name": "stdout",
     "output_type": "stream",
     "text": [
      "label\n",
      "0    38576\n",
      "1    29338\n",
      "Name: count, dtype: int64\n",
      "26 101 188 45\n",
      "{'model_name': 'MA:RM220_TSSIM1_TL15-EXP_custHypTP0.57', 'deployment_date': '2023-11-20', 'algorithm_type': 'xgboost', 'dataset': 'MA:RM220_TSSIM1_TL15-EXP_custHypTP0.57', 'TP': 26, 'TPpct': Decimal('0'), 'FP': 101, 'FPpct': Decimal('0'), 'TN': 188, 'TNpct': Decimal('0'), 'FN': 45, 'FNpct': Decimal('0'), 'precision_ratio': Decimal('0.25742574257425743'), 'evaluation_timeperiod': '2023-11-20_2023-11-24', 'live': False, 'hyperparameters': {\"{'subsample': 0.6, 'num_round': 1000, 'min_child_weight': 10, 'max_depth': 10, 'learning_rate': 0.1, 'gamma': 2, 'colsample_bytree': 1}\"}, 'features': {\"['oneD_stddev50', 'rsi', 'close_diff', 'daily_volume_vol_diff_pct30', 'range_vol_diff5', 'SPY_diff', 'threeD_stddev50', 'close_diff3', 'min_volume_vol_diff_pct', 'month', 'return_vol_240M', 'range_vol', 'rsi5', 'roc', 'SPY_3D', 'roc5', 'roc_diff', 'price_25DDiff', 'daily_volume_vol_diff_pct', 'price_10DDiff', 'SPY_1D', 'hour_volume_vol_diff', 'hour_volume_vol_diff_pct', 'return_vol_10D', 'SPY_5D']\"}, 'target': '0.029+three_max', 'feature_importances': \"[{'oneD_stddev50': 0.06052469}, {'rsi': 0.038414802}, {'close_diff': 0.0345061}, {'daily_volume_vol_diff_pct30': 0.030443007}, {'range_vol_diff5': 0.03403631}, {'SPY_diff': 0.028919978}, {'threeD_stddev50': 0.04257273}, {'close_diff3': 0.0330181}, {'min_volume_vol_diff_pct': 0.024434324}, {'month': 0.042883284}, {'return_vol_240M': 0.08933192}, {'range_vol': 0.038268253}, {'rsi5': 0.036088694}, {'roc': 0.036781054}, {'SPY_3D': 0.034460846}, {'roc5': 0.03344645}, {'roc_diff': 0.036466274}, {'price_25DDiff': 0.03815828}, {'daily_volume_vol_diff_pct': 0.031780038}, {'price_10DDiff': 0.036644462}, {'SPY_1D': 0.035909418}, {'hour_volume_vol_diff': 0.02996682}, {'hour_volume_vol_diff_pct': 0.02966355}, {'return_vol_10D': 0.086790875}, {'SPY_5D': 0.036489774}]\"}\n",
      "{'deployment_date': datetime.datetime(2023, 11, 27, 0, 0), 'dataset_end': datetime.datetime(2023, 11, 17, 0, 0), 'dataset_start': datetime.datetime(2018, 1, 1, 0, 0)}\n",
      "0.032\n",
      "0.4968405672669212\n"
     ]
    },
    {
     "name": "stderr",
     "output_type": "stream",
     "text": [
      "/var/folders/tq/_9q_lv1s2bndbr3tzzn08x4r0000gn/T/ipykernel_13052/3239437027.py:2: SettingWithCopyWarning: \n",
      "A value is trying to be set on a copy of a slice from a DataFrame.\n",
      "Try using .loc[row_indexer,col_indexer] = value instead\n",
      "\n",
      "See the caveats in the documentation: https://pandas.pydata.org/pandas-docs/stable/user_guide/indexing.html#returning-a-view-versus-a-copy\n",
      "  dataset.loc[:, 'label'] = (dataset[target_label] > target_value).astype(int)\n"
     ]
    },
    {
     "name": "stdout",
     "output_type": "stream",
     "text": [
      "label\n",
      "0    37560\n",
      "1    28409\n",
      "Name: count, dtype: int64\n",
      "61 48 236 105\n",
      "{'model_name': 'MA:RM220_TSSIM1_TL15-EXP_custHypTP0.57', 'deployment_date': '2023-11-27', 'algorithm_type': 'xgboost', 'dataset': 'MA:RM220_TSSIM1_TL15-EXP_custHypTP0.57', 'TP': 61, 'TPpct': Decimal('0'), 'FP': 48, 'FPpct': Decimal('0'), 'TN': 236, 'TNpct': Decimal('0'), 'FN': 105, 'FNpct': Decimal('0'), 'precision_ratio': Decimal('1.2708333333333333'), 'evaluation_timeperiod': '2023-11-27_2023-12-01', 'live': False, 'hyperparameters': {\"{'subsample': 0.6, 'num_round': 1000, 'min_child_weight': 10, 'max_depth': 10, 'learning_rate': 0.1, 'gamma': 2, 'colsample_bytree': 1}\"}, 'features': {\"['oneD_stddev50', 'rsi', 'close_diff', 'daily_volume_vol_diff_pct30', 'range_vol_diff5', 'SPY_diff', 'threeD_stddev50', 'close_diff3', 'min_volume_vol_diff_pct', 'month', 'return_vol_240M', 'range_vol', 'rsi5', 'roc', 'SPY_3D', 'roc5', 'roc_diff', 'price_25DDiff', 'daily_volume_vol_diff_pct', 'price_10DDiff', 'SPY_1D', 'hour_volume_vol_diff', 'hour_volume_vol_diff_pct', 'return_vol_10D', 'SPY_5D']\"}, 'target': '0.032+three_max', 'feature_importances': \"[{'oneD_stddev50': 0.12392127}, {'rsi': 0.036964163}, {'close_diff': 0.03309928}, {'daily_volume_vol_diff_pct30': 0.031206254}, {'range_vol_diff5': 0.03401905}, {'SPY_diff': 0.030398283}, {'threeD_stddev50': 0.041612346}, {'close_diff3': 0.03534909}, {'min_volume_vol_diff_pct': 0.024366315}, {'month': 0.04592757}, {'return_vol_240M': 0.046801753}, {'range_vol': 0.04130699}, {'rsi5': 0.036177974}, {'roc': 0.038600713}, {'SPY_3D': 0.035576608}, {'roc5': 0.03541968}, {'roc_diff': 0.03806716}, {'price_25DDiff': 0.041320886}, {'daily_volume_vol_diff_pct': 0.030445438}, {'price_10DDiff': 0.03691152}, {'SPY_1D': 0.03622905}, {'hour_volume_vol_diff': 0.03127164}, {'hour_volume_vol_diff_pct': 0.029655661}, {'return_vol_10D': 0.047102008}, {'SPY_5D': 0.038249355}]\"}\n",
      "{'deployment_date': datetime.datetime(2023, 12, 4, 0, 0), 'dataset_end': datetime.datetime(2023, 11, 24, 0, 0), 'dataset_start': datetime.datetime(2018, 1, 1, 0, 0)}\n",
      "0.027\n",
      "0.4518428385798088\n"
     ]
    },
    {
     "name": "stderr",
     "output_type": "stream",
     "text": [
      "/var/folders/tq/_9q_lv1s2bndbr3tzzn08x4r0000gn/T/ipykernel_13052/3239437027.py:2: SettingWithCopyWarning: \n",
      "A value is trying to be set on a copy of a slice from a DataFrame.\n",
      "Try using .loc[row_indexer,col_indexer] = value instead\n",
      "\n",
      "See the caveats in the documentation: https://pandas.pydata.org/pandas-docs/stable/user_guide/indexing.html#returning-a-view-versus-a-copy\n",
      "  dataset.loc[:, 'label'] = (dataset[target_label] > target_value).astype(int)\n"
     ]
    },
    {
     "name": "stdout",
     "output_type": "stream",
     "text": [
      "label\n",
      "0    34227\n",
      "1    25930\n",
      "Name: count, dtype: int64\n",
      "56 54 157 183\n",
      "{'model_name': 'MA:RM220_TSSIM1_TL15-EXP_custHypTP0.57', 'deployment_date': '2023-12-04', 'algorithm_type': 'xgboost', 'dataset': 'MA:RM220_TSSIM1_TL15-EXP_custHypTP0.57', 'TP': 56, 'TPpct': Decimal('0'), 'FP': 54, 'FPpct': Decimal('0'), 'TN': 157, 'TNpct': Decimal('0'), 'FN': 183, 'FNpct': Decimal('0'), 'precision_ratio': Decimal('1.037037037037037'), 'evaluation_timeperiod': '2023-12-04_2023-12-08', 'live': False, 'hyperparameters': {\"{'subsample': 0.6, 'num_round': 1000, 'min_child_weight': 10, 'max_depth': 10, 'learning_rate': 0.1, 'gamma': 2, 'colsample_bytree': 1}\"}, 'features': {\"['oneD_stddev50', 'rsi', 'close_diff', 'daily_volume_vol_diff_pct30', 'range_vol_diff5', 'SPY_diff', 'threeD_stddev50', 'close_diff3', 'min_volume_vol_diff_pct', 'month', 'return_vol_240M', 'range_vol', 'rsi5', 'roc', 'SPY_3D', 'roc5', 'roc_diff', 'price_25DDiff', 'daily_volume_vol_diff_pct', 'price_10DDiff', 'SPY_1D', 'hour_volume_vol_diff', 'hour_volume_vol_diff_pct', 'return_vol_10D', 'SPY_5D']\"}, 'target': '0.027+three_max', 'feature_importances': \"[{'oneD_stddev50': 0.07710396}, {'rsi': 0.039956614}, {'close_diff': 0.033290375}, {'daily_volume_vol_diff_pct30': 0.030598182}, {'range_vol_diff5': 0.034900095}, {'SPY_diff': 0.03039783}, {'threeD_stddev50': 0.04486838}, {'close_diff3': 0.03413495}, {'min_volume_vol_diff_pct': 0.026347242}, {'month': 0.04475158}, {'return_vol_240M': 0.07075127}, {'range_vol': 0.036445383}, {'rsi5': 0.03574617}, {'roc': 0.03675222}, {'SPY_3D': 0.034880724}, {'roc5': 0.03510178}, {'roc_diff': 0.037525162}, {'price_25DDiff': 0.03880984}, {'daily_volume_vol_diff_pct': 0.032699905}, {'price_10DDiff': 0.03631133}, {'SPY_1D': 0.035480954}, {'hour_volume_vol_diff': 0.030618}, {'hour_volume_vol_diff_pct': 0.029150644}, {'return_vol_10D': 0.07987774}, {'SPY_5D': 0.033499684}]\"}\n",
      "{'deployment_date': datetime.datetime(2023, 12, 11, 0, 0), 'dataset_end': datetime.datetime(2023, 12, 1, 0, 0), 'dataset_start': datetime.datetime(2018, 1, 1, 0, 0)}\n",
      "0.027\n",
      "0.4523419194981548\n"
     ]
    },
    {
     "name": "stderr",
     "output_type": "stream",
     "text": [
      "/var/folders/tq/_9q_lv1s2bndbr3tzzn08x4r0000gn/T/ipykernel_13052/3239437027.py:2: SettingWithCopyWarning: \n",
      "A value is trying to be set on a copy of a slice from a DataFrame.\n",
      "Try using .loc[row_indexer,col_indexer] = value instead\n",
      "\n",
      "See the caveats in the documentation: https://pandas.pydata.org/pandas-docs/stable/user_guide/indexing.html#returning-a-view-versus-a-copy\n",
      "  dataset.loc[:, 'label'] = (dataset[target_label] > target_value).astype(int)\n"
     ]
    },
    {
     "name": "stdout",
     "output_type": "stream",
     "text": [
      "label\n",
      "0    34428\n",
      "1    25999\n",
      "Name: count, dtype: int64\n",
      "69 37 136 208\n",
      "{'model_name': 'MA:RM220_TSSIM1_TL15-EXP_custHypTP0.57', 'deployment_date': '2023-12-11', 'algorithm_type': 'xgboost', 'dataset': 'MA:RM220_TSSIM1_TL15-EXP_custHypTP0.57', 'TP': 69, 'TPpct': Decimal('0'), 'FP': 37, 'FPpct': Decimal('0'), 'TN': 136, 'TNpct': Decimal('0'), 'FN': 208, 'FNpct': Decimal('0'), 'precision_ratio': Decimal('1.864864864864865'), 'evaluation_timeperiod': '2023-12-11_2023-12-15', 'live': False, 'hyperparameters': {\"{'subsample': 0.6, 'num_round': 1000, 'min_child_weight': 10, 'max_depth': 10, 'learning_rate': 0.1, 'gamma': 2, 'colsample_bytree': 1}\"}, 'features': {\"['oneD_stddev50', 'rsi', 'close_diff', 'daily_volume_vol_diff_pct30', 'range_vol_diff5', 'SPY_diff', 'threeD_stddev50', 'close_diff3', 'min_volume_vol_diff_pct', 'month', 'return_vol_240M', 'range_vol', 'rsi5', 'roc', 'SPY_3D', 'roc5', 'roc_diff', 'price_25DDiff', 'daily_volume_vol_diff_pct', 'price_10DDiff', 'SPY_1D', 'hour_volume_vol_diff', 'hour_volume_vol_diff_pct', 'return_vol_10D', 'SPY_5D']\"}, 'target': '0.027+three_max', 'feature_importances': \"[{'oneD_stddev50': 0.08465344}, {'rsi': 0.037699662}, {'close_diff': 0.032690037}, {'daily_volume_vol_diff_pct30': 0.031875134}, {'range_vol_diff5': 0.035019226}, {'SPY_diff': 0.029626245}, {'threeD_stddev50': 0.046601504}, {'close_diff3': 0.03452505}, {'min_volume_vol_diff_pct': 0.025953833}, {'month': 0.043435406}, {'return_vol_240M': 0.071981974}, {'range_vol': 0.03500033}, {'rsi5': 0.036405645}, {'roc': 0.038606763}, {'SPY_3D': 0.034325115}, {'roc5': 0.035158083}, {'roc_diff': 0.03753178}, {'price_25DDiff': 0.039735228}, {'daily_volume_vol_diff_pct': 0.032987088}, {'price_10DDiff': 0.03658511}, {'SPY_1D': 0.034818634}, {'hour_volume_vol_diff': 0.030996922}, {'hour_volume_vol_diff_pct': 0.029187541}, {'return_vol_10D': 0.0686425}, {'SPY_5D': 0.035957742}]\"}\n",
      "{'deployment_date': datetime.datetime(2023, 12, 18, 0, 0), 'dataset_end': datetime.datetime(2023, 12, 8, 0, 0), 'dataset_start': datetime.datetime(2018, 1, 1, 0, 0)}\n",
      "0.027\n",
      "0.4561949312503264\n"
     ]
    },
    {
     "name": "stderr",
     "output_type": "stream",
     "text": [
      "/var/folders/tq/_9q_lv1s2bndbr3tzzn08x4r0000gn/T/ipykernel_13052/3239437027.py:2: SettingWithCopyWarning: \n",
      "A value is trying to be set on a copy of a slice from a DataFrame.\n",
      "Try using .loc[row_indexer,col_indexer] = value instead\n",
      "\n",
      "See the caveats in the documentation: https://pandas.pydata.org/pandas-docs/stable/user_guide/indexing.html#returning-a-view-versus-a-copy\n",
      "  dataset.loc[:, 'label'] = (dataset[target_label] > target_value).astype(int)\n"
     ]
    },
    {
     "name": "stdout",
     "output_type": "stream",
     "text": [
      "label\n",
      "0    34928\n",
      "1    26219\n",
      "Name: count, dtype: int64\n",
      "55 75 236 84\n",
      "{'model_name': 'MA:RM220_TSSIM1_TL15-EXP_custHypTP0.57', 'deployment_date': '2023-12-18', 'algorithm_type': 'xgboost', 'dataset': 'MA:RM220_TSSIM1_TL15-EXP_custHypTP0.57', 'TP': 55, 'TPpct': Decimal('0'), 'FP': 75, 'FPpct': Decimal('0'), 'TN': 236, 'TNpct': Decimal('0'), 'FN': 84, 'FNpct': Decimal('0'), 'precision_ratio': Decimal('0.7333333333333333'), 'evaluation_timeperiod': '2023-12-18_2023-12-22', 'live': False, 'hyperparameters': {\"{'subsample': 0.6, 'num_round': 1000, 'min_child_weight': 10, 'max_depth': 10, 'learning_rate': 0.1, 'gamma': 2, 'colsample_bytree': 1}\"}, 'features': {\"['oneD_stddev50', 'rsi', 'close_diff', 'daily_volume_vol_diff_pct30', 'range_vol_diff5', 'SPY_diff', 'threeD_stddev50', 'close_diff3', 'min_volume_vol_diff_pct', 'month', 'return_vol_240M', 'range_vol', 'rsi5', 'roc', 'SPY_3D', 'roc5', 'roc_diff', 'price_25DDiff', 'daily_volume_vol_diff_pct', 'price_10DDiff', 'SPY_1D', 'hour_volume_vol_diff', 'hour_volume_vol_diff_pct', 'return_vol_10D', 'SPY_5D']\"}, 'target': '0.027+three_max', 'feature_importances': \"[{'oneD_stddev50': 0.081053935}, {'rsi': 0.03777334}, {'close_diff': 0.034444142}, {'daily_volume_vol_diff_pct30': 0.030617457}, {'range_vol_diff5': 0.035948757}, {'SPY_diff': 0.02986616}, {'threeD_stddev50': 0.044855203}, {'close_diff3': 0.033810347}, {'min_volume_vol_diff_pct': 0.026630493}, {'month': 0.04323422}, {'return_vol_240M': 0.059811458}, {'range_vol': 0.03982616}, {'rsi5': 0.034934837}, {'roc': 0.038501743}, {'SPY_3D': 0.035058066}, {'roc5': 0.03540407}, {'roc_diff': 0.037307724}, {'price_25DDiff': 0.039458007}, {'daily_volume_vol_diff_pct': 0.031766836}, {'price_10DDiff': 0.037930604}, {'SPY_1D': 0.034885347}, {'hour_volume_vol_diff': 0.03045583}, {'hour_volume_vol_diff_pct': 0.030257085}, {'return_vol_10D': 0.08144401}, {'SPY_5D': 0.034724135}]\"}\n"
     ]
    }
   ],
   "source": [
    "target_percentile = 0.57\n",
    "model_name = f'MA:RM220_TSSIM1_TL15-EXP_custHypTP{target_percentile}'\n",
    "# model_name = 'GAIN:TSSIM1_TL15_custHypP3'\n",
    "dataset_name = f'MA:RM220_TSSIM1_TL15-EXP_custHypTP{target_percentile}'\n",
    "title = 'MA'\n",
    "hyperparams = {'subsample': 0.6, 'num_round': 1000, 'min_child_weight': 10, 'max_depth': 10, 'learning_rate': 0.1, 'gamma': 2, 'colsample_bytree': 1}\n",
    "features = ['oneD_stddev50', 'rsi', 'close_diff', 'daily_volume_vol_diff_pct30', 'range_vol_diff5', 'SPY_diff', 'threeD_stddev50', 'close_diff3', 'min_volume_vol_diff_pct', 'month', \n",
    "            'return_vol_240M', 'range_vol', 'rsi5', 'roc', 'SPY_3D', 'roc5', 'roc_diff', 'price_25DDiff', 'daily_volume_vol_diff_pct', 'price_10DDiff', 'SPY_1D', 'hour_volume_vol_diff', \n",
    "            'hour_volume_vol_diff_pct', 'return_vol_10D', 'SPY_5D']\n",
    "target_label = 'three_max'\n",
    "\n",
    "dataset_start_date = datetime(2018,1,1,tzinfo=pytz.timezone('US/Eastern')) \n",
    "dates_list = build_evaluation_period(datetime(2022,10,3), datetime(2023,12,23))\n",
    "\n",
    "# date = dates_list[-1]\n",
    "# print(date)\n",
    "# response = model_runner_data(start_date=datetime(2018,1,1),end_date=datetime(2023,12,23))\n",
    "\n",
    "# dataset = pull_training_data_local(start_date=datetime(2018,1,1),end_date=datetime(2023,10,28))\n",
    "# print(dataset['three_max'].describe())\n",
    "\n",
    "for date in dates_list:\n",
    "    print(date)\n",
    "    response = model_runner_v2(model_name, dataset_name, title, features, target_label, target_percentile,\"dataset_start_date\",date['dataset_end'],date['deployment_date'], str(features),str(hyperparams), hyperparams, local_data=True, dataset_start_date=date['dataset_start'])\n",
    "    \n"
   ]
  },
  {
   "cell_type": "code",
   "execution_count": 24,
   "metadata": {},
   "outputs": [],
   "source": [
    "# def convert_timestamp_est(timestamp):\n",
    "#     # Create a naive datetime object from the UNIX timestamp\n",
    "#     dt_naive = datetime.utcfromtimestamp(timestamp)\n",
    "#     # Convert the naive datetime object to a timezone-aware one (UTC)\n",
    "#     dt_utc = pytz.utc.localize(dt_naive)\n",
    "#     # Convert the UTC datetime to EST\n",
    "#     dt_est = dt_utc.astimezone(pytz.timezone('US/Eastern'))\n",
    "    \n",
    "#     return dt_est\n",
    "\n",
    "\n",
    "# data = pd.read_csv(f'/Users/charlesmiller/Documents/model_tester_data/GAIN/2018-01-01_2023-12-23_trainTL10.csv')\n",
    "# data['date'] = data['date'].astype(str)\n",
    "# data['date'] = data['date'].apply(lambda x: x.split(\" \")[0])\n",
    "# data = data.drop(data[data['date'] == 'nan'].index)\n",
    "# # data.drop('date',axis=1,inplace=True)\n",
    "# # data['date'] = data['t'].apply(lambda x: convert_timestamp_est(x))\n",
    "# # data.drop(['one_pct','three_pct','Unnamed: 0.2', \"Unnamed: 0\",\"Unnamed: 0.1\", \"date_x\",\"date_y\",'vw_x', 'n_x', 'return_vol_240M_x', 'volume_vol_240M_x', 'return_vol_450M_x', 'volume_vol_450M_x', 'min_vol_diff_x', 'min_vol_diff_pct_x', 'min_volume_vol_diff_x', 'min_volume_vol_diff_pct_x', 'return_vol_8H_x', 'return_vol_16H_x', 'volume_vol_8H_x', 'volume_vol_16H_x', 'hour_vol_diff_x', 'hour_vol_diff_pct_x', 'hour_volume_vol_diff_x', 'hour_volume_vol_diff_pct_x', 'return_vol_5D_x', 'return_vol_10D_x', 'return_vol_30D_x', 'volume_vol_5D_x', 'volume_vol_10D_x', 'volume_vol_30D_x', 'daily_vol_diff_x', 'daily_vol_diff_pct_x', 'daily_vol_diff30_x', 'daily_vol_diff_pct30_x', 'daily_volume_vol_diff_x', 'daily_volume_vol_diff_pct_x', 'daily_volume_vol_diff30_x', 'daily_volume_vol_diff_pct30_x', 'vw_y', 'n_y', 'return_vol_240M_y', 'volume_vol_240M_y', 'return_vol_450M_y', 'volume_vol_450M_y', 'min_vol_diff_y', 'min_vol_diff_pct_y', 'min_volume_vol_diff_y', 'min_volume_vol_diff_pct_y', 'return_vol_8H_y', 'return_vol_16H_y', 'volume_vol_8H_y', 'volume_vol_16H_y', 'hour_vol_diff_y', 'hour_vol_diff_pct_y', 'hour_volume_vol_diff_y', 'hour_volume_vol_diff_pct_y', 'return_vol_5D_y', 'return_vol_10D_y', 'return_vol_30D_y', 'volume_vol_5D_y', 'volume_vol_10D_y', 'volume_vol_30D_y', 'daily_vol_diff_y', 'daily_vol_diff_pct_y', 'daily_vol_diff30_y', 'daily_vol_diff_pct30_y', 'daily_volume_vol_diff_y', 'daily_volume_vol_diff_pct_y', 'daily_volume_vol_diff30_y', 'daily_volume_vol_diff_pct30_y'], axis=1, inplace=True)\n",
    "# data['roc_diff'] = data['roc'] - data['roc5'] \n",
    "# data['range_vol_diff5'] = (data['range_vol'] - data['range_vol5MA'])\n",
    "# data['close_diff_deviation3'] = abs(data['close_diff3'])/(data['threeD_stddev50']*100)\n",
    "# data['close_diff_deviation'] = abs(data['close_diff'])/(data['oneD_stddev50']*100)\n",
    "# data.dropna(subset=['date'], inplace=True)\n",
    "# data['date'] = data['date'].apply(lambda x: datetime.strptime(x,\"%Y-%m-%d\"))\n",
    "# data['day_of_week'] = data['date'].apply(lambda x: x.dayofweek).astype(int)\n",
    "# data['day_of_month'] = data['date'].apply(lambda x: x.day).astype(int)\n",
    "# data['month'] = data['date'].apply(lambda x: x.month).astype(int)\n",
    "# data['year'] = data['date'].apply(lambda x: x.year).astype(int)\n",
    "# data.replace([np.inf, -np.inf], 0, inplace=True)\n",
    "# data.to_csv(f'/Users/charlesmiller/Documents/model_tester_data/GAIN/2018-01-01_2023-12-23_trainTL10.csv', index=False)"
   ]
  },
  {
   "cell_type": "code",
   "execution_count": 25,
   "metadata": {},
   "outputs": [],
   "source": [
    "# def run_temporal_simulation(features, target_label, target_value, dataset_start_date, evaluation_start_date, evaluation_end_date):\n",
    "#     tp_avg_list = []\n",
    "#     gross_accuracy_list = []\n",
    "#     # fn_list = []\n",
    "#     # tn_list = []\n",
    "    \n",
    "#     hyperparams = {'subsample': 0.6, 'num_round': 1000, 'min_child_weight': 10, 'max_depth': 10, 'learning_rate': 0.1, 'gamma': 2, 'colsample_bytree': 1}\n",
    "#     dates_list = build_evaluation_period(evaluation_start_date, evaluation_end_date)\n",
    "#     for date in dates_list:\n",
    "#         tp, fp, fn, tn = model_runner_temporal_simulation(features, target_label, target_value,dataset_start_date,date['dataset_end'],date['deployment_date'], hyperparams)\n",
    "#         tp_avg_list.append(tp)\n",
    "#         gross_accuracy_list.append((tp-fp))\n",
    "\n",
    "#     return tp_avg_list, gross_accuracy_list\n"
   ]
  },
  {
   "cell_type": "code",
   "execution_count": 26,
   "metadata": {},
   "outputs": [],
   "source": [
    "# number_of_simulations = 200\n",
    "# now = datetime.now()\n",
    "# title = 'GAIN'\n",
    "# # total_feature_list = ['hour','year','month','day_of_month',\n",
    "# #        'price7', 'price14', 'adjusted_volume', 'vol7', 'vol14',\n",
    "# #        'rsi', 'rsi3', 'rsi5', 'roc', 'roc3', 'roc5', 'threeD_returns_close',\n",
    "# #        'oneD_returns_close', 'range_vol', 'range_vol5MA', 'range_vol10MA',\n",
    "# #        'range_vol25MA', 'oneD_stddev50', 'threeD_stddev50', 'cmf',\n",
    "# #        'close_diff', 'close_diff3', 'close_diff5', 'v_diff_pct', 'adx',\n",
    "# #        'volume_10MA', 'volume_25MA', 'price_10MA', 'price_25MA',\n",
    "# #        'volume_10DDiff', 'volume_25DDiff', 'price_10DDiff', 'price_25DDiff',\n",
    "# #        'day_of_week','close_diff_deviation3','close_diff_deviation','roc_diff','range_vol_diff5',\n",
    "# #        'return_vol_240M', 'volume_vol_240M', 'return_vol_450M', 'volume_vol_450M', 'min_vol_diff', 'min_vol_diff_pct', 'min_volume_vol_diff', \n",
    "# #        'min_volume_vol_diff_pct', 'return_vol_8H', 'return_vol_16H', 'volume_vol_8H', 'volume_vol_16H', 'hour_vol_diff', 'hour_vol_diff_pct', 'hour_volume_vol_diff', \n",
    "# #        'hour_volume_vol_diff_pct', 'return_vol_5D', 'return_vol_10D', 'return_vol_30D', 'volume_vol_5D', 'volume_vol_10D', 'volume_vol_30D', 'daily_vol_diff', 'daily_vol_diff_pct',\n",
    "# #        'daily_vol_diff30', 'daily_vol_diff_pct30', 'daily_volume_vol_diff', 'daily_volume_vol_diff_pct', 'daily_volume_vol_diff30', 'daily_volume_vol_diff_pct30']\n",
    "# testing_features = ['hour', 'day_of_week','month','daily_vol_diff30', 'hour_volume_vol_diff', 'roc_diff', \n",
    "# 'range_vol', 'volume_vol_8H','close_diff3', 'close_diff5',\n",
    "# 'range_vol_diff5', 'SPY_diff', 'SPY_diff3','SPY_diff5','rsi5','roc5',\n",
    "# 'return_vol_10D', 'return_vol_8H', 'return_vol_16H', 'return_vol_450M', 'adx', \n",
    "# 'rsi','roc','rsi3','roc3','daily_vol_diff', 'SPY_1D','SPY_3D', 'SPY_5D','min_vol_diff', 'return_vol_240M', \n",
    "# 'price_25DDiff', 'price_10DDiff','daily_vol_diff_pct30','threeD_stddev50',\n",
    "# 'price7', 'daily_vol_diff_pct', 'oneD_stddev50', 'volume_vol_16H','min_volume_vol_diff_pct',\n",
    "# 'close_diff_deviation','close_diff','daily_volume_vol_diff_pct','hour_volume_vol_diff_pct','daily_volume_vol_diff_pct30']\n",
    "\n",
    "# target_label = 'three_max'\n",
    "# target_value = .03\n",
    "# results_array = []\n",
    "\n",
    "# i = 0\n",
    "# while i < number_of_simulations:\n",
    "#        model_name = f\"{title}_temporal_simulation_{i}\"\n",
    "#        print(model_name)\n",
    "#        random_int = random.randint(20, 35)\n",
    "#        features = random.sample(testing_features, random_int)\n",
    "#        print(features)\n",
    "#        tp_avg_list, gross_accuracy_list = run_temporal_simulation(features, target_label, target_value, dataset_start_date=datetime(2018,1,1), evaluation_start_date=datetime(2022,10,3), evaluation_end_date=datetime(2023,10,2))        \n",
    "#        tp_avg = sum(tp_avg_list)/len(tp_avg_list)\n",
    "#        gross_accuracy = sum(gross_accuracy_list)/len(gross_accuracy_list)\n",
    "#        print(tp_avg, gross_accuracy)\n",
    "#        print()\n",
    "#        results_array.append({\"model_name\": model_name, \"features\": features, \"tp_avg\": tp_avg, \"gross_accuracy\": gross_accuracy,\"num_features\": random_int})\n",
    "#        i += 1\n",
    "\n",
    "# results_df = pd.DataFrame(results_array)\n",
    "# results_df.to_csv(f'/Users/charlesmiller/Documents/temporal_simulation_results/{title}/{now.year}_{now.month}_{now.day}.csv', index=False)"
   ]
  },
  {
   "cell_type": "code",
   "execution_count": null,
   "metadata": {},
   "outputs": [],
   "source": []
  },
  {
   "cell_type": "code",
   "execution_count": null,
   "metadata": {},
   "outputs": [],
   "source": []
  }
 ],
 "metadata": {
  "kernelspec": {
   "display_name": "model-tester-d0oOM2ve",
   "language": "python",
   "name": "python3"
  },
  "language_info": {
   "codemirror_mode": {
    "name": "ipython",
    "version": 3
   },
   "file_extension": ".py",
   "mimetype": "text/x-python",
   "name": "python",
   "nbconvert_exporter": "python",
   "pygments_lexer": "ipython3",
   "version": "3.9.10"
  },
  "orig_nbformat": 4
 },
 "nbformat": 4,
 "nbformat_minor": 2
}
